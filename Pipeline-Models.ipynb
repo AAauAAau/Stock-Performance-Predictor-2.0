{
 "cells": [
  {
   "cell_type": "markdown",
   "metadata": {},
   "source": [
    "# Modeling Pipeline\n",
    "Creating a Pipeline to test out each model"
   ]
  },
  {
   "cell_type": "markdown",
   "metadata": {},
   "source": [
    "### Importing Libraries"
   ]
  },
  {
   "cell_type": "code",
   "execution_count": 101,
   "metadata": {},
   "outputs": [],
   "source": [
    "import _pickle as pickle\n",
    "import numpy as np\n",
    "import pandas as pd\n",
    "import matplotlib.pyplot as plt\n",
    "from sklearn.model_selection import train_test_split\n",
    "from sklearn.metrics import confusion_matrix, classification_report\n",
    "from sklearn.preprocessing import StandardScaler\n",
    "from sklearn.pipeline import Pipeline"
   ]
  },
  {
   "cell_type": "markdown",
   "metadata": {},
   "source": [
    "### Loading the Data\n",
    "Option to use either Dataset by just commenting out the undesired one."
   ]
  },
  {
   "cell_type": "code",
   "execution_count": 85,
   "metadata": {},
   "outputs": [],
   "source": [
    "# Top 10 features Dataset\n",
    "with open(\"Top-10-Features-Models/top10_df.pkl\",'rb') as fp:\n",
    "    df = pickle.load(fp)\n",
    "    \n",
    "# Top 10 Correlated Dataset\n",
    "# with open(\"Top-10-Correlation-Models/top10_corr_df.pkl\",'rb') as fp:\n",
    "#     df = pickle.load(fp)"
   ]
  },
  {
   "cell_type": "markdown",
   "metadata": {},
   "source": [
    "### Splitting the Data"
   ]
  },
  {
   "cell_type": "code",
   "execution_count": 86,
   "metadata": {},
   "outputs": [],
   "source": [
    "X = df.drop([\"Decision\"], 1)\n",
    "y = df.Decision\n",
    "\n",
    "# Train, test, split\n",
    "X_train, X_test, y_train, y_test = train_test_split(X, y)"
   ]
  },
  {
   "cell_type": "markdown",
   "metadata": {},
   "source": [
    "## Creating a Pipeline \n",
    "Using 10 Different Classification Models"
   ]
  },
  {
   "cell_type": "code",
   "execution_count": 87,
   "metadata": {},
   "outputs": [],
   "source": [
    "# Importing the 10 models\n",
    "from sklearn.ensemble import AdaBoostClassifier, GradientBoostingClassifier, RandomForestClassifier\n",
    "from sklearn.tree import DecisionTreeClassifier\n",
    "from sklearn.dummy import DummyClassifier\n",
    "from sklearn.neighbors import KNeighborsClassifier\n",
    "from sklearn.linear_model import LogisticRegression\n",
    "from sklearn.naive_bayes import GaussianNB\n",
    "from sklearn.svm import SVC\n",
    "\n",
    "## Preventing error from occuring: XGBoost causes kernel to die.\n",
    "import os\n",
    "os.environ['KMP_DUPLICATE_LIB_OK']='True'\n",
    "from xgboost import XGBClassifier"
   ]
  },
  {
   "cell_type": "markdown",
   "metadata": {},
   "source": [
    "### Creating pipelines for each model\n",
    "The pipeline is able to scale the data before implementation of the classification model"
   ]
  },
  {
   "cell_type": "code",
   "execution_count": 88,
   "metadata": {},
   "outputs": [],
   "source": [
    "# Adaboost\n",
    "pipe_ada = Pipeline([('scale', StandardScaler()), ('clf', AdaBoostClassifier())])\n",
    "\n",
    "# Gradient Boost\n",
    "pipe_gb  = Pipeline([('scale', StandardScaler()), ('clf', GradientBoostingClassifier())])\n",
    "\n",
    "# Random Forest\n",
    "pipe_rf  = Pipeline([('scale', StandardScaler()), ('clf', RandomForestClassifier())])\n",
    "\n",
    "# Decision Tree\n",
    "pipe_dt  = Pipeline([('scale', StandardScaler()), ('clf', DecisionTreeClassifier())])\n",
    "\n",
    "# Dummy (Baseline)\n",
    "pipe_dum = Pipeline([('scale', StandardScaler()), ('clf', DummyClassifier())])\n",
    "\n",
    "# K Nearest Neighbors\n",
    "pipe_knn = Pipeline([('scale', StandardScaler()), ('clf', KNeighborsClassifier())])\n",
    "\n",
    "# Logistic Regression\n",
    "pipe_lr  = Pipeline([('scale', StandardScaler()), ('clf', LogisticRegression())])\n",
    "\n",
    "# Naive Bayes\n",
    "pipe_nb  = Pipeline([('scale', StandardScaler()), ('clf', GaussianNB())])\n",
    "\n",
    "# Support Vector Machine\n",
    "pipe_svm = Pipeline([('scale', StandardScaler()), ('clf', SVC())])\n",
    "\n",
    "# XGBoost\n",
    "pipe_xgb = Pipeline([('scale', StandardScaler()), ('clf', XGBClassifier())])"
   ]
  },
  {
   "cell_type": "markdown",
   "metadata": {},
   "source": [
    "### Creating a List of Model Names and Pipelines"
   ]
  },
  {
   "cell_type": "code",
   "execution_count": 89,
   "metadata": {},
   "outputs": [],
   "source": [
    "pipelines = [pipe_ada, pipe_gb, pipe_rf, pipe_dt, pipe_dum, \n",
    "             pipe_knn, pipe_lr, pipe_nb, pipe_svm, pipe_xgb]\n",
    "\n",
    "models = ['Adaboost', \n",
    "          'GradientBoost', \n",
    "          'RandomForest', \n",
    "          'DecisionTree', \n",
    "          'Dummy(Baseline)', \n",
    "          'KNN', \n",
    "          'LogisticRegression',\n",
    "          'NaiveBayes',\n",
    "          'SupportVectorMachine',\n",
    "          'XGBoost']\n",
    "\n",
    "# Zipping the the strings and pipelines together and creating a dictionary\n",
    "model_pipelines = dict(zip(models, pipelines))"
   ]
  },
  {
   "cell_type": "markdown",
   "metadata": {},
   "source": [
    "### Fitting and Training each Pipeline\n",
    "(Using default parameters initially)"
   ]
  },
  {
   "cell_type": "code",
   "execution_count": 90,
   "metadata": {
    "scrolled": true
   },
   "outputs": [
    {
     "name": "stdout",
     "output_type": "stream",
     "text": [
      "Pipeline(memory=None,\n",
      "     steps=[('scale', StandardScaler(copy=True, with_mean=True, with_std=True)), ('clf', AdaBoostClassifier(algorithm='SAMME.R', base_estimator=None,\n",
      "          learning_rate=1.0, n_estimators=50, random_state=None))])\n",
      "Pipeline(memory=None,\n",
      "     steps=[('scale', StandardScaler(copy=True, with_mean=True, with_std=True)), ('clf', GradientBoostingClassifier(criterion='friedman_mse', init=None,\n",
      "              learning_rate=0.1, loss='deviance', max_depth=3,\n",
      "              max_features=None, max_leaf_nodes=None,\n",
      "              min_impurity_decrease...    subsample=1.0, tol=0.0001, validation_fraction=0.1,\n",
      "              verbose=0, warm_start=False))])\n",
      "Pipeline(memory=None,\n",
      "     steps=[('scale', StandardScaler(copy=True, with_mean=True, with_std=True)), ('clf', RandomForestClassifier(bootstrap=True, class_weight=None, criterion='gini',\n",
      "            max_depth=None, max_features='auto', max_leaf_nodes=None,\n",
      "            min_impurity_decrease=0.0, min_impurity_split=None,\n",
      "      ...obs=None,\n",
      "            oob_score=False, random_state=None, verbose=0,\n",
      "            warm_start=False))])\n"
     ]
    },
    {
     "name": "stderr",
     "output_type": "stream",
     "text": [
      "/anaconda3/lib/python3.7/site-packages/sklearn/ensemble/forest.py:246: FutureWarning: The default value of n_estimators will change from 10 in version 0.20 to 100 in 0.22.\n",
      "  \"10 in version 0.20 to 100 in 0.22.\", FutureWarning)\n"
     ]
    },
    {
     "name": "stdout",
     "output_type": "stream",
     "text": [
      "Pipeline(memory=None,\n",
      "     steps=[('scale', StandardScaler(copy=True, with_mean=True, with_std=True)), ('clf', DecisionTreeClassifier(class_weight=None, criterion='gini', max_depth=None,\n",
      "            max_features=None, max_leaf_nodes=None,\n",
      "            min_impurity_decrease=0.0, min_impurity_split=None,\n",
      "            min_samples_leaf=1, min_samples_split=2,\n",
      "            min_weight_fraction_leaf=0.0, presort=False, random_state=None,\n",
      "            splitter='best'))])\n",
      "Pipeline(memory=None,\n",
      "     steps=[('scale', StandardScaler(copy=True, with_mean=True, with_std=True)), ('clf', DummyClassifier(constant=None, random_state=None, strategy='stratified'))])\n",
      "Pipeline(memory=None,\n",
      "     steps=[('scale', StandardScaler(copy=True, with_mean=True, with_std=True)), ('clf', KNeighborsClassifier(algorithm='auto', leaf_size=30, metric='minkowski',\n",
      "           metric_params=None, n_jobs=None, n_neighbors=5, p=2,\n",
      "           weights='uniform'))])\n",
      "Pipeline(memory=None,\n",
      "     steps=[('scale', StandardScaler(copy=True, with_mean=True, with_std=True)), ('clf', LogisticRegression(C=1.0, class_weight=None, dual=False, fit_intercept=True,\n",
      "          intercept_scaling=1, max_iter=100, multi_class='warn',\n",
      "          n_jobs=None, penalty='l2', random_state=None, solver='warn',\n",
      "          tol=0.0001, verbose=0, warm_start=False))])\n"
     ]
    },
    {
     "name": "stderr",
     "output_type": "stream",
     "text": [
      "/anaconda3/lib/python3.7/site-packages/sklearn/linear_model/logistic.py:433: FutureWarning: Default solver will be changed to 'lbfgs' in 0.22. Specify a solver to silence this warning.\n",
      "  FutureWarning)\n",
      "/anaconda3/lib/python3.7/site-packages/sklearn/linear_model/logistic.py:460: FutureWarning: Default multi_class will be changed to 'auto' in 0.22. Specify the multi_class option to silence this warning.\n",
      "  \"this warning.\", FutureWarning)\n"
     ]
    },
    {
     "name": "stdout",
     "output_type": "stream",
     "text": [
      "Pipeline(memory=None,\n",
      "     steps=[('scale', StandardScaler(copy=True, with_mean=True, with_std=True)), ('clf', GaussianNB(priors=None, var_smoothing=1e-09))])\n",
      "Pipeline(memory=None,\n",
      "     steps=[('scale', StandardScaler(copy=True, with_mean=True, with_std=True)), ('clf', SVC(C=1.0, cache_size=200, class_weight=None, coef0=0.0,\n",
      "  decision_function_shape='ovr', degree=3, gamma='auto_deprecated',\n",
      "  kernel='rbf', max_iter=-1, probability=False, random_state=None,\n",
      "  shrinking=True, tol=0.001, verbose=False))])\n",
      "Pipeline(memory=None,\n",
      "     steps=[('scale', StandardScaler(copy=True, with_mean=True, with_std=True)), ('clf', XGBClassifier(base_score=0.5, booster='gbtree', colsample_bylevel=1,\n",
      "       colsample_bynode=1, colsample_bytree=1, gamma=0, learning_rate=0.1,\n",
      "       max_delta_step=0, max_depth=3, min_child_weight=1, missing=None,\n",
      "...\n",
      "       reg_lambda=1, scale_pos_weight=1, seed=None, silent=None,\n",
      "       subsample=1, verbosity=1))])\n"
     ]
    }
   ],
   "source": [
    "# Looping through each Pipeline to fit and train each model\n",
    "for name, pipe in model_pipelines.items():\n",
    "    print(pipe)\n",
    "    pipe.fit(X_train, y_train)"
   ]
  },
  {
   "cell_type": "markdown",
   "metadata": {},
   "source": [
    "### Classification Report for each Pipeline"
   ]
  },
  {
   "cell_type": "code",
   "execution_count": 91,
   "metadata": {
    "scrolled": true
   },
   "outputs": [
    {
     "name": "stdout",
     "output_type": "stream",
     "text": [
      "\n",
      "Adaboost (Macro Avg - F1 Score):\n",
      "0.35011446984652456\n",
      "\n",
      "GradientBoost (Macro Avg - F1 Score):\n",
      "0.34342456088975953\n",
      "\n",
      "RandomForest (Macro Avg - F1 Score):\n",
      "0.3668193815060415\n",
      "\n",
      "DecisionTree (Macro Avg - F1 Score):\n",
      "0.35595108822464755\n",
      "\n",
      "Dummy(Baseline) (Macro Avg - F1 Score):\n",
      "0.32590119011414637\n",
      "\n",
      "KNN (Macro Avg - F1 Score):\n",
      "0.36259265804792146\n",
      "\n",
      "LogisticRegression (Macro Avg - F1 Score):\n",
      "0.23596022981385714\n",
      "\n",
      "NaiveBayes (Macro Avg - F1 Score):\n",
      "0.11748463119586693\n",
      "\n",
      "SupportVectorMachine (Macro Avg - F1 Score):\n",
      "0.23766873870999186\n",
      "\n",
      "XGBoost (Macro Avg - F1 Score):\n",
      "0.34205362394347105\n"
     ]
    }
   ],
   "source": [
    "# Dictionary containing the model names and their scores\n",
    "models_f1 = {}\n",
    "\n",
    "# Looping through each model's predictions and getting their classification reports\n",
    "for name, pipe in model_pipelines.items():\n",
    "    print('\\n'+ name + ' (Macro Avg - F1 Score):')\n",
    "    \n",
    "    # Classification Report\n",
    "    report = classification_report(y_test, pipe.predict(X_test), target_names=['Sell', 'Buy', 'Hold'], output_dict=True)\n",
    "    f1 = report['macro avg']['f1-score']\n",
    "    \n",
    "    # Assigning to the Dictionary\n",
    "    models_f1[name] = f1\n",
    "    \n",
    "    print(f1)"
   ]
  },
  {
   "cell_type": "code",
   "execution_count": 92,
   "metadata": {},
   "outputs": [
    {
     "name": "stdout",
     "output_type": "stream",
     "text": [
      "RandomForest 0.3668193815060415\n",
      "KNN 0.36259265804792146\n",
      "DecisionTree 0.35595108822464755\n"
     ]
    }
   ],
   "source": [
    "# Finding the Top 3 Models\n",
    "for i in sorted(models_f1, key=models_f1.get, reverse=True)[:3]:\n",
    "    print(i, models_f1[i])"
   ]
  },
  {
   "cell_type": "markdown",
   "metadata": {},
   "source": [
    "Choosing the best performing model based on the __Macro Average for the F1 Score__.  This is due to the fact that we want to optimize the amount of classifications (_Recall_) and reduce the amount of misclassifications (_Precision_).  _Macro Average_ is used because of the class imbalance and the desire to classify more 'Buys' and 'Sells' than 'Holds'.\n",
    "\n",
    "However, in the end, we will be evaluating on _Precision_ Score for Macro Average."
   ]
  },
  {
   "cell_type": "markdown",
   "metadata": {},
   "source": [
    "## Top 3 Classifiers for GridSearch\n",
    "1. Random Forest\n",
    "2. KNN\n",
    "3. Decision Tree\n",
    "\n",
    "_(Based on Macro Avg F1-Score)_"
   ]
  },
  {
   "cell_type": "code",
   "execution_count": 93,
   "metadata": {},
   "outputs": [],
   "source": [
    "# Importing Grid Search\n",
    "from sklearn.model_selection import GridSearchCV"
   ]
  },
  {
   "cell_type": "code",
   "execution_count": 94,
   "metadata": {},
   "outputs": [],
   "source": [
    "# Creating Parameters to iterate through for each classifier\n",
    "rf_params = {'clf__n_estimators': [10,50,100,200],\n",
    "             'clf__criterion': ['gini', 'entropy'],\n",
    "             'clf__max_depth': [None, 2, 5],\n",
    "             'clf__min_samples_split': [2,4,8],\n",
    "             'clf__min_samples_leaf': [1, 2, 5]}\n",
    "\n",
    "knn_params = {\"clf__n_neighbors\": [5, 25, 50, 100, 200],\n",
    "              \"clf__weights\": ['uniform', 'distance'],\n",
    "              \"clf__p\": [1,2]}\n",
    "\n",
    "dt_params = {'clf__criterion': ['gini', 'entropy'],\n",
    "             'clf__splitter': ['best', 'random'],\n",
    "             'clf__max_depth': [None, 2, 5],\n",
    "             'clf__min_samples_split': [2, 4, 8],\n",
    "             'clf__min_samples_leaf': [1,3,5]}"
   ]
  },
  {
   "cell_type": "code",
   "execution_count": 95,
   "metadata": {},
   "outputs": [],
   "source": [
    "# Creating a dictionary for the Top 3 Classifiers with their respective parameters\n",
    "top3 = {'RandomForest': [pipe_rf, rf_params],\n",
    "        'KNN': [pipe_knn, knn_params],\n",
    "        'DecisionTree': [pipe_dt, dt_params]}"
   ]
  },
  {
   "cell_type": "markdown",
   "metadata": {},
   "source": [
    "### GridSearching the Classifiers"
   ]
  },
  {
   "cell_type": "code",
   "execution_count": 97,
   "metadata": {
    "scrolled": true
   },
   "outputs": [
    {
     "name": "stdout",
     "output_type": "stream",
     "text": [
      "RandomForest - - - - - - - - - - - - - - - - - - - - - - - - - - - - - -\n",
      "Fitting 3 folds for each of 216 candidates, totalling 648 fits\n",
      "[CV] clf__criterion=gini, clf__max_depth=None, clf__min_samples_leaf=1, clf__min_samples_split=2, clf__n_estimators=10 \n"
     ]
    },
    {
     "name": "stderr",
     "output_type": "stream",
     "text": [
      "[Parallel(n_jobs=1)]: Using backend SequentialBackend with 1 concurrent workers.\n"
     ]
    },
    {
     "name": "stdout",
     "output_type": "stream",
     "text": [
      "[CV]  clf__criterion=gini, clf__max_depth=None, clf__min_samples_leaf=1, clf__min_samples_split=2, clf__n_estimators=10, total=   1.0s\n",
      "[CV] clf__criterion=gini, clf__max_depth=None, clf__min_samples_leaf=1, clf__min_samples_split=2, clf__n_estimators=10 \n"
     ]
    },
    {
     "name": "stderr",
     "output_type": "stream",
     "text": [
      "[Parallel(n_jobs=1)]: Done   1 out of   1 | elapsed:    1.1s remaining:    0.0s\n"
     ]
    },
    {
     "name": "stdout",
     "output_type": "stream",
     "text": [
      "[CV]  clf__criterion=gini, clf__max_depth=None, clf__min_samples_leaf=1, clf__min_samples_split=2, clf__n_estimators=10, total=   1.0s\n",
      "[CV] clf__criterion=gini, clf__max_depth=None, clf__min_samples_leaf=1, clf__min_samples_split=2, clf__n_estimators=10 \n",
      "[CV]  clf__criterion=gini, clf__max_depth=None, clf__min_samples_leaf=1, clf__min_samples_split=2, clf__n_estimators=10, total=   0.9s\n",
      "[CV] clf__criterion=gini, clf__max_depth=None, clf__min_samples_leaf=1, clf__min_samples_split=2, clf__n_estimators=50 \n",
      "[CV]  clf__criterion=gini, clf__max_depth=None, clf__min_samples_leaf=1, clf__min_samples_split=2, clf__n_estimators=50, total=   4.8s\n",
      "[CV] clf__criterion=gini, clf__max_depth=None, clf__min_samples_leaf=1, clf__min_samples_split=2, clf__n_estimators=50 \n",
      "[CV]  clf__criterion=gini, clf__max_depth=None, clf__min_samples_leaf=1, clf__min_samples_split=2, clf__n_estimators=50, total=   5.5s\n",
      "[CV] clf__criterion=gini, clf__max_depth=None, clf__min_samples_leaf=1, clf__min_samples_split=2, clf__n_estimators=50 \n",
      "[CV]  clf__criterion=gini, clf__max_depth=None, clf__min_samples_leaf=1, clf__min_samples_split=2, clf__n_estimators=50, total=   5.0s\n",
      "[CV] clf__criterion=gini, clf__max_depth=None, clf__min_samples_leaf=1, clf__min_samples_split=2, clf__n_estimators=100 \n",
      "[CV]  clf__criterion=gini, clf__max_depth=None, clf__min_samples_leaf=1, clf__min_samples_split=2, clf__n_estimators=100, total=   9.3s\n",
      "[CV] clf__criterion=gini, clf__max_depth=None, clf__min_samples_leaf=1, clf__min_samples_split=2, clf__n_estimators=100 \n",
      "[CV]  clf__criterion=gini, clf__max_depth=None, clf__min_samples_leaf=1, clf__min_samples_split=2, clf__n_estimators=100, total=  10.9s\n",
      "[CV] clf__criterion=gini, clf__max_depth=None, clf__min_samples_leaf=1, clf__min_samples_split=2, clf__n_estimators=100 \n",
      "[CV]  clf__criterion=gini, clf__max_depth=None, clf__min_samples_leaf=1, clf__min_samples_split=2, clf__n_estimators=100, total=   9.8s\n",
      "[CV] clf__criterion=gini, clf__max_depth=None, clf__min_samples_leaf=1, clf__min_samples_split=2, clf__n_estimators=200 \n",
      "[CV]  clf__criterion=gini, clf__max_depth=None, clf__min_samples_leaf=1, clf__min_samples_split=2, clf__n_estimators=200, total=  18.9s\n",
      "[CV] clf__criterion=gini, clf__max_depth=None, clf__min_samples_leaf=1, clf__min_samples_split=2, clf__n_estimators=200 \n",
      "[CV]  clf__criterion=gini, clf__max_depth=None, clf__min_samples_leaf=1, clf__min_samples_split=2, clf__n_estimators=200, total=  18.4s\n",
      "[CV] clf__criterion=gini, clf__max_depth=None, clf__min_samples_leaf=1, clf__min_samples_split=2, clf__n_estimators=200 \n",
      "[CV]  clf__criterion=gini, clf__max_depth=None, clf__min_samples_leaf=1, clf__min_samples_split=2, clf__n_estimators=200, total=  19.9s\n",
      "[CV] clf__criterion=gini, clf__max_depth=None, clf__min_samples_leaf=1, clf__min_samples_split=4, clf__n_estimators=10 \n",
      "[CV]  clf__criterion=gini, clf__max_depth=None, clf__min_samples_leaf=1, clf__min_samples_split=4, clf__n_estimators=10, total=   1.1s\n",
      "[CV] clf__criterion=gini, clf__max_depth=None, clf__min_samples_leaf=1, clf__min_samples_split=4, clf__n_estimators=10 \n",
      "[CV]  clf__criterion=gini, clf__max_depth=None, clf__min_samples_leaf=1, clf__min_samples_split=4, clf__n_estimators=10, total=   1.0s\n",
      "[CV] clf__criterion=gini, clf__max_depth=None, clf__min_samples_leaf=1, clf__min_samples_split=4, clf__n_estimators=10 \n",
      "[CV]  clf__criterion=gini, clf__max_depth=None, clf__min_samples_leaf=1, clf__min_samples_split=4, clf__n_estimators=10, total=   1.0s\n",
      "[CV] clf__criterion=gini, clf__max_depth=None, clf__min_samples_leaf=1, clf__min_samples_split=4, clf__n_estimators=50 \n",
      "[CV]  clf__criterion=gini, clf__max_depth=None, clf__min_samples_leaf=1, clf__min_samples_split=4, clf__n_estimators=50, total=   5.3s\n",
      "[CV] clf__criterion=gini, clf__max_depth=None, clf__min_samples_leaf=1, clf__min_samples_split=4, clf__n_estimators=50 \n",
      "[CV]  clf__criterion=gini, clf__max_depth=None, clf__min_samples_leaf=1, clf__min_samples_split=4, clf__n_estimators=50, total=   4.9s\n",
      "[CV] clf__criterion=gini, clf__max_depth=None, clf__min_samples_leaf=1, clf__min_samples_split=4, clf__n_estimators=50 \n",
      "[CV]  clf__criterion=gini, clf__max_depth=None, clf__min_samples_leaf=1, clf__min_samples_split=4, clf__n_estimators=50, total=   5.2s\n",
      "[CV] clf__criterion=gini, clf__max_depth=None, clf__min_samples_leaf=1, clf__min_samples_split=4, clf__n_estimators=100 \n",
      "[CV]  clf__criterion=gini, clf__max_depth=None, clf__min_samples_leaf=1, clf__min_samples_split=4, clf__n_estimators=100, total=   9.3s\n",
      "[CV] clf__criterion=gini, clf__max_depth=None, clf__min_samples_leaf=1, clf__min_samples_split=4, clf__n_estimators=100 \n",
      "[CV]  clf__criterion=gini, clf__max_depth=None, clf__min_samples_leaf=1, clf__min_samples_split=4, clf__n_estimators=100, total=   9.5s\n",
      "[CV] clf__criterion=gini, clf__max_depth=None, clf__min_samples_leaf=1, clf__min_samples_split=4, clf__n_estimators=100 \n",
      "[CV]  clf__criterion=gini, clf__max_depth=None, clf__min_samples_leaf=1, clf__min_samples_split=4, clf__n_estimators=100, total=  10.3s\n",
      "[CV] clf__criterion=gini, clf__max_depth=None, clf__min_samples_leaf=1, clf__min_samples_split=4, clf__n_estimators=200 \n",
      "[CV]  clf__criterion=gini, clf__max_depth=None, clf__min_samples_leaf=1, clf__min_samples_split=4, clf__n_estimators=200, total=  18.5s\n",
      "[CV] clf__criterion=gini, clf__max_depth=None, clf__min_samples_leaf=1, clf__min_samples_split=4, clf__n_estimators=200 \n",
      "[CV]  clf__criterion=gini, clf__max_depth=None, clf__min_samples_leaf=1, clf__min_samples_split=4, clf__n_estimators=200, total=  19.8s\n",
      "[CV] clf__criterion=gini, clf__max_depth=None, clf__min_samples_leaf=1, clf__min_samples_split=4, clf__n_estimators=200 \n",
      "[CV]  clf__criterion=gini, clf__max_depth=None, clf__min_samples_leaf=1, clf__min_samples_split=4, clf__n_estimators=200, total=  19.3s\n",
      "[CV] clf__criterion=gini, clf__max_depth=None, clf__min_samples_leaf=1, clf__min_samples_split=8, clf__n_estimators=10 \n",
      "[CV]  clf__criterion=gini, clf__max_depth=None, clf__min_samples_leaf=1, clf__min_samples_split=8, clf__n_estimators=10, total=   0.9s\n",
      "[CV] clf__criterion=gini, clf__max_depth=None, clf__min_samples_leaf=1, clf__min_samples_split=8, clf__n_estimators=10 \n",
      "[CV]  clf__criterion=gini, clf__max_depth=None, clf__min_samples_leaf=1, clf__min_samples_split=8, clf__n_estimators=10, total=   0.9s\n",
      "[CV] clf__criterion=gini, clf__max_depth=None, clf__min_samples_leaf=1, clf__min_samples_split=8, clf__n_estimators=10 \n",
      "[CV]  clf__criterion=gini, clf__max_depth=None, clf__min_samples_leaf=1, clf__min_samples_split=8, clf__n_estimators=10, total=   0.9s\n",
      "[CV] clf__criterion=gini, clf__max_depth=None, clf__min_samples_leaf=1, clf__min_samples_split=8, clf__n_estimators=50 \n",
      "[CV]  clf__criterion=gini, clf__max_depth=None, clf__min_samples_leaf=1, clf__min_samples_split=8, clf__n_estimators=50, total=   4.5s\n",
      "[CV] clf__criterion=gini, clf__max_depth=None, clf__min_samples_leaf=1, clf__min_samples_split=8, clf__n_estimators=50 \n",
      "[CV]  clf__criterion=gini, clf__max_depth=None, clf__min_samples_leaf=1, clf__min_samples_split=8, clf__n_estimators=50, total=   4.4s\n",
      "[CV] clf__criterion=gini, clf__max_depth=None, clf__min_samples_leaf=1, clf__min_samples_split=8, clf__n_estimators=50 \n",
      "[CV]  clf__criterion=gini, clf__max_depth=None, clf__min_samples_leaf=1, clf__min_samples_split=8, clf__n_estimators=50, total=   4.4s\n",
      "[CV] clf__criterion=gini, clf__max_depth=None, clf__min_samples_leaf=1, clf__min_samples_split=8, clf__n_estimators=100 \n",
      "[CV]  clf__criterion=gini, clf__max_depth=None, clf__min_samples_leaf=1, clf__min_samples_split=8, clf__n_estimators=100, total=   9.2s\n",
      "[CV] clf__criterion=gini, clf__max_depth=None, clf__min_samples_leaf=1, clf__min_samples_split=8, clf__n_estimators=100 \n",
      "[CV]  clf__criterion=gini, clf__max_depth=None, clf__min_samples_leaf=1, clf__min_samples_split=8, clf__n_estimators=100, total=  10.1s\n",
      "[CV] clf__criterion=gini, clf__max_depth=None, clf__min_samples_leaf=1, clf__min_samples_split=8, clf__n_estimators=100 \n",
      "[CV]  clf__criterion=gini, clf__max_depth=None, clf__min_samples_leaf=1, clf__min_samples_split=8, clf__n_estimators=100, total=   9.0s\n",
      "[CV] clf__criterion=gini, clf__max_depth=None, clf__min_samples_leaf=1, clf__min_samples_split=8, clf__n_estimators=200 \n",
      "[CV]  clf__criterion=gini, clf__max_depth=None, clf__min_samples_leaf=1, clf__min_samples_split=8, clf__n_estimators=200, total=  19.6s\n",
      "[CV] clf__criterion=gini, clf__max_depth=None, clf__min_samples_leaf=1, clf__min_samples_split=8, clf__n_estimators=200 \n"
     ]
    },
    {
     "name": "stdout",
     "output_type": "stream",
     "text": [
      "[CV]  clf__criterion=gini, clf__max_depth=None, clf__min_samples_leaf=1, clf__min_samples_split=8, clf__n_estimators=200, total=  17.3s\n",
      "[CV] clf__criterion=gini, clf__max_depth=None, clf__min_samples_leaf=1, clf__min_samples_split=8, clf__n_estimators=200 \n",
      "[CV]  clf__criterion=gini, clf__max_depth=None, clf__min_samples_leaf=1, clf__min_samples_split=8, clf__n_estimators=200, total=  17.8s\n",
      "[CV] clf__criterion=gini, clf__max_depth=None, clf__min_samples_leaf=2, clf__min_samples_split=2, clf__n_estimators=10 \n",
      "[CV]  clf__criterion=gini, clf__max_depth=None, clf__min_samples_leaf=2, clf__min_samples_split=2, clf__n_estimators=10, total=   1.1s\n",
      "[CV] clf__criterion=gini, clf__max_depth=None, clf__min_samples_leaf=2, clf__min_samples_split=2, clf__n_estimators=10 \n",
      "[CV]  clf__criterion=gini, clf__max_depth=None, clf__min_samples_leaf=2, clf__min_samples_split=2, clf__n_estimators=10, total=   1.0s\n",
      "[CV] clf__criterion=gini, clf__max_depth=None, clf__min_samples_leaf=2, clf__min_samples_split=2, clf__n_estimators=10 \n",
      "[CV]  clf__criterion=gini, clf__max_depth=None, clf__min_samples_leaf=2, clf__min_samples_split=2, clf__n_estimators=10, total=   1.0s\n",
      "[CV] clf__criterion=gini, clf__max_depth=None, clf__min_samples_leaf=2, clf__min_samples_split=2, clf__n_estimators=50 \n",
      "[CV]  clf__criterion=gini, clf__max_depth=None, clf__min_samples_leaf=2, clf__min_samples_split=2, clf__n_estimators=50, total=   4.7s\n",
      "[CV] clf__criterion=gini, clf__max_depth=None, clf__min_samples_leaf=2, clf__min_samples_split=2, clf__n_estimators=50 \n",
      "[CV]  clf__criterion=gini, clf__max_depth=None, clf__min_samples_leaf=2, clf__min_samples_split=2, clf__n_estimators=50, total=   5.0s\n",
      "[CV] clf__criterion=gini, clf__max_depth=None, clf__min_samples_leaf=2, clf__min_samples_split=2, clf__n_estimators=50 \n",
      "[CV]  clf__criterion=gini, clf__max_depth=None, clf__min_samples_leaf=2, clf__min_samples_split=2, clf__n_estimators=50, total=   4.8s\n",
      "[CV] clf__criterion=gini, clf__max_depth=None, clf__min_samples_leaf=2, clf__min_samples_split=2, clf__n_estimators=100 \n",
      "[CV]  clf__criterion=gini, clf__max_depth=None, clf__min_samples_leaf=2, clf__min_samples_split=2, clf__n_estimators=100, total=  10.1s\n",
      "[CV] clf__criterion=gini, clf__max_depth=None, clf__min_samples_leaf=2, clf__min_samples_split=2, clf__n_estimators=100 \n",
      "[CV]  clf__criterion=gini, clf__max_depth=None, clf__min_samples_leaf=2, clf__min_samples_split=2, clf__n_estimators=100, total=   9.1s\n",
      "[CV] clf__criterion=gini, clf__max_depth=None, clf__min_samples_leaf=2, clf__min_samples_split=2, clf__n_estimators=100 \n",
      "[CV]  clf__criterion=gini, clf__max_depth=None, clf__min_samples_leaf=2, clf__min_samples_split=2, clf__n_estimators=100, total=   9.2s\n",
      "[CV] clf__criterion=gini, clf__max_depth=None, clf__min_samples_leaf=2, clf__min_samples_split=2, clf__n_estimators=200 \n",
      "[CV]  clf__criterion=gini, clf__max_depth=None, clf__min_samples_leaf=2, clf__min_samples_split=2, clf__n_estimators=200, total=  17.8s\n",
      "[CV] clf__criterion=gini, clf__max_depth=None, clf__min_samples_leaf=2, clf__min_samples_split=2, clf__n_estimators=200 \n",
      "[CV]  clf__criterion=gini, clf__max_depth=None, clf__min_samples_leaf=2, clf__min_samples_split=2, clf__n_estimators=200, total=  17.5s\n",
      "[CV] clf__criterion=gini, clf__max_depth=None, clf__min_samples_leaf=2, clf__min_samples_split=2, clf__n_estimators=200 \n",
      "[CV]  clf__criterion=gini, clf__max_depth=None, clf__min_samples_leaf=2, clf__min_samples_split=2, clf__n_estimators=200, total=  18.8s\n",
      "[CV] clf__criterion=gini, clf__max_depth=None, clf__min_samples_leaf=2, clf__min_samples_split=4, clf__n_estimators=10 \n",
      "[CV]  clf__criterion=gini, clf__max_depth=None, clf__min_samples_leaf=2, clf__min_samples_split=4, clf__n_estimators=10, total=   1.3s\n",
      "[CV] clf__criterion=gini, clf__max_depth=None, clf__min_samples_leaf=2, clf__min_samples_split=4, clf__n_estimators=10 \n",
      "[CV]  clf__criterion=gini, clf__max_depth=None, clf__min_samples_leaf=2, clf__min_samples_split=4, clf__n_estimators=10, total=   1.0s\n",
      "[CV] clf__criterion=gini, clf__max_depth=None, clf__min_samples_leaf=2, clf__min_samples_split=4, clf__n_estimators=10 \n",
      "[CV]  clf__criterion=gini, clf__max_depth=None, clf__min_samples_leaf=2, clf__min_samples_split=4, clf__n_estimators=10, total=   1.0s\n",
      "[CV] clf__criterion=gini, clf__max_depth=None, clf__min_samples_leaf=2, clf__min_samples_split=4, clf__n_estimators=50 \n",
      "[CV]  clf__criterion=gini, clf__max_depth=None, clf__min_samples_leaf=2, clf__min_samples_split=4, clf__n_estimators=50, total=   4.4s\n",
      "[CV] clf__criterion=gini, clf__max_depth=None, clf__min_samples_leaf=2, clf__min_samples_split=4, clf__n_estimators=50 \n",
      "[CV]  clf__criterion=gini, clf__max_depth=None, clf__min_samples_leaf=2, clf__min_samples_split=4, clf__n_estimators=50, total=   4.7s\n",
      "[CV] clf__criterion=gini, clf__max_depth=None, clf__min_samples_leaf=2, clf__min_samples_split=4, clf__n_estimators=50 \n",
      "[CV]  clf__criterion=gini, clf__max_depth=None, clf__min_samples_leaf=2, clf__min_samples_split=4, clf__n_estimators=50, total=   4.7s\n",
      "[CV] clf__criterion=gini, clf__max_depth=None, clf__min_samples_leaf=2, clf__min_samples_split=4, clf__n_estimators=100 \n",
      "[CV]  clf__criterion=gini, clf__max_depth=None, clf__min_samples_leaf=2, clf__min_samples_split=4, clf__n_estimators=100, total=   9.5s\n",
      "[CV] clf__criterion=gini, clf__max_depth=None, clf__min_samples_leaf=2, clf__min_samples_split=4, clf__n_estimators=100 \n",
      "[CV]  clf__criterion=gini, clf__max_depth=None, clf__min_samples_leaf=2, clf__min_samples_split=4, clf__n_estimators=100, total=   9.4s\n",
      "[CV] clf__criterion=gini, clf__max_depth=None, clf__min_samples_leaf=2, clf__min_samples_split=4, clf__n_estimators=100 \n",
      "[CV]  clf__criterion=gini, clf__max_depth=None, clf__min_samples_leaf=2, clf__min_samples_split=4, clf__n_estimators=100, total=   9.0s\n",
      "[CV] clf__criterion=gini, clf__max_depth=None, clf__min_samples_leaf=2, clf__min_samples_split=4, clf__n_estimators=200 \n",
      "[CV]  clf__criterion=gini, clf__max_depth=None, clf__min_samples_leaf=2, clf__min_samples_split=4, clf__n_estimators=200, total=  19.3s\n",
      "[CV] clf__criterion=gini, clf__max_depth=None, clf__min_samples_leaf=2, clf__min_samples_split=4, clf__n_estimators=200 \n",
      "[CV]  clf__criterion=gini, clf__max_depth=None, clf__min_samples_leaf=2, clf__min_samples_split=4, clf__n_estimators=200, total=  18.4s\n",
      "[CV] clf__criterion=gini, clf__max_depth=None, clf__min_samples_leaf=2, clf__min_samples_split=4, clf__n_estimators=200 \n",
      "[CV]  clf__criterion=gini, clf__max_depth=None, clf__min_samples_leaf=2, clf__min_samples_split=4, clf__n_estimators=200, total=  18.1s\n",
      "[CV] clf__criterion=gini, clf__max_depth=None, clf__min_samples_leaf=2, clf__min_samples_split=8, clf__n_estimators=10 \n",
      "[CV]  clf__criterion=gini, clf__max_depth=None, clf__min_samples_leaf=2, clf__min_samples_split=8, clf__n_estimators=10, total=   0.9s\n",
      "[CV] clf__criterion=gini, clf__max_depth=None, clf__min_samples_leaf=2, clf__min_samples_split=8, clf__n_estimators=10 \n",
      "[CV]  clf__criterion=gini, clf__max_depth=None, clf__min_samples_leaf=2, clf__min_samples_split=8, clf__n_estimators=10, total=   0.8s\n",
      "[CV] clf__criterion=gini, clf__max_depth=None, clf__min_samples_leaf=2, clf__min_samples_split=8, clf__n_estimators=10 \n",
      "[CV]  clf__criterion=gini, clf__max_depth=None, clf__min_samples_leaf=2, clf__min_samples_split=8, clf__n_estimators=10, total=   0.9s\n",
      "[CV] clf__criterion=gini, clf__max_depth=None, clf__min_samples_leaf=2, clf__min_samples_split=8, clf__n_estimators=50 \n",
      "[CV]  clf__criterion=gini, clf__max_depth=None, clf__min_samples_leaf=2, clf__min_samples_split=8, clf__n_estimators=50, total=   4.2s\n",
      "[CV] clf__criterion=gini, clf__max_depth=None, clf__min_samples_leaf=2, clf__min_samples_split=8, clf__n_estimators=50 \n",
      "[CV]  clf__criterion=gini, clf__max_depth=None, clf__min_samples_leaf=2, clf__min_samples_split=8, clf__n_estimators=50, total=   4.2s\n",
      "[CV] clf__criterion=gini, clf__max_depth=None, clf__min_samples_leaf=2, clf__min_samples_split=8, clf__n_estimators=50 \n",
      "[CV]  clf__criterion=gini, clf__max_depth=None, clf__min_samples_leaf=2, clf__min_samples_split=8, clf__n_estimators=50, total=   4.9s\n",
      "[CV] clf__criterion=gini, clf__max_depth=None, clf__min_samples_leaf=2, clf__min_samples_split=8, clf__n_estimators=100 \n",
      "[CV]  clf__criterion=gini, clf__max_depth=None, clf__min_samples_leaf=2, clf__min_samples_split=8, clf__n_estimators=100, total=   9.5s\n",
      "[CV] clf__criterion=gini, clf__max_depth=None, clf__min_samples_leaf=2, clf__min_samples_split=8, clf__n_estimators=100 \n"
     ]
    },
    {
     "name": "stdout",
     "output_type": "stream",
     "text": [
      "[CV]  clf__criterion=gini, clf__max_depth=None, clf__min_samples_leaf=2, clf__min_samples_split=8, clf__n_estimators=100, total=   9.5s\n",
      "[CV] clf__criterion=gini, clf__max_depth=None, clf__min_samples_leaf=2, clf__min_samples_split=8, clf__n_estimators=100 \n",
      "[CV]  clf__criterion=gini, clf__max_depth=None, clf__min_samples_leaf=2, clf__min_samples_split=8, clf__n_estimators=100, total=   9.0s\n",
      "[CV] clf__criterion=gini, clf__max_depth=None, clf__min_samples_leaf=2, clf__min_samples_split=8, clf__n_estimators=200 \n",
      "[CV]  clf__criterion=gini, clf__max_depth=None, clf__min_samples_leaf=2, clf__min_samples_split=8, clf__n_estimators=200, total=  18.3s\n",
      "[CV] clf__criterion=gini, clf__max_depth=None, clf__min_samples_leaf=2, clf__min_samples_split=8, clf__n_estimators=200 \n",
      "[CV]  clf__criterion=gini, clf__max_depth=None, clf__min_samples_leaf=2, clf__min_samples_split=8, clf__n_estimators=200, total=  17.4s\n",
      "[CV] clf__criterion=gini, clf__max_depth=None, clf__min_samples_leaf=2, clf__min_samples_split=8, clf__n_estimators=200 \n",
      "[CV]  clf__criterion=gini, clf__max_depth=None, clf__min_samples_leaf=2, clf__min_samples_split=8, clf__n_estimators=200, total=  17.5s\n",
      "[CV] clf__criterion=gini, clf__max_depth=None, clf__min_samples_leaf=5, clf__min_samples_split=2, clf__n_estimators=10 \n",
      "[CV]  clf__criterion=gini, clf__max_depth=None, clf__min_samples_leaf=5, clf__min_samples_split=2, clf__n_estimators=10, total=   0.8s\n",
      "[CV] clf__criterion=gini, clf__max_depth=None, clf__min_samples_leaf=5, clf__min_samples_split=2, clf__n_estimators=10 \n",
      "[CV]  clf__criterion=gini, clf__max_depth=None, clf__min_samples_leaf=5, clf__min_samples_split=2, clf__n_estimators=10, total=   1.0s\n",
      "[CV] clf__criterion=gini, clf__max_depth=None, clf__min_samples_leaf=5, clf__min_samples_split=2, clf__n_estimators=10 \n",
      "[CV]  clf__criterion=gini, clf__max_depth=None, clf__min_samples_leaf=5, clf__min_samples_split=2, clf__n_estimators=10, total=   0.9s\n",
      "[CV] clf__criterion=gini, clf__max_depth=None, clf__min_samples_leaf=5, clf__min_samples_split=2, clf__n_estimators=50 \n",
      "[CV]  clf__criterion=gini, clf__max_depth=None, clf__min_samples_leaf=5, clf__min_samples_split=2, clf__n_estimators=50, total=   4.2s\n",
      "[CV] clf__criterion=gini, clf__max_depth=None, clf__min_samples_leaf=5, clf__min_samples_split=2, clf__n_estimators=50 \n",
      "[CV]  clf__criterion=gini, clf__max_depth=None, clf__min_samples_leaf=5, clf__min_samples_split=2, clf__n_estimators=50, total=   4.7s\n",
      "[CV] clf__criterion=gini, clf__max_depth=None, clf__min_samples_leaf=5, clf__min_samples_split=2, clf__n_estimators=50 \n",
      "[CV]  clf__criterion=gini, clf__max_depth=None, clf__min_samples_leaf=5, clf__min_samples_split=2, clf__n_estimators=50, total=   4.5s\n",
      "[CV] clf__criterion=gini, clf__max_depth=None, clf__min_samples_leaf=5, clf__min_samples_split=2, clf__n_estimators=100 \n",
      "[CV]  clf__criterion=gini, clf__max_depth=None, clf__min_samples_leaf=5, clf__min_samples_split=2, clf__n_estimators=100, total=   8.3s\n",
      "[CV] clf__criterion=gini, clf__max_depth=None, clf__min_samples_leaf=5, clf__min_samples_split=2, clf__n_estimators=100 \n",
      "[CV]  clf__criterion=gini, clf__max_depth=None, clf__min_samples_leaf=5, clf__min_samples_split=2, clf__n_estimators=100, total=   8.0s\n",
      "[CV] clf__criterion=gini, clf__max_depth=None, clf__min_samples_leaf=5, clf__min_samples_split=2, clf__n_estimators=100 \n",
      "[CV]  clf__criterion=gini, clf__max_depth=None, clf__min_samples_leaf=5, clf__min_samples_split=2, clf__n_estimators=100, total=   8.1s\n",
      "[CV] clf__criterion=gini, clf__max_depth=None, clf__min_samples_leaf=5, clf__min_samples_split=2, clf__n_estimators=200 \n",
      "[CV]  clf__criterion=gini, clf__max_depth=None, clf__min_samples_leaf=5, clf__min_samples_split=2, clf__n_estimators=200, total=  17.5s\n",
      "[CV] clf__criterion=gini, clf__max_depth=None, clf__min_samples_leaf=5, clf__min_samples_split=2, clf__n_estimators=200 \n",
      "[CV]  clf__criterion=gini, clf__max_depth=None, clf__min_samples_leaf=5, clf__min_samples_split=2, clf__n_estimators=200, total=  17.3s\n",
      "[CV] clf__criterion=gini, clf__max_depth=None, clf__min_samples_leaf=5, clf__min_samples_split=2, clf__n_estimators=200 \n",
      "[CV]  clf__criterion=gini, clf__max_depth=None, clf__min_samples_leaf=5, clf__min_samples_split=2, clf__n_estimators=200, total=  17.2s\n",
      "[CV] clf__criterion=gini, clf__max_depth=None, clf__min_samples_leaf=5, clf__min_samples_split=4, clf__n_estimators=10 \n",
      "[CV]  clf__criterion=gini, clf__max_depth=None, clf__min_samples_leaf=5, clf__min_samples_split=4, clf__n_estimators=10, total=   0.9s\n",
      "[CV] clf__criterion=gini, clf__max_depth=None, clf__min_samples_leaf=5, clf__min_samples_split=4, clf__n_estimators=10 \n",
      "[CV]  clf__criterion=gini, clf__max_depth=None, clf__min_samples_leaf=5, clf__min_samples_split=4, clf__n_estimators=10, total=   0.9s\n",
      "[CV] clf__criterion=gini, clf__max_depth=None, clf__min_samples_leaf=5, clf__min_samples_split=4, clf__n_estimators=10 \n",
      "[CV]  clf__criterion=gini, clf__max_depth=None, clf__min_samples_leaf=5, clf__min_samples_split=4, clf__n_estimators=10, total=   0.9s\n",
      "[CV] clf__criterion=gini, clf__max_depth=None, clf__min_samples_leaf=5, clf__min_samples_split=4, clf__n_estimators=50 \n",
      "[CV]  clf__criterion=gini, clf__max_depth=None, clf__min_samples_leaf=5, clf__min_samples_split=4, clf__n_estimators=50, total=   4.7s\n",
      "[CV] clf__criterion=gini, clf__max_depth=None, clf__min_samples_leaf=5, clf__min_samples_split=4, clf__n_estimators=50 \n",
      "[CV]  clf__criterion=gini, clf__max_depth=None, clf__min_samples_leaf=5, clf__min_samples_split=4, clf__n_estimators=50, total=   4.1s\n",
      "[CV] clf__criterion=gini, clf__max_depth=None, clf__min_samples_leaf=5, clf__min_samples_split=4, clf__n_estimators=50 \n",
      "[CV]  clf__criterion=gini, clf__max_depth=None, clf__min_samples_leaf=5, clf__min_samples_split=4, clf__n_estimators=50, total=   4.3s\n",
      "[CV] clf__criterion=gini, clf__max_depth=None, clf__min_samples_leaf=5, clf__min_samples_split=4, clf__n_estimators=100 \n",
      "[CV]  clf__criterion=gini, clf__max_depth=None, clf__min_samples_leaf=5, clf__min_samples_split=4, clf__n_estimators=100, total=   8.2s\n",
      "[CV] clf__criterion=gini, clf__max_depth=None, clf__min_samples_leaf=5, clf__min_samples_split=4, clf__n_estimators=100 \n",
      "[CV]  clf__criterion=gini, clf__max_depth=None, clf__min_samples_leaf=5, clf__min_samples_split=4, clf__n_estimators=100, total=   8.0s\n",
      "[CV] clf__criterion=gini, clf__max_depth=None, clf__min_samples_leaf=5, clf__min_samples_split=4, clf__n_estimators=100 \n",
      "[CV]  clf__criterion=gini, clf__max_depth=None, clf__min_samples_leaf=5, clf__min_samples_split=4, clf__n_estimators=100, total=   8.1s\n",
      "[CV] clf__criterion=gini, clf__max_depth=None, clf__min_samples_leaf=5, clf__min_samples_split=4, clf__n_estimators=200 \n",
      "[CV]  clf__criterion=gini, clf__max_depth=None, clf__min_samples_leaf=5, clf__min_samples_split=4, clf__n_estimators=200, total=  16.1s\n",
      "[CV] clf__criterion=gini, clf__max_depth=None, clf__min_samples_leaf=5, clf__min_samples_split=4, clf__n_estimators=200 \n",
      "[CV]  clf__criterion=gini, clf__max_depth=None, clf__min_samples_leaf=5, clf__min_samples_split=4, clf__n_estimators=200, total=  16.1s\n",
      "[CV] clf__criterion=gini, clf__max_depth=None, clf__min_samples_leaf=5, clf__min_samples_split=4, clf__n_estimators=200 \n",
      "[CV]  clf__criterion=gini, clf__max_depth=None, clf__min_samples_leaf=5, clf__min_samples_split=4, clf__n_estimators=200, total=  15.7s\n",
      "[CV] clf__criterion=gini, clf__max_depth=None, clf__min_samples_leaf=5, clf__min_samples_split=8, clf__n_estimators=10 \n",
      "[CV]  clf__criterion=gini, clf__max_depth=None, clf__min_samples_leaf=5, clf__min_samples_split=8, clf__n_estimators=10, total=   0.9s\n",
      "[CV] clf__criterion=gini, clf__max_depth=None, clf__min_samples_leaf=5, clf__min_samples_split=8, clf__n_estimators=10 \n",
      "[CV]  clf__criterion=gini, clf__max_depth=None, clf__min_samples_leaf=5, clf__min_samples_split=8, clf__n_estimators=10, total=   0.8s\n",
      "[CV] clf__criterion=gini, clf__max_depth=None, clf__min_samples_leaf=5, clf__min_samples_split=8, clf__n_estimators=10 \n",
      "[CV]  clf__criterion=gini, clf__max_depth=None, clf__min_samples_leaf=5, clf__min_samples_split=8, clf__n_estimators=10, total=   0.8s\n",
      "[CV] clf__criterion=gini, clf__max_depth=None, clf__min_samples_leaf=5, clf__min_samples_split=8, clf__n_estimators=50 \n"
     ]
    },
    {
     "name": "stdout",
     "output_type": "stream",
     "text": [
      "[CV]  clf__criterion=gini, clf__max_depth=None, clf__min_samples_leaf=5, clf__min_samples_split=8, clf__n_estimators=50, total=   3.9s\n",
      "[CV] clf__criterion=gini, clf__max_depth=None, clf__min_samples_leaf=5, clf__min_samples_split=8, clf__n_estimators=50 \n",
      "[CV]  clf__criterion=gini, clf__max_depth=None, clf__min_samples_leaf=5, clf__min_samples_split=8, clf__n_estimators=50, total=   4.0s\n",
      "[CV] clf__criterion=gini, clf__max_depth=None, clf__min_samples_leaf=5, clf__min_samples_split=8, clf__n_estimators=50 \n",
      "[CV]  clf__criterion=gini, clf__max_depth=None, clf__min_samples_leaf=5, clf__min_samples_split=8, clf__n_estimators=50, total=   4.5s\n",
      "[CV] clf__criterion=gini, clf__max_depth=None, clf__min_samples_leaf=5, clf__min_samples_split=8, clf__n_estimators=100 \n",
      "[CV]  clf__criterion=gini, clf__max_depth=None, clf__min_samples_leaf=5, clf__min_samples_split=8, clf__n_estimators=100, total=   8.2s\n",
      "[CV] clf__criterion=gini, clf__max_depth=None, clf__min_samples_leaf=5, clf__min_samples_split=8, clf__n_estimators=100 \n",
      "[CV]  clf__criterion=gini, clf__max_depth=None, clf__min_samples_leaf=5, clf__min_samples_split=8, clf__n_estimators=100, total=   8.1s\n",
      "[CV] clf__criterion=gini, clf__max_depth=None, clf__min_samples_leaf=5, clf__min_samples_split=8, clf__n_estimators=100 \n",
      "[CV]  clf__criterion=gini, clf__max_depth=None, clf__min_samples_leaf=5, clf__min_samples_split=8, clf__n_estimators=100, total=   8.0s\n",
      "[CV] clf__criterion=gini, clf__max_depth=None, clf__min_samples_leaf=5, clf__min_samples_split=8, clf__n_estimators=200 \n",
      "[CV]  clf__criterion=gini, clf__max_depth=None, clf__min_samples_leaf=5, clf__min_samples_split=8, clf__n_estimators=200, total=  16.0s\n",
      "[CV] clf__criterion=gini, clf__max_depth=None, clf__min_samples_leaf=5, clf__min_samples_split=8, clf__n_estimators=200 \n",
      "[CV]  clf__criterion=gini, clf__max_depth=None, clf__min_samples_leaf=5, clf__min_samples_split=8, clf__n_estimators=200, total=  15.6s\n",
      "[CV] clf__criterion=gini, clf__max_depth=None, clf__min_samples_leaf=5, clf__min_samples_split=8, clf__n_estimators=200 \n",
      "[CV]  clf__criterion=gini, clf__max_depth=None, clf__min_samples_leaf=5, clf__min_samples_split=8, clf__n_estimators=200, total=  15.5s\n",
      "[CV] clf__criterion=gini, clf__max_depth=2, clf__min_samples_leaf=1, clf__min_samples_split=2, clf__n_estimators=10 \n",
      "[CV]  clf__criterion=gini, clf__max_depth=2, clf__min_samples_leaf=1, clf__min_samples_split=2, clf__n_estimators=10, total=   0.2s\n",
      "[CV] clf__criterion=gini, clf__max_depth=2, clf__min_samples_leaf=1, clf__min_samples_split=2, clf__n_estimators=10 \n"
     ]
    },
    {
     "name": "stderr",
     "output_type": "stream",
     "text": [
      "/anaconda3/lib/python3.7/site-packages/sklearn/metrics/classification.py:1143: UndefinedMetricWarning: F-score is ill-defined and being set to 0.0 in labels with no predicted samples.\n",
      "  'precision', 'predicted', average, warn_for)\n",
      "/anaconda3/lib/python3.7/site-packages/sklearn/metrics/classification.py:1143: UndefinedMetricWarning: F-score is ill-defined and being set to 0.0 in labels with no predicted samples.\n",
      "  'precision', 'predicted', average, warn_for)\n",
      "/anaconda3/lib/python3.7/site-packages/sklearn/metrics/classification.py:1143: UndefinedMetricWarning: F-score is ill-defined and being set to 0.0 in labels with no predicted samples.\n",
      "  'precision', 'predicted', average, warn_for)\n",
      "/anaconda3/lib/python3.7/site-packages/sklearn/metrics/classification.py:1143: UndefinedMetricWarning: F-score is ill-defined and being set to 0.0 in labels with no predicted samples.\n",
      "  'precision', 'predicted', average, warn_for)\n",
      "/anaconda3/lib/python3.7/site-packages/sklearn/metrics/classification.py:1143: UndefinedMetricWarning: F-score is ill-defined and being set to 0.0 in labels with no predicted samples.\n",
      "  'precision', 'predicted', average, warn_for)\n",
      "/anaconda3/lib/python3.7/site-packages/sklearn/metrics/classification.py:1143: UndefinedMetricWarning: F-score is ill-defined and being set to 0.0 in labels with no predicted samples.\n",
      "  'precision', 'predicted', average, warn_for)\n"
     ]
    },
    {
     "name": "stdout",
     "output_type": "stream",
     "text": [
      "[CV]  clf__criterion=gini, clf__max_depth=2, clf__min_samples_leaf=1, clf__min_samples_split=2, clf__n_estimators=10, total=   0.2s\n",
      "[CV] clf__criterion=gini, clf__max_depth=2, clf__min_samples_leaf=1, clf__min_samples_split=2, clf__n_estimators=10 \n",
      "[CV]  clf__criterion=gini, clf__max_depth=2, clf__min_samples_leaf=1, clf__min_samples_split=2, clf__n_estimators=10, total=   0.2s\n",
      "[CV] clf__criterion=gini, clf__max_depth=2, clf__min_samples_leaf=1, clf__min_samples_split=2, clf__n_estimators=50 \n"
     ]
    },
    {
     "name": "stderr",
     "output_type": "stream",
     "text": [
      "/anaconda3/lib/python3.7/site-packages/sklearn/metrics/classification.py:1143: UndefinedMetricWarning: F-score is ill-defined and being set to 0.0 in labels with no predicted samples.\n",
      "  'precision', 'predicted', average, warn_for)\n",
      "/anaconda3/lib/python3.7/site-packages/sklearn/metrics/classification.py:1143: UndefinedMetricWarning: F-score is ill-defined and being set to 0.0 in labels with no predicted samples.\n",
      "  'precision', 'predicted', average, warn_for)\n"
     ]
    },
    {
     "name": "stdout",
     "output_type": "stream",
     "text": [
      "[CV]  clf__criterion=gini, clf__max_depth=2, clf__min_samples_leaf=1, clf__min_samples_split=2, clf__n_estimators=50, total=   0.7s\n",
      "[CV] clf__criterion=gini, clf__max_depth=2, clf__min_samples_leaf=1, clf__min_samples_split=2, clf__n_estimators=50 \n"
     ]
    },
    {
     "name": "stderr",
     "output_type": "stream",
     "text": [
      "/anaconda3/lib/python3.7/site-packages/sklearn/metrics/classification.py:1143: UndefinedMetricWarning: F-score is ill-defined and being set to 0.0 in labels with no predicted samples.\n",
      "  'precision', 'predicted', average, warn_for)\n",
      "/anaconda3/lib/python3.7/site-packages/sklearn/metrics/classification.py:1143: UndefinedMetricWarning: F-score is ill-defined and being set to 0.0 in labels with no predicted samples.\n",
      "  'precision', 'predicted', average, warn_for)\n"
     ]
    },
    {
     "name": "stdout",
     "output_type": "stream",
     "text": [
      "[CV]  clf__criterion=gini, clf__max_depth=2, clf__min_samples_leaf=1, clf__min_samples_split=2, clf__n_estimators=50, total=   0.7s\n",
      "[CV] clf__criterion=gini, clf__max_depth=2, clf__min_samples_leaf=1, clf__min_samples_split=2, clf__n_estimators=50 \n"
     ]
    },
    {
     "name": "stderr",
     "output_type": "stream",
     "text": [
      "/anaconda3/lib/python3.7/site-packages/sklearn/metrics/classification.py:1143: UndefinedMetricWarning: F-score is ill-defined and being set to 0.0 in labels with no predicted samples.\n",
      "  'precision', 'predicted', average, warn_for)\n",
      "/anaconda3/lib/python3.7/site-packages/sklearn/metrics/classification.py:1143: UndefinedMetricWarning: F-score is ill-defined and being set to 0.0 in labels with no predicted samples.\n",
      "  'precision', 'predicted', average, warn_for)\n"
     ]
    },
    {
     "name": "stdout",
     "output_type": "stream",
     "text": [
      "[CV]  clf__criterion=gini, clf__max_depth=2, clf__min_samples_leaf=1, clf__min_samples_split=2, clf__n_estimators=50, total=   0.7s\n",
      "[CV] clf__criterion=gini, clf__max_depth=2, clf__min_samples_leaf=1, clf__min_samples_split=2, clf__n_estimators=100 \n"
     ]
    },
    {
     "name": "stderr",
     "output_type": "stream",
     "text": [
      "/anaconda3/lib/python3.7/site-packages/sklearn/metrics/classification.py:1143: UndefinedMetricWarning: F-score is ill-defined and being set to 0.0 in labels with no predicted samples.\n",
      "  'precision', 'predicted', average, warn_for)\n",
      "/anaconda3/lib/python3.7/site-packages/sklearn/metrics/classification.py:1143: UndefinedMetricWarning: F-score is ill-defined and being set to 0.0 in labels with no predicted samples.\n",
      "  'precision', 'predicted', average, warn_for)\n"
     ]
    },
    {
     "name": "stdout",
     "output_type": "stream",
     "text": [
      "[CV]  clf__criterion=gini, clf__max_depth=2, clf__min_samples_leaf=1, clf__min_samples_split=2, clf__n_estimators=100, total=   1.4s\n",
      "[CV] clf__criterion=gini, clf__max_depth=2, clf__min_samples_leaf=1, clf__min_samples_split=2, clf__n_estimators=100 \n"
     ]
    },
    {
     "name": "stderr",
     "output_type": "stream",
     "text": [
      "/anaconda3/lib/python3.7/site-packages/sklearn/metrics/classification.py:1143: UndefinedMetricWarning: F-score is ill-defined and being set to 0.0 in labels with no predicted samples.\n",
      "  'precision', 'predicted', average, warn_for)\n",
      "/anaconda3/lib/python3.7/site-packages/sklearn/metrics/classification.py:1143: UndefinedMetricWarning: F-score is ill-defined and being set to 0.0 in labels with no predicted samples.\n",
      "  'precision', 'predicted', average, warn_for)\n"
     ]
    },
    {
     "name": "stdout",
     "output_type": "stream",
     "text": [
      "[CV]  clf__criterion=gini, clf__max_depth=2, clf__min_samples_leaf=1, clf__min_samples_split=2, clf__n_estimators=100, total=   1.4s\n",
      "[CV] clf__criterion=gini, clf__max_depth=2, clf__min_samples_leaf=1, clf__min_samples_split=2, clf__n_estimators=100 \n"
     ]
    },
    {
     "name": "stderr",
     "output_type": "stream",
     "text": [
      "/anaconda3/lib/python3.7/site-packages/sklearn/metrics/classification.py:1143: UndefinedMetricWarning: F-score is ill-defined and being set to 0.0 in labels with no predicted samples.\n",
      "  'precision', 'predicted', average, warn_for)\n",
      "/anaconda3/lib/python3.7/site-packages/sklearn/metrics/classification.py:1143: UndefinedMetricWarning: F-score is ill-defined and being set to 0.0 in labels with no predicted samples.\n",
      "  'precision', 'predicted', average, warn_for)\n"
     ]
    },
    {
     "name": "stdout",
     "output_type": "stream",
     "text": [
      "[CV]  clf__criterion=gini, clf__max_depth=2, clf__min_samples_leaf=1, clf__min_samples_split=2, clf__n_estimators=100, total=   1.5s\n",
      "[CV] clf__criterion=gini, clf__max_depth=2, clf__min_samples_leaf=1, clf__min_samples_split=2, clf__n_estimators=200 \n"
     ]
    },
    {
     "name": "stderr",
     "output_type": "stream",
     "text": [
      "/anaconda3/lib/python3.7/site-packages/sklearn/metrics/classification.py:1143: UndefinedMetricWarning: F-score is ill-defined and being set to 0.0 in labels with no predicted samples.\n",
      "  'precision', 'predicted', average, warn_for)\n",
      "/anaconda3/lib/python3.7/site-packages/sklearn/metrics/classification.py:1143: UndefinedMetricWarning: F-score is ill-defined and being set to 0.0 in labels with no predicted samples.\n",
      "  'precision', 'predicted', average, warn_for)\n"
     ]
    },
    {
     "name": "stdout",
     "output_type": "stream",
     "text": [
      "[CV]  clf__criterion=gini, clf__max_depth=2, clf__min_samples_leaf=1, clf__min_samples_split=2, clf__n_estimators=200, total=   3.0s\n",
      "[CV] clf__criterion=gini, clf__max_depth=2, clf__min_samples_leaf=1, clf__min_samples_split=2, clf__n_estimators=200 \n"
     ]
    },
    {
     "name": "stderr",
     "output_type": "stream",
     "text": [
      "/anaconda3/lib/python3.7/site-packages/sklearn/metrics/classification.py:1143: UndefinedMetricWarning: F-score is ill-defined and being set to 0.0 in labels with no predicted samples.\n",
      "  'precision', 'predicted', average, warn_for)\n",
      "/anaconda3/lib/python3.7/site-packages/sklearn/metrics/classification.py:1143: UndefinedMetricWarning: F-score is ill-defined and being set to 0.0 in labels with no predicted samples.\n",
      "  'precision', 'predicted', average, warn_for)\n"
     ]
    },
    {
     "name": "stdout",
     "output_type": "stream",
     "text": [
      "[CV]  clf__criterion=gini, clf__max_depth=2, clf__min_samples_leaf=1, clf__min_samples_split=2, clf__n_estimators=200, total=   2.9s\n",
      "[CV] clf__criterion=gini, clf__max_depth=2, clf__min_samples_leaf=1, clf__min_samples_split=2, clf__n_estimators=200 \n"
     ]
    },
    {
     "name": "stderr",
     "output_type": "stream",
     "text": [
      "/anaconda3/lib/python3.7/site-packages/sklearn/metrics/classification.py:1143: UndefinedMetricWarning: F-score is ill-defined and being set to 0.0 in labels with no predicted samples.\n",
      "  'precision', 'predicted', average, warn_for)\n",
      "/anaconda3/lib/python3.7/site-packages/sklearn/metrics/classification.py:1143: UndefinedMetricWarning: F-score is ill-defined and being set to 0.0 in labels with no predicted samples.\n",
      "  'precision', 'predicted', average, warn_for)\n",
      "/anaconda3/lib/python3.7/site-packages/sklearn/metrics/classification.py:1143: UndefinedMetricWarning: F-score is ill-defined and being set to 0.0 in labels with no predicted samples.\n",
      "  'precision', 'predicted', average, warn_for)\n",
      "/anaconda3/lib/python3.7/site-packages/sklearn/metrics/classification.py:1143: UndefinedMetricWarning: F-score is ill-defined and being set to 0.0 in labels with no predicted samples.\n",
      "  'precision', 'predicted', average, warn_for)\n"
     ]
    },
    {
     "name": "stdout",
     "output_type": "stream",
     "text": [
      "[CV]  clf__criterion=gini, clf__max_depth=2, clf__min_samples_leaf=1, clf__min_samples_split=2, clf__n_estimators=200, total=   2.9s\n",
      "[CV] clf__criterion=gini, clf__max_depth=2, clf__min_samples_leaf=1, clf__min_samples_split=4, clf__n_estimators=10 \n",
      "[CV]  clf__criterion=gini, clf__max_depth=2, clf__min_samples_leaf=1, clf__min_samples_split=4, clf__n_estimators=10, total=   0.2s\n",
      "[CV] clf__criterion=gini, clf__max_depth=2, clf__min_samples_leaf=1, clf__min_samples_split=4, clf__n_estimators=10 \n"
     ]
    },
    {
     "name": "stderr",
     "output_type": "stream",
     "text": [
      "/anaconda3/lib/python3.7/site-packages/sklearn/metrics/classification.py:1143: UndefinedMetricWarning: F-score is ill-defined and being set to 0.0 in labels with no predicted samples.\n",
      "  'precision', 'predicted', average, warn_for)\n",
      "/anaconda3/lib/python3.7/site-packages/sklearn/metrics/classification.py:1143: UndefinedMetricWarning: F-score is ill-defined and being set to 0.0 in labels with no predicted samples.\n",
      "  'precision', 'predicted', average, warn_for)\n",
      "/anaconda3/lib/python3.7/site-packages/sklearn/metrics/classification.py:1143: UndefinedMetricWarning: F-score is ill-defined and being set to 0.0 in labels with no predicted samples.\n",
      "  'precision', 'predicted', average, warn_for)\n"
     ]
    },
    {
     "name": "stdout",
     "output_type": "stream",
     "text": [
      "[CV]  clf__criterion=gini, clf__max_depth=2, clf__min_samples_leaf=1, clf__min_samples_split=4, clf__n_estimators=10, total=   0.2s\n",
      "[CV] clf__criterion=gini, clf__max_depth=2, clf__min_samples_leaf=1, clf__min_samples_split=4, clf__n_estimators=10 \n",
      "[CV]  clf__criterion=gini, clf__max_depth=2, clf__min_samples_leaf=1, clf__min_samples_split=4, clf__n_estimators=10, total=   0.2s\n",
      "[CV] clf__criterion=gini, clf__max_depth=2, clf__min_samples_leaf=1, clf__min_samples_split=4, clf__n_estimators=50 \n"
     ]
    },
    {
     "name": "stderr",
     "output_type": "stream",
     "text": [
      "/anaconda3/lib/python3.7/site-packages/sklearn/metrics/classification.py:1143: UndefinedMetricWarning: F-score is ill-defined and being set to 0.0 in labels with no predicted samples.\n",
      "  'precision', 'predicted', average, warn_for)\n",
      "/anaconda3/lib/python3.7/site-packages/sklearn/metrics/classification.py:1143: UndefinedMetricWarning: F-score is ill-defined and being set to 0.0 in labels with no predicted samples.\n",
      "  'precision', 'predicted', average, warn_for)\n",
      "/anaconda3/lib/python3.7/site-packages/sklearn/metrics/classification.py:1143: UndefinedMetricWarning: F-score is ill-defined and being set to 0.0 in labels with no predicted samples.\n",
      "  'precision', 'predicted', average, warn_for)\n"
     ]
    },
    {
     "name": "stdout",
     "output_type": "stream",
     "text": [
      "[CV]  clf__criterion=gini, clf__max_depth=2, clf__min_samples_leaf=1, clf__min_samples_split=4, clf__n_estimators=50, total=   0.8s\n",
      "[CV] clf__criterion=gini, clf__max_depth=2, clf__min_samples_leaf=1, clf__min_samples_split=4, clf__n_estimators=50 \n"
     ]
    },
    {
     "name": "stderr",
     "output_type": "stream",
     "text": [
      "/anaconda3/lib/python3.7/site-packages/sklearn/metrics/classification.py:1143: UndefinedMetricWarning: F-score is ill-defined and being set to 0.0 in labels with no predicted samples.\n",
      "  'precision', 'predicted', average, warn_for)\n",
      "/anaconda3/lib/python3.7/site-packages/sklearn/metrics/classification.py:1143: UndefinedMetricWarning: F-score is ill-defined and being set to 0.0 in labels with no predicted samples.\n",
      "  'precision', 'predicted', average, warn_for)\n"
     ]
    },
    {
     "name": "stdout",
     "output_type": "stream",
     "text": [
      "[CV]  clf__criterion=gini, clf__max_depth=2, clf__min_samples_leaf=1, clf__min_samples_split=4, clf__n_estimators=50, total=   0.7s\n",
      "[CV] clf__criterion=gini, clf__max_depth=2, clf__min_samples_leaf=1, clf__min_samples_split=4, clf__n_estimators=50 \n"
     ]
    },
    {
     "name": "stderr",
     "output_type": "stream",
     "text": [
      "/anaconda3/lib/python3.7/site-packages/sklearn/metrics/classification.py:1143: UndefinedMetricWarning: F-score is ill-defined and being set to 0.0 in labels with no predicted samples.\n",
      "  'precision', 'predicted', average, warn_for)\n",
      "/anaconda3/lib/python3.7/site-packages/sklearn/metrics/classification.py:1143: UndefinedMetricWarning: F-score is ill-defined and being set to 0.0 in labels with no predicted samples.\n",
      "  'precision', 'predicted', average, warn_for)\n"
     ]
    },
    {
     "name": "stdout",
     "output_type": "stream",
     "text": [
      "[CV]  clf__criterion=gini, clf__max_depth=2, clf__min_samples_leaf=1, clf__min_samples_split=4, clf__n_estimators=50, total=   0.7s\n",
      "[CV] clf__criterion=gini, clf__max_depth=2, clf__min_samples_leaf=1, clf__min_samples_split=4, clf__n_estimators=100 \n"
     ]
    },
    {
     "name": "stderr",
     "output_type": "stream",
     "text": [
      "/anaconda3/lib/python3.7/site-packages/sklearn/metrics/classification.py:1143: UndefinedMetricWarning: F-score is ill-defined and being set to 0.0 in labels with no predicted samples.\n",
      "  'precision', 'predicted', average, warn_for)\n",
      "/anaconda3/lib/python3.7/site-packages/sklearn/metrics/classification.py:1143: UndefinedMetricWarning: F-score is ill-defined and being set to 0.0 in labels with no predicted samples.\n",
      "  'precision', 'predicted', average, warn_for)\n"
     ]
    },
    {
     "name": "stdout",
     "output_type": "stream",
     "text": [
      "[CV]  clf__criterion=gini, clf__max_depth=2, clf__min_samples_leaf=1, clf__min_samples_split=4, clf__n_estimators=100, total=   1.4s\n",
      "[CV] clf__criterion=gini, clf__max_depth=2, clf__min_samples_leaf=1, clf__min_samples_split=4, clf__n_estimators=100 \n"
     ]
    },
    {
     "name": "stderr",
     "output_type": "stream",
     "text": [
      "/anaconda3/lib/python3.7/site-packages/sklearn/metrics/classification.py:1143: UndefinedMetricWarning: F-score is ill-defined and being set to 0.0 in labels with no predicted samples.\n",
      "  'precision', 'predicted', average, warn_for)\n",
      "/anaconda3/lib/python3.7/site-packages/sklearn/metrics/classification.py:1143: UndefinedMetricWarning: F-score is ill-defined and being set to 0.0 in labels with no predicted samples.\n",
      "  'precision', 'predicted', average, warn_for)\n"
     ]
    },
    {
     "name": "stdout",
     "output_type": "stream",
     "text": [
      "[CV]  clf__criterion=gini, clf__max_depth=2, clf__min_samples_leaf=1, clf__min_samples_split=4, clf__n_estimators=100, total=   1.4s\n",
      "[CV] clf__criterion=gini, clf__max_depth=2, clf__min_samples_leaf=1, clf__min_samples_split=4, clf__n_estimators=100 \n"
     ]
    },
    {
     "name": "stderr",
     "output_type": "stream",
     "text": [
      "/anaconda3/lib/python3.7/site-packages/sklearn/metrics/classification.py:1143: UndefinedMetricWarning: F-score is ill-defined and being set to 0.0 in labels with no predicted samples.\n",
      "  'precision', 'predicted', average, warn_for)\n",
      "/anaconda3/lib/python3.7/site-packages/sklearn/metrics/classification.py:1143: UndefinedMetricWarning: F-score is ill-defined and being set to 0.0 in labels with no predicted samples.\n",
      "  'precision', 'predicted', average, warn_for)\n"
     ]
    },
    {
     "name": "stdout",
     "output_type": "stream",
     "text": [
      "[CV]  clf__criterion=gini, clf__max_depth=2, clf__min_samples_leaf=1, clf__min_samples_split=4, clf__n_estimators=100, total=   1.4s\n",
      "[CV] clf__criterion=gini, clf__max_depth=2, clf__min_samples_leaf=1, clf__min_samples_split=4, clf__n_estimators=200 \n"
     ]
    },
    {
     "name": "stderr",
     "output_type": "stream",
     "text": [
      "/anaconda3/lib/python3.7/site-packages/sklearn/metrics/classification.py:1143: UndefinedMetricWarning: F-score is ill-defined and being set to 0.0 in labels with no predicted samples.\n",
      "  'precision', 'predicted', average, warn_for)\n",
      "/anaconda3/lib/python3.7/site-packages/sklearn/metrics/classification.py:1143: UndefinedMetricWarning: F-score is ill-defined and being set to 0.0 in labels with no predicted samples.\n",
      "  'precision', 'predicted', average, warn_for)\n"
     ]
    },
    {
     "name": "stdout",
     "output_type": "stream",
     "text": [
      "[CV]  clf__criterion=gini, clf__max_depth=2, clf__min_samples_leaf=1, clf__min_samples_split=4, clf__n_estimators=200, total=   2.9s\n",
      "[CV] clf__criterion=gini, clf__max_depth=2, clf__min_samples_leaf=1, clf__min_samples_split=4, clf__n_estimators=200 \n"
     ]
    },
    {
     "name": "stderr",
     "output_type": "stream",
     "text": [
      "/anaconda3/lib/python3.7/site-packages/sklearn/metrics/classification.py:1143: UndefinedMetricWarning: F-score is ill-defined and being set to 0.0 in labels with no predicted samples.\n",
      "  'precision', 'predicted', average, warn_for)\n",
      "/anaconda3/lib/python3.7/site-packages/sklearn/metrics/classification.py:1143: UndefinedMetricWarning: F-score is ill-defined and being set to 0.0 in labels with no predicted samples.\n",
      "  'precision', 'predicted', average, warn_for)\n"
     ]
    },
    {
     "name": "stdout",
     "output_type": "stream",
     "text": [
      "[CV]  clf__criterion=gini, clf__max_depth=2, clf__min_samples_leaf=1, clf__min_samples_split=4, clf__n_estimators=200, total=   2.9s\n",
      "[CV] clf__criterion=gini, clf__max_depth=2, clf__min_samples_leaf=1, clf__min_samples_split=4, clf__n_estimators=200 \n"
     ]
    },
    {
     "name": "stderr",
     "output_type": "stream",
     "text": [
      "/anaconda3/lib/python3.7/site-packages/sklearn/metrics/classification.py:1143: UndefinedMetricWarning: F-score is ill-defined and being set to 0.0 in labels with no predicted samples.\n",
      "  'precision', 'predicted', average, warn_for)\n",
      "/anaconda3/lib/python3.7/site-packages/sklearn/metrics/classification.py:1143: UndefinedMetricWarning: F-score is ill-defined and being set to 0.0 in labels with no predicted samples.\n",
      "  'precision', 'predicted', average, warn_for)\n",
      "/anaconda3/lib/python3.7/site-packages/sklearn/metrics/classification.py:1143: UndefinedMetricWarning: F-score is ill-defined and being set to 0.0 in labels with no predicted samples.\n",
      "  'precision', 'predicted', average, warn_for)\n",
      "/anaconda3/lib/python3.7/site-packages/sklearn/metrics/classification.py:1143: UndefinedMetricWarning: F-score is ill-defined and being set to 0.0 in labels with no predicted samples.\n",
      "  'precision', 'predicted', average, warn_for)\n"
     ]
    },
    {
     "name": "stdout",
     "output_type": "stream",
     "text": [
      "[CV]  clf__criterion=gini, clf__max_depth=2, clf__min_samples_leaf=1, clf__min_samples_split=4, clf__n_estimators=200, total=   3.0s\n",
      "[CV] clf__criterion=gini, clf__max_depth=2, clf__min_samples_leaf=1, clf__min_samples_split=8, clf__n_estimators=10 \n",
      "[CV]  clf__criterion=gini, clf__max_depth=2, clf__min_samples_leaf=1, clf__min_samples_split=8, clf__n_estimators=10, total=   0.2s\n",
      "[CV] clf__criterion=gini, clf__max_depth=2, clf__min_samples_leaf=1, clf__min_samples_split=8, clf__n_estimators=10 \n"
     ]
    },
    {
     "name": "stderr",
     "output_type": "stream",
     "text": [
      "/anaconda3/lib/python3.7/site-packages/sklearn/metrics/classification.py:1143: UndefinedMetricWarning: F-score is ill-defined and being set to 0.0 in labels with no predicted samples.\n",
      "  'precision', 'predicted', average, warn_for)\n",
      "/anaconda3/lib/python3.7/site-packages/sklearn/metrics/classification.py:1143: UndefinedMetricWarning: F-score is ill-defined and being set to 0.0 in labels with no predicted samples.\n",
      "  'precision', 'predicted', average, warn_for)\n",
      "/anaconda3/lib/python3.7/site-packages/sklearn/metrics/classification.py:1143: UndefinedMetricWarning: F-score is ill-defined and being set to 0.0 in labels with no predicted samples.\n",
      "  'precision', 'predicted', average, warn_for)\n"
     ]
    },
    {
     "name": "stdout",
     "output_type": "stream",
     "text": [
      "[CV]  clf__criterion=gini, clf__max_depth=2, clf__min_samples_leaf=1, clf__min_samples_split=8, clf__n_estimators=10, total=   0.2s\n",
      "[CV] clf__criterion=gini, clf__max_depth=2, clf__min_samples_leaf=1, clf__min_samples_split=8, clf__n_estimators=10 \n",
      "[CV]  clf__criterion=gini, clf__max_depth=2, clf__min_samples_leaf=1, clf__min_samples_split=8, clf__n_estimators=10, total=   0.2s\n",
      "[CV] clf__criterion=gini, clf__max_depth=2, clf__min_samples_leaf=1, clf__min_samples_split=8, clf__n_estimators=50 \n"
     ]
    },
    {
     "name": "stderr",
     "output_type": "stream",
     "text": [
      "/anaconda3/lib/python3.7/site-packages/sklearn/metrics/classification.py:1143: UndefinedMetricWarning: F-score is ill-defined and being set to 0.0 in labels with no predicted samples.\n",
      "  'precision', 'predicted', average, warn_for)\n",
      "/anaconda3/lib/python3.7/site-packages/sklearn/metrics/classification.py:1143: UndefinedMetricWarning: F-score is ill-defined and being set to 0.0 in labels with no predicted samples.\n",
      "  'precision', 'predicted', average, warn_for)\n",
      "/anaconda3/lib/python3.7/site-packages/sklearn/metrics/classification.py:1143: UndefinedMetricWarning: F-score is ill-defined and being set to 0.0 in labels with no predicted samples.\n",
      "  'precision', 'predicted', average, warn_for)\n"
     ]
    },
    {
     "name": "stdout",
     "output_type": "stream",
     "text": [
      "[CV]  clf__criterion=gini, clf__max_depth=2, clf__min_samples_leaf=1, clf__min_samples_split=8, clf__n_estimators=50, total=   0.7s\n",
      "[CV] clf__criterion=gini, clf__max_depth=2, clf__min_samples_leaf=1, clf__min_samples_split=8, clf__n_estimators=50 \n"
     ]
    },
    {
     "name": "stderr",
     "output_type": "stream",
     "text": [
      "/anaconda3/lib/python3.7/site-packages/sklearn/metrics/classification.py:1143: UndefinedMetricWarning: F-score is ill-defined and being set to 0.0 in labels with no predicted samples.\n",
      "  'precision', 'predicted', average, warn_for)\n",
      "/anaconda3/lib/python3.7/site-packages/sklearn/metrics/classification.py:1143: UndefinedMetricWarning: F-score is ill-defined and being set to 0.0 in labels with no predicted samples.\n",
      "  'precision', 'predicted', average, warn_for)\n"
     ]
    },
    {
     "name": "stdout",
     "output_type": "stream",
     "text": [
      "[CV]  clf__criterion=gini, clf__max_depth=2, clf__min_samples_leaf=1, clf__min_samples_split=8, clf__n_estimators=50, total=   0.7s\n",
      "[CV] clf__criterion=gini, clf__max_depth=2, clf__min_samples_leaf=1, clf__min_samples_split=8, clf__n_estimators=50 \n"
     ]
    },
    {
     "name": "stderr",
     "output_type": "stream",
     "text": [
      "/anaconda3/lib/python3.7/site-packages/sklearn/metrics/classification.py:1143: UndefinedMetricWarning: F-score is ill-defined and being set to 0.0 in labels with no predicted samples.\n",
      "  'precision', 'predicted', average, warn_for)\n",
      "/anaconda3/lib/python3.7/site-packages/sklearn/metrics/classification.py:1143: UndefinedMetricWarning: F-score is ill-defined and being set to 0.0 in labels with no predicted samples.\n",
      "  'precision', 'predicted', average, warn_for)\n"
     ]
    },
    {
     "name": "stdout",
     "output_type": "stream",
     "text": [
      "[CV]  clf__criterion=gini, clf__max_depth=2, clf__min_samples_leaf=1, clf__min_samples_split=8, clf__n_estimators=50, total=   0.8s\n",
      "[CV] clf__criterion=gini, clf__max_depth=2, clf__min_samples_leaf=1, clf__min_samples_split=8, clf__n_estimators=100 \n"
     ]
    },
    {
     "name": "stderr",
     "output_type": "stream",
     "text": [
      "/anaconda3/lib/python3.7/site-packages/sklearn/metrics/classification.py:1143: UndefinedMetricWarning: F-score is ill-defined and being set to 0.0 in labels with no predicted samples.\n",
      "  'precision', 'predicted', average, warn_for)\n",
      "/anaconda3/lib/python3.7/site-packages/sklearn/metrics/classification.py:1143: UndefinedMetricWarning: F-score is ill-defined and being set to 0.0 in labels with no predicted samples.\n",
      "  'precision', 'predicted', average, warn_for)\n"
     ]
    },
    {
     "name": "stdout",
     "output_type": "stream",
     "text": [
      "[CV]  clf__criterion=gini, clf__max_depth=2, clf__min_samples_leaf=1, clf__min_samples_split=8, clf__n_estimators=100, total=   1.5s\n",
      "[CV] clf__criterion=gini, clf__max_depth=2, clf__min_samples_leaf=1, clf__min_samples_split=8, clf__n_estimators=100 \n"
     ]
    },
    {
     "name": "stderr",
     "output_type": "stream",
     "text": [
      "/anaconda3/lib/python3.7/site-packages/sklearn/metrics/classification.py:1143: UndefinedMetricWarning: F-score is ill-defined and being set to 0.0 in labels with no predicted samples.\n",
      "  'precision', 'predicted', average, warn_for)\n",
      "/anaconda3/lib/python3.7/site-packages/sklearn/metrics/classification.py:1143: UndefinedMetricWarning: F-score is ill-defined and being set to 0.0 in labels with no predicted samples.\n",
      "  'precision', 'predicted', average, warn_for)\n"
     ]
    },
    {
     "name": "stdout",
     "output_type": "stream",
     "text": [
      "[CV]  clf__criterion=gini, clf__max_depth=2, clf__min_samples_leaf=1, clf__min_samples_split=8, clf__n_estimators=100, total=   1.5s\n",
      "[CV] clf__criterion=gini, clf__max_depth=2, clf__min_samples_leaf=1, clf__min_samples_split=8, clf__n_estimators=100 \n"
     ]
    },
    {
     "name": "stderr",
     "output_type": "stream",
     "text": [
      "/anaconda3/lib/python3.7/site-packages/sklearn/metrics/classification.py:1143: UndefinedMetricWarning: F-score is ill-defined and being set to 0.0 in labels with no predicted samples.\n",
      "  'precision', 'predicted', average, warn_for)\n",
      "/anaconda3/lib/python3.7/site-packages/sklearn/metrics/classification.py:1143: UndefinedMetricWarning: F-score is ill-defined and being set to 0.0 in labels with no predicted samples.\n",
      "  'precision', 'predicted', average, warn_for)\n"
     ]
    },
    {
     "name": "stdout",
     "output_type": "stream",
     "text": [
      "[CV]  clf__criterion=gini, clf__max_depth=2, clf__min_samples_leaf=1, clf__min_samples_split=8, clf__n_estimators=100, total=   1.9s\n",
      "[CV] clf__criterion=gini, clf__max_depth=2, clf__min_samples_leaf=1, clf__min_samples_split=8, clf__n_estimators=200 \n"
     ]
    },
    {
     "name": "stderr",
     "output_type": "stream",
     "text": [
      "/anaconda3/lib/python3.7/site-packages/sklearn/metrics/classification.py:1143: UndefinedMetricWarning: F-score is ill-defined and being set to 0.0 in labels with no predicted samples.\n",
      "  'precision', 'predicted', average, warn_for)\n",
      "/anaconda3/lib/python3.7/site-packages/sklearn/metrics/classification.py:1143: UndefinedMetricWarning: F-score is ill-defined and being set to 0.0 in labels with no predicted samples.\n",
      "  'precision', 'predicted', average, warn_for)\n"
     ]
    },
    {
     "name": "stdout",
     "output_type": "stream",
     "text": [
      "[CV]  clf__criterion=gini, clf__max_depth=2, clf__min_samples_leaf=1, clf__min_samples_split=8, clf__n_estimators=200, total=   3.4s\n",
      "[CV] clf__criterion=gini, clf__max_depth=2, clf__min_samples_leaf=1, clf__min_samples_split=8, clf__n_estimators=200 \n"
     ]
    },
    {
     "name": "stderr",
     "output_type": "stream",
     "text": [
      "/anaconda3/lib/python3.7/site-packages/sklearn/metrics/classification.py:1143: UndefinedMetricWarning: F-score is ill-defined and being set to 0.0 in labels with no predicted samples.\n",
      "  'precision', 'predicted', average, warn_for)\n",
      "/anaconda3/lib/python3.7/site-packages/sklearn/metrics/classification.py:1143: UndefinedMetricWarning: F-score is ill-defined and being set to 0.0 in labels with no predicted samples.\n",
      "  'precision', 'predicted', average, warn_for)\n"
     ]
    },
    {
     "name": "stdout",
     "output_type": "stream",
     "text": [
      "[CV]  clf__criterion=gini, clf__max_depth=2, clf__min_samples_leaf=1, clf__min_samples_split=8, clf__n_estimators=200, total=   3.2s\n",
      "[CV] clf__criterion=gini, clf__max_depth=2, clf__min_samples_leaf=1, clf__min_samples_split=8, clf__n_estimators=200 \n"
     ]
    },
    {
     "name": "stderr",
     "output_type": "stream",
     "text": [
      "/anaconda3/lib/python3.7/site-packages/sklearn/metrics/classification.py:1143: UndefinedMetricWarning: F-score is ill-defined and being set to 0.0 in labels with no predicted samples.\n",
      "  'precision', 'predicted', average, warn_for)\n",
      "/anaconda3/lib/python3.7/site-packages/sklearn/metrics/classification.py:1143: UndefinedMetricWarning: F-score is ill-defined and being set to 0.0 in labels with no predicted samples.\n",
      "  'precision', 'predicted', average, warn_for)\n",
      "/anaconda3/lib/python3.7/site-packages/sklearn/metrics/classification.py:1143: UndefinedMetricWarning: F-score is ill-defined and being set to 0.0 in labels with no predicted samples.\n",
      "  'precision', 'predicted', average, warn_for)\n",
      "/anaconda3/lib/python3.7/site-packages/sklearn/metrics/classification.py:1143: UndefinedMetricWarning: F-score is ill-defined and being set to 0.0 in labels with no predicted samples.\n",
      "  'precision', 'predicted', average, warn_for)\n"
     ]
    },
    {
     "name": "stdout",
     "output_type": "stream",
     "text": [
      "[CV]  clf__criterion=gini, clf__max_depth=2, clf__min_samples_leaf=1, clf__min_samples_split=8, clf__n_estimators=200, total=   2.9s\n",
      "[CV] clf__criterion=gini, clf__max_depth=2, clf__min_samples_leaf=2, clf__min_samples_split=2, clf__n_estimators=10 \n",
      "[CV]  clf__criterion=gini, clf__max_depth=2, clf__min_samples_leaf=2, clf__min_samples_split=2, clf__n_estimators=10, total=   0.2s\n",
      "[CV] clf__criterion=gini, clf__max_depth=2, clf__min_samples_leaf=2, clf__min_samples_split=2, clf__n_estimators=10 \n"
     ]
    },
    {
     "name": "stderr",
     "output_type": "stream",
     "text": [
      "/anaconda3/lib/python3.7/site-packages/sklearn/metrics/classification.py:1143: UndefinedMetricWarning: F-score is ill-defined and being set to 0.0 in labels with no predicted samples.\n",
      "  'precision', 'predicted', average, warn_for)\n",
      "/anaconda3/lib/python3.7/site-packages/sklearn/metrics/classification.py:1143: UndefinedMetricWarning: F-score is ill-defined and being set to 0.0 in labels with no predicted samples.\n",
      "  'precision', 'predicted', average, warn_for)\n",
      "/anaconda3/lib/python3.7/site-packages/sklearn/metrics/classification.py:1143: UndefinedMetricWarning: F-score is ill-defined and being set to 0.0 in labels with no predicted samples.\n",
      "  'precision', 'predicted', average, warn_for)\n"
     ]
    },
    {
     "name": "stdout",
     "output_type": "stream",
     "text": [
      "[CV]  clf__criterion=gini, clf__max_depth=2, clf__min_samples_leaf=2, clf__min_samples_split=2, clf__n_estimators=10, total=   0.2s\n",
      "[CV] clf__criterion=gini, clf__max_depth=2, clf__min_samples_leaf=2, clf__min_samples_split=2, clf__n_estimators=10 \n",
      "[CV]  clf__criterion=gini, clf__max_depth=2, clf__min_samples_leaf=2, clf__min_samples_split=2, clf__n_estimators=10, total=   0.2s\n",
      "[CV] clf__criterion=gini, clf__max_depth=2, clf__min_samples_leaf=2, clf__min_samples_split=2, clf__n_estimators=50 \n"
     ]
    },
    {
     "name": "stderr",
     "output_type": "stream",
     "text": [
      "/anaconda3/lib/python3.7/site-packages/sklearn/metrics/classification.py:1143: UndefinedMetricWarning: F-score is ill-defined and being set to 0.0 in labels with no predicted samples.\n",
      "  'precision', 'predicted', average, warn_for)\n",
      "/anaconda3/lib/python3.7/site-packages/sklearn/metrics/classification.py:1143: UndefinedMetricWarning: F-score is ill-defined and being set to 0.0 in labels with no predicted samples.\n",
      "  'precision', 'predicted', average, warn_for)\n",
      "/anaconda3/lib/python3.7/site-packages/sklearn/metrics/classification.py:1143: UndefinedMetricWarning: F-score is ill-defined and being set to 0.0 in labels with no predicted samples.\n",
      "  'precision', 'predicted', average, warn_for)\n"
     ]
    },
    {
     "name": "stdout",
     "output_type": "stream",
     "text": [
      "[CV]  clf__criterion=gini, clf__max_depth=2, clf__min_samples_leaf=2, clf__min_samples_split=2, clf__n_estimators=50, total=   0.9s\n",
      "[CV] clf__criterion=gini, clf__max_depth=2, clf__min_samples_leaf=2, clf__min_samples_split=2, clf__n_estimators=50 \n"
     ]
    },
    {
     "name": "stderr",
     "output_type": "stream",
     "text": [
      "/anaconda3/lib/python3.7/site-packages/sklearn/metrics/classification.py:1143: UndefinedMetricWarning: F-score is ill-defined and being set to 0.0 in labels with no predicted samples.\n",
      "  'precision', 'predicted', average, warn_for)\n",
      "/anaconda3/lib/python3.7/site-packages/sklearn/metrics/classification.py:1143: UndefinedMetricWarning: F-score is ill-defined and being set to 0.0 in labels with no predicted samples.\n",
      "  'precision', 'predicted', average, warn_for)\n"
     ]
    },
    {
     "name": "stdout",
     "output_type": "stream",
     "text": [
      "[CV]  clf__criterion=gini, clf__max_depth=2, clf__min_samples_leaf=2, clf__min_samples_split=2, clf__n_estimators=50, total=   0.9s\n",
      "[CV] clf__criterion=gini, clf__max_depth=2, clf__min_samples_leaf=2, clf__min_samples_split=2, clf__n_estimators=50 \n"
     ]
    },
    {
     "name": "stderr",
     "output_type": "stream",
     "text": [
      "/anaconda3/lib/python3.7/site-packages/sklearn/metrics/classification.py:1143: UndefinedMetricWarning: F-score is ill-defined and being set to 0.0 in labels with no predicted samples.\n",
      "  'precision', 'predicted', average, warn_for)\n",
      "/anaconda3/lib/python3.7/site-packages/sklearn/metrics/classification.py:1143: UndefinedMetricWarning: F-score is ill-defined and being set to 0.0 in labels with no predicted samples.\n",
      "  'precision', 'predicted', average, warn_for)\n"
     ]
    },
    {
     "name": "stdout",
     "output_type": "stream",
     "text": [
      "[CV]  clf__criterion=gini, clf__max_depth=2, clf__min_samples_leaf=2, clf__min_samples_split=2, clf__n_estimators=50, total=   0.9s\n",
      "[CV] clf__criterion=gini, clf__max_depth=2, clf__min_samples_leaf=2, clf__min_samples_split=2, clf__n_estimators=100 \n"
     ]
    },
    {
     "name": "stderr",
     "output_type": "stream",
     "text": [
      "/anaconda3/lib/python3.7/site-packages/sklearn/metrics/classification.py:1143: UndefinedMetricWarning: F-score is ill-defined and being set to 0.0 in labels with no predicted samples.\n",
      "  'precision', 'predicted', average, warn_for)\n",
      "/anaconda3/lib/python3.7/site-packages/sklearn/metrics/classification.py:1143: UndefinedMetricWarning: F-score is ill-defined and being set to 0.0 in labels with no predicted samples.\n",
      "  'precision', 'predicted', average, warn_for)\n"
     ]
    },
    {
     "name": "stdout",
     "output_type": "stream",
     "text": [
      "[CV]  clf__criterion=gini, clf__max_depth=2, clf__min_samples_leaf=2, clf__min_samples_split=2, clf__n_estimators=100, total=   1.9s\n",
      "[CV] clf__criterion=gini, clf__max_depth=2, clf__min_samples_leaf=2, clf__min_samples_split=2, clf__n_estimators=100 \n"
     ]
    },
    {
     "name": "stderr",
     "output_type": "stream",
     "text": [
      "/anaconda3/lib/python3.7/site-packages/sklearn/metrics/classification.py:1143: UndefinedMetricWarning: F-score is ill-defined and being set to 0.0 in labels with no predicted samples.\n",
      "  'precision', 'predicted', average, warn_for)\n",
      "/anaconda3/lib/python3.7/site-packages/sklearn/metrics/classification.py:1143: UndefinedMetricWarning: F-score is ill-defined and being set to 0.0 in labels with no predicted samples.\n",
      "  'precision', 'predicted', average, warn_for)\n"
     ]
    },
    {
     "name": "stdout",
     "output_type": "stream",
     "text": [
      "[CV]  clf__criterion=gini, clf__max_depth=2, clf__min_samples_leaf=2, clf__min_samples_split=2, clf__n_estimators=100, total=   1.6s\n",
      "[CV] clf__criterion=gini, clf__max_depth=2, clf__min_samples_leaf=2, clf__min_samples_split=2, clf__n_estimators=100 \n"
     ]
    },
    {
     "name": "stderr",
     "output_type": "stream",
     "text": [
      "/anaconda3/lib/python3.7/site-packages/sklearn/metrics/classification.py:1143: UndefinedMetricWarning: F-score is ill-defined and being set to 0.0 in labels with no predicted samples.\n",
      "  'precision', 'predicted', average, warn_for)\n",
      "/anaconda3/lib/python3.7/site-packages/sklearn/metrics/classification.py:1143: UndefinedMetricWarning: F-score is ill-defined and being set to 0.0 in labels with no predicted samples.\n",
      "  'precision', 'predicted', average, warn_for)\n"
     ]
    },
    {
     "name": "stdout",
     "output_type": "stream",
     "text": [
      "[CV]  clf__criterion=gini, clf__max_depth=2, clf__min_samples_leaf=2, clf__min_samples_split=2, clf__n_estimators=100, total=   1.5s\n",
      "[CV] clf__criterion=gini, clf__max_depth=2, clf__min_samples_leaf=2, clf__min_samples_split=2, clf__n_estimators=200 \n"
     ]
    },
    {
     "name": "stderr",
     "output_type": "stream",
     "text": [
      "/anaconda3/lib/python3.7/site-packages/sklearn/metrics/classification.py:1143: UndefinedMetricWarning: F-score is ill-defined and being set to 0.0 in labels with no predicted samples.\n",
      "  'precision', 'predicted', average, warn_for)\n",
      "/anaconda3/lib/python3.7/site-packages/sklearn/metrics/classification.py:1143: UndefinedMetricWarning: F-score is ill-defined and being set to 0.0 in labels with no predicted samples.\n",
      "  'precision', 'predicted', average, warn_for)\n"
     ]
    },
    {
     "name": "stdout",
     "output_type": "stream",
     "text": [
      "[CV]  clf__criterion=gini, clf__max_depth=2, clf__min_samples_leaf=2, clf__min_samples_split=2, clf__n_estimators=200, total=   2.9s\n",
      "[CV] clf__criterion=gini, clf__max_depth=2, clf__min_samples_leaf=2, clf__min_samples_split=2, clf__n_estimators=200 \n"
     ]
    },
    {
     "name": "stderr",
     "output_type": "stream",
     "text": [
      "/anaconda3/lib/python3.7/site-packages/sklearn/metrics/classification.py:1143: UndefinedMetricWarning: F-score is ill-defined and being set to 0.0 in labels with no predicted samples.\n",
      "  'precision', 'predicted', average, warn_for)\n",
      "/anaconda3/lib/python3.7/site-packages/sklearn/metrics/classification.py:1143: UndefinedMetricWarning: F-score is ill-defined and being set to 0.0 in labels with no predicted samples.\n",
      "  'precision', 'predicted', average, warn_for)\n"
     ]
    },
    {
     "name": "stdout",
     "output_type": "stream",
     "text": [
      "[CV]  clf__criterion=gini, clf__max_depth=2, clf__min_samples_leaf=2, clf__min_samples_split=2, clf__n_estimators=200, total=   3.3s\n",
      "[CV] clf__criterion=gini, clf__max_depth=2, clf__min_samples_leaf=2, clf__min_samples_split=2, clf__n_estimators=200 \n"
     ]
    },
    {
     "name": "stderr",
     "output_type": "stream",
     "text": [
      "/anaconda3/lib/python3.7/site-packages/sklearn/metrics/classification.py:1143: UndefinedMetricWarning: F-score is ill-defined and being set to 0.0 in labels with no predicted samples.\n",
      "  'precision', 'predicted', average, warn_for)\n",
      "/anaconda3/lib/python3.7/site-packages/sklearn/metrics/classification.py:1143: UndefinedMetricWarning: F-score is ill-defined and being set to 0.0 in labels with no predicted samples.\n",
      "  'precision', 'predicted', average, warn_for)\n",
      "/anaconda3/lib/python3.7/site-packages/sklearn/metrics/classification.py:1143: UndefinedMetricWarning: F-score is ill-defined and being set to 0.0 in labels with no predicted samples.\n",
      "  'precision', 'predicted', average, warn_for)\n",
      "/anaconda3/lib/python3.7/site-packages/sklearn/metrics/classification.py:1143: UndefinedMetricWarning: F-score is ill-defined and being set to 0.0 in labels with no predicted samples.\n",
      "  'precision', 'predicted', average, warn_for)\n"
     ]
    },
    {
     "name": "stdout",
     "output_type": "stream",
     "text": [
      "[CV]  clf__criterion=gini, clf__max_depth=2, clf__min_samples_leaf=2, clf__min_samples_split=2, clf__n_estimators=200, total=   3.5s\n",
      "[CV] clf__criterion=gini, clf__max_depth=2, clf__min_samples_leaf=2, clf__min_samples_split=4, clf__n_estimators=10 \n",
      "[CV]  clf__criterion=gini, clf__max_depth=2, clf__min_samples_leaf=2, clf__min_samples_split=4, clf__n_estimators=10, total=   0.2s\n",
      "[CV] clf__criterion=gini, clf__max_depth=2, clf__min_samples_leaf=2, clf__min_samples_split=4, clf__n_estimators=10 \n"
     ]
    },
    {
     "name": "stderr",
     "output_type": "stream",
     "text": [
      "/anaconda3/lib/python3.7/site-packages/sklearn/metrics/classification.py:1143: UndefinedMetricWarning: F-score is ill-defined and being set to 0.0 in labels with no predicted samples.\n",
      "  'precision', 'predicted', average, warn_for)\n",
      "/anaconda3/lib/python3.7/site-packages/sklearn/metrics/classification.py:1143: UndefinedMetricWarning: F-score is ill-defined and being set to 0.0 in labels with no predicted samples.\n",
      "  'precision', 'predicted', average, warn_for)\n",
      "/anaconda3/lib/python3.7/site-packages/sklearn/metrics/classification.py:1143: UndefinedMetricWarning: F-score is ill-defined and being set to 0.0 in labels with no predicted samples.\n",
      "  'precision', 'predicted', average, warn_for)\n"
     ]
    },
    {
     "name": "stdout",
     "output_type": "stream",
     "text": [
      "[CV]  clf__criterion=gini, clf__max_depth=2, clf__min_samples_leaf=2, clf__min_samples_split=4, clf__n_estimators=10, total=   0.2s\n",
      "[CV] clf__criterion=gini, clf__max_depth=2, clf__min_samples_leaf=2, clf__min_samples_split=4, clf__n_estimators=10 \n",
      "[CV]  clf__criterion=gini, clf__max_depth=2, clf__min_samples_leaf=2, clf__min_samples_split=4, clf__n_estimators=10, total=   0.2s\n",
      "[CV] clf__criterion=gini, clf__max_depth=2, clf__min_samples_leaf=2, clf__min_samples_split=4, clf__n_estimators=50 \n"
     ]
    },
    {
     "name": "stderr",
     "output_type": "stream",
     "text": [
      "/anaconda3/lib/python3.7/site-packages/sklearn/metrics/classification.py:1143: UndefinedMetricWarning: F-score is ill-defined and being set to 0.0 in labels with no predicted samples.\n",
      "  'precision', 'predicted', average, warn_for)\n",
      "/anaconda3/lib/python3.7/site-packages/sklearn/metrics/classification.py:1143: UndefinedMetricWarning: F-score is ill-defined and being set to 0.0 in labels with no predicted samples.\n",
      "  'precision', 'predicted', average, warn_for)\n",
      "/anaconda3/lib/python3.7/site-packages/sklearn/metrics/classification.py:1143: UndefinedMetricWarning: F-score is ill-defined and being set to 0.0 in labels with no predicted samples.\n",
      "  'precision', 'predicted', average, warn_for)\n"
     ]
    },
    {
     "name": "stdout",
     "output_type": "stream",
     "text": [
      "[CV]  clf__criterion=gini, clf__max_depth=2, clf__min_samples_leaf=2, clf__min_samples_split=4, clf__n_estimators=50, total=   0.7s\n",
      "[CV] clf__criterion=gini, clf__max_depth=2, clf__min_samples_leaf=2, clf__min_samples_split=4, clf__n_estimators=50 \n"
     ]
    },
    {
     "name": "stderr",
     "output_type": "stream",
     "text": [
      "/anaconda3/lib/python3.7/site-packages/sklearn/metrics/classification.py:1143: UndefinedMetricWarning: F-score is ill-defined and being set to 0.0 in labels with no predicted samples.\n",
      "  'precision', 'predicted', average, warn_for)\n",
      "/anaconda3/lib/python3.7/site-packages/sklearn/metrics/classification.py:1143: UndefinedMetricWarning: F-score is ill-defined and being set to 0.0 in labels with no predicted samples.\n",
      "  'precision', 'predicted', average, warn_for)\n"
     ]
    },
    {
     "name": "stdout",
     "output_type": "stream",
     "text": [
      "[CV]  clf__criterion=gini, clf__max_depth=2, clf__min_samples_leaf=2, clf__min_samples_split=4, clf__n_estimators=50, total=   0.7s\n",
      "[CV] clf__criterion=gini, clf__max_depth=2, clf__min_samples_leaf=2, clf__min_samples_split=4, clf__n_estimators=50 \n"
     ]
    },
    {
     "name": "stderr",
     "output_type": "stream",
     "text": [
      "/anaconda3/lib/python3.7/site-packages/sklearn/metrics/classification.py:1143: UndefinedMetricWarning: F-score is ill-defined and being set to 0.0 in labels with no predicted samples.\n",
      "  'precision', 'predicted', average, warn_for)\n",
      "/anaconda3/lib/python3.7/site-packages/sklearn/metrics/classification.py:1143: UndefinedMetricWarning: F-score is ill-defined and being set to 0.0 in labels with no predicted samples.\n",
      "  'precision', 'predicted', average, warn_for)\n"
     ]
    },
    {
     "name": "stdout",
     "output_type": "stream",
     "text": [
      "[CV]  clf__criterion=gini, clf__max_depth=2, clf__min_samples_leaf=2, clf__min_samples_split=4, clf__n_estimators=50, total=   0.8s\n",
      "[CV] clf__criterion=gini, clf__max_depth=2, clf__min_samples_leaf=2, clf__min_samples_split=4, clf__n_estimators=100 \n"
     ]
    },
    {
     "name": "stderr",
     "output_type": "stream",
     "text": [
      "/anaconda3/lib/python3.7/site-packages/sklearn/metrics/classification.py:1143: UndefinedMetricWarning: F-score is ill-defined and being set to 0.0 in labels with no predicted samples.\n",
      "  'precision', 'predicted', average, warn_for)\n",
      "/anaconda3/lib/python3.7/site-packages/sklearn/metrics/classification.py:1143: UndefinedMetricWarning: F-score is ill-defined and being set to 0.0 in labels with no predicted samples.\n",
      "  'precision', 'predicted', average, warn_for)\n"
     ]
    },
    {
     "name": "stdout",
     "output_type": "stream",
     "text": [
      "[CV]  clf__criterion=gini, clf__max_depth=2, clf__min_samples_leaf=2, clf__min_samples_split=4, clf__n_estimators=100, total=   1.4s\n",
      "[CV] clf__criterion=gini, clf__max_depth=2, clf__min_samples_leaf=2, clf__min_samples_split=4, clf__n_estimators=100 \n"
     ]
    },
    {
     "name": "stderr",
     "output_type": "stream",
     "text": [
      "/anaconda3/lib/python3.7/site-packages/sklearn/metrics/classification.py:1143: UndefinedMetricWarning: F-score is ill-defined and being set to 0.0 in labels with no predicted samples.\n",
      "  'precision', 'predicted', average, warn_for)\n",
      "/anaconda3/lib/python3.7/site-packages/sklearn/metrics/classification.py:1143: UndefinedMetricWarning: F-score is ill-defined and being set to 0.0 in labels with no predicted samples.\n",
      "  'precision', 'predicted', average, warn_for)\n"
     ]
    },
    {
     "name": "stdout",
     "output_type": "stream",
     "text": [
      "[CV]  clf__criterion=gini, clf__max_depth=2, clf__min_samples_leaf=2, clf__min_samples_split=4, clf__n_estimators=100, total=   1.4s\n",
      "[CV] clf__criterion=gini, clf__max_depth=2, clf__min_samples_leaf=2, clf__min_samples_split=4, clf__n_estimators=100 \n"
     ]
    },
    {
     "name": "stderr",
     "output_type": "stream",
     "text": [
      "/anaconda3/lib/python3.7/site-packages/sklearn/metrics/classification.py:1143: UndefinedMetricWarning: F-score is ill-defined and being set to 0.0 in labels with no predicted samples.\n",
      "  'precision', 'predicted', average, warn_for)\n",
      "/anaconda3/lib/python3.7/site-packages/sklearn/metrics/classification.py:1143: UndefinedMetricWarning: F-score is ill-defined and being set to 0.0 in labels with no predicted samples.\n",
      "  'precision', 'predicted', average, warn_for)\n"
     ]
    },
    {
     "name": "stdout",
     "output_type": "stream",
     "text": [
      "[CV]  clf__criterion=gini, clf__max_depth=2, clf__min_samples_leaf=2, clf__min_samples_split=4, clf__n_estimators=100, total=   1.5s\n",
      "[CV] clf__criterion=gini, clf__max_depth=2, clf__min_samples_leaf=2, clf__min_samples_split=4, clf__n_estimators=200 \n"
     ]
    },
    {
     "name": "stderr",
     "output_type": "stream",
     "text": [
      "/anaconda3/lib/python3.7/site-packages/sklearn/metrics/classification.py:1143: UndefinedMetricWarning: F-score is ill-defined and being set to 0.0 in labels with no predicted samples.\n",
      "  'precision', 'predicted', average, warn_for)\n",
      "/anaconda3/lib/python3.7/site-packages/sklearn/metrics/classification.py:1143: UndefinedMetricWarning: F-score is ill-defined and being set to 0.0 in labels with no predicted samples.\n",
      "  'precision', 'predicted', average, warn_for)\n"
     ]
    },
    {
     "name": "stdout",
     "output_type": "stream",
     "text": [
      "[CV]  clf__criterion=gini, clf__max_depth=2, clf__min_samples_leaf=2, clf__min_samples_split=4, clf__n_estimators=200, total=   2.8s\n",
      "[CV] clf__criterion=gini, clf__max_depth=2, clf__min_samples_leaf=2, clf__min_samples_split=4, clf__n_estimators=200 \n"
     ]
    },
    {
     "name": "stderr",
     "output_type": "stream",
     "text": [
      "/anaconda3/lib/python3.7/site-packages/sklearn/metrics/classification.py:1143: UndefinedMetricWarning: F-score is ill-defined and being set to 0.0 in labels with no predicted samples.\n",
      "  'precision', 'predicted', average, warn_for)\n",
      "/anaconda3/lib/python3.7/site-packages/sklearn/metrics/classification.py:1143: UndefinedMetricWarning: F-score is ill-defined and being set to 0.0 in labels with no predicted samples.\n",
      "  'precision', 'predicted', average, warn_for)\n"
     ]
    },
    {
     "name": "stdout",
     "output_type": "stream",
     "text": [
      "[CV]  clf__criterion=gini, clf__max_depth=2, clf__min_samples_leaf=2, clf__min_samples_split=4, clf__n_estimators=200, total=   2.8s\n",
      "[CV] clf__criterion=gini, clf__max_depth=2, clf__min_samples_leaf=2, clf__min_samples_split=4, clf__n_estimators=200 \n"
     ]
    },
    {
     "name": "stderr",
     "output_type": "stream",
     "text": [
      "/anaconda3/lib/python3.7/site-packages/sklearn/metrics/classification.py:1143: UndefinedMetricWarning: F-score is ill-defined and being set to 0.0 in labels with no predicted samples.\n",
      "  'precision', 'predicted', average, warn_for)\n",
      "/anaconda3/lib/python3.7/site-packages/sklearn/metrics/classification.py:1143: UndefinedMetricWarning: F-score is ill-defined and being set to 0.0 in labels with no predicted samples.\n",
      "  'precision', 'predicted', average, warn_for)\n",
      "/anaconda3/lib/python3.7/site-packages/sklearn/metrics/classification.py:1143: UndefinedMetricWarning: F-score is ill-defined and being set to 0.0 in labels with no predicted samples.\n",
      "  'precision', 'predicted', average, warn_for)\n",
      "/anaconda3/lib/python3.7/site-packages/sklearn/metrics/classification.py:1143: UndefinedMetricWarning: F-score is ill-defined and being set to 0.0 in labels with no predicted samples.\n",
      "  'precision', 'predicted', average, warn_for)\n"
     ]
    },
    {
     "name": "stdout",
     "output_type": "stream",
     "text": [
      "[CV]  clf__criterion=gini, clf__max_depth=2, clf__min_samples_leaf=2, clf__min_samples_split=4, clf__n_estimators=200, total=   2.9s\n",
      "[CV] clf__criterion=gini, clf__max_depth=2, clf__min_samples_leaf=2, clf__min_samples_split=8, clf__n_estimators=10 \n",
      "[CV]  clf__criterion=gini, clf__max_depth=2, clf__min_samples_leaf=2, clf__min_samples_split=8, clf__n_estimators=10, total=   0.2s\n",
      "[CV] clf__criterion=gini, clf__max_depth=2, clf__min_samples_leaf=2, clf__min_samples_split=8, clf__n_estimators=10 \n"
     ]
    },
    {
     "name": "stderr",
     "output_type": "stream",
     "text": [
      "/anaconda3/lib/python3.7/site-packages/sklearn/metrics/classification.py:1143: UndefinedMetricWarning: F-score is ill-defined and being set to 0.0 in labels with no predicted samples.\n",
      "  'precision', 'predicted', average, warn_for)\n",
      "/anaconda3/lib/python3.7/site-packages/sklearn/metrics/classification.py:1143: UndefinedMetricWarning: F-score is ill-defined and being set to 0.0 in labels with no predicted samples.\n",
      "  'precision', 'predicted', average, warn_for)\n",
      "/anaconda3/lib/python3.7/site-packages/sklearn/metrics/classification.py:1143: UndefinedMetricWarning: F-score is ill-defined and being set to 0.0 in labels with no predicted samples.\n",
      "  'precision', 'predicted', average, warn_for)\n"
     ]
    },
    {
     "name": "stdout",
     "output_type": "stream",
     "text": [
      "[CV]  clf__criterion=gini, clf__max_depth=2, clf__min_samples_leaf=2, clf__min_samples_split=8, clf__n_estimators=10, total=   0.2s\n",
      "[CV] clf__criterion=gini, clf__max_depth=2, clf__min_samples_leaf=2, clf__min_samples_split=8, clf__n_estimators=10 \n",
      "[CV]  clf__criterion=gini, clf__max_depth=2, clf__min_samples_leaf=2, clf__min_samples_split=8, clf__n_estimators=10, total=   0.2s\n",
      "[CV] clf__criterion=gini, clf__max_depth=2, clf__min_samples_leaf=2, clf__min_samples_split=8, clf__n_estimators=50 \n"
     ]
    },
    {
     "name": "stderr",
     "output_type": "stream",
     "text": [
      "/anaconda3/lib/python3.7/site-packages/sklearn/metrics/classification.py:1143: UndefinedMetricWarning: F-score is ill-defined and being set to 0.0 in labels with no predicted samples.\n",
      "  'precision', 'predicted', average, warn_for)\n",
      "/anaconda3/lib/python3.7/site-packages/sklearn/metrics/classification.py:1143: UndefinedMetricWarning: F-score is ill-defined and being set to 0.0 in labels with no predicted samples.\n",
      "  'precision', 'predicted', average, warn_for)\n",
      "/anaconda3/lib/python3.7/site-packages/sklearn/metrics/classification.py:1143: UndefinedMetricWarning: F-score is ill-defined and being set to 0.0 in labels with no predicted samples.\n",
      "  'precision', 'predicted', average, warn_for)\n"
     ]
    },
    {
     "name": "stdout",
     "output_type": "stream",
     "text": [
      "[CV]  clf__criterion=gini, clf__max_depth=2, clf__min_samples_leaf=2, clf__min_samples_split=8, clf__n_estimators=50, total=   0.7s\n",
      "[CV] clf__criterion=gini, clf__max_depth=2, clf__min_samples_leaf=2, clf__min_samples_split=8, clf__n_estimators=50 \n"
     ]
    },
    {
     "name": "stderr",
     "output_type": "stream",
     "text": [
      "/anaconda3/lib/python3.7/site-packages/sklearn/metrics/classification.py:1143: UndefinedMetricWarning: F-score is ill-defined and being set to 0.0 in labels with no predicted samples.\n",
      "  'precision', 'predicted', average, warn_for)\n",
      "/anaconda3/lib/python3.7/site-packages/sklearn/metrics/classification.py:1143: UndefinedMetricWarning: F-score is ill-defined and being set to 0.0 in labels with no predicted samples.\n",
      "  'precision', 'predicted', average, warn_for)\n"
     ]
    },
    {
     "name": "stdout",
     "output_type": "stream",
     "text": [
      "[CV]  clf__criterion=gini, clf__max_depth=2, clf__min_samples_leaf=2, clf__min_samples_split=8, clf__n_estimators=50, total=   0.7s\n",
      "[CV] clf__criterion=gini, clf__max_depth=2, clf__min_samples_leaf=2, clf__min_samples_split=8, clf__n_estimators=50 \n"
     ]
    },
    {
     "name": "stderr",
     "output_type": "stream",
     "text": [
      "/anaconda3/lib/python3.7/site-packages/sklearn/metrics/classification.py:1143: UndefinedMetricWarning: F-score is ill-defined and being set to 0.0 in labels with no predicted samples.\n",
      "  'precision', 'predicted', average, warn_for)\n",
      "/anaconda3/lib/python3.7/site-packages/sklearn/metrics/classification.py:1143: UndefinedMetricWarning: F-score is ill-defined and being set to 0.0 in labels with no predicted samples.\n",
      "  'precision', 'predicted', average, warn_for)\n"
     ]
    },
    {
     "name": "stdout",
     "output_type": "stream",
     "text": [
      "[CV]  clf__criterion=gini, clf__max_depth=2, clf__min_samples_leaf=2, clf__min_samples_split=8, clf__n_estimators=50, total=   0.7s\n",
      "[CV] clf__criterion=gini, clf__max_depth=2, clf__min_samples_leaf=2, clf__min_samples_split=8, clf__n_estimators=100 \n"
     ]
    },
    {
     "name": "stderr",
     "output_type": "stream",
     "text": [
      "/anaconda3/lib/python3.7/site-packages/sklearn/metrics/classification.py:1143: UndefinedMetricWarning: F-score is ill-defined and being set to 0.0 in labels with no predicted samples.\n",
      "  'precision', 'predicted', average, warn_for)\n",
      "/anaconda3/lib/python3.7/site-packages/sklearn/metrics/classification.py:1143: UndefinedMetricWarning: F-score is ill-defined and being set to 0.0 in labels with no predicted samples.\n",
      "  'precision', 'predicted', average, warn_for)\n"
     ]
    },
    {
     "name": "stdout",
     "output_type": "stream",
     "text": [
      "[CV]  clf__criterion=gini, clf__max_depth=2, clf__min_samples_leaf=2, clf__min_samples_split=8, clf__n_estimators=100, total=   1.4s\n",
      "[CV] clf__criterion=gini, clf__max_depth=2, clf__min_samples_leaf=2, clf__min_samples_split=8, clf__n_estimators=100 \n"
     ]
    },
    {
     "name": "stderr",
     "output_type": "stream",
     "text": [
      "/anaconda3/lib/python3.7/site-packages/sklearn/metrics/classification.py:1143: UndefinedMetricWarning: F-score is ill-defined and being set to 0.0 in labels with no predicted samples.\n",
      "  'precision', 'predicted', average, warn_for)\n",
      "/anaconda3/lib/python3.7/site-packages/sklearn/metrics/classification.py:1143: UndefinedMetricWarning: F-score is ill-defined and being set to 0.0 in labels with no predicted samples.\n",
      "  'precision', 'predicted', average, warn_for)\n"
     ]
    },
    {
     "name": "stdout",
     "output_type": "stream",
     "text": [
      "[CV]  clf__criterion=gini, clf__max_depth=2, clf__min_samples_leaf=2, clf__min_samples_split=8, clf__n_estimators=100, total=   1.4s\n",
      "[CV] clf__criterion=gini, clf__max_depth=2, clf__min_samples_leaf=2, clf__min_samples_split=8, clf__n_estimators=100 \n"
     ]
    },
    {
     "name": "stderr",
     "output_type": "stream",
     "text": [
      "/anaconda3/lib/python3.7/site-packages/sklearn/metrics/classification.py:1143: UndefinedMetricWarning: F-score is ill-defined and being set to 0.0 in labels with no predicted samples.\n",
      "  'precision', 'predicted', average, warn_for)\n",
      "/anaconda3/lib/python3.7/site-packages/sklearn/metrics/classification.py:1143: UndefinedMetricWarning: F-score is ill-defined and being set to 0.0 in labels with no predicted samples.\n",
      "  'precision', 'predicted', average, warn_for)\n"
     ]
    },
    {
     "name": "stdout",
     "output_type": "stream",
     "text": [
      "[CV]  clf__criterion=gini, clf__max_depth=2, clf__min_samples_leaf=2, clf__min_samples_split=8, clf__n_estimators=100, total=   1.5s\n",
      "[CV] clf__criterion=gini, clf__max_depth=2, clf__min_samples_leaf=2, clf__min_samples_split=8, clf__n_estimators=200 \n"
     ]
    },
    {
     "name": "stderr",
     "output_type": "stream",
     "text": [
      "/anaconda3/lib/python3.7/site-packages/sklearn/metrics/classification.py:1143: UndefinedMetricWarning: F-score is ill-defined and being set to 0.0 in labels with no predicted samples.\n",
      "  'precision', 'predicted', average, warn_for)\n",
      "/anaconda3/lib/python3.7/site-packages/sklearn/metrics/classification.py:1143: UndefinedMetricWarning: F-score is ill-defined and being set to 0.0 in labels with no predicted samples.\n",
      "  'precision', 'predicted', average, warn_for)\n"
     ]
    },
    {
     "name": "stdout",
     "output_type": "stream",
     "text": [
      "[CV]  clf__criterion=gini, clf__max_depth=2, clf__min_samples_leaf=2, clf__min_samples_split=8, clf__n_estimators=200, total=   2.9s\n",
      "[CV] clf__criterion=gini, clf__max_depth=2, clf__min_samples_leaf=2, clf__min_samples_split=8, clf__n_estimators=200 \n"
     ]
    },
    {
     "name": "stderr",
     "output_type": "stream",
     "text": [
      "/anaconda3/lib/python3.7/site-packages/sklearn/metrics/classification.py:1143: UndefinedMetricWarning: F-score is ill-defined and being set to 0.0 in labels with no predicted samples.\n",
      "  'precision', 'predicted', average, warn_for)\n",
      "/anaconda3/lib/python3.7/site-packages/sklearn/metrics/classification.py:1143: UndefinedMetricWarning: F-score is ill-defined and being set to 0.0 in labels with no predicted samples.\n",
      "  'precision', 'predicted', average, warn_for)\n"
     ]
    },
    {
     "name": "stdout",
     "output_type": "stream",
     "text": [
      "[CV]  clf__criterion=gini, clf__max_depth=2, clf__min_samples_leaf=2, clf__min_samples_split=8, clf__n_estimators=200, total=   3.4s\n",
      "[CV] clf__criterion=gini, clf__max_depth=2, clf__min_samples_leaf=2, clf__min_samples_split=8, clf__n_estimators=200 \n"
     ]
    },
    {
     "name": "stderr",
     "output_type": "stream",
     "text": [
      "/anaconda3/lib/python3.7/site-packages/sklearn/metrics/classification.py:1143: UndefinedMetricWarning: F-score is ill-defined and being set to 0.0 in labels with no predicted samples.\n",
      "  'precision', 'predicted', average, warn_for)\n",
      "/anaconda3/lib/python3.7/site-packages/sklearn/metrics/classification.py:1143: UndefinedMetricWarning: F-score is ill-defined and being set to 0.0 in labels with no predicted samples.\n",
      "  'precision', 'predicted', average, warn_for)\n",
      "/anaconda3/lib/python3.7/site-packages/sklearn/metrics/classification.py:1143: UndefinedMetricWarning: F-score is ill-defined and being set to 0.0 in labels with no predicted samples.\n",
      "  'precision', 'predicted', average, warn_for)\n",
      "/anaconda3/lib/python3.7/site-packages/sklearn/metrics/classification.py:1143: UndefinedMetricWarning: F-score is ill-defined and being set to 0.0 in labels with no predicted samples.\n",
      "  'precision', 'predicted', average, warn_for)\n"
     ]
    },
    {
     "name": "stdout",
     "output_type": "stream",
     "text": [
      "[CV]  clf__criterion=gini, clf__max_depth=2, clf__min_samples_leaf=2, clf__min_samples_split=8, clf__n_estimators=200, total=   2.9s\n",
      "[CV] clf__criterion=gini, clf__max_depth=2, clf__min_samples_leaf=5, clf__min_samples_split=2, clf__n_estimators=10 \n",
      "[CV]  clf__criterion=gini, clf__max_depth=2, clf__min_samples_leaf=5, clf__min_samples_split=2, clf__n_estimators=10, total=   0.2s\n",
      "[CV] clf__criterion=gini, clf__max_depth=2, clf__min_samples_leaf=5, clf__min_samples_split=2, clf__n_estimators=10 \n"
     ]
    },
    {
     "name": "stderr",
     "output_type": "stream",
     "text": [
      "/anaconda3/lib/python3.7/site-packages/sklearn/metrics/classification.py:1143: UndefinedMetricWarning: F-score is ill-defined and being set to 0.0 in labels with no predicted samples.\n",
      "  'precision', 'predicted', average, warn_for)\n",
      "/anaconda3/lib/python3.7/site-packages/sklearn/metrics/classification.py:1143: UndefinedMetricWarning: F-score is ill-defined and being set to 0.0 in labels with no predicted samples.\n",
      "  'precision', 'predicted', average, warn_for)\n",
      "/anaconda3/lib/python3.7/site-packages/sklearn/metrics/classification.py:1143: UndefinedMetricWarning: F-score is ill-defined and being set to 0.0 in labels with no predicted samples.\n",
      "  'precision', 'predicted', average, warn_for)\n"
     ]
    },
    {
     "name": "stdout",
     "output_type": "stream",
     "text": [
      "[CV]  clf__criterion=gini, clf__max_depth=2, clf__min_samples_leaf=5, clf__min_samples_split=2, clf__n_estimators=10, total=   0.2s\n",
      "[CV] clf__criterion=gini, clf__max_depth=2, clf__min_samples_leaf=5, clf__min_samples_split=2, clf__n_estimators=10 \n",
      "[CV]  clf__criterion=gini, clf__max_depth=2, clf__min_samples_leaf=5, clf__min_samples_split=2, clf__n_estimators=10, total=   0.2s\n",
      "[CV] clf__criterion=gini, clf__max_depth=2, clf__min_samples_leaf=5, clf__min_samples_split=2, clf__n_estimators=50 \n"
     ]
    },
    {
     "name": "stderr",
     "output_type": "stream",
     "text": [
      "/anaconda3/lib/python3.7/site-packages/sklearn/metrics/classification.py:1143: UndefinedMetricWarning: F-score is ill-defined and being set to 0.0 in labels with no predicted samples.\n",
      "  'precision', 'predicted', average, warn_for)\n",
      "/anaconda3/lib/python3.7/site-packages/sklearn/metrics/classification.py:1143: UndefinedMetricWarning: F-score is ill-defined and being set to 0.0 in labels with no predicted samples.\n",
      "  'precision', 'predicted', average, warn_for)\n",
      "/anaconda3/lib/python3.7/site-packages/sklearn/metrics/classification.py:1143: UndefinedMetricWarning: F-score is ill-defined and being set to 0.0 in labels with no predicted samples.\n",
      "  'precision', 'predicted', average, warn_for)\n"
     ]
    },
    {
     "name": "stdout",
     "output_type": "stream",
     "text": [
      "[CV]  clf__criterion=gini, clf__max_depth=2, clf__min_samples_leaf=5, clf__min_samples_split=2, clf__n_estimators=50, total=   0.7s\n",
      "[CV] clf__criterion=gini, clf__max_depth=2, clf__min_samples_leaf=5, clf__min_samples_split=2, clf__n_estimators=50 \n"
     ]
    },
    {
     "name": "stderr",
     "output_type": "stream",
     "text": [
      "/anaconda3/lib/python3.7/site-packages/sklearn/metrics/classification.py:1143: UndefinedMetricWarning: F-score is ill-defined and being set to 0.0 in labels with no predicted samples.\n",
      "  'precision', 'predicted', average, warn_for)\n",
      "/anaconda3/lib/python3.7/site-packages/sklearn/metrics/classification.py:1143: UndefinedMetricWarning: F-score is ill-defined and being set to 0.0 in labels with no predicted samples.\n",
      "  'precision', 'predicted', average, warn_for)\n"
     ]
    },
    {
     "name": "stdout",
     "output_type": "stream",
     "text": [
      "[CV]  clf__criterion=gini, clf__max_depth=2, clf__min_samples_leaf=5, clf__min_samples_split=2, clf__n_estimators=50, total=   0.8s\n",
      "[CV] clf__criterion=gini, clf__max_depth=2, clf__min_samples_leaf=5, clf__min_samples_split=2, clf__n_estimators=50 \n"
     ]
    },
    {
     "name": "stderr",
     "output_type": "stream",
     "text": [
      "/anaconda3/lib/python3.7/site-packages/sklearn/metrics/classification.py:1143: UndefinedMetricWarning: F-score is ill-defined and being set to 0.0 in labels with no predicted samples.\n",
      "  'precision', 'predicted', average, warn_for)\n",
      "/anaconda3/lib/python3.7/site-packages/sklearn/metrics/classification.py:1143: UndefinedMetricWarning: F-score is ill-defined and being set to 0.0 in labels with no predicted samples.\n",
      "  'precision', 'predicted', average, warn_for)\n"
     ]
    },
    {
     "name": "stdout",
     "output_type": "stream",
     "text": [
      "[CV]  clf__criterion=gini, clf__max_depth=2, clf__min_samples_leaf=5, clf__min_samples_split=2, clf__n_estimators=50, total=   0.9s\n",
      "[CV] clf__criterion=gini, clf__max_depth=2, clf__min_samples_leaf=5, clf__min_samples_split=2, clf__n_estimators=100 \n"
     ]
    },
    {
     "name": "stderr",
     "output_type": "stream",
     "text": [
      "/anaconda3/lib/python3.7/site-packages/sklearn/metrics/classification.py:1143: UndefinedMetricWarning: F-score is ill-defined and being set to 0.0 in labels with no predicted samples.\n",
      "  'precision', 'predicted', average, warn_for)\n",
      "/anaconda3/lib/python3.7/site-packages/sklearn/metrics/classification.py:1143: UndefinedMetricWarning: F-score is ill-defined and being set to 0.0 in labels with no predicted samples.\n",
      "  'precision', 'predicted', average, warn_for)\n"
     ]
    },
    {
     "name": "stdout",
     "output_type": "stream",
     "text": [
      "[CV]  clf__criterion=gini, clf__max_depth=2, clf__min_samples_leaf=5, clf__min_samples_split=2, clf__n_estimators=100, total=   1.7s\n",
      "[CV] clf__criterion=gini, clf__max_depth=2, clf__min_samples_leaf=5, clf__min_samples_split=2, clf__n_estimators=100 \n"
     ]
    },
    {
     "name": "stderr",
     "output_type": "stream",
     "text": [
      "/anaconda3/lib/python3.7/site-packages/sklearn/metrics/classification.py:1143: UndefinedMetricWarning: F-score is ill-defined and being set to 0.0 in labels with no predicted samples.\n",
      "  'precision', 'predicted', average, warn_for)\n",
      "/anaconda3/lib/python3.7/site-packages/sklearn/metrics/classification.py:1143: UndefinedMetricWarning: F-score is ill-defined and being set to 0.0 in labels with no predicted samples.\n",
      "  'precision', 'predicted', average, warn_for)\n"
     ]
    },
    {
     "name": "stdout",
     "output_type": "stream",
     "text": [
      "[CV]  clf__criterion=gini, clf__max_depth=2, clf__min_samples_leaf=5, clf__min_samples_split=2, clf__n_estimators=100, total=   1.7s\n",
      "[CV] clf__criterion=gini, clf__max_depth=2, clf__min_samples_leaf=5, clf__min_samples_split=2, clf__n_estimators=100 \n"
     ]
    },
    {
     "name": "stderr",
     "output_type": "stream",
     "text": [
      "/anaconda3/lib/python3.7/site-packages/sklearn/metrics/classification.py:1143: UndefinedMetricWarning: F-score is ill-defined and being set to 0.0 in labels with no predicted samples.\n",
      "  'precision', 'predicted', average, warn_for)\n",
      "/anaconda3/lib/python3.7/site-packages/sklearn/metrics/classification.py:1143: UndefinedMetricWarning: F-score is ill-defined and being set to 0.0 in labels with no predicted samples.\n",
      "  'precision', 'predicted', average, warn_for)\n"
     ]
    },
    {
     "name": "stdout",
     "output_type": "stream",
     "text": [
      "[CV]  clf__criterion=gini, clf__max_depth=2, clf__min_samples_leaf=5, clf__min_samples_split=2, clf__n_estimators=100, total=   1.6s\n",
      "[CV] clf__criterion=gini, clf__max_depth=2, clf__min_samples_leaf=5, clf__min_samples_split=2, clf__n_estimators=200 \n"
     ]
    },
    {
     "name": "stderr",
     "output_type": "stream",
     "text": [
      "/anaconda3/lib/python3.7/site-packages/sklearn/metrics/classification.py:1143: UndefinedMetricWarning: F-score is ill-defined and being set to 0.0 in labels with no predicted samples.\n",
      "  'precision', 'predicted', average, warn_for)\n",
      "/anaconda3/lib/python3.7/site-packages/sklearn/metrics/classification.py:1143: UndefinedMetricWarning: F-score is ill-defined and being set to 0.0 in labels with no predicted samples.\n",
      "  'precision', 'predicted', average, warn_for)\n"
     ]
    },
    {
     "name": "stdout",
     "output_type": "stream",
     "text": [
      "[CV]  clf__criterion=gini, clf__max_depth=2, clf__min_samples_leaf=5, clf__min_samples_split=2, clf__n_estimators=200, total=   3.1s\n",
      "[CV] clf__criterion=gini, clf__max_depth=2, clf__min_samples_leaf=5, clf__min_samples_split=2, clf__n_estimators=200 \n"
     ]
    },
    {
     "name": "stderr",
     "output_type": "stream",
     "text": [
      "/anaconda3/lib/python3.7/site-packages/sklearn/metrics/classification.py:1143: UndefinedMetricWarning: F-score is ill-defined and being set to 0.0 in labels with no predicted samples.\n",
      "  'precision', 'predicted', average, warn_for)\n",
      "/anaconda3/lib/python3.7/site-packages/sklearn/metrics/classification.py:1143: UndefinedMetricWarning: F-score is ill-defined and being set to 0.0 in labels with no predicted samples.\n",
      "  'precision', 'predicted', average, warn_for)\n"
     ]
    },
    {
     "name": "stdout",
     "output_type": "stream",
     "text": [
      "[CV]  clf__criterion=gini, clf__max_depth=2, clf__min_samples_leaf=5, clf__min_samples_split=2, clf__n_estimators=200, total=   3.6s\n",
      "[CV] clf__criterion=gini, clf__max_depth=2, clf__min_samples_leaf=5, clf__min_samples_split=2, clf__n_estimators=200 \n"
     ]
    },
    {
     "name": "stderr",
     "output_type": "stream",
     "text": [
      "/anaconda3/lib/python3.7/site-packages/sklearn/metrics/classification.py:1143: UndefinedMetricWarning: F-score is ill-defined and being set to 0.0 in labels with no predicted samples.\n",
      "  'precision', 'predicted', average, warn_for)\n",
      "/anaconda3/lib/python3.7/site-packages/sklearn/metrics/classification.py:1143: UndefinedMetricWarning: F-score is ill-defined and being set to 0.0 in labels with no predicted samples.\n",
      "  'precision', 'predicted', average, warn_for)\n",
      "/anaconda3/lib/python3.7/site-packages/sklearn/metrics/classification.py:1143: UndefinedMetricWarning: F-score is ill-defined and being set to 0.0 in labels with no predicted samples.\n",
      "  'precision', 'predicted', average, warn_for)\n"
     ]
    },
    {
     "name": "stdout",
     "output_type": "stream",
     "text": [
      "[CV]  clf__criterion=gini, clf__max_depth=2, clf__min_samples_leaf=5, clf__min_samples_split=2, clf__n_estimators=200, total=   3.6s\n",
      "[CV] clf__criterion=gini, clf__max_depth=2, clf__min_samples_leaf=5, clf__min_samples_split=4, clf__n_estimators=10 \n"
     ]
    },
    {
     "name": "stderr",
     "output_type": "stream",
     "text": [
      "/anaconda3/lib/python3.7/site-packages/sklearn/metrics/classification.py:1143: UndefinedMetricWarning: F-score is ill-defined and being set to 0.0 in labels with no predicted samples.\n",
      "  'precision', 'predicted', average, warn_for)\n",
      "/anaconda3/lib/python3.7/site-packages/sklearn/metrics/classification.py:1143: UndefinedMetricWarning: F-score is ill-defined and being set to 0.0 in labels with no predicted samples.\n",
      "  'precision', 'predicted', average, warn_for)\n"
     ]
    },
    {
     "name": "stdout",
     "output_type": "stream",
     "text": [
      "[CV]  clf__criterion=gini, clf__max_depth=2, clf__min_samples_leaf=5, clf__min_samples_split=4, clf__n_estimators=10, total=   0.2s\n",
      "[CV] clf__criterion=gini, clf__max_depth=2, clf__min_samples_leaf=5, clf__min_samples_split=4, clf__n_estimators=10 \n"
     ]
    },
    {
     "name": "stderr",
     "output_type": "stream",
     "text": [
      "/anaconda3/lib/python3.7/site-packages/sklearn/metrics/classification.py:1143: UndefinedMetricWarning: F-score is ill-defined and being set to 0.0 in labels with no predicted samples.\n",
      "  'precision', 'predicted', average, warn_for)\n",
      "/anaconda3/lib/python3.7/site-packages/sklearn/metrics/classification.py:1143: UndefinedMetricWarning: F-score is ill-defined and being set to 0.0 in labels with no predicted samples.\n",
      "  'precision', 'predicted', average, warn_for)\n"
     ]
    },
    {
     "name": "stdout",
     "output_type": "stream",
     "text": [
      "[CV]  clf__criterion=gini, clf__max_depth=2, clf__min_samples_leaf=5, clf__min_samples_split=4, clf__n_estimators=10, total=   0.2s\n",
      "[CV] clf__criterion=gini, clf__max_depth=2, clf__min_samples_leaf=5, clf__min_samples_split=4, clf__n_estimators=10 \n"
     ]
    },
    {
     "name": "stderr",
     "output_type": "stream",
     "text": [
      "/anaconda3/lib/python3.7/site-packages/sklearn/metrics/classification.py:1143: UndefinedMetricWarning: F-score is ill-defined and being set to 0.0 in labels with no predicted samples.\n",
      "  'precision', 'predicted', average, warn_for)\n"
     ]
    },
    {
     "name": "stdout",
     "output_type": "stream",
     "text": [
      "[CV]  clf__criterion=gini, clf__max_depth=2, clf__min_samples_leaf=5, clf__min_samples_split=4, clf__n_estimators=10, total=   0.2s\n",
      "[CV] clf__criterion=gini, clf__max_depth=2, clf__min_samples_leaf=5, clf__min_samples_split=4, clf__n_estimators=50 \n"
     ]
    },
    {
     "name": "stderr",
     "output_type": "stream",
     "text": [
      "/anaconda3/lib/python3.7/site-packages/sklearn/metrics/classification.py:1143: UndefinedMetricWarning: F-score is ill-defined and being set to 0.0 in labels with no predicted samples.\n",
      "  'precision', 'predicted', average, warn_for)\n",
      "/anaconda3/lib/python3.7/site-packages/sklearn/metrics/classification.py:1143: UndefinedMetricWarning: F-score is ill-defined and being set to 0.0 in labels with no predicted samples.\n",
      "  'precision', 'predicted', average, warn_for)\n"
     ]
    },
    {
     "name": "stdout",
     "output_type": "stream",
     "text": [
      "[CV]  clf__criterion=gini, clf__max_depth=2, clf__min_samples_leaf=5, clf__min_samples_split=4, clf__n_estimators=50, total=   0.8s\n",
      "[CV] clf__criterion=gini, clf__max_depth=2, clf__min_samples_leaf=5, clf__min_samples_split=4, clf__n_estimators=50 \n"
     ]
    },
    {
     "name": "stderr",
     "output_type": "stream",
     "text": [
      "/anaconda3/lib/python3.7/site-packages/sklearn/metrics/classification.py:1143: UndefinedMetricWarning: F-score is ill-defined and being set to 0.0 in labels with no predicted samples.\n",
      "  'precision', 'predicted', average, warn_for)\n",
      "/anaconda3/lib/python3.7/site-packages/sklearn/metrics/classification.py:1143: UndefinedMetricWarning: F-score is ill-defined and being set to 0.0 in labels with no predicted samples.\n",
      "  'precision', 'predicted', average, warn_for)\n"
     ]
    },
    {
     "name": "stdout",
     "output_type": "stream",
     "text": [
      "[CV]  clf__criterion=gini, clf__max_depth=2, clf__min_samples_leaf=5, clf__min_samples_split=4, clf__n_estimators=50, total=   0.8s\n",
      "[CV] clf__criterion=gini, clf__max_depth=2, clf__min_samples_leaf=5, clf__min_samples_split=4, clf__n_estimators=50 \n"
     ]
    },
    {
     "name": "stderr",
     "output_type": "stream",
     "text": [
      "/anaconda3/lib/python3.7/site-packages/sklearn/metrics/classification.py:1143: UndefinedMetricWarning: F-score is ill-defined and being set to 0.0 in labels with no predicted samples.\n",
      "  'precision', 'predicted', average, warn_for)\n",
      "/anaconda3/lib/python3.7/site-packages/sklearn/metrics/classification.py:1143: UndefinedMetricWarning: F-score is ill-defined and being set to 0.0 in labels with no predicted samples.\n",
      "  'precision', 'predicted', average, warn_for)\n"
     ]
    },
    {
     "name": "stdout",
     "output_type": "stream",
     "text": [
      "[CV]  clf__criterion=gini, clf__max_depth=2, clf__min_samples_leaf=5, clf__min_samples_split=4, clf__n_estimators=50, total=   0.8s\n",
      "[CV] clf__criterion=gini, clf__max_depth=2, clf__min_samples_leaf=5, clf__min_samples_split=4, clf__n_estimators=100 \n"
     ]
    },
    {
     "name": "stderr",
     "output_type": "stream",
     "text": [
      "/anaconda3/lib/python3.7/site-packages/sklearn/metrics/classification.py:1143: UndefinedMetricWarning: F-score is ill-defined and being set to 0.0 in labels with no predicted samples.\n",
      "  'precision', 'predicted', average, warn_for)\n",
      "/anaconda3/lib/python3.7/site-packages/sklearn/metrics/classification.py:1143: UndefinedMetricWarning: F-score is ill-defined and being set to 0.0 in labels with no predicted samples.\n",
      "  'precision', 'predicted', average, warn_for)\n"
     ]
    },
    {
     "name": "stdout",
     "output_type": "stream",
     "text": [
      "[CV]  clf__criterion=gini, clf__max_depth=2, clf__min_samples_leaf=5, clf__min_samples_split=4, clf__n_estimators=100, total=   1.6s\n",
      "[CV] clf__criterion=gini, clf__max_depth=2, clf__min_samples_leaf=5, clf__min_samples_split=4, clf__n_estimators=100 \n"
     ]
    },
    {
     "name": "stderr",
     "output_type": "stream",
     "text": [
      "/anaconda3/lib/python3.7/site-packages/sklearn/metrics/classification.py:1143: UndefinedMetricWarning: F-score is ill-defined and being set to 0.0 in labels with no predicted samples.\n",
      "  'precision', 'predicted', average, warn_for)\n",
      "/anaconda3/lib/python3.7/site-packages/sklearn/metrics/classification.py:1143: UndefinedMetricWarning: F-score is ill-defined and being set to 0.0 in labels with no predicted samples.\n",
      "  'precision', 'predicted', average, warn_for)\n"
     ]
    },
    {
     "name": "stdout",
     "output_type": "stream",
     "text": [
      "[CV]  clf__criterion=gini, clf__max_depth=2, clf__min_samples_leaf=5, clf__min_samples_split=4, clf__n_estimators=100, total=   2.2s\n",
      "[CV] clf__criterion=gini, clf__max_depth=2, clf__min_samples_leaf=5, clf__min_samples_split=4, clf__n_estimators=100 \n"
     ]
    },
    {
     "name": "stderr",
     "output_type": "stream",
     "text": [
      "/anaconda3/lib/python3.7/site-packages/sklearn/metrics/classification.py:1143: UndefinedMetricWarning: F-score is ill-defined and being set to 0.0 in labels with no predicted samples.\n",
      "  'precision', 'predicted', average, warn_for)\n",
      "/anaconda3/lib/python3.7/site-packages/sklearn/metrics/classification.py:1143: UndefinedMetricWarning: F-score is ill-defined and being set to 0.0 in labels with no predicted samples.\n",
      "  'precision', 'predicted', average, warn_for)\n"
     ]
    },
    {
     "name": "stdout",
     "output_type": "stream",
     "text": [
      "[CV]  clf__criterion=gini, clf__max_depth=2, clf__min_samples_leaf=5, clf__min_samples_split=4, clf__n_estimators=100, total=   1.7s\n",
      "[CV] clf__criterion=gini, clf__max_depth=2, clf__min_samples_leaf=5, clf__min_samples_split=4, clf__n_estimators=200 \n"
     ]
    },
    {
     "name": "stderr",
     "output_type": "stream",
     "text": [
      "/anaconda3/lib/python3.7/site-packages/sklearn/metrics/classification.py:1143: UndefinedMetricWarning: F-score is ill-defined and being set to 0.0 in labels with no predicted samples.\n",
      "  'precision', 'predicted', average, warn_for)\n",
      "/anaconda3/lib/python3.7/site-packages/sklearn/metrics/classification.py:1143: UndefinedMetricWarning: F-score is ill-defined and being set to 0.0 in labels with no predicted samples.\n",
      "  'precision', 'predicted', average, warn_for)\n"
     ]
    },
    {
     "name": "stdout",
     "output_type": "stream",
     "text": [
      "[CV]  clf__criterion=gini, clf__max_depth=2, clf__min_samples_leaf=5, clf__min_samples_split=4, clf__n_estimators=200, total=   3.1s\n",
      "[CV] clf__criterion=gini, clf__max_depth=2, clf__min_samples_leaf=5, clf__min_samples_split=4, clf__n_estimators=200 \n"
     ]
    },
    {
     "name": "stderr",
     "output_type": "stream",
     "text": [
      "/anaconda3/lib/python3.7/site-packages/sklearn/metrics/classification.py:1143: UndefinedMetricWarning: F-score is ill-defined and being set to 0.0 in labels with no predicted samples.\n",
      "  'precision', 'predicted', average, warn_for)\n",
      "/anaconda3/lib/python3.7/site-packages/sklearn/metrics/classification.py:1143: UndefinedMetricWarning: F-score is ill-defined and being set to 0.0 in labels with no predicted samples.\n",
      "  'precision', 'predicted', average, warn_for)\n"
     ]
    },
    {
     "name": "stdout",
     "output_type": "stream",
     "text": [
      "[CV]  clf__criterion=gini, clf__max_depth=2, clf__min_samples_leaf=5, clf__min_samples_split=4, clf__n_estimators=200, total=   3.0s\n",
      "[CV] clf__criterion=gini, clf__max_depth=2, clf__min_samples_leaf=5, clf__min_samples_split=4, clf__n_estimators=200 \n"
     ]
    },
    {
     "name": "stderr",
     "output_type": "stream",
     "text": [
      "/anaconda3/lib/python3.7/site-packages/sklearn/metrics/classification.py:1143: UndefinedMetricWarning: F-score is ill-defined and being set to 0.0 in labels with no predicted samples.\n",
      "  'precision', 'predicted', average, warn_for)\n",
      "/anaconda3/lib/python3.7/site-packages/sklearn/metrics/classification.py:1143: UndefinedMetricWarning: F-score is ill-defined and being set to 0.0 in labels with no predicted samples.\n",
      "  'precision', 'predicted', average, warn_for)\n",
      "/anaconda3/lib/python3.7/site-packages/sklearn/metrics/classification.py:1143: UndefinedMetricWarning: F-score is ill-defined and being set to 0.0 in labels with no predicted samples.\n",
      "  'precision', 'predicted', average, warn_for)\n",
      "/anaconda3/lib/python3.7/site-packages/sklearn/metrics/classification.py:1143: UndefinedMetricWarning: F-score is ill-defined and being set to 0.0 in labels with no predicted samples.\n",
      "  'precision', 'predicted', average, warn_for)\n"
     ]
    },
    {
     "name": "stdout",
     "output_type": "stream",
     "text": [
      "[CV]  clf__criterion=gini, clf__max_depth=2, clf__min_samples_leaf=5, clf__min_samples_split=4, clf__n_estimators=200, total=   2.9s\n",
      "[CV] clf__criterion=gini, clf__max_depth=2, clf__min_samples_leaf=5, clf__min_samples_split=8, clf__n_estimators=10 \n",
      "[CV]  clf__criterion=gini, clf__max_depth=2, clf__min_samples_leaf=5, clf__min_samples_split=8, clf__n_estimators=10, total=   0.2s\n",
      "[CV] clf__criterion=gini, clf__max_depth=2, clf__min_samples_leaf=5, clf__min_samples_split=8, clf__n_estimators=10 \n"
     ]
    },
    {
     "name": "stderr",
     "output_type": "stream",
     "text": [
      "/anaconda3/lib/python3.7/site-packages/sklearn/metrics/classification.py:1143: UndefinedMetricWarning: F-score is ill-defined and being set to 0.0 in labels with no predicted samples.\n",
      "  'precision', 'predicted', average, warn_for)\n",
      "/anaconda3/lib/python3.7/site-packages/sklearn/metrics/classification.py:1143: UndefinedMetricWarning: F-score is ill-defined and being set to 0.0 in labels with no predicted samples.\n",
      "  'precision', 'predicted', average, warn_for)\n"
     ]
    },
    {
     "name": "stdout",
     "output_type": "stream",
     "text": [
      "[CV]  clf__criterion=gini, clf__max_depth=2, clf__min_samples_leaf=5, clf__min_samples_split=8, clf__n_estimators=10, total=   0.2s\n",
      "[CV] clf__criterion=gini, clf__max_depth=2, clf__min_samples_leaf=5, clf__min_samples_split=8, clf__n_estimators=10 \n"
     ]
    },
    {
     "name": "stderr",
     "output_type": "stream",
     "text": [
      "/anaconda3/lib/python3.7/site-packages/sklearn/metrics/classification.py:1143: UndefinedMetricWarning: F-score is ill-defined and being set to 0.0 in labels with no predicted samples.\n",
      "  'precision', 'predicted', average, warn_for)\n",
      "/anaconda3/lib/python3.7/site-packages/sklearn/metrics/classification.py:1143: UndefinedMetricWarning: F-score is ill-defined and being set to 0.0 in labels with no predicted samples.\n",
      "  'precision', 'predicted', average, warn_for)\n"
     ]
    },
    {
     "name": "stdout",
     "output_type": "stream",
     "text": [
      "[CV]  clf__criterion=gini, clf__max_depth=2, clf__min_samples_leaf=5, clf__min_samples_split=8, clf__n_estimators=10, total=   0.2s\n",
      "[CV] clf__criterion=gini, clf__max_depth=2, clf__min_samples_leaf=5, clf__min_samples_split=8, clf__n_estimators=50 \n"
     ]
    },
    {
     "name": "stderr",
     "output_type": "stream",
     "text": [
      "/anaconda3/lib/python3.7/site-packages/sklearn/metrics/classification.py:1143: UndefinedMetricWarning: F-score is ill-defined and being set to 0.0 in labels with no predicted samples.\n",
      "  'precision', 'predicted', average, warn_for)\n",
      "/anaconda3/lib/python3.7/site-packages/sklearn/metrics/classification.py:1143: UndefinedMetricWarning: F-score is ill-defined and being set to 0.0 in labels with no predicted samples.\n",
      "  'precision', 'predicted', average, warn_for)\n"
     ]
    },
    {
     "name": "stdout",
     "output_type": "stream",
     "text": [
      "[CV]  clf__criterion=gini, clf__max_depth=2, clf__min_samples_leaf=5, clf__min_samples_split=8, clf__n_estimators=50, total=   0.8s\n",
      "[CV] clf__criterion=gini, clf__max_depth=2, clf__min_samples_leaf=5, clf__min_samples_split=8, clf__n_estimators=50 \n"
     ]
    },
    {
     "name": "stderr",
     "output_type": "stream",
     "text": [
      "/anaconda3/lib/python3.7/site-packages/sklearn/metrics/classification.py:1143: UndefinedMetricWarning: F-score is ill-defined and being set to 0.0 in labels with no predicted samples.\n",
      "  'precision', 'predicted', average, warn_for)\n",
      "/anaconda3/lib/python3.7/site-packages/sklearn/metrics/classification.py:1143: UndefinedMetricWarning: F-score is ill-defined and being set to 0.0 in labels with no predicted samples.\n",
      "  'precision', 'predicted', average, warn_for)\n"
     ]
    },
    {
     "name": "stdout",
     "output_type": "stream",
     "text": [
      "[CV]  clf__criterion=gini, clf__max_depth=2, clf__min_samples_leaf=5, clf__min_samples_split=8, clf__n_estimators=50, total=   0.7s\n",
      "[CV] clf__criterion=gini, clf__max_depth=2, clf__min_samples_leaf=5, clf__min_samples_split=8, clf__n_estimators=50 \n"
     ]
    },
    {
     "name": "stderr",
     "output_type": "stream",
     "text": [
      "/anaconda3/lib/python3.7/site-packages/sklearn/metrics/classification.py:1143: UndefinedMetricWarning: F-score is ill-defined and being set to 0.0 in labels with no predicted samples.\n",
      "  'precision', 'predicted', average, warn_for)\n",
      "/anaconda3/lib/python3.7/site-packages/sklearn/metrics/classification.py:1143: UndefinedMetricWarning: F-score is ill-defined and being set to 0.0 in labels with no predicted samples.\n",
      "  'precision', 'predicted', average, warn_for)\n"
     ]
    },
    {
     "name": "stdout",
     "output_type": "stream",
     "text": [
      "[CV]  clf__criterion=gini, clf__max_depth=2, clf__min_samples_leaf=5, clf__min_samples_split=8, clf__n_estimators=50, total=   0.8s\n",
      "[CV] clf__criterion=gini, clf__max_depth=2, clf__min_samples_leaf=5, clf__min_samples_split=8, clf__n_estimators=100 \n"
     ]
    },
    {
     "name": "stderr",
     "output_type": "stream",
     "text": [
      "/anaconda3/lib/python3.7/site-packages/sklearn/metrics/classification.py:1143: UndefinedMetricWarning: F-score is ill-defined and being set to 0.0 in labels with no predicted samples.\n",
      "  'precision', 'predicted', average, warn_for)\n",
      "/anaconda3/lib/python3.7/site-packages/sklearn/metrics/classification.py:1143: UndefinedMetricWarning: F-score is ill-defined and being set to 0.0 in labels with no predicted samples.\n",
      "  'precision', 'predicted', average, warn_for)\n"
     ]
    },
    {
     "name": "stdout",
     "output_type": "stream",
     "text": [
      "[CV]  clf__criterion=gini, clf__max_depth=2, clf__min_samples_leaf=5, clf__min_samples_split=8, clf__n_estimators=100, total=   1.5s\n",
      "[CV] clf__criterion=gini, clf__max_depth=2, clf__min_samples_leaf=5, clf__min_samples_split=8, clf__n_estimators=100 \n"
     ]
    },
    {
     "name": "stderr",
     "output_type": "stream",
     "text": [
      "/anaconda3/lib/python3.7/site-packages/sklearn/metrics/classification.py:1143: UndefinedMetricWarning: F-score is ill-defined and being set to 0.0 in labels with no predicted samples.\n",
      "  'precision', 'predicted', average, warn_for)\n",
      "/anaconda3/lib/python3.7/site-packages/sklearn/metrics/classification.py:1143: UndefinedMetricWarning: F-score is ill-defined and being set to 0.0 in labels with no predicted samples.\n",
      "  'precision', 'predicted', average, warn_for)\n"
     ]
    },
    {
     "name": "stdout",
     "output_type": "stream",
     "text": [
      "[CV]  clf__criterion=gini, clf__max_depth=2, clf__min_samples_leaf=5, clf__min_samples_split=8, clf__n_estimators=100, total=   1.4s\n",
      "[CV] clf__criterion=gini, clf__max_depth=2, clf__min_samples_leaf=5, clf__min_samples_split=8, clf__n_estimators=100 \n"
     ]
    },
    {
     "name": "stderr",
     "output_type": "stream",
     "text": [
      "/anaconda3/lib/python3.7/site-packages/sklearn/metrics/classification.py:1143: UndefinedMetricWarning: F-score is ill-defined and being set to 0.0 in labels with no predicted samples.\n",
      "  'precision', 'predicted', average, warn_for)\n",
      "/anaconda3/lib/python3.7/site-packages/sklearn/metrics/classification.py:1143: UndefinedMetricWarning: F-score is ill-defined and being set to 0.0 in labels with no predicted samples.\n",
      "  'precision', 'predicted', average, warn_for)\n"
     ]
    },
    {
     "name": "stdout",
     "output_type": "stream",
     "text": [
      "[CV]  clf__criterion=gini, clf__max_depth=2, clf__min_samples_leaf=5, clf__min_samples_split=8, clf__n_estimators=100, total=   1.5s\n",
      "[CV] clf__criterion=gini, clf__max_depth=2, clf__min_samples_leaf=5, clf__min_samples_split=8, clf__n_estimators=200 \n"
     ]
    },
    {
     "name": "stderr",
     "output_type": "stream",
     "text": [
      "/anaconda3/lib/python3.7/site-packages/sklearn/metrics/classification.py:1143: UndefinedMetricWarning: F-score is ill-defined and being set to 0.0 in labels with no predicted samples.\n",
      "  'precision', 'predicted', average, warn_for)\n",
      "/anaconda3/lib/python3.7/site-packages/sklearn/metrics/classification.py:1143: UndefinedMetricWarning: F-score is ill-defined and being set to 0.0 in labels with no predicted samples.\n",
      "  'precision', 'predicted', average, warn_for)\n"
     ]
    },
    {
     "name": "stdout",
     "output_type": "stream",
     "text": [
      "[CV]  clf__criterion=gini, clf__max_depth=2, clf__min_samples_leaf=5, clf__min_samples_split=8, clf__n_estimators=200, total=   3.0s\n",
      "[CV] clf__criterion=gini, clf__max_depth=2, clf__min_samples_leaf=5, clf__min_samples_split=8, clf__n_estimators=200 \n"
     ]
    },
    {
     "name": "stderr",
     "output_type": "stream",
     "text": [
      "/anaconda3/lib/python3.7/site-packages/sklearn/metrics/classification.py:1143: UndefinedMetricWarning: F-score is ill-defined and being set to 0.0 in labels with no predicted samples.\n",
      "  'precision', 'predicted', average, warn_for)\n",
      "/anaconda3/lib/python3.7/site-packages/sklearn/metrics/classification.py:1143: UndefinedMetricWarning: F-score is ill-defined and being set to 0.0 in labels with no predicted samples.\n",
      "  'precision', 'predicted', average, warn_for)\n"
     ]
    },
    {
     "name": "stdout",
     "output_type": "stream",
     "text": [
      "[CV]  clf__criterion=gini, clf__max_depth=2, clf__min_samples_leaf=5, clf__min_samples_split=8, clf__n_estimators=200, total=   2.9s\n",
      "[CV] clf__criterion=gini, clf__max_depth=2, clf__min_samples_leaf=5, clf__min_samples_split=8, clf__n_estimators=200 \n"
     ]
    },
    {
     "name": "stderr",
     "output_type": "stream",
     "text": [
      "/anaconda3/lib/python3.7/site-packages/sklearn/metrics/classification.py:1143: UndefinedMetricWarning: F-score is ill-defined and being set to 0.0 in labels with no predicted samples.\n",
      "  'precision', 'predicted', average, warn_for)\n",
      "/anaconda3/lib/python3.7/site-packages/sklearn/metrics/classification.py:1143: UndefinedMetricWarning: F-score is ill-defined and being set to 0.0 in labels with no predicted samples.\n",
      "  'precision', 'predicted', average, warn_for)\n"
     ]
    },
    {
     "name": "stdout",
     "output_type": "stream",
     "text": [
      "[CV]  clf__criterion=gini, clf__max_depth=2, clf__min_samples_leaf=5, clf__min_samples_split=8, clf__n_estimators=200, total=   3.5s\n",
      "[CV] clf__criterion=gini, clf__max_depth=5, clf__min_samples_leaf=1, clf__min_samples_split=2, clf__n_estimators=10 \n",
      "[CV]  clf__criterion=gini, clf__max_depth=5, clf__min_samples_leaf=1, clf__min_samples_split=2, clf__n_estimators=10, total=   0.3s\n",
      "[CV] clf__criterion=gini, clf__max_depth=5, clf__min_samples_leaf=1, clf__min_samples_split=2, clf__n_estimators=10 \n",
      "[CV]  clf__criterion=gini, clf__max_depth=5, clf__min_samples_leaf=1, clf__min_samples_split=2, clf__n_estimators=10, total=   0.4s\n",
      "[CV] clf__criterion=gini, clf__max_depth=5, clf__min_samples_leaf=1, clf__min_samples_split=2, clf__n_estimators=10 \n",
      "[CV]  clf__criterion=gini, clf__max_depth=5, clf__min_samples_leaf=1, clf__min_samples_split=2, clf__n_estimators=10, total=   0.3s\n",
      "[CV] clf__criterion=gini, clf__max_depth=5, clf__min_samples_leaf=1, clf__min_samples_split=2, clf__n_estimators=50 \n",
      "[CV]  clf__criterion=gini, clf__max_depth=5, clf__min_samples_leaf=1, clf__min_samples_split=2, clf__n_estimators=50, total=   2.0s\n",
      "[CV] clf__criterion=gini, clf__max_depth=5, clf__min_samples_leaf=1, clf__min_samples_split=2, clf__n_estimators=50 \n",
      "[CV]  clf__criterion=gini, clf__max_depth=5, clf__min_samples_leaf=1, clf__min_samples_split=2, clf__n_estimators=50, total=   1.7s\n",
      "[CV] clf__criterion=gini, clf__max_depth=5, clf__min_samples_leaf=1, clf__min_samples_split=2, clf__n_estimators=50 \n",
      "[CV]  clf__criterion=gini, clf__max_depth=5, clf__min_samples_leaf=1, clf__min_samples_split=2, clf__n_estimators=50, total=   1.5s\n",
      "[CV] clf__criterion=gini, clf__max_depth=5, clf__min_samples_leaf=1, clf__min_samples_split=2, clf__n_estimators=100 \n",
      "[CV]  clf__criterion=gini, clf__max_depth=5, clf__min_samples_leaf=1, clf__min_samples_split=2, clf__n_estimators=100, total=   3.1s\n",
      "[CV] clf__criterion=gini, clf__max_depth=5, clf__min_samples_leaf=1, clf__min_samples_split=2, clf__n_estimators=100 \n",
      "[CV]  clf__criterion=gini, clf__max_depth=5, clf__min_samples_leaf=1, clf__min_samples_split=2, clf__n_estimators=100, total=   3.0s\n",
      "[CV] clf__criterion=gini, clf__max_depth=5, clf__min_samples_leaf=1, clf__min_samples_split=2, clf__n_estimators=100 \n",
      "[CV]  clf__criterion=gini, clf__max_depth=5, clf__min_samples_leaf=1, clf__min_samples_split=2, clf__n_estimators=100, total=   3.0s\n",
      "[CV] clf__criterion=gini, clf__max_depth=5, clf__min_samples_leaf=1, clf__min_samples_split=2, clf__n_estimators=200 \n",
      "[CV]  clf__criterion=gini, clf__max_depth=5, clf__min_samples_leaf=1, clf__min_samples_split=2, clf__n_estimators=200, total=   5.9s\n",
      "[CV] clf__criterion=gini, clf__max_depth=5, clf__min_samples_leaf=1, clf__min_samples_split=2, clf__n_estimators=200 \n",
      "[CV]  clf__criterion=gini, clf__max_depth=5, clf__min_samples_leaf=1, clf__min_samples_split=2, clf__n_estimators=200, total=   5.7s\n",
      "[CV] clf__criterion=gini, clf__max_depth=5, clf__min_samples_leaf=1, clf__min_samples_split=2, clf__n_estimators=200 \n",
      "[CV]  clf__criterion=gini, clf__max_depth=5, clf__min_samples_leaf=1, clf__min_samples_split=2, clf__n_estimators=200, total=   6.0s\n",
      "[CV] clf__criterion=gini, clf__max_depth=5, clf__min_samples_leaf=1, clf__min_samples_split=4, clf__n_estimators=10 \n",
      "[CV]  clf__criterion=gini, clf__max_depth=5, clf__min_samples_leaf=1, clf__min_samples_split=4, clf__n_estimators=10, total=   0.3s\n",
      "[CV] clf__criterion=gini, clf__max_depth=5, clf__min_samples_leaf=1, clf__min_samples_split=4, clf__n_estimators=10 \n",
      "[CV]  clf__criterion=gini, clf__max_depth=5, clf__min_samples_leaf=1, clf__min_samples_split=4, clf__n_estimators=10, total=   0.3s\n",
      "[CV] clf__criterion=gini, clf__max_depth=5, clf__min_samples_leaf=1, clf__min_samples_split=4, clf__n_estimators=10 \n",
      "[CV]  clf__criterion=gini, clf__max_depth=5, clf__min_samples_leaf=1, clf__min_samples_split=4, clf__n_estimators=10, total=   0.3s\n",
      "[CV] clf__criterion=gini, clf__max_depth=5, clf__min_samples_leaf=1, clf__min_samples_split=4, clf__n_estimators=50 \n",
      "[CV]  clf__criterion=gini, clf__max_depth=5, clf__min_samples_leaf=1, clf__min_samples_split=4, clf__n_estimators=50, total=   1.5s\n",
      "[CV] clf__criterion=gini, clf__max_depth=5, clf__min_samples_leaf=1, clf__min_samples_split=4, clf__n_estimators=50 \n",
      "[CV]  clf__criterion=gini, clf__max_depth=5, clf__min_samples_leaf=1, clf__min_samples_split=4, clf__n_estimators=50, total=   1.5s\n",
      "[CV] clf__criterion=gini, clf__max_depth=5, clf__min_samples_leaf=1, clf__min_samples_split=4, clf__n_estimators=50 \n",
      "[CV]  clf__criterion=gini, clf__max_depth=5, clf__min_samples_leaf=1, clf__min_samples_split=4, clf__n_estimators=50, total=   1.5s\n",
      "[CV] clf__criterion=gini, clf__max_depth=5, clf__min_samples_leaf=1, clf__min_samples_split=4, clf__n_estimators=100 \n",
      "[CV]  clf__criterion=gini, clf__max_depth=5, clf__min_samples_leaf=1, clf__min_samples_split=4, clf__n_estimators=100, total=   3.0s\n",
      "[CV] clf__criterion=gini, clf__max_depth=5, clf__min_samples_leaf=1, clf__min_samples_split=4, clf__n_estimators=100 \n",
      "[CV]  clf__criterion=gini, clf__max_depth=5, clf__min_samples_leaf=1, clf__min_samples_split=4, clf__n_estimators=100, total=   2.9s\n",
      "[CV] clf__criterion=gini, clf__max_depth=5, clf__min_samples_leaf=1, clf__min_samples_split=4, clf__n_estimators=100 \n",
      "[CV]  clf__criterion=gini, clf__max_depth=5, clf__min_samples_leaf=1, clf__min_samples_split=4, clf__n_estimators=100, total=   3.1s\n",
      "[CV] clf__criterion=gini, clf__max_depth=5, clf__min_samples_leaf=1, clf__min_samples_split=4, clf__n_estimators=200 \n",
      "[CV]  clf__criterion=gini, clf__max_depth=5, clf__min_samples_leaf=1, clf__min_samples_split=4, clf__n_estimators=200, total=   6.0s\n",
      "[CV] clf__criterion=gini, clf__max_depth=5, clf__min_samples_leaf=1, clf__min_samples_split=4, clf__n_estimators=200 \n",
      "[CV]  clf__criterion=gini, clf__max_depth=5, clf__min_samples_leaf=1, clf__min_samples_split=4, clf__n_estimators=200, total=   5.8s\n",
      "[CV] clf__criterion=gini, clf__max_depth=5, clf__min_samples_leaf=1, clf__min_samples_split=4, clf__n_estimators=200 \n",
      "[CV]  clf__criterion=gini, clf__max_depth=5, clf__min_samples_leaf=1, clf__min_samples_split=4, clf__n_estimators=200, total=   6.4s\n",
      "[CV] clf__criterion=gini, clf__max_depth=5, clf__min_samples_leaf=1, clf__min_samples_split=8, clf__n_estimators=10 \n",
      "[CV]  clf__criterion=gini, clf__max_depth=5, clf__min_samples_leaf=1, clf__min_samples_split=8, clf__n_estimators=10, total=   0.4s\n",
      "[CV] clf__criterion=gini, clf__max_depth=5, clf__min_samples_leaf=1, clf__min_samples_split=8, clf__n_estimators=10 \n",
      "[CV]  clf__criterion=gini, clf__max_depth=5, clf__min_samples_leaf=1, clf__min_samples_split=8, clf__n_estimators=10, total=   0.5s\n",
      "[CV] clf__criterion=gini, clf__max_depth=5, clf__min_samples_leaf=1, clf__min_samples_split=8, clf__n_estimators=10 \n",
      "[CV]  clf__criterion=gini, clf__max_depth=5, clf__min_samples_leaf=1, clf__min_samples_split=8, clf__n_estimators=10, total=   0.3s\n",
      "[CV] clf__criterion=gini, clf__max_depth=5, clf__min_samples_leaf=1, clf__min_samples_split=8, clf__n_estimators=50 \n",
      "[CV]  clf__criterion=gini, clf__max_depth=5, clf__min_samples_leaf=1, clf__min_samples_split=8, clf__n_estimators=50, total=   1.8s\n",
      "[CV] clf__criterion=gini, clf__max_depth=5, clf__min_samples_leaf=1, clf__min_samples_split=8, clf__n_estimators=50 \n",
      "[CV]  clf__criterion=gini, clf__max_depth=5, clf__min_samples_leaf=1, clf__min_samples_split=8, clf__n_estimators=50, total=   1.5s\n",
      "[CV] clf__criterion=gini, clf__max_depth=5, clf__min_samples_leaf=1, clf__min_samples_split=8, clf__n_estimators=50 \n",
      "[CV]  clf__criterion=gini, clf__max_depth=5, clf__min_samples_leaf=1, clf__min_samples_split=8, clf__n_estimators=50, total=   1.5s\n",
      "[CV] clf__criterion=gini, clf__max_depth=5, clf__min_samples_leaf=1, clf__min_samples_split=8, clf__n_estimators=100 \n",
      "[CV]  clf__criterion=gini, clf__max_depth=5, clf__min_samples_leaf=1, clf__min_samples_split=8, clf__n_estimators=100, total=   3.0s\n",
      "[CV] clf__criterion=gini, clf__max_depth=5, clf__min_samples_leaf=1, clf__min_samples_split=8, clf__n_estimators=100 \n",
      "[CV]  clf__criterion=gini, clf__max_depth=5, clf__min_samples_leaf=1, clf__min_samples_split=8, clf__n_estimators=100, total=   3.0s\n",
      "[CV] clf__criterion=gini, clf__max_depth=5, clf__min_samples_leaf=1, clf__min_samples_split=8, clf__n_estimators=100 \n"
     ]
    },
    {
     "name": "stdout",
     "output_type": "stream",
     "text": [
      "[CV]  clf__criterion=gini, clf__max_depth=5, clf__min_samples_leaf=1, clf__min_samples_split=8, clf__n_estimators=100, total=   3.0s\n",
      "[CV] clf__criterion=gini, clf__max_depth=5, clf__min_samples_leaf=1, clf__min_samples_split=8, clf__n_estimators=200 \n",
      "[CV]  clf__criterion=gini, clf__max_depth=5, clf__min_samples_leaf=1, clf__min_samples_split=8, clf__n_estimators=200, total=   6.0s\n",
      "[CV] clf__criterion=gini, clf__max_depth=5, clf__min_samples_leaf=1, clf__min_samples_split=8, clf__n_estimators=200 \n",
      "[CV]  clf__criterion=gini, clf__max_depth=5, clf__min_samples_leaf=1, clf__min_samples_split=8, clf__n_estimators=200, total=   5.6s\n",
      "[CV] clf__criterion=gini, clf__max_depth=5, clf__min_samples_leaf=1, clf__min_samples_split=8, clf__n_estimators=200 \n",
      "[CV]  clf__criterion=gini, clf__max_depth=5, clf__min_samples_leaf=1, clf__min_samples_split=8, clf__n_estimators=200, total=   5.8s\n",
      "[CV] clf__criterion=gini, clf__max_depth=5, clf__min_samples_leaf=2, clf__min_samples_split=2, clf__n_estimators=10 \n",
      "[CV]  clf__criterion=gini, clf__max_depth=5, clf__min_samples_leaf=2, clf__min_samples_split=2, clf__n_estimators=10, total=   0.3s\n",
      "[CV] clf__criterion=gini, clf__max_depth=5, clf__min_samples_leaf=2, clf__min_samples_split=2, clf__n_estimators=10 \n",
      "[CV]  clf__criterion=gini, clf__max_depth=5, clf__min_samples_leaf=2, clf__min_samples_split=2, clf__n_estimators=10, total=   0.3s\n",
      "[CV] clf__criterion=gini, clf__max_depth=5, clf__min_samples_leaf=2, clf__min_samples_split=2, clf__n_estimators=10 \n",
      "[CV]  clf__criterion=gini, clf__max_depth=5, clf__min_samples_leaf=2, clf__min_samples_split=2, clf__n_estimators=10, total=   0.3s\n",
      "[CV] clf__criterion=gini, clf__max_depth=5, clf__min_samples_leaf=2, clf__min_samples_split=2, clf__n_estimators=50 \n"
     ]
    },
    {
     "name": "stderr",
     "output_type": "stream",
     "text": [
      "/anaconda3/lib/python3.7/site-packages/sklearn/metrics/classification.py:1143: UndefinedMetricWarning: F-score is ill-defined and being set to 0.0 in labels with no predicted samples.\n",
      "  'precision', 'predicted', average, warn_for)\n"
     ]
    },
    {
     "name": "stdout",
     "output_type": "stream",
     "text": [
      "[CV]  clf__criterion=gini, clf__max_depth=5, clf__min_samples_leaf=2, clf__min_samples_split=2, clf__n_estimators=50, total=   1.4s\n",
      "[CV] clf__criterion=gini, clf__max_depth=5, clf__min_samples_leaf=2, clf__min_samples_split=2, clf__n_estimators=50 \n",
      "[CV]  clf__criterion=gini, clf__max_depth=5, clf__min_samples_leaf=2, clf__min_samples_split=2, clf__n_estimators=50, total=   1.4s\n",
      "[CV] clf__criterion=gini, clf__max_depth=5, clf__min_samples_leaf=2, clf__min_samples_split=2, clf__n_estimators=50 \n",
      "[CV]  clf__criterion=gini, clf__max_depth=5, clf__min_samples_leaf=2, clf__min_samples_split=2, clf__n_estimators=50, total=   1.5s\n",
      "[CV] clf__criterion=gini, clf__max_depth=5, clf__min_samples_leaf=2, clf__min_samples_split=2, clf__n_estimators=100 \n",
      "[CV]  clf__criterion=gini, clf__max_depth=5, clf__min_samples_leaf=2, clf__min_samples_split=2, clf__n_estimators=100, total=   2.9s\n",
      "[CV] clf__criterion=gini, clf__max_depth=5, clf__min_samples_leaf=2, clf__min_samples_split=2, clf__n_estimators=100 \n",
      "[CV]  clf__criterion=gini, clf__max_depth=5, clf__min_samples_leaf=2, clf__min_samples_split=2, clf__n_estimators=100, total=   2.8s\n",
      "[CV] clf__criterion=gini, clf__max_depth=5, clf__min_samples_leaf=2, clf__min_samples_split=2, clf__n_estimators=100 \n",
      "[CV]  clf__criterion=gini, clf__max_depth=5, clf__min_samples_leaf=2, clf__min_samples_split=2, clf__n_estimators=100, total=   2.9s\n",
      "[CV] clf__criterion=gini, clf__max_depth=5, clf__min_samples_leaf=2, clf__min_samples_split=2, clf__n_estimators=200 \n",
      "[CV]  clf__criterion=gini, clf__max_depth=5, clf__min_samples_leaf=2, clf__min_samples_split=2, clf__n_estimators=200, total=   5.8s\n",
      "[CV] clf__criterion=gini, clf__max_depth=5, clf__min_samples_leaf=2, clf__min_samples_split=2, clf__n_estimators=200 \n",
      "[CV]  clf__criterion=gini, clf__max_depth=5, clf__min_samples_leaf=2, clf__min_samples_split=2, clf__n_estimators=200, total=   5.7s\n",
      "[CV] clf__criterion=gini, clf__max_depth=5, clf__min_samples_leaf=2, clf__min_samples_split=2, clf__n_estimators=200 \n",
      "[CV]  clf__criterion=gini, clf__max_depth=5, clf__min_samples_leaf=2, clf__min_samples_split=2, clf__n_estimators=200, total=   6.7s\n",
      "[CV] clf__criterion=gini, clf__max_depth=5, clf__min_samples_leaf=2, clf__min_samples_split=4, clf__n_estimators=10 \n",
      "[CV]  clf__criterion=gini, clf__max_depth=5, clf__min_samples_leaf=2, clf__min_samples_split=4, clf__n_estimators=10, total=   0.7s\n",
      "[CV] clf__criterion=gini, clf__max_depth=5, clf__min_samples_leaf=2, clf__min_samples_split=4, clf__n_estimators=10 \n",
      "[CV]  clf__criterion=gini, clf__max_depth=5, clf__min_samples_leaf=2, clf__min_samples_split=4, clf__n_estimators=10, total=   0.4s\n",
      "[CV] clf__criterion=gini, clf__max_depth=5, clf__min_samples_leaf=2, clf__min_samples_split=4, clf__n_estimators=10 \n",
      "[CV]  clf__criterion=gini, clf__max_depth=5, clf__min_samples_leaf=2, clf__min_samples_split=4, clf__n_estimators=10, total=   0.4s\n",
      "[CV] clf__criterion=gini, clf__max_depth=5, clf__min_samples_leaf=2, clf__min_samples_split=4, clf__n_estimators=50 \n",
      "[CV]  clf__criterion=gini, clf__max_depth=5, clf__min_samples_leaf=2, clf__min_samples_split=4, clf__n_estimators=50, total=   1.4s\n",
      "[CV] clf__criterion=gini, clf__max_depth=5, clf__min_samples_leaf=2, clf__min_samples_split=4, clf__n_estimators=50 \n",
      "[CV]  clf__criterion=gini, clf__max_depth=5, clf__min_samples_leaf=2, clf__min_samples_split=4, clf__n_estimators=50, total=   1.5s\n",
      "[CV] clf__criterion=gini, clf__max_depth=5, clf__min_samples_leaf=2, clf__min_samples_split=4, clf__n_estimators=50 \n"
     ]
    },
    {
     "name": "stderr",
     "output_type": "stream",
     "text": [
      "/anaconda3/lib/python3.7/site-packages/sklearn/metrics/classification.py:1143: UndefinedMetricWarning: F-score is ill-defined and being set to 0.0 in labels with no predicted samples.\n",
      "  'precision', 'predicted', average, warn_for)\n"
     ]
    },
    {
     "name": "stdout",
     "output_type": "stream",
     "text": [
      "[CV]  clf__criterion=gini, clf__max_depth=5, clf__min_samples_leaf=2, clf__min_samples_split=4, clf__n_estimators=50, total=   1.5s\n",
      "[CV] clf__criterion=gini, clf__max_depth=5, clf__min_samples_leaf=2, clf__min_samples_split=4, clf__n_estimators=100 \n",
      "[CV]  clf__criterion=gini, clf__max_depth=5, clf__min_samples_leaf=2, clf__min_samples_split=4, clf__n_estimators=100, total=   2.9s\n",
      "[CV] clf__criterion=gini, clf__max_depth=5, clf__min_samples_leaf=2, clf__min_samples_split=4, clf__n_estimators=100 \n",
      "[CV]  clf__criterion=gini, clf__max_depth=5, clf__min_samples_leaf=2, clf__min_samples_split=4, clf__n_estimators=100, total=   3.4s\n",
      "[CV] clf__criterion=gini, clf__max_depth=5, clf__min_samples_leaf=2, clf__min_samples_split=4, clf__n_estimators=100 \n",
      "[CV]  clf__criterion=gini, clf__max_depth=5, clf__min_samples_leaf=2, clf__min_samples_split=4, clf__n_estimators=100, total=   3.2s\n",
      "[CV] clf__criterion=gini, clf__max_depth=5, clf__min_samples_leaf=2, clf__min_samples_split=4, clf__n_estimators=200 \n",
      "[CV]  clf__criterion=gini, clf__max_depth=5, clf__min_samples_leaf=2, clf__min_samples_split=4, clf__n_estimators=200, total=   5.9s\n",
      "[CV] clf__criterion=gini, clf__max_depth=5, clf__min_samples_leaf=2, clf__min_samples_split=4, clf__n_estimators=200 \n",
      "[CV]  clf__criterion=gini, clf__max_depth=5, clf__min_samples_leaf=2, clf__min_samples_split=4, clf__n_estimators=200, total=   6.3s\n",
      "[CV] clf__criterion=gini, clf__max_depth=5, clf__min_samples_leaf=2, clf__min_samples_split=4, clf__n_estimators=200 \n",
      "[CV]  clf__criterion=gini, clf__max_depth=5, clf__min_samples_leaf=2, clf__min_samples_split=4, clf__n_estimators=200, total=   6.1s\n",
      "[CV] clf__criterion=gini, clf__max_depth=5, clf__min_samples_leaf=2, clf__min_samples_split=8, clf__n_estimators=10 \n",
      "[CV]  clf__criterion=gini, clf__max_depth=5, clf__min_samples_leaf=2, clf__min_samples_split=8, clf__n_estimators=10, total=   0.3s\n",
      "[CV] clf__criterion=gini, clf__max_depth=5, clf__min_samples_leaf=2, clf__min_samples_split=8, clf__n_estimators=10 \n",
      "[CV]  clf__criterion=gini, clf__max_depth=5, clf__min_samples_leaf=2, clf__min_samples_split=8, clf__n_estimators=10, total=   0.3s\n",
      "[CV] clf__criterion=gini, clf__max_depth=5, clf__min_samples_leaf=2, clf__min_samples_split=8, clf__n_estimators=10 \n",
      "[CV]  clf__criterion=gini, clf__max_depth=5, clf__min_samples_leaf=2, clf__min_samples_split=8, clf__n_estimators=10, total=   0.3s\n",
      "[CV] clf__criterion=gini, clf__max_depth=5, clf__min_samples_leaf=2, clf__min_samples_split=8, clf__n_estimators=50 \n",
      "[CV]  clf__criterion=gini, clf__max_depth=5, clf__min_samples_leaf=2, clf__min_samples_split=8, clf__n_estimators=50, total=   1.4s\n",
      "[CV] clf__criterion=gini, clf__max_depth=5, clf__min_samples_leaf=2, clf__min_samples_split=8, clf__n_estimators=50 \n",
      "[CV]  clf__criterion=gini, clf__max_depth=5, clf__min_samples_leaf=2, clf__min_samples_split=8, clf__n_estimators=50, total=   1.4s\n",
      "[CV] clf__criterion=gini, clf__max_depth=5, clf__min_samples_leaf=2, clf__min_samples_split=8, clf__n_estimators=50 \n",
      "[CV]  clf__criterion=gini, clf__max_depth=5, clf__min_samples_leaf=2, clf__min_samples_split=8, clf__n_estimators=50, total=   1.6s\n",
      "[CV] clf__criterion=gini, clf__max_depth=5, clf__min_samples_leaf=2, clf__min_samples_split=8, clf__n_estimators=100 \n",
      "[CV]  clf__criterion=gini, clf__max_depth=5, clf__min_samples_leaf=2, clf__min_samples_split=8, clf__n_estimators=100, total=   2.9s\n",
      "[CV] clf__criterion=gini, clf__max_depth=5, clf__min_samples_leaf=2, clf__min_samples_split=8, clf__n_estimators=100 \n",
      "[CV]  clf__criterion=gini, clf__max_depth=5, clf__min_samples_leaf=2, clf__min_samples_split=8, clf__n_estimators=100, total=   2.8s\n",
      "[CV] clf__criterion=gini, clf__max_depth=5, clf__min_samples_leaf=2, clf__min_samples_split=8, clf__n_estimators=100 \n",
      "[CV]  clf__criterion=gini, clf__max_depth=5, clf__min_samples_leaf=2, clf__min_samples_split=8, clf__n_estimators=100, total=   2.9s\n",
      "[CV] clf__criterion=gini, clf__max_depth=5, clf__min_samples_leaf=2, clf__min_samples_split=8, clf__n_estimators=200 \n",
      "[CV]  clf__criterion=gini, clf__max_depth=5, clf__min_samples_leaf=2, clf__min_samples_split=8, clf__n_estimators=200, total=   5.8s\n",
      "[CV] clf__criterion=gini, clf__max_depth=5, clf__min_samples_leaf=2, clf__min_samples_split=8, clf__n_estimators=200 \n",
      "[CV]  clf__criterion=gini, clf__max_depth=5, clf__min_samples_leaf=2, clf__min_samples_split=8, clf__n_estimators=200, total=   6.4s\n",
      "[CV] clf__criterion=gini, clf__max_depth=5, clf__min_samples_leaf=2, clf__min_samples_split=8, clf__n_estimators=200 \n",
      "[CV]  clf__criterion=gini, clf__max_depth=5, clf__min_samples_leaf=2, clf__min_samples_split=8, clf__n_estimators=200, total=   6.5s\n",
      "[CV] clf__criterion=gini, clf__max_depth=5, clf__min_samples_leaf=5, clf__min_samples_split=2, clf__n_estimators=10 \n",
      "[CV]  clf__criterion=gini, clf__max_depth=5, clf__min_samples_leaf=5, clf__min_samples_split=2, clf__n_estimators=10, total=   0.4s\n",
      "[CV] clf__criterion=gini, clf__max_depth=5, clf__min_samples_leaf=5, clf__min_samples_split=2, clf__n_estimators=10 \n",
      "[CV]  clf__criterion=gini, clf__max_depth=5, clf__min_samples_leaf=5, clf__min_samples_split=2, clf__n_estimators=10, total=   0.3s\n",
      "[CV] clf__criterion=gini, clf__max_depth=5, clf__min_samples_leaf=5, clf__min_samples_split=2, clf__n_estimators=10 \n",
      "[CV]  clf__criterion=gini, clf__max_depth=5, clf__min_samples_leaf=5, clf__min_samples_split=2, clf__n_estimators=10, total=   0.3s\n",
      "[CV] clf__criterion=gini, clf__max_depth=5, clf__min_samples_leaf=5, clf__min_samples_split=2, clf__n_estimators=50 \n",
      "[CV]  clf__criterion=gini, clf__max_depth=5, clf__min_samples_leaf=5, clf__min_samples_split=2, clf__n_estimators=50, total=   1.8s\n",
      "[CV] clf__criterion=gini, clf__max_depth=5, clf__min_samples_leaf=5, clf__min_samples_split=2, clf__n_estimators=50 \n",
      "[CV]  clf__criterion=gini, clf__max_depth=5, clf__min_samples_leaf=5, clf__min_samples_split=2, clf__n_estimators=50, total=   1.6s\n",
      "[CV] clf__criterion=gini, clf__max_depth=5, clf__min_samples_leaf=5, clf__min_samples_split=2, clf__n_estimators=50 \n",
      "[CV]  clf__criterion=gini, clf__max_depth=5, clf__min_samples_leaf=5, clf__min_samples_split=2, clf__n_estimators=50, total=   1.5s\n",
      "[CV] clf__criterion=gini, clf__max_depth=5, clf__min_samples_leaf=5, clf__min_samples_split=2, clf__n_estimators=100 \n",
      "[CV]  clf__criterion=gini, clf__max_depth=5, clf__min_samples_leaf=5, clf__min_samples_split=2, clf__n_estimators=100, total=   2.9s\n",
      "[CV] clf__criterion=gini, clf__max_depth=5, clf__min_samples_leaf=5, clf__min_samples_split=2, clf__n_estimators=100 \n",
      "[CV]  clf__criterion=gini, clf__max_depth=5, clf__min_samples_leaf=5, clf__min_samples_split=2, clf__n_estimators=100, total=   2.9s\n",
      "[CV] clf__criterion=gini, clf__max_depth=5, clf__min_samples_leaf=5, clf__min_samples_split=2, clf__n_estimators=100 \n",
      "[CV]  clf__criterion=gini, clf__max_depth=5, clf__min_samples_leaf=5, clf__min_samples_split=2, clf__n_estimators=100, total=   3.0s\n",
      "[CV] clf__criterion=gini, clf__max_depth=5, clf__min_samples_leaf=5, clf__min_samples_split=2, clf__n_estimators=200 \n",
      "[CV]  clf__criterion=gini, clf__max_depth=5, clf__min_samples_leaf=5, clf__min_samples_split=2, clf__n_estimators=200, total=   6.1s\n",
      "[CV] clf__criterion=gini, clf__max_depth=5, clf__min_samples_leaf=5, clf__min_samples_split=2, clf__n_estimators=200 \n",
      "[CV]  clf__criterion=gini, clf__max_depth=5, clf__min_samples_leaf=5, clf__min_samples_split=2, clf__n_estimators=200, total=   5.7s\n",
      "[CV] clf__criterion=gini, clf__max_depth=5, clf__min_samples_leaf=5, clf__min_samples_split=2, clf__n_estimators=200 \n",
      "[CV]  clf__criterion=gini, clf__max_depth=5, clf__min_samples_leaf=5, clf__min_samples_split=2, clf__n_estimators=200, total=   6.1s\n",
      "[CV] clf__criterion=gini, clf__max_depth=5, clf__min_samples_leaf=5, clf__min_samples_split=4, clf__n_estimators=10 \n",
      "[CV]  clf__criterion=gini, clf__max_depth=5, clf__min_samples_leaf=5, clf__min_samples_split=4, clf__n_estimators=10, total=   0.3s\n",
      "[CV] clf__criterion=gini, clf__max_depth=5, clf__min_samples_leaf=5, clf__min_samples_split=4, clf__n_estimators=10 \n",
      "[CV]  clf__criterion=gini, clf__max_depth=5, clf__min_samples_leaf=5, clf__min_samples_split=4, clf__n_estimators=10, total=   0.3s\n",
      "[CV] clf__criterion=gini, clf__max_depth=5, clf__min_samples_leaf=5, clf__min_samples_split=4, clf__n_estimators=10 \n"
     ]
    },
    {
     "name": "stdout",
     "output_type": "stream",
     "text": [
      "[CV]  clf__criterion=gini, clf__max_depth=5, clf__min_samples_leaf=5, clf__min_samples_split=4, clf__n_estimators=10, total=   0.3s\n",
      "[CV] clf__criterion=gini, clf__max_depth=5, clf__min_samples_leaf=5, clf__min_samples_split=4, clf__n_estimators=50 \n",
      "[CV]  clf__criterion=gini, clf__max_depth=5, clf__min_samples_leaf=5, clf__min_samples_split=4, clf__n_estimators=50, total=   1.5s\n",
      "[CV] clf__criterion=gini, clf__max_depth=5, clf__min_samples_leaf=5, clf__min_samples_split=4, clf__n_estimators=50 \n",
      "[CV]  clf__criterion=gini, clf__max_depth=5, clf__min_samples_leaf=5, clf__min_samples_split=4, clf__n_estimators=50, total=   1.4s\n",
      "[CV] clf__criterion=gini, clf__max_depth=5, clf__min_samples_leaf=5, clf__min_samples_split=4, clf__n_estimators=50 \n"
     ]
    },
    {
     "name": "stderr",
     "output_type": "stream",
     "text": [
      "/anaconda3/lib/python3.7/site-packages/sklearn/metrics/classification.py:1143: UndefinedMetricWarning: F-score is ill-defined and being set to 0.0 in labels with no predicted samples.\n",
      "  'precision', 'predicted', average, warn_for)\n"
     ]
    },
    {
     "name": "stdout",
     "output_type": "stream",
     "text": [
      "[CV]  clf__criterion=gini, clf__max_depth=5, clf__min_samples_leaf=5, clf__min_samples_split=4, clf__n_estimators=50, total=   1.5s\n",
      "[CV] clf__criterion=gini, clf__max_depth=5, clf__min_samples_leaf=5, clf__min_samples_split=4, clf__n_estimators=100 \n",
      "[CV]  clf__criterion=gini, clf__max_depth=5, clf__min_samples_leaf=5, clf__min_samples_split=4, clf__n_estimators=100, total=   3.0s\n",
      "[CV] clf__criterion=gini, clf__max_depth=5, clf__min_samples_leaf=5, clf__min_samples_split=4, clf__n_estimators=100 \n",
      "[CV]  clf__criterion=gini, clf__max_depth=5, clf__min_samples_leaf=5, clf__min_samples_split=4, clf__n_estimators=100, total=   2.8s\n",
      "[CV] clf__criterion=gini, clf__max_depth=5, clf__min_samples_leaf=5, clf__min_samples_split=4, clf__n_estimators=100 \n",
      "[CV]  clf__criterion=gini, clf__max_depth=5, clf__min_samples_leaf=5, clf__min_samples_split=4, clf__n_estimators=100, total=   3.1s\n",
      "[CV] clf__criterion=gini, clf__max_depth=5, clf__min_samples_leaf=5, clf__min_samples_split=4, clf__n_estimators=200 \n",
      "[CV]  clf__criterion=gini, clf__max_depth=5, clf__min_samples_leaf=5, clf__min_samples_split=4, clf__n_estimators=200, total=   5.8s\n",
      "[CV] clf__criterion=gini, clf__max_depth=5, clf__min_samples_leaf=5, clf__min_samples_split=4, clf__n_estimators=200 \n",
      "[CV]  clf__criterion=gini, clf__max_depth=5, clf__min_samples_leaf=5, clf__min_samples_split=4, clf__n_estimators=200, total=   5.7s\n",
      "[CV] clf__criterion=gini, clf__max_depth=5, clf__min_samples_leaf=5, clf__min_samples_split=4, clf__n_estimators=200 \n",
      "[CV]  clf__criterion=gini, clf__max_depth=5, clf__min_samples_leaf=5, clf__min_samples_split=4, clf__n_estimators=200, total=   5.9s\n",
      "[CV] clf__criterion=gini, clf__max_depth=5, clf__min_samples_leaf=5, clf__min_samples_split=8, clf__n_estimators=10 \n",
      "[CV]  clf__criterion=gini, clf__max_depth=5, clf__min_samples_leaf=5, clf__min_samples_split=8, clf__n_estimators=10, total=   0.3s\n",
      "[CV] clf__criterion=gini, clf__max_depth=5, clf__min_samples_leaf=5, clf__min_samples_split=8, clf__n_estimators=10 \n",
      "[CV]  clf__criterion=gini, clf__max_depth=5, clf__min_samples_leaf=5, clf__min_samples_split=8, clf__n_estimators=10, total=   0.3s\n",
      "[CV] clf__criterion=gini, clf__max_depth=5, clf__min_samples_leaf=5, clf__min_samples_split=8, clf__n_estimators=10 \n",
      "[CV]  clf__criterion=gini, clf__max_depth=5, clf__min_samples_leaf=5, clf__min_samples_split=8, clf__n_estimators=10, total=   0.3s\n",
      "[CV] clf__criterion=gini, clf__max_depth=5, clf__min_samples_leaf=5, clf__min_samples_split=8, clf__n_estimators=50 \n",
      "[CV]  clf__criterion=gini, clf__max_depth=5, clf__min_samples_leaf=5, clf__min_samples_split=8, clf__n_estimators=50, total=   1.5s\n",
      "[CV] clf__criterion=gini, clf__max_depth=5, clf__min_samples_leaf=5, clf__min_samples_split=8, clf__n_estimators=50 \n",
      "[CV]  clf__criterion=gini, clf__max_depth=5, clf__min_samples_leaf=5, clf__min_samples_split=8, clf__n_estimators=50, total=   1.5s\n",
      "[CV] clf__criterion=gini, clf__max_depth=5, clf__min_samples_leaf=5, clf__min_samples_split=8, clf__n_estimators=50 \n",
      "[CV]  clf__criterion=gini, clf__max_depth=5, clf__min_samples_leaf=5, clf__min_samples_split=8, clf__n_estimators=50, total=   1.6s\n",
      "[CV] clf__criterion=gini, clf__max_depth=5, clf__min_samples_leaf=5, clf__min_samples_split=8, clf__n_estimators=100 \n",
      "[CV]  clf__criterion=gini, clf__max_depth=5, clf__min_samples_leaf=5, clf__min_samples_split=8, clf__n_estimators=100, total=   3.0s\n",
      "[CV] clf__criterion=gini, clf__max_depth=5, clf__min_samples_leaf=5, clf__min_samples_split=8, clf__n_estimators=100 \n",
      "[CV]  clf__criterion=gini, clf__max_depth=5, clf__min_samples_leaf=5, clf__min_samples_split=8, clf__n_estimators=100, total=   3.0s\n",
      "[CV] clf__criterion=gini, clf__max_depth=5, clf__min_samples_leaf=5, clf__min_samples_split=8, clf__n_estimators=100 \n",
      "[CV]  clf__criterion=gini, clf__max_depth=5, clf__min_samples_leaf=5, clf__min_samples_split=8, clf__n_estimators=100, total=   3.0s\n",
      "[CV] clf__criterion=gini, clf__max_depth=5, clf__min_samples_leaf=5, clf__min_samples_split=8, clf__n_estimators=200 \n",
      "[CV]  clf__criterion=gini, clf__max_depth=5, clf__min_samples_leaf=5, clf__min_samples_split=8, clf__n_estimators=200, total=   6.0s\n",
      "[CV] clf__criterion=gini, clf__max_depth=5, clf__min_samples_leaf=5, clf__min_samples_split=8, clf__n_estimators=200 \n",
      "[CV]  clf__criterion=gini, clf__max_depth=5, clf__min_samples_leaf=5, clf__min_samples_split=8, clf__n_estimators=200, total=   5.8s\n",
      "[CV] clf__criterion=gini, clf__max_depth=5, clf__min_samples_leaf=5, clf__min_samples_split=8, clf__n_estimators=200 \n",
      "[CV]  clf__criterion=gini, clf__max_depth=5, clf__min_samples_leaf=5, clf__min_samples_split=8, clf__n_estimators=200, total=   5.9s\n",
      "[CV] clf__criterion=entropy, clf__max_depth=None, clf__min_samples_leaf=1, clf__min_samples_split=2, clf__n_estimators=10 \n",
      "[CV]  clf__criterion=entropy, clf__max_depth=None, clf__min_samples_leaf=1, clf__min_samples_split=2, clf__n_estimators=10, total=   1.4s\n",
      "[CV] clf__criterion=entropy, clf__max_depth=None, clf__min_samples_leaf=1, clf__min_samples_split=2, clf__n_estimators=10 \n",
      "[CV]  clf__criterion=entropy, clf__max_depth=None, clf__min_samples_leaf=1, clf__min_samples_split=2, clf__n_estimators=10, total=   1.3s\n",
      "[CV] clf__criterion=entropy, clf__max_depth=None, clf__min_samples_leaf=1, clf__min_samples_split=2, clf__n_estimators=10 \n",
      "[CV]  clf__criterion=entropy, clf__max_depth=None, clf__min_samples_leaf=1, clf__min_samples_split=2, clf__n_estimators=10, total=   1.4s\n",
      "[CV] clf__criterion=entropy, clf__max_depth=None, clf__min_samples_leaf=1, clf__min_samples_split=2, clf__n_estimators=50 \n",
      "[CV]  clf__criterion=entropy, clf__max_depth=None, clf__min_samples_leaf=1, clf__min_samples_split=2, clf__n_estimators=50, total=   7.3s\n",
      "[CV] clf__criterion=entropy, clf__max_depth=None, clf__min_samples_leaf=1, clf__min_samples_split=2, clf__n_estimators=50 \n",
      "[CV]  clf__criterion=entropy, clf__max_depth=None, clf__min_samples_leaf=1, clf__min_samples_split=2, clf__n_estimators=50, total=   7.0s\n",
      "[CV] clf__criterion=entropy, clf__max_depth=None, clf__min_samples_leaf=1, clf__min_samples_split=2, clf__n_estimators=50 \n",
      "[CV]  clf__criterion=entropy, clf__max_depth=None, clf__min_samples_leaf=1, clf__min_samples_split=2, clf__n_estimators=50, total=   7.1s\n",
      "[CV] clf__criterion=entropy, clf__max_depth=None, clf__min_samples_leaf=1, clf__min_samples_split=2, clf__n_estimators=100 \n",
      "[CV]  clf__criterion=entropy, clf__max_depth=None, clf__min_samples_leaf=1, clf__min_samples_split=2, clf__n_estimators=100, total=  14.3s\n",
      "[CV] clf__criterion=entropy, clf__max_depth=None, clf__min_samples_leaf=1, clf__min_samples_split=2, clf__n_estimators=100 \n",
      "[CV]  clf__criterion=entropy, clf__max_depth=None, clf__min_samples_leaf=1, clf__min_samples_split=2, clf__n_estimators=100, total=  14.5s\n",
      "[CV] clf__criterion=entropy, clf__max_depth=None, clf__min_samples_leaf=1, clf__min_samples_split=2, clf__n_estimators=100 \n",
      "[CV]  clf__criterion=entropy, clf__max_depth=None, clf__min_samples_leaf=1, clf__min_samples_split=2, clf__n_estimators=100, total=  14.9s\n",
      "[CV] clf__criterion=entropy, clf__max_depth=None, clf__min_samples_leaf=1, clf__min_samples_split=2, clf__n_estimators=200 \n",
      "[CV]  clf__criterion=entropy, clf__max_depth=None, clf__min_samples_leaf=1, clf__min_samples_split=2, clf__n_estimators=200, total=  30.1s\n",
      "[CV] clf__criterion=entropy, clf__max_depth=None, clf__min_samples_leaf=1, clf__min_samples_split=2, clf__n_estimators=200 \n",
      "[CV]  clf__criterion=entropy, clf__max_depth=None, clf__min_samples_leaf=1, clf__min_samples_split=2, clf__n_estimators=200, total=  27.8s\n",
      "[CV] clf__criterion=entropy, clf__max_depth=None, clf__min_samples_leaf=1, clf__min_samples_split=2, clf__n_estimators=200 \n",
      "[CV]  clf__criterion=entropy, clf__max_depth=None, clf__min_samples_leaf=1, clf__min_samples_split=2, clf__n_estimators=200, total=  28.5s\n",
      "[CV] clf__criterion=entropy, clf__max_depth=None, clf__min_samples_leaf=1, clf__min_samples_split=4, clf__n_estimators=10 \n",
      "[CV]  clf__criterion=entropy, clf__max_depth=None, clf__min_samples_leaf=1, clf__min_samples_split=4, clf__n_estimators=10, total=   1.5s\n",
      "[CV] clf__criterion=entropy, clf__max_depth=None, clf__min_samples_leaf=1, clf__min_samples_split=4, clf__n_estimators=10 \n",
      "[CV]  clf__criterion=entropy, clf__max_depth=None, clf__min_samples_leaf=1, clf__min_samples_split=4, clf__n_estimators=10, total=   1.6s\n",
      "[CV] clf__criterion=entropy, clf__max_depth=None, clf__min_samples_leaf=1, clf__min_samples_split=4, clf__n_estimators=10 \n"
     ]
    },
    {
     "name": "stdout",
     "output_type": "stream",
     "text": [
      "[CV]  clf__criterion=entropy, clf__max_depth=None, clf__min_samples_leaf=1, clf__min_samples_split=4, clf__n_estimators=10, total=   1.6s\n",
      "[CV] clf__criterion=entropy, clf__max_depth=None, clf__min_samples_leaf=1, clf__min_samples_split=4, clf__n_estimators=50 \n",
      "[CV]  clf__criterion=entropy, clf__max_depth=None, clf__min_samples_leaf=1, clf__min_samples_split=4, clf__n_estimators=50, total=   7.2s\n",
      "[CV] clf__criterion=entropy, clf__max_depth=None, clf__min_samples_leaf=1, clf__min_samples_split=4, clf__n_estimators=50 \n",
      "[CV]  clf__criterion=entropy, clf__max_depth=None, clf__min_samples_leaf=1, clf__min_samples_split=4, clf__n_estimators=50, total=   7.0s\n",
      "[CV] clf__criterion=entropy, clf__max_depth=None, clf__min_samples_leaf=1, clf__min_samples_split=4, clf__n_estimators=50 \n",
      "[CV]  clf__criterion=entropy, clf__max_depth=None, clf__min_samples_leaf=1, clf__min_samples_split=4, clf__n_estimators=50, total=   7.1s\n",
      "[CV] clf__criterion=entropy, clf__max_depth=None, clf__min_samples_leaf=1, clf__min_samples_split=4, clf__n_estimators=100 \n",
      "[CV]  clf__criterion=entropy, clf__max_depth=None, clf__min_samples_leaf=1, clf__min_samples_split=4, clf__n_estimators=100, total=  14.5s\n",
      "[CV] clf__criterion=entropy, clf__max_depth=None, clf__min_samples_leaf=1, clf__min_samples_split=4, clf__n_estimators=100 \n",
      "[CV]  clf__criterion=entropy, clf__max_depth=None, clf__min_samples_leaf=1, clf__min_samples_split=4, clf__n_estimators=100, total=  16.9s\n",
      "[CV] clf__criterion=entropy, clf__max_depth=None, clf__min_samples_leaf=1, clf__min_samples_split=4, clf__n_estimators=100 \n",
      "[CV]  clf__criterion=entropy, clf__max_depth=None, clf__min_samples_leaf=1, clf__min_samples_split=4, clf__n_estimators=100, total=  14.5s\n",
      "[CV] clf__criterion=entropy, clf__max_depth=None, clf__min_samples_leaf=1, clf__min_samples_split=4, clf__n_estimators=200 \n",
      "[CV]  clf__criterion=entropy, clf__max_depth=None, clf__min_samples_leaf=1, clf__min_samples_split=4, clf__n_estimators=200, total=  30.9s\n",
      "[CV] clf__criterion=entropy, clf__max_depth=None, clf__min_samples_leaf=1, clf__min_samples_split=4, clf__n_estimators=200 \n",
      "[CV]  clf__criterion=entropy, clf__max_depth=None, clf__min_samples_leaf=1, clf__min_samples_split=4, clf__n_estimators=200, total=  31.1s\n",
      "[CV] clf__criterion=entropy, clf__max_depth=None, clf__min_samples_leaf=1, clf__min_samples_split=4, clf__n_estimators=200 \n",
      "[CV]  clf__criterion=entropy, clf__max_depth=None, clf__min_samples_leaf=1, clf__min_samples_split=4, clf__n_estimators=200, total=  29.7s\n",
      "[CV] clf__criterion=entropy, clf__max_depth=None, clf__min_samples_leaf=1, clf__min_samples_split=8, clf__n_estimators=10 \n",
      "[CV]  clf__criterion=entropy, clf__max_depth=None, clf__min_samples_leaf=1, clf__min_samples_split=8, clf__n_estimators=10, total=   1.3s\n",
      "[CV] clf__criterion=entropy, clf__max_depth=None, clf__min_samples_leaf=1, clf__min_samples_split=8, clf__n_estimators=10 \n",
      "[CV]  clf__criterion=entropy, clf__max_depth=None, clf__min_samples_leaf=1, clf__min_samples_split=8, clf__n_estimators=10, total=   1.3s\n",
      "[CV] clf__criterion=entropy, clf__max_depth=None, clf__min_samples_leaf=1, clf__min_samples_split=8, clf__n_estimators=10 \n",
      "[CV]  clf__criterion=entropy, clf__max_depth=None, clf__min_samples_leaf=1, clf__min_samples_split=8, clf__n_estimators=10, total=   1.6s\n",
      "[CV] clf__criterion=entropy, clf__max_depth=None, clf__min_samples_leaf=1, clf__min_samples_split=8, clf__n_estimators=50 \n",
      "[CV]  clf__criterion=entropy, clf__max_depth=None, clf__min_samples_leaf=1, clf__min_samples_split=8, clf__n_estimators=50, total=   7.2s\n",
      "[CV] clf__criterion=entropy, clf__max_depth=None, clf__min_samples_leaf=1, clf__min_samples_split=8, clf__n_estimators=50 \n",
      "[CV]  clf__criterion=entropy, clf__max_depth=None, clf__min_samples_leaf=1, clf__min_samples_split=8, clf__n_estimators=50, total=   6.9s\n",
      "[CV] clf__criterion=entropy, clf__max_depth=None, clf__min_samples_leaf=1, clf__min_samples_split=8, clf__n_estimators=50 \n",
      "[CV]  clf__criterion=entropy, clf__max_depth=None, clf__min_samples_leaf=1, clf__min_samples_split=8, clf__n_estimators=50, total=   7.2s\n",
      "[CV] clf__criterion=entropy, clf__max_depth=None, clf__min_samples_leaf=1, clf__min_samples_split=8, clf__n_estimators=100 \n",
      "[CV]  clf__criterion=entropy, clf__max_depth=None, clf__min_samples_leaf=1, clf__min_samples_split=8, clf__n_estimators=100, total=  14.1s\n",
      "[CV] clf__criterion=entropy, clf__max_depth=None, clf__min_samples_leaf=1, clf__min_samples_split=8, clf__n_estimators=100 \n",
      "[CV]  clf__criterion=entropy, clf__max_depth=None, clf__min_samples_leaf=1, clf__min_samples_split=8, clf__n_estimators=100, total=  13.4s\n",
      "[CV] clf__criterion=entropy, clf__max_depth=None, clf__min_samples_leaf=1, clf__min_samples_split=8, clf__n_estimators=100 \n",
      "[CV]  clf__criterion=entropy, clf__max_depth=None, clf__min_samples_leaf=1, clf__min_samples_split=8, clf__n_estimators=100, total=  14.0s\n",
      "[CV] clf__criterion=entropy, clf__max_depth=None, clf__min_samples_leaf=1, clf__min_samples_split=8, clf__n_estimators=200 \n",
      "[CV]  clf__criterion=entropy, clf__max_depth=None, clf__min_samples_leaf=1, clf__min_samples_split=8, clf__n_estimators=200, total=  29.4s\n",
      "[CV] clf__criterion=entropy, clf__max_depth=None, clf__min_samples_leaf=1, clf__min_samples_split=8, clf__n_estimators=200 \n",
      "[CV]  clf__criterion=entropy, clf__max_depth=None, clf__min_samples_leaf=1, clf__min_samples_split=8, clf__n_estimators=200, total=  28.2s\n",
      "[CV] clf__criterion=entropy, clf__max_depth=None, clf__min_samples_leaf=1, clf__min_samples_split=8, clf__n_estimators=200 \n",
      "[CV]  clf__criterion=entropy, clf__max_depth=None, clf__min_samples_leaf=1, clf__min_samples_split=8, clf__n_estimators=200, total=  28.3s\n",
      "[CV] clf__criterion=entropy, clf__max_depth=None, clf__min_samples_leaf=2, clf__min_samples_split=2, clf__n_estimators=10 \n",
      "[CV]  clf__criterion=entropy, clf__max_depth=None, clf__min_samples_leaf=2, clf__min_samples_split=2, clf__n_estimators=10, total=   1.6s\n",
      "[CV] clf__criterion=entropy, clf__max_depth=None, clf__min_samples_leaf=2, clf__min_samples_split=2, clf__n_estimators=10 \n",
      "[CV]  clf__criterion=entropy, clf__max_depth=None, clf__min_samples_leaf=2, clf__min_samples_split=2, clf__n_estimators=10, total=   1.4s\n",
      "[CV] clf__criterion=entropy, clf__max_depth=None, clf__min_samples_leaf=2, clf__min_samples_split=2, clf__n_estimators=10 \n",
      "[CV]  clf__criterion=entropy, clf__max_depth=None, clf__min_samples_leaf=2, clf__min_samples_split=2, clf__n_estimators=10, total=   1.5s\n",
      "[CV] clf__criterion=entropy, clf__max_depth=None, clf__min_samples_leaf=2, clf__min_samples_split=2, clf__n_estimators=50 \n",
      "[CV]  clf__criterion=entropy, clf__max_depth=None, clf__min_samples_leaf=2, clf__min_samples_split=2, clf__n_estimators=50, total=   6.9s\n",
      "[CV] clf__criterion=entropy, clf__max_depth=None, clf__min_samples_leaf=2, clf__min_samples_split=2, clf__n_estimators=50 \n",
      "[CV]  clf__criterion=entropy, clf__max_depth=None, clf__min_samples_leaf=2, clf__min_samples_split=2, clf__n_estimators=50, total=   6.5s\n",
      "[CV] clf__criterion=entropy, clf__max_depth=None, clf__min_samples_leaf=2, clf__min_samples_split=2, clf__n_estimators=50 \n",
      "[CV]  clf__criterion=entropy, clf__max_depth=None, clf__min_samples_leaf=2, clf__min_samples_split=2, clf__n_estimators=50, total=   7.4s\n",
      "[CV] clf__criterion=entropy, clf__max_depth=None, clf__min_samples_leaf=2, clf__min_samples_split=2, clf__n_estimators=100 \n",
      "[CV]  clf__criterion=entropy, clf__max_depth=None, clf__min_samples_leaf=2, clf__min_samples_split=2, clf__n_estimators=100, total=  16.5s\n",
      "[CV] clf__criterion=entropy, clf__max_depth=None, clf__min_samples_leaf=2, clf__min_samples_split=2, clf__n_estimators=100 \n",
      "[CV]  clf__criterion=entropy, clf__max_depth=None, clf__min_samples_leaf=2, clf__min_samples_split=2, clf__n_estimators=100, total=  13.1s\n",
      "[CV] clf__criterion=entropy, clf__max_depth=None, clf__min_samples_leaf=2, clf__min_samples_split=2, clf__n_estimators=100 \n",
      "[CV]  clf__criterion=entropy, clf__max_depth=None, clf__min_samples_leaf=2, clf__min_samples_split=2, clf__n_estimators=100, total=  13.7s\n",
      "[CV] clf__criterion=entropy, clf__max_depth=None, clf__min_samples_leaf=2, clf__min_samples_split=2, clf__n_estimators=200 \n",
      "[CV]  clf__criterion=entropy, clf__max_depth=None, clf__min_samples_leaf=2, clf__min_samples_split=2, clf__n_estimators=200, total=  28.4s\n",
      "[CV] clf__criterion=entropy, clf__max_depth=None, clf__min_samples_leaf=2, clf__min_samples_split=2, clf__n_estimators=200 \n"
     ]
    },
    {
     "name": "stdout",
     "output_type": "stream",
     "text": [
      "[CV]  clf__criterion=entropy, clf__max_depth=None, clf__min_samples_leaf=2, clf__min_samples_split=2, clf__n_estimators=200, total=  26.7s\n",
      "[CV] clf__criterion=entropy, clf__max_depth=None, clf__min_samples_leaf=2, clf__min_samples_split=2, clf__n_estimators=200 \n",
      "[CV]  clf__criterion=entropy, clf__max_depth=None, clf__min_samples_leaf=2, clf__min_samples_split=2, clf__n_estimators=200, total=  28.8s\n",
      "[CV] clf__criterion=entropy, clf__max_depth=None, clf__min_samples_leaf=2, clf__min_samples_split=4, clf__n_estimators=10 \n",
      "[CV]  clf__criterion=entropy, clf__max_depth=None, clf__min_samples_leaf=2, clf__min_samples_split=4, clf__n_estimators=10, total=   1.3s\n",
      "[CV] clf__criterion=entropy, clf__max_depth=None, clf__min_samples_leaf=2, clf__min_samples_split=4, clf__n_estimators=10 \n",
      "[CV]  clf__criterion=entropy, clf__max_depth=None, clf__min_samples_leaf=2, clf__min_samples_split=4, clf__n_estimators=10, total=   1.5s\n",
      "[CV] clf__criterion=entropy, clf__max_depth=None, clf__min_samples_leaf=2, clf__min_samples_split=4, clf__n_estimators=10 \n",
      "[CV]  clf__criterion=entropy, clf__max_depth=None, clf__min_samples_leaf=2, clf__min_samples_split=4, clf__n_estimators=10, total=   1.5s\n",
      "[CV] clf__criterion=entropy, clf__max_depth=None, clf__min_samples_leaf=2, clf__min_samples_split=4, clf__n_estimators=50 \n",
      "[CV]  clf__criterion=entropy, clf__max_depth=None, clf__min_samples_leaf=2, clf__min_samples_split=4, clf__n_estimators=50, total=   7.0s\n",
      "[CV] clf__criterion=entropy, clf__max_depth=None, clf__min_samples_leaf=2, clf__min_samples_split=4, clf__n_estimators=50 \n",
      "[CV]  clf__criterion=entropy, clf__max_depth=None, clf__min_samples_leaf=2, clf__min_samples_split=4, clf__n_estimators=50, total=   6.6s\n",
      "[CV] clf__criterion=entropy, clf__max_depth=None, clf__min_samples_leaf=2, clf__min_samples_split=4, clf__n_estimators=50 \n",
      "[CV]  clf__criterion=entropy, clf__max_depth=None, clf__min_samples_leaf=2, clf__min_samples_split=4, clf__n_estimators=50, total=   6.8s\n",
      "[CV] clf__criterion=entropy, clf__max_depth=None, clf__min_samples_leaf=2, clf__min_samples_split=4, clf__n_estimators=100 \n",
      "[CV]  clf__criterion=entropy, clf__max_depth=None, clf__min_samples_leaf=2, clf__min_samples_split=4, clf__n_estimators=100, total=  13.1s\n",
      "[CV] clf__criterion=entropy, clf__max_depth=None, clf__min_samples_leaf=2, clf__min_samples_split=4, clf__n_estimators=100 \n",
      "[CV]  clf__criterion=entropy, clf__max_depth=None, clf__min_samples_leaf=2, clf__min_samples_split=4, clf__n_estimators=100, total=  13.9s\n",
      "[CV] clf__criterion=entropy, clf__max_depth=None, clf__min_samples_leaf=2, clf__min_samples_split=4, clf__n_estimators=100 \n",
      "[CV]  clf__criterion=entropy, clf__max_depth=None, clf__min_samples_leaf=2, clf__min_samples_split=4, clf__n_estimators=100, total=  13.9s\n",
      "[CV] clf__criterion=entropy, clf__max_depth=None, clf__min_samples_leaf=2, clf__min_samples_split=4, clf__n_estimators=200 \n",
      "[CV]  clf__criterion=entropy, clf__max_depth=None, clf__min_samples_leaf=2, clf__min_samples_split=4, clf__n_estimators=200, total=  27.4s\n",
      "[CV] clf__criterion=entropy, clf__max_depth=None, clf__min_samples_leaf=2, clf__min_samples_split=4, clf__n_estimators=200 \n",
      "[CV]  clf__criterion=entropy, clf__max_depth=None, clf__min_samples_leaf=2, clf__min_samples_split=4, clf__n_estimators=200, total=  26.2s\n",
      "[CV] clf__criterion=entropy, clf__max_depth=None, clf__min_samples_leaf=2, clf__min_samples_split=4, clf__n_estimators=200 \n",
      "[CV]  clf__criterion=entropy, clf__max_depth=None, clf__min_samples_leaf=2, clf__min_samples_split=4, clf__n_estimators=200, total=  28.5s\n",
      "[CV] clf__criterion=entropy, clf__max_depth=None, clf__min_samples_leaf=2, clf__min_samples_split=8, clf__n_estimators=10 \n",
      "[CV]  clf__criterion=entropy, clf__max_depth=None, clf__min_samples_leaf=2, clf__min_samples_split=8, clf__n_estimators=10, total=   1.4s\n",
      "[CV] clf__criterion=entropy, clf__max_depth=None, clf__min_samples_leaf=2, clf__min_samples_split=8, clf__n_estimators=10 \n",
      "[CV]  clf__criterion=entropy, clf__max_depth=None, clf__min_samples_leaf=2, clf__min_samples_split=8, clf__n_estimators=10, total=   1.3s\n",
      "[CV] clf__criterion=entropy, clf__max_depth=None, clf__min_samples_leaf=2, clf__min_samples_split=8, clf__n_estimators=10 \n",
      "[CV]  clf__criterion=entropy, clf__max_depth=None, clf__min_samples_leaf=2, clf__min_samples_split=8, clf__n_estimators=10, total=   1.3s\n",
      "[CV] clf__criterion=entropy, clf__max_depth=None, clf__min_samples_leaf=2, clf__min_samples_split=8, clf__n_estimators=50 \n",
      "[CV]  clf__criterion=entropy, clf__max_depth=None, clf__min_samples_leaf=2, clf__min_samples_split=8, clf__n_estimators=50, total=   6.7s\n",
      "[CV] clf__criterion=entropy, clf__max_depth=None, clf__min_samples_leaf=2, clf__min_samples_split=8, clf__n_estimators=50 \n",
      "[CV]  clf__criterion=entropy, clf__max_depth=None, clf__min_samples_leaf=2, clf__min_samples_split=8, clf__n_estimators=50, total=   6.9s\n",
      "[CV] clf__criterion=entropy, clf__max_depth=None, clf__min_samples_leaf=2, clf__min_samples_split=8, clf__n_estimators=50 \n",
      "[CV]  clf__criterion=entropy, clf__max_depth=None, clf__min_samples_leaf=2, clf__min_samples_split=8, clf__n_estimators=50, total=   6.8s\n",
      "[CV] clf__criterion=entropy, clf__max_depth=None, clf__min_samples_leaf=2, clf__min_samples_split=8, clf__n_estimators=100 \n",
      "[CV]  clf__criterion=entropy, clf__max_depth=None, clf__min_samples_leaf=2, clf__min_samples_split=8, clf__n_estimators=100, total=  13.5s\n",
      "[CV] clf__criterion=entropy, clf__max_depth=None, clf__min_samples_leaf=2, clf__min_samples_split=8, clf__n_estimators=100 \n",
      "[CV]  clf__criterion=entropy, clf__max_depth=None, clf__min_samples_leaf=2, clf__min_samples_split=8, clf__n_estimators=100, total=  13.1s\n",
      "[CV] clf__criterion=entropy, clf__max_depth=None, clf__min_samples_leaf=2, clf__min_samples_split=8, clf__n_estimators=100 \n",
      "[CV]  clf__criterion=entropy, clf__max_depth=None, clf__min_samples_leaf=2, clf__min_samples_split=8, clf__n_estimators=100, total=  15.1s\n",
      "[CV] clf__criterion=entropy, clf__max_depth=None, clf__min_samples_leaf=2, clf__min_samples_split=8, clf__n_estimators=200 \n",
      "[CV]  clf__criterion=entropy, clf__max_depth=None, clf__min_samples_leaf=2, clf__min_samples_split=8, clf__n_estimators=200, total=  26.4s\n",
      "[CV] clf__criterion=entropy, clf__max_depth=None, clf__min_samples_leaf=2, clf__min_samples_split=8, clf__n_estimators=200 \n",
      "[CV]  clf__criterion=entropy, clf__max_depth=None, clf__min_samples_leaf=2, clf__min_samples_split=8, clf__n_estimators=200, total=  27.1s\n",
      "[CV] clf__criterion=entropy, clf__max_depth=None, clf__min_samples_leaf=2, clf__min_samples_split=8, clf__n_estimators=200 \n",
      "[CV]  clf__criterion=entropy, clf__max_depth=None, clf__min_samples_leaf=2, clf__min_samples_split=8, clf__n_estimators=200, total=  30.6s\n",
      "[CV] clf__criterion=entropy, clf__max_depth=None, clf__min_samples_leaf=5, clf__min_samples_split=2, clf__n_estimators=10 \n",
      "[CV]  clf__criterion=entropy, clf__max_depth=None, clf__min_samples_leaf=5, clf__min_samples_split=2, clf__n_estimators=10, total=   1.3s\n",
      "[CV] clf__criterion=entropy, clf__max_depth=None, clf__min_samples_leaf=5, clf__min_samples_split=2, clf__n_estimators=10 \n",
      "[CV]  clf__criterion=entropy, clf__max_depth=None, clf__min_samples_leaf=5, clf__min_samples_split=2, clf__n_estimators=10, total=   1.2s\n",
      "[CV] clf__criterion=entropy, clf__max_depth=None, clf__min_samples_leaf=5, clf__min_samples_split=2, clf__n_estimators=10 \n",
      "[CV]  clf__criterion=entropy, clf__max_depth=None, clf__min_samples_leaf=5, clf__min_samples_split=2, clf__n_estimators=10, total=   1.3s\n",
      "[CV] clf__criterion=entropy, clf__max_depth=None, clf__min_samples_leaf=5, clf__min_samples_split=2, clf__n_estimators=50 \n",
      "[CV]  clf__criterion=entropy, clf__max_depth=None, clf__min_samples_leaf=5, clf__min_samples_split=2, clf__n_estimators=50, total=   7.1s\n",
      "[CV] clf__criterion=entropy, clf__max_depth=None, clf__min_samples_leaf=5, clf__min_samples_split=2, clf__n_estimators=50 \n",
      "[CV]  clf__criterion=entropy, clf__max_depth=None, clf__min_samples_leaf=5, clf__min_samples_split=2, clf__n_estimators=50, total=   7.1s\n",
      "[CV] clf__criterion=entropy, clf__max_depth=None, clf__min_samples_leaf=5, clf__min_samples_split=2, clf__n_estimators=50 \n",
      "[CV]  clf__criterion=entropy, clf__max_depth=None, clf__min_samples_leaf=5, clf__min_samples_split=2, clf__n_estimators=50, total=   6.3s\n",
      "[CV] clf__criterion=entropy, clf__max_depth=None, clf__min_samples_leaf=5, clf__min_samples_split=2, clf__n_estimators=100 \n"
     ]
    },
    {
     "name": "stdout",
     "output_type": "stream",
     "text": [
      "[CV]  clf__criterion=entropy, clf__max_depth=None, clf__min_samples_leaf=5, clf__min_samples_split=2, clf__n_estimators=100, total=  12.6s\n",
      "[CV] clf__criterion=entropy, clf__max_depth=None, clf__min_samples_leaf=5, clf__min_samples_split=2, clf__n_estimators=100 \n",
      "[CV]  clf__criterion=entropy, clf__max_depth=None, clf__min_samples_leaf=5, clf__min_samples_split=2, clf__n_estimators=100, total=  13.8s\n",
      "[CV] clf__criterion=entropy, clf__max_depth=None, clf__min_samples_leaf=5, clf__min_samples_split=2, clf__n_estimators=100 \n",
      "[CV]  clf__criterion=entropy, clf__max_depth=None, clf__min_samples_leaf=5, clf__min_samples_split=2, clf__n_estimators=100, total=  13.3s\n",
      "[CV] clf__criterion=entropy, clf__max_depth=None, clf__min_samples_leaf=5, clf__min_samples_split=2, clf__n_estimators=200 \n",
      "[CV]  clf__criterion=entropy, clf__max_depth=None, clf__min_samples_leaf=5, clf__min_samples_split=2, clf__n_estimators=200, total=  26.0s\n",
      "[CV] clf__criterion=entropy, clf__max_depth=None, clf__min_samples_leaf=5, clf__min_samples_split=2, clf__n_estimators=200 \n",
      "[CV]  clf__criterion=entropy, clf__max_depth=None, clf__min_samples_leaf=5, clf__min_samples_split=2, clf__n_estimators=200, total=  24.3s\n",
      "[CV] clf__criterion=entropy, clf__max_depth=None, clf__min_samples_leaf=5, clf__min_samples_split=2, clf__n_estimators=200 \n",
      "[CV]  clf__criterion=entropy, clf__max_depth=None, clf__min_samples_leaf=5, clf__min_samples_split=2, clf__n_estimators=200, total=  25.5s\n",
      "[CV] clf__criterion=entropy, clf__max_depth=None, clf__min_samples_leaf=5, clf__min_samples_split=4, clf__n_estimators=10 \n",
      "[CV]  clf__criterion=entropy, clf__max_depth=None, clf__min_samples_leaf=5, clf__min_samples_split=4, clf__n_estimators=10, total=   1.3s\n",
      "[CV] clf__criterion=entropy, clf__max_depth=None, clf__min_samples_leaf=5, clf__min_samples_split=4, clf__n_estimators=10 \n",
      "[CV]  clf__criterion=entropy, clf__max_depth=None, clf__min_samples_leaf=5, clf__min_samples_split=4, clf__n_estimators=10, total=   1.5s\n",
      "[CV] clf__criterion=entropy, clf__max_depth=None, clf__min_samples_leaf=5, clf__min_samples_split=4, clf__n_estimators=10 \n",
      "[CV]  clf__criterion=entropy, clf__max_depth=None, clf__min_samples_leaf=5, clf__min_samples_split=4, clf__n_estimators=10, total=   1.7s\n",
      "[CV] clf__criterion=entropy, clf__max_depth=None, clf__min_samples_leaf=5, clf__min_samples_split=4, clf__n_estimators=50 \n",
      "[CV]  clf__criterion=entropy, clf__max_depth=None, clf__min_samples_leaf=5, clf__min_samples_split=4, clf__n_estimators=50, total=   6.3s\n",
      "[CV] clf__criterion=entropy, clf__max_depth=None, clf__min_samples_leaf=5, clf__min_samples_split=4, clf__n_estimators=50 \n",
      "[CV]  clf__criterion=entropy, clf__max_depth=None, clf__min_samples_leaf=5, clf__min_samples_split=4, clf__n_estimators=50, total=   5.8s\n",
      "[CV] clf__criterion=entropy, clf__max_depth=None, clf__min_samples_leaf=5, clf__min_samples_split=4, clf__n_estimators=50 \n",
      "[CV]  clf__criterion=entropy, clf__max_depth=None, clf__min_samples_leaf=5, clf__min_samples_split=4, clf__n_estimators=50, total=   6.5s\n",
      "[CV] clf__criterion=entropy, clf__max_depth=None, clf__min_samples_leaf=5, clf__min_samples_split=4, clf__n_estimators=100 \n",
      "[CV]  clf__criterion=entropy, clf__max_depth=None, clf__min_samples_leaf=5, clf__min_samples_split=4, clf__n_estimators=100, total=  13.6s\n",
      "[CV] clf__criterion=entropy, clf__max_depth=None, clf__min_samples_leaf=5, clf__min_samples_split=4, clf__n_estimators=100 \n",
      "[CV]  clf__criterion=entropy, clf__max_depth=None, clf__min_samples_leaf=5, clf__min_samples_split=4, clf__n_estimators=100, total=  12.6s\n",
      "[CV] clf__criterion=entropy, clf__max_depth=None, clf__min_samples_leaf=5, clf__min_samples_split=4, clf__n_estimators=100 \n",
      "[CV]  clf__criterion=entropy, clf__max_depth=None, clf__min_samples_leaf=5, clf__min_samples_split=4, clf__n_estimators=100, total=  12.8s\n",
      "[CV] clf__criterion=entropy, clf__max_depth=None, clf__min_samples_leaf=5, clf__min_samples_split=4, clf__n_estimators=200 \n",
      "[CV]  clf__criterion=entropy, clf__max_depth=None, clf__min_samples_leaf=5, clf__min_samples_split=4, clf__n_estimators=200, total=  25.4s\n",
      "[CV] clf__criterion=entropy, clf__max_depth=None, clf__min_samples_leaf=5, clf__min_samples_split=4, clf__n_estimators=200 \n",
      "[CV]  clf__criterion=entropy, clf__max_depth=None, clf__min_samples_leaf=5, clf__min_samples_split=4, clf__n_estimators=200, total=  24.6s\n",
      "[CV] clf__criterion=entropy, clf__max_depth=None, clf__min_samples_leaf=5, clf__min_samples_split=4, clf__n_estimators=200 \n",
      "[CV]  clf__criterion=entropy, clf__max_depth=None, clf__min_samples_leaf=5, clf__min_samples_split=4, clf__n_estimators=200, total=  26.0s\n",
      "[CV] clf__criterion=entropy, clf__max_depth=None, clf__min_samples_leaf=5, clf__min_samples_split=8, clf__n_estimators=10 \n",
      "[CV]  clf__criterion=entropy, clf__max_depth=None, clf__min_samples_leaf=5, clf__min_samples_split=8, clf__n_estimators=10, total=   1.2s\n",
      "[CV] clf__criterion=entropy, clf__max_depth=None, clf__min_samples_leaf=5, clf__min_samples_split=8, clf__n_estimators=10 \n",
      "[CV]  clf__criterion=entropy, clf__max_depth=None, clf__min_samples_leaf=5, clf__min_samples_split=8, clf__n_estimators=10, total=   1.2s\n",
      "[CV] clf__criterion=entropy, clf__max_depth=None, clf__min_samples_leaf=5, clf__min_samples_split=8, clf__n_estimators=10 \n",
      "[CV]  clf__criterion=entropy, clf__max_depth=None, clf__min_samples_leaf=5, clf__min_samples_split=8, clf__n_estimators=10, total=   1.2s\n",
      "[CV] clf__criterion=entropy, clf__max_depth=None, clf__min_samples_leaf=5, clf__min_samples_split=8, clf__n_estimators=50 \n",
      "[CV]  clf__criterion=entropy, clf__max_depth=None, clf__min_samples_leaf=5, clf__min_samples_split=8, clf__n_estimators=50, total=   5.9s\n",
      "[CV] clf__criterion=entropy, clf__max_depth=None, clf__min_samples_leaf=5, clf__min_samples_split=8, clf__n_estimators=50 \n",
      "[CV]  clf__criterion=entropy, clf__max_depth=None, clf__min_samples_leaf=5, clf__min_samples_split=8, clf__n_estimators=50, total=   6.2s\n",
      "[CV] clf__criterion=entropy, clf__max_depth=None, clf__min_samples_leaf=5, clf__min_samples_split=8, clf__n_estimators=50 \n",
      "[CV]  clf__criterion=entropy, clf__max_depth=None, clf__min_samples_leaf=5, clf__min_samples_split=8, clf__n_estimators=50, total=   6.4s\n",
      "[CV] clf__criterion=entropy, clf__max_depth=None, clf__min_samples_leaf=5, clf__min_samples_split=8, clf__n_estimators=100 \n",
      "[CV]  clf__criterion=entropy, clf__max_depth=None, clf__min_samples_leaf=5, clf__min_samples_split=8, clf__n_estimators=100, total=  12.4s\n",
      "[CV] clf__criterion=entropy, clf__max_depth=None, clf__min_samples_leaf=5, clf__min_samples_split=8, clf__n_estimators=100 \n",
      "[CV]  clf__criterion=entropy, clf__max_depth=None, clf__min_samples_leaf=5, clf__min_samples_split=8, clf__n_estimators=100, total=  11.9s\n",
      "[CV] clf__criterion=entropy, clf__max_depth=None, clf__min_samples_leaf=5, clf__min_samples_split=8, clf__n_estimators=100 \n",
      "[CV]  clf__criterion=entropy, clf__max_depth=None, clf__min_samples_leaf=5, clf__min_samples_split=8, clf__n_estimators=100, total=  12.7s\n",
      "[CV] clf__criterion=entropy, clf__max_depth=None, clf__min_samples_leaf=5, clf__min_samples_split=8, clf__n_estimators=200 \n",
      "[CV]  clf__criterion=entropy, clf__max_depth=None, clf__min_samples_leaf=5, clf__min_samples_split=8, clf__n_estimators=200, total=  26.6s\n",
      "[CV] clf__criterion=entropy, clf__max_depth=None, clf__min_samples_leaf=5, clf__min_samples_split=8, clf__n_estimators=200 \n",
      "[CV]  clf__criterion=entropy, clf__max_depth=None, clf__min_samples_leaf=5, clf__min_samples_split=8, clf__n_estimators=200, total=  25.2s\n",
      "[CV] clf__criterion=entropy, clf__max_depth=None, clf__min_samples_leaf=5, clf__min_samples_split=8, clf__n_estimators=200 \n",
      "[CV]  clf__criterion=entropy, clf__max_depth=None, clf__min_samples_leaf=5, clf__min_samples_split=8, clf__n_estimators=200, total=  26.2s\n",
      "[CV] clf__criterion=entropy, clf__max_depth=2, clf__min_samples_leaf=1, clf__min_samples_split=2, clf__n_estimators=10 \n"
     ]
    },
    {
     "name": "stderr",
     "output_type": "stream",
     "text": [
      "/anaconda3/lib/python3.7/site-packages/sklearn/metrics/classification.py:1143: UndefinedMetricWarning: F-score is ill-defined and being set to 0.0 in labels with no predicted samples.\n",
      "  'precision', 'predicted', average, warn_for)\n",
      "/anaconda3/lib/python3.7/site-packages/sklearn/metrics/classification.py:1143: UndefinedMetricWarning: F-score is ill-defined and being set to 0.0 in labels with no predicted samples.\n",
      "  'precision', 'predicted', average, warn_for)\n"
     ]
    },
    {
     "name": "stdout",
     "output_type": "stream",
     "text": [
      "[CV]  clf__criterion=entropy, clf__max_depth=2, clf__min_samples_leaf=1, clf__min_samples_split=2, clf__n_estimators=10, total=   0.3s\n",
      "[CV] clf__criterion=entropy, clf__max_depth=2, clf__min_samples_leaf=1, clf__min_samples_split=2, clf__n_estimators=10 \n"
     ]
    },
    {
     "name": "stderr",
     "output_type": "stream",
     "text": [
      "/anaconda3/lib/python3.7/site-packages/sklearn/metrics/classification.py:1143: UndefinedMetricWarning: F-score is ill-defined and being set to 0.0 in labels with no predicted samples.\n",
      "  'precision', 'predicted', average, warn_for)\n",
      "/anaconda3/lib/python3.7/site-packages/sklearn/metrics/classification.py:1143: UndefinedMetricWarning: F-score is ill-defined and being set to 0.0 in labels with no predicted samples.\n",
      "  'precision', 'predicted', average, warn_for)\n"
     ]
    },
    {
     "name": "stdout",
     "output_type": "stream",
     "text": [
      "[CV]  clf__criterion=entropy, clf__max_depth=2, clf__min_samples_leaf=1, clf__min_samples_split=2, clf__n_estimators=10, total=   0.3s\n",
      "[CV] clf__criterion=entropy, clf__max_depth=2, clf__min_samples_leaf=1, clf__min_samples_split=2, clf__n_estimators=10 \n"
     ]
    },
    {
     "name": "stderr",
     "output_type": "stream",
     "text": [
      "/anaconda3/lib/python3.7/site-packages/sklearn/metrics/classification.py:1143: UndefinedMetricWarning: F-score is ill-defined and being set to 0.0 in labels with no predicted samples.\n",
      "  'precision', 'predicted', average, warn_for)\n",
      "/anaconda3/lib/python3.7/site-packages/sklearn/metrics/classification.py:1143: UndefinedMetricWarning: F-score is ill-defined and being set to 0.0 in labels with no predicted samples.\n",
      "  'precision', 'predicted', average, warn_for)\n"
     ]
    },
    {
     "name": "stdout",
     "output_type": "stream",
     "text": [
      "[CV]  clf__criterion=entropy, clf__max_depth=2, clf__min_samples_leaf=1, clf__min_samples_split=2, clf__n_estimators=10, total=   0.2s\n",
      "[CV] clf__criterion=entropy, clf__max_depth=2, clf__min_samples_leaf=1, clf__min_samples_split=2, clf__n_estimators=50 \n"
     ]
    },
    {
     "name": "stderr",
     "output_type": "stream",
     "text": [
      "/anaconda3/lib/python3.7/site-packages/sklearn/metrics/classification.py:1143: UndefinedMetricWarning: F-score is ill-defined and being set to 0.0 in labels with no predicted samples.\n",
      "  'precision', 'predicted', average, warn_for)\n",
      "/anaconda3/lib/python3.7/site-packages/sklearn/metrics/classification.py:1143: UndefinedMetricWarning: F-score is ill-defined and being set to 0.0 in labels with no predicted samples.\n",
      "  'precision', 'predicted', average, warn_for)\n"
     ]
    },
    {
     "name": "stdout",
     "output_type": "stream",
     "text": [
      "[CV]  clf__criterion=entropy, clf__max_depth=2, clf__min_samples_leaf=1, clf__min_samples_split=2, clf__n_estimators=50, total=   1.1s\n",
      "[CV] clf__criterion=entropy, clf__max_depth=2, clf__min_samples_leaf=1, clf__min_samples_split=2, clf__n_estimators=50 \n"
     ]
    },
    {
     "name": "stderr",
     "output_type": "stream",
     "text": [
      "/anaconda3/lib/python3.7/site-packages/sklearn/metrics/classification.py:1143: UndefinedMetricWarning: F-score is ill-defined and being set to 0.0 in labels with no predicted samples.\n",
      "  'precision', 'predicted', average, warn_for)\n",
      "/anaconda3/lib/python3.7/site-packages/sklearn/metrics/classification.py:1143: UndefinedMetricWarning: F-score is ill-defined and being set to 0.0 in labels with no predicted samples.\n",
      "  'precision', 'predicted', average, warn_for)\n"
     ]
    },
    {
     "name": "stdout",
     "output_type": "stream",
     "text": [
      "[CV]  clf__criterion=entropy, clf__max_depth=2, clf__min_samples_leaf=1, clf__min_samples_split=2, clf__n_estimators=50, total=   1.1s\n",
      "[CV] clf__criterion=entropy, clf__max_depth=2, clf__min_samples_leaf=1, clf__min_samples_split=2, clf__n_estimators=50 \n"
     ]
    },
    {
     "name": "stderr",
     "output_type": "stream",
     "text": [
      "/anaconda3/lib/python3.7/site-packages/sklearn/metrics/classification.py:1143: UndefinedMetricWarning: F-score is ill-defined and being set to 0.0 in labels with no predicted samples.\n",
      "  'precision', 'predicted', average, warn_for)\n",
      "/anaconda3/lib/python3.7/site-packages/sklearn/metrics/classification.py:1143: UndefinedMetricWarning: F-score is ill-defined and being set to 0.0 in labels with no predicted samples.\n",
      "  'precision', 'predicted', average, warn_for)\n"
     ]
    },
    {
     "name": "stdout",
     "output_type": "stream",
     "text": [
      "[CV]  clf__criterion=entropy, clf__max_depth=2, clf__min_samples_leaf=1, clf__min_samples_split=2, clf__n_estimators=50, total=   1.1s\n",
      "[CV] clf__criterion=entropy, clf__max_depth=2, clf__min_samples_leaf=1, clf__min_samples_split=2, clf__n_estimators=100 \n"
     ]
    },
    {
     "name": "stderr",
     "output_type": "stream",
     "text": [
      "/anaconda3/lib/python3.7/site-packages/sklearn/metrics/classification.py:1143: UndefinedMetricWarning: F-score is ill-defined and being set to 0.0 in labels with no predicted samples.\n",
      "  'precision', 'predicted', average, warn_for)\n",
      "/anaconda3/lib/python3.7/site-packages/sklearn/metrics/classification.py:1143: UndefinedMetricWarning: F-score is ill-defined and being set to 0.0 in labels with no predicted samples.\n",
      "  'precision', 'predicted', average, warn_for)\n"
     ]
    },
    {
     "name": "stdout",
     "output_type": "stream",
     "text": [
      "[CV]  clf__criterion=entropy, clf__max_depth=2, clf__min_samples_leaf=1, clf__min_samples_split=2, clf__n_estimators=100, total=   2.0s\n",
      "[CV] clf__criterion=entropy, clf__max_depth=2, clf__min_samples_leaf=1, clf__min_samples_split=2, clf__n_estimators=100 \n"
     ]
    },
    {
     "name": "stderr",
     "output_type": "stream",
     "text": [
      "/anaconda3/lib/python3.7/site-packages/sklearn/metrics/classification.py:1143: UndefinedMetricWarning: F-score is ill-defined and being set to 0.0 in labels with no predicted samples.\n",
      "  'precision', 'predicted', average, warn_for)\n",
      "/anaconda3/lib/python3.7/site-packages/sklearn/metrics/classification.py:1143: UndefinedMetricWarning: F-score is ill-defined and being set to 0.0 in labels with no predicted samples.\n",
      "  'precision', 'predicted', average, warn_for)\n"
     ]
    },
    {
     "name": "stdout",
     "output_type": "stream",
     "text": [
      "[CV]  clf__criterion=entropy, clf__max_depth=2, clf__min_samples_leaf=1, clf__min_samples_split=2, clf__n_estimators=100, total=   2.2s\n",
      "[CV] clf__criterion=entropy, clf__max_depth=2, clf__min_samples_leaf=1, clf__min_samples_split=2, clf__n_estimators=100 \n"
     ]
    },
    {
     "name": "stderr",
     "output_type": "stream",
     "text": [
      "/anaconda3/lib/python3.7/site-packages/sklearn/metrics/classification.py:1143: UndefinedMetricWarning: F-score is ill-defined and being set to 0.0 in labels with no predicted samples.\n",
      "  'precision', 'predicted', average, warn_for)\n",
      "/anaconda3/lib/python3.7/site-packages/sklearn/metrics/classification.py:1143: UndefinedMetricWarning: F-score is ill-defined and being set to 0.0 in labels with no predicted samples.\n",
      "  'precision', 'predicted', average, warn_for)\n"
     ]
    },
    {
     "name": "stdout",
     "output_type": "stream",
     "text": [
      "[CV]  clf__criterion=entropy, clf__max_depth=2, clf__min_samples_leaf=1, clf__min_samples_split=2, clf__n_estimators=100, total=   2.0s\n",
      "[CV] clf__criterion=entropy, clf__max_depth=2, clf__min_samples_leaf=1, clf__min_samples_split=2, clf__n_estimators=200 \n"
     ]
    },
    {
     "name": "stderr",
     "output_type": "stream",
     "text": [
      "/anaconda3/lib/python3.7/site-packages/sklearn/metrics/classification.py:1143: UndefinedMetricWarning: F-score is ill-defined and being set to 0.0 in labels with no predicted samples.\n",
      "  'precision', 'predicted', average, warn_for)\n",
      "/anaconda3/lib/python3.7/site-packages/sklearn/metrics/classification.py:1143: UndefinedMetricWarning: F-score is ill-defined and being set to 0.0 in labels with no predicted samples.\n",
      "  'precision', 'predicted', average, warn_for)\n"
     ]
    },
    {
     "name": "stdout",
     "output_type": "stream",
     "text": [
      "[CV]  clf__criterion=entropy, clf__max_depth=2, clf__min_samples_leaf=1, clf__min_samples_split=2, clf__n_estimators=200, total=   4.1s\n",
      "[CV] clf__criterion=entropy, clf__max_depth=2, clf__min_samples_leaf=1, clf__min_samples_split=2, clf__n_estimators=200 \n"
     ]
    },
    {
     "name": "stderr",
     "output_type": "stream",
     "text": [
      "/anaconda3/lib/python3.7/site-packages/sklearn/metrics/classification.py:1143: UndefinedMetricWarning: F-score is ill-defined and being set to 0.0 in labels with no predicted samples.\n",
      "  'precision', 'predicted', average, warn_for)\n",
      "/anaconda3/lib/python3.7/site-packages/sklearn/metrics/classification.py:1143: UndefinedMetricWarning: F-score is ill-defined and being set to 0.0 in labels with no predicted samples.\n",
      "  'precision', 'predicted', average, warn_for)\n"
     ]
    },
    {
     "name": "stdout",
     "output_type": "stream",
     "text": [
      "[CV]  clf__criterion=entropy, clf__max_depth=2, clf__min_samples_leaf=1, clf__min_samples_split=2, clf__n_estimators=200, total=   4.0s\n",
      "[CV] clf__criterion=entropy, clf__max_depth=2, clf__min_samples_leaf=1, clf__min_samples_split=2, clf__n_estimators=200 \n"
     ]
    },
    {
     "name": "stderr",
     "output_type": "stream",
     "text": [
      "/anaconda3/lib/python3.7/site-packages/sklearn/metrics/classification.py:1143: UndefinedMetricWarning: F-score is ill-defined and being set to 0.0 in labels with no predicted samples.\n",
      "  'precision', 'predicted', average, warn_for)\n",
      "/anaconda3/lib/python3.7/site-packages/sklearn/metrics/classification.py:1143: UndefinedMetricWarning: F-score is ill-defined and being set to 0.0 in labels with no predicted samples.\n",
      "  'precision', 'predicted', average, warn_for)\n",
      "/anaconda3/lib/python3.7/site-packages/sklearn/metrics/classification.py:1143: UndefinedMetricWarning: F-score is ill-defined and being set to 0.0 in labels with no predicted samples.\n",
      "  'precision', 'predicted', average, warn_for)\n"
     ]
    },
    {
     "name": "stdout",
     "output_type": "stream",
     "text": [
      "[CV]  clf__criterion=entropy, clf__max_depth=2, clf__min_samples_leaf=1, clf__min_samples_split=2, clf__n_estimators=200, total=   4.1s\n",
      "[CV] clf__criterion=entropy, clf__max_depth=2, clf__min_samples_leaf=1, clf__min_samples_split=4, clf__n_estimators=10 \n"
     ]
    },
    {
     "name": "stderr",
     "output_type": "stream",
     "text": [
      "/anaconda3/lib/python3.7/site-packages/sklearn/metrics/classification.py:1143: UndefinedMetricWarning: F-score is ill-defined and being set to 0.0 in labels with no predicted samples.\n",
      "  'precision', 'predicted', average, warn_for)\n",
      "/anaconda3/lib/python3.7/site-packages/sklearn/metrics/classification.py:1143: UndefinedMetricWarning: F-score is ill-defined and being set to 0.0 in labels with no predicted samples.\n",
      "  'precision', 'predicted', average, warn_for)\n"
     ]
    },
    {
     "name": "stdout",
     "output_type": "stream",
     "text": [
      "[CV]  clf__criterion=entropy, clf__max_depth=2, clf__min_samples_leaf=1, clf__min_samples_split=4, clf__n_estimators=10, total=   0.2s\n",
      "[CV] clf__criterion=entropy, clf__max_depth=2, clf__min_samples_leaf=1, clf__min_samples_split=4, clf__n_estimators=10 \n"
     ]
    },
    {
     "name": "stderr",
     "output_type": "stream",
     "text": [
      "/anaconda3/lib/python3.7/site-packages/sklearn/metrics/classification.py:1143: UndefinedMetricWarning: F-score is ill-defined and being set to 0.0 in labels with no predicted samples.\n",
      "  'precision', 'predicted', average, warn_for)\n"
     ]
    },
    {
     "name": "stdout",
     "output_type": "stream",
     "text": [
      "[CV]  clf__criterion=entropy, clf__max_depth=2, clf__min_samples_leaf=1, clf__min_samples_split=4, clf__n_estimators=10, total=   0.2s\n",
      "[CV] clf__criterion=entropy, clf__max_depth=2, clf__min_samples_leaf=1, clf__min_samples_split=4, clf__n_estimators=10 \n"
     ]
    },
    {
     "name": "stderr",
     "output_type": "stream",
     "text": [
      "/anaconda3/lib/python3.7/site-packages/sklearn/metrics/classification.py:1143: UndefinedMetricWarning: F-score is ill-defined and being set to 0.0 in labels with no predicted samples.\n",
      "  'precision', 'predicted', average, warn_for)\n",
      "/anaconda3/lib/python3.7/site-packages/sklearn/metrics/classification.py:1143: UndefinedMetricWarning: F-score is ill-defined and being set to 0.0 in labels with no predicted samples.\n",
      "  'precision', 'predicted', average, warn_for)\n"
     ]
    },
    {
     "name": "stdout",
     "output_type": "stream",
     "text": [
      "[CV]  clf__criterion=entropy, clf__max_depth=2, clf__min_samples_leaf=1, clf__min_samples_split=4, clf__n_estimators=10, total=   0.2s\n",
      "[CV] clf__criterion=entropy, clf__max_depth=2, clf__min_samples_leaf=1, clf__min_samples_split=4, clf__n_estimators=50 \n"
     ]
    },
    {
     "name": "stderr",
     "output_type": "stream",
     "text": [
      "/anaconda3/lib/python3.7/site-packages/sklearn/metrics/classification.py:1143: UndefinedMetricWarning: F-score is ill-defined and being set to 0.0 in labels with no predicted samples.\n",
      "  'precision', 'predicted', average, warn_for)\n",
      "/anaconda3/lib/python3.7/site-packages/sklearn/metrics/classification.py:1143: UndefinedMetricWarning: F-score is ill-defined and being set to 0.0 in labels with no predicted samples.\n",
      "  'precision', 'predicted', average, warn_for)\n"
     ]
    },
    {
     "name": "stdout",
     "output_type": "stream",
     "text": [
      "[CV]  clf__criterion=entropy, clf__max_depth=2, clf__min_samples_leaf=1, clf__min_samples_split=4, clf__n_estimators=50, total=   1.1s\n",
      "[CV] clf__criterion=entropy, clf__max_depth=2, clf__min_samples_leaf=1, clf__min_samples_split=4, clf__n_estimators=50 \n"
     ]
    },
    {
     "name": "stderr",
     "output_type": "stream",
     "text": [
      "/anaconda3/lib/python3.7/site-packages/sklearn/metrics/classification.py:1143: UndefinedMetricWarning: F-score is ill-defined and being set to 0.0 in labels with no predicted samples.\n",
      "  'precision', 'predicted', average, warn_for)\n",
      "/anaconda3/lib/python3.7/site-packages/sklearn/metrics/classification.py:1143: UndefinedMetricWarning: F-score is ill-defined and being set to 0.0 in labels with no predicted samples.\n",
      "  'precision', 'predicted', average, warn_for)\n"
     ]
    },
    {
     "name": "stdout",
     "output_type": "stream",
     "text": [
      "[CV]  clf__criterion=entropy, clf__max_depth=2, clf__min_samples_leaf=1, clf__min_samples_split=4, clf__n_estimators=50, total=   1.0s\n",
      "[CV] clf__criterion=entropy, clf__max_depth=2, clf__min_samples_leaf=1, clf__min_samples_split=4, clf__n_estimators=50 \n"
     ]
    },
    {
     "name": "stderr",
     "output_type": "stream",
     "text": [
      "/anaconda3/lib/python3.7/site-packages/sklearn/metrics/classification.py:1143: UndefinedMetricWarning: F-score is ill-defined and being set to 0.0 in labels with no predicted samples.\n",
      "  'precision', 'predicted', average, warn_for)\n",
      "/anaconda3/lib/python3.7/site-packages/sklearn/metrics/classification.py:1143: UndefinedMetricWarning: F-score is ill-defined and being set to 0.0 in labels with no predicted samples.\n",
      "  'precision', 'predicted', average, warn_for)\n"
     ]
    },
    {
     "name": "stdout",
     "output_type": "stream",
     "text": [
      "[CV]  clf__criterion=entropy, clf__max_depth=2, clf__min_samples_leaf=1, clf__min_samples_split=4, clf__n_estimators=50, total=   1.1s\n",
      "[CV] clf__criterion=entropy, clf__max_depth=2, clf__min_samples_leaf=1, clf__min_samples_split=4, clf__n_estimators=100 \n"
     ]
    },
    {
     "name": "stderr",
     "output_type": "stream",
     "text": [
      "/anaconda3/lib/python3.7/site-packages/sklearn/metrics/classification.py:1143: UndefinedMetricWarning: F-score is ill-defined and being set to 0.0 in labels with no predicted samples.\n",
      "  'precision', 'predicted', average, warn_for)\n",
      "/anaconda3/lib/python3.7/site-packages/sklearn/metrics/classification.py:1143: UndefinedMetricWarning: F-score is ill-defined and being set to 0.0 in labels with no predicted samples.\n",
      "  'precision', 'predicted', average, warn_for)\n"
     ]
    },
    {
     "name": "stdout",
     "output_type": "stream",
     "text": [
      "[CV]  clf__criterion=entropy, clf__max_depth=2, clf__min_samples_leaf=1, clf__min_samples_split=4, clf__n_estimators=100, total=   2.1s\n",
      "[CV] clf__criterion=entropy, clf__max_depth=2, clf__min_samples_leaf=1, clf__min_samples_split=4, clf__n_estimators=100 \n"
     ]
    },
    {
     "name": "stderr",
     "output_type": "stream",
     "text": [
      "/anaconda3/lib/python3.7/site-packages/sklearn/metrics/classification.py:1143: UndefinedMetricWarning: F-score is ill-defined and being set to 0.0 in labels with no predicted samples.\n",
      "  'precision', 'predicted', average, warn_for)\n",
      "/anaconda3/lib/python3.7/site-packages/sklearn/metrics/classification.py:1143: UndefinedMetricWarning: F-score is ill-defined and being set to 0.0 in labels with no predicted samples.\n",
      "  'precision', 'predicted', average, warn_for)\n"
     ]
    },
    {
     "name": "stdout",
     "output_type": "stream",
     "text": [
      "[CV]  clf__criterion=entropy, clf__max_depth=2, clf__min_samples_leaf=1, clf__min_samples_split=4, clf__n_estimators=100, total=   1.9s\n",
      "[CV] clf__criterion=entropy, clf__max_depth=2, clf__min_samples_leaf=1, clf__min_samples_split=4, clf__n_estimators=100 \n"
     ]
    },
    {
     "name": "stderr",
     "output_type": "stream",
     "text": [
      "/anaconda3/lib/python3.7/site-packages/sklearn/metrics/classification.py:1143: UndefinedMetricWarning: F-score is ill-defined and being set to 0.0 in labels with no predicted samples.\n",
      "  'precision', 'predicted', average, warn_for)\n",
      "/anaconda3/lib/python3.7/site-packages/sklearn/metrics/classification.py:1143: UndefinedMetricWarning: F-score is ill-defined and being set to 0.0 in labels with no predicted samples.\n",
      "  'precision', 'predicted', average, warn_for)\n"
     ]
    },
    {
     "name": "stdout",
     "output_type": "stream",
     "text": [
      "[CV]  clf__criterion=entropy, clf__max_depth=2, clf__min_samples_leaf=1, clf__min_samples_split=4, clf__n_estimators=100, total=   1.9s\n",
      "[CV] clf__criterion=entropy, clf__max_depth=2, clf__min_samples_leaf=1, clf__min_samples_split=4, clf__n_estimators=200 \n"
     ]
    },
    {
     "name": "stderr",
     "output_type": "stream",
     "text": [
      "/anaconda3/lib/python3.7/site-packages/sklearn/metrics/classification.py:1143: UndefinedMetricWarning: F-score is ill-defined and being set to 0.0 in labels with no predicted samples.\n",
      "  'precision', 'predicted', average, warn_for)\n",
      "/anaconda3/lib/python3.7/site-packages/sklearn/metrics/classification.py:1143: UndefinedMetricWarning: F-score is ill-defined and being set to 0.0 in labels with no predicted samples.\n",
      "  'precision', 'predicted', average, warn_for)\n"
     ]
    },
    {
     "name": "stdout",
     "output_type": "stream",
     "text": [
      "[CV]  clf__criterion=entropy, clf__max_depth=2, clf__min_samples_leaf=1, clf__min_samples_split=4, clf__n_estimators=200, total=   3.6s\n",
      "[CV] clf__criterion=entropy, clf__max_depth=2, clf__min_samples_leaf=1, clf__min_samples_split=4, clf__n_estimators=200 \n"
     ]
    },
    {
     "name": "stderr",
     "output_type": "stream",
     "text": [
      "/anaconda3/lib/python3.7/site-packages/sklearn/metrics/classification.py:1143: UndefinedMetricWarning: F-score is ill-defined and being set to 0.0 in labels with no predicted samples.\n",
      "  'precision', 'predicted', average, warn_for)\n",
      "/anaconda3/lib/python3.7/site-packages/sklearn/metrics/classification.py:1143: UndefinedMetricWarning: F-score is ill-defined and being set to 0.0 in labels with no predicted samples.\n",
      "  'precision', 'predicted', average, warn_for)\n"
     ]
    },
    {
     "name": "stdout",
     "output_type": "stream",
     "text": [
      "[CV]  clf__criterion=entropy, clf__max_depth=2, clf__min_samples_leaf=1, clf__min_samples_split=4, clf__n_estimators=200, total=   3.4s\n",
      "[CV] clf__criterion=entropy, clf__max_depth=2, clf__min_samples_leaf=1, clf__min_samples_split=4, clf__n_estimators=200 \n"
     ]
    },
    {
     "name": "stderr",
     "output_type": "stream",
     "text": [
      "/anaconda3/lib/python3.7/site-packages/sklearn/metrics/classification.py:1143: UndefinedMetricWarning: F-score is ill-defined and being set to 0.0 in labels with no predicted samples.\n",
      "  'precision', 'predicted', average, warn_for)\n",
      "/anaconda3/lib/python3.7/site-packages/sklearn/metrics/classification.py:1143: UndefinedMetricWarning: F-score is ill-defined and being set to 0.0 in labels with no predicted samples.\n",
      "  'precision', 'predicted', average, warn_for)\n"
     ]
    },
    {
     "name": "stdout",
     "output_type": "stream",
     "text": [
      "[CV]  clf__criterion=entropy, clf__max_depth=2, clf__min_samples_leaf=1, clf__min_samples_split=4, clf__n_estimators=200, total=   3.9s\n",
      "[CV] clf__criterion=entropy, clf__max_depth=2, clf__min_samples_leaf=1, clf__min_samples_split=8, clf__n_estimators=10 \n"
     ]
    },
    {
     "name": "stderr",
     "output_type": "stream",
     "text": [
      "/anaconda3/lib/python3.7/site-packages/sklearn/metrics/classification.py:1143: UndefinedMetricWarning: F-score is ill-defined and being set to 0.0 in labels with no predicted samples.\n",
      "  'precision', 'predicted', average, warn_for)\n",
      "/anaconda3/lib/python3.7/site-packages/sklearn/metrics/classification.py:1143: UndefinedMetricWarning: F-score is ill-defined and being set to 0.0 in labels with no predicted samples.\n",
      "  'precision', 'predicted', average, warn_for)\n"
     ]
    },
    {
     "name": "stdout",
     "output_type": "stream",
     "text": [
      "[CV]  clf__criterion=entropy, clf__max_depth=2, clf__min_samples_leaf=1, clf__min_samples_split=8, clf__n_estimators=10, total=   0.2s\n",
      "[CV] clf__criterion=entropy, clf__max_depth=2, clf__min_samples_leaf=1, clf__min_samples_split=8, clf__n_estimators=10 \n"
     ]
    },
    {
     "name": "stderr",
     "output_type": "stream",
     "text": [
      "/anaconda3/lib/python3.7/site-packages/sklearn/metrics/classification.py:1143: UndefinedMetricWarning: F-score is ill-defined and being set to 0.0 in labels with no predicted samples.\n",
      "  'precision', 'predicted', average, warn_for)\n",
      "/anaconda3/lib/python3.7/site-packages/sklearn/metrics/classification.py:1143: UndefinedMetricWarning: F-score is ill-defined and being set to 0.0 in labels with no predicted samples.\n",
      "  'precision', 'predicted', average, warn_for)\n"
     ]
    },
    {
     "name": "stdout",
     "output_type": "stream",
     "text": [
      "[CV]  clf__criterion=entropy, clf__max_depth=2, clf__min_samples_leaf=1, clf__min_samples_split=8, clf__n_estimators=10, total=   0.2s\n",
      "[CV] clf__criterion=entropy, clf__max_depth=2, clf__min_samples_leaf=1, clf__min_samples_split=8, clf__n_estimators=10 \n"
     ]
    },
    {
     "name": "stderr",
     "output_type": "stream",
     "text": [
      "/anaconda3/lib/python3.7/site-packages/sklearn/metrics/classification.py:1143: UndefinedMetricWarning: F-score is ill-defined and being set to 0.0 in labels with no predicted samples.\n",
      "  'precision', 'predicted', average, warn_for)\n",
      "/anaconda3/lib/python3.7/site-packages/sklearn/metrics/classification.py:1143: UndefinedMetricWarning: F-score is ill-defined and being set to 0.0 in labels with no predicted samples.\n",
      "  'precision', 'predicted', average, warn_for)\n"
     ]
    },
    {
     "name": "stdout",
     "output_type": "stream",
     "text": [
      "[CV]  clf__criterion=entropy, clf__max_depth=2, clf__min_samples_leaf=1, clf__min_samples_split=8, clf__n_estimators=10, total=   0.2s\n",
      "[CV] clf__criterion=entropy, clf__max_depth=2, clf__min_samples_leaf=1, clf__min_samples_split=8, clf__n_estimators=50 \n"
     ]
    },
    {
     "name": "stderr",
     "output_type": "stream",
     "text": [
      "/anaconda3/lib/python3.7/site-packages/sklearn/metrics/classification.py:1143: UndefinedMetricWarning: F-score is ill-defined and being set to 0.0 in labels with no predicted samples.\n",
      "  'precision', 'predicted', average, warn_for)\n",
      "/anaconda3/lib/python3.7/site-packages/sklearn/metrics/classification.py:1143: UndefinedMetricWarning: F-score is ill-defined and being set to 0.0 in labels with no predicted samples.\n",
      "  'precision', 'predicted', average, warn_for)\n"
     ]
    },
    {
     "name": "stdout",
     "output_type": "stream",
     "text": [
      "[CV]  clf__criterion=entropy, clf__max_depth=2, clf__min_samples_leaf=1, clf__min_samples_split=8, clf__n_estimators=50, total=   0.9s\n",
      "[CV] clf__criterion=entropy, clf__max_depth=2, clf__min_samples_leaf=1, clf__min_samples_split=8, clf__n_estimators=50 \n"
     ]
    },
    {
     "name": "stderr",
     "output_type": "stream",
     "text": [
      "/anaconda3/lib/python3.7/site-packages/sklearn/metrics/classification.py:1143: UndefinedMetricWarning: F-score is ill-defined and being set to 0.0 in labels with no predicted samples.\n",
      "  'precision', 'predicted', average, warn_for)\n",
      "/anaconda3/lib/python3.7/site-packages/sklearn/metrics/classification.py:1143: UndefinedMetricWarning: F-score is ill-defined and being set to 0.0 in labels with no predicted samples.\n",
      "  'precision', 'predicted', average, warn_for)\n"
     ]
    },
    {
     "name": "stdout",
     "output_type": "stream",
     "text": [
      "[CV]  clf__criterion=entropy, clf__max_depth=2, clf__min_samples_leaf=1, clf__min_samples_split=8, clf__n_estimators=50, total=   0.9s\n",
      "[CV] clf__criterion=entropy, clf__max_depth=2, clf__min_samples_leaf=1, clf__min_samples_split=8, clf__n_estimators=50 \n"
     ]
    },
    {
     "name": "stderr",
     "output_type": "stream",
     "text": [
      "/anaconda3/lib/python3.7/site-packages/sklearn/metrics/classification.py:1143: UndefinedMetricWarning: F-score is ill-defined and being set to 0.0 in labels with no predicted samples.\n",
      "  'precision', 'predicted', average, warn_for)\n",
      "/anaconda3/lib/python3.7/site-packages/sklearn/metrics/classification.py:1143: UndefinedMetricWarning: F-score is ill-defined and being set to 0.0 in labels with no predicted samples.\n",
      "  'precision', 'predicted', average, warn_for)\n"
     ]
    },
    {
     "name": "stdout",
     "output_type": "stream",
     "text": [
      "[CV]  clf__criterion=entropy, clf__max_depth=2, clf__min_samples_leaf=1, clf__min_samples_split=8, clf__n_estimators=50, total=   1.0s\n",
      "[CV] clf__criterion=entropy, clf__max_depth=2, clf__min_samples_leaf=1, clf__min_samples_split=8, clf__n_estimators=100 \n"
     ]
    },
    {
     "name": "stderr",
     "output_type": "stream",
     "text": [
      "/anaconda3/lib/python3.7/site-packages/sklearn/metrics/classification.py:1143: UndefinedMetricWarning: F-score is ill-defined and being set to 0.0 in labels with no predicted samples.\n",
      "  'precision', 'predicted', average, warn_for)\n",
      "/anaconda3/lib/python3.7/site-packages/sklearn/metrics/classification.py:1143: UndefinedMetricWarning: F-score is ill-defined and being set to 0.0 in labels with no predicted samples.\n",
      "  'precision', 'predicted', average, warn_for)\n"
     ]
    },
    {
     "name": "stdout",
     "output_type": "stream",
     "text": [
      "[CV]  clf__criterion=entropy, clf__max_depth=2, clf__min_samples_leaf=1, clf__min_samples_split=8, clf__n_estimators=100, total=   1.9s\n",
      "[CV] clf__criterion=entropy, clf__max_depth=2, clf__min_samples_leaf=1, clf__min_samples_split=8, clf__n_estimators=100 \n"
     ]
    },
    {
     "name": "stderr",
     "output_type": "stream",
     "text": [
      "/anaconda3/lib/python3.7/site-packages/sklearn/metrics/classification.py:1143: UndefinedMetricWarning: F-score is ill-defined and being set to 0.0 in labels with no predicted samples.\n",
      "  'precision', 'predicted', average, warn_for)\n",
      "/anaconda3/lib/python3.7/site-packages/sklearn/metrics/classification.py:1143: UndefinedMetricWarning: F-score is ill-defined and being set to 0.0 in labels with no predicted samples.\n",
      "  'precision', 'predicted', average, warn_for)\n"
     ]
    },
    {
     "name": "stdout",
     "output_type": "stream",
     "text": [
      "[CV]  clf__criterion=entropy, clf__max_depth=2, clf__min_samples_leaf=1, clf__min_samples_split=8, clf__n_estimators=100, total=   1.8s\n",
      "[CV] clf__criterion=entropy, clf__max_depth=2, clf__min_samples_leaf=1, clf__min_samples_split=8, clf__n_estimators=100 \n"
     ]
    },
    {
     "name": "stderr",
     "output_type": "stream",
     "text": [
      "/anaconda3/lib/python3.7/site-packages/sklearn/metrics/classification.py:1143: UndefinedMetricWarning: F-score is ill-defined and being set to 0.0 in labels with no predicted samples.\n",
      "  'precision', 'predicted', average, warn_for)\n",
      "/anaconda3/lib/python3.7/site-packages/sklearn/metrics/classification.py:1143: UndefinedMetricWarning: F-score is ill-defined and being set to 0.0 in labels with no predicted samples.\n",
      "  'precision', 'predicted', average, warn_for)\n"
     ]
    },
    {
     "name": "stdout",
     "output_type": "stream",
     "text": [
      "[CV]  clf__criterion=entropy, clf__max_depth=2, clf__min_samples_leaf=1, clf__min_samples_split=8, clf__n_estimators=100, total=   1.9s\n",
      "[CV] clf__criterion=entropy, clf__max_depth=2, clf__min_samples_leaf=1, clf__min_samples_split=8, clf__n_estimators=200 \n"
     ]
    },
    {
     "name": "stderr",
     "output_type": "stream",
     "text": [
      "/anaconda3/lib/python3.7/site-packages/sklearn/metrics/classification.py:1143: UndefinedMetricWarning: F-score is ill-defined and being set to 0.0 in labels with no predicted samples.\n",
      "  'precision', 'predicted', average, warn_for)\n",
      "/anaconda3/lib/python3.7/site-packages/sklearn/metrics/classification.py:1143: UndefinedMetricWarning: F-score is ill-defined and being set to 0.0 in labels with no predicted samples.\n",
      "  'precision', 'predicted', average, warn_for)\n"
     ]
    },
    {
     "name": "stdout",
     "output_type": "stream",
     "text": [
      "[CV]  clf__criterion=entropy, clf__max_depth=2, clf__min_samples_leaf=1, clf__min_samples_split=8, clf__n_estimators=200, total=   3.9s\n",
      "[CV] clf__criterion=entropy, clf__max_depth=2, clf__min_samples_leaf=1, clf__min_samples_split=8, clf__n_estimators=200 \n"
     ]
    },
    {
     "name": "stderr",
     "output_type": "stream",
     "text": [
      "/anaconda3/lib/python3.7/site-packages/sklearn/metrics/classification.py:1143: UndefinedMetricWarning: F-score is ill-defined and being set to 0.0 in labels with no predicted samples.\n",
      "  'precision', 'predicted', average, warn_for)\n",
      "/anaconda3/lib/python3.7/site-packages/sklearn/metrics/classification.py:1143: UndefinedMetricWarning: F-score is ill-defined and being set to 0.0 in labels with no predicted samples.\n",
      "  'precision', 'predicted', average, warn_for)\n"
     ]
    },
    {
     "name": "stdout",
     "output_type": "stream",
     "text": [
      "[CV]  clf__criterion=entropy, clf__max_depth=2, clf__min_samples_leaf=1, clf__min_samples_split=8, clf__n_estimators=200, total=   3.6s\n",
      "[CV] clf__criterion=entropy, clf__max_depth=2, clf__min_samples_leaf=1, clf__min_samples_split=8, clf__n_estimators=200 \n"
     ]
    },
    {
     "name": "stderr",
     "output_type": "stream",
     "text": [
      "/anaconda3/lib/python3.7/site-packages/sklearn/metrics/classification.py:1143: UndefinedMetricWarning: F-score is ill-defined and being set to 0.0 in labels with no predicted samples.\n",
      "  'precision', 'predicted', average, warn_for)\n",
      "/anaconda3/lib/python3.7/site-packages/sklearn/metrics/classification.py:1143: UndefinedMetricWarning: F-score is ill-defined and being set to 0.0 in labels with no predicted samples.\n",
      "  'precision', 'predicted', average, warn_for)\n",
      "/anaconda3/lib/python3.7/site-packages/sklearn/metrics/classification.py:1143: UndefinedMetricWarning: F-score is ill-defined and being set to 0.0 in labels with no predicted samples.\n",
      "  'precision', 'predicted', average, warn_for)\n"
     ]
    },
    {
     "name": "stdout",
     "output_type": "stream",
     "text": [
      "[CV]  clf__criterion=entropy, clf__max_depth=2, clf__min_samples_leaf=1, clf__min_samples_split=8, clf__n_estimators=200, total=   3.9s\n",
      "[CV] clf__criterion=entropy, clf__max_depth=2, clf__min_samples_leaf=2, clf__min_samples_split=2, clf__n_estimators=10 \n"
     ]
    },
    {
     "name": "stderr",
     "output_type": "stream",
     "text": [
      "/anaconda3/lib/python3.7/site-packages/sklearn/metrics/classification.py:1143: UndefinedMetricWarning: F-score is ill-defined and being set to 0.0 in labels with no predicted samples.\n",
      "  'precision', 'predicted', average, warn_for)\n"
     ]
    },
    {
     "name": "stdout",
     "output_type": "stream",
     "text": [
      "[CV]  clf__criterion=entropy, clf__max_depth=2, clf__min_samples_leaf=2, clf__min_samples_split=2, clf__n_estimators=10, total=   0.2s\n",
      "[CV] clf__criterion=entropy, clf__max_depth=2, clf__min_samples_leaf=2, clf__min_samples_split=2, clf__n_estimators=10 \n"
     ]
    },
    {
     "name": "stderr",
     "output_type": "stream",
     "text": [
      "/anaconda3/lib/python3.7/site-packages/sklearn/metrics/classification.py:1143: UndefinedMetricWarning: F-score is ill-defined and being set to 0.0 in labels with no predicted samples.\n",
      "  'precision', 'predicted', average, warn_for)\n",
      "/anaconda3/lib/python3.7/site-packages/sklearn/metrics/classification.py:1143: UndefinedMetricWarning: F-score is ill-defined and being set to 0.0 in labels with no predicted samples.\n",
      "  'precision', 'predicted', average, warn_for)\n"
     ]
    },
    {
     "name": "stdout",
     "output_type": "stream",
     "text": [
      "[CV]  clf__criterion=entropy, clf__max_depth=2, clf__min_samples_leaf=2, clf__min_samples_split=2, clf__n_estimators=10, total=   0.2s\n",
      "[CV] clf__criterion=entropy, clf__max_depth=2, clf__min_samples_leaf=2, clf__min_samples_split=2, clf__n_estimators=10 \n"
     ]
    },
    {
     "name": "stderr",
     "output_type": "stream",
     "text": [
      "/anaconda3/lib/python3.7/site-packages/sklearn/metrics/classification.py:1143: UndefinedMetricWarning: F-score is ill-defined and being set to 0.0 in labels with no predicted samples.\n",
      "  'precision', 'predicted', average, warn_for)\n",
      "/anaconda3/lib/python3.7/site-packages/sklearn/metrics/classification.py:1143: UndefinedMetricWarning: F-score is ill-defined and being set to 0.0 in labels with no predicted samples.\n",
      "  'precision', 'predicted', average, warn_for)\n"
     ]
    },
    {
     "name": "stdout",
     "output_type": "stream",
     "text": [
      "[CV]  clf__criterion=entropy, clf__max_depth=2, clf__min_samples_leaf=2, clf__min_samples_split=2, clf__n_estimators=10, total=   0.2s\n",
      "[CV] clf__criterion=entropy, clf__max_depth=2, clf__min_samples_leaf=2, clf__min_samples_split=2, clf__n_estimators=50 \n"
     ]
    },
    {
     "name": "stderr",
     "output_type": "stream",
     "text": [
      "/anaconda3/lib/python3.7/site-packages/sklearn/metrics/classification.py:1143: UndefinedMetricWarning: F-score is ill-defined and being set to 0.0 in labels with no predicted samples.\n",
      "  'precision', 'predicted', average, warn_for)\n",
      "/anaconda3/lib/python3.7/site-packages/sklearn/metrics/classification.py:1143: UndefinedMetricWarning: F-score is ill-defined and being set to 0.0 in labels with no predicted samples.\n",
      "  'precision', 'predicted', average, warn_for)\n"
     ]
    },
    {
     "name": "stdout",
     "output_type": "stream",
     "text": [
      "[CV]  clf__criterion=entropy, clf__max_depth=2, clf__min_samples_leaf=2, clf__min_samples_split=2, clf__n_estimators=50, total=   0.9s\n",
      "[CV] clf__criterion=entropy, clf__max_depth=2, clf__min_samples_leaf=2, clf__min_samples_split=2, clf__n_estimators=50 \n"
     ]
    },
    {
     "name": "stderr",
     "output_type": "stream",
     "text": [
      "/anaconda3/lib/python3.7/site-packages/sklearn/metrics/classification.py:1143: UndefinedMetricWarning: F-score is ill-defined and being set to 0.0 in labels with no predicted samples.\n",
      "  'precision', 'predicted', average, warn_for)\n",
      "/anaconda3/lib/python3.7/site-packages/sklearn/metrics/classification.py:1143: UndefinedMetricWarning: F-score is ill-defined and being set to 0.0 in labels with no predicted samples.\n",
      "  'precision', 'predicted', average, warn_for)\n"
     ]
    },
    {
     "name": "stdout",
     "output_type": "stream",
     "text": [
      "[CV]  clf__criterion=entropy, clf__max_depth=2, clf__min_samples_leaf=2, clf__min_samples_split=2, clf__n_estimators=50, total=   0.9s\n",
      "[CV] clf__criterion=entropy, clf__max_depth=2, clf__min_samples_leaf=2, clf__min_samples_split=2, clf__n_estimators=50 \n"
     ]
    },
    {
     "name": "stderr",
     "output_type": "stream",
     "text": [
      "/anaconda3/lib/python3.7/site-packages/sklearn/metrics/classification.py:1143: UndefinedMetricWarning: F-score is ill-defined and being set to 0.0 in labels with no predicted samples.\n",
      "  'precision', 'predicted', average, warn_for)\n",
      "/anaconda3/lib/python3.7/site-packages/sklearn/metrics/classification.py:1143: UndefinedMetricWarning: F-score is ill-defined and being set to 0.0 in labels with no predicted samples.\n",
      "  'precision', 'predicted', average, warn_for)\n"
     ]
    },
    {
     "name": "stdout",
     "output_type": "stream",
     "text": [
      "[CV]  clf__criterion=entropy, clf__max_depth=2, clf__min_samples_leaf=2, clf__min_samples_split=2, clf__n_estimators=50, total=   1.0s\n",
      "[CV] clf__criterion=entropy, clf__max_depth=2, clf__min_samples_leaf=2, clf__min_samples_split=2, clf__n_estimators=100 \n"
     ]
    },
    {
     "name": "stderr",
     "output_type": "stream",
     "text": [
      "/anaconda3/lib/python3.7/site-packages/sklearn/metrics/classification.py:1143: UndefinedMetricWarning: F-score is ill-defined and being set to 0.0 in labels with no predicted samples.\n",
      "  'precision', 'predicted', average, warn_for)\n",
      "/anaconda3/lib/python3.7/site-packages/sklearn/metrics/classification.py:1143: UndefinedMetricWarning: F-score is ill-defined and being set to 0.0 in labels with no predicted samples.\n",
      "  'precision', 'predicted', average, warn_for)\n"
     ]
    },
    {
     "name": "stdout",
     "output_type": "stream",
     "text": [
      "[CV]  clf__criterion=entropy, clf__max_depth=2, clf__min_samples_leaf=2, clf__min_samples_split=2, clf__n_estimators=100, total=   1.9s\n",
      "[CV] clf__criterion=entropy, clf__max_depth=2, clf__min_samples_leaf=2, clf__min_samples_split=2, clf__n_estimators=100 \n"
     ]
    },
    {
     "name": "stderr",
     "output_type": "stream",
     "text": [
      "/anaconda3/lib/python3.7/site-packages/sklearn/metrics/classification.py:1143: UndefinedMetricWarning: F-score is ill-defined and being set to 0.0 in labels with no predicted samples.\n",
      "  'precision', 'predicted', average, warn_for)\n",
      "/anaconda3/lib/python3.7/site-packages/sklearn/metrics/classification.py:1143: UndefinedMetricWarning: F-score is ill-defined and being set to 0.0 in labels with no predicted samples.\n",
      "  'precision', 'predicted', average, warn_for)\n"
     ]
    },
    {
     "name": "stdout",
     "output_type": "stream",
     "text": [
      "[CV]  clf__criterion=entropy, clf__max_depth=2, clf__min_samples_leaf=2, clf__min_samples_split=2, clf__n_estimators=100, total=   1.8s\n",
      "[CV] clf__criterion=entropy, clf__max_depth=2, clf__min_samples_leaf=2, clf__min_samples_split=2, clf__n_estimators=100 \n"
     ]
    },
    {
     "name": "stderr",
     "output_type": "stream",
     "text": [
      "/anaconda3/lib/python3.7/site-packages/sklearn/metrics/classification.py:1143: UndefinedMetricWarning: F-score is ill-defined and being set to 0.0 in labels with no predicted samples.\n",
      "  'precision', 'predicted', average, warn_for)\n",
      "/anaconda3/lib/python3.7/site-packages/sklearn/metrics/classification.py:1143: UndefinedMetricWarning: F-score is ill-defined and being set to 0.0 in labels with no predicted samples.\n",
      "  'precision', 'predicted', average, warn_for)\n"
     ]
    },
    {
     "name": "stdout",
     "output_type": "stream",
     "text": [
      "[CV]  clf__criterion=entropy, clf__max_depth=2, clf__min_samples_leaf=2, clf__min_samples_split=2, clf__n_estimators=100, total=   2.0s\n",
      "[CV] clf__criterion=entropy, clf__max_depth=2, clf__min_samples_leaf=2, clf__min_samples_split=2, clf__n_estimators=200 \n"
     ]
    },
    {
     "name": "stderr",
     "output_type": "stream",
     "text": [
      "/anaconda3/lib/python3.7/site-packages/sklearn/metrics/classification.py:1143: UndefinedMetricWarning: F-score is ill-defined and being set to 0.0 in labels with no predicted samples.\n",
      "  'precision', 'predicted', average, warn_for)\n",
      "/anaconda3/lib/python3.7/site-packages/sklearn/metrics/classification.py:1143: UndefinedMetricWarning: F-score is ill-defined and being set to 0.0 in labels with no predicted samples.\n",
      "  'precision', 'predicted', average, warn_for)\n"
     ]
    },
    {
     "name": "stdout",
     "output_type": "stream",
     "text": [
      "[CV]  clf__criterion=entropy, clf__max_depth=2, clf__min_samples_leaf=2, clf__min_samples_split=2, clf__n_estimators=200, total=   4.0s\n",
      "[CV] clf__criterion=entropy, clf__max_depth=2, clf__min_samples_leaf=2, clf__min_samples_split=2, clf__n_estimators=200 \n"
     ]
    },
    {
     "name": "stderr",
     "output_type": "stream",
     "text": [
      "/anaconda3/lib/python3.7/site-packages/sklearn/metrics/classification.py:1143: UndefinedMetricWarning: F-score is ill-defined and being set to 0.0 in labels with no predicted samples.\n",
      "  'precision', 'predicted', average, warn_for)\n",
      "/anaconda3/lib/python3.7/site-packages/sklearn/metrics/classification.py:1143: UndefinedMetricWarning: F-score is ill-defined and being set to 0.0 in labels with no predicted samples.\n",
      "  'precision', 'predicted', average, warn_for)\n"
     ]
    },
    {
     "name": "stdout",
     "output_type": "stream",
     "text": [
      "[CV]  clf__criterion=entropy, clf__max_depth=2, clf__min_samples_leaf=2, clf__min_samples_split=2, clf__n_estimators=200, total=   3.5s\n",
      "[CV] clf__criterion=entropy, clf__max_depth=2, clf__min_samples_leaf=2, clf__min_samples_split=2, clf__n_estimators=200 \n"
     ]
    },
    {
     "name": "stderr",
     "output_type": "stream",
     "text": [
      "/anaconda3/lib/python3.7/site-packages/sklearn/metrics/classification.py:1143: UndefinedMetricWarning: F-score is ill-defined and being set to 0.0 in labels with no predicted samples.\n",
      "  'precision', 'predicted', average, warn_for)\n",
      "/anaconda3/lib/python3.7/site-packages/sklearn/metrics/classification.py:1143: UndefinedMetricWarning: F-score is ill-defined and being set to 0.0 in labels with no predicted samples.\n",
      "  'precision', 'predicted', average, warn_for)\n"
     ]
    },
    {
     "name": "stdout",
     "output_type": "stream",
     "text": [
      "[CV]  clf__criterion=entropy, clf__max_depth=2, clf__min_samples_leaf=2, clf__min_samples_split=2, clf__n_estimators=200, total=   4.2s\n",
      "[CV] clf__criterion=entropy, clf__max_depth=2, clf__min_samples_leaf=2, clf__min_samples_split=4, clf__n_estimators=10 \n"
     ]
    },
    {
     "name": "stderr",
     "output_type": "stream",
     "text": [
      "/anaconda3/lib/python3.7/site-packages/sklearn/metrics/classification.py:1143: UndefinedMetricWarning: F-score is ill-defined and being set to 0.0 in labels with no predicted samples.\n",
      "  'precision', 'predicted', average, warn_for)\n",
      "/anaconda3/lib/python3.7/site-packages/sklearn/metrics/classification.py:1143: UndefinedMetricWarning: F-score is ill-defined and being set to 0.0 in labels with no predicted samples.\n",
      "  'precision', 'predicted', average, warn_for)\n"
     ]
    },
    {
     "name": "stdout",
     "output_type": "stream",
     "text": [
      "[CV]  clf__criterion=entropy, clf__max_depth=2, clf__min_samples_leaf=2, clf__min_samples_split=4, clf__n_estimators=10, total=   0.3s\n",
      "[CV] clf__criterion=entropy, clf__max_depth=2, clf__min_samples_leaf=2, clf__min_samples_split=4, clf__n_estimators=10 \n"
     ]
    },
    {
     "name": "stderr",
     "output_type": "stream",
     "text": [
      "/anaconda3/lib/python3.7/site-packages/sklearn/metrics/classification.py:1143: UndefinedMetricWarning: F-score is ill-defined and being set to 0.0 in labels with no predicted samples.\n",
      "  'precision', 'predicted', average, warn_for)\n",
      "/anaconda3/lib/python3.7/site-packages/sklearn/metrics/classification.py:1143: UndefinedMetricWarning: F-score is ill-defined and being set to 0.0 in labels with no predicted samples.\n",
      "  'precision', 'predicted', average, warn_for)\n"
     ]
    },
    {
     "name": "stdout",
     "output_type": "stream",
     "text": [
      "[CV]  clf__criterion=entropy, clf__max_depth=2, clf__min_samples_leaf=2, clf__min_samples_split=4, clf__n_estimators=10, total=   0.3s\n",
      "[CV] clf__criterion=entropy, clf__max_depth=2, clf__min_samples_leaf=2, clf__min_samples_split=4, clf__n_estimators=10 \n"
     ]
    },
    {
     "name": "stderr",
     "output_type": "stream",
     "text": [
      "/anaconda3/lib/python3.7/site-packages/sklearn/metrics/classification.py:1143: UndefinedMetricWarning: F-score is ill-defined and being set to 0.0 in labels with no predicted samples.\n",
      "  'precision', 'predicted', average, warn_for)\n",
      "/anaconda3/lib/python3.7/site-packages/sklearn/metrics/classification.py:1143: UndefinedMetricWarning: F-score is ill-defined and being set to 0.0 in labels with no predicted samples.\n",
      "  'precision', 'predicted', average, warn_for)\n"
     ]
    },
    {
     "name": "stdout",
     "output_type": "stream",
     "text": [
      "[CV]  clf__criterion=entropy, clf__max_depth=2, clf__min_samples_leaf=2, clf__min_samples_split=4, clf__n_estimators=10, total=   0.3s\n",
      "[CV] clf__criterion=entropy, clf__max_depth=2, clf__min_samples_leaf=2, clf__min_samples_split=4, clf__n_estimators=50 \n"
     ]
    },
    {
     "name": "stderr",
     "output_type": "stream",
     "text": [
      "/anaconda3/lib/python3.7/site-packages/sklearn/metrics/classification.py:1143: UndefinedMetricWarning: F-score is ill-defined and being set to 0.0 in labels with no predicted samples.\n",
      "  'precision', 'predicted', average, warn_for)\n",
      "/anaconda3/lib/python3.7/site-packages/sklearn/metrics/classification.py:1143: UndefinedMetricWarning: F-score is ill-defined and being set to 0.0 in labels with no predicted samples.\n",
      "  'precision', 'predicted', average, warn_for)\n"
     ]
    },
    {
     "name": "stdout",
     "output_type": "stream",
     "text": [
      "[CV]  clf__criterion=entropy, clf__max_depth=2, clf__min_samples_leaf=2, clf__min_samples_split=4, clf__n_estimators=50, total=   1.0s\n",
      "[CV] clf__criterion=entropy, clf__max_depth=2, clf__min_samples_leaf=2, clf__min_samples_split=4, clf__n_estimators=50 \n"
     ]
    },
    {
     "name": "stderr",
     "output_type": "stream",
     "text": [
      "/anaconda3/lib/python3.7/site-packages/sklearn/metrics/classification.py:1143: UndefinedMetricWarning: F-score is ill-defined and being set to 0.0 in labels with no predicted samples.\n",
      "  'precision', 'predicted', average, warn_for)\n",
      "/anaconda3/lib/python3.7/site-packages/sklearn/metrics/classification.py:1143: UndefinedMetricWarning: F-score is ill-defined and being set to 0.0 in labels with no predicted samples.\n",
      "  'precision', 'predicted', average, warn_for)\n"
     ]
    },
    {
     "name": "stdout",
     "output_type": "stream",
     "text": [
      "[CV]  clf__criterion=entropy, clf__max_depth=2, clf__min_samples_leaf=2, clf__min_samples_split=4, clf__n_estimators=50, total=   1.2s\n",
      "[CV] clf__criterion=entropy, clf__max_depth=2, clf__min_samples_leaf=2, clf__min_samples_split=4, clf__n_estimators=50 \n"
     ]
    },
    {
     "name": "stderr",
     "output_type": "stream",
     "text": [
      "/anaconda3/lib/python3.7/site-packages/sklearn/metrics/classification.py:1143: UndefinedMetricWarning: F-score is ill-defined and being set to 0.0 in labels with no predicted samples.\n",
      "  'precision', 'predicted', average, warn_for)\n",
      "/anaconda3/lib/python3.7/site-packages/sklearn/metrics/classification.py:1143: UndefinedMetricWarning: F-score is ill-defined and being set to 0.0 in labels with no predicted samples.\n",
      "  'precision', 'predicted', average, warn_for)\n"
     ]
    },
    {
     "name": "stdout",
     "output_type": "stream",
     "text": [
      "[CV]  clf__criterion=entropy, clf__max_depth=2, clf__min_samples_leaf=2, clf__min_samples_split=4, clf__n_estimators=50, total=   1.3s\n",
      "[CV] clf__criterion=entropy, clf__max_depth=2, clf__min_samples_leaf=2, clf__min_samples_split=4, clf__n_estimators=100 \n"
     ]
    },
    {
     "name": "stderr",
     "output_type": "stream",
     "text": [
      "/anaconda3/lib/python3.7/site-packages/sklearn/metrics/classification.py:1143: UndefinedMetricWarning: F-score is ill-defined and being set to 0.0 in labels with no predicted samples.\n",
      "  'precision', 'predicted', average, warn_for)\n",
      "/anaconda3/lib/python3.7/site-packages/sklearn/metrics/classification.py:1143: UndefinedMetricWarning: F-score is ill-defined and being set to 0.0 in labels with no predicted samples.\n",
      "  'precision', 'predicted', average, warn_for)\n"
     ]
    },
    {
     "name": "stdout",
     "output_type": "stream",
     "text": [
      "[CV]  clf__criterion=entropy, clf__max_depth=2, clf__min_samples_leaf=2, clf__min_samples_split=4, clf__n_estimators=100, total=   2.3s\n",
      "[CV] clf__criterion=entropy, clf__max_depth=2, clf__min_samples_leaf=2, clf__min_samples_split=4, clf__n_estimators=100 \n"
     ]
    },
    {
     "name": "stderr",
     "output_type": "stream",
     "text": [
      "/anaconda3/lib/python3.7/site-packages/sklearn/metrics/classification.py:1143: UndefinedMetricWarning: F-score is ill-defined and being set to 0.0 in labels with no predicted samples.\n",
      "  'precision', 'predicted', average, warn_for)\n",
      "/anaconda3/lib/python3.7/site-packages/sklearn/metrics/classification.py:1143: UndefinedMetricWarning: F-score is ill-defined and being set to 0.0 in labels with no predicted samples.\n",
      "  'precision', 'predicted', average, warn_for)\n"
     ]
    },
    {
     "name": "stdout",
     "output_type": "stream",
     "text": [
      "[CV]  clf__criterion=entropy, clf__max_depth=2, clf__min_samples_leaf=2, clf__min_samples_split=4, clf__n_estimators=100, total=   1.8s\n",
      "[CV] clf__criterion=entropy, clf__max_depth=2, clf__min_samples_leaf=2, clf__min_samples_split=4, clf__n_estimators=100 \n"
     ]
    },
    {
     "name": "stderr",
     "output_type": "stream",
     "text": [
      "/anaconda3/lib/python3.7/site-packages/sklearn/metrics/classification.py:1143: UndefinedMetricWarning: F-score is ill-defined and being set to 0.0 in labels with no predicted samples.\n",
      "  'precision', 'predicted', average, warn_for)\n",
      "/anaconda3/lib/python3.7/site-packages/sklearn/metrics/classification.py:1143: UndefinedMetricWarning: F-score is ill-defined and being set to 0.0 in labels with no predicted samples.\n",
      "  'precision', 'predicted', average, warn_for)\n"
     ]
    },
    {
     "name": "stdout",
     "output_type": "stream",
     "text": [
      "[CV]  clf__criterion=entropy, clf__max_depth=2, clf__min_samples_leaf=2, clf__min_samples_split=4, clf__n_estimators=100, total=   1.9s\n",
      "[CV] clf__criterion=entropy, clf__max_depth=2, clf__min_samples_leaf=2, clf__min_samples_split=4, clf__n_estimators=200 \n"
     ]
    },
    {
     "name": "stderr",
     "output_type": "stream",
     "text": [
      "/anaconda3/lib/python3.7/site-packages/sklearn/metrics/classification.py:1143: UndefinedMetricWarning: F-score is ill-defined and being set to 0.0 in labels with no predicted samples.\n",
      "  'precision', 'predicted', average, warn_for)\n",
      "/anaconda3/lib/python3.7/site-packages/sklearn/metrics/classification.py:1143: UndefinedMetricWarning: F-score is ill-defined and being set to 0.0 in labels with no predicted samples.\n",
      "  'precision', 'predicted', average, warn_for)\n"
     ]
    },
    {
     "name": "stdout",
     "output_type": "stream",
     "text": [
      "[CV]  clf__criterion=entropy, clf__max_depth=2, clf__min_samples_leaf=2, clf__min_samples_split=4, clf__n_estimators=200, total=   3.7s\n",
      "[CV] clf__criterion=entropy, clf__max_depth=2, clf__min_samples_leaf=2, clf__min_samples_split=4, clf__n_estimators=200 \n"
     ]
    },
    {
     "name": "stderr",
     "output_type": "stream",
     "text": [
      "/anaconda3/lib/python3.7/site-packages/sklearn/metrics/classification.py:1143: UndefinedMetricWarning: F-score is ill-defined and being set to 0.0 in labels with no predicted samples.\n",
      "  'precision', 'predicted', average, warn_for)\n",
      "/anaconda3/lib/python3.7/site-packages/sklearn/metrics/classification.py:1143: UndefinedMetricWarning: F-score is ill-defined and being set to 0.0 in labels with no predicted samples.\n",
      "  'precision', 'predicted', average, warn_for)\n"
     ]
    },
    {
     "name": "stdout",
     "output_type": "stream",
     "text": [
      "[CV]  clf__criterion=entropy, clf__max_depth=2, clf__min_samples_leaf=2, clf__min_samples_split=4, clf__n_estimators=200, total=   3.4s\n",
      "[CV] clf__criterion=entropy, clf__max_depth=2, clf__min_samples_leaf=2, clf__min_samples_split=4, clf__n_estimators=200 \n"
     ]
    },
    {
     "name": "stderr",
     "output_type": "stream",
     "text": [
      "/anaconda3/lib/python3.7/site-packages/sklearn/metrics/classification.py:1143: UndefinedMetricWarning: F-score is ill-defined and being set to 0.0 in labels with no predicted samples.\n",
      "  'precision', 'predicted', average, warn_for)\n",
      "/anaconda3/lib/python3.7/site-packages/sklearn/metrics/classification.py:1143: UndefinedMetricWarning: F-score is ill-defined and being set to 0.0 in labels with no predicted samples.\n",
      "  'precision', 'predicted', average, warn_for)\n"
     ]
    },
    {
     "name": "stdout",
     "output_type": "stream",
     "text": [
      "[CV]  clf__criterion=entropy, clf__max_depth=2, clf__min_samples_leaf=2, clf__min_samples_split=4, clf__n_estimators=200, total=   3.8s\n",
      "[CV] clf__criterion=entropy, clf__max_depth=2, clf__min_samples_leaf=2, clf__min_samples_split=8, clf__n_estimators=10 \n"
     ]
    },
    {
     "name": "stderr",
     "output_type": "stream",
     "text": [
      "/anaconda3/lib/python3.7/site-packages/sklearn/metrics/classification.py:1143: UndefinedMetricWarning: F-score is ill-defined and being set to 0.0 in labels with no predicted samples.\n",
      "  'precision', 'predicted', average, warn_for)\n",
      "/anaconda3/lib/python3.7/site-packages/sklearn/metrics/classification.py:1143: UndefinedMetricWarning: F-score is ill-defined and being set to 0.0 in labels with no predicted samples.\n",
      "  'precision', 'predicted', average, warn_for)\n"
     ]
    },
    {
     "name": "stdout",
     "output_type": "stream",
     "text": [
      "[CV]  clf__criterion=entropy, clf__max_depth=2, clf__min_samples_leaf=2, clf__min_samples_split=8, clf__n_estimators=10, total=   0.2s\n",
      "[CV] clf__criterion=entropy, clf__max_depth=2, clf__min_samples_leaf=2, clf__min_samples_split=8, clf__n_estimators=10 \n"
     ]
    },
    {
     "name": "stderr",
     "output_type": "stream",
     "text": [
      "/anaconda3/lib/python3.7/site-packages/sklearn/metrics/classification.py:1143: UndefinedMetricWarning: F-score is ill-defined and being set to 0.0 in labels with no predicted samples.\n",
      "  'precision', 'predicted', average, warn_for)\n",
      "/anaconda3/lib/python3.7/site-packages/sklearn/metrics/classification.py:1143: UndefinedMetricWarning: F-score is ill-defined and being set to 0.0 in labels with no predicted samples.\n",
      "  'precision', 'predicted', average, warn_for)\n"
     ]
    },
    {
     "name": "stdout",
     "output_type": "stream",
     "text": [
      "[CV]  clf__criterion=entropy, clf__max_depth=2, clf__min_samples_leaf=2, clf__min_samples_split=8, clf__n_estimators=10, total=   0.2s\n",
      "[CV] clf__criterion=entropy, clf__max_depth=2, clf__min_samples_leaf=2, clf__min_samples_split=8, clf__n_estimators=10 \n"
     ]
    },
    {
     "name": "stderr",
     "output_type": "stream",
     "text": [
      "/anaconda3/lib/python3.7/site-packages/sklearn/metrics/classification.py:1143: UndefinedMetricWarning: F-score is ill-defined and being set to 0.0 in labels with no predicted samples.\n",
      "  'precision', 'predicted', average, warn_for)\n",
      "/anaconda3/lib/python3.7/site-packages/sklearn/metrics/classification.py:1143: UndefinedMetricWarning: F-score is ill-defined and being set to 0.0 in labels with no predicted samples.\n",
      "  'precision', 'predicted', average, warn_for)\n"
     ]
    },
    {
     "name": "stdout",
     "output_type": "stream",
     "text": [
      "[CV]  clf__criterion=entropy, clf__max_depth=2, clf__min_samples_leaf=2, clf__min_samples_split=8, clf__n_estimators=10, total=   0.3s\n",
      "[CV] clf__criterion=entropy, clf__max_depth=2, clf__min_samples_leaf=2, clf__min_samples_split=8, clf__n_estimators=50 \n"
     ]
    },
    {
     "name": "stderr",
     "output_type": "stream",
     "text": [
      "/anaconda3/lib/python3.7/site-packages/sklearn/metrics/classification.py:1143: UndefinedMetricWarning: F-score is ill-defined and being set to 0.0 in labels with no predicted samples.\n",
      "  'precision', 'predicted', average, warn_for)\n",
      "/anaconda3/lib/python3.7/site-packages/sklearn/metrics/classification.py:1143: UndefinedMetricWarning: F-score is ill-defined and being set to 0.0 in labels with no predicted samples.\n",
      "  'precision', 'predicted', average, warn_for)\n"
     ]
    },
    {
     "name": "stdout",
     "output_type": "stream",
     "text": [
      "[CV]  clf__criterion=entropy, clf__max_depth=2, clf__min_samples_leaf=2, clf__min_samples_split=8, clf__n_estimators=50, total=   1.0s\n",
      "[CV] clf__criterion=entropy, clf__max_depth=2, clf__min_samples_leaf=2, clf__min_samples_split=8, clf__n_estimators=50 \n"
     ]
    },
    {
     "name": "stderr",
     "output_type": "stream",
     "text": [
      "/anaconda3/lib/python3.7/site-packages/sklearn/metrics/classification.py:1143: UndefinedMetricWarning: F-score is ill-defined and being set to 0.0 in labels with no predicted samples.\n",
      "  'precision', 'predicted', average, warn_for)\n",
      "/anaconda3/lib/python3.7/site-packages/sklearn/metrics/classification.py:1143: UndefinedMetricWarning: F-score is ill-defined and being set to 0.0 in labels with no predicted samples.\n",
      "  'precision', 'predicted', average, warn_for)\n"
     ]
    },
    {
     "name": "stdout",
     "output_type": "stream",
     "text": [
      "[CV]  clf__criterion=entropy, clf__max_depth=2, clf__min_samples_leaf=2, clf__min_samples_split=8, clf__n_estimators=50, total=   1.0s\n",
      "[CV] clf__criterion=entropy, clf__max_depth=2, clf__min_samples_leaf=2, clf__min_samples_split=8, clf__n_estimators=50 \n"
     ]
    },
    {
     "name": "stderr",
     "output_type": "stream",
     "text": [
      "/anaconda3/lib/python3.7/site-packages/sklearn/metrics/classification.py:1143: UndefinedMetricWarning: F-score is ill-defined and being set to 0.0 in labels with no predicted samples.\n",
      "  'precision', 'predicted', average, warn_for)\n",
      "/anaconda3/lib/python3.7/site-packages/sklearn/metrics/classification.py:1143: UndefinedMetricWarning: F-score is ill-defined and being set to 0.0 in labels with no predicted samples.\n",
      "  'precision', 'predicted', average, warn_for)\n"
     ]
    },
    {
     "name": "stdout",
     "output_type": "stream",
     "text": [
      "[CV]  clf__criterion=entropy, clf__max_depth=2, clf__min_samples_leaf=2, clf__min_samples_split=8, clf__n_estimators=50, total=   1.0s\n",
      "[CV] clf__criterion=entropy, clf__max_depth=2, clf__min_samples_leaf=2, clf__min_samples_split=8, clf__n_estimators=100 \n"
     ]
    },
    {
     "name": "stderr",
     "output_type": "stream",
     "text": [
      "/anaconda3/lib/python3.7/site-packages/sklearn/metrics/classification.py:1143: UndefinedMetricWarning: F-score is ill-defined and being set to 0.0 in labels with no predicted samples.\n",
      "  'precision', 'predicted', average, warn_for)\n",
      "/anaconda3/lib/python3.7/site-packages/sklearn/metrics/classification.py:1143: UndefinedMetricWarning: F-score is ill-defined and being set to 0.0 in labels with no predicted samples.\n",
      "  'precision', 'predicted', average, warn_for)\n"
     ]
    },
    {
     "name": "stdout",
     "output_type": "stream",
     "text": [
      "[CV]  clf__criterion=entropy, clf__max_depth=2, clf__min_samples_leaf=2, clf__min_samples_split=8, clf__n_estimators=100, total=   1.9s\n",
      "[CV] clf__criterion=entropy, clf__max_depth=2, clf__min_samples_leaf=2, clf__min_samples_split=8, clf__n_estimators=100 \n"
     ]
    },
    {
     "name": "stderr",
     "output_type": "stream",
     "text": [
      "/anaconda3/lib/python3.7/site-packages/sklearn/metrics/classification.py:1143: UndefinedMetricWarning: F-score is ill-defined and being set to 0.0 in labels with no predicted samples.\n",
      "  'precision', 'predicted', average, warn_for)\n",
      "/anaconda3/lib/python3.7/site-packages/sklearn/metrics/classification.py:1143: UndefinedMetricWarning: F-score is ill-defined and being set to 0.0 in labels with no predicted samples.\n",
      "  'precision', 'predicted', average, warn_for)\n"
     ]
    },
    {
     "name": "stdout",
     "output_type": "stream",
     "text": [
      "[CV]  clf__criterion=entropy, clf__max_depth=2, clf__min_samples_leaf=2, clf__min_samples_split=8, clf__n_estimators=100, total=   1.9s\n",
      "[CV] clf__criterion=entropy, clf__max_depth=2, clf__min_samples_leaf=2, clf__min_samples_split=8, clf__n_estimators=100 \n"
     ]
    },
    {
     "name": "stderr",
     "output_type": "stream",
     "text": [
      "/anaconda3/lib/python3.7/site-packages/sklearn/metrics/classification.py:1143: UndefinedMetricWarning: F-score is ill-defined and being set to 0.0 in labels with no predicted samples.\n",
      "  'precision', 'predicted', average, warn_for)\n",
      "/anaconda3/lib/python3.7/site-packages/sklearn/metrics/classification.py:1143: UndefinedMetricWarning: F-score is ill-defined and being set to 0.0 in labels with no predicted samples.\n",
      "  'precision', 'predicted', average, warn_for)\n"
     ]
    },
    {
     "name": "stdout",
     "output_type": "stream",
     "text": [
      "[CV]  clf__criterion=entropy, clf__max_depth=2, clf__min_samples_leaf=2, clf__min_samples_split=8, clf__n_estimators=100, total=   2.3s\n",
      "[CV] clf__criterion=entropy, clf__max_depth=2, clf__min_samples_leaf=2, clf__min_samples_split=8, clf__n_estimators=200 \n"
     ]
    },
    {
     "name": "stderr",
     "output_type": "stream",
     "text": [
      "/anaconda3/lib/python3.7/site-packages/sklearn/metrics/classification.py:1143: UndefinedMetricWarning: F-score is ill-defined and being set to 0.0 in labels with no predicted samples.\n",
      "  'precision', 'predicted', average, warn_for)\n",
      "/anaconda3/lib/python3.7/site-packages/sklearn/metrics/classification.py:1143: UndefinedMetricWarning: F-score is ill-defined and being set to 0.0 in labels with no predicted samples.\n",
      "  'precision', 'predicted', average, warn_for)\n"
     ]
    },
    {
     "name": "stdout",
     "output_type": "stream",
     "text": [
      "[CV]  clf__criterion=entropy, clf__max_depth=2, clf__min_samples_leaf=2, clf__min_samples_split=8, clf__n_estimators=200, total=   3.9s\n",
      "[CV] clf__criterion=entropy, clf__max_depth=2, clf__min_samples_leaf=2, clf__min_samples_split=8, clf__n_estimators=200 \n"
     ]
    },
    {
     "name": "stderr",
     "output_type": "stream",
     "text": [
      "/anaconda3/lib/python3.7/site-packages/sklearn/metrics/classification.py:1143: UndefinedMetricWarning: F-score is ill-defined and being set to 0.0 in labels with no predicted samples.\n",
      "  'precision', 'predicted', average, warn_for)\n",
      "/anaconda3/lib/python3.7/site-packages/sklearn/metrics/classification.py:1143: UndefinedMetricWarning: F-score is ill-defined and being set to 0.0 in labels with no predicted samples.\n",
      "  'precision', 'predicted', average, warn_for)\n"
     ]
    },
    {
     "name": "stdout",
     "output_type": "stream",
     "text": [
      "[CV]  clf__criterion=entropy, clf__max_depth=2, clf__min_samples_leaf=2, clf__min_samples_split=8, clf__n_estimators=200, total=   3.7s\n",
      "[CV] clf__criterion=entropy, clf__max_depth=2, clf__min_samples_leaf=2, clf__min_samples_split=8, clf__n_estimators=200 \n"
     ]
    },
    {
     "name": "stderr",
     "output_type": "stream",
     "text": [
      "/anaconda3/lib/python3.7/site-packages/sklearn/metrics/classification.py:1143: UndefinedMetricWarning: F-score is ill-defined and being set to 0.0 in labels with no predicted samples.\n",
      "  'precision', 'predicted', average, warn_for)\n",
      "/anaconda3/lib/python3.7/site-packages/sklearn/metrics/classification.py:1143: UndefinedMetricWarning: F-score is ill-defined and being set to 0.0 in labels with no predicted samples.\n",
      "  'precision', 'predicted', average, warn_for)\n"
     ]
    },
    {
     "name": "stdout",
     "output_type": "stream",
     "text": [
      "[CV]  clf__criterion=entropy, clf__max_depth=2, clf__min_samples_leaf=2, clf__min_samples_split=8, clf__n_estimators=200, total=   4.3s\n",
      "[CV] clf__criterion=entropy, clf__max_depth=2, clf__min_samples_leaf=5, clf__min_samples_split=2, clf__n_estimators=10 \n"
     ]
    },
    {
     "name": "stderr",
     "output_type": "stream",
     "text": [
      "/anaconda3/lib/python3.7/site-packages/sklearn/metrics/classification.py:1143: UndefinedMetricWarning: F-score is ill-defined and being set to 0.0 in labels with no predicted samples.\n",
      "  'precision', 'predicted', average, warn_for)\n",
      "/anaconda3/lib/python3.7/site-packages/sklearn/metrics/classification.py:1143: UndefinedMetricWarning: F-score is ill-defined and being set to 0.0 in labels with no predicted samples.\n",
      "  'precision', 'predicted', average, warn_for)\n"
     ]
    },
    {
     "name": "stdout",
     "output_type": "stream",
     "text": [
      "[CV]  clf__criterion=entropy, clf__max_depth=2, clf__min_samples_leaf=5, clf__min_samples_split=2, clf__n_estimators=10, total=   0.2s\n",
      "[CV] clf__criterion=entropy, clf__max_depth=2, clf__min_samples_leaf=5, clf__min_samples_split=2, clf__n_estimators=10 \n"
     ]
    },
    {
     "name": "stderr",
     "output_type": "stream",
     "text": [
      "/anaconda3/lib/python3.7/site-packages/sklearn/metrics/classification.py:1143: UndefinedMetricWarning: F-score is ill-defined and being set to 0.0 in labels with no predicted samples.\n",
      "  'precision', 'predicted', average, warn_for)\n",
      "/anaconda3/lib/python3.7/site-packages/sklearn/metrics/classification.py:1143: UndefinedMetricWarning: F-score is ill-defined and being set to 0.0 in labels with no predicted samples.\n",
      "  'precision', 'predicted', average, warn_for)\n"
     ]
    },
    {
     "name": "stdout",
     "output_type": "stream",
     "text": [
      "[CV]  clf__criterion=entropy, clf__max_depth=2, clf__min_samples_leaf=5, clf__min_samples_split=2, clf__n_estimators=10, total=   0.2s\n",
      "[CV] clf__criterion=entropy, clf__max_depth=2, clf__min_samples_leaf=5, clf__min_samples_split=2, clf__n_estimators=10 \n"
     ]
    },
    {
     "name": "stderr",
     "output_type": "stream",
     "text": [
      "/anaconda3/lib/python3.7/site-packages/sklearn/metrics/classification.py:1143: UndefinedMetricWarning: F-score is ill-defined and being set to 0.0 in labels with no predicted samples.\n",
      "  'precision', 'predicted', average, warn_for)\n",
      "/anaconda3/lib/python3.7/site-packages/sklearn/metrics/classification.py:1143: UndefinedMetricWarning: F-score is ill-defined and being set to 0.0 in labels with no predicted samples.\n",
      "  'precision', 'predicted', average, warn_for)\n"
     ]
    },
    {
     "name": "stdout",
     "output_type": "stream",
     "text": [
      "[CV]  clf__criterion=entropy, clf__max_depth=2, clf__min_samples_leaf=5, clf__min_samples_split=2, clf__n_estimators=10, total=   0.2s\n",
      "[CV] clf__criterion=entropy, clf__max_depth=2, clf__min_samples_leaf=5, clf__min_samples_split=2, clf__n_estimators=50 \n"
     ]
    },
    {
     "name": "stderr",
     "output_type": "stream",
     "text": [
      "/anaconda3/lib/python3.7/site-packages/sklearn/metrics/classification.py:1143: UndefinedMetricWarning: F-score is ill-defined and being set to 0.0 in labels with no predicted samples.\n",
      "  'precision', 'predicted', average, warn_for)\n",
      "/anaconda3/lib/python3.7/site-packages/sklearn/metrics/classification.py:1143: UndefinedMetricWarning: F-score is ill-defined and being set to 0.0 in labels with no predicted samples.\n",
      "  'precision', 'predicted', average, warn_for)\n"
     ]
    },
    {
     "name": "stdout",
     "output_type": "stream",
     "text": [
      "[CV]  clf__criterion=entropy, clf__max_depth=2, clf__min_samples_leaf=5, clf__min_samples_split=2, clf__n_estimators=50, total=   0.9s\n",
      "[CV] clf__criterion=entropy, clf__max_depth=2, clf__min_samples_leaf=5, clf__min_samples_split=2, clf__n_estimators=50 \n"
     ]
    },
    {
     "name": "stderr",
     "output_type": "stream",
     "text": [
      "/anaconda3/lib/python3.7/site-packages/sklearn/metrics/classification.py:1143: UndefinedMetricWarning: F-score is ill-defined and being set to 0.0 in labels with no predicted samples.\n",
      "  'precision', 'predicted', average, warn_for)\n",
      "/anaconda3/lib/python3.7/site-packages/sklearn/metrics/classification.py:1143: UndefinedMetricWarning: F-score is ill-defined and being set to 0.0 in labels with no predicted samples.\n",
      "  'precision', 'predicted', average, warn_for)\n"
     ]
    },
    {
     "name": "stdout",
     "output_type": "stream",
     "text": [
      "[CV]  clf__criterion=entropy, clf__max_depth=2, clf__min_samples_leaf=5, clf__min_samples_split=2, clf__n_estimators=50, total=   1.2s\n",
      "[CV] clf__criterion=entropy, clf__max_depth=2, clf__min_samples_leaf=5, clf__min_samples_split=2, clf__n_estimators=50 \n"
     ]
    },
    {
     "name": "stderr",
     "output_type": "stream",
     "text": [
      "/anaconda3/lib/python3.7/site-packages/sklearn/metrics/classification.py:1143: UndefinedMetricWarning: F-score is ill-defined and being set to 0.0 in labels with no predicted samples.\n",
      "  'precision', 'predicted', average, warn_for)\n",
      "/anaconda3/lib/python3.7/site-packages/sklearn/metrics/classification.py:1143: UndefinedMetricWarning: F-score is ill-defined and being set to 0.0 in labels with no predicted samples.\n",
      "  'precision', 'predicted', average, warn_for)\n"
     ]
    },
    {
     "name": "stdout",
     "output_type": "stream",
     "text": [
      "[CV]  clf__criterion=entropy, clf__max_depth=2, clf__min_samples_leaf=5, clf__min_samples_split=2, clf__n_estimators=50, total=   1.1s\n",
      "[CV] clf__criterion=entropy, clf__max_depth=2, clf__min_samples_leaf=5, clf__min_samples_split=2, clf__n_estimators=100 \n"
     ]
    },
    {
     "name": "stderr",
     "output_type": "stream",
     "text": [
      "/anaconda3/lib/python3.7/site-packages/sklearn/metrics/classification.py:1143: UndefinedMetricWarning: F-score is ill-defined and being set to 0.0 in labels with no predicted samples.\n",
      "  'precision', 'predicted', average, warn_for)\n",
      "/anaconda3/lib/python3.7/site-packages/sklearn/metrics/classification.py:1143: UndefinedMetricWarning: F-score is ill-defined and being set to 0.0 in labels with no predicted samples.\n",
      "  'precision', 'predicted', average, warn_for)\n"
     ]
    },
    {
     "name": "stdout",
     "output_type": "stream",
     "text": [
      "[CV]  clf__criterion=entropy, clf__max_depth=2, clf__min_samples_leaf=5, clf__min_samples_split=2, clf__n_estimators=100, total=   2.2s\n",
      "[CV] clf__criterion=entropy, clf__max_depth=2, clf__min_samples_leaf=5, clf__min_samples_split=2, clf__n_estimators=100 \n"
     ]
    },
    {
     "name": "stderr",
     "output_type": "stream",
     "text": [
      "/anaconda3/lib/python3.7/site-packages/sklearn/metrics/classification.py:1143: UndefinedMetricWarning: F-score is ill-defined and being set to 0.0 in labels with no predicted samples.\n",
      "  'precision', 'predicted', average, warn_for)\n",
      "/anaconda3/lib/python3.7/site-packages/sklearn/metrics/classification.py:1143: UndefinedMetricWarning: F-score is ill-defined and being set to 0.0 in labels with no predicted samples.\n",
      "  'precision', 'predicted', average, warn_for)\n"
     ]
    },
    {
     "name": "stdout",
     "output_type": "stream",
     "text": [
      "[CV]  clf__criterion=entropy, clf__max_depth=2, clf__min_samples_leaf=5, clf__min_samples_split=2, clf__n_estimators=100, total=   1.8s\n",
      "[CV] clf__criterion=entropy, clf__max_depth=2, clf__min_samples_leaf=5, clf__min_samples_split=2, clf__n_estimators=100 \n"
     ]
    },
    {
     "name": "stderr",
     "output_type": "stream",
     "text": [
      "/anaconda3/lib/python3.7/site-packages/sklearn/metrics/classification.py:1143: UndefinedMetricWarning: F-score is ill-defined and being set to 0.0 in labels with no predicted samples.\n",
      "  'precision', 'predicted', average, warn_for)\n",
      "/anaconda3/lib/python3.7/site-packages/sklearn/metrics/classification.py:1143: UndefinedMetricWarning: F-score is ill-defined and being set to 0.0 in labels with no predicted samples.\n",
      "  'precision', 'predicted', average, warn_for)\n"
     ]
    },
    {
     "name": "stdout",
     "output_type": "stream",
     "text": [
      "[CV]  clf__criterion=entropy, clf__max_depth=2, clf__min_samples_leaf=5, clf__min_samples_split=2, clf__n_estimators=100, total=   2.0s\n",
      "[CV] clf__criterion=entropy, clf__max_depth=2, clf__min_samples_leaf=5, clf__min_samples_split=2, clf__n_estimators=200 \n"
     ]
    },
    {
     "name": "stderr",
     "output_type": "stream",
     "text": [
      "/anaconda3/lib/python3.7/site-packages/sklearn/metrics/classification.py:1143: UndefinedMetricWarning: F-score is ill-defined and being set to 0.0 in labels with no predicted samples.\n",
      "  'precision', 'predicted', average, warn_for)\n",
      "/anaconda3/lib/python3.7/site-packages/sklearn/metrics/classification.py:1143: UndefinedMetricWarning: F-score is ill-defined and being set to 0.0 in labels with no predicted samples.\n",
      "  'precision', 'predicted', average, warn_for)\n"
     ]
    },
    {
     "name": "stdout",
     "output_type": "stream",
     "text": [
      "[CV]  clf__criterion=entropy, clf__max_depth=2, clf__min_samples_leaf=5, clf__min_samples_split=2, clf__n_estimators=200, total=   3.8s\n",
      "[CV] clf__criterion=entropy, clf__max_depth=2, clf__min_samples_leaf=5, clf__min_samples_split=2, clf__n_estimators=200 \n"
     ]
    },
    {
     "name": "stderr",
     "output_type": "stream",
     "text": [
      "/anaconda3/lib/python3.7/site-packages/sklearn/metrics/classification.py:1143: UndefinedMetricWarning: F-score is ill-defined and being set to 0.0 in labels with no predicted samples.\n",
      "  'precision', 'predicted', average, warn_for)\n",
      "/anaconda3/lib/python3.7/site-packages/sklearn/metrics/classification.py:1143: UndefinedMetricWarning: F-score is ill-defined and being set to 0.0 in labels with no predicted samples.\n",
      "  'precision', 'predicted', average, warn_for)\n"
     ]
    },
    {
     "name": "stdout",
     "output_type": "stream",
     "text": [
      "[CV]  clf__criterion=entropy, clf__max_depth=2, clf__min_samples_leaf=5, clf__min_samples_split=2, clf__n_estimators=200, total=   3.7s\n",
      "[CV] clf__criterion=entropy, clf__max_depth=2, clf__min_samples_leaf=5, clf__min_samples_split=2, clf__n_estimators=200 \n"
     ]
    },
    {
     "name": "stderr",
     "output_type": "stream",
     "text": [
      "/anaconda3/lib/python3.7/site-packages/sklearn/metrics/classification.py:1143: UndefinedMetricWarning: F-score is ill-defined and being set to 0.0 in labels with no predicted samples.\n",
      "  'precision', 'predicted', average, warn_for)\n",
      "/anaconda3/lib/python3.7/site-packages/sklearn/metrics/classification.py:1143: UndefinedMetricWarning: F-score is ill-defined and being set to 0.0 in labels with no predicted samples.\n",
      "  'precision', 'predicted', average, warn_for)\n"
     ]
    },
    {
     "name": "stdout",
     "output_type": "stream",
     "text": [
      "[CV]  clf__criterion=entropy, clf__max_depth=2, clf__min_samples_leaf=5, clf__min_samples_split=2, clf__n_estimators=200, total=   4.0s\n",
      "[CV] clf__criterion=entropy, clf__max_depth=2, clf__min_samples_leaf=5, clf__min_samples_split=4, clf__n_estimators=10 \n"
     ]
    },
    {
     "name": "stderr",
     "output_type": "stream",
     "text": [
      "/anaconda3/lib/python3.7/site-packages/sklearn/metrics/classification.py:1143: UndefinedMetricWarning: F-score is ill-defined and being set to 0.0 in labels with no predicted samples.\n",
      "  'precision', 'predicted', average, warn_for)\n",
      "/anaconda3/lib/python3.7/site-packages/sklearn/metrics/classification.py:1143: UndefinedMetricWarning: F-score is ill-defined and being set to 0.0 in labels with no predicted samples.\n",
      "  'precision', 'predicted', average, warn_for)\n"
     ]
    },
    {
     "name": "stdout",
     "output_type": "stream",
     "text": [
      "[CV]  clf__criterion=entropy, clf__max_depth=2, clf__min_samples_leaf=5, clf__min_samples_split=4, clf__n_estimators=10, total=   0.2s\n",
      "[CV] clf__criterion=entropy, clf__max_depth=2, clf__min_samples_leaf=5, clf__min_samples_split=4, clf__n_estimators=10 \n"
     ]
    },
    {
     "name": "stderr",
     "output_type": "stream",
     "text": [
      "/anaconda3/lib/python3.7/site-packages/sklearn/metrics/classification.py:1143: UndefinedMetricWarning: F-score is ill-defined and being set to 0.0 in labels with no predicted samples.\n",
      "  'precision', 'predicted', average, warn_for)\n",
      "/anaconda3/lib/python3.7/site-packages/sklearn/metrics/classification.py:1143: UndefinedMetricWarning: F-score is ill-defined and being set to 0.0 in labels with no predicted samples.\n",
      "  'precision', 'predicted', average, warn_for)\n"
     ]
    },
    {
     "name": "stdout",
     "output_type": "stream",
     "text": [
      "[CV]  clf__criterion=entropy, clf__max_depth=2, clf__min_samples_leaf=5, clf__min_samples_split=4, clf__n_estimators=10, total=   0.2s\n",
      "[CV] clf__criterion=entropy, clf__max_depth=2, clf__min_samples_leaf=5, clf__min_samples_split=4, clf__n_estimators=10 \n"
     ]
    },
    {
     "name": "stderr",
     "output_type": "stream",
     "text": [
      "/anaconda3/lib/python3.7/site-packages/sklearn/metrics/classification.py:1143: UndefinedMetricWarning: F-score is ill-defined and being set to 0.0 in labels with no predicted samples.\n",
      "  'precision', 'predicted', average, warn_for)\n",
      "/anaconda3/lib/python3.7/site-packages/sklearn/metrics/classification.py:1143: UndefinedMetricWarning: F-score is ill-defined and being set to 0.0 in labels with no predicted samples.\n",
      "  'precision', 'predicted', average, warn_for)\n"
     ]
    },
    {
     "name": "stdout",
     "output_type": "stream",
     "text": [
      "[CV]  clf__criterion=entropy, clf__max_depth=2, clf__min_samples_leaf=5, clf__min_samples_split=4, clf__n_estimators=10, total=   0.2s\n",
      "[CV] clf__criterion=entropy, clf__max_depth=2, clf__min_samples_leaf=5, clf__min_samples_split=4, clf__n_estimators=50 \n"
     ]
    },
    {
     "name": "stderr",
     "output_type": "stream",
     "text": [
      "/anaconda3/lib/python3.7/site-packages/sklearn/metrics/classification.py:1143: UndefinedMetricWarning: F-score is ill-defined and being set to 0.0 in labels with no predicted samples.\n",
      "  'precision', 'predicted', average, warn_for)\n",
      "/anaconda3/lib/python3.7/site-packages/sklearn/metrics/classification.py:1143: UndefinedMetricWarning: F-score is ill-defined and being set to 0.0 in labels with no predicted samples.\n",
      "  'precision', 'predicted', average, warn_for)\n"
     ]
    },
    {
     "name": "stdout",
     "output_type": "stream",
     "text": [
      "[CV]  clf__criterion=entropy, clf__max_depth=2, clf__min_samples_leaf=5, clf__min_samples_split=4, clf__n_estimators=50, total=   0.9s\n",
      "[CV] clf__criterion=entropy, clf__max_depth=2, clf__min_samples_leaf=5, clf__min_samples_split=4, clf__n_estimators=50 \n"
     ]
    },
    {
     "name": "stderr",
     "output_type": "stream",
     "text": [
      "/anaconda3/lib/python3.7/site-packages/sklearn/metrics/classification.py:1143: UndefinedMetricWarning: F-score is ill-defined and being set to 0.0 in labels with no predicted samples.\n",
      "  'precision', 'predicted', average, warn_for)\n",
      "/anaconda3/lib/python3.7/site-packages/sklearn/metrics/classification.py:1143: UndefinedMetricWarning: F-score is ill-defined and being set to 0.0 in labels with no predicted samples.\n",
      "  'precision', 'predicted', average, warn_for)\n"
     ]
    },
    {
     "name": "stdout",
     "output_type": "stream",
     "text": [
      "[CV]  clf__criterion=entropy, clf__max_depth=2, clf__min_samples_leaf=5, clf__min_samples_split=4, clf__n_estimators=50, total=   1.0s\n",
      "[CV] clf__criterion=entropy, clf__max_depth=2, clf__min_samples_leaf=5, clf__min_samples_split=4, clf__n_estimators=50 \n"
     ]
    },
    {
     "name": "stderr",
     "output_type": "stream",
     "text": [
      "/anaconda3/lib/python3.7/site-packages/sklearn/metrics/classification.py:1143: UndefinedMetricWarning: F-score is ill-defined and being set to 0.0 in labels with no predicted samples.\n",
      "  'precision', 'predicted', average, warn_for)\n",
      "/anaconda3/lib/python3.7/site-packages/sklearn/metrics/classification.py:1143: UndefinedMetricWarning: F-score is ill-defined and being set to 0.0 in labels with no predicted samples.\n",
      "  'precision', 'predicted', average, warn_for)\n"
     ]
    },
    {
     "name": "stdout",
     "output_type": "stream",
     "text": [
      "[CV]  clf__criterion=entropy, clf__max_depth=2, clf__min_samples_leaf=5, clf__min_samples_split=4, clf__n_estimators=50, total=   1.0s\n",
      "[CV] clf__criterion=entropy, clf__max_depth=2, clf__min_samples_leaf=5, clf__min_samples_split=4, clf__n_estimators=100 \n"
     ]
    },
    {
     "name": "stderr",
     "output_type": "stream",
     "text": [
      "/anaconda3/lib/python3.7/site-packages/sklearn/metrics/classification.py:1143: UndefinedMetricWarning: F-score is ill-defined and being set to 0.0 in labels with no predicted samples.\n",
      "  'precision', 'predicted', average, warn_for)\n",
      "/anaconda3/lib/python3.7/site-packages/sklearn/metrics/classification.py:1143: UndefinedMetricWarning: F-score is ill-defined and being set to 0.0 in labels with no predicted samples.\n",
      "  'precision', 'predicted', average, warn_for)\n"
     ]
    },
    {
     "name": "stdout",
     "output_type": "stream",
     "text": [
      "[CV]  clf__criterion=entropy, clf__max_depth=2, clf__min_samples_leaf=5, clf__min_samples_split=4, clf__n_estimators=100, total=   1.8s\n",
      "[CV] clf__criterion=entropy, clf__max_depth=2, clf__min_samples_leaf=5, clf__min_samples_split=4, clf__n_estimators=100 \n"
     ]
    },
    {
     "name": "stderr",
     "output_type": "stream",
     "text": [
      "/anaconda3/lib/python3.7/site-packages/sklearn/metrics/classification.py:1143: UndefinedMetricWarning: F-score is ill-defined and being set to 0.0 in labels with no predicted samples.\n",
      "  'precision', 'predicted', average, warn_for)\n",
      "/anaconda3/lib/python3.7/site-packages/sklearn/metrics/classification.py:1143: UndefinedMetricWarning: F-score is ill-defined and being set to 0.0 in labels with no predicted samples.\n",
      "  'precision', 'predicted', average, warn_for)\n"
     ]
    },
    {
     "name": "stdout",
     "output_type": "stream",
     "text": [
      "[CV]  clf__criterion=entropy, clf__max_depth=2, clf__min_samples_leaf=5, clf__min_samples_split=4, clf__n_estimators=100, total=   1.8s\n",
      "[CV] clf__criterion=entropy, clf__max_depth=2, clf__min_samples_leaf=5, clf__min_samples_split=4, clf__n_estimators=100 \n"
     ]
    },
    {
     "name": "stderr",
     "output_type": "stream",
     "text": [
      "/anaconda3/lib/python3.7/site-packages/sklearn/metrics/classification.py:1143: UndefinedMetricWarning: F-score is ill-defined and being set to 0.0 in labels with no predicted samples.\n",
      "  'precision', 'predicted', average, warn_for)\n",
      "/anaconda3/lib/python3.7/site-packages/sklearn/metrics/classification.py:1143: UndefinedMetricWarning: F-score is ill-defined and being set to 0.0 in labels with no predicted samples.\n",
      "  'precision', 'predicted', average, warn_for)\n"
     ]
    },
    {
     "name": "stdout",
     "output_type": "stream",
     "text": [
      "[CV]  clf__criterion=entropy, clf__max_depth=2, clf__min_samples_leaf=5, clf__min_samples_split=4, clf__n_estimators=100, total=   2.1s\n",
      "[CV] clf__criterion=entropy, clf__max_depth=2, clf__min_samples_leaf=5, clf__min_samples_split=4, clf__n_estimators=200 \n"
     ]
    },
    {
     "name": "stderr",
     "output_type": "stream",
     "text": [
      "/anaconda3/lib/python3.7/site-packages/sklearn/metrics/classification.py:1143: UndefinedMetricWarning: F-score is ill-defined and being set to 0.0 in labels with no predicted samples.\n",
      "  'precision', 'predicted', average, warn_for)\n",
      "/anaconda3/lib/python3.7/site-packages/sklearn/metrics/classification.py:1143: UndefinedMetricWarning: F-score is ill-defined and being set to 0.0 in labels with no predicted samples.\n",
      "  'precision', 'predicted', average, warn_for)\n"
     ]
    },
    {
     "name": "stdout",
     "output_type": "stream",
     "text": [
      "[CV]  clf__criterion=entropy, clf__max_depth=2, clf__min_samples_leaf=5, clf__min_samples_split=4, clf__n_estimators=200, total=   3.6s\n",
      "[CV] clf__criterion=entropy, clf__max_depth=2, clf__min_samples_leaf=5, clf__min_samples_split=4, clf__n_estimators=200 \n"
     ]
    },
    {
     "name": "stderr",
     "output_type": "stream",
     "text": [
      "/anaconda3/lib/python3.7/site-packages/sklearn/metrics/classification.py:1143: UndefinedMetricWarning: F-score is ill-defined and being set to 0.0 in labels with no predicted samples.\n",
      "  'precision', 'predicted', average, warn_for)\n",
      "/anaconda3/lib/python3.7/site-packages/sklearn/metrics/classification.py:1143: UndefinedMetricWarning: F-score is ill-defined and being set to 0.0 in labels with no predicted samples.\n",
      "  'precision', 'predicted', average, warn_for)\n"
     ]
    },
    {
     "name": "stdout",
     "output_type": "stream",
     "text": [
      "[CV]  clf__criterion=entropy, clf__max_depth=2, clf__min_samples_leaf=5, clf__min_samples_split=4, clf__n_estimators=200, total=   3.7s\n",
      "[CV] clf__criterion=entropy, clf__max_depth=2, clf__min_samples_leaf=5, clf__min_samples_split=4, clf__n_estimators=200 \n"
     ]
    },
    {
     "name": "stderr",
     "output_type": "stream",
     "text": [
      "/anaconda3/lib/python3.7/site-packages/sklearn/metrics/classification.py:1143: UndefinedMetricWarning: F-score is ill-defined and being set to 0.0 in labels with no predicted samples.\n",
      "  'precision', 'predicted', average, warn_for)\n",
      "/anaconda3/lib/python3.7/site-packages/sklearn/metrics/classification.py:1143: UndefinedMetricWarning: F-score is ill-defined and being set to 0.0 in labels with no predicted samples.\n",
      "  'precision', 'predicted', average, warn_for)\n"
     ]
    },
    {
     "name": "stdout",
     "output_type": "stream",
     "text": [
      "[CV]  clf__criterion=entropy, clf__max_depth=2, clf__min_samples_leaf=5, clf__min_samples_split=4, clf__n_estimators=200, total=   3.9s\n",
      "[CV] clf__criterion=entropy, clf__max_depth=2, clf__min_samples_leaf=5, clf__min_samples_split=8, clf__n_estimators=10 \n"
     ]
    },
    {
     "name": "stderr",
     "output_type": "stream",
     "text": [
      "/anaconda3/lib/python3.7/site-packages/sklearn/metrics/classification.py:1143: UndefinedMetricWarning: F-score is ill-defined and being set to 0.0 in labels with no predicted samples.\n",
      "  'precision', 'predicted', average, warn_for)\n",
      "/anaconda3/lib/python3.7/site-packages/sklearn/metrics/classification.py:1143: UndefinedMetricWarning: F-score is ill-defined and being set to 0.0 in labels with no predicted samples.\n",
      "  'precision', 'predicted', average, warn_for)\n"
     ]
    },
    {
     "name": "stdout",
     "output_type": "stream",
     "text": [
      "[CV]  clf__criterion=entropy, clf__max_depth=2, clf__min_samples_leaf=5, clf__min_samples_split=8, clf__n_estimators=10, total=   0.2s\n",
      "[CV] clf__criterion=entropy, clf__max_depth=2, clf__min_samples_leaf=5, clf__min_samples_split=8, clf__n_estimators=10 \n"
     ]
    },
    {
     "name": "stderr",
     "output_type": "stream",
     "text": [
      "/anaconda3/lib/python3.7/site-packages/sklearn/metrics/classification.py:1143: UndefinedMetricWarning: F-score is ill-defined and being set to 0.0 in labels with no predicted samples.\n",
      "  'precision', 'predicted', average, warn_for)\n",
      "/anaconda3/lib/python3.7/site-packages/sklearn/metrics/classification.py:1143: UndefinedMetricWarning: F-score is ill-defined and being set to 0.0 in labels with no predicted samples.\n",
      "  'precision', 'predicted', average, warn_for)\n"
     ]
    },
    {
     "name": "stdout",
     "output_type": "stream",
     "text": [
      "[CV]  clf__criterion=entropy, clf__max_depth=2, clf__min_samples_leaf=5, clf__min_samples_split=8, clf__n_estimators=10, total=   0.2s\n",
      "[CV] clf__criterion=entropy, clf__max_depth=2, clf__min_samples_leaf=5, clf__min_samples_split=8, clf__n_estimators=10 \n"
     ]
    },
    {
     "name": "stderr",
     "output_type": "stream",
     "text": [
      "/anaconda3/lib/python3.7/site-packages/sklearn/metrics/classification.py:1143: UndefinedMetricWarning: F-score is ill-defined and being set to 0.0 in labels with no predicted samples.\n",
      "  'precision', 'predicted', average, warn_for)\n",
      "/anaconda3/lib/python3.7/site-packages/sklearn/metrics/classification.py:1143: UndefinedMetricWarning: F-score is ill-defined and being set to 0.0 in labels with no predicted samples.\n",
      "  'precision', 'predicted', average, warn_for)\n"
     ]
    },
    {
     "name": "stdout",
     "output_type": "stream",
     "text": [
      "[CV]  clf__criterion=entropy, clf__max_depth=2, clf__min_samples_leaf=5, clf__min_samples_split=8, clf__n_estimators=10, total=   0.2s\n",
      "[CV] clf__criterion=entropy, clf__max_depth=2, clf__min_samples_leaf=5, clf__min_samples_split=8, clf__n_estimators=50 \n"
     ]
    },
    {
     "name": "stderr",
     "output_type": "stream",
     "text": [
      "/anaconda3/lib/python3.7/site-packages/sklearn/metrics/classification.py:1143: UndefinedMetricWarning: F-score is ill-defined and being set to 0.0 in labels with no predicted samples.\n",
      "  'precision', 'predicted', average, warn_for)\n",
      "/anaconda3/lib/python3.7/site-packages/sklearn/metrics/classification.py:1143: UndefinedMetricWarning: F-score is ill-defined and being set to 0.0 in labels with no predicted samples.\n",
      "  'precision', 'predicted', average, warn_for)\n"
     ]
    },
    {
     "name": "stdout",
     "output_type": "stream",
     "text": [
      "[CV]  clf__criterion=entropy, clf__max_depth=2, clf__min_samples_leaf=5, clf__min_samples_split=8, clf__n_estimators=50, total=   1.0s\n",
      "[CV] clf__criterion=entropy, clf__max_depth=2, clf__min_samples_leaf=5, clf__min_samples_split=8, clf__n_estimators=50 \n"
     ]
    },
    {
     "name": "stderr",
     "output_type": "stream",
     "text": [
      "/anaconda3/lib/python3.7/site-packages/sklearn/metrics/classification.py:1143: UndefinedMetricWarning: F-score is ill-defined and being set to 0.0 in labels with no predicted samples.\n",
      "  'precision', 'predicted', average, warn_for)\n",
      "/anaconda3/lib/python3.7/site-packages/sklearn/metrics/classification.py:1143: UndefinedMetricWarning: F-score is ill-defined and being set to 0.0 in labels with no predicted samples.\n",
      "  'precision', 'predicted', average, warn_for)\n"
     ]
    },
    {
     "name": "stdout",
     "output_type": "stream",
     "text": [
      "[CV]  clf__criterion=entropy, clf__max_depth=2, clf__min_samples_leaf=5, clf__min_samples_split=8, clf__n_estimators=50, total=   1.0s\n",
      "[CV] clf__criterion=entropy, clf__max_depth=2, clf__min_samples_leaf=5, clf__min_samples_split=8, clf__n_estimators=50 \n"
     ]
    },
    {
     "name": "stderr",
     "output_type": "stream",
     "text": [
      "/anaconda3/lib/python3.7/site-packages/sklearn/metrics/classification.py:1143: UndefinedMetricWarning: F-score is ill-defined and being set to 0.0 in labels with no predicted samples.\n",
      "  'precision', 'predicted', average, warn_for)\n",
      "/anaconda3/lib/python3.7/site-packages/sklearn/metrics/classification.py:1143: UndefinedMetricWarning: F-score is ill-defined and being set to 0.0 in labels with no predicted samples.\n",
      "  'precision', 'predicted', average, warn_for)\n"
     ]
    },
    {
     "name": "stdout",
     "output_type": "stream",
     "text": [
      "[CV]  clf__criterion=entropy, clf__max_depth=2, clf__min_samples_leaf=5, clf__min_samples_split=8, clf__n_estimators=50, total=   1.1s\n",
      "[CV] clf__criterion=entropy, clf__max_depth=2, clf__min_samples_leaf=5, clf__min_samples_split=8, clf__n_estimators=100 \n"
     ]
    },
    {
     "name": "stderr",
     "output_type": "stream",
     "text": [
      "/anaconda3/lib/python3.7/site-packages/sklearn/metrics/classification.py:1143: UndefinedMetricWarning: F-score is ill-defined and being set to 0.0 in labels with no predicted samples.\n",
      "  'precision', 'predicted', average, warn_for)\n",
      "/anaconda3/lib/python3.7/site-packages/sklearn/metrics/classification.py:1143: UndefinedMetricWarning: F-score is ill-defined and being set to 0.0 in labels with no predicted samples.\n",
      "  'precision', 'predicted', average, warn_for)\n"
     ]
    },
    {
     "name": "stdout",
     "output_type": "stream",
     "text": [
      "[CV]  clf__criterion=entropy, clf__max_depth=2, clf__min_samples_leaf=5, clf__min_samples_split=8, clf__n_estimators=100, total=   1.9s\n",
      "[CV] clf__criterion=entropy, clf__max_depth=2, clf__min_samples_leaf=5, clf__min_samples_split=8, clf__n_estimators=100 \n"
     ]
    },
    {
     "name": "stderr",
     "output_type": "stream",
     "text": [
      "/anaconda3/lib/python3.7/site-packages/sklearn/metrics/classification.py:1143: UndefinedMetricWarning: F-score is ill-defined and being set to 0.0 in labels with no predicted samples.\n",
      "  'precision', 'predicted', average, warn_for)\n",
      "/anaconda3/lib/python3.7/site-packages/sklearn/metrics/classification.py:1143: UndefinedMetricWarning: F-score is ill-defined and being set to 0.0 in labels with no predicted samples.\n",
      "  'precision', 'predicted', average, warn_for)\n"
     ]
    },
    {
     "name": "stdout",
     "output_type": "stream",
     "text": [
      "[CV]  clf__criterion=entropy, clf__max_depth=2, clf__min_samples_leaf=5, clf__min_samples_split=8, clf__n_estimators=100, total=   1.8s\n",
      "[CV] clf__criterion=entropy, clf__max_depth=2, clf__min_samples_leaf=5, clf__min_samples_split=8, clf__n_estimators=100 \n"
     ]
    },
    {
     "name": "stderr",
     "output_type": "stream",
     "text": [
      "/anaconda3/lib/python3.7/site-packages/sklearn/metrics/classification.py:1143: UndefinedMetricWarning: F-score is ill-defined and being set to 0.0 in labels with no predicted samples.\n",
      "  'precision', 'predicted', average, warn_for)\n",
      "/anaconda3/lib/python3.7/site-packages/sklearn/metrics/classification.py:1143: UndefinedMetricWarning: F-score is ill-defined and being set to 0.0 in labels with no predicted samples.\n",
      "  'precision', 'predicted', average, warn_for)\n"
     ]
    },
    {
     "name": "stdout",
     "output_type": "stream",
     "text": [
      "[CV]  clf__criterion=entropy, clf__max_depth=2, clf__min_samples_leaf=5, clf__min_samples_split=8, clf__n_estimators=100, total=   2.0s\n",
      "[CV] clf__criterion=entropy, clf__max_depth=2, clf__min_samples_leaf=5, clf__min_samples_split=8, clf__n_estimators=200 \n"
     ]
    },
    {
     "name": "stderr",
     "output_type": "stream",
     "text": [
      "/anaconda3/lib/python3.7/site-packages/sklearn/metrics/classification.py:1143: UndefinedMetricWarning: F-score is ill-defined and being set to 0.0 in labels with no predicted samples.\n",
      "  'precision', 'predicted', average, warn_for)\n",
      "/anaconda3/lib/python3.7/site-packages/sklearn/metrics/classification.py:1143: UndefinedMetricWarning: F-score is ill-defined and being set to 0.0 in labels with no predicted samples.\n",
      "  'precision', 'predicted', average, warn_for)\n"
     ]
    },
    {
     "name": "stdout",
     "output_type": "stream",
     "text": [
      "[CV]  clf__criterion=entropy, clf__max_depth=2, clf__min_samples_leaf=5, clf__min_samples_split=8, clf__n_estimators=200, total=   3.8s\n",
      "[CV] clf__criterion=entropy, clf__max_depth=2, clf__min_samples_leaf=5, clf__min_samples_split=8, clf__n_estimators=200 \n"
     ]
    },
    {
     "name": "stderr",
     "output_type": "stream",
     "text": [
      "/anaconda3/lib/python3.7/site-packages/sklearn/metrics/classification.py:1143: UndefinedMetricWarning: F-score is ill-defined and being set to 0.0 in labels with no predicted samples.\n",
      "  'precision', 'predicted', average, warn_for)\n",
      "/anaconda3/lib/python3.7/site-packages/sklearn/metrics/classification.py:1143: UndefinedMetricWarning: F-score is ill-defined and being set to 0.0 in labels with no predicted samples.\n",
      "  'precision', 'predicted', average, warn_for)\n"
     ]
    },
    {
     "name": "stdout",
     "output_type": "stream",
     "text": [
      "[CV]  clf__criterion=entropy, clf__max_depth=2, clf__min_samples_leaf=5, clf__min_samples_split=8, clf__n_estimators=200, total=   3.6s\n",
      "[CV] clf__criterion=entropy, clf__max_depth=2, clf__min_samples_leaf=5, clf__min_samples_split=8, clf__n_estimators=200 \n"
     ]
    },
    {
     "name": "stderr",
     "output_type": "stream",
     "text": [
      "/anaconda3/lib/python3.7/site-packages/sklearn/metrics/classification.py:1143: UndefinedMetricWarning: F-score is ill-defined and being set to 0.0 in labels with no predicted samples.\n",
      "  'precision', 'predicted', average, warn_for)\n",
      "/anaconda3/lib/python3.7/site-packages/sklearn/metrics/classification.py:1143: UndefinedMetricWarning: F-score is ill-defined and being set to 0.0 in labels with no predicted samples.\n",
      "  'precision', 'predicted', average, warn_for)\n"
     ]
    },
    {
     "name": "stdout",
     "output_type": "stream",
     "text": [
      "[CV]  clf__criterion=entropy, clf__max_depth=2, clf__min_samples_leaf=5, clf__min_samples_split=8, clf__n_estimators=200, total=   3.8s\n",
      "[CV] clf__criterion=entropy, clf__max_depth=5, clf__min_samples_leaf=1, clf__min_samples_split=2, clf__n_estimators=10 \n",
      "[CV]  clf__criterion=entropy, clf__max_depth=5, clf__min_samples_leaf=1, clf__min_samples_split=2, clf__n_estimators=10, total=   0.5s\n",
      "[CV] clf__criterion=entropy, clf__max_depth=5, clf__min_samples_leaf=1, clf__min_samples_split=2, clf__n_estimators=10 \n",
      "[CV]  clf__criterion=entropy, clf__max_depth=5, clf__min_samples_leaf=1, clf__min_samples_split=2, clf__n_estimators=10, total=   0.5s\n",
      "[CV] clf__criterion=entropy, clf__max_depth=5, clf__min_samples_leaf=1, clf__min_samples_split=2, clf__n_estimators=10 \n",
      "[CV]  clf__criterion=entropy, clf__max_depth=5, clf__min_samples_leaf=1, clf__min_samples_split=2, clf__n_estimators=10, total=   0.5s\n",
      "[CV] clf__criterion=entropy, clf__max_depth=5, clf__min_samples_leaf=1, clf__min_samples_split=2, clf__n_estimators=50 \n",
      "[CV]  clf__criterion=entropy, clf__max_depth=5, clf__min_samples_leaf=1, clf__min_samples_split=2, clf__n_estimators=50, total=   2.1s\n",
      "[CV] clf__criterion=entropy, clf__max_depth=5, clf__min_samples_leaf=1, clf__min_samples_split=2, clf__n_estimators=50 \n",
      "[CV]  clf__criterion=entropy, clf__max_depth=5, clf__min_samples_leaf=1, clf__min_samples_split=2, clf__n_estimators=50, total=   1.9s\n",
      "[CV] clf__criterion=entropy, clf__max_depth=5, clf__min_samples_leaf=1, clf__min_samples_split=2, clf__n_estimators=50 \n",
      "[CV]  clf__criterion=entropy, clf__max_depth=5, clf__min_samples_leaf=1, clf__min_samples_split=2, clf__n_estimators=50, total=   2.3s\n",
      "[CV] clf__criterion=entropy, clf__max_depth=5, clf__min_samples_leaf=1, clf__min_samples_split=2, clf__n_estimators=100 \n",
      "[CV]  clf__criterion=entropy, clf__max_depth=5, clf__min_samples_leaf=1, clf__min_samples_split=2, clf__n_estimators=100, total=   4.0s\n",
      "[CV] clf__criterion=entropy, clf__max_depth=5, clf__min_samples_leaf=1, clf__min_samples_split=2, clf__n_estimators=100 \n",
      "[CV]  clf__criterion=entropy, clf__max_depth=5, clf__min_samples_leaf=1, clf__min_samples_split=2, clf__n_estimators=100, total=   3.8s\n",
      "[CV] clf__criterion=entropy, clf__max_depth=5, clf__min_samples_leaf=1, clf__min_samples_split=2, clf__n_estimators=100 \n",
      "[CV]  clf__criterion=entropy, clf__max_depth=5, clf__min_samples_leaf=1, clf__min_samples_split=2, clf__n_estimators=100, total=   4.2s\n",
      "[CV] clf__criterion=entropy, clf__max_depth=5, clf__min_samples_leaf=1, clf__min_samples_split=2, clf__n_estimators=200 \n",
      "[CV]  clf__criterion=entropy, clf__max_depth=5, clf__min_samples_leaf=1, clf__min_samples_split=2, clf__n_estimators=200, total=   8.1s\n",
      "[CV] clf__criterion=entropy, clf__max_depth=5, clf__min_samples_leaf=1, clf__min_samples_split=2, clf__n_estimators=200 \n",
      "[CV]  clf__criterion=entropy, clf__max_depth=5, clf__min_samples_leaf=1, clf__min_samples_split=2, clf__n_estimators=200, total=   7.7s\n",
      "[CV] clf__criterion=entropy, clf__max_depth=5, clf__min_samples_leaf=1, clf__min_samples_split=2, clf__n_estimators=200 \n",
      "[CV]  clf__criterion=entropy, clf__max_depth=5, clf__min_samples_leaf=1, clf__min_samples_split=2, clf__n_estimators=200, total=   8.2s\n",
      "[CV] clf__criterion=entropy, clf__max_depth=5, clf__min_samples_leaf=1, clf__min_samples_split=4, clf__n_estimators=10 \n",
      "[CV]  clf__criterion=entropy, clf__max_depth=5, clf__min_samples_leaf=1, clf__min_samples_split=4, clf__n_estimators=10, total=   0.4s\n",
      "[CV] clf__criterion=entropy, clf__max_depth=5, clf__min_samples_leaf=1, clf__min_samples_split=4, clf__n_estimators=10 \n",
      "[CV]  clf__criterion=entropy, clf__max_depth=5, clf__min_samples_leaf=1, clf__min_samples_split=4, clf__n_estimators=10, total=   0.4s\n",
      "[CV] clf__criterion=entropy, clf__max_depth=5, clf__min_samples_leaf=1, clf__min_samples_split=4, clf__n_estimators=10 \n",
      "[CV]  clf__criterion=entropy, clf__max_depth=5, clf__min_samples_leaf=1, clf__min_samples_split=4, clf__n_estimators=10, total=   0.6s\n",
      "[CV] clf__criterion=entropy, clf__max_depth=5, clf__min_samples_leaf=1, clf__min_samples_split=4, clf__n_estimators=50 \n",
      "[CV]  clf__criterion=entropy, clf__max_depth=5, clf__min_samples_leaf=1, clf__min_samples_split=4, clf__n_estimators=50, total=   2.2s\n",
      "[CV] clf__criterion=entropy, clf__max_depth=5, clf__min_samples_leaf=1, clf__min_samples_split=4, clf__n_estimators=50 \n",
      "[CV]  clf__criterion=entropy, clf__max_depth=5, clf__min_samples_leaf=1, clf__min_samples_split=4, clf__n_estimators=50, total=   2.5s\n",
      "[CV] clf__criterion=entropy, clf__max_depth=5, clf__min_samples_leaf=1, clf__min_samples_split=4, clf__n_estimators=50 \n",
      "[CV]  clf__criterion=entropy, clf__max_depth=5, clf__min_samples_leaf=1, clf__min_samples_split=4, clf__n_estimators=50, total=   2.4s\n",
      "[CV] clf__criterion=entropy, clf__max_depth=5, clf__min_samples_leaf=1, clf__min_samples_split=4, clf__n_estimators=100 \n",
      "[CV]  clf__criterion=entropy, clf__max_depth=5, clf__min_samples_leaf=1, clf__min_samples_split=4, clf__n_estimators=100, total=   4.1s\n",
      "[CV] clf__criterion=entropy, clf__max_depth=5, clf__min_samples_leaf=1, clf__min_samples_split=4, clf__n_estimators=100 \n",
      "[CV]  clf__criterion=entropy, clf__max_depth=5, clf__min_samples_leaf=1, clf__min_samples_split=4, clf__n_estimators=100, total=   3.9s\n",
      "[CV] clf__criterion=entropy, clf__max_depth=5, clf__min_samples_leaf=1, clf__min_samples_split=4, clf__n_estimators=100 \n",
      "[CV]  clf__criterion=entropy, clf__max_depth=5, clf__min_samples_leaf=1, clf__min_samples_split=4, clf__n_estimators=100, total=   4.2s\n",
      "[CV] clf__criterion=entropy, clf__max_depth=5, clf__min_samples_leaf=1, clf__min_samples_split=4, clf__n_estimators=200 \n",
      "[CV]  clf__criterion=entropy, clf__max_depth=5, clf__min_samples_leaf=1, clf__min_samples_split=4, clf__n_estimators=200, total=   8.0s\n",
      "[CV] clf__criterion=entropy, clf__max_depth=5, clf__min_samples_leaf=1, clf__min_samples_split=4, clf__n_estimators=200 \n",
      "[CV]  clf__criterion=entropy, clf__max_depth=5, clf__min_samples_leaf=1, clf__min_samples_split=4, clf__n_estimators=200, total=   8.5s\n",
      "[CV] clf__criterion=entropy, clf__max_depth=5, clf__min_samples_leaf=1, clf__min_samples_split=4, clf__n_estimators=200 \n",
      "[CV]  clf__criterion=entropy, clf__max_depth=5, clf__min_samples_leaf=1, clf__min_samples_split=4, clf__n_estimators=200, total=   8.5s\n",
      "[CV] clf__criterion=entropy, clf__max_depth=5, clf__min_samples_leaf=1, clf__min_samples_split=8, clf__n_estimators=10 \n",
      "[CV]  clf__criterion=entropy, clf__max_depth=5, clf__min_samples_leaf=1, clf__min_samples_split=8, clf__n_estimators=10, total=   0.4s\n",
      "[CV] clf__criterion=entropy, clf__max_depth=5, clf__min_samples_leaf=1, clf__min_samples_split=8, clf__n_estimators=10 \n",
      "[CV]  clf__criterion=entropy, clf__max_depth=5, clf__min_samples_leaf=1, clf__min_samples_split=8, clf__n_estimators=10, total=   0.4s\n",
      "[CV] clf__criterion=entropy, clf__max_depth=5, clf__min_samples_leaf=1, clf__min_samples_split=8, clf__n_estimators=10 \n",
      "[CV]  clf__criterion=entropy, clf__max_depth=5, clf__min_samples_leaf=1, clf__min_samples_split=8, clf__n_estimators=10, total=   0.4s\n",
      "[CV] clf__criterion=entropy, clf__max_depth=5, clf__min_samples_leaf=1, clf__min_samples_split=8, clf__n_estimators=50 \n",
      "[CV]  clf__criterion=entropy, clf__max_depth=5, clf__min_samples_leaf=1, clf__min_samples_split=8, clf__n_estimators=50, total=   2.0s\n",
      "[CV] clf__criterion=entropy, clf__max_depth=5, clf__min_samples_leaf=1, clf__min_samples_split=8, clf__n_estimators=50 \n",
      "[CV]  clf__criterion=entropy, clf__max_depth=5, clf__min_samples_leaf=1, clf__min_samples_split=8, clf__n_estimators=50, total=   1.8s\n",
      "[CV] clf__criterion=entropy, clf__max_depth=5, clf__min_samples_leaf=1, clf__min_samples_split=8, clf__n_estimators=50 \n",
      "[CV]  clf__criterion=entropy, clf__max_depth=5, clf__min_samples_leaf=1, clf__min_samples_split=8, clf__n_estimators=50, total=   2.0s\n",
      "[CV] clf__criterion=entropy, clf__max_depth=5, clf__min_samples_leaf=1, clf__min_samples_split=8, clf__n_estimators=100 \n",
      "[CV]  clf__criterion=entropy, clf__max_depth=5, clf__min_samples_leaf=1, clf__min_samples_split=8, clf__n_estimators=100, total=   3.9s\n",
      "[CV] clf__criterion=entropy, clf__max_depth=5, clf__min_samples_leaf=1, clf__min_samples_split=8, clf__n_estimators=100 \n",
      "[CV]  clf__criterion=entropy, clf__max_depth=5, clf__min_samples_leaf=1, clf__min_samples_split=8, clf__n_estimators=100, total=   3.7s\n",
      "[CV] clf__criterion=entropy, clf__max_depth=5, clf__min_samples_leaf=1, clf__min_samples_split=8, clf__n_estimators=100 \n"
     ]
    },
    {
     "name": "stdout",
     "output_type": "stream",
     "text": [
      "[CV]  clf__criterion=entropy, clf__max_depth=5, clf__min_samples_leaf=1, clf__min_samples_split=8, clf__n_estimators=100, total=   4.1s\n",
      "[CV] clf__criterion=entropy, clf__max_depth=5, clf__min_samples_leaf=1, clf__min_samples_split=8, clf__n_estimators=200 \n",
      "[CV]  clf__criterion=entropy, clf__max_depth=5, clf__min_samples_leaf=1, clf__min_samples_split=8, clf__n_estimators=200, total=   8.8s\n",
      "[CV] clf__criterion=entropy, clf__max_depth=5, clf__min_samples_leaf=1, clf__min_samples_split=8, clf__n_estimators=200 \n",
      "[CV]  clf__criterion=entropy, clf__max_depth=5, clf__min_samples_leaf=1, clf__min_samples_split=8, clf__n_estimators=200, total=   7.8s\n",
      "[CV] clf__criterion=entropy, clf__max_depth=5, clf__min_samples_leaf=1, clf__min_samples_split=8, clf__n_estimators=200 \n",
      "[CV]  clf__criterion=entropy, clf__max_depth=5, clf__min_samples_leaf=1, clf__min_samples_split=8, clf__n_estimators=200, total=   8.1s\n",
      "[CV] clf__criterion=entropy, clf__max_depth=5, clf__min_samples_leaf=2, clf__min_samples_split=2, clf__n_estimators=10 \n",
      "[CV]  clf__criterion=entropy, clf__max_depth=5, clf__min_samples_leaf=2, clf__min_samples_split=2, clf__n_estimators=10, total=   0.5s\n",
      "[CV] clf__criterion=entropy, clf__max_depth=5, clf__min_samples_leaf=2, clf__min_samples_split=2, clf__n_estimators=10 \n",
      "[CV]  clf__criterion=entropy, clf__max_depth=5, clf__min_samples_leaf=2, clf__min_samples_split=2, clf__n_estimators=10, total=   0.4s\n",
      "[CV] clf__criterion=entropy, clf__max_depth=5, clf__min_samples_leaf=2, clf__min_samples_split=2, clf__n_estimators=10 \n",
      "[CV]  clf__criterion=entropy, clf__max_depth=5, clf__min_samples_leaf=2, clf__min_samples_split=2, clf__n_estimators=10, total=   0.5s\n",
      "[CV] clf__criterion=entropy, clf__max_depth=5, clf__min_samples_leaf=2, clf__min_samples_split=2, clf__n_estimators=50 \n",
      "[CV]  clf__criterion=entropy, clf__max_depth=5, clf__min_samples_leaf=2, clf__min_samples_split=2, clf__n_estimators=50, total=   2.4s\n",
      "[CV] clf__criterion=entropy, clf__max_depth=5, clf__min_samples_leaf=2, clf__min_samples_split=2, clf__n_estimators=50 \n",
      "[CV]  clf__criterion=entropy, clf__max_depth=5, clf__min_samples_leaf=2, clf__min_samples_split=2, clf__n_estimators=50, total=   1.9s\n",
      "[CV] clf__criterion=entropy, clf__max_depth=5, clf__min_samples_leaf=2, clf__min_samples_split=2, clf__n_estimators=50 \n",
      "[CV]  clf__criterion=entropy, clf__max_depth=5, clf__min_samples_leaf=2, clf__min_samples_split=2, clf__n_estimators=50, total=   2.1s\n",
      "[CV] clf__criterion=entropy, clf__max_depth=5, clf__min_samples_leaf=2, clf__min_samples_split=2, clf__n_estimators=100 \n",
      "[CV]  clf__criterion=entropy, clf__max_depth=5, clf__min_samples_leaf=2, clf__min_samples_split=2, clf__n_estimators=100, total=   4.4s\n",
      "[CV] clf__criterion=entropy, clf__max_depth=5, clf__min_samples_leaf=2, clf__min_samples_split=2, clf__n_estimators=100 \n",
      "[CV]  clf__criterion=entropy, clf__max_depth=5, clf__min_samples_leaf=2, clf__min_samples_split=2, clf__n_estimators=100, total=   4.0s\n",
      "[CV] clf__criterion=entropy, clf__max_depth=5, clf__min_samples_leaf=2, clf__min_samples_split=2, clf__n_estimators=100 \n",
      "[CV]  clf__criterion=entropy, clf__max_depth=5, clf__min_samples_leaf=2, clf__min_samples_split=2, clf__n_estimators=100, total=   4.6s\n",
      "[CV] clf__criterion=entropy, clf__max_depth=5, clf__min_samples_leaf=2, clf__min_samples_split=2, clf__n_estimators=200 \n",
      "[CV]  clf__criterion=entropy, clf__max_depth=5, clf__min_samples_leaf=2, clf__min_samples_split=2, clf__n_estimators=200, total=   9.7s\n",
      "[CV] clf__criterion=entropy, clf__max_depth=5, clf__min_samples_leaf=2, clf__min_samples_split=2, clf__n_estimators=200 \n",
      "[CV]  clf__criterion=entropy, clf__max_depth=5, clf__min_samples_leaf=2, clf__min_samples_split=2, clf__n_estimators=200, total=   7.4s\n",
      "[CV] clf__criterion=entropy, clf__max_depth=5, clf__min_samples_leaf=2, clf__min_samples_split=2, clf__n_estimators=200 \n",
      "[CV]  clf__criterion=entropy, clf__max_depth=5, clf__min_samples_leaf=2, clf__min_samples_split=2, clf__n_estimators=200, total=   8.3s\n",
      "[CV] clf__criterion=entropy, clf__max_depth=5, clf__min_samples_leaf=2, clf__min_samples_split=4, clf__n_estimators=10 \n",
      "[CV]  clf__criterion=entropy, clf__max_depth=5, clf__min_samples_leaf=2, clf__min_samples_split=4, clf__n_estimators=10, total=   0.5s\n",
      "[CV] clf__criterion=entropy, clf__max_depth=5, clf__min_samples_leaf=2, clf__min_samples_split=4, clf__n_estimators=10 \n",
      "[CV]  clf__criterion=entropy, clf__max_depth=5, clf__min_samples_leaf=2, clf__min_samples_split=4, clf__n_estimators=10, total=   0.4s\n",
      "[CV] clf__criterion=entropy, clf__max_depth=5, clf__min_samples_leaf=2, clf__min_samples_split=4, clf__n_estimators=10 \n",
      "[CV]  clf__criterion=entropy, clf__max_depth=5, clf__min_samples_leaf=2, clf__min_samples_split=4, clf__n_estimators=10, total=   0.5s\n",
      "[CV] clf__criterion=entropy, clf__max_depth=5, clf__min_samples_leaf=2, clf__min_samples_split=4, clf__n_estimators=50 \n",
      "[CV]  clf__criterion=entropy, clf__max_depth=5, clf__min_samples_leaf=2, clf__min_samples_split=4, clf__n_estimators=50, total=   2.4s\n",
      "[CV] clf__criterion=entropy, clf__max_depth=5, clf__min_samples_leaf=2, clf__min_samples_split=4, clf__n_estimators=50 \n",
      "[CV]  clf__criterion=entropy, clf__max_depth=5, clf__min_samples_leaf=2, clf__min_samples_split=4, clf__n_estimators=50, total=   2.2s\n",
      "[CV] clf__criterion=entropy, clf__max_depth=5, clf__min_samples_leaf=2, clf__min_samples_split=4, clf__n_estimators=50 \n",
      "[CV]  clf__criterion=entropy, clf__max_depth=5, clf__min_samples_leaf=2, clf__min_samples_split=4, clf__n_estimators=50, total=   2.4s\n",
      "[CV] clf__criterion=entropy, clf__max_depth=5, clf__min_samples_leaf=2, clf__min_samples_split=4, clf__n_estimators=100 \n",
      "[CV]  clf__criterion=entropy, clf__max_depth=5, clf__min_samples_leaf=2, clf__min_samples_split=4, clf__n_estimators=100, total=   4.3s\n",
      "[CV] clf__criterion=entropy, clf__max_depth=5, clf__min_samples_leaf=2, clf__min_samples_split=4, clf__n_estimators=100 \n",
      "[CV]  clf__criterion=entropy, clf__max_depth=5, clf__min_samples_leaf=2, clf__min_samples_split=4, clf__n_estimators=100, total=   3.9s\n",
      "[CV] clf__criterion=entropy, clf__max_depth=5, clf__min_samples_leaf=2, clf__min_samples_split=4, clf__n_estimators=100 \n",
      "[CV]  clf__criterion=entropy, clf__max_depth=5, clf__min_samples_leaf=2, clf__min_samples_split=4, clf__n_estimators=100, total=   4.0s\n",
      "[CV] clf__criterion=entropy, clf__max_depth=5, clf__min_samples_leaf=2, clf__min_samples_split=4, clf__n_estimators=200 \n",
      "[CV]  clf__criterion=entropy, clf__max_depth=5, clf__min_samples_leaf=2, clf__min_samples_split=4, clf__n_estimators=200, total=   7.8s\n",
      "[CV] clf__criterion=entropy, clf__max_depth=5, clf__min_samples_leaf=2, clf__min_samples_split=4, clf__n_estimators=200 \n",
      "[CV]  clf__criterion=entropy, clf__max_depth=5, clf__min_samples_leaf=2, clf__min_samples_split=4, clf__n_estimators=200, total=   7.5s\n",
      "[CV] clf__criterion=entropy, clf__max_depth=5, clf__min_samples_leaf=2, clf__min_samples_split=4, clf__n_estimators=200 \n",
      "[CV]  clf__criterion=entropy, clf__max_depth=5, clf__min_samples_leaf=2, clf__min_samples_split=4, clf__n_estimators=200, total=   8.6s\n",
      "[CV] clf__criterion=entropy, clf__max_depth=5, clf__min_samples_leaf=2, clf__min_samples_split=8, clf__n_estimators=10 \n",
      "[CV]  clf__criterion=entropy, clf__max_depth=5, clf__min_samples_leaf=2, clf__min_samples_split=8, clf__n_estimators=10, total=   0.4s\n",
      "[CV] clf__criterion=entropy, clf__max_depth=5, clf__min_samples_leaf=2, clf__min_samples_split=8, clf__n_estimators=10 \n",
      "[CV]  clf__criterion=entropy, clf__max_depth=5, clf__min_samples_leaf=2, clf__min_samples_split=8, clf__n_estimators=10, total=   0.4s\n",
      "[CV] clf__criterion=entropy, clf__max_depth=5, clf__min_samples_leaf=2, clf__min_samples_split=8, clf__n_estimators=10 \n",
      "[CV]  clf__criterion=entropy, clf__max_depth=5, clf__min_samples_leaf=2, clf__min_samples_split=8, clf__n_estimators=10, total=   0.4s\n",
      "[CV] clf__criterion=entropy, clf__max_depth=5, clf__min_samples_leaf=2, clf__min_samples_split=8, clf__n_estimators=50 \n",
      "[CV]  clf__criterion=entropy, clf__max_depth=5, clf__min_samples_leaf=2, clf__min_samples_split=8, clf__n_estimators=50, total=   2.0s\n",
      "[CV] clf__criterion=entropy, clf__max_depth=5, clf__min_samples_leaf=2, clf__min_samples_split=8, clf__n_estimators=50 \n",
      "[CV]  clf__criterion=entropy, clf__max_depth=5, clf__min_samples_leaf=2, clf__min_samples_split=8, clf__n_estimators=50, total=   1.9s\n",
      "[CV] clf__criterion=entropy, clf__max_depth=5, clf__min_samples_leaf=2, clf__min_samples_split=8, clf__n_estimators=50 \n"
     ]
    },
    {
     "name": "stdout",
     "output_type": "stream",
     "text": [
      "[CV]  clf__criterion=entropy, clf__max_depth=5, clf__min_samples_leaf=2, clf__min_samples_split=8, clf__n_estimators=50, total=   2.3s\n",
      "[CV] clf__criterion=entropy, clf__max_depth=5, clf__min_samples_leaf=2, clf__min_samples_split=8, clf__n_estimators=100 \n",
      "[CV]  clf__criterion=entropy, clf__max_depth=5, clf__min_samples_leaf=2, clf__min_samples_split=8, clf__n_estimators=100, total=   3.9s\n",
      "[CV] clf__criterion=entropy, clf__max_depth=5, clf__min_samples_leaf=2, clf__min_samples_split=8, clf__n_estimators=100 \n",
      "[CV]  clf__criterion=entropy, clf__max_depth=5, clf__min_samples_leaf=2, clf__min_samples_split=8, clf__n_estimators=100, total=   3.6s\n",
      "[CV] clf__criterion=entropy, clf__max_depth=5, clf__min_samples_leaf=2, clf__min_samples_split=8, clf__n_estimators=100 \n",
      "[CV]  clf__criterion=entropy, clf__max_depth=5, clf__min_samples_leaf=2, clf__min_samples_split=8, clf__n_estimators=100, total=   4.0s\n",
      "[CV] clf__criterion=entropy, clf__max_depth=5, clf__min_samples_leaf=2, clf__min_samples_split=8, clf__n_estimators=200 \n",
      "[CV]  clf__criterion=entropy, clf__max_depth=5, clf__min_samples_leaf=2, clf__min_samples_split=8, clf__n_estimators=200, total=   7.7s\n",
      "[CV] clf__criterion=entropy, clf__max_depth=5, clf__min_samples_leaf=2, clf__min_samples_split=8, clf__n_estimators=200 \n",
      "[CV]  clf__criterion=entropy, clf__max_depth=5, clf__min_samples_leaf=2, clf__min_samples_split=8, clf__n_estimators=200, total=   7.6s\n",
      "[CV] clf__criterion=entropy, clf__max_depth=5, clf__min_samples_leaf=2, clf__min_samples_split=8, clf__n_estimators=200 \n",
      "[CV]  clf__criterion=entropy, clf__max_depth=5, clf__min_samples_leaf=2, clf__min_samples_split=8, clf__n_estimators=200, total=   8.6s\n",
      "[CV] clf__criterion=entropy, clf__max_depth=5, clf__min_samples_leaf=5, clf__min_samples_split=2, clf__n_estimators=10 \n",
      "[CV]  clf__criterion=entropy, clf__max_depth=5, clf__min_samples_leaf=5, clf__min_samples_split=2, clf__n_estimators=10, total=   0.5s\n",
      "[CV] clf__criterion=entropy, clf__max_depth=5, clf__min_samples_leaf=5, clf__min_samples_split=2, clf__n_estimators=10 \n",
      "[CV]  clf__criterion=entropy, clf__max_depth=5, clf__min_samples_leaf=5, clf__min_samples_split=2, clf__n_estimators=10, total=   0.4s\n",
      "[CV] clf__criterion=entropy, clf__max_depth=5, clf__min_samples_leaf=5, clf__min_samples_split=2, clf__n_estimators=10 \n",
      "[CV]  clf__criterion=entropy, clf__max_depth=5, clf__min_samples_leaf=5, clf__min_samples_split=2, clf__n_estimators=10, total=   0.5s\n",
      "[CV] clf__criterion=entropy, clf__max_depth=5, clf__min_samples_leaf=5, clf__min_samples_split=2, clf__n_estimators=50 \n",
      "[CV]  clf__criterion=entropy, clf__max_depth=5, clf__min_samples_leaf=5, clf__min_samples_split=2, clf__n_estimators=50, total=   2.2s\n",
      "[CV] clf__criterion=entropy, clf__max_depth=5, clf__min_samples_leaf=5, clf__min_samples_split=2, clf__n_estimators=50 \n",
      "[CV]  clf__criterion=entropy, clf__max_depth=5, clf__min_samples_leaf=5, clf__min_samples_split=2, clf__n_estimators=50, total=   2.2s\n",
      "[CV] clf__criterion=entropy, clf__max_depth=5, clf__min_samples_leaf=5, clf__min_samples_split=2, clf__n_estimators=50 \n",
      "[CV]  clf__criterion=entropy, clf__max_depth=5, clf__min_samples_leaf=5, clf__min_samples_split=2, clf__n_estimators=50, total=   2.2s\n",
      "[CV] clf__criterion=entropy, clf__max_depth=5, clf__min_samples_leaf=5, clf__min_samples_split=2, clf__n_estimators=100 \n",
      "[CV]  clf__criterion=entropy, clf__max_depth=5, clf__min_samples_leaf=5, clf__min_samples_split=2, clf__n_estimators=100, total=   4.2s\n",
      "[CV] clf__criterion=entropy, clf__max_depth=5, clf__min_samples_leaf=5, clf__min_samples_split=2, clf__n_estimators=100 \n",
      "[CV]  clf__criterion=entropy, clf__max_depth=5, clf__min_samples_leaf=5, clf__min_samples_split=2, clf__n_estimators=100, total=   3.8s\n",
      "[CV] clf__criterion=entropy, clf__max_depth=5, clf__min_samples_leaf=5, clf__min_samples_split=2, clf__n_estimators=100 \n",
      "[CV]  clf__criterion=entropy, clf__max_depth=5, clf__min_samples_leaf=5, clf__min_samples_split=2, clf__n_estimators=100, total=   4.1s\n",
      "[CV] clf__criterion=entropy, clf__max_depth=5, clf__min_samples_leaf=5, clf__min_samples_split=2, clf__n_estimators=200 \n",
      "[CV]  clf__criterion=entropy, clf__max_depth=5, clf__min_samples_leaf=5, clf__min_samples_split=2, clf__n_estimators=200, total=   8.2s\n",
      "[CV] clf__criterion=entropy, clf__max_depth=5, clf__min_samples_leaf=5, clf__min_samples_split=2, clf__n_estimators=200 \n",
      "[CV]  clf__criterion=entropy, clf__max_depth=5, clf__min_samples_leaf=5, clf__min_samples_split=2, clf__n_estimators=200, total=  11.4s\n",
      "[CV] clf__criterion=entropy, clf__max_depth=5, clf__min_samples_leaf=5, clf__min_samples_split=2, clf__n_estimators=200 \n",
      "[CV]  clf__criterion=entropy, clf__max_depth=5, clf__min_samples_leaf=5, clf__min_samples_split=2, clf__n_estimators=200, total=   8.8s\n",
      "[CV] clf__criterion=entropy, clf__max_depth=5, clf__min_samples_leaf=5, clf__min_samples_split=4, clf__n_estimators=10 \n",
      "[CV]  clf__criterion=entropy, clf__max_depth=5, clf__min_samples_leaf=5, clf__min_samples_split=4, clf__n_estimators=10, total=   0.4s\n",
      "[CV] clf__criterion=entropy, clf__max_depth=5, clf__min_samples_leaf=5, clf__min_samples_split=4, clf__n_estimators=10 \n",
      "[CV]  clf__criterion=entropy, clf__max_depth=5, clf__min_samples_leaf=5, clf__min_samples_split=4, clf__n_estimators=10, total=   0.4s\n",
      "[CV] clf__criterion=entropy, clf__max_depth=5, clf__min_samples_leaf=5, clf__min_samples_split=4, clf__n_estimators=10 \n",
      "[CV]  clf__criterion=entropy, clf__max_depth=5, clf__min_samples_leaf=5, clf__min_samples_split=4, clf__n_estimators=10, total=   0.5s\n",
      "[CV] clf__criterion=entropy, clf__max_depth=5, clf__min_samples_leaf=5, clf__min_samples_split=4, clf__n_estimators=50 \n",
      "[CV]  clf__criterion=entropy, clf__max_depth=5, clf__min_samples_leaf=5, clf__min_samples_split=4, clf__n_estimators=50, total=   2.0s\n",
      "[CV] clf__criterion=entropy, clf__max_depth=5, clf__min_samples_leaf=5, clf__min_samples_split=4, clf__n_estimators=50 \n",
      "[CV]  clf__criterion=entropy, clf__max_depth=5, clf__min_samples_leaf=5, clf__min_samples_split=4, clf__n_estimators=50, total=   2.0s\n",
      "[CV] clf__criterion=entropy, clf__max_depth=5, clf__min_samples_leaf=5, clf__min_samples_split=4, clf__n_estimators=50 \n",
      "[CV]  clf__criterion=entropy, clf__max_depth=5, clf__min_samples_leaf=5, clf__min_samples_split=4, clf__n_estimators=50, total=   2.2s\n",
      "[CV] clf__criterion=entropy, clf__max_depth=5, clf__min_samples_leaf=5, clf__min_samples_split=4, clf__n_estimators=100 \n",
      "[CV]  clf__criterion=entropy, clf__max_depth=5, clf__min_samples_leaf=5, clf__min_samples_split=4, clf__n_estimators=100, total=   4.1s\n",
      "[CV] clf__criterion=entropy, clf__max_depth=5, clf__min_samples_leaf=5, clf__min_samples_split=4, clf__n_estimators=100 \n",
      "[CV]  clf__criterion=entropy, clf__max_depth=5, clf__min_samples_leaf=5, clf__min_samples_split=4, clf__n_estimators=100, total=   3.8s\n",
      "[CV] clf__criterion=entropy, clf__max_depth=5, clf__min_samples_leaf=5, clf__min_samples_split=4, clf__n_estimators=100 \n",
      "[CV]  clf__criterion=entropy, clf__max_depth=5, clf__min_samples_leaf=5, clf__min_samples_split=4, clf__n_estimators=100, total=   4.3s\n",
      "[CV] clf__criterion=entropy, clf__max_depth=5, clf__min_samples_leaf=5, clf__min_samples_split=4, clf__n_estimators=200 \n",
      "[CV]  clf__criterion=entropy, clf__max_depth=5, clf__min_samples_leaf=5, clf__min_samples_split=4, clf__n_estimators=200, total=   8.2s\n",
      "[CV] clf__criterion=entropy, clf__max_depth=5, clf__min_samples_leaf=5, clf__min_samples_split=4, clf__n_estimators=200 \n",
      "[CV]  clf__criterion=entropy, clf__max_depth=5, clf__min_samples_leaf=5, clf__min_samples_split=4, clf__n_estimators=200, total=   7.6s\n",
      "[CV] clf__criterion=entropy, clf__max_depth=5, clf__min_samples_leaf=5, clf__min_samples_split=4, clf__n_estimators=200 \n",
      "[CV]  clf__criterion=entropy, clf__max_depth=5, clf__min_samples_leaf=5, clf__min_samples_split=4, clf__n_estimators=200, total=   8.7s\n",
      "[CV] clf__criterion=entropy, clf__max_depth=5, clf__min_samples_leaf=5, clf__min_samples_split=8, clf__n_estimators=10 \n",
      "[CV]  clf__criterion=entropy, clf__max_depth=5, clf__min_samples_leaf=5, clf__min_samples_split=8, clf__n_estimators=10, total=   0.5s\n",
      "[CV] clf__criterion=entropy, clf__max_depth=5, clf__min_samples_leaf=5, clf__min_samples_split=8, clf__n_estimators=10 \n"
     ]
    },
    {
     "name": "stdout",
     "output_type": "stream",
     "text": [
      "[CV]  clf__criterion=entropy, clf__max_depth=5, clf__min_samples_leaf=5, clf__min_samples_split=8, clf__n_estimators=10, total=   0.4s\n",
      "[CV] clf__criterion=entropy, clf__max_depth=5, clf__min_samples_leaf=5, clf__min_samples_split=8, clf__n_estimators=10 \n",
      "[CV]  clf__criterion=entropy, clf__max_depth=5, clf__min_samples_leaf=5, clf__min_samples_split=8, clf__n_estimators=10, total=   0.5s\n",
      "[CV] clf__criterion=entropy, clf__max_depth=5, clf__min_samples_leaf=5, clf__min_samples_split=8, clf__n_estimators=50 \n",
      "[CV]  clf__criterion=entropy, clf__max_depth=5, clf__min_samples_leaf=5, clf__min_samples_split=8, clf__n_estimators=50, total=   2.1s\n",
      "[CV] clf__criterion=entropy, clf__max_depth=5, clf__min_samples_leaf=5, clf__min_samples_split=8, clf__n_estimators=50 \n",
      "[CV]  clf__criterion=entropy, clf__max_depth=5, clf__min_samples_leaf=5, clf__min_samples_split=8, clf__n_estimators=50, total=   1.9s\n",
      "[CV] clf__criterion=entropy, clf__max_depth=5, clf__min_samples_leaf=5, clf__min_samples_split=8, clf__n_estimators=50 \n",
      "[CV]  clf__criterion=entropy, clf__max_depth=5, clf__min_samples_leaf=5, clf__min_samples_split=8, clf__n_estimators=50, total=   2.1s\n",
      "[CV] clf__criterion=entropy, clf__max_depth=5, clf__min_samples_leaf=5, clf__min_samples_split=8, clf__n_estimators=100 \n",
      "[CV]  clf__criterion=entropy, clf__max_depth=5, clf__min_samples_leaf=5, clf__min_samples_split=8, clf__n_estimators=100, total=   4.2s\n",
      "[CV] clf__criterion=entropy, clf__max_depth=5, clf__min_samples_leaf=5, clf__min_samples_split=8, clf__n_estimators=100 \n",
      "[CV]  clf__criterion=entropy, clf__max_depth=5, clf__min_samples_leaf=5, clf__min_samples_split=8, clf__n_estimators=100, total=   3.9s\n",
      "[CV] clf__criterion=entropy, clf__max_depth=5, clf__min_samples_leaf=5, clf__min_samples_split=8, clf__n_estimators=100 \n",
      "[CV]  clf__criterion=entropy, clf__max_depth=5, clf__min_samples_leaf=5, clf__min_samples_split=8, clf__n_estimators=100, total=   4.4s\n",
      "[CV] clf__criterion=entropy, clf__max_depth=5, clf__min_samples_leaf=5, clf__min_samples_split=8, clf__n_estimators=200 \n",
      "[CV]  clf__criterion=entropy, clf__max_depth=5, clf__min_samples_leaf=5, clf__min_samples_split=8, clf__n_estimators=200, total=   9.2s\n",
      "[CV] clf__criterion=entropy, clf__max_depth=5, clf__min_samples_leaf=5, clf__min_samples_split=8, clf__n_estimators=200 \n",
      "[CV]  clf__criterion=entropy, clf__max_depth=5, clf__min_samples_leaf=5, clf__min_samples_split=8, clf__n_estimators=200, total=   8.3s\n",
      "[CV] clf__criterion=entropy, clf__max_depth=5, clf__min_samples_leaf=5, clf__min_samples_split=8, clf__n_estimators=200 \n",
      "[CV]  clf__criterion=entropy, clf__max_depth=5, clf__min_samples_leaf=5, clf__min_samples_split=8, clf__n_estimators=200, total=   8.9s\n"
     ]
    },
    {
     "name": "stderr",
     "output_type": "stream",
     "text": [
      "[Parallel(n_jobs=1)]: Done 648 out of 648 | elapsed: 57.8min finished\n"
     ]
    },
    {
     "name": "stdout",
     "output_type": "stream",
     "text": [
      "RandomForest Best Parameters:  {'clf__criterion': 'entropy', 'clf__max_depth': None, 'clf__min_samples_leaf': 1, 'clf__min_samples_split': 2, 'clf__n_estimators': 10}\n",
      "KNN - - - - - - - - - - - - - - - - - - - - - - - - - - - - - -\n",
      "Fitting 3 folds for each of 20 candidates, totalling 60 fits\n",
      "[CV] clf__n_neighbors=5, clf__p=1, clf__weights=uniform ..............\n"
     ]
    },
    {
     "name": "stderr",
     "output_type": "stream",
     "text": [
      "[Parallel(n_jobs=1)]: Using backend SequentialBackend with 1 concurrent workers.\n"
     ]
    },
    {
     "name": "stdout",
     "output_type": "stream",
     "text": [
      "[CV]  clf__n_neighbors=5, clf__p=1, clf__weights=uniform, total=   3.7s\n",
      "[CV] clf__n_neighbors=5, clf__p=1, clf__weights=uniform ..............\n"
     ]
    },
    {
     "name": "stderr",
     "output_type": "stream",
     "text": [
      "[Parallel(n_jobs=1)]: Done   1 out of   1 | elapsed:   11.7s remaining:    0.0s\n"
     ]
    },
    {
     "name": "stdout",
     "output_type": "stream",
     "text": [
      "[CV]  clf__n_neighbors=5, clf__p=1, clf__weights=uniform, total=   3.3s\n",
      "[CV] clf__n_neighbors=5, clf__p=1, clf__weights=uniform ..............\n",
      "[CV]  clf__n_neighbors=5, clf__p=1, clf__weights=uniform, total=   5.0s\n",
      "[CV] clf__n_neighbors=5, clf__p=1, clf__weights=distance .............\n",
      "[CV]  clf__n_neighbors=5, clf__p=1, clf__weights=distance, total=   3.7s\n",
      "[CV] clf__n_neighbors=5, clf__p=1, clf__weights=distance .............\n",
      "[CV]  clf__n_neighbors=5, clf__p=1, clf__weights=distance, total=   3.9s\n",
      "[CV] clf__n_neighbors=5, clf__p=1, clf__weights=distance .............\n",
      "[CV]  clf__n_neighbors=5, clf__p=1, clf__weights=distance, total=   6.7s\n",
      "[CV] clf__n_neighbors=5, clf__p=2, clf__weights=uniform ..............\n",
      "[CV]  clf__n_neighbors=5, clf__p=2, clf__weights=uniform, total=   3.3s\n",
      "[CV] clf__n_neighbors=5, clf__p=2, clf__weights=uniform ..............\n",
      "[CV]  clf__n_neighbors=5, clf__p=2, clf__weights=uniform, total=   2.5s\n",
      "[CV] clf__n_neighbors=5, clf__p=2, clf__weights=uniform ..............\n",
      "[CV]  clf__n_neighbors=5, clf__p=2, clf__weights=uniform, total=   3.3s\n",
      "[CV] clf__n_neighbors=5, clf__p=2, clf__weights=distance .............\n",
      "[CV]  clf__n_neighbors=5, clf__p=2, clf__weights=distance, total=   2.4s\n",
      "[CV] clf__n_neighbors=5, clf__p=2, clf__weights=distance .............\n",
      "[CV]  clf__n_neighbors=5, clf__p=2, clf__weights=distance, total=   2.4s\n",
      "[CV] clf__n_neighbors=5, clf__p=2, clf__weights=distance .............\n",
      "[CV]  clf__n_neighbors=5, clf__p=2, clf__weights=distance, total=   3.2s\n",
      "[CV] clf__n_neighbors=25, clf__p=1, clf__weights=uniform .............\n",
      "[CV]  clf__n_neighbors=25, clf__p=1, clf__weights=uniform, total=   5.0s\n",
      "[CV] clf__n_neighbors=25, clf__p=1, clf__weights=uniform .............\n",
      "[CV]  clf__n_neighbors=25, clf__p=1, clf__weights=uniform, total=   6.6s\n",
      "[CV] clf__n_neighbors=25, clf__p=1, clf__weights=uniform .............\n",
      "[CV]  clf__n_neighbors=25, clf__p=1, clf__weights=uniform, total=   6.4s\n",
      "[CV] clf__n_neighbors=25, clf__p=1, clf__weights=distance ............\n",
      "[CV]  clf__n_neighbors=25, clf__p=1, clf__weights=distance, total=   4.7s\n",
      "[CV] clf__n_neighbors=25, clf__p=1, clf__weights=distance ............\n",
      "[CV]  clf__n_neighbors=25, clf__p=1, clf__weights=distance, total=   4.2s\n",
      "[CV] clf__n_neighbors=25, clf__p=1, clf__weights=distance ............\n",
      "[CV]  clf__n_neighbors=25, clf__p=1, clf__weights=distance, total=   7.0s\n",
      "[CV] clf__n_neighbors=25, clf__p=2, clf__weights=uniform .............\n",
      "[CV]  clf__n_neighbors=25, clf__p=2, clf__weights=uniform, total=   4.5s\n",
      "[CV] clf__n_neighbors=25, clf__p=2, clf__weights=uniform .............\n",
      "[CV]  clf__n_neighbors=25, clf__p=2, clf__weights=uniform, total=   4.0s\n",
      "[CV] clf__n_neighbors=25, clf__p=2, clf__weights=uniform .............\n",
      "[CV]  clf__n_neighbors=25, clf__p=2, clf__weights=uniform, total=   5.6s\n",
      "[CV] clf__n_neighbors=25, clf__p=2, clf__weights=distance ............\n",
      "[CV]  clf__n_neighbors=25, clf__p=2, clf__weights=distance, total=   4.1s\n",
      "[CV] clf__n_neighbors=25, clf__p=2, clf__weights=distance ............\n",
      "[CV]  clf__n_neighbors=25, clf__p=2, clf__weights=distance, total=   3.4s\n",
      "[CV] clf__n_neighbors=25, clf__p=2, clf__weights=distance ............\n",
      "[CV]  clf__n_neighbors=25, clf__p=2, clf__weights=distance, total=   3.9s\n",
      "[CV] clf__n_neighbors=50, clf__p=1, clf__weights=uniform .............\n",
      "[CV]  clf__n_neighbors=50, clf__p=1, clf__weights=uniform, total=   6.0s\n",
      "[CV] clf__n_neighbors=50, clf__p=1, clf__weights=uniform .............\n",
      "[CV]  clf__n_neighbors=50, clf__p=1, clf__weights=uniform, total=   6.2s\n",
      "[CV] clf__n_neighbors=50, clf__p=1, clf__weights=uniform .............\n",
      "[CV]  clf__n_neighbors=50, clf__p=1, clf__weights=uniform, total=   9.0s\n",
      "[CV] clf__n_neighbors=50, clf__p=1, clf__weights=distance ............\n",
      "[CV]  clf__n_neighbors=50, clf__p=1, clf__weights=distance, total=   5.6s\n",
      "[CV] clf__n_neighbors=50, clf__p=1, clf__weights=distance ............\n",
      "[CV]  clf__n_neighbors=50, clf__p=1, clf__weights=distance, total=   5.6s\n",
      "[CV] clf__n_neighbors=50, clf__p=1, clf__weights=distance ............\n",
      "[CV]  clf__n_neighbors=50, clf__p=1, clf__weights=distance, total=   6.4s\n",
      "[CV] clf__n_neighbors=50, clf__p=2, clf__weights=uniform .............\n",
      "[CV]  clf__n_neighbors=50, clf__p=2, clf__weights=uniform, total=   5.4s\n",
      "[CV] clf__n_neighbors=50, clf__p=2, clf__weights=uniform .............\n",
      "[CV]  clf__n_neighbors=50, clf__p=2, clf__weights=uniform, total=   5.6s\n",
      "[CV] clf__n_neighbors=50, clf__p=2, clf__weights=uniform .............\n",
      "[CV]  clf__n_neighbors=50, clf__p=2, clf__weights=uniform, total=   5.5s\n",
      "[CV] clf__n_neighbors=50, clf__p=2, clf__weights=distance ............\n",
      "[CV]  clf__n_neighbors=50, clf__p=2, clf__weights=distance, total=   3.8s\n",
      "[CV] clf__n_neighbors=50, clf__p=2, clf__weights=distance ............\n",
      "[CV]  clf__n_neighbors=50, clf__p=2, clf__weights=distance, total=   5.0s\n",
      "[CV] clf__n_neighbors=50, clf__p=2, clf__weights=distance ............\n",
      "[CV]  clf__n_neighbors=50, clf__p=2, clf__weights=distance, total=   4.1s\n",
      "[CV] clf__n_neighbors=100, clf__p=1, clf__weights=uniform ............\n",
      "[CV]  clf__n_neighbors=100, clf__p=1, clf__weights=uniform, total=   6.4s\n",
      "[CV] clf__n_neighbors=100, clf__p=1, clf__weights=uniform ............\n",
      "[CV]  clf__n_neighbors=100, clf__p=1, clf__weights=uniform, total=   6.6s\n",
      "[CV] clf__n_neighbors=100, clf__p=1, clf__weights=uniform ............\n",
      "[CV]  clf__n_neighbors=100, clf__p=1, clf__weights=uniform, total=   7.5s\n",
      "[CV] clf__n_neighbors=100, clf__p=1, clf__weights=distance ...........\n",
      "[CV]  clf__n_neighbors=100, clf__p=1, clf__weights=distance, total=   6.1s\n",
      "[CV] clf__n_neighbors=100, clf__p=1, clf__weights=distance ...........\n",
      "[CV]  clf__n_neighbors=100, clf__p=1, clf__weights=distance, total=   5.8s\n",
      "[CV] clf__n_neighbors=100, clf__p=1, clf__weights=distance ...........\n",
      "[CV]  clf__n_neighbors=100, clf__p=1, clf__weights=distance, total=   7.0s\n",
      "[CV] clf__n_neighbors=100, clf__p=2, clf__weights=uniform ............\n",
      "[CV]  clf__n_neighbors=100, clf__p=2, clf__weights=uniform, total=   5.0s\n",
      "[CV] clf__n_neighbors=100, clf__p=2, clf__weights=uniform ............\n",
      "[CV]  clf__n_neighbors=100, clf__p=2, clf__weights=uniform, total=   4.6s\n",
      "[CV] clf__n_neighbors=100, clf__p=2, clf__weights=uniform ............\n",
      "[CV]  clf__n_neighbors=100, clf__p=2, clf__weights=uniform, total=   5.2s\n",
      "[CV] clf__n_neighbors=100, clf__p=2, clf__weights=distance ...........\n",
      "[CV]  clf__n_neighbors=100, clf__p=2, clf__weights=distance, total=   4.7s\n",
      "[CV] clf__n_neighbors=100, clf__p=2, clf__weights=distance ...........\n",
      "[CV]  clf__n_neighbors=100, clf__p=2, clf__weights=distance, total=   4.4s\n",
      "[CV] clf__n_neighbors=100, clf__p=2, clf__weights=distance ...........\n",
      "[CV]  clf__n_neighbors=100, clf__p=2, clf__weights=distance, total=   4.9s\n",
      "[CV] clf__n_neighbors=200, clf__p=1, clf__weights=uniform ............\n",
      "[CV]  clf__n_neighbors=200, clf__p=1, clf__weights=uniform, total=   8.0s\n",
      "[CV] clf__n_neighbors=200, clf__p=1, clf__weights=uniform ............\n",
      "[CV]  clf__n_neighbors=200, clf__p=1, clf__weights=uniform, total=   7.2s\n",
      "[CV] clf__n_neighbors=200, clf__p=1, clf__weights=uniform ............\n",
      "[CV]  clf__n_neighbors=200, clf__p=1, clf__weights=uniform, total=   8.9s\n",
      "[CV] clf__n_neighbors=200, clf__p=1, clf__weights=distance ...........\n",
      "[CV]  clf__n_neighbors=200, clf__p=1, clf__weights=distance, total=   7.5s\n",
      "[CV] clf__n_neighbors=200, clf__p=1, clf__weights=distance ...........\n",
      "[CV]  clf__n_neighbors=200, clf__p=1, clf__weights=distance, total=   7.2s\n",
      "[CV] clf__n_neighbors=200, clf__p=1, clf__weights=distance ...........\n",
      "[CV]  clf__n_neighbors=200, clf__p=1, clf__weights=distance, total=   8.4s\n",
      "[CV] clf__n_neighbors=200, clf__p=2, clf__weights=uniform ............\n",
      "[CV]  clf__n_neighbors=200, clf__p=2, clf__weights=uniform, total=   7.6s\n",
      "[CV] clf__n_neighbors=200, clf__p=2, clf__weights=uniform ............\n",
      "[CV]  clf__n_neighbors=200, clf__p=2, clf__weights=uniform, total=   6.6s\n",
      "[CV] clf__n_neighbors=200, clf__p=2, clf__weights=uniform ............\n",
      "[CV]  clf__n_neighbors=200, clf__p=2, clf__weights=uniform, total=   8.9s\n",
      "[CV] clf__n_neighbors=200, clf__p=2, clf__weights=distance ...........\n",
      "[CV]  clf__n_neighbors=200, clf__p=2, clf__weights=distance, total=   7.0s\n",
      "[CV] clf__n_neighbors=200, clf__p=2, clf__weights=distance ...........\n"
     ]
    },
    {
     "name": "stdout",
     "output_type": "stream",
     "text": [
      "[CV]  clf__n_neighbors=200, clf__p=2, clf__weights=distance, total=   7.8s\n",
      "[CV] clf__n_neighbors=200, clf__p=2, clf__weights=distance ...........\n",
      "[CV]  clf__n_neighbors=200, clf__p=2, clf__weights=distance, total=   8.4s\n",
      "KNN Best Parameters:  {'clf__n_neighbors': 5, 'clf__p': 2, 'clf__weights': 'uniform'}\n",
      "DecisionTree - - - - - - - - - - - - - - - - - - - - - - - - - - - - - -\n",
      "Fitting 3 folds for each of 108 candidates, totalling 324 fits\n",
      "[CV] clf__criterion=gini, clf__max_depth=None, clf__min_samples_leaf=1, clf__min_samples_split=2, clf__splitter=best \n"
     ]
    },
    {
     "name": "stderr",
     "output_type": "stream",
     "text": [
      "[Parallel(n_jobs=1)]: Done  60 out of  60 | elapsed: 16.5min finished\n",
      "[Parallel(n_jobs=1)]: Using backend SequentialBackend with 1 concurrent workers.\n"
     ]
    },
    {
     "name": "stdout",
     "output_type": "stream",
     "text": [
      "[CV]  clf__criterion=gini, clf__max_depth=None, clf__min_samples_leaf=1, clf__min_samples_split=2, clf__splitter=best, total=   0.5s\n",
      "[CV] clf__criterion=gini, clf__max_depth=None, clf__min_samples_leaf=1, clf__min_samples_split=2, clf__splitter=best \n"
     ]
    },
    {
     "name": "stderr",
     "output_type": "stream",
     "text": [
      "[Parallel(n_jobs=1)]: Done   1 out of   1 | elapsed:    0.6s remaining:    0.0s\n"
     ]
    },
    {
     "name": "stdout",
     "output_type": "stream",
     "text": [
      "[CV]  clf__criterion=gini, clf__max_depth=None, clf__min_samples_leaf=1, clf__min_samples_split=2, clf__splitter=best, total=   0.5s\n",
      "[CV] clf__criterion=gini, clf__max_depth=None, clf__min_samples_leaf=1, clf__min_samples_split=2, clf__splitter=best \n",
      "[CV]  clf__criterion=gini, clf__max_depth=None, clf__min_samples_leaf=1, clf__min_samples_split=2, clf__splitter=best, total=   0.5s\n",
      "[CV] clf__criterion=gini, clf__max_depth=None, clf__min_samples_leaf=1, clf__min_samples_split=2, clf__splitter=random \n",
      "[CV]  clf__criterion=gini, clf__max_depth=None, clf__min_samples_leaf=1, clf__min_samples_split=2, clf__splitter=random, total=   0.1s\n",
      "[CV] clf__criterion=gini, clf__max_depth=None, clf__min_samples_leaf=1, clf__min_samples_split=2, clf__splitter=random \n",
      "[CV]  clf__criterion=gini, clf__max_depth=None, clf__min_samples_leaf=1, clf__min_samples_split=2, clf__splitter=random, total=   0.1s\n",
      "[CV] clf__criterion=gini, clf__max_depth=None, clf__min_samples_leaf=1, clf__min_samples_split=2, clf__splitter=random \n",
      "[CV]  clf__criterion=gini, clf__max_depth=None, clf__min_samples_leaf=1, clf__min_samples_split=2, clf__splitter=random, total=   0.1s\n",
      "[CV] clf__criterion=gini, clf__max_depth=None, clf__min_samples_leaf=1, clf__min_samples_split=4, clf__splitter=best \n",
      "[CV]  clf__criterion=gini, clf__max_depth=None, clf__min_samples_leaf=1, clf__min_samples_split=4, clf__splitter=best, total=   0.5s\n",
      "[CV] clf__criterion=gini, clf__max_depth=None, clf__min_samples_leaf=1, clf__min_samples_split=4, clf__splitter=best \n",
      "[CV]  clf__criterion=gini, clf__max_depth=None, clf__min_samples_leaf=1, clf__min_samples_split=4, clf__splitter=best, total=   0.5s\n",
      "[CV] clf__criterion=gini, clf__max_depth=None, clf__min_samples_leaf=1, clf__min_samples_split=4, clf__splitter=best \n",
      "[CV]  clf__criterion=gini, clf__max_depth=None, clf__min_samples_leaf=1, clf__min_samples_split=4, clf__splitter=best, total=   0.5s\n",
      "[CV] clf__criterion=gini, clf__max_depth=None, clf__min_samples_leaf=1, clf__min_samples_split=4, clf__splitter=random \n",
      "[CV]  clf__criterion=gini, clf__max_depth=None, clf__min_samples_leaf=1, clf__min_samples_split=4, clf__splitter=random, total=   0.1s\n",
      "[CV] clf__criterion=gini, clf__max_depth=None, clf__min_samples_leaf=1, clf__min_samples_split=4, clf__splitter=random \n",
      "[CV]  clf__criterion=gini, clf__max_depth=None, clf__min_samples_leaf=1, clf__min_samples_split=4, clf__splitter=random, total=   0.1s\n",
      "[CV] clf__criterion=gini, clf__max_depth=None, clf__min_samples_leaf=1, clf__min_samples_split=4, clf__splitter=random \n",
      "[CV]  clf__criterion=gini, clf__max_depth=None, clf__min_samples_leaf=1, clf__min_samples_split=4, clf__splitter=random, total=   0.1s\n",
      "[CV] clf__criterion=gini, clf__max_depth=None, clf__min_samples_leaf=1, clf__min_samples_split=8, clf__splitter=best \n",
      "[CV]  clf__criterion=gini, clf__max_depth=None, clf__min_samples_leaf=1, clf__min_samples_split=8, clf__splitter=best, total=   0.5s\n",
      "[CV] clf__criterion=gini, clf__max_depth=None, clf__min_samples_leaf=1, clf__min_samples_split=8, clf__splitter=best \n",
      "[CV]  clf__criterion=gini, clf__max_depth=None, clf__min_samples_leaf=1, clf__min_samples_split=8, clf__splitter=best, total=   0.5s\n",
      "[CV] clf__criterion=gini, clf__max_depth=None, clf__min_samples_leaf=1, clf__min_samples_split=8, clf__splitter=best \n",
      "[CV]  clf__criterion=gini, clf__max_depth=None, clf__min_samples_leaf=1, clf__min_samples_split=8, clf__splitter=best, total=   0.5s\n",
      "[CV] clf__criterion=gini, clf__max_depth=None, clf__min_samples_leaf=1, clf__min_samples_split=8, clf__splitter=random \n",
      "[CV]  clf__criterion=gini, clf__max_depth=None, clf__min_samples_leaf=1, clf__min_samples_split=8, clf__splitter=random, total=   0.1s\n",
      "[CV] clf__criterion=gini, clf__max_depth=None, clf__min_samples_leaf=1, clf__min_samples_split=8, clf__splitter=random \n",
      "[CV]  clf__criterion=gini, clf__max_depth=None, clf__min_samples_leaf=1, clf__min_samples_split=8, clf__splitter=random, total=   0.1s\n",
      "[CV] clf__criterion=gini, clf__max_depth=None, clf__min_samples_leaf=1, clf__min_samples_split=8, clf__splitter=random \n",
      "[CV]  clf__criterion=gini, clf__max_depth=None, clf__min_samples_leaf=1, clf__min_samples_split=8, clf__splitter=random, total=   0.1s\n",
      "[CV] clf__criterion=gini, clf__max_depth=None, clf__min_samples_leaf=3, clf__min_samples_split=2, clf__splitter=best \n",
      "[CV]  clf__criterion=gini, clf__max_depth=None, clf__min_samples_leaf=3, clf__min_samples_split=2, clf__splitter=best, total=   0.5s\n",
      "[CV] clf__criterion=gini, clf__max_depth=None, clf__min_samples_leaf=3, clf__min_samples_split=2, clf__splitter=best \n",
      "[CV]  clf__criterion=gini, clf__max_depth=None, clf__min_samples_leaf=3, clf__min_samples_split=2, clf__splitter=best, total=   0.4s\n",
      "[CV] clf__criterion=gini, clf__max_depth=None, clf__min_samples_leaf=3, clf__min_samples_split=2, clf__splitter=best \n",
      "[CV]  clf__criterion=gini, clf__max_depth=None, clf__min_samples_leaf=3, clf__min_samples_split=2, clf__splitter=best, total=   0.5s\n",
      "[CV] clf__criterion=gini, clf__max_depth=None, clf__min_samples_leaf=3, clf__min_samples_split=2, clf__splitter=random \n",
      "[CV]  clf__criterion=gini, clf__max_depth=None, clf__min_samples_leaf=3, clf__min_samples_split=2, clf__splitter=random, total=   0.1s\n",
      "[CV] clf__criterion=gini, clf__max_depth=None, clf__min_samples_leaf=3, clf__min_samples_split=2, clf__splitter=random \n",
      "[CV]  clf__criterion=gini, clf__max_depth=None, clf__min_samples_leaf=3, clf__min_samples_split=2, clf__splitter=random, total=   0.0s\n",
      "[CV] clf__criterion=gini, clf__max_depth=None, clf__min_samples_leaf=3, clf__min_samples_split=2, clf__splitter=random \n"
     ]
    },
    {
     "name": "stderr",
     "output_type": "stream",
     "text": [
      "/anaconda3/lib/python3.7/site-packages/sklearn/metrics/classification.py:1143: UndefinedMetricWarning: F-score is ill-defined and being set to 0.0 in labels with no predicted samples.\n",
      "  'precision', 'predicted', average, warn_for)\n",
      "/anaconda3/lib/python3.7/site-packages/sklearn/metrics/classification.py:1143: UndefinedMetricWarning: F-score is ill-defined and being set to 0.0 in labels with no predicted samples.\n",
      "  'precision', 'predicted', average, warn_for)\n"
     ]
    },
    {
     "name": "stdout",
     "output_type": "stream",
     "text": [
      "[CV]  clf__criterion=gini, clf__max_depth=None, clf__min_samples_leaf=3, clf__min_samples_split=2, clf__splitter=random, total=   0.1s\n",
      "[CV] clf__criterion=gini, clf__max_depth=None, clf__min_samples_leaf=3, clf__min_samples_split=4, clf__splitter=best \n",
      "[CV]  clf__criterion=gini, clf__max_depth=None, clf__min_samples_leaf=3, clf__min_samples_split=4, clf__splitter=best, total=   0.5s\n",
      "[CV] clf__criterion=gini, clf__max_depth=None, clf__min_samples_leaf=3, clf__min_samples_split=4, clf__splitter=best \n",
      "[CV]  clf__criterion=gini, clf__max_depth=None, clf__min_samples_leaf=3, clf__min_samples_split=4, clf__splitter=best, total=   0.4s\n",
      "[CV] clf__criterion=gini, clf__max_depth=None, clf__min_samples_leaf=3, clf__min_samples_split=4, clf__splitter=best \n",
      "[CV]  clf__criterion=gini, clf__max_depth=None, clf__min_samples_leaf=3, clf__min_samples_split=4, clf__splitter=best, total=   0.5s\n",
      "[CV] clf__criterion=gini, clf__max_depth=None, clf__min_samples_leaf=3, clf__min_samples_split=4, clf__splitter=random \n",
      "[CV]  clf__criterion=gini, clf__max_depth=None, clf__min_samples_leaf=3, clf__min_samples_split=4, clf__splitter=random, total=   0.1s\n",
      "[CV] clf__criterion=gini, clf__max_depth=None, clf__min_samples_leaf=3, clf__min_samples_split=4, clf__splitter=random \n",
      "[CV]  clf__criterion=gini, clf__max_depth=None, clf__min_samples_leaf=3, clf__min_samples_split=4, clf__splitter=random, total=   0.1s\n",
      "[CV] clf__criterion=gini, clf__max_depth=None, clf__min_samples_leaf=3, clf__min_samples_split=4, clf__splitter=random \n",
      "[CV]  clf__criterion=gini, clf__max_depth=None, clf__min_samples_leaf=3, clf__min_samples_split=4, clf__splitter=random, total=   0.1s\n",
      "[CV] clf__criterion=gini, clf__max_depth=None, clf__min_samples_leaf=3, clf__min_samples_split=8, clf__splitter=best \n",
      "[CV]  clf__criterion=gini, clf__max_depth=None, clf__min_samples_leaf=3, clf__min_samples_split=8, clf__splitter=best, total=   0.5s\n",
      "[CV] clf__criterion=gini, clf__max_depth=None, clf__min_samples_leaf=3, clf__min_samples_split=8, clf__splitter=best \n",
      "[CV]  clf__criterion=gini, clf__max_depth=None, clf__min_samples_leaf=3, clf__min_samples_split=8, clf__splitter=best, total=   0.5s\n",
      "[CV] clf__criterion=gini, clf__max_depth=None, clf__min_samples_leaf=3, clf__min_samples_split=8, clf__splitter=best \n",
      "[CV]  clf__criterion=gini, clf__max_depth=None, clf__min_samples_leaf=3, clf__min_samples_split=8, clf__splitter=best, total=   0.5s\n",
      "[CV] clf__criterion=gini, clf__max_depth=None, clf__min_samples_leaf=3, clf__min_samples_split=8, clf__splitter=random \n",
      "[CV]  clf__criterion=gini, clf__max_depth=None, clf__min_samples_leaf=3, clf__min_samples_split=8, clf__splitter=random, total=   0.1s\n",
      "[CV] clf__criterion=gini, clf__max_depth=None, clf__min_samples_leaf=3, clf__min_samples_split=8, clf__splitter=random \n",
      "[CV]  clf__criterion=gini, clf__max_depth=None, clf__min_samples_leaf=3, clf__min_samples_split=8, clf__splitter=random, total=   0.1s\n",
      "[CV] clf__criterion=gini, clf__max_depth=None, clf__min_samples_leaf=3, clf__min_samples_split=8, clf__splitter=random \n",
      "[CV]  clf__criterion=gini, clf__max_depth=None, clf__min_samples_leaf=3, clf__min_samples_split=8, clf__splitter=random, total=   0.1s\n",
      "[CV] clf__criterion=gini, clf__max_depth=None, clf__min_samples_leaf=5, clf__min_samples_split=2, clf__splitter=best \n",
      "[CV]  clf__criterion=gini, clf__max_depth=None, clf__min_samples_leaf=5, clf__min_samples_split=2, clf__splitter=best, total=   0.5s\n",
      "[CV] clf__criterion=gini, clf__max_depth=None, clf__min_samples_leaf=5, clf__min_samples_split=2, clf__splitter=best \n",
      "[CV]  clf__criterion=gini, clf__max_depth=None, clf__min_samples_leaf=5, clf__min_samples_split=2, clf__splitter=best, total=   0.6s\n",
      "[CV] clf__criterion=gini, clf__max_depth=None, clf__min_samples_leaf=5, clf__min_samples_split=2, clf__splitter=best \n",
      "[CV]  clf__criterion=gini, clf__max_depth=None, clf__min_samples_leaf=5, clf__min_samples_split=2, clf__splitter=best, total=   0.5s\n",
      "[CV] clf__criterion=gini, clf__max_depth=None, clf__min_samples_leaf=5, clf__min_samples_split=2, clf__splitter=random \n",
      "[CV]  clf__criterion=gini, clf__max_depth=None, clf__min_samples_leaf=5, clf__min_samples_split=2, clf__splitter=random, total=   0.0s\n",
      "[CV] clf__criterion=gini, clf__max_depth=None, clf__min_samples_leaf=5, clf__min_samples_split=2, clf__splitter=random \n",
      "[CV]  clf__criterion=gini, clf__max_depth=None, clf__min_samples_leaf=5, clf__min_samples_split=2, clf__splitter=random, total=   0.1s\n",
      "[CV] clf__criterion=gini, clf__max_depth=None, clf__min_samples_leaf=5, clf__min_samples_split=2, clf__splitter=random \n",
      "[CV]  clf__criterion=gini, clf__max_depth=None, clf__min_samples_leaf=5, clf__min_samples_split=2, clf__splitter=random, total=   0.1s\n",
      "[CV] clf__criterion=gini, clf__max_depth=None, clf__min_samples_leaf=5, clf__min_samples_split=4, clf__splitter=best \n",
      "[CV]  clf__criterion=gini, clf__max_depth=None, clf__min_samples_leaf=5, clf__min_samples_split=4, clf__splitter=best, total=   0.4s\n",
      "[CV] clf__criterion=gini, clf__max_depth=None, clf__min_samples_leaf=5, clf__min_samples_split=4, clf__splitter=best \n",
      "[CV]  clf__criterion=gini, clf__max_depth=None, clf__min_samples_leaf=5, clf__min_samples_split=4, clf__splitter=best, total=   0.4s\n",
      "[CV] clf__criterion=gini, clf__max_depth=None, clf__min_samples_leaf=5, clf__min_samples_split=4, clf__splitter=best \n",
      "[CV]  clf__criterion=gini, clf__max_depth=None, clf__min_samples_leaf=5, clf__min_samples_split=4, clf__splitter=best, total=   0.4s\n",
      "[CV] clf__criterion=gini, clf__max_depth=None, clf__min_samples_leaf=5, clf__min_samples_split=4, clf__splitter=random \n",
      "[CV]  clf__criterion=gini, clf__max_depth=None, clf__min_samples_leaf=5, clf__min_samples_split=4, clf__splitter=random, total=   0.1s\n",
      "[CV] clf__criterion=gini, clf__max_depth=None, clf__min_samples_leaf=5, clf__min_samples_split=4, clf__splitter=random \n",
      "[CV]  clf__criterion=gini, clf__max_depth=None, clf__min_samples_leaf=5, clf__min_samples_split=4, clf__splitter=random, total=   0.1s\n",
      "[CV] clf__criterion=gini, clf__max_depth=None, clf__min_samples_leaf=5, clf__min_samples_split=4, clf__splitter=random \n",
      "[CV]  clf__criterion=gini, clf__max_depth=None, clf__min_samples_leaf=5, clf__min_samples_split=4, clf__splitter=random, total=   0.1s\n",
      "[CV] clf__criterion=gini, clf__max_depth=None, clf__min_samples_leaf=5, clf__min_samples_split=8, clf__splitter=best \n",
      "[CV]  clf__criterion=gini, clf__max_depth=None, clf__min_samples_leaf=5, clf__min_samples_split=8, clf__splitter=best, total=   0.4s\n",
      "[CV] clf__criterion=gini, clf__max_depth=None, clf__min_samples_leaf=5, clf__min_samples_split=8, clf__splitter=best \n",
      "[CV]  clf__criterion=gini, clf__max_depth=None, clf__min_samples_leaf=5, clf__min_samples_split=8, clf__splitter=best, total=   0.4s\n",
      "[CV] clf__criterion=gini, clf__max_depth=None, clf__min_samples_leaf=5, clf__min_samples_split=8, clf__splitter=best \n",
      "[CV]  clf__criterion=gini, clf__max_depth=None, clf__min_samples_leaf=5, clf__min_samples_split=8, clf__splitter=best, total=   0.4s\n",
      "[CV] clf__criterion=gini, clf__max_depth=None, clf__min_samples_leaf=5, clf__min_samples_split=8, clf__splitter=random \n",
      "[CV]  clf__criterion=gini, clf__max_depth=None, clf__min_samples_leaf=5, clf__min_samples_split=8, clf__splitter=random, total=   0.1s\n",
      "[CV] clf__criterion=gini, clf__max_depth=None, clf__min_samples_leaf=5, clf__min_samples_split=8, clf__splitter=random \n",
      "[CV]  clf__criterion=gini, clf__max_depth=None, clf__min_samples_leaf=5, clf__min_samples_split=8, clf__splitter=random, total=   0.1s\n",
      "[CV] clf__criterion=gini, clf__max_depth=None, clf__min_samples_leaf=5, clf__min_samples_split=8, clf__splitter=random \n",
      "[CV]  clf__criterion=gini, clf__max_depth=None, clf__min_samples_leaf=5, clf__min_samples_split=8, clf__splitter=random, total=   0.1s\n",
      "[CV] clf__criterion=gini, clf__max_depth=2, clf__min_samples_leaf=1, clf__min_samples_split=2, clf__splitter=best \n",
      "[CV]  clf__criterion=gini, clf__max_depth=2, clf__min_samples_leaf=1, clf__min_samples_split=2, clf__splitter=best, total=   0.1s\n",
      "[CV] clf__criterion=gini, clf__max_depth=2, clf__min_samples_leaf=1, clf__min_samples_split=2, clf__splitter=best \n",
      "[CV]  clf__criterion=gini, clf__max_depth=2, clf__min_samples_leaf=1, clf__min_samples_split=2, clf__splitter=best, total=   0.1s\n",
      "[CV] clf__criterion=gini, clf__max_depth=2, clf__min_samples_leaf=1, clf__min_samples_split=2, clf__splitter=best \n"
     ]
    },
    {
     "name": "stderr",
     "output_type": "stream",
     "text": [
      "/anaconda3/lib/python3.7/site-packages/sklearn/metrics/classification.py:1143: UndefinedMetricWarning: F-score is ill-defined and being set to 0.0 in labels with no predicted samples.\n",
      "  'precision', 'predicted', average, warn_for)\n",
      "/anaconda3/lib/python3.7/site-packages/sklearn/metrics/classification.py:1143: UndefinedMetricWarning: F-score is ill-defined and being set to 0.0 in labels with no predicted samples.\n",
      "  'precision', 'predicted', average, warn_for)\n",
      "/anaconda3/lib/python3.7/site-packages/sklearn/metrics/classification.py:1143: UndefinedMetricWarning: F-score is ill-defined and being set to 0.0 in labels with no predicted samples.\n",
      "  'precision', 'predicted', average, warn_for)\n",
      "/anaconda3/lib/python3.7/site-packages/sklearn/metrics/classification.py:1143: UndefinedMetricWarning: F-score is ill-defined and being set to 0.0 in labels with no predicted samples.\n",
      "  'precision', 'predicted', average, warn_for)\n",
      "/anaconda3/lib/python3.7/site-packages/sklearn/metrics/classification.py:1143: UndefinedMetricWarning: F-score is ill-defined and being set to 0.0 in labels with no predicted samples.\n",
      "  'precision', 'predicted', average, warn_for)\n",
      "/anaconda3/lib/python3.7/site-packages/sklearn/metrics/classification.py:1143: UndefinedMetricWarning: F-score is ill-defined and being set to 0.0 in labels with no predicted samples.\n",
      "  'precision', 'predicted', average, warn_for)\n"
     ]
    },
    {
     "name": "stdout",
     "output_type": "stream",
     "text": [
      "[CV]  clf__criterion=gini, clf__max_depth=2, clf__min_samples_leaf=1, clf__min_samples_split=2, clf__splitter=best, total=   0.1s\n",
      "[CV] clf__criterion=gini, clf__max_depth=2, clf__min_samples_leaf=1, clf__min_samples_split=2, clf__splitter=random \n",
      "[CV]  clf__criterion=gini, clf__max_depth=2, clf__min_samples_leaf=1, clf__min_samples_split=2, clf__splitter=random, total=   0.0s\n",
      "[CV] clf__criterion=gini, clf__max_depth=2, clf__min_samples_leaf=1, clf__min_samples_split=2, clf__splitter=random \n",
      "[CV]  clf__criterion=gini, clf__max_depth=2, clf__min_samples_leaf=1, clf__min_samples_split=2, clf__splitter=random, total=   0.0s\n",
      "[CV] clf__criterion=gini, clf__max_depth=2, clf__min_samples_leaf=1, clf__min_samples_split=2, clf__splitter=random \n",
      "[CV]  clf__criterion=gini, clf__max_depth=2, clf__min_samples_leaf=1, clf__min_samples_split=2, clf__splitter=random, total=   0.0s\n",
      "[CV] clf__criterion=gini, clf__max_depth=2, clf__min_samples_leaf=1, clf__min_samples_split=4, clf__splitter=best \n",
      "[CV]  clf__criterion=gini, clf__max_depth=2, clf__min_samples_leaf=1, clf__min_samples_split=4, clf__splitter=best, total=   0.1s\n",
      "[CV] clf__criterion=gini, clf__max_depth=2, clf__min_samples_leaf=1, clf__min_samples_split=4, clf__splitter=best \n"
     ]
    },
    {
     "name": "stderr",
     "output_type": "stream",
     "text": [
      "/anaconda3/lib/python3.7/site-packages/sklearn/metrics/classification.py:1143: UndefinedMetricWarning: F-score is ill-defined and being set to 0.0 in labels with no predicted samples.\n",
      "  'precision', 'predicted', average, warn_for)\n",
      "/anaconda3/lib/python3.7/site-packages/sklearn/metrics/classification.py:1143: UndefinedMetricWarning: F-score is ill-defined and being set to 0.0 in labels with no predicted samples.\n",
      "  'precision', 'predicted', average, warn_for)\n",
      "/anaconda3/lib/python3.7/site-packages/sklearn/metrics/classification.py:1143: UndefinedMetricWarning: F-score is ill-defined and being set to 0.0 in labels with no predicted samples.\n",
      "  'precision', 'predicted', average, warn_for)\n",
      "/anaconda3/lib/python3.7/site-packages/sklearn/metrics/classification.py:1143: UndefinedMetricWarning: F-score is ill-defined and being set to 0.0 in labels with no predicted samples.\n",
      "  'precision', 'predicted', average, warn_for)\n",
      "/anaconda3/lib/python3.7/site-packages/sklearn/metrics/classification.py:1143: UndefinedMetricWarning: F-score is ill-defined and being set to 0.0 in labels with no predicted samples.\n",
      "  'precision', 'predicted', average, warn_for)\n",
      "/anaconda3/lib/python3.7/site-packages/sklearn/metrics/classification.py:1143: UndefinedMetricWarning: F-score is ill-defined and being set to 0.0 in labels with no predicted samples.\n",
      "  'precision', 'predicted', average, warn_for)\n",
      "/anaconda3/lib/python3.7/site-packages/sklearn/metrics/classification.py:1143: UndefinedMetricWarning: F-score is ill-defined and being set to 0.0 in labels with no predicted samples.\n",
      "  'precision', 'predicted', average, warn_for)\n",
      "/anaconda3/lib/python3.7/site-packages/sklearn/metrics/classification.py:1143: UndefinedMetricWarning: F-score is ill-defined and being set to 0.0 in labels with no predicted samples.\n",
      "  'precision', 'predicted', average, warn_for)\n",
      "/anaconda3/lib/python3.7/site-packages/sklearn/metrics/classification.py:1143: UndefinedMetricWarning: F-score is ill-defined and being set to 0.0 in labels with no predicted samples.\n",
      "  'precision', 'predicted', average, warn_for)\n",
      "/anaconda3/lib/python3.7/site-packages/sklearn/metrics/classification.py:1143: UndefinedMetricWarning: F-score is ill-defined and being set to 0.0 in labels with no predicted samples.\n",
      "  'precision', 'predicted', average, warn_for)\n",
      "/anaconda3/lib/python3.7/site-packages/sklearn/metrics/classification.py:1143: UndefinedMetricWarning: F-score is ill-defined and being set to 0.0 in labels with no predicted samples.\n",
      "  'precision', 'predicted', average, warn_for)\n",
      "/anaconda3/lib/python3.7/site-packages/sklearn/metrics/classification.py:1143: UndefinedMetricWarning: F-score is ill-defined and being set to 0.0 in labels with no predicted samples.\n",
      "  'precision', 'predicted', average, warn_for)\n",
      "/anaconda3/lib/python3.7/site-packages/sklearn/metrics/classification.py:1143: UndefinedMetricWarning: F-score is ill-defined and being set to 0.0 in labels with no predicted samples.\n",
      "  'precision', 'predicted', average, warn_for)\n",
      "/anaconda3/lib/python3.7/site-packages/sklearn/metrics/classification.py:1143: UndefinedMetricWarning: F-score is ill-defined and being set to 0.0 in labels with no predicted samples.\n",
      "  'precision', 'predicted', average, warn_for)\n"
     ]
    },
    {
     "name": "stdout",
     "output_type": "stream",
     "text": [
      "[CV]  clf__criterion=gini, clf__max_depth=2, clf__min_samples_leaf=1, clf__min_samples_split=4, clf__splitter=best, total=   0.1s\n",
      "[CV] clf__criterion=gini, clf__max_depth=2, clf__min_samples_leaf=1, clf__min_samples_split=4, clf__splitter=best \n",
      "[CV]  clf__criterion=gini, clf__max_depth=2, clf__min_samples_leaf=1, clf__min_samples_split=4, clf__splitter=best, total=   0.1s\n",
      "[CV] clf__criterion=gini, clf__max_depth=2, clf__min_samples_leaf=1, clf__min_samples_split=4, clf__splitter=random \n",
      "[CV]  clf__criterion=gini, clf__max_depth=2, clf__min_samples_leaf=1, clf__min_samples_split=4, clf__splitter=random, total=   0.0s\n",
      "[CV] clf__criterion=gini, clf__max_depth=2, clf__min_samples_leaf=1, clf__min_samples_split=4, clf__splitter=random \n",
      "[CV]  clf__criterion=gini, clf__max_depth=2, clf__min_samples_leaf=1, clf__min_samples_split=4, clf__splitter=random, total=   0.0s\n",
      "[CV] clf__criterion=gini, clf__max_depth=2, clf__min_samples_leaf=1, clf__min_samples_split=4, clf__splitter=random \n",
      "[CV]  clf__criterion=gini, clf__max_depth=2, clf__min_samples_leaf=1, clf__min_samples_split=4, clf__splitter=random, total=   0.0s\n",
      "[CV] clf__criterion=gini, clf__max_depth=2, clf__min_samples_leaf=1, clf__min_samples_split=8, clf__splitter=best \n"
     ]
    },
    {
     "name": "stderr",
     "output_type": "stream",
     "text": [
      "/anaconda3/lib/python3.7/site-packages/sklearn/metrics/classification.py:1143: UndefinedMetricWarning: F-score is ill-defined and being set to 0.0 in labels with no predicted samples.\n",
      "  'precision', 'predicted', average, warn_for)\n",
      "/anaconda3/lib/python3.7/site-packages/sklearn/metrics/classification.py:1143: UndefinedMetricWarning: F-score is ill-defined and being set to 0.0 in labels with no predicted samples.\n",
      "  'precision', 'predicted', average, warn_for)\n",
      "/anaconda3/lib/python3.7/site-packages/sklearn/metrics/classification.py:1143: UndefinedMetricWarning: F-score is ill-defined and being set to 0.0 in labels with no predicted samples.\n",
      "  'precision', 'predicted', average, warn_for)\n",
      "/anaconda3/lib/python3.7/site-packages/sklearn/metrics/classification.py:1143: UndefinedMetricWarning: F-score is ill-defined and being set to 0.0 in labels with no predicted samples.\n",
      "  'precision', 'predicted', average, warn_for)\n",
      "/anaconda3/lib/python3.7/site-packages/sklearn/metrics/classification.py:1143: UndefinedMetricWarning: F-score is ill-defined and being set to 0.0 in labels with no predicted samples.\n",
      "  'precision', 'predicted', average, warn_for)\n",
      "/anaconda3/lib/python3.7/site-packages/sklearn/metrics/classification.py:1143: UndefinedMetricWarning: F-score is ill-defined and being set to 0.0 in labels with no predicted samples.\n",
      "  'precision', 'predicted', average, warn_for)\n"
     ]
    },
    {
     "name": "stdout",
     "output_type": "stream",
     "text": [
      "[CV]  clf__criterion=gini, clf__max_depth=2, clf__min_samples_leaf=1, clf__min_samples_split=8, clf__splitter=best, total=   0.1s\n",
      "[CV] clf__criterion=gini, clf__max_depth=2, clf__min_samples_leaf=1, clf__min_samples_split=8, clf__splitter=best \n",
      "[CV]  clf__criterion=gini, clf__max_depth=2, clf__min_samples_leaf=1, clf__min_samples_split=8, clf__splitter=best, total=   0.1s\n",
      "[CV] clf__criterion=gini, clf__max_depth=2, clf__min_samples_leaf=1, clf__min_samples_split=8, clf__splitter=best \n",
      "[CV]  clf__criterion=gini, clf__max_depth=2, clf__min_samples_leaf=1, clf__min_samples_split=8, clf__splitter=best, total=   0.1s\n",
      "[CV] clf__criterion=gini, clf__max_depth=2, clf__min_samples_leaf=1, clf__min_samples_split=8, clf__splitter=random \n",
      "[CV]  clf__criterion=gini, clf__max_depth=2, clf__min_samples_leaf=1, clf__min_samples_split=8, clf__splitter=random, total=   0.0s\n",
      "[CV] clf__criterion=gini, clf__max_depth=2, clf__min_samples_leaf=1, clf__min_samples_split=8, clf__splitter=random \n",
      "[CV]  clf__criterion=gini, clf__max_depth=2, clf__min_samples_leaf=1, clf__min_samples_split=8, clf__splitter=random, total=   0.0s\n",
      "[CV] clf__criterion=gini, clf__max_depth=2, clf__min_samples_leaf=1, clf__min_samples_split=8, clf__splitter=random \n",
      "[CV]  clf__criterion=gini, clf__max_depth=2, clf__min_samples_leaf=1, clf__min_samples_split=8, clf__splitter=random, total=   0.0s\n",
      "[CV] clf__criterion=gini, clf__max_depth=2, clf__min_samples_leaf=3, clf__min_samples_split=2, clf__splitter=best \n",
      "[CV]  clf__criterion=gini, clf__max_depth=2, clf__min_samples_leaf=3, clf__min_samples_split=2, clf__splitter=best, total=   0.1s\n",
      "[CV] clf__criterion=gini, clf__max_depth=2, clf__min_samples_leaf=3, clf__min_samples_split=2, clf__splitter=best \n"
     ]
    },
    {
     "name": "stderr",
     "output_type": "stream",
     "text": [
      "/anaconda3/lib/python3.7/site-packages/sklearn/metrics/classification.py:1143: UndefinedMetricWarning: F-score is ill-defined and being set to 0.0 in labels with no predicted samples.\n",
      "  'precision', 'predicted', average, warn_for)\n",
      "/anaconda3/lib/python3.7/site-packages/sklearn/metrics/classification.py:1143: UndefinedMetricWarning: F-score is ill-defined and being set to 0.0 in labels with no predicted samples.\n",
      "  'precision', 'predicted', average, warn_for)\n",
      "/anaconda3/lib/python3.7/site-packages/sklearn/metrics/classification.py:1143: UndefinedMetricWarning: F-score is ill-defined and being set to 0.0 in labels with no predicted samples.\n",
      "  'precision', 'predicted', average, warn_for)\n",
      "/anaconda3/lib/python3.7/site-packages/sklearn/metrics/classification.py:1143: UndefinedMetricWarning: F-score is ill-defined and being set to 0.0 in labels with no predicted samples.\n",
      "  'precision', 'predicted', average, warn_for)\n",
      "/anaconda3/lib/python3.7/site-packages/sklearn/metrics/classification.py:1143: UndefinedMetricWarning: F-score is ill-defined and being set to 0.0 in labels with no predicted samples.\n",
      "  'precision', 'predicted', average, warn_for)\n",
      "/anaconda3/lib/python3.7/site-packages/sklearn/metrics/classification.py:1143: UndefinedMetricWarning: F-score is ill-defined and being set to 0.0 in labels with no predicted samples.\n",
      "  'precision', 'predicted', average, warn_for)\n",
      "/anaconda3/lib/python3.7/site-packages/sklearn/metrics/classification.py:1143: UndefinedMetricWarning: F-score is ill-defined and being set to 0.0 in labels with no predicted samples.\n",
      "  'precision', 'predicted', average, warn_for)\n",
      "/anaconda3/lib/python3.7/site-packages/sklearn/metrics/classification.py:1143: UndefinedMetricWarning: F-score is ill-defined and being set to 0.0 in labels with no predicted samples.\n",
      "  'precision', 'predicted', average, warn_for)\n",
      "/anaconda3/lib/python3.7/site-packages/sklearn/metrics/classification.py:1143: UndefinedMetricWarning: F-score is ill-defined and being set to 0.0 in labels with no predicted samples.\n",
      "  'precision', 'predicted', average, warn_for)\n",
      "/anaconda3/lib/python3.7/site-packages/sklearn/metrics/classification.py:1143: UndefinedMetricWarning: F-score is ill-defined and being set to 0.0 in labels with no predicted samples.\n",
      "  'precision', 'predicted', average, warn_for)\n",
      "/anaconda3/lib/python3.7/site-packages/sklearn/metrics/classification.py:1143: UndefinedMetricWarning: F-score is ill-defined and being set to 0.0 in labels with no predicted samples.\n",
      "  'precision', 'predicted', average, warn_for)\n",
      "/anaconda3/lib/python3.7/site-packages/sklearn/metrics/classification.py:1143: UndefinedMetricWarning: F-score is ill-defined and being set to 0.0 in labels with no predicted samples.\n",
      "  'precision', 'predicted', average, warn_for)\n",
      "/anaconda3/lib/python3.7/site-packages/sklearn/metrics/classification.py:1143: UndefinedMetricWarning: F-score is ill-defined and being set to 0.0 in labels with no predicted samples.\n",
      "  'precision', 'predicted', average, warn_for)\n",
      "/anaconda3/lib/python3.7/site-packages/sklearn/metrics/classification.py:1143: UndefinedMetricWarning: F-score is ill-defined and being set to 0.0 in labels with no predicted samples.\n",
      "  'precision', 'predicted', average, warn_for)\n"
     ]
    },
    {
     "name": "stdout",
     "output_type": "stream",
     "text": [
      "[CV]  clf__criterion=gini, clf__max_depth=2, clf__min_samples_leaf=3, clf__min_samples_split=2, clf__splitter=best, total=   0.1s\n",
      "[CV] clf__criterion=gini, clf__max_depth=2, clf__min_samples_leaf=3, clf__min_samples_split=2, clf__splitter=best \n",
      "[CV]  clf__criterion=gini, clf__max_depth=2, clf__min_samples_leaf=3, clf__min_samples_split=2, clf__splitter=best, total=   0.1s\n",
      "[CV] clf__criterion=gini, clf__max_depth=2, clf__min_samples_leaf=3, clf__min_samples_split=2, clf__splitter=random \n",
      "[CV]  clf__criterion=gini, clf__max_depth=2, clf__min_samples_leaf=3, clf__min_samples_split=2, clf__splitter=random, total=   0.0s\n",
      "[CV] clf__criterion=gini, clf__max_depth=2, clf__min_samples_leaf=3, clf__min_samples_split=2, clf__splitter=random \n",
      "[CV]  clf__criterion=gini, clf__max_depth=2, clf__min_samples_leaf=3, clf__min_samples_split=2, clf__splitter=random, total=   0.0s\n",
      "[CV] clf__criterion=gini, clf__max_depth=2, clf__min_samples_leaf=3, clf__min_samples_split=2, clf__splitter=random \n",
      "[CV]  clf__criterion=gini, clf__max_depth=2, clf__min_samples_leaf=3, clf__min_samples_split=2, clf__splitter=random, total=   0.0s\n",
      "[CV] clf__criterion=gini, clf__max_depth=2, clf__min_samples_leaf=3, clf__min_samples_split=4, clf__splitter=best \n"
     ]
    },
    {
     "name": "stderr",
     "output_type": "stream",
     "text": [
      "/anaconda3/lib/python3.7/site-packages/sklearn/metrics/classification.py:1143: UndefinedMetricWarning: F-score is ill-defined and being set to 0.0 in labels with no predicted samples.\n",
      "  'precision', 'predicted', average, warn_for)\n",
      "/anaconda3/lib/python3.7/site-packages/sklearn/metrics/classification.py:1143: UndefinedMetricWarning: F-score is ill-defined and being set to 0.0 in labels with no predicted samples.\n",
      "  'precision', 'predicted', average, warn_for)\n",
      "/anaconda3/lib/python3.7/site-packages/sklearn/metrics/classification.py:1143: UndefinedMetricWarning: F-score is ill-defined and being set to 0.0 in labels with no predicted samples.\n",
      "  'precision', 'predicted', average, warn_for)\n",
      "/anaconda3/lib/python3.7/site-packages/sklearn/metrics/classification.py:1143: UndefinedMetricWarning: F-score is ill-defined and being set to 0.0 in labels with no predicted samples.\n",
      "  'precision', 'predicted', average, warn_for)\n",
      "/anaconda3/lib/python3.7/site-packages/sklearn/metrics/classification.py:1143: UndefinedMetricWarning: F-score is ill-defined and being set to 0.0 in labels with no predicted samples.\n",
      "  'precision', 'predicted', average, warn_for)\n",
      "/anaconda3/lib/python3.7/site-packages/sklearn/metrics/classification.py:1143: UndefinedMetricWarning: F-score is ill-defined and being set to 0.0 in labels with no predicted samples.\n",
      "  'precision', 'predicted', average, warn_for)\n"
     ]
    },
    {
     "name": "stdout",
     "output_type": "stream",
     "text": [
      "[CV]  clf__criterion=gini, clf__max_depth=2, clf__min_samples_leaf=3, clf__min_samples_split=4, clf__splitter=best, total=   0.1s\n",
      "[CV] clf__criterion=gini, clf__max_depth=2, clf__min_samples_leaf=3, clf__min_samples_split=4, clf__splitter=best \n",
      "[CV]  clf__criterion=gini, clf__max_depth=2, clf__min_samples_leaf=3, clf__min_samples_split=4, clf__splitter=best, total=   0.1s\n",
      "[CV] clf__criterion=gini, clf__max_depth=2, clf__min_samples_leaf=3, clf__min_samples_split=4, clf__splitter=best \n",
      "[CV]  clf__criterion=gini, clf__max_depth=2, clf__min_samples_leaf=3, clf__min_samples_split=4, clf__splitter=best, total=   0.1s\n",
      "[CV] clf__criterion=gini, clf__max_depth=2, clf__min_samples_leaf=3, clf__min_samples_split=4, clf__splitter=random \n",
      "[CV]  clf__criterion=gini, clf__max_depth=2, clf__min_samples_leaf=3, clf__min_samples_split=4, clf__splitter=random, total=   0.0s\n",
      "[CV] clf__criterion=gini, clf__max_depth=2, clf__min_samples_leaf=3, clf__min_samples_split=4, clf__splitter=random \n",
      "[CV]  clf__criterion=gini, clf__max_depth=2, clf__min_samples_leaf=3, clf__min_samples_split=4, clf__splitter=random, total=   0.0s\n",
      "[CV] clf__criterion=gini, clf__max_depth=2, clf__min_samples_leaf=3, clf__min_samples_split=4, clf__splitter=random \n",
      "[CV]  clf__criterion=gini, clf__max_depth=2, clf__min_samples_leaf=3, clf__min_samples_split=4, clf__splitter=random, total=   0.0s\n",
      "[CV] clf__criterion=gini, clf__max_depth=2, clf__min_samples_leaf=3, clf__min_samples_split=8, clf__splitter=best \n",
      "[CV]  clf__criterion=gini, clf__max_depth=2, clf__min_samples_leaf=3, clf__min_samples_split=8, clf__splitter=best, total=   0.1s\n",
      "[CV] clf__criterion=gini, clf__max_depth=2, clf__min_samples_leaf=3, clf__min_samples_split=8, clf__splitter=best \n"
     ]
    },
    {
     "name": "stderr",
     "output_type": "stream",
     "text": [
      "/anaconda3/lib/python3.7/site-packages/sklearn/metrics/classification.py:1143: UndefinedMetricWarning: F-score is ill-defined and being set to 0.0 in labels with no predicted samples.\n",
      "  'precision', 'predicted', average, warn_for)\n",
      "/anaconda3/lib/python3.7/site-packages/sklearn/metrics/classification.py:1143: UndefinedMetricWarning: F-score is ill-defined and being set to 0.0 in labels with no predicted samples.\n",
      "  'precision', 'predicted', average, warn_for)\n",
      "/anaconda3/lib/python3.7/site-packages/sklearn/metrics/classification.py:1143: UndefinedMetricWarning: F-score is ill-defined and being set to 0.0 in labels with no predicted samples.\n",
      "  'precision', 'predicted', average, warn_for)\n",
      "/anaconda3/lib/python3.7/site-packages/sklearn/metrics/classification.py:1143: UndefinedMetricWarning: F-score is ill-defined and being set to 0.0 in labels with no predicted samples.\n",
      "  'precision', 'predicted', average, warn_for)\n",
      "/anaconda3/lib/python3.7/site-packages/sklearn/metrics/classification.py:1143: UndefinedMetricWarning: F-score is ill-defined and being set to 0.0 in labels with no predicted samples.\n",
      "  'precision', 'predicted', average, warn_for)\n",
      "/anaconda3/lib/python3.7/site-packages/sklearn/metrics/classification.py:1143: UndefinedMetricWarning: F-score is ill-defined and being set to 0.0 in labels with no predicted samples.\n",
      "  'precision', 'predicted', average, warn_for)\n",
      "/anaconda3/lib/python3.7/site-packages/sklearn/metrics/classification.py:1143: UndefinedMetricWarning: F-score is ill-defined and being set to 0.0 in labels with no predicted samples.\n",
      "  'precision', 'predicted', average, warn_for)\n",
      "/anaconda3/lib/python3.7/site-packages/sklearn/metrics/classification.py:1143: UndefinedMetricWarning: F-score is ill-defined and being set to 0.0 in labels with no predicted samples.\n",
      "  'precision', 'predicted', average, warn_for)\n",
      "/anaconda3/lib/python3.7/site-packages/sklearn/metrics/classification.py:1143: UndefinedMetricWarning: F-score is ill-defined and being set to 0.0 in labels with no predicted samples.\n",
      "  'precision', 'predicted', average, warn_for)\n",
      "/anaconda3/lib/python3.7/site-packages/sklearn/metrics/classification.py:1143: UndefinedMetricWarning: F-score is ill-defined and being set to 0.0 in labels with no predicted samples.\n",
      "  'precision', 'predicted', average, warn_for)\n",
      "/anaconda3/lib/python3.7/site-packages/sklearn/metrics/classification.py:1143: UndefinedMetricWarning: F-score is ill-defined and being set to 0.0 in labels with no predicted samples.\n",
      "  'precision', 'predicted', average, warn_for)\n",
      "/anaconda3/lib/python3.7/site-packages/sklearn/metrics/classification.py:1143: UndefinedMetricWarning: F-score is ill-defined and being set to 0.0 in labels with no predicted samples.\n",
      "  'precision', 'predicted', average, warn_for)\n"
     ]
    },
    {
     "name": "stdout",
     "output_type": "stream",
     "text": [
      "[CV]  clf__criterion=gini, clf__max_depth=2, clf__min_samples_leaf=3, clf__min_samples_split=8, clf__splitter=best, total=   0.1s\n",
      "[CV] clf__criterion=gini, clf__max_depth=2, clf__min_samples_leaf=3, clf__min_samples_split=8, clf__splitter=best \n",
      "[CV]  clf__criterion=gini, clf__max_depth=2, clf__min_samples_leaf=3, clf__min_samples_split=8, clf__splitter=best, total=   0.1s\n",
      "[CV] clf__criterion=gini, clf__max_depth=2, clf__min_samples_leaf=3, clf__min_samples_split=8, clf__splitter=random \n",
      "[CV]  clf__criterion=gini, clf__max_depth=2, clf__min_samples_leaf=3, clf__min_samples_split=8, clf__splitter=random, total=   0.0s\n",
      "[CV] clf__criterion=gini, clf__max_depth=2, clf__min_samples_leaf=3, clf__min_samples_split=8, clf__splitter=random \n",
      "[CV]  clf__criterion=gini, clf__max_depth=2, clf__min_samples_leaf=3, clf__min_samples_split=8, clf__splitter=random, total=   0.0s\n",
      "[CV] clf__criterion=gini, clf__max_depth=2, clf__min_samples_leaf=3, clf__min_samples_split=8, clf__splitter=random \n",
      "[CV]  clf__criterion=gini, clf__max_depth=2, clf__min_samples_leaf=3, clf__min_samples_split=8, clf__splitter=random, total=   0.0s\n",
      "[CV] clf__criterion=gini, clf__max_depth=2, clf__min_samples_leaf=5, clf__min_samples_split=2, clf__splitter=best \n"
     ]
    },
    {
     "name": "stderr",
     "output_type": "stream",
     "text": [
      "/anaconda3/lib/python3.7/site-packages/sklearn/metrics/classification.py:1143: UndefinedMetricWarning: F-score is ill-defined and being set to 0.0 in labels with no predicted samples.\n",
      "  'precision', 'predicted', average, warn_for)\n",
      "/anaconda3/lib/python3.7/site-packages/sklearn/metrics/classification.py:1143: UndefinedMetricWarning: F-score is ill-defined and being set to 0.0 in labels with no predicted samples.\n",
      "  'precision', 'predicted', average, warn_for)\n",
      "/anaconda3/lib/python3.7/site-packages/sklearn/metrics/classification.py:1143: UndefinedMetricWarning: F-score is ill-defined and being set to 0.0 in labels with no predicted samples.\n",
      "  'precision', 'predicted', average, warn_for)\n",
      "/anaconda3/lib/python3.7/site-packages/sklearn/metrics/classification.py:1143: UndefinedMetricWarning: F-score is ill-defined and being set to 0.0 in labels with no predicted samples.\n",
      "  'precision', 'predicted', average, warn_for)\n",
      "/anaconda3/lib/python3.7/site-packages/sklearn/metrics/classification.py:1143: UndefinedMetricWarning: F-score is ill-defined and being set to 0.0 in labels with no predicted samples.\n",
      "  'precision', 'predicted', average, warn_for)\n",
      "/anaconda3/lib/python3.7/site-packages/sklearn/metrics/classification.py:1143: UndefinedMetricWarning: F-score is ill-defined and being set to 0.0 in labels with no predicted samples.\n",
      "  'precision', 'predicted', average, warn_for)\n"
     ]
    },
    {
     "name": "stdout",
     "output_type": "stream",
     "text": [
      "[CV]  clf__criterion=gini, clf__max_depth=2, clf__min_samples_leaf=5, clf__min_samples_split=2, clf__splitter=best, total=   0.1s\n",
      "[CV] clf__criterion=gini, clf__max_depth=2, clf__min_samples_leaf=5, clf__min_samples_split=2, clf__splitter=best \n",
      "[CV]  clf__criterion=gini, clf__max_depth=2, clf__min_samples_leaf=5, clf__min_samples_split=2, clf__splitter=best, total=   0.1s\n",
      "[CV] clf__criterion=gini, clf__max_depth=2, clf__min_samples_leaf=5, clf__min_samples_split=2, clf__splitter=best \n",
      "[CV]  clf__criterion=gini, clf__max_depth=2, clf__min_samples_leaf=5, clf__min_samples_split=2, clf__splitter=best, total=   0.1s\n",
      "[CV] clf__criterion=gini, clf__max_depth=2, clf__min_samples_leaf=5, clf__min_samples_split=2, clf__splitter=random \n"
     ]
    },
    {
     "name": "stderr",
     "output_type": "stream",
     "text": [
      "/anaconda3/lib/python3.7/site-packages/sklearn/metrics/classification.py:1143: UndefinedMetricWarning: F-score is ill-defined and being set to 0.0 in labels with no predicted samples.\n",
      "  'precision', 'predicted', average, warn_for)\n",
      "/anaconda3/lib/python3.7/site-packages/sklearn/metrics/classification.py:1143: UndefinedMetricWarning: F-score is ill-defined and being set to 0.0 in labels with no predicted samples.\n",
      "  'precision', 'predicted', average, warn_for)\n",
      "/anaconda3/lib/python3.7/site-packages/sklearn/metrics/classification.py:1143: UndefinedMetricWarning: F-score is ill-defined and being set to 0.0 in labels with no predicted samples.\n",
      "  'precision', 'predicted', average, warn_for)\n",
      "/anaconda3/lib/python3.7/site-packages/sklearn/metrics/classification.py:1143: UndefinedMetricWarning: F-score is ill-defined and being set to 0.0 in labels with no predicted samples.\n",
      "  'precision', 'predicted', average, warn_for)\n",
      "/anaconda3/lib/python3.7/site-packages/sklearn/metrics/classification.py:1143: UndefinedMetricWarning: F-score is ill-defined and being set to 0.0 in labels with no predicted samples.\n",
      "  'precision', 'predicted', average, warn_for)\n",
      "/anaconda3/lib/python3.7/site-packages/sklearn/metrics/classification.py:1143: UndefinedMetricWarning: F-score is ill-defined and being set to 0.0 in labels with no predicted samples.\n",
      "  'precision', 'predicted', average, warn_for)\n"
     ]
    },
    {
     "name": "stdout",
     "output_type": "stream",
     "text": [
      "[CV]  clf__criterion=gini, clf__max_depth=2, clf__min_samples_leaf=5, clf__min_samples_split=2, clf__splitter=random, total=   0.0s\n",
      "[CV] clf__criterion=gini, clf__max_depth=2, clf__min_samples_leaf=5, clf__min_samples_split=2, clf__splitter=random \n",
      "[CV]  clf__criterion=gini, clf__max_depth=2, clf__min_samples_leaf=5, clf__min_samples_split=2, clf__splitter=random, total=   0.0s\n",
      "[CV] clf__criterion=gini, clf__max_depth=2, clf__min_samples_leaf=5, clf__min_samples_split=2, clf__splitter=random \n",
      "[CV]  clf__criterion=gini, clf__max_depth=2, clf__min_samples_leaf=5, clf__min_samples_split=2, clf__splitter=random, total=   0.0s\n",
      "[CV] clf__criterion=gini, clf__max_depth=2, clf__min_samples_leaf=5, clf__min_samples_split=4, clf__splitter=best \n",
      "[CV]  clf__criterion=gini, clf__max_depth=2, clf__min_samples_leaf=5, clf__min_samples_split=4, clf__splitter=best, total=   0.1s\n",
      "[CV] clf__criterion=gini, clf__max_depth=2, clf__min_samples_leaf=5, clf__min_samples_split=4, clf__splitter=best \n"
     ]
    },
    {
     "name": "stderr",
     "output_type": "stream",
     "text": [
      "/anaconda3/lib/python3.7/site-packages/sklearn/metrics/classification.py:1143: UndefinedMetricWarning: F-score is ill-defined and being set to 0.0 in labels with no predicted samples.\n",
      "  'precision', 'predicted', average, warn_for)\n",
      "/anaconda3/lib/python3.7/site-packages/sklearn/metrics/classification.py:1143: UndefinedMetricWarning: F-score is ill-defined and being set to 0.0 in labels with no predicted samples.\n",
      "  'precision', 'predicted', average, warn_for)\n",
      "/anaconda3/lib/python3.7/site-packages/sklearn/metrics/classification.py:1143: UndefinedMetricWarning: F-score is ill-defined and being set to 0.0 in labels with no predicted samples.\n",
      "  'precision', 'predicted', average, warn_for)\n",
      "/anaconda3/lib/python3.7/site-packages/sklearn/metrics/classification.py:1143: UndefinedMetricWarning: F-score is ill-defined and being set to 0.0 in labels with no predicted samples.\n",
      "  'precision', 'predicted', average, warn_for)\n",
      "/anaconda3/lib/python3.7/site-packages/sklearn/metrics/classification.py:1143: UndefinedMetricWarning: F-score is ill-defined and being set to 0.0 in labels with no predicted samples.\n",
      "  'precision', 'predicted', average, warn_for)\n",
      "/anaconda3/lib/python3.7/site-packages/sklearn/metrics/classification.py:1143: UndefinedMetricWarning: F-score is ill-defined and being set to 0.0 in labels with no predicted samples.\n",
      "  'precision', 'predicted', average, warn_for)\n",
      "/anaconda3/lib/python3.7/site-packages/sklearn/metrics/classification.py:1143: UndefinedMetricWarning: F-score is ill-defined and being set to 0.0 in labels with no predicted samples.\n",
      "  'precision', 'predicted', average, warn_for)\n",
      "/anaconda3/lib/python3.7/site-packages/sklearn/metrics/classification.py:1143: UndefinedMetricWarning: F-score is ill-defined and being set to 0.0 in labels with no predicted samples.\n",
      "  'precision', 'predicted', average, warn_for)\n"
     ]
    },
    {
     "name": "stdout",
     "output_type": "stream",
     "text": [
      "[CV]  clf__criterion=gini, clf__max_depth=2, clf__min_samples_leaf=5, clf__min_samples_split=4, clf__splitter=best, total=   0.1s\n",
      "[CV] clf__criterion=gini, clf__max_depth=2, clf__min_samples_leaf=5, clf__min_samples_split=4, clf__splitter=best \n",
      "[CV]  clf__criterion=gini, clf__max_depth=2, clf__min_samples_leaf=5, clf__min_samples_split=4, clf__splitter=best, total=   0.1s\n",
      "[CV] clf__criterion=gini, clf__max_depth=2, clf__min_samples_leaf=5, clf__min_samples_split=4, clf__splitter=random \n",
      "[CV]  clf__criterion=gini, clf__max_depth=2, clf__min_samples_leaf=5, clf__min_samples_split=4, clf__splitter=random, total=   0.0s\n",
      "[CV] clf__criterion=gini, clf__max_depth=2, clf__min_samples_leaf=5, clf__min_samples_split=4, clf__splitter=random \n",
      "[CV]  clf__criterion=gini, clf__max_depth=2, clf__min_samples_leaf=5, clf__min_samples_split=4, clf__splitter=random, total=   0.0s\n",
      "[CV] clf__criterion=gini, clf__max_depth=2, clf__min_samples_leaf=5, clf__min_samples_split=4, clf__splitter=random \n",
      "[CV]  clf__criterion=gini, clf__max_depth=2, clf__min_samples_leaf=5, clf__min_samples_split=4, clf__splitter=random, total=   0.0s\n",
      "[CV] clf__criterion=gini, clf__max_depth=2, clf__min_samples_leaf=5, clf__min_samples_split=8, clf__splitter=best \n"
     ]
    },
    {
     "name": "stderr",
     "output_type": "stream",
     "text": [
      "/anaconda3/lib/python3.7/site-packages/sklearn/metrics/classification.py:1143: UndefinedMetricWarning: F-score is ill-defined and being set to 0.0 in labels with no predicted samples.\n",
      "  'precision', 'predicted', average, warn_for)\n",
      "/anaconda3/lib/python3.7/site-packages/sklearn/metrics/classification.py:1143: UndefinedMetricWarning: F-score is ill-defined and being set to 0.0 in labels with no predicted samples.\n",
      "  'precision', 'predicted', average, warn_for)\n",
      "/anaconda3/lib/python3.7/site-packages/sklearn/metrics/classification.py:1143: UndefinedMetricWarning: F-score is ill-defined and being set to 0.0 in labels with no predicted samples.\n",
      "  'precision', 'predicted', average, warn_for)\n",
      "/anaconda3/lib/python3.7/site-packages/sklearn/metrics/classification.py:1143: UndefinedMetricWarning: F-score is ill-defined and being set to 0.0 in labels with no predicted samples.\n",
      "  'precision', 'predicted', average, warn_for)\n",
      "/anaconda3/lib/python3.7/site-packages/sklearn/metrics/classification.py:1143: UndefinedMetricWarning: F-score is ill-defined and being set to 0.0 in labels with no predicted samples.\n",
      "  'precision', 'predicted', average, warn_for)\n",
      "/anaconda3/lib/python3.7/site-packages/sklearn/metrics/classification.py:1143: UndefinedMetricWarning: F-score is ill-defined and being set to 0.0 in labels with no predicted samples.\n",
      "  'precision', 'predicted', average, warn_for)\n"
     ]
    },
    {
     "name": "stdout",
     "output_type": "stream",
     "text": [
      "[CV]  clf__criterion=gini, clf__max_depth=2, clf__min_samples_leaf=5, clf__min_samples_split=8, clf__splitter=best, total=   0.1s\n",
      "[CV] clf__criterion=gini, clf__max_depth=2, clf__min_samples_leaf=5, clf__min_samples_split=8, clf__splitter=best \n",
      "[CV]  clf__criterion=gini, clf__max_depth=2, clf__min_samples_leaf=5, clf__min_samples_split=8, clf__splitter=best, total=   0.1s\n",
      "[CV] clf__criterion=gini, clf__max_depth=2, clf__min_samples_leaf=5, clf__min_samples_split=8, clf__splitter=best \n",
      "[CV]  clf__criterion=gini, clf__max_depth=2, clf__min_samples_leaf=5, clf__min_samples_split=8, clf__splitter=best, total=   0.1s\n",
      "[CV] clf__criterion=gini, clf__max_depth=2, clf__min_samples_leaf=5, clf__min_samples_split=8, clf__splitter=random \n",
      "[CV]  clf__criterion=gini, clf__max_depth=2, clf__min_samples_leaf=5, clf__min_samples_split=8, clf__splitter=random, total=   0.0s\n",
      "[CV] clf__criterion=gini, clf__max_depth=2, clf__min_samples_leaf=5, clf__min_samples_split=8, clf__splitter=random \n"
     ]
    },
    {
     "name": "stderr",
     "output_type": "stream",
     "text": [
      "/anaconda3/lib/python3.7/site-packages/sklearn/metrics/classification.py:1143: UndefinedMetricWarning: F-score is ill-defined and being set to 0.0 in labels with no predicted samples.\n",
      "  'precision', 'predicted', average, warn_for)\n",
      "/anaconda3/lib/python3.7/site-packages/sklearn/metrics/classification.py:1143: UndefinedMetricWarning: F-score is ill-defined and being set to 0.0 in labels with no predicted samples.\n",
      "  'precision', 'predicted', average, warn_for)\n",
      "/anaconda3/lib/python3.7/site-packages/sklearn/metrics/classification.py:1143: UndefinedMetricWarning: F-score is ill-defined and being set to 0.0 in labels with no predicted samples.\n",
      "  'precision', 'predicted', average, warn_for)\n",
      "/anaconda3/lib/python3.7/site-packages/sklearn/metrics/classification.py:1143: UndefinedMetricWarning: F-score is ill-defined and being set to 0.0 in labels with no predicted samples.\n",
      "  'precision', 'predicted', average, warn_for)\n"
     ]
    },
    {
     "name": "stdout",
     "output_type": "stream",
     "text": [
      "[CV]  clf__criterion=gini, clf__max_depth=2, clf__min_samples_leaf=5, clf__min_samples_split=8, clf__splitter=random, total=   0.0s\n",
      "[CV] clf__criterion=gini, clf__max_depth=2, clf__min_samples_leaf=5, clf__min_samples_split=8, clf__splitter=random \n",
      "[CV]  clf__criterion=gini, clf__max_depth=2, clf__min_samples_leaf=5, clf__min_samples_split=8, clf__splitter=random, total=   0.0s\n",
      "[CV] clf__criterion=gini, clf__max_depth=5, clf__min_samples_leaf=1, clf__min_samples_split=2, clf__splitter=best \n",
      "[CV]  clf__criterion=gini, clf__max_depth=5, clf__min_samples_leaf=1, clf__min_samples_split=2, clf__splitter=best, total=   0.1s\n",
      "[CV] clf__criterion=gini, clf__max_depth=5, clf__min_samples_leaf=1, clf__min_samples_split=2, clf__splitter=best \n",
      "[CV]  clf__criterion=gini, clf__max_depth=5, clf__min_samples_leaf=1, clf__min_samples_split=2, clf__splitter=best, total=   0.1s\n",
      "[CV] clf__criterion=gini, clf__max_depth=5, clf__min_samples_leaf=1, clf__min_samples_split=2, clf__splitter=best \n",
      "[CV]  clf__criterion=gini, clf__max_depth=5, clf__min_samples_leaf=1, clf__min_samples_split=2, clf__splitter=best, total=   0.1s\n",
      "[CV] clf__criterion=gini, clf__max_depth=5, clf__min_samples_leaf=1, clf__min_samples_split=2, clf__splitter=random \n",
      "[CV]  clf__criterion=gini, clf__max_depth=5, clf__min_samples_leaf=1, clf__min_samples_split=2, clf__splitter=random, total=   0.0s\n",
      "[CV] clf__criterion=gini, clf__max_depth=5, clf__min_samples_leaf=1, clf__min_samples_split=2, clf__splitter=random \n",
      "[CV]  clf__criterion=gini, clf__max_depth=5, clf__min_samples_leaf=1, clf__min_samples_split=2, clf__splitter=random, total=   0.0s\n",
      "[CV] clf__criterion=gini, clf__max_depth=5, clf__min_samples_leaf=1, clf__min_samples_split=2, clf__splitter=random \n",
      "[CV]  clf__criterion=gini, clf__max_depth=5, clf__min_samples_leaf=1, clf__min_samples_split=2, clf__splitter=random, total=   0.0s\n",
      "[CV] clf__criterion=gini, clf__max_depth=5, clf__min_samples_leaf=1, clf__min_samples_split=4, clf__splitter=best \n",
      "[CV]  clf__criterion=gini, clf__max_depth=5, clf__min_samples_leaf=1, clf__min_samples_split=4, clf__splitter=best, total=   0.1s\n",
      "[CV] clf__criterion=gini, clf__max_depth=5, clf__min_samples_leaf=1, clf__min_samples_split=4, clf__splitter=best \n",
      "[CV]  clf__criterion=gini, clf__max_depth=5, clf__min_samples_leaf=1, clf__min_samples_split=4, clf__splitter=best, total=   0.1s\n",
      "[CV] clf__criterion=gini, clf__max_depth=5, clf__min_samples_leaf=1, clf__min_samples_split=4, clf__splitter=best \n",
      "[CV]  clf__criterion=gini, clf__max_depth=5, clf__min_samples_leaf=1, clf__min_samples_split=4, clf__splitter=best, total=   0.1s\n",
      "[CV] clf__criterion=gini, clf__max_depth=5, clf__min_samples_leaf=1, clf__min_samples_split=4, clf__splitter=random \n",
      "[CV]  clf__criterion=gini, clf__max_depth=5, clf__min_samples_leaf=1, clf__min_samples_split=4, clf__splitter=random, total=   0.0s\n",
      "[CV] clf__criterion=gini, clf__max_depth=5, clf__min_samples_leaf=1, clf__min_samples_split=4, clf__splitter=random \n"
     ]
    },
    {
     "name": "stderr",
     "output_type": "stream",
     "text": [
      "/anaconda3/lib/python3.7/site-packages/sklearn/metrics/classification.py:1143: UndefinedMetricWarning: F-score is ill-defined and being set to 0.0 in labels with no predicted samples.\n",
      "  'precision', 'predicted', average, warn_for)\n"
     ]
    },
    {
     "name": "stdout",
     "output_type": "stream",
     "text": [
      "[CV]  clf__criterion=gini, clf__max_depth=5, clf__min_samples_leaf=1, clf__min_samples_split=4, clf__splitter=random, total=   0.0s\n",
      "[CV] clf__criterion=gini, clf__max_depth=5, clf__min_samples_leaf=1, clf__min_samples_split=4, clf__splitter=random \n",
      "[CV]  clf__criterion=gini, clf__max_depth=5, clf__min_samples_leaf=1, clf__min_samples_split=4, clf__splitter=random, total=   0.0s\n",
      "[CV] clf__criterion=gini, clf__max_depth=5, clf__min_samples_leaf=1, clf__min_samples_split=8, clf__splitter=best \n",
      "[CV]  clf__criterion=gini, clf__max_depth=5, clf__min_samples_leaf=1, clf__min_samples_split=8, clf__splitter=best, total=   0.1s\n",
      "[CV] clf__criterion=gini, clf__max_depth=5, clf__min_samples_leaf=1, clf__min_samples_split=8, clf__splitter=best \n",
      "[CV]  clf__criterion=gini, clf__max_depth=5, clf__min_samples_leaf=1, clf__min_samples_split=8, clf__splitter=best, total=   0.1s\n",
      "[CV] clf__criterion=gini, clf__max_depth=5, clf__min_samples_leaf=1, clf__min_samples_split=8, clf__splitter=best \n",
      "[CV]  clf__criterion=gini, clf__max_depth=5, clf__min_samples_leaf=1, clf__min_samples_split=8, clf__splitter=best, total=   0.1s\n",
      "[CV] clf__criterion=gini, clf__max_depth=5, clf__min_samples_leaf=1, clf__min_samples_split=8, clf__splitter=random \n",
      "[CV]  clf__criterion=gini, clf__max_depth=5, clf__min_samples_leaf=1, clf__min_samples_split=8, clf__splitter=random, total=   0.0s\n",
      "[CV] clf__criterion=gini, clf__max_depth=5, clf__min_samples_leaf=1, clf__min_samples_split=8, clf__splitter=random \n",
      "[CV]  clf__criterion=gini, clf__max_depth=5, clf__min_samples_leaf=1, clf__min_samples_split=8, clf__splitter=random, total=   0.0s\n",
      "[CV] clf__criterion=gini, clf__max_depth=5, clf__min_samples_leaf=1, clf__min_samples_split=8, clf__splitter=random \n",
      "[CV]  clf__criterion=gini, clf__max_depth=5, clf__min_samples_leaf=1, clf__min_samples_split=8, clf__splitter=random, total=   0.0s\n",
      "[CV] clf__criterion=gini, clf__max_depth=5, clf__min_samples_leaf=3, clf__min_samples_split=2, clf__splitter=best \n",
      "[CV]  clf__criterion=gini, clf__max_depth=5, clf__min_samples_leaf=3, clf__min_samples_split=2, clf__splitter=best, total=   0.1s\n",
      "[CV] clf__criterion=gini, clf__max_depth=5, clf__min_samples_leaf=3, clf__min_samples_split=2, clf__splitter=best \n",
      "[CV]  clf__criterion=gini, clf__max_depth=5, clf__min_samples_leaf=3, clf__min_samples_split=2, clf__splitter=best, total=   0.1s\n",
      "[CV] clf__criterion=gini, clf__max_depth=5, clf__min_samples_leaf=3, clf__min_samples_split=2, clf__splitter=best \n",
      "[CV]  clf__criterion=gini, clf__max_depth=5, clf__min_samples_leaf=3, clf__min_samples_split=2, clf__splitter=best, total=   0.1s\n",
      "[CV] clf__criterion=gini, clf__max_depth=5, clf__min_samples_leaf=3, clf__min_samples_split=2, clf__splitter=random \n",
      "[CV]  clf__criterion=gini, clf__max_depth=5, clf__min_samples_leaf=3, clf__min_samples_split=2, clf__splitter=random, total=   0.0s\n",
      "[CV] clf__criterion=gini, clf__max_depth=5, clf__min_samples_leaf=3, clf__min_samples_split=2, clf__splitter=random \n",
      "[CV]  clf__criterion=gini, clf__max_depth=5, clf__min_samples_leaf=3, clf__min_samples_split=2, clf__splitter=random, total=   0.0s\n",
      "[CV] clf__criterion=gini, clf__max_depth=5, clf__min_samples_leaf=3, clf__min_samples_split=2, clf__splitter=random \n",
      "[CV]  clf__criterion=gini, clf__max_depth=5, clf__min_samples_leaf=3, clf__min_samples_split=2, clf__splitter=random, total=   0.0s\n",
      "[CV] clf__criterion=gini, clf__max_depth=5, clf__min_samples_leaf=3, clf__min_samples_split=4, clf__splitter=best \n",
      "[CV]  clf__criterion=gini, clf__max_depth=5, clf__min_samples_leaf=3, clf__min_samples_split=4, clf__splitter=best, total=   0.1s\n",
      "[CV] clf__criterion=gini, clf__max_depth=5, clf__min_samples_leaf=3, clf__min_samples_split=4, clf__splitter=best \n"
     ]
    },
    {
     "name": "stderr",
     "output_type": "stream",
     "text": [
      "/anaconda3/lib/python3.7/site-packages/sklearn/metrics/classification.py:1143: UndefinedMetricWarning: F-score is ill-defined and being set to 0.0 in labels with no predicted samples.\n",
      "  'precision', 'predicted', average, warn_for)\n"
     ]
    },
    {
     "name": "stdout",
     "output_type": "stream",
     "text": [
      "[CV]  clf__criterion=gini, clf__max_depth=5, clf__min_samples_leaf=3, clf__min_samples_split=4, clf__splitter=best, total=   0.1s\n",
      "[CV] clf__criterion=gini, clf__max_depth=5, clf__min_samples_leaf=3, clf__min_samples_split=4, clf__splitter=best \n",
      "[CV]  clf__criterion=gini, clf__max_depth=5, clf__min_samples_leaf=3, clf__min_samples_split=4, clf__splitter=best, total=   0.1s\n",
      "[CV] clf__criterion=gini, clf__max_depth=5, clf__min_samples_leaf=3, clf__min_samples_split=4, clf__splitter=random \n",
      "[CV]  clf__criterion=gini, clf__max_depth=5, clf__min_samples_leaf=3, clf__min_samples_split=4, clf__splitter=random, total=   0.0s\n",
      "[CV] clf__criterion=gini, clf__max_depth=5, clf__min_samples_leaf=3, clf__min_samples_split=4, clf__splitter=random \n",
      "[CV]  clf__criterion=gini, clf__max_depth=5, clf__min_samples_leaf=3, clf__min_samples_split=4, clf__splitter=random, total=   0.0s\n",
      "[CV] clf__criterion=gini, clf__max_depth=5, clf__min_samples_leaf=3, clf__min_samples_split=4, clf__splitter=random \n",
      "[CV]  clf__criterion=gini, clf__max_depth=5, clf__min_samples_leaf=3, clf__min_samples_split=4, clf__splitter=random, total=   0.0s\n",
      "[CV] clf__criterion=gini, clf__max_depth=5, clf__min_samples_leaf=3, clf__min_samples_split=8, clf__splitter=best \n",
      "[CV]  clf__criterion=gini, clf__max_depth=5, clf__min_samples_leaf=3, clf__min_samples_split=8, clf__splitter=best, total=   0.1s\n",
      "[CV] clf__criterion=gini, clf__max_depth=5, clf__min_samples_leaf=3, clf__min_samples_split=8, clf__splitter=best \n",
      "[CV]  clf__criterion=gini, clf__max_depth=5, clf__min_samples_leaf=3, clf__min_samples_split=8, clf__splitter=best, total=   0.1s\n",
      "[CV] clf__criterion=gini, clf__max_depth=5, clf__min_samples_leaf=3, clf__min_samples_split=8, clf__splitter=best \n",
      "[CV]  clf__criterion=gini, clf__max_depth=5, clf__min_samples_leaf=3, clf__min_samples_split=8, clf__splitter=best, total=   0.1s\n",
      "[CV] clf__criterion=gini, clf__max_depth=5, clf__min_samples_leaf=3, clf__min_samples_split=8, clf__splitter=random \n",
      "[CV]  clf__criterion=gini, clf__max_depth=5, clf__min_samples_leaf=3, clf__min_samples_split=8, clf__splitter=random, total=   0.0s\n",
      "[CV] clf__criterion=gini, clf__max_depth=5, clf__min_samples_leaf=3, clf__min_samples_split=8, clf__splitter=random \n",
      "[CV]  clf__criterion=gini, clf__max_depth=5, clf__min_samples_leaf=3, clf__min_samples_split=8, clf__splitter=random, total=   0.0s\n",
      "[CV] clf__criterion=gini, clf__max_depth=5, clf__min_samples_leaf=3, clf__min_samples_split=8, clf__splitter=random \n",
      "[CV]  clf__criterion=gini, clf__max_depth=5, clf__min_samples_leaf=3, clf__min_samples_split=8, clf__splitter=random, total=   0.0s\n",
      "[CV] clf__criterion=gini, clf__max_depth=5, clf__min_samples_leaf=5, clf__min_samples_split=2, clf__splitter=best \n",
      "[CV]  clf__criterion=gini, clf__max_depth=5, clf__min_samples_leaf=5, clf__min_samples_split=2, clf__splitter=best, total=   0.1s\n",
      "[CV] clf__criterion=gini, clf__max_depth=5, clf__min_samples_leaf=5, clf__min_samples_split=2, clf__splitter=best \n",
      "[CV]  clf__criterion=gini, clf__max_depth=5, clf__min_samples_leaf=5, clf__min_samples_split=2, clf__splitter=best, total=   0.1s\n",
      "[CV] clf__criterion=gini, clf__max_depth=5, clf__min_samples_leaf=5, clf__min_samples_split=2, clf__splitter=best \n",
      "[CV]  clf__criterion=gini, clf__max_depth=5, clf__min_samples_leaf=5, clf__min_samples_split=2, clf__splitter=best, total=   0.1s\n",
      "[CV] clf__criterion=gini, clf__max_depth=5, clf__min_samples_leaf=5, clf__min_samples_split=2, clf__splitter=random \n",
      "[CV]  clf__criterion=gini, clf__max_depth=5, clf__min_samples_leaf=5, clf__min_samples_split=2, clf__splitter=random, total=   0.0s\n",
      "[CV] clf__criterion=gini, clf__max_depth=5, clf__min_samples_leaf=5, clf__min_samples_split=2, clf__splitter=random \n",
      "[CV]  clf__criterion=gini, clf__max_depth=5, clf__min_samples_leaf=5, clf__min_samples_split=2, clf__splitter=random, total=   0.0s\n",
      "[CV] clf__criterion=gini, clf__max_depth=5, clf__min_samples_leaf=5, clf__min_samples_split=2, clf__splitter=random \n",
      "[CV]  clf__criterion=gini, clf__max_depth=5, clf__min_samples_leaf=5, clf__min_samples_split=2, clf__splitter=random, total=   0.0s\n",
      "[CV] clf__criterion=gini, clf__max_depth=5, clf__min_samples_leaf=5, clf__min_samples_split=4, clf__splitter=best \n",
      "[CV]  clf__criterion=gini, clf__max_depth=5, clf__min_samples_leaf=5, clf__min_samples_split=4, clf__splitter=best, total=   0.2s\n",
      "[CV] clf__criterion=gini, clf__max_depth=5, clf__min_samples_leaf=5, clf__min_samples_split=4, clf__splitter=best \n",
      "[CV]  clf__criterion=gini, clf__max_depth=5, clf__min_samples_leaf=5, clf__min_samples_split=4, clf__splitter=best, total=   0.1s\n",
      "[CV] clf__criterion=gini, clf__max_depth=5, clf__min_samples_leaf=5, clf__min_samples_split=4, clf__splitter=best \n",
      "[CV]  clf__criterion=gini, clf__max_depth=5, clf__min_samples_leaf=5, clf__min_samples_split=4, clf__splitter=best, total=   0.1s\n",
      "[CV] clf__criterion=gini, clf__max_depth=5, clf__min_samples_leaf=5, clf__min_samples_split=4, clf__splitter=random \n",
      "[CV]  clf__criterion=gini, clf__max_depth=5, clf__min_samples_leaf=5, clf__min_samples_split=4, clf__splitter=random, total=   0.0s\n",
      "[CV] clf__criterion=gini, clf__max_depth=5, clf__min_samples_leaf=5, clf__min_samples_split=4, clf__splitter=random \n",
      "[CV]  clf__criterion=gini, clf__max_depth=5, clf__min_samples_leaf=5, clf__min_samples_split=4, clf__splitter=random, total=   0.0s\n",
      "[CV] clf__criterion=gini, clf__max_depth=5, clf__min_samples_leaf=5, clf__min_samples_split=4, clf__splitter=random \n",
      "[CV]  clf__criterion=gini, clf__max_depth=5, clf__min_samples_leaf=5, clf__min_samples_split=4, clf__splitter=random, total=   0.0s\n",
      "[CV] clf__criterion=gini, clf__max_depth=5, clf__min_samples_leaf=5, clf__min_samples_split=8, clf__splitter=best \n",
      "[CV]  clf__criterion=gini, clf__max_depth=5, clf__min_samples_leaf=5, clf__min_samples_split=8, clf__splitter=best, total=   0.1s\n",
      "[CV] clf__criterion=gini, clf__max_depth=5, clf__min_samples_leaf=5, clf__min_samples_split=8, clf__splitter=best \n",
      "[CV]  clf__criterion=gini, clf__max_depth=5, clf__min_samples_leaf=5, clf__min_samples_split=8, clf__splitter=best, total=   0.1s\n",
      "[CV] clf__criterion=gini, clf__max_depth=5, clf__min_samples_leaf=5, clf__min_samples_split=8, clf__splitter=best \n",
      "[CV]  clf__criterion=gini, clf__max_depth=5, clf__min_samples_leaf=5, clf__min_samples_split=8, clf__splitter=best, total=   0.1s\n",
      "[CV] clf__criterion=gini, clf__max_depth=5, clf__min_samples_leaf=5, clf__min_samples_split=8, clf__splitter=random \n",
      "[CV]  clf__criterion=gini, clf__max_depth=5, clf__min_samples_leaf=5, clf__min_samples_split=8, clf__splitter=random, total=   0.0s\n",
      "[CV] clf__criterion=gini, clf__max_depth=5, clf__min_samples_leaf=5, clf__min_samples_split=8, clf__splitter=random \n",
      "[CV]  clf__criterion=gini, clf__max_depth=5, clf__min_samples_leaf=5, clf__min_samples_split=8, clf__splitter=random, total=   0.0s\n",
      "[CV] clf__criterion=gini, clf__max_depth=5, clf__min_samples_leaf=5, clf__min_samples_split=8, clf__splitter=random \n",
      "[CV]  clf__criterion=gini, clf__max_depth=5, clf__min_samples_leaf=5, clf__min_samples_split=8, clf__splitter=random, total=   0.0s\n",
      "[CV] clf__criterion=entropy, clf__max_depth=None, clf__min_samples_leaf=1, clf__min_samples_split=2, clf__splitter=best \n"
     ]
    },
    {
     "name": "stderr",
     "output_type": "stream",
     "text": [
      "/anaconda3/lib/python3.7/site-packages/sklearn/metrics/classification.py:1143: UndefinedMetricWarning: F-score is ill-defined and being set to 0.0 in labels with no predicted samples.\n",
      "  'precision', 'predicted', average, warn_for)\n",
      "/anaconda3/lib/python3.7/site-packages/sklearn/metrics/classification.py:1143: UndefinedMetricWarning: F-score is ill-defined and being set to 0.0 in labels with no predicted samples.\n",
      "  'precision', 'predicted', average, warn_for)\n"
     ]
    },
    {
     "name": "stdout",
     "output_type": "stream",
     "text": [
      "[CV]  clf__criterion=entropy, clf__max_depth=None, clf__min_samples_leaf=1, clf__min_samples_split=2, clf__splitter=best, total=   0.7s\n",
      "[CV] clf__criterion=entropy, clf__max_depth=None, clf__min_samples_leaf=1, clf__min_samples_split=2, clf__splitter=best \n",
      "[CV]  clf__criterion=entropy, clf__max_depth=None, clf__min_samples_leaf=1, clf__min_samples_split=2, clf__splitter=best, total=   0.7s\n",
      "[CV] clf__criterion=entropy, clf__max_depth=None, clf__min_samples_leaf=1, clf__min_samples_split=2, clf__splitter=best \n",
      "[CV]  clf__criterion=entropy, clf__max_depth=None, clf__min_samples_leaf=1, clf__min_samples_split=2, clf__splitter=best, total=   0.7s\n",
      "[CV] clf__criterion=entropy, clf__max_depth=None, clf__min_samples_leaf=1, clf__min_samples_split=2, clf__splitter=random \n",
      "[CV]  clf__criterion=entropy, clf__max_depth=None, clf__min_samples_leaf=1, clf__min_samples_split=2, clf__splitter=random, total=   0.1s\n",
      "[CV] clf__criterion=entropy, clf__max_depth=None, clf__min_samples_leaf=1, clf__min_samples_split=2, clf__splitter=random \n",
      "[CV]  clf__criterion=entropy, clf__max_depth=None, clf__min_samples_leaf=1, clf__min_samples_split=2, clf__splitter=random, total=   0.1s\n",
      "[CV] clf__criterion=entropy, clf__max_depth=None, clf__min_samples_leaf=1, clf__min_samples_split=2, clf__splitter=random \n",
      "[CV]  clf__criterion=entropy, clf__max_depth=None, clf__min_samples_leaf=1, clf__min_samples_split=2, clf__splitter=random, total=   0.1s\n",
      "[CV] clf__criterion=entropy, clf__max_depth=None, clf__min_samples_leaf=1, clf__min_samples_split=4, clf__splitter=best \n",
      "[CV]  clf__criterion=entropy, clf__max_depth=None, clf__min_samples_leaf=1, clf__min_samples_split=4, clf__splitter=best, total=   0.7s\n",
      "[CV] clf__criterion=entropy, clf__max_depth=None, clf__min_samples_leaf=1, clf__min_samples_split=4, clf__splitter=best \n",
      "[CV]  clf__criterion=entropy, clf__max_depth=None, clf__min_samples_leaf=1, clf__min_samples_split=4, clf__splitter=best, total=   0.7s\n",
      "[CV] clf__criterion=entropy, clf__max_depth=None, clf__min_samples_leaf=1, clf__min_samples_split=4, clf__splitter=best \n",
      "[CV]  clf__criterion=entropy, clf__max_depth=None, clf__min_samples_leaf=1, clf__min_samples_split=4, clf__splitter=best, total=   0.7s\n",
      "[CV] clf__criterion=entropy, clf__max_depth=None, clf__min_samples_leaf=1, clf__min_samples_split=4, clf__splitter=random \n",
      "[CV]  clf__criterion=entropy, clf__max_depth=None, clf__min_samples_leaf=1, clf__min_samples_split=4, clf__splitter=random, total=   0.1s\n",
      "[CV] clf__criterion=entropy, clf__max_depth=None, clf__min_samples_leaf=1, clf__min_samples_split=4, clf__splitter=random \n",
      "[CV]  clf__criterion=entropy, clf__max_depth=None, clf__min_samples_leaf=1, clf__min_samples_split=4, clf__splitter=random, total=   0.1s\n",
      "[CV] clf__criterion=entropy, clf__max_depth=None, clf__min_samples_leaf=1, clf__min_samples_split=4, clf__splitter=random \n",
      "[CV]  clf__criterion=entropy, clf__max_depth=None, clf__min_samples_leaf=1, clf__min_samples_split=4, clf__splitter=random, total=   0.1s\n",
      "[CV] clf__criterion=entropy, clf__max_depth=None, clf__min_samples_leaf=1, clf__min_samples_split=8, clf__splitter=best \n",
      "[CV]  clf__criterion=entropy, clf__max_depth=None, clf__min_samples_leaf=1, clf__min_samples_split=8, clf__splitter=best, total=   0.7s\n",
      "[CV] clf__criterion=entropy, clf__max_depth=None, clf__min_samples_leaf=1, clf__min_samples_split=8, clf__splitter=best \n",
      "[CV]  clf__criterion=entropy, clf__max_depth=None, clf__min_samples_leaf=1, clf__min_samples_split=8, clf__splitter=best, total=   0.7s\n",
      "[CV] clf__criterion=entropy, clf__max_depth=None, clf__min_samples_leaf=1, clf__min_samples_split=8, clf__splitter=best \n",
      "[CV]  clf__criterion=entropy, clf__max_depth=None, clf__min_samples_leaf=1, clf__min_samples_split=8, clf__splitter=best, total=   0.8s\n",
      "[CV] clf__criterion=entropy, clf__max_depth=None, clf__min_samples_leaf=1, clf__min_samples_split=8, clf__splitter=random \n",
      "[CV]  clf__criterion=entropy, clf__max_depth=None, clf__min_samples_leaf=1, clf__min_samples_split=8, clf__splitter=random, total=   0.1s\n",
      "[CV] clf__criterion=entropy, clf__max_depth=None, clf__min_samples_leaf=1, clf__min_samples_split=8, clf__splitter=random \n",
      "[CV]  clf__criterion=entropy, clf__max_depth=None, clf__min_samples_leaf=1, clf__min_samples_split=8, clf__splitter=random, total=   0.1s\n",
      "[CV] clf__criterion=entropy, clf__max_depth=None, clf__min_samples_leaf=1, clf__min_samples_split=8, clf__splitter=random \n",
      "[CV]  clf__criterion=entropy, clf__max_depth=None, clf__min_samples_leaf=1, clf__min_samples_split=8, clf__splitter=random, total=   0.1s\n",
      "[CV] clf__criterion=entropy, clf__max_depth=None, clf__min_samples_leaf=3, clf__min_samples_split=2, clf__splitter=best \n",
      "[CV]  clf__criterion=entropy, clf__max_depth=None, clf__min_samples_leaf=3, clf__min_samples_split=2, clf__splitter=best, total=   0.6s\n",
      "[CV] clf__criterion=entropy, clf__max_depth=None, clf__min_samples_leaf=3, clf__min_samples_split=2, clf__splitter=best \n",
      "[CV]  clf__criterion=entropy, clf__max_depth=None, clf__min_samples_leaf=3, clf__min_samples_split=2, clf__splitter=best, total=   0.6s\n",
      "[CV] clf__criterion=entropy, clf__max_depth=None, clf__min_samples_leaf=3, clf__min_samples_split=2, clf__splitter=best \n",
      "[CV]  clf__criterion=entropy, clf__max_depth=None, clf__min_samples_leaf=3, clf__min_samples_split=2, clf__splitter=best, total=   0.7s\n",
      "[CV] clf__criterion=entropy, clf__max_depth=None, clf__min_samples_leaf=3, clf__min_samples_split=2, clf__splitter=random \n",
      "[CV]  clf__criterion=entropy, clf__max_depth=None, clf__min_samples_leaf=3, clf__min_samples_split=2, clf__splitter=random, total=   0.1s\n",
      "[CV] clf__criterion=entropy, clf__max_depth=None, clf__min_samples_leaf=3, clf__min_samples_split=2, clf__splitter=random \n",
      "[CV]  clf__criterion=entropy, clf__max_depth=None, clf__min_samples_leaf=3, clf__min_samples_split=2, clf__splitter=random, total=   0.1s\n",
      "[CV] clf__criterion=entropy, clf__max_depth=None, clf__min_samples_leaf=3, clf__min_samples_split=2, clf__splitter=random \n",
      "[CV]  clf__criterion=entropy, clf__max_depth=None, clf__min_samples_leaf=3, clf__min_samples_split=2, clf__splitter=random, total=   0.1s\n",
      "[CV] clf__criterion=entropy, clf__max_depth=None, clf__min_samples_leaf=3, clf__min_samples_split=4, clf__splitter=best \n",
      "[CV]  clf__criterion=entropy, clf__max_depth=None, clf__min_samples_leaf=3, clf__min_samples_split=4, clf__splitter=best, total=   0.7s\n",
      "[CV] clf__criterion=entropy, clf__max_depth=None, clf__min_samples_leaf=3, clf__min_samples_split=4, clf__splitter=best \n",
      "[CV]  clf__criterion=entropy, clf__max_depth=None, clf__min_samples_leaf=3, clf__min_samples_split=4, clf__splitter=best, total=   0.7s\n",
      "[CV] clf__criterion=entropy, clf__max_depth=None, clf__min_samples_leaf=3, clf__min_samples_split=4, clf__splitter=best \n",
      "[CV]  clf__criterion=entropy, clf__max_depth=None, clf__min_samples_leaf=3, clf__min_samples_split=4, clf__splitter=best, total=   0.8s\n",
      "[CV] clf__criterion=entropy, clf__max_depth=None, clf__min_samples_leaf=3, clf__min_samples_split=4, clf__splitter=random \n",
      "[CV]  clf__criterion=entropy, clf__max_depth=None, clf__min_samples_leaf=3, clf__min_samples_split=4, clf__splitter=random, total=   0.1s\n",
      "[CV] clf__criterion=entropy, clf__max_depth=None, clf__min_samples_leaf=3, clf__min_samples_split=4, clf__splitter=random \n",
      "[CV]  clf__criterion=entropy, clf__max_depth=None, clf__min_samples_leaf=3, clf__min_samples_split=4, clf__splitter=random, total=   0.0s\n",
      "[CV] clf__criterion=entropy, clf__max_depth=None, clf__min_samples_leaf=3, clf__min_samples_split=4, clf__splitter=random \n"
     ]
    },
    {
     "name": "stderr",
     "output_type": "stream",
     "text": [
      "/anaconda3/lib/python3.7/site-packages/sklearn/metrics/classification.py:1143: UndefinedMetricWarning: F-score is ill-defined and being set to 0.0 in labels with no predicted samples.\n",
      "  'precision', 'predicted', average, warn_for)\n",
      "/anaconda3/lib/python3.7/site-packages/sklearn/metrics/classification.py:1143: UndefinedMetricWarning: F-score is ill-defined and being set to 0.0 in labels with no predicted samples.\n",
      "  'precision', 'predicted', average, warn_for)\n"
     ]
    },
    {
     "name": "stdout",
     "output_type": "stream",
     "text": [
      "[CV]  clf__criterion=entropy, clf__max_depth=None, clf__min_samples_leaf=3, clf__min_samples_split=4, clf__splitter=random, total=   0.1s\n",
      "[CV] clf__criterion=entropy, clf__max_depth=None, clf__min_samples_leaf=3, clf__min_samples_split=8, clf__splitter=best \n",
      "[CV]  clf__criterion=entropy, clf__max_depth=None, clf__min_samples_leaf=3, clf__min_samples_split=8, clf__splitter=best, total=   0.7s\n",
      "[CV] clf__criterion=entropy, clf__max_depth=None, clf__min_samples_leaf=3, clf__min_samples_split=8, clf__splitter=best \n",
      "[CV]  clf__criterion=entropy, clf__max_depth=None, clf__min_samples_leaf=3, clf__min_samples_split=8, clf__splitter=best, total=   0.8s\n",
      "[CV] clf__criterion=entropy, clf__max_depth=None, clf__min_samples_leaf=3, clf__min_samples_split=8, clf__splitter=best \n",
      "[CV]  clf__criterion=entropy, clf__max_depth=None, clf__min_samples_leaf=3, clf__min_samples_split=8, clf__splitter=best, total=   0.9s\n",
      "[CV] clf__criterion=entropy, clf__max_depth=None, clf__min_samples_leaf=3, clf__min_samples_split=8, clf__splitter=random \n",
      "[CV]  clf__criterion=entropy, clf__max_depth=None, clf__min_samples_leaf=3, clf__min_samples_split=8, clf__splitter=random, total=   0.1s\n",
      "[CV] clf__criterion=entropy, clf__max_depth=None, clf__min_samples_leaf=3, clf__min_samples_split=8, clf__splitter=random \n",
      "[CV]  clf__criterion=entropy, clf__max_depth=None, clf__min_samples_leaf=3, clf__min_samples_split=8, clf__splitter=random, total=   0.1s\n",
      "[CV] clf__criterion=entropy, clf__max_depth=None, clf__min_samples_leaf=3, clf__min_samples_split=8, clf__splitter=random \n",
      "[CV]  clf__criterion=entropy, clf__max_depth=None, clf__min_samples_leaf=3, clf__min_samples_split=8, clf__splitter=random, total=   0.1s\n",
      "[CV] clf__criterion=entropy, clf__max_depth=None, clf__min_samples_leaf=5, clf__min_samples_split=2, clf__splitter=best \n",
      "[CV]  clf__criterion=entropy, clf__max_depth=None, clf__min_samples_leaf=5, clf__min_samples_split=2, clf__splitter=best, total=   0.7s\n",
      "[CV] clf__criterion=entropy, clf__max_depth=None, clf__min_samples_leaf=5, clf__min_samples_split=2, clf__splitter=best \n",
      "[CV]  clf__criterion=entropy, clf__max_depth=None, clf__min_samples_leaf=5, clf__min_samples_split=2, clf__splitter=best, total=   0.8s\n",
      "[CV] clf__criterion=entropy, clf__max_depth=None, clf__min_samples_leaf=5, clf__min_samples_split=2, clf__splitter=best \n",
      "[CV]  clf__criterion=entropy, clf__max_depth=None, clf__min_samples_leaf=5, clf__min_samples_split=2, clf__splitter=best, total=   0.8s\n",
      "[CV] clf__criterion=entropy, clf__max_depth=None, clf__min_samples_leaf=5, clf__min_samples_split=2, clf__splitter=random \n",
      "[CV]  clf__criterion=entropy, clf__max_depth=None, clf__min_samples_leaf=5, clf__min_samples_split=2, clf__splitter=random, total=   0.1s\n",
      "[CV] clf__criterion=entropy, clf__max_depth=None, clf__min_samples_leaf=5, clf__min_samples_split=2, clf__splitter=random \n",
      "[CV]  clf__criterion=entropy, clf__max_depth=None, clf__min_samples_leaf=5, clf__min_samples_split=2, clf__splitter=random, total=   0.1s\n",
      "[CV] clf__criterion=entropy, clf__max_depth=None, clf__min_samples_leaf=5, clf__min_samples_split=2, clf__splitter=random \n",
      "[CV]  clf__criterion=entropy, clf__max_depth=None, clf__min_samples_leaf=5, clf__min_samples_split=2, clf__splitter=random, total=   0.1s\n",
      "[CV] clf__criterion=entropy, clf__max_depth=None, clf__min_samples_leaf=5, clf__min_samples_split=4, clf__splitter=best \n",
      "[CV]  clf__criterion=entropy, clf__max_depth=None, clf__min_samples_leaf=5, clf__min_samples_split=4, clf__splitter=best, total=   0.8s\n",
      "[CV] clf__criterion=entropy, clf__max_depth=None, clf__min_samples_leaf=5, clf__min_samples_split=4, clf__splitter=best \n",
      "[CV]  clf__criterion=entropy, clf__max_depth=None, clf__min_samples_leaf=5, clf__min_samples_split=4, clf__splitter=best, total=   0.8s\n",
      "[CV] clf__criterion=entropy, clf__max_depth=None, clf__min_samples_leaf=5, clf__min_samples_split=4, clf__splitter=best \n",
      "[CV]  clf__criterion=entropy, clf__max_depth=None, clf__min_samples_leaf=5, clf__min_samples_split=4, clf__splitter=best, total=   0.9s\n",
      "[CV] clf__criterion=entropy, clf__max_depth=None, clf__min_samples_leaf=5, clf__min_samples_split=4, clf__splitter=random \n",
      "[CV]  clf__criterion=entropy, clf__max_depth=None, clf__min_samples_leaf=5, clf__min_samples_split=4, clf__splitter=random, total=   0.1s\n",
      "[CV] clf__criterion=entropy, clf__max_depth=None, clf__min_samples_leaf=5, clf__min_samples_split=4, clf__splitter=random \n",
      "[CV]  clf__criterion=entropy, clf__max_depth=None, clf__min_samples_leaf=5, clf__min_samples_split=4, clf__splitter=random, total=   0.1s\n",
      "[CV] clf__criterion=entropy, clf__max_depth=None, clf__min_samples_leaf=5, clf__min_samples_split=4, clf__splitter=random \n",
      "[CV]  clf__criterion=entropy, clf__max_depth=None, clf__min_samples_leaf=5, clf__min_samples_split=4, clf__splitter=random, total=   0.1s\n",
      "[CV] clf__criterion=entropy, clf__max_depth=None, clf__min_samples_leaf=5, clf__min_samples_split=8, clf__splitter=best \n",
      "[CV]  clf__criterion=entropy, clf__max_depth=None, clf__min_samples_leaf=5, clf__min_samples_split=8, clf__splitter=best, total=   0.8s\n",
      "[CV] clf__criterion=entropy, clf__max_depth=None, clf__min_samples_leaf=5, clf__min_samples_split=8, clf__splitter=best \n",
      "[CV]  clf__criterion=entropy, clf__max_depth=None, clf__min_samples_leaf=5, clf__min_samples_split=8, clf__splitter=best, total=   0.8s\n",
      "[CV] clf__criterion=entropy, clf__max_depth=None, clf__min_samples_leaf=5, clf__min_samples_split=8, clf__splitter=best \n",
      "[CV]  clf__criterion=entropy, clf__max_depth=None, clf__min_samples_leaf=5, clf__min_samples_split=8, clf__splitter=best, total=   0.8s\n",
      "[CV] clf__criterion=entropy, clf__max_depth=None, clf__min_samples_leaf=5, clf__min_samples_split=8, clf__splitter=random \n",
      "[CV]  clf__criterion=entropy, clf__max_depth=None, clf__min_samples_leaf=5, clf__min_samples_split=8, clf__splitter=random, total=   0.1s\n",
      "[CV] clf__criterion=entropy, clf__max_depth=None, clf__min_samples_leaf=5, clf__min_samples_split=8, clf__splitter=random \n",
      "[CV]  clf__criterion=entropy, clf__max_depth=None, clf__min_samples_leaf=5, clf__min_samples_split=8, clf__splitter=random, total=   0.1s\n",
      "[CV] clf__criterion=entropy, clf__max_depth=None, clf__min_samples_leaf=5, clf__min_samples_split=8, clf__splitter=random \n",
      "[CV]  clf__criterion=entropy, clf__max_depth=None, clf__min_samples_leaf=5, clf__min_samples_split=8, clf__splitter=random, total=   0.1s\n",
      "[CV] clf__criterion=entropy, clf__max_depth=2, clf__min_samples_leaf=1, clf__min_samples_split=2, clf__splitter=best \n",
      "[CV]  clf__criterion=entropy, clf__max_depth=2, clf__min_samples_leaf=1, clf__min_samples_split=2, clf__splitter=best, total=   0.1s\n",
      "[CV] clf__criterion=entropy, clf__max_depth=2, clf__min_samples_leaf=1, clf__min_samples_split=2, clf__splitter=best \n"
     ]
    },
    {
     "name": "stderr",
     "output_type": "stream",
     "text": [
      "/anaconda3/lib/python3.7/site-packages/sklearn/metrics/classification.py:1143: UndefinedMetricWarning: F-score is ill-defined and being set to 0.0 in labels with no predicted samples.\n",
      "  'precision', 'predicted', average, warn_for)\n",
      "/anaconda3/lib/python3.7/site-packages/sklearn/metrics/classification.py:1143: UndefinedMetricWarning: F-score is ill-defined and being set to 0.0 in labels with no predicted samples.\n",
      "  'precision', 'predicted', average, warn_for)\n",
      "/anaconda3/lib/python3.7/site-packages/sklearn/metrics/classification.py:1143: UndefinedMetricWarning: F-score is ill-defined and being set to 0.0 in labels with no predicted samples.\n",
      "  'precision', 'predicted', average, warn_for)\n",
      "/anaconda3/lib/python3.7/site-packages/sklearn/metrics/classification.py:1143: UndefinedMetricWarning: F-score is ill-defined and being set to 0.0 in labels with no predicted samples.\n",
      "  'precision', 'predicted', average, warn_for)\n"
     ]
    },
    {
     "name": "stdout",
     "output_type": "stream",
     "text": [
      "[CV]  clf__criterion=entropy, clf__max_depth=2, clf__min_samples_leaf=1, clf__min_samples_split=2, clf__splitter=best, total=   0.1s\n",
      "[CV] clf__criterion=entropy, clf__max_depth=2, clf__min_samples_leaf=1, clf__min_samples_split=2, clf__splitter=best \n",
      "[CV]  clf__criterion=entropy, clf__max_depth=2, clf__min_samples_leaf=1, clf__min_samples_split=2, clf__splitter=best, total=   0.1s\n",
      "[CV] clf__criterion=entropy, clf__max_depth=2, clf__min_samples_leaf=1, clf__min_samples_split=2, clf__splitter=random \n",
      "[CV]  clf__criterion=entropy, clf__max_depth=2, clf__min_samples_leaf=1, clf__min_samples_split=2, clf__splitter=random, total=   0.0s\n",
      "[CV] clf__criterion=entropy, clf__max_depth=2, clf__min_samples_leaf=1, clf__min_samples_split=2, clf__splitter=random \n"
     ]
    },
    {
     "name": "stderr",
     "output_type": "stream",
     "text": [
      "/anaconda3/lib/python3.7/site-packages/sklearn/metrics/classification.py:1143: UndefinedMetricWarning: F-score is ill-defined and being set to 0.0 in labels with no predicted samples.\n",
      "  'precision', 'predicted', average, warn_for)\n",
      "/anaconda3/lib/python3.7/site-packages/sklearn/metrics/classification.py:1143: UndefinedMetricWarning: F-score is ill-defined and being set to 0.0 in labels with no predicted samples.\n",
      "  'precision', 'predicted', average, warn_for)\n",
      "/anaconda3/lib/python3.7/site-packages/sklearn/metrics/classification.py:1143: UndefinedMetricWarning: F-score is ill-defined and being set to 0.0 in labels with no predicted samples.\n",
      "  'precision', 'predicted', average, warn_for)\n",
      "/anaconda3/lib/python3.7/site-packages/sklearn/metrics/classification.py:1143: UndefinedMetricWarning: F-score is ill-defined and being set to 0.0 in labels with no predicted samples.\n",
      "  'precision', 'predicted', average, warn_for)\n",
      "/anaconda3/lib/python3.7/site-packages/sklearn/metrics/classification.py:1143: UndefinedMetricWarning: F-score is ill-defined and being set to 0.0 in labels with no predicted samples.\n",
      "  'precision', 'predicted', average, warn_for)\n",
      "/anaconda3/lib/python3.7/site-packages/sklearn/metrics/classification.py:1143: UndefinedMetricWarning: F-score is ill-defined and being set to 0.0 in labels with no predicted samples.\n",
      "  'precision', 'predicted', average, warn_for)\n",
      "/anaconda3/lib/python3.7/site-packages/sklearn/metrics/classification.py:1143: UndefinedMetricWarning: F-score is ill-defined and being set to 0.0 in labels with no predicted samples.\n",
      "  'precision', 'predicted', average, warn_for)\n"
     ]
    },
    {
     "name": "stdout",
     "output_type": "stream",
     "text": [
      "[CV]  clf__criterion=entropy, clf__max_depth=2, clf__min_samples_leaf=1, clf__min_samples_split=2, clf__splitter=random, total=   0.0s\n",
      "[CV] clf__criterion=entropy, clf__max_depth=2, clf__min_samples_leaf=1, clf__min_samples_split=2, clf__splitter=random \n",
      "[CV]  clf__criterion=entropy, clf__max_depth=2, clf__min_samples_leaf=1, clf__min_samples_split=2, clf__splitter=random, total=   0.0s\n",
      "[CV] clf__criterion=entropy, clf__max_depth=2, clf__min_samples_leaf=1, clf__min_samples_split=4, clf__splitter=best \n",
      "[CV]  clf__criterion=entropy, clf__max_depth=2, clf__min_samples_leaf=1, clf__min_samples_split=4, clf__splitter=best, total=   0.1s\n",
      "[CV] clf__criterion=entropy, clf__max_depth=2, clf__min_samples_leaf=1, clf__min_samples_split=4, clf__splitter=best \n"
     ]
    },
    {
     "name": "stderr",
     "output_type": "stream",
     "text": [
      "/anaconda3/lib/python3.7/site-packages/sklearn/metrics/classification.py:1143: UndefinedMetricWarning: F-score is ill-defined and being set to 0.0 in labels with no predicted samples.\n",
      "  'precision', 'predicted', average, warn_for)\n",
      "/anaconda3/lib/python3.7/site-packages/sklearn/metrics/classification.py:1143: UndefinedMetricWarning: F-score is ill-defined and being set to 0.0 in labels with no predicted samples.\n",
      "  'precision', 'predicted', average, warn_for)\n",
      "/anaconda3/lib/python3.7/site-packages/sklearn/metrics/classification.py:1143: UndefinedMetricWarning: F-score is ill-defined and being set to 0.0 in labels with no predicted samples.\n",
      "  'precision', 'predicted', average, warn_for)\n",
      "/anaconda3/lib/python3.7/site-packages/sklearn/metrics/classification.py:1143: UndefinedMetricWarning: F-score is ill-defined and being set to 0.0 in labels with no predicted samples.\n",
      "  'precision', 'predicted', average, warn_for)\n"
     ]
    },
    {
     "name": "stdout",
     "output_type": "stream",
     "text": [
      "[CV]  clf__criterion=entropy, clf__max_depth=2, clf__min_samples_leaf=1, clf__min_samples_split=4, clf__splitter=best, total=   0.1s\n",
      "[CV] clf__criterion=entropy, clf__max_depth=2, clf__min_samples_leaf=1, clf__min_samples_split=4, clf__splitter=best \n",
      "[CV]  clf__criterion=entropy, clf__max_depth=2, clf__min_samples_leaf=1, clf__min_samples_split=4, clf__splitter=best, total=   0.1s\n",
      "[CV] clf__criterion=entropy, clf__max_depth=2, clf__min_samples_leaf=1, clf__min_samples_split=4, clf__splitter=random \n"
     ]
    },
    {
     "name": "stderr",
     "output_type": "stream",
     "text": [
      "/anaconda3/lib/python3.7/site-packages/sklearn/metrics/classification.py:1143: UndefinedMetricWarning: F-score is ill-defined and being set to 0.0 in labels with no predicted samples.\n",
      "  'precision', 'predicted', average, warn_for)\n",
      "/anaconda3/lib/python3.7/site-packages/sklearn/metrics/classification.py:1143: UndefinedMetricWarning: F-score is ill-defined and being set to 0.0 in labels with no predicted samples.\n",
      "  'precision', 'predicted', average, warn_for)\n"
     ]
    },
    {
     "name": "stdout",
     "output_type": "stream",
     "text": [
      "[CV]  clf__criterion=entropy, clf__max_depth=2, clf__min_samples_leaf=1, clf__min_samples_split=4, clf__splitter=random, total=   0.0s\n",
      "[CV] clf__criterion=entropy, clf__max_depth=2, clf__min_samples_leaf=1, clf__min_samples_split=4, clf__splitter=random \n",
      "[CV]  clf__criterion=entropy, clf__max_depth=2, clf__min_samples_leaf=1, clf__min_samples_split=4, clf__splitter=random, total=   0.0s\n",
      "[CV] clf__criterion=entropy, clf__max_depth=2, clf__min_samples_leaf=1, clf__min_samples_split=4, clf__splitter=random \n",
      "[CV]  clf__criterion=entropy, clf__max_depth=2, clf__min_samples_leaf=1, clf__min_samples_split=4, clf__splitter=random, total=   0.0s\n",
      "[CV] clf__criterion=entropy, clf__max_depth=2, clf__min_samples_leaf=1, clf__min_samples_split=8, clf__splitter=best \n"
     ]
    },
    {
     "name": "stderr",
     "output_type": "stream",
     "text": [
      "/anaconda3/lib/python3.7/site-packages/sklearn/metrics/classification.py:1143: UndefinedMetricWarning: F-score is ill-defined and being set to 0.0 in labels with no predicted samples.\n",
      "  'precision', 'predicted', average, warn_for)\n",
      "/anaconda3/lib/python3.7/site-packages/sklearn/metrics/classification.py:1143: UndefinedMetricWarning: F-score is ill-defined and being set to 0.0 in labels with no predicted samples.\n",
      "  'precision', 'predicted', average, warn_for)\n",
      "/anaconda3/lib/python3.7/site-packages/sklearn/metrics/classification.py:1143: UndefinedMetricWarning: F-score is ill-defined and being set to 0.0 in labels with no predicted samples.\n",
      "  'precision', 'predicted', average, warn_for)\n",
      "/anaconda3/lib/python3.7/site-packages/sklearn/metrics/classification.py:1143: UndefinedMetricWarning: F-score is ill-defined and being set to 0.0 in labels with no predicted samples.\n",
      "  'precision', 'predicted', average, warn_for)\n"
     ]
    },
    {
     "name": "stdout",
     "output_type": "stream",
     "text": [
      "[CV]  clf__criterion=entropy, clf__max_depth=2, clf__min_samples_leaf=1, clf__min_samples_split=8, clf__splitter=best, total=   0.1s\n",
      "[CV] clf__criterion=entropy, clf__max_depth=2, clf__min_samples_leaf=1, clf__min_samples_split=8, clf__splitter=best \n",
      "[CV]  clf__criterion=entropy, clf__max_depth=2, clf__min_samples_leaf=1, clf__min_samples_split=8, clf__splitter=best, total=   0.1s\n",
      "[CV] clf__criterion=entropy, clf__max_depth=2, clf__min_samples_leaf=1, clf__min_samples_split=8, clf__splitter=best \n"
     ]
    },
    {
     "name": "stderr",
     "output_type": "stream",
     "text": [
      "/anaconda3/lib/python3.7/site-packages/sklearn/metrics/classification.py:1143: UndefinedMetricWarning: F-score is ill-defined and being set to 0.0 in labels with no predicted samples.\n",
      "  'precision', 'predicted', average, warn_for)\n",
      "/anaconda3/lib/python3.7/site-packages/sklearn/metrics/classification.py:1143: UndefinedMetricWarning: F-score is ill-defined and being set to 0.0 in labels with no predicted samples.\n",
      "  'precision', 'predicted', average, warn_for)\n",
      "/anaconda3/lib/python3.7/site-packages/sklearn/metrics/classification.py:1143: UndefinedMetricWarning: F-score is ill-defined and being set to 0.0 in labels with no predicted samples.\n",
      "  'precision', 'predicted', average, warn_for)\n",
      "/anaconda3/lib/python3.7/site-packages/sklearn/metrics/classification.py:1143: UndefinedMetricWarning: F-score is ill-defined and being set to 0.0 in labels with no predicted samples.\n",
      "  'precision', 'predicted', average, warn_for)\n",
      "/anaconda3/lib/python3.7/site-packages/sklearn/metrics/classification.py:1143: UndefinedMetricWarning: F-score is ill-defined and being set to 0.0 in labels with no predicted samples.\n",
      "  'precision', 'predicted', average, warn_for)\n",
      "/anaconda3/lib/python3.7/site-packages/sklearn/metrics/classification.py:1143: UndefinedMetricWarning: F-score is ill-defined and being set to 0.0 in labels with no predicted samples.\n",
      "  'precision', 'predicted', average, warn_for)\n",
      "/anaconda3/lib/python3.7/site-packages/sklearn/metrics/classification.py:1143: UndefinedMetricWarning: F-score is ill-defined and being set to 0.0 in labels with no predicted samples.\n",
      "  'precision', 'predicted', average, warn_for)\n",
      "/anaconda3/lib/python3.7/site-packages/sklearn/metrics/classification.py:1143: UndefinedMetricWarning: F-score is ill-defined and being set to 0.0 in labels with no predicted samples.\n",
      "  'precision', 'predicted', average, warn_for)\n"
     ]
    },
    {
     "name": "stdout",
     "output_type": "stream",
     "text": [
      "[CV]  clf__criterion=entropy, clf__max_depth=2, clf__min_samples_leaf=1, clf__min_samples_split=8, clf__splitter=best, total=   0.1s\n",
      "[CV] clf__criterion=entropy, clf__max_depth=2, clf__min_samples_leaf=1, clf__min_samples_split=8, clf__splitter=random \n",
      "[CV]  clf__criterion=entropy, clf__max_depth=2, clf__min_samples_leaf=1, clf__min_samples_split=8, clf__splitter=random, total=   0.0s\n",
      "[CV] clf__criterion=entropy, clf__max_depth=2, clf__min_samples_leaf=1, clf__min_samples_split=8, clf__splitter=random \n",
      "[CV]  clf__criterion=entropy, clf__max_depth=2, clf__min_samples_leaf=1, clf__min_samples_split=8, clf__splitter=random, total=   0.0s\n",
      "[CV] clf__criterion=entropy, clf__max_depth=2, clf__min_samples_leaf=1, clf__min_samples_split=8, clf__splitter=random \n",
      "[CV]  clf__criterion=entropy, clf__max_depth=2, clf__min_samples_leaf=1, clf__min_samples_split=8, clf__splitter=random, total=   0.0s\n",
      "[CV] clf__criterion=entropy, clf__max_depth=2, clf__min_samples_leaf=3, clf__min_samples_split=2, clf__splitter=best \n"
     ]
    },
    {
     "name": "stderr",
     "output_type": "stream",
     "text": [
      "/anaconda3/lib/python3.7/site-packages/sklearn/metrics/classification.py:1143: UndefinedMetricWarning: F-score is ill-defined and being set to 0.0 in labels with no predicted samples.\n",
      "  'precision', 'predicted', average, warn_for)\n",
      "/anaconda3/lib/python3.7/site-packages/sklearn/metrics/classification.py:1143: UndefinedMetricWarning: F-score is ill-defined and being set to 0.0 in labels with no predicted samples.\n",
      "  'precision', 'predicted', average, warn_for)\n",
      "/anaconda3/lib/python3.7/site-packages/sklearn/metrics/classification.py:1143: UndefinedMetricWarning: F-score is ill-defined and being set to 0.0 in labels with no predicted samples.\n",
      "  'precision', 'predicted', average, warn_for)\n",
      "/anaconda3/lib/python3.7/site-packages/sklearn/metrics/classification.py:1143: UndefinedMetricWarning: F-score is ill-defined and being set to 0.0 in labels with no predicted samples.\n",
      "  'precision', 'predicted', average, warn_for)\n"
     ]
    },
    {
     "name": "stdout",
     "output_type": "stream",
     "text": [
      "[CV]  clf__criterion=entropy, clf__max_depth=2, clf__min_samples_leaf=3, clf__min_samples_split=2, clf__splitter=best, total=   0.1s\n",
      "[CV] clf__criterion=entropy, clf__max_depth=2, clf__min_samples_leaf=3, clf__min_samples_split=2, clf__splitter=best \n",
      "[CV]  clf__criterion=entropy, clf__max_depth=2, clf__min_samples_leaf=3, clf__min_samples_split=2, clf__splitter=best, total=   0.1s\n",
      "[CV] clf__criterion=entropy, clf__max_depth=2, clf__min_samples_leaf=3, clf__min_samples_split=2, clf__splitter=best \n"
     ]
    },
    {
     "name": "stderr",
     "output_type": "stream",
     "text": [
      "/anaconda3/lib/python3.7/site-packages/sklearn/metrics/classification.py:1143: UndefinedMetricWarning: F-score is ill-defined and being set to 0.0 in labels with no predicted samples.\n",
      "  'precision', 'predicted', average, warn_for)\n",
      "/anaconda3/lib/python3.7/site-packages/sklearn/metrics/classification.py:1143: UndefinedMetricWarning: F-score is ill-defined and being set to 0.0 in labels with no predicted samples.\n",
      "  'precision', 'predicted', average, warn_for)\n",
      "/anaconda3/lib/python3.7/site-packages/sklearn/metrics/classification.py:1143: UndefinedMetricWarning: F-score is ill-defined and being set to 0.0 in labels with no predicted samples.\n",
      "  'precision', 'predicted', average, warn_for)\n",
      "/anaconda3/lib/python3.7/site-packages/sklearn/metrics/classification.py:1143: UndefinedMetricWarning: F-score is ill-defined and being set to 0.0 in labels with no predicted samples.\n",
      "  'precision', 'predicted', average, warn_for)\n",
      "/anaconda3/lib/python3.7/site-packages/sklearn/metrics/classification.py:1143: UndefinedMetricWarning: F-score is ill-defined and being set to 0.0 in labels with no predicted samples.\n",
      "  'precision', 'predicted', average, warn_for)\n",
      "/anaconda3/lib/python3.7/site-packages/sklearn/metrics/classification.py:1143: UndefinedMetricWarning: F-score is ill-defined and being set to 0.0 in labels with no predicted samples.\n",
      "  'precision', 'predicted', average, warn_for)\n",
      "/anaconda3/lib/python3.7/site-packages/sklearn/metrics/classification.py:1143: UndefinedMetricWarning: F-score is ill-defined and being set to 0.0 in labels with no predicted samples.\n",
      "  'precision', 'predicted', average, warn_for)\n",
      "/anaconda3/lib/python3.7/site-packages/sklearn/metrics/classification.py:1143: UndefinedMetricWarning: F-score is ill-defined and being set to 0.0 in labels with no predicted samples.\n",
      "  'precision', 'predicted', average, warn_for)\n"
     ]
    },
    {
     "name": "stdout",
     "output_type": "stream",
     "text": [
      "[CV]  clf__criterion=entropy, clf__max_depth=2, clf__min_samples_leaf=3, clf__min_samples_split=2, clf__splitter=best, total=   0.1s\n",
      "[CV] clf__criterion=entropy, clf__max_depth=2, clf__min_samples_leaf=3, clf__min_samples_split=2, clf__splitter=random \n",
      "[CV]  clf__criterion=entropy, clf__max_depth=2, clf__min_samples_leaf=3, clf__min_samples_split=2, clf__splitter=random, total=   0.0s\n",
      "[CV] clf__criterion=entropy, clf__max_depth=2, clf__min_samples_leaf=3, clf__min_samples_split=2, clf__splitter=random \n",
      "[CV]  clf__criterion=entropy, clf__max_depth=2, clf__min_samples_leaf=3, clf__min_samples_split=2, clf__splitter=random, total=   0.0s\n",
      "[CV] clf__criterion=entropy, clf__max_depth=2, clf__min_samples_leaf=3, clf__min_samples_split=2, clf__splitter=random \n",
      "[CV]  clf__criterion=entropy, clf__max_depth=2, clf__min_samples_leaf=3, clf__min_samples_split=2, clf__splitter=random, total=   0.0s\n",
      "[CV] clf__criterion=entropy, clf__max_depth=2, clf__min_samples_leaf=3, clf__min_samples_split=4, clf__splitter=best \n"
     ]
    },
    {
     "name": "stderr",
     "output_type": "stream",
     "text": [
      "/anaconda3/lib/python3.7/site-packages/sklearn/metrics/classification.py:1143: UndefinedMetricWarning: F-score is ill-defined and being set to 0.0 in labels with no predicted samples.\n",
      "  'precision', 'predicted', average, warn_for)\n",
      "/anaconda3/lib/python3.7/site-packages/sklearn/metrics/classification.py:1143: UndefinedMetricWarning: F-score is ill-defined and being set to 0.0 in labels with no predicted samples.\n",
      "  'precision', 'predicted', average, warn_for)\n",
      "/anaconda3/lib/python3.7/site-packages/sklearn/metrics/classification.py:1143: UndefinedMetricWarning: F-score is ill-defined and being set to 0.0 in labels with no predicted samples.\n",
      "  'precision', 'predicted', average, warn_for)\n",
      "/anaconda3/lib/python3.7/site-packages/sklearn/metrics/classification.py:1143: UndefinedMetricWarning: F-score is ill-defined and being set to 0.0 in labels with no predicted samples.\n",
      "  'precision', 'predicted', average, warn_for)\n"
     ]
    },
    {
     "name": "stdout",
     "output_type": "stream",
     "text": [
      "[CV]  clf__criterion=entropy, clf__max_depth=2, clf__min_samples_leaf=3, clf__min_samples_split=4, clf__splitter=best, total=   0.1s\n",
      "[CV] clf__criterion=entropy, clf__max_depth=2, clf__min_samples_leaf=3, clf__min_samples_split=4, clf__splitter=best \n",
      "[CV]  clf__criterion=entropy, clf__max_depth=2, clf__min_samples_leaf=3, clf__min_samples_split=4, clf__splitter=best, total=   0.1s\n",
      "[CV] clf__criterion=entropy, clf__max_depth=2, clf__min_samples_leaf=3, clf__min_samples_split=4, clf__splitter=best \n"
     ]
    },
    {
     "name": "stderr",
     "output_type": "stream",
     "text": [
      "/anaconda3/lib/python3.7/site-packages/sklearn/metrics/classification.py:1143: UndefinedMetricWarning: F-score is ill-defined and being set to 0.0 in labels with no predicted samples.\n",
      "  'precision', 'predicted', average, warn_for)\n",
      "/anaconda3/lib/python3.7/site-packages/sklearn/metrics/classification.py:1143: UndefinedMetricWarning: F-score is ill-defined and being set to 0.0 in labels with no predicted samples.\n",
      "  'precision', 'predicted', average, warn_for)\n",
      "/anaconda3/lib/python3.7/site-packages/sklearn/metrics/classification.py:1143: UndefinedMetricWarning: F-score is ill-defined and being set to 0.0 in labels with no predicted samples.\n",
      "  'precision', 'predicted', average, warn_for)\n",
      "/anaconda3/lib/python3.7/site-packages/sklearn/metrics/classification.py:1143: UndefinedMetricWarning: F-score is ill-defined and being set to 0.0 in labels with no predicted samples.\n",
      "  'precision', 'predicted', average, warn_for)\n",
      "/anaconda3/lib/python3.7/site-packages/sklearn/metrics/classification.py:1143: UndefinedMetricWarning: F-score is ill-defined and being set to 0.0 in labels with no predicted samples.\n",
      "  'precision', 'predicted', average, warn_for)\n",
      "/anaconda3/lib/python3.7/site-packages/sklearn/metrics/classification.py:1143: UndefinedMetricWarning: F-score is ill-defined and being set to 0.0 in labels with no predicted samples.\n",
      "  'precision', 'predicted', average, warn_for)\n"
     ]
    },
    {
     "name": "stdout",
     "output_type": "stream",
     "text": [
      "[CV]  clf__criterion=entropy, clf__max_depth=2, clf__min_samples_leaf=3, clf__min_samples_split=4, clf__splitter=best, total=   0.1s\n",
      "[CV] clf__criterion=entropy, clf__max_depth=2, clf__min_samples_leaf=3, clf__min_samples_split=4, clf__splitter=random \n",
      "[CV]  clf__criterion=entropy, clf__max_depth=2, clf__min_samples_leaf=3, clf__min_samples_split=4, clf__splitter=random, total=   0.0s\n",
      "[CV] clf__criterion=entropy, clf__max_depth=2, clf__min_samples_leaf=3, clf__min_samples_split=4, clf__splitter=random \n",
      "[CV]  clf__criterion=entropy, clf__max_depth=2, clf__min_samples_leaf=3, clf__min_samples_split=4, clf__splitter=random, total=   0.0s\n",
      "[CV] clf__criterion=entropy, clf__max_depth=2, clf__min_samples_leaf=3, clf__min_samples_split=4, clf__splitter=random \n",
      "[CV]  clf__criterion=entropy, clf__max_depth=2, clf__min_samples_leaf=3, clf__min_samples_split=4, clf__splitter=random, total=   0.0s\n",
      "[CV] clf__criterion=entropy, clf__max_depth=2, clf__min_samples_leaf=3, clf__min_samples_split=8, clf__splitter=best \n"
     ]
    },
    {
     "name": "stderr",
     "output_type": "stream",
     "text": [
      "/anaconda3/lib/python3.7/site-packages/sklearn/metrics/classification.py:1143: UndefinedMetricWarning: F-score is ill-defined and being set to 0.0 in labels with no predicted samples.\n",
      "  'precision', 'predicted', average, warn_for)\n",
      "/anaconda3/lib/python3.7/site-packages/sklearn/metrics/classification.py:1143: UndefinedMetricWarning: F-score is ill-defined and being set to 0.0 in labels with no predicted samples.\n",
      "  'precision', 'predicted', average, warn_for)\n",
      "/anaconda3/lib/python3.7/site-packages/sklearn/metrics/classification.py:1143: UndefinedMetricWarning: F-score is ill-defined and being set to 0.0 in labels with no predicted samples.\n",
      "  'precision', 'predicted', average, warn_for)\n",
      "/anaconda3/lib/python3.7/site-packages/sklearn/metrics/classification.py:1143: UndefinedMetricWarning: F-score is ill-defined and being set to 0.0 in labels with no predicted samples.\n",
      "  'precision', 'predicted', average, warn_for)\n"
     ]
    },
    {
     "name": "stdout",
     "output_type": "stream",
     "text": [
      "[CV]  clf__criterion=entropy, clf__max_depth=2, clf__min_samples_leaf=3, clf__min_samples_split=8, clf__splitter=best, total=   0.1s\n",
      "[CV] clf__criterion=entropy, clf__max_depth=2, clf__min_samples_leaf=3, clf__min_samples_split=8, clf__splitter=best \n",
      "[CV]  clf__criterion=entropy, clf__max_depth=2, clf__min_samples_leaf=3, clf__min_samples_split=8, clf__splitter=best, total=   0.1s\n",
      "[CV] clf__criterion=entropy, clf__max_depth=2, clf__min_samples_leaf=3, clf__min_samples_split=8, clf__splitter=best \n"
     ]
    },
    {
     "name": "stderr",
     "output_type": "stream",
     "text": [
      "/anaconda3/lib/python3.7/site-packages/sklearn/metrics/classification.py:1143: UndefinedMetricWarning: F-score is ill-defined and being set to 0.0 in labels with no predicted samples.\n",
      "  'precision', 'predicted', average, warn_for)\n",
      "/anaconda3/lib/python3.7/site-packages/sklearn/metrics/classification.py:1143: UndefinedMetricWarning: F-score is ill-defined and being set to 0.0 in labels with no predicted samples.\n",
      "  'precision', 'predicted', average, warn_for)\n",
      "/anaconda3/lib/python3.7/site-packages/sklearn/metrics/classification.py:1143: UndefinedMetricWarning: F-score is ill-defined and being set to 0.0 in labels with no predicted samples.\n",
      "  'precision', 'predicted', average, warn_for)\n",
      "/anaconda3/lib/python3.7/site-packages/sklearn/metrics/classification.py:1143: UndefinedMetricWarning: F-score is ill-defined and being set to 0.0 in labels with no predicted samples.\n",
      "  'precision', 'predicted', average, warn_for)\n",
      "/anaconda3/lib/python3.7/site-packages/sklearn/metrics/classification.py:1143: UndefinedMetricWarning: F-score is ill-defined and being set to 0.0 in labels with no predicted samples.\n",
      "  'precision', 'predicted', average, warn_for)\n"
     ]
    },
    {
     "name": "stdout",
     "output_type": "stream",
     "text": [
      "[CV]  clf__criterion=entropy, clf__max_depth=2, clf__min_samples_leaf=3, clf__min_samples_split=8, clf__splitter=best, total=   0.1s\n",
      "[CV] clf__criterion=entropy, clf__max_depth=2, clf__min_samples_leaf=3, clf__min_samples_split=8, clf__splitter=random \n",
      "[CV]  clf__criterion=entropy, clf__max_depth=2, clf__min_samples_leaf=3, clf__min_samples_split=8, clf__splitter=random, total=   0.0s\n",
      "[CV] clf__criterion=entropy, clf__max_depth=2, clf__min_samples_leaf=3, clf__min_samples_split=8, clf__splitter=random \n",
      "[CV]  clf__criterion=entropy, clf__max_depth=2, clf__min_samples_leaf=3, clf__min_samples_split=8, clf__splitter=random, total=   0.0s\n",
      "[CV] clf__criterion=entropy, clf__max_depth=2, clf__min_samples_leaf=3, clf__min_samples_split=8, clf__splitter=random \n",
      "[CV]  clf__criterion=entropy, clf__max_depth=2, clf__min_samples_leaf=3, clf__min_samples_split=8, clf__splitter=random, total=   0.0s\n",
      "[CV] clf__criterion=entropy, clf__max_depth=2, clf__min_samples_leaf=5, clf__min_samples_split=2, clf__splitter=best \n"
     ]
    },
    {
     "name": "stderr",
     "output_type": "stream",
     "text": [
      "/anaconda3/lib/python3.7/site-packages/sklearn/metrics/classification.py:1143: UndefinedMetricWarning: F-score is ill-defined and being set to 0.0 in labels with no predicted samples.\n",
      "  'precision', 'predicted', average, warn_for)\n",
      "/anaconda3/lib/python3.7/site-packages/sklearn/metrics/classification.py:1143: UndefinedMetricWarning: F-score is ill-defined and being set to 0.0 in labels with no predicted samples.\n",
      "  'precision', 'predicted', average, warn_for)\n",
      "/anaconda3/lib/python3.7/site-packages/sklearn/metrics/classification.py:1143: UndefinedMetricWarning: F-score is ill-defined and being set to 0.0 in labels with no predicted samples.\n",
      "  'precision', 'predicted', average, warn_for)\n",
      "/anaconda3/lib/python3.7/site-packages/sklearn/metrics/classification.py:1143: UndefinedMetricWarning: F-score is ill-defined and being set to 0.0 in labels with no predicted samples.\n",
      "  'precision', 'predicted', average, warn_for)\n"
     ]
    },
    {
     "name": "stdout",
     "output_type": "stream",
     "text": [
      "[CV]  clf__criterion=entropy, clf__max_depth=2, clf__min_samples_leaf=5, clf__min_samples_split=2, clf__splitter=best, total=   0.2s\n",
      "[CV] clf__criterion=entropy, clf__max_depth=2, clf__min_samples_leaf=5, clf__min_samples_split=2, clf__splitter=best \n",
      "[CV]  clf__criterion=entropy, clf__max_depth=2, clf__min_samples_leaf=5, clf__min_samples_split=2, clf__splitter=best, total=   0.1s\n",
      "[CV] clf__criterion=entropy, clf__max_depth=2, clf__min_samples_leaf=5, clf__min_samples_split=2, clf__splitter=best \n"
     ]
    },
    {
     "name": "stderr",
     "output_type": "stream",
     "text": [
      "/anaconda3/lib/python3.7/site-packages/sklearn/metrics/classification.py:1143: UndefinedMetricWarning: F-score is ill-defined and being set to 0.0 in labels with no predicted samples.\n",
      "  'precision', 'predicted', average, warn_for)\n",
      "/anaconda3/lib/python3.7/site-packages/sklearn/metrics/classification.py:1143: UndefinedMetricWarning: F-score is ill-defined and being set to 0.0 in labels with no predicted samples.\n",
      "  'precision', 'predicted', average, warn_for)\n",
      "/anaconda3/lib/python3.7/site-packages/sklearn/metrics/classification.py:1143: UndefinedMetricWarning: F-score is ill-defined and being set to 0.0 in labels with no predicted samples.\n",
      "  'precision', 'predicted', average, warn_for)\n",
      "/anaconda3/lib/python3.7/site-packages/sklearn/metrics/classification.py:1143: UndefinedMetricWarning: F-score is ill-defined and being set to 0.0 in labels with no predicted samples.\n",
      "  'precision', 'predicted', average, warn_for)\n",
      "/anaconda3/lib/python3.7/site-packages/sklearn/metrics/classification.py:1143: UndefinedMetricWarning: F-score is ill-defined and being set to 0.0 in labels with no predicted samples.\n",
      "  'precision', 'predicted', average, warn_for)\n",
      "/anaconda3/lib/python3.7/site-packages/sklearn/metrics/classification.py:1143: UndefinedMetricWarning: F-score is ill-defined and being set to 0.0 in labels with no predicted samples.\n",
      "  'precision', 'predicted', average, warn_for)\n"
     ]
    },
    {
     "name": "stdout",
     "output_type": "stream",
     "text": [
      "[CV]  clf__criterion=entropy, clf__max_depth=2, clf__min_samples_leaf=5, clf__min_samples_split=2, clf__splitter=best, total=   0.1s\n",
      "[CV] clf__criterion=entropy, clf__max_depth=2, clf__min_samples_leaf=5, clf__min_samples_split=2, clf__splitter=random \n",
      "[CV]  clf__criterion=entropy, clf__max_depth=2, clf__min_samples_leaf=5, clf__min_samples_split=2, clf__splitter=random, total=   0.0s\n",
      "[CV] clf__criterion=entropy, clf__max_depth=2, clf__min_samples_leaf=5, clf__min_samples_split=2, clf__splitter=random \n",
      "[CV]  clf__criterion=entropy, clf__max_depth=2, clf__min_samples_leaf=5, clf__min_samples_split=2, clf__splitter=random, total=   0.0s\n",
      "[CV] clf__criterion=entropy, clf__max_depth=2, clf__min_samples_leaf=5, clf__min_samples_split=2, clf__splitter=random \n",
      "[CV]  clf__criterion=entropy, clf__max_depth=2, clf__min_samples_leaf=5, clf__min_samples_split=2, clf__splitter=random, total=   0.0s\n",
      "[CV] clf__criterion=entropy, clf__max_depth=2, clf__min_samples_leaf=5, clf__min_samples_split=4, clf__splitter=best \n"
     ]
    },
    {
     "name": "stderr",
     "output_type": "stream",
     "text": [
      "/anaconda3/lib/python3.7/site-packages/sklearn/metrics/classification.py:1143: UndefinedMetricWarning: F-score is ill-defined and being set to 0.0 in labels with no predicted samples.\n",
      "  'precision', 'predicted', average, warn_for)\n",
      "/anaconda3/lib/python3.7/site-packages/sklearn/metrics/classification.py:1143: UndefinedMetricWarning: F-score is ill-defined and being set to 0.0 in labels with no predicted samples.\n",
      "  'precision', 'predicted', average, warn_for)\n",
      "/anaconda3/lib/python3.7/site-packages/sklearn/metrics/classification.py:1143: UndefinedMetricWarning: F-score is ill-defined and being set to 0.0 in labels with no predicted samples.\n",
      "  'precision', 'predicted', average, warn_for)\n",
      "/anaconda3/lib/python3.7/site-packages/sklearn/metrics/classification.py:1143: UndefinedMetricWarning: F-score is ill-defined and being set to 0.0 in labels with no predicted samples.\n",
      "  'precision', 'predicted', average, warn_for)\n"
     ]
    },
    {
     "name": "stdout",
     "output_type": "stream",
     "text": [
      "[CV]  clf__criterion=entropy, clf__max_depth=2, clf__min_samples_leaf=5, clf__min_samples_split=4, clf__splitter=best, total=   0.1s\n",
      "[CV] clf__criterion=entropy, clf__max_depth=2, clf__min_samples_leaf=5, clf__min_samples_split=4, clf__splitter=best \n",
      "[CV]  clf__criterion=entropy, clf__max_depth=2, clf__min_samples_leaf=5, clf__min_samples_split=4, clf__splitter=best, total=   0.1s\n",
      "[CV] clf__criterion=entropy, clf__max_depth=2, clf__min_samples_leaf=5, clf__min_samples_split=4, clf__splitter=best \n"
     ]
    },
    {
     "name": "stderr",
     "output_type": "stream",
     "text": [
      "/anaconda3/lib/python3.7/site-packages/sklearn/metrics/classification.py:1143: UndefinedMetricWarning: F-score is ill-defined and being set to 0.0 in labels with no predicted samples.\n",
      "  'precision', 'predicted', average, warn_for)\n",
      "/anaconda3/lib/python3.7/site-packages/sklearn/metrics/classification.py:1143: UndefinedMetricWarning: F-score is ill-defined and being set to 0.0 in labels with no predicted samples.\n",
      "  'precision', 'predicted', average, warn_for)\n",
      "/anaconda3/lib/python3.7/site-packages/sklearn/metrics/classification.py:1143: UndefinedMetricWarning: F-score is ill-defined and being set to 0.0 in labels with no predicted samples.\n",
      "  'precision', 'predicted', average, warn_for)\n",
      "/anaconda3/lib/python3.7/site-packages/sklearn/metrics/classification.py:1143: UndefinedMetricWarning: F-score is ill-defined and being set to 0.0 in labels with no predicted samples.\n",
      "  'precision', 'predicted', average, warn_for)\n",
      "/anaconda3/lib/python3.7/site-packages/sklearn/metrics/classification.py:1143: UndefinedMetricWarning: F-score is ill-defined and being set to 0.0 in labels with no predicted samples.\n",
      "  'precision', 'predicted', average, warn_for)\n",
      "/anaconda3/lib/python3.7/site-packages/sklearn/metrics/classification.py:1143: UndefinedMetricWarning: F-score is ill-defined and being set to 0.0 in labels with no predicted samples.\n",
      "  'precision', 'predicted', average, warn_for)\n",
      "/anaconda3/lib/python3.7/site-packages/sklearn/metrics/classification.py:1143: UndefinedMetricWarning: F-score is ill-defined and being set to 0.0 in labels with no predicted samples.\n",
      "  'precision', 'predicted', average, warn_for)\n",
      "/anaconda3/lib/python3.7/site-packages/sklearn/metrics/classification.py:1143: UndefinedMetricWarning: F-score is ill-defined and being set to 0.0 in labels with no predicted samples.\n",
      "  'precision', 'predicted', average, warn_for)\n"
     ]
    },
    {
     "name": "stdout",
     "output_type": "stream",
     "text": [
      "[CV]  clf__criterion=entropy, clf__max_depth=2, clf__min_samples_leaf=5, clf__min_samples_split=4, clf__splitter=best, total=   0.1s\n",
      "[CV] clf__criterion=entropy, clf__max_depth=2, clf__min_samples_leaf=5, clf__min_samples_split=4, clf__splitter=random \n",
      "[CV]  clf__criterion=entropy, clf__max_depth=2, clf__min_samples_leaf=5, clf__min_samples_split=4, clf__splitter=random, total=   0.0s\n",
      "[CV] clf__criterion=entropy, clf__max_depth=2, clf__min_samples_leaf=5, clf__min_samples_split=4, clf__splitter=random \n",
      "[CV]  clf__criterion=entropy, clf__max_depth=2, clf__min_samples_leaf=5, clf__min_samples_split=4, clf__splitter=random, total=   0.0s\n",
      "[CV] clf__criterion=entropy, clf__max_depth=2, clf__min_samples_leaf=5, clf__min_samples_split=4, clf__splitter=random \n",
      "[CV]  clf__criterion=entropy, clf__max_depth=2, clf__min_samples_leaf=5, clf__min_samples_split=4, clf__splitter=random, total=   0.0s\n",
      "[CV] clf__criterion=entropy, clf__max_depth=2, clf__min_samples_leaf=5, clf__min_samples_split=8, clf__splitter=best \n"
     ]
    },
    {
     "name": "stderr",
     "output_type": "stream",
     "text": [
      "/anaconda3/lib/python3.7/site-packages/sklearn/metrics/classification.py:1143: UndefinedMetricWarning: F-score is ill-defined and being set to 0.0 in labels with no predicted samples.\n",
      "  'precision', 'predicted', average, warn_for)\n",
      "/anaconda3/lib/python3.7/site-packages/sklearn/metrics/classification.py:1143: UndefinedMetricWarning: F-score is ill-defined and being set to 0.0 in labels with no predicted samples.\n",
      "  'precision', 'predicted', average, warn_for)\n",
      "/anaconda3/lib/python3.7/site-packages/sklearn/metrics/classification.py:1143: UndefinedMetricWarning: F-score is ill-defined and being set to 0.0 in labels with no predicted samples.\n",
      "  'precision', 'predicted', average, warn_for)\n",
      "/anaconda3/lib/python3.7/site-packages/sklearn/metrics/classification.py:1143: UndefinedMetricWarning: F-score is ill-defined and being set to 0.0 in labels with no predicted samples.\n",
      "  'precision', 'predicted', average, warn_for)\n"
     ]
    },
    {
     "name": "stdout",
     "output_type": "stream",
     "text": [
      "[CV]  clf__criterion=entropy, clf__max_depth=2, clf__min_samples_leaf=5, clf__min_samples_split=8, clf__splitter=best, total=   0.1s\n",
      "[CV] clf__criterion=entropy, clf__max_depth=2, clf__min_samples_leaf=5, clf__min_samples_split=8, clf__splitter=best \n",
      "[CV]  clf__criterion=entropy, clf__max_depth=2, clf__min_samples_leaf=5, clf__min_samples_split=8, clf__splitter=best, total=   0.1s\n",
      "[CV] clf__criterion=entropy, clf__max_depth=2, clf__min_samples_leaf=5, clf__min_samples_split=8, clf__splitter=best \n"
     ]
    },
    {
     "name": "stderr",
     "output_type": "stream",
     "text": [
      "/anaconda3/lib/python3.7/site-packages/sklearn/metrics/classification.py:1143: UndefinedMetricWarning: F-score is ill-defined and being set to 0.0 in labels with no predicted samples.\n",
      "  'precision', 'predicted', average, warn_for)\n",
      "/anaconda3/lib/python3.7/site-packages/sklearn/metrics/classification.py:1143: UndefinedMetricWarning: F-score is ill-defined and being set to 0.0 in labels with no predicted samples.\n",
      "  'precision', 'predicted', average, warn_for)\n",
      "/anaconda3/lib/python3.7/site-packages/sklearn/metrics/classification.py:1143: UndefinedMetricWarning: F-score is ill-defined and being set to 0.0 in labels with no predicted samples.\n",
      "  'precision', 'predicted', average, warn_for)\n",
      "/anaconda3/lib/python3.7/site-packages/sklearn/metrics/classification.py:1143: UndefinedMetricWarning: F-score is ill-defined and being set to 0.0 in labels with no predicted samples.\n",
      "  'precision', 'predicted', average, warn_for)\n",
      "/anaconda3/lib/python3.7/site-packages/sklearn/metrics/classification.py:1143: UndefinedMetricWarning: F-score is ill-defined and being set to 0.0 in labels with no predicted samples.\n",
      "  'precision', 'predicted', average, warn_for)\n",
      "/anaconda3/lib/python3.7/site-packages/sklearn/metrics/classification.py:1143: UndefinedMetricWarning: F-score is ill-defined and being set to 0.0 in labels with no predicted samples.\n",
      "  'precision', 'predicted', average, warn_for)\n",
      "/anaconda3/lib/python3.7/site-packages/sklearn/metrics/classification.py:1143: UndefinedMetricWarning: F-score is ill-defined and being set to 0.0 in labels with no predicted samples.\n",
      "  'precision', 'predicted', average, warn_for)\n",
      "/anaconda3/lib/python3.7/site-packages/sklearn/metrics/classification.py:1143: UndefinedMetricWarning: F-score is ill-defined and being set to 0.0 in labels with no predicted samples.\n",
      "  'precision', 'predicted', average, warn_for)\n"
     ]
    },
    {
     "name": "stdout",
     "output_type": "stream",
     "text": [
      "[CV]  clf__criterion=entropy, clf__max_depth=2, clf__min_samples_leaf=5, clf__min_samples_split=8, clf__splitter=best, total=   0.1s\n",
      "[CV] clf__criterion=entropy, clf__max_depth=2, clf__min_samples_leaf=5, clf__min_samples_split=8, clf__splitter=random \n",
      "[CV]  clf__criterion=entropy, clf__max_depth=2, clf__min_samples_leaf=5, clf__min_samples_split=8, clf__splitter=random, total=   0.0s\n",
      "[CV] clf__criterion=entropy, clf__max_depth=2, clf__min_samples_leaf=5, clf__min_samples_split=8, clf__splitter=random \n",
      "[CV]  clf__criterion=entropy, clf__max_depth=2, clf__min_samples_leaf=5, clf__min_samples_split=8, clf__splitter=random, total=   0.0s\n",
      "[CV] clf__criterion=entropy, clf__max_depth=2, clf__min_samples_leaf=5, clf__min_samples_split=8, clf__splitter=random \n",
      "[CV]  clf__criterion=entropy, clf__max_depth=2, clf__min_samples_leaf=5, clf__min_samples_split=8, clf__splitter=random, total=   0.0s\n",
      "[CV] clf__criterion=entropy, clf__max_depth=5, clf__min_samples_leaf=1, clf__min_samples_split=2, clf__splitter=best \n",
      "[CV]  clf__criterion=entropy, clf__max_depth=5, clf__min_samples_leaf=1, clf__min_samples_split=2, clf__splitter=best, total=   0.2s\n",
      "[CV] clf__criterion=entropy, clf__max_depth=5, clf__min_samples_leaf=1, clf__min_samples_split=2, clf__splitter=best \n",
      "[CV]  clf__criterion=entropy, clf__max_depth=5, clf__min_samples_leaf=1, clf__min_samples_split=2, clf__splitter=best, total=   0.2s\n",
      "[CV] clf__criterion=entropy, clf__max_depth=5, clf__min_samples_leaf=1, clf__min_samples_split=2, clf__splitter=best \n",
      "[CV]  clf__criterion=entropy, clf__max_depth=5, clf__min_samples_leaf=1, clf__min_samples_split=2, clf__splitter=best, total=   0.3s\n",
      "[CV] clf__criterion=entropy, clf__max_depth=5, clf__min_samples_leaf=1, clf__min_samples_split=2, clf__splitter=random \n",
      "[CV]  clf__criterion=entropy, clf__max_depth=5, clf__min_samples_leaf=1, clf__min_samples_split=2, clf__splitter=random, total=   0.0s\n",
      "[CV] clf__criterion=entropy, clf__max_depth=5, clf__min_samples_leaf=1, clf__min_samples_split=2, clf__splitter=random \n",
      "[CV]  clf__criterion=entropy, clf__max_depth=5, clf__min_samples_leaf=1, clf__min_samples_split=2, clf__splitter=random, total=   0.0s\n",
      "[CV] clf__criterion=entropy, clf__max_depth=5, clf__min_samples_leaf=1, clf__min_samples_split=2, clf__splitter=random \n",
      "[CV]  clf__criterion=entropy, clf__max_depth=5, clf__min_samples_leaf=1, clf__min_samples_split=2, clf__splitter=random, total=   0.0s\n",
      "[CV] clf__criterion=entropy, clf__max_depth=5, clf__min_samples_leaf=1, clf__min_samples_split=4, clf__splitter=best \n",
      "[CV]  clf__criterion=entropy, clf__max_depth=5, clf__min_samples_leaf=1, clf__min_samples_split=4, clf__splitter=best, total=   0.2s\n",
      "[CV] clf__criterion=entropy, clf__max_depth=5, clf__min_samples_leaf=1, clf__min_samples_split=4, clf__splitter=best \n",
      "[CV]  clf__criterion=entropy, clf__max_depth=5, clf__min_samples_leaf=1, clf__min_samples_split=4, clf__splitter=best, total=   0.2s\n",
      "[CV] clf__criterion=entropy, clf__max_depth=5, clf__min_samples_leaf=1, clf__min_samples_split=4, clf__splitter=best \n",
      "[CV]  clf__criterion=entropy, clf__max_depth=5, clf__min_samples_leaf=1, clf__min_samples_split=4, clf__splitter=best, total=   0.3s\n",
      "[CV] clf__criterion=entropy, clf__max_depth=5, clf__min_samples_leaf=1, clf__min_samples_split=4, clf__splitter=random \n",
      "[CV]  clf__criterion=entropy, clf__max_depth=5, clf__min_samples_leaf=1, clf__min_samples_split=4, clf__splitter=random, total=   0.0s\n",
      "[CV] clf__criterion=entropy, clf__max_depth=5, clf__min_samples_leaf=1, clf__min_samples_split=4, clf__splitter=random \n",
      "[CV]  clf__criterion=entropy, clf__max_depth=5, clf__min_samples_leaf=1, clf__min_samples_split=4, clf__splitter=random, total=   0.0s\n",
      "[CV] clf__criterion=entropy, clf__max_depth=5, clf__min_samples_leaf=1, clf__min_samples_split=4, clf__splitter=random \n",
      "[CV]  clf__criterion=entropy, clf__max_depth=5, clf__min_samples_leaf=1, clf__min_samples_split=4, clf__splitter=random, total=   0.0s\n",
      "[CV] clf__criterion=entropy, clf__max_depth=5, clf__min_samples_leaf=1, clf__min_samples_split=8, clf__splitter=best \n",
      "[CV]  clf__criterion=entropy, clf__max_depth=5, clf__min_samples_leaf=1, clf__min_samples_split=8, clf__splitter=best, total=   0.2s\n",
      "[CV] clf__criterion=entropy, clf__max_depth=5, clf__min_samples_leaf=1, clf__min_samples_split=8, clf__splitter=best \n",
      "[CV]  clf__criterion=entropy, clf__max_depth=5, clf__min_samples_leaf=1, clf__min_samples_split=8, clf__splitter=best, total=   0.2s\n",
      "[CV] clf__criterion=entropy, clf__max_depth=5, clf__min_samples_leaf=1, clf__min_samples_split=8, clf__splitter=best \n",
      "[CV]  clf__criterion=entropy, clf__max_depth=5, clf__min_samples_leaf=1, clf__min_samples_split=8, clf__splitter=best, total=   0.2s\n",
      "[CV] clf__criterion=entropy, clf__max_depth=5, clf__min_samples_leaf=1, clf__min_samples_split=8, clf__splitter=random \n",
      "[CV]  clf__criterion=entropy, clf__max_depth=5, clf__min_samples_leaf=1, clf__min_samples_split=8, clf__splitter=random, total=   0.0s\n",
      "[CV] clf__criterion=entropy, clf__max_depth=5, clf__min_samples_leaf=1, clf__min_samples_split=8, clf__splitter=random \n",
      "[CV]  clf__criterion=entropy, clf__max_depth=5, clf__min_samples_leaf=1, clf__min_samples_split=8, clf__splitter=random, total=   0.0s\n",
      "[CV] clf__criterion=entropy, clf__max_depth=5, clf__min_samples_leaf=1, clf__min_samples_split=8, clf__splitter=random \n",
      "[CV]  clf__criterion=entropy, clf__max_depth=5, clf__min_samples_leaf=1, clf__min_samples_split=8, clf__splitter=random, total=   0.0s\n",
      "[CV] clf__criterion=entropy, clf__max_depth=5, clf__min_samples_leaf=3, clf__min_samples_split=2, clf__splitter=best \n",
      "[CV]  clf__criterion=entropy, clf__max_depth=5, clf__min_samples_leaf=3, clf__min_samples_split=2, clf__splitter=best, total=   0.2s\n",
      "[CV] clf__criterion=entropy, clf__max_depth=5, clf__min_samples_leaf=3, clf__min_samples_split=2, clf__splitter=best \n",
      "[CV]  clf__criterion=entropy, clf__max_depth=5, clf__min_samples_leaf=3, clf__min_samples_split=2, clf__splitter=best, total=   0.2s\n",
      "[CV] clf__criterion=entropy, clf__max_depth=5, clf__min_samples_leaf=3, clf__min_samples_split=2, clf__splitter=best \n",
      "[CV]  clf__criterion=entropy, clf__max_depth=5, clf__min_samples_leaf=3, clf__min_samples_split=2, clf__splitter=best, total=   0.3s\n",
      "[CV] clf__criterion=entropy, clf__max_depth=5, clf__min_samples_leaf=3, clf__min_samples_split=2, clf__splitter=random \n",
      "[CV]  clf__criterion=entropy, clf__max_depth=5, clf__min_samples_leaf=3, clf__min_samples_split=2, clf__splitter=random, total=   0.0s\n",
      "[CV] clf__criterion=entropy, clf__max_depth=5, clf__min_samples_leaf=3, clf__min_samples_split=2, clf__splitter=random \n",
      "[CV]  clf__criterion=entropy, clf__max_depth=5, clf__min_samples_leaf=3, clf__min_samples_split=2, clf__splitter=random, total=   0.0s\n",
      "[CV] clf__criterion=entropy, clf__max_depth=5, clf__min_samples_leaf=3, clf__min_samples_split=2, clf__splitter=random \n",
      "[CV]  clf__criterion=entropy, clf__max_depth=5, clf__min_samples_leaf=3, clf__min_samples_split=2, clf__splitter=random, total=   0.0s\n",
      "[CV] clf__criterion=entropy, clf__max_depth=5, clf__min_samples_leaf=3, clf__min_samples_split=4, clf__splitter=best \n",
      "[CV]  clf__criterion=entropy, clf__max_depth=5, clf__min_samples_leaf=3, clf__min_samples_split=4, clf__splitter=best, total=   0.2s\n",
      "[CV] clf__criterion=entropy, clf__max_depth=5, clf__min_samples_leaf=3, clf__min_samples_split=4, clf__splitter=best \n",
      "[CV]  clf__criterion=entropy, clf__max_depth=5, clf__min_samples_leaf=3, clf__min_samples_split=4, clf__splitter=best, total=   0.3s\n",
      "[CV] clf__criterion=entropy, clf__max_depth=5, clf__min_samples_leaf=3, clf__min_samples_split=4, clf__splitter=best \n",
      "[CV]  clf__criterion=entropy, clf__max_depth=5, clf__min_samples_leaf=3, clf__min_samples_split=4, clf__splitter=best, total=   0.2s\n",
      "[CV] clf__criterion=entropy, clf__max_depth=5, clf__min_samples_leaf=3, clf__min_samples_split=4, clf__splitter=random \n",
      "[CV]  clf__criterion=entropy, clf__max_depth=5, clf__min_samples_leaf=3, clf__min_samples_split=4, clf__splitter=random, total=   0.0s\n",
      "[CV] clf__criterion=entropy, clf__max_depth=5, clf__min_samples_leaf=3, clf__min_samples_split=4, clf__splitter=random \n",
      "[CV]  clf__criterion=entropy, clf__max_depth=5, clf__min_samples_leaf=3, clf__min_samples_split=4, clf__splitter=random, total=   0.0s\n",
      "[CV] clf__criterion=entropy, clf__max_depth=5, clf__min_samples_leaf=3, clf__min_samples_split=4, clf__splitter=random \n",
      "[CV]  clf__criterion=entropy, clf__max_depth=5, clf__min_samples_leaf=3, clf__min_samples_split=4, clf__splitter=random, total=   0.0s\n",
      "[CV] clf__criterion=entropy, clf__max_depth=5, clf__min_samples_leaf=3, clf__min_samples_split=8, clf__splitter=best \n"
     ]
    },
    {
     "name": "stdout",
     "output_type": "stream",
     "text": [
      "[CV]  clf__criterion=entropy, clf__max_depth=5, clf__min_samples_leaf=3, clf__min_samples_split=8, clf__splitter=best, total=   0.3s\n",
      "[CV] clf__criterion=entropy, clf__max_depth=5, clf__min_samples_leaf=3, clf__min_samples_split=8, clf__splitter=best \n",
      "[CV]  clf__criterion=entropy, clf__max_depth=5, clf__min_samples_leaf=3, clf__min_samples_split=8, clf__splitter=best, total=   0.2s\n",
      "[CV] clf__criterion=entropy, clf__max_depth=5, clf__min_samples_leaf=3, clf__min_samples_split=8, clf__splitter=best \n",
      "[CV]  clf__criterion=entropy, clf__max_depth=5, clf__min_samples_leaf=3, clf__min_samples_split=8, clf__splitter=best, total=   0.2s\n",
      "[CV] clf__criterion=entropy, clf__max_depth=5, clf__min_samples_leaf=3, clf__min_samples_split=8, clf__splitter=random \n",
      "[CV]  clf__criterion=entropy, clf__max_depth=5, clf__min_samples_leaf=3, clf__min_samples_split=8, clf__splitter=random, total=   0.0s\n",
      "[CV] clf__criterion=entropy, clf__max_depth=5, clf__min_samples_leaf=3, clf__min_samples_split=8, clf__splitter=random \n",
      "[CV]  clf__criterion=entropy, clf__max_depth=5, clf__min_samples_leaf=3, clf__min_samples_split=8, clf__splitter=random, total=   0.0s\n",
      "[CV] clf__criterion=entropy, clf__max_depth=5, clf__min_samples_leaf=3, clf__min_samples_split=8, clf__splitter=random \n",
      "[CV]  clf__criterion=entropy, clf__max_depth=5, clf__min_samples_leaf=3, clf__min_samples_split=8, clf__splitter=random, total=   0.0s\n",
      "[CV] clf__criterion=entropy, clf__max_depth=5, clf__min_samples_leaf=5, clf__min_samples_split=2, clf__splitter=best \n",
      "[CV]  clf__criterion=entropy, clf__max_depth=5, clf__min_samples_leaf=5, clf__min_samples_split=2, clf__splitter=best, total=   0.2s\n",
      "[CV] clf__criterion=entropy, clf__max_depth=5, clf__min_samples_leaf=5, clf__min_samples_split=2, clf__splitter=best \n",
      "[CV]  clf__criterion=entropy, clf__max_depth=5, clf__min_samples_leaf=5, clf__min_samples_split=2, clf__splitter=best, total=   0.2s\n",
      "[CV] clf__criterion=entropy, clf__max_depth=5, clf__min_samples_leaf=5, clf__min_samples_split=2, clf__splitter=best \n",
      "[CV]  clf__criterion=entropy, clf__max_depth=5, clf__min_samples_leaf=5, clf__min_samples_split=2, clf__splitter=best, total=   0.2s\n",
      "[CV] clf__criterion=entropy, clf__max_depth=5, clf__min_samples_leaf=5, clf__min_samples_split=2, clf__splitter=random \n",
      "[CV]  clf__criterion=entropy, clf__max_depth=5, clf__min_samples_leaf=5, clf__min_samples_split=2, clf__splitter=random, total=   0.0s\n",
      "[CV] clf__criterion=entropy, clf__max_depth=5, clf__min_samples_leaf=5, clf__min_samples_split=2, clf__splitter=random \n",
      "[CV]  clf__criterion=entropy, clf__max_depth=5, clf__min_samples_leaf=5, clf__min_samples_split=2, clf__splitter=random, total=   0.0s\n",
      "[CV] clf__criterion=entropy, clf__max_depth=5, clf__min_samples_leaf=5, clf__min_samples_split=2, clf__splitter=random \n",
      "[CV]  clf__criterion=entropy, clf__max_depth=5, clf__min_samples_leaf=5, clf__min_samples_split=2, clf__splitter=random, total=   0.0s\n",
      "[CV] clf__criterion=entropy, clf__max_depth=5, clf__min_samples_leaf=5, clf__min_samples_split=4, clf__splitter=best \n",
      "[CV]  clf__criterion=entropy, clf__max_depth=5, clf__min_samples_leaf=5, clf__min_samples_split=4, clf__splitter=best, total=   0.2s\n",
      "[CV] clf__criterion=entropy, clf__max_depth=5, clf__min_samples_leaf=5, clf__min_samples_split=4, clf__splitter=best \n",
      "[CV]  clf__criterion=entropy, clf__max_depth=5, clf__min_samples_leaf=5, clf__min_samples_split=4, clf__splitter=best, total=   0.2s\n",
      "[CV] clf__criterion=entropy, clf__max_depth=5, clf__min_samples_leaf=5, clf__min_samples_split=4, clf__splitter=best \n",
      "[CV]  clf__criterion=entropy, clf__max_depth=5, clf__min_samples_leaf=5, clf__min_samples_split=4, clf__splitter=best, total=   0.3s\n",
      "[CV] clf__criterion=entropy, clf__max_depth=5, clf__min_samples_leaf=5, clf__min_samples_split=4, clf__splitter=random \n",
      "[CV]  clf__criterion=entropy, clf__max_depth=5, clf__min_samples_leaf=5, clf__min_samples_split=4, clf__splitter=random, total=   0.0s\n",
      "[CV] clf__criterion=entropy, clf__max_depth=5, clf__min_samples_leaf=5, clf__min_samples_split=4, clf__splitter=random \n",
      "[CV]  clf__criterion=entropy, clf__max_depth=5, clf__min_samples_leaf=5, clf__min_samples_split=4, clf__splitter=random, total=   0.0s\n",
      "[CV] clf__criterion=entropy, clf__max_depth=5, clf__min_samples_leaf=5, clf__min_samples_split=4, clf__splitter=random \n",
      "[CV]  clf__criterion=entropy, clf__max_depth=5, clf__min_samples_leaf=5, clf__min_samples_split=4, clf__splitter=random, total=   0.0s\n",
      "[CV] clf__criterion=entropy, clf__max_depth=5, clf__min_samples_leaf=5, clf__min_samples_split=8, clf__splitter=best \n",
      "[CV]  clf__criterion=entropy, clf__max_depth=5, clf__min_samples_leaf=5, clf__min_samples_split=8, clf__splitter=best, total=   0.3s\n",
      "[CV] clf__criterion=entropy, clf__max_depth=5, clf__min_samples_leaf=5, clf__min_samples_split=8, clf__splitter=best \n",
      "[CV]  clf__criterion=entropy, clf__max_depth=5, clf__min_samples_leaf=5, clf__min_samples_split=8, clf__splitter=best, total=   0.2s\n",
      "[CV] clf__criterion=entropy, clf__max_depth=5, clf__min_samples_leaf=5, clf__min_samples_split=8, clf__splitter=best \n",
      "[CV]  clf__criterion=entropy, clf__max_depth=5, clf__min_samples_leaf=5, clf__min_samples_split=8, clf__splitter=best, total=   0.3s\n",
      "[CV] clf__criterion=entropy, clf__max_depth=5, clf__min_samples_leaf=5, clf__min_samples_split=8, clf__splitter=random \n",
      "[CV]  clf__criterion=entropy, clf__max_depth=5, clf__min_samples_leaf=5, clf__min_samples_split=8, clf__splitter=random, total=   0.0s\n",
      "[CV] clf__criterion=entropy, clf__max_depth=5, clf__min_samples_leaf=5, clf__min_samples_split=8, clf__splitter=random \n",
      "[CV]  clf__criterion=entropy, clf__max_depth=5, clf__min_samples_leaf=5, clf__min_samples_split=8, clf__splitter=random, total=   0.0s\n",
      "[CV] clf__criterion=entropy, clf__max_depth=5, clf__min_samples_leaf=5, clf__min_samples_split=8, clf__splitter=random \n",
      "[CV]  clf__criterion=entropy, clf__max_depth=5, clf__min_samples_leaf=5, clf__min_samples_split=8, clf__splitter=random, total=   0.0s\n"
     ]
    },
    {
     "name": "stderr",
     "output_type": "stream",
     "text": [
      "[Parallel(n_jobs=1)]: Done 324 out of 324 | elapsed:  1.0min finished\n"
     ]
    },
    {
     "name": "stdout",
     "output_type": "stream",
     "text": [
      "DecisionTree Best Parameters:  {'clf__criterion': 'gini', 'clf__max_depth': None, 'clf__min_samples_leaf': 5, 'clf__min_samples_split': 2, 'clf__splitter': 'best'}\n"
     ]
    }
   ],
   "source": [
    "# Dictionary storing the best estimators for each classifier\n",
    "best_estimators = {}\n",
    "\n",
    "# Grid Searching each classifier\n",
    "for name, vals in top3.items():\n",
    "    print(name + ' -'*30)\n",
    "    \n",
    "    # Grid Searching \n",
    "    gs = GridSearchCV(vals[0], vals[1] , cv=3, return_train_score=True, verbose=2, scoring='f1_macro')\n",
    "    gs.fit(X_train, y_train)\n",
    "    \n",
    "    # Printing out the best parameters for the selected classifier\n",
    "    print(name+' Best Parameters: ', gs.best_params_)\n",
    "    \n",
    "    # Saving the best estimators/tuned models\n",
    "    best_estimators[name+'_clf'] = gs.best_estimator_"
   ]
  },
  {
   "cell_type": "markdown",
   "metadata": {},
   "source": [
    "### Classification Report for each Tuned Model"
   ]
  },
  {
   "cell_type": "code",
   "execution_count": 98,
   "metadata": {},
   "outputs": [
    {
     "name": "stdout",
     "output_type": "stream",
     "text": [
      "\n",
      "Tuned RandomForest_clf (Macro Avg - F1 Score):\n",
      "0.36930744029904666\n",
      "\n",
      "Tuned KNN_clf (Macro Avg - F1 Score):\n",
      "0.36259265804792146\n",
      "\n",
      "Tuned DecisionTree_clf (Macro Avg - F1 Score):\n",
      "0.3663486005195599\n"
     ]
    }
   ],
   "source": [
    "# Looping through each tuned model's predictions and getting their classification reports\n",
    "for name, pipe in best_estimators.items():\n",
    "    print('\\nTuned '+ name + ' (Macro Avg - F1 Score):')\n",
    "    \n",
    "    report = classification_report(y_test, pipe.predict(X_test), target_names=['Sell', 'Buy', 'Hold'], output_dict=True)\n",
    "    print(report['macro avg']['f1-score'])"
   ]
  },
  {
   "cell_type": "markdown",
   "metadata": {},
   "source": [
    "## Confusion Matrix for Tuned Model"
   ]
  },
  {
   "cell_type": "markdown",
   "metadata": {},
   "source": [
    "Function for the Confusion Matrix"
   ]
  },
  {
   "cell_type": "code",
   "execution_count": 102,
   "metadata": {},
   "outputs": [],
   "source": [
    "def plot_confusion_matrix(y_true, y_pred, labels=[\"Sell\", \"Buy\", \"Hold\"], \n",
    "                          normalize=False, title=None, cmap=plt.cm.coolwarm):\n",
    "\n",
    "    cm = confusion_matrix(y_true, y_pred)\n",
    "    fig, ax = plt.subplots(figsize=(12,6))\n",
    "    im = ax.imshow(cm, interpolation='nearest', cmap=cmap)\n",
    "    ax.figure.colorbar(im, ax=ax)\n",
    "    # We want to show all ticks...\n",
    "    ax.set(xticks=np.arange(cm.shape[1]),\n",
    "           yticks=np.arange(cm.shape[0]),\n",
    "           # ... and label them with the respective list entries\n",
    "           xticklabels=labels, yticklabels=labels,\n",
    "           title=title,\n",
    "           ylabel='ACTUAL',\n",
    "           xlabel='PREDICTED')\n",
    "    # Rotate the tick labels and set their alignment.\n",
    "    plt.setp(ax.get_xticklabels(), rotation=45, ha=\"right\",\n",
    "             rotation_mode=\"anchor\")\n",
    "    # Loop over data dimensions and create text annotations.\n",
    "    fmt = '.2f' if normalize else 'd'\n",
    "    thresh = cm.max() / 1.5\n",
    "    for i in range(cm.shape[0]):\n",
    "        for j in range(cm.shape[1]):\n",
    "            ax.text(j, i, format(cm[i, j], fmt),\n",
    "                    ha=\"center\", va=\"center\",\n",
    "                    color=\"snow\" if cm[i, j] > thresh else \"orange\",\n",
    "                    size=26)\n",
    "    ax.grid(False)\n",
    "    fig.tight_layout()\n",
    "    return ax"
   ]
  },
  {
   "cell_type": "markdown",
   "metadata": {},
   "source": [
    "### Confusion Matrix for Random Forest Classifier\n",
    "Also classification report"
   ]
  },
  {
   "cell_type": "code",
   "execution_count": 104,
   "metadata": {},
   "outputs": [
    {
     "data": {
      "image/png": "[encoded data removed]",
      "text/plain": [
       "<Figure size 864x432 with 2 Axes>"
      ]
     },
     "metadata": {
      "needs_background": "light"
     },
     "output_type": "display_data"
    },
    {
     "name": "stdout",
     "output_type": "stream",
     "text": [
      "              precision    recall  f1-score   support\n",
      "\n",
      "        Sell       0.27      0.18      0.21      2935\n",
      "         Buy       0.41      0.45      0.43      5520\n",
      "        Hold       0.45      0.48      0.47      6588\n",
      "\n",
      "   micro avg       0.41      0.41      0.41     15043\n",
      "   macro avg       0.38      0.37      0.37     15043\n",
      "weighted avg       0.40      0.41      0.40     15043\n",
      "\n"
     ]
    }
   ],
   "source": [
    "plot_confusion_matrix(y_test, best_estimators['RandomForest_clf'].predict(X_test), title=\"Confusion Matrix\")\n",
    "np.set_printoptions(precision=1)\n",
    "# Plot non-normalized confusion matrix\n",
    "plt.show()\n",
    "\n",
    "# Final Classification Report\n",
    "print(classification_report(y_test, best_estimators['RandomForest_clf'].predict(X_test), target_names=['Sell', 'Buy', 'Hold']))\n"
   ]
  },
  {
   "cell_type": "markdown",
   "metadata": {},
   "source": [
    "The __Precision__ score here is showing us that our Tuned Random Forest Classifier is correct 41% of the time for Buys and 27% of the time for Sells.  These numbers may not be the best but they still beat out the baseline model's."
   ]
  },
  {
   "cell_type": "code",
   "execution_count": null,
   "metadata": {},
   "outputs": [],
   "source": []
  }
 ],
 "metadata": {
  "kernelspec": {
   "display_name": "Python 3",
   "language": "python",
   "name": "python3"
  },
  "language_info": {
   "codemirror_mode": {
    "name": "ipython",
    "version": 3
   },
   "file_extension": ".py",
   "mimetype": "text/x-python",
   "name": "python",
   "nbconvert_exporter": "python",
   "pygments_lexer": "ipython3",
   "version": "3.7.3"
  }
 },
 "nbformat": 4,
 "nbformat_minor": 2
}
