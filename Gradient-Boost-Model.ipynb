{
 "cells": [
  {
   "cell_type": "markdown",
   "metadata": {},
   "source": [
    "# Model: Gradient Boost"
   ]
  },
  {
   "cell_type": "markdown",
   "metadata": {},
   "source": [
    "### Importing Libraries"
   ]
  },
  {
   "cell_type": "code",
   "execution_count": 7,
   "metadata": {},
   "outputs": [],
   "source": [
    "import _pickle as pickle\n",
    "import numpy as np\n",
    "import pandas as pd\n",
    "from sklearn.model_selection import train_test_split\n",
    "from sklearn.metrics import precision_score, recall_score, accuracy_score, f1_score, confusion_matrix, classification_report\n",
    "import matplotlib.pyplot as plt"
   ]
  },
  {
   "cell_type": "markdown",
   "metadata": {},
   "source": [
    "### Loading in Data"
   ]
  },
  {
   "cell_type": "code",
   "execution_count": 8,
   "metadata": {},
   "outputs": [],
   "source": [
    "with open(\"top10_df.pkl\",'rb') as fp:\n",
    "    df = pickle.load(fp)"
   ]
  },
  {
   "cell_type": "markdown",
   "metadata": {},
   "source": [
    "### Scaling the Data"
   ]
  },
  {
   "cell_type": "code",
   "execution_count": 9,
   "metadata": {},
   "outputs": [],
   "source": [
    "from sklearn.preprocessing import StandardScaler\n",
    "\n",
    "scaler = StandardScaler()\n",
    "\n",
    "features_df = df.drop([\"Decision\"], 1)\n",
    "\n",
    "scaled_df = pd.DataFrame(scaler.fit_transform(features_df), \n",
    "                               index=features_df.index, \n",
    "                               columns=features_df.columns)\n",
    "\n",
    "df = scaled_df.join(df.Decision)"
   ]
  },
  {
   "cell_type": "markdown",
   "metadata": {},
   "source": [
    "### Splitting the Data"
   ]
  },
  {
   "cell_type": "code",
   "execution_count": 10,
   "metadata": {},
   "outputs": [],
   "source": [
    "X = df.drop([\"Decision\"], 1)\n",
    "y = df.Decision\n",
    "\n",
    "# Train, test, split\n",
    "X_train, X_test, y_train, y_test = train_test_split(X, y)"
   ]
  },
  {
   "cell_type": "markdown",
   "metadata": {},
   "source": [
    "### Helper Functions"
   ]
  },
  {
   "cell_type": "markdown",
   "metadata": {},
   "source": [
    "#### Function for plotting confusion matrix"
   ]
  },
  {
   "cell_type": "code",
   "execution_count": 11,
   "metadata": {},
   "outputs": [],
   "source": [
    "def plot_confusion_matrix(y_true, y_pred, labels=[\"Sell\", \"Buy\", \"Hold\"], \n",
    "                          normalize=False, title=None, cmap=plt.cm.coolwarm):\n",
    "\n",
    "    cm = confusion_matrix(y_true, y_pred)\n",
    "    fig, ax = plt.subplots(figsize=(12,6))\n",
    "    im = ax.imshow(cm, interpolation='nearest', cmap=cmap)\n",
    "    ax.figure.colorbar(im, ax=ax)\n",
    "    # We want to show all ticks...\n",
    "    ax.set(xticks=np.arange(cm.shape[1]),\n",
    "           yticks=np.arange(cm.shape[0]),\n",
    "           # ... and label them with the respective list entries\n",
    "           xticklabels=labels, yticklabels=labels,\n",
    "           title=title,\n",
    "           ylabel='ACTUAL',\n",
    "           xlabel='PREDICTED')\n",
    "    # Rotate the tick labels and set their alignment.\n",
    "    plt.setp(ax.get_xticklabels(), rotation=45, ha=\"right\",\n",
    "             rotation_mode=\"anchor\")\n",
    "    # Loop over data dimensions and create text annotations.\n",
    "    fmt = '.2f' if normalize else 'd'\n",
    "    thresh = cm.max() / 1.5\n",
    "    for i in range(cm.shape[0]):\n",
    "        for j in range(cm.shape[1]):\n",
    "            ax.text(j, i, format(cm[i, j], fmt),\n",
    "                    ha=\"center\", va=\"center\",\n",
    "                    color=\"snow\" if cm[i, j] > thresh else \"orange\",\n",
    "                    size=26)\n",
    "    ax.grid(False)\n",
    "    fig.tight_layout()\n",
    "    return ax"
   ]
  },
  {
   "cell_type": "markdown",
   "metadata": {},
   "source": [
    "## Modeling\n",
    "The preferred evaluation metric used will be __Precision__ for each class.  They will be optimized using the __F1 Score-Macro-Average__ to balance the Precision and Recall.  This is done because we want to not only be correct when predicting but also make a decent amount of predictions for each class.  Classes such as 'Buy' and 'Sell' are more important than 'Hold'."
   ]
  },
  {
   "cell_type": "markdown",
   "metadata": {},
   "source": [
    "### Fitting and Training"
   ]
  },
  {
   "cell_type": "code",
   "execution_count": 12,
   "metadata": {
    "scrolled": false
   },
   "outputs": [
    {
     "data": {
      "text/plain": [
       "GradientBoostingClassifier(criterion='friedman_mse', init=None,\n",
       "              learning_rate=0.1, loss='deviance', max_depth=3,\n",
       "              max_features=None, max_leaf_nodes=None,\n",
       "              min_impurity_decrease=0.0, min_impurity_split=None,\n",
       "              min_samples_leaf=1, min_samples_split=2,\n",
       "              min_weight_fraction_leaf=0.0, n_estimators=100,\n",
       "              n_iter_no_change=None, presort='auto', random_state=None,\n",
       "              subsample=1.0, tol=0.0001, validation_fraction=0.1,\n",
       "              verbose=0, warm_start=False)"
      ]
     },
     "execution_count": 12,
     "metadata": {},
     "output_type": "execute_result"
    }
   ],
   "source": [
    "# Importing the model\n",
    "from sklearn.ensemble import GradientBoostingClassifier\n",
    "\n",
    "# Fitting and training\n",
    "clf = GradientBoostingClassifier()\n",
    "clf.fit(X_train, y_train)"
   ]
  },
  {
   "cell_type": "markdown",
   "metadata": {},
   "source": [
    "### Printing out Evaluation Metrics"
   ]
  },
  {
   "cell_type": "code",
   "execution_count": 13,
   "metadata": {},
   "outputs": [
    {
     "name": "stdout",
     "output_type": "stream",
     "text": [
      "              precision    recall  f1-score   support\n",
      "\n",
      "        Sell       0.39      0.03      0.06      2884\n",
      "         Buy       0.48      0.32      0.38      5565\n",
      "        Hold       0.46      0.78      0.58      6594\n",
      "\n",
      "   micro avg       0.47      0.47      0.47     15043\n",
      "   macro avg       0.45      0.38      0.34     15043\n",
      "weighted avg       0.46      0.47      0.41     15043\n",
      "\n"
     ]
    }
   ],
   "source": [
    "# Classifier predictions\n",
    "pred = clf.predict(X_test)\n",
    "\n",
    "#Printing out results\n",
    "report = classification_report(y_test, pred, target_names=['Sell', 'Buy', 'Hold'])\n",
    "print(report)"
   ]
  },
  {
   "cell_type": "markdown",
   "metadata": {},
   "source": [
    "### Confusion Matrix"
   ]
  },
  {
   "cell_type": "code",
   "execution_count": 14,
   "metadata": {},
   "outputs": [
    {
     "data": {
      "image/png": "[encoded data removed]",
      "text/plain": [
       "<Figure size 864x432 with 2 Axes>"
      ]
     },
     "metadata": {
      "needs_background": "light"
     },
     "output_type": "display_data"
    }
   ],
   "source": [
    "plot_confusion_matrix(y_test, pred, title=\"Confusion Matrix\")\n",
    "np.set_printoptions(precision=1)\n",
    "# Plot non-normalized confusion matrix\n",
    "plt.show()"
   ]
  },
  {
   "cell_type": "markdown",
   "metadata": {},
   "source": [
    "## Tuning Model Parameters"
   ]
  },
  {
   "cell_type": "code",
   "execution_count": 15,
   "metadata": {},
   "outputs": [],
   "source": [
    "from sklearn.model_selection import GridSearchCV"
   ]
  },
  {
   "cell_type": "markdown",
   "metadata": {},
   "source": [
    "_(Due to processing time, randomized search is used over grid search)_"
   ]
  },
  {
   "cell_type": "markdown",
   "metadata": {},
   "source": [
    "### Parameters"
   ]
  },
  {
   "cell_type": "code",
   "execution_count": 16,
   "metadata": {},
   "outputs": [],
   "source": [
    "# Parameters to Tune\n",
    "params = {'n_estimators': [50,100, 200],\n",
    "          'learning_rate': [1,0.1,.01],\n",
    "          'max_depth': [1, 3, 6],\n",
    "          'min_samples_split': [2, 5],\n",
    "          'min_samples_leaf': [1, 3, 5]}"
   ]
  },
  {
   "cell_type": "code",
   "execution_count": null,
   "metadata": {
    "scrolled": true
   },
   "outputs": [
    {
     "name": "stdout",
     "output_type": "stream",
     "text": [
      "Fitting 3 folds for each of 162 candidates, totalling 486 fits\n",
      "[CV] learning_rate=1, max_depth=1, min_samples_leaf=1, min_samples_split=2, n_estimators=50 \n"
     ]
    },
    {
     "name": "stderr",
     "output_type": "stream",
     "text": [
      "[Parallel(n_jobs=1)]: Using backend SequentialBackend with 1 concurrent workers.\n"
     ]
    },
    {
     "name": "stdout",
     "output_type": "stream",
     "text": [
      "[CV]  learning_rate=1, max_depth=1, min_samples_leaf=1, min_samples_split=2, n_estimators=50, score=0.3481273468701316, total=   3.7s\n",
      "[CV] learning_rate=1, max_depth=1, min_samples_leaf=1, min_samples_split=2, n_estimators=50 \n"
     ]
    },
    {
     "name": "stderr",
     "output_type": "stream",
     "text": [
      "[Parallel(n_jobs=1)]: Done   1 out of   1 | elapsed:    3.7s remaining:    0.0s\n"
     ]
    },
    {
     "name": "stdout",
     "output_type": "stream",
     "text": [
      "[CV]  learning_rate=1, max_depth=1, min_samples_leaf=1, min_samples_split=2, n_estimators=50, score=0.3419696526943517, total=   3.5s\n",
      "[CV] learning_rate=1, max_depth=1, min_samples_leaf=1, min_samples_split=2, n_estimators=50 \n"
     ]
    },
    {
     "name": "stderr",
     "output_type": "stream",
     "text": [
      "[Parallel(n_jobs=1)]: Done   2 out of   2 | elapsed:    7.4s remaining:    0.0s\n"
     ]
    },
    {
     "name": "stdout",
     "output_type": "stream",
     "text": [
      "[CV]  learning_rate=1, max_depth=1, min_samples_leaf=1, min_samples_split=2, n_estimators=50, score=0.3441798272899623, total=   3.2s\n",
      "[CV] learning_rate=1, max_depth=1, min_samples_leaf=1, min_samples_split=2, n_estimators=100 \n"
     ]
    },
    {
     "name": "stderr",
     "output_type": "stream",
     "text": [
      "[Parallel(n_jobs=1)]: Done   3 out of   3 | elapsed:   10.7s remaining:    0.0s\n"
     ]
    },
    {
     "name": "stdout",
     "output_type": "stream",
     "text": [
      "[CV]  learning_rate=1, max_depth=1, min_samples_leaf=1, min_samples_split=2, n_estimators=100, score=0.34824476694733936, total=   6.7s\n",
      "[CV] learning_rate=1, max_depth=1, min_samples_leaf=1, min_samples_split=2, n_estimators=100 \n"
     ]
    },
    {
     "name": "stderr",
     "output_type": "stream",
     "text": [
      "[Parallel(n_jobs=1)]: Done   4 out of   4 | elapsed:   17.5s remaining:    0.0s\n"
     ]
    },
    {
     "name": "stdout",
     "output_type": "stream",
     "text": [
      "[CV]  learning_rate=1, max_depth=1, min_samples_leaf=1, min_samples_split=2, n_estimators=100, score=0.34552486620542755, total=  10.6s\n",
      "[CV] learning_rate=1, max_depth=1, min_samples_leaf=1, min_samples_split=2, n_estimators=100 \n",
      "[CV]  learning_rate=1, max_depth=1, min_samples_leaf=1, min_samples_split=2, n_estimators=100, score=0.3455553729160359, total=   7.6s\n",
      "[CV] learning_rate=1, max_depth=1, min_samples_leaf=1, min_samples_split=2, n_estimators=200 \n",
      "[CV]  learning_rate=1, max_depth=1, min_samples_leaf=1, min_samples_split=2, n_estimators=200, score=0.35162171365100897, total=  13.6s\n",
      "[CV] learning_rate=1, max_depth=1, min_samples_leaf=1, min_samples_split=2, n_estimators=200 \n",
      "[CV]  learning_rate=1, max_depth=1, min_samples_leaf=1, min_samples_split=2, n_estimators=200, score=0.3455971679669219, total=  14.5s\n",
      "[CV] learning_rate=1, max_depth=1, min_samples_leaf=1, min_samples_split=2, n_estimators=200 \n",
      "[CV]  learning_rate=1, max_depth=1, min_samples_leaf=1, min_samples_split=2, n_estimators=200, score=0.34855913395456883, total=  12.4s\n",
      "[CV] learning_rate=1, max_depth=1, min_samples_leaf=1, min_samples_split=5, n_estimators=50 \n",
      "[CV]  learning_rate=1, max_depth=1, min_samples_leaf=1, min_samples_split=5, n_estimators=50, score=0.3481273468701316, total=   3.6s\n",
      "[CV] learning_rate=1, max_depth=1, min_samples_leaf=1, min_samples_split=5, n_estimators=50 \n",
      "[CV]  learning_rate=1, max_depth=1, min_samples_leaf=1, min_samples_split=5, n_estimators=50, score=0.3419696526943517, total=   3.8s\n",
      "[CV] learning_rate=1, max_depth=1, min_samples_leaf=1, min_samples_split=5, n_estimators=50 \n",
      "[CV]  learning_rate=1, max_depth=1, min_samples_leaf=1, min_samples_split=5, n_estimators=50, score=0.3441798272899623, total=   3.7s\n",
      "[CV] learning_rate=1, max_depth=1, min_samples_leaf=1, min_samples_split=5, n_estimators=100 \n",
      "[CV]  learning_rate=1, max_depth=1, min_samples_leaf=1, min_samples_split=5, n_estimators=100, score=0.34824476694733936, total=  12.2s\n",
      "[CV] learning_rate=1, max_depth=1, min_samples_leaf=1, min_samples_split=5, n_estimators=100 \n",
      "[CV]  learning_rate=1, max_depth=1, min_samples_leaf=1, min_samples_split=5, n_estimators=100, score=0.34552486620542755, total=   8.2s\n",
      "[CV] learning_rate=1, max_depth=1, min_samples_leaf=1, min_samples_split=5, n_estimators=100 \n",
      "[CV]  learning_rate=1, max_depth=1, min_samples_leaf=1, min_samples_split=5, n_estimators=100, score=0.3455553729160359, total=   6.9s\n",
      "[CV] learning_rate=1, max_depth=1, min_samples_leaf=1, min_samples_split=5, n_estimators=200 \n",
      "[CV]  learning_rate=1, max_depth=1, min_samples_leaf=1, min_samples_split=5, n_estimators=200, score=0.35162171365100897, total=  15.0s\n",
      "[CV] learning_rate=1, max_depth=1, min_samples_leaf=1, min_samples_split=5, n_estimators=200 \n",
      "[CV]  learning_rate=1, max_depth=1, min_samples_leaf=1, min_samples_split=5, n_estimators=200, score=0.3455971679669219, total=  15.5s\n",
      "[CV] learning_rate=1, max_depth=1, min_samples_leaf=1, min_samples_split=5, n_estimators=200 \n",
      "[CV]  learning_rate=1, max_depth=1, min_samples_leaf=1, min_samples_split=5, n_estimators=200, score=0.34855913395456883, total=  13.5s\n",
      "[CV] learning_rate=1, max_depth=1, min_samples_leaf=3, min_samples_split=2, n_estimators=50 \n",
      "[CV]  learning_rate=1, max_depth=1, min_samples_leaf=3, min_samples_split=2, n_estimators=50, score=0.34648199576295413, total=   3.4s\n",
      "[CV] learning_rate=1, max_depth=1, min_samples_leaf=3, min_samples_split=2, n_estimators=50 \n",
      "[CV]  learning_rate=1, max_depth=1, min_samples_leaf=3, min_samples_split=2, n_estimators=50, score=0.3418576423024738, total=   3.7s\n",
      "[CV] learning_rate=1, max_depth=1, min_samples_leaf=3, min_samples_split=2, n_estimators=50 \n",
      "[CV]  learning_rate=1, max_depth=1, min_samples_leaf=3, min_samples_split=2, n_estimators=50, score=0.3449147717889729, total=   3.7s\n",
      "[CV] learning_rate=1, max_depth=1, min_samples_leaf=3, min_samples_split=2, n_estimators=100 \n",
      "[CV]  learning_rate=1, max_depth=1, min_samples_leaf=3, min_samples_split=2, n_estimators=100, score=0.3486782067751772, total=   6.4s\n",
      "[CV] learning_rate=1, max_depth=1, min_samples_leaf=3, min_samples_split=2, n_estimators=100 \n",
      "[CV]  learning_rate=1, max_depth=1, min_samples_leaf=3, min_samples_split=2, n_estimators=100, score=0.3452041056218844, total=   7.9s\n",
      "[CV] learning_rate=1, max_depth=1, min_samples_leaf=3, min_samples_split=2, n_estimators=100 \n",
      "[CV]  learning_rate=1, max_depth=1, min_samples_leaf=3, min_samples_split=2, n_estimators=100, score=0.34851811934946575, total=  12.7s\n",
      "[CV] learning_rate=1, max_depth=1, min_samples_leaf=3, min_samples_split=2, n_estimators=200 \n",
      "[CV]  learning_rate=1, max_depth=1, min_samples_leaf=3, min_samples_split=2, n_estimators=200, score=0.3522732632292205, total=  20.1s\n",
      "[CV] learning_rate=1, max_depth=1, min_samples_leaf=3, min_samples_split=2, n_estimators=200 \n",
      "[CV]  learning_rate=1, max_depth=1, min_samples_leaf=3, min_samples_split=2, n_estimators=200, score=0.34706081918305154, total=  14.2s\n",
      "[CV] learning_rate=1, max_depth=1, min_samples_leaf=3, min_samples_split=2, n_estimators=200 \n",
      "[CV]  learning_rate=1, max_depth=1, min_samples_leaf=3, min_samples_split=2, n_estimators=200, score=0.347937559322854, total=  13.5s\n",
      "[CV] learning_rate=1, max_depth=1, min_samples_leaf=3, min_samples_split=5, n_estimators=50 \n",
      "[CV]  learning_rate=1, max_depth=1, min_samples_leaf=3, min_samples_split=5, n_estimators=50, score=0.34648199576295413, total=   3.5s\n",
      "[CV] learning_rate=1, max_depth=1, min_samples_leaf=3, min_samples_split=5, n_estimators=50 \n",
      "[CV]  learning_rate=1, max_depth=1, min_samples_leaf=3, min_samples_split=5, n_estimators=50, score=0.3418576423024738, total=   3.7s\n",
      "[CV] learning_rate=1, max_depth=1, min_samples_leaf=3, min_samples_split=5, n_estimators=50 \n"
     ]
    }
   ],
   "source": [
    "#search = RandomizedSearchCV(clf, params, n_iter=20, cv=3, return_train_score=True, verbose=5, scoring='f1_macro')\n",
    "search = GridSearchCV(clf, params, cv=3, return_train_score=True, verbose=5, scoring='f1_macro')\n",
    "\n",
    "\n",
    "search.fit(X,y)"
   ]
  },
  {
   "cell_type": "markdown",
   "metadata": {},
   "source": [
    "### Tuned Results"
   ]
  },
  {
   "cell_type": "code",
   "execution_count": null,
   "metadata": {},
   "outputs": [],
   "source": [
    "print(\"Mean Training Score:\", np.mean(search.cv_results_['mean_train_score']))\n",
    "print(\"Mean Testing Score:\", search.score(X, y))\n",
    "print(\"\\nBest Parameter Found:\")\n",
    "search.best_params_"
   ]
  },
  {
   "cell_type": "markdown",
   "metadata": {},
   "source": [
    "### Model with the Best Parameters"
   ]
  },
  {
   "cell_type": "code",
   "execution_count": null,
   "metadata": {},
   "outputs": [],
   "source": [
    "search_clf = search.best_estimator_\n",
    "\n",
    "search_clf.fit(X_train, y_train)"
   ]
  },
  {
   "cell_type": "markdown",
   "metadata": {},
   "source": [
    "#### Results from Optimum Parameters"
   ]
  },
  {
   "cell_type": "code",
   "execution_count": null,
   "metadata": {},
   "outputs": [],
   "source": [
    "# Classifier predictions\n",
    "s_pred = search_clf.predict(X_test)\n",
    "\n",
    "#Printing out results\n",
    "report = classification_report(y_test, s_pred, target_names=['Sell', 'Buy', 'Hold'])\n",
    "print(report)"
   ]
  },
  {
   "cell_type": "markdown",
   "metadata": {},
   "source": [
    "### Confusion Matrix for Optimum Parameters"
   ]
  },
  {
   "cell_type": "code",
   "execution_count": null,
   "metadata": {},
   "outputs": [],
   "source": [
    "plot_confusion_matrix(y_test, s_pred, title=\"Confusion Matrix\")\n",
    "np.set_printoptions(precision=1)\n",
    "# Plot non-normalized confusion matrix\n",
    "plt.show()"
   ]
  },
  {
   "cell_type": "code",
   "execution_count": null,
   "metadata": {},
   "outputs": [],
   "source": []
  }
 ],
 "metadata": {
  "kernelspec": {
   "display_name": "Python 3",
   "language": "python",
   "name": "python3"
  },
  "language_info": {
   "codemirror_mode": {
    "name": "ipython",
    "version": 3
   },
   "file_extension": ".py",
   "mimetype": "text/x-python",
   "name": "python",
   "nbconvert_exporter": "python",
   "pygments_lexer": "ipython3",
   "version": "3.7.3"
  }
 },
 "nbformat": 4,
 "nbformat_minor": 2
}
