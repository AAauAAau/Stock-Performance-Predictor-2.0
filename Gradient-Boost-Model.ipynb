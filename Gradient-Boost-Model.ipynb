{
 "cells": [
  {
   "cell_type": "markdown",
   "metadata": {},
   "source": [
    "# Model: Gradient Boost"
   ]
  },
  {
   "cell_type": "markdown",
   "metadata": {},
   "source": [
    "### Importing Libraries"
   ]
  },
  {
   "cell_type": "code",
   "execution_count": 1,
   "metadata": {},
   "outputs": [],
   "source": [
    "import _pickle as pickle\n",
    "import numpy as np\n",
    "import pandas as pd\n",
    "from sklearn.model_selection import train_test_split\n",
    "from sklearn.metrics import precision_score, recall_score, accuracy_score, f1_score, confusion_matrix, classification_report\n",
    "import matplotlib.pyplot as plt"
   ]
  },
  {
   "cell_type": "markdown",
   "metadata": {},
   "source": [
    "### Loading in Data"
   ]
  },
  {
   "cell_type": "code",
   "execution_count": 2,
   "metadata": {},
   "outputs": [],
   "source": [
    "with open(\"top10_df.pkl\",'rb') as fp:\n",
    "    df = pickle.load(fp)"
   ]
  },
  {
   "cell_type": "markdown",
   "metadata": {},
   "source": [
    "### Scaling the Data"
   ]
  },
  {
   "cell_type": "code",
   "execution_count": 3,
   "metadata": {},
   "outputs": [],
   "source": [
    "from sklearn.preprocessing import StandardScaler\n",
    "\n",
    "scaler = StandardScaler()\n",
    "\n",
    "features_df = df.drop([\"Decision\"], 1)\n",
    "\n",
    "scaled_df = pd.DataFrame(scaler.fit_transform(features_df), \n",
    "                               index=features_df.index, \n",
    "                               columns=features_df.columns)\n",
    "\n",
    "df = scaled_df.join(df.Decision)"
   ]
  },
  {
   "cell_type": "markdown",
   "metadata": {},
   "source": [
    "### Splitting the Data"
   ]
  },
  {
   "cell_type": "code",
   "execution_count": 4,
   "metadata": {},
   "outputs": [],
   "source": [
    "X = df.drop([\"Decision\"], 1)\n",
    "y = df.Decision\n",
    "\n",
    "# Train, test, split\n",
    "X_train, X_test, y_train, y_test = train_test_split(X, y)"
   ]
  },
  {
   "cell_type": "markdown",
   "metadata": {},
   "source": [
    "### Helper Functions"
   ]
  },
  {
   "cell_type": "markdown",
   "metadata": {},
   "source": [
    "#### Function for plotting confusion matrix"
   ]
  },
  {
   "cell_type": "code",
   "execution_count": 5,
   "metadata": {},
   "outputs": [],
   "source": [
    "def plot_confusion_matrix(y_true, y_pred, labels=[\"Sell\", \"Buy\", \"Hold\"], \n",
    "                          normalize=False, title=None, cmap=plt.cm.coolwarm):\n",
    "\n",
    "    cm = confusion_matrix(y_true, y_pred)\n",
    "    fig, ax = plt.subplots(figsize=(12,6))\n",
    "    im = ax.imshow(cm, interpolation='nearest', cmap=cmap)\n",
    "    ax.figure.colorbar(im, ax=ax)\n",
    "    # We want to show all ticks...\n",
    "    ax.set(xticks=np.arange(cm.shape[1]),\n",
    "           yticks=np.arange(cm.shape[0]),\n",
    "           # ... and label them with the respective list entries\n",
    "           xticklabels=labels, yticklabels=labels,\n",
    "           title=title,\n",
    "           ylabel='ACTUAL',\n",
    "           xlabel='PREDICTED')\n",
    "    # Rotate the tick labels and set their alignment.\n",
    "    plt.setp(ax.get_xticklabels(), rotation=45, ha=\"right\",\n",
    "             rotation_mode=\"anchor\")\n",
    "    # Loop over data dimensions and create text annotations.\n",
    "    fmt = '.2f' if normalize else 'd'\n",
    "    thresh = cm.max() / 1.5\n",
    "    for i in range(cm.shape[0]):\n",
    "        for j in range(cm.shape[1]):\n",
    "            ax.text(j, i, format(cm[i, j], fmt),\n",
    "                    ha=\"center\", va=\"center\",\n",
    "                    color=\"snow\" if cm[i, j] > thresh else \"orange\",\n",
    "                    size=26)\n",
    "    ax.grid(False)\n",
    "    fig.tight_layout()\n",
    "    return ax"
   ]
  },
  {
   "cell_type": "markdown",
   "metadata": {},
   "source": [
    "## Modeling\n",
    "The preferred evaluation metric used will be __Precision__ for each class.  They will be optimized using the __F1 Score-Macro-Average__ to balance the Precision and Recall.  This is done because we want to not only be correct when predicting but also make a decent amount of predictions for each class.  Classes such as 'Buy' and 'Sell' are more important than 'Hold'."
   ]
  },
  {
   "cell_type": "markdown",
   "metadata": {},
   "source": [
    "### Fitting and Training"
   ]
  },
  {
   "cell_type": "code",
   "execution_count": 6,
   "metadata": {
    "scrolled": false
   },
   "outputs": [
    {
     "data": {
      "text/plain": [
       "GradientBoostingClassifier(criterion='friedman_mse', init=None,\n",
       "              learning_rate=0.1, loss='deviance', max_depth=3,\n",
       "              max_features=None, max_leaf_nodes=None,\n",
       "              min_impurity_decrease=0.0, min_impurity_split=None,\n",
       "              min_samples_leaf=1, min_samples_split=2,\n",
       "              min_weight_fraction_leaf=0.0, n_estimators=100,\n",
       "              n_iter_no_change=None, presort='auto', random_state=None,\n",
       "              subsample=1.0, tol=0.0001, validation_fraction=0.1,\n",
       "              verbose=0, warm_start=False)"
      ]
     },
     "execution_count": 6,
     "metadata": {},
     "output_type": "execute_result"
    }
   ],
   "source": [
    "# Importing the model\n",
    "from sklearn.ensemble import GradientBoostingClassifier\n",
    "\n",
    "# Fitting and training\n",
    "clf = GradientBoostingClassifier()\n",
    "clf.fit(X_train, y_train)"
   ]
  },
  {
   "cell_type": "markdown",
   "metadata": {},
   "source": [
    "### Printing out Evaluation Metrics"
   ]
  },
  {
   "cell_type": "code",
   "execution_count": 7,
   "metadata": {},
   "outputs": [
    {
     "name": "stdout",
     "output_type": "stream",
     "text": [
      "              precision    recall  f1-score   support\n",
      "\n",
      "        Sell       0.34      0.01      0.03      2236\n",
      "         Buy       0.50      0.09      0.15      4417\n",
      "        Hold       0.57      0.96      0.71      8390\n",
      "\n",
      "   micro avg       0.56      0.56      0.56     15043\n",
      "   macro avg       0.47      0.35      0.30     15043\n",
      "weighted avg       0.51      0.56      0.45     15043\n",
      "\n"
     ]
    }
   ],
   "source": [
    "# Classifier predictions\n",
    "pred = clf.predict(X_test)\n",
    "\n",
    "#Printing out results\n",
    "report = classification_report(y_test, pred, target_names=['Sell', 'Buy', 'Hold'])\n",
    "print(report)"
   ]
  },
  {
   "cell_type": "markdown",
   "metadata": {},
   "source": [
    "### Confusion Matrix"
   ]
  },
  {
   "cell_type": "code",
   "execution_count": 8,
   "metadata": {},
   "outputs": [
    {
     "data": {
      "image/png": "[encoded data removed]",
      "text/plain": [
       "<Figure size 864x432 with 2 Axes>"
      ]
     },
     "metadata": {
      "needs_background": "light"
     },
     "output_type": "display_data"
    }
   ],
   "source": [
    "plot_confusion_matrix(y_test, pred, title=\"Confusion Matrix\")\n",
    "np.set_printoptions(precision=1)\n",
    "# Plot non-normalized confusion matrix\n",
    "plt.show()"
   ]
  },
  {
   "cell_type": "markdown",
   "metadata": {},
   "source": [
    "## Tuning Model Parameters"
   ]
  },
  {
   "cell_type": "code",
   "execution_count": 17,
   "metadata": {},
   "outputs": [],
   "source": [
    "from sklearn.model_selection import RandomizedSearchCV"
   ]
  },
  {
   "cell_type": "markdown",
   "metadata": {},
   "source": [
    "_(Due to processing time, randomized search is used over grid search)_"
   ]
  },
  {
   "cell_type": "markdown",
   "metadata": {},
   "source": [
    "### Parameters"
   ]
  },
  {
   "cell_type": "code",
   "execution_count": 18,
   "metadata": {},
   "outputs": [],
   "source": [
    "# Parameters to Tune\n",
    "params = {'n_estimators': [50,100],\n",
    "          'learning_rate': [1,0.1,.01],\n",
    "          'max_depth': [None, 3, 5],\n",
    "          'min_samples_split': [5,10],\n",
    "          'min_samples_leaf': [1, 3, 5]}"
   ]
  },
  {
   "cell_type": "code",
   "execution_count": 20,
   "metadata": {
    "scrolled": true
   },
   "outputs": [
    {
     "name": "stdout",
     "output_type": "stream",
     "text": [
      "Fitting 3 folds for each of 20 candidates, totalling 60 fits\n",
      "[CV] n_estimators=50, min_samples_split=10, min_samples_leaf=1, max_depth=None, learning_rate=1 \n"
     ]
    },
    {
     "name": "stderr",
     "output_type": "stream",
     "text": [
      "[Parallel(n_jobs=1)]: Using backend SequentialBackend with 1 concurrent workers.\n"
     ]
    },
    {
     "name": "stdout",
     "output_type": "stream",
     "text": [
      "[CV]  n_estimators=50, min_samples_split=10, min_samples_leaf=1, max_depth=None, learning_rate=1, score=0.3657989898245555, total= 2.4min\n",
      "[CV] n_estimators=50, min_samples_split=10, min_samples_leaf=1, max_depth=None, learning_rate=1 \n"
     ]
    },
    {
     "name": "stderr",
     "output_type": "stream",
     "text": [
      "[Parallel(n_jobs=1)]: Done   1 out of   1 | elapsed:  2.4min remaining:    0.0s\n"
     ]
    },
    {
     "name": "stdout",
     "output_type": "stream",
     "text": [
      "[CV]  n_estimators=50, min_samples_split=10, min_samples_leaf=1, max_depth=None, learning_rate=1, score=0.3506220617940425, total= 1.7min\n",
      "[CV] n_estimators=50, min_samples_split=10, min_samples_leaf=1, max_depth=None, learning_rate=1 \n"
     ]
    },
    {
     "name": "stderr",
     "output_type": "stream",
     "text": [
      "[Parallel(n_jobs=1)]: Done   2 out of   2 | elapsed:  4.1min remaining:    0.0s\n"
     ]
    },
    {
     "name": "stdout",
     "output_type": "stream",
     "text": [
      "[CV]  n_estimators=50, min_samples_split=10, min_samples_leaf=1, max_depth=None, learning_rate=1, score=0.35777809623675055, total= 2.4min\n",
      "[CV] n_estimators=50, min_samples_split=5, min_samples_leaf=3, max_depth=5, learning_rate=0.1 \n"
     ]
    },
    {
     "name": "stderr",
     "output_type": "stream",
     "text": [
      "[Parallel(n_jobs=1)]: Done   3 out of   3 | elapsed:  6.5min remaining:    0.0s\n"
     ]
    },
    {
     "name": "stdout",
     "output_type": "stream",
     "text": [
      "[CV]  n_estimators=50, min_samples_split=5, min_samples_leaf=3, max_depth=5, learning_rate=0.1, score=0.2998376633226056, total=  13.4s\n",
      "[CV] n_estimators=50, min_samples_split=5, min_samples_leaf=3, max_depth=5, learning_rate=0.1 \n"
     ]
    },
    {
     "name": "stderr",
     "output_type": "stream",
     "text": [
      "[Parallel(n_jobs=1)]: Done   4 out of   4 | elapsed:  6.7min remaining:    0.0s\n"
     ]
    },
    {
     "name": "stdout",
     "output_type": "stream",
     "text": [
      "[CV]  n_estimators=50, min_samples_split=5, min_samples_leaf=3, max_depth=5, learning_rate=0.1, score=0.29746860460859925, total=  13.2s\n",
      "[CV] n_estimators=50, min_samples_split=5, min_samples_leaf=3, max_depth=5, learning_rate=0.1 \n",
      "[CV]  n_estimators=50, min_samples_split=5, min_samples_leaf=3, max_depth=5, learning_rate=0.1, score=0.2965510296623599, total=  13.2s\n",
      "[CV] n_estimators=100, min_samples_split=10, min_samples_leaf=5, max_depth=5, learning_rate=0.1 \n",
      "[CV]  n_estimators=100, min_samples_split=10, min_samples_leaf=5, max_depth=5, learning_rate=0.1, score=0.3134637301424858, total=  24.7s\n",
      "[CV] n_estimators=100, min_samples_split=10, min_samples_leaf=5, max_depth=5, learning_rate=0.1 \n",
      "[CV]  n_estimators=100, min_samples_split=10, min_samples_leaf=5, max_depth=5, learning_rate=0.1, score=0.30813108670499684, total=  24.4s\n",
      "[CV] n_estimators=100, min_samples_split=10, min_samples_leaf=5, max_depth=5, learning_rate=0.1 \n",
      "[CV]  n_estimators=100, min_samples_split=10, min_samples_leaf=5, max_depth=5, learning_rate=0.1, score=0.30738880904665344, total=  24.9s\n",
      "[CV] n_estimators=100, min_samples_split=5, min_samples_leaf=1, max_depth=5, learning_rate=0.01 \n",
      "[CV]  n_estimators=100, min_samples_split=5, min_samples_leaf=1, max_depth=5, learning_rate=0.01, score=0.2661995307057408, total=  29.1s\n",
      "[CV] n_estimators=100, min_samples_split=5, min_samples_leaf=1, max_depth=5, learning_rate=0.01 \n",
      "[CV]  n_estimators=100, min_samples_split=5, min_samples_leaf=1, max_depth=5, learning_rate=0.01, score=0.26477312289516525, total=  29.1s\n",
      "[CV] n_estimators=100, min_samples_split=5, min_samples_leaf=1, max_depth=5, learning_rate=0.01 \n",
      "[CV]  n_estimators=100, min_samples_split=5, min_samples_leaf=1, max_depth=5, learning_rate=0.01, score=0.26896504590002185, total=  29.5s\n",
      "[CV] n_estimators=100, min_samples_split=5, min_samples_leaf=5, max_depth=5, learning_rate=0.01 \n",
      "[CV]  n_estimators=100, min_samples_split=5, min_samples_leaf=5, max_depth=5, learning_rate=0.01, score=0.2654637951382452, total=  29.2s\n",
      "[CV] n_estimators=100, min_samples_split=5, min_samples_leaf=5, max_depth=5, learning_rate=0.01 \n",
      "[CV]  n_estimators=100, min_samples_split=5, min_samples_leaf=5, max_depth=5, learning_rate=0.01, score=0.265480110923167, total=  28.8s\n",
      "[CV] n_estimators=100, min_samples_split=5, min_samples_leaf=5, max_depth=5, learning_rate=0.01 \n",
      "[CV]  n_estimators=100, min_samples_split=5, min_samples_leaf=5, max_depth=5, learning_rate=0.01, score=0.2691214759126103, total=  28.7s\n",
      "[CV] n_estimators=100, min_samples_split=5, min_samples_leaf=3, max_depth=5, learning_rate=1 \n",
      "[CV]  n_estimators=100, min_samples_split=5, min_samples_leaf=3, max_depth=5, learning_rate=1, score=0.360365218360375, total=  23.4s\n",
      "[CV] n_estimators=100, min_samples_split=5, min_samples_leaf=3, max_depth=5, learning_rate=1 \n",
      "[CV]  n_estimators=100, min_samples_split=5, min_samples_leaf=3, max_depth=5, learning_rate=1, score=0.3532215573776562, total=  23.4s\n",
      "[CV] n_estimators=100, min_samples_split=5, min_samples_leaf=3, max_depth=5, learning_rate=1 \n",
      "[CV]  n_estimators=100, min_samples_split=5, min_samples_leaf=3, max_depth=5, learning_rate=1, score=0.3621646558147855, total=  23.4s\n",
      "[CV] n_estimators=50, min_samples_split=10, min_samples_leaf=5, max_depth=5, learning_rate=0.01 \n",
      "[CV]  n_estimators=50, min_samples_split=10, min_samples_leaf=5, max_depth=5, learning_rate=0.01, score=0.24997284565908007, total=  14.5s\n",
      "[CV] n_estimators=50, min_samples_split=10, min_samples_leaf=5, max_depth=5, learning_rate=0.01 \n",
      "[CV]  n_estimators=50, min_samples_split=10, min_samples_leaf=5, max_depth=5, learning_rate=0.01, score=0.25160858408796044, total=  14.4s\n",
      "[CV] n_estimators=50, min_samples_split=10, min_samples_leaf=5, max_depth=5, learning_rate=0.01 \n",
      "[CV]  n_estimators=50, min_samples_split=10, min_samples_leaf=5, max_depth=5, learning_rate=0.01, score=0.2550953046121643, total=  14.5s\n",
      "[CV] n_estimators=100, min_samples_split=10, min_samples_leaf=3, max_depth=3, learning_rate=0.01 \n"
     ]
    },
    {
     "name": "stderr",
     "output_type": "stream",
     "text": [
      "/anaconda3/lib/python3.7/site-packages/sklearn/metrics/classification.py:1143: UndefinedMetricWarning: F-score is ill-defined and being set to 0.0 in labels with no predicted samples.\n",
      "  'precision', 'predicted', average, warn_for)\n",
      "/anaconda3/lib/python3.7/site-packages/sklearn/metrics/classification.py:1143: UndefinedMetricWarning: F-score is ill-defined and being set to 0.0 in labels with no predicted samples.\n",
      "  'precision', 'predicted', average, warn_for)\n"
     ]
    },
    {
     "name": "stdout",
     "output_type": "stream",
     "text": [
      "[CV]  n_estimators=100, min_samples_split=10, min_samples_leaf=3, max_depth=3, learning_rate=0.01, score=0.2568840998902972, total=  15.6s\n",
      "[CV] n_estimators=100, min_samples_split=10, min_samples_leaf=3, max_depth=3, learning_rate=0.01 \n"
     ]
    },
    {
     "name": "stderr",
     "output_type": "stream",
     "text": [
      "/anaconda3/lib/python3.7/site-packages/sklearn/metrics/classification.py:1143: UndefinedMetricWarning: F-score is ill-defined and being set to 0.0 in labels with no predicted samples.\n",
      "  'precision', 'predicted', average, warn_for)\n",
      "/anaconda3/lib/python3.7/site-packages/sklearn/metrics/classification.py:1143: UndefinedMetricWarning: F-score is ill-defined and being set to 0.0 in labels with no predicted samples.\n",
      "  'precision', 'predicted', average, warn_for)\n"
     ]
    },
    {
     "name": "stdout",
     "output_type": "stream",
     "text": [
      "[CV]  n_estimators=100, min_samples_split=10, min_samples_leaf=3, max_depth=3, learning_rate=0.01, score=0.2542966320754787, total=  15.3s\n",
      "[CV] n_estimators=100, min_samples_split=10, min_samples_leaf=3, max_depth=3, learning_rate=0.01 \n"
     ]
    },
    {
     "name": "stderr",
     "output_type": "stream",
     "text": [
      "/anaconda3/lib/python3.7/site-packages/sklearn/metrics/classification.py:1143: UndefinedMetricWarning: F-score is ill-defined and being set to 0.0 in labels with no predicted samples.\n",
      "  'precision', 'predicted', average, warn_for)\n",
      "/anaconda3/lib/python3.7/site-packages/sklearn/metrics/classification.py:1143: UndefinedMetricWarning: F-score is ill-defined and being set to 0.0 in labels with no predicted samples.\n",
      "  'precision', 'predicted', average, warn_for)\n"
     ]
    },
    {
     "name": "stdout",
     "output_type": "stream",
     "text": [
      "[CV]  n_estimators=100, min_samples_split=10, min_samples_leaf=3, max_depth=3, learning_rate=0.01, score=0.2687292390164497, total=  15.3s\n",
      "[CV] n_estimators=50, min_samples_split=10, min_samples_leaf=5, max_depth=5, learning_rate=0.1 \n",
      "[CV]  n_estimators=50, min_samples_split=10, min_samples_leaf=5, max_depth=5, learning_rate=0.1, score=0.3019868813320799, total=  13.4s\n",
      "[CV] n_estimators=50, min_samples_split=10, min_samples_leaf=5, max_depth=5, learning_rate=0.1 \n",
      "[CV]  n_estimators=50, min_samples_split=10, min_samples_leaf=5, max_depth=5, learning_rate=0.1, score=0.2989594956166553, total=  13.4s\n",
      "[CV] n_estimators=50, min_samples_split=10, min_samples_leaf=5, max_depth=5, learning_rate=0.1 \n",
      "[CV]  n_estimators=50, min_samples_split=10, min_samples_leaf=5, max_depth=5, learning_rate=0.1, score=0.2978090554177264, total=  13.1s\n",
      "[CV] n_estimators=100, min_samples_split=10, min_samples_leaf=1, max_depth=3, learning_rate=1 \n",
      "[CV]  n_estimators=100, min_samples_split=10, min_samples_leaf=1, max_depth=3, learning_rate=1, score=0.34393851886506493, total=  13.2s\n",
      "[CV] n_estimators=100, min_samples_split=10, min_samples_leaf=1, max_depth=3, learning_rate=1 \n",
      "[CV]  n_estimators=100, min_samples_split=10, min_samples_leaf=1, max_depth=3, learning_rate=1, score=0.33812462622125317, total=  13.1s\n",
      "[CV] n_estimators=100, min_samples_split=10, min_samples_leaf=1, max_depth=3, learning_rate=1 \n",
      "[CV]  n_estimators=100, min_samples_split=10, min_samples_leaf=1, max_depth=3, learning_rate=1, score=0.33270077011709936, total=  14.0s\n",
      "[CV] n_estimators=50, min_samples_split=5, min_samples_leaf=5, max_depth=5, learning_rate=0.01 \n",
      "[CV]  n_estimators=50, min_samples_split=5, min_samples_leaf=5, max_depth=5, learning_rate=0.01, score=0.24997284565908007, total=  16.0s\n",
      "[CV] n_estimators=50, min_samples_split=5, min_samples_leaf=5, max_depth=5, learning_rate=0.01 \n",
      "[CV]  n_estimators=50, min_samples_split=5, min_samples_leaf=5, max_depth=5, learning_rate=0.01, score=0.25160858408796044, total=  15.9s\n",
      "[CV] n_estimators=50, min_samples_split=5, min_samples_leaf=5, max_depth=5, learning_rate=0.01 \n",
      "[CV]  n_estimators=50, min_samples_split=5, min_samples_leaf=5, max_depth=5, learning_rate=0.01, score=0.25498112413452384, total=  15.9s\n",
      "[CV] n_estimators=100, min_samples_split=10, min_samples_leaf=3, max_depth=3, learning_rate=0.1 \n",
      "[CV]  n_estimators=100, min_samples_split=10, min_samples_leaf=3, max_depth=3, learning_rate=0.1, score=0.30178299273336195, total=  15.2s\n",
      "[CV] n_estimators=100, min_samples_split=10, min_samples_leaf=3, max_depth=3, learning_rate=0.1 \n",
      "[CV]  n_estimators=100, min_samples_split=10, min_samples_leaf=3, max_depth=3, learning_rate=0.1, score=0.29181768275503317, total=  15.3s\n",
      "[CV] n_estimators=100, min_samples_split=10, min_samples_leaf=3, max_depth=3, learning_rate=0.1 \n",
      "[CV]  n_estimators=100, min_samples_split=10, min_samples_leaf=3, max_depth=3, learning_rate=0.1, score=0.2926341113787137, total=  15.3s\n",
      "[CV] n_estimators=50, min_samples_split=5, min_samples_leaf=5, max_depth=3, learning_rate=0.1 \n",
      "[CV]  n_estimators=50, min_samples_split=5, min_samples_leaf=5, max_depth=3, learning_rate=0.1, score=0.29162141299067484, total=   8.1s\n",
      "[CV] n_estimators=50, min_samples_split=5, min_samples_leaf=5, max_depth=3, learning_rate=0.1 \n",
      "[CV]  n_estimators=50, min_samples_split=5, min_samples_leaf=5, max_depth=3, learning_rate=0.1, score=0.2838003944805633, total=   8.0s\n",
      "[CV] n_estimators=50, min_samples_split=5, min_samples_leaf=5, max_depth=3, learning_rate=0.1 \n",
      "[CV]  n_estimators=50, min_samples_split=5, min_samples_leaf=5, max_depth=3, learning_rate=0.1, score=0.28388643220073223, total=   8.2s\n",
      "[CV] n_estimators=100, min_samples_split=10, min_samples_leaf=5, max_depth=3, learning_rate=1 \n",
      "[CV]  n_estimators=100, min_samples_split=10, min_samples_leaf=5, max_depth=3, learning_rate=1, score=0.3458360915707301, total=  14.3s\n",
      "[CV] n_estimators=100, min_samples_split=10, min_samples_leaf=5, max_depth=3, learning_rate=1 \n",
      "[CV]  n_estimators=100, min_samples_split=10, min_samples_leaf=5, max_depth=3, learning_rate=1, score=0.3372273843145517, total=  14.7s\n",
      "[CV] n_estimators=100, min_samples_split=10, min_samples_leaf=5, max_depth=3, learning_rate=1 \n",
      "[CV]  n_estimators=100, min_samples_split=10, min_samples_leaf=5, max_depth=3, learning_rate=1, score=0.340044680814749, total=  14.7s\n",
      "[CV] n_estimators=50, min_samples_split=5, min_samples_leaf=5, max_depth=5, learning_rate=1 \n",
      "[CV]  n_estimators=50, min_samples_split=5, min_samples_leaf=5, max_depth=5, learning_rate=1, score=0.35637147595530244, total=  13.0s\n",
      "[CV] n_estimators=50, min_samples_split=5, min_samples_leaf=5, max_depth=5, learning_rate=1 \n",
      "[CV]  n_estimators=50, min_samples_split=5, min_samples_leaf=5, max_depth=5, learning_rate=1, score=0.3447622554808502, total=  12.4s\n",
      "[CV] n_estimators=50, min_samples_split=5, min_samples_leaf=5, max_depth=5, learning_rate=1 \n",
      "[CV]  n_estimators=50, min_samples_split=5, min_samples_leaf=5, max_depth=5, learning_rate=1, score=0.34619944116771767, total=  12.6s\n",
      "[CV] n_estimators=100, min_samples_split=5, min_samples_leaf=3, max_depth=None, learning_rate=1 \n",
      "[CV]  n_estimators=100, min_samples_split=5, min_samples_leaf=3, max_depth=None, learning_rate=1, score=0.36268406615085896, total= 4.1min\n",
      "[CV] n_estimators=100, min_samples_split=5, min_samples_leaf=3, max_depth=None, learning_rate=1 \n",
      "[CV]  n_estimators=100, min_samples_split=5, min_samples_leaf=3, max_depth=None, learning_rate=1, score=0.3575944633653274, total= 1.9min\n",
      "[CV] n_estimators=100, min_samples_split=5, min_samples_leaf=3, max_depth=None, learning_rate=1 \n",
      "[CV]  n_estimators=100, min_samples_split=5, min_samples_leaf=3, max_depth=None, learning_rate=1, score=0.36295842633054093, total= 3.3min\n",
      "[CV] n_estimators=50, min_samples_split=5, min_samples_leaf=3, max_depth=5, learning_rate=1 \n",
      "[CV]  n_estimators=50, min_samples_split=5, min_samples_leaf=3, max_depth=5, learning_rate=1, score=0.3505615388699064, total=  11.7s\n",
      "[CV] n_estimators=50, min_samples_split=5, min_samples_leaf=3, max_depth=5, learning_rate=1 \n",
      "[CV]  n_estimators=50, min_samples_split=5, min_samples_leaf=3, max_depth=5, learning_rate=1, score=0.3467273979418201, total=  11.6s\n",
      "[CV] n_estimators=50, min_samples_split=5, min_samples_leaf=3, max_depth=5, learning_rate=1 \n",
      "[CV]  n_estimators=50, min_samples_split=5, min_samples_leaf=3, max_depth=5, learning_rate=1, score=0.34638131318098625, total=  11.7s\n",
      "[CV] n_estimators=50, min_samples_split=10, min_samples_leaf=5, max_depth=3, learning_rate=0.1 \n",
      "[CV]  n_estimators=50, min_samples_split=10, min_samples_leaf=5, max_depth=3, learning_rate=0.1, score=0.29162141299067484, total=   7.4s\n",
      "[CV] n_estimators=50, min_samples_split=10, min_samples_leaf=5, max_depth=3, learning_rate=0.1 \n",
      "[CV]  n_estimators=50, min_samples_split=10, min_samples_leaf=5, max_depth=3, learning_rate=0.1, score=0.2838003944805633, total=   7.3s\n",
      "[CV] n_estimators=50, min_samples_split=10, min_samples_leaf=5, max_depth=3, learning_rate=0.1 \n",
      "[CV]  n_estimators=50, min_samples_split=10, min_samples_leaf=5, max_depth=3, learning_rate=0.1, score=0.28388643220073223, total=   7.3s\n",
      "[CV] n_estimators=100, min_samples_split=10, min_samples_leaf=1, max_depth=None, learning_rate=1 \n",
      "[CV]  n_estimators=100, min_samples_split=10, min_samples_leaf=1, max_depth=None, learning_rate=1, score=0.3553690636222213, total= 3.3min\n",
      "[CV] n_estimators=100, min_samples_split=10, min_samples_leaf=1, max_depth=None, learning_rate=1 \n",
      "[CV]  n_estimators=100, min_samples_split=10, min_samples_leaf=1, max_depth=None, learning_rate=1, score=0.3511324860419176, total= 1.7min\n",
      "[CV] n_estimators=100, min_samples_split=10, min_samples_leaf=1, max_depth=None, learning_rate=1 \n",
      "[CV]  n_estimators=100, min_samples_split=10, min_samples_leaf=1, max_depth=None, learning_rate=1, score=0.36345159329821186, total= 3.2min\n",
      "[CV] n_estimators=50, min_samples_split=10, min_samples_leaf=1, max_depth=None, learning_rate=0.1 \n",
      "[CV]  n_estimators=50, min_samples_split=10, min_samples_leaf=1, max_depth=None, learning_rate=0.1, score=0.3495799413135863, total=13.7min\n",
      "[CV] n_estimators=50, min_samples_split=10, min_samples_leaf=1, max_depth=None, learning_rate=0.1 \n",
      "[CV]  n_estimators=50, min_samples_split=10, min_samples_leaf=1, max_depth=None, learning_rate=0.1, score=0.3452875010955277, total=13.8min\n",
      "[CV] n_estimators=50, min_samples_split=10, min_samples_leaf=1, max_depth=None, learning_rate=0.1 \n"
     ]
    },
    {
     "name": "stdout",
     "output_type": "stream",
     "text": [
      "[CV]  n_estimators=50, min_samples_split=10, min_samples_leaf=1, max_depth=None, learning_rate=0.1, score=0.34523750888806054, total=13.8min\n"
     ]
    },
    {
     "name": "stderr",
     "output_type": "stream",
     "text": [
      "[Parallel(n_jobs=1)]: Done  60 out of  60 | elapsed: 78.6min finished\n"
     ]
    },
    {
     "data": {
      "text/plain": [
       "RandomizedSearchCV(cv=3, error_score='raise-deprecating',\n",
       "          estimator=GradientBoostingClassifier(criterion='friedman_mse', init=None,\n",
       "              learning_rate=0.1, loss='deviance', max_depth=3,\n",
       "              max_features=None, max_leaf_nodes=None,\n",
       "              min_impurity_decrease=0.0, min_impurity_split=None,\n",
       "              min_samples_leaf=1, min_sampl...      subsample=1.0, tol=0.0001, validation_fraction=0.1,\n",
       "              verbose=0, warm_start=False),\n",
       "          fit_params=None, iid='warn', n_iter=20, n_jobs=None,\n",
       "          param_distributions={'n_estimators': [50, 100], 'learning_rate': [1, 0.1, 0.01], 'max_depth': [None, 3, 5], 'min_samples_split': [5, 10], 'min_samples_leaf': [1, 3, 5]},\n",
       "          pre_dispatch='2*n_jobs', random_state=None, refit=True,\n",
       "          return_train_score=True, scoring='f1_macro', verbose=5)"
      ]
     },
     "execution_count": 20,
     "metadata": {},
     "output_type": "execute_result"
    }
   ],
   "source": [
    "search = RandomizedSearchCV(clf, params, n_iter=20, cv=3, return_train_score=True, verbose=5, scoring='f1_macro')\n",
    "\n",
    "search.fit(X,y)"
   ]
  },
  {
   "cell_type": "markdown",
   "metadata": {},
   "source": [
    "### Tuned Results"
   ]
  },
  {
   "cell_type": "code",
   "execution_count": 21,
   "metadata": {},
   "outputs": [
    {
     "name": "stdout",
     "output_type": "stream",
     "text": [
      "Mean Training Score: 0.503116080052106\n",
      "Mean Testing Score: 0.9999711281559615\n",
      "\n",
      "Best Parameter Found:\n"
     ]
    },
    {
     "data": {
      "text/plain": [
       "{'n_estimators': 100,\n",
       " 'min_samples_split': 5,\n",
       " 'min_samples_leaf': 3,\n",
       " 'max_depth': None,\n",
       " 'learning_rate': 1}"
      ]
     },
     "execution_count": 21,
     "metadata": {},
     "output_type": "execute_result"
    }
   ],
   "source": [
    "print(\"Mean Training Score:\", np.mean(search.cv_results_['mean_train_score']))\n",
    "print(\"Mean Testing Score:\", search.score(X, y))\n",
    "print(\"\\nBest Parameter Found:\")\n",
    "search.best_params_"
   ]
  },
  {
   "cell_type": "markdown",
   "metadata": {},
   "source": [
    "### Model with the Best Parameters"
   ]
  },
  {
   "cell_type": "code",
   "execution_count": 22,
   "metadata": {},
   "outputs": [
    {
     "data": {
      "text/plain": [
       "GradientBoostingClassifier(criterion='friedman_mse', init=None,\n",
       "              learning_rate=1, loss='deviance', max_depth=None,\n",
       "              max_features=None, max_leaf_nodes=None,\n",
       "              min_impurity_decrease=0.0, min_impurity_split=None,\n",
       "              min_samples_leaf=3, min_samples_split=5,\n",
       "              min_weight_fraction_leaf=0.0, n_estimators=100,\n",
       "              n_iter_no_change=None, presort='auto', random_state=None,\n",
       "              subsample=1.0, tol=0.0001, validation_fraction=0.1,\n",
       "              verbose=0, warm_start=False)"
      ]
     },
     "execution_count": 22,
     "metadata": {},
     "output_type": "execute_result"
    }
   ],
   "source": [
    "search_clf = search.best_estimator_\n",
    "\n",
    "search_clf.fit(X_train, y_train)"
   ]
  },
  {
   "cell_type": "markdown",
   "metadata": {},
   "source": [
    "#### Results from Optimum Parameters"
   ]
  },
  {
   "cell_type": "code",
   "execution_count": 23,
   "metadata": {},
   "outputs": [
    {
     "name": "stdout",
     "output_type": "stream",
     "text": [
      "              precision    recall  f1-score   support\n",
      "\n",
      "        Sell       0.25      0.10      0.15      2236\n",
      "         Buy       0.35      0.23      0.28      4417\n",
      "        Hold       0.57      0.76      0.65      8390\n",
      "\n",
      "   micro avg       0.51      0.51      0.51     15043\n",
      "   macro avg       0.39      0.37      0.36     15043\n",
      "weighted avg       0.46      0.51      0.47     15043\n",
      "\n"
     ]
    }
   ],
   "source": [
    "# Classifier predictions\n",
    "s_pred = search_clf.predict(X_test)\n",
    "\n",
    "#Printing out results\n",
    "report = classification_report(y_test, s_pred, target_names=['Sell', 'Buy', 'Hold'])\n",
    "print(report)"
   ]
  },
  {
   "cell_type": "markdown",
   "metadata": {},
   "source": [
    "### Confusion Matrix for Optimum Parameters"
   ]
  },
  {
   "cell_type": "code",
   "execution_count": 24,
   "metadata": {},
   "outputs": [
    {
     "data": {
      "image/png": "[encoded data removed]",
      "text/plain": [
       "<Figure size 864x432 with 2 Axes>"
      ]
     },
     "metadata": {
      "needs_background": "light"
     },
     "output_type": "display_data"
    }
   ],
   "source": [
    "plot_confusion_matrix(y_test, s_pred, title=\"Confusion Matrix\")\n",
    "np.set_printoptions(precision=1)\n",
    "# Plot non-normalized confusion matrix\n",
    "plt.show()"
   ]
  },
  {
   "cell_type": "code",
   "execution_count": null,
   "metadata": {},
   "outputs": [],
   "source": []
  }
 ],
 "metadata": {
  "kernelspec": {
   "display_name": "Python 3",
   "language": "python",
   "name": "python3"
  },
  "language_info": {
   "codemirror_mode": {
    "name": "ipython",
    "version": 3
   },
   "file_extension": ".py",
   "mimetype": "text/x-python",
   "name": "python",
   "nbconvert_exporter": "python",
   "pygments_lexer": "ipython3",
   "version": "3.7.3"
  }
 },
 "nbformat": 4,
 "nbformat_minor": 2
}
