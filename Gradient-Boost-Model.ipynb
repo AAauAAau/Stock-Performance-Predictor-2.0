{
 "cells": [
  {
   "cell_type": "markdown",
   "metadata": {},
   "source": [
    "# Model: Gradient Boost"
   ]
  },
  {
   "cell_type": "markdown",
   "metadata": {},
   "source": [
    "### Importing Libraries"
   ]
  },
  {
   "cell_type": "code",
   "execution_count": 1,
   "metadata": {},
   "outputs": [],
   "source": [
    "import _pickle as pickle\n",
    "import numpy as np\n",
    "import pandas as pd\n",
    "from sklearn.model_selection import train_test_split\n",
    "from sklearn.metrics import precision_score, recall_score, accuracy_score, f1_score, confusion_matrix, classification_report\n",
    "import matplotlib.pyplot as plt"
   ]
  },
  {
   "cell_type": "markdown",
   "metadata": {},
   "source": [
    "### Loading in Data"
   ]
  },
  {
   "cell_type": "code",
   "execution_count": 2,
   "metadata": {},
   "outputs": [],
   "source": [
    "with open(\"top10_df.pkl\",'rb') as fp:\n",
    "    df = pickle.load(fp)"
   ]
  },
  {
   "cell_type": "markdown",
   "metadata": {},
   "source": [
    "### Scaling the Data"
   ]
  },
  {
   "cell_type": "code",
   "execution_count": 3,
   "metadata": {},
   "outputs": [],
   "source": [
    "from sklearn.preprocessing import StandardScaler\n",
    "\n",
    "scaler = StandardScaler()\n",
    "\n",
    "features_df = df.drop([\"Decision\"], 1)\n",
    "\n",
    "scaled_df = pd.DataFrame(scaler.fit_transform(features_df), \n",
    "                               index=features_df.index, \n",
    "                               columns=features_df.columns)\n",
    "\n",
    "df = scaled_df.join(df.Decision)"
   ]
  },
  {
   "cell_type": "markdown",
   "metadata": {},
   "source": [
    "### Splitting the Data"
   ]
  },
  {
   "cell_type": "code",
   "execution_count": 4,
   "metadata": {},
   "outputs": [],
   "source": [
    "X = df.drop([\"Decision\"], 1)\n",
    "y = df.Decision\n",
    "\n",
    "# Train, test, split\n",
    "X_train, X_test, y_train, y_test = train_test_split(X, y)"
   ]
  },
  {
   "cell_type": "markdown",
   "metadata": {},
   "source": [
    "### Helper Functions"
   ]
  },
  {
   "cell_type": "markdown",
   "metadata": {},
   "source": [
    "#### Function for plotting confusion matrix"
   ]
  },
  {
   "cell_type": "code",
   "execution_count": 5,
   "metadata": {},
   "outputs": [],
   "source": [
    "def plot_confusion_matrix(y_true, y_pred, labels=[\"Sell\", \"Buy\", \"Hold\"], \n",
    "                          normalize=False, title=None, cmap=plt.cm.coolwarm):\n",
    "\n",
    "    cm = confusion_matrix(y_true, y_pred)\n",
    "    fig, ax = plt.subplots(figsize=(12,6))\n",
    "    im = ax.imshow(cm, interpolation='nearest', cmap=cmap)\n",
    "    ax.figure.colorbar(im, ax=ax)\n",
    "    # We want to show all ticks...\n",
    "    ax.set(xticks=np.arange(cm.shape[1]),\n",
    "           yticks=np.arange(cm.shape[0]),\n",
    "           # ... and label them with the respective list entries\n",
    "           xticklabels=labels, yticklabels=labels,\n",
    "           title=title,\n",
    "           ylabel='ACTUAL',\n",
    "           xlabel='PREDICTED')\n",
    "    # Rotate the tick labels and set their alignment.\n",
    "    plt.setp(ax.get_xticklabels(), rotation=45, ha=\"right\",\n",
    "             rotation_mode=\"anchor\")\n",
    "    # Loop over data dimensions and create text annotations.\n",
    "    fmt = '.2f' if normalize else 'd'\n",
    "    thresh = cm.max() / 1.5\n",
    "    for i in range(cm.shape[0]):\n",
    "        for j in range(cm.shape[1]):\n",
    "            ax.text(j, i, format(cm[i, j], fmt),\n",
    "                    ha=\"center\", va=\"center\",\n",
    "                    color=\"snow\" if cm[i, j] > thresh else \"orange\",\n",
    "                    size=26)\n",
    "    ax.grid(False)\n",
    "    fig.tight_layout()\n",
    "    return ax"
   ]
  },
  {
   "cell_type": "markdown",
   "metadata": {},
   "source": [
    "## Modeling\n",
    "The preferred evaluation metric used will be __Precision__ for each class.  They will be optimized using the __F1 Score-Macro-Average__ to balance the Precision and Recall.  This is done because we want to not only be correct when predicting but also make a decent amount of predictions for each class.  Classes such as 'Buy' and 'Sell' are more important than 'Hold'."
   ]
  },
  {
   "cell_type": "markdown",
   "metadata": {},
   "source": [
    "### Fitting and Training"
   ]
  },
  {
   "cell_type": "code",
   "execution_count": 6,
   "metadata": {
    "scrolled": false
   },
   "outputs": [
    {
     "data": {
      "text/plain": [
       "GradientBoostingClassifier(criterion='friedman_mse', init=None,\n",
       "              learning_rate=0.1, loss='deviance', max_depth=3,\n",
       "              max_features=None, max_leaf_nodes=None,\n",
       "              min_impurity_decrease=0.0, min_impurity_split=None,\n",
       "              min_samples_leaf=1, min_samples_split=2,\n",
       "              min_weight_fraction_leaf=0.0, n_estimators=100,\n",
       "              n_iter_no_change=None, presort='auto', random_state=None,\n",
       "              subsample=1.0, tol=0.0001, validation_fraction=0.1,\n",
       "              verbose=0, warm_start=False)"
      ]
     },
     "execution_count": 6,
     "metadata": {},
     "output_type": "execute_result"
    }
   ],
   "source": [
    "# Importing the model\n",
    "from sklearn.ensemble import GradientBoostingClassifier\n",
    "\n",
    "# Fitting and training\n",
    "clf = GradientBoostingClassifier()\n",
    "clf.fit(X_train, y_train)"
   ]
  },
  {
   "cell_type": "markdown",
   "metadata": {},
   "source": [
    "### Printing out Evaluation Metrics"
   ]
  },
  {
   "cell_type": "code",
   "execution_count": 7,
   "metadata": {},
   "outputs": [
    {
     "name": "stdout",
     "output_type": "stream",
     "text": [
      "              precision    recall  f1-score   support\n",
      "\n",
      "        Sell       0.34      0.03      0.05      2825\n",
      "         Buy       0.48      0.34      0.40      5564\n",
      "        Hold       0.47      0.76      0.58      6654\n",
      "\n",
      "   micro avg       0.47      0.47      0.47     15043\n",
      "   macro avg       0.43      0.38      0.34     15043\n",
      "weighted avg       0.45      0.47      0.41     15043\n",
      "\n"
     ]
    }
   ],
   "source": [
    "# Classifier predictions\n",
    "pred = clf.predict(X_test)\n",
    "\n",
    "#Printing out results\n",
    "report = classification_report(y_test, pred, target_names=['Sell', 'Buy', 'Hold'])\n",
    "print(report)"
   ]
  },
  {
   "cell_type": "markdown",
   "metadata": {},
   "source": [
    "### Confusion Matrix"
   ]
  },
  {
   "cell_type": "code",
   "execution_count": 8,
   "metadata": {},
   "outputs": [
    {
     "data": {
      "image/png": "[encoded data removed]",
      "text/plain": [
       "<Figure size 864x432 with 2 Axes>"
      ]
     },
     "metadata": {
      "needs_background": "light"
     },
     "output_type": "display_data"
    }
   ],
   "source": [
    "plot_confusion_matrix(y_test, pred, title=\"Confusion Matrix\")\n",
    "np.set_printoptions(precision=1)\n",
    "# Plot non-normalized confusion matrix\n",
    "plt.show()"
   ]
  },
  {
   "cell_type": "markdown",
   "metadata": {},
   "source": [
    "## Tuning Model Parameters"
   ]
  },
  {
   "cell_type": "code",
   "execution_count": 9,
   "metadata": {},
   "outputs": [],
   "source": [
    "from sklearn.model_selection import RandomizedSearchCV"
   ]
  },
  {
   "cell_type": "markdown",
   "metadata": {},
   "source": [
    "_(Due to processing time, randomized search is used over grid search)_"
   ]
  },
  {
   "cell_type": "markdown",
   "metadata": {},
   "source": [
    "### Parameters"
   ]
  },
  {
   "cell_type": "code",
   "execution_count": 10,
   "metadata": {},
   "outputs": [],
   "source": [
    "# Parameters to Tune\n",
    "params = {'n_estimators': [50,100],\n",
    "          'learning_rate': [1,0.1,.01],\n",
    "          'max_depth': [1, 3, 5],\n",
    "          'min_samples_split': [5,10],\n",
    "          'min_samples_leaf': [1, 3, 5]}"
   ]
  },
  {
   "cell_type": "code",
   "execution_count": 11,
   "metadata": {
    "scrolled": true
   },
   "outputs": [
    {
     "name": "stdout",
     "output_type": "stream",
     "text": [
      "Fitting 3 folds for each of 20 candidates, totalling 60 fits\n",
      "[CV] n_estimators=100, min_samples_split=5, min_samples_leaf=5, max_depth=1, learning_rate=0.01 \n"
     ]
    },
    {
     "name": "stderr",
     "output_type": "stream",
     "text": [
      "[Parallel(n_jobs=1)]: Using backend SequentialBackend with 1 concurrent workers.\n",
      "/anaconda3/lib/python3.7/site-packages/sklearn/metrics/classification.py:1143: UndefinedMetricWarning: F-score is ill-defined and being set to 0.0 in labels with no predicted samples.\n",
      "  'precision', 'predicted', average, warn_for)\n",
      "/anaconda3/lib/python3.7/site-packages/sklearn/metrics/classification.py:1143: UndefinedMetricWarning: F-score is ill-defined and being set to 0.0 in labels with no predicted samples.\n",
      "  'precision', 'predicted', average, warn_for)\n",
      "[Parallel(n_jobs=1)]: Done   1 out of   1 | elapsed:    7.9s remaining:    0.0s\n"
     ]
    },
    {
     "name": "stdout",
     "output_type": "stream",
     "text": [
      "[CV]  n_estimators=100, min_samples_split=5, min_samples_leaf=5, max_depth=1, learning_rate=0.01, score=0.298840651454471, total=   7.7s\n",
      "[CV] n_estimators=100, min_samples_split=5, min_samples_leaf=5, max_depth=1, learning_rate=0.01 \n"
     ]
    },
    {
     "name": "stderr",
     "output_type": "stream",
     "text": [
      "/anaconda3/lib/python3.7/site-packages/sklearn/metrics/classification.py:1143: UndefinedMetricWarning: F-score is ill-defined and being set to 0.0 in labels with no predicted samples.\n",
      "  'precision', 'predicted', average, warn_for)\n",
      "/anaconda3/lib/python3.7/site-packages/sklearn/metrics/classification.py:1143: UndefinedMetricWarning: F-score is ill-defined and being set to 0.0 in labels with no predicted samples.\n",
      "  'precision', 'predicted', average, warn_for)\n",
      "[Parallel(n_jobs=1)]: Done   2 out of   2 | elapsed:   15.6s remaining:    0.0s\n"
     ]
    },
    {
     "name": "stdout",
     "output_type": "stream",
     "text": [
      "[CV]  n_estimators=100, min_samples_split=5, min_samples_leaf=5, max_depth=1, learning_rate=0.01, score=0.2961324973786142, total=   7.6s\n",
      "[CV] n_estimators=100, min_samples_split=5, min_samples_leaf=5, max_depth=1, learning_rate=0.01 \n"
     ]
    },
    {
     "name": "stderr",
     "output_type": "stream",
     "text": [
      "/anaconda3/lib/python3.7/site-packages/sklearn/metrics/classification.py:1143: UndefinedMetricWarning: F-score is ill-defined and being set to 0.0 in labels with no predicted samples.\n",
      "  'precision', 'predicted', average, warn_for)\n",
      "/anaconda3/lib/python3.7/site-packages/sklearn/metrics/classification.py:1143: UndefinedMetricWarning: F-score is ill-defined and being set to 0.0 in labels with no predicted samples.\n",
      "  'precision', 'predicted', average, warn_for)\n",
      "[Parallel(n_jobs=1)]: Done   3 out of   3 | elapsed:   23.0s remaining:    0.0s\n"
     ]
    },
    {
     "name": "stdout",
     "output_type": "stream",
     "text": [
      "[CV]  n_estimators=100, min_samples_split=5, min_samples_leaf=5, max_depth=1, learning_rate=0.01, score=0.3028981655893261, total=   7.3s\n",
      "[CV] n_estimators=100, min_samples_split=5, min_samples_leaf=1, max_depth=3, learning_rate=0.01 \n"
     ]
    },
    {
     "name": "stderr",
     "output_type": "stream",
     "text": [
      "/anaconda3/lib/python3.7/site-packages/sklearn/metrics/classification.py:1143: UndefinedMetricWarning: F-score is ill-defined and being set to 0.0 in labels with no predicted samples.\n",
      "  'precision', 'predicted', average, warn_for)\n",
      "/anaconda3/lib/python3.7/site-packages/sklearn/metrics/classification.py:1143: UndefinedMetricWarning: F-score is ill-defined and being set to 0.0 in labels with no predicted samples.\n",
      "  'precision', 'predicted', average, warn_for)\n",
      "[Parallel(n_jobs=1)]: Done   4 out of   4 | elapsed:   42.2s remaining:    0.0s\n"
     ]
    },
    {
     "name": "stdout",
     "output_type": "stream",
     "text": [
      "[CV]  n_estimators=100, min_samples_split=5, min_samples_leaf=1, max_depth=3, learning_rate=0.01, score=0.3144051618289685, total=  18.9s\n",
      "[CV] n_estimators=100, min_samples_split=5, min_samples_leaf=1, max_depth=3, learning_rate=0.01 \n",
      "[CV]  n_estimators=100, min_samples_split=5, min_samples_leaf=1, max_depth=3, learning_rate=0.01, score=0.3050426722858091, total=  19.5s\n",
      "[CV] n_estimators=100, min_samples_split=5, min_samples_leaf=1, max_depth=3, learning_rate=0.01 \n"
     ]
    },
    {
     "name": "stderr",
     "output_type": "stream",
     "text": [
      "/anaconda3/lib/python3.7/site-packages/sklearn/metrics/classification.py:1143: UndefinedMetricWarning: F-score is ill-defined and being set to 0.0 in labels with no predicted samples.\n",
      "  'precision', 'predicted', average, warn_for)\n",
      "/anaconda3/lib/python3.7/site-packages/sklearn/metrics/classification.py:1143: UndefinedMetricWarning: F-score is ill-defined and being set to 0.0 in labels with no predicted samples.\n",
      "  'precision', 'predicted', average, warn_for)\n"
     ]
    },
    {
     "name": "stdout",
     "output_type": "stream",
     "text": [
      "[CV]  n_estimators=100, min_samples_split=5, min_samples_leaf=1, max_depth=3, learning_rate=0.01, score=0.3109338589353703, total=  19.0s\n",
      "[CV] n_estimators=50, min_samples_split=10, min_samples_leaf=5, max_depth=1, learning_rate=1 \n",
      "[CV]  n_estimators=50, min_samples_split=10, min_samples_leaf=5, max_depth=1, learning_rate=1, score=0.3476490161873315, total=   3.4s\n",
      "[CV] n_estimators=50, min_samples_split=10, min_samples_leaf=5, max_depth=1, learning_rate=1 \n",
      "[CV]  n_estimators=50, min_samples_split=10, min_samples_leaf=5, max_depth=1, learning_rate=1, score=0.342512649512728, total=   3.5s\n",
      "[CV] n_estimators=50, min_samples_split=10, min_samples_leaf=5, max_depth=1, learning_rate=1 \n",
      "[CV]  n_estimators=50, min_samples_split=10, min_samples_leaf=5, max_depth=1, learning_rate=1, score=0.3453467658679452, total=   3.6s\n",
      "[CV] n_estimators=100, min_samples_split=5, min_samples_leaf=1, max_depth=5, learning_rate=0.01 \n",
      "[CV]  n_estimators=100, min_samples_split=5, min_samples_leaf=1, max_depth=5, learning_rate=0.01, score=0.32321988459371015, total=  35.3s\n",
      "[CV] n_estimators=100, min_samples_split=5, min_samples_leaf=1, max_depth=5, learning_rate=0.01 \n",
      "[CV]  n_estimators=100, min_samples_split=5, min_samples_leaf=1, max_depth=5, learning_rate=0.01, score=0.3210863243734358, total=  34.8s\n",
      "[CV] n_estimators=100, min_samples_split=5, min_samples_leaf=1, max_depth=5, learning_rate=0.01 \n",
      "[CV]  n_estimators=100, min_samples_split=5, min_samples_leaf=1, max_depth=5, learning_rate=0.01, score=0.3185448161566027, total=  38.8s\n",
      "[CV] n_estimators=50, min_samples_split=5, min_samples_leaf=5, max_depth=3, learning_rate=0.01 \n"
     ]
    },
    {
     "name": "stderr",
     "output_type": "stream",
     "text": [
      "/anaconda3/lib/python3.7/site-packages/sklearn/metrics/classification.py:1143: UndefinedMetricWarning: F-score is ill-defined and being set to 0.0 in labels with no predicted samples.\n",
      "  'precision', 'predicted', average, warn_for)\n",
      "/anaconda3/lib/python3.7/site-packages/sklearn/metrics/classification.py:1143: UndefinedMetricWarning: F-score is ill-defined and being set to 0.0 in labels with no predicted samples.\n",
      "  'precision', 'predicted', average, warn_for)\n"
     ]
    },
    {
     "name": "stdout",
     "output_type": "stream",
     "text": [
      "[CV]  n_estimators=50, min_samples_split=5, min_samples_leaf=5, max_depth=3, learning_rate=0.01, score=0.3026594253926677, total=  10.2s\n",
      "[CV] n_estimators=50, min_samples_split=5, min_samples_leaf=5, max_depth=3, learning_rate=0.01 \n"
     ]
    },
    {
     "name": "stderr",
     "output_type": "stream",
     "text": [
      "/anaconda3/lib/python3.7/site-packages/sklearn/metrics/classification.py:1143: UndefinedMetricWarning: F-score is ill-defined and being set to 0.0 in labels with no predicted samples.\n",
      "  'precision', 'predicted', average, warn_for)\n",
      "/anaconda3/lib/python3.7/site-packages/sklearn/metrics/classification.py:1143: UndefinedMetricWarning: F-score is ill-defined and being set to 0.0 in labels with no predicted samples.\n",
      "  'precision', 'predicted', average, warn_for)\n"
     ]
    },
    {
     "name": "stdout",
     "output_type": "stream",
     "text": [
      "[CV]  n_estimators=50, min_samples_split=5, min_samples_leaf=5, max_depth=3, learning_rate=0.01, score=0.29462323461721523, total=   9.5s\n",
      "[CV] n_estimators=50, min_samples_split=5, min_samples_leaf=5, max_depth=3, learning_rate=0.01 \n"
     ]
    },
    {
     "name": "stderr",
     "output_type": "stream",
     "text": [
      "/anaconda3/lib/python3.7/site-packages/sklearn/metrics/classification.py:1143: UndefinedMetricWarning: F-score is ill-defined and being set to 0.0 in labels with no predicted samples.\n",
      "  'precision', 'predicted', average, warn_for)\n",
      "/anaconda3/lib/python3.7/site-packages/sklearn/metrics/classification.py:1143: UndefinedMetricWarning: F-score is ill-defined and being set to 0.0 in labels with no predicted samples.\n",
      "  'precision', 'predicted', average, warn_for)\n"
     ]
    },
    {
     "name": "stdout",
     "output_type": "stream",
     "text": [
      "[CV]  n_estimators=50, min_samples_split=5, min_samples_leaf=5, max_depth=3, learning_rate=0.01, score=0.3018696880884922, total=   9.2s\n",
      "[CV] n_estimators=100, min_samples_split=10, min_samples_leaf=1, max_depth=3, learning_rate=0.1 \n",
      "[CV]  n_estimators=100, min_samples_split=10, min_samples_leaf=1, max_depth=3, learning_rate=0.1, score=0.3474977432410806, total=  16.7s\n",
      "[CV] n_estimators=100, min_samples_split=10, min_samples_leaf=1, max_depth=3, learning_rate=0.1 \n",
      "[CV]  n_estimators=100, min_samples_split=10, min_samples_leaf=1, max_depth=3, learning_rate=0.1, score=0.3405956190529205, total=  15.7s\n",
      "[CV] n_estimators=100, min_samples_split=10, min_samples_leaf=1, max_depth=3, learning_rate=0.1 \n",
      "[CV]  n_estimators=100, min_samples_split=10, min_samples_leaf=1, max_depth=3, learning_rate=0.1, score=0.33987839422506533, total=  16.2s\n",
      "[CV] n_estimators=50, min_samples_split=5, min_samples_leaf=3, max_depth=1, learning_rate=1 \n",
      "[CV]  n_estimators=50, min_samples_split=5, min_samples_leaf=3, max_depth=1, learning_rate=1, score=0.34648199576295413, total=   3.7s\n",
      "[CV] n_estimators=50, min_samples_split=5, min_samples_leaf=3, max_depth=1, learning_rate=1 \n",
      "[CV]  n_estimators=50, min_samples_split=5, min_samples_leaf=3, max_depth=1, learning_rate=1, score=0.3418576423024738, total=   3.5s\n",
      "[CV] n_estimators=50, min_samples_split=5, min_samples_leaf=3, max_depth=1, learning_rate=1 \n",
      "[CV]  n_estimators=50, min_samples_split=5, min_samples_leaf=3, max_depth=1, learning_rate=1, score=0.3449147717889729, total=   3.7s\n",
      "[CV] n_estimators=50, min_samples_split=10, min_samples_leaf=5, max_depth=3, learning_rate=0.1 \n",
      "[CV]  n_estimators=50, min_samples_split=10, min_samples_leaf=5, max_depth=3, learning_rate=0.1, score=0.3368090189318691, total=   9.4s\n",
      "[CV] n_estimators=50, min_samples_split=10, min_samples_leaf=5, max_depth=3, learning_rate=0.1 \n",
      "[CV]  n_estimators=50, min_samples_split=10, min_samples_leaf=5, max_depth=3, learning_rate=0.1, score=0.33345971353435416, total=  10.1s\n",
      "[CV] n_estimators=50, min_samples_split=10, min_samples_leaf=5, max_depth=3, learning_rate=0.1 \n",
      "[CV]  n_estimators=50, min_samples_split=10, min_samples_leaf=5, max_depth=3, learning_rate=0.1, score=0.33431469236369277, total=   8.3s\n",
      "[CV] n_estimators=50, min_samples_split=10, min_samples_leaf=1, max_depth=3, learning_rate=0.01 \n"
     ]
    },
    {
     "name": "stderr",
     "output_type": "stream",
     "text": [
      "/anaconda3/lib/python3.7/site-packages/sklearn/metrics/classification.py:1143: UndefinedMetricWarning: F-score is ill-defined and being set to 0.0 in labels with no predicted samples.\n",
      "  'precision', 'predicted', average, warn_for)\n",
      "/anaconda3/lib/python3.7/site-packages/sklearn/metrics/classification.py:1143: UndefinedMetricWarning: F-score is ill-defined and being set to 0.0 in labels with no predicted samples.\n",
      "  'precision', 'predicted', average, warn_for)\n"
     ]
    },
    {
     "name": "stdout",
     "output_type": "stream",
     "text": [
      "[CV]  n_estimators=50, min_samples_split=10, min_samples_leaf=1, max_depth=3, learning_rate=0.01, score=0.3026594253926677, total=   8.5s\n",
      "[CV] n_estimators=50, min_samples_split=10, min_samples_leaf=1, max_depth=3, learning_rate=0.01 \n"
     ]
    },
    {
     "name": "stderr",
     "output_type": "stream",
     "text": [
      "/anaconda3/lib/python3.7/site-packages/sklearn/metrics/classification.py:1143: UndefinedMetricWarning: F-score is ill-defined and being set to 0.0 in labels with no predicted samples.\n",
      "  'precision', 'predicted', average, warn_for)\n",
      "/anaconda3/lib/python3.7/site-packages/sklearn/metrics/classification.py:1143: UndefinedMetricWarning: F-score is ill-defined and being set to 0.0 in labels with no predicted samples.\n",
      "  'precision', 'predicted', average, warn_for)\n"
     ]
    },
    {
     "name": "stdout",
     "output_type": "stream",
     "text": [
      "[CV]  n_estimators=50, min_samples_split=10, min_samples_leaf=1, max_depth=3, learning_rate=0.01, score=0.29462323461721523, total=   8.7s\n",
      "[CV] n_estimators=50, min_samples_split=10, min_samples_leaf=1, max_depth=3, learning_rate=0.01 \n"
     ]
    },
    {
     "name": "stderr",
     "output_type": "stream",
     "text": [
      "/anaconda3/lib/python3.7/site-packages/sklearn/metrics/classification.py:1143: UndefinedMetricWarning: F-score is ill-defined and being set to 0.0 in labels with no predicted samples.\n",
      "  'precision', 'predicted', average, warn_for)\n",
      "/anaconda3/lib/python3.7/site-packages/sklearn/metrics/classification.py:1143: UndefinedMetricWarning: F-score is ill-defined and being set to 0.0 in labels with no predicted samples.\n",
      "  'precision', 'predicted', average, warn_for)\n"
     ]
    },
    {
     "name": "stdout",
     "output_type": "stream",
     "text": [
      "[CV]  n_estimators=50, min_samples_split=10, min_samples_leaf=1, max_depth=3, learning_rate=0.01, score=0.3018696880884922, total=   9.3s\n",
      "[CV] n_estimators=100, min_samples_split=10, min_samples_leaf=5, max_depth=5, learning_rate=0.1 \n",
      "[CV]  n_estimators=100, min_samples_split=10, min_samples_leaf=5, max_depth=5, learning_rate=0.1, score=0.35464739954402713, total=  28.8s\n",
      "[CV] n_estimators=100, min_samples_split=10, min_samples_leaf=5, max_depth=5, learning_rate=0.1 \n",
      "[CV]  n_estimators=100, min_samples_split=10, min_samples_leaf=5, max_depth=5, learning_rate=0.1, score=0.3483236651739919, total=  26.7s\n",
      "[CV] n_estimators=100, min_samples_split=10, min_samples_leaf=5, max_depth=5, learning_rate=0.1 \n",
      "[CV]  n_estimators=100, min_samples_split=10, min_samples_leaf=5, max_depth=5, learning_rate=0.1, score=0.34940238534514484, total=  27.2s\n",
      "[CV] n_estimators=100, min_samples_split=10, min_samples_leaf=1, max_depth=3, learning_rate=1 \n",
      "[CV]  n_estimators=100, min_samples_split=10, min_samples_leaf=1, max_depth=3, learning_rate=1, score=0.36626786560660946, total=  15.0s\n",
      "[CV] n_estimators=100, min_samples_split=10, min_samples_leaf=1, max_depth=3, learning_rate=1 \n",
      "[CV]  n_estimators=100, min_samples_split=10, min_samples_leaf=1, max_depth=3, learning_rate=1, score=0.362291769961604, total=  15.4s\n",
      "[CV] n_estimators=100, min_samples_split=10, min_samples_leaf=1, max_depth=3, learning_rate=1 \n",
      "[CV]  n_estimators=100, min_samples_split=10, min_samples_leaf=1, max_depth=3, learning_rate=1, score=0.35958806197029675, total=  14.7s\n",
      "[CV] n_estimators=50, min_samples_split=5, min_samples_leaf=3, max_depth=3, learning_rate=1 \n",
      "[CV]  n_estimators=50, min_samples_split=5, min_samples_leaf=3, max_depth=3, learning_rate=1, score=0.3605061266363572, total=   7.2s\n",
      "[CV] n_estimators=50, min_samples_split=5, min_samples_leaf=3, max_depth=3, learning_rate=1 \n",
      "[CV]  n_estimators=50, min_samples_split=5, min_samples_leaf=3, max_depth=3, learning_rate=1, score=0.360636440952481, total=   7.2s\n",
      "[CV] n_estimators=50, min_samples_split=5, min_samples_leaf=3, max_depth=3, learning_rate=1 \n",
      "[CV]  n_estimators=50, min_samples_split=5, min_samples_leaf=3, max_depth=3, learning_rate=1, score=0.35612213060625425, total=   7.2s\n",
      "[CV] n_estimators=50, min_samples_split=10, min_samples_leaf=5, max_depth=1, learning_rate=0.1 \n",
      "[CV]  n_estimators=50, min_samples_split=10, min_samples_leaf=5, max_depth=1, learning_rate=0.1, score=0.3210549996216229, total=   3.3s\n",
      "[CV] n_estimators=50, min_samples_split=10, min_samples_leaf=5, max_depth=1, learning_rate=0.1 \n",
      "[CV]  n_estimators=50, min_samples_split=10, min_samples_leaf=5, max_depth=1, learning_rate=0.1, score=0.32108890126748335, total=   3.4s\n",
      "[CV] n_estimators=50, min_samples_split=10, min_samples_leaf=5, max_depth=1, learning_rate=0.1 \n"
     ]
    },
    {
     "name": "stderr",
     "output_type": "stream",
     "text": [
      "/anaconda3/lib/python3.7/site-packages/sklearn/metrics/classification.py:1143: UndefinedMetricWarning: F-score is ill-defined and being set to 0.0 in labels with no predicted samples.\n",
      "  'precision', 'predicted', average, warn_for)\n",
      "/anaconda3/lib/python3.7/site-packages/sklearn/metrics/classification.py:1143: UndefinedMetricWarning: F-score is ill-defined and being set to 0.0 in labels with no predicted samples.\n",
      "  'precision', 'predicted', average, warn_for)\n"
     ]
    },
    {
     "name": "stdout",
     "output_type": "stream",
     "text": [
      "[CV]  n_estimators=50, min_samples_split=10, min_samples_leaf=5, max_depth=1, learning_rate=0.1, score=0.31730535237396984, total=   3.2s\n",
      "[CV] n_estimators=50, min_samples_split=10, min_samples_leaf=5, max_depth=5, learning_rate=0.1 \n",
      "[CV]  n_estimators=50, min_samples_split=10, min_samples_leaf=5, max_depth=5, learning_rate=0.1, score=0.3488708511452195, total=  14.9s\n",
      "[CV] n_estimators=50, min_samples_split=10, min_samples_leaf=5, max_depth=5, learning_rate=0.1 \n",
      "[CV]  n_estimators=50, min_samples_split=10, min_samples_leaf=5, max_depth=5, learning_rate=0.1, score=0.3422221626059505, total=  15.9s\n",
      "[CV] n_estimators=50, min_samples_split=10, min_samples_leaf=5, max_depth=5, learning_rate=0.1 \n",
      "[CV]  n_estimators=50, min_samples_split=10, min_samples_leaf=5, max_depth=5, learning_rate=0.1, score=0.34113227460973455, total=  16.1s\n",
      "[CV] n_estimators=100, min_samples_split=5, min_samples_leaf=5, max_depth=3, learning_rate=0.01 \n"
     ]
    },
    {
     "name": "stderr",
     "output_type": "stream",
     "text": [
      "/anaconda3/lib/python3.7/site-packages/sklearn/metrics/classification.py:1143: UndefinedMetricWarning: F-score is ill-defined and being set to 0.0 in labels with no predicted samples.\n",
      "  'precision', 'predicted', average, warn_for)\n",
      "/anaconda3/lib/python3.7/site-packages/sklearn/metrics/classification.py:1143: UndefinedMetricWarning: F-score is ill-defined and being set to 0.0 in labels with no predicted samples.\n",
      "  'precision', 'predicted', average, warn_for)\n"
     ]
    },
    {
     "name": "stdout",
     "output_type": "stream",
     "text": [
      "[CV]  n_estimators=100, min_samples_split=5, min_samples_leaf=5, max_depth=3, learning_rate=0.01, score=0.3144051618289685, total=  18.8s\n",
      "[CV] n_estimators=100, min_samples_split=5, min_samples_leaf=5, max_depth=3, learning_rate=0.01 \n",
      "[CV]  n_estimators=100, min_samples_split=5, min_samples_leaf=5, max_depth=3, learning_rate=0.01, score=0.3050426722858091, total=  20.6s\n",
      "[CV] n_estimators=100, min_samples_split=5, min_samples_leaf=5, max_depth=3, learning_rate=0.01 \n"
     ]
    },
    {
     "name": "stderr",
     "output_type": "stream",
     "text": [
      "/anaconda3/lib/python3.7/site-packages/sklearn/metrics/classification.py:1143: UndefinedMetricWarning: F-score is ill-defined and being set to 0.0 in labels with no predicted samples.\n",
      "  'precision', 'predicted', average, warn_for)\n",
      "/anaconda3/lib/python3.7/site-packages/sklearn/metrics/classification.py:1143: UndefinedMetricWarning: F-score is ill-defined and being set to 0.0 in labels with no predicted samples.\n",
      "  'precision', 'predicted', average, warn_for)\n"
     ]
    },
    {
     "name": "stdout",
     "output_type": "stream",
     "text": [
      "[CV]  n_estimators=100, min_samples_split=5, min_samples_leaf=5, max_depth=3, learning_rate=0.01, score=0.3109338589353703, total=  19.9s\n",
      "[CV] n_estimators=50, min_samples_split=5, min_samples_leaf=5, max_depth=3, learning_rate=1 \n",
      "[CV]  n_estimators=50, min_samples_split=5, min_samples_leaf=5, max_depth=3, learning_rate=1, score=0.3652531515609916, total=   8.1s\n",
      "[CV] n_estimators=50, min_samples_split=5, min_samples_leaf=5, max_depth=3, learning_rate=1 \n",
      "[CV]  n_estimators=50, min_samples_split=5, min_samples_leaf=5, max_depth=3, learning_rate=1, score=0.36162751444237956, total=   8.8s\n",
      "[CV] n_estimators=50, min_samples_split=5, min_samples_leaf=5, max_depth=3, learning_rate=1 \n",
      "[CV]  n_estimators=50, min_samples_split=5, min_samples_leaf=5, max_depth=3, learning_rate=1, score=0.3589774146299092, total=   7.7s\n",
      "[CV] n_estimators=50, min_samples_split=5, min_samples_leaf=5, max_depth=5, learning_rate=0.01 \n",
      "[CV]  n_estimators=50, min_samples_split=5, min_samples_leaf=5, max_depth=5, learning_rate=0.01, score=0.3165360056660466, total=  19.0s\n",
      "[CV] n_estimators=50, min_samples_split=5, min_samples_leaf=5, max_depth=5, learning_rate=0.01 \n",
      "[CV]  n_estimators=50, min_samples_split=5, min_samples_leaf=5, max_depth=5, learning_rate=0.01, score=0.3056266885257836, total=  19.8s\n",
      "[CV] n_estimators=50, min_samples_split=5, min_samples_leaf=5, max_depth=5, learning_rate=0.01 \n",
      "[CV]  n_estimators=50, min_samples_split=5, min_samples_leaf=5, max_depth=5, learning_rate=0.01, score=0.30993921561656473, total=  17.4s\n",
      "[CV] n_estimators=50, min_samples_split=5, min_samples_leaf=1, max_depth=5, learning_rate=0.01 \n",
      "[CV]  n_estimators=50, min_samples_split=5, min_samples_leaf=1, max_depth=5, learning_rate=0.01, score=0.3164542941830346, total=  18.2s\n",
      "[CV] n_estimators=50, min_samples_split=5, min_samples_leaf=1, max_depth=5, learning_rate=0.01 \n",
      "[CV]  n_estimators=50, min_samples_split=5, min_samples_leaf=1, max_depth=5, learning_rate=0.01, score=0.3057814439281637, total=  17.6s\n",
      "[CV] n_estimators=50, min_samples_split=5, min_samples_leaf=1, max_depth=5, learning_rate=0.01 \n",
      "[CV]  n_estimators=50, min_samples_split=5, min_samples_leaf=1, max_depth=5, learning_rate=0.01, score=0.30953751554196646, total=  17.0s\n",
      "[CV] n_estimators=50, min_samples_split=5, min_samples_leaf=3, max_depth=1, learning_rate=0.1 \n",
      "[CV]  n_estimators=50, min_samples_split=5, min_samples_leaf=3, max_depth=1, learning_rate=0.1, score=0.3210549996216229, total=   4.0s\n",
      "[CV] n_estimators=50, min_samples_split=5, min_samples_leaf=3, max_depth=1, learning_rate=0.1 \n",
      "[CV]  n_estimators=50, min_samples_split=5, min_samples_leaf=3, max_depth=1, learning_rate=0.1, score=0.32108890126748335, total=   4.4s\n",
      "[CV] n_estimators=50, min_samples_split=5, min_samples_leaf=3, max_depth=1, learning_rate=0.1 \n"
     ]
    },
    {
     "name": "stderr",
     "output_type": "stream",
     "text": [
      "/anaconda3/lib/python3.7/site-packages/sklearn/metrics/classification.py:1143: UndefinedMetricWarning: F-score is ill-defined and being set to 0.0 in labels with no predicted samples.\n",
      "  'precision', 'predicted', average, warn_for)\n",
      "/anaconda3/lib/python3.7/site-packages/sklearn/metrics/classification.py:1143: UndefinedMetricWarning: F-score is ill-defined and being set to 0.0 in labels with no predicted samples.\n",
      "  'precision', 'predicted', average, warn_for)\n"
     ]
    },
    {
     "name": "stdout",
     "output_type": "stream",
     "text": [
      "[CV]  n_estimators=50, min_samples_split=5, min_samples_leaf=3, max_depth=1, learning_rate=0.1, score=0.31730535237396984, total=   4.4s\n",
      "[CV] n_estimators=100, min_samples_split=5, min_samples_leaf=1, max_depth=3, learning_rate=0.1 \n",
      "[CV]  n_estimators=100, min_samples_split=5, min_samples_leaf=1, max_depth=3, learning_rate=0.1, score=0.3455685724853607, total=  21.5s\n",
      "[CV] n_estimators=100, min_samples_split=5, min_samples_leaf=1, max_depth=3, learning_rate=0.1 \n",
      "[CV]  n_estimators=100, min_samples_split=5, min_samples_leaf=1, max_depth=3, learning_rate=0.1, score=0.340180737383297, total=  16.5s\n",
      "[CV] n_estimators=100, min_samples_split=5, min_samples_leaf=1, max_depth=3, learning_rate=0.1 \n",
      "[CV]  n_estimators=100, min_samples_split=5, min_samples_leaf=1, max_depth=3, learning_rate=0.1, score=0.33995035465419443, total=  16.6s\n"
     ]
    },
    {
     "name": "stderr",
     "output_type": "stream",
     "text": [
      "[Parallel(n_jobs=1)]: Done  60 out of  60 | elapsed: 13.6min finished\n"
     ]
    },
    {
     "data": {
      "text/plain": [
       "RandomizedSearchCV(cv=3, error_score='raise-deprecating',\n",
       "          estimator=GradientBoostingClassifier(criterion='friedman_mse', init=None,\n",
       "              learning_rate=0.1, loss='deviance', max_depth=3,\n",
       "              max_features=None, max_leaf_nodes=None,\n",
       "              min_impurity_decrease=0.0, min_impurity_split=None,\n",
       "              min_samples_leaf=1, min_sampl...      subsample=1.0, tol=0.0001, validation_fraction=0.1,\n",
       "              verbose=0, warm_start=False),\n",
       "          fit_params=None, iid='warn', n_iter=20, n_jobs=None,\n",
       "          param_distributions={'n_estimators': [50, 100], 'learning_rate': [1, 0.1, 0.01], 'max_depth': [1, 3, 5], 'min_samples_split': [5, 10], 'min_samples_leaf': [1, 3, 5]},\n",
       "          pre_dispatch='2*n_jobs', random_state=None, refit=True,\n",
       "          return_train_score=True, scoring='f1_macro', verbose=5)"
      ]
     },
     "execution_count": 11,
     "metadata": {},
     "output_type": "execute_result"
    }
   ],
   "source": [
    "search = RandomizedSearchCV(clf, params, n_iter=20, cv=3, return_train_score=True, verbose=5, scoring='f1_macro')\n",
    "\n",
    "search.fit(X,y)"
   ]
  },
  {
   "cell_type": "markdown",
   "metadata": {},
   "source": [
    "### Tuned Results"
   ]
  },
  {
   "cell_type": "code",
   "execution_count": 12,
   "metadata": {},
   "outputs": [
    {
     "name": "stdout",
     "output_type": "stream",
     "text": [
      "Mean Training Score: 0.36017774007748954\n",
      "Mean Testing Score: 0.45593307782846226\n",
      "\n",
      "Best Parameter Found:\n"
     ]
    },
    {
     "data": {
      "text/plain": [
       "{'n_estimators': 100,\n",
       " 'min_samples_split': 10,\n",
       " 'min_samples_leaf': 1,\n",
       " 'max_depth': 3,\n",
       " 'learning_rate': 1}"
      ]
     },
     "execution_count": 12,
     "metadata": {},
     "output_type": "execute_result"
    }
   ],
   "source": [
    "print(\"Mean Training Score:\", np.mean(search.cv_results_['mean_train_score']))\n",
    "print(\"Mean Testing Score:\", search.score(X, y))\n",
    "print(\"\\nBest Parameter Found:\")\n",
    "search.best_params_"
   ]
  },
  {
   "cell_type": "markdown",
   "metadata": {},
   "source": [
    "### Model with the Best Parameters"
   ]
  },
  {
   "cell_type": "code",
   "execution_count": 13,
   "metadata": {},
   "outputs": [
    {
     "data": {
      "text/plain": [
       "GradientBoostingClassifier(criterion='friedman_mse', init=None,\n",
       "              learning_rate=1, loss='deviance', max_depth=3,\n",
       "              max_features=None, max_leaf_nodes=None,\n",
       "              min_impurity_decrease=0.0, min_impurity_split=None,\n",
       "              min_samples_leaf=1, min_samples_split=10,\n",
       "              min_weight_fraction_leaf=0.0, n_estimators=100,\n",
       "              n_iter_no_change=None, presort='auto', random_state=None,\n",
       "              subsample=1.0, tol=0.0001, validation_fraction=0.1,\n",
       "              verbose=0, warm_start=False)"
      ]
     },
     "execution_count": 13,
     "metadata": {},
     "output_type": "execute_result"
    }
   ],
   "source": [
    "search_clf = search.best_estimator_\n",
    "\n",
    "search_clf.fit(X_train, y_train)"
   ]
  },
  {
   "cell_type": "markdown",
   "metadata": {},
   "source": [
    "#### Results from Optimum Parameters"
   ]
  },
  {
   "cell_type": "code",
   "execution_count": 14,
   "metadata": {},
   "outputs": [
    {
     "name": "stdout",
     "output_type": "stream",
     "text": [
      "              precision    recall  f1-score   support\n",
      "\n",
      "        Sell       0.29      0.09      0.14      2825\n",
      "         Buy       0.44      0.36      0.40      5564\n",
      "        Hold       0.46      0.68      0.55      6654\n",
      "\n",
      "   micro avg       0.45      0.45      0.45     15043\n",
      "   macro avg       0.40      0.37      0.36     15043\n",
      "weighted avg       0.42      0.45      0.41     15043\n",
      "\n"
     ]
    }
   ],
   "source": [
    "# Classifier predictions\n",
    "s_pred = search_clf.predict(X_test)\n",
    "\n",
    "#Printing out results\n",
    "report = classification_report(y_test, s_pred, target_names=['Sell', 'Buy', 'Hold'])\n",
    "print(report)"
   ]
  },
  {
   "cell_type": "markdown",
   "metadata": {},
   "source": [
    "### Confusion Matrix for Optimum Parameters"
   ]
  },
  {
   "cell_type": "code",
   "execution_count": 15,
   "metadata": {},
   "outputs": [
    {
     "data": {
      "image/png": "[encoded data removed]",
      "text/plain": [
       "<Figure size 864x432 with 2 Axes>"
      ]
     },
     "metadata": {
      "needs_background": "light"
     },
     "output_type": "display_data"
    }
   ],
   "source": [
    "plot_confusion_matrix(y_test, s_pred, title=\"Confusion Matrix\")\n",
    "np.set_printoptions(precision=1)\n",
    "# Plot non-normalized confusion matrix\n",
    "plt.show()"
   ]
  },
  {
   "cell_type": "code",
   "execution_count": null,
   "metadata": {},
   "outputs": [],
   "source": []
  }
 ],
 "metadata": {
  "kernelspec": {
   "display_name": "Python 3",
   "language": "python",
   "name": "python3"
  },
  "language_info": {
   "codemirror_mode": {
    "name": "ipython",
    "version": 3
   },
   "file_extension": ".py",
   "mimetype": "text/x-python",
   "name": "python",
   "nbconvert_exporter": "python",
   "pygments_lexer": "ipython3",
   "version": "3.7.3"
  }
 },
 "nbformat": 4,
 "nbformat_minor": 2
}
