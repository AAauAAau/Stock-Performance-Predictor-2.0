{
 "cells": [
  {
   "cell_type": "markdown",
   "metadata": {},
   "source": [
    "# Model: Decision Tree"
   ]
  },
  {
   "cell_type": "markdown",
   "metadata": {},
   "source": [
    "### Importing Libraries"
   ]
  },
  {
   "cell_type": "code",
   "execution_count": 1,
   "metadata": {},
   "outputs": [],
   "source": [
    "import _pickle as pickle\n",
    "import numpy as np\n",
    "import pandas as pd\n",
    "from sklearn.model_selection import train_test_split\n",
    "from sklearn.metrics import precision_score, recall_score, accuracy_score, f1_score, confusion_matrix, classification_report\n",
    "import matplotlib.pyplot as plt"
   ]
  },
  {
   "cell_type": "markdown",
   "metadata": {},
   "source": [
    "### Loading in Data"
   ]
  },
  {
   "cell_type": "code",
   "execution_count": 2,
   "metadata": {},
   "outputs": [],
   "source": [
    "with open(\"top10_corr_df.pkl\",'rb') as fp:\n",
    "    df = pickle.load(fp)"
   ]
  },
  {
   "cell_type": "markdown",
   "metadata": {},
   "source": [
    "### Scaling the Data"
   ]
  },
  {
   "cell_type": "code",
   "execution_count": 3,
   "metadata": {},
   "outputs": [],
   "source": [
    "from sklearn.preprocessing import StandardScaler\n",
    "\n",
    "scaler = StandardScaler()\n",
    "\n",
    "features_df = df.drop([\"Decision\"], 1)\n",
    "\n",
    "scaled_df = pd.DataFrame(scaler.fit_transform(features_df), \n",
    "                               index=features_df.index, \n",
    "                               columns=features_df.columns)\n",
    "\n",
    "df = scaled_df.join(df.Decision)"
   ]
  },
  {
   "cell_type": "markdown",
   "metadata": {},
   "source": [
    "### Splitting the Data"
   ]
  },
  {
   "cell_type": "code",
   "execution_count": 4,
   "metadata": {},
   "outputs": [],
   "source": [
    "X = df.drop([\"Decision\"], 1)\n",
    "y = df.Decision\n",
    "\n",
    "# Train, test, split\n",
    "X_train, X_test, y_train, y_test = train_test_split(X, y)"
   ]
  },
  {
   "cell_type": "markdown",
   "metadata": {},
   "source": [
    "### Helper Functions"
   ]
  },
  {
   "cell_type": "markdown",
   "metadata": {},
   "source": [
    "#### Function for plotting confusion matrix"
   ]
  },
  {
   "cell_type": "code",
   "execution_count": 5,
   "metadata": {},
   "outputs": [],
   "source": [
    "def plot_confusion_matrix(y_true, y_pred, labels=[\"Sell\", \"Buy\", \"Hold\"], \n",
    "                          normalize=False, title=None, cmap=plt.cm.coolwarm):\n",
    "\n",
    "    cm = confusion_matrix(y_true, y_pred)\n",
    "    fig, ax = plt.subplots(figsize=(12,6))\n",
    "    im = ax.imshow(cm, interpolation='nearest', cmap=cmap)\n",
    "    ax.figure.colorbar(im, ax=ax)\n",
    "    # We want to show all ticks...\n",
    "    ax.set(xticks=np.arange(cm.shape[1]),\n",
    "           yticks=np.arange(cm.shape[0]),\n",
    "           # ... and label them with the respective list entries\n",
    "           xticklabels=labels, yticklabels=labels,\n",
    "           title=title,\n",
    "           ylabel='ACTUAL',\n",
    "           xlabel='PREDICTED')\n",
    "    # Rotate the tick labels and set their alignment.\n",
    "    plt.setp(ax.get_xticklabels(), rotation=45, ha=\"right\",\n",
    "             rotation_mode=\"anchor\")\n",
    "    # Loop over data dimensions and create text annotations.\n",
    "    fmt = '.2f' if normalize else 'd'\n",
    "    thresh = cm.max() / 1.5\n",
    "    for i in range(cm.shape[0]):\n",
    "        for j in range(cm.shape[1]):\n",
    "            ax.text(j, i, format(cm[i, j], fmt),\n",
    "                    ha=\"center\", va=\"center\",\n",
    "                    color=\"snow\" if cm[i, j] > thresh else \"orange\",\n",
    "                    size=26)\n",
    "    ax.grid(False)\n",
    "    fig.tight_layout()\n",
    "    return ax"
   ]
  },
  {
   "cell_type": "markdown",
   "metadata": {},
   "source": [
    "## Modeling\n",
    "The preferred evaluation metric used will be __Precision__ for each class.  They will be optimized using the __F1 Score-Macro-Average__ to balance the Precision and Recall.  This is done because we want to not only be correct when predicting but also make a decent amount of predictions for each class.  Classes such as 'Buy' and 'Sell' are more important than 'Hold'."
   ]
  },
  {
   "cell_type": "markdown",
   "metadata": {},
   "source": [
    "### Fitting and Training"
   ]
  },
  {
   "cell_type": "code",
   "execution_count": 6,
   "metadata": {
    "scrolled": false
   },
   "outputs": [
    {
     "data": {
      "text/plain": [
       "DecisionTreeClassifier(class_weight=None, criterion='gini', max_depth=None,\n",
       "            max_features=None, max_leaf_nodes=None,\n",
       "            min_impurity_decrease=0.0, min_impurity_split=None,\n",
       "            min_samples_leaf=1, min_samples_split=2,\n",
       "            min_weight_fraction_leaf=0.0, presort=False, random_state=None,\n",
       "            splitter='best')"
      ]
     },
     "execution_count": 6,
     "metadata": {},
     "output_type": "execute_result"
    }
   ],
   "source": [
    "# Importing the model\n",
    "from sklearn.tree import DecisionTreeClassifier\n",
    "\n",
    "# Fitting and training\n",
    "clf = DecisionTreeClassifier()\n",
    "clf.fit(X_train, y_train)"
   ]
  },
  {
   "cell_type": "markdown",
   "metadata": {},
   "source": [
    "### Printing out Evaluation Metrics"
   ]
  },
  {
   "cell_type": "code",
   "execution_count": 7,
   "metadata": {},
   "outputs": [
    {
     "name": "stdout",
     "output_type": "stream",
     "text": [
      "              precision    recall  f1-score   support\n",
      "\n",
      "        Sell       0.22      0.22      0.22      2967\n",
      "         Buy       0.38      0.39      0.39      5500\n",
      "        Hold       0.45      0.44      0.45      6576\n",
      "\n",
      "   micro avg       0.38      0.38      0.38     15043\n",
      "   macro avg       0.35      0.35      0.35     15043\n",
      "weighted avg       0.38      0.38      0.38     15043\n",
      "\n"
     ]
    }
   ],
   "source": [
    "# Classifier predictions\n",
    "pred = clf.predict(X_test)\n",
    "\n",
    "#Printing out results\n",
    "report = classification_report(y_test, pred, target_names=['Sell', 'Buy', 'Hold'])\n",
    "print(report)"
   ]
  },
  {
   "cell_type": "markdown",
   "metadata": {},
   "source": [
    "### Confusion Matrix"
   ]
  },
  {
   "cell_type": "code",
   "execution_count": 8,
   "metadata": {},
   "outputs": [
    {
     "data": {
      "image/png": "[encoded data removed]",
      "text/plain": [
       "<Figure size 864x432 with 2 Axes>"
      ]
     },
     "metadata": {
      "needs_background": "light"
     },
     "output_type": "display_data"
    }
   ],
   "source": [
    "plot_confusion_matrix(y_test, pred, title=\"Confusion Matrix\")\n",
    "np.set_printoptions(precision=1)\n",
    "# Plot non-normalized confusion matrix\n",
    "plt.show()"
   ]
  },
  {
   "cell_type": "markdown",
   "metadata": {},
   "source": [
    "## Tuning Model Parameters"
   ]
  },
  {
   "cell_type": "code",
   "execution_count": 9,
   "metadata": {},
   "outputs": [],
   "source": [
    "from sklearn.model_selection import GridSearchCV"
   ]
  },
  {
   "cell_type": "markdown",
   "metadata": {},
   "source": [
    "### Parameters"
   ]
  },
  {
   "cell_type": "code",
   "execution_count": 10,
   "metadata": {},
   "outputs": [],
   "source": [
    "# Parameters to Tune\n",
    "params = {'criterion': ['gini', 'entropy'],\n",
    "          'max_depth': [None, 2, 3, 4, 5, 6],\n",
    "          'min_samples_split': [2, 5, 10],\n",
    "          'min_samples_leaf': [1,2,3,4,5,6]}"
   ]
  },
  {
   "cell_type": "code",
   "execution_count": 11,
   "metadata": {
    "scrolled": true
   },
   "outputs": [
    {
     "name": "stdout",
     "output_type": "stream",
     "text": [
      "Fitting 3 folds for each of 216 candidates, totalling 648 fits\n",
      "[CV] criterion=gini, max_depth=None, min_samples_leaf=1, min_samples_split=2 \n"
     ]
    },
    {
     "name": "stderr",
     "output_type": "stream",
     "text": [
      "[Parallel(n_jobs=1)]: Using backend SequentialBackend with 1 concurrent workers.\n"
     ]
    },
    {
     "name": "stdout",
     "output_type": "stream",
     "text": [
      "[CV]  criterion=gini, max_depth=None, min_samples_leaf=1, min_samples_split=2, score=0.34965243737919277, total=   0.8s\n",
      "[CV] criterion=gini, max_depth=None, min_samples_leaf=1, min_samples_split=2 \n"
     ]
    },
    {
     "name": "stderr",
     "output_type": "stream",
     "text": [
      "[Parallel(n_jobs=1)]: Done   1 out of   1 | elapsed:    0.8s remaining:    0.0s\n"
     ]
    },
    {
     "name": "stdout",
     "output_type": "stream",
     "text": [
      "[CV]  criterion=gini, max_depth=None, min_samples_leaf=1, min_samples_split=2, score=0.34769428883789244, total=   0.8s\n",
      "[CV] criterion=gini, max_depth=None, min_samples_leaf=1, min_samples_split=2 \n"
     ]
    },
    {
     "name": "stderr",
     "output_type": "stream",
     "text": [
      "[Parallel(n_jobs=1)]: Done   2 out of   2 | elapsed:    1.6s remaining:    0.0s\n"
     ]
    },
    {
     "name": "stdout",
     "output_type": "stream",
     "text": [
      "[CV]  criterion=gini, max_depth=None, min_samples_leaf=1, min_samples_split=2, score=0.3499967483048679, total=   0.8s\n",
      "[CV] criterion=gini, max_depth=None, min_samples_leaf=1, min_samples_split=5 \n"
     ]
    },
    {
     "name": "stderr",
     "output_type": "stream",
     "text": [
      "[Parallel(n_jobs=1)]: Done   3 out of   3 | elapsed:    2.5s remaining:    0.0s\n"
     ]
    },
    {
     "name": "stdout",
     "output_type": "stream",
     "text": [
      "[CV]  criterion=gini, max_depth=None, min_samples_leaf=1, min_samples_split=5, score=0.3444030770745569, total=   0.8s\n",
      "[CV] criterion=gini, max_depth=None, min_samples_leaf=1, min_samples_split=5 \n"
     ]
    },
    {
     "name": "stderr",
     "output_type": "stream",
     "text": [
      "[Parallel(n_jobs=1)]: Done   4 out of   4 | elapsed:    3.3s remaining:    0.0s\n"
     ]
    },
    {
     "name": "stdout",
     "output_type": "stream",
     "text": [
      "[CV]  criterion=gini, max_depth=None, min_samples_leaf=1, min_samples_split=5, score=0.3478147100964923, total=   0.9s\n",
      "[CV] criterion=gini, max_depth=None, min_samples_leaf=1, min_samples_split=5 \n",
      "[CV]  criterion=gini, max_depth=None, min_samples_leaf=1, min_samples_split=5, score=0.34660302370592105, total=   0.8s\n",
      "[CV] criterion=gini, max_depth=None, min_samples_leaf=1, min_samples_split=10 \n",
      "[CV]  criterion=gini, max_depth=None, min_samples_leaf=1, min_samples_split=10, score=0.3513433287293708, total=   0.9s\n",
      "[CV] criterion=gini, max_depth=None, min_samples_leaf=1, min_samples_split=10 \n",
      "[CV]  criterion=gini, max_depth=None, min_samples_leaf=1, min_samples_split=10, score=0.34689426639665305, total=   1.2s\n",
      "[CV] criterion=gini, max_depth=None, min_samples_leaf=1, min_samples_split=10 \n",
      "[CV]  criterion=gini, max_depth=None, min_samples_leaf=1, min_samples_split=10, score=0.3505418250556591, total=   0.8s\n",
      "[CV] criterion=gini, max_depth=None, min_samples_leaf=2, min_samples_split=2 \n",
      "[CV]  criterion=gini, max_depth=None, min_samples_leaf=2, min_samples_split=2, score=0.34775705166700543, total=   1.0s\n",
      "[CV] criterion=gini, max_depth=None, min_samples_leaf=2, min_samples_split=2 \n",
      "[CV]  criterion=gini, max_depth=None, min_samples_leaf=2, min_samples_split=2, score=0.3427853275515367, total=   1.0s\n",
      "[CV] criterion=gini, max_depth=None, min_samples_leaf=2, min_samples_split=2 \n",
      "[CV]  criterion=gini, max_depth=None, min_samples_leaf=2, min_samples_split=2, score=0.3509576631509462, total=   0.8s\n",
      "[CV] criterion=gini, max_depth=None, min_samples_leaf=2, min_samples_split=5 \n",
      "[CV]  criterion=gini, max_depth=None, min_samples_leaf=2, min_samples_split=5, score=0.347538729514797, total=   1.1s\n",
      "[CV] criterion=gini, max_depth=None, min_samples_leaf=2, min_samples_split=5 \n",
      "[CV]  criterion=gini, max_depth=None, min_samples_leaf=2, min_samples_split=5, score=0.34724033214247413, total=   1.0s\n",
      "[CV] criterion=gini, max_depth=None, min_samples_leaf=2, min_samples_split=5 \n",
      "[CV]  criterion=gini, max_depth=None, min_samples_leaf=2, min_samples_split=5, score=0.34996563980765777, total=   0.9s\n",
      "[CV] criterion=gini, max_depth=None, min_samples_leaf=2, min_samples_split=10 \n",
      "[CV]  criterion=gini, max_depth=None, min_samples_leaf=2, min_samples_split=10, score=0.3498599233322164, total=   0.8s\n",
      "[CV] criterion=gini, max_depth=None, min_samples_leaf=2, min_samples_split=10 \n",
      "[CV]  criterion=gini, max_depth=None, min_samples_leaf=2, min_samples_split=10, score=0.34779343714255045, total=   1.0s\n",
      "[CV] criterion=gini, max_depth=None, min_samples_leaf=2, min_samples_split=10 \n",
      "[CV]  criterion=gini, max_depth=None, min_samples_leaf=2, min_samples_split=10, score=0.3536218267901798, total=   1.0s\n",
      "[CV] criterion=gini, max_depth=None, min_samples_leaf=3, min_samples_split=2 \n",
      "[CV]  criterion=gini, max_depth=None, min_samples_leaf=3, min_samples_split=2, score=0.3470785235422201, total=   0.8s\n",
      "[CV] criterion=gini, max_depth=None, min_samples_leaf=3, min_samples_split=2 \n",
      "[CV]  criterion=gini, max_depth=None, min_samples_leaf=3, min_samples_split=2, score=0.34704162197129085, total=   0.8s\n",
      "[CV] criterion=gini, max_depth=None, min_samples_leaf=3, min_samples_split=2 \n",
      "[CV]  criterion=gini, max_depth=None, min_samples_leaf=3, min_samples_split=2, score=0.35145673089501145, total=   0.8s\n",
      "[CV] criterion=gini, max_depth=None, min_samples_leaf=3, min_samples_split=5 \n",
      "[CV]  criterion=gini, max_depth=None, min_samples_leaf=3, min_samples_split=5, score=0.34550724288990353, total=   0.7s\n",
      "[CV] criterion=gini, max_depth=None, min_samples_leaf=3, min_samples_split=5 \n",
      "[CV]  criterion=gini, max_depth=None, min_samples_leaf=3, min_samples_split=5, score=0.3470066735695401, total=   0.8s\n",
      "[CV] criterion=gini, max_depth=None, min_samples_leaf=3, min_samples_split=5 \n",
      "[CV]  criterion=gini, max_depth=None, min_samples_leaf=3, min_samples_split=5, score=0.35239021261236786, total=   0.6s\n",
      "[CV] criterion=gini, max_depth=None, min_samples_leaf=3, min_samples_split=10 \n",
      "[CV]  criterion=gini, max_depth=None, min_samples_leaf=3, min_samples_split=10, score=0.3489073973651258, total=   0.7s\n",
      "[CV] criterion=gini, max_depth=None, min_samples_leaf=3, min_samples_split=10 \n",
      "[CV]  criterion=gini, max_depth=None, min_samples_leaf=3, min_samples_split=10, score=0.3501613758965676, total=   0.7s\n",
      "[CV] criterion=gini, max_depth=None, min_samples_leaf=3, min_samples_split=10 \n",
      "[CV]  criterion=gini, max_depth=None, min_samples_leaf=3, min_samples_split=10, score=0.35199848533897354, total=   0.6s\n",
      "[CV] criterion=gini, max_depth=None, min_samples_leaf=4, min_samples_split=2 \n",
      "[CV]  criterion=gini, max_depth=None, min_samples_leaf=4, min_samples_split=2, score=0.3472599705739472, total=   0.6s\n",
      "[CV] criterion=gini, max_depth=None, min_samples_leaf=4, min_samples_split=2 \n",
      "[CV]  criterion=gini, max_depth=None, min_samples_leaf=4, min_samples_split=2, score=0.34817453659240044, total=   0.9s\n",
      "[CV] criterion=gini, max_depth=None, min_samples_leaf=4, min_samples_split=2 \n",
      "[CV]  criterion=gini, max_depth=None, min_samples_leaf=4, min_samples_split=2, score=0.353259895885337, total=   0.7s\n",
      "[CV] criterion=gini, max_depth=None, min_samples_leaf=4, min_samples_split=5 \n",
      "[CV]  criterion=gini, max_depth=None, min_samples_leaf=4, min_samples_split=5, score=0.34607898813972193, total=   0.6s\n",
      "[CV] criterion=gini, max_depth=None, min_samples_leaf=4, min_samples_split=5 \n",
      "[CV]  criterion=gini, max_depth=None, min_samples_leaf=4, min_samples_split=5, score=0.3487966026287969, total=   0.6s\n",
      "[CV] criterion=gini, max_depth=None, min_samples_leaf=4, min_samples_split=5 \n",
      "[CV]  criterion=gini, max_depth=None, min_samples_leaf=4, min_samples_split=5, score=0.3553228468358069, total=   0.6s\n",
      "[CV] criterion=gini, max_depth=None, min_samples_leaf=4, min_samples_split=10 \n",
      "[CV]  criterion=gini, max_depth=None, min_samples_leaf=4, min_samples_split=10, score=0.3494176032536746, total=   0.7s\n",
      "[CV] criterion=gini, max_depth=None, min_samples_leaf=4, min_samples_split=10 \n",
      "[CV]  criterion=gini, max_depth=None, min_samples_leaf=4, min_samples_split=10, score=0.35046374454640034, total=   0.6s\n",
      "[CV] criterion=gini, max_depth=None, min_samples_leaf=4, min_samples_split=10 \n",
      "[CV]  criterion=gini, max_depth=None, min_samples_leaf=4, min_samples_split=10, score=0.35389119864542434, total=   0.6s\n",
      "[CV] criterion=gini, max_depth=None, min_samples_leaf=5, min_samples_split=2 \n",
      "[CV]  criterion=gini, max_depth=None, min_samples_leaf=5, min_samples_split=2, score=0.3484368528440071, total=   0.6s\n",
      "[CV] criterion=gini, max_depth=None, min_samples_leaf=5, min_samples_split=2 \n",
      "[CV]  criterion=gini, max_depth=None, min_samples_leaf=5, min_samples_split=2, score=0.3518391608844343, total=   0.6s\n",
      "[CV] criterion=gini, max_depth=None, min_samples_leaf=5, min_samples_split=2 \n",
      "[CV]  criterion=gini, max_depth=None, min_samples_leaf=5, min_samples_split=2, score=0.34770778248461776, total=   0.6s\n",
      "[CV] criterion=gini, max_depth=None, min_samples_leaf=5, min_samples_split=5 \n",
      "[CV]  criterion=gini, max_depth=None, min_samples_leaf=5, min_samples_split=5, score=0.34725450803230046, total=   0.7s\n",
      "[CV] criterion=gini, max_depth=None, min_samples_leaf=5, min_samples_split=5 \n",
      "[CV]  criterion=gini, max_depth=None, min_samples_leaf=5, min_samples_split=5, score=0.3511353054519322, total=   0.6s\n",
      "[CV] criterion=gini, max_depth=None, min_samples_leaf=5, min_samples_split=5 \n",
      "[CV]  criterion=gini, max_depth=None, min_samples_leaf=5, min_samples_split=5, score=0.3455251870338281, total=   0.7s\n",
      "[CV] criterion=gini, max_depth=None, min_samples_leaf=5, min_samples_split=10 \n",
      "[CV]  criterion=gini, max_depth=None, min_samples_leaf=5, min_samples_split=10, score=0.3477921831418578, total=   0.7s\n",
      "[CV] criterion=gini, max_depth=None, min_samples_leaf=5, min_samples_split=10 \n",
      "[CV]  criterion=gini, max_depth=None, min_samples_leaf=5, min_samples_split=10, score=0.35095908747282806, total=   0.6s\n",
      "[CV] criterion=gini, max_depth=None, min_samples_leaf=5, min_samples_split=10 \n",
      "[CV]  criterion=gini, max_depth=None, min_samples_leaf=5, min_samples_split=10, score=0.3462210246545158, total=   0.6s\n",
      "[CV] criterion=gini, max_depth=None, min_samples_leaf=6, min_samples_split=2 \n",
      "[CV]  criterion=gini, max_depth=None, min_samples_leaf=6, min_samples_split=2, score=0.34840229834691777, total=   0.7s\n",
      "[CV] criterion=gini, max_depth=None, min_samples_leaf=6, min_samples_split=2 \n"
     ]
    },
    {
     "name": "stdout",
     "output_type": "stream",
     "text": [
      "[CV]  criterion=gini, max_depth=None, min_samples_leaf=6, min_samples_split=2, score=0.3512115615696992, total=   0.7s\n",
      "[CV] criterion=gini, max_depth=None, min_samples_leaf=6, min_samples_split=2 \n",
      "[CV]  criterion=gini, max_depth=None, min_samples_leaf=6, min_samples_split=2, score=0.3526736149485819, total=   1.1s\n",
      "[CV] criterion=gini, max_depth=None, min_samples_leaf=6, min_samples_split=5 \n",
      "[CV]  criterion=gini, max_depth=None, min_samples_leaf=6, min_samples_split=5, score=0.3490552118425447, total=   1.5s\n",
      "[CV] criterion=gini, max_depth=None, min_samples_leaf=6, min_samples_split=5 \n",
      "[CV]  criterion=gini, max_depth=None, min_samples_leaf=6, min_samples_split=5, score=0.35028170611021636, total=   1.4s\n",
      "[CV] criterion=gini, max_depth=None, min_samples_leaf=6, min_samples_split=5 \n",
      "[CV]  criterion=gini, max_depth=None, min_samples_leaf=6, min_samples_split=5, score=0.3514811589801023, total=   1.8s\n",
      "[CV] criterion=gini, max_depth=None, min_samples_leaf=6, min_samples_split=10 \n",
      "[CV]  criterion=gini, max_depth=None, min_samples_leaf=6, min_samples_split=10, score=0.34807369611246913, total=   1.1s\n",
      "[CV] criterion=gini, max_depth=None, min_samples_leaf=6, min_samples_split=10 \n",
      "[CV]  criterion=gini, max_depth=None, min_samples_leaf=6, min_samples_split=10, score=0.34929898971148887, total=   1.2s\n",
      "[CV] criterion=gini, max_depth=None, min_samples_leaf=6, min_samples_split=10 \n",
      "[CV]  criterion=gini, max_depth=None, min_samples_leaf=6, min_samples_split=10, score=0.35034047061296825, total=   0.9s\n",
      "[CV] criterion=gini, max_depth=2, min_samples_leaf=1, min_samples_split=2 \n",
      "[CV]  criterion=gini, max_depth=2, min_samples_leaf=1, min_samples_split=2, score=0.3030537783332958, total=   0.1s\n",
      "[CV] criterion=gini, max_depth=2, min_samples_leaf=1, min_samples_split=2 \n"
     ]
    },
    {
     "name": "stderr",
     "output_type": "stream",
     "text": [
      "/anaconda3/lib/python3.7/site-packages/sklearn/metrics/classification.py:1143: UndefinedMetricWarning: F-score is ill-defined and being set to 0.0 in labels with no predicted samples.\n",
      "  'precision', 'predicted', average, warn_for)\n",
      "/anaconda3/lib/python3.7/site-packages/sklearn/metrics/classification.py:1143: UndefinedMetricWarning: F-score is ill-defined and being set to 0.0 in labels with no predicted samples.\n",
      "  'precision', 'predicted', average, warn_for)\n",
      "/anaconda3/lib/python3.7/site-packages/sklearn/metrics/classification.py:1143: UndefinedMetricWarning: F-score is ill-defined and being set to 0.0 in labels with no predicted samples.\n",
      "  'precision', 'predicted', average, warn_for)\n",
      "/anaconda3/lib/python3.7/site-packages/sklearn/metrics/classification.py:1143: UndefinedMetricWarning: F-score is ill-defined and being set to 0.0 in labels with no predicted samples.\n",
      "  'precision', 'predicted', average, warn_for)\n"
     ]
    },
    {
     "name": "stdout",
     "output_type": "stream",
     "text": [
      "[CV]  criterion=gini, max_depth=2, min_samples_leaf=1, min_samples_split=2, score=0.2831221612086125, total=   0.1s\n",
      "[CV] criterion=gini, max_depth=2, min_samples_leaf=1, min_samples_split=2 \n"
     ]
    },
    {
     "name": "stderr",
     "output_type": "stream",
     "text": [
      "/anaconda3/lib/python3.7/site-packages/sklearn/metrics/classification.py:1143: UndefinedMetricWarning: F-score is ill-defined and being set to 0.0 in labels with no predicted samples.\n",
      "  'precision', 'predicted', average, warn_for)\n",
      "/anaconda3/lib/python3.7/site-packages/sklearn/metrics/classification.py:1143: UndefinedMetricWarning: F-score is ill-defined and being set to 0.0 in labels with no predicted samples.\n",
      "  'precision', 'predicted', average, warn_for)\n",
      "/anaconda3/lib/python3.7/site-packages/sklearn/metrics/classification.py:1143: UndefinedMetricWarning: F-score is ill-defined and being set to 0.0 in labels with no predicted samples.\n",
      "  'precision', 'predicted', average, warn_for)\n",
      "/anaconda3/lib/python3.7/site-packages/sklearn/metrics/classification.py:1143: UndefinedMetricWarning: F-score is ill-defined and being set to 0.0 in labels with no predicted samples.\n",
      "  'precision', 'predicted', average, warn_for)\n"
     ]
    },
    {
     "name": "stdout",
     "output_type": "stream",
     "text": [
      "[CV]  criterion=gini, max_depth=2, min_samples_leaf=1, min_samples_split=2, score=0.2924929855586425, total=   0.2s\n",
      "[CV] criterion=gini, max_depth=2, min_samples_leaf=1, min_samples_split=5 \n",
      "[CV]  criterion=gini, max_depth=2, min_samples_leaf=1, min_samples_split=5, score=0.3030537783332958, total=   0.1s\n",
      "[CV] criterion=gini, max_depth=2, min_samples_leaf=1, min_samples_split=5 \n"
     ]
    },
    {
     "name": "stderr",
     "output_type": "stream",
     "text": [
      "/anaconda3/lib/python3.7/site-packages/sklearn/metrics/classification.py:1143: UndefinedMetricWarning: F-score is ill-defined and being set to 0.0 in labels with no predicted samples.\n",
      "  'precision', 'predicted', average, warn_for)\n",
      "/anaconda3/lib/python3.7/site-packages/sklearn/metrics/classification.py:1143: UndefinedMetricWarning: F-score is ill-defined and being set to 0.0 in labels with no predicted samples.\n",
      "  'precision', 'predicted', average, warn_for)\n",
      "/anaconda3/lib/python3.7/site-packages/sklearn/metrics/classification.py:1143: UndefinedMetricWarning: F-score is ill-defined and being set to 0.0 in labels with no predicted samples.\n",
      "  'precision', 'predicted', average, warn_for)\n",
      "/anaconda3/lib/python3.7/site-packages/sklearn/metrics/classification.py:1143: UndefinedMetricWarning: F-score is ill-defined and being set to 0.0 in labels with no predicted samples.\n",
      "  'precision', 'predicted', average, warn_for)\n"
     ]
    },
    {
     "name": "stdout",
     "output_type": "stream",
     "text": [
      "[CV]  criterion=gini, max_depth=2, min_samples_leaf=1, min_samples_split=5, score=0.2831221612086125, total=   0.1s\n",
      "[CV] criterion=gini, max_depth=2, min_samples_leaf=1, min_samples_split=5 \n",
      "[CV]  criterion=gini, max_depth=2, min_samples_leaf=1, min_samples_split=5, score=0.2924929855586425, total=   0.1s\n",
      "[CV] criterion=gini, max_depth=2, min_samples_leaf=1, min_samples_split=10 \n"
     ]
    },
    {
     "name": "stderr",
     "output_type": "stream",
     "text": [
      "/anaconda3/lib/python3.7/site-packages/sklearn/metrics/classification.py:1143: UndefinedMetricWarning: F-score is ill-defined and being set to 0.0 in labels with no predicted samples.\n",
      "  'precision', 'predicted', average, warn_for)\n",
      "/anaconda3/lib/python3.7/site-packages/sklearn/metrics/classification.py:1143: UndefinedMetricWarning: F-score is ill-defined and being set to 0.0 in labels with no predicted samples.\n",
      "  'precision', 'predicted', average, warn_for)\n",
      "/anaconda3/lib/python3.7/site-packages/sklearn/metrics/classification.py:1143: UndefinedMetricWarning: F-score is ill-defined and being set to 0.0 in labels with no predicted samples.\n",
      "  'precision', 'predicted', average, warn_for)\n",
      "/anaconda3/lib/python3.7/site-packages/sklearn/metrics/classification.py:1143: UndefinedMetricWarning: F-score is ill-defined and being set to 0.0 in labels with no predicted samples.\n",
      "  'precision', 'predicted', average, warn_for)\n"
     ]
    },
    {
     "name": "stdout",
     "output_type": "stream",
     "text": [
      "[CV]  criterion=gini, max_depth=2, min_samples_leaf=1, min_samples_split=10, score=0.3030537783332958, total=   0.1s\n",
      "[CV] criterion=gini, max_depth=2, min_samples_leaf=1, min_samples_split=10 \n",
      "[CV]  criterion=gini, max_depth=2, min_samples_leaf=1, min_samples_split=10, score=0.2831221612086125, total=   0.1s\n",
      "[CV] criterion=gini, max_depth=2, min_samples_leaf=1, min_samples_split=10 \n"
     ]
    },
    {
     "name": "stderr",
     "output_type": "stream",
     "text": [
      "/anaconda3/lib/python3.7/site-packages/sklearn/metrics/classification.py:1143: UndefinedMetricWarning: F-score is ill-defined and being set to 0.0 in labels with no predicted samples.\n",
      "  'precision', 'predicted', average, warn_for)\n",
      "/anaconda3/lib/python3.7/site-packages/sklearn/metrics/classification.py:1143: UndefinedMetricWarning: F-score is ill-defined and being set to 0.0 in labels with no predicted samples.\n",
      "  'precision', 'predicted', average, warn_for)\n",
      "/anaconda3/lib/python3.7/site-packages/sklearn/metrics/classification.py:1143: UndefinedMetricWarning: F-score is ill-defined and being set to 0.0 in labels with no predicted samples.\n",
      "  'precision', 'predicted', average, warn_for)\n",
      "/anaconda3/lib/python3.7/site-packages/sklearn/metrics/classification.py:1143: UndefinedMetricWarning: F-score is ill-defined and being set to 0.0 in labels with no predicted samples.\n",
      "  'precision', 'predicted', average, warn_for)\n"
     ]
    },
    {
     "name": "stdout",
     "output_type": "stream",
     "text": [
      "[CV]  criterion=gini, max_depth=2, min_samples_leaf=1, min_samples_split=10, score=0.2924929855586425, total=   0.1s\n",
      "[CV] criterion=gini, max_depth=2, min_samples_leaf=2, min_samples_split=2 \n",
      "[CV]  criterion=gini, max_depth=2, min_samples_leaf=2, min_samples_split=2, score=0.3030537783332958, total=   0.1s\n",
      "[CV] criterion=gini, max_depth=2, min_samples_leaf=2, min_samples_split=2 \n"
     ]
    },
    {
     "name": "stderr",
     "output_type": "stream",
     "text": [
      "/anaconda3/lib/python3.7/site-packages/sklearn/metrics/classification.py:1143: UndefinedMetricWarning: F-score is ill-defined and being set to 0.0 in labels with no predicted samples.\n",
      "  'precision', 'predicted', average, warn_for)\n",
      "/anaconda3/lib/python3.7/site-packages/sklearn/metrics/classification.py:1143: UndefinedMetricWarning: F-score is ill-defined and being set to 0.0 in labels with no predicted samples.\n",
      "  'precision', 'predicted', average, warn_for)\n",
      "/anaconda3/lib/python3.7/site-packages/sklearn/metrics/classification.py:1143: UndefinedMetricWarning: F-score is ill-defined and being set to 0.0 in labels with no predicted samples.\n",
      "  'precision', 'predicted', average, warn_for)\n"
     ]
    },
    {
     "name": "stdout",
     "output_type": "stream",
     "text": [
      "[CV]  criterion=gini, max_depth=2, min_samples_leaf=2, min_samples_split=2, score=0.2831221612086125, total=   0.1s\n",
      "[CV] criterion=gini, max_depth=2, min_samples_leaf=2, min_samples_split=2 \n",
      "[CV]  criterion=gini, max_depth=2, min_samples_leaf=2, min_samples_split=2, score=0.2924929855586425, total=   0.2s\n",
      "[CV] criterion=gini, max_depth=2, min_samples_leaf=2, min_samples_split=5 "
     ]
    },
    {
     "name": "stderr",
     "output_type": "stream",
     "text": [
      "/anaconda3/lib/python3.7/site-packages/sklearn/metrics/classification.py:1143: UndefinedMetricWarning: F-score is ill-defined and being set to 0.0 in labels with no predicted samples.\n",
      "  'precision', 'predicted', average, warn_for)\n",
      "/anaconda3/lib/python3.7/site-packages/sklearn/metrics/classification.py:1143: UndefinedMetricWarning: F-score is ill-defined and being set to 0.0 in labels with no predicted samples.\n",
      "  'precision', 'predicted', average, warn_for)\n",
      "/anaconda3/lib/python3.7/site-packages/sklearn/metrics/classification.py:1143: UndefinedMetricWarning: F-score is ill-defined and being set to 0.0 in labels with no predicted samples.\n",
      "  'precision', 'predicted', average, warn_for)\n"
     ]
    },
    {
     "name": "stdout",
     "output_type": "stream",
     "text": [
      "\n",
      "[CV]  criterion=gini, max_depth=2, min_samples_leaf=2, min_samples_split=5, score=0.3030537783332958, total=   0.1s\n",
      "[CV] criterion=gini, max_depth=2, min_samples_leaf=2, min_samples_split=5 \n"
     ]
    },
    {
     "name": "stderr",
     "output_type": "stream",
     "text": [
      "/anaconda3/lib/python3.7/site-packages/sklearn/metrics/classification.py:1143: UndefinedMetricWarning: F-score is ill-defined and being set to 0.0 in labels with no predicted samples.\n",
      "  'precision', 'predicted', average, warn_for)\n",
      "/anaconda3/lib/python3.7/site-packages/sklearn/metrics/classification.py:1143: UndefinedMetricWarning: F-score is ill-defined and being set to 0.0 in labels with no predicted samples.\n",
      "  'precision', 'predicted', average, warn_for)\n",
      "/anaconda3/lib/python3.7/site-packages/sklearn/metrics/classification.py:1143: UndefinedMetricWarning: F-score is ill-defined and being set to 0.0 in labels with no predicted samples.\n",
      "  'precision', 'predicted', average, warn_for)\n",
      "/anaconda3/lib/python3.7/site-packages/sklearn/metrics/classification.py:1143: UndefinedMetricWarning: F-score is ill-defined and being set to 0.0 in labels with no predicted samples.\n",
      "  'precision', 'predicted', average, warn_for)\n"
     ]
    },
    {
     "name": "stdout",
     "output_type": "stream",
     "text": [
      "[CV]  criterion=gini, max_depth=2, min_samples_leaf=2, min_samples_split=5, score=0.2831221612086125, total=   0.1s\n",
      "[CV] criterion=gini, max_depth=2, min_samples_leaf=2, min_samples_split=5 \n",
      "[CV]  criterion=gini, max_depth=2, min_samples_leaf=2, min_samples_split=5, score=0.2924929855586425, total=   0.1s\n",
      "[CV] criterion=gini, max_depth=2, min_samples_leaf=2, min_samples_split=10 \n"
     ]
    },
    {
     "name": "stderr",
     "output_type": "stream",
     "text": [
      "/anaconda3/lib/python3.7/site-packages/sklearn/metrics/classification.py:1143: UndefinedMetricWarning: F-score is ill-defined and being set to 0.0 in labels with no predicted samples.\n",
      "  'precision', 'predicted', average, warn_for)\n",
      "/anaconda3/lib/python3.7/site-packages/sklearn/metrics/classification.py:1143: UndefinedMetricWarning: F-score is ill-defined and being set to 0.0 in labels with no predicted samples.\n",
      "  'precision', 'predicted', average, warn_for)\n",
      "/anaconda3/lib/python3.7/site-packages/sklearn/metrics/classification.py:1143: UndefinedMetricWarning: F-score is ill-defined and being set to 0.0 in labels with no predicted samples.\n",
      "  'precision', 'predicted', average, warn_for)\n",
      "/anaconda3/lib/python3.7/site-packages/sklearn/metrics/classification.py:1143: UndefinedMetricWarning: F-score is ill-defined and being set to 0.0 in labels with no predicted samples.\n",
      "  'precision', 'predicted', average, warn_for)\n"
     ]
    },
    {
     "name": "stdout",
     "output_type": "stream",
     "text": [
      "[CV]  criterion=gini, max_depth=2, min_samples_leaf=2, min_samples_split=10, score=0.3030537783332958, total=   0.1s\n",
      "[CV] criterion=gini, max_depth=2, min_samples_leaf=2, min_samples_split=10 \n",
      "[CV]  criterion=gini, max_depth=2, min_samples_leaf=2, min_samples_split=10, score=0.2831221612086125, total=   0.1s\n",
      "[CV] criterion=gini, max_depth=2, min_samples_leaf=2, min_samples_split=10 \n"
     ]
    },
    {
     "name": "stderr",
     "output_type": "stream",
     "text": [
      "/anaconda3/lib/python3.7/site-packages/sklearn/metrics/classification.py:1143: UndefinedMetricWarning: F-score is ill-defined and being set to 0.0 in labels with no predicted samples.\n",
      "  'precision', 'predicted', average, warn_for)\n",
      "/anaconda3/lib/python3.7/site-packages/sklearn/metrics/classification.py:1143: UndefinedMetricWarning: F-score is ill-defined and being set to 0.0 in labels with no predicted samples.\n",
      "  'precision', 'predicted', average, warn_for)\n",
      "/anaconda3/lib/python3.7/site-packages/sklearn/metrics/classification.py:1143: UndefinedMetricWarning: F-score is ill-defined and being set to 0.0 in labels with no predicted samples.\n",
      "  'precision', 'predicted', average, warn_for)\n",
      "/anaconda3/lib/python3.7/site-packages/sklearn/metrics/classification.py:1143: UndefinedMetricWarning: F-score is ill-defined and being set to 0.0 in labels with no predicted samples.\n",
      "  'precision', 'predicted', average, warn_for)\n"
     ]
    },
    {
     "name": "stdout",
     "output_type": "stream",
     "text": [
      "[CV]  criterion=gini, max_depth=2, min_samples_leaf=2, min_samples_split=10, score=0.2924929855586425, total=   0.1s\n",
      "[CV] criterion=gini, max_depth=2, min_samples_leaf=3, min_samples_split=2 \n",
      "[CV]  criterion=gini, max_depth=2, min_samples_leaf=3, min_samples_split=2, score=0.3030537783332958, total=   0.1s\n",
      "[CV] criterion=gini, max_depth=2, min_samples_leaf=3, min_samples_split=2 \n"
     ]
    },
    {
     "name": "stderr",
     "output_type": "stream",
     "text": [
      "/anaconda3/lib/python3.7/site-packages/sklearn/metrics/classification.py:1143: UndefinedMetricWarning: F-score is ill-defined and being set to 0.0 in labels with no predicted samples.\n",
      "  'precision', 'predicted', average, warn_for)\n",
      "/anaconda3/lib/python3.7/site-packages/sklearn/metrics/classification.py:1143: UndefinedMetricWarning: F-score is ill-defined and being set to 0.0 in labels with no predicted samples.\n",
      "  'precision', 'predicted', average, warn_for)\n",
      "/anaconda3/lib/python3.7/site-packages/sklearn/metrics/classification.py:1143: UndefinedMetricWarning: F-score is ill-defined and being set to 0.0 in labels with no predicted samples.\n",
      "  'precision', 'predicted', average, warn_for)\n",
      "/anaconda3/lib/python3.7/site-packages/sklearn/metrics/classification.py:1143: UndefinedMetricWarning: F-score is ill-defined and being set to 0.0 in labels with no predicted samples.\n",
      "  'precision', 'predicted', average, warn_for)\n"
     ]
    },
    {
     "name": "stdout",
     "output_type": "stream",
     "text": [
      "[CV]  criterion=gini, max_depth=2, min_samples_leaf=3, min_samples_split=2, score=0.2831221612086125, total=   0.1s\n",
      "[CV] criterion=gini, max_depth=2, min_samples_leaf=3, min_samples_split=2 \n",
      "[CV]  criterion=gini, max_depth=2, min_samples_leaf=3, min_samples_split=2, score=0.2924929855586425, total=   0.1s\n",
      "[CV] criterion=gini, max_depth=2, min_samples_leaf=3, min_samples_split=5 \n"
     ]
    },
    {
     "name": "stderr",
     "output_type": "stream",
     "text": [
      "/anaconda3/lib/python3.7/site-packages/sklearn/metrics/classification.py:1143: UndefinedMetricWarning: F-score is ill-defined and being set to 0.0 in labels with no predicted samples.\n",
      "  'precision', 'predicted', average, warn_for)\n",
      "/anaconda3/lib/python3.7/site-packages/sklearn/metrics/classification.py:1143: UndefinedMetricWarning: F-score is ill-defined and being set to 0.0 in labels with no predicted samples.\n",
      "  'precision', 'predicted', average, warn_for)\n",
      "/anaconda3/lib/python3.7/site-packages/sklearn/metrics/classification.py:1143: UndefinedMetricWarning: F-score is ill-defined and being set to 0.0 in labels with no predicted samples.\n",
      "  'precision', 'predicted', average, warn_for)\n",
      "/anaconda3/lib/python3.7/site-packages/sklearn/metrics/classification.py:1143: UndefinedMetricWarning: F-score is ill-defined and being set to 0.0 in labels with no predicted samples.\n",
      "  'precision', 'predicted', average, warn_for)\n"
     ]
    },
    {
     "name": "stdout",
     "output_type": "stream",
     "text": [
      "[CV]  criterion=gini, max_depth=2, min_samples_leaf=3, min_samples_split=5, score=0.3030537783332958, total=   0.2s\n",
      "[CV] criterion=gini, max_depth=2, min_samples_leaf=3, min_samples_split=5 \n",
      "[CV]  criterion=gini, max_depth=2, min_samples_leaf=3, min_samples_split=5, score=0.2831221612086125, total=   0.1s\n",
      "[CV] criterion=gini, max_depth=2, min_samples_leaf=3, min_samples_split=5 \n"
     ]
    },
    {
     "name": "stderr",
     "output_type": "stream",
     "text": [
      "/anaconda3/lib/python3.7/site-packages/sklearn/metrics/classification.py:1143: UndefinedMetricWarning: F-score is ill-defined and being set to 0.0 in labels with no predicted samples.\n",
      "  'precision', 'predicted', average, warn_for)\n",
      "/anaconda3/lib/python3.7/site-packages/sklearn/metrics/classification.py:1143: UndefinedMetricWarning: F-score is ill-defined and being set to 0.0 in labels with no predicted samples.\n",
      "  'precision', 'predicted', average, warn_for)\n"
     ]
    },
    {
     "name": "stdout",
     "output_type": "stream",
     "text": [
      "[CV]  criterion=gini, max_depth=2, min_samples_leaf=3, min_samples_split=5, score=0.2924929855586425, total=   0.1s\n",
      "[CV] criterion=gini, max_depth=2, min_samples_leaf=3, min_samples_split=10 \n"
     ]
    },
    {
     "name": "stderr",
     "output_type": "stream",
     "text": [
      "/anaconda3/lib/python3.7/site-packages/sklearn/metrics/classification.py:1143: UndefinedMetricWarning: F-score is ill-defined and being set to 0.0 in labels with no predicted samples.\n",
      "  'precision', 'predicted', average, warn_for)\n",
      "/anaconda3/lib/python3.7/site-packages/sklearn/metrics/classification.py:1143: UndefinedMetricWarning: F-score is ill-defined and being set to 0.0 in labels with no predicted samples.\n",
      "  'precision', 'predicted', average, warn_for)\n",
      "/anaconda3/lib/python3.7/site-packages/sklearn/metrics/classification.py:1143: UndefinedMetricWarning: F-score is ill-defined and being set to 0.0 in labels with no predicted samples.\n",
      "  'precision', 'predicted', average, warn_for)\n"
     ]
    },
    {
     "name": "stdout",
     "output_type": "stream",
     "text": [
      "[CV]  criterion=gini, max_depth=2, min_samples_leaf=3, min_samples_split=10, score=0.3030537783332958, total=   0.2s\n",
      "[CV] criterion=gini, max_depth=2, min_samples_leaf=3, min_samples_split=10 \n"
     ]
    },
    {
     "name": "stderr",
     "output_type": "stream",
     "text": [
      "/anaconda3/lib/python3.7/site-packages/sklearn/metrics/classification.py:1143: UndefinedMetricWarning: F-score is ill-defined and being set to 0.0 in labels with no predicted samples.\n",
      "  'precision', 'predicted', average, warn_for)\n",
      "/anaconda3/lib/python3.7/site-packages/sklearn/metrics/classification.py:1143: UndefinedMetricWarning: F-score is ill-defined and being set to 0.0 in labels with no predicted samples.\n",
      "  'precision', 'predicted', average, warn_for)\n",
      "/anaconda3/lib/python3.7/site-packages/sklearn/metrics/classification.py:1143: UndefinedMetricWarning: F-score is ill-defined and being set to 0.0 in labels with no predicted samples.\n",
      "  'precision', 'predicted', average, warn_for)\n"
     ]
    },
    {
     "name": "stdout",
     "output_type": "stream",
     "text": [
      "[CV]  criterion=gini, max_depth=2, min_samples_leaf=3, min_samples_split=10, score=0.2831221612086125, total=   0.1s\n",
      "[CV] criterion=gini, max_depth=2, min_samples_leaf=3, min_samples_split=10 \n",
      "[CV]  criterion=gini, max_depth=2, min_samples_leaf=3, min_samples_split=10, score=0.2924929855586425, total=   0.2s\n",
      "[CV] criterion=gini, max_depth=2, min_samples_leaf=4, min_samples_split=2 \n"
     ]
    },
    {
     "name": "stderr",
     "output_type": "stream",
     "text": [
      "/anaconda3/lib/python3.7/site-packages/sklearn/metrics/classification.py:1143: UndefinedMetricWarning: F-score is ill-defined and being set to 0.0 in labels with no predicted samples.\n",
      "  'precision', 'predicted', average, warn_for)\n",
      "/anaconda3/lib/python3.7/site-packages/sklearn/metrics/classification.py:1143: UndefinedMetricWarning: F-score is ill-defined and being set to 0.0 in labels with no predicted samples.\n",
      "  'precision', 'predicted', average, warn_for)\n",
      "/anaconda3/lib/python3.7/site-packages/sklearn/metrics/classification.py:1143: UndefinedMetricWarning: F-score is ill-defined and being set to 0.0 in labels with no predicted samples.\n",
      "  'precision', 'predicted', average, warn_for)\n",
      "/anaconda3/lib/python3.7/site-packages/sklearn/metrics/classification.py:1143: UndefinedMetricWarning: F-score is ill-defined and being set to 0.0 in labels with no predicted samples.\n",
      "  'precision', 'predicted', average, warn_for)\n"
     ]
    },
    {
     "name": "stdout",
     "output_type": "stream",
     "text": [
      "[CV]  criterion=gini, max_depth=2, min_samples_leaf=4, min_samples_split=2, score=0.3030537783332958, total=   0.3s\n",
      "[CV] criterion=gini, max_depth=2, min_samples_leaf=4, min_samples_split=2 \n",
      "[CV]  criterion=gini, max_depth=2, min_samples_leaf=4, min_samples_split=2, score=0.2831221612086125, total=   0.2s\n",
      "[CV] criterion=gini, max_depth=2, min_samples_leaf=4, min_samples_split=2 \n"
     ]
    },
    {
     "name": "stderr",
     "output_type": "stream",
     "text": [
      "/anaconda3/lib/python3.7/site-packages/sklearn/metrics/classification.py:1143: UndefinedMetricWarning: F-score is ill-defined and being set to 0.0 in labels with no predicted samples.\n",
      "  'precision', 'predicted', average, warn_for)\n",
      "/anaconda3/lib/python3.7/site-packages/sklearn/metrics/classification.py:1143: UndefinedMetricWarning: F-score is ill-defined and being set to 0.0 in labels with no predicted samples.\n",
      "  'precision', 'predicted', average, warn_for)\n",
      "/anaconda3/lib/python3.7/site-packages/sklearn/metrics/classification.py:1143: UndefinedMetricWarning: F-score is ill-defined and being set to 0.0 in labels with no predicted samples.\n",
      "  'precision', 'predicted', average, warn_for)\n",
      "/anaconda3/lib/python3.7/site-packages/sklearn/metrics/classification.py:1143: UndefinedMetricWarning: F-score is ill-defined and being set to 0.0 in labels with no predicted samples.\n",
      "  'precision', 'predicted', average, warn_for)\n"
     ]
    },
    {
     "name": "stdout",
     "output_type": "stream",
     "text": [
      "[CV]  criterion=gini, max_depth=2, min_samples_leaf=4, min_samples_split=2, score=0.2924929855586425, total=   0.1s\n",
      "[CV] criterion=gini, max_depth=2, min_samples_leaf=4, min_samples_split=5 \n",
      "[CV]  criterion=gini, max_depth=2, min_samples_leaf=4, min_samples_split=5, score=0.3030537783332958, total=   0.1s\n",
      "[CV] criterion=gini, max_depth=2, min_samples_leaf=4, min_samples_split=5 \n"
     ]
    },
    {
     "name": "stderr",
     "output_type": "stream",
     "text": [
      "/anaconda3/lib/python3.7/site-packages/sklearn/metrics/classification.py:1143: UndefinedMetricWarning: F-score is ill-defined and being set to 0.0 in labels with no predicted samples.\n",
      "  'precision', 'predicted', average, warn_for)\n",
      "/anaconda3/lib/python3.7/site-packages/sklearn/metrics/classification.py:1143: UndefinedMetricWarning: F-score is ill-defined and being set to 0.0 in labels with no predicted samples.\n",
      "  'precision', 'predicted', average, warn_for)\n",
      "/anaconda3/lib/python3.7/site-packages/sklearn/metrics/classification.py:1143: UndefinedMetricWarning: F-score is ill-defined and being set to 0.0 in labels with no predicted samples.\n",
      "  'precision', 'predicted', average, warn_for)\n",
      "/anaconda3/lib/python3.7/site-packages/sklearn/metrics/classification.py:1143: UndefinedMetricWarning: F-score is ill-defined and being set to 0.0 in labels with no predicted samples.\n",
      "  'precision', 'predicted', average, warn_for)\n"
     ]
    },
    {
     "name": "stdout",
     "output_type": "stream",
     "text": [
      "[CV]  criterion=gini, max_depth=2, min_samples_leaf=4, min_samples_split=5, score=0.2831221612086125, total=   0.1s\n",
      "[CV] criterion=gini, max_depth=2, min_samples_leaf=4, min_samples_split=5 \n",
      "[CV]  criterion=gini, max_depth=2, min_samples_leaf=4, min_samples_split=5, score=0.2924929855586425, total=   0.1s\n",
      "[CV] criterion=gini, max_depth=2, min_samples_leaf=4, min_samples_split=10 \n"
     ]
    },
    {
     "name": "stderr",
     "output_type": "stream",
     "text": [
      "/anaconda3/lib/python3.7/site-packages/sklearn/metrics/classification.py:1143: UndefinedMetricWarning: F-score is ill-defined and being set to 0.0 in labels with no predicted samples.\n",
      "  'precision', 'predicted', average, warn_for)\n",
      "/anaconda3/lib/python3.7/site-packages/sklearn/metrics/classification.py:1143: UndefinedMetricWarning: F-score is ill-defined and being set to 0.0 in labels with no predicted samples.\n",
      "  'precision', 'predicted', average, warn_for)\n",
      "/anaconda3/lib/python3.7/site-packages/sklearn/metrics/classification.py:1143: UndefinedMetricWarning: F-score is ill-defined and being set to 0.0 in labels with no predicted samples.\n",
      "  'precision', 'predicted', average, warn_for)\n",
      "/anaconda3/lib/python3.7/site-packages/sklearn/metrics/classification.py:1143: UndefinedMetricWarning: F-score is ill-defined and being set to 0.0 in labels with no predicted samples.\n",
      "  'precision', 'predicted', average, warn_for)\n"
     ]
    },
    {
     "name": "stdout",
     "output_type": "stream",
     "text": [
      "[CV]  criterion=gini, max_depth=2, min_samples_leaf=4, min_samples_split=10, score=0.3030537783332958, total=   0.1s\n",
      "[CV] criterion=gini, max_depth=2, min_samples_leaf=4, min_samples_split=10 \n",
      "[CV]  criterion=gini, max_depth=2, min_samples_leaf=4, min_samples_split=10, score=0.2831221612086125, total=   0.1s\n",
      "[CV] criterion=gini, max_depth=2, min_samples_leaf=4, min_samples_split=10 \n"
     ]
    },
    {
     "name": "stderr",
     "output_type": "stream",
     "text": [
      "/anaconda3/lib/python3.7/site-packages/sklearn/metrics/classification.py:1143: UndefinedMetricWarning: F-score is ill-defined and being set to 0.0 in labels with no predicted samples.\n",
      "  'precision', 'predicted', average, warn_for)\n",
      "/anaconda3/lib/python3.7/site-packages/sklearn/metrics/classification.py:1143: UndefinedMetricWarning: F-score is ill-defined and being set to 0.0 in labels with no predicted samples.\n",
      "  'precision', 'predicted', average, warn_for)\n",
      "/anaconda3/lib/python3.7/site-packages/sklearn/metrics/classification.py:1143: UndefinedMetricWarning: F-score is ill-defined and being set to 0.0 in labels with no predicted samples.\n",
      "  'precision', 'predicted', average, warn_for)\n",
      "/anaconda3/lib/python3.7/site-packages/sklearn/metrics/classification.py:1143: UndefinedMetricWarning: F-score is ill-defined and being set to 0.0 in labels with no predicted samples.\n",
      "  'precision', 'predicted', average, warn_for)\n"
     ]
    },
    {
     "name": "stdout",
     "output_type": "stream",
     "text": [
      "[CV]  criterion=gini, max_depth=2, min_samples_leaf=4, min_samples_split=10, score=0.2924929855586425, total=   0.1s\n",
      "[CV] criterion=gini, max_depth=2, min_samples_leaf=5, min_samples_split=2 \n",
      "[CV]  criterion=gini, max_depth=2, min_samples_leaf=5, min_samples_split=2, score=0.3030537783332958, total=   0.1s\n",
      "[CV] criterion=gini, max_depth=2, min_samples_leaf=5, min_samples_split=2 \n"
     ]
    },
    {
     "name": "stderr",
     "output_type": "stream",
     "text": [
      "/anaconda3/lib/python3.7/site-packages/sklearn/metrics/classification.py:1143: UndefinedMetricWarning: F-score is ill-defined and being set to 0.0 in labels with no predicted samples.\n",
      "  'precision', 'predicted', average, warn_for)\n",
      "/anaconda3/lib/python3.7/site-packages/sklearn/metrics/classification.py:1143: UndefinedMetricWarning: F-score is ill-defined and being set to 0.0 in labels with no predicted samples.\n",
      "  'precision', 'predicted', average, warn_for)\n",
      "/anaconda3/lib/python3.7/site-packages/sklearn/metrics/classification.py:1143: UndefinedMetricWarning: F-score is ill-defined and being set to 0.0 in labels with no predicted samples.\n",
      "  'precision', 'predicted', average, warn_for)\n",
      "/anaconda3/lib/python3.7/site-packages/sklearn/metrics/classification.py:1143: UndefinedMetricWarning: F-score is ill-defined and being set to 0.0 in labels with no predicted samples.\n",
      "  'precision', 'predicted', average, warn_for)\n"
     ]
    },
    {
     "name": "stdout",
     "output_type": "stream",
     "text": [
      "[CV]  criterion=gini, max_depth=2, min_samples_leaf=5, min_samples_split=2, score=0.2831221612086125, total=   0.1s\n",
      "[CV] criterion=gini, max_depth=2, min_samples_leaf=5, min_samples_split=2 \n",
      "[CV]  criterion=gini, max_depth=2, min_samples_leaf=5, min_samples_split=2, score=0.2924929855586425, total=   0.1s\n",
      "[CV] criterion=gini, max_depth=2, min_samples_leaf=5, min_samples_split=5 \n"
     ]
    },
    {
     "name": "stderr",
     "output_type": "stream",
     "text": [
      "/anaconda3/lib/python3.7/site-packages/sklearn/metrics/classification.py:1143: UndefinedMetricWarning: F-score is ill-defined and being set to 0.0 in labels with no predicted samples.\n",
      "  'precision', 'predicted', average, warn_for)\n",
      "/anaconda3/lib/python3.7/site-packages/sklearn/metrics/classification.py:1143: UndefinedMetricWarning: F-score is ill-defined and being set to 0.0 in labels with no predicted samples.\n",
      "  'precision', 'predicted', average, warn_for)\n",
      "/anaconda3/lib/python3.7/site-packages/sklearn/metrics/classification.py:1143: UndefinedMetricWarning: F-score is ill-defined and being set to 0.0 in labels with no predicted samples.\n",
      "  'precision', 'predicted', average, warn_for)\n",
      "/anaconda3/lib/python3.7/site-packages/sklearn/metrics/classification.py:1143: UndefinedMetricWarning: F-score is ill-defined and being set to 0.0 in labels with no predicted samples.\n",
      "  'precision', 'predicted', average, warn_for)\n"
     ]
    },
    {
     "name": "stdout",
     "output_type": "stream",
     "text": [
      "[CV]  criterion=gini, max_depth=2, min_samples_leaf=5, min_samples_split=5, score=0.3030537783332958, total=   0.1s\n",
      "[CV] criterion=gini, max_depth=2, min_samples_leaf=5, min_samples_split=5 \n",
      "[CV]  criterion=gini, max_depth=2, min_samples_leaf=5, min_samples_split=5, score=0.2831221612086125, total=   0.1s\n",
      "[CV] criterion=gini, max_depth=2, min_samples_leaf=5, min_samples_split=5 \n"
     ]
    },
    {
     "name": "stderr",
     "output_type": "stream",
     "text": [
      "/anaconda3/lib/python3.7/site-packages/sklearn/metrics/classification.py:1143: UndefinedMetricWarning: F-score is ill-defined and being set to 0.0 in labels with no predicted samples.\n",
      "  'precision', 'predicted', average, warn_for)\n",
      "/anaconda3/lib/python3.7/site-packages/sklearn/metrics/classification.py:1143: UndefinedMetricWarning: F-score is ill-defined and being set to 0.0 in labels with no predicted samples.\n",
      "  'precision', 'predicted', average, warn_for)\n",
      "/anaconda3/lib/python3.7/site-packages/sklearn/metrics/classification.py:1143: UndefinedMetricWarning: F-score is ill-defined and being set to 0.0 in labels with no predicted samples.\n",
      "  'precision', 'predicted', average, warn_for)\n",
      "/anaconda3/lib/python3.7/site-packages/sklearn/metrics/classification.py:1143: UndefinedMetricWarning: F-score is ill-defined and being set to 0.0 in labels with no predicted samples.\n",
      "  'precision', 'predicted', average, warn_for)\n"
     ]
    },
    {
     "name": "stdout",
     "output_type": "stream",
     "text": [
      "[CV]  criterion=gini, max_depth=2, min_samples_leaf=5, min_samples_split=5, score=0.2924929855586425, total=   0.1s\n",
      "[CV] criterion=gini, max_depth=2, min_samples_leaf=5, min_samples_split=10 \n",
      "[CV]  criterion=gini, max_depth=2, min_samples_leaf=5, min_samples_split=10, score=0.3030537783332958, total=   0.1s\n",
      "[CV] criterion=gini, max_depth=2, min_samples_leaf=5, min_samples_split=10 \n"
     ]
    },
    {
     "name": "stderr",
     "output_type": "stream",
     "text": [
      "/anaconda3/lib/python3.7/site-packages/sklearn/metrics/classification.py:1143: UndefinedMetricWarning: F-score is ill-defined and being set to 0.0 in labels with no predicted samples.\n",
      "  'precision', 'predicted', average, warn_for)\n",
      "/anaconda3/lib/python3.7/site-packages/sklearn/metrics/classification.py:1143: UndefinedMetricWarning: F-score is ill-defined and being set to 0.0 in labels with no predicted samples.\n",
      "  'precision', 'predicted', average, warn_for)\n",
      "/anaconda3/lib/python3.7/site-packages/sklearn/metrics/classification.py:1143: UndefinedMetricWarning: F-score is ill-defined and being set to 0.0 in labels with no predicted samples.\n",
      "  'precision', 'predicted', average, warn_for)\n",
      "/anaconda3/lib/python3.7/site-packages/sklearn/metrics/classification.py:1143: UndefinedMetricWarning: F-score is ill-defined and being set to 0.0 in labels with no predicted samples.\n",
      "  'precision', 'predicted', average, warn_for)\n"
     ]
    },
    {
     "name": "stdout",
     "output_type": "stream",
     "text": [
      "[CV]  criterion=gini, max_depth=2, min_samples_leaf=5, min_samples_split=10, score=0.2831221612086125, total=   0.1s\n",
      "[CV] criterion=gini, max_depth=2, min_samples_leaf=5, min_samples_split=10 \n",
      "[CV]  criterion=gini, max_depth=2, min_samples_leaf=5, min_samples_split=10, score=0.2924929855586425, total=   0.1s\n",
      "[CV] criterion=gini, max_depth=2, min_samples_leaf=6, min_samples_split=2 \n"
     ]
    },
    {
     "name": "stderr",
     "output_type": "stream",
     "text": [
      "/anaconda3/lib/python3.7/site-packages/sklearn/metrics/classification.py:1143: UndefinedMetricWarning: F-score is ill-defined and being set to 0.0 in labels with no predicted samples.\n",
      "  'precision', 'predicted', average, warn_for)\n",
      "/anaconda3/lib/python3.7/site-packages/sklearn/metrics/classification.py:1143: UndefinedMetricWarning: F-score is ill-defined and being set to 0.0 in labels with no predicted samples.\n",
      "  'precision', 'predicted', average, warn_for)\n",
      "/anaconda3/lib/python3.7/site-packages/sklearn/metrics/classification.py:1143: UndefinedMetricWarning: F-score is ill-defined and being set to 0.0 in labels with no predicted samples.\n",
      "  'precision', 'predicted', average, warn_for)\n",
      "/anaconda3/lib/python3.7/site-packages/sklearn/metrics/classification.py:1143: UndefinedMetricWarning: F-score is ill-defined and being set to 0.0 in labels with no predicted samples.\n",
      "  'precision', 'predicted', average, warn_for)\n"
     ]
    },
    {
     "name": "stdout",
     "output_type": "stream",
     "text": [
      "[CV]  criterion=gini, max_depth=2, min_samples_leaf=6, min_samples_split=2, score=0.3030537783332958, total=   0.1s\n",
      "[CV] criterion=gini, max_depth=2, min_samples_leaf=6, min_samples_split=2 \n",
      "[CV]  criterion=gini, max_depth=2, min_samples_leaf=6, min_samples_split=2, score=0.2831221612086125, total=   0.1s\n",
      "[CV] criterion=gini, max_depth=2, min_samples_leaf=6, min_samples_split=2 \n"
     ]
    },
    {
     "name": "stderr",
     "output_type": "stream",
     "text": [
      "/anaconda3/lib/python3.7/site-packages/sklearn/metrics/classification.py:1143: UndefinedMetricWarning: F-score is ill-defined and being set to 0.0 in labels with no predicted samples.\n",
      "  'precision', 'predicted', average, warn_for)\n",
      "/anaconda3/lib/python3.7/site-packages/sklearn/metrics/classification.py:1143: UndefinedMetricWarning: F-score is ill-defined and being set to 0.0 in labels with no predicted samples.\n",
      "  'precision', 'predicted', average, warn_for)\n",
      "/anaconda3/lib/python3.7/site-packages/sklearn/metrics/classification.py:1143: UndefinedMetricWarning: F-score is ill-defined and being set to 0.0 in labels with no predicted samples.\n",
      "  'precision', 'predicted', average, warn_for)\n",
      "/anaconda3/lib/python3.7/site-packages/sklearn/metrics/classification.py:1143: UndefinedMetricWarning: F-score is ill-defined and being set to 0.0 in labels with no predicted samples.\n",
      "  'precision', 'predicted', average, warn_for)\n"
     ]
    },
    {
     "name": "stdout",
     "output_type": "stream",
     "text": [
      "[CV]  criterion=gini, max_depth=2, min_samples_leaf=6, min_samples_split=2, score=0.2924929855586425, total=   0.1s\n",
      "[CV] criterion=gini, max_depth=2, min_samples_leaf=6, min_samples_split=5 \n",
      "[CV]  criterion=gini, max_depth=2, min_samples_leaf=6, min_samples_split=5, score=0.3030537783332958, total=   0.1s\n",
      "[CV] criterion=gini, max_depth=2, min_samples_leaf=6, min_samples_split=5 \n"
     ]
    },
    {
     "name": "stderr",
     "output_type": "stream",
     "text": [
      "/anaconda3/lib/python3.7/site-packages/sklearn/metrics/classification.py:1143: UndefinedMetricWarning: F-score is ill-defined and being set to 0.0 in labels with no predicted samples.\n",
      "  'precision', 'predicted', average, warn_for)\n",
      "/anaconda3/lib/python3.7/site-packages/sklearn/metrics/classification.py:1143: UndefinedMetricWarning: F-score is ill-defined and being set to 0.0 in labels with no predicted samples.\n",
      "  'precision', 'predicted', average, warn_for)\n",
      "/anaconda3/lib/python3.7/site-packages/sklearn/metrics/classification.py:1143: UndefinedMetricWarning: F-score is ill-defined and being set to 0.0 in labels with no predicted samples.\n",
      "  'precision', 'predicted', average, warn_for)\n",
      "/anaconda3/lib/python3.7/site-packages/sklearn/metrics/classification.py:1143: UndefinedMetricWarning: F-score is ill-defined and being set to 0.0 in labels with no predicted samples.\n",
      "  'precision', 'predicted', average, warn_for)\n"
     ]
    },
    {
     "name": "stdout",
     "output_type": "stream",
     "text": [
      "[CV]  criterion=gini, max_depth=2, min_samples_leaf=6, min_samples_split=5, score=0.2831221612086125, total=   0.1s\n",
      "[CV] criterion=gini, max_depth=2, min_samples_leaf=6, min_samples_split=5 \n",
      "[CV]  criterion=gini, max_depth=2, min_samples_leaf=6, min_samples_split=5, score=0.2924929855586425, total=   0.1s\n",
      "[CV] criterion=gini, max_depth=2, min_samples_leaf=6, min_samples_split=10 \n"
     ]
    },
    {
     "name": "stderr",
     "output_type": "stream",
     "text": [
      "/anaconda3/lib/python3.7/site-packages/sklearn/metrics/classification.py:1143: UndefinedMetricWarning: F-score is ill-defined and being set to 0.0 in labels with no predicted samples.\n",
      "  'precision', 'predicted', average, warn_for)\n",
      "/anaconda3/lib/python3.7/site-packages/sklearn/metrics/classification.py:1143: UndefinedMetricWarning: F-score is ill-defined and being set to 0.0 in labels with no predicted samples.\n",
      "  'precision', 'predicted', average, warn_for)\n",
      "/anaconda3/lib/python3.7/site-packages/sklearn/metrics/classification.py:1143: UndefinedMetricWarning: F-score is ill-defined and being set to 0.0 in labels with no predicted samples.\n",
      "  'precision', 'predicted', average, warn_for)\n",
      "/anaconda3/lib/python3.7/site-packages/sklearn/metrics/classification.py:1143: UndefinedMetricWarning: F-score is ill-defined and being set to 0.0 in labels with no predicted samples.\n",
      "  'precision', 'predicted', average, warn_for)\n"
     ]
    },
    {
     "name": "stdout",
     "output_type": "stream",
     "text": [
      "[CV]  criterion=gini, max_depth=2, min_samples_leaf=6, min_samples_split=10, score=0.3030537783332958, total=   0.1s\n",
      "[CV] criterion=gini, max_depth=2, min_samples_leaf=6, min_samples_split=10 \n",
      "[CV]  criterion=gini, max_depth=2, min_samples_leaf=6, min_samples_split=10, score=0.2831221612086125, total=   0.1s\n",
      "[CV] criterion=gini, max_depth=2, min_samples_leaf=6, min_samples_split=10 \n"
     ]
    },
    {
     "name": "stderr",
     "output_type": "stream",
     "text": [
      "/anaconda3/lib/python3.7/site-packages/sklearn/metrics/classification.py:1143: UndefinedMetricWarning: F-score is ill-defined and being set to 0.0 in labels with no predicted samples.\n",
      "  'precision', 'predicted', average, warn_for)\n",
      "/anaconda3/lib/python3.7/site-packages/sklearn/metrics/classification.py:1143: UndefinedMetricWarning: F-score is ill-defined and being set to 0.0 in labels with no predicted samples.\n",
      "  'precision', 'predicted', average, warn_for)\n",
      "/anaconda3/lib/python3.7/site-packages/sklearn/metrics/classification.py:1143: UndefinedMetricWarning: F-score is ill-defined and being set to 0.0 in labels with no predicted samples.\n",
      "  'precision', 'predicted', average, warn_for)\n",
      "/anaconda3/lib/python3.7/site-packages/sklearn/metrics/classification.py:1143: UndefinedMetricWarning: F-score is ill-defined and being set to 0.0 in labels with no predicted samples.\n",
      "  'precision', 'predicted', average, warn_for)\n"
     ]
    },
    {
     "name": "stdout",
     "output_type": "stream",
     "text": [
      "[CV]  criterion=gini, max_depth=2, min_samples_leaf=6, min_samples_split=10, score=0.2924929855586425, total=   0.1s\n",
      "[CV] criterion=gini, max_depth=3, min_samples_leaf=1, min_samples_split=2 \n",
      "[CV]  criterion=gini, max_depth=3, min_samples_leaf=1, min_samples_split=2, score=0.3238289437724488, total=   0.1s\n",
      "[CV] criterion=gini, max_depth=3, min_samples_leaf=1, min_samples_split=2 \n",
      "[CV]  criterion=gini, max_depth=3, min_samples_leaf=1, min_samples_split=2, score=0.30878912679707277, total=   0.1s\n",
      "[CV] criterion=gini, max_depth=3, min_samples_leaf=1, min_samples_split=2 \n",
      "[CV]  criterion=gini, max_depth=3, min_samples_leaf=1, min_samples_split=2, score=0.3228207461432738, total=   0.1s\n",
      "[CV] criterion=gini, max_depth=3, min_samples_leaf=1, min_samples_split=5 \n"
     ]
    },
    {
     "name": "stderr",
     "output_type": "stream",
     "text": [
      "/anaconda3/lib/python3.7/site-packages/sklearn/metrics/classification.py:1143: UndefinedMetricWarning: F-score is ill-defined and being set to 0.0 in labels with no predicted samples.\n",
      "  'precision', 'predicted', average, warn_for)\n",
      "/anaconda3/lib/python3.7/site-packages/sklearn/metrics/classification.py:1143: UndefinedMetricWarning: F-score is ill-defined and being set to 0.0 in labels with no predicted samples.\n",
      "  'precision', 'predicted', average, warn_for)\n",
      "/anaconda3/lib/python3.7/site-packages/sklearn/metrics/classification.py:1143: UndefinedMetricWarning: F-score is ill-defined and being set to 0.0 in labels with no predicted samples.\n",
      "  'precision', 'predicted', average, warn_for)\n",
      "/anaconda3/lib/python3.7/site-packages/sklearn/metrics/classification.py:1143: UndefinedMetricWarning: F-score is ill-defined and being set to 0.0 in labels with no predicted samples.\n",
      "  'precision', 'predicted', average, warn_for)\n"
     ]
    },
    {
     "name": "stdout",
     "output_type": "stream",
     "text": [
      "[CV]  criterion=gini, max_depth=3, min_samples_leaf=1, min_samples_split=5, score=0.3238289437724488, total=   0.1s\n",
      "[CV] criterion=gini, max_depth=3, min_samples_leaf=1, min_samples_split=5 \n",
      "[CV]  criterion=gini, max_depth=3, min_samples_leaf=1, min_samples_split=5, score=0.30878912679707277, total=   0.3s\n",
      "[CV] criterion=gini, max_depth=3, min_samples_leaf=1, min_samples_split=5 \n",
      "[CV]  criterion=gini, max_depth=3, min_samples_leaf=1, min_samples_split=5, score=0.3228207461432738, total=   0.1s\n",
      "[CV] criterion=gini, max_depth=3, min_samples_leaf=1, min_samples_split=10 \n"
     ]
    },
    {
     "name": "stderr",
     "output_type": "stream",
     "text": [
      "/anaconda3/lib/python3.7/site-packages/sklearn/metrics/classification.py:1143: UndefinedMetricWarning: F-score is ill-defined and being set to 0.0 in labels with no predicted samples.\n",
      "  'precision', 'predicted', average, warn_for)\n",
      "/anaconda3/lib/python3.7/site-packages/sklearn/metrics/classification.py:1143: UndefinedMetricWarning: F-score is ill-defined and being set to 0.0 in labels with no predicted samples.\n",
      "  'precision', 'predicted', average, warn_for)\n",
      "/anaconda3/lib/python3.7/site-packages/sklearn/metrics/classification.py:1143: UndefinedMetricWarning: F-score is ill-defined and being set to 0.0 in labels with no predicted samples.\n",
      "  'precision', 'predicted', average, warn_for)\n",
      "/anaconda3/lib/python3.7/site-packages/sklearn/metrics/classification.py:1143: UndefinedMetricWarning: F-score is ill-defined and being set to 0.0 in labels with no predicted samples.\n",
      "  'precision', 'predicted', average, warn_for)\n"
     ]
    },
    {
     "name": "stdout",
     "output_type": "stream",
     "text": [
      "[CV]  criterion=gini, max_depth=3, min_samples_leaf=1, min_samples_split=10, score=0.3238289437724488, total=   0.1s\n",
      "[CV] criterion=gini, max_depth=3, min_samples_leaf=1, min_samples_split=10 \n",
      "[CV]  criterion=gini, max_depth=3, min_samples_leaf=1, min_samples_split=10, score=0.30878912679707277, total=   0.2s\n",
      "[CV] criterion=gini, max_depth=3, min_samples_leaf=1, min_samples_split=10 \n"
     ]
    },
    {
     "name": "stderr",
     "output_type": "stream",
     "text": [
      "/anaconda3/lib/python3.7/site-packages/sklearn/metrics/classification.py:1143: UndefinedMetricWarning: F-score is ill-defined and being set to 0.0 in labels with no predicted samples.\n",
      "  'precision', 'predicted', average, warn_for)\n",
      "/anaconda3/lib/python3.7/site-packages/sklearn/metrics/classification.py:1143: UndefinedMetricWarning: F-score is ill-defined and being set to 0.0 in labels with no predicted samples.\n",
      "  'precision', 'predicted', average, warn_for)\n",
      "/anaconda3/lib/python3.7/site-packages/sklearn/metrics/classification.py:1143: UndefinedMetricWarning: F-score is ill-defined and being set to 0.0 in labels with no predicted samples.\n",
      "  'precision', 'predicted', average, warn_for)\n"
     ]
    },
    {
     "name": "stdout",
     "output_type": "stream",
     "text": [
      "[CV]  criterion=gini, max_depth=3, min_samples_leaf=1, min_samples_split=10, score=0.3228207461432738, total=   0.2s\n",
      "[CV] criterion=gini, max_depth=3, min_samples_leaf=2, min_samples_split=2 \n",
      "[CV]  criterion=gini, max_depth=3, min_samples_leaf=2, min_samples_split=2, score=0.3238289437724488, total=   0.1s\n",
      "[CV] criterion=gini, max_depth=3, min_samples_leaf=2, min_samples_split=2 \n"
     ]
    },
    {
     "name": "stderr",
     "output_type": "stream",
     "text": [
      "/anaconda3/lib/python3.7/site-packages/sklearn/metrics/classification.py:1143: UndefinedMetricWarning: F-score is ill-defined and being set to 0.0 in labels with no predicted samples.\n",
      "  'precision', 'predicted', average, warn_for)\n"
     ]
    },
    {
     "name": "stdout",
     "output_type": "stream",
     "text": [
      "[CV]  criterion=gini, max_depth=3, min_samples_leaf=2, min_samples_split=2, score=0.30878912679707277, total=   0.1s\n",
      "[CV] criterion=gini, max_depth=3, min_samples_leaf=2, min_samples_split=2 \n",
      "[CV]  criterion=gini, max_depth=3, min_samples_leaf=2, min_samples_split=2, score=0.3228207461432738, total=   0.1s\n",
      "[CV] criterion=gini, max_depth=3, min_samples_leaf=2, min_samples_split=5 \n"
     ]
    },
    {
     "name": "stderr",
     "output_type": "stream",
     "text": [
      "/anaconda3/lib/python3.7/site-packages/sklearn/metrics/classification.py:1143: UndefinedMetricWarning: F-score is ill-defined and being set to 0.0 in labels with no predicted samples.\n",
      "  'precision', 'predicted', average, warn_for)\n",
      "/anaconda3/lib/python3.7/site-packages/sklearn/metrics/classification.py:1143: UndefinedMetricWarning: F-score is ill-defined and being set to 0.0 in labels with no predicted samples.\n",
      "  'precision', 'predicted', average, warn_for)\n",
      "/anaconda3/lib/python3.7/site-packages/sklearn/metrics/classification.py:1143: UndefinedMetricWarning: F-score is ill-defined and being set to 0.0 in labels with no predicted samples.\n",
      "  'precision', 'predicted', average, warn_for)\n",
      "/anaconda3/lib/python3.7/site-packages/sklearn/metrics/classification.py:1143: UndefinedMetricWarning: F-score is ill-defined and being set to 0.0 in labels with no predicted samples.\n",
      "  'precision', 'predicted', average, warn_for)\n"
     ]
    },
    {
     "name": "stdout",
     "output_type": "stream",
     "text": [
      "[CV]  criterion=gini, max_depth=3, min_samples_leaf=2, min_samples_split=5, score=0.3238289437724488, total=   0.1s\n",
      "[CV] criterion=gini, max_depth=3, min_samples_leaf=2, min_samples_split=5 \n",
      "[CV]  criterion=gini, max_depth=3, min_samples_leaf=2, min_samples_split=5, score=0.30878912679707277, total=   0.1s\n",
      "[CV] criterion=gini, max_depth=3, min_samples_leaf=2, min_samples_split=5 \n"
     ]
    },
    {
     "name": "stderr",
     "output_type": "stream",
     "text": [
      "/anaconda3/lib/python3.7/site-packages/sklearn/metrics/classification.py:1143: UndefinedMetricWarning: F-score is ill-defined and being set to 0.0 in labels with no predicted samples.\n",
      "  'precision', 'predicted', average, warn_for)\n",
      "/anaconda3/lib/python3.7/site-packages/sklearn/metrics/classification.py:1143: UndefinedMetricWarning: F-score is ill-defined and being set to 0.0 in labels with no predicted samples.\n",
      "  'precision', 'predicted', average, warn_for)\n"
     ]
    },
    {
     "name": "stdout",
     "output_type": "stream",
     "text": [
      "[CV]  criterion=gini, max_depth=3, min_samples_leaf=2, min_samples_split=5, score=0.3228207461432738, total=   0.1s\n",
      "[CV] criterion=gini, max_depth=3, min_samples_leaf=2, min_samples_split=10 \n"
     ]
    },
    {
     "name": "stderr",
     "output_type": "stream",
     "text": [
      "/anaconda3/lib/python3.7/site-packages/sklearn/metrics/classification.py:1143: UndefinedMetricWarning: F-score is ill-defined and being set to 0.0 in labels with no predicted samples.\n",
      "  'precision', 'predicted', average, warn_for)\n",
      "/anaconda3/lib/python3.7/site-packages/sklearn/metrics/classification.py:1143: UndefinedMetricWarning: F-score is ill-defined and being set to 0.0 in labels with no predicted samples.\n",
      "  'precision', 'predicted', average, warn_for)\n"
     ]
    },
    {
     "name": "stdout",
     "output_type": "stream",
     "text": [
      "[CV]  criterion=gini, max_depth=3, min_samples_leaf=2, min_samples_split=10, score=0.3238289437724488, total=   0.2s\n",
      "[CV] criterion=gini, max_depth=3, min_samples_leaf=2, min_samples_split=10 \n",
      "[CV]  criterion=gini, max_depth=3, min_samples_leaf=2, min_samples_split=10, score=0.30878912679707277, total=   0.1s\n",
      "[CV] criterion=gini, max_depth=3, min_samples_leaf=2, min_samples_split=10 \n"
     ]
    },
    {
     "name": "stderr",
     "output_type": "stream",
     "text": [
      "/anaconda3/lib/python3.7/site-packages/sklearn/metrics/classification.py:1143: UndefinedMetricWarning: F-score is ill-defined and being set to 0.0 in labels with no predicted samples.\n",
      "  'precision', 'predicted', average, warn_for)\n",
      "/anaconda3/lib/python3.7/site-packages/sklearn/metrics/classification.py:1143: UndefinedMetricWarning: F-score is ill-defined and being set to 0.0 in labels with no predicted samples.\n",
      "  'precision', 'predicted', average, warn_for)\n",
      "/anaconda3/lib/python3.7/site-packages/sklearn/metrics/classification.py:1143: UndefinedMetricWarning: F-score is ill-defined and being set to 0.0 in labels with no predicted samples.\n",
      "  'precision', 'predicted', average, warn_for)\n",
      "/anaconda3/lib/python3.7/site-packages/sklearn/metrics/classification.py:1143: UndefinedMetricWarning: F-score is ill-defined and being set to 0.0 in labels with no predicted samples.\n",
      "  'precision', 'predicted', average, warn_for)\n"
     ]
    },
    {
     "name": "stdout",
     "output_type": "stream",
     "text": [
      "[CV]  criterion=gini, max_depth=3, min_samples_leaf=2, min_samples_split=10, score=0.3228207461432738, total=   0.2s\n",
      "[CV] criterion=gini, max_depth=3, min_samples_leaf=3, min_samples_split=2 \n",
      "[CV]  criterion=gini, max_depth=3, min_samples_leaf=3, min_samples_split=2, score=0.3238289437724488, total=   0.1s\n",
      "[CV] criterion=gini, max_depth=3, min_samples_leaf=3, min_samples_split=2 \n",
      "[CV]  criterion=gini, max_depth=3, min_samples_leaf=3, min_samples_split=2, score=0.30878912679707277, total=   0.2s\n",
      "[CV] criterion=gini, max_depth=3, min_samples_leaf=3, min_samples_split=2 \n",
      "[CV]  criterion=gini, max_depth=3, min_samples_leaf=3, min_samples_split=2, score=0.3228207461432738, total=   0.1s\n",
      "[CV] criterion=gini, max_depth=3, min_samples_leaf=3, min_samples_split=5 \n"
     ]
    },
    {
     "name": "stderr",
     "output_type": "stream",
     "text": [
      "/anaconda3/lib/python3.7/site-packages/sklearn/metrics/classification.py:1143: UndefinedMetricWarning: F-score is ill-defined and being set to 0.0 in labels with no predicted samples.\n",
      "  'precision', 'predicted', average, warn_for)\n",
      "/anaconda3/lib/python3.7/site-packages/sklearn/metrics/classification.py:1143: UndefinedMetricWarning: F-score is ill-defined and being set to 0.0 in labels with no predicted samples.\n",
      "  'precision', 'predicted', average, warn_for)\n",
      "/anaconda3/lib/python3.7/site-packages/sklearn/metrics/classification.py:1143: UndefinedMetricWarning: F-score is ill-defined and being set to 0.0 in labels with no predicted samples.\n",
      "  'precision', 'predicted', average, warn_for)\n",
      "/anaconda3/lib/python3.7/site-packages/sklearn/metrics/classification.py:1143: UndefinedMetricWarning: F-score is ill-defined and being set to 0.0 in labels with no predicted samples.\n",
      "  'precision', 'predicted', average, warn_for)\n"
     ]
    },
    {
     "name": "stdout",
     "output_type": "stream",
     "text": [
      "[CV]  criterion=gini, max_depth=3, min_samples_leaf=3, min_samples_split=5, score=0.3238289437724488, total=   0.1s\n",
      "[CV] criterion=gini, max_depth=3, min_samples_leaf=3, min_samples_split=5 \n",
      "[CV]  criterion=gini, max_depth=3, min_samples_leaf=3, min_samples_split=5, score=0.30878912679707277, total=   0.3s\n",
      "[CV] criterion=gini, max_depth=3, min_samples_leaf=3, min_samples_split=5 \n",
      "[CV]  criterion=gini, max_depth=3, min_samples_leaf=3, min_samples_split=5, score=0.3228207461432738, total=   0.1s\n",
      "[CV] criterion=gini, max_depth=3, min_samples_leaf=3, min_samples_split=10 \n"
     ]
    },
    {
     "name": "stderr",
     "output_type": "stream",
     "text": [
      "/anaconda3/lib/python3.7/site-packages/sklearn/metrics/classification.py:1143: UndefinedMetricWarning: F-score is ill-defined and being set to 0.0 in labels with no predicted samples.\n",
      "  'precision', 'predicted', average, warn_for)\n",
      "/anaconda3/lib/python3.7/site-packages/sklearn/metrics/classification.py:1143: UndefinedMetricWarning: F-score is ill-defined and being set to 0.0 in labels with no predicted samples.\n",
      "  'precision', 'predicted', average, warn_for)\n",
      "/anaconda3/lib/python3.7/site-packages/sklearn/metrics/classification.py:1143: UndefinedMetricWarning: F-score is ill-defined and being set to 0.0 in labels with no predicted samples.\n",
      "  'precision', 'predicted', average, warn_for)\n",
      "/anaconda3/lib/python3.7/site-packages/sklearn/metrics/classification.py:1143: UndefinedMetricWarning: F-score is ill-defined and being set to 0.0 in labels with no predicted samples.\n",
      "  'precision', 'predicted', average, warn_for)\n"
     ]
    },
    {
     "name": "stdout",
     "output_type": "stream",
     "text": [
      "[CV]  criterion=gini, max_depth=3, min_samples_leaf=3, min_samples_split=10, score=0.3238289437724488, total=   0.1s\n",
      "[CV] criterion=gini, max_depth=3, min_samples_leaf=3, min_samples_split=10 \n",
      "[CV]  criterion=gini, max_depth=3, min_samples_leaf=3, min_samples_split=10, score=0.30878912679707277, total=   0.2s\n",
      "[CV] criterion=gini, max_depth=3, min_samples_leaf=3, min_samples_split=10 \n"
     ]
    },
    {
     "name": "stderr",
     "output_type": "stream",
     "text": [
      "/anaconda3/lib/python3.7/site-packages/sklearn/metrics/classification.py:1143: UndefinedMetricWarning: F-score is ill-defined and being set to 0.0 in labels with no predicted samples.\n",
      "  'precision', 'predicted', average, warn_for)\n",
      "/anaconda3/lib/python3.7/site-packages/sklearn/metrics/classification.py:1143: UndefinedMetricWarning: F-score is ill-defined and being set to 0.0 in labels with no predicted samples.\n",
      "  'precision', 'predicted', average, warn_for)\n"
     ]
    },
    {
     "name": "stdout",
     "output_type": "stream",
     "text": [
      "[CV]  criterion=gini, max_depth=3, min_samples_leaf=3, min_samples_split=10, score=0.3228207461432738, total=   0.3s\n",
      "[CV] criterion=gini, max_depth=3, min_samples_leaf=4, min_samples_split=2 \n"
     ]
    },
    {
     "name": "stderr",
     "output_type": "stream",
     "text": [
      "/anaconda3/lib/python3.7/site-packages/sklearn/metrics/classification.py:1143: UndefinedMetricWarning: F-score is ill-defined and being set to 0.0 in labels with no predicted samples.\n",
      "  'precision', 'predicted', average, warn_for)\n",
      "/anaconda3/lib/python3.7/site-packages/sklearn/metrics/classification.py:1143: UndefinedMetricWarning: F-score is ill-defined and being set to 0.0 in labels with no predicted samples.\n",
      "  'precision', 'predicted', average, warn_for)\n"
     ]
    },
    {
     "name": "stdout",
     "output_type": "stream",
     "text": [
      "[CV]  criterion=gini, max_depth=3, min_samples_leaf=4, min_samples_split=2, score=0.3238289437724488, total=   0.3s\n",
      "[CV] criterion=gini, max_depth=3, min_samples_leaf=4, min_samples_split=2 \n",
      "[CV]  criterion=gini, max_depth=3, min_samples_leaf=4, min_samples_split=2, score=0.30878912679707277, total=   0.3s\n",
      "[CV] criterion=gini, max_depth=3, min_samples_leaf=4, min_samples_split=2 \n",
      "[CV]  criterion=gini, max_depth=3, min_samples_leaf=4, min_samples_split=2, score=0.3228207461432738, total=   0.1s\n",
      "[CV] criterion=gini, max_depth=3, min_samples_leaf=4, min_samples_split=5 \n"
     ]
    },
    {
     "name": "stderr",
     "output_type": "stream",
     "text": [
      "/anaconda3/lib/python3.7/site-packages/sklearn/metrics/classification.py:1143: UndefinedMetricWarning: F-score is ill-defined and being set to 0.0 in labels with no predicted samples.\n",
      "  'precision', 'predicted', average, warn_for)\n",
      "/anaconda3/lib/python3.7/site-packages/sklearn/metrics/classification.py:1143: UndefinedMetricWarning: F-score is ill-defined and being set to 0.0 in labels with no predicted samples.\n",
      "  'precision', 'predicted', average, warn_for)\n",
      "/anaconda3/lib/python3.7/site-packages/sklearn/metrics/classification.py:1143: UndefinedMetricWarning: F-score is ill-defined and being set to 0.0 in labels with no predicted samples.\n",
      "  'precision', 'predicted', average, warn_for)\n",
      "/anaconda3/lib/python3.7/site-packages/sklearn/metrics/classification.py:1143: UndefinedMetricWarning: F-score is ill-defined and being set to 0.0 in labels with no predicted samples.\n",
      "  'precision', 'predicted', average, warn_for)\n"
     ]
    },
    {
     "name": "stdout",
     "output_type": "stream",
     "text": [
      "[CV]  criterion=gini, max_depth=3, min_samples_leaf=4, min_samples_split=5, score=0.3238289437724488, total=   0.3s\n",
      "[CV] criterion=gini, max_depth=3, min_samples_leaf=4, min_samples_split=5 \n",
      "[CV]  criterion=gini, max_depth=3, min_samples_leaf=4, min_samples_split=5, score=0.30878912679707277, total=   0.3s\n",
      "[CV] criterion=gini, max_depth=3, min_samples_leaf=4, min_samples_split=5 \n"
     ]
    },
    {
     "name": "stderr",
     "output_type": "stream",
     "text": [
      "/anaconda3/lib/python3.7/site-packages/sklearn/metrics/classification.py:1143: UndefinedMetricWarning: F-score is ill-defined and being set to 0.0 in labels with no predicted samples.\n",
      "  'precision', 'predicted', average, warn_for)\n",
      "/anaconda3/lib/python3.7/site-packages/sklearn/metrics/classification.py:1143: UndefinedMetricWarning: F-score is ill-defined and being set to 0.0 in labels with no predicted samples.\n",
      "  'precision', 'predicted', average, warn_for)\n",
      "/anaconda3/lib/python3.7/site-packages/sklearn/metrics/classification.py:1143: UndefinedMetricWarning: F-score is ill-defined and being set to 0.0 in labels with no predicted samples.\n",
      "  'precision', 'predicted', average, warn_for)\n",
      "/anaconda3/lib/python3.7/site-packages/sklearn/metrics/classification.py:1143: UndefinedMetricWarning: F-score is ill-defined and being set to 0.0 in labels with no predicted samples.\n",
      "  'precision', 'predicted', average, warn_for)\n"
     ]
    },
    {
     "name": "stdout",
     "output_type": "stream",
     "text": [
      "[CV]  criterion=gini, max_depth=3, min_samples_leaf=4, min_samples_split=5, score=0.3228207461432738, total=   0.4s\n",
      "[CV] criterion=gini, max_depth=3, min_samples_leaf=4, min_samples_split=10 \n",
      "[CV]  criterion=gini, max_depth=3, min_samples_leaf=4, min_samples_split=10, score=0.3238289437724488, total=   0.1s\n",
      "[CV] criterion=gini, max_depth=3, min_samples_leaf=4, min_samples_split=10 \n",
      "[CV]  criterion=gini, max_depth=3, min_samples_leaf=4, min_samples_split=10, score=0.30878912679707277, total=   0.2s\n",
      "[CV] criterion=gini, max_depth=3, min_samples_leaf=4, min_samples_split=10 \n"
     ]
    },
    {
     "name": "stderr",
     "output_type": "stream",
     "text": [
      "/anaconda3/lib/python3.7/site-packages/sklearn/metrics/classification.py:1143: UndefinedMetricWarning: F-score is ill-defined and being set to 0.0 in labels with no predicted samples.\n",
      "  'precision', 'predicted', average, warn_for)\n",
      "/anaconda3/lib/python3.7/site-packages/sklearn/metrics/classification.py:1143: UndefinedMetricWarning: F-score is ill-defined and being set to 0.0 in labels with no predicted samples.\n",
      "  'precision', 'predicted', average, warn_for)\n"
     ]
    },
    {
     "name": "stdout",
     "output_type": "stream",
     "text": [
      "[CV]  criterion=gini, max_depth=3, min_samples_leaf=4, min_samples_split=10, score=0.3228207461432738, total=   0.4s\n",
      "[CV] criterion=gini, max_depth=3, min_samples_leaf=5, min_samples_split=2 \n"
     ]
    },
    {
     "name": "stderr",
     "output_type": "stream",
     "text": [
      "/anaconda3/lib/python3.7/site-packages/sklearn/metrics/classification.py:1143: UndefinedMetricWarning: F-score is ill-defined and being set to 0.0 in labels with no predicted samples.\n",
      "  'precision', 'predicted', average, warn_for)\n",
      "/anaconda3/lib/python3.7/site-packages/sklearn/metrics/classification.py:1143: UndefinedMetricWarning: F-score is ill-defined and being set to 0.0 in labels with no predicted samples.\n",
      "  'precision', 'predicted', average, warn_for)\n"
     ]
    },
    {
     "name": "stdout",
     "output_type": "stream",
     "text": [
      "[CV]  criterion=gini, max_depth=3, min_samples_leaf=5, min_samples_split=2, score=0.3238289437724488, total=   0.3s\n",
      "[CV] criterion=gini, max_depth=3, min_samples_leaf=5, min_samples_split=2 \n",
      "[CV]  criterion=gini, max_depth=3, min_samples_leaf=5, min_samples_split=2, score=0.30878912679707277, total=   0.4s\n",
      "[CV] criterion=gini, max_depth=3, min_samples_leaf=5, min_samples_split=2 \n"
     ]
    },
    {
     "name": "stderr",
     "output_type": "stream",
     "text": [
      "/anaconda3/lib/python3.7/site-packages/sklearn/metrics/classification.py:1143: UndefinedMetricWarning: F-score is ill-defined and being set to 0.0 in labels with no predicted samples.\n",
      "  'precision', 'predicted', average, warn_for)\n",
      "/anaconda3/lib/python3.7/site-packages/sklearn/metrics/classification.py:1143: UndefinedMetricWarning: F-score is ill-defined and being set to 0.0 in labels with no predicted samples.\n",
      "  'precision', 'predicted', average, warn_for)\n"
     ]
    },
    {
     "name": "stdout",
     "output_type": "stream",
     "text": [
      "[CV]  criterion=gini, max_depth=3, min_samples_leaf=5, min_samples_split=2, score=0.3228207461432738, total=   0.3s\n",
      "[CV] criterion=gini, max_depth=3, min_samples_leaf=5, min_samples_split=5 \n"
     ]
    },
    {
     "name": "stderr",
     "output_type": "stream",
     "text": [
      "/anaconda3/lib/python3.7/site-packages/sklearn/metrics/classification.py:1143: UndefinedMetricWarning: F-score is ill-defined and being set to 0.0 in labels with no predicted samples.\n",
      "  'precision', 'predicted', average, warn_for)\n",
      "/anaconda3/lib/python3.7/site-packages/sklearn/metrics/classification.py:1143: UndefinedMetricWarning: F-score is ill-defined and being set to 0.0 in labels with no predicted samples.\n",
      "  'precision', 'predicted', average, warn_for)\n"
     ]
    },
    {
     "name": "stdout",
     "output_type": "stream",
     "text": [
      "[CV]  criterion=gini, max_depth=3, min_samples_leaf=5, min_samples_split=5, score=0.3238289437724488, total=   0.3s\n",
      "[CV] criterion=gini, max_depth=3, min_samples_leaf=5, min_samples_split=5 \n",
      "[CV]  criterion=gini, max_depth=3, min_samples_leaf=5, min_samples_split=5, score=0.30878912679707277, total=   0.3s\n",
      "[CV] criterion=gini, max_depth=3, min_samples_leaf=5, min_samples_split=5 \n"
     ]
    },
    {
     "name": "stderr",
     "output_type": "stream",
     "text": [
      "/anaconda3/lib/python3.7/site-packages/sklearn/metrics/classification.py:1143: UndefinedMetricWarning: F-score is ill-defined and being set to 0.0 in labels with no predicted samples.\n",
      "  'precision', 'predicted', average, warn_for)\n",
      "/anaconda3/lib/python3.7/site-packages/sklearn/metrics/classification.py:1143: UndefinedMetricWarning: F-score is ill-defined and being set to 0.0 in labels with no predicted samples.\n",
      "  'precision', 'predicted', average, warn_for)\n"
     ]
    },
    {
     "name": "stdout",
     "output_type": "stream",
     "text": [
      "[CV]  criterion=gini, max_depth=3, min_samples_leaf=5, min_samples_split=5, score=0.3228207461432738, total=   0.3s\n",
      "[CV] criterion=gini, max_depth=3, min_samples_leaf=5, min_samples_split=10 \n"
     ]
    },
    {
     "name": "stderr",
     "output_type": "stream",
     "text": [
      "/anaconda3/lib/python3.7/site-packages/sklearn/metrics/classification.py:1143: UndefinedMetricWarning: F-score is ill-defined and being set to 0.0 in labels with no predicted samples.\n",
      "  'precision', 'predicted', average, warn_for)\n",
      "/anaconda3/lib/python3.7/site-packages/sklearn/metrics/classification.py:1143: UndefinedMetricWarning: F-score is ill-defined and being set to 0.0 in labels with no predicted samples.\n",
      "  'precision', 'predicted', average, warn_for)\n"
     ]
    },
    {
     "name": "stdout",
     "output_type": "stream",
     "text": [
      "[CV]  criterion=gini, max_depth=3, min_samples_leaf=5, min_samples_split=10, score=0.3238289437724488, total=   0.2s\n",
      "[CV] criterion=gini, max_depth=3, min_samples_leaf=5, min_samples_split=10 \n",
      "[CV]  criterion=gini, max_depth=3, min_samples_leaf=5, min_samples_split=10, score=0.30878912679707277, total=   0.3s\n",
      "[CV] criterion=gini, max_depth=3, min_samples_leaf=5, min_samples_split=10 \n",
      "[CV]  criterion=gini, max_depth=3, min_samples_leaf=5, min_samples_split=10, score=0.3228207461432738, total=   0.2s\n",
      "[CV] criterion=gini, max_depth=3, min_samples_leaf=6, min_samples_split=2 \n"
     ]
    },
    {
     "name": "stderr",
     "output_type": "stream",
     "text": [
      "/anaconda3/lib/python3.7/site-packages/sklearn/metrics/classification.py:1143: UndefinedMetricWarning: F-score is ill-defined and being set to 0.0 in labels with no predicted samples.\n",
      "  'precision', 'predicted', average, warn_for)\n",
      "/anaconda3/lib/python3.7/site-packages/sklearn/metrics/classification.py:1143: UndefinedMetricWarning: F-score is ill-defined and being set to 0.0 in labels with no predicted samples.\n",
      "  'precision', 'predicted', average, warn_for)\n",
      "/anaconda3/lib/python3.7/site-packages/sklearn/metrics/classification.py:1143: UndefinedMetricWarning: F-score is ill-defined and being set to 0.0 in labels with no predicted samples.\n",
      "  'precision', 'predicted', average, warn_for)\n",
      "/anaconda3/lib/python3.7/site-packages/sklearn/metrics/classification.py:1143: UndefinedMetricWarning: F-score is ill-defined and being set to 0.0 in labels with no predicted samples.\n",
      "  'precision', 'predicted', average, warn_for)\n"
     ]
    },
    {
     "name": "stdout",
     "output_type": "stream",
     "text": [
      "[CV]  criterion=gini, max_depth=3, min_samples_leaf=6, min_samples_split=2, score=0.3238289437724488, total=   0.1s\n",
      "[CV] criterion=gini, max_depth=3, min_samples_leaf=6, min_samples_split=2 \n",
      "[CV]  criterion=gini, max_depth=3, min_samples_leaf=6, min_samples_split=2, score=0.30878912679707277, total=   0.1s\n",
      "[CV] criterion=gini, max_depth=3, min_samples_leaf=6, min_samples_split=2 \n"
     ]
    },
    {
     "name": "stderr",
     "output_type": "stream",
     "text": [
      "/anaconda3/lib/python3.7/site-packages/sklearn/metrics/classification.py:1143: UndefinedMetricWarning: F-score is ill-defined and being set to 0.0 in labels with no predicted samples.\n",
      "  'precision', 'predicted', average, warn_for)\n",
      "/anaconda3/lib/python3.7/site-packages/sklearn/metrics/classification.py:1143: UndefinedMetricWarning: F-score is ill-defined and being set to 0.0 in labels with no predicted samples.\n",
      "  'precision', 'predicted', average, warn_for)\n"
     ]
    },
    {
     "name": "stdout",
     "output_type": "stream",
     "text": [
      "[CV]  criterion=gini, max_depth=3, min_samples_leaf=6, min_samples_split=2, score=0.3228207461432738, total=   0.3s\n",
      "[CV] criterion=gini, max_depth=3, min_samples_leaf=6, min_samples_split=5 \n"
     ]
    },
    {
     "name": "stderr",
     "output_type": "stream",
     "text": [
      "/anaconda3/lib/python3.7/site-packages/sklearn/metrics/classification.py:1143: UndefinedMetricWarning: F-score is ill-defined and being set to 0.0 in labels with no predicted samples.\n",
      "  'precision', 'predicted', average, warn_for)\n",
      "/anaconda3/lib/python3.7/site-packages/sklearn/metrics/classification.py:1143: UndefinedMetricWarning: F-score is ill-defined and being set to 0.0 in labels with no predicted samples.\n",
      "  'precision', 'predicted', average, warn_for)\n"
     ]
    },
    {
     "name": "stdout",
     "output_type": "stream",
     "text": [
      "[CV]  criterion=gini, max_depth=3, min_samples_leaf=6, min_samples_split=5, score=0.3238289437724488, total=   0.3s\n",
      "[CV] criterion=gini, max_depth=3, min_samples_leaf=6, min_samples_split=5 \n",
      "[CV]  criterion=gini, max_depth=3, min_samples_leaf=6, min_samples_split=5, score=0.30878912679707277, total=   0.2s\n",
      "[CV] criterion=gini, max_depth=3, min_samples_leaf=6, min_samples_split=5 \n"
     ]
    },
    {
     "name": "stderr",
     "output_type": "stream",
     "text": [
      "/anaconda3/lib/python3.7/site-packages/sklearn/metrics/classification.py:1143: UndefinedMetricWarning: F-score is ill-defined and being set to 0.0 in labels with no predicted samples.\n",
      "  'precision', 'predicted', average, warn_for)\n",
      "/anaconda3/lib/python3.7/site-packages/sklearn/metrics/classification.py:1143: UndefinedMetricWarning: F-score is ill-defined and being set to 0.0 in labels with no predicted samples.\n",
      "  'precision', 'predicted', average, warn_for)\n",
      "/anaconda3/lib/python3.7/site-packages/sklearn/metrics/classification.py:1143: UndefinedMetricWarning: F-score is ill-defined and being set to 0.0 in labels with no predicted samples.\n",
      "  'precision', 'predicted', average, warn_for)\n",
      "/anaconda3/lib/python3.7/site-packages/sklearn/metrics/classification.py:1143: UndefinedMetricWarning: F-score is ill-defined and being set to 0.0 in labels with no predicted samples.\n",
      "  'precision', 'predicted', average, warn_for)\n"
     ]
    },
    {
     "name": "stdout",
     "output_type": "stream",
     "text": [
      "[CV]  criterion=gini, max_depth=3, min_samples_leaf=6, min_samples_split=5, score=0.3228207461432738, total=   0.3s\n",
      "[CV] criterion=gini, max_depth=3, min_samples_leaf=6, min_samples_split=10 \n",
      "[CV]  criterion=gini, max_depth=3, min_samples_leaf=6, min_samples_split=10, score=0.3238289437724488, total=   0.1s\n",
      "[CV] criterion=gini, max_depth=3, min_samples_leaf=6, min_samples_split=10 \n",
      "[CV]  criterion=gini, max_depth=3, min_samples_leaf=6, min_samples_split=10, score=0.30878912679707277, total=   0.2s\n",
      "[CV] criterion=gini, max_depth=3, min_samples_leaf=6, min_samples_split=10 \n",
      "[CV]  criterion=gini, max_depth=3, min_samples_leaf=6, min_samples_split=10, score=0.3228207461432738, total=   0.1s\n",
      "[CV] criterion=gini, max_depth=4, min_samples_leaf=1, min_samples_split=2 \n"
     ]
    },
    {
     "name": "stderr",
     "output_type": "stream",
     "text": [
      "/anaconda3/lib/python3.7/site-packages/sklearn/metrics/classification.py:1143: UndefinedMetricWarning: F-score is ill-defined and being set to 0.0 in labels with no predicted samples.\n",
      "  'precision', 'predicted', average, warn_for)\n",
      "/anaconda3/lib/python3.7/site-packages/sklearn/metrics/classification.py:1143: UndefinedMetricWarning: F-score is ill-defined and being set to 0.0 in labels with no predicted samples.\n",
      "  'precision', 'predicted', average, warn_for)\n"
     ]
    },
    {
     "name": "stdout",
     "output_type": "stream",
     "text": [
      "[CV]  criterion=gini, max_depth=4, min_samples_leaf=1, min_samples_split=2, score=0.32559203998219677, total=   0.4s\n",
      "[CV] criterion=gini, max_depth=4, min_samples_leaf=1, min_samples_split=2 \n",
      "[CV]  criterion=gini, max_depth=4, min_samples_leaf=1, min_samples_split=2, score=0.30566810062330924, total=   0.3s\n",
      "[CV] criterion=gini, max_depth=4, min_samples_leaf=1, min_samples_split=2 \n",
      "[CV]  criterion=gini, max_depth=4, min_samples_leaf=1, min_samples_split=2, score=0.32215423613704464, total=   0.2s\n",
      "[CV] criterion=gini, max_depth=4, min_samples_leaf=1, min_samples_split=5 \n"
     ]
    },
    {
     "name": "stderr",
     "output_type": "stream",
     "text": [
      "/anaconda3/lib/python3.7/site-packages/sklearn/metrics/classification.py:1143: UndefinedMetricWarning: F-score is ill-defined and being set to 0.0 in labels with no predicted samples.\n",
      "  'precision', 'predicted', average, warn_for)\n",
      "/anaconda3/lib/python3.7/site-packages/sklearn/metrics/classification.py:1143: UndefinedMetricWarning: F-score is ill-defined and being set to 0.0 in labels with no predicted samples.\n",
      "  'precision', 'predicted', average, warn_for)\n"
     ]
    },
    {
     "name": "stdout",
     "output_type": "stream",
     "text": [
      "[CV]  criterion=gini, max_depth=4, min_samples_leaf=1, min_samples_split=5, score=0.32559203998219677, total=   0.2s\n",
      "[CV] criterion=gini, max_depth=4, min_samples_leaf=1, min_samples_split=5 \n",
      "[CV]  criterion=gini, max_depth=4, min_samples_leaf=1, min_samples_split=5, score=0.30566810062330924, total=   0.3s\n",
      "[CV] criterion=gini, max_depth=4, min_samples_leaf=1, min_samples_split=5 \n"
     ]
    },
    {
     "name": "stderr",
     "output_type": "stream",
     "text": [
      "/anaconda3/lib/python3.7/site-packages/sklearn/metrics/classification.py:1143: UndefinedMetricWarning: F-score is ill-defined and being set to 0.0 in labels with no predicted samples.\n",
      "  'precision', 'predicted', average, warn_for)\n",
      "/anaconda3/lib/python3.7/site-packages/sklearn/metrics/classification.py:1143: UndefinedMetricWarning: F-score is ill-defined and being set to 0.0 in labels with no predicted samples.\n",
      "  'precision', 'predicted', average, warn_for)\n"
     ]
    },
    {
     "name": "stdout",
     "output_type": "stream",
     "text": [
      "[CV]  criterion=gini, max_depth=4, min_samples_leaf=1, min_samples_split=5, score=0.32215423613704464, total=   0.4s\n",
      "[CV] criterion=gini, max_depth=4, min_samples_leaf=1, min_samples_split=10 \n",
      "[CV]  criterion=gini, max_depth=4, min_samples_leaf=1, min_samples_split=10, score=0.32559203998219677, total=   0.4s\n",
      "[CV] criterion=gini, max_depth=4, min_samples_leaf=1, min_samples_split=10 \n",
      "[CV]  criterion=gini, max_depth=4, min_samples_leaf=1, min_samples_split=10, score=0.30566810062330924, total=   0.4s\n",
      "[CV] criterion=gini, max_depth=4, min_samples_leaf=1, min_samples_split=10 \n"
     ]
    },
    {
     "name": "stderr",
     "output_type": "stream",
     "text": [
      "/anaconda3/lib/python3.7/site-packages/sklearn/metrics/classification.py:1143: UndefinedMetricWarning: F-score is ill-defined and being set to 0.0 in labels with no predicted samples.\n",
      "  'precision', 'predicted', average, warn_for)\n",
      "/anaconda3/lib/python3.7/site-packages/sklearn/metrics/classification.py:1143: UndefinedMetricWarning: F-score is ill-defined and being set to 0.0 in labels with no predicted samples.\n",
      "  'precision', 'predicted', average, warn_for)\n"
     ]
    },
    {
     "name": "stdout",
     "output_type": "stream",
     "text": [
      "[CV]  criterion=gini, max_depth=4, min_samples_leaf=1, min_samples_split=10, score=0.32215423613704464, total=   0.4s\n",
      "[CV] criterion=gini, max_depth=4, min_samples_leaf=2, min_samples_split=2 \n",
      "[CV]  criterion=gini, max_depth=4, min_samples_leaf=2, min_samples_split=2, score=0.32559203998219677, total=   0.4s\n",
      "[CV] criterion=gini, max_depth=4, min_samples_leaf=2, min_samples_split=2 \n",
      "[CV]  criterion=gini, max_depth=4, min_samples_leaf=2, min_samples_split=2, score=0.30566810062330924, total=   0.2s\n",
      "[CV] criterion=gini, max_depth=4, min_samples_leaf=2, min_samples_split=2 \n"
     ]
    },
    {
     "name": "stderr",
     "output_type": "stream",
     "text": [
      "/anaconda3/lib/python3.7/site-packages/sklearn/metrics/classification.py:1143: UndefinedMetricWarning: F-score is ill-defined and being set to 0.0 in labels with no predicted samples.\n",
      "  'precision', 'predicted', average, warn_for)\n",
      "/anaconda3/lib/python3.7/site-packages/sklearn/metrics/classification.py:1143: UndefinedMetricWarning: F-score is ill-defined and being set to 0.0 in labels with no predicted samples.\n",
      "  'precision', 'predicted', average, warn_for)\n"
     ]
    },
    {
     "name": "stdout",
     "output_type": "stream",
     "text": [
      "[CV]  criterion=gini, max_depth=4, min_samples_leaf=2, min_samples_split=2, score=0.32215423613704464, total=   0.2s\n",
      "[CV] criterion=gini, max_depth=4, min_samples_leaf=2, min_samples_split=5 \n",
      "[CV]  criterion=gini, max_depth=4, min_samples_leaf=2, min_samples_split=5, score=0.32559203998219677, total=   0.2s\n",
      "[CV] criterion=gini, max_depth=4, min_samples_leaf=2, min_samples_split=5 \n",
      "[CV]  criterion=gini, max_depth=4, min_samples_leaf=2, min_samples_split=5, score=0.30566810062330924, total=   0.2s\n",
      "[CV] criterion=gini, max_depth=4, min_samples_leaf=2, min_samples_split=5 \n"
     ]
    },
    {
     "name": "stderr",
     "output_type": "stream",
     "text": [
      "/anaconda3/lib/python3.7/site-packages/sklearn/metrics/classification.py:1143: UndefinedMetricWarning: F-score is ill-defined and being set to 0.0 in labels with no predicted samples.\n",
      "  'precision', 'predicted', average, warn_for)\n",
      "/anaconda3/lib/python3.7/site-packages/sklearn/metrics/classification.py:1143: UndefinedMetricWarning: F-score is ill-defined and being set to 0.0 in labels with no predicted samples.\n",
      "  'precision', 'predicted', average, warn_for)\n"
     ]
    },
    {
     "name": "stdout",
     "output_type": "stream",
     "text": [
      "[CV]  criterion=gini, max_depth=4, min_samples_leaf=2, min_samples_split=5, score=0.32215423613704464, total=   0.2s\n",
      "[CV] criterion=gini, max_depth=4, min_samples_leaf=2, min_samples_split=10 \n",
      "[CV]  criterion=gini, max_depth=4, min_samples_leaf=2, min_samples_split=10, score=0.32559203998219677, total=   0.3s\n",
      "[CV] criterion=gini, max_depth=4, min_samples_leaf=2, min_samples_split=10 \n",
      "[CV]  criterion=gini, max_depth=4, min_samples_leaf=2, min_samples_split=10, score=0.30566810062330924, total=   0.2s\n",
      "[CV] criterion=gini, max_depth=4, min_samples_leaf=2, min_samples_split=10 \n"
     ]
    },
    {
     "name": "stderr",
     "output_type": "stream",
     "text": [
      "/anaconda3/lib/python3.7/site-packages/sklearn/metrics/classification.py:1143: UndefinedMetricWarning: F-score is ill-defined and being set to 0.0 in labels with no predicted samples.\n",
      "  'precision', 'predicted', average, warn_for)\n",
      "/anaconda3/lib/python3.7/site-packages/sklearn/metrics/classification.py:1143: UndefinedMetricWarning: F-score is ill-defined and being set to 0.0 in labels with no predicted samples.\n",
      "  'precision', 'predicted', average, warn_for)\n"
     ]
    },
    {
     "name": "stdout",
     "output_type": "stream",
     "text": [
      "[CV]  criterion=gini, max_depth=4, min_samples_leaf=2, min_samples_split=10, score=0.32215423613704464, total=   0.2s\n",
      "[CV] criterion=gini, max_depth=4, min_samples_leaf=3, min_samples_split=2 \n",
      "[CV]  criterion=gini, max_depth=4, min_samples_leaf=3, min_samples_split=2, score=0.32559203998219677, total=   0.3s\n",
      "[CV] criterion=gini, max_depth=4, min_samples_leaf=3, min_samples_split=2 \n",
      "[CV]  criterion=gini, max_depth=4, min_samples_leaf=3, min_samples_split=2, score=0.30566810062330924, total=   0.2s\n",
      "[CV] criterion=gini, max_depth=4, min_samples_leaf=3, min_samples_split=2 \n",
      "[CV]  criterion=gini, max_depth=4, min_samples_leaf=3, min_samples_split=2, score=0.32215423613704464, total=   0.2s\n",
      "[CV] criterion=gini, max_depth=4, min_samples_leaf=3, min_samples_split=5 \n"
     ]
    },
    {
     "name": "stderr",
     "output_type": "stream",
     "text": [
      "/anaconda3/lib/python3.7/site-packages/sklearn/metrics/classification.py:1143: UndefinedMetricWarning: F-score is ill-defined and being set to 0.0 in labels with no predicted samples.\n",
      "  'precision', 'predicted', average, warn_for)\n",
      "/anaconda3/lib/python3.7/site-packages/sklearn/metrics/classification.py:1143: UndefinedMetricWarning: F-score is ill-defined and being set to 0.0 in labels with no predicted samples.\n",
      "  'precision', 'predicted', average, warn_for)\n"
     ]
    },
    {
     "name": "stdout",
     "output_type": "stream",
     "text": [
      "[CV]  criterion=gini, max_depth=4, min_samples_leaf=3, min_samples_split=5, score=0.32559203998219677, total=   0.2s\n",
      "[CV] criterion=gini, max_depth=4, min_samples_leaf=3, min_samples_split=5 \n",
      "[CV]  criterion=gini, max_depth=4, min_samples_leaf=3, min_samples_split=5, score=0.30566810062330924, total=   0.2s\n",
      "[CV] criterion=gini, max_depth=4, min_samples_leaf=3, min_samples_split=5 \n"
     ]
    },
    {
     "name": "stderr",
     "output_type": "stream",
     "text": [
      "/anaconda3/lib/python3.7/site-packages/sklearn/metrics/classification.py:1143: UndefinedMetricWarning: F-score is ill-defined and being set to 0.0 in labels with no predicted samples.\n",
      "  'precision', 'predicted', average, warn_for)\n",
      "/anaconda3/lib/python3.7/site-packages/sklearn/metrics/classification.py:1143: UndefinedMetricWarning: F-score is ill-defined and being set to 0.0 in labels with no predicted samples.\n",
      "  'precision', 'predicted', average, warn_for)\n"
     ]
    },
    {
     "name": "stdout",
     "output_type": "stream",
     "text": [
      "[CV]  criterion=gini, max_depth=4, min_samples_leaf=3, min_samples_split=5, score=0.32215423613704464, total=   0.3s\n",
      "[CV] criterion=gini, max_depth=4, min_samples_leaf=3, min_samples_split=10 \n",
      "[CV]  criterion=gini, max_depth=4, min_samples_leaf=3, min_samples_split=10, score=0.32559203998219677, total=   0.3s\n",
      "[CV] criterion=gini, max_depth=4, min_samples_leaf=3, min_samples_split=10 \n",
      "[CV]  criterion=gini, max_depth=4, min_samples_leaf=3, min_samples_split=10, score=0.30566810062330924, total=   0.2s\n",
      "[CV] criterion=gini, max_depth=4, min_samples_leaf=3, min_samples_split=10 \n"
     ]
    },
    {
     "name": "stderr",
     "output_type": "stream",
     "text": [
      "/anaconda3/lib/python3.7/site-packages/sklearn/metrics/classification.py:1143: UndefinedMetricWarning: F-score is ill-defined and being set to 0.0 in labels with no predicted samples.\n",
      "  'precision', 'predicted', average, warn_for)\n",
      "/anaconda3/lib/python3.7/site-packages/sklearn/metrics/classification.py:1143: UndefinedMetricWarning: F-score is ill-defined and being set to 0.0 in labels with no predicted samples.\n",
      "  'precision', 'predicted', average, warn_for)\n"
     ]
    },
    {
     "name": "stdout",
     "output_type": "stream",
     "text": [
      "[CV]  criterion=gini, max_depth=4, min_samples_leaf=3, min_samples_split=10, score=0.32215423613704464, total=   0.3s\n",
      "[CV] criterion=gini, max_depth=4, min_samples_leaf=4, min_samples_split=2 \n",
      "[CV]  criterion=gini, max_depth=4, min_samples_leaf=4, min_samples_split=2, score=0.32559203998219677, total=   0.2s\n",
      "[CV] criterion=gini, max_depth=4, min_samples_leaf=4, min_samples_split=2 \n",
      "[CV]  criterion=gini, max_depth=4, min_samples_leaf=4, min_samples_split=2, score=0.30566810062330924, total=   0.2s\n",
      "[CV] criterion=gini, max_depth=4, min_samples_leaf=4, min_samples_split=2 \n"
     ]
    },
    {
     "name": "stderr",
     "output_type": "stream",
     "text": [
      "/anaconda3/lib/python3.7/site-packages/sklearn/metrics/classification.py:1143: UndefinedMetricWarning: F-score is ill-defined and being set to 0.0 in labels with no predicted samples.\n",
      "  'precision', 'predicted', average, warn_for)\n",
      "/anaconda3/lib/python3.7/site-packages/sklearn/metrics/classification.py:1143: UndefinedMetricWarning: F-score is ill-defined and being set to 0.0 in labels with no predicted samples.\n",
      "  'precision', 'predicted', average, warn_for)\n"
     ]
    },
    {
     "name": "stdout",
     "output_type": "stream",
     "text": [
      "[CV]  criterion=gini, max_depth=4, min_samples_leaf=4, min_samples_split=2, score=0.32215423613704464, total=   0.2s\n",
      "[CV] criterion=gini, max_depth=4, min_samples_leaf=4, min_samples_split=5 \n",
      "[CV]  criterion=gini, max_depth=4, min_samples_leaf=4, min_samples_split=5, score=0.32559203998219677, total=   0.2s\n",
      "[CV] criterion=gini, max_depth=4, min_samples_leaf=4, min_samples_split=5 \n",
      "[CV]  criterion=gini, max_depth=4, min_samples_leaf=4, min_samples_split=5, score=0.30566810062330924, total=   0.2s\n",
      "[CV] criterion=gini, max_depth=4, min_samples_leaf=4, min_samples_split=5 \n",
      "[CV]  criterion=gini, max_depth=4, min_samples_leaf=4, min_samples_split=5, score=0.32215423613704464, total=   0.1s\n",
      "[CV] criterion=gini, max_depth=4, min_samples_leaf=4, min_samples_split=10 \n"
     ]
    },
    {
     "name": "stderr",
     "output_type": "stream",
     "text": [
      "/anaconda3/lib/python3.7/site-packages/sklearn/metrics/classification.py:1143: UndefinedMetricWarning: F-score is ill-defined and being set to 0.0 in labels with no predicted samples.\n",
      "  'precision', 'predicted', average, warn_for)\n",
      "/anaconda3/lib/python3.7/site-packages/sklearn/metrics/classification.py:1143: UndefinedMetricWarning: F-score is ill-defined and being set to 0.0 in labels with no predicted samples.\n",
      "  'precision', 'predicted', average, warn_for)\n"
     ]
    },
    {
     "name": "stdout",
     "output_type": "stream",
     "text": [
      "[CV]  criterion=gini, max_depth=4, min_samples_leaf=4, min_samples_split=10, score=0.32559203998219677, total=   0.2s\n",
      "[CV] criterion=gini, max_depth=4, min_samples_leaf=4, min_samples_split=10 \n",
      "[CV]  criterion=gini, max_depth=4, min_samples_leaf=4, min_samples_split=10, score=0.30566810062330924, total=   0.2s\n",
      "[CV] criterion=gini, max_depth=4, min_samples_leaf=4, min_samples_split=10 \n"
     ]
    },
    {
     "name": "stderr",
     "output_type": "stream",
     "text": [
      "/anaconda3/lib/python3.7/site-packages/sklearn/metrics/classification.py:1143: UndefinedMetricWarning: F-score is ill-defined and being set to 0.0 in labels with no predicted samples.\n",
      "  'precision', 'predicted', average, warn_for)\n",
      "/anaconda3/lib/python3.7/site-packages/sklearn/metrics/classification.py:1143: UndefinedMetricWarning: F-score is ill-defined and being set to 0.0 in labels with no predicted samples.\n",
      "  'precision', 'predicted', average, warn_for)\n"
     ]
    },
    {
     "name": "stdout",
     "output_type": "stream",
     "text": [
      "[CV]  criterion=gini, max_depth=4, min_samples_leaf=4, min_samples_split=10, score=0.32215423613704464, total=   0.2s\n",
      "[CV] criterion=gini, max_depth=4, min_samples_leaf=5, min_samples_split=2 \n",
      "[CV]  criterion=gini, max_depth=4, min_samples_leaf=5, min_samples_split=2, score=0.32559203998219677, total=   0.3s\n",
      "[CV] criterion=gini, max_depth=4, min_samples_leaf=5, min_samples_split=2 \n",
      "[CV]  criterion=gini, max_depth=4, min_samples_leaf=5, min_samples_split=2, score=0.30566810062330924, total=   0.2s\n",
      "[CV] criterion=gini, max_depth=4, min_samples_leaf=5, min_samples_split=2 \n"
     ]
    },
    {
     "name": "stderr",
     "output_type": "stream",
     "text": [
      "/anaconda3/lib/python3.7/site-packages/sklearn/metrics/classification.py:1143: UndefinedMetricWarning: F-score is ill-defined and being set to 0.0 in labels with no predicted samples.\n",
      "  'precision', 'predicted', average, warn_for)\n",
      "/anaconda3/lib/python3.7/site-packages/sklearn/metrics/classification.py:1143: UndefinedMetricWarning: F-score is ill-defined and being set to 0.0 in labels with no predicted samples.\n",
      "  'precision', 'predicted', average, warn_for)\n"
     ]
    },
    {
     "name": "stdout",
     "output_type": "stream",
     "text": [
      "[CV]  criterion=gini, max_depth=4, min_samples_leaf=5, min_samples_split=2, score=0.32215423613704464, total=   0.2s\n",
      "[CV] criterion=gini, max_depth=4, min_samples_leaf=5, min_samples_split=5 \n",
      "[CV]  criterion=gini, max_depth=4, min_samples_leaf=5, min_samples_split=5, score=0.32559203998219677, total=   0.2s\n",
      "[CV] criterion=gini, max_depth=4, min_samples_leaf=5, min_samples_split=5 \n",
      "[CV]  criterion=gini, max_depth=4, min_samples_leaf=5, min_samples_split=5, score=0.30566810062330924, total=   0.2s\n",
      "[CV] criterion=gini, max_depth=4, min_samples_leaf=5, min_samples_split=5 \n",
      "[CV]  criterion=gini, max_depth=4, min_samples_leaf=5, min_samples_split=5, score=0.32215423613704464, total=   0.2s\n",
      "[CV] criterion=gini, max_depth=4, min_samples_leaf=5, min_samples_split=10 \n"
     ]
    },
    {
     "name": "stderr",
     "output_type": "stream",
     "text": [
      "/anaconda3/lib/python3.7/site-packages/sklearn/metrics/classification.py:1143: UndefinedMetricWarning: F-score is ill-defined and being set to 0.0 in labels with no predicted samples.\n",
      "  'precision', 'predicted', average, warn_for)\n",
      "/anaconda3/lib/python3.7/site-packages/sklearn/metrics/classification.py:1143: UndefinedMetricWarning: F-score is ill-defined and being set to 0.0 in labels with no predicted samples.\n",
      "  'precision', 'predicted', average, warn_for)\n"
     ]
    },
    {
     "name": "stdout",
     "output_type": "stream",
     "text": [
      "[CV]  criterion=gini, max_depth=4, min_samples_leaf=5, min_samples_split=10, score=0.32559203998219677, total=   0.2s\n",
      "[CV] criterion=gini, max_depth=4, min_samples_leaf=5, min_samples_split=10 \n",
      "[CV]  criterion=gini, max_depth=4, min_samples_leaf=5, min_samples_split=10, score=0.30566810062330924, total=   0.2s\n",
      "[CV] criterion=gini, max_depth=4, min_samples_leaf=5, min_samples_split=10 \n"
     ]
    },
    {
     "name": "stderr",
     "output_type": "stream",
     "text": [
      "/anaconda3/lib/python3.7/site-packages/sklearn/metrics/classification.py:1143: UndefinedMetricWarning: F-score is ill-defined and being set to 0.0 in labels with no predicted samples.\n",
      "  'precision', 'predicted', average, warn_for)\n",
      "/anaconda3/lib/python3.7/site-packages/sklearn/metrics/classification.py:1143: UndefinedMetricWarning: F-score is ill-defined and being set to 0.0 in labels with no predicted samples.\n",
      "  'precision', 'predicted', average, warn_for)\n"
     ]
    },
    {
     "name": "stdout",
     "output_type": "stream",
     "text": [
      "[CV]  criterion=gini, max_depth=4, min_samples_leaf=5, min_samples_split=10, score=0.32215423613704464, total=   0.2s\n",
      "[CV] criterion=gini, max_depth=4, min_samples_leaf=6, min_samples_split=2 \n",
      "[CV]  criterion=gini, max_depth=4, min_samples_leaf=6, min_samples_split=2, score=0.32559203998219677, total=   0.2s\n",
      "[CV] criterion=gini, max_depth=4, min_samples_leaf=6, min_samples_split=2 \n",
      "[CV]  criterion=gini, max_depth=4, min_samples_leaf=6, min_samples_split=2, score=0.30566810062330924, total=   0.2s\n",
      "[CV] criterion=gini, max_depth=4, min_samples_leaf=6, min_samples_split=2 \n",
      "[CV]  criterion=gini, max_depth=4, min_samples_leaf=6, min_samples_split=2, score=0.32215423613704464, total=   0.2s\n",
      "[CV] criterion=gini, max_depth=4, min_samples_leaf=6, min_samples_split=5 \n"
     ]
    },
    {
     "name": "stderr",
     "output_type": "stream",
     "text": [
      "/anaconda3/lib/python3.7/site-packages/sklearn/metrics/classification.py:1143: UndefinedMetricWarning: F-score is ill-defined and being set to 0.0 in labels with no predicted samples.\n",
      "  'precision', 'predicted', average, warn_for)\n",
      "/anaconda3/lib/python3.7/site-packages/sklearn/metrics/classification.py:1143: UndefinedMetricWarning: F-score is ill-defined and being set to 0.0 in labels with no predicted samples.\n",
      "  'precision', 'predicted', average, warn_for)\n"
     ]
    },
    {
     "name": "stdout",
     "output_type": "stream",
     "text": [
      "[CV]  criterion=gini, max_depth=4, min_samples_leaf=6, min_samples_split=5, score=0.32559203998219677, total=   0.2s\n",
      "[CV] criterion=gini, max_depth=4, min_samples_leaf=6, min_samples_split=5 \n",
      "[CV]  criterion=gini, max_depth=4, min_samples_leaf=6, min_samples_split=5, score=0.30566810062330924, total=   0.2s\n",
      "[CV] criterion=gini, max_depth=4, min_samples_leaf=6, min_samples_split=5 \n"
     ]
    },
    {
     "name": "stderr",
     "output_type": "stream",
     "text": [
      "/anaconda3/lib/python3.7/site-packages/sklearn/metrics/classification.py:1143: UndefinedMetricWarning: F-score is ill-defined and being set to 0.0 in labels with no predicted samples.\n",
      "  'precision', 'predicted', average, warn_for)\n",
      "/anaconda3/lib/python3.7/site-packages/sklearn/metrics/classification.py:1143: UndefinedMetricWarning: F-score is ill-defined and being set to 0.0 in labels with no predicted samples.\n",
      "  'precision', 'predicted', average, warn_for)\n"
     ]
    },
    {
     "name": "stdout",
     "output_type": "stream",
     "text": [
      "[CV]  criterion=gini, max_depth=4, min_samples_leaf=6, min_samples_split=5, score=0.32215423613704464, total=   0.2s\n",
      "[CV] criterion=gini, max_depth=4, min_samples_leaf=6, min_samples_split=10 \n",
      "[CV]  criterion=gini, max_depth=4, min_samples_leaf=6, min_samples_split=10, score=0.32559203998219677, total=   0.2s\n",
      "[CV] criterion=gini, max_depth=4, min_samples_leaf=6, min_samples_split=10 \n",
      "[CV]  criterion=gini, max_depth=4, min_samples_leaf=6, min_samples_split=10, score=0.30566810062330924, total=   0.2s\n",
      "[CV] criterion=gini, max_depth=4, min_samples_leaf=6, min_samples_split=10 \n"
     ]
    },
    {
     "name": "stderr",
     "output_type": "stream",
     "text": [
      "/anaconda3/lib/python3.7/site-packages/sklearn/metrics/classification.py:1143: UndefinedMetricWarning: F-score is ill-defined and being set to 0.0 in labels with no predicted samples.\n",
      "  'precision', 'predicted', average, warn_for)\n",
      "/anaconda3/lib/python3.7/site-packages/sklearn/metrics/classification.py:1143: UndefinedMetricWarning: F-score is ill-defined and being set to 0.0 in labels with no predicted samples.\n",
      "  'precision', 'predicted', average, warn_for)\n"
     ]
    },
    {
     "name": "stdout",
     "output_type": "stream",
     "text": [
      "[CV]  criterion=gini, max_depth=4, min_samples_leaf=6, min_samples_split=10, score=0.32215423613704464, total=   0.2s\n",
      "[CV] criterion=gini, max_depth=5, min_samples_leaf=1, min_samples_split=2 \n",
      "[CV]  criterion=gini, max_depth=5, min_samples_leaf=1, min_samples_split=2, score=0.3224184566741388, total=   0.2s\n",
      "[CV] criterion=gini, max_depth=5, min_samples_leaf=1, min_samples_split=2 \n",
      "[CV]  criterion=gini, max_depth=5, min_samples_leaf=1, min_samples_split=2, score=0.3175474311060222, total=   0.3s\n",
      "[CV] criterion=gini, max_depth=5, min_samples_leaf=1, min_samples_split=2 \n",
      "[CV]  criterion=gini, max_depth=5, min_samples_leaf=1, min_samples_split=2, score=0.3121701379742042, total=   0.3s\n",
      "[CV] criterion=gini, max_depth=5, min_samples_leaf=1, min_samples_split=5 \n",
      "[CV]  criterion=gini, max_depth=5, min_samples_leaf=1, min_samples_split=5, score=0.3224184566741388, total=   0.2s\n",
      "[CV] criterion=gini, max_depth=5, min_samples_leaf=1, min_samples_split=5 \n",
      "[CV]  criterion=gini, max_depth=5, min_samples_leaf=1, min_samples_split=5, score=0.3173613469815099, total=   0.3s\n",
      "[CV] criterion=gini, max_depth=5, min_samples_leaf=1, min_samples_split=5 \n",
      "[CV]  criterion=gini, max_depth=5, min_samples_leaf=1, min_samples_split=5, score=0.3121701379742042, total=   0.2s\n",
      "[CV] criterion=gini, max_depth=5, min_samples_leaf=1, min_samples_split=10 \n",
      "[CV]  criterion=gini, max_depth=5, min_samples_leaf=1, min_samples_split=10, score=0.3224184566741388, total=   0.3s\n",
      "[CV] criterion=gini, max_depth=5, min_samples_leaf=1, min_samples_split=10 \n",
      "[CV]  criterion=gini, max_depth=5, min_samples_leaf=1, min_samples_split=10, score=0.3175474311060222, total=   0.2s\n",
      "[CV] criterion=gini, max_depth=5, min_samples_leaf=1, min_samples_split=10 \n",
      "[CV]  criterion=gini, max_depth=5, min_samples_leaf=1, min_samples_split=10, score=0.3121701379742042, total=   0.2s\n",
      "[CV] criterion=gini, max_depth=5, min_samples_leaf=2, min_samples_split=2 \n",
      "[CV]  criterion=gini, max_depth=5, min_samples_leaf=2, min_samples_split=2, score=0.3224184566741388, total=   0.3s\n",
      "[CV] criterion=gini, max_depth=5, min_samples_leaf=2, min_samples_split=2 \n",
      "[CV]  criterion=gini, max_depth=5, min_samples_leaf=2, min_samples_split=2, score=0.3175474311060222, total=   0.2s\n",
      "[CV] criterion=gini, max_depth=5, min_samples_leaf=2, min_samples_split=2 \n",
      "[CV]  criterion=gini, max_depth=5, min_samples_leaf=2, min_samples_split=2, score=0.3121701379742042, total=   0.3s\n",
      "[CV] criterion=gini, max_depth=5, min_samples_leaf=2, min_samples_split=5 \n",
      "[CV]  criterion=gini, max_depth=5, min_samples_leaf=2, min_samples_split=5, score=0.3224184566741388, total=   0.2s\n",
      "[CV] criterion=gini, max_depth=5, min_samples_leaf=2, min_samples_split=5 \n",
      "[CV]  criterion=gini, max_depth=5, min_samples_leaf=2, min_samples_split=5, score=0.3175474311060222, total=   0.2s\n",
      "[CV] criterion=gini, max_depth=5, min_samples_leaf=2, min_samples_split=5 \n",
      "[CV]  criterion=gini, max_depth=5, min_samples_leaf=2, min_samples_split=5, score=0.3121701379742042, total=   0.2s\n",
      "[CV] criterion=gini, max_depth=5, min_samples_leaf=2, min_samples_split=10 \n",
      "[CV]  criterion=gini, max_depth=5, min_samples_leaf=2, min_samples_split=10, score=0.3224184566741388, total=   0.2s\n",
      "[CV] criterion=gini, max_depth=5, min_samples_leaf=2, min_samples_split=10 \n",
      "[CV]  criterion=gini, max_depth=5, min_samples_leaf=2, min_samples_split=10, score=0.3175474311060222, total=   0.2s\n",
      "[CV] criterion=gini, max_depth=5, min_samples_leaf=2, min_samples_split=10 \n",
      "[CV]  criterion=gini, max_depth=5, min_samples_leaf=2, min_samples_split=10, score=0.3121701379742042, total=   0.2s\n",
      "[CV] criterion=gini, max_depth=5, min_samples_leaf=3, min_samples_split=2 \n",
      "[CV]  criterion=gini, max_depth=5, min_samples_leaf=3, min_samples_split=2, score=0.3224184566741388, total=   0.2s\n",
      "[CV] criterion=gini, max_depth=5, min_samples_leaf=3, min_samples_split=2 \n",
      "[CV]  criterion=gini, max_depth=5, min_samples_leaf=3, min_samples_split=2, score=0.3175474311060222, total=   0.2s\n",
      "[CV] criterion=gini, max_depth=5, min_samples_leaf=3, min_samples_split=2 \n",
      "[CV]  criterion=gini, max_depth=5, min_samples_leaf=3, min_samples_split=2, score=0.3121701379742042, total=   0.2s\n",
      "[CV] criterion=gini, max_depth=5, min_samples_leaf=3, min_samples_split=5 \n",
      "[CV]  criterion=gini, max_depth=5, min_samples_leaf=3, min_samples_split=5, score=0.3224184566741388, total=   0.2s\n",
      "[CV] criterion=gini, max_depth=5, min_samples_leaf=3, min_samples_split=5 \n",
      "[CV]  criterion=gini, max_depth=5, min_samples_leaf=3, min_samples_split=5, score=0.3175474311060222, total=   0.2s\n",
      "[CV] criterion=gini, max_depth=5, min_samples_leaf=3, min_samples_split=5 \n",
      "[CV]  criterion=gini, max_depth=5, min_samples_leaf=3, min_samples_split=5, score=0.3121701379742042, total=   0.2s\n",
      "[CV] criterion=gini, max_depth=5, min_samples_leaf=3, min_samples_split=10 \n",
      "[CV]  criterion=gini, max_depth=5, min_samples_leaf=3, min_samples_split=10, score=0.3224184566741388, total=   0.2s\n",
      "[CV] criterion=gini, max_depth=5, min_samples_leaf=3, min_samples_split=10 \n",
      "[CV]  criterion=gini, max_depth=5, min_samples_leaf=3, min_samples_split=10, score=0.3175474311060222, total=   0.2s\n",
      "[CV] criterion=gini, max_depth=5, min_samples_leaf=3, min_samples_split=10 \n",
      "[CV]  criterion=gini, max_depth=5, min_samples_leaf=3, min_samples_split=10, score=0.3121701379742042, total=   0.2s\n",
      "[CV] criterion=gini, max_depth=5, min_samples_leaf=4, min_samples_split=2 \n",
      "[CV]  criterion=gini, max_depth=5, min_samples_leaf=4, min_samples_split=2, score=0.3224116020147326, total=   0.2s\n",
      "[CV] criterion=gini, max_depth=5, min_samples_leaf=4, min_samples_split=2 \n",
      "[CV]  criterion=gini, max_depth=5, min_samples_leaf=4, min_samples_split=2, score=0.3175474311060222, total=   0.2s\n",
      "[CV] criterion=gini, max_depth=5, min_samples_leaf=4, min_samples_split=2 \n",
      "[CV]  criterion=gini, max_depth=5, min_samples_leaf=4, min_samples_split=2, score=0.3121701379742042, total=   0.2s\n",
      "[CV] criterion=gini, max_depth=5, min_samples_leaf=4, min_samples_split=5 \n",
      "[CV]  criterion=gini, max_depth=5, min_samples_leaf=4, min_samples_split=5, score=0.3224116020147326, total=   0.2s\n",
      "[CV] criterion=gini, max_depth=5, min_samples_leaf=4, min_samples_split=5 \n",
      "[CV]  criterion=gini, max_depth=5, min_samples_leaf=4, min_samples_split=5, score=0.3175474311060222, total=   0.2s\n",
      "[CV] criterion=gini, max_depth=5, min_samples_leaf=4, min_samples_split=5 \n",
      "[CV]  criterion=gini, max_depth=5, min_samples_leaf=4, min_samples_split=5, score=0.3121701379742042, total=   0.3s\n",
      "[CV] criterion=gini, max_depth=5, min_samples_leaf=4, min_samples_split=10 \n",
      "[CV]  criterion=gini, max_depth=5, min_samples_leaf=4, min_samples_split=10, score=0.3224116020147326, total=   0.2s\n",
      "[CV] criterion=gini, max_depth=5, min_samples_leaf=4, min_samples_split=10 \n",
      "[CV]  criterion=gini, max_depth=5, min_samples_leaf=4, min_samples_split=10, score=0.3175474311060222, total=   0.2s\n",
      "[CV] criterion=gini, max_depth=5, min_samples_leaf=4, min_samples_split=10 \n",
      "[CV]  criterion=gini, max_depth=5, min_samples_leaf=4, min_samples_split=10, score=0.3121701379742042, total=   0.2s\n",
      "[CV] criterion=gini, max_depth=5, min_samples_leaf=5, min_samples_split=2 \n",
      "[CV]  criterion=gini, max_depth=5, min_samples_leaf=5, min_samples_split=2, score=0.3224116020147326, total=   0.2s\n",
      "[CV] criterion=gini, max_depth=5, min_samples_leaf=5, min_samples_split=2 \n",
      "[CV]  criterion=gini, max_depth=5, min_samples_leaf=5, min_samples_split=2, score=0.3175474311060222, total=   0.2s\n",
      "[CV] criterion=gini, max_depth=5, min_samples_leaf=5, min_samples_split=2 \n",
      "[CV]  criterion=gini, max_depth=5, min_samples_leaf=5, min_samples_split=2, score=0.3121701379742042, total=   0.2s\n",
      "[CV] criterion=gini, max_depth=5, min_samples_leaf=5, min_samples_split=5 \n",
      "[CV]  criterion=gini, max_depth=5, min_samples_leaf=5, min_samples_split=5, score=0.3224116020147326, total=   0.2s\n",
      "[CV] criterion=gini, max_depth=5, min_samples_leaf=5, min_samples_split=5 \n",
      "[CV]  criterion=gini, max_depth=5, min_samples_leaf=5, min_samples_split=5, score=0.3175474311060222, total=   0.2s\n",
      "[CV] criterion=gini, max_depth=5, min_samples_leaf=5, min_samples_split=5 \n",
      "[CV]  criterion=gini, max_depth=5, min_samples_leaf=5, min_samples_split=5, score=0.3121701379742042, total=   0.2s\n",
      "[CV] criterion=gini, max_depth=5, min_samples_leaf=5, min_samples_split=10 \n"
     ]
    },
    {
     "name": "stdout",
     "output_type": "stream",
     "text": [
      "[CV]  criterion=gini, max_depth=5, min_samples_leaf=5, min_samples_split=10, score=0.3224116020147326, total=   0.2s\n",
      "[CV] criterion=gini, max_depth=5, min_samples_leaf=5, min_samples_split=10 \n",
      "[CV]  criterion=gini, max_depth=5, min_samples_leaf=5, min_samples_split=10, score=0.3175474311060222, total=   0.3s\n",
      "[CV] criterion=gini, max_depth=5, min_samples_leaf=5, min_samples_split=10 \n",
      "[CV]  criterion=gini, max_depth=5, min_samples_leaf=5, min_samples_split=10, score=0.3121701379742042, total=   0.3s\n",
      "[CV] criterion=gini, max_depth=5, min_samples_leaf=6, min_samples_split=2 \n",
      "[CV]  criterion=gini, max_depth=5, min_samples_leaf=6, min_samples_split=2, score=0.3224116020147326, total=   0.2s\n",
      "[CV] criterion=gini, max_depth=5, min_samples_leaf=6, min_samples_split=2 \n",
      "[CV]  criterion=gini, max_depth=5, min_samples_leaf=6, min_samples_split=2, score=0.3175474311060222, total=   0.2s\n",
      "[CV] criterion=gini, max_depth=5, min_samples_leaf=6, min_samples_split=2 \n",
      "[CV]  criterion=gini, max_depth=5, min_samples_leaf=6, min_samples_split=2, score=0.3121701379742042, total=   0.2s\n",
      "[CV] criterion=gini, max_depth=5, min_samples_leaf=6, min_samples_split=5 \n",
      "[CV]  criterion=gini, max_depth=5, min_samples_leaf=6, min_samples_split=5, score=0.3224116020147326, total=   0.2s\n",
      "[CV] criterion=gini, max_depth=5, min_samples_leaf=6, min_samples_split=5 \n",
      "[CV]  criterion=gini, max_depth=5, min_samples_leaf=6, min_samples_split=5, score=0.3175474311060222, total=   0.2s\n",
      "[CV] criterion=gini, max_depth=5, min_samples_leaf=6, min_samples_split=5 \n",
      "[CV]  criterion=gini, max_depth=5, min_samples_leaf=6, min_samples_split=5, score=0.3121701379742042, total=   0.4s\n",
      "[CV] criterion=gini, max_depth=5, min_samples_leaf=6, min_samples_split=10 \n",
      "[CV]  criterion=gini, max_depth=5, min_samples_leaf=6, min_samples_split=10, score=0.3224116020147326, total=   0.3s\n",
      "[CV] criterion=gini, max_depth=5, min_samples_leaf=6, min_samples_split=10 \n",
      "[CV]  criterion=gini, max_depth=5, min_samples_leaf=6, min_samples_split=10, score=0.3175474311060222, total=   0.3s\n",
      "[CV] criterion=gini, max_depth=5, min_samples_leaf=6, min_samples_split=10 \n",
      "[CV]  criterion=gini, max_depth=5, min_samples_leaf=6, min_samples_split=10, score=0.3121701379742042, total=   0.2s\n",
      "[CV] criterion=gini, max_depth=6, min_samples_leaf=1, min_samples_split=2 \n",
      "[CV]  criterion=gini, max_depth=6, min_samples_leaf=1, min_samples_split=2, score=0.32913326702679807, total=   0.4s\n",
      "[CV] criterion=gini, max_depth=6, min_samples_leaf=1, min_samples_split=2 \n",
      "[CV]  criterion=gini, max_depth=6, min_samples_leaf=1, min_samples_split=2, score=0.317039422790656, total=   0.2s\n",
      "[CV] criterion=gini, max_depth=6, min_samples_leaf=1, min_samples_split=2 \n",
      "[CV]  criterion=gini, max_depth=6, min_samples_leaf=1, min_samples_split=2, score=0.3278262742306477, total=   0.2s\n",
      "[CV] criterion=gini, max_depth=6, min_samples_leaf=1, min_samples_split=5 \n",
      "[CV]  criterion=gini, max_depth=6, min_samples_leaf=1, min_samples_split=5, score=0.32913326702679807, total=   0.2s\n",
      "[CV] criterion=gini, max_depth=6, min_samples_leaf=1, min_samples_split=5 \n",
      "[CV]  criterion=gini, max_depth=6, min_samples_leaf=1, min_samples_split=5, score=0.3172217841856874, total=   0.3s\n",
      "[CV] criterion=gini, max_depth=6, min_samples_leaf=1, min_samples_split=5 \n",
      "[CV]  criterion=gini, max_depth=6, min_samples_leaf=1, min_samples_split=5, score=0.3278262742306477, total=   0.2s\n",
      "[CV] criterion=gini, max_depth=6, min_samples_leaf=1, min_samples_split=10 \n",
      "[CV]  criterion=gini, max_depth=6, min_samples_leaf=1, min_samples_split=10, score=0.32913326702679807, total=   0.3s\n",
      "[CV] criterion=gini, max_depth=6, min_samples_leaf=1, min_samples_split=10 \n",
      "[CV]  criterion=gini, max_depth=6, min_samples_leaf=1, min_samples_split=10, score=0.31756178643995187, total=   0.3s\n",
      "[CV] criterion=gini, max_depth=6, min_samples_leaf=1, min_samples_split=10 \n",
      "[CV]  criterion=gini, max_depth=6, min_samples_leaf=1, min_samples_split=10, score=0.3278262742306477, total=   0.3s\n",
      "[CV] criterion=gini, max_depth=6, min_samples_leaf=2, min_samples_split=2 \n",
      "[CV]  criterion=gini, max_depth=6, min_samples_leaf=2, min_samples_split=2, score=0.32914019149390183, total=   0.4s\n",
      "[CV] criterion=gini, max_depth=6, min_samples_leaf=2, min_samples_split=2 \n",
      "[CV]  criterion=gini, max_depth=6, min_samples_leaf=2, min_samples_split=2, score=0.317743790235058, total=   0.3s\n",
      "[CV] criterion=gini, max_depth=6, min_samples_leaf=2, min_samples_split=2 \n",
      "[CV]  criterion=gini, max_depth=6, min_samples_leaf=2, min_samples_split=2, score=0.3278262742306477, total=   0.2s\n",
      "[CV] criterion=gini, max_depth=6, min_samples_leaf=2, min_samples_split=5 \n",
      "[CV]  criterion=gini, max_depth=6, min_samples_leaf=2, min_samples_split=5, score=0.32914019149390183, total=   0.5s\n",
      "[CV] criterion=gini, max_depth=6, min_samples_leaf=2, min_samples_split=5 \n",
      "[CV]  criterion=gini, max_depth=6, min_samples_leaf=2, min_samples_split=5, score=0.317743790235058, total=   0.3s\n",
      "[CV] criterion=gini, max_depth=6, min_samples_leaf=2, min_samples_split=5 \n",
      "[CV]  criterion=gini, max_depth=6, min_samples_leaf=2, min_samples_split=5, score=0.3278262742306477, total=   0.2s\n",
      "[CV] criterion=gini, max_depth=6, min_samples_leaf=2, min_samples_split=10 \n",
      "[CV]  criterion=gini, max_depth=6, min_samples_leaf=2, min_samples_split=10, score=0.32914019149390183, total=   0.3s\n",
      "[CV] criterion=gini, max_depth=6, min_samples_leaf=2, min_samples_split=10 \n",
      "[CV]  criterion=gini, max_depth=6, min_samples_leaf=2, min_samples_split=10, score=0.317743790235058, total=   0.3s\n",
      "[CV] criterion=gini, max_depth=6, min_samples_leaf=2, min_samples_split=10 \n",
      "[CV]  criterion=gini, max_depth=6, min_samples_leaf=2, min_samples_split=10, score=0.3278262742306477, total=   0.4s\n",
      "[CV] criterion=gini, max_depth=6, min_samples_leaf=3, min_samples_split=2 \n",
      "[CV]  criterion=gini, max_depth=6, min_samples_leaf=3, min_samples_split=2, score=0.3290979871217525, total=   0.2s\n",
      "[CV] criterion=gini, max_depth=6, min_samples_leaf=3, min_samples_split=2 \n",
      "[CV]  criterion=gini, max_depth=6, min_samples_leaf=3, min_samples_split=2, score=0.317743790235058, total=   0.5s\n",
      "[CV] criterion=gini, max_depth=6, min_samples_leaf=3, min_samples_split=2 \n",
      "[CV]  criterion=gini, max_depth=6, min_samples_leaf=3, min_samples_split=2, score=0.3278262742306477, total=   0.7s\n",
      "[CV] criterion=gini, max_depth=6, min_samples_leaf=3, min_samples_split=5 \n",
      "[CV]  criterion=gini, max_depth=6, min_samples_leaf=3, min_samples_split=5, score=0.3290979871217525, total=   0.8s\n",
      "[CV] criterion=gini, max_depth=6, min_samples_leaf=3, min_samples_split=5 \n",
      "[CV]  criterion=gini, max_depth=6, min_samples_leaf=3, min_samples_split=5, score=0.317743790235058, total=   0.5s\n",
      "[CV] criterion=gini, max_depth=6, min_samples_leaf=3, min_samples_split=5 \n",
      "[CV]  criterion=gini, max_depth=6, min_samples_leaf=3, min_samples_split=5, score=0.3278262742306477, total=   0.5s\n",
      "[CV] criterion=gini, max_depth=6, min_samples_leaf=3, min_samples_split=10 \n",
      "[CV]  criterion=gini, max_depth=6, min_samples_leaf=3, min_samples_split=10, score=0.3290979871217525, total=   0.6s\n",
      "[CV] criterion=gini, max_depth=6, min_samples_leaf=3, min_samples_split=10 \n",
      "[CV]  criterion=gini, max_depth=6, min_samples_leaf=3, min_samples_split=10, score=0.317743790235058, total=   0.5s\n",
      "[CV] criterion=gini, max_depth=6, min_samples_leaf=3, min_samples_split=10 \n",
      "[CV]  criterion=gini, max_depth=6, min_samples_leaf=3, min_samples_split=10, score=0.3278262742306477, total=   0.3s\n",
      "[CV] criterion=gini, max_depth=6, min_samples_leaf=4, min_samples_split=2 \n",
      "[CV]  criterion=gini, max_depth=6, min_samples_leaf=4, min_samples_split=2, score=0.32894069628218825, total=   0.5s\n",
      "[CV] criterion=gini, max_depth=6, min_samples_leaf=4, min_samples_split=2 \n",
      "[CV]  criterion=gini, max_depth=6, min_samples_leaf=4, min_samples_split=2, score=0.317743790235058, total=   0.3s\n",
      "[CV] criterion=gini, max_depth=6, min_samples_leaf=4, min_samples_split=2 \n",
      "[CV]  criterion=gini, max_depth=6, min_samples_leaf=4, min_samples_split=2, score=0.3278262742306477, total=   0.3s\n",
      "[CV] criterion=gini, max_depth=6, min_samples_leaf=4, min_samples_split=5 \n",
      "[CV]  criterion=gini, max_depth=6, min_samples_leaf=4, min_samples_split=5, score=0.32894069628218825, total=   0.3s\n",
      "[CV] criterion=gini, max_depth=6, min_samples_leaf=4, min_samples_split=5 \n"
     ]
    },
    {
     "name": "stdout",
     "output_type": "stream",
     "text": [
      "[CV]  criterion=gini, max_depth=6, min_samples_leaf=4, min_samples_split=5, score=0.317743790235058, total=   0.4s\n",
      "[CV] criterion=gini, max_depth=6, min_samples_leaf=4, min_samples_split=5 \n",
      "[CV]  criterion=gini, max_depth=6, min_samples_leaf=4, min_samples_split=5, score=0.3278262742306477, total=   0.3s\n",
      "[CV] criterion=gini, max_depth=6, min_samples_leaf=4, min_samples_split=10 \n",
      "[CV]  criterion=gini, max_depth=6, min_samples_leaf=4, min_samples_split=10, score=0.32894069628218825, total=   0.5s\n",
      "[CV] criterion=gini, max_depth=6, min_samples_leaf=4, min_samples_split=10 \n",
      "[CV]  criterion=gini, max_depth=6, min_samples_leaf=4, min_samples_split=10, score=0.317743790235058, total=   0.3s\n",
      "[CV] criterion=gini, max_depth=6, min_samples_leaf=4, min_samples_split=10 \n",
      "[CV]  criterion=gini, max_depth=6, min_samples_leaf=4, min_samples_split=10, score=0.3278262742306477, total=   0.3s\n",
      "[CV] criterion=gini, max_depth=6, min_samples_leaf=5, min_samples_split=2 \n",
      "[CV]  criterion=gini, max_depth=6, min_samples_leaf=5, min_samples_split=2, score=0.32894069628218825, total=   0.5s\n",
      "[CV] criterion=gini, max_depth=6, min_samples_leaf=5, min_samples_split=2 \n",
      "[CV]  criterion=gini, max_depth=6, min_samples_leaf=5, min_samples_split=2, score=0.317743790235058, total=   0.3s\n",
      "[CV] criterion=gini, max_depth=6, min_samples_leaf=5, min_samples_split=2 \n",
      "[CV]  criterion=gini, max_depth=6, min_samples_leaf=5, min_samples_split=2, score=0.32782472023694775, total=   0.4s\n",
      "[CV] criterion=gini, max_depth=6, min_samples_leaf=5, min_samples_split=5 \n",
      "[CV]  criterion=gini, max_depth=6, min_samples_leaf=5, min_samples_split=5, score=0.32894069628218825, total=   0.4s\n",
      "[CV] criterion=gini, max_depth=6, min_samples_leaf=5, min_samples_split=5 \n",
      "[CV]  criterion=gini, max_depth=6, min_samples_leaf=5, min_samples_split=5, score=0.317743790235058, total=   0.3s\n",
      "[CV] criterion=gini, max_depth=6, min_samples_leaf=5, min_samples_split=5 \n",
      "[CV]  criterion=gini, max_depth=6, min_samples_leaf=5, min_samples_split=5, score=0.32782472023694775, total=   0.3s\n",
      "[CV] criterion=gini, max_depth=6, min_samples_leaf=5, min_samples_split=10 \n",
      "[CV]  criterion=gini, max_depth=6, min_samples_leaf=5, min_samples_split=10, score=0.32894069628218825, total=   0.3s\n",
      "[CV] criterion=gini, max_depth=6, min_samples_leaf=5, min_samples_split=10 \n",
      "[CV]  criterion=gini, max_depth=6, min_samples_leaf=5, min_samples_split=10, score=0.317743790235058, total=   0.3s\n",
      "[CV] criterion=gini, max_depth=6, min_samples_leaf=5, min_samples_split=10 \n",
      "[CV]  criterion=gini, max_depth=6, min_samples_leaf=5, min_samples_split=10, score=0.32782472023694775, total=   0.5s\n",
      "[CV] criterion=gini, max_depth=6, min_samples_leaf=6, min_samples_split=2 \n",
      "[CV]  criterion=gini, max_depth=6, min_samples_leaf=6, min_samples_split=2, score=0.32894069628218825, total=   0.4s\n",
      "[CV] criterion=gini, max_depth=6, min_samples_leaf=6, min_samples_split=2 \n",
      "[CV]  criterion=gini, max_depth=6, min_samples_leaf=6, min_samples_split=2, score=0.317743790235058, total=   0.3s\n",
      "[CV] criterion=gini, max_depth=6, min_samples_leaf=6, min_samples_split=2 \n",
      "[CV]  criterion=gini, max_depth=6, min_samples_leaf=6, min_samples_split=2, score=0.3278262742306477, total=   0.4s\n",
      "[CV] criterion=gini, max_depth=6, min_samples_leaf=6, min_samples_split=5 \n",
      "[CV]  criterion=gini, max_depth=6, min_samples_leaf=6, min_samples_split=5, score=0.32894069628218825, total=   0.3s\n",
      "[CV] criterion=gini, max_depth=6, min_samples_leaf=6, min_samples_split=5 \n",
      "[CV]  criterion=gini, max_depth=6, min_samples_leaf=6, min_samples_split=5, score=0.317743790235058, total=   0.4s\n",
      "[CV] criterion=gini, max_depth=6, min_samples_leaf=6, min_samples_split=5 \n",
      "[CV]  criterion=gini, max_depth=6, min_samples_leaf=6, min_samples_split=5, score=0.3278262742306477, total=   0.3s\n",
      "[CV] criterion=gini, max_depth=6, min_samples_leaf=6, min_samples_split=10 \n",
      "[CV]  criterion=gini, max_depth=6, min_samples_leaf=6, min_samples_split=10, score=0.32894069628218825, total=   0.2s\n",
      "[CV] criterion=gini, max_depth=6, min_samples_leaf=6, min_samples_split=10 \n",
      "[CV]  criterion=gini, max_depth=6, min_samples_leaf=6, min_samples_split=10, score=0.317743790235058, total=   0.2s\n",
      "[CV] criterion=gini, max_depth=6, min_samples_leaf=6, min_samples_split=10 \n",
      "[CV]  criterion=gini, max_depth=6, min_samples_leaf=6, min_samples_split=10, score=0.3278262742306477, total=   0.3s\n",
      "[CV] criterion=entropy, max_depth=None, min_samples_leaf=1, min_samples_split=2 \n",
      "[CV]  criterion=entropy, max_depth=None, min_samples_leaf=1, min_samples_split=2, score=0.3488365441045973, total=   1.3s\n",
      "[CV] criterion=entropy, max_depth=None, min_samples_leaf=1, min_samples_split=2 \n",
      "[CV]  criterion=entropy, max_depth=None, min_samples_leaf=1, min_samples_split=2, score=0.3501098202343929, total=   1.3s\n",
      "[CV] criterion=entropy, max_depth=None, min_samples_leaf=1, min_samples_split=2 \n",
      "[CV]  criterion=entropy, max_depth=None, min_samples_leaf=1, min_samples_split=2, score=0.3502305068528954, total=   1.7s\n",
      "[CV] criterion=entropy, max_depth=None, min_samples_leaf=1, min_samples_split=5 \n",
      "[CV]  criterion=entropy, max_depth=None, min_samples_leaf=1, min_samples_split=5, score=0.344738160979669, total=   1.4s\n",
      "[CV] criterion=entropy, max_depth=None, min_samples_leaf=1, min_samples_split=5 \n",
      "[CV]  criterion=entropy, max_depth=None, min_samples_leaf=1, min_samples_split=5, score=0.3498981534177013, total=   1.2s\n",
      "[CV] criterion=entropy, max_depth=None, min_samples_leaf=1, min_samples_split=5 \n",
      "[CV]  criterion=entropy, max_depth=None, min_samples_leaf=1, min_samples_split=5, score=0.3481384496747936, total=   1.3s\n",
      "[CV] criterion=entropy, max_depth=None, min_samples_leaf=1, min_samples_split=10 \n",
      "[CV]  criterion=entropy, max_depth=None, min_samples_leaf=1, min_samples_split=10, score=0.3504462144009031, total=   1.1s\n",
      "[CV] criterion=entropy, max_depth=None, min_samples_leaf=1, min_samples_split=10 \n",
      "[CV]  criterion=entropy, max_depth=None, min_samples_leaf=1, min_samples_split=10, score=0.35323082940122447, total=   1.2s\n",
      "[CV] criterion=entropy, max_depth=None, min_samples_leaf=1, min_samples_split=10 \n",
      "[CV]  criterion=entropy, max_depth=None, min_samples_leaf=1, min_samples_split=10, score=0.34765134111160956, total=   1.2s\n",
      "[CV] criterion=entropy, max_depth=None, min_samples_leaf=2, min_samples_split=2 \n",
      "[CV]  criterion=entropy, max_depth=None, min_samples_leaf=2, min_samples_split=2, score=0.34312124330601357, total=   2.3s\n",
      "[CV] criterion=entropy, max_depth=None, min_samples_leaf=2, min_samples_split=2 \n",
      "[CV]  criterion=entropy, max_depth=None, min_samples_leaf=2, min_samples_split=2, score=0.34955298935341966, total=   1.6s\n",
      "[CV] criterion=entropy, max_depth=None, min_samples_leaf=2, min_samples_split=2 \n",
      "[CV]  criterion=entropy, max_depth=None, min_samples_leaf=2, min_samples_split=2, score=0.35127455989164696, total=   1.2s\n",
      "[CV] criterion=entropy, max_depth=None, min_samples_leaf=2, min_samples_split=5 \n",
      "[CV]  criterion=entropy, max_depth=None, min_samples_leaf=2, min_samples_split=5, score=0.34390869802262164, total=   1.1s\n",
      "[CV] criterion=entropy, max_depth=None, min_samples_leaf=2, min_samples_split=5 \n",
      "[CV]  criterion=entropy, max_depth=None, min_samples_leaf=2, min_samples_split=5, score=0.34736295213382345, total=   1.1s\n",
      "[CV] criterion=entropy, max_depth=None, min_samples_leaf=2, min_samples_split=5 \n",
      "[CV]  criterion=entropy, max_depth=None, min_samples_leaf=2, min_samples_split=5, score=0.34702190951272227, total=   1.2s\n",
      "[CV] criterion=entropy, max_depth=None, min_samples_leaf=2, min_samples_split=10 \n",
      "[CV]  criterion=entropy, max_depth=None, min_samples_leaf=2, min_samples_split=10, score=0.3511769042871551, total=   1.2s\n",
      "[CV] criterion=entropy, max_depth=None, min_samples_leaf=2, min_samples_split=10 \n",
      "[CV]  criterion=entropy, max_depth=None, min_samples_leaf=2, min_samples_split=10, score=0.3503752688908535, total=   1.3s\n",
      "[CV] criterion=entropy, max_depth=None, min_samples_leaf=2, min_samples_split=10 \n",
      "[CV]  criterion=entropy, max_depth=None, min_samples_leaf=2, min_samples_split=10, score=0.3472056520079379, total=   1.7s\n",
      "[CV] criterion=entropy, max_depth=None, min_samples_leaf=3, min_samples_split=2 \n",
      "[CV]  criterion=entropy, max_depth=None, min_samples_leaf=3, min_samples_split=2, score=0.34549145578799373, total=   1.4s\n",
      "[CV] criterion=entropy, max_depth=None, min_samples_leaf=3, min_samples_split=2 \n"
     ]
    },
    {
     "name": "stdout",
     "output_type": "stream",
     "text": [
      "[CV]  criterion=entropy, max_depth=None, min_samples_leaf=3, min_samples_split=2, score=0.35027110796305944, total=   1.5s\n",
      "[CV] criterion=entropy, max_depth=None, min_samples_leaf=3, min_samples_split=2 \n",
      "[CV]  criterion=entropy, max_depth=None, min_samples_leaf=3, min_samples_split=2, score=0.34927013722258743, total=   1.2s\n",
      "[CV] criterion=entropy, max_depth=None, min_samples_leaf=3, min_samples_split=5 \n",
      "[CV]  criterion=entropy, max_depth=None, min_samples_leaf=3, min_samples_split=5, score=0.34417142457392763, total=   1.2s\n",
      "[CV] criterion=entropy, max_depth=None, min_samples_leaf=3, min_samples_split=5 \n",
      "[CV]  criterion=entropy, max_depth=None, min_samples_leaf=3, min_samples_split=5, score=0.35079578465877764, total=   1.4s\n",
      "[CV] criterion=entropy, max_depth=None, min_samples_leaf=3, min_samples_split=5 \n",
      "[CV]  criterion=entropy, max_depth=None, min_samples_leaf=3, min_samples_split=5, score=0.349902970696858, total=   1.4s\n",
      "[CV] criterion=entropy, max_depth=None, min_samples_leaf=3, min_samples_split=10 \n",
      "[CV]  criterion=entropy, max_depth=None, min_samples_leaf=3, min_samples_split=10, score=0.3484824690566699, total=   1.3s\n",
      "[CV] criterion=entropy, max_depth=None, min_samples_leaf=3, min_samples_split=10 \n",
      "[CV]  criterion=entropy, max_depth=None, min_samples_leaf=3, min_samples_split=10, score=0.35439696778973295, total=   1.1s\n",
      "[CV] criterion=entropy, max_depth=None, min_samples_leaf=3, min_samples_split=10 \n",
      "[CV]  criterion=entropy, max_depth=None, min_samples_leaf=3, min_samples_split=10, score=0.3504877271700517, total=   2.2s\n",
      "[CV] criterion=entropy, max_depth=None, min_samples_leaf=4, min_samples_split=2 \n",
      "[CV]  criterion=entropy, max_depth=None, min_samples_leaf=4, min_samples_split=2, score=0.3452188954695661, total=   1.5s\n",
      "[CV] criterion=entropy, max_depth=None, min_samples_leaf=4, min_samples_split=2 \n",
      "[CV]  criterion=entropy, max_depth=None, min_samples_leaf=4, min_samples_split=2, score=0.3493993169471919, total=   2.2s\n",
      "[CV] criterion=entropy, max_depth=None, min_samples_leaf=4, min_samples_split=2 \n",
      "[CV]  criterion=entropy, max_depth=None, min_samples_leaf=4, min_samples_split=2, score=0.349391241506201, total=   3.2s\n",
      "[CV] criterion=entropy, max_depth=None, min_samples_leaf=4, min_samples_split=5 \n",
      "[CV]  criterion=entropy, max_depth=None, min_samples_leaf=4, min_samples_split=5, score=0.34836349220456997, total=   1.6s\n",
      "[CV] criterion=entropy, max_depth=None, min_samples_leaf=4, min_samples_split=5 \n",
      "[CV]  criterion=entropy, max_depth=None, min_samples_leaf=4, min_samples_split=5, score=0.34934046850869077, total=   1.4s\n",
      "[CV] criterion=entropy, max_depth=None, min_samples_leaf=4, min_samples_split=5 \n",
      "[CV]  criterion=entropy, max_depth=None, min_samples_leaf=4, min_samples_split=5, score=0.3489040467328541, total=   1.4s\n",
      "[CV] criterion=entropy, max_depth=None, min_samples_leaf=4, min_samples_split=10 \n",
      "[CV]  criterion=entropy, max_depth=None, min_samples_leaf=4, min_samples_split=10, score=0.34987605368981906, total=   1.4s\n",
      "[CV] criterion=entropy, max_depth=None, min_samples_leaf=4, min_samples_split=10 \n",
      "[CV]  criterion=entropy, max_depth=None, min_samples_leaf=4, min_samples_split=10, score=0.3492499248488217, total=   1.2s\n",
      "[CV] criterion=entropy, max_depth=None, min_samples_leaf=4, min_samples_split=10 \n",
      "[CV]  criterion=entropy, max_depth=None, min_samples_leaf=4, min_samples_split=10, score=0.34885342210777565, total=   1.1s\n",
      "[CV] criterion=entropy, max_depth=None, min_samples_leaf=5, min_samples_split=2 \n",
      "[CV]  criterion=entropy, max_depth=None, min_samples_leaf=5, min_samples_split=2, score=0.3495163670619586, total=   1.2s\n",
      "[CV] criterion=entropy, max_depth=None, min_samples_leaf=5, min_samples_split=2 \n",
      "[CV]  criterion=entropy, max_depth=None, min_samples_leaf=5, min_samples_split=2, score=0.3535053578262674, total=   1.1s\n",
      "[CV] criterion=entropy, max_depth=None, min_samples_leaf=5, min_samples_split=2 \n",
      "[CV]  criterion=entropy, max_depth=None, min_samples_leaf=5, min_samples_split=2, score=0.34460926585916235, total=   1.1s\n",
      "[CV] criterion=entropy, max_depth=None, min_samples_leaf=5, min_samples_split=5 \n",
      "[CV]  criterion=entropy, max_depth=None, min_samples_leaf=5, min_samples_split=5, score=0.349482063644001, total=   1.1s\n",
      "[CV] criterion=entropy, max_depth=None, min_samples_leaf=5, min_samples_split=5 \n",
      "[CV]  criterion=entropy, max_depth=None, min_samples_leaf=5, min_samples_split=5, score=0.3535760621990182, total=   1.1s\n",
      "[CV] criterion=entropy, max_depth=None, min_samples_leaf=5, min_samples_split=5 \n",
      "[CV]  criterion=entropy, max_depth=None, min_samples_leaf=5, min_samples_split=5, score=0.3450259957482123, total=   1.1s\n",
      "[CV] criterion=entropy, max_depth=None, min_samples_leaf=5, min_samples_split=10 \n",
      "[CV]  criterion=entropy, max_depth=None, min_samples_leaf=5, min_samples_split=10, score=0.3497930957531581, total=   1.3s\n",
      "[CV] criterion=entropy, max_depth=None, min_samples_leaf=5, min_samples_split=10 \n",
      "[CV]  criterion=entropy, max_depth=None, min_samples_leaf=5, min_samples_split=10, score=0.3553035152944488, total=   1.3s\n",
      "[CV] criterion=entropy, max_depth=None, min_samples_leaf=5, min_samples_split=10 \n",
      "[CV]  criterion=entropy, max_depth=None, min_samples_leaf=5, min_samples_split=10, score=0.3450242128475196, total=   1.1s\n",
      "[CV] criterion=entropy, max_depth=None, min_samples_leaf=6, min_samples_split=2 \n",
      "[CV]  criterion=entropy, max_depth=None, min_samples_leaf=6, min_samples_split=2, score=0.35121615958687774, total=   1.1s\n",
      "[CV] criterion=entropy, max_depth=None, min_samples_leaf=6, min_samples_split=2 \n",
      "[CV]  criterion=entropy, max_depth=None, min_samples_leaf=6, min_samples_split=2, score=0.3550144701145556, total=   1.0s\n",
      "[CV] criterion=entropy, max_depth=None, min_samples_leaf=6, min_samples_split=2 \n",
      "[CV]  criterion=entropy, max_depth=None, min_samples_leaf=6, min_samples_split=2, score=0.3479457134622663, total=   1.1s\n",
      "[CV] criterion=entropy, max_depth=None, min_samples_leaf=6, min_samples_split=5 \n",
      "[CV]  criterion=entropy, max_depth=None, min_samples_leaf=6, min_samples_split=5, score=0.35310934664264765, total=   1.0s\n",
      "[CV] criterion=entropy, max_depth=None, min_samples_leaf=6, min_samples_split=5 \n",
      "[CV]  criterion=entropy, max_depth=None, min_samples_leaf=6, min_samples_split=5, score=0.35477350941112773, total=   1.0s\n",
      "[CV] criterion=entropy, max_depth=None, min_samples_leaf=6, min_samples_split=5 \n",
      "[CV]  criterion=entropy, max_depth=None, min_samples_leaf=6, min_samples_split=5, score=0.34777491505145197, total=   1.1s\n",
      "[CV] criterion=entropy, max_depth=None, min_samples_leaf=6, min_samples_split=10 \n",
      "[CV]  criterion=entropy, max_depth=None, min_samples_leaf=6, min_samples_split=10, score=0.35221230517324437, total=   1.1s\n",
      "[CV] criterion=entropy, max_depth=None, min_samples_leaf=6, min_samples_split=10 \n",
      "[CV]  criterion=entropy, max_depth=None, min_samples_leaf=6, min_samples_split=10, score=0.35402969861995426, total=   1.0s\n",
      "[CV] criterion=entropy, max_depth=None, min_samples_leaf=6, min_samples_split=10 \n",
      "[CV]  criterion=entropy, max_depth=None, min_samples_leaf=6, min_samples_split=10, score=0.34752967358113235, total=   1.1s\n",
      "[CV] criterion=entropy, max_depth=2, min_samples_leaf=1, min_samples_split=2 \n",
      "[CV]  criterion=entropy, max_depth=2, min_samples_leaf=1, min_samples_split=2, score=0.30305528209513494, total=   0.1s\n",
      "[CV] criterion=entropy, max_depth=2, min_samples_leaf=1, min_samples_split=2 \n"
     ]
    },
    {
     "name": "stderr",
     "output_type": "stream",
     "text": [
      "/anaconda3/lib/python3.7/site-packages/sklearn/metrics/classification.py:1143: UndefinedMetricWarning: F-score is ill-defined and being set to 0.0 in labels with no predicted samples.\n",
      "  'precision', 'predicted', average, warn_for)\n",
      "/anaconda3/lib/python3.7/site-packages/sklearn/metrics/classification.py:1143: UndefinedMetricWarning: F-score is ill-defined and being set to 0.0 in labels with no predicted samples.\n",
      "  'precision', 'predicted', average, warn_for)\n",
      "/anaconda3/lib/python3.7/site-packages/sklearn/metrics/classification.py:1143: UndefinedMetricWarning: F-score is ill-defined and being set to 0.0 in labels with no predicted samples.\n",
      "  'precision', 'predicted', average, warn_for)\n",
      "/anaconda3/lib/python3.7/site-packages/sklearn/metrics/classification.py:1143: UndefinedMetricWarning: F-score is ill-defined and being set to 0.0 in labels with no predicted samples.\n",
      "  'precision', 'predicted', average, warn_for)\n",
      "/anaconda3/lib/python3.7/site-packages/sklearn/metrics/classification.py:1143: UndefinedMetricWarning: F-score is ill-defined and being set to 0.0 in labels with no predicted samples.\n",
      "  'precision', 'predicted', average, warn_for)\n",
      "/anaconda3/lib/python3.7/site-packages/sklearn/metrics/classification.py:1143: UndefinedMetricWarning: F-score is ill-defined and being set to 0.0 in labels with no predicted samples.\n",
      "  'precision', 'predicted', average, warn_for)\n"
     ]
    },
    {
     "name": "stdout",
     "output_type": "stream",
     "text": [
      "[CV]  criterion=entropy, max_depth=2, min_samples_leaf=1, min_samples_split=2, score=0.283314787601014, total=   0.1s\n",
      "[CV] criterion=entropy, max_depth=2, min_samples_leaf=1, min_samples_split=2 \n",
      "[CV]  criterion=entropy, max_depth=2, min_samples_leaf=1, min_samples_split=2, score=0.29270034006816403, total=   0.1s\n",
      "[CV] criterion=entropy, max_depth=2, min_samples_leaf=1, min_samples_split=5 \n"
     ]
    },
    {
     "name": "stderr",
     "output_type": "stream",
     "text": [
      "/anaconda3/lib/python3.7/site-packages/sklearn/metrics/classification.py:1143: UndefinedMetricWarning: F-score is ill-defined and being set to 0.0 in labels with no predicted samples.\n",
      "  'precision', 'predicted', average, warn_for)\n",
      "/anaconda3/lib/python3.7/site-packages/sklearn/metrics/classification.py:1143: UndefinedMetricWarning: F-score is ill-defined and being set to 0.0 in labels with no predicted samples.\n",
      "  'precision', 'predicted', average, warn_for)\n",
      "/anaconda3/lib/python3.7/site-packages/sklearn/metrics/classification.py:1143: UndefinedMetricWarning: F-score is ill-defined and being set to 0.0 in labels with no predicted samples.\n",
      "  'precision', 'predicted', average, warn_for)\n",
      "/anaconda3/lib/python3.7/site-packages/sklearn/metrics/classification.py:1143: UndefinedMetricWarning: F-score is ill-defined and being set to 0.0 in labels with no predicted samples.\n",
      "  'precision', 'predicted', average, warn_for)\n"
     ]
    },
    {
     "name": "stdout",
     "output_type": "stream",
     "text": [
      "[CV]  criterion=entropy, max_depth=2, min_samples_leaf=1, min_samples_split=5, score=0.30305528209513494, total=   0.1s\n",
      "[CV] criterion=entropy, max_depth=2, min_samples_leaf=1, min_samples_split=5 \n",
      "[CV]  criterion=entropy, max_depth=2, min_samples_leaf=1, min_samples_split=5, score=0.283314787601014, total=   0.1s\n",
      "[CV] criterion=entropy, max_depth=2, min_samples_leaf=1, min_samples_split=5 \n"
     ]
    },
    {
     "name": "stderr",
     "output_type": "stream",
     "text": [
      "/anaconda3/lib/python3.7/site-packages/sklearn/metrics/classification.py:1143: UndefinedMetricWarning: F-score is ill-defined and being set to 0.0 in labels with no predicted samples.\n",
      "  'precision', 'predicted', average, warn_for)\n",
      "/anaconda3/lib/python3.7/site-packages/sklearn/metrics/classification.py:1143: UndefinedMetricWarning: F-score is ill-defined and being set to 0.0 in labels with no predicted samples.\n",
      "  'precision', 'predicted', average, warn_for)\n"
     ]
    },
    {
     "name": "stdout",
     "output_type": "stream",
     "text": [
      "[CV]  criterion=entropy, max_depth=2, min_samples_leaf=1, min_samples_split=5, score=0.29270034006816403, total=   0.1s\n",
      "[CV] criterion=entropy, max_depth=2, min_samples_leaf=1, min_samples_split=10 \n"
     ]
    },
    {
     "name": "stderr",
     "output_type": "stream",
     "text": [
      "/anaconda3/lib/python3.7/site-packages/sklearn/metrics/classification.py:1143: UndefinedMetricWarning: F-score is ill-defined and being set to 0.0 in labels with no predicted samples.\n",
      "  'precision', 'predicted', average, warn_for)\n",
      "/anaconda3/lib/python3.7/site-packages/sklearn/metrics/classification.py:1143: UndefinedMetricWarning: F-score is ill-defined and being set to 0.0 in labels with no predicted samples.\n",
      "  'precision', 'predicted', average, warn_for)\n",
      "/anaconda3/lib/python3.7/site-packages/sklearn/metrics/classification.py:1143: UndefinedMetricWarning: F-score is ill-defined and being set to 0.0 in labels with no predicted samples.\n",
      "  'precision', 'predicted', average, warn_for)\n",
      "/anaconda3/lib/python3.7/site-packages/sklearn/metrics/classification.py:1143: UndefinedMetricWarning: F-score is ill-defined and being set to 0.0 in labels with no predicted samples.\n",
      "  'precision', 'predicted', average, warn_for)\n"
     ]
    },
    {
     "name": "stdout",
     "output_type": "stream",
     "text": [
      "[CV]  criterion=entropy, max_depth=2, min_samples_leaf=1, min_samples_split=10, score=0.30305528209513494, total=   0.2s\n",
      "[CV] criterion=entropy, max_depth=2, min_samples_leaf=1, min_samples_split=10 \n",
      "[CV]  criterion=entropy, max_depth=2, min_samples_leaf=1, min_samples_split=10, score=0.283314787601014, total=   0.1s\n",
      "[CV] criterion=entropy, max_depth=2, min_samples_leaf=1, min_samples_split=10 \n"
     ]
    },
    {
     "name": "stderr",
     "output_type": "stream",
     "text": [
      "/anaconda3/lib/python3.7/site-packages/sklearn/metrics/classification.py:1143: UndefinedMetricWarning: F-score is ill-defined and being set to 0.0 in labels with no predicted samples.\n",
      "  'precision', 'predicted', average, warn_for)\n",
      "/anaconda3/lib/python3.7/site-packages/sklearn/metrics/classification.py:1143: UndefinedMetricWarning: F-score is ill-defined and being set to 0.0 in labels with no predicted samples.\n",
      "  'precision', 'predicted', average, warn_for)\n",
      "/anaconda3/lib/python3.7/site-packages/sklearn/metrics/classification.py:1143: UndefinedMetricWarning: F-score is ill-defined and being set to 0.0 in labels with no predicted samples.\n",
      "  'precision', 'predicted', average, warn_for)\n",
      "/anaconda3/lib/python3.7/site-packages/sklearn/metrics/classification.py:1143: UndefinedMetricWarning: F-score is ill-defined and being set to 0.0 in labels with no predicted samples.\n",
      "  'precision', 'predicted', average, warn_for)\n"
     ]
    },
    {
     "name": "stdout",
     "output_type": "stream",
     "text": [
      "[CV]  criterion=entropy, max_depth=2, min_samples_leaf=1, min_samples_split=10, score=0.29270034006816403, total=   0.1s\n",
      "[CV] criterion=entropy, max_depth=2, min_samples_leaf=2, min_samples_split=2 \n",
      "[CV]  criterion=entropy, max_depth=2, min_samples_leaf=2, min_samples_split=2, score=0.30305528209513494, total=   0.1s\n",
      "[CV] criterion=entropy, max_depth=2, min_samples_leaf=2, min_samples_split=2 \n"
     ]
    },
    {
     "name": "stderr",
     "output_type": "stream",
     "text": [
      "/anaconda3/lib/python3.7/site-packages/sklearn/metrics/classification.py:1143: UndefinedMetricWarning: F-score is ill-defined and being set to 0.0 in labels with no predicted samples.\n",
      "  'precision', 'predicted', average, warn_for)\n",
      "/anaconda3/lib/python3.7/site-packages/sklearn/metrics/classification.py:1143: UndefinedMetricWarning: F-score is ill-defined and being set to 0.0 in labels with no predicted samples.\n",
      "  'precision', 'predicted', average, warn_for)\n",
      "/anaconda3/lib/python3.7/site-packages/sklearn/metrics/classification.py:1143: UndefinedMetricWarning: F-score is ill-defined and being set to 0.0 in labels with no predicted samples.\n",
      "  'precision', 'predicted', average, warn_for)\n",
      "/anaconda3/lib/python3.7/site-packages/sklearn/metrics/classification.py:1143: UndefinedMetricWarning: F-score is ill-defined and being set to 0.0 in labels with no predicted samples.\n",
      "  'precision', 'predicted', average, warn_for)\n"
     ]
    },
    {
     "name": "stdout",
     "output_type": "stream",
     "text": [
      "[CV]  criterion=entropy, max_depth=2, min_samples_leaf=2, min_samples_split=2, score=0.283314787601014, total=   0.1s\n",
      "[CV] criterion=entropy, max_depth=2, min_samples_leaf=2, min_samples_split=2 \n",
      "[CV]  criterion=entropy, max_depth=2, min_samples_leaf=2, min_samples_split=2, score=0.29270034006816403, total=   0.1s\n",
      "[CV] criterion=entropy, max_depth=2, min_samples_leaf=2, min_samples_split=5 \n"
     ]
    },
    {
     "name": "stderr",
     "output_type": "stream",
     "text": [
      "/anaconda3/lib/python3.7/site-packages/sklearn/metrics/classification.py:1143: UndefinedMetricWarning: F-score is ill-defined and being set to 0.0 in labels with no predicted samples.\n",
      "  'precision', 'predicted', average, warn_for)\n",
      "/anaconda3/lib/python3.7/site-packages/sklearn/metrics/classification.py:1143: UndefinedMetricWarning: F-score is ill-defined and being set to 0.0 in labels with no predicted samples.\n",
      "  'precision', 'predicted', average, warn_for)\n",
      "/anaconda3/lib/python3.7/site-packages/sklearn/metrics/classification.py:1143: UndefinedMetricWarning: F-score is ill-defined and being set to 0.0 in labels with no predicted samples.\n",
      "  'precision', 'predicted', average, warn_for)\n",
      "/anaconda3/lib/python3.7/site-packages/sklearn/metrics/classification.py:1143: UndefinedMetricWarning: F-score is ill-defined and being set to 0.0 in labels with no predicted samples.\n",
      "  'precision', 'predicted', average, warn_for)\n"
     ]
    },
    {
     "name": "stdout",
     "output_type": "stream",
     "text": [
      "[CV]  criterion=entropy, max_depth=2, min_samples_leaf=2, min_samples_split=5, score=0.30305528209513494, total=   0.2s\n",
      "[CV] criterion=entropy, max_depth=2, min_samples_leaf=2, min_samples_split=5 \n",
      "[CV]  criterion=entropy, max_depth=2, min_samples_leaf=2, min_samples_split=5, score=0.283314787601014, total=   0.1s\n",
      "[CV] criterion=entropy, max_depth=2, min_samples_leaf=2, min_samples_split=5 \n"
     ]
    },
    {
     "name": "stderr",
     "output_type": "stream",
     "text": [
      "/anaconda3/lib/python3.7/site-packages/sklearn/metrics/classification.py:1143: UndefinedMetricWarning: F-score is ill-defined and being set to 0.0 in labels with no predicted samples.\n",
      "  'precision', 'predicted', average, warn_for)\n",
      "/anaconda3/lib/python3.7/site-packages/sklearn/metrics/classification.py:1143: UndefinedMetricWarning: F-score is ill-defined and being set to 0.0 in labels with no predicted samples.\n",
      "  'precision', 'predicted', average, warn_for)\n",
      "/anaconda3/lib/python3.7/site-packages/sklearn/metrics/classification.py:1143: UndefinedMetricWarning: F-score is ill-defined and being set to 0.0 in labels with no predicted samples.\n",
      "  'precision', 'predicted', average, warn_for)\n",
      "/anaconda3/lib/python3.7/site-packages/sklearn/metrics/classification.py:1143: UndefinedMetricWarning: F-score is ill-defined and being set to 0.0 in labels with no predicted samples.\n",
      "  'precision', 'predicted', average, warn_for)\n"
     ]
    },
    {
     "name": "stdout",
     "output_type": "stream",
     "text": [
      "[CV]  criterion=entropy, max_depth=2, min_samples_leaf=2, min_samples_split=5, score=0.29270034006816403, total=   0.1s\n",
      "[CV] criterion=entropy, max_depth=2, min_samples_leaf=2, min_samples_split=10 \n",
      "[CV]  criterion=entropy, max_depth=2, min_samples_leaf=2, min_samples_split=10, score=0.30305528209513494, total=   0.1s\n",
      "[CV] criterion=entropy, max_depth=2, min_samples_leaf=2, min_samples_split=10 \n"
     ]
    },
    {
     "name": "stderr",
     "output_type": "stream",
     "text": [
      "/anaconda3/lib/python3.7/site-packages/sklearn/metrics/classification.py:1143: UndefinedMetricWarning: F-score is ill-defined and being set to 0.0 in labels with no predicted samples.\n",
      "  'precision', 'predicted', average, warn_for)\n",
      "/anaconda3/lib/python3.7/site-packages/sklearn/metrics/classification.py:1143: UndefinedMetricWarning: F-score is ill-defined and being set to 0.0 in labels with no predicted samples.\n",
      "  'precision', 'predicted', average, warn_for)\n",
      "/anaconda3/lib/python3.7/site-packages/sklearn/metrics/classification.py:1143: UndefinedMetricWarning: F-score is ill-defined and being set to 0.0 in labels with no predicted samples.\n",
      "  'precision', 'predicted', average, warn_for)\n"
     ]
    },
    {
     "name": "stdout",
     "output_type": "stream",
     "text": [
      "[CV]  criterion=entropy, max_depth=2, min_samples_leaf=2, min_samples_split=10, score=0.283314787601014, total=   0.1s\n",
      "[CV] criterion=entropy, max_depth=2, min_samples_leaf=2, min_samples_split=10 \n",
      "[CV]  criterion=entropy, max_depth=2, min_samples_leaf=2, min_samples_split=10, score=0.29270034006816403, total=   0.2s\n",
      "[CV] criterion=entropy, max_depth=2, min_samples_leaf=3, min_samples_split=2 \n"
     ]
    },
    {
     "name": "stderr",
     "output_type": "stream",
     "text": [
      "/anaconda3/lib/python3.7/site-packages/sklearn/metrics/classification.py:1143: UndefinedMetricWarning: F-score is ill-defined and being set to 0.0 in labels with no predicted samples.\n",
      "  'precision', 'predicted', average, warn_for)\n",
      "/anaconda3/lib/python3.7/site-packages/sklearn/metrics/classification.py:1143: UndefinedMetricWarning: F-score is ill-defined and being set to 0.0 in labels with no predicted samples.\n",
      "  'precision', 'predicted', average, warn_for)\n",
      "/anaconda3/lib/python3.7/site-packages/sklearn/metrics/classification.py:1143: UndefinedMetricWarning: F-score is ill-defined and being set to 0.0 in labels with no predicted samples.\n",
      "  'precision', 'predicted', average, warn_for)\n",
      "/anaconda3/lib/python3.7/site-packages/sklearn/metrics/classification.py:1143: UndefinedMetricWarning: F-score is ill-defined and being set to 0.0 in labels with no predicted samples.\n",
      "  'precision', 'predicted', average, warn_for)\n",
      "/anaconda3/lib/python3.7/site-packages/sklearn/metrics/classification.py:1143: UndefinedMetricWarning: F-score is ill-defined and being set to 0.0 in labels with no predicted samples.\n",
      "  'precision', 'predicted', average, warn_for)\n"
     ]
    },
    {
     "name": "stdout",
     "output_type": "stream",
     "text": [
      "[CV]  criterion=entropy, max_depth=2, min_samples_leaf=3, min_samples_split=2, score=0.30305528209513494, total=   0.2s\n",
      "[CV] criterion=entropy, max_depth=2, min_samples_leaf=3, min_samples_split=2 \n",
      "[CV]  criterion=entropy, max_depth=2, min_samples_leaf=3, min_samples_split=2, score=0.283314787601014, total=   0.1s\n",
      "[CV] criterion=entropy, max_depth=2, min_samples_leaf=3, min_samples_split=2 \n"
     ]
    },
    {
     "name": "stderr",
     "output_type": "stream",
     "text": [
      "/anaconda3/lib/python3.7/site-packages/sklearn/metrics/classification.py:1143: UndefinedMetricWarning: F-score is ill-defined and being set to 0.0 in labels with no predicted samples.\n",
      "  'precision', 'predicted', average, warn_for)\n",
      "/anaconda3/lib/python3.7/site-packages/sklearn/metrics/classification.py:1143: UndefinedMetricWarning: F-score is ill-defined and being set to 0.0 in labels with no predicted samples.\n",
      "  'precision', 'predicted', average, warn_for)\n"
     ]
    },
    {
     "name": "stdout",
     "output_type": "stream",
     "text": [
      "[CV]  criterion=entropy, max_depth=2, min_samples_leaf=3, min_samples_split=2, score=0.29270034006816403, total=   0.2s\n",
      "[CV] criterion=entropy, max_depth=2, min_samples_leaf=3, min_samples_split=5 \n"
     ]
    },
    {
     "name": "stderr",
     "output_type": "stream",
     "text": [
      "/anaconda3/lib/python3.7/site-packages/sklearn/metrics/classification.py:1143: UndefinedMetricWarning: F-score is ill-defined and being set to 0.0 in labels with no predicted samples.\n",
      "  'precision', 'predicted', average, warn_for)\n",
      "/anaconda3/lib/python3.7/site-packages/sklearn/metrics/classification.py:1143: UndefinedMetricWarning: F-score is ill-defined and being set to 0.0 in labels with no predicted samples.\n",
      "  'precision', 'predicted', average, warn_for)\n"
     ]
    },
    {
     "name": "stdout",
     "output_type": "stream",
     "text": [
      "[CV]  criterion=entropy, max_depth=2, min_samples_leaf=3, min_samples_split=5, score=0.30305528209513494, total=   0.2s\n",
      "[CV] criterion=entropy, max_depth=2, min_samples_leaf=3, min_samples_split=5 \n"
     ]
    },
    {
     "name": "stderr",
     "output_type": "stream",
     "text": [
      "/anaconda3/lib/python3.7/site-packages/sklearn/metrics/classification.py:1143: UndefinedMetricWarning: F-score is ill-defined and being set to 0.0 in labels with no predicted samples.\n",
      "  'precision', 'predicted', average, warn_for)\n",
      "/anaconda3/lib/python3.7/site-packages/sklearn/metrics/classification.py:1143: UndefinedMetricWarning: F-score is ill-defined and being set to 0.0 in labels with no predicted samples.\n",
      "  'precision', 'predicted', average, warn_for)\n"
     ]
    },
    {
     "name": "stdout",
     "output_type": "stream",
     "text": [
      "[CV]  criterion=entropy, max_depth=2, min_samples_leaf=3, min_samples_split=5, score=0.283314787601014, total=   0.2s\n",
      "[CV] criterion=entropy, max_depth=2, min_samples_leaf=3, min_samples_split=5 \n"
     ]
    },
    {
     "name": "stderr",
     "output_type": "stream",
     "text": [
      "/anaconda3/lib/python3.7/site-packages/sklearn/metrics/classification.py:1143: UndefinedMetricWarning: F-score is ill-defined and being set to 0.0 in labels with no predicted samples.\n",
      "  'precision', 'predicted', average, warn_for)\n",
      "/anaconda3/lib/python3.7/site-packages/sklearn/metrics/classification.py:1143: UndefinedMetricWarning: F-score is ill-defined and being set to 0.0 in labels with no predicted samples.\n",
      "  'precision', 'predicted', average, warn_for)\n"
     ]
    },
    {
     "name": "stdout",
     "output_type": "stream",
     "text": [
      "[CV]  criterion=entropy, max_depth=2, min_samples_leaf=3, min_samples_split=5, score=0.29270034006816403, total=   0.2s\n",
      "[CV] criterion=entropy, max_depth=2, min_samples_leaf=3, min_samples_split=10 \n"
     ]
    },
    {
     "name": "stderr",
     "output_type": "stream",
     "text": [
      "/anaconda3/lib/python3.7/site-packages/sklearn/metrics/classification.py:1143: UndefinedMetricWarning: F-score is ill-defined and being set to 0.0 in labels with no predicted samples.\n",
      "  'precision', 'predicted', average, warn_for)\n",
      "/anaconda3/lib/python3.7/site-packages/sklearn/metrics/classification.py:1143: UndefinedMetricWarning: F-score is ill-defined and being set to 0.0 in labels with no predicted samples.\n",
      "  'precision', 'predicted', average, warn_for)\n"
     ]
    },
    {
     "name": "stdout",
     "output_type": "stream",
     "text": [
      "[CV]  criterion=entropy, max_depth=2, min_samples_leaf=3, min_samples_split=10, score=0.30305528209513494, total=   0.2s\n",
      "[CV] criterion=entropy, max_depth=2, min_samples_leaf=3, min_samples_split=10 \n",
      "[CV]  criterion=entropy, max_depth=2, min_samples_leaf=3, min_samples_split=10, score=0.283314787601014, total=   0.2s\n",
      "[CV] criterion=entropy, max_depth=2, min_samples_leaf=3, min_samples_split=10 \n"
     ]
    },
    {
     "name": "stderr",
     "output_type": "stream",
     "text": [
      "/anaconda3/lib/python3.7/site-packages/sklearn/metrics/classification.py:1143: UndefinedMetricWarning: F-score is ill-defined and being set to 0.0 in labels with no predicted samples.\n",
      "  'precision', 'predicted', average, warn_for)\n",
      "/anaconda3/lib/python3.7/site-packages/sklearn/metrics/classification.py:1143: UndefinedMetricWarning: F-score is ill-defined and being set to 0.0 in labels with no predicted samples.\n",
      "  'precision', 'predicted', average, warn_for)\n",
      "/anaconda3/lib/python3.7/site-packages/sklearn/metrics/classification.py:1143: UndefinedMetricWarning: F-score is ill-defined and being set to 0.0 in labels with no predicted samples.\n",
      "  'precision', 'predicted', average, warn_for)\n",
      "/anaconda3/lib/python3.7/site-packages/sklearn/metrics/classification.py:1143: UndefinedMetricWarning: F-score is ill-defined and being set to 0.0 in labels with no predicted samples.\n",
      "  'precision', 'predicted', average, warn_for)\n"
     ]
    },
    {
     "name": "stdout",
     "output_type": "stream",
     "text": [
      "[CV]  criterion=entropy, max_depth=2, min_samples_leaf=3, min_samples_split=10, score=0.29270034006816403, total=   0.1s\n",
      "[CV] criterion=entropy, max_depth=2, min_samples_leaf=4, min_samples_split=2 \n",
      "[CV]  criterion=entropy, max_depth=2, min_samples_leaf=4, min_samples_split=2, score=0.30305528209513494, total=   0.1s\n",
      "[CV] criterion=entropy, max_depth=2, min_samples_leaf=4, min_samples_split=2 \n"
     ]
    },
    {
     "name": "stderr",
     "output_type": "stream",
     "text": [
      "/anaconda3/lib/python3.7/site-packages/sklearn/metrics/classification.py:1143: UndefinedMetricWarning: F-score is ill-defined and being set to 0.0 in labels with no predicted samples.\n",
      "  'precision', 'predicted', average, warn_for)\n",
      "/anaconda3/lib/python3.7/site-packages/sklearn/metrics/classification.py:1143: UndefinedMetricWarning: F-score is ill-defined and being set to 0.0 in labels with no predicted samples.\n",
      "  'precision', 'predicted', average, warn_for)\n",
      "/anaconda3/lib/python3.7/site-packages/sklearn/metrics/classification.py:1143: UndefinedMetricWarning: F-score is ill-defined and being set to 0.0 in labels with no predicted samples.\n",
      "  'precision', 'predicted', average, warn_for)\n",
      "/anaconda3/lib/python3.7/site-packages/sklearn/metrics/classification.py:1143: UndefinedMetricWarning: F-score is ill-defined and being set to 0.0 in labels with no predicted samples.\n",
      "  'precision', 'predicted', average, warn_for)\n"
     ]
    },
    {
     "name": "stdout",
     "output_type": "stream",
     "text": [
      "[CV]  criterion=entropy, max_depth=2, min_samples_leaf=4, min_samples_split=2, score=0.283314787601014, total=   0.1s\n",
      "[CV] criterion=entropy, max_depth=2, min_samples_leaf=4, min_samples_split=2 \n",
      "[CV]  criterion=entropy, max_depth=2, min_samples_leaf=4, min_samples_split=2, score=0.29270034006816403, total=   0.2s\n",
      "[CV] criterion=entropy, max_depth=2, min_samples_leaf=4, min_samples_split=5 \n"
     ]
    },
    {
     "name": "stderr",
     "output_type": "stream",
     "text": [
      "/anaconda3/lib/python3.7/site-packages/sklearn/metrics/classification.py:1143: UndefinedMetricWarning: F-score is ill-defined and being set to 0.0 in labels with no predicted samples.\n",
      "  'precision', 'predicted', average, warn_for)\n",
      "/anaconda3/lib/python3.7/site-packages/sklearn/metrics/classification.py:1143: UndefinedMetricWarning: F-score is ill-defined and being set to 0.0 in labels with no predicted samples.\n",
      "  'precision', 'predicted', average, warn_for)\n",
      "/anaconda3/lib/python3.7/site-packages/sklearn/metrics/classification.py:1143: UndefinedMetricWarning: F-score is ill-defined and being set to 0.0 in labels with no predicted samples.\n",
      "  'precision', 'predicted', average, warn_for)\n",
      "/anaconda3/lib/python3.7/site-packages/sklearn/metrics/classification.py:1143: UndefinedMetricWarning: F-score is ill-defined and being set to 0.0 in labels with no predicted samples.\n",
      "  'precision', 'predicted', average, warn_for)\n"
     ]
    },
    {
     "name": "stdout",
     "output_type": "stream",
     "text": [
      "[CV]  criterion=entropy, max_depth=2, min_samples_leaf=4, min_samples_split=5, score=0.30305528209513494, total=   0.1s\n",
      "[CV] criterion=entropy, max_depth=2, min_samples_leaf=4, min_samples_split=5 \n",
      "[CV]  criterion=entropy, max_depth=2, min_samples_leaf=4, min_samples_split=5, score=0.283314787601014, total=   0.1s\n",
      "[CV] criterion=entropy, max_depth=2, min_samples_leaf=4, min_samples_split=5 \n"
     ]
    },
    {
     "name": "stderr",
     "output_type": "stream",
     "text": [
      "/anaconda3/lib/python3.7/site-packages/sklearn/metrics/classification.py:1143: UndefinedMetricWarning: F-score is ill-defined and being set to 0.0 in labels with no predicted samples.\n",
      "  'precision', 'predicted', average, warn_for)\n",
      "/anaconda3/lib/python3.7/site-packages/sklearn/metrics/classification.py:1143: UndefinedMetricWarning: F-score is ill-defined and being set to 0.0 in labels with no predicted samples.\n",
      "  'precision', 'predicted', average, warn_for)\n",
      "/anaconda3/lib/python3.7/site-packages/sklearn/metrics/classification.py:1143: UndefinedMetricWarning: F-score is ill-defined and being set to 0.0 in labels with no predicted samples.\n",
      "  'precision', 'predicted', average, warn_for)\n",
      "/anaconda3/lib/python3.7/site-packages/sklearn/metrics/classification.py:1143: UndefinedMetricWarning: F-score is ill-defined and being set to 0.0 in labels with no predicted samples.\n",
      "  'precision', 'predicted', average, warn_for)\n",
      "/anaconda3/lib/python3.7/site-packages/sklearn/metrics/classification.py:1143: UndefinedMetricWarning: F-score is ill-defined and being set to 0.0 in labels with no predicted samples.\n",
      "  'precision', 'predicted', average, warn_for)\n",
      "/anaconda3/lib/python3.7/site-packages/sklearn/metrics/classification.py:1143: UndefinedMetricWarning: F-score is ill-defined and being set to 0.0 in labels with no predicted samples.\n",
      "  'precision', 'predicted', average, warn_for)\n"
     ]
    },
    {
     "name": "stdout",
     "output_type": "stream",
     "text": [
      "[CV]  criterion=entropy, max_depth=2, min_samples_leaf=4, min_samples_split=5, score=0.29270034006816403, total=   0.2s\n",
      "[CV] criterion=entropy, max_depth=2, min_samples_leaf=4, min_samples_split=10 \n",
      "[CV]  criterion=entropy, max_depth=2, min_samples_leaf=4, min_samples_split=10, score=0.30305528209513494, total=   0.2s\n",
      "[CV] criterion=entropy, max_depth=2, min_samples_leaf=4, min_samples_split=10 \n"
     ]
    },
    {
     "name": "stderr",
     "output_type": "stream",
     "text": [
      "/anaconda3/lib/python3.7/site-packages/sklearn/metrics/classification.py:1143: UndefinedMetricWarning: F-score is ill-defined and being set to 0.0 in labels with no predicted samples.\n",
      "  'precision', 'predicted', average, warn_for)\n",
      "/anaconda3/lib/python3.7/site-packages/sklearn/metrics/classification.py:1143: UndefinedMetricWarning: F-score is ill-defined and being set to 0.0 in labels with no predicted samples.\n",
      "  'precision', 'predicted', average, warn_for)\n",
      "/anaconda3/lib/python3.7/site-packages/sklearn/metrics/classification.py:1143: UndefinedMetricWarning: F-score is ill-defined and being set to 0.0 in labels with no predicted samples.\n",
      "  'precision', 'predicted', average, warn_for)\n",
      "/anaconda3/lib/python3.7/site-packages/sklearn/metrics/classification.py:1143: UndefinedMetricWarning: F-score is ill-defined and being set to 0.0 in labels with no predicted samples.\n",
      "  'precision', 'predicted', average, warn_for)\n"
     ]
    },
    {
     "name": "stdout",
     "output_type": "stream",
     "text": [
      "[CV]  criterion=entropy, max_depth=2, min_samples_leaf=4, min_samples_split=10, score=0.283314787601014, total=   0.1s\n",
      "[CV] criterion=entropy, max_depth=2, min_samples_leaf=4, min_samples_split=10 \n",
      "[CV]  criterion=entropy, max_depth=2, min_samples_leaf=4, min_samples_split=10, score=0.29270034006816403, total=   0.1s\n",
      "[CV] criterion=entropy, max_depth=2, min_samples_leaf=5, min_samples_split=2 \n"
     ]
    },
    {
     "name": "stderr",
     "output_type": "stream",
     "text": [
      "/anaconda3/lib/python3.7/site-packages/sklearn/metrics/classification.py:1143: UndefinedMetricWarning: F-score is ill-defined and being set to 0.0 in labels with no predicted samples.\n",
      "  'precision', 'predicted', average, warn_for)\n",
      "/anaconda3/lib/python3.7/site-packages/sklearn/metrics/classification.py:1143: UndefinedMetricWarning: F-score is ill-defined and being set to 0.0 in labels with no predicted samples.\n",
      "  'precision', 'predicted', average, warn_for)\n",
      "/anaconda3/lib/python3.7/site-packages/sklearn/metrics/classification.py:1143: UndefinedMetricWarning: F-score is ill-defined and being set to 0.0 in labels with no predicted samples.\n",
      "  'precision', 'predicted', average, warn_for)\n",
      "/anaconda3/lib/python3.7/site-packages/sklearn/metrics/classification.py:1143: UndefinedMetricWarning: F-score is ill-defined and being set to 0.0 in labels with no predicted samples.\n",
      "  'precision', 'predicted', average, warn_for)\n"
     ]
    },
    {
     "name": "stdout",
     "output_type": "stream",
     "text": [
      "[CV]  criterion=entropy, max_depth=2, min_samples_leaf=5, min_samples_split=2, score=0.30305528209513494, total=   0.2s\n",
      "[CV] criterion=entropy, max_depth=2, min_samples_leaf=5, min_samples_split=2 \n",
      "[CV]  criterion=entropy, max_depth=2, min_samples_leaf=5, min_samples_split=2, score=0.283314787601014, total=   0.1s\n",
      "[CV] criterion=entropy, max_depth=2, min_samples_leaf=5, min_samples_split=2 \n"
     ]
    },
    {
     "name": "stderr",
     "output_type": "stream",
     "text": [
      "/anaconda3/lib/python3.7/site-packages/sklearn/metrics/classification.py:1143: UndefinedMetricWarning: F-score is ill-defined and being set to 0.0 in labels with no predicted samples.\n",
      "  'precision', 'predicted', average, warn_for)\n",
      "/anaconda3/lib/python3.7/site-packages/sklearn/metrics/classification.py:1143: UndefinedMetricWarning: F-score is ill-defined and being set to 0.0 in labels with no predicted samples.\n",
      "  'precision', 'predicted', average, warn_for)\n"
     ]
    },
    {
     "name": "stdout",
     "output_type": "stream",
     "text": [
      "[CV]  criterion=entropy, max_depth=2, min_samples_leaf=5, min_samples_split=2, score=0.29270034006816403, total=   0.2s\n",
      "[CV] criterion=entropy, max_depth=2, min_samples_leaf=5, min_samples_split=5 \n",
      "[CV]  criterion=entropy, max_depth=2, min_samples_leaf=5, min_samples_split=5, score=0.30305528209513494, total=   0.2s\n",
      "[CV] criterion=entropy, max_depth=2, min_samples_leaf=5, min_samples_split=5 \n"
     ]
    },
    {
     "name": "stderr",
     "output_type": "stream",
     "text": [
      "/anaconda3/lib/python3.7/site-packages/sklearn/metrics/classification.py:1143: UndefinedMetricWarning: F-score is ill-defined and being set to 0.0 in labels with no predicted samples.\n",
      "  'precision', 'predicted', average, warn_for)\n",
      "/anaconda3/lib/python3.7/site-packages/sklearn/metrics/classification.py:1143: UndefinedMetricWarning: F-score is ill-defined and being set to 0.0 in labels with no predicted samples.\n",
      "  'precision', 'predicted', average, warn_for)\n",
      "/anaconda3/lib/python3.7/site-packages/sklearn/metrics/classification.py:1143: UndefinedMetricWarning: F-score is ill-defined and being set to 0.0 in labels with no predicted samples.\n",
      "  'precision', 'predicted', average, warn_for)\n",
      "/anaconda3/lib/python3.7/site-packages/sklearn/metrics/classification.py:1143: UndefinedMetricWarning: F-score is ill-defined and being set to 0.0 in labels with no predicted samples.\n",
      "  'precision', 'predicted', average, warn_for)\n"
     ]
    },
    {
     "name": "stdout",
     "output_type": "stream",
     "text": [
      "[CV]  criterion=entropy, max_depth=2, min_samples_leaf=5, min_samples_split=5, score=0.283314787601014, total=   0.1s\n",
      "[CV] criterion=entropy, max_depth=2, min_samples_leaf=5, min_samples_split=5 \n",
      "[CV]  criterion=entropy, max_depth=2, min_samples_leaf=5, min_samples_split=5, score=0.29270034006816403, total=   0.2s\n",
      "[CV] criterion=entropy, max_depth=2, min_samples_leaf=5, min_samples_split=10 \n"
     ]
    },
    {
     "name": "stderr",
     "output_type": "stream",
     "text": [
      "/anaconda3/lib/python3.7/site-packages/sklearn/metrics/classification.py:1143: UndefinedMetricWarning: F-score is ill-defined and being set to 0.0 in labels with no predicted samples.\n",
      "  'precision', 'predicted', average, warn_for)\n",
      "/anaconda3/lib/python3.7/site-packages/sklearn/metrics/classification.py:1143: UndefinedMetricWarning: F-score is ill-defined and being set to 0.0 in labels with no predicted samples.\n",
      "  'precision', 'predicted', average, warn_for)\n",
      "/anaconda3/lib/python3.7/site-packages/sklearn/metrics/classification.py:1143: UndefinedMetricWarning: F-score is ill-defined and being set to 0.0 in labels with no predicted samples.\n",
      "  'precision', 'predicted', average, warn_for)\n",
      "/anaconda3/lib/python3.7/site-packages/sklearn/metrics/classification.py:1143: UndefinedMetricWarning: F-score is ill-defined and being set to 0.0 in labels with no predicted samples.\n",
      "  'precision', 'predicted', average, warn_for)\n"
     ]
    },
    {
     "name": "stdout",
     "output_type": "stream",
     "text": [
      "[CV]  criterion=entropy, max_depth=2, min_samples_leaf=5, min_samples_split=10, score=0.30305528209513494, total=   0.1s\n",
      "[CV] criterion=entropy, max_depth=2, min_samples_leaf=5, min_samples_split=10 \n",
      "[CV]  criterion=entropy, max_depth=2, min_samples_leaf=5, min_samples_split=10, score=0.283314787601014, total=   0.2s\n",
      "[CV] criterion=entropy, max_depth=2, min_samples_leaf=5, min_samples_split=10 \n"
     ]
    },
    {
     "name": "stderr",
     "output_type": "stream",
     "text": [
      "/anaconda3/lib/python3.7/site-packages/sklearn/metrics/classification.py:1143: UndefinedMetricWarning: F-score is ill-defined and being set to 0.0 in labels with no predicted samples.\n",
      "  'precision', 'predicted', average, warn_for)\n",
      "/anaconda3/lib/python3.7/site-packages/sklearn/metrics/classification.py:1143: UndefinedMetricWarning: F-score is ill-defined and being set to 0.0 in labels with no predicted samples.\n",
      "  'precision', 'predicted', average, warn_for)\n",
      "/anaconda3/lib/python3.7/site-packages/sklearn/metrics/classification.py:1143: UndefinedMetricWarning: F-score is ill-defined and being set to 0.0 in labels with no predicted samples.\n",
      "  'precision', 'predicted', average, warn_for)\n",
      "/anaconda3/lib/python3.7/site-packages/sklearn/metrics/classification.py:1143: UndefinedMetricWarning: F-score is ill-defined and being set to 0.0 in labels with no predicted samples.\n",
      "  'precision', 'predicted', average, warn_for)\n"
     ]
    },
    {
     "name": "stdout",
     "output_type": "stream",
     "text": [
      "[CV]  criterion=entropy, max_depth=2, min_samples_leaf=5, min_samples_split=10, score=0.29270034006816403, total=   0.2s\n",
      "[CV] criterion=entropy, max_depth=2, min_samples_leaf=6, min_samples_split=2 \n"
     ]
    },
    {
     "name": "stderr",
     "output_type": "stream",
     "text": [
      "/anaconda3/lib/python3.7/site-packages/sklearn/metrics/classification.py:1143: UndefinedMetricWarning: F-score is ill-defined and being set to 0.0 in labels with no predicted samples.\n",
      "  'precision', 'predicted', average, warn_for)\n",
      "/anaconda3/lib/python3.7/site-packages/sklearn/metrics/classification.py:1143: UndefinedMetricWarning: F-score is ill-defined and being set to 0.0 in labels with no predicted samples.\n",
      "  'precision', 'predicted', average, warn_for)\n",
      "/anaconda3/lib/python3.7/site-packages/sklearn/metrics/classification.py:1143: UndefinedMetricWarning: F-score is ill-defined and being set to 0.0 in labels with no predicted samples.\n",
      "  'precision', 'predicted', average, warn_for)\n",
      "/anaconda3/lib/python3.7/site-packages/sklearn/metrics/classification.py:1143: UndefinedMetricWarning: F-score is ill-defined and being set to 0.0 in labels with no predicted samples.\n",
      "  'precision', 'predicted', average, warn_for)\n"
     ]
    },
    {
     "name": "stdout",
     "output_type": "stream",
     "text": [
      "[CV]  criterion=entropy, max_depth=2, min_samples_leaf=6, min_samples_split=2, score=0.30305528209513494, total=   0.2s\n",
      "[CV] criterion=entropy, max_depth=2, min_samples_leaf=6, min_samples_split=2 \n",
      "[CV]  criterion=entropy, max_depth=2, min_samples_leaf=6, min_samples_split=2, score=0.283314787601014, total=   0.1s\n",
      "[CV] criterion=entropy, max_depth=2, min_samples_leaf=6, min_samples_split=2 \n"
     ]
    },
    {
     "name": "stderr",
     "output_type": "stream",
     "text": [
      "/anaconda3/lib/python3.7/site-packages/sklearn/metrics/classification.py:1143: UndefinedMetricWarning: F-score is ill-defined and being set to 0.0 in labels with no predicted samples.\n",
      "  'precision', 'predicted', average, warn_for)\n",
      "/anaconda3/lib/python3.7/site-packages/sklearn/metrics/classification.py:1143: UndefinedMetricWarning: F-score is ill-defined and being set to 0.0 in labels with no predicted samples.\n",
      "  'precision', 'predicted', average, warn_for)\n",
      "/anaconda3/lib/python3.7/site-packages/sklearn/metrics/classification.py:1143: UndefinedMetricWarning: F-score is ill-defined and being set to 0.0 in labels with no predicted samples.\n",
      "  'precision', 'predicted', average, warn_for)\n",
      "/anaconda3/lib/python3.7/site-packages/sklearn/metrics/classification.py:1143: UndefinedMetricWarning: F-score is ill-defined and being set to 0.0 in labels with no predicted samples.\n",
      "  'precision', 'predicted', average, warn_for)\n"
     ]
    },
    {
     "name": "stdout",
     "output_type": "stream",
     "text": [
      "[CV]  criterion=entropy, max_depth=2, min_samples_leaf=6, min_samples_split=2, score=0.29270034006816403, total=   0.1s\n",
      "[CV] criterion=entropy, max_depth=2, min_samples_leaf=6, min_samples_split=5 \n",
      "[CV]  criterion=entropy, max_depth=2, min_samples_leaf=6, min_samples_split=5, score=0.30305528209513494, total=   0.2s\n",
      "[CV] criterion=entropy, max_depth=2, min_samples_leaf=6, min_samples_split=5 \n"
     ]
    },
    {
     "name": "stderr",
     "output_type": "stream",
     "text": [
      "/anaconda3/lib/python3.7/site-packages/sklearn/metrics/classification.py:1143: UndefinedMetricWarning: F-score is ill-defined and being set to 0.0 in labels with no predicted samples.\n",
      "  'precision', 'predicted', average, warn_for)\n",
      "/anaconda3/lib/python3.7/site-packages/sklearn/metrics/classification.py:1143: UndefinedMetricWarning: F-score is ill-defined and being set to 0.0 in labels with no predicted samples.\n",
      "  'precision', 'predicted', average, warn_for)\n",
      "/anaconda3/lib/python3.7/site-packages/sklearn/metrics/classification.py:1143: UndefinedMetricWarning: F-score is ill-defined and being set to 0.0 in labels with no predicted samples.\n",
      "  'precision', 'predicted', average, warn_for)\n",
      "/anaconda3/lib/python3.7/site-packages/sklearn/metrics/classification.py:1143: UndefinedMetricWarning: F-score is ill-defined and being set to 0.0 in labels with no predicted samples.\n",
      "  'precision', 'predicted', average, warn_for)\n"
     ]
    },
    {
     "name": "stdout",
     "output_type": "stream",
     "text": [
      "[CV]  criterion=entropy, max_depth=2, min_samples_leaf=6, min_samples_split=5, score=0.283314787601014, total=   0.2s\n",
      "[CV] criterion=entropy, max_depth=2, min_samples_leaf=6, min_samples_split=5 \n",
      "[CV]  criterion=entropy, max_depth=2, min_samples_leaf=6, min_samples_split=5, score=0.29270034006816403, total=   0.1s\n",
      "[CV] criterion=entropy, max_depth=2, min_samples_leaf=6, min_samples_split=10 \n"
     ]
    },
    {
     "name": "stderr",
     "output_type": "stream",
     "text": [
      "/anaconda3/lib/python3.7/site-packages/sklearn/metrics/classification.py:1143: UndefinedMetricWarning: F-score is ill-defined and being set to 0.0 in labels with no predicted samples.\n",
      "  'precision', 'predicted', average, warn_for)\n",
      "/anaconda3/lib/python3.7/site-packages/sklearn/metrics/classification.py:1143: UndefinedMetricWarning: F-score is ill-defined and being set to 0.0 in labels with no predicted samples.\n",
      "  'precision', 'predicted', average, warn_for)\n",
      "/anaconda3/lib/python3.7/site-packages/sklearn/metrics/classification.py:1143: UndefinedMetricWarning: F-score is ill-defined and being set to 0.0 in labels with no predicted samples.\n",
      "  'precision', 'predicted', average, warn_for)\n",
      "/anaconda3/lib/python3.7/site-packages/sklearn/metrics/classification.py:1143: UndefinedMetricWarning: F-score is ill-defined and being set to 0.0 in labels with no predicted samples.\n",
      "  'precision', 'predicted', average, warn_for)\n"
     ]
    },
    {
     "name": "stdout",
     "output_type": "stream",
     "text": [
      "[CV]  criterion=entropy, max_depth=2, min_samples_leaf=6, min_samples_split=10, score=0.30305528209513494, total=   0.2s\n",
      "[CV] criterion=entropy, max_depth=2, min_samples_leaf=6, min_samples_split=10 \n",
      "[CV]  criterion=entropy, max_depth=2, min_samples_leaf=6, min_samples_split=10, score=0.283314787601014, total=   0.1s\n",
      "[CV] criterion=entropy, max_depth=2, min_samples_leaf=6, min_samples_split=10 \n"
     ]
    },
    {
     "name": "stderr",
     "output_type": "stream",
     "text": [
      "/anaconda3/lib/python3.7/site-packages/sklearn/metrics/classification.py:1143: UndefinedMetricWarning: F-score is ill-defined and being set to 0.0 in labels with no predicted samples.\n",
      "  'precision', 'predicted', average, warn_for)\n",
      "/anaconda3/lib/python3.7/site-packages/sklearn/metrics/classification.py:1143: UndefinedMetricWarning: F-score is ill-defined and being set to 0.0 in labels with no predicted samples.\n",
      "  'precision', 'predicted', average, warn_for)\n"
     ]
    },
    {
     "name": "stdout",
     "output_type": "stream",
     "text": [
      "[CV]  criterion=entropy, max_depth=2, min_samples_leaf=6, min_samples_split=10, score=0.29270034006816403, total=   0.2s\n",
      "[CV] criterion=entropy, max_depth=3, min_samples_leaf=1, min_samples_split=2 \n"
     ]
    },
    {
     "name": "stderr",
     "output_type": "stream",
     "text": [
      "/anaconda3/lib/python3.7/site-packages/sklearn/metrics/classification.py:1143: UndefinedMetricWarning: F-score is ill-defined and being set to 0.0 in labels with no predicted samples.\n",
      "  'precision', 'predicted', average, warn_for)\n",
      "/anaconda3/lib/python3.7/site-packages/sklearn/metrics/classification.py:1143: UndefinedMetricWarning: F-score is ill-defined and being set to 0.0 in labels with no predicted samples.\n",
      "  'precision', 'predicted', average, warn_for)\n"
     ]
    },
    {
     "name": "stdout",
     "output_type": "stream",
     "text": [
      "[CV]  criterion=entropy, max_depth=3, min_samples_leaf=1, min_samples_split=2, score=0.327416846638301, total=   0.2s\n",
      "[CV] criterion=entropy, max_depth=3, min_samples_leaf=1, min_samples_split=2 \n",
      "[CV]  criterion=entropy, max_depth=3, min_samples_leaf=1, min_samples_split=2, score=0.3100913888394634, total=   0.2s\n",
      "[CV] criterion=entropy, max_depth=3, min_samples_leaf=1, min_samples_split=2 \n"
     ]
    },
    {
     "name": "stderr",
     "output_type": "stream",
     "text": [
      "/anaconda3/lib/python3.7/site-packages/sklearn/metrics/classification.py:1143: UndefinedMetricWarning: F-score is ill-defined and being set to 0.0 in labels with no predicted samples.\n",
      "  'precision', 'predicted', average, warn_for)\n",
      "/anaconda3/lib/python3.7/site-packages/sklearn/metrics/classification.py:1143: UndefinedMetricWarning: F-score is ill-defined and being set to 0.0 in labels with no predicted samples.\n",
      "  'precision', 'predicted', average, warn_for)\n"
     ]
    },
    {
     "name": "stdout",
     "output_type": "stream",
     "text": [
      "[CV]  criterion=entropy, max_depth=3, min_samples_leaf=1, min_samples_split=2, score=0.29270034006816403, total=   0.2s\n",
      "[CV] criterion=entropy, max_depth=3, min_samples_leaf=1, min_samples_split=5 \n"
     ]
    },
    {
     "name": "stderr",
     "output_type": "stream",
     "text": [
      "/anaconda3/lib/python3.7/site-packages/sklearn/metrics/classification.py:1143: UndefinedMetricWarning: F-score is ill-defined and being set to 0.0 in labels with no predicted samples.\n",
      "  'precision', 'predicted', average, warn_for)\n",
      "/anaconda3/lib/python3.7/site-packages/sklearn/metrics/classification.py:1143: UndefinedMetricWarning: F-score is ill-defined and being set to 0.0 in labels with no predicted samples.\n",
      "  'precision', 'predicted', average, warn_for)\n"
     ]
    },
    {
     "name": "stdout",
     "output_type": "stream",
     "text": [
      "[CV]  criterion=entropy, max_depth=3, min_samples_leaf=1, min_samples_split=5, score=0.327416846638301, total=   0.2s\n",
      "[CV] criterion=entropy, max_depth=3, min_samples_leaf=1, min_samples_split=5 \n",
      "[CV]  criterion=entropy, max_depth=3, min_samples_leaf=1, min_samples_split=5, score=0.3100913888394634, total=   0.2s\n",
      "[CV] criterion=entropy, max_depth=3, min_samples_leaf=1, min_samples_split=5 \n"
     ]
    },
    {
     "name": "stderr",
     "output_type": "stream",
     "text": [
      "/anaconda3/lib/python3.7/site-packages/sklearn/metrics/classification.py:1143: UndefinedMetricWarning: F-score is ill-defined and being set to 0.0 in labels with no predicted samples.\n",
      "  'precision', 'predicted', average, warn_for)\n",
      "/anaconda3/lib/python3.7/site-packages/sklearn/metrics/classification.py:1143: UndefinedMetricWarning: F-score is ill-defined and being set to 0.0 in labels with no predicted samples.\n",
      "  'precision', 'predicted', average, warn_for)\n"
     ]
    },
    {
     "name": "stdout",
     "output_type": "stream",
     "text": [
      "[CV]  criterion=entropy, max_depth=3, min_samples_leaf=1, min_samples_split=5, score=0.29270034006816403, total=   0.2s\n",
      "[CV] criterion=entropy, max_depth=3, min_samples_leaf=1, min_samples_split=10 \n"
     ]
    },
    {
     "name": "stderr",
     "output_type": "stream",
     "text": [
      "/anaconda3/lib/python3.7/site-packages/sklearn/metrics/classification.py:1143: UndefinedMetricWarning: F-score is ill-defined and being set to 0.0 in labels with no predicted samples.\n",
      "  'precision', 'predicted', average, warn_for)\n",
      "/anaconda3/lib/python3.7/site-packages/sklearn/metrics/classification.py:1143: UndefinedMetricWarning: F-score is ill-defined and being set to 0.0 in labels with no predicted samples.\n",
      "  'precision', 'predicted', average, warn_for)\n"
     ]
    },
    {
     "name": "stdout",
     "output_type": "stream",
     "text": [
      "[CV]  criterion=entropy, max_depth=3, min_samples_leaf=1, min_samples_split=10, score=0.327416846638301, total=   0.2s\n",
      "[CV] criterion=entropy, max_depth=3, min_samples_leaf=1, min_samples_split=10 \n",
      "[CV]  criterion=entropy, max_depth=3, min_samples_leaf=1, min_samples_split=10, score=0.3100913888394634, total=   0.3s\n",
      "[CV] criterion=entropy, max_depth=3, min_samples_leaf=1, min_samples_split=10 \n"
     ]
    },
    {
     "name": "stderr",
     "output_type": "stream",
     "text": [
      "/anaconda3/lib/python3.7/site-packages/sklearn/metrics/classification.py:1143: UndefinedMetricWarning: F-score is ill-defined and being set to 0.0 in labels with no predicted samples.\n",
      "  'precision', 'predicted', average, warn_for)\n",
      "/anaconda3/lib/python3.7/site-packages/sklearn/metrics/classification.py:1143: UndefinedMetricWarning: F-score is ill-defined and being set to 0.0 in labels with no predicted samples.\n",
      "  'precision', 'predicted', average, warn_for)\n",
      "/anaconda3/lib/python3.7/site-packages/sklearn/metrics/classification.py:1143: UndefinedMetricWarning: F-score is ill-defined and being set to 0.0 in labels with no predicted samples.\n",
      "  'precision', 'predicted', average, warn_for)\n"
     ]
    },
    {
     "name": "stdout",
     "output_type": "stream",
     "text": [
      "[CV]  criterion=entropy, max_depth=3, min_samples_leaf=1, min_samples_split=10, score=0.29270034006816403, total=   0.2s\n",
      "[CV] criterion=entropy, max_depth=3, min_samples_leaf=2, min_samples_split=2 \n",
      "[CV]  criterion=entropy, max_depth=3, min_samples_leaf=2, min_samples_split=2, score=0.327416846638301, total=   0.2s\n",
      "[CV] criterion=entropy, max_depth=3, min_samples_leaf=2, min_samples_split=2 \n"
     ]
    },
    {
     "name": "stderr",
     "output_type": "stream",
     "text": [
      "/anaconda3/lib/python3.7/site-packages/sklearn/metrics/classification.py:1143: UndefinedMetricWarning: F-score is ill-defined and being set to 0.0 in labels with no predicted samples.\n",
      "  'precision', 'predicted', average, warn_for)\n"
     ]
    },
    {
     "name": "stdout",
     "output_type": "stream",
     "text": [
      "[CV]  criterion=entropy, max_depth=3, min_samples_leaf=2, min_samples_split=2, score=0.3100913888394634, total=   0.2s\n",
      "[CV] criterion=entropy, max_depth=3, min_samples_leaf=2, min_samples_split=2 \n"
     ]
    },
    {
     "name": "stderr",
     "output_type": "stream",
     "text": [
      "/anaconda3/lib/python3.7/site-packages/sklearn/metrics/classification.py:1143: UndefinedMetricWarning: F-score is ill-defined and being set to 0.0 in labels with no predicted samples.\n",
      "  'precision', 'predicted', average, warn_for)\n",
      "/anaconda3/lib/python3.7/site-packages/sklearn/metrics/classification.py:1143: UndefinedMetricWarning: F-score is ill-defined and being set to 0.0 in labels with no predicted samples.\n",
      "  'precision', 'predicted', average, warn_for)\n"
     ]
    },
    {
     "name": "stdout",
     "output_type": "stream",
     "text": [
      "[CV]  criterion=entropy, max_depth=3, min_samples_leaf=2, min_samples_split=2, score=0.29270034006816403, total=   0.2s\n",
      "[CV] criterion=entropy, max_depth=3, min_samples_leaf=2, min_samples_split=5 \n"
     ]
    },
    {
     "name": "stderr",
     "output_type": "stream",
     "text": [
      "/anaconda3/lib/python3.7/site-packages/sklearn/metrics/classification.py:1143: UndefinedMetricWarning: F-score is ill-defined and being set to 0.0 in labels with no predicted samples.\n",
      "  'precision', 'predicted', average, warn_for)\n",
      "/anaconda3/lib/python3.7/site-packages/sklearn/metrics/classification.py:1143: UndefinedMetricWarning: F-score is ill-defined and being set to 0.0 in labels with no predicted samples.\n",
      "  'precision', 'predicted', average, warn_for)\n"
     ]
    },
    {
     "name": "stdout",
     "output_type": "stream",
     "text": [
      "[CV]  criterion=entropy, max_depth=3, min_samples_leaf=2, min_samples_split=5, score=0.327416846638301, total=   0.2s\n",
      "[CV] criterion=entropy, max_depth=3, min_samples_leaf=2, min_samples_split=5 \n",
      "[CV]  criterion=entropy, max_depth=3, min_samples_leaf=2, min_samples_split=5, score=0.3100913888394634, total=   0.2s\n",
      "[CV] criterion=entropy, max_depth=3, min_samples_leaf=2, min_samples_split=5 \n"
     ]
    },
    {
     "name": "stderr",
     "output_type": "stream",
     "text": [
      "/anaconda3/lib/python3.7/site-packages/sklearn/metrics/classification.py:1143: UndefinedMetricWarning: F-score is ill-defined and being set to 0.0 in labels with no predicted samples.\n",
      "  'precision', 'predicted', average, warn_for)\n",
      "/anaconda3/lib/python3.7/site-packages/sklearn/metrics/classification.py:1143: UndefinedMetricWarning: F-score is ill-defined and being set to 0.0 in labels with no predicted samples.\n",
      "  'precision', 'predicted', average, warn_for)\n"
     ]
    },
    {
     "name": "stdout",
     "output_type": "stream",
     "text": [
      "[CV]  criterion=entropy, max_depth=3, min_samples_leaf=2, min_samples_split=5, score=0.29270034006816403, total=   0.2s\n",
      "[CV] criterion=entropy, max_depth=3, min_samples_leaf=2, min_samples_split=10 \n"
     ]
    },
    {
     "name": "stderr",
     "output_type": "stream",
     "text": [
      "/anaconda3/lib/python3.7/site-packages/sklearn/metrics/classification.py:1143: UndefinedMetricWarning: F-score is ill-defined and being set to 0.0 in labels with no predicted samples.\n",
      "  'precision', 'predicted', average, warn_for)\n",
      "/anaconda3/lib/python3.7/site-packages/sklearn/metrics/classification.py:1143: UndefinedMetricWarning: F-score is ill-defined and being set to 0.0 in labels with no predicted samples.\n",
      "  'precision', 'predicted', average, warn_for)\n"
     ]
    },
    {
     "name": "stdout",
     "output_type": "stream",
     "text": [
      "[CV]  criterion=entropy, max_depth=3, min_samples_leaf=2, min_samples_split=10, score=0.327416846638301, total=   0.2s\n",
      "[CV] criterion=entropy, max_depth=3, min_samples_leaf=2, min_samples_split=10 \n",
      "[CV]  criterion=entropy, max_depth=3, min_samples_leaf=2, min_samples_split=10, score=0.3100913888394634, total=   0.2s\n",
      "[CV] criterion=entropy, max_depth=3, min_samples_leaf=2, min_samples_split=10 \n"
     ]
    },
    {
     "name": "stderr",
     "output_type": "stream",
     "text": [
      "/anaconda3/lib/python3.7/site-packages/sklearn/metrics/classification.py:1143: UndefinedMetricWarning: F-score is ill-defined and being set to 0.0 in labels with no predicted samples.\n",
      "  'precision', 'predicted', average, warn_for)\n",
      "/anaconda3/lib/python3.7/site-packages/sklearn/metrics/classification.py:1143: UndefinedMetricWarning: F-score is ill-defined and being set to 0.0 in labels with no predicted samples.\n",
      "  'precision', 'predicted', average, warn_for)\n"
     ]
    },
    {
     "name": "stdout",
     "output_type": "stream",
     "text": [
      "[CV]  criterion=entropy, max_depth=3, min_samples_leaf=2, min_samples_split=10, score=0.29270034006816403, total=   0.2s\n",
      "[CV] criterion=entropy, max_depth=3, min_samples_leaf=3, min_samples_split=2 \n"
     ]
    },
    {
     "name": "stderr",
     "output_type": "stream",
     "text": [
      "/anaconda3/lib/python3.7/site-packages/sklearn/metrics/classification.py:1143: UndefinedMetricWarning: F-score is ill-defined and being set to 0.0 in labels with no predicted samples.\n",
      "  'precision', 'predicted', average, warn_for)\n",
      "/anaconda3/lib/python3.7/site-packages/sklearn/metrics/classification.py:1143: UndefinedMetricWarning: F-score is ill-defined and being set to 0.0 in labels with no predicted samples.\n",
      "  'precision', 'predicted', average, warn_for)\n"
     ]
    },
    {
     "name": "stdout",
     "output_type": "stream",
     "text": [
      "[CV]  criterion=entropy, max_depth=3, min_samples_leaf=3, min_samples_split=2, score=0.327416846638301, total=   0.2s\n",
      "[CV] criterion=entropy, max_depth=3, min_samples_leaf=3, min_samples_split=2 \n",
      "[CV]  criterion=entropy, max_depth=3, min_samples_leaf=3, min_samples_split=2, score=0.3100913888394634, total=   0.2s\n",
      "[CV] criterion=entropy, max_depth=3, min_samples_leaf=3, min_samples_split=2 \n"
     ]
    },
    {
     "name": "stderr",
     "output_type": "stream",
     "text": [
      "/anaconda3/lib/python3.7/site-packages/sklearn/metrics/classification.py:1143: UndefinedMetricWarning: F-score is ill-defined and being set to 0.0 in labels with no predicted samples.\n",
      "  'precision', 'predicted', average, warn_for)\n",
      "/anaconda3/lib/python3.7/site-packages/sklearn/metrics/classification.py:1143: UndefinedMetricWarning: F-score is ill-defined and being set to 0.0 in labels with no predicted samples.\n",
      "  'precision', 'predicted', average, warn_for)\n"
     ]
    },
    {
     "name": "stdout",
     "output_type": "stream",
     "text": [
      "[CV]  criterion=entropy, max_depth=3, min_samples_leaf=3, min_samples_split=2, score=0.29270034006816403, total=   0.2s\n",
      "[CV] criterion=entropy, max_depth=3, min_samples_leaf=3, min_samples_split=5 \n"
     ]
    },
    {
     "name": "stderr",
     "output_type": "stream",
     "text": [
      "/anaconda3/lib/python3.7/site-packages/sklearn/metrics/classification.py:1143: UndefinedMetricWarning: F-score is ill-defined and being set to 0.0 in labels with no predicted samples.\n",
      "  'precision', 'predicted', average, warn_for)\n",
      "/anaconda3/lib/python3.7/site-packages/sklearn/metrics/classification.py:1143: UndefinedMetricWarning: F-score is ill-defined and being set to 0.0 in labels with no predicted samples.\n",
      "  'precision', 'predicted', average, warn_for)\n"
     ]
    },
    {
     "name": "stdout",
     "output_type": "stream",
     "text": [
      "[CV]  criterion=entropy, max_depth=3, min_samples_leaf=3, min_samples_split=5, score=0.327416846638301, total=   0.2s\n",
      "[CV] criterion=entropy, max_depth=3, min_samples_leaf=3, min_samples_split=5 \n",
      "[CV]  criterion=entropy, max_depth=3, min_samples_leaf=3, min_samples_split=5, score=0.3100913888394634, total=   0.3s\n",
      "[CV] criterion=entropy, max_depth=3, min_samples_leaf=3, min_samples_split=5 \n"
     ]
    },
    {
     "name": "stderr",
     "output_type": "stream",
     "text": [
      "/anaconda3/lib/python3.7/site-packages/sklearn/metrics/classification.py:1143: UndefinedMetricWarning: F-score is ill-defined and being set to 0.0 in labels with no predicted samples.\n",
      "  'precision', 'predicted', average, warn_for)\n",
      "/anaconda3/lib/python3.7/site-packages/sklearn/metrics/classification.py:1143: UndefinedMetricWarning: F-score is ill-defined and being set to 0.0 in labels with no predicted samples.\n",
      "  'precision', 'predicted', average, warn_for)\n",
      "/anaconda3/lib/python3.7/site-packages/sklearn/metrics/classification.py:1143: UndefinedMetricWarning: F-score is ill-defined and being set to 0.0 in labels with no predicted samples.\n",
      "  'precision', 'predicted', average, warn_for)\n"
     ]
    },
    {
     "name": "stdout",
     "output_type": "stream",
     "text": [
      "[CV]  criterion=entropy, max_depth=3, min_samples_leaf=3, min_samples_split=5, score=0.29270034006816403, total=   0.2s\n",
      "[CV] criterion=entropy, max_depth=3, min_samples_leaf=3, min_samples_split=10 \n",
      "[CV]  criterion=entropy, max_depth=3, min_samples_leaf=3, min_samples_split=10, score=0.327416846638301, total=   0.2s\n",
      "[CV] criterion=entropy, max_depth=3, min_samples_leaf=3, min_samples_split=10 \n"
     ]
    },
    {
     "name": "stderr",
     "output_type": "stream",
     "text": [
      "/anaconda3/lib/python3.7/site-packages/sklearn/metrics/classification.py:1143: UndefinedMetricWarning: F-score is ill-defined and being set to 0.0 in labels with no predicted samples.\n",
      "  'precision', 'predicted', average, warn_for)\n"
     ]
    },
    {
     "name": "stdout",
     "output_type": "stream",
     "text": [
      "[CV]  criterion=entropy, max_depth=3, min_samples_leaf=3, min_samples_split=10, score=0.3100913888394634, total=   0.2s\n",
      "[CV] criterion=entropy, max_depth=3, min_samples_leaf=3, min_samples_split=10 \n",
      "[CV]  criterion=entropy, max_depth=3, min_samples_leaf=3, min_samples_split=10, score=0.29270034006816403, total=   0.2s\n",
      "[CV] criterion=entropy, max_depth=3, min_samples_leaf=4, min_samples_split=2 \n"
     ]
    },
    {
     "name": "stderr",
     "output_type": "stream",
     "text": [
      "/anaconda3/lib/python3.7/site-packages/sklearn/metrics/classification.py:1143: UndefinedMetricWarning: F-score is ill-defined and being set to 0.0 in labels with no predicted samples.\n",
      "  'precision', 'predicted', average, warn_for)\n",
      "/anaconda3/lib/python3.7/site-packages/sklearn/metrics/classification.py:1143: UndefinedMetricWarning: F-score is ill-defined and being set to 0.0 in labels with no predicted samples.\n",
      "  'precision', 'predicted', average, warn_for)\n",
      "/anaconda3/lib/python3.7/site-packages/sklearn/metrics/classification.py:1143: UndefinedMetricWarning: F-score is ill-defined and being set to 0.0 in labels with no predicted samples.\n",
      "  'precision', 'predicted', average, warn_for)\n",
      "/anaconda3/lib/python3.7/site-packages/sklearn/metrics/classification.py:1143: UndefinedMetricWarning: F-score is ill-defined and being set to 0.0 in labels with no predicted samples.\n",
      "  'precision', 'predicted', average, warn_for)\n"
     ]
    },
    {
     "name": "stdout",
     "output_type": "stream",
     "text": [
      "[CV]  criterion=entropy, max_depth=3, min_samples_leaf=4, min_samples_split=2, score=0.327416846638301, total=   0.2s\n",
      "[CV] criterion=entropy, max_depth=3, min_samples_leaf=4, min_samples_split=2 \n",
      "[CV]  criterion=entropy, max_depth=3, min_samples_leaf=4, min_samples_split=2, score=0.3100913888394634, total=   0.2s\n",
      "[CV] criterion=entropy, max_depth=3, min_samples_leaf=4, min_samples_split=2 \n",
      "[CV]  criterion=entropy, max_depth=3, min_samples_leaf=4, min_samples_split=2, score=0.29270034006816403, total=   0.2s\n",
      "[CV] criterion=entropy, max_depth=3, min_samples_leaf=4, min_samples_split=5 \n"
     ]
    },
    {
     "name": "stderr",
     "output_type": "stream",
     "text": [
      "/anaconda3/lib/python3.7/site-packages/sklearn/metrics/classification.py:1143: UndefinedMetricWarning: F-score is ill-defined and being set to 0.0 in labels with no predicted samples.\n",
      "  'precision', 'predicted', average, warn_for)\n",
      "/anaconda3/lib/python3.7/site-packages/sklearn/metrics/classification.py:1143: UndefinedMetricWarning: F-score is ill-defined and being set to 0.0 in labels with no predicted samples.\n",
      "  'precision', 'predicted', average, warn_for)\n",
      "/anaconda3/lib/python3.7/site-packages/sklearn/metrics/classification.py:1143: UndefinedMetricWarning: F-score is ill-defined and being set to 0.0 in labels with no predicted samples.\n",
      "  'precision', 'predicted', average, warn_for)\n",
      "/anaconda3/lib/python3.7/site-packages/sklearn/metrics/classification.py:1143: UndefinedMetricWarning: F-score is ill-defined and being set to 0.0 in labels with no predicted samples.\n",
      "  'precision', 'predicted', average, warn_for)\n"
     ]
    },
    {
     "name": "stdout",
     "output_type": "stream",
     "text": [
      "[CV]  criterion=entropy, max_depth=3, min_samples_leaf=4, min_samples_split=5, score=0.327416846638301, total=   0.2s\n",
      "[CV] criterion=entropy, max_depth=3, min_samples_leaf=4, min_samples_split=5 \n",
      "[CV]  criterion=entropy, max_depth=3, min_samples_leaf=4, min_samples_split=5, score=0.3100913888394634, total=   0.2s\n",
      "[CV] criterion=entropy, max_depth=3, min_samples_leaf=4, min_samples_split=5 \n"
     ]
    },
    {
     "name": "stderr",
     "output_type": "stream",
     "text": [
      "/anaconda3/lib/python3.7/site-packages/sklearn/metrics/classification.py:1143: UndefinedMetricWarning: F-score is ill-defined and being set to 0.0 in labels with no predicted samples.\n",
      "  'precision', 'predicted', average, warn_for)\n",
      "/anaconda3/lib/python3.7/site-packages/sklearn/metrics/classification.py:1143: UndefinedMetricWarning: F-score is ill-defined and being set to 0.0 in labels with no predicted samples.\n",
      "  'precision', 'predicted', average, warn_for)\n"
     ]
    },
    {
     "name": "stdout",
     "output_type": "stream",
     "text": [
      "[CV]  criterion=entropy, max_depth=3, min_samples_leaf=4, min_samples_split=5, score=0.29270034006816403, total=   0.2s\n",
      "[CV] criterion=entropy, max_depth=3, min_samples_leaf=4, min_samples_split=10 \n"
     ]
    },
    {
     "name": "stderr",
     "output_type": "stream",
     "text": [
      "/anaconda3/lib/python3.7/site-packages/sklearn/metrics/classification.py:1143: UndefinedMetricWarning: F-score is ill-defined and being set to 0.0 in labels with no predicted samples.\n",
      "  'precision', 'predicted', average, warn_for)\n",
      "/anaconda3/lib/python3.7/site-packages/sklearn/metrics/classification.py:1143: UndefinedMetricWarning: F-score is ill-defined and being set to 0.0 in labels with no predicted samples.\n",
      "  'precision', 'predicted', average, warn_for)\n"
     ]
    },
    {
     "name": "stdout",
     "output_type": "stream",
     "text": [
      "[CV]  criterion=entropy, max_depth=3, min_samples_leaf=4, min_samples_split=10, score=0.327416846638301, total=   0.2s\n",
      "[CV] criterion=entropy, max_depth=3, min_samples_leaf=4, min_samples_split=10 \n",
      "[CV]  criterion=entropy, max_depth=3, min_samples_leaf=4, min_samples_split=10, score=0.3100913888394634, total=   0.2s\n",
      "[CV] criterion=entropy, max_depth=3, min_samples_leaf=4, min_samples_split=10 \n"
     ]
    },
    {
     "name": "stderr",
     "output_type": "stream",
     "text": [
      "/anaconda3/lib/python3.7/site-packages/sklearn/metrics/classification.py:1143: UndefinedMetricWarning: F-score is ill-defined and being set to 0.0 in labels with no predicted samples.\n",
      "  'precision', 'predicted', average, warn_for)\n",
      "/anaconda3/lib/python3.7/site-packages/sklearn/metrics/classification.py:1143: UndefinedMetricWarning: F-score is ill-defined and being set to 0.0 in labels with no predicted samples.\n",
      "  'precision', 'predicted', average, warn_for)\n",
      "/anaconda3/lib/python3.7/site-packages/sklearn/metrics/classification.py:1143: UndefinedMetricWarning: F-score is ill-defined and being set to 0.0 in labels with no predicted samples.\n",
      "  'precision', 'predicted', average, warn_for)\n"
     ]
    },
    {
     "name": "stdout",
     "output_type": "stream",
     "text": [
      "[CV]  criterion=entropy, max_depth=3, min_samples_leaf=4, min_samples_split=10, score=0.29270034006816403, total=   0.2s\n",
      "[CV] criterion=entropy, max_depth=3, min_samples_leaf=5, min_samples_split=2 \n",
      "[CV]  criterion=entropy, max_depth=3, min_samples_leaf=5, min_samples_split=2, score=0.327416846638301, total=   0.2s\n",
      "[CV] criterion=entropy, max_depth=3, min_samples_leaf=5, min_samples_split=2 "
     ]
    },
    {
     "name": "stderr",
     "output_type": "stream",
     "text": [
      "/anaconda3/lib/python3.7/site-packages/sklearn/metrics/classification.py:1143: UndefinedMetricWarning: F-score is ill-defined and being set to 0.0 in labels with no predicted samples.\n",
      "  'precision', 'predicted', average, warn_for)\n"
     ]
    },
    {
     "name": "stdout",
     "output_type": "stream",
     "text": [
      "\n",
      "[CV]  criterion=entropy, max_depth=3, min_samples_leaf=5, min_samples_split=2, score=0.3100913888394634, total=   0.2s\n",
      "[CV] criterion=entropy, max_depth=3, min_samples_leaf=5, min_samples_split=2 \n"
     ]
    },
    {
     "name": "stderr",
     "output_type": "stream",
     "text": [
      "/anaconda3/lib/python3.7/site-packages/sklearn/metrics/classification.py:1143: UndefinedMetricWarning: F-score is ill-defined and being set to 0.0 in labels with no predicted samples.\n",
      "  'precision', 'predicted', average, warn_for)\n",
      "/anaconda3/lib/python3.7/site-packages/sklearn/metrics/classification.py:1143: UndefinedMetricWarning: F-score is ill-defined and being set to 0.0 in labels with no predicted samples.\n",
      "  'precision', 'predicted', average, warn_for)\n"
     ]
    },
    {
     "name": "stdout",
     "output_type": "stream",
     "text": [
      "[CV]  criterion=entropy, max_depth=3, min_samples_leaf=5, min_samples_split=2, score=0.29270034006816403, total=   0.2s\n",
      "[CV] criterion=entropy, max_depth=3, min_samples_leaf=5, min_samples_split=5 \n"
     ]
    },
    {
     "name": "stderr",
     "output_type": "stream",
     "text": [
      "/anaconda3/lib/python3.7/site-packages/sklearn/metrics/classification.py:1143: UndefinedMetricWarning: F-score is ill-defined and being set to 0.0 in labels with no predicted samples.\n",
      "  'precision', 'predicted', average, warn_for)\n",
      "/anaconda3/lib/python3.7/site-packages/sklearn/metrics/classification.py:1143: UndefinedMetricWarning: F-score is ill-defined and being set to 0.0 in labels with no predicted samples.\n",
      "  'precision', 'predicted', average, warn_for)\n"
     ]
    },
    {
     "name": "stdout",
     "output_type": "stream",
     "text": [
      "[CV]  criterion=entropy, max_depth=3, min_samples_leaf=5, min_samples_split=5, score=0.327416846638301, total=   0.2s\n",
      "[CV] criterion=entropy, max_depth=3, min_samples_leaf=5, min_samples_split=5 \n",
      "[CV]  criterion=entropy, max_depth=3, min_samples_leaf=5, min_samples_split=5, score=0.3100913888394634, total=   0.2s\n",
      "[CV] criterion=entropy, max_depth=3, min_samples_leaf=5, min_samples_split=5 \n"
     ]
    },
    {
     "name": "stderr",
     "output_type": "stream",
     "text": [
      "/anaconda3/lib/python3.7/site-packages/sklearn/metrics/classification.py:1143: UndefinedMetricWarning: F-score is ill-defined and being set to 0.0 in labels with no predicted samples.\n",
      "  'precision', 'predicted', average, warn_for)\n",
      "/anaconda3/lib/python3.7/site-packages/sklearn/metrics/classification.py:1143: UndefinedMetricWarning: F-score is ill-defined and being set to 0.0 in labels with no predicted samples.\n",
      "  'precision', 'predicted', average, warn_for)\n",
      "/anaconda3/lib/python3.7/site-packages/sklearn/metrics/classification.py:1143: UndefinedMetricWarning: F-score is ill-defined and being set to 0.0 in labels with no predicted samples.\n",
      "  'precision', 'predicted', average, warn_for)\n"
     ]
    },
    {
     "name": "stdout",
     "output_type": "stream",
     "text": [
      "[CV]  criterion=entropy, max_depth=3, min_samples_leaf=5, min_samples_split=5, score=0.29270034006816403, total=   0.2s\n",
      "[CV] criterion=entropy, max_depth=3, min_samples_leaf=5, min_samples_split=10 \n",
      "[CV]  criterion=entropy, max_depth=3, min_samples_leaf=5, min_samples_split=10, score=0.327416846638301, total=   0.2s\n",
      "[CV] criterion=entropy, max_depth=3, min_samples_leaf=5, min_samples_split=10 \n"
     ]
    },
    {
     "name": "stderr",
     "output_type": "stream",
     "text": [
      "/anaconda3/lib/python3.7/site-packages/sklearn/metrics/classification.py:1143: UndefinedMetricWarning: F-score is ill-defined and being set to 0.0 in labels with no predicted samples.\n",
      "  'precision', 'predicted', average, warn_for)\n"
     ]
    },
    {
     "name": "stdout",
     "output_type": "stream",
     "text": [
      "[CV]  criterion=entropy, max_depth=3, min_samples_leaf=5, min_samples_split=10, score=0.3100913888394634, total=   0.2s\n",
      "[CV] criterion=entropy, max_depth=3, min_samples_leaf=5, min_samples_split=10 \n",
      "[CV]  criterion=entropy, max_depth=3, min_samples_leaf=5, min_samples_split=10, score=0.29270034006816403, total=   0.2s\n",
      "[CV] criterion=entropy, max_depth=3, min_samples_leaf=6, min_samples_split=2 \n"
     ]
    },
    {
     "name": "stderr",
     "output_type": "stream",
     "text": [
      "/anaconda3/lib/python3.7/site-packages/sklearn/metrics/classification.py:1143: UndefinedMetricWarning: F-score is ill-defined and being set to 0.0 in labels with no predicted samples.\n",
      "  'precision', 'predicted', average, warn_for)\n",
      "/anaconda3/lib/python3.7/site-packages/sklearn/metrics/classification.py:1143: UndefinedMetricWarning: F-score is ill-defined and being set to 0.0 in labels with no predicted samples.\n",
      "  'precision', 'predicted', average, warn_for)\n",
      "/anaconda3/lib/python3.7/site-packages/sklearn/metrics/classification.py:1143: UndefinedMetricWarning: F-score is ill-defined and being set to 0.0 in labels with no predicted samples.\n",
      "  'precision', 'predicted', average, warn_for)\n",
      "/anaconda3/lib/python3.7/site-packages/sklearn/metrics/classification.py:1143: UndefinedMetricWarning: F-score is ill-defined and being set to 0.0 in labels with no predicted samples.\n",
      "  'precision', 'predicted', average, warn_for)\n"
     ]
    },
    {
     "name": "stdout",
     "output_type": "stream",
     "text": [
      "[CV]  criterion=entropy, max_depth=3, min_samples_leaf=6, min_samples_split=2, score=0.327416846638301, total=   0.2s\n",
      "[CV] criterion=entropy, max_depth=3, min_samples_leaf=6, min_samples_split=2 \n",
      "[CV]  criterion=entropy, max_depth=3, min_samples_leaf=6, min_samples_split=2, score=0.3100913888394634, total=   0.2s\n",
      "[CV] criterion=entropy, max_depth=3, min_samples_leaf=6, min_samples_split=2 \n"
     ]
    },
    {
     "name": "stderr",
     "output_type": "stream",
     "text": [
      "/anaconda3/lib/python3.7/site-packages/sklearn/metrics/classification.py:1143: UndefinedMetricWarning: F-score is ill-defined and being set to 0.0 in labels with no predicted samples.\n",
      "  'precision', 'predicted', average, warn_for)\n",
      "/anaconda3/lib/python3.7/site-packages/sklearn/metrics/classification.py:1143: UndefinedMetricWarning: F-score is ill-defined and being set to 0.0 in labels with no predicted samples.\n",
      "  'precision', 'predicted', average, warn_for)\n",
      "/anaconda3/lib/python3.7/site-packages/sklearn/metrics/classification.py:1143: UndefinedMetricWarning: F-score is ill-defined and being set to 0.0 in labels with no predicted samples.\n",
      "  'precision', 'predicted', average, warn_for)\n"
     ]
    },
    {
     "name": "stdout",
     "output_type": "stream",
     "text": [
      "[CV]  criterion=entropy, max_depth=3, min_samples_leaf=6, min_samples_split=2, score=0.29270034006816403, total=   0.2s\n",
      "[CV] criterion=entropy, max_depth=3, min_samples_leaf=6, min_samples_split=5 \n"
     ]
    },
    {
     "name": "stderr",
     "output_type": "stream",
     "text": [
      "/anaconda3/lib/python3.7/site-packages/sklearn/metrics/classification.py:1143: UndefinedMetricWarning: F-score is ill-defined and being set to 0.0 in labels with no predicted samples.\n",
      "  'precision', 'predicted', average, warn_for)\n"
     ]
    },
    {
     "name": "stdout",
     "output_type": "stream",
     "text": [
      "[CV]  criterion=entropy, max_depth=3, min_samples_leaf=6, min_samples_split=5, score=0.327416846638301, total=   0.2s\n",
      "[CV] criterion=entropy, max_depth=3, min_samples_leaf=6, min_samples_split=5 \n",
      "[CV]  criterion=entropy, max_depth=3, min_samples_leaf=6, min_samples_split=5, score=0.3100913888394634, total=   0.2s\n",
      "[CV] criterion=entropy, max_depth=3, min_samples_leaf=6, min_samples_split=5 \n",
      "[CV]  criterion=entropy, max_depth=3, min_samples_leaf=6, min_samples_split=5, score=0.29270034006816403, total=   0.2s\n",
      "[CV] criterion=entropy, max_depth=3, min_samples_leaf=6, min_samples_split=10 \n"
     ]
    },
    {
     "name": "stderr",
     "output_type": "stream",
     "text": [
      "/anaconda3/lib/python3.7/site-packages/sklearn/metrics/classification.py:1143: UndefinedMetricWarning: F-score is ill-defined and being set to 0.0 in labels with no predicted samples.\n",
      "  'precision', 'predicted', average, warn_for)\n",
      "/anaconda3/lib/python3.7/site-packages/sklearn/metrics/classification.py:1143: UndefinedMetricWarning: F-score is ill-defined and being set to 0.0 in labels with no predicted samples.\n",
      "  'precision', 'predicted', average, warn_for)\n",
      "/anaconda3/lib/python3.7/site-packages/sklearn/metrics/classification.py:1143: UndefinedMetricWarning: F-score is ill-defined and being set to 0.0 in labels with no predicted samples.\n",
      "  'precision', 'predicted', average, warn_for)\n",
      "/anaconda3/lib/python3.7/site-packages/sklearn/metrics/classification.py:1143: UndefinedMetricWarning: F-score is ill-defined and being set to 0.0 in labels with no predicted samples.\n",
      "  'precision', 'predicted', average, warn_for)\n"
     ]
    },
    {
     "name": "stdout",
     "output_type": "stream",
     "text": [
      "[CV]  criterion=entropy, max_depth=3, min_samples_leaf=6, min_samples_split=10, score=0.327416846638301, total=   0.2s\n",
      "[CV] criterion=entropy, max_depth=3, min_samples_leaf=6, min_samples_split=10 \n",
      "[CV]  criterion=entropy, max_depth=3, min_samples_leaf=6, min_samples_split=10, score=0.3100913888394634, total=   0.2s\n",
      "[CV] criterion=entropy, max_depth=3, min_samples_leaf=6, min_samples_split=10 \n"
     ]
    },
    {
     "name": "stderr",
     "output_type": "stream",
     "text": [
      "/anaconda3/lib/python3.7/site-packages/sklearn/metrics/classification.py:1143: UndefinedMetricWarning: F-score is ill-defined and being set to 0.0 in labels with no predicted samples.\n",
      "  'precision', 'predicted', average, warn_for)\n",
      "/anaconda3/lib/python3.7/site-packages/sklearn/metrics/classification.py:1143: UndefinedMetricWarning: F-score is ill-defined and being set to 0.0 in labels with no predicted samples.\n",
      "  'precision', 'predicted', average, warn_for)\n"
     ]
    },
    {
     "name": "stdout",
     "output_type": "stream",
     "text": [
      "[CV]  criterion=entropy, max_depth=3, min_samples_leaf=6, min_samples_split=10, score=0.29270034006816403, total=   0.2s\n",
      "[CV] criterion=entropy, max_depth=4, min_samples_leaf=1, min_samples_split=2 \n",
      "[CV]  criterion=entropy, max_depth=4, min_samples_leaf=1, min_samples_split=2, score=0.32872498580585324, total=   0.2s\n",
      "[CV] criterion=entropy, max_depth=4, min_samples_leaf=1, min_samples_split=2 \n",
      "[CV]  criterion=entropy, max_depth=4, min_samples_leaf=1, min_samples_split=2, score=0.3074919551974153, total=   0.2s\n",
      "[CV] criterion=entropy, max_depth=4, min_samples_leaf=1, min_samples_split=2 \n"
     ]
    },
    {
     "name": "stderr",
     "output_type": "stream",
     "text": [
      "/anaconda3/lib/python3.7/site-packages/sklearn/metrics/classification.py:1143: UndefinedMetricWarning: F-score is ill-defined and being set to 0.0 in labels with no predicted samples.\n",
      "  'precision', 'predicted', average, warn_for)\n",
      "/anaconda3/lib/python3.7/site-packages/sklearn/metrics/classification.py:1143: UndefinedMetricWarning: F-score is ill-defined and being set to 0.0 in labels with no predicted samples.\n",
      "  'precision', 'predicted', average, warn_for)\n"
     ]
    },
    {
     "name": "stdout",
     "output_type": "stream",
     "text": [
      "[CV]  criterion=entropy, max_depth=4, min_samples_leaf=1, min_samples_split=2, score=0.29306578171666753, total=   0.2s\n",
      "[CV] criterion=entropy, max_depth=4, min_samples_leaf=1, min_samples_split=5 \n",
      "[CV]  criterion=entropy, max_depth=4, min_samples_leaf=1, min_samples_split=5, score=0.32872498580585324, total=   0.2s\n",
      "[CV] criterion=entropy, max_depth=4, min_samples_leaf=1, min_samples_split=5 \n",
      "[CV]  criterion=entropy, max_depth=4, min_samples_leaf=1, min_samples_split=5, score=0.3074919551974153, total=   0.2s\n",
      "[CV] criterion=entropy, max_depth=4, min_samples_leaf=1, min_samples_split=5 \n"
     ]
    },
    {
     "name": "stderr",
     "output_type": "stream",
     "text": [
      "/anaconda3/lib/python3.7/site-packages/sklearn/metrics/classification.py:1143: UndefinedMetricWarning: F-score is ill-defined and being set to 0.0 in labels with no predicted samples.\n",
      "  'precision', 'predicted', average, warn_for)\n",
      "/anaconda3/lib/python3.7/site-packages/sklearn/metrics/classification.py:1143: UndefinedMetricWarning: F-score is ill-defined and being set to 0.0 in labels with no predicted samples.\n",
      "  'precision', 'predicted', average, warn_for)\n"
     ]
    },
    {
     "name": "stdout",
     "output_type": "stream",
     "text": [
      "[CV]  criterion=entropy, max_depth=4, min_samples_leaf=1, min_samples_split=5, score=0.29306578171666753, total=   0.2s\n",
      "[CV] criterion=entropy, max_depth=4, min_samples_leaf=1, min_samples_split=10 \n",
      "[CV]  criterion=entropy, max_depth=4, min_samples_leaf=1, min_samples_split=10, score=0.32872498580585324, total=   0.3s\n",
      "[CV] criterion=entropy, max_depth=4, min_samples_leaf=1, min_samples_split=10 \n",
      "[CV]  criterion=entropy, max_depth=4, min_samples_leaf=1, min_samples_split=10, score=0.3074919551974153, total=   0.2s\n",
      "[CV] criterion=entropy, max_depth=4, min_samples_leaf=1, min_samples_split=10 \n"
     ]
    },
    {
     "name": "stderr",
     "output_type": "stream",
     "text": [
      "/anaconda3/lib/python3.7/site-packages/sklearn/metrics/classification.py:1143: UndefinedMetricWarning: F-score is ill-defined and being set to 0.0 in labels with no predicted samples.\n",
      "  'precision', 'predicted', average, warn_for)\n",
      "/anaconda3/lib/python3.7/site-packages/sklearn/metrics/classification.py:1143: UndefinedMetricWarning: F-score is ill-defined and being set to 0.0 in labels with no predicted samples.\n",
      "  'precision', 'predicted', average, warn_for)\n"
     ]
    },
    {
     "name": "stdout",
     "output_type": "stream",
     "text": [
      "[CV]  criterion=entropy, max_depth=4, min_samples_leaf=1, min_samples_split=10, score=0.29306578171666753, total=   0.2s\n",
      "[CV] criterion=entropy, max_depth=4, min_samples_leaf=2, min_samples_split=2 \n",
      "[CV]  criterion=entropy, max_depth=4, min_samples_leaf=2, min_samples_split=2, score=0.32872498580585324, total=   0.2s\n",
      "[CV] criterion=entropy, max_depth=4, min_samples_leaf=2, min_samples_split=2 \n",
      "[CV]  criterion=entropy, max_depth=4, min_samples_leaf=2, min_samples_split=2, score=0.3074919551974153, total=   0.3s\n",
      "[CV] criterion=entropy, max_depth=4, min_samples_leaf=2, min_samples_split=2 \n"
     ]
    },
    {
     "name": "stderr",
     "output_type": "stream",
     "text": [
      "/anaconda3/lib/python3.7/site-packages/sklearn/metrics/classification.py:1143: UndefinedMetricWarning: F-score is ill-defined and being set to 0.0 in labels with no predicted samples.\n",
      "  'precision', 'predicted', average, warn_for)\n",
      "/anaconda3/lib/python3.7/site-packages/sklearn/metrics/classification.py:1143: UndefinedMetricWarning: F-score is ill-defined and being set to 0.0 in labels with no predicted samples.\n",
      "  'precision', 'predicted', average, warn_for)\n"
     ]
    },
    {
     "name": "stdout",
     "output_type": "stream",
     "text": [
      "[CV]  criterion=entropy, max_depth=4, min_samples_leaf=2, min_samples_split=2, score=0.29306578171666753, total=   0.2s\n",
      "[CV] criterion=entropy, max_depth=4, min_samples_leaf=2, min_samples_split=5 \n",
      "[CV]  criterion=entropy, max_depth=4, min_samples_leaf=2, min_samples_split=5, score=0.32872498580585324, total=   0.2s\n",
      "[CV] criterion=entropy, max_depth=4, min_samples_leaf=2, min_samples_split=5 \n",
      "[CV]  criterion=entropy, max_depth=4, min_samples_leaf=2, min_samples_split=5, score=0.3074919551974153, total=   0.2s\n",
      "[CV] criterion=entropy, max_depth=4, min_samples_leaf=2, min_samples_split=5 \n"
     ]
    },
    {
     "name": "stderr",
     "output_type": "stream",
     "text": [
      "/anaconda3/lib/python3.7/site-packages/sklearn/metrics/classification.py:1143: UndefinedMetricWarning: F-score is ill-defined and being set to 0.0 in labels with no predicted samples.\n",
      "  'precision', 'predicted', average, warn_for)\n",
      "/anaconda3/lib/python3.7/site-packages/sklearn/metrics/classification.py:1143: UndefinedMetricWarning: F-score is ill-defined and being set to 0.0 in labels with no predicted samples.\n",
      "  'precision', 'predicted', average, warn_for)\n"
     ]
    },
    {
     "name": "stdout",
     "output_type": "stream",
     "text": [
      "[CV]  criterion=entropy, max_depth=4, min_samples_leaf=2, min_samples_split=5, score=0.29306578171666753, total=   0.2s\n",
      "[CV] criterion=entropy, max_depth=4, min_samples_leaf=2, min_samples_split=10 \n",
      "[CV]  criterion=entropy, max_depth=4, min_samples_leaf=2, min_samples_split=10, score=0.32872498580585324, total=   0.2s\n",
      "[CV] criterion=entropy, max_depth=4, min_samples_leaf=2, min_samples_split=10 \n",
      "[CV]  criterion=entropy, max_depth=4, min_samples_leaf=2, min_samples_split=10, score=0.3074919551974153, total=   0.2s\n",
      "[CV] criterion=entropy, max_depth=4, min_samples_leaf=2, min_samples_split=10 \n"
     ]
    },
    {
     "name": "stderr",
     "output_type": "stream",
     "text": [
      "/anaconda3/lib/python3.7/site-packages/sklearn/metrics/classification.py:1143: UndefinedMetricWarning: F-score is ill-defined and being set to 0.0 in labels with no predicted samples.\n",
      "  'precision', 'predicted', average, warn_for)\n",
      "/anaconda3/lib/python3.7/site-packages/sklearn/metrics/classification.py:1143: UndefinedMetricWarning: F-score is ill-defined and being set to 0.0 in labels with no predicted samples.\n",
      "  'precision', 'predicted', average, warn_for)\n"
     ]
    },
    {
     "name": "stdout",
     "output_type": "stream",
     "text": [
      "[CV]  criterion=entropy, max_depth=4, min_samples_leaf=2, min_samples_split=10, score=0.29306578171666753, total=   0.2s\n",
      "[CV] criterion=entropy, max_depth=4, min_samples_leaf=3, min_samples_split=2 \n",
      "[CV]  criterion=entropy, max_depth=4, min_samples_leaf=3, min_samples_split=2, score=0.32872498580585324, total=   0.2s\n",
      "[CV] criterion=entropy, max_depth=4, min_samples_leaf=3, min_samples_split=2 \n",
      "[CV]  criterion=entropy, max_depth=4, min_samples_leaf=3, min_samples_split=2, score=0.3074919551974153, total=   0.2s\n",
      "[CV] criterion=entropy, max_depth=4, min_samples_leaf=3, min_samples_split=2 \n"
     ]
    },
    {
     "name": "stderr",
     "output_type": "stream",
     "text": [
      "/anaconda3/lib/python3.7/site-packages/sklearn/metrics/classification.py:1143: UndefinedMetricWarning: F-score is ill-defined and being set to 0.0 in labels with no predicted samples.\n",
      "  'precision', 'predicted', average, warn_for)\n",
      "/anaconda3/lib/python3.7/site-packages/sklearn/metrics/classification.py:1143: UndefinedMetricWarning: F-score is ill-defined and being set to 0.0 in labels with no predicted samples.\n",
      "  'precision', 'predicted', average, warn_for)\n"
     ]
    },
    {
     "name": "stdout",
     "output_type": "stream",
     "text": [
      "[CV]  criterion=entropy, max_depth=4, min_samples_leaf=3, min_samples_split=2, score=0.29306578171666753, total=   0.2s\n",
      "[CV] criterion=entropy, max_depth=4, min_samples_leaf=3, min_samples_split=5 \n",
      "[CV]  criterion=entropy, max_depth=4, min_samples_leaf=3, min_samples_split=5, score=0.32872498580585324, total=   0.2s\n",
      "[CV] criterion=entropy, max_depth=4, min_samples_leaf=3, min_samples_split=5 \n",
      "[CV]  criterion=entropy, max_depth=4, min_samples_leaf=3, min_samples_split=5, score=0.3074919551974153, total=   0.3s\n",
      "[CV] criterion=entropy, max_depth=4, min_samples_leaf=3, min_samples_split=5 \n"
     ]
    },
    {
     "name": "stderr",
     "output_type": "stream",
     "text": [
      "/anaconda3/lib/python3.7/site-packages/sklearn/metrics/classification.py:1143: UndefinedMetricWarning: F-score is ill-defined and being set to 0.0 in labels with no predicted samples.\n",
      "  'precision', 'predicted', average, warn_for)\n",
      "/anaconda3/lib/python3.7/site-packages/sklearn/metrics/classification.py:1143: UndefinedMetricWarning: F-score is ill-defined and being set to 0.0 in labels with no predicted samples.\n",
      "  'precision', 'predicted', average, warn_for)\n"
     ]
    },
    {
     "name": "stdout",
     "output_type": "stream",
     "text": [
      "[CV]  criterion=entropy, max_depth=4, min_samples_leaf=3, min_samples_split=5, score=0.29306578171666753, total=   0.2s\n",
      "[CV] criterion=entropy, max_depth=4, min_samples_leaf=3, min_samples_split=10 \n",
      "[CV]  criterion=entropy, max_depth=4, min_samples_leaf=3, min_samples_split=10, score=0.32872498580585324, total=   0.2s\n",
      "[CV] criterion=entropy, max_depth=4, min_samples_leaf=3, min_samples_split=10 \n",
      "[CV]  criterion=entropy, max_depth=4, min_samples_leaf=3, min_samples_split=10, score=0.3074919551974153, total=   0.3s\n",
      "[CV] criterion=entropy, max_depth=4, min_samples_leaf=3, min_samples_split=10 \n"
     ]
    },
    {
     "name": "stderr",
     "output_type": "stream",
     "text": [
      "/anaconda3/lib/python3.7/site-packages/sklearn/metrics/classification.py:1143: UndefinedMetricWarning: F-score is ill-defined and being set to 0.0 in labels with no predicted samples.\n",
      "  'precision', 'predicted', average, warn_for)\n",
      "/anaconda3/lib/python3.7/site-packages/sklearn/metrics/classification.py:1143: UndefinedMetricWarning: F-score is ill-defined and being set to 0.0 in labels with no predicted samples.\n",
      "  'precision', 'predicted', average, warn_for)\n"
     ]
    },
    {
     "name": "stdout",
     "output_type": "stream",
     "text": [
      "[CV]  criterion=entropy, max_depth=4, min_samples_leaf=3, min_samples_split=10, score=0.29306578171666753, total=   0.2s\n",
      "[CV] criterion=entropy, max_depth=4, min_samples_leaf=4, min_samples_split=2 \n",
      "[CV]  criterion=entropy, max_depth=4, min_samples_leaf=4, min_samples_split=2, score=0.32872498580585324, total=   0.2s\n",
      "[CV] criterion=entropy, max_depth=4, min_samples_leaf=4, min_samples_split=2 \n",
      "[CV]  criterion=entropy, max_depth=4, min_samples_leaf=4, min_samples_split=2, score=0.3074919551974153, total=   0.2s\n",
      "[CV] criterion=entropy, max_depth=4, min_samples_leaf=4, min_samples_split=2 \n"
     ]
    },
    {
     "name": "stderr",
     "output_type": "stream",
     "text": [
      "/anaconda3/lib/python3.7/site-packages/sklearn/metrics/classification.py:1143: UndefinedMetricWarning: F-score is ill-defined and being set to 0.0 in labels with no predicted samples.\n",
      "  'precision', 'predicted', average, warn_for)\n",
      "/anaconda3/lib/python3.7/site-packages/sklearn/metrics/classification.py:1143: UndefinedMetricWarning: F-score is ill-defined and being set to 0.0 in labels with no predicted samples.\n",
      "  'precision', 'predicted', average, warn_for)\n"
     ]
    },
    {
     "name": "stdout",
     "output_type": "stream",
     "text": [
      "[CV]  criterion=entropy, max_depth=4, min_samples_leaf=4, min_samples_split=2, score=0.29306578171666753, total=   0.2s\n",
      "[CV] criterion=entropy, max_depth=4, min_samples_leaf=4, min_samples_split=5 \n",
      "[CV]  criterion=entropy, max_depth=4, min_samples_leaf=4, min_samples_split=5, score=0.32872498580585324, total=   0.2s\n",
      "[CV] criterion=entropy, max_depth=4, min_samples_leaf=4, min_samples_split=5 \n",
      "[CV]  criterion=entropy, max_depth=4, min_samples_leaf=4, min_samples_split=5, score=0.3074919551974153, total=   0.3s\n",
      "[CV] criterion=entropy, max_depth=4, min_samples_leaf=4, min_samples_split=5 \n"
     ]
    },
    {
     "name": "stderr",
     "output_type": "stream",
     "text": [
      "/anaconda3/lib/python3.7/site-packages/sklearn/metrics/classification.py:1143: UndefinedMetricWarning: F-score is ill-defined and being set to 0.0 in labels with no predicted samples.\n",
      "  'precision', 'predicted', average, warn_for)\n",
      "/anaconda3/lib/python3.7/site-packages/sklearn/metrics/classification.py:1143: UndefinedMetricWarning: F-score is ill-defined and being set to 0.0 in labels with no predicted samples.\n",
      "  'precision', 'predicted', average, warn_for)\n"
     ]
    },
    {
     "name": "stdout",
     "output_type": "stream",
     "text": [
      "[CV]  criterion=entropy, max_depth=4, min_samples_leaf=4, min_samples_split=5, score=0.29306578171666753, total=   0.2s\n",
      "[CV] criterion=entropy, max_depth=4, min_samples_leaf=4, min_samples_split=10 \n",
      "[CV]  criterion=entropy, max_depth=4, min_samples_leaf=4, min_samples_split=10, score=0.32872498580585324, total=   0.3s\n",
      "[CV] criterion=entropy, max_depth=4, min_samples_leaf=4, min_samples_split=10 \n",
      "[CV]  criterion=entropy, max_depth=4, min_samples_leaf=4, min_samples_split=10, score=0.3074919551974153, total=   0.3s\n",
      "[CV] criterion=entropy, max_depth=4, min_samples_leaf=4, min_samples_split=10 \n"
     ]
    },
    {
     "name": "stderr",
     "output_type": "stream",
     "text": [
      "/anaconda3/lib/python3.7/site-packages/sklearn/metrics/classification.py:1143: UndefinedMetricWarning: F-score is ill-defined and being set to 0.0 in labels with no predicted samples.\n",
      "  'precision', 'predicted', average, warn_for)\n",
      "/anaconda3/lib/python3.7/site-packages/sklearn/metrics/classification.py:1143: UndefinedMetricWarning: F-score is ill-defined and being set to 0.0 in labels with no predicted samples.\n",
      "  'precision', 'predicted', average, warn_for)\n"
     ]
    },
    {
     "name": "stdout",
     "output_type": "stream",
     "text": [
      "[CV]  criterion=entropy, max_depth=4, min_samples_leaf=4, min_samples_split=10, score=0.29306578171666753, total=   0.2s\n",
      "[CV] criterion=entropy, max_depth=4, min_samples_leaf=5, min_samples_split=2 \n",
      "[CV]  criterion=entropy, max_depth=4, min_samples_leaf=5, min_samples_split=2, score=0.32872498580585324, total=   0.2s\n",
      "[CV] criterion=entropy, max_depth=4, min_samples_leaf=5, min_samples_split=2 \n",
      "[CV]  criterion=entropy, max_depth=4, min_samples_leaf=5, min_samples_split=2, score=0.3074919551974153, total=   0.2s\n",
      "[CV] criterion=entropy, max_depth=4, min_samples_leaf=5, min_samples_split=2 \n"
     ]
    },
    {
     "name": "stderr",
     "output_type": "stream",
     "text": [
      "/anaconda3/lib/python3.7/site-packages/sklearn/metrics/classification.py:1143: UndefinedMetricWarning: F-score is ill-defined and being set to 0.0 in labels with no predicted samples.\n",
      "  'precision', 'predicted', average, warn_for)\n",
      "/anaconda3/lib/python3.7/site-packages/sklearn/metrics/classification.py:1143: UndefinedMetricWarning: F-score is ill-defined and being set to 0.0 in labels with no predicted samples.\n",
      "  'precision', 'predicted', average, warn_for)\n"
     ]
    },
    {
     "name": "stdout",
     "output_type": "stream",
     "text": [
      "[CV]  criterion=entropy, max_depth=4, min_samples_leaf=5, min_samples_split=2, score=0.29306578171666753, total=   0.2s\n",
      "[CV] criterion=entropy, max_depth=4, min_samples_leaf=5, min_samples_split=5 \n",
      "[CV]  criterion=entropy, max_depth=4, min_samples_leaf=5, min_samples_split=5, score=0.32872498580585324, total=   0.2s\n",
      "[CV] criterion=entropy, max_depth=4, min_samples_leaf=5, min_samples_split=5 \n",
      "[CV]  criterion=entropy, max_depth=4, min_samples_leaf=5, min_samples_split=5, score=0.3074919551974153, total=   0.2s\n",
      "[CV] criterion=entropy, max_depth=4, min_samples_leaf=5, min_samples_split=5 \n"
     ]
    },
    {
     "name": "stderr",
     "output_type": "stream",
     "text": [
      "/anaconda3/lib/python3.7/site-packages/sklearn/metrics/classification.py:1143: UndefinedMetricWarning: F-score is ill-defined and being set to 0.0 in labels with no predicted samples.\n",
      "  'precision', 'predicted', average, warn_for)\n",
      "/anaconda3/lib/python3.7/site-packages/sklearn/metrics/classification.py:1143: UndefinedMetricWarning: F-score is ill-defined and being set to 0.0 in labels with no predicted samples.\n",
      "  'precision', 'predicted', average, warn_for)\n"
     ]
    },
    {
     "name": "stdout",
     "output_type": "stream",
     "text": [
      "[CV]  criterion=entropy, max_depth=4, min_samples_leaf=5, min_samples_split=5, score=0.29306578171666753, total=   0.2s\n",
      "[CV] criterion=entropy, max_depth=4, min_samples_leaf=5, min_samples_split=10 \n",
      "[CV]  criterion=entropy, max_depth=4, min_samples_leaf=5, min_samples_split=10, score=0.32872498580585324, total=   0.2s\n",
      "[CV] criterion=entropy, max_depth=4, min_samples_leaf=5, min_samples_split=10 \n",
      "[CV]  criterion=entropy, max_depth=4, min_samples_leaf=5, min_samples_split=10, score=0.3074919551974153, total=   0.2s\n",
      "[CV] criterion=entropy, max_depth=4, min_samples_leaf=5, min_samples_split=10 \n"
     ]
    },
    {
     "name": "stderr",
     "output_type": "stream",
     "text": [
      "/anaconda3/lib/python3.7/site-packages/sklearn/metrics/classification.py:1143: UndefinedMetricWarning: F-score is ill-defined and being set to 0.0 in labels with no predicted samples.\n",
      "  'precision', 'predicted', average, warn_for)\n",
      "/anaconda3/lib/python3.7/site-packages/sklearn/metrics/classification.py:1143: UndefinedMetricWarning: F-score is ill-defined and being set to 0.0 in labels with no predicted samples.\n",
      "  'precision', 'predicted', average, warn_for)\n"
     ]
    },
    {
     "name": "stdout",
     "output_type": "stream",
     "text": [
      "[CV]  criterion=entropy, max_depth=4, min_samples_leaf=5, min_samples_split=10, score=0.29306578171666753, total=   0.2s\n",
      "[CV] criterion=entropy, max_depth=4, min_samples_leaf=6, min_samples_split=2 \n",
      "[CV]  criterion=entropy, max_depth=4, min_samples_leaf=6, min_samples_split=2, score=0.32872498580585324, total=   0.2s\n",
      "[CV] criterion=entropy, max_depth=4, min_samples_leaf=6, min_samples_split=2 \n",
      "[CV]  criterion=entropy, max_depth=4, min_samples_leaf=6, min_samples_split=2, score=0.3074919551974153, total=   0.2s\n",
      "[CV] criterion=entropy, max_depth=4, min_samples_leaf=6, min_samples_split=2 \n"
     ]
    },
    {
     "name": "stderr",
     "output_type": "stream",
     "text": [
      "/anaconda3/lib/python3.7/site-packages/sklearn/metrics/classification.py:1143: UndefinedMetricWarning: F-score is ill-defined and being set to 0.0 in labels with no predicted samples.\n",
      "  'precision', 'predicted', average, warn_for)\n",
      "/anaconda3/lib/python3.7/site-packages/sklearn/metrics/classification.py:1143: UndefinedMetricWarning: F-score is ill-defined and being set to 0.0 in labels with no predicted samples.\n",
      "  'precision', 'predicted', average, warn_for)\n"
     ]
    },
    {
     "name": "stdout",
     "output_type": "stream",
     "text": [
      "[CV]  criterion=entropy, max_depth=4, min_samples_leaf=6, min_samples_split=2, score=0.29306578171666753, total=   0.2s\n",
      "[CV] criterion=entropy, max_depth=4, min_samples_leaf=6, min_samples_split=5 \n",
      "[CV]  criterion=entropy, max_depth=4, min_samples_leaf=6, min_samples_split=5, score=0.32872498580585324, total=   0.2s\n",
      "[CV] criterion=entropy, max_depth=4, min_samples_leaf=6, min_samples_split=5 \n",
      "[CV]  criterion=entropy, max_depth=4, min_samples_leaf=6, min_samples_split=5, score=0.3074919551974153, total=   0.2s\n",
      "[CV] criterion=entropy, max_depth=4, min_samples_leaf=6, min_samples_split=5 \n"
     ]
    },
    {
     "name": "stderr",
     "output_type": "stream",
     "text": [
      "/anaconda3/lib/python3.7/site-packages/sklearn/metrics/classification.py:1143: UndefinedMetricWarning: F-score is ill-defined and being set to 0.0 in labels with no predicted samples.\n",
      "  'precision', 'predicted', average, warn_for)\n",
      "/anaconda3/lib/python3.7/site-packages/sklearn/metrics/classification.py:1143: UndefinedMetricWarning: F-score is ill-defined and being set to 0.0 in labels with no predicted samples.\n",
      "  'precision', 'predicted', average, warn_for)\n"
     ]
    },
    {
     "name": "stdout",
     "output_type": "stream",
     "text": [
      "[CV]  criterion=entropy, max_depth=4, min_samples_leaf=6, min_samples_split=5, score=0.29306578171666753, total=   0.2s\n",
      "[CV] criterion=entropy, max_depth=4, min_samples_leaf=6, min_samples_split=10 \n",
      "[CV]  criterion=entropy, max_depth=4, min_samples_leaf=6, min_samples_split=10, score=0.32872498580585324, total=   0.2s\n",
      "[CV] criterion=entropy, max_depth=4, min_samples_leaf=6, min_samples_split=10 \n",
      "[CV]  criterion=entropy, max_depth=4, min_samples_leaf=6, min_samples_split=10, score=0.3074919551974153, total=   0.2s\n",
      "[CV] criterion=entropy, max_depth=4, min_samples_leaf=6, min_samples_split=10 \n"
     ]
    },
    {
     "name": "stderr",
     "output_type": "stream",
     "text": [
      "/anaconda3/lib/python3.7/site-packages/sklearn/metrics/classification.py:1143: UndefinedMetricWarning: F-score is ill-defined and being set to 0.0 in labels with no predicted samples.\n",
      "  'precision', 'predicted', average, warn_for)\n",
      "/anaconda3/lib/python3.7/site-packages/sklearn/metrics/classification.py:1143: UndefinedMetricWarning: F-score is ill-defined and being set to 0.0 in labels with no predicted samples.\n",
      "  'precision', 'predicted', average, warn_for)\n"
     ]
    },
    {
     "name": "stdout",
     "output_type": "stream",
     "text": [
      "[CV]  criterion=entropy, max_depth=4, min_samples_leaf=6, min_samples_split=10, score=0.29306578171666753, total=   0.2s\n",
      "[CV] criterion=entropy, max_depth=5, min_samples_leaf=1, min_samples_split=2 \n",
      "[CV]  criterion=entropy, max_depth=5, min_samples_leaf=1, min_samples_split=2, score=0.3271852988269295, total=   0.3s\n",
      "[CV] criterion=entropy, max_depth=5, min_samples_leaf=1, min_samples_split=2 \n",
      "[CV]  criterion=entropy, max_depth=5, min_samples_leaf=1, min_samples_split=2, score=0.3077298759298799, total=   0.3s\n",
      "[CV] criterion=entropy, max_depth=5, min_samples_leaf=1, min_samples_split=2 \n",
      "[CV]  criterion=entropy, max_depth=5, min_samples_leaf=1, min_samples_split=2, score=0.3261788077834334, total=   0.3s\n",
      "[CV] criterion=entropy, max_depth=5, min_samples_leaf=1, min_samples_split=5 \n",
      "[CV]  criterion=entropy, max_depth=5, min_samples_leaf=1, min_samples_split=5, score=0.3271852988269295, total=   0.3s\n",
      "[CV] criterion=entropy, max_depth=5, min_samples_leaf=1, min_samples_split=5 \n",
      "[CV]  criterion=entropy, max_depth=5, min_samples_leaf=1, min_samples_split=5, score=0.3077298759298799, total=   0.3s\n",
      "[CV] criterion=entropy, max_depth=5, min_samples_leaf=1, min_samples_split=5 \n",
      "[CV]  criterion=entropy, max_depth=5, min_samples_leaf=1, min_samples_split=5, score=0.3261788077834334, total=   0.3s\n",
      "[CV] criterion=entropy, max_depth=5, min_samples_leaf=1, min_samples_split=10 \n",
      "[CV]  criterion=entropy, max_depth=5, min_samples_leaf=1, min_samples_split=10, score=0.3271852988269295, total=   0.3s\n",
      "[CV] criterion=entropy, max_depth=5, min_samples_leaf=1, min_samples_split=10 \n",
      "[CV]  criterion=entropy, max_depth=5, min_samples_leaf=1, min_samples_split=10, score=0.3077298759298799, total=   0.3s\n",
      "[CV] criterion=entropy, max_depth=5, min_samples_leaf=1, min_samples_split=10 \n",
      "[CV]  criterion=entropy, max_depth=5, min_samples_leaf=1, min_samples_split=10, score=0.3261788077834334, total=   0.3s\n",
      "[CV] criterion=entropy, max_depth=5, min_samples_leaf=2, min_samples_split=2 \n",
      "[CV]  criterion=entropy, max_depth=5, min_samples_leaf=2, min_samples_split=2, score=0.3271852988269295, total=   0.3s\n",
      "[CV] criterion=entropy, max_depth=5, min_samples_leaf=2, min_samples_split=2 \n",
      "[CV]  criterion=entropy, max_depth=5, min_samples_leaf=2, min_samples_split=2, score=0.3077298759298799, total=   0.3s\n",
      "[CV] criterion=entropy, max_depth=5, min_samples_leaf=2, min_samples_split=2 \n",
      "[CV]  criterion=entropy, max_depth=5, min_samples_leaf=2, min_samples_split=2, score=0.3261788077834334, total=   0.3s\n",
      "[CV] criterion=entropy, max_depth=5, min_samples_leaf=2, min_samples_split=5 \n",
      "[CV]  criterion=entropy, max_depth=5, min_samples_leaf=2, min_samples_split=5, score=0.3271852988269295, total=   0.3s\n",
      "[CV] criterion=entropy, max_depth=5, min_samples_leaf=2, min_samples_split=5 \n",
      "[CV]  criterion=entropy, max_depth=5, min_samples_leaf=2, min_samples_split=5, score=0.3077298759298799, total=   0.3s\n",
      "[CV] criterion=entropy, max_depth=5, min_samples_leaf=2, min_samples_split=5 \n",
      "[CV]  criterion=entropy, max_depth=5, min_samples_leaf=2, min_samples_split=5, score=0.3261788077834334, total=   0.3s\n",
      "[CV] criterion=entropy, max_depth=5, min_samples_leaf=2, min_samples_split=10 \n",
      "[CV]  criterion=entropy, max_depth=5, min_samples_leaf=2, min_samples_split=10, score=0.3271852988269295, total=   0.3s\n",
      "[CV] criterion=entropy, max_depth=5, min_samples_leaf=2, min_samples_split=10 \n",
      "[CV]  criterion=entropy, max_depth=5, min_samples_leaf=2, min_samples_split=10, score=0.3077298759298799, total=   0.3s\n",
      "[CV] criterion=entropy, max_depth=5, min_samples_leaf=2, min_samples_split=10 \n",
      "[CV]  criterion=entropy, max_depth=5, min_samples_leaf=2, min_samples_split=10, score=0.3261788077834334, total=   0.3s\n",
      "[CV] criterion=entropy, max_depth=5, min_samples_leaf=3, min_samples_split=2 \n",
      "[CV]  criterion=entropy, max_depth=5, min_samples_leaf=3, min_samples_split=2, score=0.3271852988269295, total=   0.3s\n",
      "[CV] criterion=entropy, max_depth=5, min_samples_leaf=3, min_samples_split=2 \n",
      "[CV]  criterion=entropy, max_depth=5, min_samples_leaf=3, min_samples_split=2, score=0.3077298759298799, total=   0.3s\n",
      "[CV] criterion=entropy, max_depth=5, min_samples_leaf=3, min_samples_split=2 \n",
      "[CV]  criterion=entropy, max_depth=5, min_samples_leaf=3, min_samples_split=2, score=0.3261788077834334, total=   0.3s\n",
      "[CV] criterion=entropy, max_depth=5, min_samples_leaf=3, min_samples_split=5 \n",
      "[CV]  criterion=entropy, max_depth=5, min_samples_leaf=3, min_samples_split=5, score=0.3271852988269295, total=   0.3s\n",
      "[CV] criterion=entropy, max_depth=5, min_samples_leaf=3, min_samples_split=5 \n",
      "[CV]  criterion=entropy, max_depth=5, min_samples_leaf=3, min_samples_split=5, score=0.3077298759298799, total=   0.4s\n",
      "[CV] criterion=entropy, max_depth=5, min_samples_leaf=3, min_samples_split=5 \n",
      "[CV]  criterion=entropy, max_depth=5, min_samples_leaf=3, min_samples_split=5, score=0.3261788077834334, total=   0.3s\n",
      "[CV] criterion=entropy, max_depth=5, min_samples_leaf=3, min_samples_split=10 \n",
      "[CV]  criterion=entropy, max_depth=5, min_samples_leaf=3, min_samples_split=10, score=0.3271852988269295, total=   0.3s\n",
      "[CV] criterion=entropy, max_depth=5, min_samples_leaf=3, min_samples_split=10 \n",
      "[CV]  criterion=entropy, max_depth=5, min_samples_leaf=3, min_samples_split=10, score=0.3077298759298799, total=   0.3s\n",
      "[CV] criterion=entropy, max_depth=5, min_samples_leaf=3, min_samples_split=10 \n",
      "[CV]  criterion=entropy, max_depth=5, min_samples_leaf=3, min_samples_split=10, score=0.3261788077834334, total=   0.3s\n",
      "[CV] criterion=entropy, max_depth=5, min_samples_leaf=4, min_samples_split=2 \n",
      "[CV]  criterion=entropy, max_depth=5, min_samples_leaf=4, min_samples_split=2, score=0.3271852988269295, total=   0.3s\n",
      "[CV] criterion=entropy, max_depth=5, min_samples_leaf=4, min_samples_split=2 \n",
      "[CV]  criterion=entropy, max_depth=5, min_samples_leaf=4, min_samples_split=2, score=0.3077298759298799, total=   0.3s\n",
      "[CV] criterion=entropy, max_depth=5, min_samples_leaf=4, min_samples_split=2 \n",
      "[CV]  criterion=entropy, max_depth=5, min_samples_leaf=4, min_samples_split=2, score=0.3261788077834334, total=   0.3s\n",
      "[CV] criterion=entropy, max_depth=5, min_samples_leaf=4, min_samples_split=5 \n",
      "[CV]  criterion=entropy, max_depth=5, min_samples_leaf=4, min_samples_split=5, score=0.3271852988269295, total=   0.3s\n",
      "[CV] criterion=entropy, max_depth=5, min_samples_leaf=4, min_samples_split=5 \n",
      "[CV]  criterion=entropy, max_depth=5, min_samples_leaf=4, min_samples_split=5, score=0.3077298759298799, total=   0.3s\n",
      "[CV] criterion=entropy, max_depth=5, min_samples_leaf=4, min_samples_split=5 \n",
      "[CV]  criterion=entropy, max_depth=5, min_samples_leaf=4, min_samples_split=5, score=0.3261788077834334, total=   0.3s\n",
      "[CV] criterion=entropy, max_depth=5, min_samples_leaf=4, min_samples_split=10 \n",
      "[CV]  criterion=entropy, max_depth=5, min_samples_leaf=4, min_samples_split=10, score=0.3271852988269295, total=   0.3s\n",
      "[CV] criterion=entropy, max_depth=5, min_samples_leaf=4, min_samples_split=10 \n",
      "[CV]  criterion=entropy, max_depth=5, min_samples_leaf=4, min_samples_split=10, score=0.3077298759298799, total=   0.3s\n",
      "[CV] criterion=entropy, max_depth=5, min_samples_leaf=4, min_samples_split=10 \n",
      "[CV]  criterion=entropy, max_depth=5, min_samples_leaf=4, min_samples_split=10, score=0.3261788077834334, total=   0.3s\n",
      "[CV] criterion=entropy, max_depth=5, min_samples_leaf=5, min_samples_split=2 \n",
      "[CV]  criterion=entropy, max_depth=5, min_samples_leaf=5, min_samples_split=2, score=0.3271852988269295, total=   0.3s\n",
      "[CV] criterion=entropy, max_depth=5, min_samples_leaf=5, min_samples_split=2 \n",
      "[CV]  criterion=entropy, max_depth=5, min_samples_leaf=5, min_samples_split=2, score=0.3077298759298799, total=   0.3s\n",
      "[CV] criterion=entropy, max_depth=5, min_samples_leaf=5, min_samples_split=2 \n",
      "[CV]  criterion=entropy, max_depth=5, min_samples_leaf=5, min_samples_split=2, score=0.32634542368928915, total=   0.3s\n",
      "[CV] criterion=entropy, max_depth=5, min_samples_leaf=5, min_samples_split=5 \n",
      "[CV]  criterion=entropy, max_depth=5, min_samples_leaf=5, min_samples_split=5, score=0.3271852988269295, total=   0.3s\n",
      "[CV] criterion=entropy, max_depth=5, min_samples_leaf=5, min_samples_split=5 \n",
      "[CV]  criterion=entropy, max_depth=5, min_samples_leaf=5, min_samples_split=5, score=0.3077298759298799, total=   0.3s\n",
      "[CV] criterion=entropy, max_depth=5, min_samples_leaf=5, min_samples_split=5 \n"
     ]
    },
    {
     "name": "stdout",
     "output_type": "stream",
     "text": [
      "[CV]  criterion=entropy, max_depth=5, min_samples_leaf=5, min_samples_split=5, score=0.32634542368928915, total=   0.3s\n",
      "[CV] criterion=entropy, max_depth=5, min_samples_leaf=5, min_samples_split=10 \n",
      "[CV]  criterion=entropy, max_depth=5, min_samples_leaf=5, min_samples_split=10, score=0.3271852988269295, total=   0.3s\n",
      "[CV] criterion=entropy, max_depth=5, min_samples_leaf=5, min_samples_split=10 \n",
      "[CV]  criterion=entropy, max_depth=5, min_samples_leaf=5, min_samples_split=10, score=0.3077298759298799, total=   0.3s\n",
      "[CV] criterion=entropy, max_depth=5, min_samples_leaf=5, min_samples_split=10 \n",
      "[CV]  criterion=entropy, max_depth=5, min_samples_leaf=5, min_samples_split=10, score=0.32634542368928915, total=   0.3s\n",
      "[CV] criterion=entropy, max_depth=5, min_samples_leaf=6, min_samples_split=2 \n",
      "[CV]  criterion=entropy, max_depth=5, min_samples_leaf=6, min_samples_split=2, score=0.32721592197559485, total=   0.3s\n",
      "[CV] criterion=entropy, max_depth=5, min_samples_leaf=6, min_samples_split=2 \n",
      "[CV]  criterion=entropy, max_depth=5, min_samples_leaf=6, min_samples_split=2, score=0.3077298759298799, total=   0.3s\n",
      "[CV] criterion=entropy, max_depth=5, min_samples_leaf=6, min_samples_split=2 \n",
      "[CV]  criterion=entropy, max_depth=5, min_samples_leaf=6, min_samples_split=2, score=0.32634542368928915, total=   0.3s\n",
      "[CV] criterion=entropy, max_depth=5, min_samples_leaf=6, min_samples_split=5 \n",
      "[CV]  criterion=entropy, max_depth=5, min_samples_leaf=6, min_samples_split=5, score=0.32721592197559485, total=   0.3s\n",
      "[CV] criterion=entropy, max_depth=5, min_samples_leaf=6, min_samples_split=5 \n",
      "[CV]  criterion=entropy, max_depth=5, min_samples_leaf=6, min_samples_split=5, score=0.3077298759298799, total=   0.3s\n",
      "[CV] criterion=entropy, max_depth=5, min_samples_leaf=6, min_samples_split=5 \n",
      "[CV]  criterion=entropy, max_depth=5, min_samples_leaf=6, min_samples_split=5, score=0.32634542368928915, total=   0.3s\n",
      "[CV] criterion=entropy, max_depth=5, min_samples_leaf=6, min_samples_split=10 \n",
      "[CV]  criterion=entropy, max_depth=5, min_samples_leaf=6, min_samples_split=10, score=0.32721592197559485, total=   0.3s\n",
      "[CV] criterion=entropy, max_depth=5, min_samples_leaf=6, min_samples_split=10 \n",
      "[CV]  criterion=entropy, max_depth=5, min_samples_leaf=6, min_samples_split=10, score=0.3077298759298799, total=   0.3s\n",
      "[CV] criterion=entropy, max_depth=5, min_samples_leaf=6, min_samples_split=10 \n",
      "[CV]  criterion=entropy, max_depth=5, min_samples_leaf=6, min_samples_split=10, score=0.32634542368928915, total=   0.3s\n",
      "[CV] criterion=entropy, max_depth=6, min_samples_leaf=1, min_samples_split=2 \n",
      "[CV]  criterion=entropy, max_depth=6, min_samples_leaf=1, min_samples_split=2, score=0.3134505962852281, total=   0.3s\n",
      "[CV] criterion=entropy, max_depth=6, min_samples_leaf=1, min_samples_split=2 \n",
      "[CV]  criterion=entropy, max_depth=6, min_samples_leaf=1, min_samples_split=2, score=0.307961036840768, total=   0.3s\n",
      "[CV] criterion=entropy, max_depth=6, min_samples_leaf=1, min_samples_split=2 \n",
      "[CV]  criterion=entropy, max_depth=6, min_samples_leaf=1, min_samples_split=2, score=0.33478784196696093, total=   0.3s\n",
      "[CV] criterion=entropy, max_depth=6, min_samples_leaf=1, min_samples_split=5 \n",
      "[CV]  criterion=entropy, max_depth=6, min_samples_leaf=1, min_samples_split=5, score=0.3131676762825389, total=   0.3s\n",
      "[CV] criterion=entropy, max_depth=6, min_samples_leaf=1, min_samples_split=5 \n",
      "[CV]  criterion=entropy, max_depth=6, min_samples_leaf=1, min_samples_split=5, score=0.307961036840768, total=   0.3s\n",
      "[CV] criterion=entropy, max_depth=6, min_samples_leaf=1, min_samples_split=5 \n",
      "[CV]  criterion=entropy, max_depth=6, min_samples_leaf=1, min_samples_split=5, score=0.33478784196696093, total=   0.4s\n",
      "[CV] criterion=entropy, max_depth=6, min_samples_leaf=1, min_samples_split=10 \n",
      "[CV]  criterion=entropy, max_depth=6, min_samples_leaf=1, min_samples_split=10, score=0.31281104711151847, total=   0.3s\n",
      "[CV] criterion=entropy, max_depth=6, min_samples_leaf=1, min_samples_split=10 \n",
      "[CV]  criterion=entropy, max_depth=6, min_samples_leaf=1, min_samples_split=10, score=0.3084821011355586, total=   0.3s\n",
      "[CV] criterion=entropy, max_depth=6, min_samples_leaf=1, min_samples_split=10 \n",
      "[CV]  criterion=entropy, max_depth=6, min_samples_leaf=1, min_samples_split=10, score=0.33478219778346147, total=   0.4s\n",
      "[CV] criterion=entropy, max_depth=6, min_samples_leaf=2, min_samples_split=2 \n",
      "[CV]  criterion=entropy, max_depth=6, min_samples_leaf=2, min_samples_split=2, score=0.313059580955563, total=   0.3s\n",
      "[CV] criterion=entropy, max_depth=6, min_samples_leaf=2, min_samples_split=2 \n",
      "[CV]  criterion=entropy, max_depth=6, min_samples_leaf=2, min_samples_split=2, score=0.30850777178754013, total=   0.3s\n",
      "[CV] criterion=entropy, max_depth=6, min_samples_leaf=2, min_samples_split=2 \n",
      "[CV]  criterion=entropy, max_depth=6, min_samples_leaf=2, min_samples_split=2, score=0.33478784196696093, total=   0.4s\n",
      "[CV] criterion=entropy, max_depth=6, min_samples_leaf=2, min_samples_split=5 \n",
      "[CV]  criterion=entropy, max_depth=6, min_samples_leaf=2, min_samples_split=5, score=0.3129462635091312, total=   0.3s\n",
      "[CV] criterion=entropy, max_depth=6, min_samples_leaf=2, min_samples_split=5 \n",
      "[CV]  criterion=entropy, max_depth=6, min_samples_leaf=2, min_samples_split=5, score=0.3084792920471646, total=   0.4s\n",
      "[CV] criterion=entropy, max_depth=6, min_samples_leaf=2, min_samples_split=5 \n",
      "[CV]  criterion=entropy, max_depth=6, min_samples_leaf=2, min_samples_split=5, score=0.33478784196696093, total=   0.3s\n",
      "[CV] criterion=entropy, max_depth=6, min_samples_leaf=2, min_samples_split=10 \n",
      "[CV]  criterion=entropy, max_depth=6, min_samples_leaf=2, min_samples_split=10, score=0.31298097289871535, total=   0.3s\n",
      "[CV] criterion=entropy, max_depth=6, min_samples_leaf=2, min_samples_split=10 \n",
      "[CV]  criterion=entropy, max_depth=6, min_samples_leaf=2, min_samples_split=10, score=0.30850777178754013, total=   0.4s\n",
      "[CV] criterion=entropy, max_depth=6, min_samples_leaf=2, min_samples_split=10 \n",
      "[CV]  criterion=entropy, max_depth=6, min_samples_leaf=2, min_samples_split=10, score=0.33478219778346147, total=   0.3s\n",
      "[CV] criterion=entropy, max_depth=6, min_samples_leaf=3, min_samples_split=2 \n",
      "[CV]  criterion=entropy, max_depth=6, min_samples_leaf=3, min_samples_split=2, score=0.31300292370156135, total=   0.3s\n",
      "[CV] criterion=entropy, max_depth=6, min_samples_leaf=3, min_samples_split=2 \n",
      "[CV]  criterion=entropy, max_depth=6, min_samples_leaf=3, min_samples_split=2, score=0.3096999449037054, total=   0.3s\n",
      "[CV] criterion=entropy, max_depth=6, min_samples_leaf=3, min_samples_split=2 \n",
      "[CV]  criterion=entropy, max_depth=6, min_samples_leaf=3, min_samples_split=2, score=0.33478784196696093, total=   0.3s\n",
      "[CV] criterion=entropy, max_depth=6, min_samples_leaf=3, min_samples_split=5 \n",
      "[CV]  criterion=entropy, max_depth=6, min_samples_leaf=3, min_samples_split=5, score=0.31300292370156135, total=   0.3s\n",
      "[CV] criterion=entropy, max_depth=6, min_samples_leaf=3, min_samples_split=5 \n",
      "[CV]  criterion=entropy, max_depth=6, min_samples_leaf=3, min_samples_split=5, score=0.3096714631356809, total=   0.4s\n",
      "[CV] criterion=entropy, max_depth=6, min_samples_leaf=3, min_samples_split=5 \n",
      "[CV]  criterion=entropy, max_depth=6, min_samples_leaf=3, min_samples_split=5, score=0.33478784196696093, total=   0.3s\n",
      "[CV] criterion=entropy, max_depth=6, min_samples_leaf=3, min_samples_split=10 \n",
      "[CV]  criterion=entropy, max_depth=6, min_samples_leaf=3, min_samples_split=10, score=0.31281104711151847, total=   0.4s\n",
      "[CV] criterion=entropy, max_depth=6, min_samples_leaf=3, min_samples_split=10 \n",
      "[CV]  criterion=entropy, max_depth=6, min_samples_leaf=3, min_samples_split=10, score=0.3096714631356809, total=   0.3s\n",
      "[CV] criterion=entropy, max_depth=6, min_samples_leaf=3, min_samples_split=10 \n",
      "[CV]  criterion=entropy, max_depth=6, min_samples_leaf=3, min_samples_split=10, score=0.33478219778346147, total=   0.3s\n",
      "[CV] criterion=entropy, max_depth=6, min_samples_leaf=4, min_samples_split=2 \n",
      "[CV]  criterion=entropy, max_depth=6, min_samples_leaf=4, min_samples_split=2, score=0.3134211128121735, total=   0.4s\n",
      "[CV] criterion=entropy, max_depth=6, min_samples_leaf=4, min_samples_split=2 \n",
      "[CV]  criterion=entropy, max_depth=6, min_samples_leaf=4, min_samples_split=2, score=0.3096714631356809, total=   0.3s\n",
      "[CV] criterion=entropy, max_depth=6, min_samples_leaf=4, min_samples_split=2 \n"
     ]
    },
    {
     "name": "stdout",
     "output_type": "stream",
     "text": [
      "[CV]  criterion=entropy, max_depth=6, min_samples_leaf=4, min_samples_split=2, score=0.334827436330053, total=   0.3s\n",
      "[CV] criterion=entropy, max_depth=6, min_samples_leaf=4, min_samples_split=5 \n",
      "[CV]  criterion=entropy, max_depth=6, min_samples_leaf=4, min_samples_split=5, score=0.3133116710906738, total=   0.4s\n",
      "[CV] criterion=entropy, max_depth=6, min_samples_leaf=4, min_samples_split=5 \n",
      "[CV]  criterion=entropy, max_depth=6, min_samples_leaf=4, min_samples_split=5, score=0.3096999449037054, total=   0.3s\n",
      "[CV] criterion=entropy, max_depth=6, min_samples_leaf=4, min_samples_split=5 \n",
      "[CV]  criterion=entropy, max_depth=6, min_samples_leaf=4, min_samples_split=5, score=0.334827436330053, total=   0.3s\n",
      "[CV] criterion=entropy, max_depth=6, min_samples_leaf=4, min_samples_split=10 \n",
      "[CV]  criterion=entropy, max_depth=6, min_samples_leaf=4, min_samples_split=10, score=0.3136508623357194, total=   0.3s\n",
      "[CV] criterion=entropy, max_depth=6, min_samples_leaf=4, min_samples_split=10 \n",
      "[CV]  criterion=entropy, max_depth=6, min_samples_leaf=4, min_samples_split=10, score=0.3096999449037054, total=   0.3s\n",
      "[CV] criterion=entropy, max_depth=6, min_samples_leaf=4, min_samples_split=10 \n",
      "[CV]  criterion=entropy, max_depth=6, min_samples_leaf=4, min_samples_split=10, score=0.3348217934977928, total=   0.3s\n",
      "[CV] criterion=entropy, max_depth=6, min_samples_leaf=5, min_samples_split=2 \n",
      "[CV]  criterion=entropy, max_depth=6, min_samples_leaf=5, min_samples_split=2, score=0.3136468442052612, total=   0.3s\n",
      "[CV] criterion=entropy, max_depth=6, min_samples_leaf=5, min_samples_split=2 \n",
      "[CV]  criterion=entropy, max_depth=6, min_samples_leaf=5, min_samples_split=2, score=0.3096999449037054, total=   0.3s\n",
      "[CV] criterion=entropy, max_depth=6, min_samples_leaf=5, min_samples_split=2 \n",
      "[CV]  criterion=entropy, max_depth=6, min_samples_leaf=5, min_samples_split=2, score=0.3349293793633503, total=   0.4s\n",
      "[CV] criterion=entropy, max_depth=6, min_samples_leaf=5, min_samples_split=5 \n",
      "[CV]  criterion=entropy, max_depth=6, min_samples_leaf=5, min_samples_split=5, score=0.31400772354820305, total=   0.3s\n",
      "[CV] criterion=entropy, max_depth=6, min_samples_leaf=5, min_samples_split=5 \n",
      "[CV]  criterion=entropy, max_depth=6, min_samples_leaf=5, min_samples_split=5, score=0.3096714631356809, total=   0.3s\n",
      "[CV] criterion=entropy, max_depth=6, min_samples_leaf=5, min_samples_split=5 \n",
      "[CV]  criterion=entropy, max_depth=6, min_samples_leaf=5, min_samples_split=5, score=0.3349293793633503, total=   0.4s\n",
      "[CV] criterion=entropy, max_depth=6, min_samples_leaf=5, min_samples_split=10 \n",
      "[CV]  criterion=entropy, max_depth=6, min_samples_leaf=5, min_samples_split=10, score=0.31313777838821427, total=   0.3s\n",
      "[CV] criterion=entropy, max_depth=6, min_samples_leaf=5, min_samples_split=10 \n",
      "[CV]  criterion=entropy, max_depth=6, min_samples_leaf=5, min_samples_split=10, score=0.3096714631356809, total=   0.3s\n",
      "[CV] criterion=entropy, max_depth=6, min_samples_leaf=5, min_samples_split=10 \n",
      "[CV]  criterion=entropy, max_depth=6, min_samples_leaf=5, min_samples_split=10, score=0.3349293793633503, total=   0.4s\n",
      "[CV] criterion=entropy, max_depth=6, min_samples_leaf=6, min_samples_split=2 \n",
      "[CV]  criterion=entropy, max_depth=6, min_samples_leaf=6, min_samples_split=2, score=0.3131418460673759, total=   0.4s\n",
      "[CV] criterion=entropy, max_depth=6, min_samples_leaf=6, min_samples_split=2 \n",
      "[CV]  criterion=entropy, max_depth=6, min_samples_leaf=6, min_samples_split=2, score=0.309529281616488, total=   0.4s\n",
      "[CV] criterion=entropy, max_depth=6, min_samples_leaf=6, min_samples_split=2 \n",
      "[CV]  criterion=entropy, max_depth=6, min_samples_leaf=6, min_samples_split=2, score=0.33476136754848307, total=   0.3s\n",
      "[CV] criterion=entropy, max_depth=6, min_samples_leaf=6, min_samples_split=5 \n",
      "[CV]  criterion=entropy, max_depth=6, min_samples_leaf=6, min_samples_split=5, score=0.3134805759297989, total=   0.3s\n",
      "[CV] criterion=entropy, max_depth=6, min_samples_leaf=6, min_samples_split=5 \n",
      "[CV]  criterion=entropy, max_depth=6, min_samples_leaf=6, min_samples_split=5, score=0.30950080030249055, total=   0.3s\n",
      "[CV] criterion=entropy, max_depth=6, min_samples_leaf=6, min_samples_split=5 \n",
      "[CV]  criterion=entropy, max_depth=6, min_samples_leaf=6, min_samples_split=5, score=0.33476136754848307, total=   0.3s\n",
      "[CV] criterion=entropy, max_depth=6, min_samples_leaf=6, min_samples_split=10 \n",
      "[CV]  criterion=entropy, max_depth=6, min_samples_leaf=6, min_samples_split=10, score=0.3131418460673759, total=   0.4s\n",
      "[CV] criterion=entropy, max_depth=6, min_samples_leaf=6, min_samples_split=10 \n",
      "[CV]  criterion=entropy, max_depth=6, min_samples_leaf=6, min_samples_split=10, score=0.309529281616488, total=   0.3s\n",
      "[CV] criterion=entropy, max_depth=6, min_samples_leaf=6, min_samples_split=10 \n",
      "[CV]  criterion=entropy, max_depth=6, min_samples_leaf=6, min_samples_split=10, score=0.33476136754848307, total=   0.3s\n"
     ]
    },
    {
     "name": "stderr",
     "output_type": "stream",
     "text": [
      "[Parallel(n_jobs=1)]: Done 648 out of 648 | elapsed:  4.4min finished\n"
     ]
    },
    {
     "data": {
      "text/plain": [
       "GridSearchCV(cv=3, error_score='raise-deprecating',\n",
       "       estimator=DecisionTreeClassifier(class_weight=None, criterion='gini', max_depth=None,\n",
       "            max_features=None, max_leaf_nodes=None,\n",
       "            min_impurity_decrease=0.0, min_impurity_split=None,\n",
       "            min_samples_leaf=1, min_samples_split=2,\n",
       "            min_weight_fraction_leaf=0.0, presort=False, random_state=None,\n",
       "            splitter='best'),\n",
       "       fit_params=None, iid='warn', n_jobs=None,\n",
       "       param_grid={'criterion': ['gini', 'entropy'], 'max_depth': [None, 2, 3, 4, 5, 6], 'min_samples_split': [2, 5, 10], 'min_samples_leaf': [1, 2, 3, 4, 5, 6]},\n",
       "       pre_dispatch='2*n_jobs', refit=True, return_train_score=True,\n",
       "       scoring='f1_macro', verbose=5)"
      ]
     },
     "execution_count": 11,
     "metadata": {},
     "output_type": "execute_result"
    }
   ],
   "source": [
    "search = GridSearchCV(clf, params, cv=3, return_train_score=True, verbose=5, scoring='f1_macro')\n",
    "\n",
    "search.fit(X,y)"
   ]
  },
  {
   "cell_type": "markdown",
   "metadata": {},
   "source": [
    "### Tuned Results"
   ]
  },
  {
   "cell_type": "code",
   "execution_count": 12,
   "metadata": {},
   "outputs": [
    {
     "name": "stdout",
     "output_type": "stream",
     "text": [
      "Mean Training Score: 0.398405665575947\n",
      "Mean Testing Score: 0.6924356145887017\n",
      "\n",
      "Best Parameter Found:\n"
     ]
    },
    {
     "data": {
      "text/plain": [
       "{'criterion': 'entropy',\n",
       " 'max_depth': None,\n",
       " 'min_samples_leaf': 6,\n",
       " 'min_samples_split': 5}"
      ]
     },
     "execution_count": 12,
     "metadata": {},
     "output_type": "execute_result"
    }
   ],
   "source": [
    "print(\"Mean Training Score:\", np.mean(search.cv_results_['mean_train_score']))\n",
    "print(\"Mean Testing Score:\", search.score(X, y))\n",
    "print(\"\\nBest Parameter Found:\")\n",
    "search.best_params_"
   ]
  },
  {
   "cell_type": "markdown",
   "metadata": {},
   "source": [
    "### Model with the Best Parameters"
   ]
  },
  {
   "cell_type": "code",
   "execution_count": 13,
   "metadata": {},
   "outputs": [
    {
     "data": {
      "text/plain": [
       "DecisionTreeClassifier(class_weight=None, criterion='entropy', max_depth=None,\n",
       "            max_features=None, max_leaf_nodes=None,\n",
       "            min_impurity_decrease=0.0, min_impurity_split=None,\n",
       "            min_samples_leaf=6, min_samples_split=5,\n",
       "            min_weight_fraction_leaf=0.0, presort=False, random_state=None,\n",
       "            splitter='best')"
      ]
     },
     "execution_count": 13,
     "metadata": {},
     "output_type": "execute_result"
    }
   ],
   "source": [
    "search_clf = search.best_estimator_\n",
    "\n",
    "search_clf.fit(X_train, y_train)"
   ]
  },
  {
   "cell_type": "markdown",
   "metadata": {},
   "source": [
    "#### Results from Optimum Parameters"
   ]
  },
  {
   "cell_type": "code",
   "execution_count": 14,
   "metadata": {},
   "outputs": [
    {
     "name": "stdout",
     "output_type": "stream",
     "text": [
      "              precision    recall  f1-score   support\n",
      "\n",
      "        Sell       0.23      0.22      0.23      2967\n",
      "         Buy       0.39      0.42      0.40      5500\n",
      "        Hold       0.45      0.42      0.43      6576\n",
      "\n",
      "   micro avg       0.38      0.38      0.38     15043\n",
      "   macro avg       0.35      0.35      0.35     15043\n",
      "weighted avg       0.38      0.38      0.38     15043\n",
      "\n"
     ]
    }
   ],
   "source": [
    "# Classifier predictions\n",
    "s_pred = search_clf.predict(X_test)\n",
    "\n",
    "#Printing out results\n",
    "report = classification_report(y_test, s_pred, target_names=['Sell', 'Buy', 'Hold'])\n",
    "print(report)"
   ]
  },
  {
   "cell_type": "markdown",
   "metadata": {},
   "source": [
    "### Confusion Matrix for Optimum Parameters"
   ]
  },
  {
   "cell_type": "code",
   "execution_count": 15,
   "metadata": {},
   "outputs": [
    {
     "data": {
      "image/png": "[encoded data removed]",
      "text/plain": [
       "<Figure size 864x432 with 2 Axes>"
      ]
     },
     "metadata": {
      "needs_background": "light"
     },
     "output_type": "display_data"
    }
   ],
   "source": [
    "plot_confusion_matrix(y_test, s_pred, title=\"Confusion Matrix\")\n",
    "np.set_printoptions(precision=1)\n",
    "# Plot non-normalized confusion matrix\n",
    "plt.show()"
   ]
  },
  {
   "cell_type": "code",
   "execution_count": null,
   "metadata": {},
   "outputs": [],
   "source": []
  }
 ],
 "metadata": {
  "kernelspec": {
   "display_name": "Python 3",
   "language": "python",
   "name": "python3"
  },
  "language_info": {
   "codemirror_mode": {
    "name": "ipython",
    "version": 3
   },
   "file_extension": ".py",
   "mimetype": "text/x-python",
   "name": "python",
   "nbconvert_exporter": "python",
   "pygments_lexer": "ipython3",
   "version": "3.7.3"
  }
 },
 "nbformat": 4,
 "nbformat_minor": 2
}
