{
 "cells": [
  {
   "cell_type": "markdown",
   "metadata": {},
   "source": [
    "# Model: Gradient Boost"
   ]
  },
  {
   "cell_type": "markdown",
   "metadata": {},
   "source": [
    "### Importing Libraries"
   ]
  },
  {
   "cell_type": "code",
   "execution_count": 1,
   "metadata": {},
   "outputs": [],
   "source": [
    "import _pickle as pickle\n",
    "import numpy as np\n",
    "import pandas as pd\n",
    "from sklearn.model_selection import train_test_split\n",
    "from sklearn.metrics import precision_score, recall_score, accuracy_score, f1_score, confusion_matrix, classification_report\n",
    "import matplotlib.pyplot as plt"
   ]
  },
  {
   "cell_type": "markdown",
   "metadata": {},
   "source": [
    "### Loading in Data"
   ]
  },
  {
   "cell_type": "code",
   "execution_count": 2,
   "metadata": {},
   "outputs": [],
   "source": [
    "with open(\"top10_corr_df.pkl\",'rb') as fp:\n",
    "    df = pickle.load(fp)"
   ]
  },
  {
   "cell_type": "markdown",
   "metadata": {},
   "source": [
    "### Scaling the Data"
   ]
  },
  {
   "cell_type": "code",
   "execution_count": 3,
   "metadata": {},
   "outputs": [],
   "source": [
    "from sklearn.preprocessing import StandardScaler\n",
    "\n",
    "scaler = StandardScaler()\n",
    "\n",
    "features_df = df.drop([\"Decision\"], 1)\n",
    "\n",
    "scaled_df = pd.DataFrame(scaler.fit_transform(features_df), \n",
    "                               index=features_df.index, \n",
    "                               columns=features_df.columns)\n",
    "\n",
    "df = scaled_df.join(df.Decision)"
   ]
  },
  {
   "cell_type": "markdown",
   "metadata": {},
   "source": [
    "### Splitting the Data"
   ]
  },
  {
   "cell_type": "code",
   "execution_count": 4,
   "metadata": {},
   "outputs": [],
   "source": [
    "X = df.drop([\"Decision\"], 1)\n",
    "y = df.Decision\n",
    "\n",
    "# Train, test, split\n",
    "X_train, X_test, y_train, y_test = train_test_split(X, y)"
   ]
  },
  {
   "cell_type": "markdown",
   "metadata": {},
   "source": [
    "### Helper Functions"
   ]
  },
  {
   "cell_type": "markdown",
   "metadata": {},
   "source": [
    "#### Function for plotting confusion matrix"
   ]
  },
  {
   "cell_type": "code",
   "execution_count": 5,
   "metadata": {},
   "outputs": [],
   "source": [
    "def plot_confusion_matrix(y_true, y_pred, labels=[\"Sell\", \"Buy\", \"Hold\"], \n",
    "                          normalize=False, title=None, cmap=plt.cm.coolwarm):\n",
    "\n",
    "    cm = confusion_matrix(y_true, y_pred)\n",
    "    fig, ax = plt.subplots(figsize=(12,6))\n",
    "    im = ax.imshow(cm, interpolation='nearest', cmap=cmap)\n",
    "    ax.figure.colorbar(im, ax=ax)\n",
    "    # We want to show all ticks...\n",
    "    ax.set(xticks=np.arange(cm.shape[1]),\n",
    "           yticks=np.arange(cm.shape[0]),\n",
    "           # ... and label them with the respective list entries\n",
    "           xticklabels=labels, yticklabels=labels,\n",
    "           title=title,\n",
    "           ylabel='ACTUAL',\n",
    "           xlabel='PREDICTED')\n",
    "    # Rotate the tick labels and set their alignment.\n",
    "    plt.setp(ax.get_xticklabels(), rotation=45, ha=\"right\",\n",
    "             rotation_mode=\"anchor\")\n",
    "    # Loop over data dimensions and create text annotations.\n",
    "    fmt = '.2f' if normalize else 'd'\n",
    "    thresh = cm.max() / 1.5\n",
    "    for i in range(cm.shape[0]):\n",
    "        for j in range(cm.shape[1]):\n",
    "            ax.text(j, i, format(cm[i, j], fmt),\n",
    "                    ha=\"center\", va=\"center\",\n",
    "                    color=\"snow\" if cm[i, j] > thresh else \"orange\",\n",
    "                    size=26)\n",
    "    ax.grid(False)\n",
    "    fig.tight_layout()\n",
    "    return ax"
   ]
  },
  {
   "cell_type": "markdown",
   "metadata": {},
   "source": [
    "## Modeling\n",
    "The preferred evaluation metric used will be __Precision__ for each class.  They will be optimized using the __F1 Score-Macro-Average__ to balance the Precision and Recall.  This is done because we want to not only be correct when predicting but also make a decent amount of predictions for each class.  Classes such as 'Buy' and 'Sell' are more important than 'Hold'."
   ]
  },
  {
   "cell_type": "markdown",
   "metadata": {},
   "source": [
    "### Fitting and Training"
   ]
  },
  {
   "cell_type": "code",
   "execution_count": 6,
   "metadata": {
    "scrolled": false
   },
   "outputs": [
    {
     "data": {
      "text/plain": [
       "GradientBoostingClassifier(criterion='friedman_mse', init=None,\n",
       "              learning_rate=0.1, loss='deviance', max_depth=3,\n",
       "              max_features=None, max_leaf_nodes=None,\n",
       "              min_impurity_decrease=0.0, min_impurity_split=None,\n",
       "              min_samples_leaf=1, min_samples_split=2,\n",
       "              min_weight_fraction_leaf=0.0, n_estimators=100,\n",
       "              n_iter_no_change=None, presort='auto', random_state=None,\n",
       "              subsample=1.0, tol=0.0001, validation_fraction=0.1,\n",
       "              verbose=0, warm_start=False)"
      ]
     },
     "execution_count": 6,
     "metadata": {},
     "output_type": "execute_result"
    }
   ],
   "source": [
    "# Importing the model\n",
    "from sklearn.ensemble import GradientBoostingClassifier\n",
    "\n",
    "# Fitting and training\n",
    "clf = GradientBoostingClassifier()\n",
    "clf.fit(X_train, y_train)"
   ]
  },
  {
   "cell_type": "markdown",
   "metadata": {},
   "source": [
    "### Printing out Evaluation Metrics"
   ]
  },
  {
   "cell_type": "code",
   "execution_count": 7,
   "metadata": {},
   "outputs": [
    {
     "name": "stdout",
     "output_type": "stream",
     "text": [
      "              precision    recall  f1-score   support\n",
      "\n",
      "        Sell       0.39      0.01      0.02      2929\n",
      "         Buy       0.47      0.31      0.37      5621\n",
      "        Hold       0.46      0.79      0.58      6493\n",
      "\n",
      "   micro avg       0.46      0.46      0.46     15043\n",
      "   macro avg       0.44      0.37      0.32     15043\n",
      "weighted avg       0.45      0.46      0.39     15043\n",
      "\n"
     ]
    }
   ],
   "source": [
    "# Classifier predictions\n",
    "pred = clf.predict(X_test)\n",
    "\n",
    "#Printing out results\n",
    "report = classification_report(y_test, pred, target_names=['Sell', 'Buy', 'Hold'])\n",
    "print(report)"
   ]
  },
  {
   "cell_type": "markdown",
   "metadata": {},
   "source": [
    "### Confusion Matrix"
   ]
  },
  {
   "cell_type": "code",
   "execution_count": 8,
   "metadata": {},
   "outputs": [
    {
     "data": {
      "image/png": "[encoded data removed]",
      "text/plain": [
       "<Figure size 864x432 with 2 Axes>"
      ]
     },
     "metadata": {
      "needs_background": "light"
     },
     "output_type": "display_data"
    }
   ],
   "source": [
    "plot_confusion_matrix(y_test, pred, title=\"Confusion Matrix\")\n",
    "np.set_printoptions(precision=1)\n",
    "# Plot non-normalized confusion matrix\n",
    "plt.show()"
   ]
  },
  {
   "cell_type": "markdown",
   "metadata": {},
   "source": [
    "## Tuning Model Parameters"
   ]
  },
  {
   "cell_type": "code",
   "execution_count": 9,
   "metadata": {},
   "outputs": [],
   "source": [
    "from sklearn.model_selection import GridSearchCV"
   ]
  },
  {
   "cell_type": "markdown",
   "metadata": {},
   "source": [
    "### Parameters"
   ]
  },
  {
   "cell_type": "code",
   "execution_count": 10,
   "metadata": {},
   "outputs": [],
   "source": [
    "# Parameters to Tune\n",
    "params = {'n_estimators': [50,100, 200],\n",
    "          'learning_rate': [1,0.1,.01],\n",
    "          'max_depth': [1, 3, 6],\n",
    "          'min_samples_split': [2, 5],\n",
    "          'min_samples_leaf': [1, 3, 5]}"
   ]
  },
  {
   "cell_type": "code",
   "execution_count": 11,
   "metadata": {
    "scrolled": true
   },
   "outputs": [
    {
     "name": "stdout",
     "output_type": "stream",
     "text": [
      "Fitting 3 folds for each of 162 candidates, totalling 486 fits\n",
      "[CV] learning_rate=1, max_depth=1, min_samples_leaf=1, min_samples_split=2, n_estimators=50 \n"
     ]
    },
    {
     "name": "stderr",
     "output_type": "stream",
     "text": [
      "[Parallel(n_jobs=1)]: Using backend SequentialBackend with 1 concurrent workers.\n"
     ]
    },
    {
     "name": "stdout",
     "output_type": "stream",
     "text": [
      "[CV]  learning_rate=1, max_depth=1, min_samples_leaf=1, min_samples_split=2, n_estimators=50, score=0.33455121696332, total=   4.7s\n",
      "[CV] learning_rate=1, max_depth=1, min_samples_leaf=1, min_samples_split=2, n_estimators=50 \n"
     ]
    },
    {
     "name": "stderr",
     "output_type": "stream",
     "text": [
      "[Parallel(n_jobs=1)]: Done   1 out of   1 | elapsed:    4.8s remaining:    0.0s\n"
     ]
    },
    {
     "name": "stdout",
     "output_type": "stream",
     "text": [
      "[CV]  learning_rate=1, max_depth=1, min_samples_leaf=1, min_samples_split=2, n_estimators=50, score=0.3288298547456917, total=   5.7s\n",
      "[CV] learning_rate=1, max_depth=1, min_samples_leaf=1, min_samples_split=2, n_estimators=50 \n"
     ]
    },
    {
     "name": "stderr",
     "output_type": "stream",
     "text": [
      "[Parallel(n_jobs=1)]: Done   2 out of   2 | elapsed:   10.6s remaining:    0.0s\n"
     ]
    },
    {
     "name": "stdout",
     "output_type": "stream",
     "text": [
      "[CV]  learning_rate=1, max_depth=1, min_samples_leaf=1, min_samples_split=2, n_estimators=50, score=0.32627154075096665, total=   5.4s\n",
      "[CV] learning_rate=1, max_depth=1, min_samples_leaf=1, min_samples_split=2, n_estimators=100 \n"
     ]
    },
    {
     "name": "stderr",
     "output_type": "stream",
     "text": [
      "[Parallel(n_jobs=1)]: Done   3 out of   3 | elapsed:   16.1s remaining:    0.0s\n"
     ]
    },
    {
     "name": "stdout",
     "output_type": "stream",
     "text": [
      "[CV]  learning_rate=1, max_depth=1, min_samples_leaf=1, min_samples_split=2, n_estimators=100, score=0.3354945824504815, total=   8.6s\n",
      "[CV] learning_rate=1, max_depth=1, min_samples_leaf=1, min_samples_split=2, n_estimators=100 \n"
     ]
    },
    {
     "name": "stderr",
     "output_type": "stream",
     "text": [
      "[Parallel(n_jobs=1)]: Done   4 out of   4 | elapsed:   24.8s remaining:    0.0s\n"
     ]
    },
    {
     "name": "stdout",
     "output_type": "stream",
     "text": [
      "[CV]  learning_rate=1, max_depth=1, min_samples_leaf=1, min_samples_split=2, n_estimators=100, score=0.3281632558255219, total=   9.0s\n",
      "[CV] learning_rate=1, max_depth=1, min_samples_leaf=1, min_samples_split=2, n_estimators=100 \n",
      "[CV]  learning_rate=1, max_depth=1, min_samples_leaf=1, min_samples_split=2, n_estimators=100, score=0.32688970079598745, total=   9.2s\n",
      "[CV] learning_rate=1, max_depth=1, min_samples_leaf=1, min_samples_split=2, n_estimators=200 \n",
      "[CV]  learning_rate=1, max_depth=1, min_samples_leaf=1, min_samples_split=2, n_estimators=200, score=0.33650691014077444, total=  19.0s\n",
      "[CV] learning_rate=1, max_depth=1, min_samples_leaf=1, min_samples_split=2, n_estimators=200 \n",
      "[CV]  learning_rate=1, max_depth=1, min_samples_leaf=1, min_samples_split=2, n_estimators=200, score=0.33293672206260405, total=  16.3s\n",
      "[CV] learning_rate=1, max_depth=1, min_samples_leaf=1, min_samples_split=2, n_estimators=200 \n",
      "[CV]  learning_rate=1, max_depth=1, min_samples_leaf=1, min_samples_split=2, n_estimators=200, score=0.32901720496762094, total=  16.1s\n",
      "[CV] learning_rate=1, max_depth=1, min_samples_leaf=1, min_samples_split=5, n_estimators=50 \n",
      "[CV]  learning_rate=1, max_depth=1, min_samples_leaf=1, min_samples_split=5, n_estimators=50, score=0.33455121696332, total=   3.6s\n",
      "[CV] learning_rate=1, max_depth=1, min_samples_leaf=1, min_samples_split=5, n_estimators=50 \n",
      "[CV]  learning_rate=1, max_depth=1, min_samples_leaf=1, min_samples_split=5, n_estimators=50, score=0.3288298547456917, total=   4.8s\n",
      "[CV] learning_rate=1, max_depth=1, min_samples_leaf=1, min_samples_split=5, n_estimators=50 \n",
      "[CV]  learning_rate=1, max_depth=1, min_samples_leaf=1, min_samples_split=5, n_estimators=50, score=0.32627154075096665, total=  13.2s\n",
      "[CV] learning_rate=1, max_depth=1, min_samples_leaf=1, min_samples_split=5, n_estimators=100 \n",
      "[CV]  learning_rate=1, max_depth=1, min_samples_leaf=1, min_samples_split=5, n_estimators=100, score=0.3354945824504815, total=  13.6s\n",
      "[CV] learning_rate=1, max_depth=1, min_samples_leaf=1, min_samples_split=5, n_estimators=100 \n",
      "[CV]  learning_rate=1, max_depth=1, min_samples_leaf=1, min_samples_split=5, n_estimators=100, score=0.3281632558255219, total=   8.9s\n",
      "[CV] learning_rate=1, max_depth=1, min_samples_leaf=1, min_samples_split=5, n_estimators=100 \n",
      "[CV]  learning_rate=1, max_depth=1, min_samples_leaf=1, min_samples_split=5, n_estimators=100, score=0.32688970079598745, total=   8.5s\n",
      "[CV] learning_rate=1, max_depth=1, min_samples_leaf=1, min_samples_split=5, n_estimators=200 \n",
      "[CV]  learning_rate=1, max_depth=1, min_samples_leaf=1, min_samples_split=5, n_estimators=200, score=0.33650691014077444, total=  15.8s\n",
      "[CV] learning_rate=1, max_depth=1, min_samples_leaf=1, min_samples_split=5, n_estimators=200 \n",
      "[CV]  learning_rate=1, max_depth=1, min_samples_leaf=1, min_samples_split=5, n_estimators=200, score=0.33293672206260405, total=  14.8s\n",
      "[CV] learning_rate=1, max_depth=1, min_samples_leaf=1, min_samples_split=5, n_estimators=200 \n",
      "[CV]  learning_rate=1, max_depth=1, min_samples_leaf=1, min_samples_split=5, n_estimators=200, score=0.32901720496762094, total=  16.7s\n",
      "[CV] learning_rate=1, max_depth=1, min_samples_leaf=3, min_samples_split=2, n_estimators=50 \n",
      "[CV]  learning_rate=1, max_depth=1, min_samples_leaf=3, min_samples_split=2, n_estimators=50, score=0.33488493124319246, total=   5.7s\n",
      "[CV] learning_rate=1, max_depth=1, min_samples_leaf=3, min_samples_split=2, n_estimators=50 \n",
      "[CV]  learning_rate=1, max_depth=1, min_samples_leaf=3, min_samples_split=2, n_estimators=50, score=0.33022531426550866, total=   4.1s\n",
      "[CV] learning_rate=1, max_depth=1, min_samples_leaf=3, min_samples_split=2, n_estimators=50 \n",
      "[CV]  learning_rate=1, max_depth=1, min_samples_leaf=3, min_samples_split=2, n_estimators=50, score=0.32622883504180356, total=   4.2s\n",
      "[CV] learning_rate=1, max_depth=1, min_samples_leaf=3, min_samples_split=2, n_estimators=100 \n",
      "[CV]  learning_rate=1, max_depth=1, min_samples_leaf=3, min_samples_split=2, n_estimators=100, score=0.3349681117694285, total=   7.3s\n",
      "[CV] learning_rate=1, max_depth=1, min_samples_leaf=3, min_samples_split=2, n_estimators=100 \n",
      "[CV]  learning_rate=1, max_depth=1, min_samples_leaf=3, min_samples_split=2, n_estimators=100, score=0.3314206470146629, total=   7.5s\n",
      "[CV] learning_rate=1, max_depth=1, min_samples_leaf=3, min_samples_split=2, n_estimators=100 \n",
      "[CV]  learning_rate=1, max_depth=1, min_samples_leaf=3, min_samples_split=2, n_estimators=100, score=0.327750727287786, total=  14.7s\n",
      "[CV] learning_rate=1, max_depth=1, min_samples_leaf=3, min_samples_split=2, n_estimators=200 \n",
      "[CV]  learning_rate=1, max_depth=1, min_samples_leaf=3, min_samples_split=2, n_estimators=200, score=0.3368690658726255, total=  26.1s\n",
      "[CV] learning_rate=1, max_depth=1, min_samples_leaf=3, min_samples_split=2, n_estimators=200 \n",
      "[CV]  learning_rate=1, max_depth=1, min_samples_leaf=3, min_samples_split=2, n_estimators=200, score=0.333762223605121, total=  15.3s\n",
      "[CV] learning_rate=1, max_depth=1, min_samples_leaf=3, min_samples_split=2, n_estimators=200 \n",
      "[CV]  learning_rate=1, max_depth=1, min_samples_leaf=3, min_samples_split=2, n_estimators=200, score=0.328992873606841, total=  15.5s\n",
      "[CV] learning_rate=1, max_depth=1, min_samples_leaf=3, min_samples_split=5, n_estimators=50 \n",
      "[CV]  learning_rate=1, max_depth=1, min_samples_leaf=3, min_samples_split=5, n_estimators=50, score=0.33488493124319246, total=   3.6s\n",
      "[CV] learning_rate=1, max_depth=1, min_samples_leaf=3, min_samples_split=5, n_estimators=50 \n",
      "[CV]  learning_rate=1, max_depth=1, min_samples_leaf=3, min_samples_split=5, n_estimators=50, score=0.33022531426550866, total=   7.6s\n",
      "[CV] learning_rate=1, max_depth=1, min_samples_leaf=3, min_samples_split=5, n_estimators=50 \n",
      "[CV]  learning_rate=1, max_depth=1, min_samples_leaf=3, min_samples_split=5, n_estimators=50, score=0.32622883504180356, total=   3.9s\n",
      "[CV] learning_rate=1, max_depth=1, min_samples_leaf=3, min_samples_split=5, n_estimators=100 \n",
      "[CV]  learning_rate=1, max_depth=1, min_samples_leaf=3, min_samples_split=5, n_estimators=100, score=0.3349681117694285, total=   9.3s\n",
      "[CV] learning_rate=1, max_depth=1, min_samples_leaf=3, min_samples_split=5, n_estimators=100 \n",
      "[CV]  learning_rate=1, max_depth=1, min_samples_leaf=3, min_samples_split=5, n_estimators=100, score=0.3314206470146629, total=   8.1s\n",
      "[CV] learning_rate=1, max_depth=1, min_samples_leaf=3, min_samples_split=5, n_estimators=100 \n",
      "[CV]  learning_rate=1, max_depth=1, min_samples_leaf=3, min_samples_split=5, n_estimators=100, score=0.327750727287786, total=  11.0s\n",
      "[CV] learning_rate=1, max_depth=1, min_samples_leaf=3, min_samples_split=5, n_estimators=200 \n",
      "[CV]  learning_rate=1, max_depth=1, min_samples_leaf=3, min_samples_split=5, n_estimators=200, score=0.3368690658726255, total=  24.2s\n",
      "[CV] learning_rate=1, max_depth=1, min_samples_leaf=3, min_samples_split=5, n_estimators=200 \n",
      "[CV]  learning_rate=1, max_depth=1, min_samples_leaf=3, min_samples_split=5, n_estimators=200, score=0.333762223605121, total=  15.6s\n",
      "[CV] learning_rate=1, max_depth=1, min_samples_leaf=3, min_samples_split=5, n_estimators=200 \n",
      "[CV]  learning_rate=1, max_depth=1, min_samples_leaf=3, min_samples_split=5, n_estimators=200, score=0.328992873606841, total=  14.8s\n",
      "[CV] learning_rate=1, max_depth=1, min_samples_leaf=5, min_samples_split=2, n_estimators=50 \n",
      "[CV]  learning_rate=1, max_depth=1, min_samples_leaf=5, min_samples_split=2, n_estimators=50, score=0.33525440066270606, total=   5.0s\n",
      "[CV] learning_rate=1, max_depth=1, min_samples_leaf=5, min_samples_split=2, n_estimators=50 \n",
      "[CV]  learning_rate=1, max_depth=1, min_samples_leaf=5, min_samples_split=2, n_estimators=50, score=0.3304462791927732, total=   6.3s\n",
      "[CV] learning_rate=1, max_depth=1, min_samples_leaf=5, min_samples_split=2, n_estimators=50 \n",
      "[CV]  learning_rate=1, max_depth=1, min_samples_leaf=5, min_samples_split=2, n_estimators=50, score=0.3262389289518335, total=   5.0s\n",
      "[CV] learning_rate=1, max_depth=1, min_samples_leaf=5, min_samples_split=2, n_estimators=100 \n",
      "[CV]  learning_rate=1, max_depth=1, min_samples_leaf=5, min_samples_split=2, n_estimators=100, score=0.33494545147829885, total=  11.6s\n",
      "[CV] learning_rate=1, max_depth=1, min_samples_leaf=5, min_samples_split=2, n_estimators=100 \n"
     ]
    },
    {
     "name": "stdout",
     "output_type": "stream",
     "text": [
      "[CV]  learning_rate=1, max_depth=1, min_samples_leaf=5, min_samples_split=2, n_estimators=100, score=0.3298450110504934, total=   9.3s\n",
      "[CV] learning_rate=1, max_depth=1, min_samples_leaf=5, min_samples_split=2, n_estimators=100 \n",
      "[CV]  learning_rate=1, max_depth=1, min_samples_leaf=5, min_samples_split=2, n_estimators=100, score=0.3268427341826974, total=   9.6s\n",
      "[CV] learning_rate=1, max_depth=1, min_samples_leaf=5, min_samples_split=2, n_estimators=200 \n",
      "[CV]  learning_rate=1, max_depth=1, min_samples_leaf=5, min_samples_split=2, n_estimators=200, score=0.33662289078899216, total=  31.3s\n",
      "[CV] learning_rate=1, max_depth=1, min_samples_leaf=5, min_samples_split=2, n_estimators=200 \n",
      "[CV]  learning_rate=1, max_depth=1, min_samples_leaf=5, min_samples_split=2, n_estimators=200, score=0.33440008532432697, total=  25.5s\n",
      "[CV] learning_rate=1, max_depth=1, min_samples_leaf=5, min_samples_split=2, n_estimators=200 \n",
      "[CV]  learning_rate=1, max_depth=1, min_samples_leaf=5, min_samples_split=2, n_estimators=200, score=0.32896019940790105, total=  25.6s\n",
      "[CV] learning_rate=1, max_depth=1, min_samples_leaf=5, min_samples_split=5, n_estimators=50 \n",
      "[CV]  learning_rate=1, max_depth=1, min_samples_leaf=5, min_samples_split=5, n_estimators=50, score=0.33525440066270606, total=   4.8s\n",
      "[CV] learning_rate=1, max_depth=1, min_samples_leaf=5, min_samples_split=5, n_estimators=50 \n",
      "[CV]  learning_rate=1, max_depth=1, min_samples_leaf=5, min_samples_split=5, n_estimators=50, score=0.3304462791927732, total=   5.0s\n",
      "[CV] learning_rate=1, max_depth=1, min_samples_leaf=5, min_samples_split=5, n_estimators=50 \n",
      "[CV]  learning_rate=1, max_depth=1, min_samples_leaf=5, min_samples_split=5, n_estimators=50, score=0.3262389289518335, total=   5.1s\n",
      "[CV] learning_rate=1, max_depth=1, min_samples_leaf=5, min_samples_split=5, n_estimators=100 \n",
      "[CV]  learning_rate=1, max_depth=1, min_samples_leaf=5, min_samples_split=5, n_estimators=100, score=0.33494545147829885, total=  10.8s\n",
      "[CV] learning_rate=1, max_depth=1, min_samples_leaf=5, min_samples_split=5, n_estimators=100 \n",
      "[CV]  learning_rate=1, max_depth=1, min_samples_leaf=5, min_samples_split=5, n_estimators=100, score=0.3298450110504934, total=  10.2s\n",
      "[CV] learning_rate=1, max_depth=1, min_samples_leaf=5, min_samples_split=5, n_estimators=100 \n",
      "[CV]  learning_rate=1, max_depth=1, min_samples_leaf=5, min_samples_split=5, n_estimators=100, score=0.3268427341826974, total=  19.3s\n",
      "[CV] learning_rate=1, max_depth=1, min_samples_leaf=5, min_samples_split=5, n_estimators=200 \n",
      "[CV]  learning_rate=1, max_depth=1, min_samples_leaf=5, min_samples_split=5, n_estimators=200, score=0.33662289078899216, total=  23.7s\n",
      "[CV] learning_rate=1, max_depth=1, min_samples_leaf=5, min_samples_split=5, n_estimators=200 \n",
      "[CV]  learning_rate=1, max_depth=1, min_samples_leaf=5, min_samples_split=5, n_estimators=200, score=0.33440008532432697, total=  19.8s\n",
      "[CV] learning_rate=1, max_depth=1, min_samples_leaf=5, min_samples_split=5, n_estimators=200 \n",
      "[CV]  learning_rate=1, max_depth=1, min_samples_leaf=5, min_samples_split=5, n_estimators=200, score=0.32896019940790105, total=  20.0s\n",
      "[CV] learning_rate=1, max_depth=3, min_samples_leaf=1, min_samples_split=2, n_estimators=50 \n",
      "[CV]  learning_rate=1, max_depth=3, min_samples_leaf=1, min_samples_split=2, n_estimators=50, score=0.34294780021242555, total=  11.0s\n",
      "[CV] learning_rate=1, max_depth=3, min_samples_leaf=1, min_samples_split=2, n_estimators=50 \n",
      "[CV]  learning_rate=1, max_depth=3, min_samples_leaf=1, min_samples_split=2, n_estimators=50, score=0.3407199899418367, total=  10.8s\n",
      "[CV] learning_rate=1, max_depth=3, min_samples_leaf=1, min_samples_split=2, n_estimators=50 \n",
      "[CV]  learning_rate=1, max_depth=3, min_samples_leaf=1, min_samples_split=2, n_estimators=50, score=0.3435369304704639, total=  14.8s\n",
      "[CV] learning_rate=1, max_depth=3, min_samples_leaf=1, min_samples_split=2, n_estimators=100 \n",
      "[CV]  learning_rate=1, max_depth=3, min_samples_leaf=1, min_samples_split=2, n_estimators=100, score=0.34776210639410393, total=  23.2s\n",
      "[CV] learning_rate=1, max_depth=3, min_samples_leaf=1, min_samples_split=2, n_estimators=100 \n",
      "[CV]  learning_rate=1, max_depth=3, min_samples_leaf=1, min_samples_split=2, n_estimators=100, score=0.3444213229160538, total=  22.4s\n",
      "[CV] learning_rate=1, max_depth=3, min_samples_leaf=1, min_samples_split=2, n_estimators=100 \n",
      "[CV]  learning_rate=1, max_depth=3, min_samples_leaf=1, min_samples_split=2, n_estimators=100, score=0.3460892470336112, total=  23.9s\n",
      "[CV] learning_rate=1, max_depth=3, min_samples_leaf=1, min_samples_split=2, n_estimators=200 \n",
      "[CV]  learning_rate=1, max_depth=3, min_samples_leaf=1, min_samples_split=2, n_estimators=200, score=0.3561168265302676, total=  46.7s\n",
      "[CV] learning_rate=1, max_depth=3, min_samples_leaf=1, min_samples_split=2, n_estimators=200 \n",
      "[CV]  learning_rate=1, max_depth=3, min_samples_leaf=1, min_samples_split=2, n_estimators=200, score=0.348386698094874, total=  45.8s\n",
      "[CV] learning_rate=1, max_depth=3, min_samples_leaf=1, min_samples_split=2, n_estimators=200 \n",
      "[CV]  learning_rate=1, max_depth=3, min_samples_leaf=1, min_samples_split=2, n_estimators=200, score=0.34780008586047506, total=  48.3s\n",
      "[CV] learning_rate=1, max_depth=3, min_samples_leaf=1, min_samples_split=5, n_estimators=50 \n",
      "[CV]  learning_rate=1, max_depth=3, min_samples_leaf=1, min_samples_split=5, n_estimators=50, score=0.344857585957228, total=  11.3s\n",
      "[CV] learning_rate=1, max_depth=3, min_samples_leaf=1, min_samples_split=5, n_estimators=50 \n",
      "[CV]  learning_rate=1, max_depth=3, min_samples_leaf=1, min_samples_split=5, n_estimators=50, score=0.3358349581341998, total=  10.5s\n",
      "[CV] learning_rate=1, max_depth=3, min_samples_leaf=1, min_samples_split=5, n_estimators=50 \n",
      "[CV]  learning_rate=1, max_depth=3, min_samples_leaf=1, min_samples_split=5, n_estimators=50, score=0.34224796487634457, total=  10.5s\n",
      "[CV] learning_rate=1, max_depth=3, min_samples_leaf=1, min_samples_split=5, n_estimators=100 \n",
      "[CV]  learning_rate=1, max_depth=3, min_samples_leaf=1, min_samples_split=5, n_estimators=100, score=0.3498536556818081, total=  22.8s\n",
      "[CV] learning_rate=1, max_depth=3, min_samples_leaf=1, min_samples_split=5, n_estimators=100 \n",
      "[CV]  learning_rate=1, max_depth=3, min_samples_leaf=1, min_samples_split=5, n_estimators=100, score=0.341779840077623, total=  22.7s\n",
      "[CV] learning_rate=1, max_depth=3, min_samples_leaf=1, min_samples_split=5, n_estimators=100 \n",
      "[CV]  learning_rate=1, max_depth=3, min_samples_leaf=1, min_samples_split=5, n_estimators=100, score=0.3442396538140338, total=  27.4s\n",
      "[CV] learning_rate=1, max_depth=3, min_samples_leaf=1, min_samples_split=5, n_estimators=200 \n",
      "[CV]  learning_rate=1, max_depth=3, min_samples_leaf=1, min_samples_split=5, n_estimators=200, score=0.3498238756019864, total=  46.6s\n",
      "[CV] learning_rate=1, max_depth=3, min_samples_leaf=1, min_samples_split=5, n_estimators=200 \n",
      "[CV]  learning_rate=1, max_depth=3, min_samples_leaf=1, min_samples_split=5, n_estimators=200, score=0.3483594327744957, total=  45.4s\n",
      "[CV] learning_rate=1, max_depth=3, min_samples_leaf=1, min_samples_split=5, n_estimators=200 \n",
      "[CV]  learning_rate=1, max_depth=3, min_samples_leaf=1, min_samples_split=5, n_estimators=200, score=0.3469176248958071, total=  45.4s\n",
      "[CV] learning_rate=1, max_depth=3, min_samples_leaf=3, min_samples_split=2, n_estimators=50 \n",
      "[CV]  learning_rate=1, max_depth=3, min_samples_leaf=3, min_samples_split=2, n_estimators=50, score=0.34548371247749216, total=  12.0s\n",
      "[CV] learning_rate=1, max_depth=3, min_samples_leaf=3, min_samples_split=2, n_estimators=50 \n",
      "[CV]  learning_rate=1, max_depth=3, min_samples_leaf=3, min_samples_split=2, n_estimators=50, score=0.33731051562767184, total=  12.3s\n",
      "[CV] learning_rate=1, max_depth=3, min_samples_leaf=3, min_samples_split=2, n_estimators=50 \n",
      "[CV]  learning_rate=1, max_depth=3, min_samples_leaf=3, min_samples_split=2, n_estimators=50, score=0.3393580742792959, total=  12.4s\n",
      "[CV] learning_rate=1, max_depth=3, min_samples_leaf=3, min_samples_split=2, n_estimators=100 \n",
      "[CV]  learning_rate=1, max_depth=3, min_samples_leaf=3, min_samples_split=2, n_estimators=100, score=0.3479425662884042, total=  30.0s\n",
      "[CV] learning_rate=1, max_depth=3, min_samples_leaf=3, min_samples_split=2, n_estimators=100 \n"
     ]
    },
    {
     "name": "stdout",
     "output_type": "stream",
     "text": [
      "[CV]  learning_rate=1, max_depth=3, min_samples_leaf=3, min_samples_split=2, n_estimators=100, score=0.3413132234463295, total=  25.7s\n",
      "[CV] learning_rate=1, max_depth=3, min_samples_leaf=3, min_samples_split=2, n_estimators=100 \n",
      "[CV]  learning_rate=1, max_depth=3, min_samples_leaf=3, min_samples_split=2, n_estimators=100, score=0.3425961698035905, total=  34.3s\n",
      "[CV] learning_rate=1, max_depth=3, min_samples_leaf=3, min_samples_split=2, n_estimators=200 \n",
      "[CV]  learning_rate=1, max_depth=3, min_samples_leaf=3, min_samples_split=2, n_estimators=200, score=0.3510723940926956, total= 1.1min\n",
      "[CV] learning_rate=1, max_depth=3, min_samples_leaf=3, min_samples_split=2, n_estimators=200 \n",
      "[CV]  learning_rate=1, max_depth=3, min_samples_leaf=3, min_samples_split=2, n_estimators=200, score=0.3435329877069038, total=  53.7s\n",
      "[CV] learning_rate=1, max_depth=3, min_samples_leaf=3, min_samples_split=2, n_estimators=200 \n",
      "[CV]  learning_rate=1, max_depth=3, min_samples_leaf=3, min_samples_split=2, n_estimators=200, score=0.35035506837888325, total=  43.3s\n",
      "[CV] learning_rate=1, max_depth=3, min_samples_leaf=3, min_samples_split=5, n_estimators=50 \n",
      "[CV]  learning_rate=1, max_depth=3, min_samples_leaf=3, min_samples_split=5, n_estimators=50, score=0.34518859010449615, total=  11.4s\n",
      "[CV] learning_rate=1, max_depth=3, min_samples_leaf=3, min_samples_split=5, n_estimators=50 \n",
      "[CV]  learning_rate=1, max_depth=3, min_samples_leaf=3, min_samples_split=5, n_estimators=50, score=0.3373059093260642, total=  10.4s\n",
      "[CV] learning_rate=1, max_depth=3, min_samples_leaf=3, min_samples_split=5, n_estimators=50 \n",
      "[CV]  learning_rate=1, max_depth=3, min_samples_leaf=3, min_samples_split=5, n_estimators=50, score=0.3393580742792959, total=   9.5s\n",
      "[CV] learning_rate=1, max_depth=3, min_samples_leaf=3, min_samples_split=5, n_estimators=100 \n",
      "[CV]  learning_rate=1, max_depth=3, min_samples_leaf=3, min_samples_split=5, n_estimators=100, score=0.3477033961242116, total=  22.1s\n",
      "[CV] learning_rate=1, max_depth=3, min_samples_leaf=3, min_samples_split=5, n_estimators=100 \n",
      "[CV]  learning_rate=1, max_depth=3, min_samples_leaf=3, min_samples_split=5, n_estimators=100, score=0.34131546816124286, total=  22.6s\n",
      "[CV] learning_rate=1, max_depth=3, min_samples_leaf=3, min_samples_split=5, n_estimators=100 \n",
      "[CV]  learning_rate=1, max_depth=3, min_samples_leaf=3, min_samples_split=5, n_estimators=100, score=0.3425604530458663, total=  17.9s\n",
      "[CV] learning_rate=1, max_depth=3, min_samples_leaf=3, min_samples_split=5, n_estimators=200 \n",
      "[CV]  learning_rate=1, max_depth=3, min_samples_leaf=3, min_samples_split=5, n_estimators=200, score=0.35115220019257354, total=  41.4s\n",
      "[CV] learning_rate=1, max_depth=3, min_samples_leaf=3, min_samples_split=5, n_estimators=200 \n",
      "[CV]  learning_rate=1, max_depth=3, min_samples_leaf=3, min_samples_split=5, n_estimators=200, score=0.3436233013541245, total=  37.3s\n",
      "[CV] learning_rate=1, max_depth=3, min_samples_leaf=3, min_samples_split=5, n_estimators=200 \n",
      "[CV]  learning_rate=1, max_depth=3, min_samples_leaf=3, min_samples_split=5, n_estimators=200, score=0.3503898923546373, total=  40.6s\n",
      "[CV] learning_rate=1, max_depth=3, min_samples_leaf=5, min_samples_split=2, n_estimators=50 \n",
      "[CV]  learning_rate=1, max_depth=3, min_samples_leaf=5, min_samples_split=2, n_estimators=50, score=0.3450462536640488, total=  11.8s\n",
      "[CV] learning_rate=1, max_depth=3, min_samples_leaf=5, min_samples_split=2, n_estimators=50 \n",
      "[CV]  learning_rate=1, max_depth=3, min_samples_leaf=5, min_samples_split=2, n_estimators=50, score=0.3421246934230055, total=  11.6s\n",
      "[CV] learning_rate=1, max_depth=3, min_samples_leaf=5, min_samples_split=2, n_estimators=50 \n",
      "[CV]  learning_rate=1, max_depth=3, min_samples_leaf=5, min_samples_split=2, n_estimators=50, score=0.3416451151122901, total=  12.4s\n",
      "[CV] learning_rate=1, max_depth=3, min_samples_leaf=5, min_samples_split=2, n_estimators=100 \n",
      "[CV]  learning_rate=1, max_depth=3, min_samples_leaf=5, min_samples_split=2, n_estimators=100, score=0.3498857790501826, total=  21.5s\n",
      "[CV] learning_rate=1, max_depth=3, min_samples_leaf=5, min_samples_split=2, n_estimators=100 \n",
      "[CV]  learning_rate=1, max_depth=3, min_samples_leaf=5, min_samples_split=2, n_estimators=100, score=0.3481712276057307, total=  19.2s\n",
      "[CV] learning_rate=1, max_depth=3, min_samples_leaf=5, min_samples_split=2, n_estimators=100 \n",
      "[CV]  learning_rate=1, max_depth=3, min_samples_leaf=5, min_samples_split=2, n_estimators=100, score=0.34567942830373416, total=  18.2s\n",
      "[CV] learning_rate=1, max_depth=3, min_samples_leaf=5, min_samples_split=2, n_estimators=200 \n",
      "[CV]  learning_rate=1, max_depth=3, min_samples_leaf=5, min_samples_split=2, n_estimators=200, score=0.352473476706054, total=  39.6s\n",
      "[CV] learning_rate=1, max_depth=3, min_samples_leaf=5, min_samples_split=2, n_estimators=200 \n",
      "[CV]  learning_rate=1, max_depth=3, min_samples_leaf=5, min_samples_split=2, n_estimators=200, score=0.3518742277017732, total=  38.3s\n",
      "[CV] learning_rate=1, max_depth=3, min_samples_leaf=5, min_samples_split=2, n_estimators=200 \n",
      "[CV]  learning_rate=1, max_depth=3, min_samples_leaf=5, min_samples_split=2, n_estimators=200, score=0.3477184851868045, total=  39.6s\n",
      "[CV] learning_rate=1, max_depth=3, min_samples_leaf=5, min_samples_split=5, n_estimators=50 \n",
      "[CV]  learning_rate=1, max_depth=3, min_samples_leaf=5, min_samples_split=5, n_estimators=50, score=0.3450462536640488, total=  13.7s\n",
      "[CV] learning_rate=1, max_depth=3, min_samples_leaf=5, min_samples_split=5, n_estimators=50 \n",
      "[CV]  learning_rate=1, max_depth=3, min_samples_leaf=5, min_samples_split=5, n_estimators=50, score=0.3421246934230055, total=  11.1s\n",
      "[CV] learning_rate=1, max_depth=3, min_samples_leaf=5, min_samples_split=5, n_estimators=50 \n",
      "[CV]  learning_rate=1, max_depth=3, min_samples_leaf=5, min_samples_split=5, n_estimators=50, score=0.3418016753852091, total=  10.1s\n",
      "[CV] learning_rate=1, max_depth=3, min_samples_leaf=5, min_samples_split=5, n_estimators=100 \n",
      "[CV]  learning_rate=1, max_depth=3, min_samples_leaf=5, min_samples_split=5, n_estimators=100, score=0.3498867977911799, total=  30.0s\n",
      "[CV] learning_rate=1, max_depth=3, min_samples_leaf=5, min_samples_split=5, n_estimators=100 \n",
      "[CV]  learning_rate=1, max_depth=3, min_samples_leaf=5, min_samples_split=5, n_estimators=100, score=0.3481712276057307, total=  29.6s\n",
      "[CV] learning_rate=1, max_depth=3, min_samples_leaf=5, min_samples_split=5, n_estimators=100 \n",
      "[CV]  learning_rate=1, max_depth=3, min_samples_leaf=5, min_samples_split=5, n_estimators=100, score=0.34582083312904693, total=  25.0s\n",
      "[CV] learning_rate=1, max_depth=3, min_samples_leaf=5, min_samples_split=5, n_estimators=200 \n",
      "[CV]  learning_rate=1, max_depth=3, min_samples_leaf=5, min_samples_split=5, n_estimators=200, score=0.35247274363142705, total=  42.4s\n",
      "[CV] learning_rate=1, max_depth=3, min_samples_leaf=5, min_samples_split=5, n_estimators=200 \n",
      "[CV]  learning_rate=1, max_depth=3, min_samples_leaf=5, min_samples_split=5, n_estimators=200, score=0.351875284334967, total=  50.7s\n",
      "[CV] learning_rate=1, max_depth=3, min_samples_leaf=5, min_samples_split=5, n_estimators=200 \n",
      "[CV]  learning_rate=1, max_depth=3, min_samples_leaf=5, min_samples_split=5, n_estimators=200, score=0.34772037701760244, total=  50.7s\n",
      "[CV] learning_rate=1, max_depth=6, min_samples_leaf=1, min_samples_split=2, n_estimators=50 \n",
      "[CV]  learning_rate=1, max_depth=6, min_samples_leaf=1, min_samples_split=2, n_estimators=50, score=0.34302844555619444, total=  27.5s\n",
      "[CV] learning_rate=1, max_depth=6, min_samples_leaf=1, min_samples_split=2, n_estimators=50 \n",
      "[CV]  learning_rate=1, max_depth=6, min_samples_leaf=1, min_samples_split=2, n_estimators=50, score=0.34974634373799857, total=  29.5s\n",
      "[CV] learning_rate=1, max_depth=6, min_samples_leaf=1, min_samples_split=2, n_estimators=50 \n",
      "[CV]  learning_rate=1, max_depth=6, min_samples_leaf=1, min_samples_split=2, n_estimators=50, score=0.3478216781086185, total=  25.2s\n",
      "[CV] learning_rate=1, max_depth=6, min_samples_leaf=1, min_samples_split=2, n_estimators=100 \n",
      "[CV]  learning_rate=1, max_depth=6, min_samples_leaf=1, min_samples_split=2, n_estimators=100, score=0.3494973700579529, total=  58.1s\n",
      "[CV] learning_rate=1, max_depth=6, min_samples_leaf=1, min_samples_split=2, n_estimators=100 \n"
     ]
    },
    {
     "name": "stdout",
     "output_type": "stream",
     "text": [
      "[CV]  learning_rate=1, max_depth=6, min_samples_leaf=1, min_samples_split=2, n_estimators=100, score=0.3519976072654134, total= 1.1min\n",
      "[CV] learning_rate=1, max_depth=6, min_samples_leaf=1, min_samples_split=2, n_estimators=100 \n",
      "[CV]  learning_rate=1, max_depth=6, min_samples_leaf=1, min_samples_split=2, n_estimators=100, score=0.3509729493538827, total=  56.0s\n",
      "[CV] learning_rate=1, max_depth=6, min_samples_leaf=1, min_samples_split=2, n_estimators=200 \n",
      "[CV]  learning_rate=1, max_depth=6, min_samples_leaf=1, min_samples_split=2, n_estimators=200, score=0.3521787081949464, total= 1.8min\n",
      "[CV] learning_rate=1, max_depth=6, min_samples_leaf=1, min_samples_split=2, n_estimators=200 \n",
      "[CV]  learning_rate=1, max_depth=6, min_samples_leaf=1, min_samples_split=2, n_estimators=200, score=0.3552830547607863, total= 1.8min\n",
      "[CV] learning_rate=1, max_depth=6, min_samples_leaf=1, min_samples_split=2, n_estimators=200 \n",
      "[CV]  learning_rate=1, max_depth=6, min_samples_leaf=1, min_samples_split=2, n_estimators=200, score=0.3442535013709335, total= 1.9min\n",
      "[CV] learning_rate=1, max_depth=6, min_samples_leaf=1, min_samples_split=5, n_estimators=50 \n",
      "[CV]  learning_rate=1, max_depth=6, min_samples_leaf=1, min_samples_split=5, n_estimators=50, score=0.35011377034203633, total=  24.9s\n",
      "[CV] learning_rate=1, max_depth=6, min_samples_leaf=1, min_samples_split=5, n_estimators=50 \n",
      "[CV]  learning_rate=1, max_depth=6, min_samples_leaf=1, min_samples_split=5, n_estimators=50, score=0.35219047204117865, total=  23.3s\n",
      "[CV] learning_rate=1, max_depth=6, min_samples_leaf=1, min_samples_split=5, n_estimators=50 \n",
      "[CV]  learning_rate=1, max_depth=6, min_samples_leaf=1, min_samples_split=5, n_estimators=50, score=0.3492717501256857, total=  24.2s\n",
      "[CV] learning_rate=1, max_depth=6, min_samples_leaf=1, min_samples_split=5, n_estimators=100 \n",
      "[CV]  learning_rate=1, max_depth=6, min_samples_leaf=1, min_samples_split=5, n_estimators=100, score=0.3517097240558318, total=  51.4s\n",
      "[CV] learning_rate=1, max_depth=6, min_samples_leaf=1, min_samples_split=5, n_estimators=100 \n",
      "[CV]  learning_rate=1, max_depth=6, min_samples_leaf=1, min_samples_split=5, n_estimators=100, score=0.3542875200097367, total=  55.5s\n",
      "[CV] learning_rate=1, max_depth=6, min_samples_leaf=1, min_samples_split=5, n_estimators=100 \n",
      "[CV]  learning_rate=1, max_depth=6, min_samples_leaf=1, min_samples_split=5, n_estimators=100, score=0.3530520202722565, total=  56.7s\n",
      "[CV] learning_rate=1, max_depth=6, min_samples_leaf=1, min_samples_split=5, n_estimators=200 \n",
      "[CV]  learning_rate=1, max_depth=6, min_samples_leaf=1, min_samples_split=5, n_estimators=200, score=0.3555050370950006, total= 1.9min\n",
      "[CV] learning_rate=1, max_depth=6, min_samples_leaf=1, min_samples_split=5, n_estimators=200 \n",
      "[CV]  learning_rate=1, max_depth=6, min_samples_leaf=1, min_samples_split=5, n_estimators=200, score=0.3542731113358239, total= 1.9min\n",
      "[CV] learning_rate=1, max_depth=6, min_samples_leaf=1, min_samples_split=5, n_estimators=200 \n",
      "[CV]  learning_rate=1, max_depth=6, min_samples_leaf=1, min_samples_split=5, n_estimators=200, score=0.3545700104275142, total= 2.4min\n",
      "[CV] learning_rate=1, max_depth=6, min_samples_leaf=3, min_samples_split=2, n_estimators=50 \n",
      "[CV]  learning_rate=1, max_depth=6, min_samples_leaf=3, min_samples_split=2, n_estimators=50, score=0.3467198656880715, total=  25.5s\n",
      "[CV] learning_rate=1, max_depth=6, min_samples_leaf=3, min_samples_split=2, n_estimators=50 \n",
      "[CV]  learning_rate=1, max_depth=6, min_samples_leaf=3, min_samples_split=2, n_estimators=50, score=0.35093995908259784, total=  29.7s\n",
      "[CV] learning_rate=1, max_depth=6, min_samples_leaf=3, min_samples_split=2, n_estimators=50 \n",
      "[CV]  learning_rate=1, max_depth=6, min_samples_leaf=3, min_samples_split=2, n_estimators=50, score=0.34802752810006776, total=  22.9s\n",
      "[CV] learning_rate=1, max_depth=6, min_samples_leaf=3, min_samples_split=2, n_estimators=100 \n",
      "[CV]  learning_rate=1, max_depth=6, min_samples_leaf=3, min_samples_split=2, n_estimators=100, score=0.3524172029737758, total=  47.7s\n",
      "[CV] learning_rate=1, max_depth=6, min_samples_leaf=3, min_samples_split=2, n_estimators=100 \n",
      "[CV]  learning_rate=1, max_depth=6, min_samples_leaf=3, min_samples_split=2, n_estimators=100, score=0.3520675325849965, total=  50.0s\n",
      "[CV] learning_rate=1, max_depth=6, min_samples_leaf=3, min_samples_split=2, n_estimators=100 \n",
      "[CV]  learning_rate=1, max_depth=6, min_samples_leaf=3, min_samples_split=2, n_estimators=100, score=0.35054349366023274, total=  44.1s\n",
      "[CV] learning_rate=1, max_depth=6, min_samples_leaf=3, min_samples_split=2, n_estimators=200 \n",
      "[CV]  learning_rate=1, max_depth=6, min_samples_leaf=3, min_samples_split=2, n_estimators=200, score=0.35243204154801305, total= 1.6min\n",
      "[CV] learning_rate=1, max_depth=6, min_samples_leaf=3, min_samples_split=2, n_estimators=200 \n",
      "[CV]  learning_rate=1, max_depth=6, min_samples_leaf=3, min_samples_split=2, n_estimators=200, score=0.3484279977091435, total= 1.5min\n",
      "[CV] learning_rate=1, max_depth=6, min_samples_leaf=3, min_samples_split=2, n_estimators=200 \n",
      "[CV]  learning_rate=1, max_depth=6, min_samples_leaf=3, min_samples_split=2, n_estimators=200, score=0.3457985191636755, total= 1.4min\n",
      "[CV] learning_rate=1, max_depth=6, min_samples_leaf=3, min_samples_split=5, n_estimators=50 \n",
      "[CV]  learning_rate=1, max_depth=6, min_samples_leaf=3, min_samples_split=5, n_estimators=50, score=0.3509854267373667, total=  23.0s\n",
      "[CV] learning_rate=1, max_depth=6, min_samples_leaf=3, min_samples_split=5, n_estimators=50 \n",
      "[CV]  learning_rate=1, max_depth=6, min_samples_leaf=3, min_samples_split=5, n_estimators=50, score=0.34707253373825697, total=  24.2s\n",
      "[CV] learning_rate=1, max_depth=6, min_samples_leaf=3, min_samples_split=5, n_estimators=50 \n",
      "[CV]  learning_rate=1, max_depth=6, min_samples_leaf=3, min_samples_split=5, n_estimators=50, score=0.3527847217032886, total=  22.8s\n",
      "[CV] learning_rate=1, max_depth=6, min_samples_leaf=3, min_samples_split=5, n_estimators=100 \n",
      "[CV]  learning_rate=1, max_depth=6, min_samples_leaf=3, min_samples_split=5, n_estimators=100, score=0.3535619031306447, total=  54.0s\n",
      "[CV] learning_rate=1, max_depth=6, min_samples_leaf=3, min_samples_split=5, n_estimators=100 \n",
      "[CV]  learning_rate=1, max_depth=6, min_samples_leaf=3, min_samples_split=5, n_estimators=100, score=0.35136907630182557, total=  56.2s\n",
      "[CV] learning_rate=1, max_depth=6, min_samples_leaf=3, min_samples_split=5, n_estimators=100 \n",
      "[CV]  learning_rate=1, max_depth=6, min_samples_leaf=3, min_samples_split=5, n_estimators=100, score=0.35023229584012067, total=  41.4s\n",
      "[CV] learning_rate=1, max_depth=6, min_samples_leaf=3, min_samples_split=5, n_estimators=200 \n",
      "[CV]  learning_rate=1, max_depth=6, min_samples_leaf=3, min_samples_split=5, n_estimators=200, score=0.3544422496851504, total= 1.5min\n",
      "[CV] learning_rate=1, max_depth=6, min_samples_leaf=3, min_samples_split=5, n_estimators=200 \n",
      "[CV]  learning_rate=1, max_depth=6, min_samples_leaf=3, min_samples_split=5, n_estimators=200, score=0.34845110838810855, total= 1.1min\n",
      "[CV] learning_rate=1, max_depth=6, min_samples_leaf=3, min_samples_split=5, n_estimators=200 \n",
      "[CV]  learning_rate=1, max_depth=6, min_samples_leaf=3, min_samples_split=5, n_estimators=200, score=0.3521139420790493, total= 1.3min\n",
      "[CV] learning_rate=1, max_depth=6, min_samples_leaf=5, min_samples_split=2, n_estimators=50 \n",
      "[CV]  learning_rate=1, max_depth=6, min_samples_leaf=5, min_samples_split=2, n_estimators=50, score=0.346628738964877, total=  19.3s\n",
      "[CV] learning_rate=1, max_depth=6, min_samples_leaf=5, min_samples_split=2, n_estimators=50 \n",
      "[CV]  learning_rate=1, max_depth=6, min_samples_leaf=5, min_samples_split=2, n_estimators=50, score=0.3502514727410371, total=  15.6s\n",
      "[CV] learning_rate=1, max_depth=6, min_samples_leaf=5, min_samples_split=2, n_estimators=50 \n",
      "[CV]  learning_rate=1, max_depth=6, min_samples_leaf=5, min_samples_split=2, n_estimators=50, score=0.3485783768842107, total=  15.1s\n",
      "[CV] learning_rate=1, max_depth=6, min_samples_leaf=5, min_samples_split=2, n_estimators=100 \n",
      "[CV]  learning_rate=1, max_depth=6, min_samples_leaf=5, min_samples_split=2, n_estimators=100, score=0.35422918901390466, total=  30.4s\n",
      "[CV] learning_rate=1, max_depth=6, min_samples_leaf=5, min_samples_split=2, n_estimators=100 \n"
     ]
    },
    {
     "name": "stdout",
     "output_type": "stream",
     "text": [
      "[CV]  learning_rate=1, max_depth=6, min_samples_leaf=5, min_samples_split=2, n_estimators=100, score=0.3536599770527085, total=  36.0s\n",
      "[CV] learning_rate=1, max_depth=6, min_samples_leaf=5, min_samples_split=2, n_estimators=100 \n",
      "[CV]  learning_rate=1, max_depth=6, min_samples_leaf=5, min_samples_split=2, n_estimators=100, score=0.35196841668536943, total=  30.6s\n",
      "[CV] learning_rate=1, max_depth=6, min_samples_leaf=5, min_samples_split=2, n_estimators=200 \n",
      "[CV]  learning_rate=1, max_depth=6, min_samples_leaf=5, min_samples_split=2, n_estimators=200, score=0.3500826386257603, total= 1.2min\n",
      "[CV] learning_rate=1, max_depth=6, min_samples_leaf=5, min_samples_split=2, n_estimators=200 \n",
      "[CV]  learning_rate=1, max_depth=6, min_samples_leaf=5, min_samples_split=2, n_estimators=200, score=0.3468392974235601, total= 1.2min\n",
      "[CV] learning_rate=1, max_depth=6, min_samples_leaf=5, min_samples_split=2, n_estimators=200 \n",
      "[CV]  learning_rate=1, max_depth=6, min_samples_leaf=5, min_samples_split=2, n_estimators=200, score=0.3492209897754151, total= 1.2min\n",
      "[CV] learning_rate=1, max_depth=6, min_samples_leaf=5, min_samples_split=5, n_estimators=50 \n",
      "[CV]  learning_rate=1, max_depth=6, min_samples_leaf=5, min_samples_split=5, n_estimators=50, score=0.3476559726195241, total=  16.3s\n",
      "[CV] learning_rate=1, max_depth=6, min_samples_leaf=5, min_samples_split=5, n_estimators=50 \n",
      "[CV]  learning_rate=1, max_depth=6, min_samples_leaf=5, min_samples_split=5, n_estimators=50, score=0.3531614364119455, total=  16.5s\n",
      "[CV] learning_rate=1, max_depth=6, min_samples_leaf=5, min_samples_split=5, n_estimators=50 \n",
      "[CV]  learning_rate=1, max_depth=6, min_samples_leaf=5, min_samples_split=5, n_estimators=50, score=0.35279442175845094, total=  22.2s\n",
      "[CV] learning_rate=1, max_depth=6, min_samples_leaf=5, min_samples_split=5, n_estimators=100 \n",
      "[CV]  learning_rate=1, max_depth=6, min_samples_leaf=5, min_samples_split=5, n_estimators=100, score=0.35441834191536153, total=  43.9s\n",
      "[CV] learning_rate=1, max_depth=6, min_samples_leaf=5, min_samples_split=5, n_estimators=100 \n",
      "[CV]  learning_rate=1, max_depth=6, min_samples_leaf=5, min_samples_split=5, n_estimators=100, score=0.3496366297832931, total=  45.3s\n",
      "[CV] learning_rate=1, max_depth=6, min_samples_leaf=5, min_samples_split=5, n_estimators=100 \n",
      "[CV]  learning_rate=1, max_depth=6, min_samples_leaf=5, min_samples_split=5, n_estimators=100, score=0.35321107809792757, total=  33.9s\n",
      "[CV] learning_rate=1, max_depth=6, min_samples_leaf=5, min_samples_split=5, n_estimators=200 \n",
      "[CV]  learning_rate=1, max_depth=6, min_samples_leaf=5, min_samples_split=5, n_estimators=200, score=0.35452207359479965, total= 1.2min\n",
      "[CV] learning_rate=1, max_depth=6, min_samples_leaf=5, min_samples_split=5, n_estimators=200 \n",
      "[CV]  learning_rate=1, max_depth=6, min_samples_leaf=5, min_samples_split=5, n_estimators=200, score=0.34659982783898163, total= 1.2min\n",
      "[CV] learning_rate=1, max_depth=6, min_samples_leaf=5, min_samples_split=5, n_estimators=200 \n",
      "[CV]  learning_rate=1, max_depth=6, min_samples_leaf=5, min_samples_split=5, n_estimators=200, score=0.34925025997552095, total= 1.3min\n",
      "[CV] learning_rate=0.1, max_depth=1, min_samples_leaf=1, min_samples_split=2, n_estimators=50 \n"
     ]
    },
    {
     "name": "stderr",
     "output_type": "stream",
     "text": [
      "/anaconda3/lib/python3.7/site-packages/sklearn/metrics/classification.py:1143: UndefinedMetricWarning: F-score is ill-defined and being set to 0.0 in labels with no predicted samples.\n",
      "  'precision', 'predicted', average, warn_for)\n",
      "/anaconda3/lib/python3.7/site-packages/sklearn/metrics/classification.py:1143: UndefinedMetricWarning: F-score is ill-defined and being set to 0.0 in labels with no predicted samples.\n",
      "  'precision', 'predicted', average, warn_for)\n"
     ]
    },
    {
     "name": "stdout",
     "output_type": "stream",
     "text": [
      "[CV]  learning_rate=0.1, max_depth=1, min_samples_leaf=1, min_samples_split=2, n_estimators=50, score=0.3186067720002075, total=   4.4s\n",
      "[CV] learning_rate=0.1, max_depth=1, min_samples_leaf=1, min_samples_split=2, n_estimators=50 \n",
      "[CV]  learning_rate=0.1, max_depth=1, min_samples_leaf=1, min_samples_split=2, n_estimators=50, score=0.3067155163506164, total=   4.3s\n",
      "[CV] learning_rate=0.1, max_depth=1, min_samples_leaf=1, min_samples_split=2, n_estimators=50 \n"
     ]
    },
    {
     "name": "stderr",
     "output_type": "stream",
     "text": [
      "/anaconda3/lib/python3.7/site-packages/sklearn/metrics/classification.py:1143: UndefinedMetricWarning: F-score is ill-defined and being set to 0.0 in labels with no predicted samples.\n",
      "  'precision', 'predicted', average, warn_for)\n",
      "/anaconda3/lib/python3.7/site-packages/sklearn/metrics/classification.py:1143: UndefinedMetricWarning: F-score is ill-defined and being set to 0.0 in labels with no predicted samples.\n",
      "  'precision', 'predicted', average, warn_for)\n"
     ]
    },
    {
     "name": "stdout",
     "output_type": "stream",
     "text": [
      "[CV]  learning_rate=0.1, max_depth=1, min_samples_leaf=1, min_samples_split=2, n_estimators=50, score=0.31308132450068377, total=   4.6s\n",
      "[CV] learning_rate=0.1, max_depth=1, min_samples_leaf=1, min_samples_split=2, n_estimators=100 \n",
      "[CV]  learning_rate=0.1, max_depth=1, min_samples_leaf=1, min_samples_split=2, n_estimators=100, score=0.3229399915669046, total=   9.2s\n",
      "[CV] learning_rate=0.1, max_depth=1, min_samples_leaf=1, min_samples_split=2, n_estimators=100 \n",
      "[CV]  learning_rate=0.1, max_depth=1, min_samples_leaf=1, min_samples_split=2, n_estimators=100, score=0.31494243929353766, total=   8.1s\n",
      "[CV] learning_rate=0.1, max_depth=1, min_samples_leaf=1, min_samples_split=2, n_estimators=100 \n",
      "[CV]  learning_rate=0.1, max_depth=1, min_samples_leaf=1, min_samples_split=2, n_estimators=100, score=0.3153920327090967, total=   8.4s\n",
      "[CV] learning_rate=0.1, max_depth=1, min_samples_leaf=1, min_samples_split=2, n_estimators=200 \n",
      "[CV]  learning_rate=0.1, max_depth=1, min_samples_leaf=1, min_samples_split=2, n_estimators=200, score=0.3264342607523692, total=  16.6s\n",
      "[CV] learning_rate=0.1, max_depth=1, min_samples_leaf=1, min_samples_split=2, n_estimators=200 \n",
      "[CV]  learning_rate=0.1, max_depth=1, min_samples_leaf=1, min_samples_split=2, n_estimators=200, score=0.32012570942264734, total=  16.8s\n",
      "[CV] learning_rate=0.1, max_depth=1, min_samples_leaf=1, min_samples_split=2, n_estimators=200 \n",
      "[CV]  learning_rate=0.1, max_depth=1, min_samples_leaf=1, min_samples_split=2, n_estimators=200, score=0.31903895518146735, total=  17.2s\n",
      "[CV] learning_rate=0.1, max_depth=1, min_samples_leaf=1, min_samples_split=5, n_estimators=50 \n"
     ]
    },
    {
     "name": "stderr",
     "output_type": "stream",
     "text": [
      "/anaconda3/lib/python3.7/site-packages/sklearn/metrics/classification.py:1143: UndefinedMetricWarning: F-score is ill-defined and being set to 0.0 in labels with no predicted samples.\n",
      "  'precision', 'predicted', average, warn_for)\n",
      "/anaconda3/lib/python3.7/site-packages/sklearn/metrics/classification.py:1143: UndefinedMetricWarning: F-score is ill-defined and being set to 0.0 in labels with no predicted samples.\n",
      "  'precision', 'predicted', average, warn_for)\n"
     ]
    },
    {
     "name": "stdout",
     "output_type": "stream",
     "text": [
      "[CV]  learning_rate=0.1, max_depth=1, min_samples_leaf=1, min_samples_split=5, n_estimators=50, score=0.3186067720002075, total=   4.4s\n",
      "[CV] learning_rate=0.1, max_depth=1, min_samples_leaf=1, min_samples_split=5, n_estimators=50 \n",
      "[CV]  learning_rate=0.1, max_depth=1, min_samples_leaf=1, min_samples_split=5, n_estimators=50, score=0.3067155163506164, total=   4.4s\n",
      "[CV] learning_rate=0.1, max_depth=1, min_samples_leaf=1, min_samples_split=5, n_estimators=50 \n"
     ]
    },
    {
     "name": "stderr",
     "output_type": "stream",
     "text": [
      "/anaconda3/lib/python3.7/site-packages/sklearn/metrics/classification.py:1143: UndefinedMetricWarning: F-score is ill-defined and being set to 0.0 in labels with no predicted samples.\n",
      "  'precision', 'predicted', average, warn_for)\n",
      "/anaconda3/lib/python3.7/site-packages/sklearn/metrics/classification.py:1143: UndefinedMetricWarning: F-score is ill-defined and being set to 0.0 in labels with no predicted samples.\n",
      "  'precision', 'predicted', average, warn_for)\n"
     ]
    },
    {
     "name": "stdout",
     "output_type": "stream",
     "text": [
      "[CV]  learning_rate=0.1, max_depth=1, min_samples_leaf=1, min_samples_split=5, n_estimators=50, score=0.31308132450068377, total=   4.2s\n",
      "[CV] learning_rate=0.1, max_depth=1, min_samples_leaf=1, min_samples_split=5, n_estimators=100 \n",
      "[CV]  learning_rate=0.1, max_depth=1, min_samples_leaf=1, min_samples_split=5, n_estimators=100, score=0.3229399915669046, total=   7.9s\n",
      "[CV] learning_rate=0.1, max_depth=1, min_samples_leaf=1, min_samples_split=5, n_estimators=100 \n",
      "[CV]  learning_rate=0.1, max_depth=1, min_samples_leaf=1, min_samples_split=5, n_estimators=100, score=0.31494243929353766, total=   8.4s\n",
      "[CV] learning_rate=0.1, max_depth=1, min_samples_leaf=1, min_samples_split=5, n_estimators=100 \n",
      "[CV]  learning_rate=0.1, max_depth=1, min_samples_leaf=1, min_samples_split=5, n_estimators=100, score=0.3153920327090967, total=   7.7s\n",
      "[CV] learning_rate=0.1, max_depth=1, min_samples_leaf=1, min_samples_split=5, n_estimators=200 \n",
      "[CV]  learning_rate=0.1, max_depth=1, min_samples_leaf=1, min_samples_split=5, n_estimators=200, score=0.3264342607523692, total=  16.3s\n",
      "[CV] learning_rate=0.1, max_depth=1, min_samples_leaf=1, min_samples_split=5, n_estimators=200 \n",
      "[CV]  learning_rate=0.1, max_depth=1, min_samples_leaf=1, min_samples_split=5, n_estimators=200, score=0.32012570942264734, total=  16.0s\n",
      "[CV] learning_rate=0.1, max_depth=1, min_samples_leaf=1, min_samples_split=5, n_estimators=200 \n",
      "[CV]  learning_rate=0.1, max_depth=1, min_samples_leaf=1, min_samples_split=5, n_estimators=200, score=0.31903895518146735, total=  16.3s\n",
      "[CV] learning_rate=0.1, max_depth=1, min_samples_leaf=3, min_samples_split=2, n_estimators=50 \n"
     ]
    },
    {
     "name": "stderr",
     "output_type": "stream",
     "text": [
      "/anaconda3/lib/python3.7/site-packages/sklearn/metrics/classification.py:1143: UndefinedMetricWarning: F-score is ill-defined and being set to 0.0 in labels with no predicted samples.\n",
      "  'precision', 'predicted', average, warn_for)\n",
      "/anaconda3/lib/python3.7/site-packages/sklearn/metrics/classification.py:1143: UndefinedMetricWarning: F-score is ill-defined and being set to 0.0 in labels with no predicted samples.\n",
      "  'precision', 'predicted', average, warn_for)\n"
     ]
    },
    {
     "name": "stdout",
     "output_type": "stream",
     "text": [
      "[CV]  learning_rate=0.1, max_depth=1, min_samples_leaf=3, min_samples_split=2, n_estimators=50, score=0.3186067720002075, total=   4.4s\n",
      "[CV] learning_rate=0.1, max_depth=1, min_samples_leaf=3, min_samples_split=2, n_estimators=50 \n",
      "[CV]  learning_rate=0.1, max_depth=1, min_samples_leaf=3, min_samples_split=2, n_estimators=50, score=0.3067155163506164, total=   4.4s\n",
      "[CV] learning_rate=0.1, max_depth=1, min_samples_leaf=3, min_samples_split=2, n_estimators=50 \n"
     ]
    },
    {
     "name": "stderr",
     "output_type": "stream",
     "text": [
      "/anaconda3/lib/python3.7/site-packages/sklearn/metrics/classification.py:1143: UndefinedMetricWarning: F-score is ill-defined and being set to 0.0 in labels with no predicted samples.\n",
      "  'precision', 'predicted', average, warn_for)\n",
      "/anaconda3/lib/python3.7/site-packages/sklearn/metrics/classification.py:1143: UndefinedMetricWarning: F-score is ill-defined and being set to 0.0 in labels with no predicted samples.\n",
      "  'precision', 'predicted', average, warn_for)\n"
     ]
    },
    {
     "name": "stdout",
     "output_type": "stream",
     "text": [
      "[CV]  learning_rate=0.1, max_depth=1, min_samples_leaf=3, min_samples_split=2, n_estimators=50, score=0.31308132450068377, total=   3.9s\n",
      "[CV] learning_rate=0.1, max_depth=1, min_samples_leaf=3, min_samples_split=2, n_estimators=100 \n",
      "[CV]  learning_rate=0.1, max_depth=1, min_samples_leaf=3, min_samples_split=2, n_estimators=100, score=0.3229399915669046, total=   8.7s\n",
      "[CV] learning_rate=0.1, max_depth=1, min_samples_leaf=3, min_samples_split=2, n_estimators=100 \n",
      "[CV]  learning_rate=0.1, max_depth=1, min_samples_leaf=3, min_samples_split=2, n_estimators=100, score=0.31494243929353766, total=   8.1s\n",
      "[CV] learning_rate=0.1, max_depth=1, min_samples_leaf=3, min_samples_split=2, n_estimators=100 \n",
      "[CV]  learning_rate=0.1, max_depth=1, min_samples_leaf=3, min_samples_split=2, n_estimators=100, score=0.3153920327090967, total=   8.5s\n",
      "[CV] learning_rate=0.1, max_depth=1, min_samples_leaf=3, min_samples_split=2, n_estimators=200 \n",
      "[CV]  learning_rate=0.1, max_depth=1, min_samples_leaf=3, min_samples_split=2, n_estimators=200, score=0.32669917688990097, total=  15.7s\n",
      "[CV] learning_rate=0.1, max_depth=1, min_samples_leaf=3, min_samples_split=2, n_estimators=200 \n",
      "[CV]  learning_rate=0.1, max_depth=1, min_samples_leaf=3, min_samples_split=2, n_estimators=200, score=0.3202107334375963, total=  16.4s\n",
      "[CV] learning_rate=0.1, max_depth=1, min_samples_leaf=3, min_samples_split=2, n_estimators=200 \n",
      "[CV]  learning_rate=0.1, max_depth=1, min_samples_leaf=3, min_samples_split=2, n_estimators=200, score=0.31851081880605997, total=  16.2s\n",
      "[CV] learning_rate=0.1, max_depth=1, min_samples_leaf=3, min_samples_split=5, n_estimators=50 \n"
     ]
    },
    {
     "name": "stderr",
     "output_type": "stream",
     "text": [
      "/anaconda3/lib/python3.7/site-packages/sklearn/metrics/classification.py:1143: UndefinedMetricWarning: F-score is ill-defined and being set to 0.0 in labels with no predicted samples.\n",
      "  'precision', 'predicted', average, warn_for)\n",
      "/anaconda3/lib/python3.7/site-packages/sklearn/metrics/classification.py:1143: UndefinedMetricWarning: F-score is ill-defined and being set to 0.0 in labels with no predicted samples.\n",
      "  'precision', 'predicted', average, warn_for)\n"
     ]
    },
    {
     "name": "stdout",
     "output_type": "stream",
     "text": [
      "[CV]  learning_rate=0.1, max_depth=1, min_samples_leaf=3, min_samples_split=5, n_estimators=50, score=0.3186067720002075, total=   4.0s\n",
      "[CV] learning_rate=0.1, max_depth=1, min_samples_leaf=3, min_samples_split=5, n_estimators=50 \n",
      "[CV]  learning_rate=0.1, max_depth=1, min_samples_leaf=3, min_samples_split=5, n_estimators=50, score=0.3067155163506164, total=   4.4s\n",
      "[CV] learning_rate=0.1, max_depth=1, min_samples_leaf=3, min_samples_split=5, n_estimators=50 \n"
     ]
    },
    {
     "name": "stderr",
     "output_type": "stream",
     "text": [
      "/anaconda3/lib/python3.7/site-packages/sklearn/metrics/classification.py:1143: UndefinedMetricWarning: F-score is ill-defined and being set to 0.0 in labels with no predicted samples.\n",
      "  'precision', 'predicted', average, warn_for)\n",
      "/anaconda3/lib/python3.7/site-packages/sklearn/metrics/classification.py:1143: UndefinedMetricWarning: F-score is ill-defined and being set to 0.0 in labels with no predicted samples.\n",
      "  'precision', 'predicted', average, warn_for)\n"
     ]
    },
    {
     "name": "stdout",
     "output_type": "stream",
     "text": [
      "[CV]  learning_rate=0.1, max_depth=1, min_samples_leaf=3, min_samples_split=5, n_estimators=50, score=0.31308132450068377, total=   4.6s\n",
      "[CV] learning_rate=0.1, max_depth=1, min_samples_leaf=3, min_samples_split=5, n_estimators=100 \n",
      "[CV]  learning_rate=0.1, max_depth=1, min_samples_leaf=3, min_samples_split=5, n_estimators=100, score=0.3229399915669046, total=   8.3s\n",
      "[CV] learning_rate=0.1, max_depth=1, min_samples_leaf=3, min_samples_split=5, n_estimators=100 \n",
      "[CV]  learning_rate=0.1, max_depth=1, min_samples_leaf=3, min_samples_split=5, n_estimators=100, score=0.31494243929353766, total=   8.4s\n",
      "[CV] learning_rate=0.1, max_depth=1, min_samples_leaf=3, min_samples_split=5, n_estimators=100 \n",
      "[CV]  learning_rate=0.1, max_depth=1, min_samples_leaf=3, min_samples_split=5, n_estimators=100, score=0.3153920327090967, total=   8.7s\n",
      "[CV] learning_rate=0.1, max_depth=1, min_samples_leaf=3, min_samples_split=5, n_estimators=200 \n",
      "[CV]  learning_rate=0.1, max_depth=1, min_samples_leaf=3, min_samples_split=5, n_estimators=200, score=0.32669917688990097, total=  19.0s\n",
      "[CV] learning_rate=0.1, max_depth=1, min_samples_leaf=3, min_samples_split=5, n_estimators=200 \n",
      "[CV]  learning_rate=0.1, max_depth=1, min_samples_leaf=3, min_samples_split=5, n_estimators=200, score=0.3202107334375963, total=  15.7s\n",
      "[CV] learning_rate=0.1, max_depth=1, min_samples_leaf=3, min_samples_split=5, n_estimators=200 \n",
      "[CV]  learning_rate=0.1, max_depth=1, min_samples_leaf=3, min_samples_split=5, n_estimators=200, score=0.31851081880605997, total=  19.8s\n",
      "[CV] learning_rate=0.1, max_depth=1, min_samples_leaf=5, min_samples_split=2, n_estimators=50 \n"
     ]
    },
    {
     "name": "stderr",
     "output_type": "stream",
     "text": [
      "/anaconda3/lib/python3.7/site-packages/sklearn/metrics/classification.py:1143: UndefinedMetricWarning: F-score is ill-defined and being set to 0.0 in labels with no predicted samples.\n",
      "  'precision', 'predicted', average, warn_for)\n",
      "/anaconda3/lib/python3.7/site-packages/sklearn/metrics/classification.py:1143: UndefinedMetricWarning: F-score is ill-defined and being set to 0.0 in labels with no predicted samples.\n",
      "  'precision', 'predicted', average, warn_for)\n"
     ]
    },
    {
     "name": "stdout",
     "output_type": "stream",
     "text": [
      "[CV]  learning_rate=0.1, max_depth=1, min_samples_leaf=5, min_samples_split=2, n_estimators=50, score=0.3186067720002075, total=   4.9s\n",
      "[CV] learning_rate=0.1, max_depth=1, min_samples_leaf=5, min_samples_split=2, n_estimators=50 \n",
      "[CV]  learning_rate=0.1, max_depth=1, min_samples_leaf=5, min_samples_split=2, n_estimators=50, score=0.3067155163506164, total=   4.9s\n",
      "[CV] learning_rate=0.1, max_depth=1, min_samples_leaf=5, min_samples_split=2, n_estimators=50 \n"
     ]
    },
    {
     "name": "stderr",
     "output_type": "stream",
     "text": [
      "/anaconda3/lib/python3.7/site-packages/sklearn/metrics/classification.py:1143: UndefinedMetricWarning: F-score is ill-defined and being set to 0.0 in labels with no predicted samples.\n",
      "  'precision', 'predicted', average, warn_for)\n",
      "/anaconda3/lib/python3.7/site-packages/sklearn/metrics/classification.py:1143: UndefinedMetricWarning: F-score is ill-defined and being set to 0.0 in labels with no predicted samples.\n",
      "  'precision', 'predicted', average, warn_for)\n"
     ]
    },
    {
     "name": "stdout",
     "output_type": "stream",
     "text": [
      "[CV]  learning_rate=0.1, max_depth=1, min_samples_leaf=5, min_samples_split=2, n_estimators=50, score=0.31308132450068377, total=   5.0s\n",
      "[CV] learning_rate=0.1, max_depth=1, min_samples_leaf=5, min_samples_split=2, n_estimators=100 \n",
      "[CV]  learning_rate=0.1, max_depth=1, min_samples_leaf=5, min_samples_split=2, n_estimators=100, score=0.32297565307475556, total=   8.0s\n",
      "[CV] learning_rate=0.1, max_depth=1, min_samples_leaf=5, min_samples_split=2, n_estimators=100 \n",
      "[CV]  learning_rate=0.1, max_depth=1, min_samples_leaf=5, min_samples_split=2, n_estimators=100, score=0.31494243929353766, total=  11.7s\n",
      "[CV] learning_rate=0.1, max_depth=1, min_samples_leaf=5, min_samples_split=2, n_estimators=100 \n",
      "[CV]  learning_rate=0.1, max_depth=1, min_samples_leaf=5, min_samples_split=2, n_estimators=100, score=0.3153920327090967, total=  13.5s\n",
      "[CV] learning_rate=0.1, max_depth=1, min_samples_leaf=5, min_samples_split=2, n_estimators=200 \n",
      "[CV]  learning_rate=0.1, max_depth=1, min_samples_leaf=5, min_samples_split=2, n_estimators=200, score=0.32675051732625854, total=  19.4s\n",
      "[CV] learning_rate=0.1, max_depth=1, min_samples_leaf=5, min_samples_split=2, n_estimators=200 \n",
      "[CV]  learning_rate=0.1, max_depth=1, min_samples_leaf=5, min_samples_split=2, n_estimators=200, score=0.320439272174786, total=  21.6s\n",
      "[CV] learning_rate=0.1, max_depth=1, min_samples_leaf=5, min_samples_split=2, n_estimators=200 \n",
      "[CV]  learning_rate=0.1, max_depth=1, min_samples_leaf=5, min_samples_split=2, n_estimators=200, score=0.3190380218424835, total=  20.7s\n",
      "[CV] learning_rate=0.1, max_depth=1, min_samples_leaf=5, min_samples_split=5, n_estimators=50 \n"
     ]
    },
    {
     "name": "stderr",
     "output_type": "stream",
     "text": [
      "/anaconda3/lib/python3.7/site-packages/sklearn/metrics/classification.py:1143: UndefinedMetricWarning: F-score is ill-defined and being set to 0.0 in labels with no predicted samples.\n",
      "  'precision', 'predicted', average, warn_for)\n",
      "/anaconda3/lib/python3.7/site-packages/sklearn/metrics/classification.py:1143: UndefinedMetricWarning: F-score is ill-defined and being set to 0.0 in labels with no predicted samples.\n",
      "  'precision', 'predicted', average, warn_for)\n"
     ]
    },
    {
     "name": "stdout",
     "output_type": "stream",
     "text": [
      "[CV]  learning_rate=0.1, max_depth=1, min_samples_leaf=5, min_samples_split=5, n_estimators=50, score=0.3186067720002075, total=   7.3s\n",
      "[CV] learning_rate=0.1, max_depth=1, min_samples_leaf=5, min_samples_split=5, n_estimators=50 \n",
      "[CV]  learning_rate=0.1, max_depth=1, min_samples_leaf=5, min_samples_split=5, n_estimators=50, score=0.3067155163506164, total=   7.9s\n",
      "[CV] learning_rate=0.1, max_depth=1, min_samples_leaf=5, min_samples_split=5, n_estimators=50 \n"
     ]
    },
    {
     "name": "stderr",
     "output_type": "stream",
     "text": [
      "/anaconda3/lib/python3.7/site-packages/sklearn/metrics/classification.py:1143: UndefinedMetricWarning: F-score is ill-defined and being set to 0.0 in labels with no predicted samples.\n",
      "  'precision', 'predicted', average, warn_for)\n",
      "/anaconda3/lib/python3.7/site-packages/sklearn/metrics/classification.py:1143: UndefinedMetricWarning: F-score is ill-defined and being set to 0.0 in labels with no predicted samples.\n",
      "  'precision', 'predicted', average, warn_for)\n"
     ]
    },
    {
     "name": "stdout",
     "output_type": "stream",
     "text": [
      "[CV]  learning_rate=0.1, max_depth=1, min_samples_leaf=5, min_samples_split=5, n_estimators=50, score=0.31308132450068377, total=   6.4s\n",
      "[CV] learning_rate=0.1, max_depth=1, min_samples_leaf=5, min_samples_split=5, n_estimators=100 \n",
      "[CV]  learning_rate=0.1, max_depth=1, min_samples_leaf=5, min_samples_split=5, n_estimators=100, score=0.32297565307475556, total=  22.0s\n",
      "[CV] learning_rate=0.1, max_depth=1, min_samples_leaf=5, min_samples_split=5, n_estimators=100 \n",
      "[CV]  learning_rate=0.1, max_depth=1, min_samples_leaf=5, min_samples_split=5, n_estimators=100, score=0.31494243929353766, total=  12.7s\n",
      "[CV] learning_rate=0.1, max_depth=1, min_samples_leaf=5, min_samples_split=5, n_estimators=100 \n",
      "[CV]  learning_rate=0.1, max_depth=1, min_samples_leaf=5, min_samples_split=5, n_estimators=100, score=0.3153920327090967, total=  11.6s\n",
      "[CV] learning_rate=0.1, max_depth=1, min_samples_leaf=5, min_samples_split=5, n_estimators=200 \n",
      "[CV]  learning_rate=0.1, max_depth=1, min_samples_leaf=5, min_samples_split=5, n_estimators=200, score=0.32675051732625854, total=  23.9s\n",
      "[CV] learning_rate=0.1, max_depth=1, min_samples_leaf=5, min_samples_split=5, n_estimators=200 \n",
      "[CV]  learning_rate=0.1, max_depth=1, min_samples_leaf=5, min_samples_split=5, n_estimators=200, score=0.320439272174786, total=  23.1s\n",
      "[CV] learning_rate=0.1, max_depth=1, min_samples_leaf=5, min_samples_split=5, n_estimators=200 \n",
      "[CV]  learning_rate=0.1, max_depth=1, min_samples_leaf=5, min_samples_split=5, n_estimators=200, score=0.3190380218424835, total=  22.2s\n",
      "[CV] learning_rate=0.1, max_depth=3, min_samples_leaf=1, min_samples_split=2, n_estimators=50 \n",
      "[CV]  learning_rate=0.1, max_depth=3, min_samples_leaf=1, min_samples_split=2, n_estimators=50, score=0.32841809118333004, total=  14.9s\n",
      "[CV] learning_rate=0.1, max_depth=3, min_samples_leaf=1, min_samples_split=2, n_estimators=50 \n",
      "[CV]  learning_rate=0.1, max_depth=3, min_samples_leaf=1, min_samples_split=2, n_estimators=50, score=0.3174977111493025, total=  14.1s\n",
      "[CV] learning_rate=0.1, max_depth=3, min_samples_leaf=1, min_samples_split=2, n_estimators=50 \n",
      "[CV]  learning_rate=0.1, max_depth=3, min_samples_leaf=1, min_samples_split=2, n_estimators=50, score=0.3223968016300562, total=  15.4s\n",
      "[CV] learning_rate=0.1, max_depth=3, min_samples_leaf=1, min_samples_split=2, n_estimators=100 \n",
      "[CV]  learning_rate=0.1, max_depth=3, min_samples_leaf=1, min_samples_split=2, n_estimators=100, score=0.3315745738453106, total=  24.4s\n",
      "[CV] learning_rate=0.1, max_depth=3, min_samples_leaf=1, min_samples_split=2, n_estimators=100 \n",
      "[CV]  learning_rate=0.1, max_depth=3, min_samples_leaf=1, min_samples_split=2, n_estimators=100, score=0.3240367385746083, total=  22.6s\n",
      "[CV] learning_rate=0.1, max_depth=3, min_samples_leaf=1, min_samples_split=2, n_estimators=100 \n",
      "[CV]  learning_rate=0.1, max_depth=3, min_samples_leaf=1, min_samples_split=2, n_estimators=100, score=0.3253546306786372, total=  23.2s\n",
      "[CV] learning_rate=0.1, max_depth=3, min_samples_leaf=1, min_samples_split=2, n_estimators=200 \n",
      "[CV]  learning_rate=0.1, max_depth=3, min_samples_leaf=1, min_samples_split=2, n_estimators=200, score=0.33428628125926885, total=  47.4s\n",
      "[CV] learning_rate=0.1, max_depth=3, min_samples_leaf=1, min_samples_split=2, n_estimators=200 \n",
      "[CV]  learning_rate=0.1, max_depth=3, min_samples_leaf=1, min_samples_split=2, n_estimators=200, score=0.3281782993391584, total=  37.3s\n",
      "[CV] learning_rate=0.1, max_depth=3, min_samples_leaf=1, min_samples_split=2, n_estimators=200 \n",
      "[CV]  learning_rate=0.1, max_depth=3, min_samples_leaf=1, min_samples_split=2, n_estimators=200, score=0.329143278829449, total=  41.2s\n",
      "[CV] learning_rate=0.1, max_depth=3, min_samples_leaf=1, min_samples_split=5, n_estimators=50 \n",
      "[CV]  learning_rate=0.1, max_depth=3, min_samples_leaf=1, min_samples_split=5, n_estimators=50, score=0.3291374576203075, total=  10.2s\n",
      "[CV] learning_rate=0.1, max_depth=3, min_samples_leaf=1, min_samples_split=5, n_estimators=50 \n",
      "[CV]  learning_rate=0.1, max_depth=3, min_samples_leaf=1, min_samples_split=5, n_estimators=50, score=0.31749576135681407, total=   9.6s\n",
      "[CV] learning_rate=0.1, max_depth=3, min_samples_leaf=1, min_samples_split=5, n_estimators=50 \n",
      "[CV]  learning_rate=0.1, max_depth=3, min_samples_leaf=1, min_samples_split=5, n_estimators=50, score=0.32206602109062016, total=  11.0s\n",
      "[CV] learning_rate=0.1, max_depth=3, min_samples_leaf=1, min_samples_split=5, n_estimators=100 \n",
      "[CV]  learning_rate=0.1, max_depth=3, min_samples_leaf=1, min_samples_split=5, n_estimators=100, score=0.33186950073679594, total=  20.3s\n",
      "[CV] learning_rate=0.1, max_depth=3, min_samples_leaf=1, min_samples_split=5, n_estimators=100 \n",
      "[CV]  learning_rate=0.1, max_depth=3, min_samples_leaf=1, min_samples_split=5, n_estimators=100, score=0.32329023885780067, total=  20.0s\n",
      "[CV] learning_rate=0.1, max_depth=3, min_samples_leaf=1, min_samples_split=5, n_estimators=100 \n",
      "[CV]  learning_rate=0.1, max_depth=3, min_samples_leaf=1, min_samples_split=5, n_estimators=100, score=0.3251745099993078, total=  19.0s\n",
      "[CV] learning_rate=0.1, max_depth=3, min_samples_leaf=1, min_samples_split=5, n_estimators=200 \n",
      "[CV]  learning_rate=0.1, max_depth=3, min_samples_leaf=1, min_samples_split=5, n_estimators=200, score=0.3349237521262025, total=  42.5s\n",
      "[CV] learning_rate=0.1, max_depth=3, min_samples_leaf=1, min_samples_split=5, n_estimators=200 \n",
      "[CV]  learning_rate=0.1, max_depth=3, min_samples_leaf=1, min_samples_split=5, n_estimators=200, score=0.32787149578400926, total=  39.8s\n",
      "[CV] learning_rate=0.1, max_depth=3, min_samples_leaf=1, min_samples_split=5, n_estimators=200 \n",
      "[CV]  learning_rate=0.1, max_depth=3, min_samples_leaf=1, min_samples_split=5, n_estimators=200, score=0.3285680064138014, total=  37.4s\n",
      "[CV] learning_rate=0.1, max_depth=3, min_samples_leaf=3, min_samples_split=2, n_estimators=50 \n",
      "[CV]  learning_rate=0.1, max_depth=3, min_samples_leaf=3, min_samples_split=2, n_estimators=50, score=0.3286097724625338, total=   9.7s\n",
      "[CV] learning_rate=0.1, max_depth=3, min_samples_leaf=3, min_samples_split=2, n_estimators=50 \n",
      "[CV]  learning_rate=0.1, max_depth=3, min_samples_leaf=3, min_samples_split=2, n_estimators=50, score=0.31712108656677923, total=   9.9s\n",
      "[CV] learning_rate=0.1, max_depth=3, min_samples_leaf=3, min_samples_split=2, n_estimators=50 \n",
      "[CV]  learning_rate=0.1, max_depth=3, min_samples_leaf=3, min_samples_split=2, n_estimators=50, score=0.32247236564957316, total=  11.5s\n",
      "[CV] learning_rate=0.1, max_depth=3, min_samples_leaf=3, min_samples_split=2, n_estimators=100 \n",
      "[CV]  learning_rate=0.1, max_depth=3, min_samples_leaf=3, min_samples_split=2, n_estimators=100, score=0.3327044928291063, total=  19.5s\n",
      "[CV] learning_rate=0.1, max_depth=3, min_samples_leaf=3, min_samples_split=2, n_estimators=100 \n",
      "[CV]  learning_rate=0.1, max_depth=3, min_samples_leaf=3, min_samples_split=2, n_estimators=100, score=0.3247243444857089, total=  18.9s\n",
      "[CV] learning_rate=0.1, max_depth=3, min_samples_leaf=3, min_samples_split=2, n_estimators=100 \n",
      "[CV]  learning_rate=0.1, max_depth=3, min_samples_leaf=3, min_samples_split=2, n_estimators=100, score=0.32549872189881673, total=  18.7s\n",
      "[CV] learning_rate=0.1, max_depth=3, min_samples_leaf=3, min_samples_split=2, n_estimators=200 \n",
      "[CV]  learning_rate=0.1, max_depth=3, min_samples_leaf=3, min_samples_split=2, n_estimators=200, score=0.3342903028741462, total=  38.3s\n",
      "[CV] learning_rate=0.1, max_depth=3, min_samples_leaf=3, min_samples_split=2, n_estimators=200 \n",
      "[CV]  learning_rate=0.1, max_depth=3, min_samples_leaf=3, min_samples_split=2, n_estimators=200, score=0.3296547191421855, total=  38.7s\n",
      "[CV] learning_rate=0.1, max_depth=3, min_samples_leaf=3, min_samples_split=2, n_estimators=200 \n",
      "[CV]  learning_rate=0.1, max_depth=3, min_samples_leaf=3, min_samples_split=2, n_estimators=200, score=0.3303199855069808, total=  34.5s\n",
      "[CV] learning_rate=0.1, max_depth=3, min_samples_leaf=3, min_samples_split=5, n_estimators=50 \n",
      "[CV]  learning_rate=0.1, max_depth=3, min_samples_leaf=3, min_samples_split=5, n_estimators=50, score=0.3286097724625338, total=   8.1s\n",
      "[CV] learning_rate=0.1, max_depth=3, min_samples_leaf=3, min_samples_split=5, n_estimators=50 \n",
      "[CV]  learning_rate=0.1, max_depth=3, min_samples_leaf=3, min_samples_split=5, n_estimators=50, score=0.31712108656677923, total=   8.4s\n",
      "[CV] learning_rate=0.1, max_depth=3, min_samples_leaf=3, min_samples_split=5, n_estimators=50 \n"
     ]
    },
    {
     "name": "stdout",
     "output_type": "stream",
     "text": [
      "[CV]  learning_rate=0.1, max_depth=3, min_samples_leaf=3, min_samples_split=5, n_estimators=50, score=0.32247236564957316, total=   8.2s\n",
      "[CV] learning_rate=0.1, max_depth=3, min_samples_leaf=3, min_samples_split=5, n_estimators=100 \n",
      "[CV]  learning_rate=0.1, max_depth=3, min_samples_leaf=3, min_samples_split=5, n_estimators=100, score=0.3327533492802536, total=  17.4s\n",
      "[CV] learning_rate=0.1, max_depth=3, min_samples_leaf=3, min_samples_split=5, n_estimators=100 \n",
      "[CV]  learning_rate=0.1, max_depth=3, min_samples_leaf=3, min_samples_split=5, n_estimators=100, score=0.3247243444857089, total=  16.8s\n",
      "[CV] learning_rate=0.1, max_depth=3, min_samples_leaf=3, min_samples_split=5, n_estimators=100 \n",
      "[CV]  learning_rate=0.1, max_depth=3, min_samples_leaf=3, min_samples_split=5, n_estimators=100, score=0.32544640554768783, total=  16.9s\n",
      "[CV] learning_rate=0.1, max_depth=3, min_samples_leaf=3, min_samples_split=5, n_estimators=200 \n",
      "[CV]  learning_rate=0.1, max_depth=3, min_samples_leaf=3, min_samples_split=5, n_estimators=200, score=0.3342903028741462, total=  35.7s\n",
      "[CV] learning_rate=0.1, max_depth=3, min_samples_leaf=3, min_samples_split=5, n_estimators=200 \n",
      "[CV]  learning_rate=0.1, max_depth=3, min_samples_leaf=3, min_samples_split=5, n_estimators=200, score=0.3296547191421855, total=  30.5s\n",
      "[CV] learning_rate=0.1, max_depth=3, min_samples_leaf=3, min_samples_split=5, n_estimators=200 \n",
      "[CV]  learning_rate=0.1, max_depth=3, min_samples_leaf=3, min_samples_split=5, n_estimators=200, score=0.3303199855069808, total=  34.2s\n",
      "[CV] learning_rate=0.1, max_depth=3, min_samples_leaf=5, min_samples_split=2, n_estimators=50 \n",
      "[CV]  learning_rate=0.1, max_depth=3, min_samples_leaf=5, min_samples_split=2, n_estimators=50, score=0.32986303752499585, total=  10.1s\n",
      "[CV] learning_rate=0.1, max_depth=3, min_samples_leaf=5, min_samples_split=2, n_estimators=50 \n",
      "[CV]  learning_rate=0.1, max_depth=3, min_samples_leaf=5, min_samples_split=2, n_estimators=50, score=0.3181304260267779, total=   8.6s\n",
      "[CV] learning_rate=0.1, max_depth=3, min_samples_leaf=5, min_samples_split=2, n_estimators=50 \n",
      "[CV]  learning_rate=0.1, max_depth=3, min_samples_leaf=5, min_samples_split=2, n_estimators=50, score=0.322873283826059, total=   8.4s\n",
      "[CV] learning_rate=0.1, max_depth=3, min_samples_leaf=5, min_samples_split=2, n_estimators=100 \n",
      "[CV]  learning_rate=0.1, max_depth=3, min_samples_leaf=5, min_samples_split=2, n_estimators=100, score=0.3314468440888387, total=  16.2s\n",
      "[CV] learning_rate=0.1, max_depth=3, min_samples_leaf=5, min_samples_split=2, n_estimators=100 \n",
      "[CV]  learning_rate=0.1, max_depth=3, min_samples_leaf=5, min_samples_split=2, n_estimators=100, score=0.32381335149435636, total=  15.7s\n",
      "[CV] learning_rate=0.1, max_depth=3, min_samples_leaf=5, min_samples_split=2, n_estimators=100 \n",
      "[CV]  learning_rate=0.1, max_depth=3, min_samples_leaf=5, min_samples_split=2, n_estimators=100, score=0.32431238532918516, total=  17.7s\n",
      "[CV] learning_rate=0.1, max_depth=3, min_samples_leaf=5, min_samples_split=2, n_estimators=200 \n",
      "[CV]  learning_rate=0.1, max_depth=3, min_samples_leaf=5, min_samples_split=2, n_estimators=200, score=0.33441961279119203, total=  32.0s\n",
      "[CV] learning_rate=0.1, max_depth=3, min_samples_leaf=5, min_samples_split=2, n_estimators=200 \n",
      "[CV]  learning_rate=0.1, max_depth=3, min_samples_leaf=5, min_samples_split=2, n_estimators=200, score=0.32910477775053953, total=  31.6s\n",
      "[CV] learning_rate=0.1, max_depth=3, min_samples_leaf=5, min_samples_split=2, n_estimators=200 \n",
      "[CV]  learning_rate=0.1, max_depth=3, min_samples_leaf=5, min_samples_split=2, n_estimators=200, score=0.3268998242699357, total=  30.6s\n",
      "[CV] learning_rate=0.1, max_depth=3, min_samples_leaf=5, min_samples_split=5, n_estimators=50 \n",
      "[CV]  learning_rate=0.1, max_depth=3, min_samples_leaf=5, min_samples_split=5, n_estimators=50, score=0.32986303752499585, total=   8.7s\n",
      "[CV] learning_rate=0.1, max_depth=3, min_samples_leaf=5, min_samples_split=5, n_estimators=50 \n",
      "[CV]  learning_rate=0.1, max_depth=3, min_samples_leaf=5, min_samples_split=5, n_estimators=50, score=0.3181304260267779, total=   8.1s\n",
      "[CV] learning_rate=0.1, max_depth=3, min_samples_leaf=5, min_samples_split=5, n_estimators=50 \n",
      "[CV]  learning_rate=0.1, max_depth=3, min_samples_leaf=5, min_samples_split=5, n_estimators=50, score=0.322873283826059, total=  10.0s\n",
      "[CV] learning_rate=0.1, max_depth=3, min_samples_leaf=5, min_samples_split=5, n_estimators=100 \n",
      "[CV]  learning_rate=0.1, max_depth=3, min_samples_leaf=5, min_samples_split=5, n_estimators=100, score=0.3314468440888387, total=  19.2s\n",
      "[CV] learning_rate=0.1, max_depth=3, min_samples_leaf=5, min_samples_split=5, n_estimators=100 \n",
      "[CV]  learning_rate=0.1, max_depth=3, min_samples_leaf=5, min_samples_split=5, n_estimators=100, score=0.32381335149435636, total=  15.9s\n",
      "[CV] learning_rate=0.1, max_depth=3, min_samples_leaf=5, min_samples_split=5, n_estimators=100 \n",
      "[CV]  learning_rate=0.1, max_depth=3, min_samples_leaf=5, min_samples_split=5, n_estimators=100, score=0.32431238532918516, total=  17.6s\n",
      "[CV] learning_rate=0.1, max_depth=3, min_samples_leaf=5, min_samples_split=5, n_estimators=200 \n",
      "[CV]  learning_rate=0.1, max_depth=3, min_samples_leaf=5, min_samples_split=5, n_estimators=200, score=0.33441961279119203, total=  33.4s\n",
      "[CV] learning_rate=0.1, max_depth=3, min_samples_leaf=5, min_samples_split=5, n_estimators=200 \n",
      "[CV]  learning_rate=0.1, max_depth=3, min_samples_leaf=5, min_samples_split=5, n_estimators=200, score=0.32910477775053953, total=  32.3s\n",
      "[CV] learning_rate=0.1, max_depth=3, min_samples_leaf=5, min_samples_split=5, n_estimators=200 \n",
      "[CV]  learning_rate=0.1, max_depth=3, min_samples_leaf=5, min_samples_split=5, n_estimators=200, score=0.3268998242699357, total=  32.0s\n",
      "[CV] learning_rate=0.1, max_depth=6, min_samples_leaf=1, min_samples_split=2, n_estimators=50 \n",
      "[CV]  learning_rate=0.1, max_depth=6, min_samples_leaf=1, min_samples_split=2, n_estimators=50, score=0.3327978252968377, total=  22.4s\n",
      "[CV] learning_rate=0.1, max_depth=6, min_samples_leaf=1, min_samples_split=2, n_estimators=50 \n",
      "[CV]  learning_rate=0.1, max_depth=6, min_samples_leaf=1, min_samples_split=2, n_estimators=50, score=0.3263994513751351, total=  22.6s\n",
      "[CV] learning_rate=0.1, max_depth=6, min_samples_leaf=1, min_samples_split=2, n_estimators=50 \n",
      "[CV]  learning_rate=0.1, max_depth=6, min_samples_leaf=1, min_samples_split=2, n_estimators=50, score=0.3308106036364226, total=  20.8s\n",
      "[CV] learning_rate=0.1, max_depth=6, min_samples_leaf=1, min_samples_split=2, n_estimators=100 \n",
      "[CV]  learning_rate=0.1, max_depth=6, min_samples_leaf=1, min_samples_split=2, n_estimators=100, score=0.33445867913380384, total=  39.8s\n",
      "[CV] learning_rate=0.1, max_depth=6, min_samples_leaf=1, min_samples_split=2, n_estimators=100 \n",
      "[CV]  learning_rate=0.1, max_depth=6, min_samples_leaf=1, min_samples_split=2, n_estimators=100, score=0.33201559480095333, total=  38.5s\n",
      "[CV] learning_rate=0.1, max_depth=6, min_samples_leaf=1, min_samples_split=2, n_estimators=100 \n",
      "[CV]  learning_rate=0.1, max_depth=6, min_samples_leaf=1, min_samples_split=2, n_estimators=100, score=0.3344768994731189, total=  41.8s\n",
      "[CV] learning_rate=0.1, max_depth=6, min_samples_leaf=1, min_samples_split=2, n_estimators=200 \n",
      "[CV]  learning_rate=0.1, max_depth=6, min_samples_leaf=1, min_samples_split=2, n_estimators=200, score=0.3380020017464774, total= 1.3min\n",
      "[CV] learning_rate=0.1, max_depth=6, min_samples_leaf=1, min_samples_split=2, n_estimators=200 \n",
      "[CV]  learning_rate=0.1, max_depth=6, min_samples_leaf=1, min_samples_split=2, n_estimators=200, score=0.3378716639381425, total= 1.5min\n",
      "[CV] learning_rate=0.1, max_depth=6, min_samples_leaf=1, min_samples_split=2, n_estimators=200 \n",
      "[CV]  learning_rate=0.1, max_depth=6, min_samples_leaf=1, min_samples_split=2, n_estimators=200, score=0.34002045090439226, total= 1.6min\n",
      "[CV] learning_rate=0.1, max_depth=6, min_samples_leaf=1, min_samples_split=5, n_estimators=50 \n",
      "[CV]  learning_rate=0.1, max_depth=6, min_samples_leaf=1, min_samples_split=5, n_estimators=50, score=0.3328707799369631, total=  24.3s\n",
      "[CV] learning_rate=0.1, max_depth=6, min_samples_leaf=1, min_samples_split=5, n_estimators=50 \n",
      "[CV]  learning_rate=0.1, max_depth=6, min_samples_leaf=1, min_samples_split=5, n_estimators=50, score=0.3285128838477545, total=  20.8s\n",
      "[CV] learning_rate=0.1, max_depth=6, min_samples_leaf=1, min_samples_split=5, n_estimators=50 \n"
     ]
    },
    {
     "name": "stdout",
     "output_type": "stream",
     "text": [
      "[CV]  learning_rate=0.1, max_depth=6, min_samples_leaf=1, min_samples_split=5, n_estimators=50, score=0.3307683589811607, total=  19.9s\n",
      "[CV] learning_rate=0.1, max_depth=6, min_samples_leaf=1, min_samples_split=5, n_estimators=100 \n",
      "[CV]  learning_rate=0.1, max_depth=6, min_samples_leaf=1, min_samples_split=5, n_estimators=100, score=0.3349154037897337, total=  38.3s\n",
      "[CV] learning_rate=0.1, max_depth=6, min_samples_leaf=1, min_samples_split=5, n_estimators=100 \n",
      "[CV]  learning_rate=0.1, max_depth=6, min_samples_leaf=1, min_samples_split=5, n_estimators=100, score=0.3337655547268053, total=  40.7s\n",
      "[CV] learning_rate=0.1, max_depth=6, min_samples_leaf=1, min_samples_split=5, n_estimators=100 \n",
      "[CV]  learning_rate=0.1, max_depth=6, min_samples_leaf=1, min_samples_split=5, n_estimators=100, score=0.33633170371368726, total=  37.0s\n",
      "[CV] learning_rate=0.1, max_depth=6, min_samples_leaf=1, min_samples_split=5, n_estimators=200 \n",
      "[CV]  learning_rate=0.1, max_depth=6, min_samples_leaf=1, min_samples_split=5, n_estimators=200, score=0.3359520894649555, total= 1.2min\n",
      "[CV] learning_rate=0.1, max_depth=6, min_samples_leaf=1, min_samples_split=5, n_estimators=200 \n",
      "[CV]  learning_rate=0.1, max_depth=6, min_samples_leaf=1, min_samples_split=5, n_estimators=200, score=0.33961819831136814, total= 1.2min\n",
      "[CV] learning_rate=0.1, max_depth=6, min_samples_leaf=1, min_samples_split=5, n_estimators=200 \n",
      "[CV]  learning_rate=0.1, max_depth=6, min_samples_leaf=1, min_samples_split=5, n_estimators=200, score=0.341702691450853, total= 1.2min\n",
      "[CV] learning_rate=0.1, max_depth=6, min_samples_leaf=3, min_samples_split=2, n_estimators=50 \n",
      "[CV]  learning_rate=0.1, max_depth=6, min_samples_leaf=3, min_samples_split=2, n_estimators=50, score=0.3346399869895329, total=  20.5s\n",
      "[CV] learning_rate=0.1, max_depth=6, min_samples_leaf=3, min_samples_split=2, n_estimators=50 \n",
      "[CV]  learning_rate=0.1, max_depth=6, min_samples_leaf=3, min_samples_split=2, n_estimators=50, score=0.32724382556072573, total=  19.4s\n",
      "[CV] learning_rate=0.1, max_depth=6, min_samples_leaf=3, min_samples_split=2, n_estimators=50 \n",
      "[CV]  learning_rate=0.1, max_depth=6, min_samples_leaf=3, min_samples_split=2, n_estimators=50, score=0.3307479349706937, total=  19.6s\n",
      "[CV] learning_rate=0.1, max_depth=6, min_samples_leaf=3, min_samples_split=2, n_estimators=100 \n",
      "[CV]  learning_rate=0.1, max_depth=6, min_samples_leaf=3, min_samples_split=2, n_estimators=100, score=0.3363609318176628, total=  38.3s\n",
      "[CV] learning_rate=0.1, max_depth=6, min_samples_leaf=3, min_samples_split=2, n_estimators=100 \n",
      "[CV]  learning_rate=0.1, max_depth=6, min_samples_leaf=3, min_samples_split=2, n_estimators=100, score=0.3352418809242513, total=  37.3s\n",
      "[CV] learning_rate=0.1, max_depth=6, min_samples_leaf=3, min_samples_split=2, n_estimators=100 \n",
      "[CV]  learning_rate=0.1, max_depth=6, min_samples_leaf=3, min_samples_split=2, n_estimators=100, score=0.33490648311941745, total=  39.5s\n",
      "[CV] learning_rate=0.1, max_depth=6, min_samples_leaf=3, min_samples_split=2, n_estimators=200 \n",
      "[CV]  learning_rate=0.1, max_depth=6, min_samples_leaf=3, min_samples_split=2, n_estimators=200, score=0.34081157956183755, total= 1.2min\n",
      "[CV] learning_rate=0.1, max_depth=6, min_samples_leaf=3, min_samples_split=2, n_estimators=200 \n",
      "[CV]  learning_rate=0.1, max_depth=6, min_samples_leaf=3, min_samples_split=2, n_estimators=200, score=0.33799539313709714, total= 1.2min\n",
      "[CV] learning_rate=0.1, max_depth=6, min_samples_leaf=3, min_samples_split=2, n_estimators=200 \n",
      "[CV]  learning_rate=0.1, max_depth=6, min_samples_leaf=3, min_samples_split=2, n_estimators=200, score=0.3417735966185003, total= 1.2min\n",
      "[CV] learning_rate=0.1, max_depth=6, min_samples_leaf=3, min_samples_split=5, n_estimators=50 \n",
      "[CV]  learning_rate=0.1, max_depth=6, min_samples_leaf=3, min_samples_split=5, n_estimators=50, score=0.3326433949805752, total=  20.3s\n",
      "[CV] learning_rate=0.1, max_depth=6, min_samples_leaf=3, min_samples_split=5, n_estimators=50 \n",
      "[CV]  learning_rate=0.1, max_depth=6, min_samples_leaf=3, min_samples_split=5, n_estimators=50, score=0.328651238498296, total=  19.9s\n",
      "[CV] learning_rate=0.1, max_depth=6, min_samples_leaf=3, min_samples_split=5, n_estimators=50 \n",
      "[CV]  learning_rate=0.1, max_depth=6, min_samples_leaf=3, min_samples_split=5, n_estimators=50, score=0.3305506253938733, total=  24.4s\n",
      "[CV] learning_rate=0.1, max_depth=6, min_samples_leaf=3, min_samples_split=5, n_estimators=100 \n",
      "[CV]  learning_rate=0.1, max_depth=6, min_samples_leaf=3, min_samples_split=5, n_estimators=100, score=0.33696722273043217, total=  41.0s\n",
      "[CV] learning_rate=0.1, max_depth=6, min_samples_leaf=3, min_samples_split=5, n_estimators=100 \n",
      "[CV]  learning_rate=0.1, max_depth=6, min_samples_leaf=3, min_samples_split=5, n_estimators=100, score=0.33376124626361975, total=  36.9s\n",
      "[CV] learning_rate=0.1, max_depth=6, min_samples_leaf=3, min_samples_split=5, n_estimators=100 \n",
      "[CV]  learning_rate=0.1, max_depth=6, min_samples_leaf=3, min_samples_split=5, n_estimators=100, score=0.333918895775075, total=  37.4s\n",
      "[CV] learning_rate=0.1, max_depth=6, min_samples_leaf=3, min_samples_split=5, n_estimators=200 \n",
      "[CV]  learning_rate=0.1, max_depth=6, min_samples_leaf=3, min_samples_split=5, n_estimators=200, score=0.33964377504695853, total= 1.2min\n",
      "[CV] learning_rate=0.1, max_depth=6, min_samples_leaf=3, min_samples_split=5, n_estimators=200 \n",
      "[CV]  learning_rate=0.1, max_depth=6, min_samples_leaf=3, min_samples_split=5, n_estimators=200, score=0.3397163953022589, total= 1.2min\n",
      "[CV] learning_rate=0.1, max_depth=6, min_samples_leaf=3, min_samples_split=5, n_estimators=200 \n",
      "[CV]  learning_rate=0.1, max_depth=6, min_samples_leaf=3, min_samples_split=5, n_estimators=200, score=0.33911862659240155, total= 1.2min\n",
      "[CV] learning_rate=0.1, max_depth=6, min_samples_leaf=5, min_samples_split=2, n_estimators=50 \n",
      "[CV]  learning_rate=0.1, max_depth=6, min_samples_leaf=5, min_samples_split=2, n_estimators=50, score=0.3318896025220061, total=  20.2s\n",
      "[CV] learning_rate=0.1, max_depth=6, min_samples_leaf=5, min_samples_split=2, n_estimators=50 \n",
      "[CV]  learning_rate=0.1, max_depth=6, min_samples_leaf=5, min_samples_split=2, n_estimators=50, score=0.327049470663117, total=  19.3s\n",
      "[CV] learning_rate=0.1, max_depth=6, min_samples_leaf=5, min_samples_split=2, n_estimators=50 \n",
      "[CV]  learning_rate=0.1, max_depth=6, min_samples_leaf=5, min_samples_split=2, n_estimators=50, score=0.33093804119917947, total=  20.3s\n",
      "[CV] learning_rate=0.1, max_depth=6, min_samples_leaf=5, min_samples_split=2, n_estimators=100 \n",
      "[CV]  learning_rate=0.1, max_depth=6, min_samples_leaf=5, min_samples_split=2, n_estimators=100, score=0.335106108954125, total=  38.9s\n",
      "[CV] learning_rate=0.1, max_depth=6, min_samples_leaf=5, min_samples_split=2, n_estimators=100 \n",
      "[CV]  learning_rate=0.1, max_depth=6, min_samples_leaf=5, min_samples_split=2, n_estimators=100, score=0.3328354706058326, total=  36.3s\n",
      "[CV] learning_rate=0.1, max_depth=6, min_samples_leaf=5, min_samples_split=2, n_estimators=100 \n",
      "[CV]  learning_rate=0.1, max_depth=6, min_samples_leaf=5, min_samples_split=2, n_estimators=100, score=0.333850136200929, total=  37.6s\n",
      "[CV] learning_rate=0.1, max_depth=6, min_samples_leaf=5, min_samples_split=2, n_estimators=200 \n",
      "[CV]  learning_rate=0.1, max_depth=6, min_samples_leaf=5, min_samples_split=2, n_estimators=200, score=0.3382739117728401, total= 1.2min\n",
      "[CV] learning_rate=0.1, max_depth=6, min_samples_leaf=5, min_samples_split=2, n_estimators=200 \n",
      "[CV]  learning_rate=0.1, max_depth=6, min_samples_leaf=5, min_samples_split=2, n_estimators=200, score=0.3378344423522637, total= 1.2min\n",
      "[CV] learning_rate=0.1, max_depth=6, min_samples_leaf=5, min_samples_split=2, n_estimators=200 \n",
      "[CV]  learning_rate=0.1, max_depth=6, min_samples_leaf=5, min_samples_split=2, n_estimators=200, score=0.3387593267083804, total= 1.4min\n",
      "[CV] learning_rate=0.1, max_depth=6, min_samples_leaf=5, min_samples_split=5, n_estimators=50 \n",
      "[CV]  learning_rate=0.1, max_depth=6, min_samples_leaf=5, min_samples_split=5, n_estimators=50, score=0.3318896025220061, total=  20.9s\n",
      "[CV] learning_rate=0.1, max_depth=6, min_samples_leaf=5, min_samples_split=5, n_estimators=50 \n",
      "[CV]  learning_rate=0.1, max_depth=6, min_samples_leaf=5, min_samples_split=5, n_estimators=50, score=0.32915432428271957, total=  20.8s\n",
      "[CV] learning_rate=0.1, max_depth=6, min_samples_leaf=5, min_samples_split=5, n_estimators=50 \n"
     ]
    },
    {
     "name": "stdout",
     "output_type": "stream",
     "text": [
      "[CV]  learning_rate=0.1, max_depth=6, min_samples_leaf=5, min_samples_split=5, n_estimators=50, score=0.33088680178825924, total=  20.9s\n",
      "[CV] learning_rate=0.1, max_depth=6, min_samples_leaf=5, min_samples_split=5, n_estimators=100 \n",
      "[CV]  learning_rate=0.1, max_depth=6, min_samples_leaf=5, min_samples_split=5, n_estimators=100, score=0.33515439583232337, total=  49.1s\n",
      "[CV] learning_rate=0.1, max_depth=6, min_samples_leaf=5, min_samples_split=5, n_estimators=100 \n",
      "[CV]  learning_rate=0.1, max_depth=6, min_samples_leaf=5, min_samples_split=5, n_estimators=100, score=0.33225864102553077, total=  50.6s\n",
      "[CV] learning_rate=0.1, max_depth=6, min_samples_leaf=5, min_samples_split=5, n_estimators=100 \n",
      "[CV]  learning_rate=0.1, max_depth=6, min_samples_leaf=5, min_samples_split=5, n_estimators=100, score=0.3336337207332418, total=  36.1s\n",
      "[CV] learning_rate=0.1, max_depth=6, min_samples_leaf=5, min_samples_split=5, n_estimators=200 \n",
      "[CV]  learning_rate=0.1, max_depth=6, min_samples_leaf=5, min_samples_split=5, n_estimators=200, score=0.3382739117728401, total= 1.3min\n",
      "[CV] learning_rate=0.1, max_depth=6, min_samples_leaf=5, min_samples_split=5, n_estimators=200 \n",
      "[CV]  learning_rate=0.1, max_depth=6, min_samples_leaf=5, min_samples_split=5, n_estimators=200, score=0.34085243958434147, total= 1.2min\n",
      "[CV] learning_rate=0.1, max_depth=6, min_samples_leaf=5, min_samples_split=5, n_estimators=200 \n",
      "[CV]  learning_rate=0.1, max_depth=6, min_samples_leaf=5, min_samples_split=5, n_estimators=200, score=0.3388353412103586, total= 1.3min\n",
      "[CV] learning_rate=0.01, max_depth=1, min_samples_leaf=1, min_samples_split=2, n_estimators=50 \n"
     ]
    },
    {
     "name": "stderr",
     "output_type": "stream",
     "text": [
      "/anaconda3/lib/python3.7/site-packages/sklearn/metrics/classification.py:1143: UndefinedMetricWarning: F-score is ill-defined and being set to 0.0 in labels with no predicted samples.\n",
      "  'precision', 'predicted', average, warn_for)\n",
      "/anaconda3/lib/python3.7/site-packages/sklearn/metrics/classification.py:1143: UndefinedMetricWarning: F-score is ill-defined and being set to 0.0 in labels with no predicted samples.\n",
      "  'precision', 'predicted', average, warn_for)\n"
     ]
    },
    {
     "name": "stdout",
     "output_type": "stream",
     "text": [
      "[CV]  learning_rate=0.01, max_depth=1, min_samples_leaf=1, min_samples_split=2, n_estimators=50, score=0.2942760324247992, total=   5.1s\n",
      "[CV] learning_rate=0.01, max_depth=1, min_samples_leaf=1, min_samples_split=2, n_estimators=50 \n"
     ]
    },
    {
     "name": "stderr",
     "output_type": "stream",
     "text": [
      "/anaconda3/lib/python3.7/site-packages/sklearn/metrics/classification.py:1143: UndefinedMetricWarning: F-score is ill-defined and being set to 0.0 in labels with no predicted samples.\n",
      "  'precision', 'predicted', average, warn_for)\n",
      "/anaconda3/lib/python3.7/site-packages/sklearn/metrics/classification.py:1143: UndefinedMetricWarning: F-score is ill-defined and being set to 0.0 in labels with no predicted samples.\n",
      "  'precision', 'predicted', average, warn_for)\n"
     ]
    },
    {
     "name": "stdout",
     "output_type": "stream",
     "text": [
      "[CV]  learning_rate=0.01, max_depth=1, min_samples_leaf=1, min_samples_split=2, n_estimators=50, score=0.2833610508386123, total=   3.7s\n",
      "[CV] learning_rate=0.01, max_depth=1, min_samples_leaf=1, min_samples_split=2, n_estimators=50 \n"
     ]
    },
    {
     "name": "stderr",
     "output_type": "stream",
     "text": [
      "/anaconda3/lib/python3.7/site-packages/sklearn/metrics/classification.py:1143: UndefinedMetricWarning: F-score is ill-defined and being set to 0.0 in labels with no predicted samples.\n",
      "  'precision', 'predicted', average, warn_for)\n",
      "/anaconda3/lib/python3.7/site-packages/sklearn/metrics/classification.py:1143: UndefinedMetricWarning: F-score is ill-defined and being set to 0.0 in labels with no predicted samples.\n",
      "  'precision', 'predicted', average, warn_for)\n"
     ]
    },
    {
     "name": "stdout",
     "output_type": "stream",
     "text": [
      "[CV]  learning_rate=0.01, max_depth=1, min_samples_leaf=1, min_samples_split=2, n_estimators=50, score=0.28219846076985333, total=   3.7s\n",
      "[CV] learning_rate=0.01, max_depth=1, min_samples_leaf=1, min_samples_split=2, n_estimators=100 \n"
     ]
    },
    {
     "name": "stderr",
     "output_type": "stream",
     "text": [
      "/anaconda3/lib/python3.7/site-packages/sklearn/metrics/classification.py:1143: UndefinedMetricWarning: F-score is ill-defined and being set to 0.0 in labels with no predicted samples.\n",
      "  'precision', 'predicted', average, warn_for)\n",
      "/anaconda3/lib/python3.7/site-packages/sklearn/metrics/classification.py:1143: UndefinedMetricWarning: F-score is ill-defined and being set to 0.0 in labels with no predicted samples.\n",
      "  'precision', 'predicted', average, warn_for)\n"
     ]
    },
    {
     "name": "stdout",
     "output_type": "stream",
     "text": [
      "[CV]  learning_rate=0.01, max_depth=1, min_samples_leaf=1, min_samples_split=2, n_estimators=100, score=0.2952403355765157, total=   8.8s\n",
      "[CV] learning_rate=0.01, max_depth=1, min_samples_leaf=1, min_samples_split=2, n_estimators=100 \n"
     ]
    },
    {
     "name": "stderr",
     "output_type": "stream",
     "text": [
      "/anaconda3/lib/python3.7/site-packages/sklearn/metrics/classification.py:1143: UndefinedMetricWarning: F-score is ill-defined and being set to 0.0 in labels with no predicted samples.\n",
      "  'precision', 'predicted', average, warn_for)\n",
      "/anaconda3/lib/python3.7/site-packages/sklearn/metrics/classification.py:1143: UndefinedMetricWarning: F-score is ill-defined and being set to 0.0 in labels with no predicted samples.\n",
      "  'precision', 'predicted', average, warn_for)\n"
     ]
    },
    {
     "name": "stdout",
     "output_type": "stream",
     "text": [
      "[CV]  learning_rate=0.01, max_depth=1, min_samples_leaf=1, min_samples_split=2, n_estimators=100, score=0.2834884680406034, total=   8.0s\n",
      "[CV] learning_rate=0.01, max_depth=1, min_samples_leaf=1, min_samples_split=2, n_estimators=100 \n"
     ]
    },
    {
     "name": "stderr",
     "output_type": "stream",
     "text": [
      "/anaconda3/lib/python3.7/site-packages/sklearn/metrics/classification.py:1143: UndefinedMetricWarning: F-score is ill-defined and being set to 0.0 in labels with no predicted samples.\n",
      "  'precision', 'predicted', average, warn_for)\n",
      "/anaconda3/lib/python3.7/site-packages/sklearn/metrics/classification.py:1143: UndefinedMetricWarning: F-score is ill-defined and being set to 0.0 in labels with no predicted samples.\n",
      "  'precision', 'predicted', average, warn_for)\n"
     ]
    },
    {
     "name": "stdout",
     "output_type": "stream",
     "text": [
      "[CV]  learning_rate=0.01, max_depth=1, min_samples_leaf=1, min_samples_split=2, n_estimators=100, score=0.29077416074428836, total=   7.5s\n",
      "[CV] learning_rate=0.01, max_depth=1, min_samples_leaf=1, min_samples_split=2, n_estimators=200 \n"
     ]
    },
    {
     "name": "stderr",
     "output_type": "stream",
     "text": [
      "/anaconda3/lib/python3.7/site-packages/sklearn/metrics/classification.py:1143: UndefinedMetricWarning: F-score is ill-defined and being set to 0.0 in labels with no predicted samples.\n",
      "  'precision', 'predicted', average, warn_for)\n",
      "/anaconda3/lib/python3.7/site-packages/sklearn/metrics/classification.py:1143: UndefinedMetricWarning: F-score is ill-defined and being set to 0.0 in labels with no predicted samples.\n",
      "  'precision', 'predicted', average, warn_for)\n"
     ]
    },
    {
     "name": "stdout",
     "output_type": "stream",
     "text": [
      "[CV]  learning_rate=0.01, max_depth=1, min_samples_leaf=1, min_samples_split=2, n_estimators=200, score=0.31304162742012626, total=  14.9s\n",
      "[CV] learning_rate=0.01, max_depth=1, min_samples_leaf=1, min_samples_split=2, n_estimators=200 \n"
     ]
    },
    {
     "name": "stderr",
     "output_type": "stream",
     "text": [
      "/anaconda3/lib/python3.7/site-packages/sklearn/metrics/classification.py:1143: UndefinedMetricWarning: F-score is ill-defined and being set to 0.0 in labels with no predicted samples.\n",
      "  'precision', 'predicted', average, warn_for)\n",
      "/anaconda3/lib/python3.7/site-packages/sklearn/metrics/classification.py:1143: UndefinedMetricWarning: F-score is ill-defined and being set to 0.0 in labels with no predicted samples.\n",
      "  'precision', 'predicted', average, warn_for)\n"
     ]
    },
    {
     "name": "stdout",
     "output_type": "stream",
     "text": [
      "[CV]  learning_rate=0.01, max_depth=1, min_samples_leaf=1, min_samples_split=2, n_estimators=200, score=0.2894956279437888, total=  15.8s\n",
      "[CV] learning_rate=0.01, max_depth=1, min_samples_leaf=1, min_samples_split=2, n_estimators=200 \n"
     ]
    },
    {
     "name": "stderr",
     "output_type": "stream",
     "text": [
      "/anaconda3/lib/python3.7/site-packages/sklearn/metrics/classification.py:1143: UndefinedMetricWarning: F-score is ill-defined and being set to 0.0 in labels with no predicted samples.\n",
      "  'precision', 'predicted', average, warn_for)\n",
      "/anaconda3/lib/python3.7/site-packages/sklearn/metrics/classification.py:1143: UndefinedMetricWarning: F-score is ill-defined and being set to 0.0 in labels with no predicted samples.\n",
      "  'precision', 'predicted', average, warn_for)\n"
     ]
    },
    {
     "name": "stdout",
     "output_type": "stream",
     "text": [
      "[CV]  learning_rate=0.01, max_depth=1, min_samples_leaf=1, min_samples_split=2, n_estimators=200, score=0.29916313300346925, total=  17.1s\n",
      "[CV] learning_rate=0.01, max_depth=1, min_samples_leaf=1, min_samples_split=5, n_estimators=50 \n"
     ]
    },
    {
     "name": "stderr",
     "output_type": "stream",
     "text": [
      "/anaconda3/lib/python3.7/site-packages/sklearn/metrics/classification.py:1143: UndefinedMetricWarning: F-score is ill-defined and being set to 0.0 in labels with no predicted samples.\n",
      "  'precision', 'predicted', average, warn_for)\n",
      "/anaconda3/lib/python3.7/site-packages/sklearn/metrics/classification.py:1143: UndefinedMetricWarning: F-score is ill-defined and being set to 0.0 in labels with no predicted samples.\n",
      "  'precision', 'predicted', average, warn_for)\n"
     ]
    },
    {
     "name": "stdout",
     "output_type": "stream",
     "text": [
      "[CV]  learning_rate=0.01, max_depth=1, min_samples_leaf=1, min_samples_split=5, n_estimators=50, score=0.2942760324247992, total=   4.2s\n",
      "[CV] learning_rate=0.01, max_depth=1, min_samples_leaf=1, min_samples_split=5, n_estimators=50 \n"
     ]
    },
    {
     "name": "stderr",
     "output_type": "stream",
     "text": [
      "/anaconda3/lib/python3.7/site-packages/sklearn/metrics/classification.py:1143: UndefinedMetricWarning: F-score is ill-defined and being set to 0.0 in labels with no predicted samples.\n",
      "  'precision', 'predicted', average, warn_for)\n",
      "/anaconda3/lib/python3.7/site-packages/sklearn/metrics/classification.py:1143: UndefinedMetricWarning: F-score is ill-defined and being set to 0.0 in labels with no predicted samples.\n",
      "  'precision', 'predicted', average, warn_for)\n"
     ]
    },
    {
     "name": "stdout",
     "output_type": "stream",
     "text": [
      "[CV]  learning_rate=0.01, max_depth=1, min_samples_leaf=1, min_samples_split=5, n_estimators=50, score=0.2833610508386123, total=   3.7s\n",
      "[CV] learning_rate=0.01, max_depth=1, min_samples_leaf=1, min_samples_split=5, n_estimators=50 \n"
     ]
    },
    {
     "name": "stderr",
     "output_type": "stream",
     "text": [
      "/anaconda3/lib/python3.7/site-packages/sklearn/metrics/classification.py:1143: UndefinedMetricWarning: F-score is ill-defined and being set to 0.0 in labels with no predicted samples.\n",
      "  'precision', 'predicted', average, warn_for)\n",
      "/anaconda3/lib/python3.7/site-packages/sklearn/metrics/classification.py:1143: UndefinedMetricWarning: F-score is ill-defined and being set to 0.0 in labels with no predicted samples.\n",
      "  'precision', 'predicted', average, warn_for)\n"
     ]
    },
    {
     "name": "stdout",
     "output_type": "stream",
     "text": [
      "[CV]  learning_rate=0.01, max_depth=1, min_samples_leaf=1, min_samples_split=5, n_estimators=50, score=0.28219846076985333, total=   4.8s\n",
      "[CV] learning_rate=0.01, max_depth=1, min_samples_leaf=1, min_samples_split=5, n_estimators=100 \n"
     ]
    },
    {
     "name": "stderr",
     "output_type": "stream",
     "text": [
      "/anaconda3/lib/python3.7/site-packages/sklearn/metrics/classification.py:1143: UndefinedMetricWarning: F-score is ill-defined and being set to 0.0 in labels with no predicted samples.\n",
      "  'precision', 'predicted', average, warn_for)\n",
      "/anaconda3/lib/python3.7/site-packages/sklearn/metrics/classification.py:1143: UndefinedMetricWarning: F-score is ill-defined and being set to 0.0 in labels with no predicted samples.\n",
      "  'precision', 'predicted', average, warn_for)\n"
     ]
    },
    {
     "name": "stdout",
     "output_type": "stream",
     "text": [
      "[CV]  learning_rate=0.01, max_depth=1, min_samples_leaf=1, min_samples_split=5, n_estimators=100, score=0.2952403355765157, total=  10.3s\n",
      "[CV] learning_rate=0.01, max_depth=1, min_samples_leaf=1, min_samples_split=5, n_estimators=100 \n"
     ]
    },
    {
     "name": "stderr",
     "output_type": "stream",
     "text": [
      "/anaconda3/lib/python3.7/site-packages/sklearn/metrics/classification.py:1143: UndefinedMetricWarning: F-score is ill-defined and being set to 0.0 in labels with no predicted samples.\n",
      "  'precision', 'predicted', average, warn_for)\n",
      "/anaconda3/lib/python3.7/site-packages/sklearn/metrics/classification.py:1143: UndefinedMetricWarning: F-score is ill-defined and being set to 0.0 in labels with no predicted samples.\n",
      "  'precision', 'predicted', average, warn_for)\n"
     ]
    },
    {
     "name": "stdout",
     "output_type": "stream",
     "text": [
      "[CV]  learning_rate=0.01, max_depth=1, min_samples_leaf=1, min_samples_split=5, n_estimators=100, score=0.2834884680406034, total=   7.5s\n",
      "[CV] learning_rate=0.01, max_depth=1, min_samples_leaf=1, min_samples_split=5, n_estimators=100 \n"
     ]
    },
    {
     "name": "stderr",
     "output_type": "stream",
     "text": [
      "/anaconda3/lib/python3.7/site-packages/sklearn/metrics/classification.py:1143: UndefinedMetricWarning: F-score is ill-defined and being set to 0.0 in labels with no predicted samples.\n",
      "  'precision', 'predicted', average, warn_for)\n",
      "/anaconda3/lib/python3.7/site-packages/sklearn/metrics/classification.py:1143: UndefinedMetricWarning: F-score is ill-defined and being set to 0.0 in labels with no predicted samples.\n",
      "  'precision', 'predicted', average, warn_for)\n"
     ]
    },
    {
     "name": "stdout",
     "output_type": "stream",
     "text": [
      "[CV]  learning_rate=0.01, max_depth=1, min_samples_leaf=1, min_samples_split=5, n_estimators=100, score=0.29077416074428836, total=   7.6s\n",
      "[CV] learning_rate=0.01, max_depth=1, min_samples_leaf=1, min_samples_split=5, n_estimators=200 \n"
     ]
    },
    {
     "name": "stderr",
     "output_type": "stream",
     "text": [
      "/anaconda3/lib/python3.7/site-packages/sklearn/metrics/classification.py:1143: UndefinedMetricWarning: F-score is ill-defined and being set to 0.0 in labels with no predicted samples.\n",
      "  'precision', 'predicted', average, warn_for)\n",
      "/anaconda3/lib/python3.7/site-packages/sklearn/metrics/classification.py:1143: UndefinedMetricWarning: F-score is ill-defined and being set to 0.0 in labels with no predicted samples.\n",
      "  'precision', 'predicted', average, warn_for)\n"
     ]
    },
    {
     "name": "stdout",
     "output_type": "stream",
     "text": [
      "[CV]  learning_rate=0.01, max_depth=1, min_samples_leaf=1, min_samples_split=5, n_estimators=200, score=0.31304162742012626, total=  14.9s\n",
      "[CV] learning_rate=0.01, max_depth=1, min_samples_leaf=1, min_samples_split=5, n_estimators=200 \n"
     ]
    },
    {
     "name": "stderr",
     "output_type": "stream",
     "text": [
      "/anaconda3/lib/python3.7/site-packages/sklearn/metrics/classification.py:1143: UndefinedMetricWarning: F-score is ill-defined and being set to 0.0 in labels with no predicted samples.\n",
      "  'precision', 'predicted', average, warn_for)\n",
      "/anaconda3/lib/python3.7/site-packages/sklearn/metrics/classification.py:1143: UndefinedMetricWarning: F-score is ill-defined and being set to 0.0 in labels with no predicted samples.\n",
      "  'precision', 'predicted', average, warn_for)\n"
     ]
    },
    {
     "name": "stdout",
     "output_type": "stream",
     "text": [
      "[CV]  learning_rate=0.01, max_depth=1, min_samples_leaf=1, min_samples_split=5, n_estimators=200, score=0.2894956279437888, total=  16.3s\n",
      "[CV] learning_rate=0.01, max_depth=1, min_samples_leaf=1, min_samples_split=5, n_estimators=200 \n"
     ]
    },
    {
     "name": "stderr",
     "output_type": "stream",
     "text": [
      "/anaconda3/lib/python3.7/site-packages/sklearn/metrics/classification.py:1143: UndefinedMetricWarning: F-score is ill-defined and being set to 0.0 in labels with no predicted samples.\n",
      "  'precision', 'predicted', average, warn_for)\n",
      "/anaconda3/lib/python3.7/site-packages/sklearn/metrics/classification.py:1143: UndefinedMetricWarning: F-score is ill-defined and being set to 0.0 in labels with no predicted samples.\n",
      "  'precision', 'predicted', average, warn_for)\n"
     ]
    },
    {
     "name": "stdout",
     "output_type": "stream",
     "text": [
      "[CV]  learning_rate=0.01, max_depth=1, min_samples_leaf=1, min_samples_split=5, n_estimators=200, score=0.29916313300346925, total=  17.1s\n",
      "[CV] learning_rate=0.01, max_depth=1, min_samples_leaf=3, min_samples_split=2, n_estimators=50 \n"
     ]
    },
    {
     "name": "stderr",
     "output_type": "stream",
     "text": [
      "/anaconda3/lib/python3.7/site-packages/sklearn/metrics/classification.py:1143: UndefinedMetricWarning: F-score is ill-defined and being set to 0.0 in labels with no predicted samples.\n",
      "  'precision', 'predicted', average, warn_for)\n",
      "/anaconda3/lib/python3.7/site-packages/sklearn/metrics/classification.py:1143: UndefinedMetricWarning: F-score is ill-defined and being set to 0.0 in labels with no predicted samples.\n",
      "  'precision', 'predicted', average, warn_for)\n"
     ]
    },
    {
     "name": "stdout",
     "output_type": "stream",
     "text": [
      "[CV]  learning_rate=0.01, max_depth=1, min_samples_leaf=3, min_samples_split=2, n_estimators=50, score=0.2942760324247992, total=   3.9s\n",
      "[CV] learning_rate=0.01, max_depth=1, min_samples_leaf=3, min_samples_split=2, n_estimators=50 \n"
     ]
    },
    {
     "name": "stderr",
     "output_type": "stream",
     "text": [
      "/anaconda3/lib/python3.7/site-packages/sklearn/metrics/classification.py:1143: UndefinedMetricWarning: F-score is ill-defined and being set to 0.0 in labels with no predicted samples.\n",
      "  'precision', 'predicted', average, warn_for)\n",
      "/anaconda3/lib/python3.7/site-packages/sklearn/metrics/classification.py:1143: UndefinedMetricWarning: F-score is ill-defined and being set to 0.0 in labels with no predicted samples.\n",
      "  'precision', 'predicted', average, warn_for)\n"
     ]
    },
    {
     "name": "stdout",
     "output_type": "stream",
     "text": [
      "[CV]  learning_rate=0.01, max_depth=1, min_samples_leaf=3, min_samples_split=2, n_estimators=50, score=0.2833610508386123, total=   3.9s\n",
      "[CV] learning_rate=0.01, max_depth=1, min_samples_leaf=3, min_samples_split=2, n_estimators=50 \n"
     ]
    },
    {
     "name": "stderr",
     "output_type": "stream",
     "text": [
      "/anaconda3/lib/python3.7/site-packages/sklearn/metrics/classification.py:1143: UndefinedMetricWarning: F-score is ill-defined and being set to 0.0 in labels with no predicted samples.\n",
      "  'precision', 'predicted', average, warn_for)\n",
      "/anaconda3/lib/python3.7/site-packages/sklearn/metrics/classification.py:1143: UndefinedMetricWarning: F-score is ill-defined and being set to 0.0 in labels with no predicted samples.\n",
      "  'precision', 'predicted', average, warn_for)\n"
     ]
    },
    {
     "name": "stdout",
     "output_type": "stream",
     "text": [
      "[CV]  learning_rate=0.01, max_depth=1, min_samples_leaf=3, min_samples_split=2, n_estimators=50, score=0.28219846076985333, total=   3.8s\n",
      "[CV] learning_rate=0.01, max_depth=1, min_samples_leaf=3, min_samples_split=2, n_estimators=100 \n"
     ]
    },
    {
     "name": "stderr",
     "output_type": "stream",
     "text": [
      "/anaconda3/lib/python3.7/site-packages/sklearn/metrics/classification.py:1143: UndefinedMetricWarning: F-score is ill-defined and being set to 0.0 in labels with no predicted samples.\n",
      "  'precision', 'predicted', average, warn_for)\n",
      "/anaconda3/lib/python3.7/site-packages/sklearn/metrics/classification.py:1143: UndefinedMetricWarning: F-score is ill-defined and being set to 0.0 in labels with no predicted samples.\n",
      "  'precision', 'predicted', average, warn_for)\n"
     ]
    },
    {
     "name": "stdout",
     "output_type": "stream",
     "text": [
      "[CV]  learning_rate=0.01, max_depth=1, min_samples_leaf=3, min_samples_split=2, n_estimators=100, score=0.2952403355765157, total=   8.2s\n",
      "[CV] learning_rate=0.01, max_depth=1, min_samples_leaf=3, min_samples_split=2, n_estimators=100 \n"
     ]
    },
    {
     "name": "stderr",
     "output_type": "stream",
     "text": [
      "/anaconda3/lib/python3.7/site-packages/sklearn/metrics/classification.py:1143: UndefinedMetricWarning: F-score is ill-defined and being set to 0.0 in labels with no predicted samples.\n",
      "  'precision', 'predicted', average, warn_for)\n",
      "/anaconda3/lib/python3.7/site-packages/sklearn/metrics/classification.py:1143: UndefinedMetricWarning: F-score is ill-defined and being set to 0.0 in labels with no predicted samples.\n",
      "  'precision', 'predicted', average, warn_for)\n"
     ]
    },
    {
     "name": "stdout",
     "output_type": "stream",
     "text": [
      "[CV]  learning_rate=0.01, max_depth=1, min_samples_leaf=3, min_samples_split=2, n_estimators=100, score=0.2834884680406034, total=   8.8s\n",
      "[CV] learning_rate=0.01, max_depth=1, min_samples_leaf=3, min_samples_split=2, n_estimators=100 \n"
     ]
    },
    {
     "name": "stderr",
     "output_type": "stream",
     "text": [
      "/anaconda3/lib/python3.7/site-packages/sklearn/metrics/classification.py:1143: UndefinedMetricWarning: F-score is ill-defined and being set to 0.0 in labels with no predicted samples.\n",
      "  'precision', 'predicted', average, warn_for)\n",
      "/anaconda3/lib/python3.7/site-packages/sklearn/metrics/classification.py:1143: UndefinedMetricWarning: F-score is ill-defined and being set to 0.0 in labels with no predicted samples.\n",
      "  'precision', 'predicted', average, warn_for)\n"
     ]
    },
    {
     "name": "stdout",
     "output_type": "stream",
     "text": [
      "[CV]  learning_rate=0.01, max_depth=1, min_samples_leaf=3, min_samples_split=2, n_estimators=100, score=0.29077416074428836, total=   8.0s\n",
      "[CV] learning_rate=0.01, max_depth=1, min_samples_leaf=3, min_samples_split=2, n_estimators=200 \n"
     ]
    },
    {
     "name": "stderr",
     "output_type": "stream",
     "text": [
      "/anaconda3/lib/python3.7/site-packages/sklearn/metrics/classification.py:1143: UndefinedMetricWarning: F-score is ill-defined and being set to 0.0 in labels with no predicted samples.\n",
      "  'precision', 'predicted', average, warn_for)\n",
      "/anaconda3/lib/python3.7/site-packages/sklearn/metrics/classification.py:1143: UndefinedMetricWarning: F-score is ill-defined and being set to 0.0 in labels with no predicted samples.\n",
      "  'precision', 'predicted', average, warn_for)\n"
     ]
    },
    {
     "name": "stdout",
     "output_type": "stream",
     "text": [
      "[CV]  learning_rate=0.01, max_depth=1, min_samples_leaf=3, min_samples_split=2, n_estimators=200, score=0.31304162742012626, total=  15.0s\n",
      "[CV] learning_rate=0.01, max_depth=1, min_samples_leaf=3, min_samples_split=2, n_estimators=200 \n"
     ]
    },
    {
     "name": "stderr",
     "output_type": "stream",
     "text": [
      "/anaconda3/lib/python3.7/site-packages/sklearn/metrics/classification.py:1143: UndefinedMetricWarning: F-score is ill-defined and being set to 0.0 in labels with no predicted samples.\n",
      "  'precision', 'predicted', average, warn_for)\n",
      "/anaconda3/lib/python3.7/site-packages/sklearn/metrics/classification.py:1143: UndefinedMetricWarning: F-score is ill-defined and being set to 0.0 in labels with no predicted samples.\n",
      "  'precision', 'predicted', average, warn_for)\n"
     ]
    },
    {
     "name": "stdout",
     "output_type": "stream",
     "text": [
      "[CV]  learning_rate=0.01, max_depth=1, min_samples_leaf=3, min_samples_split=2, n_estimators=200, score=0.2894956279437888, total=  16.5s\n",
      "[CV] learning_rate=0.01, max_depth=1, min_samples_leaf=3, min_samples_split=2, n_estimators=200 \n"
     ]
    },
    {
     "name": "stderr",
     "output_type": "stream",
     "text": [
      "/anaconda3/lib/python3.7/site-packages/sklearn/metrics/classification.py:1143: UndefinedMetricWarning: F-score is ill-defined and being set to 0.0 in labels with no predicted samples.\n",
      "  'precision', 'predicted', average, warn_for)\n",
      "/anaconda3/lib/python3.7/site-packages/sklearn/metrics/classification.py:1143: UndefinedMetricWarning: F-score is ill-defined and being set to 0.0 in labels with no predicted samples.\n",
      "  'precision', 'predicted', average, warn_for)\n"
     ]
    },
    {
     "name": "stdout",
     "output_type": "stream",
     "text": [
      "[CV]  learning_rate=0.01, max_depth=1, min_samples_leaf=3, min_samples_split=2, n_estimators=200, score=0.29916313300346925, total=  15.3s\n",
      "[CV] learning_rate=0.01, max_depth=1, min_samples_leaf=3, min_samples_split=5, n_estimators=50 \n"
     ]
    },
    {
     "name": "stderr",
     "output_type": "stream",
     "text": [
      "/anaconda3/lib/python3.7/site-packages/sklearn/metrics/classification.py:1143: UndefinedMetricWarning: F-score is ill-defined and being set to 0.0 in labels with no predicted samples.\n",
      "  'precision', 'predicted', average, warn_for)\n",
      "/anaconda3/lib/python3.7/site-packages/sklearn/metrics/classification.py:1143: UndefinedMetricWarning: F-score is ill-defined and being set to 0.0 in labels with no predicted samples.\n",
      "  'precision', 'predicted', average, warn_for)\n"
     ]
    },
    {
     "name": "stdout",
     "output_type": "stream",
     "text": [
      "[CV]  learning_rate=0.01, max_depth=1, min_samples_leaf=3, min_samples_split=5, n_estimators=50, score=0.2942760324247992, total=   3.9s\n",
      "[CV] learning_rate=0.01, max_depth=1, min_samples_leaf=3, min_samples_split=5, n_estimators=50 \n"
     ]
    },
    {
     "name": "stderr",
     "output_type": "stream",
     "text": [
      "/anaconda3/lib/python3.7/site-packages/sklearn/metrics/classification.py:1143: UndefinedMetricWarning: F-score is ill-defined and being set to 0.0 in labels with no predicted samples.\n",
      "  'precision', 'predicted', average, warn_for)\n",
      "/anaconda3/lib/python3.7/site-packages/sklearn/metrics/classification.py:1143: UndefinedMetricWarning: F-score is ill-defined and being set to 0.0 in labels with no predicted samples.\n",
      "  'precision', 'predicted', average, warn_for)\n"
     ]
    },
    {
     "name": "stdout",
     "output_type": "stream",
     "text": [
      "[CV]  learning_rate=0.01, max_depth=1, min_samples_leaf=3, min_samples_split=5, n_estimators=50, score=0.2833610508386123, total=   3.8s\n",
      "[CV] learning_rate=0.01, max_depth=1, min_samples_leaf=3, min_samples_split=5, n_estimators=50 \n"
     ]
    },
    {
     "name": "stderr",
     "output_type": "stream",
     "text": [
      "/anaconda3/lib/python3.7/site-packages/sklearn/metrics/classification.py:1143: UndefinedMetricWarning: F-score is ill-defined and being set to 0.0 in labels with no predicted samples.\n",
      "  'precision', 'predicted', average, warn_for)\n",
      "/anaconda3/lib/python3.7/site-packages/sklearn/metrics/classification.py:1143: UndefinedMetricWarning: F-score is ill-defined and being set to 0.0 in labels with no predicted samples.\n",
      "  'precision', 'predicted', average, warn_for)\n"
     ]
    },
    {
     "name": "stdout",
     "output_type": "stream",
     "text": [
      "[CV]  learning_rate=0.01, max_depth=1, min_samples_leaf=3, min_samples_split=5, n_estimators=50, score=0.28219846076985333, total=   3.6s\n",
      "[CV] learning_rate=0.01, max_depth=1, min_samples_leaf=3, min_samples_split=5, n_estimators=100 \n"
     ]
    },
    {
     "name": "stderr",
     "output_type": "stream",
     "text": [
      "/anaconda3/lib/python3.7/site-packages/sklearn/metrics/classification.py:1143: UndefinedMetricWarning: F-score is ill-defined and being set to 0.0 in labels with no predicted samples.\n",
      "  'precision', 'predicted', average, warn_for)\n",
      "/anaconda3/lib/python3.7/site-packages/sklearn/metrics/classification.py:1143: UndefinedMetricWarning: F-score is ill-defined and being set to 0.0 in labels with no predicted samples.\n",
      "  'precision', 'predicted', average, warn_for)\n"
     ]
    },
    {
     "name": "stdout",
     "output_type": "stream",
     "text": [
      "[CV]  learning_rate=0.01, max_depth=1, min_samples_leaf=3, min_samples_split=5, n_estimators=100, score=0.2952403355765157, total=   7.8s\n",
      "[CV] learning_rate=0.01, max_depth=1, min_samples_leaf=3, min_samples_split=5, n_estimators=100 \n"
     ]
    },
    {
     "name": "stderr",
     "output_type": "stream",
     "text": [
      "/anaconda3/lib/python3.7/site-packages/sklearn/metrics/classification.py:1143: UndefinedMetricWarning: F-score is ill-defined and being set to 0.0 in labels with no predicted samples.\n",
      "  'precision', 'predicted', average, warn_for)\n",
      "/anaconda3/lib/python3.7/site-packages/sklearn/metrics/classification.py:1143: UndefinedMetricWarning: F-score is ill-defined and being set to 0.0 in labels with no predicted samples.\n",
      "  'precision', 'predicted', average, warn_for)\n"
     ]
    },
    {
     "name": "stdout",
     "output_type": "stream",
     "text": [
      "[CV]  learning_rate=0.01, max_depth=1, min_samples_leaf=3, min_samples_split=5, n_estimators=100, score=0.2834884680406034, total=   7.5s\n",
      "[CV] learning_rate=0.01, max_depth=1, min_samples_leaf=3, min_samples_split=5, n_estimators=100 \n"
     ]
    },
    {
     "name": "stderr",
     "output_type": "stream",
     "text": [
      "/anaconda3/lib/python3.7/site-packages/sklearn/metrics/classification.py:1143: UndefinedMetricWarning: F-score is ill-defined and being set to 0.0 in labels with no predicted samples.\n",
      "  'precision', 'predicted', average, warn_for)\n",
      "/anaconda3/lib/python3.7/site-packages/sklearn/metrics/classification.py:1143: UndefinedMetricWarning: F-score is ill-defined and being set to 0.0 in labels with no predicted samples.\n",
      "  'precision', 'predicted', average, warn_for)\n"
     ]
    },
    {
     "name": "stdout",
     "output_type": "stream",
     "text": [
      "[CV]  learning_rate=0.01, max_depth=1, min_samples_leaf=3, min_samples_split=5, n_estimators=100, score=0.29077416074428836, total=   7.3s\n",
      "[CV] learning_rate=0.01, max_depth=1, min_samples_leaf=3, min_samples_split=5, n_estimators=200 \n"
     ]
    },
    {
     "name": "stderr",
     "output_type": "stream",
     "text": [
      "/anaconda3/lib/python3.7/site-packages/sklearn/metrics/classification.py:1143: UndefinedMetricWarning: F-score is ill-defined and being set to 0.0 in labels with no predicted samples.\n",
      "  'precision', 'predicted', average, warn_for)\n",
      "/anaconda3/lib/python3.7/site-packages/sklearn/metrics/classification.py:1143: UndefinedMetricWarning: F-score is ill-defined and being set to 0.0 in labels with no predicted samples.\n",
      "  'precision', 'predicted', average, warn_for)\n"
     ]
    },
    {
     "name": "stdout",
     "output_type": "stream",
     "text": [
      "[CV]  learning_rate=0.01, max_depth=1, min_samples_leaf=3, min_samples_split=5, n_estimators=200, score=0.31304162742012626, total=  15.9s\n",
      "[CV] learning_rate=0.01, max_depth=1, min_samples_leaf=3, min_samples_split=5, n_estimators=200 \n"
     ]
    },
    {
     "name": "stderr",
     "output_type": "stream",
     "text": [
      "/anaconda3/lib/python3.7/site-packages/sklearn/metrics/classification.py:1143: UndefinedMetricWarning: F-score is ill-defined and being set to 0.0 in labels with no predicted samples.\n",
      "  'precision', 'predicted', average, warn_for)\n",
      "/anaconda3/lib/python3.7/site-packages/sklearn/metrics/classification.py:1143: UndefinedMetricWarning: F-score is ill-defined and being set to 0.0 in labels with no predicted samples.\n",
      "  'precision', 'predicted', average, warn_for)\n"
     ]
    },
    {
     "name": "stdout",
     "output_type": "stream",
     "text": [
      "[CV]  learning_rate=0.01, max_depth=1, min_samples_leaf=3, min_samples_split=5, n_estimators=200, score=0.2894956279437888, total=  17.1s\n",
      "[CV] learning_rate=0.01, max_depth=1, min_samples_leaf=3, min_samples_split=5, n_estimators=200 \n"
     ]
    },
    {
     "name": "stderr",
     "output_type": "stream",
     "text": [
      "/anaconda3/lib/python3.7/site-packages/sklearn/metrics/classification.py:1143: UndefinedMetricWarning: F-score is ill-defined and being set to 0.0 in labels with no predicted samples.\n",
      "  'precision', 'predicted', average, warn_for)\n",
      "/anaconda3/lib/python3.7/site-packages/sklearn/metrics/classification.py:1143: UndefinedMetricWarning: F-score is ill-defined and being set to 0.0 in labels with no predicted samples.\n",
      "  'precision', 'predicted', average, warn_for)\n"
     ]
    },
    {
     "name": "stdout",
     "output_type": "stream",
     "text": [
      "[CV]  learning_rate=0.01, max_depth=1, min_samples_leaf=3, min_samples_split=5, n_estimators=200, score=0.29916313300346925, total=  19.0s\n",
      "[CV] learning_rate=0.01, max_depth=1, min_samples_leaf=5, min_samples_split=2, n_estimators=50 \n"
     ]
    },
    {
     "name": "stderr",
     "output_type": "stream",
     "text": [
      "/anaconda3/lib/python3.7/site-packages/sklearn/metrics/classification.py:1143: UndefinedMetricWarning: F-score is ill-defined and being set to 0.0 in labels with no predicted samples.\n",
      "  'precision', 'predicted', average, warn_for)\n",
      "/anaconda3/lib/python3.7/site-packages/sklearn/metrics/classification.py:1143: UndefinedMetricWarning: F-score is ill-defined and being set to 0.0 in labels with no predicted samples.\n",
      "  'precision', 'predicted', average, warn_for)\n"
     ]
    },
    {
     "name": "stdout",
     "output_type": "stream",
     "text": [
      "[CV]  learning_rate=0.01, max_depth=1, min_samples_leaf=5, min_samples_split=2, n_estimators=50, score=0.2942760324247992, total=   4.6s\n",
      "[CV] learning_rate=0.01, max_depth=1, min_samples_leaf=5, min_samples_split=2, n_estimators=50 \n"
     ]
    },
    {
     "name": "stderr",
     "output_type": "stream",
     "text": [
      "/anaconda3/lib/python3.7/site-packages/sklearn/metrics/classification.py:1143: UndefinedMetricWarning: F-score is ill-defined and being set to 0.0 in labels with no predicted samples.\n",
      "  'precision', 'predicted', average, warn_for)\n",
      "/anaconda3/lib/python3.7/site-packages/sklearn/metrics/classification.py:1143: UndefinedMetricWarning: F-score is ill-defined and being set to 0.0 in labels with no predicted samples.\n",
      "  'precision', 'predicted', average, warn_for)\n"
     ]
    },
    {
     "name": "stdout",
     "output_type": "stream",
     "text": [
      "[CV]  learning_rate=0.01, max_depth=1, min_samples_leaf=5, min_samples_split=2, n_estimators=50, score=0.2833610508386123, total=   4.7s\n",
      "[CV] learning_rate=0.01, max_depth=1, min_samples_leaf=5, min_samples_split=2, n_estimators=50 \n"
     ]
    },
    {
     "name": "stderr",
     "output_type": "stream",
     "text": [
      "/anaconda3/lib/python3.7/site-packages/sklearn/metrics/classification.py:1143: UndefinedMetricWarning: F-score is ill-defined and being set to 0.0 in labels with no predicted samples.\n",
      "  'precision', 'predicted', average, warn_for)\n",
      "/anaconda3/lib/python3.7/site-packages/sklearn/metrics/classification.py:1143: UndefinedMetricWarning: F-score is ill-defined and being set to 0.0 in labels with no predicted samples.\n",
      "  'precision', 'predicted', average, warn_for)\n"
     ]
    },
    {
     "name": "stdout",
     "output_type": "stream",
     "text": [
      "[CV]  learning_rate=0.01, max_depth=1, min_samples_leaf=5, min_samples_split=2, n_estimators=50, score=0.28219846076985333, total=   4.5s\n",
      "[CV] learning_rate=0.01, max_depth=1, min_samples_leaf=5, min_samples_split=2, n_estimators=100 \n"
     ]
    },
    {
     "name": "stderr",
     "output_type": "stream",
     "text": [
      "/anaconda3/lib/python3.7/site-packages/sklearn/metrics/classification.py:1143: UndefinedMetricWarning: F-score is ill-defined and being set to 0.0 in labels with no predicted samples.\n",
      "  'precision', 'predicted', average, warn_for)\n",
      "/anaconda3/lib/python3.7/site-packages/sklearn/metrics/classification.py:1143: UndefinedMetricWarning: F-score is ill-defined and being set to 0.0 in labels with no predicted samples.\n",
      "  'precision', 'predicted', average, warn_for)\n"
     ]
    },
    {
     "name": "stdout",
     "output_type": "stream",
     "text": [
      "[CV]  learning_rate=0.01, max_depth=1, min_samples_leaf=5, min_samples_split=2, n_estimators=100, score=0.2952403355765157, total=   9.4s\n",
      "[CV] learning_rate=0.01, max_depth=1, min_samples_leaf=5, min_samples_split=2, n_estimators=100 \n"
     ]
    },
    {
     "name": "stderr",
     "output_type": "stream",
     "text": [
      "/anaconda3/lib/python3.7/site-packages/sklearn/metrics/classification.py:1143: UndefinedMetricWarning: F-score is ill-defined and being set to 0.0 in labels with no predicted samples.\n",
      "  'precision', 'predicted', average, warn_for)\n",
      "/anaconda3/lib/python3.7/site-packages/sklearn/metrics/classification.py:1143: UndefinedMetricWarning: F-score is ill-defined and being set to 0.0 in labels with no predicted samples.\n",
      "  'precision', 'predicted', average, warn_for)\n"
     ]
    },
    {
     "name": "stdout",
     "output_type": "stream",
     "text": [
      "[CV]  learning_rate=0.01, max_depth=1, min_samples_leaf=5, min_samples_split=2, n_estimators=100, score=0.2834884680406034, total=   7.9s\n",
      "[CV] learning_rate=0.01, max_depth=1, min_samples_leaf=5, min_samples_split=2, n_estimators=100 \n"
     ]
    },
    {
     "name": "stderr",
     "output_type": "stream",
     "text": [
      "/anaconda3/lib/python3.7/site-packages/sklearn/metrics/classification.py:1143: UndefinedMetricWarning: F-score is ill-defined and being set to 0.0 in labels with no predicted samples.\n",
      "  'precision', 'predicted', average, warn_for)\n",
      "/anaconda3/lib/python3.7/site-packages/sklearn/metrics/classification.py:1143: UndefinedMetricWarning: F-score is ill-defined and being set to 0.0 in labels with no predicted samples.\n",
      "  'precision', 'predicted', average, warn_for)\n"
     ]
    },
    {
     "name": "stdout",
     "output_type": "stream",
     "text": [
      "[CV]  learning_rate=0.01, max_depth=1, min_samples_leaf=5, min_samples_split=2, n_estimators=100, score=0.29077416074428836, total=   8.0s\n",
      "[CV] learning_rate=0.01, max_depth=1, min_samples_leaf=5, min_samples_split=2, n_estimators=200 \n"
     ]
    },
    {
     "name": "stderr",
     "output_type": "stream",
     "text": [
      "/anaconda3/lib/python3.7/site-packages/sklearn/metrics/classification.py:1143: UndefinedMetricWarning: F-score is ill-defined and being set to 0.0 in labels with no predicted samples.\n",
      "  'precision', 'predicted', average, warn_for)\n",
      "/anaconda3/lib/python3.7/site-packages/sklearn/metrics/classification.py:1143: UndefinedMetricWarning: F-score is ill-defined and being set to 0.0 in labels with no predicted samples.\n",
      "  'precision', 'predicted', average, warn_for)\n"
     ]
    },
    {
     "name": "stdout",
     "output_type": "stream",
     "text": [
      "[CV]  learning_rate=0.01, max_depth=1, min_samples_leaf=5, min_samples_split=2, n_estimators=200, score=0.31304162742012626, total=  16.0s\n",
      "[CV] learning_rate=0.01, max_depth=1, min_samples_leaf=5, min_samples_split=2, n_estimators=200 \n"
     ]
    },
    {
     "name": "stderr",
     "output_type": "stream",
     "text": [
      "/anaconda3/lib/python3.7/site-packages/sklearn/metrics/classification.py:1143: UndefinedMetricWarning: F-score is ill-defined and being set to 0.0 in labels with no predicted samples.\n",
      "  'precision', 'predicted', average, warn_for)\n",
      "/anaconda3/lib/python3.7/site-packages/sklearn/metrics/classification.py:1143: UndefinedMetricWarning: F-score is ill-defined and being set to 0.0 in labels with no predicted samples.\n",
      "  'precision', 'predicted', average, warn_for)\n"
     ]
    },
    {
     "name": "stdout",
     "output_type": "stream",
     "text": [
      "[CV]  learning_rate=0.01, max_depth=1, min_samples_leaf=5, min_samples_split=2, n_estimators=200, score=0.2894956279437888, total=  15.3s\n",
      "[CV] learning_rate=0.01, max_depth=1, min_samples_leaf=5, min_samples_split=2, n_estimators=200 \n"
     ]
    },
    {
     "name": "stderr",
     "output_type": "stream",
     "text": [
      "/anaconda3/lib/python3.7/site-packages/sklearn/metrics/classification.py:1143: UndefinedMetricWarning: F-score is ill-defined and being set to 0.0 in labels with no predicted samples.\n",
      "  'precision', 'predicted', average, warn_for)\n",
      "/anaconda3/lib/python3.7/site-packages/sklearn/metrics/classification.py:1143: UndefinedMetricWarning: F-score is ill-defined and being set to 0.0 in labels with no predicted samples.\n",
      "  'precision', 'predicted', average, warn_for)\n"
     ]
    },
    {
     "name": "stdout",
     "output_type": "stream",
     "text": [
      "[CV]  learning_rate=0.01, max_depth=1, min_samples_leaf=5, min_samples_split=2, n_estimators=200, score=0.29916313300346925, total=  16.1s\n",
      "[CV] learning_rate=0.01, max_depth=1, min_samples_leaf=5, min_samples_split=5, n_estimators=50 \n"
     ]
    },
    {
     "name": "stderr",
     "output_type": "stream",
     "text": [
      "/anaconda3/lib/python3.7/site-packages/sklearn/metrics/classification.py:1143: UndefinedMetricWarning: F-score is ill-defined and being set to 0.0 in labels with no predicted samples.\n",
      "  'precision', 'predicted', average, warn_for)\n",
      "/anaconda3/lib/python3.7/site-packages/sklearn/metrics/classification.py:1143: UndefinedMetricWarning: F-score is ill-defined and being set to 0.0 in labels with no predicted samples.\n",
      "  'precision', 'predicted', average, warn_for)\n"
     ]
    },
    {
     "name": "stdout",
     "output_type": "stream",
     "text": [
      "[CV]  learning_rate=0.01, max_depth=1, min_samples_leaf=5, min_samples_split=5, n_estimators=50, score=0.2942760324247992, total=   4.1s\n",
      "[CV] learning_rate=0.01, max_depth=1, min_samples_leaf=5, min_samples_split=5, n_estimators=50 \n"
     ]
    },
    {
     "name": "stderr",
     "output_type": "stream",
     "text": [
      "/anaconda3/lib/python3.7/site-packages/sklearn/metrics/classification.py:1143: UndefinedMetricWarning: F-score is ill-defined and being set to 0.0 in labels with no predicted samples.\n",
      "  'precision', 'predicted', average, warn_for)\n",
      "/anaconda3/lib/python3.7/site-packages/sklearn/metrics/classification.py:1143: UndefinedMetricWarning: F-score is ill-defined and being set to 0.0 in labels with no predicted samples.\n",
      "  'precision', 'predicted', average, warn_for)\n"
     ]
    },
    {
     "name": "stdout",
     "output_type": "stream",
     "text": [
      "[CV]  learning_rate=0.01, max_depth=1, min_samples_leaf=5, min_samples_split=5, n_estimators=50, score=0.2833610508386123, total=   4.4s\n",
      "[CV] learning_rate=0.01, max_depth=1, min_samples_leaf=5, min_samples_split=5, n_estimators=50 \n"
     ]
    },
    {
     "name": "stderr",
     "output_type": "stream",
     "text": [
      "/anaconda3/lib/python3.7/site-packages/sklearn/metrics/classification.py:1143: UndefinedMetricWarning: F-score is ill-defined and being set to 0.0 in labels with no predicted samples.\n",
      "  'precision', 'predicted', average, warn_for)\n",
      "/anaconda3/lib/python3.7/site-packages/sklearn/metrics/classification.py:1143: UndefinedMetricWarning: F-score is ill-defined and being set to 0.0 in labels with no predicted samples.\n",
      "  'precision', 'predicted', average, warn_for)\n"
     ]
    },
    {
     "name": "stdout",
     "output_type": "stream",
     "text": [
      "[CV]  learning_rate=0.01, max_depth=1, min_samples_leaf=5, min_samples_split=5, n_estimators=50, score=0.28219846076985333, total=   5.8s\n",
      "[CV] learning_rate=0.01, max_depth=1, min_samples_leaf=5, min_samples_split=5, n_estimators=100 \n"
     ]
    },
    {
     "name": "stderr",
     "output_type": "stream",
     "text": [
      "/anaconda3/lib/python3.7/site-packages/sklearn/metrics/classification.py:1143: UndefinedMetricWarning: F-score is ill-defined and being set to 0.0 in labels with no predicted samples.\n",
      "  'precision', 'predicted', average, warn_for)\n",
      "/anaconda3/lib/python3.7/site-packages/sklearn/metrics/classification.py:1143: UndefinedMetricWarning: F-score is ill-defined and being set to 0.0 in labels with no predicted samples.\n",
      "  'precision', 'predicted', average, warn_for)\n"
     ]
    },
    {
     "name": "stdout",
     "output_type": "stream",
     "text": [
      "[CV]  learning_rate=0.01, max_depth=1, min_samples_leaf=5, min_samples_split=5, n_estimators=100, score=0.2952403355765157, total=  11.7s\n",
      "[CV] learning_rate=0.01, max_depth=1, min_samples_leaf=5, min_samples_split=5, n_estimators=100 \n"
     ]
    },
    {
     "name": "stderr",
     "output_type": "stream",
     "text": [
      "/anaconda3/lib/python3.7/site-packages/sklearn/metrics/classification.py:1143: UndefinedMetricWarning: F-score is ill-defined and being set to 0.0 in labels with no predicted samples.\n",
      "  'precision', 'predicted', average, warn_for)\n",
      "/anaconda3/lib/python3.7/site-packages/sklearn/metrics/classification.py:1143: UndefinedMetricWarning: F-score is ill-defined and being set to 0.0 in labels with no predicted samples.\n",
      "  'precision', 'predicted', average, warn_for)\n"
     ]
    },
    {
     "name": "stdout",
     "output_type": "stream",
     "text": [
      "[CV]  learning_rate=0.01, max_depth=1, min_samples_leaf=5, min_samples_split=5, n_estimators=100, score=0.2834884680406034, total=  11.5s\n",
      "[CV] learning_rate=0.01, max_depth=1, min_samples_leaf=5, min_samples_split=5, n_estimators=100 \n"
     ]
    },
    {
     "name": "stderr",
     "output_type": "stream",
     "text": [
      "/anaconda3/lib/python3.7/site-packages/sklearn/metrics/classification.py:1143: UndefinedMetricWarning: F-score is ill-defined and being set to 0.0 in labels with no predicted samples.\n",
      "  'precision', 'predicted', average, warn_for)\n",
      "/anaconda3/lib/python3.7/site-packages/sklearn/metrics/classification.py:1143: UndefinedMetricWarning: F-score is ill-defined and being set to 0.0 in labels with no predicted samples.\n",
      "  'precision', 'predicted', average, warn_for)\n"
     ]
    },
    {
     "name": "stdout",
     "output_type": "stream",
     "text": [
      "[CV]  learning_rate=0.01, max_depth=1, min_samples_leaf=5, min_samples_split=5, n_estimators=100, score=0.29077416074428836, total=  12.1s\n",
      "[CV] learning_rate=0.01, max_depth=1, min_samples_leaf=5, min_samples_split=5, n_estimators=200 \n"
     ]
    },
    {
     "name": "stderr",
     "output_type": "stream",
     "text": [
      "/anaconda3/lib/python3.7/site-packages/sklearn/metrics/classification.py:1143: UndefinedMetricWarning: F-score is ill-defined and being set to 0.0 in labels with no predicted samples.\n",
      "  'precision', 'predicted', average, warn_for)\n",
      "/anaconda3/lib/python3.7/site-packages/sklearn/metrics/classification.py:1143: UndefinedMetricWarning: F-score is ill-defined and being set to 0.0 in labels with no predicted samples.\n",
      "  'precision', 'predicted', average, warn_for)\n"
     ]
    },
    {
     "name": "stdout",
     "output_type": "stream",
     "text": [
      "[CV]  learning_rate=0.01, max_depth=1, min_samples_leaf=5, min_samples_split=5, n_estimators=200, score=0.31304162742012626, total=  19.7s\n",
      "[CV] learning_rate=0.01, max_depth=1, min_samples_leaf=5, min_samples_split=5, n_estimators=200 \n"
     ]
    },
    {
     "name": "stderr",
     "output_type": "stream",
     "text": [
      "/anaconda3/lib/python3.7/site-packages/sklearn/metrics/classification.py:1143: UndefinedMetricWarning: F-score is ill-defined and being set to 0.0 in labels with no predicted samples.\n",
      "  'precision', 'predicted', average, warn_for)\n",
      "/anaconda3/lib/python3.7/site-packages/sklearn/metrics/classification.py:1143: UndefinedMetricWarning: F-score is ill-defined and being set to 0.0 in labels with no predicted samples.\n",
      "  'precision', 'predicted', average, warn_for)\n"
     ]
    },
    {
     "name": "stdout",
     "output_type": "stream",
     "text": [
      "[CV]  learning_rate=0.01, max_depth=1, min_samples_leaf=5, min_samples_split=5, n_estimators=200, score=0.2894956279437888, total=  17.2s\n",
      "[CV] learning_rate=0.01, max_depth=1, min_samples_leaf=5, min_samples_split=5, n_estimators=200 \n"
     ]
    },
    {
     "name": "stderr",
     "output_type": "stream",
     "text": [
      "/anaconda3/lib/python3.7/site-packages/sklearn/metrics/classification.py:1143: UndefinedMetricWarning: F-score is ill-defined and being set to 0.0 in labels with no predicted samples.\n",
      "  'precision', 'predicted', average, warn_for)\n",
      "/anaconda3/lib/python3.7/site-packages/sklearn/metrics/classification.py:1143: UndefinedMetricWarning: F-score is ill-defined and being set to 0.0 in labels with no predicted samples.\n",
      "  'precision', 'predicted', average, warn_for)\n"
     ]
    },
    {
     "name": "stdout",
     "output_type": "stream",
     "text": [
      "[CV]  learning_rate=0.01, max_depth=1, min_samples_leaf=5, min_samples_split=5, n_estimators=200, score=0.29916313300346925, total=  17.4s\n",
      "[CV] learning_rate=0.01, max_depth=3, min_samples_leaf=1, min_samples_split=2, n_estimators=50 \n"
     ]
    },
    {
     "name": "stderr",
     "output_type": "stream",
     "text": [
      "/anaconda3/lib/python3.7/site-packages/sklearn/metrics/classification.py:1143: UndefinedMetricWarning: F-score is ill-defined and being set to 0.0 in labels with no predicted samples.\n",
      "  'precision', 'predicted', average, warn_for)\n",
      "/anaconda3/lib/python3.7/site-packages/sklearn/metrics/classification.py:1143: UndefinedMetricWarning: F-score is ill-defined and being set to 0.0 in labels with no predicted samples.\n",
      "  'precision', 'predicted', average, warn_for)\n"
     ]
    },
    {
     "name": "stdout",
     "output_type": "stream",
     "text": [
      "[CV]  learning_rate=0.01, max_depth=3, min_samples_leaf=1, min_samples_split=2, n_estimators=50, score=0.29200431530024207, total=  10.7s\n",
      "[CV] learning_rate=0.01, max_depth=3, min_samples_leaf=1, min_samples_split=2, n_estimators=50 \n",
      "[CV]  learning_rate=0.01, max_depth=3, min_samples_leaf=1, min_samples_split=2, n_estimators=50, score=0.28370598753525017, total=  10.3s\n",
      "[CV] learning_rate=0.01, max_depth=3, min_samples_leaf=1, min_samples_split=2, n_estimators=50 \n"
     ]
    },
    {
     "name": "stderr",
     "output_type": "stream",
     "text": [
      "/anaconda3/lib/python3.7/site-packages/sklearn/metrics/classification.py:1143: UndefinedMetricWarning: F-score is ill-defined and being set to 0.0 in labels with no predicted samples.\n",
      "  'precision', 'predicted', average, warn_for)\n",
      "/anaconda3/lib/python3.7/site-packages/sklearn/metrics/classification.py:1143: UndefinedMetricWarning: F-score is ill-defined and being set to 0.0 in labels with no predicted samples.\n",
      "  'precision', 'predicted', average, warn_for)\n"
     ]
    },
    {
     "name": "stdout",
     "output_type": "stream",
     "text": [
      "[CV]  learning_rate=0.01, max_depth=3, min_samples_leaf=1, min_samples_split=2, n_estimators=50, score=0.2802371631522302, total=  10.4s\n",
      "[CV] learning_rate=0.01, max_depth=3, min_samples_leaf=1, min_samples_split=2, n_estimators=100 \n",
      "[CV]  learning_rate=0.01, max_depth=3, min_samples_leaf=1, min_samples_split=2, n_estimators=100, score=0.30926072547927635, total=  20.5s\n",
      "[CV] learning_rate=0.01, max_depth=3, min_samples_leaf=1, min_samples_split=2, n_estimators=100 \n",
      "[CV]  learning_rate=0.01, max_depth=3, min_samples_leaf=1, min_samples_split=2, n_estimators=100, score=0.29887399499983136, total=  20.7s\n",
      "[CV] learning_rate=0.01, max_depth=3, min_samples_leaf=1, min_samples_split=2, n_estimators=100 \n",
      "[CV]  learning_rate=0.01, max_depth=3, min_samples_leaf=1, min_samples_split=2, n_estimators=100, score=0.30121684588368053, total=  20.9s\n",
      "[CV] learning_rate=0.01, max_depth=3, min_samples_leaf=1, min_samples_split=2, n_estimators=200 \n",
      "[CV]  learning_rate=0.01, max_depth=3, min_samples_leaf=1, min_samples_split=2, n_estimators=200, score=0.3206748234091134, total=  40.9s\n",
      "[CV] learning_rate=0.01, max_depth=3, min_samples_leaf=1, min_samples_split=2, n_estimators=200 \n",
      "[CV]  learning_rate=0.01, max_depth=3, min_samples_leaf=1, min_samples_split=2, n_estimators=200, score=0.3093764129462378, total=  40.9s\n",
      "[CV] learning_rate=0.01, max_depth=3, min_samples_leaf=1, min_samples_split=2, n_estimators=200 \n",
      "[CV]  learning_rate=0.01, max_depth=3, min_samples_leaf=1, min_samples_split=2, n_estimators=200, score=0.31275880899632225, total=  42.8s\n",
      "[CV] learning_rate=0.01, max_depth=3, min_samples_leaf=1, min_samples_split=5, n_estimators=50 \n"
     ]
    },
    {
     "name": "stderr",
     "output_type": "stream",
     "text": [
      "/anaconda3/lib/python3.7/site-packages/sklearn/metrics/classification.py:1143: UndefinedMetricWarning: F-score is ill-defined and being set to 0.0 in labels with no predicted samples.\n",
      "  'precision', 'predicted', average, warn_for)\n",
      "/anaconda3/lib/python3.7/site-packages/sklearn/metrics/classification.py:1143: UndefinedMetricWarning: F-score is ill-defined and being set to 0.0 in labels with no predicted samples.\n",
      "  'precision', 'predicted', average, warn_for)\n"
     ]
    },
    {
     "name": "stdout",
     "output_type": "stream",
     "text": [
      "[CV]  learning_rate=0.01, max_depth=3, min_samples_leaf=1, min_samples_split=5, n_estimators=50, score=0.29200431530024207, total=  11.7s\n",
      "[CV] learning_rate=0.01, max_depth=3, min_samples_leaf=1, min_samples_split=5, n_estimators=50 \n",
      "[CV]  learning_rate=0.01, max_depth=3, min_samples_leaf=1, min_samples_split=5, n_estimators=50, score=0.28370598753525017, total=  11.5s\n",
      "[CV] learning_rate=0.01, max_depth=3, min_samples_leaf=1, min_samples_split=5, n_estimators=50 \n"
     ]
    },
    {
     "name": "stderr",
     "output_type": "stream",
     "text": [
      "/anaconda3/lib/python3.7/site-packages/sklearn/metrics/classification.py:1143: UndefinedMetricWarning: F-score is ill-defined and being set to 0.0 in labels with no predicted samples.\n",
      "  'precision', 'predicted', average, warn_for)\n",
      "/anaconda3/lib/python3.7/site-packages/sklearn/metrics/classification.py:1143: UndefinedMetricWarning: F-score is ill-defined and being set to 0.0 in labels with no predicted samples.\n",
      "  'precision', 'predicted', average, warn_for)\n"
     ]
    },
    {
     "name": "stdout",
     "output_type": "stream",
     "text": [
      "[CV]  learning_rate=0.01, max_depth=3, min_samples_leaf=1, min_samples_split=5, n_estimators=50, score=0.2802371631522302, total=  11.4s\n",
      "[CV] learning_rate=0.01, max_depth=3, min_samples_leaf=1, min_samples_split=5, n_estimators=100 \n",
      "[CV]  learning_rate=0.01, max_depth=3, min_samples_leaf=1, min_samples_split=5, n_estimators=100, score=0.30926072547927635, total=  20.9s\n",
      "[CV] learning_rate=0.01, max_depth=3, min_samples_leaf=1, min_samples_split=5, n_estimators=100 \n",
      "[CV]  learning_rate=0.01, max_depth=3, min_samples_leaf=1, min_samples_split=5, n_estimators=100, score=0.29887399499983136, total=  21.2s\n",
      "[CV] learning_rate=0.01, max_depth=3, min_samples_leaf=1, min_samples_split=5, n_estimators=100 \n",
      "[CV]  learning_rate=0.01, max_depth=3, min_samples_leaf=1, min_samples_split=5, n_estimators=100, score=0.30121684588368053, total=  20.7s\n",
      "[CV] learning_rate=0.01, max_depth=3, min_samples_leaf=1, min_samples_split=5, n_estimators=200 \n",
      "[CV]  learning_rate=0.01, max_depth=3, min_samples_leaf=1, min_samples_split=5, n_estimators=200, score=0.3206748234091134, total=  44.0s\n",
      "[CV] learning_rate=0.01, max_depth=3, min_samples_leaf=1, min_samples_split=5, n_estimators=200 \n",
      "[CV]  learning_rate=0.01, max_depth=3, min_samples_leaf=1, min_samples_split=5, n_estimators=200, score=0.3093764129462378, total=  44.6s\n",
      "[CV] learning_rate=0.01, max_depth=3, min_samples_leaf=1, min_samples_split=5, n_estimators=200 \n",
      "[CV]  learning_rate=0.01, max_depth=3, min_samples_leaf=1, min_samples_split=5, n_estimators=200, score=0.31275880899632225, total=  48.1s\n",
      "[CV] learning_rate=0.01, max_depth=3, min_samples_leaf=3, min_samples_split=2, n_estimators=50 \n"
     ]
    },
    {
     "name": "stderr",
     "output_type": "stream",
     "text": [
      "/anaconda3/lib/python3.7/site-packages/sklearn/metrics/classification.py:1143: UndefinedMetricWarning: F-score is ill-defined and being set to 0.0 in labels with no predicted samples.\n",
      "  'precision', 'predicted', average, warn_for)\n",
      "/anaconda3/lib/python3.7/site-packages/sklearn/metrics/classification.py:1143: UndefinedMetricWarning: F-score is ill-defined and being set to 0.0 in labels with no predicted samples.\n",
      "  'precision', 'predicted', average, warn_for)\n"
     ]
    },
    {
     "name": "stdout",
     "output_type": "stream",
     "text": [
      "[CV]  learning_rate=0.01, max_depth=3, min_samples_leaf=3, min_samples_split=2, n_estimators=50, score=0.29200431530024207, total=  12.1s\n",
      "[CV] learning_rate=0.01, max_depth=3, min_samples_leaf=3, min_samples_split=2, n_estimators=50 \n",
      "[CV]  learning_rate=0.01, max_depth=3, min_samples_leaf=3, min_samples_split=2, n_estimators=50, score=0.28370598753525017, total=  12.2s\n",
      "[CV] learning_rate=0.01, max_depth=3, min_samples_leaf=3, min_samples_split=2, n_estimators=50 \n"
     ]
    },
    {
     "name": "stderr",
     "output_type": "stream",
     "text": [
      "/anaconda3/lib/python3.7/site-packages/sklearn/metrics/classification.py:1143: UndefinedMetricWarning: F-score is ill-defined and being set to 0.0 in labels with no predicted samples.\n",
      "  'precision', 'predicted', average, warn_for)\n",
      "/anaconda3/lib/python3.7/site-packages/sklearn/metrics/classification.py:1143: UndefinedMetricWarning: F-score is ill-defined and being set to 0.0 in labels with no predicted samples.\n",
      "  'precision', 'predicted', average, warn_for)\n"
     ]
    },
    {
     "name": "stdout",
     "output_type": "stream",
     "text": [
      "[CV]  learning_rate=0.01, max_depth=3, min_samples_leaf=3, min_samples_split=2, n_estimators=50, score=0.2802371631522302, total=  11.5s\n",
      "[CV] learning_rate=0.01, max_depth=3, min_samples_leaf=3, min_samples_split=2, n_estimators=100 \n",
      "[CV]  learning_rate=0.01, max_depth=3, min_samples_leaf=3, min_samples_split=2, n_estimators=100, score=0.30926072547927635, total=  25.7s\n",
      "[CV] learning_rate=0.01, max_depth=3, min_samples_leaf=3, min_samples_split=2, n_estimators=100 \n",
      "[CV]  learning_rate=0.01, max_depth=3, min_samples_leaf=3, min_samples_split=2, n_estimators=100, score=0.29887399499983136, total=  30.9s\n",
      "[CV] learning_rate=0.01, max_depth=3, min_samples_leaf=3, min_samples_split=2, n_estimators=100 \n",
      "[CV]  learning_rate=0.01, max_depth=3, min_samples_leaf=3, min_samples_split=2, n_estimators=100, score=0.30110289999440826, total=  29.5s\n",
      "[CV] learning_rate=0.01, max_depth=3, min_samples_leaf=3, min_samples_split=2, n_estimators=200 \n",
      "[CV]  learning_rate=0.01, max_depth=3, min_samples_leaf=3, min_samples_split=2, n_estimators=200, score=0.32048182825007127, total= 1.0min\n",
      "[CV] learning_rate=0.01, max_depth=3, min_samples_leaf=3, min_samples_split=2, n_estimators=200 \n",
      "[CV]  learning_rate=0.01, max_depth=3, min_samples_leaf=3, min_samples_split=2, n_estimators=200, score=0.3095847439903498, total=  50.7s\n",
      "[CV] learning_rate=0.01, max_depth=3, min_samples_leaf=3, min_samples_split=2, n_estimators=200 \n",
      "[CV]  learning_rate=0.01, max_depth=3, min_samples_leaf=3, min_samples_split=2, n_estimators=200, score=0.3127570439860425, total=  51.0s\n",
      "[CV] learning_rate=0.01, max_depth=3, min_samples_leaf=3, min_samples_split=5, n_estimators=50 \n"
     ]
    },
    {
     "name": "stderr",
     "output_type": "stream",
     "text": [
      "/anaconda3/lib/python3.7/site-packages/sklearn/metrics/classification.py:1143: UndefinedMetricWarning: F-score is ill-defined and being set to 0.0 in labels with no predicted samples.\n",
      "  'precision', 'predicted', average, warn_for)\n",
      "/anaconda3/lib/python3.7/site-packages/sklearn/metrics/classification.py:1143: UndefinedMetricWarning: F-score is ill-defined and being set to 0.0 in labels with no predicted samples.\n",
      "  'precision', 'predicted', average, warn_for)\n"
     ]
    },
    {
     "name": "stdout",
     "output_type": "stream",
     "text": [
      "[CV]  learning_rate=0.01, max_depth=3, min_samples_leaf=3, min_samples_split=5, n_estimators=50, score=0.29200431530024207, total=  15.4s\n",
      "[CV] learning_rate=0.01, max_depth=3, min_samples_leaf=3, min_samples_split=5, n_estimators=50 \n",
      "[CV]  learning_rate=0.01, max_depth=3, min_samples_leaf=3, min_samples_split=5, n_estimators=50, score=0.28370598753525017, total=  18.0s\n",
      "[CV] learning_rate=0.01, max_depth=3, min_samples_leaf=3, min_samples_split=5, n_estimators=50 \n"
     ]
    },
    {
     "name": "stderr",
     "output_type": "stream",
     "text": [
      "/anaconda3/lib/python3.7/site-packages/sklearn/metrics/classification.py:1143: UndefinedMetricWarning: F-score is ill-defined and being set to 0.0 in labels with no predicted samples.\n",
      "  'precision', 'predicted', average, warn_for)\n",
      "/anaconda3/lib/python3.7/site-packages/sklearn/metrics/classification.py:1143: UndefinedMetricWarning: F-score is ill-defined and being set to 0.0 in labels with no predicted samples.\n",
      "  'precision', 'predicted', average, warn_for)\n"
     ]
    },
    {
     "name": "stdout",
     "output_type": "stream",
     "text": [
      "[CV]  learning_rate=0.01, max_depth=3, min_samples_leaf=3, min_samples_split=5, n_estimators=50, score=0.2802371631522302, total=  10.2s\n",
      "[CV] learning_rate=0.01, max_depth=3, min_samples_leaf=3, min_samples_split=5, n_estimators=100 \n",
      "[CV]  learning_rate=0.01, max_depth=3, min_samples_leaf=3, min_samples_split=5, n_estimators=100, score=0.30926072547927635, total=  16.1s\n",
      "[CV] learning_rate=0.01, max_depth=3, min_samples_leaf=3, min_samples_split=5, n_estimators=100 \n",
      "[CV]  learning_rate=0.01, max_depth=3, min_samples_leaf=3, min_samples_split=5, n_estimators=100, score=0.29887399499983136, total=  15.7s\n",
      "[CV] learning_rate=0.01, max_depth=3, min_samples_leaf=3, min_samples_split=5, n_estimators=100 \n",
      "[CV]  learning_rate=0.01, max_depth=3, min_samples_leaf=3, min_samples_split=5, n_estimators=100, score=0.30110289999440826, total=  18.0s\n",
      "[CV] learning_rate=0.01, max_depth=3, min_samples_leaf=3, min_samples_split=5, n_estimators=200 \n",
      "[CV]  learning_rate=0.01, max_depth=3, min_samples_leaf=3, min_samples_split=5, n_estimators=200, score=0.32048182825007127, total=  39.6s\n",
      "[CV] learning_rate=0.01, max_depth=3, min_samples_leaf=3, min_samples_split=5, n_estimators=200 \n",
      "[CV]  learning_rate=0.01, max_depth=3, min_samples_leaf=3, min_samples_split=5, n_estimators=200, score=0.3095847439903498, total=  35.2s\n",
      "[CV] learning_rate=0.01, max_depth=3, min_samples_leaf=3, min_samples_split=5, n_estimators=200 \n",
      "[CV]  learning_rate=0.01, max_depth=3, min_samples_leaf=3, min_samples_split=5, n_estimators=200, score=0.3127570439860425, total=  38.6s\n",
      "[CV] learning_rate=0.01, max_depth=3, min_samples_leaf=5, min_samples_split=2, n_estimators=50 \n"
     ]
    },
    {
     "name": "stderr",
     "output_type": "stream",
     "text": [
      "/anaconda3/lib/python3.7/site-packages/sklearn/metrics/classification.py:1143: UndefinedMetricWarning: F-score is ill-defined and being set to 0.0 in labels with no predicted samples.\n",
      "  'precision', 'predicted', average, warn_for)\n",
      "/anaconda3/lib/python3.7/site-packages/sklearn/metrics/classification.py:1143: UndefinedMetricWarning: F-score is ill-defined and being set to 0.0 in labels with no predicted samples.\n",
      "  'precision', 'predicted', average, warn_for)\n"
     ]
    },
    {
     "name": "stdout",
     "output_type": "stream",
     "text": [
      "[CV]  learning_rate=0.01, max_depth=3, min_samples_leaf=5, min_samples_split=2, n_estimators=50, score=0.29200431530024207, total=  13.1s\n",
      "[CV] learning_rate=0.01, max_depth=3, min_samples_leaf=5, min_samples_split=2, n_estimators=50 \n",
      "[CV]  learning_rate=0.01, max_depth=3, min_samples_leaf=5, min_samples_split=2, n_estimators=50, score=0.28357379351301276, total=  10.7s\n",
      "[CV] learning_rate=0.01, max_depth=3, min_samples_leaf=5, min_samples_split=2, n_estimators=50 \n"
     ]
    },
    {
     "name": "stderr",
     "output_type": "stream",
     "text": [
      "/anaconda3/lib/python3.7/site-packages/sklearn/metrics/classification.py:1143: UndefinedMetricWarning: F-score is ill-defined and being set to 0.0 in labels with no predicted samples.\n",
      "  'precision', 'predicted', average, warn_for)\n",
      "/anaconda3/lib/python3.7/site-packages/sklearn/metrics/classification.py:1143: UndefinedMetricWarning: F-score is ill-defined and being set to 0.0 in labels with no predicted samples.\n",
      "  'precision', 'predicted', average, warn_for)\n"
     ]
    },
    {
     "name": "stdout",
     "output_type": "stream",
     "text": [
      "[CV]  learning_rate=0.01, max_depth=3, min_samples_leaf=5, min_samples_split=2, n_estimators=50, score=0.2802536375644786, total=  12.4s\n",
      "[CV] learning_rate=0.01, max_depth=3, min_samples_leaf=5, min_samples_split=2, n_estimators=100 \n",
      "[CV]  learning_rate=0.01, max_depth=3, min_samples_leaf=5, min_samples_split=2, n_estimators=100, score=0.3093565098738394, total=  18.4s\n",
      "[CV] learning_rate=0.01, max_depth=3, min_samples_leaf=5, min_samples_split=2, n_estimators=100 \n",
      "[CV]  learning_rate=0.01, max_depth=3, min_samples_leaf=5, min_samples_split=2, n_estimators=100, score=0.29847845670265327, total=  18.8s\n",
      "[CV] learning_rate=0.01, max_depth=3, min_samples_leaf=5, min_samples_split=2, n_estimators=100 \n",
      "[CV]  learning_rate=0.01, max_depth=3, min_samples_leaf=5, min_samples_split=2, n_estimators=100, score=0.30097985311250214, total=  18.4s\n",
      "[CV] learning_rate=0.01, max_depth=3, min_samples_leaf=5, min_samples_split=2, n_estimators=200 \n",
      "[CV]  learning_rate=0.01, max_depth=3, min_samples_leaf=5, min_samples_split=2, n_estimators=200, score=0.3204850003873302, total=  46.9s\n",
      "[CV] learning_rate=0.01, max_depth=3, min_samples_leaf=5, min_samples_split=2, n_estimators=200 \n",
      "[CV]  learning_rate=0.01, max_depth=3, min_samples_leaf=5, min_samples_split=2, n_estimators=200, score=0.3093151390714086, total=  42.7s\n",
      "[CV] learning_rate=0.01, max_depth=3, min_samples_leaf=5, min_samples_split=2, n_estimators=200 \n",
      "[CV]  learning_rate=0.01, max_depth=3, min_samples_leaf=5, min_samples_split=2, n_estimators=200, score=0.3127156594505446, total=  32.4s\n",
      "[CV] learning_rate=0.01, max_depth=3, min_samples_leaf=5, min_samples_split=5, n_estimators=50 \n"
     ]
    },
    {
     "name": "stderr",
     "output_type": "stream",
     "text": [
      "/anaconda3/lib/python3.7/site-packages/sklearn/metrics/classification.py:1143: UndefinedMetricWarning: F-score is ill-defined and being set to 0.0 in labels with no predicted samples.\n",
      "  'precision', 'predicted', average, warn_for)\n",
      "/anaconda3/lib/python3.7/site-packages/sklearn/metrics/classification.py:1143: UndefinedMetricWarning: F-score is ill-defined and being set to 0.0 in labels with no predicted samples.\n",
      "  'precision', 'predicted', average, warn_for)\n"
     ]
    },
    {
     "name": "stdout",
     "output_type": "stream",
     "text": [
      "[CV]  learning_rate=0.01, max_depth=3, min_samples_leaf=5, min_samples_split=5, n_estimators=50, score=0.29200431530024207, total=   8.4s\n",
      "[CV] learning_rate=0.01, max_depth=3, min_samples_leaf=5, min_samples_split=5, n_estimators=50 \n",
      "[CV]  learning_rate=0.01, max_depth=3, min_samples_leaf=5, min_samples_split=5, n_estimators=50, score=0.28357379351301276, total=   8.0s\n",
      "[CV] learning_rate=0.01, max_depth=3, min_samples_leaf=5, min_samples_split=5, n_estimators=50 \n"
     ]
    },
    {
     "name": "stderr",
     "output_type": "stream",
     "text": [
      "/anaconda3/lib/python3.7/site-packages/sklearn/metrics/classification.py:1143: UndefinedMetricWarning: F-score is ill-defined and being set to 0.0 in labels with no predicted samples.\n",
      "  'precision', 'predicted', average, warn_for)\n",
      "/anaconda3/lib/python3.7/site-packages/sklearn/metrics/classification.py:1143: UndefinedMetricWarning: F-score is ill-defined and being set to 0.0 in labels with no predicted samples.\n",
      "  'precision', 'predicted', average, warn_for)\n"
     ]
    },
    {
     "name": "stdout",
     "output_type": "stream",
     "text": [
      "[CV]  learning_rate=0.01, max_depth=3, min_samples_leaf=5, min_samples_split=5, n_estimators=50, score=0.2802536375644786, total=   9.4s\n",
      "[CV] learning_rate=0.01, max_depth=3, min_samples_leaf=5, min_samples_split=5, n_estimators=100 \n",
      "[CV]  learning_rate=0.01, max_depth=3, min_samples_leaf=5, min_samples_split=5, n_estimators=100, score=0.3093565098738394, total=  16.4s\n",
      "[CV] learning_rate=0.01, max_depth=3, min_samples_leaf=5, min_samples_split=5, n_estimators=100 \n",
      "[CV]  learning_rate=0.01, max_depth=3, min_samples_leaf=5, min_samples_split=5, n_estimators=100, score=0.29847845670265327, total=  16.0s\n",
      "[CV] learning_rate=0.01, max_depth=3, min_samples_leaf=5, min_samples_split=5, n_estimators=100 \n",
      "[CV]  learning_rate=0.01, max_depth=3, min_samples_leaf=5, min_samples_split=5, n_estimators=100, score=0.30097985311250214, total=  16.6s\n",
      "[CV] learning_rate=0.01, max_depth=3, min_samples_leaf=5, min_samples_split=5, n_estimators=200 \n",
      "[CV]  learning_rate=0.01, max_depth=3, min_samples_leaf=5, min_samples_split=5, n_estimators=200, score=0.3204850003873302, total=  32.2s\n",
      "[CV] learning_rate=0.01, max_depth=3, min_samples_leaf=5, min_samples_split=5, n_estimators=200 \n",
      "[CV]  learning_rate=0.01, max_depth=3, min_samples_leaf=5, min_samples_split=5, n_estimators=200, score=0.30934368731237427, total=  31.8s\n",
      "[CV] learning_rate=0.01, max_depth=3, min_samples_leaf=5, min_samples_split=5, n_estimators=200 \n",
      "[CV]  learning_rate=0.01, max_depth=3, min_samples_leaf=5, min_samples_split=5, n_estimators=200, score=0.3127156594505446, total=  33.1s\n",
      "[CV] learning_rate=0.01, max_depth=6, min_samples_leaf=1, min_samples_split=2, n_estimators=50 \n",
      "[CV]  learning_rate=0.01, max_depth=6, min_samples_leaf=1, min_samples_split=2, n_estimators=50, score=0.30627046953626885, total=  21.0s\n",
      "[CV] learning_rate=0.01, max_depth=6, min_samples_leaf=1, min_samples_split=2, n_estimators=50 \n",
      "[CV]  learning_rate=0.01, max_depth=6, min_samples_leaf=1, min_samples_split=2, n_estimators=50, score=0.30160160344724163, total=  21.2s\n",
      "[CV] learning_rate=0.01, max_depth=6, min_samples_leaf=1, min_samples_split=2, n_estimators=50 \n",
      "[CV]  learning_rate=0.01, max_depth=6, min_samples_leaf=1, min_samples_split=2, n_estimators=50, score=0.30565869632421727, total=  21.2s\n",
      "[CV] learning_rate=0.01, max_depth=6, min_samples_leaf=1, min_samples_split=2, n_estimators=100 \n",
      "[CV]  learning_rate=0.01, max_depth=6, min_samples_leaf=1, min_samples_split=2, n_estimators=100, score=0.32171490299920236, total=  54.9s\n",
      "[CV] learning_rate=0.01, max_depth=6, min_samples_leaf=1, min_samples_split=2, n_estimators=100 \n",
      "[CV]  learning_rate=0.01, max_depth=6, min_samples_leaf=1, min_samples_split=2, n_estimators=100, score=0.30840110339698407, total= 1.1min\n",
      "[CV] learning_rate=0.01, max_depth=6, min_samples_leaf=1, min_samples_split=2, n_estimators=100 \n",
      "[CV]  learning_rate=0.01, max_depth=6, min_samples_leaf=1, min_samples_split=2, n_estimators=100, score=0.31659406990107447, total= 1.2min\n",
      "[CV] learning_rate=0.01, max_depth=6, min_samples_leaf=1, min_samples_split=2, n_estimators=200 \n",
      "[CV]  learning_rate=0.01, max_depth=6, min_samples_leaf=1, min_samples_split=2, n_estimators=200, score=0.3273558249539846, total= 1.9min\n",
      "[CV] learning_rate=0.01, max_depth=6, min_samples_leaf=1, min_samples_split=2, n_estimators=200 \n",
      "[CV]  learning_rate=0.01, max_depth=6, min_samples_leaf=1, min_samples_split=2, n_estimators=200, score=0.31918063717954154, total= 2.1min\n",
      "[CV] learning_rate=0.01, max_depth=6, min_samples_leaf=1, min_samples_split=2, n_estimators=200 \n",
      "[CV]  learning_rate=0.01, max_depth=6, min_samples_leaf=1, min_samples_split=2, n_estimators=200, score=0.32520283289206176, total= 2.1min\n",
      "[CV] learning_rate=0.01, max_depth=6, min_samples_leaf=1, min_samples_split=5, n_estimators=50 \n",
      "[CV]  learning_rate=0.01, max_depth=6, min_samples_leaf=1, min_samples_split=5, n_estimators=50, score=0.30621536336306676, total=  32.9s\n",
      "[CV] learning_rate=0.01, max_depth=6, min_samples_leaf=1, min_samples_split=5, n_estimators=50 \n",
      "[CV]  learning_rate=0.01, max_depth=6, min_samples_leaf=1, min_samples_split=5, n_estimators=50, score=0.3014203933623869, total=  33.3s\n",
      "[CV] learning_rate=0.01, max_depth=6, min_samples_leaf=1, min_samples_split=5, n_estimators=50 \n",
      "[CV]  learning_rate=0.01, max_depth=6, min_samples_leaf=1, min_samples_split=5, n_estimators=50, score=0.3053672629494348, total=  34.9s\n",
      "[CV] learning_rate=0.01, max_depth=6, min_samples_leaf=1, min_samples_split=5, n_estimators=100 \n",
      "[CV]  learning_rate=0.01, max_depth=6, min_samples_leaf=1, min_samples_split=5, n_estimators=100, score=0.3217319620022259, total= 1.1min\n",
      "[CV] learning_rate=0.01, max_depth=6, min_samples_leaf=1, min_samples_split=5, n_estimators=100 \n",
      "[CV]  learning_rate=0.01, max_depth=6, min_samples_leaf=1, min_samples_split=5, n_estimators=100, score=0.30818903393723723, total= 1.2min\n",
      "[CV] learning_rate=0.01, max_depth=6, min_samples_leaf=1, min_samples_split=5, n_estimators=100 \n",
      "[CV]  learning_rate=0.01, max_depth=6, min_samples_leaf=1, min_samples_split=5, n_estimators=100, score=0.31697560080849946, total= 1.2min\n",
      "[CV] learning_rate=0.01, max_depth=6, min_samples_leaf=1, min_samples_split=5, n_estimators=200 \n",
      "[CV]  learning_rate=0.01, max_depth=6, min_samples_leaf=1, min_samples_split=5, n_estimators=200, score=0.32681117757904704, total= 2.2min\n",
      "[CV] learning_rate=0.01, max_depth=6, min_samples_leaf=1, min_samples_split=5, n_estimators=200 \n",
      "[CV]  learning_rate=0.01, max_depth=6, min_samples_leaf=1, min_samples_split=5, n_estimators=200, score=0.3188788176297051, total= 2.1min\n",
      "[CV] learning_rate=0.01, max_depth=6, min_samples_leaf=1, min_samples_split=5, n_estimators=200 \n",
      "[CV]  learning_rate=0.01, max_depth=6, min_samples_leaf=1, min_samples_split=5, n_estimators=200, score=0.3249397783500348, total= 2.1min\n",
      "[CV] learning_rate=0.01, max_depth=6, min_samples_leaf=3, min_samples_split=2, n_estimators=50 \n",
      "[CV]  learning_rate=0.01, max_depth=6, min_samples_leaf=3, min_samples_split=2, n_estimators=50, score=0.305716456874672, total=  35.5s\n",
      "[CV] learning_rate=0.01, max_depth=6, min_samples_leaf=3, min_samples_split=2, n_estimators=50 \n",
      "[CV]  learning_rate=0.01, max_depth=6, min_samples_leaf=3, min_samples_split=2, n_estimators=50, score=0.3020040431380107, total=  32.2s\n",
      "[CV] learning_rate=0.01, max_depth=6, min_samples_leaf=3, min_samples_split=2, n_estimators=50 \n",
      "[CV]  learning_rate=0.01, max_depth=6, min_samples_leaf=3, min_samples_split=2, n_estimators=50, score=0.3052967741033534, total=  33.7s\n",
      "[CV] learning_rate=0.01, max_depth=6, min_samples_leaf=3, min_samples_split=2, n_estimators=100 \n",
      "[CV]  learning_rate=0.01, max_depth=6, min_samples_leaf=3, min_samples_split=2, n_estimators=100, score=0.32049320789608443, total= 1.1min\n",
      "[CV] learning_rate=0.01, max_depth=6, min_samples_leaf=3, min_samples_split=2, n_estimators=100 \n",
      "[CV]  learning_rate=0.01, max_depth=6, min_samples_leaf=3, min_samples_split=2, n_estimators=100, score=0.30915505851636055, total= 1.1min\n",
      "[CV] learning_rate=0.01, max_depth=6, min_samples_leaf=3, min_samples_split=2, n_estimators=100 \n",
      "[CV]  learning_rate=0.01, max_depth=6, min_samples_leaf=3, min_samples_split=2, n_estimators=100, score=0.3159039685700926, total= 1.1min\n",
      "[CV] learning_rate=0.01, max_depth=6, min_samples_leaf=3, min_samples_split=2, n_estimators=200 \n",
      "[CV]  learning_rate=0.01, max_depth=6, min_samples_leaf=3, min_samples_split=2, n_estimators=200, score=0.3266589571080834, total= 2.1min\n",
      "[CV] learning_rate=0.01, max_depth=6, min_samples_leaf=3, min_samples_split=2, n_estimators=200 \n",
      "[CV]  learning_rate=0.01, max_depth=6, min_samples_leaf=3, min_samples_split=2, n_estimators=200, score=0.3186623090591468, total= 2.0min\n",
      "[CV] learning_rate=0.01, max_depth=6, min_samples_leaf=3, min_samples_split=2, n_estimators=200 \n",
      "[CV]  learning_rate=0.01, max_depth=6, min_samples_leaf=3, min_samples_split=2, n_estimators=200, score=0.32550112163463113, total= 2.0min\n",
      "[CV] learning_rate=0.01, max_depth=6, min_samples_leaf=3, min_samples_split=5, n_estimators=50 \n",
      "[CV]  learning_rate=0.01, max_depth=6, min_samples_leaf=3, min_samples_split=5, n_estimators=50, score=0.30575233579418576, total=  33.0s\n",
      "[CV] learning_rate=0.01, max_depth=6, min_samples_leaf=3, min_samples_split=5, n_estimators=50 \n"
     ]
    },
    {
     "name": "stdout",
     "output_type": "stream",
     "text": [
      "[CV]  learning_rate=0.01, max_depth=6, min_samples_leaf=3, min_samples_split=5, n_estimators=50, score=0.3024673701752716, total=  31.3s\n",
      "[CV] learning_rate=0.01, max_depth=6, min_samples_leaf=3, min_samples_split=5, n_estimators=50 \n",
      "[CV]  learning_rate=0.01, max_depth=6, min_samples_leaf=3, min_samples_split=5, n_estimators=50, score=0.3052967741033534, total=  33.1s\n",
      "[CV] learning_rate=0.01, max_depth=6, min_samples_leaf=3, min_samples_split=5, n_estimators=100 \n",
      "[CV]  learning_rate=0.01, max_depth=6, min_samples_leaf=3, min_samples_split=5, n_estimators=100, score=0.32049320789608443, total= 1.1min\n",
      "[CV] learning_rate=0.01, max_depth=6, min_samples_leaf=3, min_samples_split=5, n_estimators=100 \n",
      "[CV]  learning_rate=0.01, max_depth=6, min_samples_leaf=3, min_samples_split=5, n_estimators=100, score=0.30915505851636055, total= 1.1min\n",
      "[CV] learning_rate=0.01, max_depth=6, min_samples_leaf=3, min_samples_split=5, n_estimators=100 \n",
      "[CV]  learning_rate=0.01, max_depth=6, min_samples_leaf=3, min_samples_split=5, n_estimators=100, score=0.31578958988984684, total= 1.2min\n",
      "[CV] learning_rate=0.01, max_depth=6, min_samples_leaf=3, min_samples_split=5, n_estimators=200 \n",
      "[CV]  learning_rate=0.01, max_depth=6, min_samples_leaf=3, min_samples_split=5, n_estimators=200, score=0.3266253782523975, total= 2.2min\n",
      "[CV] learning_rate=0.01, max_depth=6, min_samples_leaf=3, min_samples_split=5, n_estimators=200 \n",
      "[CV]  learning_rate=0.01, max_depth=6, min_samples_leaf=3, min_samples_split=5, n_estimators=200, score=0.3179577741706949, total= 1.9min\n",
      "[CV] learning_rate=0.01, max_depth=6, min_samples_leaf=3, min_samples_split=5, n_estimators=200 \n",
      "[CV]  learning_rate=0.01, max_depth=6, min_samples_leaf=3, min_samples_split=5, n_estimators=200, score=0.3255309273637596, total= 2.2min\n",
      "[CV] learning_rate=0.01, max_depth=6, min_samples_leaf=5, min_samples_split=2, n_estimators=50 \n",
      "[CV]  learning_rate=0.01, max_depth=6, min_samples_leaf=5, min_samples_split=2, n_estimators=50, score=0.30504964760230696, total=  32.3s\n",
      "[CV] learning_rate=0.01, max_depth=6, min_samples_leaf=5, min_samples_split=2, n_estimators=50 \n",
      "[CV]  learning_rate=0.01, max_depth=6, min_samples_leaf=5, min_samples_split=2, n_estimators=50, score=0.3018557949572678, total=  30.9s\n",
      "[CV] learning_rate=0.01, max_depth=6, min_samples_leaf=5, min_samples_split=2, n_estimators=50 \n",
      "[CV]  learning_rate=0.01, max_depth=6, min_samples_leaf=5, min_samples_split=2, n_estimators=50, score=0.30478939068746697, total=  30.9s\n",
      "[CV] learning_rate=0.01, max_depth=6, min_samples_leaf=5, min_samples_split=2, n_estimators=100 \n",
      "[CV]  learning_rate=0.01, max_depth=6, min_samples_leaf=5, min_samples_split=2, n_estimators=100, score=0.320298333103841, total=  60.0s\n",
      "[CV] learning_rate=0.01, max_depth=6, min_samples_leaf=5, min_samples_split=2, n_estimators=100 \n",
      "[CV]  learning_rate=0.01, max_depth=6, min_samples_leaf=5, min_samples_split=2, n_estimators=100, score=0.30797511654761955, total=  55.3s\n",
      "[CV] learning_rate=0.01, max_depth=6, min_samples_leaf=5, min_samples_split=2, n_estimators=100 \n",
      "[CV]  learning_rate=0.01, max_depth=6, min_samples_leaf=5, min_samples_split=2, n_estimators=100, score=0.31633176564038656, total=  42.3s\n",
      "[CV] learning_rate=0.01, max_depth=6, min_samples_leaf=5, min_samples_split=2, n_estimators=200 \n",
      "[CV]  learning_rate=0.01, max_depth=6, min_samples_leaf=5, min_samples_split=2, n_estimators=200, score=0.3269492750805154, total= 1.9min\n",
      "[CV] learning_rate=0.01, max_depth=6, min_samples_leaf=5, min_samples_split=2, n_estimators=200 \n",
      "[CV]  learning_rate=0.01, max_depth=6, min_samples_leaf=5, min_samples_split=2, n_estimators=200, score=0.31860573964913425, total= 2.1min\n",
      "[CV] learning_rate=0.01, max_depth=6, min_samples_leaf=5, min_samples_split=2, n_estimators=200 \n",
      "[CV]  learning_rate=0.01, max_depth=6, min_samples_leaf=5, min_samples_split=2, n_estimators=200, score=0.32529158588429424, total= 2.1min\n",
      "[CV] learning_rate=0.01, max_depth=6, min_samples_leaf=5, min_samples_split=5, n_estimators=50 \n",
      "[CV]  learning_rate=0.01, max_depth=6, min_samples_leaf=5, min_samples_split=5, n_estimators=50, score=0.30504964760230696, total=  31.6s\n",
      "[CV] learning_rate=0.01, max_depth=6, min_samples_leaf=5, min_samples_split=5, n_estimators=50 \n",
      "[CV]  learning_rate=0.01, max_depth=6, min_samples_leaf=5, min_samples_split=5, n_estimators=50, score=0.30199953978851085, total=  36.2s\n",
      "[CV] learning_rate=0.01, max_depth=6, min_samples_leaf=5, min_samples_split=5, n_estimators=50 \n",
      "[CV]  learning_rate=0.01, max_depth=6, min_samples_leaf=5, min_samples_split=5, n_estimators=50, score=0.3048173792449542, total=  32.1s\n",
      "[CV] learning_rate=0.01, max_depth=6, min_samples_leaf=5, min_samples_split=5, n_estimators=100 \n",
      "[CV]  learning_rate=0.01, max_depth=6, min_samples_leaf=5, min_samples_split=5, n_estimators=100, score=0.32031962359122956, total= 1.1min\n",
      "[CV] learning_rate=0.01, max_depth=6, min_samples_leaf=5, min_samples_split=5, n_estimators=100 \n",
      "[CV]  learning_rate=0.01, max_depth=6, min_samples_leaf=5, min_samples_split=5, n_estimators=100, score=0.30797511654761955, total= 1.1min\n",
      "[CV] learning_rate=0.01, max_depth=6, min_samples_leaf=5, min_samples_split=5, n_estimators=100 \n",
      "[CV]  learning_rate=0.01, max_depth=6, min_samples_leaf=5, min_samples_split=5, n_estimators=100, score=0.3163021238660954, total= 1.1min\n",
      "[CV] learning_rate=0.01, max_depth=6, min_samples_leaf=5, min_samples_split=5, n_estimators=200 \n",
      "[CV]  learning_rate=0.01, max_depth=6, min_samples_leaf=5, min_samples_split=5, n_estimators=200, score=0.32717835510620324, total= 2.0min\n",
      "[CV] learning_rate=0.01, max_depth=6, min_samples_leaf=5, min_samples_split=5, n_estimators=200 \n",
      "[CV]  learning_rate=0.01, max_depth=6, min_samples_leaf=5, min_samples_split=5, n_estimators=200, score=0.31860573964913425, total= 2.2min\n",
      "[CV] learning_rate=0.01, max_depth=6, min_samples_leaf=5, min_samples_split=5, n_estimators=200 \n",
      "[CV]  learning_rate=0.01, max_depth=6, min_samples_leaf=5, min_samples_split=5, n_estimators=200, score=0.32532138553031337, total= 2.0min\n"
     ]
    },
    {
     "name": "stderr",
     "output_type": "stream",
     "text": [
      "[Parallel(n_jobs=1)]: Done 486 out of 486 | elapsed: 253.5min finished\n"
     ]
    },
    {
     "data": {
      "text/plain": [
       "GridSearchCV(cv=3, error_score='raise-deprecating',\n",
       "       estimator=GradientBoostingClassifier(criterion='friedman_mse', init=None,\n",
       "              learning_rate=0.1, loss='deviance', max_depth=3,\n",
       "              max_features=None, max_leaf_nodes=None,\n",
       "              min_impurity_decrease=0.0, min_impurity_split=None,\n",
       "              min_samples_leaf=1, min_sampl...      subsample=1.0, tol=0.0001, validation_fraction=0.1,\n",
       "              verbose=0, warm_start=False),\n",
       "       fit_params=None, iid='warn', n_jobs=None,\n",
       "       param_grid={'n_estimators': [50, 100, 200], 'learning_rate': [1, 0.1, 0.01], 'max_depth': [1, 3, 6], 'min_samples_split': [2, 5], 'min_samples_leaf': [1, 3, 5]},\n",
       "       pre_dispatch='2*n_jobs', refit=True, return_train_score=True,\n",
       "       scoring='f1_macro', verbose=5)"
      ]
     },
     "execution_count": 11,
     "metadata": {},
     "output_type": "execute_result"
    }
   ],
   "source": [
    "#search = RandomizedSearchCV(clf, params, n_iter=20, cv=3, return_train_score=True, verbose=5, scoring='f1_macro')\n",
    "search = GridSearchCV(clf, params, cv=3, return_train_score=True, verbose=5, scoring='f1_macro')\n",
    "\n",
    "\n",
    "search.fit(X,y)"
   ]
  },
  {
   "cell_type": "markdown",
   "metadata": {},
   "source": [
    "### Tuned Results"
   ]
  },
  {
   "cell_type": "code",
   "execution_count": 12,
   "metadata": {},
   "outputs": [
    {
     "name": "stdout",
     "output_type": "stream",
     "text": [
      "Mean Training Score: 0.40673853094576734\n",
      "Mean Testing Score: 0.8045660625491694\n",
      "\n",
      "Best Parameter Found:\n"
     ]
    },
    {
     "data": {
      "text/plain": [
       "{'learning_rate': 1,\n",
       " 'max_depth': 6,\n",
       " 'min_samples_leaf': 1,\n",
       " 'min_samples_split': 5,\n",
       " 'n_estimators': 200}"
      ]
     },
     "execution_count": 12,
     "metadata": {},
     "output_type": "execute_result"
    }
   ],
   "source": [
    "print(\"Mean Training Score:\", np.mean(search.cv_results_['mean_train_score']))\n",
    "print(\"Mean Testing Score:\", search.score(X, y))\n",
    "print(\"\\nBest Parameter Found:\")\n",
    "search.best_params_"
   ]
  },
  {
   "cell_type": "markdown",
   "metadata": {},
   "source": [
    "### Model with the Best Parameters"
   ]
  },
  {
   "cell_type": "code",
   "execution_count": 13,
   "metadata": {},
   "outputs": [
    {
     "data": {
      "text/plain": [
       "GradientBoostingClassifier(criterion='friedman_mse', init=None,\n",
       "              learning_rate=1, loss='deviance', max_depth=6,\n",
       "              max_features=None, max_leaf_nodes=None,\n",
       "              min_impurity_decrease=0.0, min_impurity_split=None,\n",
       "              min_samples_leaf=1, min_samples_split=5,\n",
       "              min_weight_fraction_leaf=0.0, n_estimators=200,\n",
       "              n_iter_no_change=None, presort='auto', random_state=None,\n",
       "              subsample=1.0, tol=0.0001, validation_fraction=0.1,\n",
       "              verbose=0, warm_start=False)"
      ]
     },
     "execution_count": 13,
     "metadata": {},
     "output_type": "execute_result"
    }
   ],
   "source": [
    "search_clf = search.best_estimator_\n",
    "\n",
    "search_clf.fit(X_train, y_train)"
   ]
  },
  {
   "cell_type": "markdown",
   "metadata": {},
   "source": [
    "#### Results from Optimum Parameters"
   ]
  },
  {
   "cell_type": "code",
   "execution_count": 14,
   "metadata": {},
   "outputs": [
    {
     "name": "stdout",
     "output_type": "stream",
     "text": [
      "              precision    recall  f1-score   support\n",
      "\n",
      "        Sell       0.24      0.15      0.18      2929\n",
      "         Buy       0.40      0.40      0.40      5621\n",
      "        Hold       0.45      0.53      0.48      6493\n",
      "\n",
      "   micro avg       0.41      0.41      0.41     15043\n",
      "   macro avg       0.36      0.36      0.36     15043\n",
      "weighted avg       0.39      0.41      0.39     15043\n",
      "\n"
     ]
    }
   ],
   "source": [
    "# Classifier predictions\n",
    "s_pred = search_clf.predict(X_test)\n",
    "\n",
    "#Printing out results\n",
    "report = classification_report(y_test, s_pred, target_names=['Sell', 'Buy', 'Hold'])\n",
    "print(report)"
   ]
  },
  {
   "cell_type": "markdown",
   "metadata": {},
   "source": [
    "### Confusion Matrix for Optimum Parameters"
   ]
  },
  {
   "cell_type": "code",
   "execution_count": 15,
   "metadata": {},
   "outputs": [
    {
     "data": {
      "image/png": "[encoded data removed]",
      "text/plain": [
       "<Figure size 864x432 with 2 Axes>"
      ]
     },
     "metadata": {
      "needs_background": "light"
     },
     "output_type": "display_data"
    }
   ],
   "source": [
    "plot_confusion_matrix(y_test, s_pred, title=\"Confusion Matrix\")\n",
    "np.set_printoptions(precision=1)\n",
    "# Plot non-normalized confusion matrix\n",
    "plt.show()"
   ]
  },
  {
   "cell_type": "code",
   "execution_count": null,
   "metadata": {},
   "outputs": [],
   "source": []
  }
 ],
 "metadata": {
  "kernelspec": {
   "display_name": "Python 3",
   "language": "python",
   "name": "python3"
  },
  "language_info": {
   "codemirror_mode": {
    "name": "ipython",
    "version": 3
   },
   "file_extension": ".py",
   "mimetype": "text/x-python",
   "name": "python",
   "nbconvert_exporter": "python",
   "pygments_lexer": "ipython3",
   "version": "3.7.3"
  }
 },
 "nbformat": 4,
 "nbformat_minor": 2
}
