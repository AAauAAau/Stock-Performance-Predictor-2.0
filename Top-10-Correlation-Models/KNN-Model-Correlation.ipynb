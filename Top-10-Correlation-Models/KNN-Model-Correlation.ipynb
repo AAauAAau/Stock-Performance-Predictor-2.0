{
 "cells": [
  {
   "cell_type": "markdown",
   "metadata": {},
   "source": [
    "# Model: K Nearest Neighbors"
   ]
  },
  {
   "cell_type": "markdown",
   "metadata": {},
   "source": [
    "### Importing Libraries"
   ]
  },
  {
   "cell_type": "code",
   "execution_count": 2,
   "metadata": {},
   "outputs": [],
   "source": [
    "import _pickle as pickle\n",
    "import numpy as np\n",
    "import pandas as pd\n",
    "from sklearn.model_selection import train_test_split\n",
    "from sklearn.metrics import precision_score, recall_score, accuracy_score, f1_score, confusion_matrix, classification_report\n",
    "import matplotlib.pyplot as plt"
   ]
  },
  {
   "cell_type": "markdown",
   "metadata": {},
   "source": [
    "### Loading in Data"
   ]
  },
  {
   "cell_type": "code",
   "execution_count": 3,
   "metadata": {},
   "outputs": [],
   "source": [
    "with open(\"top10_corr_df.pkl\",'rb') as fp:\n",
    "    df = pickle.load(fp)"
   ]
  },
  {
   "cell_type": "markdown",
   "metadata": {},
   "source": [
    "### Scaling the Data"
   ]
  },
  {
   "cell_type": "code",
   "execution_count": 4,
   "metadata": {},
   "outputs": [],
   "source": [
    "from sklearn.preprocessing import StandardScaler\n",
    "\n",
    "scaler = StandardScaler()\n",
    "\n",
    "features_df = df.drop([\"Decision\"], 1)\n",
    "\n",
    "scaled_df = pd.DataFrame(scaler.fit_transform(features_df), \n",
    "                               index=features_df.index, \n",
    "                               columns=features_df.columns)\n",
    "\n",
    "df = scaled_df.join(df.Decision)"
   ]
  },
  {
   "cell_type": "markdown",
   "metadata": {},
   "source": [
    "### Splitting the Data"
   ]
  },
  {
   "cell_type": "code",
   "execution_count": 5,
   "metadata": {},
   "outputs": [],
   "source": [
    "X = df.drop([\"Decision\"], 1)\n",
    "y = df.Decision\n",
    "\n",
    "# Train, test, split\n",
    "X_train, X_test, y_train, y_test = train_test_split(X, y)"
   ]
  },
  {
   "cell_type": "markdown",
   "metadata": {},
   "source": [
    "### Helper Functions"
   ]
  },
  {
   "cell_type": "markdown",
   "metadata": {},
   "source": [
    "#### Function for plotting confusion matrix"
   ]
  },
  {
   "cell_type": "code",
   "execution_count": 6,
   "metadata": {},
   "outputs": [],
   "source": [
    "def plot_confusion_matrix(y_true, y_pred, labels=[\"Sell\", \"Buy\", \"Hold\"], \n",
    "                          normalize=False, title=None, cmap=plt.cm.coolwarm):\n",
    "\n",
    "    cm = confusion_matrix(y_true, y_pred)\n",
    "    fig, ax = plt.subplots(figsize=(12,6))\n",
    "    im = ax.imshow(cm, interpolation='nearest', cmap=cmap)\n",
    "    ax.figure.colorbar(im, ax=ax)\n",
    "    # We want to show all ticks...\n",
    "    ax.set(xticks=np.arange(cm.shape[1]),\n",
    "           yticks=np.arange(cm.shape[0]),\n",
    "           # ... and label them with the respective list entries\n",
    "           xticklabels=labels, yticklabels=labels,\n",
    "           title=title,\n",
    "           ylabel='ACTUAL',\n",
    "           xlabel='PREDICTED')\n",
    "    # Rotate the tick labels and set their alignment.\n",
    "    plt.setp(ax.get_xticklabels(), rotation=45, ha=\"right\",\n",
    "             rotation_mode=\"anchor\")\n",
    "    # Loop over data dimensions and create text annotations.\n",
    "    fmt = '.2f' if normalize else 'd'\n",
    "    thresh = cm.max() / 1.5\n",
    "    for i in range(cm.shape[0]):\n",
    "        for j in range(cm.shape[1]):\n",
    "            ax.text(j, i, format(cm[i, j], fmt),\n",
    "                    ha=\"center\", va=\"center\",\n",
    "                    color=\"snow\" if cm[i, j] > thresh else \"orange\",\n",
    "                    size=26)\n",
    "    ax.grid(False)\n",
    "    fig.tight_layout()\n",
    "    return ax"
   ]
  },
  {
   "cell_type": "markdown",
   "metadata": {},
   "source": [
    "## Modeling\n",
    "The preferred evaluation metric used will be __Precision__ for each class.  They will be optimized using the __F1 Score-Macro-Average__ to balance the Precision and Recall.  This is done because we want to not only be correct when predicting but also make a decent amount of predictions for each class.  Classes such as 'Buy' and 'Sell' are more important than 'Hold'."
   ]
  },
  {
   "cell_type": "markdown",
   "metadata": {},
   "source": [
    "### Fitting and Training"
   ]
  },
  {
   "cell_type": "code",
   "execution_count": 7,
   "metadata": {
    "scrolled": false
   },
   "outputs": [
    {
     "data": {
      "text/plain": [
       "KNeighborsClassifier(algorithm='auto', leaf_size=30, metric='minkowski',\n",
       "           metric_params=None, n_jobs=None, n_neighbors=5, p=2,\n",
       "           weights='uniform')"
      ]
     },
     "execution_count": 7,
     "metadata": {},
     "output_type": "execute_result"
    }
   ],
   "source": [
    "# Importing the model\n",
    "from sklearn.neighbors import KNeighborsClassifier\n",
    "\n",
    "# Fitting and training\n",
    "clf = KNeighborsClassifier()\n",
    "clf.fit(X_train, y_train)"
   ]
  },
  {
   "cell_type": "markdown",
   "metadata": {},
   "source": [
    "### Printing out Evaluation Metrics"
   ]
  },
  {
   "cell_type": "code",
   "execution_count": 8,
   "metadata": {},
   "outputs": [
    {
     "name": "stdout",
     "output_type": "stream",
     "text": [
      "              precision    recall  f1-score   support\n",
      "\n",
      "        Sell       0.22      0.23      0.23      2928\n",
      "         Buy       0.39      0.43      0.41      5492\n",
      "        Hold       0.46      0.41      0.43      6623\n",
      "\n",
      "   micro avg       0.38      0.38      0.38     15043\n",
      "   macro avg       0.36      0.36      0.36     15043\n",
      "weighted avg       0.39      0.38      0.38     15043\n",
      "\n"
     ]
    }
   ],
   "source": [
    "# Classifier predictions\n",
    "pred = clf.predict(X_test)\n",
    "\n",
    "#Printing out results\n",
    "report = classification_report(y_test, pred, target_names=['Sell', 'Buy', 'Hold'])\n",
    "print(report)"
   ]
  },
  {
   "cell_type": "markdown",
   "metadata": {},
   "source": [
    "### Confusion Matrix"
   ]
  },
  {
   "cell_type": "code",
   "execution_count": 9,
   "metadata": {},
   "outputs": [
    {
     "data": {
      "image/png": "[encoded data removed]",
      "text/plain": [
       "<Figure size 864x432 with 2 Axes>"
      ]
     },
     "metadata": {
      "needs_background": "light"
     },
     "output_type": "display_data"
    }
   ],
   "source": [
    "plot_confusion_matrix(y_test, pred, title=\"Confusion Matrix\")\n",
    "np.set_printoptions(precision=1)\n",
    "# Plot non-normalized confusion matrix\n",
    "plt.show()"
   ]
  },
  {
   "cell_type": "markdown",
   "metadata": {},
   "source": [
    "## Tuning Model Parameters"
   ]
  },
  {
   "cell_type": "code",
   "execution_count": 10,
   "metadata": {},
   "outputs": [],
   "source": [
    "from sklearn.model_selection import GridSearchCV"
   ]
  },
  {
   "cell_type": "markdown",
   "metadata": {},
   "source": [
    "### Parameters"
   ]
  },
  {
   "cell_type": "code",
   "execution_count": 13,
   "metadata": {},
   "outputs": [],
   "source": [
    "# Parameters to Tune\n",
    "params = {\"n_neighbors\": [50, 100, 200],\n",
    "          \"weights\": ['uniform', 'distance'],\n",
    "          \"p\": [1,2]}"
   ]
  },
  {
   "cell_type": "code",
   "execution_count": 14,
   "metadata": {
    "scrolled": true
   },
   "outputs": [
    {
     "name": "stdout",
     "output_type": "stream",
     "text": [
      "Fitting 3 folds for each of 12 candidates, totalling 36 fits\n",
      "[CV] n_neighbors=50, p=1, weights=uniform ............................\n"
     ]
    },
    {
     "name": "stderr",
     "output_type": "stream",
     "text": [
      "[Parallel(n_jobs=1)]: Using backend SequentialBackend with 1 concurrent workers.\n"
     ]
    },
    {
     "name": "stdout",
     "output_type": "stream",
     "text": [
      "[CV]  n_neighbors=50, p=1, weights=uniform, score=0.3373339132008562, total=  24.7s\n",
      "[CV] n_neighbors=50, p=1, weights=uniform ............................\n"
     ]
    },
    {
     "name": "stderr",
     "output_type": "stream",
     "text": [
      "[Parallel(n_jobs=1)]: Done   1 out of   1 | elapsed:   58.6s remaining:    0.0s\n"
     ]
    },
    {
     "name": "stdout",
     "output_type": "stream",
     "text": [
      "[CV]  n_neighbors=50, p=1, weights=uniform, score=0.325858527076721, total=   6.6s\n",
      "[CV] n_neighbors=50, p=1, weights=uniform ............................\n"
     ]
    },
    {
     "name": "stderr",
     "output_type": "stream",
     "text": [
      "[Parallel(n_jobs=1)]: Done   2 out of   2 | elapsed:  1.3min remaining:    0.0s\n"
     ]
    },
    {
     "name": "stdout",
     "output_type": "stream",
     "text": [
      "[CV]  n_neighbors=50, p=1, weights=uniform, score=0.33195440258436376, total=  20.6s\n",
      "[CV] n_neighbors=50, p=1, weights=distance ...........................\n"
     ]
    },
    {
     "name": "stderr",
     "output_type": "stream",
     "text": [
      "[Parallel(n_jobs=1)]: Done   3 out of   3 | elapsed:  2.3min remaining:    0.0s\n"
     ]
    },
    {
     "name": "stdout",
     "output_type": "stream",
     "text": [
      "[CV]  n_neighbors=50, p=1, weights=distance, score=0.33765758384664046, total=  21.3s\n",
      "[CV] n_neighbors=50, p=1, weights=distance ...........................\n"
     ]
    },
    {
     "name": "stderr",
     "output_type": "stream",
     "text": [
      "[Parallel(n_jobs=1)]: Done   4 out of   4 | elapsed:  3.5min remaining:    0.0s\n"
     ]
    },
    {
     "name": "stdout",
     "output_type": "stream",
     "text": [
      "[CV]  n_neighbors=50, p=1, weights=distance, score=0.3332155295383552, total=  10.7s\n",
      "[CV] n_neighbors=50, p=1, weights=distance ...........................\n",
      "[CV]  n_neighbors=50, p=1, weights=distance, score=0.3337975699372491, total=  24.0s\n",
      "[CV] n_neighbors=50, p=2, weights=uniform ............................\n",
      "[CV]  n_neighbors=50, p=2, weights=uniform, score=0.3344912377848215, total=  19.2s\n",
      "[CV] n_neighbors=50, p=2, weights=uniform ............................\n",
      "[CV]  n_neighbors=50, p=2, weights=uniform, score=0.3276468718525211, total=   9.0s\n",
      "[CV] n_neighbors=50, p=2, weights=uniform ............................\n",
      "[CV]  n_neighbors=50, p=2, weights=uniform, score=0.33243095435571995, total=  19.0s\n",
      "[CV] n_neighbors=50, p=2, weights=distance ...........................\n",
      "[CV]  n_neighbors=50, p=2, weights=distance, score=0.33448350020580325, total=  16.6s\n",
      "[CV] n_neighbors=50, p=2, weights=distance ...........................\n",
      "[CV]  n_neighbors=50, p=2, weights=distance, score=0.33085486207194503, total=   8.3s\n",
      "[CV] n_neighbors=50, p=2, weights=distance ...........................\n",
      "[CV]  n_neighbors=50, p=2, weights=distance, score=0.33717382673066004, total=  15.7s\n",
      "[CV] n_neighbors=100, p=1, weights=uniform ...........................\n",
      "[CV]  n_neighbors=100, p=1, weights=uniform, score=0.32612984869763606, total=  26.9s\n",
      "[CV] n_neighbors=100, p=1, weights=uniform ...........................\n",
      "[CV]  n_neighbors=100, p=1, weights=uniform, score=0.32216498070003713, total=  24.7s\n",
      "[CV] n_neighbors=100, p=1, weights=uniform ...........................\n",
      "[CV]  n_neighbors=100, p=1, weights=uniform, score=0.3240177030725286, total=  40.3s\n",
      "[CV] n_neighbors=100, p=1, weights=distance ..........................\n",
      "[CV]  n_neighbors=100, p=1, weights=distance, score=0.33080844038006096, total=  37.7s\n",
      "[CV] n_neighbors=100, p=1, weights=distance ..........................\n",
      "[CV]  n_neighbors=100, p=1, weights=distance, score=0.3215988029048096, total=  19.8s\n",
      "[CV] n_neighbors=100, p=1, weights=distance ..........................\n",
      "[CV]  n_neighbors=100, p=1, weights=distance, score=0.3289399631012094, total=  42.8s\n",
      "[CV] n_neighbors=100, p=2, weights=uniform ...........................\n",
      "[CV]  n_neighbors=100, p=2, weights=uniform, score=0.32493141363501965, total=  23.8s\n",
      "[CV] n_neighbors=100, p=2, weights=uniform ...........................\n",
      "[CV]  n_neighbors=100, p=2, weights=uniform, score=0.32285026798667676, total=  15.3s\n",
      "[CV] n_neighbors=100, p=2, weights=uniform ...........................\n",
      "[CV]  n_neighbors=100, p=2, weights=uniform, score=0.3213631152306687, total=  34.2s\n",
      "[CV] n_neighbors=100, p=2, weights=distance ..........................\n",
      "[CV]  n_neighbors=100, p=2, weights=distance, score=0.3277075533537444, total=  38.0s\n",
      "[CV] n_neighbors=100, p=2, weights=distance ..........................\n",
      "[CV]  n_neighbors=100, p=2, weights=distance, score=0.32334957414236926, total=  17.4s\n",
      "[CV] n_neighbors=100, p=2, weights=distance ..........................\n",
      "[CV]  n_neighbors=100, p=2, weights=distance, score=0.32728225776547487, total=  27.1s\n",
      "[CV] n_neighbors=200, p=1, weights=uniform ...........................\n",
      "[CV]  n_neighbors=200, p=1, weights=uniform, score=0.3200724748793004, total=  32.7s\n",
      "[CV] n_neighbors=200, p=1, weights=uniform ...........................\n",
      "[CV]  n_neighbors=200, p=1, weights=uniform, score=0.3138603040612687, total=  24.8s\n",
      "[CV] n_neighbors=200, p=1, weights=uniform ...........................\n",
      "[CV]  n_neighbors=200, p=1, weights=uniform, score=0.3154443825920089, total=  42.4s\n",
      "[CV] n_neighbors=200, p=1, weights=distance ..........................\n",
      "[CV]  n_neighbors=200, p=1, weights=distance, score=0.32195155894568844, total=  46.1s\n",
      "[CV] n_neighbors=200, p=1, weights=distance ..........................\n",
      "[CV]  n_neighbors=200, p=1, weights=distance, score=0.31761714718635564, total=  16.9s\n",
      "[CV] n_neighbors=200, p=1, weights=distance ..........................\n",
      "[CV]  n_neighbors=200, p=1, weights=distance, score=0.3189012668451925, total=  25.2s\n",
      "[CV] n_neighbors=200, p=2, weights=uniform ...........................\n",
      "[CV]  n_neighbors=200, p=2, weights=uniform, score=0.3174662364654652, total=  23.8s\n",
      "[CV] n_neighbors=200, p=2, weights=uniform ...........................\n",
      "[CV]  n_neighbors=200, p=2, weights=uniform, score=0.3118183452413698, total=  17.6s\n",
      "[CV] n_neighbors=200, p=2, weights=uniform ...........................\n",
      "[CV]  n_neighbors=200, p=2, weights=uniform, score=0.31556567770436045, total=  32.7s\n",
      "[CV] n_neighbors=200, p=2, weights=distance ..........................\n",
      "[CV]  n_neighbors=200, p=2, weights=distance, score=0.32019857225403253, total=  37.4s\n",
      "[CV] n_neighbors=200, p=2, weights=distance ..........................\n",
      "[CV]  n_neighbors=200, p=2, weights=distance, score=0.3160764666953943, total=  17.1s\n",
      "[CV] n_neighbors=200, p=2, weights=distance ..........................\n",
      "[CV]  n_neighbors=200, p=2, weights=distance, score=0.32068167759596716, total=  37.2s\n"
     ]
    },
    {
     "name": "stderr",
     "output_type": "stream",
     "text": [
      "[Parallel(n_jobs=1)]: Done  36 out of  36 | elapsed: 43.6min finished\n"
     ]
    },
    {
     "data": {
      "text/plain": [
       "GridSearchCV(cv=3, error_score='raise-deprecating',\n",
       "       estimator=KNeighborsClassifier(algorithm='auto', leaf_size=30, metric='minkowski',\n",
       "           metric_params=None, n_jobs=None, n_neighbors=5, p=2,\n",
       "           weights='uniform'),\n",
       "       fit_params=None, iid='warn', n_jobs=None,\n",
       "       param_grid={'n_neighbors': [50, 100, 200], 'weights': ['uniform', 'distance'], 'p': [1, 2]},\n",
       "       pre_dispatch='2*n_jobs', refit=True, return_train_score=True,\n",
       "       scoring='f1_macro', verbose=5)"
      ]
     },
     "execution_count": 14,
     "metadata": {},
     "output_type": "execute_result"
    }
   ],
   "source": [
    "search = GridSearchCV(clf, params, cv=3, return_train_score=True, verbose=5, scoring='f1_macro')\n",
    "\n",
    "search.fit(X,y)"
   ]
  },
  {
   "cell_type": "markdown",
   "metadata": {},
   "source": [
    "### Tuned Results"
   ]
  },
  {
   "cell_type": "code",
   "execution_count": 15,
   "metadata": {},
   "outputs": [
    {
     "name": "stdout",
     "output_type": "stream",
     "text": [
      "Mean Training Score: 0.671189036321936\n",
      "Mean Testing Score: 1.0\n",
      "\n",
      "Best Parameter Found:\n"
     ]
    },
    {
     "data": {
      "text/plain": [
       "{'n_neighbors': 50, 'p': 1, 'weights': 'distance'}"
      ]
     },
     "execution_count": 15,
     "metadata": {},
     "output_type": "execute_result"
    }
   ],
   "source": [
    "print(\"Mean Training Score:\", np.mean(search.cv_results_['mean_train_score']))\n",
    "print(\"Mean Testing Score:\", search.score(X, y))\n",
    "print(\"\\nBest Parameter Found:\")\n",
    "search.best_params_"
   ]
  },
  {
   "cell_type": "markdown",
   "metadata": {},
   "source": [
    "### Model with the Best Parameters"
   ]
  },
  {
   "cell_type": "code",
   "execution_count": 16,
   "metadata": {},
   "outputs": [
    {
     "data": {
      "text/plain": [
       "KNeighborsClassifier(algorithm='auto', leaf_size=30, metric='minkowski',\n",
       "           metric_params=None, n_jobs=None, n_neighbors=50, p=1,\n",
       "           weights='distance')"
      ]
     },
     "execution_count": 16,
     "metadata": {},
     "output_type": "execute_result"
    }
   ],
   "source": [
    "search_clf = search.best_estimator_\n",
    "\n",
    "search_clf.fit(X_train, y_train)"
   ]
  },
  {
   "cell_type": "markdown",
   "metadata": {},
   "source": [
    "#### Results from Optimum Parameters"
   ]
  },
  {
   "cell_type": "code",
   "execution_count": 17,
   "metadata": {},
   "outputs": [
    {
     "name": "stdout",
     "output_type": "stream",
     "text": [
      "              precision    recall  f1-score   support\n",
      "\n",
      "        Sell       0.33      0.04      0.07      2928\n",
      "         Buy       0.42      0.36      0.39      5492\n",
      "        Hold       0.46      0.69      0.55      6623\n",
      "\n",
      "   micro avg       0.44      0.44      0.44     15043\n",
      "   macro avg       0.40      0.36      0.34     15043\n",
      "weighted avg       0.42      0.44      0.40     15043\n",
      "\n"
     ]
    }
   ],
   "source": [
    "# Classifier predictions\n",
    "s_pred = search_clf.predict(X_test)\n",
    "\n",
    "#Printing out results\n",
    "report = classification_report(y_test, s_pred, target_names=['Sell', 'Buy', 'Hold'])\n",
    "print(report)"
   ]
  },
  {
   "cell_type": "markdown",
   "metadata": {},
   "source": [
    "### Confusion Matrix for Optimum Parameters"
   ]
  },
  {
   "cell_type": "code",
   "execution_count": 18,
   "metadata": {},
   "outputs": [
    {
     "data": {
      "image/png": "[encoded data removed]",
      "text/plain": [
       "<Figure size 864x432 with 2 Axes>"
      ]
     },
     "metadata": {
      "needs_background": "light"
     },
     "output_type": "display_data"
    }
   ],
   "source": [
    "plot_confusion_matrix(y_test, s_pred, title=\"Confusion Matrix\")\n",
    "np.set_printoptions(precision=1)\n",
    "# Plot non-normalized confusion matrix\n",
    "plt.show()"
   ]
  },
  {
   "cell_type": "code",
   "execution_count": null,
   "metadata": {},
   "outputs": [],
   "source": []
  }
 ],
 "metadata": {
  "kernelspec": {
   "display_name": "Python 3",
   "language": "python",
   "name": "python3"
  },
  "language_info": {
   "codemirror_mode": {
    "name": "ipython",
    "version": 3
   },
   "file_extension": ".py",
   "mimetype": "text/x-python",
   "name": "python",
   "nbconvert_exporter": "python",
   "pygments_lexer": "ipython3",
   "version": "3.7.3"
  }
 },
 "nbformat": 4,
 "nbformat_minor": 2
}
