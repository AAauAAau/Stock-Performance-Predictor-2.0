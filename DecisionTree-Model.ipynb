{
 "cells": [
  {
   "cell_type": "markdown",
   "metadata": {},
   "source": [
    "# Model: Decision Tree"
   ]
  },
  {
   "cell_type": "markdown",
   "metadata": {},
   "source": [
    "### Importing Libraries"
   ]
  },
  {
   "cell_type": "code",
   "execution_count": 1,
   "metadata": {},
   "outputs": [],
   "source": [
    "import _pickle as pickle\n",
    "import numpy as np\n",
    "import pandas as pd\n",
    "from sklearn.model_selection import train_test_split\n",
    "from sklearn.metrics import precision_score, recall_score, accuracy_score, f1_score, confusion_matrix, classification_report\n",
    "import matplotlib.pyplot as plt"
   ]
  },
  {
   "cell_type": "markdown",
   "metadata": {},
   "source": [
    "### Loading in Data"
   ]
  },
  {
   "cell_type": "code",
   "execution_count": 2,
   "metadata": {},
   "outputs": [],
   "source": [
    "with open(\"top10_df.pkl\",'rb') as fp:\n",
    "    df = pickle.load(fp)"
   ]
  },
  {
   "cell_type": "markdown",
   "metadata": {},
   "source": [
    "### Scaling the Data"
   ]
  },
  {
   "cell_type": "code",
   "execution_count": 3,
   "metadata": {},
   "outputs": [],
   "source": [
    "from sklearn.preprocessing import StandardScaler\n",
    "\n",
    "scaler = StandardScaler()\n",
    "\n",
    "features_df = df.drop([\"Decision\"], 1)\n",
    "\n",
    "scaled_df = pd.DataFrame(scaler.fit_transform(features_df), \n",
    "                               index=features_df.index, \n",
    "                               columns=features_df.columns)\n",
    "\n",
    "df = scaled_df.join(df.Decision)"
   ]
  },
  {
   "cell_type": "markdown",
   "metadata": {},
   "source": [
    "### Splitting the Data"
   ]
  },
  {
   "cell_type": "code",
   "execution_count": 4,
   "metadata": {},
   "outputs": [],
   "source": [
    "X = df.drop([\"Decision\"], 1)\n",
    "y = df.Decision\n",
    "\n",
    "# Train, test, split\n",
    "X_train, X_test, y_train, y_test = train_test_split(X, y)"
   ]
  },
  {
   "cell_type": "markdown",
   "metadata": {},
   "source": [
    "### Helper Functions"
   ]
  },
  {
   "cell_type": "markdown",
   "metadata": {},
   "source": [
    "#### Function for plotting confusion matrix"
   ]
  },
  {
   "cell_type": "code",
   "execution_count": 5,
   "metadata": {},
   "outputs": [],
   "source": [
    "def plot_confusion_matrix(y_true, y_pred, labels=[\"Sell\", \"Buy\", \"Hold\"], \n",
    "                          normalize=False, title=None, cmap=plt.cm.coolwarm):\n",
    "\n",
    "    cm = confusion_matrix(y_true, y_pred)\n",
    "    fig, ax = plt.subplots(figsize=(12,6))\n",
    "    im = ax.imshow(cm, interpolation='nearest', cmap=cmap)\n",
    "    ax.figure.colorbar(im, ax=ax)\n",
    "    # We want to show all ticks...\n",
    "    ax.set(xticks=np.arange(cm.shape[1]),\n",
    "           yticks=np.arange(cm.shape[0]),\n",
    "           # ... and label them with the respective list entries\n",
    "           xticklabels=labels, yticklabels=labels,\n",
    "           title=title,\n",
    "           ylabel='ACTUAL',\n",
    "           xlabel='PREDICTED')\n",
    "    # Rotate the tick labels and set their alignment.\n",
    "    plt.setp(ax.get_xticklabels(), rotation=45, ha=\"right\",\n",
    "             rotation_mode=\"anchor\")\n",
    "    # Loop over data dimensions and create text annotations.\n",
    "    fmt = '.2f' if normalize else 'd'\n",
    "    thresh = cm.max() / 1.5\n",
    "    for i in range(cm.shape[0]):\n",
    "        for j in range(cm.shape[1]):\n",
    "            ax.text(j, i, format(cm[i, j], fmt),\n",
    "                    ha=\"center\", va=\"center\",\n",
    "                    color=\"snow\" if cm[i, j] > thresh else \"orange\",\n",
    "                    size=26)\n",
    "    ax.grid(False)\n",
    "    fig.tight_layout()\n",
    "    return ax"
   ]
  },
  {
   "cell_type": "markdown",
   "metadata": {},
   "source": [
    "## Modeling\n",
    "The preferred evaluation metric used will be __Precision__ for each class.  They will be optimized using the __F1 Score-Macro-Average__ to balance the Precision and Recall.  This is done because we want to not only be correct when predicting but also make a decent amount of predictions for each class.  Classes such as 'Buy' and 'Sell' are more important than 'Hold'."
   ]
  },
  {
   "cell_type": "markdown",
   "metadata": {},
   "source": [
    "### Fitting and Training"
   ]
  },
  {
   "cell_type": "code",
   "execution_count": 6,
   "metadata": {
    "scrolled": false
   },
   "outputs": [
    {
     "data": {
      "text/plain": [
       "DecisionTreeClassifier(class_weight=None, criterion='gini', max_depth=None,\n",
       "            max_features=None, max_leaf_nodes=None,\n",
       "            min_impurity_decrease=0.0, min_impurity_split=None,\n",
       "            min_samples_leaf=1, min_samples_split=2,\n",
       "            min_weight_fraction_leaf=0.0, presort=False, random_state=None,\n",
       "            splitter='best')"
      ]
     },
     "execution_count": 6,
     "metadata": {},
     "output_type": "execute_result"
    }
   ],
   "source": [
    "# Importing the model\n",
    "from sklearn.tree import DecisionTreeClassifier\n",
    "\n",
    "# Fitting and training\n",
    "clf = DecisionTreeClassifier()\n",
    "clf.fit(X_train, y_train)"
   ]
  },
  {
   "cell_type": "markdown",
   "metadata": {},
   "source": [
    "### Printing out Evaluation Metrics"
   ]
  },
  {
   "cell_type": "code",
   "execution_count": 7,
   "metadata": {},
   "outputs": [
    {
     "name": "stdout",
     "output_type": "stream",
     "text": [
      "              precision    recall  f1-score   support\n",
      "\n",
      "        Sell       0.18      0.18      0.18      2251\n",
      "         Buy       0.31      0.31      0.31      4433\n",
      "        Hold       0.56      0.56      0.56      8359\n",
      "\n",
      "   micro avg       0.43      0.43      0.43     15043\n",
      "   macro avg       0.35      0.35      0.35     15043\n",
      "weighted avg       0.43      0.43      0.43     15043\n",
      "\n"
     ]
    }
   ],
   "source": [
    "# Classifier predictions\n",
    "pred = clf.predict(X_test)\n",
    "\n",
    "#Printing out results\n",
    "report = classification_report(y_test, pred, target_names=['Sell', 'Buy', 'Hold'])\n",
    "print(report)"
   ]
  },
  {
   "cell_type": "markdown",
   "metadata": {},
   "source": [
    "### Confusion Matrix"
   ]
  },
  {
   "cell_type": "code",
   "execution_count": 8,
   "metadata": {},
   "outputs": [
    {
     "data": {
      "image/png": "[encoded data removed]",
      "text/plain": [
       "<Figure size 864x432 with 2 Axes>"
      ]
     },
     "metadata": {
      "needs_background": "light"
     },
     "output_type": "display_data"
    }
   ],
   "source": [
    "plot_confusion_matrix(y_test, pred, title=\"Confusion Matrix\")\n",
    "np.set_printoptions(precision=1)\n",
    "# Plot non-normalized confusion matrix\n",
    "plt.show()"
   ]
  },
  {
   "cell_type": "markdown",
   "metadata": {},
   "source": [
    "## Tuning Model Parameters"
   ]
  },
  {
   "cell_type": "code",
   "execution_count": 9,
   "metadata": {},
   "outputs": [],
   "source": [
    "from sklearn.model_selection import GridSearchCV"
   ]
  },
  {
   "cell_type": "markdown",
   "metadata": {},
   "source": [
    "### Parameters"
   ]
  },
  {
   "cell_type": "code",
   "execution_count": 10,
   "metadata": {},
   "outputs": [],
   "source": [
    "# Parameters to Tune\n",
    "params = {'criterion': ['gini', 'entropy'],\n",
    "          'max_depth': [None, 2, 3, 4, 5, 6],\n",
    "          'min_samples_split': [2, 5, 10],\n",
    "          'min_samples_leaf': [1,2,3,4,5,6]}"
   ]
  },
  {
   "cell_type": "code",
   "execution_count": 11,
   "metadata": {
    "scrolled": true
   },
   "outputs": [
    {
     "name": "stdout",
     "output_type": "stream",
     "text": [
      "Fitting 3 folds for each of 216 candidates, totalling 648 fits\n",
      "[CV] criterion=gini, max_depth=None, min_samples_leaf=1, min_samples_split=2 \n"
     ]
    },
    {
     "name": "stderr",
     "output_type": "stream",
     "text": [
      "[Parallel(n_jobs=1)]: Using backend SequentialBackend with 1 concurrent workers.\n"
     ]
    },
    {
     "name": "stdout",
     "output_type": "stream",
     "text": [
      "[CV]  criterion=gini, max_depth=None, min_samples_leaf=1, min_samples_split=2, score=0.3547583837500303, total=   0.7s\n",
      "[CV] criterion=gini, max_depth=None, min_samples_leaf=1, min_samples_split=2 \n"
     ]
    },
    {
     "name": "stderr",
     "output_type": "stream",
     "text": [
      "[Parallel(n_jobs=1)]: Done   1 out of   1 | elapsed:    0.7s remaining:    0.0s\n"
     ]
    },
    {
     "name": "stdout",
     "output_type": "stream",
     "text": [
      "[CV]  criterion=gini, max_depth=None, min_samples_leaf=1, min_samples_split=2, score=0.35679063444634534, total=   0.7s\n",
      "[CV] criterion=gini, max_depth=None, min_samples_leaf=1, min_samples_split=2 \n"
     ]
    },
    {
     "name": "stderr",
     "output_type": "stream",
     "text": [
      "[Parallel(n_jobs=1)]: Done   2 out of   2 | elapsed:    1.4s remaining:    0.0s\n"
     ]
    },
    {
     "name": "stdout",
     "output_type": "stream",
     "text": [
      "[CV]  criterion=gini, max_depth=None, min_samples_leaf=1, min_samples_split=2, score=0.3535600726893822, total=   0.7s\n",
      "[CV] criterion=gini, max_depth=None, min_samples_leaf=1, min_samples_split=5 \n"
     ]
    },
    {
     "name": "stderr",
     "output_type": "stream",
     "text": [
      "[Parallel(n_jobs=1)]: Done   3 out of   3 | elapsed:    2.0s remaining:    0.0s\n"
     ]
    },
    {
     "name": "stdout",
     "output_type": "stream",
     "text": [
      "[CV]  criterion=gini, max_depth=None, min_samples_leaf=1, min_samples_split=5, score=0.3552379687934962, total=   0.6s\n",
      "[CV] criterion=gini, max_depth=None, min_samples_leaf=1, min_samples_split=5 \n"
     ]
    },
    {
     "name": "stderr",
     "output_type": "stream",
     "text": [
      "[Parallel(n_jobs=1)]: Done   4 out of   4 | elapsed:    2.7s remaining:    0.0s\n"
     ]
    },
    {
     "name": "stdout",
     "output_type": "stream",
     "text": [
      "[CV]  criterion=gini, max_depth=None, min_samples_leaf=1, min_samples_split=5, score=0.358430646746734, total=   0.7s\n",
      "[CV] criterion=gini, max_depth=None, min_samples_leaf=1, min_samples_split=5 \n",
      "[CV]  criterion=gini, max_depth=None, min_samples_leaf=1, min_samples_split=5, score=0.3524578484740694, total=   0.7s\n",
      "[CV] criterion=gini, max_depth=None, min_samples_leaf=1, min_samples_split=10 \n",
      "[CV]  criterion=gini, max_depth=None, min_samples_leaf=1, min_samples_split=10, score=0.35646618591466317, total=   0.7s\n",
      "[CV] criterion=gini, max_depth=None, min_samples_leaf=1, min_samples_split=10 \n",
      "[CV]  criterion=gini, max_depth=None, min_samples_leaf=1, min_samples_split=10, score=0.35993854111986545, total=   0.7s\n",
      "[CV] criterion=gini, max_depth=None, min_samples_leaf=1, min_samples_split=10 \n",
      "[CV]  criterion=gini, max_depth=None, min_samples_leaf=1, min_samples_split=10, score=0.3592822891722638, total=   0.7s\n",
      "[CV] criterion=gini, max_depth=None, min_samples_leaf=2, min_samples_split=2 \n",
      "[CV]  criterion=gini, max_depth=None, min_samples_leaf=2, min_samples_split=2, score=0.35305153918576887, total=   0.7s\n",
      "[CV] criterion=gini, max_depth=None, min_samples_leaf=2, min_samples_split=2 \n",
      "[CV]  criterion=gini, max_depth=None, min_samples_leaf=2, min_samples_split=2, score=0.35812797177698336, total=   0.6s\n",
      "[CV] criterion=gini, max_depth=None, min_samples_leaf=2, min_samples_split=2 \n",
      "[CV]  criterion=gini, max_depth=None, min_samples_leaf=2, min_samples_split=2, score=0.35219906032874587, total=   0.7s\n",
      "[CV] criterion=gini, max_depth=None, min_samples_leaf=2, min_samples_split=5 \n",
      "[CV]  criterion=gini, max_depth=None, min_samples_leaf=2, min_samples_split=5, score=0.35613174098149153, total=   0.6s\n",
      "[CV] criterion=gini, max_depth=None, min_samples_leaf=2, min_samples_split=5 \n",
      "[CV]  criterion=gini, max_depth=None, min_samples_leaf=2, min_samples_split=5, score=0.35828398437820597, total=   0.7s\n",
      "[CV] criterion=gini, max_depth=None, min_samples_leaf=2, min_samples_split=5 \n",
      "[CV]  criterion=gini, max_depth=None, min_samples_leaf=2, min_samples_split=5, score=0.3521165655706169, total=   0.6s\n",
      "[CV] criterion=gini, max_depth=None, min_samples_leaf=2, min_samples_split=10 \n",
      "[CV]  criterion=gini, max_depth=None, min_samples_leaf=2, min_samples_split=10, score=0.3583634445546477, total=   0.6s\n",
      "[CV] criterion=gini, max_depth=None, min_samples_leaf=2, min_samples_split=10 \n",
      "[CV]  criterion=gini, max_depth=None, min_samples_leaf=2, min_samples_split=10, score=0.3631205343833764, total=   0.7s\n",
      "[CV] criterion=gini, max_depth=None, min_samples_leaf=2, min_samples_split=10 \n",
      "[CV]  criterion=gini, max_depth=None, min_samples_leaf=2, min_samples_split=10, score=0.35788821799497256, total=   0.6s\n",
      "[CV] criterion=gini, max_depth=None, min_samples_leaf=3, min_samples_split=2 \n",
      "[CV]  criterion=gini, max_depth=None, min_samples_leaf=3, min_samples_split=2, score=0.3566241960809067, total=   0.6s\n",
      "[CV] criterion=gini, max_depth=None, min_samples_leaf=3, min_samples_split=2 \n",
      "[CV]  criterion=gini, max_depth=None, min_samples_leaf=3, min_samples_split=2, score=0.3585301300532863, total=   0.7s\n",
      "[CV] criterion=gini, max_depth=None, min_samples_leaf=3, min_samples_split=2 \n",
      "[CV]  criterion=gini, max_depth=None, min_samples_leaf=3, min_samples_split=2, score=0.35433226420295183, total=   0.9s\n",
      "[CV] criterion=gini, max_depth=None, min_samples_leaf=3, min_samples_split=5 \n",
      "[CV]  criterion=gini, max_depth=None, min_samples_leaf=3, min_samples_split=5, score=0.3550752854246933, total=   1.1s\n",
      "[CV] criterion=gini, max_depth=None, min_samples_leaf=3, min_samples_split=5 \n",
      "[CV]  criterion=gini, max_depth=None, min_samples_leaf=3, min_samples_split=5, score=0.3572811700642052, total=   0.7s\n",
      "[CV] criterion=gini, max_depth=None, min_samples_leaf=3, min_samples_split=5 \n",
      "[CV]  criterion=gini, max_depth=None, min_samples_leaf=3, min_samples_split=5, score=0.3554761832606375, total=   0.8s\n",
      "[CV] criterion=gini, max_depth=None, min_samples_leaf=3, min_samples_split=10 \n",
      "[CV]  criterion=gini, max_depth=None, min_samples_leaf=3, min_samples_split=10, score=0.3572207980261009, total=   1.2s\n",
      "[CV] criterion=gini, max_depth=None, min_samples_leaf=3, min_samples_split=10 \n",
      "[CV]  criterion=gini, max_depth=None, min_samples_leaf=3, min_samples_split=10, score=0.36065567345600735, total=   1.1s\n",
      "[CV] criterion=gini, max_depth=None, min_samples_leaf=3, min_samples_split=10 \n",
      "[CV]  criterion=gini, max_depth=None, min_samples_leaf=3, min_samples_split=10, score=0.3585240320461985, total=   0.6s\n",
      "[CV] criterion=gini, max_depth=None, min_samples_leaf=4, min_samples_split=2 \n",
      "[CV]  criterion=gini, max_depth=None, min_samples_leaf=4, min_samples_split=2, score=0.3528401351574089, total=   0.7s\n",
      "[CV] criterion=gini, max_depth=None, min_samples_leaf=4, min_samples_split=2 \n",
      "[CV]  criterion=gini, max_depth=None, min_samples_leaf=4, min_samples_split=2, score=0.3561091142971078, total=   1.1s\n",
      "[CV] criterion=gini, max_depth=None, min_samples_leaf=4, min_samples_split=2 \n",
      "[CV]  criterion=gini, max_depth=None, min_samples_leaf=4, min_samples_split=2, score=0.3615598161350306, total=   0.9s\n",
      "[CV] criterion=gini, max_depth=None, min_samples_leaf=4, min_samples_split=5 \n",
      "[CV]  criterion=gini, max_depth=None, min_samples_leaf=4, min_samples_split=5, score=0.35464568027378124, total=   1.0s\n",
      "[CV] criterion=gini, max_depth=None, min_samples_leaf=4, min_samples_split=5 \n",
      "[CV]  criterion=gini, max_depth=None, min_samples_leaf=4, min_samples_split=5, score=0.35599597491767776, total=   0.6s\n",
      "[CV] criterion=gini, max_depth=None, min_samples_leaf=4, min_samples_split=5 \n",
      "[CV]  criterion=gini, max_depth=None, min_samples_leaf=4, min_samples_split=5, score=0.35915107257283885, total=   0.9s\n",
      "[CV] criterion=gini, max_depth=None, min_samples_leaf=4, min_samples_split=10 \n",
      "[CV]  criterion=gini, max_depth=None, min_samples_leaf=4, min_samples_split=10, score=0.35889619990968386, total=   1.3s\n",
      "[CV] criterion=gini, max_depth=None, min_samples_leaf=4, min_samples_split=10 \n",
      "[CV]  criterion=gini, max_depth=None, min_samples_leaf=4, min_samples_split=10, score=0.35766037150121316, total=   1.2s\n",
      "[CV] criterion=gini, max_depth=None, min_samples_leaf=4, min_samples_split=10 \n",
      "[CV]  criterion=gini, max_depth=None, min_samples_leaf=4, min_samples_split=10, score=0.3610883413393175, total=   0.6s\n",
      "[CV] criterion=gini, max_depth=None, min_samples_leaf=5, min_samples_split=2 \n",
      "[CV]  criterion=gini, max_depth=None, min_samples_leaf=5, min_samples_split=2, score=0.3547503931378459, total=   1.0s\n",
      "[CV] criterion=gini, max_depth=None, min_samples_leaf=5, min_samples_split=2 \n",
      "[CV]  criterion=gini, max_depth=None, min_samples_leaf=5, min_samples_split=2, score=0.3606663414383216, total=   1.0s\n",
      "[CV] criterion=gini, max_depth=None, min_samples_leaf=5, min_samples_split=2 \n",
      "[CV]  criterion=gini, max_depth=None, min_samples_leaf=5, min_samples_split=2, score=0.3630270014871934, total=   1.1s\n",
      "[CV] criterion=gini, max_depth=None, min_samples_leaf=5, min_samples_split=5 \n",
      "[CV]  criterion=gini, max_depth=None, min_samples_leaf=5, min_samples_split=5, score=0.35440962457433517, total=   1.2s\n",
      "[CV] criterion=gini, max_depth=None, min_samples_leaf=5, min_samples_split=5 \n",
      "[CV]  criterion=gini, max_depth=None, min_samples_leaf=5, min_samples_split=5, score=0.35917321322683576, total=   0.7s\n",
      "[CV] criterion=gini, max_depth=None, min_samples_leaf=5, min_samples_split=5 \n",
      "[CV]  criterion=gini, max_depth=None, min_samples_leaf=5, min_samples_split=5, score=0.3619707374517563, total=   0.6s\n",
      "[CV] criterion=gini, max_depth=None, min_samples_leaf=5, min_samples_split=10 \n",
      "[CV]  criterion=gini, max_depth=None, min_samples_leaf=5, min_samples_split=10, score=0.3545427751972854, total=   0.6s\n",
      "[CV] criterion=gini, max_depth=None, min_samples_leaf=5, min_samples_split=10 \n",
      "[CV]  criterion=gini, max_depth=None, min_samples_leaf=5, min_samples_split=10, score=0.3608011510615549, total=   0.8s\n",
      "[CV] criterion=gini, max_depth=None, min_samples_leaf=5, min_samples_split=10 \n",
      "[CV]  criterion=gini, max_depth=None, min_samples_leaf=5, min_samples_split=10, score=0.3631724592252581, total=   1.1s\n",
      "[CV] criterion=gini, max_depth=None, min_samples_leaf=6, min_samples_split=2 \n",
      "[CV]  criterion=gini, max_depth=None, min_samples_leaf=6, min_samples_split=2, score=0.3604034259630795, total=   1.1s\n",
      "[CV] criterion=gini, max_depth=None, min_samples_leaf=6, min_samples_split=2 \n"
     ]
    },
    {
     "name": "stdout",
     "output_type": "stream",
     "text": [
      "[CV]  criterion=gini, max_depth=None, min_samples_leaf=6, min_samples_split=2, score=0.36025565940293575, total=   1.0s\n",
      "[CV] criterion=gini, max_depth=None, min_samples_leaf=6, min_samples_split=2 \n",
      "[CV]  criterion=gini, max_depth=None, min_samples_leaf=6, min_samples_split=2, score=0.3659100354273015, total=   0.6s\n",
      "[CV] criterion=gini, max_depth=None, min_samples_leaf=6, min_samples_split=5 \n",
      "[CV]  criterion=gini, max_depth=None, min_samples_leaf=6, min_samples_split=5, score=0.359689881660171, total=   0.6s\n",
      "[CV] criterion=gini, max_depth=None, min_samples_leaf=6, min_samples_split=5 \n",
      "[CV]  criterion=gini, max_depth=None, min_samples_leaf=6, min_samples_split=5, score=0.3599425647638855, total=   0.6s\n",
      "[CV] criterion=gini, max_depth=None, min_samples_leaf=6, min_samples_split=5 \n",
      "[CV]  criterion=gini, max_depth=None, min_samples_leaf=6, min_samples_split=5, score=0.3656416575142421, total=   0.6s\n",
      "[CV] criterion=gini, max_depth=None, min_samples_leaf=6, min_samples_split=10 \n",
      "[CV]  criterion=gini, max_depth=None, min_samples_leaf=6, min_samples_split=10, score=0.3607059994026744, total=   0.6s\n",
      "[CV] criterion=gini, max_depth=None, min_samples_leaf=6, min_samples_split=10 \n",
      "[CV]  criterion=gini, max_depth=None, min_samples_leaf=6, min_samples_split=10, score=0.35867938198708904, total=   0.6s\n",
      "[CV] criterion=gini, max_depth=None, min_samples_leaf=6, min_samples_split=10 \n",
      "[CV]  criterion=gini, max_depth=None, min_samples_leaf=6, min_samples_split=10, score=0.365756344110566, total=   0.6s\n",
      "[CV] criterion=gini, max_depth=2, min_samples_leaf=1, min_samples_split=2 \n",
      "[CV]  criterion=gini, max_depth=2, min_samples_leaf=1, min_samples_split=2, score=0.2392277202403785, total=   0.1s\n",
      "[CV] criterion=gini, max_depth=2, min_samples_leaf=1, min_samples_split=2 \n"
     ]
    },
    {
     "name": "stderr",
     "output_type": "stream",
     "text": [
      "/anaconda3/lib/python3.7/site-packages/sklearn/metrics/classification.py:1143: UndefinedMetricWarning: F-score is ill-defined and being set to 0.0 in labels with no predicted samples.\n",
      "  'precision', 'predicted', average, warn_for)\n",
      "/anaconda3/lib/python3.7/site-packages/sklearn/metrics/classification.py:1143: UndefinedMetricWarning: F-score is ill-defined and being set to 0.0 in labels with no predicted samples.\n",
      "  'precision', 'predicted', average, warn_for)\n",
      "/anaconda3/lib/python3.7/site-packages/sklearn/metrics/classification.py:1143: UndefinedMetricWarning: F-score is ill-defined and being set to 0.0 in labels with no predicted samples.\n",
      "  'precision', 'predicted', average, warn_for)\n",
      "/anaconda3/lib/python3.7/site-packages/sklearn/metrics/classification.py:1143: UndefinedMetricWarning: F-score is ill-defined and being set to 0.0 in labels with no predicted samples.\n",
      "  'precision', 'predicted', average, warn_for)\n"
     ]
    },
    {
     "name": "stdout",
     "output_type": "stream",
     "text": [
      "[CV]  criterion=gini, max_depth=2, min_samples_leaf=1, min_samples_split=2, score=0.23922935115032554, total=   0.1s\n",
      "[CV] criterion=gini, max_depth=2, min_samples_leaf=1, min_samples_split=2 \n",
      "[CV]  criterion=gini, max_depth=2, min_samples_leaf=1, min_samples_split=2, score=0.23923699914748509, total=   0.1s\n",
      "[CV] criterion=gini, max_depth=2, min_samples_leaf=1, min_samples_split=5 \n"
     ]
    },
    {
     "name": "stderr",
     "output_type": "stream",
     "text": [
      "/anaconda3/lib/python3.7/site-packages/sklearn/metrics/classification.py:1143: UndefinedMetricWarning: F-score is ill-defined and being set to 0.0 in labels with no predicted samples.\n",
      "  'precision', 'predicted', average, warn_for)\n",
      "/anaconda3/lib/python3.7/site-packages/sklearn/metrics/classification.py:1143: UndefinedMetricWarning: F-score is ill-defined and being set to 0.0 in labels with no predicted samples.\n",
      "  'precision', 'predicted', average, warn_for)\n",
      "/anaconda3/lib/python3.7/site-packages/sklearn/metrics/classification.py:1143: UndefinedMetricWarning: F-score is ill-defined and being set to 0.0 in labels with no predicted samples.\n",
      "  'precision', 'predicted', average, warn_for)\n",
      "/anaconda3/lib/python3.7/site-packages/sklearn/metrics/classification.py:1143: UndefinedMetricWarning: F-score is ill-defined and being set to 0.0 in labels with no predicted samples.\n",
      "  'precision', 'predicted', average, warn_for)\n"
     ]
    },
    {
     "name": "stdout",
     "output_type": "stream",
     "text": [
      "[CV]  criterion=gini, max_depth=2, min_samples_leaf=1, min_samples_split=5, score=0.2392277202403785, total=   0.1s\n",
      "[CV] criterion=gini, max_depth=2, min_samples_leaf=1, min_samples_split=5 \n",
      "[CV]  criterion=gini, max_depth=2, min_samples_leaf=1, min_samples_split=5, score=0.23922935115032554, total=   0.1s\n",
      "[CV] criterion=gini, max_depth=2, min_samples_leaf=1, min_samples_split=5 \n"
     ]
    },
    {
     "name": "stderr",
     "output_type": "stream",
     "text": [
      "/anaconda3/lib/python3.7/site-packages/sklearn/metrics/classification.py:1143: UndefinedMetricWarning: F-score is ill-defined and being set to 0.0 in labels with no predicted samples.\n",
      "  'precision', 'predicted', average, warn_for)\n",
      "/anaconda3/lib/python3.7/site-packages/sklearn/metrics/classification.py:1143: UndefinedMetricWarning: F-score is ill-defined and being set to 0.0 in labels with no predicted samples.\n",
      "  'precision', 'predicted', average, warn_for)\n",
      "/anaconda3/lib/python3.7/site-packages/sklearn/metrics/classification.py:1143: UndefinedMetricWarning: F-score is ill-defined and being set to 0.0 in labels with no predicted samples.\n",
      "  'precision', 'predicted', average, warn_for)\n",
      "/anaconda3/lib/python3.7/site-packages/sklearn/metrics/classification.py:1143: UndefinedMetricWarning: F-score is ill-defined and being set to 0.0 in labels with no predicted samples.\n",
      "  'precision', 'predicted', average, warn_for)\n"
     ]
    },
    {
     "name": "stdout",
     "output_type": "stream",
     "text": [
      "[CV]  criterion=gini, max_depth=2, min_samples_leaf=1, min_samples_split=5, score=0.23923699914748509, total=   0.1s\n",
      "[CV] criterion=gini, max_depth=2, min_samples_leaf=1, min_samples_split=10 \n",
      "[CV]  criterion=gini, max_depth=2, min_samples_leaf=1, min_samples_split=10, score=0.2392277202403785, total=   0.1s\n",
      "[CV] criterion=gini, max_depth=2, min_samples_leaf=1, min_samples_split=10 \n"
     ]
    },
    {
     "name": "stderr",
     "output_type": "stream",
     "text": [
      "/anaconda3/lib/python3.7/site-packages/sklearn/metrics/classification.py:1143: UndefinedMetricWarning: F-score is ill-defined and being set to 0.0 in labels with no predicted samples.\n",
      "  'precision', 'predicted', average, warn_for)\n",
      "/anaconda3/lib/python3.7/site-packages/sklearn/metrics/classification.py:1143: UndefinedMetricWarning: F-score is ill-defined and being set to 0.0 in labels with no predicted samples.\n",
      "  'precision', 'predicted', average, warn_for)\n",
      "/anaconda3/lib/python3.7/site-packages/sklearn/metrics/classification.py:1143: UndefinedMetricWarning: F-score is ill-defined and being set to 0.0 in labels with no predicted samples.\n",
      "  'precision', 'predicted', average, warn_for)\n",
      "/anaconda3/lib/python3.7/site-packages/sklearn/metrics/classification.py:1143: UndefinedMetricWarning: F-score is ill-defined and being set to 0.0 in labels with no predicted samples.\n",
      "  'precision', 'predicted', average, warn_for)\n"
     ]
    },
    {
     "name": "stdout",
     "output_type": "stream",
     "text": [
      "[CV]  criterion=gini, max_depth=2, min_samples_leaf=1, min_samples_split=10, score=0.23922935115032554, total=   0.1s\n",
      "[CV] criterion=gini, max_depth=2, min_samples_leaf=1, min_samples_split=10 \n",
      "[CV]  criterion=gini, max_depth=2, min_samples_leaf=1, min_samples_split=10, score=0.23923699914748509, total=   0.1s\n",
      "[CV] criterion=gini, max_depth=2, min_samples_leaf=2, min_samples_split=2 \n"
     ]
    },
    {
     "name": "stderr",
     "output_type": "stream",
     "text": [
      "/anaconda3/lib/python3.7/site-packages/sklearn/metrics/classification.py:1143: UndefinedMetricWarning: F-score is ill-defined and being set to 0.0 in labels with no predicted samples.\n",
      "  'precision', 'predicted', average, warn_for)\n",
      "/anaconda3/lib/python3.7/site-packages/sklearn/metrics/classification.py:1143: UndefinedMetricWarning: F-score is ill-defined and being set to 0.0 in labels with no predicted samples.\n",
      "  'precision', 'predicted', average, warn_for)\n",
      "/anaconda3/lib/python3.7/site-packages/sklearn/metrics/classification.py:1143: UndefinedMetricWarning: F-score is ill-defined and being set to 0.0 in labels with no predicted samples.\n",
      "  'precision', 'predicted', average, warn_for)\n",
      "/anaconda3/lib/python3.7/site-packages/sklearn/metrics/classification.py:1143: UndefinedMetricWarning: F-score is ill-defined and being set to 0.0 in labels with no predicted samples.\n",
      "  'precision', 'predicted', average, warn_for)\n"
     ]
    },
    {
     "name": "stdout",
     "output_type": "stream",
     "text": [
      "[CV]  criterion=gini, max_depth=2, min_samples_leaf=2, min_samples_split=2, score=0.2392277202403785, total=   0.1s\n",
      "[CV] criterion=gini, max_depth=2, min_samples_leaf=2, min_samples_split=2 \n",
      "[CV]  criterion=gini, max_depth=2, min_samples_leaf=2, min_samples_split=2, score=0.23922935115032554, total=   0.1s\n",
      "[CV] criterion=gini, max_depth=2, min_samples_leaf=2, min_samples_split=2 \n"
     ]
    },
    {
     "name": "stderr",
     "output_type": "stream",
     "text": [
      "/anaconda3/lib/python3.7/site-packages/sklearn/metrics/classification.py:1143: UndefinedMetricWarning: F-score is ill-defined and being set to 0.0 in labels with no predicted samples.\n",
      "  'precision', 'predicted', average, warn_for)\n",
      "/anaconda3/lib/python3.7/site-packages/sklearn/metrics/classification.py:1143: UndefinedMetricWarning: F-score is ill-defined and being set to 0.0 in labels with no predicted samples.\n",
      "  'precision', 'predicted', average, warn_for)\n",
      "/anaconda3/lib/python3.7/site-packages/sklearn/metrics/classification.py:1143: UndefinedMetricWarning: F-score is ill-defined and being set to 0.0 in labels with no predicted samples.\n",
      "  'precision', 'predicted', average, warn_for)\n",
      "/anaconda3/lib/python3.7/site-packages/sklearn/metrics/classification.py:1143: UndefinedMetricWarning: F-score is ill-defined and being set to 0.0 in labels with no predicted samples.\n",
      "  'precision', 'predicted', average, warn_for)\n"
     ]
    },
    {
     "name": "stdout",
     "output_type": "stream",
     "text": [
      "[CV]  criterion=gini, max_depth=2, min_samples_leaf=2, min_samples_split=2, score=0.23923699914748509, total=   0.1s\n",
      "[CV] criterion=gini, max_depth=2, min_samples_leaf=2, min_samples_split=5 \n",
      "[CV]  criterion=gini, max_depth=2, min_samples_leaf=2, min_samples_split=5, score=0.2392277202403785, total=   0.1s\n",
      "[CV] criterion=gini, max_depth=2, min_samples_leaf=2, min_samples_split=5 \n"
     ]
    },
    {
     "name": "stderr",
     "output_type": "stream",
     "text": [
      "/anaconda3/lib/python3.7/site-packages/sklearn/metrics/classification.py:1143: UndefinedMetricWarning: F-score is ill-defined and being set to 0.0 in labels with no predicted samples.\n",
      "  'precision', 'predicted', average, warn_for)\n",
      "/anaconda3/lib/python3.7/site-packages/sklearn/metrics/classification.py:1143: UndefinedMetricWarning: F-score is ill-defined and being set to 0.0 in labels with no predicted samples.\n",
      "  'precision', 'predicted', average, warn_for)\n",
      "/anaconda3/lib/python3.7/site-packages/sklearn/metrics/classification.py:1143: UndefinedMetricWarning: F-score is ill-defined and being set to 0.0 in labels with no predicted samples.\n",
      "  'precision', 'predicted', average, warn_for)\n",
      "/anaconda3/lib/python3.7/site-packages/sklearn/metrics/classification.py:1143: UndefinedMetricWarning: F-score is ill-defined and being set to 0.0 in labels with no predicted samples.\n",
      "  'precision', 'predicted', average, warn_for)\n"
     ]
    },
    {
     "name": "stdout",
     "output_type": "stream",
     "text": [
      "[CV]  criterion=gini, max_depth=2, min_samples_leaf=2, min_samples_split=5, score=0.23922935115032554, total=   0.1s\n",
      "[CV] criterion=gini, max_depth=2, min_samples_leaf=2, min_samples_split=5 \n",
      "[CV]  criterion=gini, max_depth=2, min_samples_leaf=2, min_samples_split=5, score=0.23923699914748509, total=   0.1s\n",
      "[CV] criterion=gini, max_depth=2, min_samples_leaf=2, min_samples_split=10 \n"
     ]
    },
    {
     "name": "stderr",
     "output_type": "stream",
     "text": [
      "/anaconda3/lib/python3.7/site-packages/sklearn/metrics/classification.py:1143: UndefinedMetricWarning: F-score is ill-defined and being set to 0.0 in labels with no predicted samples.\n",
      "  'precision', 'predicted', average, warn_for)\n",
      "/anaconda3/lib/python3.7/site-packages/sklearn/metrics/classification.py:1143: UndefinedMetricWarning: F-score is ill-defined and being set to 0.0 in labels with no predicted samples.\n",
      "  'precision', 'predicted', average, warn_for)\n",
      "/anaconda3/lib/python3.7/site-packages/sklearn/metrics/classification.py:1143: UndefinedMetricWarning: F-score is ill-defined and being set to 0.0 in labels with no predicted samples.\n",
      "  'precision', 'predicted', average, warn_for)\n",
      "/anaconda3/lib/python3.7/site-packages/sklearn/metrics/classification.py:1143: UndefinedMetricWarning: F-score is ill-defined and being set to 0.0 in labels with no predicted samples.\n",
      "  'precision', 'predicted', average, warn_for)\n"
     ]
    },
    {
     "name": "stdout",
     "output_type": "stream",
     "text": [
      "[CV]  criterion=gini, max_depth=2, min_samples_leaf=2, min_samples_split=10, score=0.2392277202403785, total=   0.1s\n",
      "[CV] criterion=gini, max_depth=2, min_samples_leaf=2, min_samples_split=10 \n",
      "[CV]  criterion=gini, max_depth=2, min_samples_leaf=2, min_samples_split=10, score=0.23922935115032554, total=   0.1s\n",
      "[CV] criterion=gini, max_depth=2, min_samples_leaf=2, min_samples_split=10 \n"
     ]
    },
    {
     "name": "stderr",
     "output_type": "stream",
     "text": [
      "/anaconda3/lib/python3.7/site-packages/sklearn/metrics/classification.py:1143: UndefinedMetricWarning: F-score is ill-defined and being set to 0.0 in labels with no predicted samples.\n",
      "  'precision', 'predicted', average, warn_for)\n",
      "/anaconda3/lib/python3.7/site-packages/sklearn/metrics/classification.py:1143: UndefinedMetricWarning: F-score is ill-defined and being set to 0.0 in labels with no predicted samples.\n",
      "  'precision', 'predicted', average, warn_for)\n",
      "/anaconda3/lib/python3.7/site-packages/sklearn/metrics/classification.py:1143: UndefinedMetricWarning: F-score is ill-defined and being set to 0.0 in labels with no predicted samples.\n",
      "  'precision', 'predicted', average, warn_for)\n",
      "/anaconda3/lib/python3.7/site-packages/sklearn/metrics/classification.py:1143: UndefinedMetricWarning: F-score is ill-defined and being set to 0.0 in labels with no predicted samples.\n",
      "  'precision', 'predicted', average, warn_for)\n"
     ]
    },
    {
     "name": "stdout",
     "output_type": "stream",
     "text": [
      "[CV]  criterion=gini, max_depth=2, min_samples_leaf=2, min_samples_split=10, score=0.23923699914748509, total=   0.1s\n",
      "[CV] criterion=gini, max_depth=2, min_samples_leaf=3, min_samples_split=2 \n",
      "[CV]  criterion=gini, max_depth=2, min_samples_leaf=3, min_samples_split=2, score=0.2392277202403785, total=   0.1s\n",
      "[CV] criterion=gini, max_depth=2, min_samples_leaf=3, min_samples_split=2 \n"
     ]
    },
    {
     "name": "stderr",
     "output_type": "stream",
     "text": [
      "/anaconda3/lib/python3.7/site-packages/sklearn/metrics/classification.py:1143: UndefinedMetricWarning: F-score is ill-defined and being set to 0.0 in labels with no predicted samples.\n",
      "  'precision', 'predicted', average, warn_for)\n",
      "/anaconda3/lib/python3.7/site-packages/sklearn/metrics/classification.py:1143: UndefinedMetricWarning: F-score is ill-defined and being set to 0.0 in labels with no predicted samples.\n",
      "  'precision', 'predicted', average, warn_for)\n",
      "/anaconda3/lib/python3.7/site-packages/sklearn/metrics/classification.py:1143: UndefinedMetricWarning: F-score is ill-defined and being set to 0.0 in labels with no predicted samples.\n",
      "  'precision', 'predicted', average, warn_for)\n",
      "/anaconda3/lib/python3.7/site-packages/sklearn/metrics/classification.py:1143: UndefinedMetricWarning: F-score is ill-defined and being set to 0.0 in labels with no predicted samples.\n",
      "  'precision', 'predicted', average, warn_for)\n"
     ]
    },
    {
     "name": "stdout",
     "output_type": "stream",
     "text": [
      "[CV]  criterion=gini, max_depth=2, min_samples_leaf=3, min_samples_split=2, score=0.23922935115032554, total=   0.1s\n",
      "[CV] criterion=gini, max_depth=2, min_samples_leaf=3, min_samples_split=2 \n",
      "[CV]  criterion=gini, max_depth=2, min_samples_leaf=3, min_samples_split=2, score=0.23923699914748509, total=   0.1s\n",
      "[CV] criterion=gini, max_depth=2, min_samples_leaf=3, min_samples_split=5 \n"
     ]
    },
    {
     "name": "stderr",
     "output_type": "stream",
     "text": [
      "/anaconda3/lib/python3.7/site-packages/sklearn/metrics/classification.py:1143: UndefinedMetricWarning: F-score is ill-defined and being set to 0.0 in labels with no predicted samples.\n",
      "  'precision', 'predicted', average, warn_for)\n",
      "/anaconda3/lib/python3.7/site-packages/sklearn/metrics/classification.py:1143: UndefinedMetricWarning: F-score is ill-defined and being set to 0.0 in labels with no predicted samples.\n",
      "  'precision', 'predicted', average, warn_for)\n",
      "/anaconda3/lib/python3.7/site-packages/sklearn/metrics/classification.py:1143: UndefinedMetricWarning: F-score is ill-defined and being set to 0.0 in labels with no predicted samples.\n",
      "  'precision', 'predicted', average, warn_for)\n",
      "/anaconda3/lib/python3.7/site-packages/sklearn/metrics/classification.py:1143: UndefinedMetricWarning: F-score is ill-defined and being set to 0.0 in labels with no predicted samples.\n",
      "  'precision', 'predicted', average, warn_for)\n"
     ]
    },
    {
     "name": "stdout",
     "output_type": "stream",
     "text": [
      "[CV]  criterion=gini, max_depth=2, min_samples_leaf=3, min_samples_split=5, score=0.2392277202403785, total=   0.1s\n",
      "[CV] criterion=gini, max_depth=2, min_samples_leaf=3, min_samples_split=5 \n",
      "[CV]  criterion=gini, max_depth=2, min_samples_leaf=3, min_samples_split=5, score=0.23922935115032554, total=   0.1s\n",
      "[CV] criterion=gini, max_depth=2, min_samples_leaf=3, min_samples_split=5 \n"
     ]
    },
    {
     "name": "stderr",
     "output_type": "stream",
     "text": [
      "/anaconda3/lib/python3.7/site-packages/sklearn/metrics/classification.py:1143: UndefinedMetricWarning: F-score is ill-defined and being set to 0.0 in labels with no predicted samples.\n",
      "  'precision', 'predicted', average, warn_for)\n",
      "/anaconda3/lib/python3.7/site-packages/sklearn/metrics/classification.py:1143: UndefinedMetricWarning: F-score is ill-defined and being set to 0.0 in labels with no predicted samples.\n",
      "  'precision', 'predicted', average, warn_for)\n",
      "/anaconda3/lib/python3.7/site-packages/sklearn/metrics/classification.py:1143: UndefinedMetricWarning: F-score is ill-defined and being set to 0.0 in labels with no predicted samples.\n",
      "  'precision', 'predicted', average, warn_for)\n",
      "/anaconda3/lib/python3.7/site-packages/sklearn/metrics/classification.py:1143: UndefinedMetricWarning: F-score is ill-defined and being set to 0.0 in labels with no predicted samples.\n",
      "  'precision', 'predicted', average, warn_for)\n"
     ]
    },
    {
     "name": "stdout",
     "output_type": "stream",
     "text": [
      "[CV]  criterion=gini, max_depth=2, min_samples_leaf=3, min_samples_split=5, score=0.23923699914748509, total=   0.1s\n",
      "[CV] criterion=gini, max_depth=2, min_samples_leaf=3, min_samples_split=10 \n",
      "[CV]  criterion=gini, max_depth=2, min_samples_leaf=3, min_samples_split=10, score=0.2392277202403785, total=   0.1s\n",
      "[CV] criterion=gini, max_depth=2, min_samples_leaf=3, min_samples_split=10 \n"
     ]
    },
    {
     "name": "stderr",
     "output_type": "stream",
     "text": [
      "/anaconda3/lib/python3.7/site-packages/sklearn/metrics/classification.py:1143: UndefinedMetricWarning: F-score is ill-defined and being set to 0.0 in labels with no predicted samples.\n",
      "  'precision', 'predicted', average, warn_for)\n",
      "/anaconda3/lib/python3.7/site-packages/sklearn/metrics/classification.py:1143: UndefinedMetricWarning: F-score is ill-defined and being set to 0.0 in labels with no predicted samples.\n",
      "  'precision', 'predicted', average, warn_for)\n",
      "/anaconda3/lib/python3.7/site-packages/sklearn/metrics/classification.py:1143: UndefinedMetricWarning: F-score is ill-defined and being set to 0.0 in labels with no predicted samples.\n",
      "  'precision', 'predicted', average, warn_for)\n",
      "/anaconda3/lib/python3.7/site-packages/sklearn/metrics/classification.py:1143: UndefinedMetricWarning: F-score is ill-defined and being set to 0.0 in labels with no predicted samples.\n",
      "  'precision', 'predicted', average, warn_for)\n"
     ]
    },
    {
     "name": "stdout",
     "output_type": "stream",
     "text": [
      "[CV]  criterion=gini, max_depth=2, min_samples_leaf=3, min_samples_split=10, score=0.23922935115032554, total=   0.1s\n",
      "[CV] criterion=gini, max_depth=2, min_samples_leaf=3, min_samples_split=10 \n",
      "[CV]  criterion=gini, max_depth=2, min_samples_leaf=3, min_samples_split=10, score=0.23923699914748509, total=   0.1s\n",
      "[CV] criterion=gini, max_depth=2, min_samples_leaf=4, min_samples_split=2 \n"
     ]
    },
    {
     "name": "stderr",
     "output_type": "stream",
     "text": [
      "/anaconda3/lib/python3.7/site-packages/sklearn/metrics/classification.py:1143: UndefinedMetricWarning: F-score is ill-defined and being set to 0.0 in labels with no predicted samples.\n",
      "  'precision', 'predicted', average, warn_for)\n",
      "/anaconda3/lib/python3.7/site-packages/sklearn/metrics/classification.py:1143: UndefinedMetricWarning: F-score is ill-defined and being set to 0.0 in labels with no predicted samples.\n",
      "  'precision', 'predicted', average, warn_for)\n",
      "/anaconda3/lib/python3.7/site-packages/sklearn/metrics/classification.py:1143: UndefinedMetricWarning: F-score is ill-defined and being set to 0.0 in labels with no predicted samples.\n",
      "  'precision', 'predicted', average, warn_for)\n",
      "/anaconda3/lib/python3.7/site-packages/sklearn/metrics/classification.py:1143: UndefinedMetricWarning: F-score is ill-defined and being set to 0.0 in labels with no predicted samples.\n",
      "  'precision', 'predicted', average, warn_for)\n"
     ]
    },
    {
     "name": "stdout",
     "output_type": "stream",
     "text": [
      "[CV]  criterion=gini, max_depth=2, min_samples_leaf=4, min_samples_split=2, score=0.2392277202403785, total=   0.1s\n",
      "[CV] criterion=gini, max_depth=2, min_samples_leaf=4, min_samples_split=2 \n",
      "[CV]  criterion=gini, max_depth=2, min_samples_leaf=4, min_samples_split=2, score=0.23922935115032554, total=   0.1s\n",
      "[CV] criterion=gini, max_depth=2, min_samples_leaf=4, min_samples_split=2 \n"
     ]
    },
    {
     "name": "stderr",
     "output_type": "stream",
     "text": [
      "/anaconda3/lib/python3.7/site-packages/sklearn/metrics/classification.py:1143: UndefinedMetricWarning: F-score is ill-defined and being set to 0.0 in labels with no predicted samples.\n",
      "  'precision', 'predicted', average, warn_for)\n",
      "/anaconda3/lib/python3.7/site-packages/sklearn/metrics/classification.py:1143: UndefinedMetricWarning: F-score is ill-defined and being set to 0.0 in labels with no predicted samples.\n",
      "  'precision', 'predicted', average, warn_for)\n",
      "/anaconda3/lib/python3.7/site-packages/sklearn/metrics/classification.py:1143: UndefinedMetricWarning: F-score is ill-defined and being set to 0.0 in labels with no predicted samples.\n",
      "  'precision', 'predicted', average, warn_for)\n",
      "/anaconda3/lib/python3.7/site-packages/sklearn/metrics/classification.py:1143: UndefinedMetricWarning: F-score is ill-defined and being set to 0.0 in labels with no predicted samples.\n",
      "  'precision', 'predicted', average, warn_for)\n"
     ]
    },
    {
     "name": "stdout",
     "output_type": "stream",
     "text": [
      "[CV]  criterion=gini, max_depth=2, min_samples_leaf=4, min_samples_split=2, score=0.23923699914748509, total=   0.1s\n",
      "[CV] criterion=gini, max_depth=2, min_samples_leaf=4, min_samples_split=5 \n",
      "[CV]  criterion=gini, max_depth=2, min_samples_leaf=4, min_samples_split=5, score=0.2392277202403785, total=   0.1s\n",
      "[CV] criterion=gini, max_depth=2, min_samples_leaf=4, min_samples_split=5 \n"
     ]
    },
    {
     "name": "stderr",
     "output_type": "stream",
     "text": [
      "/anaconda3/lib/python3.7/site-packages/sklearn/metrics/classification.py:1143: UndefinedMetricWarning: F-score is ill-defined and being set to 0.0 in labels with no predicted samples.\n",
      "  'precision', 'predicted', average, warn_for)\n",
      "/anaconda3/lib/python3.7/site-packages/sklearn/metrics/classification.py:1143: UndefinedMetricWarning: F-score is ill-defined and being set to 0.0 in labels with no predicted samples.\n",
      "  'precision', 'predicted', average, warn_for)\n",
      "/anaconda3/lib/python3.7/site-packages/sklearn/metrics/classification.py:1143: UndefinedMetricWarning: F-score is ill-defined and being set to 0.0 in labels with no predicted samples.\n",
      "  'precision', 'predicted', average, warn_for)\n",
      "/anaconda3/lib/python3.7/site-packages/sklearn/metrics/classification.py:1143: UndefinedMetricWarning: F-score is ill-defined and being set to 0.0 in labels with no predicted samples.\n",
      "  'precision', 'predicted', average, warn_for)\n"
     ]
    },
    {
     "name": "stdout",
     "output_type": "stream",
     "text": [
      "[CV]  criterion=gini, max_depth=2, min_samples_leaf=4, min_samples_split=5, score=0.23922935115032554, total=   0.1s\n",
      "[CV] criterion=gini, max_depth=2, min_samples_leaf=4, min_samples_split=5 \n",
      "[CV]  criterion=gini, max_depth=2, min_samples_leaf=4, min_samples_split=5, score=0.23923699914748509, total=   0.2s\n",
      "[CV] criterion=gini, max_depth=2, min_samples_leaf=4, min_samples_split=10 \n"
     ]
    },
    {
     "name": "stderr",
     "output_type": "stream",
     "text": [
      "/anaconda3/lib/python3.7/site-packages/sklearn/metrics/classification.py:1143: UndefinedMetricWarning: F-score is ill-defined and being set to 0.0 in labels with no predicted samples.\n",
      "  'precision', 'predicted', average, warn_for)\n",
      "/anaconda3/lib/python3.7/site-packages/sklearn/metrics/classification.py:1143: UndefinedMetricWarning: F-score is ill-defined and being set to 0.0 in labels with no predicted samples.\n",
      "  'precision', 'predicted', average, warn_for)\n",
      "/anaconda3/lib/python3.7/site-packages/sklearn/metrics/classification.py:1143: UndefinedMetricWarning: F-score is ill-defined and being set to 0.0 in labels with no predicted samples.\n",
      "  'precision', 'predicted', average, warn_for)\n",
      "/anaconda3/lib/python3.7/site-packages/sklearn/metrics/classification.py:1143: UndefinedMetricWarning: F-score is ill-defined and being set to 0.0 in labels with no predicted samples.\n",
      "  'precision', 'predicted', average, warn_for)\n",
      "/anaconda3/lib/python3.7/site-packages/sklearn/metrics/classification.py:1143: UndefinedMetricWarning: F-score is ill-defined and being set to 0.0 in labels with no predicted samples.\n",
      "  'precision', 'predicted', average, warn_for)\n"
     ]
    },
    {
     "name": "stdout",
     "output_type": "stream",
     "text": [
      "[CV]  criterion=gini, max_depth=2, min_samples_leaf=4, min_samples_split=10, score=0.2392277202403785, total=   0.2s\n",
      "[CV] criterion=gini, max_depth=2, min_samples_leaf=4, min_samples_split=10 \n",
      "[CV]  criterion=gini, max_depth=2, min_samples_leaf=4, min_samples_split=10, score=0.23922935115032554, total=   0.2s\n",
      "[CV] criterion=gini, max_depth=2, min_samples_leaf=4, min_samples_split=10 \n"
     ]
    },
    {
     "name": "stderr",
     "output_type": "stream",
     "text": [
      "/anaconda3/lib/python3.7/site-packages/sklearn/metrics/classification.py:1143: UndefinedMetricWarning: F-score is ill-defined and being set to 0.0 in labels with no predicted samples.\n",
      "  'precision', 'predicted', average, warn_for)\n",
      "/anaconda3/lib/python3.7/site-packages/sklearn/metrics/classification.py:1143: UndefinedMetricWarning: F-score is ill-defined and being set to 0.0 in labels with no predicted samples.\n",
      "  'precision', 'predicted', average, warn_for)\n",
      "/anaconda3/lib/python3.7/site-packages/sklearn/metrics/classification.py:1143: UndefinedMetricWarning: F-score is ill-defined and being set to 0.0 in labels with no predicted samples.\n",
      "  'precision', 'predicted', average, warn_for)\n"
     ]
    },
    {
     "name": "stdout",
     "output_type": "stream",
     "text": [
      "[CV]  criterion=gini, max_depth=2, min_samples_leaf=4, min_samples_split=10, score=0.23923699914748509, total=   0.2s\n",
      "[CV] criterion=gini, max_depth=2, min_samples_leaf=5, min_samples_split=2 \n"
     ]
    },
    {
     "name": "stderr",
     "output_type": "stream",
     "text": [
      "/anaconda3/lib/python3.7/site-packages/sklearn/metrics/classification.py:1143: UndefinedMetricWarning: F-score is ill-defined and being set to 0.0 in labels with no predicted samples.\n",
      "  'precision', 'predicted', average, warn_for)\n",
      "/anaconda3/lib/python3.7/site-packages/sklearn/metrics/classification.py:1143: UndefinedMetricWarning: F-score is ill-defined and being set to 0.0 in labels with no predicted samples.\n",
      "  'precision', 'predicted', average, warn_for)\n"
     ]
    },
    {
     "name": "stdout",
     "output_type": "stream",
     "text": [
      "[CV]  criterion=gini, max_depth=2, min_samples_leaf=5, min_samples_split=2, score=0.2392277202403785, total=   0.2s\n",
      "[CV] criterion=gini, max_depth=2, min_samples_leaf=5, min_samples_split=2 \n"
     ]
    },
    {
     "name": "stderr",
     "output_type": "stream",
     "text": [
      "/anaconda3/lib/python3.7/site-packages/sklearn/metrics/classification.py:1143: UndefinedMetricWarning: F-score is ill-defined and being set to 0.0 in labels with no predicted samples.\n",
      "  'precision', 'predicted', average, warn_for)\n",
      "/anaconda3/lib/python3.7/site-packages/sklearn/metrics/classification.py:1143: UndefinedMetricWarning: F-score is ill-defined and being set to 0.0 in labels with no predicted samples.\n",
      "  'precision', 'predicted', average, warn_for)\n"
     ]
    },
    {
     "name": "stdout",
     "output_type": "stream",
     "text": [
      "[CV]  criterion=gini, max_depth=2, min_samples_leaf=5, min_samples_split=2, score=0.23922935115032554, total=   0.2s\n",
      "[CV] criterion=gini, max_depth=2, min_samples_leaf=5, min_samples_split=2 \n",
      "[CV]  criterion=gini, max_depth=2, min_samples_leaf=5, min_samples_split=2, score=0.23923699914748509, total=   0.2s\n",
      "[CV] criterion=gini, max_depth=2, min_samples_leaf=5, min_samples_split=5 \n"
     ]
    },
    {
     "name": "stderr",
     "output_type": "stream",
     "text": [
      "/anaconda3/lib/python3.7/site-packages/sklearn/metrics/classification.py:1143: UndefinedMetricWarning: F-score is ill-defined and being set to 0.0 in labels with no predicted samples.\n",
      "  'precision', 'predicted', average, warn_for)\n",
      "/anaconda3/lib/python3.7/site-packages/sklearn/metrics/classification.py:1143: UndefinedMetricWarning: F-score is ill-defined and being set to 0.0 in labels with no predicted samples.\n",
      "  'precision', 'predicted', average, warn_for)\n",
      "/anaconda3/lib/python3.7/site-packages/sklearn/metrics/classification.py:1143: UndefinedMetricWarning: F-score is ill-defined and being set to 0.0 in labels with no predicted samples.\n",
      "  'precision', 'predicted', average, warn_for)\n",
      "/anaconda3/lib/python3.7/site-packages/sklearn/metrics/classification.py:1143: UndefinedMetricWarning: F-score is ill-defined and being set to 0.0 in labels with no predicted samples.\n",
      "  'precision', 'predicted', average, warn_for)\n"
     ]
    },
    {
     "name": "stdout",
     "output_type": "stream",
     "text": [
      "[CV]  criterion=gini, max_depth=2, min_samples_leaf=5, min_samples_split=5, score=0.2392277202403785, total=   0.1s\n",
      "[CV] criterion=gini, max_depth=2, min_samples_leaf=5, min_samples_split=5 \n",
      "[CV]  criterion=gini, max_depth=2, min_samples_leaf=5, min_samples_split=5, score=0.23922935115032554, total=   0.1s\n",
      "[CV] criterion=gini, max_depth=2, min_samples_leaf=5, min_samples_split=5 \n"
     ]
    },
    {
     "name": "stderr",
     "output_type": "stream",
     "text": [
      "/anaconda3/lib/python3.7/site-packages/sklearn/metrics/classification.py:1143: UndefinedMetricWarning: F-score is ill-defined and being set to 0.0 in labels with no predicted samples.\n",
      "  'precision', 'predicted', average, warn_for)\n",
      "/anaconda3/lib/python3.7/site-packages/sklearn/metrics/classification.py:1143: UndefinedMetricWarning: F-score is ill-defined and being set to 0.0 in labels with no predicted samples.\n",
      "  'precision', 'predicted', average, warn_for)\n",
      "/anaconda3/lib/python3.7/site-packages/sklearn/metrics/classification.py:1143: UndefinedMetricWarning: F-score is ill-defined and being set to 0.0 in labels with no predicted samples.\n",
      "  'precision', 'predicted', average, warn_for)\n",
      "/anaconda3/lib/python3.7/site-packages/sklearn/metrics/classification.py:1143: UndefinedMetricWarning: F-score is ill-defined and being set to 0.0 in labels with no predicted samples.\n",
      "  'precision', 'predicted', average, warn_for)\n"
     ]
    },
    {
     "name": "stdout",
     "output_type": "stream",
     "text": [
      "[CV]  criterion=gini, max_depth=2, min_samples_leaf=5, min_samples_split=5, score=0.23923699914748509, total=   0.1s\n",
      "[CV] criterion=gini, max_depth=2, min_samples_leaf=5, min_samples_split=10 \n",
      "[CV]  criterion=gini, max_depth=2, min_samples_leaf=5, min_samples_split=10, score=0.2392277202403785, total=   0.1s\n",
      "[CV] criterion=gini, max_depth=2, min_samples_leaf=5, min_samples_split=10 \n"
     ]
    },
    {
     "name": "stderr",
     "output_type": "stream",
     "text": [
      "/anaconda3/lib/python3.7/site-packages/sklearn/metrics/classification.py:1143: UndefinedMetricWarning: F-score is ill-defined and being set to 0.0 in labels with no predicted samples.\n",
      "  'precision', 'predicted', average, warn_for)\n",
      "/anaconda3/lib/python3.7/site-packages/sklearn/metrics/classification.py:1143: UndefinedMetricWarning: F-score is ill-defined and being set to 0.0 in labels with no predicted samples.\n",
      "  'precision', 'predicted', average, warn_for)\n",
      "/anaconda3/lib/python3.7/site-packages/sklearn/metrics/classification.py:1143: UndefinedMetricWarning: F-score is ill-defined and being set to 0.0 in labels with no predicted samples.\n",
      "  'precision', 'predicted', average, warn_for)\n",
      "/anaconda3/lib/python3.7/site-packages/sklearn/metrics/classification.py:1143: UndefinedMetricWarning: F-score is ill-defined and being set to 0.0 in labels with no predicted samples.\n",
      "  'precision', 'predicted', average, warn_for)\n"
     ]
    },
    {
     "name": "stdout",
     "output_type": "stream",
     "text": [
      "[CV]  criterion=gini, max_depth=2, min_samples_leaf=5, min_samples_split=10, score=0.23922935115032554, total=   0.1s\n",
      "[CV] criterion=gini, max_depth=2, min_samples_leaf=5, min_samples_split=10 \n",
      "[CV]  criterion=gini, max_depth=2, min_samples_leaf=5, min_samples_split=10, score=0.23923699914748509, total=   0.1s\n",
      "[CV] criterion=gini, max_depth=2, min_samples_leaf=6, min_samples_split=2 \n"
     ]
    },
    {
     "name": "stderr",
     "output_type": "stream",
     "text": [
      "/anaconda3/lib/python3.7/site-packages/sklearn/metrics/classification.py:1143: UndefinedMetricWarning: F-score is ill-defined and being set to 0.0 in labels with no predicted samples.\n",
      "  'precision', 'predicted', average, warn_for)\n",
      "/anaconda3/lib/python3.7/site-packages/sklearn/metrics/classification.py:1143: UndefinedMetricWarning: F-score is ill-defined and being set to 0.0 in labels with no predicted samples.\n",
      "  'precision', 'predicted', average, warn_for)\n",
      "/anaconda3/lib/python3.7/site-packages/sklearn/metrics/classification.py:1143: UndefinedMetricWarning: F-score is ill-defined and being set to 0.0 in labels with no predicted samples.\n",
      "  'precision', 'predicted', average, warn_for)\n",
      "/anaconda3/lib/python3.7/site-packages/sklearn/metrics/classification.py:1143: UndefinedMetricWarning: F-score is ill-defined and being set to 0.0 in labels with no predicted samples.\n",
      "  'precision', 'predicted', average, warn_for)\n"
     ]
    },
    {
     "name": "stdout",
     "output_type": "stream",
     "text": [
      "[CV]  criterion=gini, max_depth=2, min_samples_leaf=6, min_samples_split=2, score=0.2392277202403785, total=   0.1s\n",
      "[CV] criterion=gini, max_depth=2, min_samples_leaf=6, min_samples_split=2 \n",
      "[CV]  criterion=gini, max_depth=2, min_samples_leaf=6, min_samples_split=2, score=0.23922935115032554, total=   0.1s\n",
      "[CV] criterion=gini, max_depth=2, min_samples_leaf=6, min_samples_split=2 \n"
     ]
    },
    {
     "name": "stderr",
     "output_type": "stream",
     "text": [
      "/anaconda3/lib/python3.7/site-packages/sklearn/metrics/classification.py:1143: UndefinedMetricWarning: F-score is ill-defined and being set to 0.0 in labels with no predicted samples.\n",
      "  'precision', 'predicted', average, warn_for)\n",
      "/anaconda3/lib/python3.7/site-packages/sklearn/metrics/classification.py:1143: UndefinedMetricWarning: F-score is ill-defined and being set to 0.0 in labels with no predicted samples.\n",
      "  'precision', 'predicted', average, warn_for)\n",
      "/anaconda3/lib/python3.7/site-packages/sklearn/metrics/classification.py:1143: UndefinedMetricWarning: F-score is ill-defined and being set to 0.0 in labels with no predicted samples.\n",
      "  'precision', 'predicted', average, warn_for)\n",
      "/anaconda3/lib/python3.7/site-packages/sklearn/metrics/classification.py:1143: UndefinedMetricWarning: F-score is ill-defined and being set to 0.0 in labels with no predicted samples.\n",
      "  'precision', 'predicted', average, warn_for)\n"
     ]
    },
    {
     "name": "stdout",
     "output_type": "stream",
     "text": [
      "[CV]  criterion=gini, max_depth=2, min_samples_leaf=6, min_samples_split=2, score=0.23923699914748509, total=   0.1s\n",
      "[CV] criterion=gini, max_depth=2, min_samples_leaf=6, min_samples_split=5 \n",
      "[CV]  criterion=gini, max_depth=2, min_samples_leaf=6, min_samples_split=5, score=0.2392277202403785, total=   0.1s\n",
      "[CV] criterion=gini, max_depth=2, min_samples_leaf=6, min_samples_split=5 \n"
     ]
    },
    {
     "name": "stderr",
     "output_type": "stream",
     "text": [
      "/anaconda3/lib/python3.7/site-packages/sklearn/metrics/classification.py:1143: UndefinedMetricWarning: F-score is ill-defined and being set to 0.0 in labels with no predicted samples.\n",
      "  'precision', 'predicted', average, warn_for)\n",
      "/anaconda3/lib/python3.7/site-packages/sklearn/metrics/classification.py:1143: UndefinedMetricWarning: F-score is ill-defined and being set to 0.0 in labels with no predicted samples.\n",
      "  'precision', 'predicted', average, warn_for)\n",
      "/anaconda3/lib/python3.7/site-packages/sklearn/metrics/classification.py:1143: UndefinedMetricWarning: F-score is ill-defined and being set to 0.0 in labels with no predicted samples.\n",
      "  'precision', 'predicted', average, warn_for)\n",
      "/anaconda3/lib/python3.7/site-packages/sklearn/metrics/classification.py:1143: UndefinedMetricWarning: F-score is ill-defined and being set to 0.0 in labels with no predicted samples.\n",
      "  'precision', 'predicted', average, warn_for)\n"
     ]
    },
    {
     "name": "stdout",
     "output_type": "stream",
     "text": [
      "[CV]  criterion=gini, max_depth=2, min_samples_leaf=6, min_samples_split=5, score=0.23922935115032554, total=   0.1s\n",
      "[CV] criterion=gini, max_depth=2, min_samples_leaf=6, min_samples_split=5 \n",
      "[CV]  criterion=gini, max_depth=2, min_samples_leaf=6, min_samples_split=5, score=0.23923699914748509, total=   0.1s\n",
      "[CV] criterion=gini, max_depth=2, min_samples_leaf=6, min_samples_split=10 \n"
     ]
    },
    {
     "name": "stderr",
     "output_type": "stream",
     "text": [
      "/anaconda3/lib/python3.7/site-packages/sklearn/metrics/classification.py:1143: UndefinedMetricWarning: F-score is ill-defined and being set to 0.0 in labels with no predicted samples.\n",
      "  'precision', 'predicted', average, warn_for)\n",
      "/anaconda3/lib/python3.7/site-packages/sklearn/metrics/classification.py:1143: UndefinedMetricWarning: F-score is ill-defined and being set to 0.0 in labels with no predicted samples.\n",
      "  'precision', 'predicted', average, warn_for)\n",
      "/anaconda3/lib/python3.7/site-packages/sklearn/metrics/classification.py:1143: UndefinedMetricWarning: F-score is ill-defined and being set to 0.0 in labels with no predicted samples.\n",
      "  'precision', 'predicted', average, warn_for)\n",
      "/anaconda3/lib/python3.7/site-packages/sklearn/metrics/classification.py:1143: UndefinedMetricWarning: F-score is ill-defined and being set to 0.0 in labels with no predicted samples.\n",
      "  'precision', 'predicted', average, warn_for)\n"
     ]
    },
    {
     "name": "stdout",
     "output_type": "stream",
     "text": [
      "[CV]  criterion=gini, max_depth=2, min_samples_leaf=6, min_samples_split=10, score=0.2392277202403785, total=   0.1s\n",
      "[CV] criterion=gini, max_depth=2, min_samples_leaf=6, min_samples_split=10 \n",
      "[CV]  criterion=gini, max_depth=2, min_samples_leaf=6, min_samples_split=10, score=0.23922935115032554, total=   0.1s\n",
      "[CV] criterion=gini, max_depth=2, min_samples_leaf=6, min_samples_split=10 \n"
     ]
    },
    {
     "name": "stderr",
     "output_type": "stream",
     "text": [
      "/anaconda3/lib/python3.7/site-packages/sklearn/metrics/classification.py:1143: UndefinedMetricWarning: F-score is ill-defined and being set to 0.0 in labels with no predicted samples.\n",
      "  'precision', 'predicted', average, warn_for)\n",
      "/anaconda3/lib/python3.7/site-packages/sklearn/metrics/classification.py:1143: UndefinedMetricWarning: F-score is ill-defined and being set to 0.0 in labels with no predicted samples.\n",
      "  'precision', 'predicted', average, warn_for)\n",
      "/anaconda3/lib/python3.7/site-packages/sklearn/metrics/classification.py:1143: UndefinedMetricWarning: F-score is ill-defined and being set to 0.0 in labels with no predicted samples.\n",
      "  'precision', 'predicted', average, warn_for)\n",
      "/anaconda3/lib/python3.7/site-packages/sklearn/metrics/classification.py:1143: UndefinedMetricWarning: F-score is ill-defined and being set to 0.0 in labels with no predicted samples.\n",
      "  'precision', 'predicted', average, warn_for)\n"
     ]
    },
    {
     "name": "stdout",
     "output_type": "stream",
     "text": [
      "[CV]  criterion=gini, max_depth=2, min_samples_leaf=6, min_samples_split=10, score=0.23923699914748509, total=   0.1s\n",
      "[CV] criterion=gini, max_depth=3, min_samples_leaf=1, min_samples_split=2 \n",
      "[CV]  criterion=gini, max_depth=3, min_samples_leaf=1, min_samples_split=2, score=0.27467958817018084, total=   0.1s\n",
      "[CV] criterion=gini, max_depth=3, min_samples_leaf=1, min_samples_split=2 \n"
     ]
    },
    {
     "name": "stderr",
     "output_type": "stream",
     "text": [
      "/anaconda3/lib/python3.7/site-packages/sklearn/metrics/classification.py:1143: UndefinedMetricWarning: F-score is ill-defined and being set to 0.0 in labels with no predicted samples.\n",
      "  'precision', 'predicted', average, warn_for)\n",
      "/anaconda3/lib/python3.7/site-packages/sklearn/metrics/classification.py:1143: UndefinedMetricWarning: F-score is ill-defined and being set to 0.0 in labels with no predicted samples.\n",
      "  'precision', 'predicted', average, warn_for)\n",
      "/anaconda3/lib/python3.7/site-packages/sklearn/metrics/classification.py:1143: UndefinedMetricWarning: F-score is ill-defined and being set to 0.0 in labels with no predicted samples.\n",
      "  'precision', 'predicted', average, warn_for)\n",
      "/anaconda3/lib/python3.7/site-packages/sklearn/metrics/classification.py:1143: UndefinedMetricWarning: F-score is ill-defined and being set to 0.0 in labels with no predicted samples.\n",
      "  'precision', 'predicted', average, warn_for)\n"
     ]
    },
    {
     "name": "stdout",
     "output_type": "stream",
     "text": [
      "[CV]  criterion=gini, max_depth=3, min_samples_leaf=1, min_samples_split=2, score=0.2960180668687544, total=   0.1s\n",
      "[CV] criterion=gini, max_depth=3, min_samples_leaf=1, min_samples_split=2 \n",
      "[CV]  criterion=gini, max_depth=3, min_samples_leaf=1, min_samples_split=2, score=0.2837953376664254, total=   0.1s\n",
      "[CV] criterion=gini, max_depth=3, min_samples_leaf=1, min_samples_split=5 \n"
     ]
    },
    {
     "name": "stderr",
     "output_type": "stream",
     "text": [
      "/anaconda3/lib/python3.7/site-packages/sklearn/metrics/classification.py:1143: UndefinedMetricWarning: F-score is ill-defined and being set to 0.0 in labels with no predicted samples.\n",
      "  'precision', 'predicted', average, warn_for)\n",
      "/anaconda3/lib/python3.7/site-packages/sklearn/metrics/classification.py:1143: UndefinedMetricWarning: F-score is ill-defined and being set to 0.0 in labels with no predicted samples.\n",
      "  'precision', 'predicted', average, warn_for)\n",
      "/anaconda3/lib/python3.7/site-packages/sklearn/metrics/classification.py:1143: UndefinedMetricWarning: F-score is ill-defined and being set to 0.0 in labels with no predicted samples.\n",
      "  'precision', 'predicted', average, warn_for)\n",
      "/anaconda3/lib/python3.7/site-packages/sklearn/metrics/classification.py:1143: UndefinedMetricWarning: F-score is ill-defined and being set to 0.0 in labels with no predicted samples.\n",
      "  'precision', 'predicted', average, warn_for)\n"
     ]
    },
    {
     "name": "stdout",
     "output_type": "stream",
     "text": [
      "[CV]  criterion=gini, max_depth=3, min_samples_leaf=1, min_samples_split=5, score=0.27467958817018084, total=   0.1s\n",
      "[CV] criterion=gini, max_depth=3, min_samples_leaf=1, min_samples_split=5 \n",
      "[CV]  criterion=gini, max_depth=3, min_samples_leaf=1, min_samples_split=5, score=0.2960180668687544, total=   0.1s\n",
      "[CV] criterion=gini, max_depth=3, min_samples_leaf=1, min_samples_split=5 \n"
     ]
    },
    {
     "name": "stderr",
     "output_type": "stream",
     "text": [
      "/anaconda3/lib/python3.7/site-packages/sklearn/metrics/classification.py:1143: UndefinedMetricWarning: F-score is ill-defined and being set to 0.0 in labels with no predicted samples.\n",
      "  'precision', 'predicted', average, warn_for)\n",
      "/anaconda3/lib/python3.7/site-packages/sklearn/metrics/classification.py:1143: UndefinedMetricWarning: F-score is ill-defined and being set to 0.0 in labels with no predicted samples.\n",
      "  'precision', 'predicted', average, warn_for)\n",
      "/anaconda3/lib/python3.7/site-packages/sklearn/metrics/classification.py:1143: UndefinedMetricWarning: F-score is ill-defined and being set to 0.0 in labels with no predicted samples.\n",
      "  'precision', 'predicted', average, warn_for)\n",
      "/anaconda3/lib/python3.7/site-packages/sklearn/metrics/classification.py:1143: UndefinedMetricWarning: F-score is ill-defined and being set to 0.0 in labels with no predicted samples.\n",
      "  'precision', 'predicted', average, warn_for)\n"
     ]
    },
    {
     "name": "stdout",
     "output_type": "stream",
     "text": [
      "[CV]  criterion=gini, max_depth=3, min_samples_leaf=1, min_samples_split=5, score=0.2837953376664254, total=   0.1s\n",
      "[CV] criterion=gini, max_depth=3, min_samples_leaf=1, min_samples_split=10 \n",
      "[CV]  criterion=gini, max_depth=3, min_samples_leaf=1, min_samples_split=10, score=0.27467958817018084, total=   0.1s\n",
      "[CV] criterion=gini, max_depth=3, min_samples_leaf=1, min_samples_split=10 \n"
     ]
    },
    {
     "name": "stderr",
     "output_type": "stream",
     "text": [
      "/anaconda3/lib/python3.7/site-packages/sklearn/metrics/classification.py:1143: UndefinedMetricWarning: F-score is ill-defined and being set to 0.0 in labels with no predicted samples.\n",
      "  'precision', 'predicted', average, warn_for)\n",
      "/anaconda3/lib/python3.7/site-packages/sklearn/metrics/classification.py:1143: UndefinedMetricWarning: F-score is ill-defined and being set to 0.0 in labels with no predicted samples.\n",
      "  'precision', 'predicted', average, warn_for)\n",
      "/anaconda3/lib/python3.7/site-packages/sklearn/metrics/classification.py:1143: UndefinedMetricWarning: F-score is ill-defined and being set to 0.0 in labels with no predicted samples.\n",
      "  'precision', 'predicted', average, warn_for)\n",
      "/anaconda3/lib/python3.7/site-packages/sklearn/metrics/classification.py:1143: UndefinedMetricWarning: F-score is ill-defined and being set to 0.0 in labels with no predicted samples.\n",
      "  'precision', 'predicted', average, warn_for)\n"
     ]
    },
    {
     "name": "stdout",
     "output_type": "stream",
     "text": [
      "[CV]  criterion=gini, max_depth=3, min_samples_leaf=1, min_samples_split=10, score=0.2960180668687544, total=   0.1s\n",
      "[CV] criterion=gini, max_depth=3, min_samples_leaf=1, min_samples_split=10 \n",
      "[CV]  criterion=gini, max_depth=3, min_samples_leaf=1, min_samples_split=10, score=0.2837953376664254, total=   0.2s\n",
      "[CV] criterion=gini, max_depth=3, min_samples_leaf=2, min_samples_split=2 \n"
     ]
    },
    {
     "name": "stderr",
     "output_type": "stream",
     "text": [
      "/anaconda3/lib/python3.7/site-packages/sklearn/metrics/classification.py:1143: UndefinedMetricWarning: F-score is ill-defined and being set to 0.0 in labels with no predicted samples.\n",
      "  'precision', 'predicted', average, warn_for)\n",
      "/anaconda3/lib/python3.7/site-packages/sklearn/metrics/classification.py:1143: UndefinedMetricWarning: F-score is ill-defined and being set to 0.0 in labels with no predicted samples.\n",
      "  'precision', 'predicted', average, warn_for)\n",
      "/anaconda3/lib/python3.7/site-packages/sklearn/metrics/classification.py:1143: UndefinedMetricWarning: F-score is ill-defined and being set to 0.0 in labels with no predicted samples.\n",
      "  'precision', 'predicted', average, warn_for)\n",
      "/anaconda3/lib/python3.7/site-packages/sklearn/metrics/classification.py:1143: UndefinedMetricWarning: F-score is ill-defined and being set to 0.0 in labels with no predicted samples.\n",
      "  'precision', 'predicted', average, warn_for)\n"
     ]
    },
    {
     "name": "stdout",
     "output_type": "stream",
     "text": [
      "[CV]  criterion=gini, max_depth=3, min_samples_leaf=2, min_samples_split=2, score=0.27467958817018084, total=   0.1s\n",
      "[CV] criterion=gini, max_depth=3, min_samples_leaf=2, min_samples_split=2 \n",
      "[CV]  criterion=gini, max_depth=3, min_samples_leaf=2, min_samples_split=2, score=0.2960180668687544, total=   0.1s\n",
      "[CV] criterion=gini, max_depth=3, min_samples_leaf=2, min_samples_split=2 \n"
     ]
    },
    {
     "name": "stderr",
     "output_type": "stream",
     "text": [
      "/anaconda3/lib/python3.7/site-packages/sklearn/metrics/classification.py:1143: UndefinedMetricWarning: F-score is ill-defined and being set to 0.0 in labels with no predicted samples.\n",
      "  'precision', 'predicted', average, warn_for)\n",
      "/anaconda3/lib/python3.7/site-packages/sklearn/metrics/classification.py:1143: UndefinedMetricWarning: F-score is ill-defined and being set to 0.0 in labels with no predicted samples.\n",
      "  'precision', 'predicted', average, warn_for)\n",
      "/anaconda3/lib/python3.7/site-packages/sklearn/metrics/classification.py:1143: UndefinedMetricWarning: F-score is ill-defined and being set to 0.0 in labels with no predicted samples.\n",
      "  'precision', 'predicted', average, warn_for)\n",
      "/anaconda3/lib/python3.7/site-packages/sklearn/metrics/classification.py:1143: UndefinedMetricWarning: F-score is ill-defined and being set to 0.0 in labels with no predicted samples.\n",
      "  'precision', 'predicted', average, warn_for)\n"
     ]
    },
    {
     "name": "stdout",
     "output_type": "stream",
     "text": [
      "[CV]  criterion=gini, max_depth=3, min_samples_leaf=2, min_samples_split=2, score=0.2837953376664254, total=   0.1s\n",
      "[CV] criterion=gini, max_depth=3, min_samples_leaf=2, min_samples_split=5 \n",
      "[CV]  criterion=gini, max_depth=3, min_samples_leaf=2, min_samples_split=5, score=0.27467958817018084, total=   0.1s\n",
      "[CV] criterion=gini, max_depth=3, min_samples_leaf=2, min_samples_split=5 \n"
     ]
    },
    {
     "name": "stderr",
     "output_type": "stream",
     "text": [
      "/anaconda3/lib/python3.7/site-packages/sklearn/metrics/classification.py:1143: UndefinedMetricWarning: F-score is ill-defined and being set to 0.0 in labels with no predicted samples.\n",
      "  'precision', 'predicted', average, warn_for)\n",
      "/anaconda3/lib/python3.7/site-packages/sklearn/metrics/classification.py:1143: UndefinedMetricWarning: F-score is ill-defined and being set to 0.0 in labels with no predicted samples.\n",
      "  'precision', 'predicted', average, warn_for)\n",
      "/anaconda3/lib/python3.7/site-packages/sklearn/metrics/classification.py:1143: UndefinedMetricWarning: F-score is ill-defined and being set to 0.0 in labels with no predicted samples.\n",
      "  'precision', 'predicted', average, warn_for)\n",
      "/anaconda3/lib/python3.7/site-packages/sklearn/metrics/classification.py:1143: UndefinedMetricWarning: F-score is ill-defined and being set to 0.0 in labels with no predicted samples.\n",
      "  'precision', 'predicted', average, warn_for)\n"
     ]
    },
    {
     "name": "stdout",
     "output_type": "stream",
     "text": [
      "[CV]  criterion=gini, max_depth=3, min_samples_leaf=2, min_samples_split=5, score=0.2960180668687544, total=   0.1s\n",
      "[CV] criterion=gini, max_depth=3, min_samples_leaf=2, min_samples_split=5 \n",
      "[CV]  criterion=gini, max_depth=3, min_samples_leaf=2, min_samples_split=5, score=0.2837953376664254, total=   0.1s\n",
      "[CV] criterion=gini, max_depth=3, min_samples_leaf=2, min_samples_split=10 \n"
     ]
    },
    {
     "name": "stderr",
     "output_type": "stream",
     "text": [
      "/anaconda3/lib/python3.7/site-packages/sklearn/metrics/classification.py:1143: UndefinedMetricWarning: F-score is ill-defined and being set to 0.0 in labels with no predicted samples.\n",
      "  'precision', 'predicted', average, warn_for)\n",
      "/anaconda3/lib/python3.7/site-packages/sklearn/metrics/classification.py:1143: UndefinedMetricWarning: F-score is ill-defined and being set to 0.0 in labels with no predicted samples.\n",
      "  'precision', 'predicted', average, warn_for)\n",
      "/anaconda3/lib/python3.7/site-packages/sklearn/metrics/classification.py:1143: UndefinedMetricWarning: F-score is ill-defined and being set to 0.0 in labels with no predicted samples.\n",
      "  'precision', 'predicted', average, warn_for)\n",
      "/anaconda3/lib/python3.7/site-packages/sklearn/metrics/classification.py:1143: UndefinedMetricWarning: F-score is ill-defined and being set to 0.0 in labels with no predicted samples.\n",
      "  'precision', 'predicted', average, warn_for)\n"
     ]
    },
    {
     "name": "stdout",
     "output_type": "stream",
     "text": [
      "[CV]  criterion=gini, max_depth=3, min_samples_leaf=2, min_samples_split=10, score=0.27467958817018084, total=   0.1s\n",
      "[CV] criterion=gini, max_depth=3, min_samples_leaf=2, min_samples_split=10 \n",
      "[CV]  criterion=gini, max_depth=3, min_samples_leaf=2, min_samples_split=10, score=0.2960180668687544, total=   0.1s\n",
      "[CV] criterion=gini, max_depth=3, min_samples_leaf=2, min_samples_split=10 \n"
     ]
    },
    {
     "name": "stderr",
     "output_type": "stream",
     "text": [
      "/anaconda3/lib/python3.7/site-packages/sklearn/metrics/classification.py:1143: UndefinedMetricWarning: F-score is ill-defined and being set to 0.0 in labels with no predicted samples.\n",
      "  'precision', 'predicted', average, warn_for)\n",
      "/anaconda3/lib/python3.7/site-packages/sklearn/metrics/classification.py:1143: UndefinedMetricWarning: F-score is ill-defined and being set to 0.0 in labels with no predicted samples.\n",
      "  'precision', 'predicted', average, warn_for)\n",
      "/anaconda3/lib/python3.7/site-packages/sklearn/metrics/classification.py:1143: UndefinedMetricWarning: F-score is ill-defined and being set to 0.0 in labels with no predicted samples.\n",
      "  'precision', 'predicted', average, warn_for)\n",
      "/anaconda3/lib/python3.7/site-packages/sklearn/metrics/classification.py:1143: UndefinedMetricWarning: F-score is ill-defined and being set to 0.0 in labels with no predicted samples.\n",
      "  'precision', 'predicted', average, warn_for)\n"
     ]
    },
    {
     "name": "stdout",
     "output_type": "stream",
     "text": [
      "[CV]  criterion=gini, max_depth=3, min_samples_leaf=2, min_samples_split=10, score=0.2837953376664254, total=   0.1s\n",
      "[CV] criterion=gini, max_depth=3, min_samples_leaf=3, min_samples_split=2 \n",
      "[CV]  criterion=gini, max_depth=3, min_samples_leaf=3, min_samples_split=2, score=0.27467958817018084, total=   0.1s\n",
      "[CV] criterion=gini, max_depth=3, min_samples_leaf=3, min_samples_split=2 \n"
     ]
    },
    {
     "name": "stderr",
     "output_type": "stream",
     "text": [
      "/anaconda3/lib/python3.7/site-packages/sklearn/metrics/classification.py:1143: UndefinedMetricWarning: F-score is ill-defined and being set to 0.0 in labels with no predicted samples.\n",
      "  'precision', 'predicted', average, warn_for)\n",
      "/anaconda3/lib/python3.7/site-packages/sklearn/metrics/classification.py:1143: UndefinedMetricWarning: F-score is ill-defined and being set to 0.0 in labels with no predicted samples.\n",
      "  'precision', 'predicted', average, warn_for)\n",
      "/anaconda3/lib/python3.7/site-packages/sklearn/metrics/classification.py:1143: UndefinedMetricWarning: F-score is ill-defined and being set to 0.0 in labels with no predicted samples.\n",
      "  'precision', 'predicted', average, warn_for)\n",
      "/anaconda3/lib/python3.7/site-packages/sklearn/metrics/classification.py:1143: UndefinedMetricWarning: F-score is ill-defined and being set to 0.0 in labels with no predicted samples.\n",
      "  'precision', 'predicted', average, warn_for)\n"
     ]
    },
    {
     "name": "stdout",
     "output_type": "stream",
     "text": [
      "[CV]  criterion=gini, max_depth=3, min_samples_leaf=3, min_samples_split=2, score=0.2960180668687544, total=   0.1s\n",
      "[CV] criterion=gini, max_depth=3, min_samples_leaf=3, min_samples_split=2 \n",
      "[CV]  criterion=gini, max_depth=3, min_samples_leaf=3, min_samples_split=2, score=0.2837953376664254, total=   0.1s\n",
      "[CV] criterion=gini, max_depth=3, min_samples_leaf=3, min_samples_split=5 \n"
     ]
    },
    {
     "name": "stderr",
     "output_type": "stream",
     "text": [
      "/anaconda3/lib/python3.7/site-packages/sklearn/metrics/classification.py:1143: UndefinedMetricWarning: F-score is ill-defined and being set to 0.0 in labels with no predicted samples.\n",
      "  'precision', 'predicted', average, warn_for)\n",
      "/anaconda3/lib/python3.7/site-packages/sklearn/metrics/classification.py:1143: UndefinedMetricWarning: F-score is ill-defined and being set to 0.0 in labels with no predicted samples.\n",
      "  'precision', 'predicted', average, warn_for)\n",
      "/anaconda3/lib/python3.7/site-packages/sklearn/metrics/classification.py:1143: UndefinedMetricWarning: F-score is ill-defined and being set to 0.0 in labels with no predicted samples.\n",
      "  'precision', 'predicted', average, warn_for)\n",
      "/anaconda3/lib/python3.7/site-packages/sklearn/metrics/classification.py:1143: UndefinedMetricWarning: F-score is ill-defined and being set to 0.0 in labels with no predicted samples.\n",
      "  'precision', 'predicted', average, warn_for)\n"
     ]
    },
    {
     "name": "stdout",
     "output_type": "stream",
     "text": [
      "[CV]  criterion=gini, max_depth=3, min_samples_leaf=3, min_samples_split=5, score=0.27467958817018084, total=   0.1s\n",
      "[CV] criterion=gini, max_depth=3, min_samples_leaf=3, min_samples_split=5 \n",
      "[CV]  criterion=gini, max_depth=3, min_samples_leaf=3, min_samples_split=5, score=0.2960180668687544, total=   0.1s\n",
      "[CV] criterion=gini, max_depth=3, min_samples_leaf=3, min_samples_split=5 \n"
     ]
    },
    {
     "name": "stderr",
     "output_type": "stream",
     "text": [
      "/anaconda3/lib/python3.7/site-packages/sklearn/metrics/classification.py:1143: UndefinedMetricWarning: F-score is ill-defined and being set to 0.0 in labels with no predicted samples.\n",
      "  'precision', 'predicted', average, warn_for)\n",
      "/anaconda3/lib/python3.7/site-packages/sklearn/metrics/classification.py:1143: UndefinedMetricWarning: F-score is ill-defined and being set to 0.0 in labels with no predicted samples.\n",
      "  'precision', 'predicted', average, warn_for)\n",
      "/anaconda3/lib/python3.7/site-packages/sklearn/metrics/classification.py:1143: UndefinedMetricWarning: F-score is ill-defined and being set to 0.0 in labels with no predicted samples.\n",
      "  'precision', 'predicted', average, warn_for)\n",
      "/anaconda3/lib/python3.7/site-packages/sklearn/metrics/classification.py:1143: UndefinedMetricWarning: F-score is ill-defined and being set to 0.0 in labels with no predicted samples.\n",
      "  'precision', 'predicted', average, warn_for)\n"
     ]
    },
    {
     "name": "stdout",
     "output_type": "stream",
     "text": [
      "[CV]  criterion=gini, max_depth=3, min_samples_leaf=3, min_samples_split=5, score=0.2837953376664254, total=   0.1s\n",
      "[CV] criterion=gini, max_depth=3, min_samples_leaf=3, min_samples_split=10 \n",
      "[CV]  criterion=gini, max_depth=3, min_samples_leaf=3, min_samples_split=10, score=0.27467958817018084, total=   0.1s\n",
      "[CV] criterion=gini, max_depth=3, min_samples_leaf=3, min_samples_split=10 \n"
     ]
    },
    {
     "name": "stderr",
     "output_type": "stream",
     "text": [
      "/anaconda3/lib/python3.7/site-packages/sklearn/metrics/classification.py:1143: UndefinedMetricWarning: F-score is ill-defined and being set to 0.0 in labels with no predicted samples.\n",
      "  'precision', 'predicted', average, warn_for)\n",
      "/anaconda3/lib/python3.7/site-packages/sklearn/metrics/classification.py:1143: UndefinedMetricWarning: F-score is ill-defined and being set to 0.0 in labels with no predicted samples.\n",
      "  'precision', 'predicted', average, warn_for)\n",
      "/anaconda3/lib/python3.7/site-packages/sklearn/metrics/classification.py:1143: UndefinedMetricWarning: F-score is ill-defined and being set to 0.0 in labels with no predicted samples.\n",
      "  'precision', 'predicted', average, warn_for)\n",
      "/anaconda3/lib/python3.7/site-packages/sklearn/metrics/classification.py:1143: UndefinedMetricWarning: F-score is ill-defined and being set to 0.0 in labels with no predicted samples.\n",
      "  'precision', 'predicted', average, warn_for)\n"
     ]
    },
    {
     "name": "stdout",
     "output_type": "stream",
     "text": [
      "[CV]  criterion=gini, max_depth=3, min_samples_leaf=3, min_samples_split=10, score=0.2960180668687544, total=   0.1s\n",
      "[CV] criterion=gini, max_depth=3, min_samples_leaf=3, min_samples_split=10 \n",
      "[CV]  criterion=gini, max_depth=3, min_samples_leaf=3, min_samples_split=10, score=0.2837953376664254, total=   0.1s\n",
      "[CV] criterion=gini, max_depth=3, min_samples_leaf=4, min_samples_split=2 \n"
     ]
    },
    {
     "name": "stderr",
     "output_type": "stream",
     "text": [
      "/anaconda3/lib/python3.7/site-packages/sklearn/metrics/classification.py:1143: UndefinedMetricWarning: F-score is ill-defined and being set to 0.0 in labels with no predicted samples.\n",
      "  'precision', 'predicted', average, warn_for)\n",
      "/anaconda3/lib/python3.7/site-packages/sklearn/metrics/classification.py:1143: UndefinedMetricWarning: F-score is ill-defined and being set to 0.0 in labels with no predicted samples.\n",
      "  'precision', 'predicted', average, warn_for)\n",
      "/anaconda3/lib/python3.7/site-packages/sklearn/metrics/classification.py:1143: UndefinedMetricWarning: F-score is ill-defined and being set to 0.0 in labels with no predicted samples.\n",
      "  'precision', 'predicted', average, warn_for)\n",
      "/anaconda3/lib/python3.7/site-packages/sklearn/metrics/classification.py:1143: UndefinedMetricWarning: F-score is ill-defined and being set to 0.0 in labels with no predicted samples.\n",
      "  'precision', 'predicted', average, warn_for)\n"
     ]
    },
    {
     "name": "stdout",
     "output_type": "stream",
     "text": [
      "[CV]  criterion=gini, max_depth=3, min_samples_leaf=4, min_samples_split=2, score=0.27467958817018084, total=   0.1s\n",
      "[CV] criterion=gini, max_depth=3, min_samples_leaf=4, min_samples_split=2 \n",
      "[CV]  criterion=gini, max_depth=3, min_samples_leaf=4, min_samples_split=2, score=0.2960180668687544, total=   0.1s\n",
      "[CV] criterion=gini, max_depth=3, min_samples_leaf=4, min_samples_split=2 \n"
     ]
    },
    {
     "name": "stderr",
     "output_type": "stream",
     "text": [
      "/anaconda3/lib/python3.7/site-packages/sklearn/metrics/classification.py:1143: UndefinedMetricWarning: F-score is ill-defined and being set to 0.0 in labels with no predicted samples.\n",
      "  'precision', 'predicted', average, warn_for)\n",
      "/anaconda3/lib/python3.7/site-packages/sklearn/metrics/classification.py:1143: UndefinedMetricWarning: F-score is ill-defined and being set to 0.0 in labels with no predicted samples.\n",
      "  'precision', 'predicted', average, warn_for)\n",
      "/anaconda3/lib/python3.7/site-packages/sklearn/metrics/classification.py:1143: UndefinedMetricWarning: F-score is ill-defined and being set to 0.0 in labels with no predicted samples.\n",
      "  'precision', 'predicted', average, warn_for)\n",
      "/anaconda3/lib/python3.7/site-packages/sklearn/metrics/classification.py:1143: UndefinedMetricWarning: F-score is ill-defined and being set to 0.0 in labels with no predicted samples.\n",
      "  'precision', 'predicted', average, warn_for)\n"
     ]
    },
    {
     "name": "stdout",
     "output_type": "stream",
     "text": [
      "[CV]  criterion=gini, max_depth=3, min_samples_leaf=4, min_samples_split=2, score=0.2837953376664254, total=   0.1s\n",
      "[CV] criterion=gini, max_depth=3, min_samples_leaf=4, min_samples_split=5 \n",
      "[CV]  criterion=gini, max_depth=3, min_samples_leaf=4, min_samples_split=5, score=0.27467958817018084, total=   0.1s\n",
      "[CV] criterion=gini, max_depth=3, min_samples_leaf=4, min_samples_split=5 \n"
     ]
    },
    {
     "name": "stderr",
     "output_type": "stream",
     "text": [
      "/anaconda3/lib/python3.7/site-packages/sklearn/metrics/classification.py:1143: UndefinedMetricWarning: F-score is ill-defined and being set to 0.0 in labels with no predicted samples.\n",
      "  'precision', 'predicted', average, warn_for)\n",
      "/anaconda3/lib/python3.7/site-packages/sklearn/metrics/classification.py:1143: UndefinedMetricWarning: F-score is ill-defined and being set to 0.0 in labels with no predicted samples.\n",
      "  'precision', 'predicted', average, warn_for)\n",
      "/anaconda3/lib/python3.7/site-packages/sklearn/metrics/classification.py:1143: UndefinedMetricWarning: F-score is ill-defined and being set to 0.0 in labels with no predicted samples.\n",
      "  'precision', 'predicted', average, warn_for)\n",
      "/anaconda3/lib/python3.7/site-packages/sklearn/metrics/classification.py:1143: UndefinedMetricWarning: F-score is ill-defined and being set to 0.0 in labels with no predicted samples.\n",
      "  'precision', 'predicted', average, warn_for)\n"
     ]
    },
    {
     "name": "stdout",
     "output_type": "stream",
     "text": [
      "[CV]  criterion=gini, max_depth=3, min_samples_leaf=4, min_samples_split=5, score=0.2960180668687544, total=   0.1s\n",
      "[CV] criterion=gini, max_depth=3, min_samples_leaf=4, min_samples_split=5 \n",
      "[CV]  criterion=gini, max_depth=3, min_samples_leaf=4, min_samples_split=5, score=0.2837953376664254, total=   0.1s\n",
      "[CV] criterion=gini, max_depth=3, min_samples_leaf=4, min_samples_split=10 \n"
     ]
    },
    {
     "name": "stderr",
     "output_type": "stream",
     "text": [
      "/anaconda3/lib/python3.7/site-packages/sklearn/metrics/classification.py:1143: UndefinedMetricWarning: F-score is ill-defined and being set to 0.0 in labels with no predicted samples.\n",
      "  'precision', 'predicted', average, warn_for)\n",
      "/anaconda3/lib/python3.7/site-packages/sklearn/metrics/classification.py:1143: UndefinedMetricWarning: F-score is ill-defined and being set to 0.0 in labels with no predicted samples.\n",
      "  'precision', 'predicted', average, warn_for)\n",
      "/anaconda3/lib/python3.7/site-packages/sklearn/metrics/classification.py:1143: UndefinedMetricWarning: F-score is ill-defined and being set to 0.0 in labels with no predicted samples.\n",
      "  'precision', 'predicted', average, warn_for)\n",
      "/anaconda3/lib/python3.7/site-packages/sklearn/metrics/classification.py:1143: UndefinedMetricWarning: F-score is ill-defined and being set to 0.0 in labels with no predicted samples.\n",
      "  'precision', 'predicted', average, warn_for)\n"
     ]
    },
    {
     "name": "stdout",
     "output_type": "stream",
     "text": [
      "[CV]  criterion=gini, max_depth=3, min_samples_leaf=4, min_samples_split=10, score=0.27467958817018084, total=   0.1s\n",
      "[CV] criterion=gini, max_depth=3, min_samples_leaf=4, min_samples_split=10 \n",
      "[CV]  criterion=gini, max_depth=3, min_samples_leaf=4, min_samples_split=10, score=0.2960180668687544, total=   0.1s\n",
      "[CV] criterion=gini, max_depth=3, min_samples_leaf=4, min_samples_split=10 \n"
     ]
    },
    {
     "name": "stderr",
     "output_type": "stream",
     "text": [
      "/anaconda3/lib/python3.7/site-packages/sklearn/metrics/classification.py:1143: UndefinedMetricWarning: F-score is ill-defined and being set to 0.0 in labels with no predicted samples.\n",
      "  'precision', 'predicted', average, warn_for)\n",
      "/anaconda3/lib/python3.7/site-packages/sklearn/metrics/classification.py:1143: UndefinedMetricWarning: F-score is ill-defined and being set to 0.0 in labels with no predicted samples.\n",
      "  'precision', 'predicted', average, warn_for)\n",
      "/anaconda3/lib/python3.7/site-packages/sklearn/metrics/classification.py:1143: UndefinedMetricWarning: F-score is ill-defined and being set to 0.0 in labels with no predicted samples.\n",
      "  'precision', 'predicted', average, warn_for)\n",
      "/anaconda3/lib/python3.7/site-packages/sklearn/metrics/classification.py:1143: UndefinedMetricWarning: F-score is ill-defined and being set to 0.0 in labels with no predicted samples.\n",
      "  'precision', 'predicted', average, warn_for)\n"
     ]
    },
    {
     "name": "stdout",
     "output_type": "stream",
     "text": [
      "[CV]  criterion=gini, max_depth=3, min_samples_leaf=4, min_samples_split=10, score=0.2837953376664254, total=   0.1s\n",
      "[CV] criterion=gini, max_depth=3, min_samples_leaf=5, min_samples_split=2 \n",
      "[CV]  criterion=gini, max_depth=3, min_samples_leaf=5, min_samples_split=2, score=0.27467958817018084, total=   0.1s\n",
      "[CV] criterion=gini, max_depth=3, min_samples_leaf=5, min_samples_split=2 \n"
     ]
    },
    {
     "name": "stderr",
     "output_type": "stream",
     "text": [
      "/anaconda3/lib/python3.7/site-packages/sklearn/metrics/classification.py:1143: UndefinedMetricWarning: F-score is ill-defined and being set to 0.0 in labels with no predicted samples.\n",
      "  'precision', 'predicted', average, warn_for)\n",
      "/anaconda3/lib/python3.7/site-packages/sklearn/metrics/classification.py:1143: UndefinedMetricWarning: F-score is ill-defined and being set to 0.0 in labels with no predicted samples.\n",
      "  'precision', 'predicted', average, warn_for)\n",
      "/anaconda3/lib/python3.7/site-packages/sklearn/metrics/classification.py:1143: UndefinedMetricWarning: F-score is ill-defined and being set to 0.0 in labels with no predicted samples.\n",
      "  'precision', 'predicted', average, warn_for)\n",
      "/anaconda3/lib/python3.7/site-packages/sklearn/metrics/classification.py:1143: UndefinedMetricWarning: F-score is ill-defined and being set to 0.0 in labels with no predicted samples.\n",
      "  'precision', 'predicted', average, warn_for)\n"
     ]
    },
    {
     "name": "stdout",
     "output_type": "stream",
     "text": [
      "[CV]  criterion=gini, max_depth=3, min_samples_leaf=5, min_samples_split=2, score=0.2960180668687544, total=   0.1s\n",
      "[CV] criterion=gini, max_depth=3, min_samples_leaf=5, min_samples_split=2 \n",
      "[CV]  criterion=gini, max_depth=3, min_samples_leaf=5, min_samples_split=2, score=0.2837953376664254, total=   0.1s\n",
      "[CV] criterion=gini, max_depth=3, min_samples_leaf=5, min_samples_split=5 \n"
     ]
    },
    {
     "name": "stderr",
     "output_type": "stream",
     "text": [
      "/anaconda3/lib/python3.7/site-packages/sklearn/metrics/classification.py:1143: UndefinedMetricWarning: F-score is ill-defined and being set to 0.0 in labels with no predicted samples.\n",
      "  'precision', 'predicted', average, warn_for)\n",
      "/anaconda3/lib/python3.7/site-packages/sklearn/metrics/classification.py:1143: UndefinedMetricWarning: F-score is ill-defined and being set to 0.0 in labels with no predicted samples.\n",
      "  'precision', 'predicted', average, warn_for)\n",
      "/anaconda3/lib/python3.7/site-packages/sklearn/metrics/classification.py:1143: UndefinedMetricWarning: F-score is ill-defined and being set to 0.0 in labels with no predicted samples.\n",
      "  'precision', 'predicted', average, warn_for)\n",
      "/anaconda3/lib/python3.7/site-packages/sklearn/metrics/classification.py:1143: UndefinedMetricWarning: F-score is ill-defined and being set to 0.0 in labels with no predicted samples.\n",
      "  'precision', 'predicted', average, warn_for)\n"
     ]
    },
    {
     "name": "stdout",
     "output_type": "stream",
     "text": [
      "[CV]  criterion=gini, max_depth=3, min_samples_leaf=5, min_samples_split=5, score=0.27467958817018084, total=   0.1s\n",
      "[CV] criterion=gini, max_depth=3, min_samples_leaf=5, min_samples_split=5 \n",
      "[CV]  criterion=gini, max_depth=3, min_samples_leaf=5, min_samples_split=5, score=0.2960180668687544, total=   0.1s\n",
      "[CV] criterion=gini, max_depth=3, min_samples_leaf=5, min_samples_split=5 \n"
     ]
    },
    {
     "name": "stderr",
     "output_type": "stream",
     "text": [
      "/anaconda3/lib/python3.7/site-packages/sklearn/metrics/classification.py:1143: UndefinedMetricWarning: F-score is ill-defined and being set to 0.0 in labels with no predicted samples.\n",
      "  'precision', 'predicted', average, warn_for)\n",
      "/anaconda3/lib/python3.7/site-packages/sklearn/metrics/classification.py:1143: UndefinedMetricWarning: F-score is ill-defined and being set to 0.0 in labels with no predicted samples.\n",
      "  'precision', 'predicted', average, warn_for)\n",
      "/anaconda3/lib/python3.7/site-packages/sklearn/metrics/classification.py:1143: UndefinedMetricWarning: F-score is ill-defined and being set to 0.0 in labels with no predicted samples.\n",
      "  'precision', 'predicted', average, warn_for)\n",
      "/anaconda3/lib/python3.7/site-packages/sklearn/metrics/classification.py:1143: UndefinedMetricWarning: F-score is ill-defined and being set to 0.0 in labels with no predicted samples.\n",
      "  'precision', 'predicted', average, warn_for)\n"
     ]
    },
    {
     "name": "stdout",
     "output_type": "stream",
     "text": [
      "[CV]  criterion=gini, max_depth=3, min_samples_leaf=5, min_samples_split=5, score=0.2837953376664254, total=   0.1s\n",
      "[CV] criterion=gini, max_depth=3, min_samples_leaf=5, min_samples_split=10 \n",
      "[CV]  criterion=gini, max_depth=3, min_samples_leaf=5, min_samples_split=10, score=0.27467958817018084, total=   0.1s\n",
      "[CV] criterion=gini, max_depth=3, min_samples_leaf=5, min_samples_split=10 \n"
     ]
    },
    {
     "name": "stderr",
     "output_type": "stream",
     "text": [
      "/anaconda3/lib/python3.7/site-packages/sklearn/metrics/classification.py:1143: UndefinedMetricWarning: F-score is ill-defined and being set to 0.0 in labels with no predicted samples.\n",
      "  'precision', 'predicted', average, warn_for)\n",
      "/anaconda3/lib/python3.7/site-packages/sklearn/metrics/classification.py:1143: UndefinedMetricWarning: F-score is ill-defined and being set to 0.0 in labels with no predicted samples.\n",
      "  'precision', 'predicted', average, warn_for)\n",
      "/anaconda3/lib/python3.7/site-packages/sklearn/metrics/classification.py:1143: UndefinedMetricWarning: F-score is ill-defined and being set to 0.0 in labels with no predicted samples.\n",
      "  'precision', 'predicted', average, warn_for)\n",
      "/anaconda3/lib/python3.7/site-packages/sklearn/metrics/classification.py:1143: UndefinedMetricWarning: F-score is ill-defined and being set to 0.0 in labels with no predicted samples.\n",
      "  'precision', 'predicted', average, warn_for)\n"
     ]
    },
    {
     "name": "stdout",
     "output_type": "stream",
     "text": [
      "[CV]  criterion=gini, max_depth=3, min_samples_leaf=5, min_samples_split=10, score=0.2960180668687544, total=   0.1s\n",
      "[CV] criterion=gini, max_depth=3, min_samples_leaf=5, min_samples_split=10 \n",
      "[CV]  criterion=gini, max_depth=3, min_samples_leaf=5, min_samples_split=10, score=0.2837953376664254, total=   0.1s\n",
      "[CV] criterion=gini, max_depth=3, min_samples_leaf=6, min_samples_split=2 \n"
     ]
    },
    {
     "name": "stderr",
     "output_type": "stream",
     "text": [
      "/anaconda3/lib/python3.7/site-packages/sklearn/metrics/classification.py:1143: UndefinedMetricWarning: F-score is ill-defined and being set to 0.0 in labels with no predicted samples.\n",
      "  'precision', 'predicted', average, warn_for)\n",
      "/anaconda3/lib/python3.7/site-packages/sklearn/metrics/classification.py:1143: UndefinedMetricWarning: F-score is ill-defined and being set to 0.0 in labels with no predicted samples.\n",
      "  'precision', 'predicted', average, warn_for)\n",
      "/anaconda3/lib/python3.7/site-packages/sklearn/metrics/classification.py:1143: UndefinedMetricWarning: F-score is ill-defined and being set to 0.0 in labels with no predicted samples.\n",
      "  'precision', 'predicted', average, warn_for)\n",
      "/anaconda3/lib/python3.7/site-packages/sklearn/metrics/classification.py:1143: UndefinedMetricWarning: F-score is ill-defined and being set to 0.0 in labels with no predicted samples.\n",
      "  'precision', 'predicted', average, warn_for)\n"
     ]
    },
    {
     "name": "stdout",
     "output_type": "stream",
     "text": [
      "[CV]  criterion=gini, max_depth=3, min_samples_leaf=6, min_samples_split=2, score=0.27467958817018084, total=   0.1s\n",
      "[CV] criterion=gini, max_depth=3, min_samples_leaf=6, min_samples_split=2 \n",
      "[CV]  criterion=gini, max_depth=3, min_samples_leaf=6, min_samples_split=2, score=0.2960180668687544, total=   0.1s\n",
      "[CV] criterion=gini, max_depth=3, min_samples_leaf=6, min_samples_split=2 \n"
     ]
    },
    {
     "name": "stderr",
     "output_type": "stream",
     "text": [
      "/anaconda3/lib/python3.7/site-packages/sklearn/metrics/classification.py:1143: UndefinedMetricWarning: F-score is ill-defined and being set to 0.0 in labels with no predicted samples.\n",
      "  'precision', 'predicted', average, warn_for)\n",
      "/anaconda3/lib/python3.7/site-packages/sklearn/metrics/classification.py:1143: UndefinedMetricWarning: F-score is ill-defined and being set to 0.0 in labels with no predicted samples.\n",
      "  'precision', 'predicted', average, warn_for)\n",
      "/anaconda3/lib/python3.7/site-packages/sklearn/metrics/classification.py:1143: UndefinedMetricWarning: F-score is ill-defined and being set to 0.0 in labels with no predicted samples.\n",
      "  'precision', 'predicted', average, warn_for)\n",
      "/anaconda3/lib/python3.7/site-packages/sklearn/metrics/classification.py:1143: UndefinedMetricWarning: F-score is ill-defined and being set to 0.0 in labels with no predicted samples.\n",
      "  'precision', 'predicted', average, warn_for)\n"
     ]
    },
    {
     "name": "stdout",
     "output_type": "stream",
     "text": [
      "[CV]  criterion=gini, max_depth=3, min_samples_leaf=6, min_samples_split=2, score=0.2837953376664254, total=   0.1s\n",
      "[CV] criterion=gini, max_depth=3, min_samples_leaf=6, min_samples_split=5 \n",
      "[CV]  criterion=gini, max_depth=3, min_samples_leaf=6, min_samples_split=5, score=0.27467958817018084, total=   0.1s\n",
      "[CV] criterion=gini, max_depth=3, min_samples_leaf=6, min_samples_split=5 \n"
     ]
    },
    {
     "name": "stderr",
     "output_type": "stream",
     "text": [
      "/anaconda3/lib/python3.7/site-packages/sklearn/metrics/classification.py:1143: UndefinedMetricWarning: F-score is ill-defined and being set to 0.0 in labels with no predicted samples.\n",
      "  'precision', 'predicted', average, warn_for)\n",
      "/anaconda3/lib/python3.7/site-packages/sklearn/metrics/classification.py:1143: UndefinedMetricWarning: F-score is ill-defined and being set to 0.0 in labels with no predicted samples.\n",
      "  'precision', 'predicted', average, warn_for)\n",
      "/anaconda3/lib/python3.7/site-packages/sklearn/metrics/classification.py:1143: UndefinedMetricWarning: F-score is ill-defined and being set to 0.0 in labels with no predicted samples.\n",
      "  'precision', 'predicted', average, warn_for)\n",
      "/anaconda3/lib/python3.7/site-packages/sklearn/metrics/classification.py:1143: UndefinedMetricWarning: F-score is ill-defined and being set to 0.0 in labels with no predicted samples.\n",
      "  'precision', 'predicted', average, warn_for)\n"
     ]
    },
    {
     "name": "stdout",
     "output_type": "stream",
     "text": [
      "[CV]  criterion=gini, max_depth=3, min_samples_leaf=6, min_samples_split=5, score=0.2960180668687544, total=   0.1s\n",
      "[CV] criterion=gini, max_depth=3, min_samples_leaf=6, min_samples_split=5 \n",
      "[CV]  criterion=gini, max_depth=3, min_samples_leaf=6, min_samples_split=5, score=0.2837953376664254, total=   0.1s\n",
      "[CV] criterion=gini, max_depth=3, min_samples_leaf=6, min_samples_split=10 \n"
     ]
    },
    {
     "name": "stderr",
     "output_type": "stream",
     "text": [
      "/anaconda3/lib/python3.7/site-packages/sklearn/metrics/classification.py:1143: UndefinedMetricWarning: F-score is ill-defined and being set to 0.0 in labels with no predicted samples.\n",
      "  'precision', 'predicted', average, warn_for)\n",
      "/anaconda3/lib/python3.7/site-packages/sklearn/metrics/classification.py:1143: UndefinedMetricWarning: F-score is ill-defined and being set to 0.0 in labels with no predicted samples.\n",
      "  'precision', 'predicted', average, warn_for)\n",
      "/anaconda3/lib/python3.7/site-packages/sklearn/metrics/classification.py:1143: UndefinedMetricWarning: F-score is ill-defined and being set to 0.0 in labels with no predicted samples.\n",
      "  'precision', 'predicted', average, warn_for)\n",
      "/anaconda3/lib/python3.7/site-packages/sklearn/metrics/classification.py:1143: UndefinedMetricWarning: F-score is ill-defined and being set to 0.0 in labels with no predicted samples.\n",
      "  'precision', 'predicted', average, warn_for)\n"
     ]
    },
    {
     "name": "stdout",
     "output_type": "stream",
     "text": [
      "[CV]  criterion=gini, max_depth=3, min_samples_leaf=6, min_samples_split=10, score=0.27467958817018084, total=   0.1s\n",
      "[CV] criterion=gini, max_depth=3, min_samples_leaf=6, min_samples_split=10 \n",
      "[CV]  criterion=gini, max_depth=3, min_samples_leaf=6, min_samples_split=10, score=0.2960180668687544, total=   0.1s\n",
      "[CV] criterion=gini, max_depth=3, min_samples_leaf=6, min_samples_split=10 \n"
     ]
    },
    {
     "name": "stderr",
     "output_type": "stream",
     "text": [
      "/anaconda3/lib/python3.7/site-packages/sklearn/metrics/classification.py:1143: UndefinedMetricWarning: F-score is ill-defined and being set to 0.0 in labels with no predicted samples.\n",
      "  'precision', 'predicted', average, warn_for)\n",
      "/anaconda3/lib/python3.7/site-packages/sklearn/metrics/classification.py:1143: UndefinedMetricWarning: F-score is ill-defined and being set to 0.0 in labels with no predicted samples.\n",
      "  'precision', 'predicted', average, warn_for)\n",
      "/anaconda3/lib/python3.7/site-packages/sklearn/metrics/classification.py:1143: UndefinedMetricWarning: F-score is ill-defined and being set to 0.0 in labels with no predicted samples.\n",
      "  'precision', 'predicted', average, warn_for)\n",
      "/anaconda3/lib/python3.7/site-packages/sklearn/metrics/classification.py:1143: UndefinedMetricWarning: F-score is ill-defined and being set to 0.0 in labels with no predicted samples.\n",
      "  'precision', 'predicted', average, warn_for)\n"
     ]
    },
    {
     "name": "stdout",
     "output_type": "stream",
     "text": [
      "[CV]  criterion=gini, max_depth=3, min_samples_leaf=6, min_samples_split=10, score=0.2837953376664254, total=   0.1s\n",
      "[CV] criterion=gini, max_depth=4, min_samples_leaf=1, min_samples_split=2 \n",
      "[CV]  criterion=gini, max_depth=4, min_samples_leaf=1, min_samples_split=2, score=0.2620926702823137, total=   0.2s\n",
      "[CV] criterion=gini, max_depth=4, min_samples_leaf=1, min_samples_split=2 \n"
     ]
    },
    {
     "name": "stderr",
     "output_type": "stream",
     "text": [
      "/anaconda3/lib/python3.7/site-packages/sklearn/metrics/classification.py:1143: UndefinedMetricWarning: F-score is ill-defined and being set to 0.0 in labels with no predicted samples.\n",
      "  'precision', 'predicted', average, warn_for)\n",
      "/anaconda3/lib/python3.7/site-packages/sklearn/metrics/classification.py:1143: UndefinedMetricWarning: F-score is ill-defined and being set to 0.0 in labels with no predicted samples.\n",
      "  'precision', 'predicted', average, warn_for)\n",
      "/anaconda3/lib/python3.7/site-packages/sklearn/metrics/classification.py:1143: UndefinedMetricWarning: F-score is ill-defined and being set to 0.0 in labels with no predicted samples.\n",
      "  'precision', 'predicted', average, warn_for)\n",
      "/anaconda3/lib/python3.7/site-packages/sklearn/metrics/classification.py:1143: UndefinedMetricWarning: F-score is ill-defined and being set to 0.0 in labels with no predicted samples.\n",
      "  'precision', 'predicted', average, warn_for)\n"
     ]
    },
    {
     "name": "stdout",
     "output_type": "stream",
     "text": [
      "[CV]  criterion=gini, max_depth=4, min_samples_leaf=1, min_samples_split=2, score=0.2925958817959215, total=   0.2s\n",
      "[CV] criterion=gini, max_depth=4, min_samples_leaf=1, min_samples_split=2 \n",
      "[CV]  criterion=gini, max_depth=4, min_samples_leaf=1, min_samples_split=2, score=0.2913166281560186, total=   0.2s\n",
      "[CV] criterion=gini, max_depth=4, min_samples_leaf=1, min_samples_split=5 \n"
     ]
    },
    {
     "name": "stderr",
     "output_type": "stream",
     "text": [
      "/anaconda3/lib/python3.7/site-packages/sklearn/metrics/classification.py:1143: UndefinedMetricWarning: F-score is ill-defined and being set to 0.0 in labels with no predicted samples.\n",
      "  'precision', 'predicted', average, warn_for)\n",
      "/anaconda3/lib/python3.7/site-packages/sklearn/metrics/classification.py:1143: UndefinedMetricWarning: F-score is ill-defined and being set to 0.0 in labels with no predicted samples.\n",
      "  'precision', 'predicted', average, warn_for)\n",
      "/anaconda3/lib/python3.7/site-packages/sklearn/metrics/classification.py:1143: UndefinedMetricWarning: F-score is ill-defined and being set to 0.0 in labels with no predicted samples.\n",
      "  'precision', 'predicted', average, warn_for)\n",
      "/anaconda3/lib/python3.7/site-packages/sklearn/metrics/classification.py:1143: UndefinedMetricWarning: F-score is ill-defined and being set to 0.0 in labels with no predicted samples.\n",
      "  'precision', 'predicted', average, warn_for)\n",
      "/anaconda3/lib/python3.7/site-packages/sklearn/metrics/classification.py:1143: UndefinedMetricWarning: F-score is ill-defined and being set to 0.0 in labels with no predicted samples.\n",
      "  'precision', 'predicted', average, warn_for)\n",
      "/anaconda3/lib/python3.7/site-packages/sklearn/metrics/classification.py:1143: UndefinedMetricWarning: F-score is ill-defined and being set to 0.0 in labels with no predicted samples.\n",
      "  'precision', 'predicted', average, warn_for)\n"
     ]
    },
    {
     "name": "stdout",
     "output_type": "stream",
     "text": [
      "[CV]  criterion=gini, max_depth=4, min_samples_leaf=1, min_samples_split=5, score=0.2620926702823137, total=   0.2s\n",
      "[CV] criterion=gini, max_depth=4, min_samples_leaf=1, min_samples_split=5 \n",
      "[CV]  criterion=gini, max_depth=4, min_samples_leaf=1, min_samples_split=5, score=0.2925958817959215, total=   0.2s\n",
      "[CV] criterion=gini, max_depth=4, min_samples_leaf=1, min_samples_split=5 \n"
     ]
    },
    {
     "name": "stderr",
     "output_type": "stream",
     "text": [
      "/anaconda3/lib/python3.7/site-packages/sklearn/metrics/classification.py:1143: UndefinedMetricWarning: F-score is ill-defined and being set to 0.0 in labels with no predicted samples.\n",
      "  'precision', 'predicted', average, warn_for)\n",
      "/anaconda3/lib/python3.7/site-packages/sklearn/metrics/classification.py:1143: UndefinedMetricWarning: F-score is ill-defined and being set to 0.0 in labels with no predicted samples.\n",
      "  'precision', 'predicted', average, warn_for)\n",
      "/anaconda3/lib/python3.7/site-packages/sklearn/metrics/classification.py:1143: UndefinedMetricWarning: F-score is ill-defined and being set to 0.0 in labels with no predicted samples.\n",
      "  'precision', 'predicted', average, warn_for)\n",
      "/anaconda3/lib/python3.7/site-packages/sklearn/metrics/classification.py:1143: UndefinedMetricWarning: F-score is ill-defined and being set to 0.0 in labels with no predicted samples.\n",
      "  'precision', 'predicted', average, warn_for)\n"
     ]
    },
    {
     "name": "stdout",
     "output_type": "stream",
     "text": [
      "[CV]  criterion=gini, max_depth=4, min_samples_leaf=1, min_samples_split=5, score=0.2913166281560186, total=   0.2s\n",
      "[CV] criterion=gini, max_depth=4, min_samples_leaf=1, min_samples_split=10 \n",
      "[CV]  criterion=gini, max_depth=4, min_samples_leaf=1, min_samples_split=10, score=0.2620926702823137, total=   0.2s\n",
      "[CV] criterion=gini, max_depth=4, min_samples_leaf=1, min_samples_split=10 \n"
     ]
    },
    {
     "name": "stderr",
     "output_type": "stream",
     "text": [
      "/anaconda3/lib/python3.7/site-packages/sklearn/metrics/classification.py:1143: UndefinedMetricWarning: F-score is ill-defined and being set to 0.0 in labels with no predicted samples.\n",
      "  'precision', 'predicted', average, warn_for)\n",
      "/anaconda3/lib/python3.7/site-packages/sklearn/metrics/classification.py:1143: UndefinedMetricWarning: F-score is ill-defined and being set to 0.0 in labels with no predicted samples.\n",
      "  'precision', 'predicted', average, warn_for)\n",
      "/anaconda3/lib/python3.7/site-packages/sklearn/metrics/classification.py:1143: UndefinedMetricWarning: F-score is ill-defined and being set to 0.0 in labels with no predicted samples.\n",
      "  'precision', 'predicted', average, warn_for)\n",
      "/anaconda3/lib/python3.7/site-packages/sklearn/metrics/classification.py:1143: UndefinedMetricWarning: F-score is ill-defined and being set to 0.0 in labels with no predicted samples.\n",
      "  'precision', 'predicted', average, warn_for)\n"
     ]
    },
    {
     "name": "stdout",
     "output_type": "stream",
     "text": [
      "[CV]  criterion=gini, max_depth=4, min_samples_leaf=1, min_samples_split=10, score=0.2925958817959215, total=   0.2s\n",
      "[CV] criterion=gini, max_depth=4, min_samples_leaf=1, min_samples_split=10 \n",
      "[CV]  criterion=gini, max_depth=4, min_samples_leaf=1, min_samples_split=10, score=0.2913166281560186, total=   0.2s\n",
      "[CV] criterion=gini, max_depth=4, min_samples_leaf=2, min_samples_split=2 \n"
     ]
    },
    {
     "name": "stderr",
     "output_type": "stream",
     "text": [
      "/anaconda3/lib/python3.7/site-packages/sklearn/metrics/classification.py:1143: UndefinedMetricWarning: F-score is ill-defined and being set to 0.0 in labels with no predicted samples.\n",
      "  'precision', 'predicted', average, warn_for)\n",
      "/anaconda3/lib/python3.7/site-packages/sklearn/metrics/classification.py:1143: UndefinedMetricWarning: F-score is ill-defined and being set to 0.0 in labels with no predicted samples.\n",
      "  'precision', 'predicted', average, warn_for)\n",
      "/anaconda3/lib/python3.7/site-packages/sklearn/metrics/classification.py:1143: UndefinedMetricWarning: F-score is ill-defined and being set to 0.0 in labels with no predicted samples.\n",
      "  'precision', 'predicted', average, warn_for)\n",
      "/anaconda3/lib/python3.7/site-packages/sklearn/metrics/classification.py:1143: UndefinedMetricWarning: F-score is ill-defined and being set to 0.0 in labels with no predicted samples.\n",
      "  'precision', 'predicted', average, warn_for)\n"
     ]
    },
    {
     "name": "stdout",
     "output_type": "stream",
     "text": [
      "[CV]  criterion=gini, max_depth=4, min_samples_leaf=2, min_samples_split=2, score=0.2620926702823137, total=   0.2s\n",
      "[CV] criterion=gini, max_depth=4, min_samples_leaf=2, min_samples_split=2 \n",
      "[CV]  criterion=gini, max_depth=4, min_samples_leaf=2, min_samples_split=2, score=0.2925958817959215, total=   0.2s\n",
      "[CV] criterion=gini, max_depth=4, min_samples_leaf=2, min_samples_split=2 \n"
     ]
    },
    {
     "name": "stderr",
     "output_type": "stream",
     "text": [
      "/anaconda3/lib/python3.7/site-packages/sklearn/metrics/classification.py:1143: UndefinedMetricWarning: F-score is ill-defined and being set to 0.0 in labels with no predicted samples.\n",
      "  'precision', 'predicted', average, warn_for)\n",
      "/anaconda3/lib/python3.7/site-packages/sklearn/metrics/classification.py:1143: UndefinedMetricWarning: F-score is ill-defined and being set to 0.0 in labels with no predicted samples.\n",
      "  'precision', 'predicted', average, warn_for)\n",
      "/anaconda3/lib/python3.7/site-packages/sklearn/metrics/classification.py:1143: UndefinedMetricWarning: F-score is ill-defined and being set to 0.0 in labels with no predicted samples.\n",
      "  'precision', 'predicted', average, warn_for)\n",
      "/anaconda3/lib/python3.7/site-packages/sklearn/metrics/classification.py:1143: UndefinedMetricWarning: F-score is ill-defined and being set to 0.0 in labels with no predicted samples.\n",
      "  'precision', 'predicted', average, warn_for)\n"
     ]
    },
    {
     "name": "stdout",
     "output_type": "stream",
     "text": [
      "[CV]  criterion=gini, max_depth=4, min_samples_leaf=2, min_samples_split=2, score=0.2913166281560186, total=   0.2s\n",
      "[CV] criterion=gini, max_depth=4, min_samples_leaf=2, min_samples_split=5 \n",
      "[CV]  criterion=gini, max_depth=4, min_samples_leaf=2, min_samples_split=5, score=0.2620926702823137, total=   0.2s\n",
      "[CV] criterion=gini, max_depth=4, min_samples_leaf=2, min_samples_split=5 \n"
     ]
    },
    {
     "name": "stderr",
     "output_type": "stream",
     "text": [
      "/anaconda3/lib/python3.7/site-packages/sklearn/metrics/classification.py:1143: UndefinedMetricWarning: F-score is ill-defined and being set to 0.0 in labels with no predicted samples.\n",
      "  'precision', 'predicted', average, warn_for)\n",
      "/anaconda3/lib/python3.7/site-packages/sklearn/metrics/classification.py:1143: UndefinedMetricWarning: F-score is ill-defined and being set to 0.0 in labels with no predicted samples.\n",
      "  'precision', 'predicted', average, warn_for)\n",
      "/anaconda3/lib/python3.7/site-packages/sklearn/metrics/classification.py:1143: UndefinedMetricWarning: F-score is ill-defined and being set to 0.0 in labels with no predicted samples.\n",
      "  'precision', 'predicted', average, warn_for)\n",
      "/anaconda3/lib/python3.7/site-packages/sklearn/metrics/classification.py:1143: UndefinedMetricWarning: F-score is ill-defined and being set to 0.0 in labels with no predicted samples.\n",
      "  'precision', 'predicted', average, warn_for)\n"
     ]
    },
    {
     "name": "stdout",
     "output_type": "stream",
     "text": [
      "[CV]  criterion=gini, max_depth=4, min_samples_leaf=2, min_samples_split=5, score=0.2925958817959215, total=   0.2s\n",
      "[CV] criterion=gini, max_depth=4, min_samples_leaf=2, min_samples_split=5 \n",
      "[CV]  criterion=gini, max_depth=4, min_samples_leaf=2, min_samples_split=5, score=0.2913166281560186, total=   0.2s\n",
      "[CV] criterion=gini, max_depth=4, min_samples_leaf=2, min_samples_split=10 \n"
     ]
    },
    {
     "name": "stderr",
     "output_type": "stream",
     "text": [
      "/anaconda3/lib/python3.7/site-packages/sklearn/metrics/classification.py:1143: UndefinedMetricWarning: F-score is ill-defined and being set to 0.0 in labels with no predicted samples.\n",
      "  'precision', 'predicted', average, warn_for)\n",
      "/anaconda3/lib/python3.7/site-packages/sklearn/metrics/classification.py:1143: UndefinedMetricWarning: F-score is ill-defined and being set to 0.0 in labels with no predicted samples.\n",
      "  'precision', 'predicted', average, warn_for)\n",
      "/anaconda3/lib/python3.7/site-packages/sklearn/metrics/classification.py:1143: UndefinedMetricWarning: F-score is ill-defined and being set to 0.0 in labels with no predicted samples.\n",
      "  'precision', 'predicted', average, warn_for)\n",
      "/anaconda3/lib/python3.7/site-packages/sklearn/metrics/classification.py:1143: UndefinedMetricWarning: F-score is ill-defined and being set to 0.0 in labels with no predicted samples.\n",
      "  'precision', 'predicted', average, warn_for)\n"
     ]
    },
    {
     "name": "stdout",
     "output_type": "stream",
     "text": [
      "[CV]  criterion=gini, max_depth=4, min_samples_leaf=2, min_samples_split=10, score=0.2620926702823137, total=   0.2s\n",
      "[CV] criterion=gini, max_depth=4, min_samples_leaf=2, min_samples_split=10 \n",
      "[CV]  criterion=gini, max_depth=4, min_samples_leaf=2, min_samples_split=10, score=0.2925958817959215, total=   0.2s\n",
      "[CV] criterion=gini, max_depth=4, min_samples_leaf=2, min_samples_split=10 \n"
     ]
    },
    {
     "name": "stderr",
     "output_type": "stream",
     "text": [
      "/anaconda3/lib/python3.7/site-packages/sklearn/metrics/classification.py:1143: UndefinedMetricWarning: F-score is ill-defined and being set to 0.0 in labels with no predicted samples.\n",
      "  'precision', 'predicted', average, warn_for)\n",
      "/anaconda3/lib/python3.7/site-packages/sklearn/metrics/classification.py:1143: UndefinedMetricWarning: F-score is ill-defined and being set to 0.0 in labels with no predicted samples.\n",
      "  'precision', 'predicted', average, warn_for)\n",
      "/anaconda3/lib/python3.7/site-packages/sklearn/metrics/classification.py:1143: UndefinedMetricWarning: F-score is ill-defined and being set to 0.0 in labels with no predicted samples.\n",
      "  'precision', 'predicted', average, warn_for)\n",
      "/anaconda3/lib/python3.7/site-packages/sklearn/metrics/classification.py:1143: UndefinedMetricWarning: F-score is ill-defined and being set to 0.0 in labels with no predicted samples.\n",
      "  'precision', 'predicted', average, warn_for)\n"
     ]
    },
    {
     "name": "stdout",
     "output_type": "stream",
     "text": [
      "[CV]  criterion=gini, max_depth=4, min_samples_leaf=2, min_samples_split=10, score=0.2913166281560186, total=   0.2s\n",
      "[CV] criterion=gini, max_depth=4, min_samples_leaf=3, min_samples_split=2 \n",
      "[CV]  criterion=gini, max_depth=4, min_samples_leaf=3, min_samples_split=2, score=0.2620926702823137, total=   0.2s\n",
      "[CV] criterion=gini, max_depth=4, min_samples_leaf=3, min_samples_split=2 \n"
     ]
    },
    {
     "name": "stderr",
     "output_type": "stream",
     "text": [
      "/anaconda3/lib/python3.7/site-packages/sklearn/metrics/classification.py:1143: UndefinedMetricWarning: F-score is ill-defined and being set to 0.0 in labels with no predicted samples.\n",
      "  'precision', 'predicted', average, warn_for)\n",
      "/anaconda3/lib/python3.7/site-packages/sklearn/metrics/classification.py:1143: UndefinedMetricWarning: F-score is ill-defined and being set to 0.0 in labels with no predicted samples.\n",
      "  'precision', 'predicted', average, warn_for)\n",
      "/anaconda3/lib/python3.7/site-packages/sklearn/metrics/classification.py:1143: UndefinedMetricWarning: F-score is ill-defined and being set to 0.0 in labels with no predicted samples.\n",
      "  'precision', 'predicted', average, warn_for)\n",
      "/anaconda3/lib/python3.7/site-packages/sklearn/metrics/classification.py:1143: UndefinedMetricWarning: F-score is ill-defined and being set to 0.0 in labels with no predicted samples.\n",
      "  'precision', 'predicted', average, warn_for)\n"
     ]
    },
    {
     "name": "stdout",
     "output_type": "stream",
     "text": [
      "[CV]  criterion=gini, max_depth=4, min_samples_leaf=3, min_samples_split=2, score=0.2925958817959215, total=   0.2s\n",
      "[CV] criterion=gini, max_depth=4, min_samples_leaf=3, min_samples_split=2 \n",
      "[CV]  criterion=gini, max_depth=4, min_samples_leaf=3, min_samples_split=2, score=0.2913166281560186, total=   0.2s\n",
      "[CV] criterion=gini, max_depth=4, min_samples_leaf=3, min_samples_split=5 \n"
     ]
    },
    {
     "name": "stderr",
     "output_type": "stream",
     "text": [
      "/anaconda3/lib/python3.7/site-packages/sklearn/metrics/classification.py:1143: UndefinedMetricWarning: F-score is ill-defined and being set to 0.0 in labels with no predicted samples.\n",
      "  'precision', 'predicted', average, warn_for)\n",
      "/anaconda3/lib/python3.7/site-packages/sklearn/metrics/classification.py:1143: UndefinedMetricWarning: F-score is ill-defined and being set to 0.0 in labels with no predicted samples.\n",
      "  'precision', 'predicted', average, warn_for)\n",
      "/anaconda3/lib/python3.7/site-packages/sklearn/metrics/classification.py:1143: UndefinedMetricWarning: F-score is ill-defined and being set to 0.0 in labels with no predicted samples.\n",
      "  'precision', 'predicted', average, warn_for)\n",
      "/anaconda3/lib/python3.7/site-packages/sklearn/metrics/classification.py:1143: UndefinedMetricWarning: F-score is ill-defined and being set to 0.0 in labels with no predicted samples.\n",
      "  'precision', 'predicted', average, warn_for)\n"
     ]
    },
    {
     "name": "stdout",
     "output_type": "stream",
     "text": [
      "[CV]  criterion=gini, max_depth=4, min_samples_leaf=3, min_samples_split=5, score=0.2620926702823137, total=   0.2s\n",
      "[CV] criterion=gini, max_depth=4, min_samples_leaf=3, min_samples_split=5 \n",
      "[CV]  criterion=gini, max_depth=4, min_samples_leaf=3, min_samples_split=5, score=0.2925958817959215, total=   0.2s\n",
      "[CV] criterion=gini, max_depth=4, min_samples_leaf=3, min_samples_split=5 \n"
     ]
    },
    {
     "name": "stderr",
     "output_type": "stream",
     "text": [
      "/anaconda3/lib/python3.7/site-packages/sklearn/metrics/classification.py:1143: UndefinedMetricWarning: F-score is ill-defined and being set to 0.0 in labels with no predicted samples.\n",
      "  'precision', 'predicted', average, warn_for)\n",
      "/anaconda3/lib/python3.7/site-packages/sklearn/metrics/classification.py:1143: UndefinedMetricWarning: F-score is ill-defined and being set to 0.0 in labels with no predicted samples.\n",
      "  'precision', 'predicted', average, warn_for)\n",
      "/anaconda3/lib/python3.7/site-packages/sklearn/metrics/classification.py:1143: UndefinedMetricWarning: F-score is ill-defined and being set to 0.0 in labels with no predicted samples.\n",
      "  'precision', 'predicted', average, warn_for)\n",
      "/anaconda3/lib/python3.7/site-packages/sklearn/metrics/classification.py:1143: UndefinedMetricWarning: F-score is ill-defined and being set to 0.0 in labels with no predicted samples.\n",
      "  'precision', 'predicted', average, warn_for)\n"
     ]
    },
    {
     "name": "stdout",
     "output_type": "stream",
     "text": [
      "[CV]  criterion=gini, max_depth=4, min_samples_leaf=3, min_samples_split=5, score=0.2913166281560186, total=   0.2s\n",
      "[CV] criterion=gini, max_depth=4, min_samples_leaf=3, min_samples_split=10 \n",
      "[CV]  criterion=gini, max_depth=4, min_samples_leaf=3, min_samples_split=10, score=0.2620926702823137, total=   0.2s\n",
      "[CV] criterion=gini, max_depth=4, min_samples_leaf=3, min_samples_split=10 \n"
     ]
    },
    {
     "name": "stderr",
     "output_type": "stream",
     "text": [
      "/anaconda3/lib/python3.7/site-packages/sklearn/metrics/classification.py:1143: UndefinedMetricWarning: F-score is ill-defined and being set to 0.0 in labels with no predicted samples.\n",
      "  'precision', 'predicted', average, warn_for)\n",
      "/anaconda3/lib/python3.7/site-packages/sklearn/metrics/classification.py:1143: UndefinedMetricWarning: F-score is ill-defined and being set to 0.0 in labels with no predicted samples.\n",
      "  'precision', 'predicted', average, warn_for)\n",
      "/anaconda3/lib/python3.7/site-packages/sklearn/metrics/classification.py:1143: UndefinedMetricWarning: F-score is ill-defined and being set to 0.0 in labels with no predicted samples.\n",
      "  'precision', 'predicted', average, warn_for)\n",
      "/anaconda3/lib/python3.7/site-packages/sklearn/metrics/classification.py:1143: UndefinedMetricWarning: F-score is ill-defined and being set to 0.0 in labels with no predicted samples.\n",
      "  'precision', 'predicted', average, warn_for)\n"
     ]
    },
    {
     "name": "stdout",
     "output_type": "stream",
     "text": [
      "[CV]  criterion=gini, max_depth=4, min_samples_leaf=3, min_samples_split=10, score=0.2925958817959215, total=   0.2s\n",
      "[CV] criterion=gini, max_depth=4, min_samples_leaf=3, min_samples_split=10 \n",
      "[CV]  criterion=gini, max_depth=4, min_samples_leaf=3, min_samples_split=10, score=0.2913166281560186, total=   0.2s\n",
      "[CV] criterion=gini, max_depth=4, min_samples_leaf=4, min_samples_split=2 \n"
     ]
    },
    {
     "name": "stderr",
     "output_type": "stream",
     "text": [
      "/anaconda3/lib/python3.7/site-packages/sklearn/metrics/classification.py:1143: UndefinedMetricWarning: F-score is ill-defined and being set to 0.0 in labels with no predicted samples.\n",
      "  'precision', 'predicted', average, warn_for)\n",
      "/anaconda3/lib/python3.7/site-packages/sklearn/metrics/classification.py:1143: UndefinedMetricWarning: F-score is ill-defined and being set to 0.0 in labels with no predicted samples.\n",
      "  'precision', 'predicted', average, warn_for)\n",
      "/anaconda3/lib/python3.7/site-packages/sklearn/metrics/classification.py:1143: UndefinedMetricWarning: F-score is ill-defined and being set to 0.0 in labels with no predicted samples.\n",
      "  'precision', 'predicted', average, warn_for)\n",
      "/anaconda3/lib/python3.7/site-packages/sklearn/metrics/classification.py:1143: UndefinedMetricWarning: F-score is ill-defined and being set to 0.0 in labels with no predicted samples.\n",
      "  'precision', 'predicted', average, warn_for)\n"
     ]
    },
    {
     "name": "stdout",
     "output_type": "stream",
     "text": [
      "[CV]  criterion=gini, max_depth=4, min_samples_leaf=4, min_samples_split=2, score=0.2620926702823137, total=   0.2s\n",
      "[CV] criterion=gini, max_depth=4, min_samples_leaf=4, min_samples_split=2 \n",
      "[CV]  criterion=gini, max_depth=4, min_samples_leaf=4, min_samples_split=2, score=0.2925958817959215, total=   0.1s\n",
      "[CV] criterion=gini, max_depth=4, min_samples_leaf=4, min_samples_split=2 \n"
     ]
    },
    {
     "name": "stderr",
     "output_type": "stream",
     "text": [
      "/anaconda3/lib/python3.7/site-packages/sklearn/metrics/classification.py:1143: UndefinedMetricWarning: F-score is ill-defined and being set to 0.0 in labels with no predicted samples.\n",
      "  'precision', 'predicted', average, warn_for)\n",
      "/anaconda3/lib/python3.7/site-packages/sklearn/metrics/classification.py:1143: UndefinedMetricWarning: F-score is ill-defined and being set to 0.0 in labels with no predicted samples.\n",
      "  'precision', 'predicted', average, warn_for)\n",
      "/anaconda3/lib/python3.7/site-packages/sklearn/metrics/classification.py:1143: UndefinedMetricWarning: F-score is ill-defined and being set to 0.0 in labels with no predicted samples.\n",
      "  'precision', 'predicted', average, warn_for)\n",
      "/anaconda3/lib/python3.7/site-packages/sklearn/metrics/classification.py:1143: UndefinedMetricWarning: F-score is ill-defined and being set to 0.0 in labels with no predicted samples.\n",
      "  'precision', 'predicted', average, warn_for)\n"
     ]
    },
    {
     "name": "stdout",
     "output_type": "stream",
     "text": [
      "[CV]  criterion=gini, max_depth=4, min_samples_leaf=4, min_samples_split=2, score=0.2913166281560186, total=   0.2s\n",
      "[CV] criterion=gini, max_depth=4, min_samples_leaf=4, min_samples_split=5 \n",
      "[CV]  criterion=gini, max_depth=4, min_samples_leaf=4, min_samples_split=5, score=0.2620926702823137, total=   0.2s\n",
      "[CV] criterion=gini, max_depth=4, min_samples_leaf=4, min_samples_split=5 \n"
     ]
    },
    {
     "name": "stderr",
     "output_type": "stream",
     "text": [
      "/anaconda3/lib/python3.7/site-packages/sklearn/metrics/classification.py:1143: UndefinedMetricWarning: F-score is ill-defined and being set to 0.0 in labels with no predicted samples.\n",
      "  'precision', 'predicted', average, warn_for)\n",
      "/anaconda3/lib/python3.7/site-packages/sklearn/metrics/classification.py:1143: UndefinedMetricWarning: F-score is ill-defined and being set to 0.0 in labels with no predicted samples.\n",
      "  'precision', 'predicted', average, warn_for)\n",
      "/anaconda3/lib/python3.7/site-packages/sklearn/metrics/classification.py:1143: UndefinedMetricWarning: F-score is ill-defined and being set to 0.0 in labels with no predicted samples.\n",
      "  'precision', 'predicted', average, warn_for)\n",
      "/anaconda3/lib/python3.7/site-packages/sklearn/metrics/classification.py:1143: UndefinedMetricWarning: F-score is ill-defined and being set to 0.0 in labels with no predicted samples.\n",
      "  'precision', 'predicted', average, warn_for)\n"
     ]
    },
    {
     "name": "stdout",
     "output_type": "stream",
     "text": [
      "[CV]  criterion=gini, max_depth=4, min_samples_leaf=4, min_samples_split=5, score=0.2925958817959215, total=   0.2s\n",
      "[CV] criterion=gini, max_depth=4, min_samples_leaf=4, min_samples_split=5 \n",
      "[CV]  criterion=gini, max_depth=4, min_samples_leaf=4, min_samples_split=5, score=0.2913166281560186, total=   0.2s\n",
      "[CV] criterion=gini, max_depth=4, min_samples_leaf=4, min_samples_split=10 \n"
     ]
    },
    {
     "name": "stderr",
     "output_type": "stream",
     "text": [
      "/anaconda3/lib/python3.7/site-packages/sklearn/metrics/classification.py:1143: UndefinedMetricWarning: F-score is ill-defined and being set to 0.0 in labels with no predicted samples.\n",
      "  'precision', 'predicted', average, warn_for)\n",
      "/anaconda3/lib/python3.7/site-packages/sklearn/metrics/classification.py:1143: UndefinedMetricWarning: F-score is ill-defined and being set to 0.0 in labels with no predicted samples.\n",
      "  'precision', 'predicted', average, warn_for)\n",
      "/anaconda3/lib/python3.7/site-packages/sklearn/metrics/classification.py:1143: UndefinedMetricWarning: F-score is ill-defined and being set to 0.0 in labels with no predicted samples.\n",
      "  'precision', 'predicted', average, warn_for)\n",
      "/anaconda3/lib/python3.7/site-packages/sklearn/metrics/classification.py:1143: UndefinedMetricWarning: F-score is ill-defined and being set to 0.0 in labels with no predicted samples.\n",
      "  'precision', 'predicted', average, warn_for)\n"
     ]
    },
    {
     "name": "stdout",
     "output_type": "stream",
     "text": [
      "[CV]  criterion=gini, max_depth=4, min_samples_leaf=4, min_samples_split=10, score=0.2620926702823137, total=   0.2s\n",
      "[CV] criterion=gini, max_depth=4, min_samples_leaf=4, min_samples_split=10 \n",
      "[CV]  criterion=gini, max_depth=4, min_samples_leaf=4, min_samples_split=10, score=0.2925958817959215, total=   0.2s\n",
      "[CV] criterion=gini, max_depth=4, min_samples_leaf=4, min_samples_split=10 \n"
     ]
    },
    {
     "name": "stderr",
     "output_type": "stream",
     "text": [
      "/anaconda3/lib/python3.7/site-packages/sklearn/metrics/classification.py:1143: UndefinedMetricWarning: F-score is ill-defined and being set to 0.0 in labels with no predicted samples.\n",
      "  'precision', 'predicted', average, warn_for)\n",
      "/anaconda3/lib/python3.7/site-packages/sklearn/metrics/classification.py:1143: UndefinedMetricWarning: F-score is ill-defined and being set to 0.0 in labels with no predicted samples.\n",
      "  'precision', 'predicted', average, warn_for)\n",
      "/anaconda3/lib/python3.7/site-packages/sklearn/metrics/classification.py:1143: UndefinedMetricWarning: F-score is ill-defined and being set to 0.0 in labels with no predicted samples.\n",
      "  'precision', 'predicted', average, warn_for)\n",
      "/anaconda3/lib/python3.7/site-packages/sklearn/metrics/classification.py:1143: UndefinedMetricWarning: F-score is ill-defined and being set to 0.0 in labels with no predicted samples.\n",
      "  'precision', 'predicted', average, warn_for)\n"
     ]
    },
    {
     "name": "stdout",
     "output_type": "stream",
     "text": [
      "[CV]  criterion=gini, max_depth=4, min_samples_leaf=4, min_samples_split=10, score=0.2913166281560186, total=   0.2s\n",
      "[CV] criterion=gini, max_depth=4, min_samples_leaf=5, min_samples_split=2 \n",
      "[CV]  criterion=gini, max_depth=4, min_samples_leaf=5, min_samples_split=2, score=0.2620926702823137, total=   0.2s\n",
      "[CV] criterion=gini, max_depth=4, min_samples_leaf=5, min_samples_split=2 \n"
     ]
    },
    {
     "name": "stderr",
     "output_type": "stream",
     "text": [
      "/anaconda3/lib/python3.7/site-packages/sklearn/metrics/classification.py:1143: UndefinedMetricWarning: F-score is ill-defined and being set to 0.0 in labels with no predicted samples.\n",
      "  'precision', 'predicted', average, warn_for)\n",
      "/anaconda3/lib/python3.7/site-packages/sklearn/metrics/classification.py:1143: UndefinedMetricWarning: F-score is ill-defined and being set to 0.0 in labels with no predicted samples.\n",
      "  'precision', 'predicted', average, warn_for)\n",
      "/anaconda3/lib/python3.7/site-packages/sklearn/metrics/classification.py:1143: UndefinedMetricWarning: F-score is ill-defined and being set to 0.0 in labels with no predicted samples.\n",
      "  'precision', 'predicted', average, warn_for)\n",
      "/anaconda3/lib/python3.7/site-packages/sklearn/metrics/classification.py:1143: UndefinedMetricWarning: F-score is ill-defined and being set to 0.0 in labels with no predicted samples.\n",
      "  'precision', 'predicted', average, warn_for)\n"
     ]
    },
    {
     "name": "stdout",
     "output_type": "stream",
     "text": [
      "[CV]  criterion=gini, max_depth=4, min_samples_leaf=5, min_samples_split=2, score=0.2925958817959215, total=   0.2s\n",
      "[CV] criterion=gini, max_depth=4, min_samples_leaf=5, min_samples_split=2 \n",
      "[CV]  criterion=gini, max_depth=4, min_samples_leaf=5, min_samples_split=2, score=0.2913166281560186, total=   0.2s\n",
      "[CV] criterion=gini, max_depth=4, min_samples_leaf=5, min_samples_split=5 \n"
     ]
    },
    {
     "name": "stderr",
     "output_type": "stream",
     "text": [
      "/anaconda3/lib/python3.7/site-packages/sklearn/metrics/classification.py:1143: UndefinedMetricWarning: F-score is ill-defined and being set to 0.0 in labels with no predicted samples.\n",
      "  'precision', 'predicted', average, warn_for)\n",
      "/anaconda3/lib/python3.7/site-packages/sklearn/metrics/classification.py:1143: UndefinedMetricWarning: F-score is ill-defined and being set to 0.0 in labels with no predicted samples.\n",
      "  'precision', 'predicted', average, warn_for)\n",
      "/anaconda3/lib/python3.7/site-packages/sklearn/metrics/classification.py:1143: UndefinedMetricWarning: F-score is ill-defined and being set to 0.0 in labels with no predicted samples.\n",
      "  'precision', 'predicted', average, warn_for)\n",
      "/anaconda3/lib/python3.7/site-packages/sklearn/metrics/classification.py:1143: UndefinedMetricWarning: F-score is ill-defined and being set to 0.0 in labels with no predicted samples.\n",
      "  'precision', 'predicted', average, warn_for)\n"
     ]
    },
    {
     "name": "stdout",
     "output_type": "stream",
     "text": [
      "[CV]  criterion=gini, max_depth=4, min_samples_leaf=5, min_samples_split=5, score=0.2620926702823137, total=   0.2s\n",
      "[CV] criterion=gini, max_depth=4, min_samples_leaf=5, min_samples_split=5 \n",
      "[CV]  criterion=gini, max_depth=4, min_samples_leaf=5, min_samples_split=5, score=0.2925958817959215, total=   0.2s\n",
      "[CV] criterion=gini, max_depth=4, min_samples_leaf=5, min_samples_split=5 \n"
     ]
    },
    {
     "name": "stderr",
     "output_type": "stream",
     "text": [
      "/anaconda3/lib/python3.7/site-packages/sklearn/metrics/classification.py:1143: UndefinedMetricWarning: F-score is ill-defined and being set to 0.0 in labels with no predicted samples.\n",
      "  'precision', 'predicted', average, warn_for)\n",
      "/anaconda3/lib/python3.7/site-packages/sklearn/metrics/classification.py:1143: UndefinedMetricWarning: F-score is ill-defined and being set to 0.0 in labels with no predicted samples.\n",
      "  'precision', 'predicted', average, warn_for)\n",
      "/anaconda3/lib/python3.7/site-packages/sklearn/metrics/classification.py:1143: UndefinedMetricWarning: F-score is ill-defined and being set to 0.0 in labels with no predicted samples.\n",
      "  'precision', 'predicted', average, warn_for)\n",
      "/anaconda3/lib/python3.7/site-packages/sklearn/metrics/classification.py:1143: UndefinedMetricWarning: F-score is ill-defined and being set to 0.0 in labels with no predicted samples.\n",
      "  'precision', 'predicted', average, warn_for)\n"
     ]
    },
    {
     "name": "stdout",
     "output_type": "stream",
     "text": [
      "[CV]  criterion=gini, max_depth=4, min_samples_leaf=5, min_samples_split=5, score=0.2913166281560186, total=   0.2s\n",
      "[CV] criterion=gini, max_depth=4, min_samples_leaf=5, min_samples_split=10 \n",
      "[CV]  criterion=gini, max_depth=4, min_samples_leaf=5, min_samples_split=10, score=0.2620926702823137, total=   0.2s\n",
      "[CV] criterion=gini, max_depth=4, min_samples_leaf=5, min_samples_split=10 \n"
     ]
    },
    {
     "name": "stderr",
     "output_type": "stream",
     "text": [
      "/anaconda3/lib/python3.7/site-packages/sklearn/metrics/classification.py:1143: UndefinedMetricWarning: F-score is ill-defined and being set to 0.0 in labels with no predicted samples.\n",
      "  'precision', 'predicted', average, warn_for)\n",
      "/anaconda3/lib/python3.7/site-packages/sklearn/metrics/classification.py:1143: UndefinedMetricWarning: F-score is ill-defined and being set to 0.0 in labels with no predicted samples.\n",
      "  'precision', 'predicted', average, warn_for)\n",
      "/anaconda3/lib/python3.7/site-packages/sklearn/metrics/classification.py:1143: UndefinedMetricWarning: F-score is ill-defined and being set to 0.0 in labels with no predicted samples.\n",
      "  'precision', 'predicted', average, warn_for)\n",
      "/anaconda3/lib/python3.7/site-packages/sklearn/metrics/classification.py:1143: UndefinedMetricWarning: F-score is ill-defined and being set to 0.0 in labels with no predicted samples.\n",
      "  'precision', 'predicted', average, warn_for)\n"
     ]
    },
    {
     "name": "stdout",
     "output_type": "stream",
     "text": [
      "[CV]  criterion=gini, max_depth=4, min_samples_leaf=5, min_samples_split=10, score=0.2925958817959215, total=   0.2s\n",
      "[CV] criterion=gini, max_depth=4, min_samples_leaf=5, min_samples_split=10 \n",
      "[CV]  criterion=gini, max_depth=4, min_samples_leaf=5, min_samples_split=10, score=0.2913166281560186, total=   0.2s\n",
      "[CV] criterion=gini, max_depth=4, min_samples_leaf=6, min_samples_split=2 \n"
     ]
    },
    {
     "name": "stderr",
     "output_type": "stream",
     "text": [
      "/anaconda3/lib/python3.7/site-packages/sklearn/metrics/classification.py:1143: UndefinedMetricWarning: F-score is ill-defined and being set to 0.0 in labels with no predicted samples.\n",
      "  'precision', 'predicted', average, warn_for)\n",
      "/anaconda3/lib/python3.7/site-packages/sklearn/metrics/classification.py:1143: UndefinedMetricWarning: F-score is ill-defined and being set to 0.0 in labels with no predicted samples.\n",
      "  'precision', 'predicted', average, warn_for)\n",
      "/anaconda3/lib/python3.7/site-packages/sklearn/metrics/classification.py:1143: UndefinedMetricWarning: F-score is ill-defined and being set to 0.0 in labels with no predicted samples.\n",
      "  'precision', 'predicted', average, warn_for)\n",
      "/anaconda3/lib/python3.7/site-packages/sklearn/metrics/classification.py:1143: UndefinedMetricWarning: F-score is ill-defined and being set to 0.0 in labels with no predicted samples.\n",
      "  'precision', 'predicted', average, warn_for)\n"
     ]
    },
    {
     "name": "stdout",
     "output_type": "stream",
     "text": [
      "[CV]  criterion=gini, max_depth=4, min_samples_leaf=6, min_samples_split=2, score=0.2620926702823137, total=   0.2s\n",
      "[CV] criterion=gini, max_depth=4, min_samples_leaf=6, min_samples_split=2 \n",
      "[CV]  criterion=gini, max_depth=4, min_samples_leaf=6, min_samples_split=2, score=0.2925958817959215, total=   0.2s\n",
      "[CV] criterion=gini, max_depth=4, min_samples_leaf=6, min_samples_split=2 \n"
     ]
    },
    {
     "name": "stderr",
     "output_type": "stream",
     "text": [
      "/anaconda3/lib/python3.7/site-packages/sklearn/metrics/classification.py:1143: UndefinedMetricWarning: F-score is ill-defined and being set to 0.0 in labels with no predicted samples.\n",
      "  'precision', 'predicted', average, warn_for)\n",
      "/anaconda3/lib/python3.7/site-packages/sklearn/metrics/classification.py:1143: UndefinedMetricWarning: F-score is ill-defined and being set to 0.0 in labels with no predicted samples.\n",
      "  'precision', 'predicted', average, warn_for)\n",
      "/anaconda3/lib/python3.7/site-packages/sklearn/metrics/classification.py:1143: UndefinedMetricWarning: F-score is ill-defined and being set to 0.0 in labels with no predicted samples.\n",
      "  'precision', 'predicted', average, warn_for)\n",
      "/anaconda3/lib/python3.7/site-packages/sklearn/metrics/classification.py:1143: UndefinedMetricWarning: F-score is ill-defined and being set to 0.0 in labels with no predicted samples.\n",
      "  'precision', 'predicted', average, warn_for)\n"
     ]
    },
    {
     "name": "stdout",
     "output_type": "stream",
     "text": [
      "[CV]  criterion=gini, max_depth=4, min_samples_leaf=6, min_samples_split=2, score=0.2913166281560186, total=   0.2s\n",
      "[CV] criterion=gini, max_depth=4, min_samples_leaf=6, min_samples_split=5 \n",
      "[CV]  criterion=gini, max_depth=4, min_samples_leaf=6, min_samples_split=5, score=0.2620926702823137, total=   0.2s\n",
      "[CV] criterion=gini, max_depth=4, min_samples_leaf=6, min_samples_split=5 \n"
     ]
    },
    {
     "name": "stderr",
     "output_type": "stream",
     "text": [
      "/anaconda3/lib/python3.7/site-packages/sklearn/metrics/classification.py:1143: UndefinedMetricWarning: F-score is ill-defined and being set to 0.0 in labels with no predicted samples.\n",
      "  'precision', 'predicted', average, warn_for)\n",
      "/anaconda3/lib/python3.7/site-packages/sklearn/metrics/classification.py:1143: UndefinedMetricWarning: F-score is ill-defined and being set to 0.0 in labels with no predicted samples.\n",
      "  'precision', 'predicted', average, warn_for)\n"
     ]
    },
    {
     "name": "stdout",
     "output_type": "stream",
     "text": [
      "[CV]  criterion=gini, max_depth=4, min_samples_leaf=6, min_samples_split=5, score=0.2925958817959215, total=   0.2s\n",
      "[CV] criterion=gini, max_depth=4, min_samples_leaf=6, min_samples_split=5 \n"
     ]
    },
    {
     "name": "stderr",
     "output_type": "stream",
     "text": [
      "/anaconda3/lib/python3.7/site-packages/sklearn/metrics/classification.py:1143: UndefinedMetricWarning: F-score is ill-defined and being set to 0.0 in labels with no predicted samples.\n",
      "  'precision', 'predicted', average, warn_for)\n",
      "/anaconda3/lib/python3.7/site-packages/sklearn/metrics/classification.py:1143: UndefinedMetricWarning: F-score is ill-defined and being set to 0.0 in labels with no predicted samples.\n",
      "  'precision', 'predicted', average, warn_for)\n"
     ]
    },
    {
     "name": "stdout",
     "output_type": "stream",
     "text": [
      "[CV]  criterion=gini, max_depth=4, min_samples_leaf=6, min_samples_split=5, score=0.2913166281560186, total=   0.3s\n",
      "[CV] criterion=gini, max_depth=4, min_samples_leaf=6, min_samples_split=10 \n"
     ]
    },
    {
     "name": "stderr",
     "output_type": "stream",
     "text": [
      "/anaconda3/lib/python3.7/site-packages/sklearn/metrics/classification.py:1143: UndefinedMetricWarning: F-score is ill-defined and being set to 0.0 in labels with no predicted samples.\n",
      "  'precision', 'predicted', average, warn_for)\n",
      "/anaconda3/lib/python3.7/site-packages/sklearn/metrics/classification.py:1143: UndefinedMetricWarning: F-score is ill-defined and being set to 0.0 in labels with no predicted samples.\n",
      "  'precision', 'predicted', average, warn_for)\n"
     ]
    },
    {
     "name": "stdout",
     "output_type": "stream",
     "text": [
      "[CV]  criterion=gini, max_depth=4, min_samples_leaf=6, min_samples_split=10, score=0.2620926702823137, total=   0.3s\n",
      "[CV] criterion=gini, max_depth=4, min_samples_leaf=6, min_samples_split=10 \n"
     ]
    },
    {
     "name": "stderr",
     "output_type": "stream",
     "text": [
      "/anaconda3/lib/python3.7/site-packages/sklearn/metrics/classification.py:1143: UndefinedMetricWarning: F-score is ill-defined and being set to 0.0 in labels with no predicted samples.\n",
      "  'precision', 'predicted', average, warn_for)\n",
      "/anaconda3/lib/python3.7/site-packages/sklearn/metrics/classification.py:1143: UndefinedMetricWarning: F-score is ill-defined and being set to 0.0 in labels with no predicted samples.\n",
      "  'precision', 'predicted', average, warn_for)\n"
     ]
    },
    {
     "name": "stdout",
     "output_type": "stream",
     "text": [
      "[CV]  criterion=gini, max_depth=4, min_samples_leaf=6, min_samples_split=10, score=0.2925958817959215, total=   0.3s\n",
      "[CV] criterion=gini, max_depth=4, min_samples_leaf=6, min_samples_split=10 \n"
     ]
    },
    {
     "name": "stderr",
     "output_type": "stream",
     "text": [
      "/anaconda3/lib/python3.7/site-packages/sklearn/metrics/classification.py:1143: UndefinedMetricWarning: F-score is ill-defined and being set to 0.0 in labels with no predicted samples.\n",
      "  'precision', 'predicted', average, warn_for)\n",
      "/anaconda3/lib/python3.7/site-packages/sklearn/metrics/classification.py:1143: UndefinedMetricWarning: F-score is ill-defined and being set to 0.0 in labels with no predicted samples.\n",
      "  'precision', 'predicted', average, warn_for)\n"
     ]
    },
    {
     "name": "stdout",
     "output_type": "stream",
     "text": [
      "[CV]  criterion=gini, max_depth=4, min_samples_leaf=6, min_samples_split=10, score=0.2913166281560186, total=   0.3s\n",
      "[CV] criterion=gini, max_depth=5, min_samples_leaf=1, min_samples_split=2 \n"
     ]
    },
    {
     "name": "stderr",
     "output_type": "stream",
     "text": [
      "/anaconda3/lib/python3.7/site-packages/sklearn/metrics/classification.py:1143: UndefinedMetricWarning: F-score is ill-defined and being set to 0.0 in labels with no predicted samples.\n",
      "  'precision', 'predicted', average, warn_for)\n",
      "/anaconda3/lib/python3.7/site-packages/sklearn/metrics/classification.py:1143: UndefinedMetricWarning: F-score is ill-defined and being set to 0.0 in labels with no predicted samples.\n",
      "  'precision', 'predicted', average, warn_for)\n"
     ]
    },
    {
     "name": "stdout",
     "output_type": "stream",
     "text": [
      "[CV]  criterion=gini, max_depth=5, min_samples_leaf=1, min_samples_split=2, score=0.2891280625804539, total=   0.3s\n",
      "[CV] criterion=gini, max_depth=5, min_samples_leaf=1, min_samples_split=2 \n",
      "[CV]  criterion=gini, max_depth=5, min_samples_leaf=1, min_samples_split=2, score=0.31853769603337856, total=   0.2s\n",
      "[CV] criterion=gini, max_depth=5, min_samples_leaf=1, min_samples_split=2 \n"
     ]
    },
    {
     "name": "stderr",
     "output_type": "stream",
     "text": [
      "/anaconda3/lib/python3.7/site-packages/sklearn/metrics/classification.py:1143: UndefinedMetricWarning: F-score is ill-defined and being set to 0.0 in labels with no predicted samples.\n",
      "  'precision', 'predicted', average, warn_for)\n",
      "/anaconda3/lib/python3.7/site-packages/sklearn/metrics/classification.py:1143: UndefinedMetricWarning: F-score is ill-defined and being set to 0.0 in labels with no predicted samples.\n",
      "  'precision', 'predicted', average, warn_for)\n"
     ]
    },
    {
     "name": "stdout",
     "output_type": "stream",
     "text": [
      "[CV]  criterion=gini, max_depth=5, min_samples_leaf=1, min_samples_split=2, score=0.285903763247595, total=   0.2s\n",
      "[CV] criterion=gini, max_depth=5, min_samples_leaf=1, min_samples_split=5 \n"
     ]
    },
    {
     "name": "stderr",
     "output_type": "stream",
     "text": [
      "/anaconda3/lib/python3.7/site-packages/sklearn/metrics/classification.py:1143: UndefinedMetricWarning: F-score is ill-defined and being set to 0.0 in labels with no predicted samples.\n",
      "  'precision', 'predicted', average, warn_for)\n",
      "/anaconda3/lib/python3.7/site-packages/sklearn/metrics/classification.py:1143: UndefinedMetricWarning: F-score is ill-defined and being set to 0.0 in labels with no predicted samples.\n",
      "  'precision', 'predicted', average, warn_for)\n"
     ]
    },
    {
     "name": "stdout",
     "output_type": "stream",
     "text": [
      "[CV]  criterion=gini, max_depth=5, min_samples_leaf=1, min_samples_split=5, score=0.2891280625804539, total=   0.2s\n",
      "[CV] criterion=gini, max_depth=5, min_samples_leaf=1, min_samples_split=5 \n",
      "[CV]  criterion=gini, max_depth=5, min_samples_leaf=1, min_samples_split=5, score=0.31853769603337856, total=   0.2s\n",
      "[CV] criterion=gini, max_depth=5, min_samples_leaf=1, min_samples_split=5 \n"
     ]
    },
    {
     "name": "stderr",
     "output_type": "stream",
     "text": [
      "/anaconda3/lib/python3.7/site-packages/sklearn/metrics/classification.py:1143: UndefinedMetricWarning: F-score is ill-defined and being set to 0.0 in labels with no predicted samples.\n",
      "  'precision', 'predicted', average, warn_for)\n",
      "/anaconda3/lib/python3.7/site-packages/sklearn/metrics/classification.py:1143: UndefinedMetricWarning: F-score is ill-defined and being set to 0.0 in labels with no predicted samples.\n",
      "  'precision', 'predicted', average, warn_for)\n"
     ]
    },
    {
     "name": "stdout",
     "output_type": "stream",
     "text": [
      "[CV]  criterion=gini, max_depth=5, min_samples_leaf=1, min_samples_split=5, score=0.285903763247595, total=   0.2s\n",
      "[CV] criterion=gini, max_depth=5, min_samples_leaf=1, min_samples_split=10 \n"
     ]
    },
    {
     "name": "stderr",
     "output_type": "stream",
     "text": [
      "/anaconda3/lib/python3.7/site-packages/sklearn/metrics/classification.py:1143: UndefinedMetricWarning: F-score is ill-defined and being set to 0.0 in labels with no predicted samples.\n",
      "  'precision', 'predicted', average, warn_for)\n",
      "/anaconda3/lib/python3.7/site-packages/sklearn/metrics/classification.py:1143: UndefinedMetricWarning: F-score is ill-defined and being set to 0.0 in labels with no predicted samples.\n",
      "  'precision', 'predicted', average, warn_for)\n"
     ]
    },
    {
     "name": "stdout",
     "output_type": "stream",
     "text": [
      "[CV]  criterion=gini, max_depth=5, min_samples_leaf=1, min_samples_split=10, score=0.2891280625804539, total=   0.2s\n",
      "[CV] criterion=gini, max_depth=5, min_samples_leaf=1, min_samples_split=10 \n",
      "[CV]  criterion=gini, max_depth=5, min_samples_leaf=1, min_samples_split=10, score=0.31853769603337856, total=   0.2s\n",
      "[CV] criterion=gini, max_depth=5, min_samples_leaf=1, min_samples_split=10 \n"
     ]
    },
    {
     "name": "stderr",
     "output_type": "stream",
     "text": [
      "/anaconda3/lib/python3.7/site-packages/sklearn/metrics/classification.py:1143: UndefinedMetricWarning: F-score is ill-defined and being set to 0.0 in labels with no predicted samples.\n",
      "  'precision', 'predicted', average, warn_for)\n",
      "/anaconda3/lib/python3.7/site-packages/sklearn/metrics/classification.py:1143: UndefinedMetricWarning: F-score is ill-defined and being set to 0.0 in labels with no predicted samples.\n",
      "  'precision', 'predicted', average, warn_for)\n"
     ]
    },
    {
     "name": "stdout",
     "output_type": "stream",
     "text": [
      "[CV]  criterion=gini, max_depth=5, min_samples_leaf=1, min_samples_split=10, score=0.285903763247595, total=   0.2s\n",
      "[CV] criterion=gini, max_depth=5, min_samples_leaf=2, min_samples_split=2 \n"
     ]
    },
    {
     "name": "stderr",
     "output_type": "stream",
     "text": [
      "/anaconda3/lib/python3.7/site-packages/sklearn/metrics/classification.py:1143: UndefinedMetricWarning: F-score is ill-defined and being set to 0.0 in labels with no predicted samples.\n",
      "  'precision', 'predicted', average, warn_for)\n",
      "/anaconda3/lib/python3.7/site-packages/sklearn/metrics/classification.py:1143: UndefinedMetricWarning: F-score is ill-defined and being set to 0.0 in labels with no predicted samples.\n",
      "  'precision', 'predicted', average, warn_for)\n"
     ]
    },
    {
     "name": "stdout",
     "output_type": "stream",
     "text": [
      "[CV]  criterion=gini, max_depth=5, min_samples_leaf=2, min_samples_split=2, score=0.2891280625804539, total=   0.2s\n",
      "[CV] criterion=gini, max_depth=5, min_samples_leaf=2, min_samples_split=2 \n",
      "[CV]  criterion=gini, max_depth=5, min_samples_leaf=2, min_samples_split=2, score=0.31853769603337856, total=   0.2s\n",
      "[CV] criterion=gini, max_depth=5, min_samples_leaf=2, min_samples_split=2 \n"
     ]
    },
    {
     "name": "stderr",
     "output_type": "stream",
     "text": [
      "/anaconda3/lib/python3.7/site-packages/sklearn/metrics/classification.py:1143: UndefinedMetricWarning: F-score is ill-defined and being set to 0.0 in labels with no predicted samples.\n",
      "  'precision', 'predicted', average, warn_for)\n",
      "/anaconda3/lib/python3.7/site-packages/sklearn/metrics/classification.py:1143: UndefinedMetricWarning: F-score is ill-defined and being set to 0.0 in labels with no predicted samples.\n",
      "  'precision', 'predicted', average, warn_for)\n"
     ]
    },
    {
     "name": "stdout",
     "output_type": "stream",
     "text": [
      "[CV]  criterion=gini, max_depth=5, min_samples_leaf=2, min_samples_split=2, score=0.285903763247595, total=   0.2s\n",
      "[CV] criterion=gini, max_depth=5, min_samples_leaf=2, min_samples_split=5 \n"
     ]
    },
    {
     "name": "stderr",
     "output_type": "stream",
     "text": [
      "/anaconda3/lib/python3.7/site-packages/sklearn/metrics/classification.py:1143: UndefinedMetricWarning: F-score is ill-defined and being set to 0.0 in labels with no predicted samples.\n",
      "  'precision', 'predicted', average, warn_for)\n",
      "/anaconda3/lib/python3.7/site-packages/sklearn/metrics/classification.py:1143: UndefinedMetricWarning: F-score is ill-defined and being set to 0.0 in labels with no predicted samples.\n",
      "  'precision', 'predicted', average, warn_for)\n"
     ]
    },
    {
     "name": "stdout",
     "output_type": "stream",
     "text": [
      "[CV]  criterion=gini, max_depth=5, min_samples_leaf=2, min_samples_split=5, score=0.2891280625804539, total=   0.2s\n",
      "[CV] criterion=gini, max_depth=5, min_samples_leaf=2, min_samples_split=5 \n",
      "[CV]  criterion=gini, max_depth=5, min_samples_leaf=2, min_samples_split=5, score=0.31853769603337856, total=   0.2s\n",
      "[CV] criterion=gini, max_depth=5, min_samples_leaf=2, min_samples_split=5 \n"
     ]
    },
    {
     "name": "stderr",
     "output_type": "stream",
     "text": [
      "/anaconda3/lib/python3.7/site-packages/sklearn/metrics/classification.py:1143: UndefinedMetricWarning: F-score is ill-defined and being set to 0.0 in labels with no predicted samples.\n",
      "  'precision', 'predicted', average, warn_for)\n",
      "/anaconda3/lib/python3.7/site-packages/sklearn/metrics/classification.py:1143: UndefinedMetricWarning: F-score is ill-defined and being set to 0.0 in labels with no predicted samples.\n",
      "  'precision', 'predicted', average, warn_for)\n"
     ]
    },
    {
     "name": "stdout",
     "output_type": "stream",
     "text": [
      "[CV]  criterion=gini, max_depth=5, min_samples_leaf=2, min_samples_split=5, score=0.285903763247595, total=   0.2s\n",
      "[CV] criterion=gini, max_depth=5, min_samples_leaf=2, min_samples_split=10 \n"
     ]
    },
    {
     "name": "stderr",
     "output_type": "stream",
     "text": [
      "/anaconda3/lib/python3.7/site-packages/sklearn/metrics/classification.py:1143: UndefinedMetricWarning: F-score is ill-defined and being set to 0.0 in labels with no predicted samples.\n",
      "  'precision', 'predicted', average, warn_for)\n",
      "/anaconda3/lib/python3.7/site-packages/sklearn/metrics/classification.py:1143: UndefinedMetricWarning: F-score is ill-defined and being set to 0.0 in labels with no predicted samples.\n",
      "  'precision', 'predicted', average, warn_for)\n"
     ]
    },
    {
     "name": "stdout",
     "output_type": "stream",
     "text": [
      "[CV]  criterion=gini, max_depth=5, min_samples_leaf=2, min_samples_split=10, score=0.2891280625804539, total=   0.2s\n",
      "[CV] criterion=gini, max_depth=5, min_samples_leaf=2, min_samples_split=10 \n",
      "[CV]  criterion=gini, max_depth=5, min_samples_leaf=2, min_samples_split=10, score=0.31853769603337856, total=   0.2s\n",
      "[CV] criterion=gini, max_depth=5, min_samples_leaf=2, min_samples_split=10 \n"
     ]
    },
    {
     "name": "stderr",
     "output_type": "stream",
     "text": [
      "/anaconda3/lib/python3.7/site-packages/sklearn/metrics/classification.py:1143: UndefinedMetricWarning: F-score is ill-defined and being set to 0.0 in labels with no predicted samples.\n",
      "  'precision', 'predicted', average, warn_for)\n",
      "/anaconda3/lib/python3.7/site-packages/sklearn/metrics/classification.py:1143: UndefinedMetricWarning: F-score is ill-defined and being set to 0.0 in labels with no predicted samples.\n",
      "  'precision', 'predicted', average, warn_for)\n"
     ]
    },
    {
     "name": "stdout",
     "output_type": "stream",
     "text": [
      "[CV]  criterion=gini, max_depth=5, min_samples_leaf=2, min_samples_split=10, score=0.285903763247595, total=   0.2s\n",
      "[CV] criterion=gini, max_depth=5, min_samples_leaf=3, min_samples_split=2 \n"
     ]
    },
    {
     "name": "stderr",
     "output_type": "stream",
     "text": [
      "/anaconda3/lib/python3.7/site-packages/sklearn/metrics/classification.py:1143: UndefinedMetricWarning: F-score is ill-defined and being set to 0.0 in labels with no predicted samples.\n",
      "  'precision', 'predicted', average, warn_for)\n",
      "/anaconda3/lib/python3.7/site-packages/sklearn/metrics/classification.py:1143: UndefinedMetricWarning: F-score is ill-defined and being set to 0.0 in labels with no predicted samples.\n",
      "  'precision', 'predicted', average, warn_for)\n"
     ]
    },
    {
     "name": "stdout",
     "output_type": "stream",
     "text": [
      "[CV]  criterion=gini, max_depth=5, min_samples_leaf=3, min_samples_split=2, score=0.2891280625804539, total=   0.2s\n",
      "[CV] criterion=gini, max_depth=5, min_samples_leaf=3, min_samples_split=2 \n",
      "[CV]  criterion=gini, max_depth=5, min_samples_leaf=3, min_samples_split=2, score=0.31853769603337856, total=   0.2s\n",
      "[CV] criterion=gini, max_depth=5, min_samples_leaf=3, min_samples_split=2 \n"
     ]
    },
    {
     "name": "stderr",
     "output_type": "stream",
     "text": [
      "/anaconda3/lib/python3.7/site-packages/sklearn/metrics/classification.py:1143: UndefinedMetricWarning: F-score is ill-defined and being set to 0.0 in labels with no predicted samples.\n",
      "  'precision', 'predicted', average, warn_for)\n",
      "/anaconda3/lib/python3.7/site-packages/sklearn/metrics/classification.py:1143: UndefinedMetricWarning: F-score is ill-defined and being set to 0.0 in labels with no predicted samples.\n",
      "  'precision', 'predicted', average, warn_for)\n"
     ]
    },
    {
     "name": "stdout",
     "output_type": "stream",
     "text": [
      "[CV]  criterion=gini, max_depth=5, min_samples_leaf=3, min_samples_split=2, score=0.285903763247595, total=   0.2s\n",
      "[CV] criterion=gini, max_depth=5, min_samples_leaf=3, min_samples_split=5 \n"
     ]
    },
    {
     "name": "stderr",
     "output_type": "stream",
     "text": [
      "/anaconda3/lib/python3.7/site-packages/sklearn/metrics/classification.py:1143: UndefinedMetricWarning: F-score is ill-defined and being set to 0.0 in labels with no predicted samples.\n",
      "  'precision', 'predicted', average, warn_for)\n",
      "/anaconda3/lib/python3.7/site-packages/sklearn/metrics/classification.py:1143: UndefinedMetricWarning: F-score is ill-defined and being set to 0.0 in labels with no predicted samples.\n",
      "  'precision', 'predicted', average, warn_for)\n"
     ]
    },
    {
     "name": "stdout",
     "output_type": "stream",
     "text": [
      "[CV]  criterion=gini, max_depth=5, min_samples_leaf=3, min_samples_split=5, score=0.2891280625804539, total=   0.2s\n",
      "[CV] criterion=gini, max_depth=5, min_samples_leaf=3, min_samples_split=5 \n",
      "[CV]  criterion=gini, max_depth=5, min_samples_leaf=3, min_samples_split=5, score=0.31853769603337856, total=   0.2s\n",
      "[CV] criterion=gini, max_depth=5, min_samples_leaf=3, min_samples_split=5 \n"
     ]
    },
    {
     "name": "stderr",
     "output_type": "stream",
     "text": [
      "/anaconda3/lib/python3.7/site-packages/sklearn/metrics/classification.py:1143: UndefinedMetricWarning: F-score is ill-defined and being set to 0.0 in labels with no predicted samples.\n",
      "  'precision', 'predicted', average, warn_for)\n",
      "/anaconda3/lib/python3.7/site-packages/sklearn/metrics/classification.py:1143: UndefinedMetricWarning: F-score is ill-defined and being set to 0.0 in labels with no predicted samples.\n",
      "  'precision', 'predicted', average, warn_for)\n"
     ]
    },
    {
     "name": "stdout",
     "output_type": "stream",
     "text": [
      "[CV]  criterion=gini, max_depth=5, min_samples_leaf=3, min_samples_split=5, score=0.285903763247595, total=   0.2s\n",
      "[CV] criterion=gini, max_depth=5, min_samples_leaf=3, min_samples_split=10 \n"
     ]
    },
    {
     "name": "stderr",
     "output_type": "stream",
     "text": [
      "/anaconda3/lib/python3.7/site-packages/sklearn/metrics/classification.py:1143: UndefinedMetricWarning: F-score is ill-defined and being set to 0.0 in labels with no predicted samples.\n",
      "  'precision', 'predicted', average, warn_for)\n",
      "/anaconda3/lib/python3.7/site-packages/sklearn/metrics/classification.py:1143: UndefinedMetricWarning: F-score is ill-defined and being set to 0.0 in labels with no predicted samples.\n",
      "  'precision', 'predicted', average, warn_for)\n"
     ]
    },
    {
     "name": "stdout",
     "output_type": "stream",
     "text": [
      "[CV]  criterion=gini, max_depth=5, min_samples_leaf=3, min_samples_split=10, score=0.2891280625804539, total=   0.2s\n",
      "[CV] criterion=gini, max_depth=5, min_samples_leaf=3, min_samples_split=10 \n",
      "[CV]  criterion=gini, max_depth=5, min_samples_leaf=3, min_samples_split=10, score=0.31853769603337856, total=   0.2s\n",
      "[CV] criterion=gini, max_depth=5, min_samples_leaf=3, min_samples_split=10 \n"
     ]
    },
    {
     "name": "stderr",
     "output_type": "stream",
     "text": [
      "/anaconda3/lib/python3.7/site-packages/sklearn/metrics/classification.py:1143: UndefinedMetricWarning: F-score is ill-defined and being set to 0.0 in labels with no predicted samples.\n",
      "  'precision', 'predicted', average, warn_for)\n",
      "/anaconda3/lib/python3.7/site-packages/sklearn/metrics/classification.py:1143: UndefinedMetricWarning: F-score is ill-defined and being set to 0.0 in labels with no predicted samples.\n",
      "  'precision', 'predicted', average, warn_for)\n"
     ]
    },
    {
     "name": "stdout",
     "output_type": "stream",
     "text": [
      "[CV]  criterion=gini, max_depth=5, min_samples_leaf=3, min_samples_split=10, score=0.285903763247595, total=   0.2s\n",
      "[CV] criterion=gini, max_depth=5, min_samples_leaf=4, min_samples_split=2 \n"
     ]
    },
    {
     "name": "stderr",
     "output_type": "stream",
     "text": [
      "/anaconda3/lib/python3.7/site-packages/sklearn/metrics/classification.py:1143: UndefinedMetricWarning: F-score is ill-defined and being set to 0.0 in labels with no predicted samples.\n",
      "  'precision', 'predicted', average, warn_for)\n",
      "/anaconda3/lib/python3.7/site-packages/sklearn/metrics/classification.py:1143: UndefinedMetricWarning: F-score is ill-defined and being set to 0.0 in labels with no predicted samples.\n",
      "  'precision', 'predicted', average, warn_for)\n"
     ]
    },
    {
     "name": "stdout",
     "output_type": "stream",
     "text": [
      "[CV]  criterion=gini, max_depth=5, min_samples_leaf=4, min_samples_split=2, score=0.2891280625804539, total=   0.2s\n",
      "[CV] criterion=gini, max_depth=5, min_samples_leaf=4, min_samples_split=2 \n",
      "[CV]  criterion=gini, max_depth=5, min_samples_leaf=4, min_samples_split=2, score=0.31853769603337856, total=   0.2s\n",
      "[CV] criterion=gini, max_depth=5, min_samples_leaf=4, min_samples_split=2 \n"
     ]
    },
    {
     "name": "stderr",
     "output_type": "stream",
     "text": [
      "/anaconda3/lib/python3.7/site-packages/sklearn/metrics/classification.py:1143: UndefinedMetricWarning: F-score is ill-defined and being set to 0.0 in labels with no predicted samples.\n",
      "  'precision', 'predicted', average, warn_for)\n",
      "/anaconda3/lib/python3.7/site-packages/sklearn/metrics/classification.py:1143: UndefinedMetricWarning: F-score is ill-defined and being set to 0.0 in labels with no predicted samples.\n",
      "  'precision', 'predicted', average, warn_for)\n"
     ]
    },
    {
     "name": "stdout",
     "output_type": "stream",
     "text": [
      "[CV]  criterion=gini, max_depth=5, min_samples_leaf=4, min_samples_split=2, score=0.285903763247595, total=   0.2s\n",
      "[CV] criterion=gini, max_depth=5, min_samples_leaf=4, min_samples_split=5 \n"
     ]
    },
    {
     "name": "stderr",
     "output_type": "stream",
     "text": [
      "/anaconda3/lib/python3.7/site-packages/sklearn/metrics/classification.py:1143: UndefinedMetricWarning: F-score is ill-defined and being set to 0.0 in labels with no predicted samples.\n",
      "  'precision', 'predicted', average, warn_for)\n",
      "/anaconda3/lib/python3.7/site-packages/sklearn/metrics/classification.py:1143: UndefinedMetricWarning: F-score is ill-defined and being set to 0.0 in labels with no predicted samples.\n",
      "  'precision', 'predicted', average, warn_for)\n"
     ]
    },
    {
     "name": "stdout",
     "output_type": "stream",
     "text": [
      "[CV]  criterion=gini, max_depth=5, min_samples_leaf=4, min_samples_split=5, score=0.2891280625804539, total=   0.2s\n",
      "[CV] criterion=gini, max_depth=5, min_samples_leaf=4, min_samples_split=5 \n",
      "[CV]  criterion=gini, max_depth=5, min_samples_leaf=4, min_samples_split=5, score=0.31853769603337856, total=   0.2s\n",
      "[CV] criterion=gini, max_depth=5, min_samples_leaf=4, min_samples_split=5 \n",
      "[CV]  criterion=gini, max_depth=5, min_samples_leaf=4, min_samples_split=5, score=0.285903763247595, total=   0.2s\n",
      "[CV] criterion=gini, max_depth=5, min_samples_leaf=4, min_samples_split=10 \n"
     ]
    },
    {
     "name": "stderr",
     "output_type": "stream",
     "text": [
      "/anaconda3/lib/python3.7/site-packages/sklearn/metrics/classification.py:1143: UndefinedMetricWarning: F-score is ill-defined and being set to 0.0 in labels with no predicted samples.\n",
      "  'precision', 'predicted', average, warn_for)\n",
      "/anaconda3/lib/python3.7/site-packages/sklearn/metrics/classification.py:1143: UndefinedMetricWarning: F-score is ill-defined and being set to 0.0 in labels with no predicted samples.\n",
      "  'precision', 'predicted', average, warn_for)\n",
      "/anaconda3/lib/python3.7/site-packages/sklearn/metrics/classification.py:1143: UndefinedMetricWarning: F-score is ill-defined and being set to 0.0 in labels with no predicted samples.\n",
      "  'precision', 'predicted', average, warn_for)\n",
      "/anaconda3/lib/python3.7/site-packages/sklearn/metrics/classification.py:1143: UndefinedMetricWarning: F-score is ill-defined and being set to 0.0 in labels with no predicted samples.\n",
      "  'precision', 'predicted', average, warn_for)\n"
     ]
    },
    {
     "name": "stdout",
     "output_type": "stream",
     "text": [
      "[CV]  criterion=gini, max_depth=5, min_samples_leaf=4, min_samples_split=10, score=0.2891280625804539, total=   0.2s\n",
      "[CV] criterion=gini, max_depth=5, min_samples_leaf=4, min_samples_split=10 \n",
      "[CV]  criterion=gini, max_depth=5, min_samples_leaf=4, min_samples_split=10, score=0.31853769603337856, total=   0.2s\n",
      "[CV] criterion=gini, max_depth=5, min_samples_leaf=4, min_samples_split=10 \n"
     ]
    },
    {
     "name": "stderr",
     "output_type": "stream",
     "text": [
      "/anaconda3/lib/python3.7/site-packages/sklearn/metrics/classification.py:1143: UndefinedMetricWarning: F-score is ill-defined and being set to 0.0 in labels with no predicted samples.\n",
      "  'precision', 'predicted', average, warn_for)\n",
      "/anaconda3/lib/python3.7/site-packages/sklearn/metrics/classification.py:1143: UndefinedMetricWarning: F-score is ill-defined and being set to 0.0 in labels with no predicted samples.\n",
      "  'precision', 'predicted', average, warn_for)\n"
     ]
    },
    {
     "name": "stdout",
     "output_type": "stream",
     "text": [
      "[CV]  criterion=gini, max_depth=5, min_samples_leaf=4, min_samples_split=10, score=0.285903763247595, total=   0.2s\n",
      "[CV] criterion=gini, max_depth=5, min_samples_leaf=5, min_samples_split=2 \n"
     ]
    },
    {
     "name": "stderr",
     "output_type": "stream",
     "text": [
      "/anaconda3/lib/python3.7/site-packages/sklearn/metrics/classification.py:1143: UndefinedMetricWarning: F-score is ill-defined and being set to 0.0 in labels with no predicted samples.\n",
      "  'precision', 'predicted', average, warn_for)\n",
      "/anaconda3/lib/python3.7/site-packages/sklearn/metrics/classification.py:1143: UndefinedMetricWarning: F-score is ill-defined and being set to 0.0 in labels with no predicted samples.\n",
      "  'precision', 'predicted', average, warn_for)\n"
     ]
    },
    {
     "name": "stdout",
     "output_type": "stream",
     "text": [
      "[CV]  criterion=gini, max_depth=5, min_samples_leaf=5, min_samples_split=2, score=0.2891280625804539, total=   0.2s\n",
      "[CV] criterion=gini, max_depth=5, min_samples_leaf=5, min_samples_split=2 \n",
      "[CV]  criterion=gini, max_depth=5, min_samples_leaf=5, min_samples_split=2, score=0.31853769603337856, total=   0.2s\n",
      "[CV] criterion=gini, max_depth=5, min_samples_leaf=5, min_samples_split=2 \n"
     ]
    },
    {
     "name": "stderr",
     "output_type": "stream",
     "text": [
      "/anaconda3/lib/python3.7/site-packages/sklearn/metrics/classification.py:1143: UndefinedMetricWarning: F-score is ill-defined and being set to 0.0 in labels with no predicted samples.\n",
      "  'precision', 'predicted', average, warn_for)\n",
      "/anaconda3/lib/python3.7/site-packages/sklearn/metrics/classification.py:1143: UndefinedMetricWarning: F-score is ill-defined and being set to 0.0 in labels with no predicted samples.\n",
      "  'precision', 'predicted', average, warn_for)\n"
     ]
    },
    {
     "name": "stdout",
     "output_type": "stream",
     "text": [
      "[CV]  criterion=gini, max_depth=5, min_samples_leaf=5, min_samples_split=2, score=0.285903763247595, total=   0.2s\n",
      "[CV] criterion=gini, max_depth=5, min_samples_leaf=5, min_samples_split=5 \n"
     ]
    },
    {
     "name": "stderr",
     "output_type": "stream",
     "text": [
      "/anaconda3/lib/python3.7/site-packages/sklearn/metrics/classification.py:1143: UndefinedMetricWarning: F-score is ill-defined and being set to 0.0 in labels with no predicted samples.\n",
      "  'precision', 'predicted', average, warn_for)\n",
      "/anaconda3/lib/python3.7/site-packages/sklearn/metrics/classification.py:1143: UndefinedMetricWarning: F-score is ill-defined and being set to 0.0 in labels with no predicted samples.\n",
      "  'precision', 'predicted', average, warn_for)\n"
     ]
    },
    {
     "name": "stdout",
     "output_type": "stream",
     "text": [
      "[CV]  criterion=gini, max_depth=5, min_samples_leaf=5, min_samples_split=5, score=0.2891280625804539, total=   0.4s\n",
      "[CV] criterion=gini, max_depth=5, min_samples_leaf=5, min_samples_split=5 \n",
      "[CV]  criterion=gini, max_depth=5, min_samples_leaf=5, min_samples_split=5, score=0.31853769603337856, total=   0.4s\n",
      "[CV] criterion=gini, max_depth=5, min_samples_leaf=5, min_samples_split=5 \n"
     ]
    },
    {
     "name": "stderr",
     "output_type": "stream",
     "text": [
      "/anaconda3/lib/python3.7/site-packages/sklearn/metrics/classification.py:1143: UndefinedMetricWarning: F-score is ill-defined and being set to 0.0 in labels with no predicted samples.\n",
      "  'precision', 'predicted', average, warn_for)\n",
      "/anaconda3/lib/python3.7/site-packages/sklearn/metrics/classification.py:1143: UndefinedMetricWarning: F-score is ill-defined and being set to 0.0 in labels with no predicted samples.\n",
      "  'precision', 'predicted', average, warn_for)\n"
     ]
    },
    {
     "name": "stdout",
     "output_type": "stream",
     "text": [
      "[CV]  criterion=gini, max_depth=5, min_samples_leaf=5, min_samples_split=5, score=0.285903763247595, total=   0.3s\n",
      "[CV] criterion=gini, max_depth=5, min_samples_leaf=5, min_samples_split=10 \n"
     ]
    },
    {
     "name": "stderr",
     "output_type": "stream",
     "text": [
      "/anaconda3/lib/python3.7/site-packages/sklearn/metrics/classification.py:1143: UndefinedMetricWarning: F-score is ill-defined and being set to 0.0 in labels with no predicted samples.\n",
      "  'precision', 'predicted', average, warn_for)\n",
      "/anaconda3/lib/python3.7/site-packages/sklearn/metrics/classification.py:1143: UndefinedMetricWarning: F-score is ill-defined and being set to 0.0 in labels with no predicted samples.\n",
      "  'precision', 'predicted', average, warn_for)\n"
     ]
    },
    {
     "name": "stdout",
     "output_type": "stream",
     "text": [
      "[CV]  criterion=gini, max_depth=5, min_samples_leaf=5, min_samples_split=10, score=0.2891280625804539, total=   0.4s\n",
      "[CV] criterion=gini, max_depth=5, min_samples_leaf=5, min_samples_split=10 \n",
      "[CV]  criterion=gini, max_depth=5, min_samples_leaf=5, min_samples_split=10, score=0.31853769603337856, total=   0.2s\n",
      "[CV] criterion=gini, max_depth=5, min_samples_leaf=5, min_samples_split=10 \n"
     ]
    },
    {
     "name": "stderr",
     "output_type": "stream",
     "text": [
      "/anaconda3/lib/python3.7/site-packages/sklearn/metrics/classification.py:1143: UndefinedMetricWarning: F-score is ill-defined and being set to 0.0 in labels with no predicted samples.\n",
      "  'precision', 'predicted', average, warn_for)\n",
      "/anaconda3/lib/python3.7/site-packages/sklearn/metrics/classification.py:1143: UndefinedMetricWarning: F-score is ill-defined and being set to 0.0 in labels with no predicted samples.\n",
      "  'precision', 'predicted', average, warn_for)\n"
     ]
    },
    {
     "name": "stdout",
     "output_type": "stream",
     "text": [
      "[CV]  criterion=gini, max_depth=5, min_samples_leaf=5, min_samples_split=10, score=0.285903763247595, total=   0.2s\n",
      "[CV] criterion=gini, max_depth=5, min_samples_leaf=6, min_samples_split=2 \n"
     ]
    },
    {
     "name": "stderr",
     "output_type": "stream",
     "text": [
      "/anaconda3/lib/python3.7/site-packages/sklearn/metrics/classification.py:1143: UndefinedMetricWarning: F-score is ill-defined and being set to 0.0 in labels with no predicted samples.\n",
      "  'precision', 'predicted', average, warn_for)\n",
      "/anaconda3/lib/python3.7/site-packages/sklearn/metrics/classification.py:1143: UndefinedMetricWarning: F-score is ill-defined and being set to 0.0 in labels with no predicted samples.\n",
      "  'precision', 'predicted', average, warn_for)\n"
     ]
    },
    {
     "name": "stdout",
     "output_type": "stream",
     "text": [
      "[CV]  criterion=gini, max_depth=5, min_samples_leaf=6, min_samples_split=2, score=0.2891280625804539, total=   0.2s\n",
      "[CV] criterion=gini, max_depth=5, min_samples_leaf=6, min_samples_split=2 \n",
      "[CV]  criterion=gini, max_depth=5, min_samples_leaf=6, min_samples_split=2, score=0.31853769603337856, total=   0.2s\n",
      "[CV] criterion=gini, max_depth=5, min_samples_leaf=6, min_samples_split=2 \n"
     ]
    },
    {
     "name": "stderr",
     "output_type": "stream",
     "text": [
      "/anaconda3/lib/python3.7/site-packages/sklearn/metrics/classification.py:1143: UndefinedMetricWarning: F-score is ill-defined and being set to 0.0 in labels with no predicted samples.\n",
      "  'precision', 'predicted', average, warn_for)\n",
      "/anaconda3/lib/python3.7/site-packages/sklearn/metrics/classification.py:1143: UndefinedMetricWarning: F-score is ill-defined and being set to 0.0 in labels with no predicted samples.\n",
      "  'precision', 'predicted', average, warn_for)\n"
     ]
    },
    {
     "name": "stdout",
     "output_type": "stream",
     "text": [
      "[CV]  criterion=gini, max_depth=5, min_samples_leaf=6, min_samples_split=2, score=0.285903763247595, total=   0.2s\n",
      "[CV] criterion=gini, max_depth=5, min_samples_leaf=6, min_samples_split=5 \n"
     ]
    },
    {
     "name": "stderr",
     "output_type": "stream",
     "text": [
      "/anaconda3/lib/python3.7/site-packages/sklearn/metrics/classification.py:1143: UndefinedMetricWarning: F-score is ill-defined and being set to 0.0 in labels with no predicted samples.\n",
      "  'precision', 'predicted', average, warn_for)\n",
      "/anaconda3/lib/python3.7/site-packages/sklearn/metrics/classification.py:1143: UndefinedMetricWarning: F-score is ill-defined and being set to 0.0 in labels with no predicted samples.\n",
      "  'precision', 'predicted', average, warn_for)\n"
     ]
    },
    {
     "name": "stdout",
     "output_type": "stream",
     "text": [
      "[CV]  criterion=gini, max_depth=5, min_samples_leaf=6, min_samples_split=5, score=0.2891280625804539, total=   0.2s\n",
      "[CV] criterion=gini, max_depth=5, min_samples_leaf=6, min_samples_split=5 \n",
      "[CV]  criterion=gini, max_depth=5, min_samples_leaf=6, min_samples_split=5, score=0.31853769603337856, total=   0.2s\n",
      "[CV] criterion=gini, max_depth=5, min_samples_leaf=6, min_samples_split=5 \n"
     ]
    },
    {
     "name": "stderr",
     "output_type": "stream",
     "text": [
      "/anaconda3/lib/python3.7/site-packages/sklearn/metrics/classification.py:1143: UndefinedMetricWarning: F-score is ill-defined and being set to 0.0 in labels with no predicted samples.\n",
      "  'precision', 'predicted', average, warn_for)\n",
      "/anaconda3/lib/python3.7/site-packages/sklearn/metrics/classification.py:1143: UndefinedMetricWarning: F-score is ill-defined and being set to 0.0 in labels with no predicted samples.\n",
      "  'precision', 'predicted', average, warn_for)\n"
     ]
    },
    {
     "name": "stdout",
     "output_type": "stream",
     "text": [
      "[CV]  criterion=gini, max_depth=5, min_samples_leaf=6, min_samples_split=5, score=0.285903763247595, total=   0.2s\n",
      "[CV] criterion=gini, max_depth=5, min_samples_leaf=6, min_samples_split=10 \n"
     ]
    },
    {
     "name": "stderr",
     "output_type": "stream",
     "text": [
      "/anaconda3/lib/python3.7/site-packages/sklearn/metrics/classification.py:1143: UndefinedMetricWarning: F-score is ill-defined and being set to 0.0 in labels with no predicted samples.\n",
      "  'precision', 'predicted', average, warn_for)\n",
      "/anaconda3/lib/python3.7/site-packages/sklearn/metrics/classification.py:1143: UndefinedMetricWarning: F-score is ill-defined and being set to 0.0 in labels with no predicted samples.\n",
      "  'precision', 'predicted', average, warn_for)\n"
     ]
    },
    {
     "name": "stdout",
     "output_type": "stream",
     "text": [
      "[CV]  criterion=gini, max_depth=5, min_samples_leaf=6, min_samples_split=10, score=0.2891280625804539, total=   0.2s\n",
      "[CV] criterion=gini, max_depth=5, min_samples_leaf=6, min_samples_split=10 \n",
      "[CV]  criterion=gini, max_depth=5, min_samples_leaf=6, min_samples_split=10, score=0.31853769603337856, total=   0.2s\n",
      "[CV] criterion=gini, max_depth=5, min_samples_leaf=6, min_samples_split=10 \n"
     ]
    },
    {
     "name": "stderr",
     "output_type": "stream",
     "text": [
      "/anaconda3/lib/python3.7/site-packages/sklearn/metrics/classification.py:1143: UndefinedMetricWarning: F-score is ill-defined and being set to 0.0 in labels with no predicted samples.\n",
      "  'precision', 'predicted', average, warn_for)\n",
      "/anaconda3/lib/python3.7/site-packages/sklearn/metrics/classification.py:1143: UndefinedMetricWarning: F-score is ill-defined and being set to 0.0 in labels with no predicted samples.\n",
      "  'precision', 'predicted', average, warn_for)\n"
     ]
    },
    {
     "name": "stdout",
     "output_type": "stream",
     "text": [
      "[CV]  criterion=gini, max_depth=5, min_samples_leaf=6, min_samples_split=10, score=0.285903763247595, total=   0.2s\n",
      "[CV] criterion=gini, max_depth=6, min_samples_leaf=1, min_samples_split=2 \n",
      "[CV]  criterion=gini, max_depth=6, min_samples_leaf=1, min_samples_split=2, score=0.296797419487169, total=   0.2s\n",
      "[CV] criterion=gini, max_depth=6, min_samples_leaf=1, min_samples_split=2 \n",
      "[CV]  criterion=gini, max_depth=6, min_samples_leaf=1, min_samples_split=2, score=0.30010722246210014, total=   0.3s\n",
      "[CV] criterion=gini, max_depth=6, min_samples_leaf=1, min_samples_split=2 \n",
      "[CV]  criterion=gini, max_depth=6, min_samples_leaf=1, min_samples_split=2, score=0.29122406931454825, total=   0.4s\n",
      "[CV] criterion=gini, max_depth=6, min_samples_leaf=1, min_samples_split=5 \n",
      "[CV]  criterion=gini, max_depth=6, min_samples_leaf=1, min_samples_split=5, score=0.296797419487169, total=   0.4s\n",
      "[CV] criterion=gini, max_depth=6, min_samples_leaf=1, min_samples_split=5 \n",
      "[CV]  criterion=gini, max_depth=6, min_samples_leaf=1, min_samples_split=5, score=0.3001923784175789, total=   0.4s\n",
      "[CV] criterion=gini, max_depth=6, min_samples_leaf=1, min_samples_split=5 \n",
      "[CV]  criterion=gini, max_depth=6, min_samples_leaf=1, min_samples_split=5, score=0.29122406931454825, total=   0.2s\n",
      "[CV] criterion=gini, max_depth=6, min_samples_leaf=1, min_samples_split=10 \n",
      "[CV]  criterion=gini, max_depth=6, min_samples_leaf=1, min_samples_split=10, score=0.296797419487169, total=   0.3s\n",
      "[CV] criterion=gini, max_depth=6, min_samples_leaf=1, min_samples_split=10 \n",
      "[CV]  criterion=gini, max_depth=6, min_samples_leaf=1, min_samples_split=10, score=0.30010722246210014, total=   0.2s\n",
      "[CV] criterion=gini, max_depth=6, min_samples_leaf=1, min_samples_split=10 \n",
      "[CV]  criterion=gini, max_depth=6, min_samples_leaf=1, min_samples_split=10, score=0.29122406931454825, total=   0.2s\n",
      "[CV] criterion=gini, max_depth=6, min_samples_leaf=2, min_samples_split=2 \n",
      "[CV]  criterion=gini, max_depth=6, min_samples_leaf=2, min_samples_split=2, score=0.2968033647061132, total=   0.2s\n",
      "[CV] criterion=gini, max_depth=6, min_samples_leaf=2, min_samples_split=2 \n",
      "[CV]  criterion=gini, max_depth=6, min_samples_leaf=2, min_samples_split=2, score=0.3001923784175789, total=   0.3s\n",
      "[CV] criterion=gini, max_depth=6, min_samples_leaf=2, min_samples_split=2 \n",
      "[CV]  criterion=gini, max_depth=6, min_samples_leaf=2, min_samples_split=2, score=0.29122406931454825, total=   0.4s\n",
      "[CV] criterion=gini, max_depth=6, min_samples_leaf=2, min_samples_split=5 \n",
      "[CV]  criterion=gini, max_depth=6, min_samples_leaf=2, min_samples_split=5, score=0.2968033647061132, total=   0.4s\n",
      "[CV] criterion=gini, max_depth=6, min_samples_leaf=2, min_samples_split=5 \n",
      "[CV]  criterion=gini, max_depth=6, min_samples_leaf=2, min_samples_split=5, score=0.3001923784175789, total=   0.4s\n",
      "[CV] criterion=gini, max_depth=6, min_samples_leaf=2, min_samples_split=5 \n",
      "[CV]  criterion=gini, max_depth=6, min_samples_leaf=2, min_samples_split=5, score=0.29122406931454825, total=   0.4s\n",
      "[CV] criterion=gini, max_depth=6, min_samples_leaf=2, min_samples_split=10 \n",
      "[CV]  criterion=gini, max_depth=6, min_samples_leaf=2, min_samples_split=10, score=0.296797419487169, total=   0.3s\n",
      "[CV] criterion=gini, max_depth=6, min_samples_leaf=2, min_samples_split=10 \n",
      "[CV]  criterion=gini, max_depth=6, min_samples_leaf=2, min_samples_split=10, score=0.3001923784175789, total=   0.2s\n",
      "[CV] criterion=gini, max_depth=6, min_samples_leaf=2, min_samples_split=10 \n",
      "[CV]  criterion=gini, max_depth=6, min_samples_leaf=2, min_samples_split=10, score=0.29122406931454825, total=   0.2s\n",
      "[CV] criterion=gini, max_depth=6, min_samples_leaf=3, min_samples_split=2 \n",
      "[CV]  criterion=gini, max_depth=6, min_samples_leaf=3, min_samples_split=2, score=0.296797419487169, total=   0.3s\n",
      "[CV] criterion=gini, max_depth=6, min_samples_leaf=3, min_samples_split=2 \n",
      "[CV]  criterion=gini, max_depth=6, min_samples_leaf=3, min_samples_split=2, score=0.30010722246210014, total=   0.2s\n",
      "[CV] criterion=gini, max_depth=6, min_samples_leaf=3, min_samples_split=2 \n",
      "[CV]  criterion=gini, max_depth=6, min_samples_leaf=3, min_samples_split=2, score=0.2912365016777265, total=   0.2s\n",
      "[CV] criterion=gini, max_depth=6, min_samples_leaf=3, min_samples_split=5 \n",
      "[CV]  criterion=gini, max_depth=6, min_samples_leaf=3, min_samples_split=5, score=0.2968033647061132, total=   0.2s\n",
      "[CV] criterion=gini, max_depth=6, min_samples_leaf=3, min_samples_split=5 \n",
      "[CV]  criterion=gini, max_depth=6, min_samples_leaf=3, min_samples_split=5, score=0.30010722246210014, total=   0.2s\n",
      "[CV] criterion=gini, max_depth=6, min_samples_leaf=3, min_samples_split=5 \n",
      "[CV]  criterion=gini, max_depth=6, min_samples_leaf=3, min_samples_split=5, score=0.2912365016777265, total=   0.2s\n",
      "[CV] criterion=gini, max_depth=6, min_samples_leaf=3, min_samples_split=10 \n",
      "[CV]  criterion=gini, max_depth=6, min_samples_leaf=3, min_samples_split=10, score=0.2968033647061132, total=   0.3s\n",
      "[CV] criterion=gini, max_depth=6, min_samples_leaf=3, min_samples_split=10 \n",
      "[CV]  criterion=gini, max_depth=6, min_samples_leaf=3, min_samples_split=10, score=0.3001923784175789, total=   0.4s\n",
      "[CV] criterion=gini, max_depth=6, min_samples_leaf=3, min_samples_split=10 \n",
      "[CV]  criterion=gini, max_depth=6, min_samples_leaf=3, min_samples_split=10, score=0.2912365016777265, total=   0.4s\n",
      "[CV] criterion=gini, max_depth=6, min_samples_leaf=4, min_samples_split=2 \n",
      "[CV]  criterion=gini, max_depth=6, min_samples_leaf=4, min_samples_split=2, score=0.29688198338148136, total=   0.4s\n",
      "[CV] criterion=gini, max_depth=6, min_samples_leaf=4, min_samples_split=2 \n",
      "[CV]  criterion=gini, max_depth=6, min_samples_leaf=4, min_samples_split=2, score=0.30041212753845087, total=   0.5s\n",
      "[CV] criterion=gini, max_depth=6, min_samples_leaf=4, min_samples_split=2 \n",
      "[CV]  criterion=gini, max_depth=6, min_samples_leaf=4, min_samples_split=2, score=0.2915443698433161, total=   0.4s\n",
      "[CV] criterion=gini, max_depth=6, min_samples_leaf=4, min_samples_split=5 \n",
      "[CV]  criterion=gini, max_depth=6, min_samples_leaf=4, min_samples_split=5, score=0.2968879377039601, total=   0.4s\n",
      "[CV] criterion=gini, max_depth=6, min_samples_leaf=4, min_samples_split=5 \n",
      "[CV]  criterion=gini, max_depth=6, min_samples_leaf=4, min_samples_split=5, score=0.30041212753845087, total=   0.2s\n",
      "[CV] criterion=gini, max_depth=6, min_samples_leaf=4, min_samples_split=5 \n",
      "[CV]  criterion=gini, max_depth=6, min_samples_leaf=4, min_samples_split=5, score=0.2915443698433161, total=   0.4s\n",
      "[CV] criterion=gini, max_depth=6, min_samples_leaf=4, min_samples_split=10 \n",
      "[CV]  criterion=gini, max_depth=6, min_samples_leaf=4, min_samples_split=10, score=0.29688198338148136, total=   0.4s\n",
      "[CV] criterion=gini, max_depth=6, min_samples_leaf=4, min_samples_split=10 \n",
      "[CV]  criterion=gini, max_depth=6, min_samples_leaf=4, min_samples_split=10, score=0.30041212753845087, total=   0.4s\n",
      "[CV] criterion=gini, max_depth=6, min_samples_leaf=4, min_samples_split=10 \n",
      "[CV]  criterion=gini, max_depth=6, min_samples_leaf=4, min_samples_split=10, score=0.2915443698433161, total=   0.3s\n",
      "[CV] criterion=gini, max_depth=6, min_samples_leaf=5, min_samples_split=2 \n",
      "[CV]  criterion=gini, max_depth=6, min_samples_leaf=5, min_samples_split=2, score=0.2967568837681926, total=   0.2s\n",
      "[CV] criterion=gini, max_depth=6, min_samples_leaf=5, min_samples_split=2 \n",
      "[CV]  criterion=gini, max_depth=6, min_samples_leaf=5, min_samples_split=2, score=0.3042492956555043, total=   0.3s\n",
      "[CV] criterion=gini, max_depth=6, min_samples_leaf=5, min_samples_split=2 \n",
      "[CV]  criterion=gini, max_depth=6, min_samples_leaf=5, min_samples_split=2, score=0.2915443698433161, total=   0.3s\n",
      "[CV] criterion=gini, max_depth=6, min_samples_leaf=5, min_samples_split=5 \n",
      "[CV]  criterion=gini, max_depth=6, min_samples_leaf=5, min_samples_split=5, score=0.29676282610204346, total=   0.5s\n",
      "[CV] criterion=gini, max_depth=6, min_samples_leaf=5, min_samples_split=5 \n",
      "[CV]  criterion=gini, max_depth=6, min_samples_leaf=5, min_samples_split=5, score=0.3042492956555043, total=   0.5s\n",
      "[CV] criterion=gini, max_depth=6, min_samples_leaf=5, min_samples_split=5 \n",
      "[CV]  criterion=gini, max_depth=6, min_samples_leaf=5, min_samples_split=5, score=0.2915443698433161, total=   0.4s\n",
      "[CV] criterion=gini, max_depth=6, min_samples_leaf=5, min_samples_split=10 \n"
     ]
    },
    {
     "name": "stdout",
     "output_type": "stream",
     "text": [
      "[CV]  criterion=gini, max_depth=6, min_samples_leaf=5, min_samples_split=10, score=0.2967568837681926, total=   0.4s\n",
      "[CV] criterion=gini, max_depth=6, min_samples_leaf=5, min_samples_split=10 \n",
      "[CV]  criterion=gini, max_depth=6, min_samples_leaf=5, min_samples_split=10, score=0.3042492956555043, total=   0.2s\n",
      "[CV] criterion=gini, max_depth=6, min_samples_leaf=5, min_samples_split=10 \n",
      "[CV]  criterion=gini, max_depth=6, min_samples_leaf=5, min_samples_split=10, score=0.2915443698433161, total=   0.2s\n",
      "[CV] criterion=gini, max_depth=6, min_samples_leaf=6, min_samples_split=2 \n",
      "[CV]  criterion=gini, max_depth=6, min_samples_leaf=6, min_samples_split=2, score=0.29676282610204346, total=   0.3s\n",
      "[CV] criterion=gini, max_depth=6, min_samples_leaf=6, min_samples_split=2 \n",
      "[CV]  criterion=gini, max_depth=6, min_samples_leaf=6, min_samples_split=2, score=0.3042723915767666, total=   0.2s\n",
      "[CV] criterion=gini, max_depth=6, min_samples_leaf=6, min_samples_split=2 \n",
      "[CV]  criterion=gini, max_depth=6, min_samples_leaf=6, min_samples_split=2, score=0.2919541310060944, total=   0.2s\n",
      "[CV] criterion=gini, max_depth=6, min_samples_leaf=6, min_samples_split=5 \n",
      "[CV]  criterion=gini, max_depth=6, min_samples_leaf=6, min_samples_split=5, score=0.2967568837681926, total=   0.2s\n",
      "[CV] criterion=gini, max_depth=6, min_samples_leaf=6, min_samples_split=5 \n",
      "[CV]  criterion=gini, max_depth=6, min_samples_leaf=6, min_samples_split=5, score=0.3042723915767666, total=   0.2s\n",
      "[CV] criterion=gini, max_depth=6, min_samples_leaf=6, min_samples_split=5 \n",
      "[CV]  criterion=gini, max_depth=6, min_samples_leaf=6, min_samples_split=5, score=0.2919541310060944, total=   0.2s\n",
      "[CV] criterion=gini, max_depth=6, min_samples_leaf=6, min_samples_split=10 \n",
      "[CV]  criterion=gini, max_depth=6, min_samples_leaf=6, min_samples_split=10, score=0.29676282610204346, total=   0.2s\n",
      "[CV] criterion=gini, max_depth=6, min_samples_leaf=6, min_samples_split=10 \n",
      "[CV]  criterion=gini, max_depth=6, min_samples_leaf=6, min_samples_split=10, score=0.3042723915767666, total=   0.2s\n",
      "[CV] criterion=gini, max_depth=6, min_samples_leaf=6, min_samples_split=10 \n",
      "[CV]  criterion=gini, max_depth=6, min_samples_leaf=6, min_samples_split=10, score=0.2919541310060944, total=   0.2s\n",
      "[CV] criterion=entropy, max_depth=None, min_samples_leaf=1, min_samples_split=2 \n",
      "[CV]  criterion=entropy, max_depth=None, min_samples_leaf=1, min_samples_split=2, score=0.3572917792507572, total=   0.9s\n",
      "[CV] criterion=entropy, max_depth=None, min_samples_leaf=1, min_samples_split=2 \n",
      "[CV]  criterion=entropy, max_depth=None, min_samples_leaf=1, min_samples_split=2, score=0.34975196378400364, total=   0.9s\n",
      "[CV] criterion=entropy, max_depth=None, min_samples_leaf=1, min_samples_split=2 \n",
      "[CV]  criterion=entropy, max_depth=None, min_samples_leaf=1, min_samples_split=2, score=0.35578634819391625, total=   1.0s\n",
      "[CV] criterion=entropy, max_depth=None, min_samples_leaf=1, min_samples_split=5 \n",
      "[CV]  criterion=entropy, max_depth=None, min_samples_leaf=1, min_samples_split=5, score=0.35425162738602817, total=   0.9s\n",
      "[CV] criterion=entropy, max_depth=None, min_samples_leaf=1, min_samples_split=5 \n",
      "[CV]  criterion=entropy, max_depth=None, min_samples_leaf=1, min_samples_split=5, score=0.34719480555216115, total=   1.2s\n",
      "[CV] criterion=entropy, max_depth=None, min_samples_leaf=1, min_samples_split=5 \n",
      "[CV]  criterion=entropy, max_depth=None, min_samples_leaf=1, min_samples_split=5, score=0.3582028347035225, total=   1.5s\n",
      "[CV] criterion=entropy, max_depth=None, min_samples_leaf=1, min_samples_split=10 \n",
      "[CV]  criterion=entropy, max_depth=None, min_samples_leaf=1, min_samples_split=10, score=0.36123373534209363, total=   1.6s\n",
      "[CV] criterion=entropy, max_depth=None, min_samples_leaf=1, min_samples_split=10 \n",
      "[CV]  criterion=entropy, max_depth=None, min_samples_leaf=1, min_samples_split=10, score=0.3532955296596698, total=   1.0s\n",
      "[CV] criterion=entropy, max_depth=None, min_samples_leaf=1, min_samples_split=10 \n",
      "[CV]  criterion=entropy, max_depth=None, min_samples_leaf=1, min_samples_split=10, score=0.352509985729176, total=   1.0s\n",
      "[CV] criterion=entropy, max_depth=None, min_samples_leaf=2, min_samples_split=2 \n",
      "[CV]  criterion=entropy, max_depth=None, min_samples_leaf=2, min_samples_split=2, score=0.3549893872039422, total=   1.7s\n",
      "[CV] criterion=entropy, max_depth=None, min_samples_leaf=2, min_samples_split=2 \n",
      "[CV]  criterion=entropy, max_depth=None, min_samples_leaf=2, min_samples_split=2, score=0.34697731937147996, total=   1.1s\n",
      "[CV] criterion=entropy, max_depth=None, min_samples_leaf=2, min_samples_split=2 \n",
      "[CV]  criterion=entropy, max_depth=None, min_samples_leaf=2, min_samples_split=2, score=0.3529059900915226, total=   1.0s\n",
      "[CV] criterion=entropy, max_depth=None, min_samples_leaf=2, min_samples_split=5 \n",
      "[CV]  criterion=entropy, max_depth=None, min_samples_leaf=2, min_samples_split=5, score=0.3560396153689818, total=   0.9s\n",
      "[CV] criterion=entropy, max_depth=None, min_samples_leaf=2, min_samples_split=5 \n",
      "[CV]  criterion=entropy, max_depth=None, min_samples_leaf=2, min_samples_split=5, score=0.347570246990246, total=   0.9s\n",
      "[CV] criterion=entropy, max_depth=None, min_samples_leaf=2, min_samples_split=5 \n",
      "[CV]  criterion=entropy, max_depth=None, min_samples_leaf=2, min_samples_split=5, score=0.3539835618513982, total=   0.9s\n",
      "[CV] criterion=entropy, max_depth=None, min_samples_leaf=2, min_samples_split=10 \n",
      "[CV]  criterion=entropy, max_depth=None, min_samples_leaf=2, min_samples_split=10, score=0.36018371061750587, total=   0.9s\n",
      "[CV] criterion=entropy, max_depth=None, min_samples_leaf=2, min_samples_split=10 \n",
      "[CV]  criterion=entropy, max_depth=None, min_samples_leaf=2, min_samples_split=10, score=0.3535975402288751, total=   0.9s\n",
      "[CV] criterion=entropy, max_depth=None, min_samples_leaf=2, min_samples_split=10 \n",
      "[CV]  criterion=entropy, max_depth=None, min_samples_leaf=2, min_samples_split=10, score=0.35471088951448554, total=   1.7s\n",
      "[CV] criterion=entropy, max_depth=None, min_samples_leaf=3, min_samples_split=2 \n",
      "[CV]  criterion=entropy, max_depth=None, min_samples_leaf=3, min_samples_split=2, score=0.36110201192986596, total=   1.8s\n",
      "[CV] criterion=entropy, max_depth=None, min_samples_leaf=3, min_samples_split=2 \n",
      "[CV]  criterion=entropy, max_depth=None, min_samples_leaf=3, min_samples_split=2, score=0.3524689669638283, total=   1.1s\n",
      "[CV] criterion=entropy, max_depth=None, min_samples_leaf=3, min_samples_split=2 \n",
      "[CV]  criterion=entropy, max_depth=None, min_samples_leaf=3, min_samples_split=2, score=0.35475159269980755, total=   0.9s\n",
      "[CV] criterion=entropy, max_depth=None, min_samples_leaf=3, min_samples_split=5 \n",
      "[CV]  criterion=entropy, max_depth=None, min_samples_leaf=3, min_samples_split=5, score=0.3602763932296509, total=   1.6s\n",
      "[CV] criterion=entropy, max_depth=None, min_samples_leaf=3, min_samples_split=5 \n",
      "[CV]  criterion=entropy, max_depth=None, min_samples_leaf=3, min_samples_split=5, score=0.3503301883889562, total=   0.9s\n",
      "[CV] criterion=entropy, max_depth=None, min_samples_leaf=3, min_samples_split=5 \n",
      "[CV]  criterion=entropy, max_depth=None, min_samples_leaf=3, min_samples_split=5, score=0.35455899653827955, total=   1.5s\n",
      "[CV] criterion=entropy, max_depth=None, min_samples_leaf=3, min_samples_split=10 \n",
      "[CV]  criterion=entropy, max_depth=None, min_samples_leaf=3, min_samples_split=10, score=0.3615082186759038, total=   1.4s\n",
      "[CV] criterion=entropy, max_depth=None, min_samples_leaf=3, min_samples_split=10 \n",
      "[CV]  criterion=entropy, max_depth=None, min_samples_leaf=3, min_samples_split=10, score=0.35585734723460155, total=   1.5s\n",
      "[CV] criterion=entropy, max_depth=None, min_samples_leaf=3, min_samples_split=10 \n",
      "[CV]  criterion=entropy, max_depth=None, min_samples_leaf=3, min_samples_split=10, score=0.3538516332869741, total=   1.2s\n",
      "[CV] criterion=entropy, max_depth=None, min_samples_leaf=4, min_samples_split=2 \n",
      "[CV]  criterion=entropy, max_depth=None, min_samples_leaf=4, min_samples_split=2, score=0.36289777742122714, total=   0.9s\n",
      "[CV] criterion=entropy, max_depth=None, min_samples_leaf=4, min_samples_split=2 \n",
      "[CV]  criterion=entropy, max_depth=None, min_samples_leaf=4, min_samples_split=2, score=0.35470416412804934, total=   0.9s\n",
      "[CV] criterion=entropy, max_depth=None, min_samples_leaf=4, min_samples_split=2 \n"
     ]
    },
    {
     "name": "stdout",
     "output_type": "stream",
     "text": [
      "[CV]  criterion=entropy, max_depth=None, min_samples_leaf=4, min_samples_split=2, score=0.3534701224471622, total=   0.9s\n",
      "[CV] criterion=entropy, max_depth=None, min_samples_leaf=4, min_samples_split=5 \n",
      "[CV]  criterion=entropy, max_depth=None, min_samples_leaf=4, min_samples_split=5, score=0.3646867751363428, total=   0.9s\n",
      "[CV] criterion=entropy, max_depth=None, min_samples_leaf=4, min_samples_split=5 \n",
      "[CV]  criterion=entropy, max_depth=None, min_samples_leaf=4, min_samples_split=5, score=0.3551129767531685, total=   0.9s\n",
      "[CV] criterion=entropy, max_depth=None, min_samples_leaf=4, min_samples_split=5 \n",
      "[CV]  criterion=entropy, max_depth=None, min_samples_leaf=4, min_samples_split=5, score=0.3534779728299737, total=   0.9s\n",
      "[CV] criterion=entropy, max_depth=None, min_samples_leaf=4, min_samples_split=10 \n",
      "[CV]  criterion=entropy, max_depth=None, min_samples_leaf=4, min_samples_split=10, score=0.3622974343998226, total=   0.8s\n",
      "[CV] criterion=entropy, max_depth=None, min_samples_leaf=4, min_samples_split=10 \n",
      "[CV]  criterion=entropy, max_depth=None, min_samples_leaf=4, min_samples_split=10, score=0.355350265564802, total=   0.9s\n",
      "[CV] criterion=entropy, max_depth=None, min_samples_leaf=4, min_samples_split=10 \n",
      "[CV]  criterion=entropy, max_depth=None, min_samples_leaf=4, min_samples_split=10, score=0.3554844829651773, total=   0.9s\n",
      "[CV] criterion=entropy, max_depth=None, min_samples_leaf=5, min_samples_split=2 \n",
      "[CV]  criterion=entropy, max_depth=None, min_samples_leaf=5, min_samples_split=2, score=0.3559418468169839, total=   0.8s\n",
      "[CV] criterion=entropy, max_depth=None, min_samples_leaf=5, min_samples_split=2 \n",
      "[CV]  criterion=entropy, max_depth=None, min_samples_leaf=5, min_samples_split=2, score=0.359148261424956, total=   1.2s\n",
      "[CV] criterion=entropy, max_depth=None, min_samples_leaf=5, min_samples_split=2 \n",
      "[CV]  criterion=entropy, max_depth=None, min_samples_leaf=5, min_samples_split=2, score=0.35466215120201783, total=   1.7s\n",
      "[CV] criterion=entropy, max_depth=None, min_samples_leaf=5, min_samples_split=5 \n",
      "[CV]  criterion=entropy, max_depth=None, min_samples_leaf=5, min_samples_split=5, score=0.3548586527677282, total=   1.0s\n",
      "[CV] criterion=entropy, max_depth=None, min_samples_leaf=5, min_samples_split=5 \n",
      "[CV]  criterion=entropy, max_depth=None, min_samples_leaf=5, min_samples_split=5, score=0.35789873071346223, total=   0.8s\n",
      "[CV] criterion=entropy, max_depth=None, min_samples_leaf=5, min_samples_split=5 \n",
      "[CV]  criterion=entropy, max_depth=None, min_samples_leaf=5, min_samples_split=5, score=0.35794877053404295, total=   0.9s\n",
      "[CV] criterion=entropy, max_depth=None, min_samples_leaf=5, min_samples_split=10 \n",
      "[CV]  criterion=entropy, max_depth=None, min_samples_leaf=5, min_samples_split=10, score=0.35632037596849814, total=   0.8s\n",
      "[CV] criterion=entropy, max_depth=None, min_samples_leaf=5, min_samples_split=10 \n",
      "[CV]  criterion=entropy, max_depth=None, min_samples_leaf=5, min_samples_split=10, score=0.3593113842860893, total=   0.8s\n",
      "[CV] criterion=entropy, max_depth=None, min_samples_leaf=5, min_samples_split=10 \n",
      "[CV]  criterion=entropy, max_depth=None, min_samples_leaf=5, min_samples_split=10, score=0.35574230299077375, total=   0.9s\n",
      "[CV] criterion=entropy, max_depth=None, min_samples_leaf=6, min_samples_split=2 \n",
      "[CV]  criterion=entropy, max_depth=None, min_samples_leaf=6, min_samples_split=2, score=0.35832850968245394, total=   0.8s\n",
      "[CV] criterion=entropy, max_depth=None, min_samples_leaf=6, min_samples_split=2 \n",
      "[CV]  criterion=entropy, max_depth=None, min_samples_leaf=6, min_samples_split=2, score=0.3613477391040192, total=   0.8s\n",
      "[CV] criterion=entropy, max_depth=None, min_samples_leaf=6, min_samples_split=2 \n",
      "[CV]  criterion=entropy, max_depth=None, min_samples_leaf=6, min_samples_split=2, score=0.360940286854804, total=   0.9s\n",
      "[CV] criterion=entropy, max_depth=None, min_samples_leaf=6, min_samples_split=5 \n",
      "[CV]  criterion=entropy, max_depth=None, min_samples_leaf=6, min_samples_split=5, score=0.3585639781278765, total=   0.8s\n",
      "[CV] criterion=entropy, max_depth=None, min_samples_leaf=6, min_samples_split=5 \n",
      "[CV]  criterion=entropy, max_depth=None, min_samples_leaf=6, min_samples_split=5, score=0.3614329079922521, total=   0.8s\n",
      "[CV] criterion=entropy, max_depth=None, min_samples_leaf=6, min_samples_split=5 \n",
      "[CV]  criterion=entropy, max_depth=None, min_samples_leaf=6, min_samples_split=5, score=0.36094367833917024, total=   0.8s\n",
      "[CV] criterion=entropy, max_depth=None, min_samples_leaf=6, min_samples_split=10 \n",
      "[CV]  criterion=entropy, max_depth=None, min_samples_leaf=6, min_samples_split=10, score=0.35834530670182757, total=   0.8s\n",
      "[CV] criterion=entropy, max_depth=None, min_samples_leaf=6, min_samples_split=10 \n",
      "[CV]  criterion=entropy, max_depth=None, min_samples_leaf=6, min_samples_split=10, score=0.3607346665546219, total=   1.2s\n",
      "[CV] criterion=entropy, max_depth=None, min_samples_leaf=6, min_samples_split=10 \n",
      "[CV]  criterion=entropy, max_depth=None, min_samples_leaf=6, min_samples_split=10, score=0.3588080909302942, total=   1.1s\n",
      "[CV] criterion=entropy, max_depth=2, min_samples_leaf=1, min_samples_split=2 \n",
      "[CV]  criterion=entropy, max_depth=2, min_samples_leaf=1, min_samples_split=2, score=0.2392277202403785, total=   0.1s\n",
      "[CV] criterion=entropy, max_depth=2, min_samples_leaf=1, min_samples_split=2 \n"
     ]
    },
    {
     "name": "stderr",
     "output_type": "stream",
     "text": [
      "/anaconda3/lib/python3.7/site-packages/sklearn/metrics/classification.py:1143: UndefinedMetricWarning: F-score is ill-defined and being set to 0.0 in labels with no predicted samples.\n",
      "  'precision', 'predicted', average, warn_for)\n",
      "/anaconda3/lib/python3.7/site-packages/sklearn/metrics/classification.py:1143: UndefinedMetricWarning: F-score is ill-defined and being set to 0.0 in labels with no predicted samples.\n",
      "  'precision', 'predicted', average, warn_for)\n",
      "/anaconda3/lib/python3.7/site-packages/sklearn/metrics/classification.py:1143: UndefinedMetricWarning: F-score is ill-defined and being set to 0.0 in labels with no predicted samples.\n",
      "  'precision', 'predicted', average, warn_for)\n",
      "/anaconda3/lib/python3.7/site-packages/sklearn/metrics/classification.py:1143: UndefinedMetricWarning: F-score is ill-defined and being set to 0.0 in labels with no predicted samples.\n",
      "  'precision', 'predicted', average, warn_for)\n"
     ]
    },
    {
     "name": "stdout",
     "output_type": "stream",
     "text": [
      "[CV]  criterion=entropy, max_depth=2, min_samples_leaf=1, min_samples_split=2, score=0.23922935115032554, total=   0.1s\n",
      "[CV] criterion=entropy, max_depth=2, min_samples_leaf=1, min_samples_split=2 \n",
      "[CV]  criterion=entropy, max_depth=2, min_samples_leaf=1, min_samples_split=2, score=0.23923699914748509, total=   0.1s\n",
      "[CV] criterion=entropy, max_depth=2, min_samples_leaf=1, min_samples_split=5 \n"
     ]
    },
    {
     "name": "stderr",
     "output_type": "stream",
     "text": [
      "/anaconda3/lib/python3.7/site-packages/sklearn/metrics/classification.py:1143: UndefinedMetricWarning: F-score is ill-defined and being set to 0.0 in labels with no predicted samples.\n",
      "  'precision', 'predicted', average, warn_for)\n",
      "/anaconda3/lib/python3.7/site-packages/sklearn/metrics/classification.py:1143: UndefinedMetricWarning: F-score is ill-defined and being set to 0.0 in labels with no predicted samples.\n",
      "  'precision', 'predicted', average, warn_for)\n",
      "/anaconda3/lib/python3.7/site-packages/sklearn/metrics/classification.py:1143: UndefinedMetricWarning: F-score is ill-defined and being set to 0.0 in labels with no predicted samples.\n",
      "  'precision', 'predicted', average, warn_for)\n",
      "/anaconda3/lib/python3.7/site-packages/sklearn/metrics/classification.py:1143: UndefinedMetricWarning: F-score is ill-defined and being set to 0.0 in labels with no predicted samples.\n",
      "  'precision', 'predicted', average, warn_for)\n"
     ]
    },
    {
     "name": "stdout",
     "output_type": "stream",
     "text": [
      "[CV]  criterion=entropy, max_depth=2, min_samples_leaf=1, min_samples_split=5, score=0.2392277202403785, total=   0.1s\n",
      "[CV] criterion=entropy, max_depth=2, min_samples_leaf=1, min_samples_split=5 \n",
      "[CV]  criterion=entropy, max_depth=2, min_samples_leaf=1, min_samples_split=5, score=0.23922935115032554, total=   0.1s\n",
      "[CV] criterion=entropy, max_depth=2, min_samples_leaf=1, min_samples_split=5 \n"
     ]
    },
    {
     "name": "stderr",
     "output_type": "stream",
     "text": [
      "/anaconda3/lib/python3.7/site-packages/sklearn/metrics/classification.py:1143: UndefinedMetricWarning: F-score is ill-defined and being set to 0.0 in labels with no predicted samples.\n",
      "  'precision', 'predicted', average, warn_for)\n",
      "/anaconda3/lib/python3.7/site-packages/sklearn/metrics/classification.py:1143: UndefinedMetricWarning: F-score is ill-defined and being set to 0.0 in labels with no predicted samples.\n",
      "  'precision', 'predicted', average, warn_for)\n",
      "/anaconda3/lib/python3.7/site-packages/sklearn/metrics/classification.py:1143: UndefinedMetricWarning: F-score is ill-defined and being set to 0.0 in labels with no predicted samples.\n",
      "  'precision', 'predicted', average, warn_for)\n",
      "/anaconda3/lib/python3.7/site-packages/sklearn/metrics/classification.py:1143: UndefinedMetricWarning: F-score is ill-defined and being set to 0.0 in labels with no predicted samples.\n",
      "  'precision', 'predicted', average, warn_for)\n"
     ]
    },
    {
     "name": "stdout",
     "output_type": "stream",
     "text": [
      "[CV]  criterion=entropy, max_depth=2, min_samples_leaf=1, min_samples_split=5, score=0.23923699914748509, total=   0.1s\n",
      "[CV] criterion=entropy, max_depth=2, min_samples_leaf=1, min_samples_split=10 \n",
      "[CV]  criterion=entropy, max_depth=2, min_samples_leaf=1, min_samples_split=10, score=0.2392277202403785, total=   0.1s\n",
      "[CV] criterion=entropy, max_depth=2, min_samples_leaf=1, min_samples_split=10 \n"
     ]
    },
    {
     "name": "stderr",
     "output_type": "stream",
     "text": [
      "/anaconda3/lib/python3.7/site-packages/sklearn/metrics/classification.py:1143: UndefinedMetricWarning: F-score is ill-defined and being set to 0.0 in labels with no predicted samples.\n",
      "  'precision', 'predicted', average, warn_for)\n",
      "/anaconda3/lib/python3.7/site-packages/sklearn/metrics/classification.py:1143: UndefinedMetricWarning: F-score is ill-defined and being set to 0.0 in labels with no predicted samples.\n",
      "  'precision', 'predicted', average, warn_for)\n",
      "/anaconda3/lib/python3.7/site-packages/sklearn/metrics/classification.py:1143: UndefinedMetricWarning: F-score is ill-defined and being set to 0.0 in labels with no predicted samples.\n",
      "  'precision', 'predicted', average, warn_for)\n",
      "/anaconda3/lib/python3.7/site-packages/sklearn/metrics/classification.py:1143: UndefinedMetricWarning: F-score is ill-defined and being set to 0.0 in labels with no predicted samples.\n",
      "  'precision', 'predicted', average, warn_for)\n"
     ]
    },
    {
     "name": "stdout",
     "output_type": "stream",
     "text": [
      "[CV]  criterion=entropy, max_depth=2, min_samples_leaf=1, min_samples_split=10, score=0.23922935115032554, total=   0.1s\n",
      "[CV] criterion=entropy, max_depth=2, min_samples_leaf=1, min_samples_split=10 \n",
      "[CV]  criterion=entropy, max_depth=2, min_samples_leaf=1, min_samples_split=10, score=0.23923699914748509, total=   0.1s\n",
      "[CV] criterion=entropy, max_depth=2, min_samples_leaf=2, min_samples_split=2 \n"
     ]
    },
    {
     "name": "stderr",
     "output_type": "stream",
     "text": [
      "/anaconda3/lib/python3.7/site-packages/sklearn/metrics/classification.py:1143: UndefinedMetricWarning: F-score is ill-defined and being set to 0.0 in labels with no predicted samples.\n",
      "  'precision', 'predicted', average, warn_for)\n",
      "/anaconda3/lib/python3.7/site-packages/sklearn/metrics/classification.py:1143: UndefinedMetricWarning: F-score is ill-defined and being set to 0.0 in labels with no predicted samples.\n",
      "  'precision', 'predicted', average, warn_for)\n",
      "/anaconda3/lib/python3.7/site-packages/sklearn/metrics/classification.py:1143: UndefinedMetricWarning: F-score is ill-defined and being set to 0.0 in labels with no predicted samples.\n",
      "  'precision', 'predicted', average, warn_for)\n",
      "/anaconda3/lib/python3.7/site-packages/sklearn/metrics/classification.py:1143: UndefinedMetricWarning: F-score is ill-defined and being set to 0.0 in labels with no predicted samples.\n",
      "  'precision', 'predicted', average, warn_for)\n"
     ]
    },
    {
     "name": "stdout",
     "output_type": "stream",
     "text": [
      "[CV]  criterion=entropy, max_depth=2, min_samples_leaf=2, min_samples_split=2, score=0.2392277202403785, total=   0.1s\n",
      "[CV] criterion=entropy, max_depth=2, min_samples_leaf=2, min_samples_split=2 \n",
      "[CV]  criterion=entropy, max_depth=2, min_samples_leaf=2, min_samples_split=2, score=0.23922935115032554, total=   0.1s\n",
      "[CV] criterion=entropy, max_depth=2, min_samples_leaf=2, min_samples_split=2 \n"
     ]
    },
    {
     "name": "stderr",
     "output_type": "stream",
     "text": [
      "/anaconda3/lib/python3.7/site-packages/sklearn/metrics/classification.py:1143: UndefinedMetricWarning: F-score is ill-defined and being set to 0.0 in labels with no predicted samples.\n",
      "  'precision', 'predicted', average, warn_for)\n",
      "/anaconda3/lib/python3.7/site-packages/sklearn/metrics/classification.py:1143: UndefinedMetricWarning: F-score is ill-defined and being set to 0.0 in labels with no predicted samples.\n",
      "  'precision', 'predicted', average, warn_for)\n",
      "/anaconda3/lib/python3.7/site-packages/sklearn/metrics/classification.py:1143: UndefinedMetricWarning: F-score is ill-defined and being set to 0.0 in labels with no predicted samples.\n",
      "  'precision', 'predicted', average, warn_for)\n",
      "/anaconda3/lib/python3.7/site-packages/sklearn/metrics/classification.py:1143: UndefinedMetricWarning: F-score is ill-defined and being set to 0.0 in labels with no predicted samples.\n",
      "  'precision', 'predicted', average, warn_for)\n"
     ]
    },
    {
     "name": "stdout",
     "output_type": "stream",
     "text": [
      "[CV]  criterion=entropy, max_depth=2, min_samples_leaf=2, min_samples_split=2, score=0.23923699914748509, total=   0.1s\n",
      "[CV] criterion=entropy, max_depth=2, min_samples_leaf=2, min_samples_split=5 \n",
      "[CV]  criterion=entropy, max_depth=2, min_samples_leaf=2, min_samples_split=5, score=0.2392277202403785, total=   0.1s\n",
      "[CV] criterion=entropy, max_depth=2, min_samples_leaf=2, min_samples_split=5 \n"
     ]
    },
    {
     "name": "stderr",
     "output_type": "stream",
     "text": [
      "/anaconda3/lib/python3.7/site-packages/sklearn/metrics/classification.py:1143: UndefinedMetricWarning: F-score is ill-defined and being set to 0.0 in labels with no predicted samples.\n",
      "  'precision', 'predicted', average, warn_for)\n",
      "/anaconda3/lib/python3.7/site-packages/sklearn/metrics/classification.py:1143: UndefinedMetricWarning: F-score is ill-defined and being set to 0.0 in labels with no predicted samples.\n",
      "  'precision', 'predicted', average, warn_for)\n",
      "/anaconda3/lib/python3.7/site-packages/sklearn/metrics/classification.py:1143: UndefinedMetricWarning: F-score is ill-defined and being set to 0.0 in labels with no predicted samples.\n",
      "  'precision', 'predicted', average, warn_for)\n",
      "/anaconda3/lib/python3.7/site-packages/sklearn/metrics/classification.py:1143: UndefinedMetricWarning: F-score is ill-defined and being set to 0.0 in labels with no predicted samples.\n",
      "  'precision', 'predicted', average, warn_for)\n"
     ]
    },
    {
     "name": "stdout",
     "output_type": "stream",
     "text": [
      "[CV]  criterion=entropy, max_depth=2, min_samples_leaf=2, min_samples_split=5, score=0.23922935115032554, total=   0.1s\n",
      "[CV] criterion=entropy, max_depth=2, min_samples_leaf=2, min_samples_split=5 \n",
      "[CV]  criterion=entropy, max_depth=2, min_samples_leaf=2, min_samples_split=5, score=0.23923699914748509, total=   0.1s\n",
      "[CV] criterion=entropy, max_depth=2, min_samples_leaf=2, min_samples_split=10 \n"
     ]
    },
    {
     "name": "stderr",
     "output_type": "stream",
     "text": [
      "/anaconda3/lib/python3.7/site-packages/sklearn/metrics/classification.py:1143: UndefinedMetricWarning: F-score is ill-defined and being set to 0.0 in labels with no predicted samples.\n",
      "  'precision', 'predicted', average, warn_for)\n",
      "/anaconda3/lib/python3.7/site-packages/sklearn/metrics/classification.py:1143: UndefinedMetricWarning: F-score is ill-defined and being set to 0.0 in labels with no predicted samples.\n",
      "  'precision', 'predicted', average, warn_for)\n",
      "/anaconda3/lib/python3.7/site-packages/sklearn/metrics/classification.py:1143: UndefinedMetricWarning: F-score is ill-defined and being set to 0.0 in labels with no predicted samples.\n",
      "  'precision', 'predicted', average, warn_for)\n",
      "/anaconda3/lib/python3.7/site-packages/sklearn/metrics/classification.py:1143: UndefinedMetricWarning: F-score is ill-defined and being set to 0.0 in labels with no predicted samples.\n",
      "  'precision', 'predicted', average, warn_for)\n"
     ]
    },
    {
     "name": "stdout",
     "output_type": "stream",
     "text": [
      "[CV]  criterion=entropy, max_depth=2, min_samples_leaf=2, min_samples_split=10, score=0.2392277202403785, total=   0.1s\n",
      "[CV] criterion=entropy, max_depth=2, min_samples_leaf=2, min_samples_split=10 \n",
      "[CV]  criterion=entropy, max_depth=2, min_samples_leaf=2, min_samples_split=10, score=0.23922935115032554, total=   0.1s\n",
      "[CV] criterion=entropy, max_depth=2, min_samples_leaf=2, min_samples_split=10 \n"
     ]
    },
    {
     "name": "stderr",
     "output_type": "stream",
     "text": [
      "/anaconda3/lib/python3.7/site-packages/sklearn/metrics/classification.py:1143: UndefinedMetricWarning: F-score is ill-defined and being set to 0.0 in labels with no predicted samples.\n",
      "  'precision', 'predicted', average, warn_for)\n",
      "/anaconda3/lib/python3.7/site-packages/sklearn/metrics/classification.py:1143: UndefinedMetricWarning: F-score is ill-defined and being set to 0.0 in labels with no predicted samples.\n",
      "  'precision', 'predicted', average, warn_for)\n",
      "/anaconda3/lib/python3.7/site-packages/sklearn/metrics/classification.py:1143: UndefinedMetricWarning: F-score is ill-defined and being set to 0.0 in labels with no predicted samples.\n",
      "  'precision', 'predicted', average, warn_for)\n",
      "/anaconda3/lib/python3.7/site-packages/sklearn/metrics/classification.py:1143: UndefinedMetricWarning: F-score is ill-defined and being set to 0.0 in labels with no predicted samples.\n",
      "  'precision', 'predicted', average, warn_for)\n"
     ]
    },
    {
     "name": "stdout",
     "output_type": "stream",
     "text": [
      "[CV]  criterion=entropy, max_depth=2, min_samples_leaf=2, min_samples_split=10, score=0.23923699914748509, total=   0.1s\n",
      "[CV] criterion=entropy, max_depth=2, min_samples_leaf=3, min_samples_split=2 \n",
      "[CV]  criterion=entropy, max_depth=2, min_samples_leaf=3, min_samples_split=2, score=0.2392277202403785, total=   0.1s\n",
      "[CV] criterion=entropy, max_depth=2, min_samples_leaf=3, min_samples_split=2 \n"
     ]
    },
    {
     "name": "stderr",
     "output_type": "stream",
     "text": [
      "/anaconda3/lib/python3.7/site-packages/sklearn/metrics/classification.py:1143: UndefinedMetricWarning: F-score is ill-defined and being set to 0.0 in labels with no predicted samples.\n",
      "  'precision', 'predicted', average, warn_for)\n",
      "/anaconda3/lib/python3.7/site-packages/sklearn/metrics/classification.py:1143: UndefinedMetricWarning: F-score is ill-defined and being set to 0.0 in labels with no predicted samples.\n",
      "  'precision', 'predicted', average, warn_for)\n",
      "/anaconda3/lib/python3.7/site-packages/sklearn/metrics/classification.py:1143: UndefinedMetricWarning: F-score is ill-defined and being set to 0.0 in labels with no predicted samples.\n",
      "  'precision', 'predicted', average, warn_for)\n",
      "/anaconda3/lib/python3.7/site-packages/sklearn/metrics/classification.py:1143: UndefinedMetricWarning: F-score is ill-defined and being set to 0.0 in labels with no predicted samples.\n",
      "  'precision', 'predicted', average, warn_for)\n"
     ]
    },
    {
     "name": "stdout",
     "output_type": "stream",
     "text": [
      "[CV]  criterion=entropy, max_depth=2, min_samples_leaf=3, min_samples_split=2, score=0.23922935115032554, total=   0.1s\n",
      "[CV] criterion=entropy, max_depth=2, min_samples_leaf=3, min_samples_split=2 \n"
     ]
    },
    {
     "name": "stderr",
     "output_type": "stream",
     "text": [
      "/anaconda3/lib/python3.7/site-packages/sklearn/metrics/classification.py:1143: UndefinedMetricWarning: F-score is ill-defined and being set to 0.0 in labels with no predicted samples.\n",
      "  'precision', 'predicted', average, warn_for)\n",
      "/anaconda3/lib/python3.7/site-packages/sklearn/metrics/classification.py:1143: UndefinedMetricWarning: F-score is ill-defined and being set to 0.0 in labels with no predicted samples.\n",
      "  'precision', 'predicted', average, warn_for)\n"
     ]
    },
    {
     "name": "stdout",
     "output_type": "stream",
     "text": [
      "[CV]  criterion=entropy, max_depth=2, min_samples_leaf=3, min_samples_split=2, score=0.23923699914748509, total=   0.2s\n",
      "[CV] criterion=entropy, max_depth=2, min_samples_leaf=3, min_samples_split=5 \n"
     ]
    },
    {
     "name": "stderr",
     "output_type": "stream",
     "text": [
      "/anaconda3/lib/python3.7/site-packages/sklearn/metrics/classification.py:1143: UndefinedMetricWarning: F-score is ill-defined and being set to 0.0 in labels with no predicted samples.\n",
      "  'precision', 'predicted', average, warn_for)\n",
      "/anaconda3/lib/python3.7/site-packages/sklearn/metrics/classification.py:1143: UndefinedMetricWarning: F-score is ill-defined and being set to 0.0 in labels with no predicted samples.\n",
      "  'precision', 'predicted', average, warn_for)\n"
     ]
    },
    {
     "name": "stdout",
     "output_type": "stream",
     "text": [
      "[CV]  criterion=entropy, max_depth=2, min_samples_leaf=3, min_samples_split=5, score=0.2392277202403785, total=   0.2s\n",
      "[CV] criterion=entropy, max_depth=2, min_samples_leaf=3, min_samples_split=5 \n"
     ]
    },
    {
     "name": "stderr",
     "output_type": "stream",
     "text": [
      "/anaconda3/lib/python3.7/site-packages/sklearn/metrics/classification.py:1143: UndefinedMetricWarning: F-score is ill-defined and being set to 0.0 in labels with no predicted samples.\n",
      "  'precision', 'predicted', average, warn_for)\n",
      "/anaconda3/lib/python3.7/site-packages/sklearn/metrics/classification.py:1143: UndefinedMetricWarning: F-score is ill-defined and being set to 0.0 in labels with no predicted samples.\n",
      "  'precision', 'predicted', average, warn_for)\n"
     ]
    },
    {
     "name": "stdout",
     "output_type": "stream",
     "text": [
      "[CV]  criterion=entropy, max_depth=2, min_samples_leaf=3, min_samples_split=5, score=0.23922935115032554, total=   0.2s\n",
      "[CV] criterion=entropy, max_depth=2, min_samples_leaf=3, min_samples_split=5 \n"
     ]
    },
    {
     "name": "stderr",
     "output_type": "stream",
     "text": [
      "/anaconda3/lib/python3.7/site-packages/sklearn/metrics/classification.py:1143: UndefinedMetricWarning: F-score is ill-defined and being set to 0.0 in labels with no predicted samples.\n",
      "  'precision', 'predicted', average, warn_for)\n",
      "/anaconda3/lib/python3.7/site-packages/sklearn/metrics/classification.py:1143: UndefinedMetricWarning: F-score is ill-defined and being set to 0.0 in labels with no predicted samples.\n",
      "  'precision', 'predicted', average, warn_for)\n"
     ]
    },
    {
     "name": "stdout",
     "output_type": "stream",
     "text": [
      "[CV]  criterion=entropy, max_depth=2, min_samples_leaf=3, min_samples_split=5, score=0.23923699914748509, total=   0.2s\n",
      "[CV] criterion=entropy, max_depth=2, min_samples_leaf=3, min_samples_split=10 \n"
     ]
    },
    {
     "name": "stderr",
     "output_type": "stream",
     "text": [
      "/anaconda3/lib/python3.7/site-packages/sklearn/metrics/classification.py:1143: UndefinedMetricWarning: F-score is ill-defined and being set to 0.0 in labels with no predicted samples.\n",
      "  'precision', 'predicted', average, warn_for)\n",
      "/anaconda3/lib/python3.7/site-packages/sklearn/metrics/classification.py:1143: UndefinedMetricWarning: F-score is ill-defined and being set to 0.0 in labels with no predicted samples.\n",
      "  'precision', 'predicted', average, warn_for)\n"
     ]
    },
    {
     "name": "stdout",
     "output_type": "stream",
     "text": [
      "[CV]  criterion=entropy, max_depth=2, min_samples_leaf=3, min_samples_split=10, score=0.2392277202403785, total=   0.2s\n",
      "[CV] criterion=entropy, max_depth=2, min_samples_leaf=3, min_samples_split=10 \n"
     ]
    },
    {
     "name": "stderr",
     "output_type": "stream",
     "text": [
      "/anaconda3/lib/python3.7/site-packages/sklearn/metrics/classification.py:1143: UndefinedMetricWarning: F-score is ill-defined and being set to 0.0 in labels with no predicted samples.\n",
      "  'precision', 'predicted', average, warn_for)\n",
      "/anaconda3/lib/python3.7/site-packages/sklearn/metrics/classification.py:1143: UndefinedMetricWarning: F-score is ill-defined and being set to 0.0 in labels with no predicted samples.\n",
      "  'precision', 'predicted', average, warn_for)\n"
     ]
    },
    {
     "name": "stdout",
     "output_type": "stream",
     "text": [
      "[CV]  criterion=entropy, max_depth=2, min_samples_leaf=3, min_samples_split=10, score=0.23922935115032554, total=   0.2s\n",
      "[CV] criterion=entropy, max_depth=2, min_samples_leaf=3, min_samples_split=10 \n"
     ]
    },
    {
     "name": "stderr",
     "output_type": "stream",
     "text": [
      "/anaconda3/lib/python3.7/site-packages/sklearn/metrics/classification.py:1143: UndefinedMetricWarning: F-score is ill-defined and being set to 0.0 in labels with no predicted samples.\n",
      "  'precision', 'predicted', average, warn_for)\n",
      "/anaconda3/lib/python3.7/site-packages/sklearn/metrics/classification.py:1143: UndefinedMetricWarning: F-score is ill-defined and being set to 0.0 in labels with no predicted samples.\n",
      "  'precision', 'predicted', average, warn_for)\n"
     ]
    },
    {
     "name": "stdout",
     "output_type": "stream",
     "text": [
      "[CV]  criterion=entropy, max_depth=2, min_samples_leaf=3, min_samples_split=10, score=0.23923699914748509, total=   0.2s\n",
      "[CV] criterion=entropy, max_depth=2, min_samples_leaf=4, min_samples_split=2 \n"
     ]
    },
    {
     "name": "stderr",
     "output_type": "stream",
     "text": [
      "/anaconda3/lib/python3.7/site-packages/sklearn/metrics/classification.py:1143: UndefinedMetricWarning: F-score is ill-defined and being set to 0.0 in labels with no predicted samples.\n",
      "  'precision', 'predicted', average, warn_for)\n",
      "/anaconda3/lib/python3.7/site-packages/sklearn/metrics/classification.py:1143: UndefinedMetricWarning: F-score is ill-defined and being set to 0.0 in labels with no predicted samples.\n",
      "  'precision', 'predicted', average, warn_for)\n"
     ]
    },
    {
     "name": "stdout",
     "output_type": "stream",
     "text": [
      "[CV]  criterion=entropy, max_depth=2, min_samples_leaf=4, min_samples_split=2, score=0.2392277202403785, total=   0.2s\n",
      "[CV] criterion=entropy, max_depth=2, min_samples_leaf=4, min_samples_split=2 \n"
     ]
    },
    {
     "name": "stderr",
     "output_type": "stream",
     "text": [
      "/anaconda3/lib/python3.7/site-packages/sklearn/metrics/classification.py:1143: UndefinedMetricWarning: F-score is ill-defined and being set to 0.0 in labels with no predicted samples.\n",
      "  'precision', 'predicted', average, warn_for)\n",
      "/anaconda3/lib/python3.7/site-packages/sklearn/metrics/classification.py:1143: UndefinedMetricWarning: F-score is ill-defined and being set to 0.0 in labels with no predicted samples.\n",
      "  'precision', 'predicted', average, warn_for)\n"
     ]
    },
    {
     "name": "stdout",
     "output_type": "stream",
     "text": [
      "[CV]  criterion=entropy, max_depth=2, min_samples_leaf=4, min_samples_split=2, score=0.23922935115032554, total=   0.2s\n",
      "[CV] criterion=entropy, max_depth=2, min_samples_leaf=4, min_samples_split=2 \n"
     ]
    },
    {
     "name": "stderr",
     "output_type": "stream",
     "text": [
      "/anaconda3/lib/python3.7/site-packages/sklearn/metrics/classification.py:1143: UndefinedMetricWarning: F-score is ill-defined and being set to 0.0 in labels with no predicted samples.\n",
      "  'precision', 'predicted', average, warn_for)\n",
      "/anaconda3/lib/python3.7/site-packages/sklearn/metrics/classification.py:1143: UndefinedMetricWarning: F-score is ill-defined and being set to 0.0 in labels with no predicted samples.\n",
      "  'precision', 'predicted', average, warn_for)\n"
     ]
    },
    {
     "name": "stdout",
     "output_type": "stream",
     "text": [
      "[CV]  criterion=entropy, max_depth=2, min_samples_leaf=4, min_samples_split=2, score=0.23923699914748509, total=   0.2s\n",
      "[CV] criterion=entropy, max_depth=2, min_samples_leaf=4, min_samples_split=5 \n"
     ]
    },
    {
     "name": "stderr",
     "output_type": "stream",
     "text": [
      "/anaconda3/lib/python3.7/site-packages/sklearn/metrics/classification.py:1143: UndefinedMetricWarning: F-score is ill-defined and being set to 0.0 in labels with no predicted samples.\n",
      "  'precision', 'predicted', average, warn_for)\n",
      "/anaconda3/lib/python3.7/site-packages/sklearn/metrics/classification.py:1143: UndefinedMetricWarning: F-score is ill-defined and being set to 0.0 in labels with no predicted samples.\n",
      "  'precision', 'predicted', average, warn_for)\n"
     ]
    },
    {
     "name": "stdout",
     "output_type": "stream",
     "text": [
      "[CV]  criterion=entropy, max_depth=2, min_samples_leaf=4, min_samples_split=5, score=0.2392277202403785, total=   0.3s\n",
      "[CV] criterion=entropy, max_depth=2, min_samples_leaf=4, min_samples_split=5 \n"
     ]
    },
    {
     "name": "stderr",
     "output_type": "stream",
     "text": [
      "/anaconda3/lib/python3.7/site-packages/sklearn/metrics/classification.py:1143: UndefinedMetricWarning: F-score is ill-defined and being set to 0.0 in labels with no predicted samples.\n",
      "  'precision', 'predicted', average, warn_for)\n",
      "/anaconda3/lib/python3.7/site-packages/sklearn/metrics/classification.py:1143: UndefinedMetricWarning: F-score is ill-defined and being set to 0.0 in labels with no predicted samples.\n",
      "  'precision', 'predicted', average, warn_for)\n"
     ]
    },
    {
     "name": "stdout",
     "output_type": "stream",
     "text": [
      "[CV]  criterion=entropy, max_depth=2, min_samples_leaf=4, min_samples_split=5, score=0.23922935115032554, total=   0.3s\n",
      "[CV] criterion=entropy, max_depth=2, min_samples_leaf=4, min_samples_split=5 \n"
     ]
    },
    {
     "name": "stderr",
     "output_type": "stream",
     "text": [
      "/anaconda3/lib/python3.7/site-packages/sklearn/metrics/classification.py:1143: UndefinedMetricWarning: F-score is ill-defined and being set to 0.0 in labels with no predicted samples.\n",
      "  'precision', 'predicted', average, warn_for)\n",
      "/anaconda3/lib/python3.7/site-packages/sklearn/metrics/classification.py:1143: UndefinedMetricWarning: F-score is ill-defined and being set to 0.0 in labels with no predicted samples.\n",
      "  'precision', 'predicted', average, warn_for)\n"
     ]
    },
    {
     "name": "stdout",
     "output_type": "stream",
     "text": [
      "[CV]  criterion=entropy, max_depth=2, min_samples_leaf=4, min_samples_split=5, score=0.23923699914748509, total=   0.3s\n",
      "[CV] criterion=entropy, max_depth=2, min_samples_leaf=4, min_samples_split=10 \n"
     ]
    },
    {
     "name": "stderr",
     "output_type": "stream",
     "text": [
      "/anaconda3/lib/python3.7/site-packages/sklearn/metrics/classification.py:1143: UndefinedMetricWarning: F-score is ill-defined and being set to 0.0 in labels with no predicted samples.\n",
      "  'precision', 'predicted', average, warn_for)\n",
      "/anaconda3/lib/python3.7/site-packages/sklearn/metrics/classification.py:1143: UndefinedMetricWarning: F-score is ill-defined and being set to 0.0 in labels with no predicted samples.\n",
      "  'precision', 'predicted', average, warn_for)\n"
     ]
    },
    {
     "name": "stdout",
     "output_type": "stream",
     "text": [
      "[CV]  criterion=entropy, max_depth=2, min_samples_leaf=4, min_samples_split=10, score=0.2392277202403785, total=   0.2s\n",
      "[CV] criterion=entropy, max_depth=2, min_samples_leaf=4, min_samples_split=10 \n"
     ]
    },
    {
     "name": "stderr",
     "output_type": "stream",
     "text": [
      "/anaconda3/lib/python3.7/site-packages/sklearn/metrics/classification.py:1143: UndefinedMetricWarning: F-score is ill-defined and being set to 0.0 in labels with no predicted samples.\n",
      "  'precision', 'predicted', average, warn_for)\n",
      "/anaconda3/lib/python3.7/site-packages/sklearn/metrics/classification.py:1143: UndefinedMetricWarning: F-score is ill-defined and being set to 0.0 in labels with no predicted samples.\n",
      "  'precision', 'predicted', average, warn_for)\n"
     ]
    },
    {
     "name": "stdout",
     "output_type": "stream",
     "text": [
      "[CV]  criterion=entropy, max_depth=2, min_samples_leaf=4, min_samples_split=10, score=0.23922935115032554, total=   0.2s\n",
      "[CV] criterion=entropy, max_depth=2, min_samples_leaf=4, min_samples_split=10 \n"
     ]
    },
    {
     "name": "stderr",
     "output_type": "stream",
     "text": [
      "/anaconda3/lib/python3.7/site-packages/sklearn/metrics/classification.py:1143: UndefinedMetricWarning: F-score is ill-defined and being set to 0.0 in labels with no predicted samples.\n",
      "  'precision', 'predicted', average, warn_for)\n",
      "/anaconda3/lib/python3.7/site-packages/sklearn/metrics/classification.py:1143: UndefinedMetricWarning: F-score is ill-defined and being set to 0.0 in labels with no predicted samples.\n",
      "  'precision', 'predicted', average, warn_for)\n"
     ]
    },
    {
     "name": "stdout",
     "output_type": "stream",
     "text": [
      "[CV]  criterion=entropy, max_depth=2, min_samples_leaf=4, min_samples_split=10, score=0.23923699914748509, total=   0.2s\n",
      "[CV] criterion=entropy, max_depth=2, min_samples_leaf=5, min_samples_split=2 \n"
     ]
    },
    {
     "name": "stderr",
     "output_type": "stream",
     "text": [
      "/anaconda3/lib/python3.7/site-packages/sklearn/metrics/classification.py:1143: UndefinedMetricWarning: F-score is ill-defined and being set to 0.0 in labels with no predicted samples.\n",
      "  'precision', 'predicted', average, warn_for)\n",
      "/anaconda3/lib/python3.7/site-packages/sklearn/metrics/classification.py:1143: UndefinedMetricWarning: F-score is ill-defined and being set to 0.0 in labels with no predicted samples.\n",
      "  'precision', 'predicted', average, warn_for)\n"
     ]
    },
    {
     "name": "stdout",
     "output_type": "stream",
     "text": [
      "[CV]  criterion=entropy, max_depth=2, min_samples_leaf=5, min_samples_split=2, score=0.2392277202403785, total=   0.2s\n",
      "[CV] criterion=entropy, max_depth=2, min_samples_leaf=5, min_samples_split=2 \n"
     ]
    },
    {
     "name": "stderr",
     "output_type": "stream",
     "text": [
      "/anaconda3/lib/python3.7/site-packages/sklearn/metrics/classification.py:1143: UndefinedMetricWarning: F-score is ill-defined and being set to 0.0 in labels with no predicted samples.\n",
      "  'precision', 'predicted', average, warn_for)\n",
      "/anaconda3/lib/python3.7/site-packages/sklearn/metrics/classification.py:1143: UndefinedMetricWarning: F-score is ill-defined and being set to 0.0 in labels with no predicted samples.\n",
      "  'precision', 'predicted', average, warn_for)\n"
     ]
    },
    {
     "name": "stdout",
     "output_type": "stream",
     "text": [
      "[CV]  criterion=entropy, max_depth=2, min_samples_leaf=5, min_samples_split=2, score=0.23922935115032554, total=   0.2s\n",
      "[CV] criterion=entropy, max_depth=2, min_samples_leaf=5, min_samples_split=2 \n"
     ]
    },
    {
     "name": "stderr",
     "output_type": "stream",
     "text": [
      "/anaconda3/lib/python3.7/site-packages/sklearn/metrics/classification.py:1143: UndefinedMetricWarning: F-score is ill-defined and being set to 0.0 in labels with no predicted samples.\n",
      "  'precision', 'predicted', average, warn_for)\n",
      "/anaconda3/lib/python3.7/site-packages/sklearn/metrics/classification.py:1143: UndefinedMetricWarning: F-score is ill-defined and being set to 0.0 in labels with no predicted samples.\n",
      "  'precision', 'predicted', average, warn_for)\n"
     ]
    },
    {
     "name": "stdout",
     "output_type": "stream",
     "text": [
      "[CV]  criterion=entropy, max_depth=2, min_samples_leaf=5, min_samples_split=2, score=0.23923699914748509, total=   0.2s\n",
      "[CV] criterion=entropy, max_depth=2, min_samples_leaf=5, min_samples_split=5 \n"
     ]
    },
    {
     "name": "stderr",
     "output_type": "stream",
     "text": [
      "/anaconda3/lib/python3.7/site-packages/sklearn/metrics/classification.py:1143: UndefinedMetricWarning: F-score is ill-defined and being set to 0.0 in labels with no predicted samples.\n",
      "  'precision', 'predicted', average, warn_for)\n",
      "/anaconda3/lib/python3.7/site-packages/sklearn/metrics/classification.py:1143: UndefinedMetricWarning: F-score is ill-defined and being set to 0.0 in labels with no predicted samples.\n",
      "  'precision', 'predicted', average, warn_for)\n"
     ]
    },
    {
     "name": "stdout",
     "output_type": "stream",
     "text": [
      "[CV]  criterion=entropy, max_depth=2, min_samples_leaf=5, min_samples_split=5, score=0.2392277202403785, total=   0.2s\n",
      "[CV] criterion=entropy, max_depth=2, min_samples_leaf=5, min_samples_split=5 \n"
     ]
    },
    {
     "name": "stderr",
     "output_type": "stream",
     "text": [
      "/anaconda3/lib/python3.7/site-packages/sklearn/metrics/classification.py:1143: UndefinedMetricWarning: F-score is ill-defined and being set to 0.0 in labels with no predicted samples.\n",
      "  'precision', 'predicted', average, warn_for)\n",
      "/anaconda3/lib/python3.7/site-packages/sklearn/metrics/classification.py:1143: UndefinedMetricWarning: F-score is ill-defined and being set to 0.0 in labels with no predicted samples.\n",
      "  'precision', 'predicted', average, warn_for)\n"
     ]
    },
    {
     "name": "stdout",
     "output_type": "stream",
     "text": [
      "[CV]  criterion=entropy, max_depth=2, min_samples_leaf=5, min_samples_split=5, score=0.23922935115032554, total=   0.2s\n",
      "[CV] criterion=entropy, max_depth=2, min_samples_leaf=5, min_samples_split=5 \n"
     ]
    },
    {
     "name": "stderr",
     "output_type": "stream",
     "text": [
      "/anaconda3/lib/python3.7/site-packages/sklearn/metrics/classification.py:1143: UndefinedMetricWarning: F-score is ill-defined and being set to 0.0 in labels with no predicted samples.\n",
      "  'precision', 'predicted', average, warn_for)\n",
      "/anaconda3/lib/python3.7/site-packages/sklearn/metrics/classification.py:1143: UndefinedMetricWarning: F-score is ill-defined and being set to 0.0 in labels with no predicted samples.\n",
      "  'precision', 'predicted', average, warn_for)\n"
     ]
    },
    {
     "name": "stdout",
     "output_type": "stream",
     "text": [
      "[CV]  criterion=entropy, max_depth=2, min_samples_leaf=5, min_samples_split=5, score=0.23923699914748509, total=   0.2s\n",
      "[CV] criterion=entropy, max_depth=2, min_samples_leaf=5, min_samples_split=10 \n"
     ]
    },
    {
     "name": "stderr",
     "output_type": "stream",
     "text": [
      "/anaconda3/lib/python3.7/site-packages/sklearn/metrics/classification.py:1143: UndefinedMetricWarning: F-score is ill-defined and being set to 0.0 in labels with no predicted samples.\n",
      "  'precision', 'predicted', average, warn_for)\n",
      "/anaconda3/lib/python3.7/site-packages/sklearn/metrics/classification.py:1143: UndefinedMetricWarning: F-score is ill-defined and being set to 0.0 in labels with no predicted samples.\n",
      "  'precision', 'predicted', average, warn_for)\n"
     ]
    },
    {
     "name": "stdout",
     "output_type": "stream",
     "text": [
      "[CV]  criterion=entropy, max_depth=2, min_samples_leaf=5, min_samples_split=10, score=0.2392277202403785, total=   0.2s\n",
      "[CV] criterion=entropy, max_depth=2, min_samples_leaf=5, min_samples_split=10 \n"
     ]
    },
    {
     "name": "stderr",
     "output_type": "stream",
     "text": [
      "/anaconda3/lib/python3.7/site-packages/sklearn/metrics/classification.py:1143: UndefinedMetricWarning: F-score is ill-defined and being set to 0.0 in labels with no predicted samples.\n",
      "  'precision', 'predicted', average, warn_for)\n",
      "/anaconda3/lib/python3.7/site-packages/sklearn/metrics/classification.py:1143: UndefinedMetricWarning: F-score is ill-defined and being set to 0.0 in labels with no predicted samples.\n",
      "  'precision', 'predicted', average, warn_for)\n"
     ]
    },
    {
     "name": "stdout",
     "output_type": "stream",
     "text": [
      "[CV]  criterion=entropy, max_depth=2, min_samples_leaf=5, min_samples_split=10, score=0.23922935115032554, total=   0.2s\n",
      "[CV] criterion=entropy, max_depth=2, min_samples_leaf=5, min_samples_split=10 \n"
     ]
    },
    {
     "name": "stderr",
     "output_type": "stream",
     "text": [
      "/anaconda3/lib/python3.7/site-packages/sklearn/metrics/classification.py:1143: UndefinedMetricWarning: F-score is ill-defined and being set to 0.0 in labels with no predicted samples.\n",
      "  'precision', 'predicted', average, warn_for)\n",
      "/anaconda3/lib/python3.7/site-packages/sklearn/metrics/classification.py:1143: UndefinedMetricWarning: F-score is ill-defined and being set to 0.0 in labels with no predicted samples.\n",
      "  'precision', 'predicted', average, warn_for)\n"
     ]
    },
    {
     "name": "stdout",
     "output_type": "stream",
     "text": [
      "[CV]  criterion=entropy, max_depth=2, min_samples_leaf=5, min_samples_split=10, score=0.23923699914748509, total=   0.2s\n",
      "[CV] criterion=entropy, max_depth=2, min_samples_leaf=6, min_samples_split=2 \n"
     ]
    },
    {
     "name": "stderr",
     "output_type": "stream",
     "text": [
      "/anaconda3/lib/python3.7/site-packages/sklearn/metrics/classification.py:1143: UndefinedMetricWarning: F-score is ill-defined and being set to 0.0 in labels with no predicted samples.\n",
      "  'precision', 'predicted', average, warn_for)\n",
      "/anaconda3/lib/python3.7/site-packages/sklearn/metrics/classification.py:1143: UndefinedMetricWarning: F-score is ill-defined and being set to 0.0 in labels with no predicted samples.\n",
      "  'precision', 'predicted', average, warn_for)\n"
     ]
    },
    {
     "name": "stdout",
     "output_type": "stream",
     "text": [
      "[CV]  criterion=entropy, max_depth=2, min_samples_leaf=6, min_samples_split=2, score=0.2392277202403785, total=   0.2s\n",
      "[CV] criterion=entropy, max_depth=2, min_samples_leaf=6, min_samples_split=2 \n"
     ]
    },
    {
     "name": "stderr",
     "output_type": "stream",
     "text": [
      "/anaconda3/lib/python3.7/site-packages/sklearn/metrics/classification.py:1143: UndefinedMetricWarning: F-score is ill-defined and being set to 0.0 in labels with no predicted samples.\n",
      "  'precision', 'predicted', average, warn_for)\n",
      "/anaconda3/lib/python3.7/site-packages/sklearn/metrics/classification.py:1143: UndefinedMetricWarning: F-score is ill-defined and being set to 0.0 in labels with no predicted samples.\n",
      "  'precision', 'predicted', average, warn_for)\n"
     ]
    },
    {
     "name": "stdout",
     "output_type": "stream",
     "text": [
      "[CV]  criterion=entropy, max_depth=2, min_samples_leaf=6, min_samples_split=2, score=0.23922935115032554, total=   0.2s\n",
      "[CV] criterion=entropy, max_depth=2, min_samples_leaf=6, min_samples_split=2 \n"
     ]
    },
    {
     "name": "stderr",
     "output_type": "stream",
     "text": [
      "/anaconda3/lib/python3.7/site-packages/sklearn/metrics/classification.py:1143: UndefinedMetricWarning: F-score is ill-defined and being set to 0.0 in labels with no predicted samples.\n",
      "  'precision', 'predicted', average, warn_for)\n",
      "/anaconda3/lib/python3.7/site-packages/sklearn/metrics/classification.py:1143: UndefinedMetricWarning: F-score is ill-defined and being set to 0.0 in labels with no predicted samples.\n",
      "  'precision', 'predicted', average, warn_for)\n",
      "/anaconda3/lib/python3.7/site-packages/sklearn/metrics/classification.py:1143: UndefinedMetricWarning: F-score is ill-defined and being set to 0.0 in labels with no predicted samples.\n",
      "  'precision', 'predicted', average, warn_for)\n"
     ]
    },
    {
     "name": "stdout",
     "output_type": "stream",
     "text": [
      "[CV]  criterion=entropy, max_depth=2, min_samples_leaf=6, min_samples_split=2, score=0.23923699914748509, total=   0.2s\n",
      "[CV] criterion=entropy, max_depth=2, min_samples_leaf=6, min_samples_split=5 \n"
     ]
    },
    {
     "name": "stderr",
     "output_type": "stream",
     "text": [
      "/anaconda3/lib/python3.7/site-packages/sklearn/metrics/classification.py:1143: UndefinedMetricWarning: F-score is ill-defined and being set to 0.0 in labels with no predicted samples.\n",
      "  'precision', 'predicted', average, warn_for)\n",
      "/anaconda3/lib/python3.7/site-packages/sklearn/metrics/classification.py:1143: UndefinedMetricWarning: F-score is ill-defined and being set to 0.0 in labels with no predicted samples.\n",
      "  'precision', 'predicted', average, warn_for)\n",
      "/anaconda3/lib/python3.7/site-packages/sklearn/metrics/classification.py:1143: UndefinedMetricWarning: F-score is ill-defined and being set to 0.0 in labels with no predicted samples.\n",
      "  'precision', 'predicted', average, warn_for)\n"
     ]
    },
    {
     "name": "stdout",
     "output_type": "stream",
     "text": [
      "[CV]  criterion=entropy, max_depth=2, min_samples_leaf=6, min_samples_split=5, score=0.2392277202403785, total=   0.2s\n",
      "[CV] criterion=entropy, max_depth=2, min_samples_leaf=6, min_samples_split=5 \n",
      "[CV]  criterion=entropy, max_depth=2, min_samples_leaf=6, min_samples_split=5, score=0.23922935115032554, total=   0.1s\n",
      "[CV] criterion=entropy, max_depth=2, min_samples_leaf=6, min_samples_split=5 \n"
     ]
    },
    {
     "name": "stderr",
     "output_type": "stream",
     "text": [
      "/anaconda3/lib/python3.7/site-packages/sklearn/metrics/classification.py:1143: UndefinedMetricWarning: F-score is ill-defined and being set to 0.0 in labels with no predicted samples.\n",
      "  'precision', 'predicted', average, warn_for)\n",
      "/anaconda3/lib/python3.7/site-packages/sklearn/metrics/classification.py:1143: UndefinedMetricWarning: F-score is ill-defined and being set to 0.0 in labels with no predicted samples.\n",
      "  'precision', 'predicted', average, warn_for)\n",
      "/anaconda3/lib/python3.7/site-packages/sklearn/metrics/classification.py:1143: UndefinedMetricWarning: F-score is ill-defined and being set to 0.0 in labels with no predicted samples.\n",
      "  'precision', 'predicted', average, warn_for)\n",
      "/anaconda3/lib/python3.7/site-packages/sklearn/metrics/classification.py:1143: UndefinedMetricWarning: F-score is ill-defined and being set to 0.0 in labels with no predicted samples.\n",
      "  'precision', 'predicted', average, warn_for)\n"
     ]
    },
    {
     "name": "stdout",
     "output_type": "stream",
     "text": [
      "[CV]  criterion=entropy, max_depth=2, min_samples_leaf=6, min_samples_split=5, score=0.23923699914748509, total=   0.1s\n",
      "[CV] criterion=entropy, max_depth=2, min_samples_leaf=6, min_samples_split=10 \n",
      "[CV]  criterion=entropy, max_depth=2, min_samples_leaf=6, min_samples_split=10, score=0.2392277202403785, total=   0.1s\n",
      "[CV] criterion=entropy, max_depth=2, min_samples_leaf=6, min_samples_split=10 \n"
     ]
    },
    {
     "name": "stderr",
     "output_type": "stream",
     "text": [
      "/anaconda3/lib/python3.7/site-packages/sklearn/metrics/classification.py:1143: UndefinedMetricWarning: F-score is ill-defined and being set to 0.0 in labels with no predicted samples.\n",
      "  'precision', 'predicted', average, warn_for)\n",
      "/anaconda3/lib/python3.7/site-packages/sklearn/metrics/classification.py:1143: UndefinedMetricWarning: F-score is ill-defined and being set to 0.0 in labels with no predicted samples.\n",
      "  'precision', 'predicted', average, warn_for)\n",
      "/anaconda3/lib/python3.7/site-packages/sklearn/metrics/classification.py:1143: UndefinedMetricWarning: F-score is ill-defined and being set to 0.0 in labels with no predicted samples.\n",
      "  'precision', 'predicted', average, warn_for)\n",
      "/anaconda3/lib/python3.7/site-packages/sklearn/metrics/classification.py:1143: UndefinedMetricWarning: F-score is ill-defined and being set to 0.0 in labels with no predicted samples.\n",
      "  'precision', 'predicted', average, warn_for)\n"
     ]
    },
    {
     "name": "stdout",
     "output_type": "stream",
     "text": [
      "[CV]  criterion=entropy, max_depth=2, min_samples_leaf=6, min_samples_split=10, score=0.23922935115032554, total=   0.1s\n",
      "[CV] criterion=entropy, max_depth=2, min_samples_leaf=6, min_samples_split=10 \n",
      "[CV]  criterion=entropy, max_depth=2, min_samples_leaf=6, min_samples_split=10, score=0.23923699914748509, total=   0.1s\n",
      "[CV] criterion=entropy, max_depth=3, min_samples_leaf=1, min_samples_split=2 \n"
     ]
    },
    {
     "name": "stderr",
     "output_type": "stream",
     "text": [
      "/anaconda3/lib/python3.7/site-packages/sklearn/metrics/classification.py:1143: UndefinedMetricWarning: F-score is ill-defined and being set to 0.0 in labels with no predicted samples.\n",
      "  'precision', 'predicted', average, warn_for)\n",
      "/anaconda3/lib/python3.7/site-packages/sklearn/metrics/classification.py:1143: UndefinedMetricWarning: F-score is ill-defined and being set to 0.0 in labels with no predicted samples.\n",
      "  'precision', 'predicted', average, warn_for)\n",
      "/anaconda3/lib/python3.7/site-packages/sklearn/metrics/classification.py:1143: UndefinedMetricWarning: F-score is ill-defined and being set to 0.0 in labels with no predicted samples.\n",
      "  'precision', 'predicted', average, warn_for)\n",
      "/anaconda3/lib/python3.7/site-packages/sklearn/metrics/classification.py:1143: UndefinedMetricWarning: F-score is ill-defined and being set to 0.0 in labels with no predicted samples.\n",
      "  'precision', 'predicted', average, warn_for)\n"
     ]
    },
    {
     "name": "stdout",
     "output_type": "stream",
     "text": [
      "[CV]  criterion=entropy, max_depth=3, min_samples_leaf=1, min_samples_split=2, score=0.2392277202403785, total=   0.2s\n",
      "[CV] criterion=entropy, max_depth=3, min_samples_leaf=1, min_samples_split=2 \n",
      "[CV]  criterion=entropy, max_depth=3, min_samples_leaf=1, min_samples_split=2, score=0.294112883759189, total=   0.2s\n",
      "[CV] criterion=entropy, max_depth=3, min_samples_leaf=1, min_samples_split=2 \n"
     ]
    },
    {
     "name": "stderr",
     "output_type": "stream",
     "text": [
      "/anaconda3/lib/python3.7/site-packages/sklearn/metrics/classification.py:1143: UndefinedMetricWarning: F-score is ill-defined and being set to 0.0 in labels with no predicted samples.\n",
      "  'precision', 'predicted', average, warn_for)\n",
      "/anaconda3/lib/python3.7/site-packages/sklearn/metrics/classification.py:1143: UndefinedMetricWarning: F-score is ill-defined and being set to 0.0 in labels with no predicted samples.\n",
      "  'precision', 'predicted', average, warn_for)\n",
      "/anaconda3/lib/python3.7/site-packages/sklearn/metrics/classification.py:1143: UndefinedMetricWarning: F-score is ill-defined and being set to 0.0 in labels with no predicted samples.\n",
      "  'precision', 'predicted', average, warn_for)\n",
      "/anaconda3/lib/python3.7/site-packages/sklearn/metrics/classification.py:1143: UndefinedMetricWarning: F-score is ill-defined and being set to 0.0 in labels with no predicted samples.\n",
      "  'precision', 'predicted', average, warn_for)\n"
     ]
    },
    {
     "name": "stdout",
     "output_type": "stream",
     "text": [
      "[CV]  criterion=entropy, max_depth=3, min_samples_leaf=1, min_samples_split=2, score=0.2837953376664254, total=   0.2s\n",
      "[CV] criterion=entropy, max_depth=3, min_samples_leaf=1, min_samples_split=5 \n",
      "[CV]  criterion=entropy, max_depth=3, min_samples_leaf=1, min_samples_split=5, score=0.2392277202403785, total=   0.2s\n",
      "[CV] criterion=entropy, max_depth=3, min_samples_leaf=1, min_samples_split=5 \n"
     ]
    },
    {
     "name": "stderr",
     "output_type": "stream",
     "text": [
      "/anaconda3/lib/python3.7/site-packages/sklearn/metrics/classification.py:1143: UndefinedMetricWarning: F-score is ill-defined and being set to 0.0 in labels with no predicted samples.\n",
      "  'precision', 'predicted', average, warn_for)\n",
      "/anaconda3/lib/python3.7/site-packages/sklearn/metrics/classification.py:1143: UndefinedMetricWarning: F-score is ill-defined and being set to 0.0 in labels with no predicted samples.\n",
      "  'precision', 'predicted', average, warn_for)\n",
      "/anaconda3/lib/python3.7/site-packages/sklearn/metrics/classification.py:1143: UndefinedMetricWarning: F-score is ill-defined and being set to 0.0 in labels with no predicted samples.\n",
      "  'precision', 'predicted', average, warn_for)\n",
      "/anaconda3/lib/python3.7/site-packages/sklearn/metrics/classification.py:1143: UndefinedMetricWarning: F-score is ill-defined and being set to 0.0 in labels with no predicted samples.\n",
      "  'precision', 'predicted', average, warn_for)\n"
     ]
    },
    {
     "name": "stdout",
     "output_type": "stream",
     "text": [
      "[CV]  criterion=entropy, max_depth=3, min_samples_leaf=1, min_samples_split=5, score=0.294112883759189, total=   0.2s\n",
      "[CV] criterion=entropy, max_depth=3, min_samples_leaf=1, min_samples_split=5 \n",
      "[CV]  criterion=entropy, max_depth=3, min_samples_leaf=1, min_samples_split=5, score=0.2837953376664254, total=   0.2s\n",
      "[CV] criterion=entropy, max_depth=3, min_samples_leaf=1, min_samples_split=10 \n"
     ]
    },
    {
     "name": "stderr",
     "output_type": "stream",
     "text": [
      "/anaconda3/lib/python3.7/site-packages/sklearn/metrics/classification.py:1143: UndefinedMetricWarning: F-score is ill-defined and being set to 0.0 in labels with no predicted samples.\n",
      "  'precision', 'predicted', average, warn_for)\n",
      "/anaconda3/lib/python3.7/site-packages/sklearn/metrics/classification.py:1143: UndefinedMetricWarning: F-score is ill-defined and being set to 0.0 in labels with no predicted samples.\n",
      "  'precision', 'predicted', average, warn_for)\n",
      "/anaconda3/lib/python3.7/site-packages/sklearn/metrics/classification.py:1143: UndefinedMetricWarning: F-score is ill-defined and being set to 0.0 in labels with no predicted samples.\n",
      "  'precision', 'predicted', average, warn_for)\n",
      "/anaconda3/lib/python3.7/site-packages/sklearn/metrics/classification.py:1143: UndefinedMetricWarning: F-score is ill-defined and being set to 0.0 in labels with no predicted samples.\n",
      "  'precision', 'predicted', average, warn_for)\n"
     ]
    },
    {
     "name": "stdout",
     "output_type": "stream",
     "text": [
      "[CV]  criterion=entropy, max_depth=3, min_samples_leaf=1, min_samples_split=10, score=0.2392277202403785, total=   0.2s\n",
      "[CV] criterion=entropy, max_depth=3, min_samples_leaf=1, min_samples_split=10 \n",
      "[CV]  criterion=entropy, max_depth=3, min_samples_leaf=1, min_samples_split=10, score=0.294112883759189, total=   0.2s\n",
      "[CV] criterion=entropy, max_depth=3, min_samples_leaf=1, min_samples_split=10 \n"
     ]
    },
    {
     "name": "stderr",
     "output_type": "stream",
     "text": [
      "/anaconda3/lib/python3.7/site-packages/sklearn/metrics/classification.py:1143: UndefinedMetricWarning: F-score is ill-defined and being set to 0.0 in labels with no predicted samples.\n",
      "  'precision', 'predicted', average, warn_for)\n",
      "/anaconda3/lib/python3.7/site-packages/sklearn/metrics/classification.py:1143: UndefinedMetricWarning: F-score is ill-defined and being set to 0.0 in labels with no predicted samples.\n",
      "  'precision', 'predicted', average, warn_for)\n",
      "/anaconda3/lib/python3.7/site-packages/sklearn/metrics/classification.py:1143: UndefinedMetricWarning: F-score is ill-defined and being set to 0.0 in labels with no predicted samples.\n",
      "  'precision', 'predicted', average, warn_for)\n",
      "/anaconda3/lib/python3.7/site-packages/sklearn/metrics/classification.py:1143: UndefinedMetricWarning: F-score is ill-defined and being set to 0.0 in labels with no predicted samples.\n",
      "  'precision', 'predicted', average, warn_for)\n"
     ]
    },
    {
     "name": "stdout",
     "output_type": "stream",
     "text": [
      "[CV]  criterion=entropy, max_depth=3, min_samples_leaf=1, min_samples_split=10, score=0.2837953376664254, total=   0.2s\n",
      "[CV] criterion=entropy, max_depth=3, min_samples_leaf=2, min_samples_split=2 \n",
      "[CV]  criterion=entropy, max_depth=3, min_samples_leaf=2, min_samples_split=2, score=0.2392277202403785, total=   0.2s\n",
      "[CV] criterion=entropy, max_depth=3, min_samples_leaf=2, min_samples_split=2 \n"
     ]
    },
    {
     "name": "stderr",
     "output_type": "stream",
     "text": [
      "/anaconda3/lib/python3.7/site-packages/sklearn/metrics/classification.py:1143: UndefinedMetricWarning: F-score is ill-defined and being set to 0.0 in labels with no predicted samples.\n",
      "  'precision', 'predicted', average, warn_for)\n",
      "/anaconda3/lib/python3.7/site-packages/sklearn/metrics/classification.py:1143: UndefinedMetricWarning: F-score is ill-defined and being set to 0.0 in labels with no predicted samples.\n",
      "  'precision', 'predicted', average, warn_for)\n",
      "/anaconda3/lib/python3.7/site-packages/sklearn/metrics/classification.py:1143: UndefinedMetricWarning: F-score is ill-defined and being set to 0.0 in labels with no predicted samples.\n",
      "  'precision', 'predicted', average, warn_for)\n",
      "/anaconda3/lib/python3.7/site-packages/sklearn/metrics/classification.py:1143: UndefinedMetricWarning: F-score is ill-defined and being set to 0.0 in labels with no predicted samples.\n",
      "  'precision', 'predicted', average, warn_for)\n"
     ]
    },
    {
     "name": "stdout",
     "output_type": "stream",
     "text": [
      "[CV]  criterion=entropy, max_depth=3, min_samples_leaf=2, min_samples_split=2, score=0.294112883759189, total=   0.2s\n",
      "[CV] criterion=entropy, max_depth=3, min_samples_leaf=2, min_samples_split=2 \n",
      "[CV]  criterion=entropy, max_depth=3, min_samples_leaf=2, min_samples_split=2, score=0.2837953376664254, total=   0.2s\n",
      "[CV] criterion=entropy, max_depth=3, min_samples_leaf=2, min_samples_split=5 \n"
     ]
    },
    {
     "name": "stderr",
     "output_type": "stream",
     "text": [
      "/anaconda3/lib/python3.7/site-packages/sklearn/metrics/classification.py:1143: UndefinedMetricWarning: F-score is ill-defined and being set to 0.0 in labels with no predicted samples.\n",
      "  'precision', 'predicted', average, warn_for)\n",
      "/anaconda3/lib/python3.7/site-packages/sklearn/metrics/classification.py:1143: UndefinedMetricWarning: F-score is ill-defined and being set to 0.0 in labels with no predicted samples.\n",
      "  'precision', 'predicted', average, warn_for)\n",
      "/anaconda3/lib/python3.7/site-packages/sklearn/metrics/classification.py:1143: UndefinedMetricWarning: F-score is ill-defined and being set to 0.0 in labels with no predicted samples.\n",
      "  'precision', 'predicted', average, warn_for)\n",
      "/anaconda3/lib/python3.7/site-packages/sklearn/metrics/classification.py:1143: UndefinedMetricWarning: F-score is ill-defined and being set to 0.0 in labels with no predicted samples.\n",
      "  'precision', 'predicted', average, warn_for)\n"
     ]
    },
    {
     "name": "stdout",
     "output_type": "stream",
     "text": [
      "[CV]  criterion=entropy, max_depth=3, min_samples_leaf=2, min_samples_split=5, score=0.2392277202403785, total=   0.2s\n",
      "[CV] criterion=entropy, max_depth=3, min_samples_leaf=2, min_samples_split=5 \n",
      "[CV]  criterion=entropy, max_depth=3, min_samples_leaf=2, min_samples_split=5, score=0.294112883759189, total=   0.2s\n",
      "[CV] criterion=entropy, max_depth=3, min_samples_leaf=2, min_samples_split=5 \n"
     ]
    },
    {
     "name": "stderr",
     "output_type": "stream",
     "text": [
      "/anaconda3/lib/python3.7/site-packages/sklearn/metrics/classification.py:1143: UndefinedMetricWarning: F-score is ill-defined and being set to 0.0 in labels with no predicted samples.\n",
      "  'precision', 'predicted', average, warn_for)\n",
      "/anaconda3/lib/python3.7/site-packages/sklearn/metrics/classification.py:1143: UndefinedMetricWarning: F-score is ill-defined and being set to 0.0 in labels with no predicted samples.\n",
      "  'precision', 'predicted', average, warn_for)\n"
     ]
    },
    {
     "name": "stdout",
     "output_type": "stream",
     "text": [
      "[CV]  criterion=entropy, max_depth=3, min_samples_leaf=2, min_samples_split=5, score=0.2837953376664254, total=   0.2s\n",
      "[CV] criterion=entropy, max_depth=3, min_samples_leaf=2, min_samples_split=10 \n"
     ]
    },
    {
     "name": "stderr",
     "output_type": "stream",
     "text": [
      "/anaconda3/lib/python3.7/site-packages/sklearn/metrics/classification.py:1143: UndefinedMetricWarning: F-score is ill-defined and being set to 0.0 in labels with no predicted samples.\n",
      "  'precision', 'predicted', average, warn_for)\n",
      "/anaconda3/lib/python3.7/site-packages/sklearn/metrics/classification.py:1143: UndefinedMetricWarning: F-score is ill-defined and being set to 0.0 in labels with no predicted samples.\n",
      "  'precision', 'predicted', average, warn_for)\n"
     ]
    },
    {
     "name": "stdout",
     "output_type": "stream",
     "text": [
      "[CV]  criterion=entropy, max_depth=3, min_samples_leaf=2, min_samples_split=10, score=0.2392277202403785, total=   0.3s\n",
      "[CV] criterion=entropy, max_depth=3, min_samples_leaf=2, min_samples_split=10 \n"
     ]
    },
    {
     "name": "stderr",
     "output_type": "stream",
     "text": [
      "/anaconda3/lib/python3.7/site-packages/sklearn/metrics/classification.py:1143: UndefinedMetricWarning: F-score is ill-defined and being set to 0.0 in labels with no predicted samples.\n",
      "  'precision', 'predicted', average, warn_for)\n",
      "/anaconda3/lib/python3.7/site-packages/sklearn/metrics/classification.py:1143: UndefinedMetricWarning: F-score is ill-defined and being set to 0.0 in labels with no predicted samples.\n",
      "  'precision', 'predicted', average, warn_for)\n"
     ]
    },
    {
     "name": "stdout",
     "output_type": "stream",
     "text": [
      "[CV]  criterion=entropy, max_depth=3, min_samples_leaf=2, min_samples_split=10, score=0.294112883759189, total=   0.3s\n",
      "[CV] criterion=entropy, max_depth=3, min_samples_leaf=2, min_samples_split=10 \n"
     ]
    },
    {
     "name": "stderr",
     "output_type": "stream",
     "text": [
      "/anaconda3/lib/python3.7/site-packages/sklearn/metrics/classification.py:1143: UndefinedMetricWarning: F-score is ill-defined and being set to 0.0 in labels with no predicted samples.\n",
      "  'precision', 'predicted', average, warn_for)\n",
      "/anaconda3/lib/python3.7/site-packages/sklearn/metrics/classification.py:1143: UndefinedMetricWarning: F-score is ill-defined and being set to 0.0 in labels with no predicted samples.\n",
      "  'precision', 'predicted', average, warn_for)\n"
     ]
    },
    {
     "name": "stdout",
     "output_type": "stream",
     "text": [
      "[CV]  criterion=entropy, max_depth=3, min_samples_leaf=2, min_samples_split=10, score=0.2837953376664254, total=   0.3s\n",
      "[CV] criterion=entropy, max_depth=3, min_samples_leaf=3, min_samples_split=2 \n"
     ]
    },
    {
     "name": "stderr",
     "output_type": "stream",
     "text": [
      "/anaconda3/lib/python3.7/site-packages/sklearn/metrics/classification.py:1143: UndefinedMetricWarning: F-score is ill-defined and being set to 0.0 in labels with no predicted samples.\n",
      "  'precision', 'predicted', average, warn_for)\n",
      "/anaconda3/lib/python3.7/site-packages/sklearn/metrics/classification.py:1143: UndefinedMetricWarning: F-score is ill-defined and being set to 0.0 in labels with no predicted samples.\n",
      "  'precision', 'predicted', average, warn_for)\n"
     ]
    },
    {
     "name": "stdout",
     "output_type": "stream",
     "text": [
      "[CV]  criterion=entropy, max_depth=3, min_samples_leaf=3, min_samples_split=2, score=0.2392277202403785, total=   0.3s\n",
      "[CV] criterion=entropy, max_depth=3, min_samples_leaf=3, min_samples_split=2 \n"
     ]
    },
    {
     "name": "stderr",
     "output_type": "stream",
     "text": [
      "/anaconda3/lib/python3.7/site-packages/sklearn/metrics/classification.py:1143: UndefinedMetricWarning: F-score is ill-defined and being set to 0.0 in labels with no predicted samples.\n",
      "  'precision', 'predicted', average, warn_for)\n",
      "/anaconda3/lib/python3.7/site-packages/sklearn/metrics/classification.py:1143: UndefinedMetricWarning: F-score is ill-defined and being set to 0.0 in labels with no predicted samples.\n",
      "  'precision', 'predicted', average, warn_for)\n",
      "/anaconda3/lib/python3.7/site-packages/sklearn/metrics/classification.py:1143: UndefinedMetricWarning: F-score is ill-defined and being set to 0.0 in labels with no predicted samples.\n",
      "  'precision', 'predicted', average, warn_for)\n",
      "/anaconda3/lib/python3.7/site-packages/sklearn/metrics/classification.py:1143: UndefinedMetricWarning: F-score is ill-defined and being set to 0.0 in labels with no predicted samples.\n",
      "  'precision', 'predicted', average, warn_for)\n"
     ]
    },
    {
     "name": "stdout",
     "output_type": "stream",
     "text": [
      "[CV]  criterion=entropy, max_depth=3, min_samples_leaf=3, min_samples_split=2, score=0.294112883759189, total=   0.2s\n",
      "[CV] criterion=entropy, max_depth=3, min_samples_leaf=3, min_samples_split=2 \n",
      "[CV]  criterion=entropy, max_depth=3, min_samples_leaf=3, min_samples_split=2, score=0.2837953376664254, total=   0.2s\n",
      "[CV] criterion=entropy, max_depth=3, min_samples_leaf=3, min_samples_split=5 \n"
     ]
    },
    {
     "name": "stderr",
     "output_type": "stream",
     "text": [
      "/anaconda3/lib/python3.7/site-packages/sklearn/metrics/classification.py:1143: UndefinedMetricWarning: F-score is ill-defined and being set to 0.0 in labels with no predicted samples.\n",
      "  'precision', 'predicted', average, warn_for)\n",
      "/anaconda3/lib/python3.7/site-packages/sklearn/metrics/classification.py:1143: UndefinedMetricWarning: F-score is ill-defined and being set to 0.0 in labels with no predicted samples.\n",
      "  'precision', 'predicted', average, warn_for)\n",
      "/anaconda3/lib/python3.7/site-packages/sklearn/metrics/classification.py:1143: UndefinedMetricWarning: F-score is ill-defined and being set to 0.0 in labels with no predicted samples.\n",
      "  'precision', 'predicted', average, warn_for)\n",
      "/anaconda3/lib/python3.7/site-packages/sklearn/metrics/classification.py:1143: UndefinedMetricWarning: F-score is ill-defined and being set to 0.0 in labels with no predicted samples.\n",
      "  'precision', 'predicted', average, warn_for)\n"
     ]
    },
    {
     "name": "stdout",
     "output_type": "stream",
     "text": [
      "[CV]  criterion=entropy, max_depth=3, min_samples_leaf=3, min_samples_split=5, score=0.2392277202403785, total=   0.2s\n",
      "[CV] criterion=entropy, max_depth=3, min_samples_leaf=3, min_samples_split=5 \n",
      "[CV]  criterion=entropy, max_depth=3, min_samples_leaf=3, min_samples_split=5, score=0.294112883759189, total=   0.2s\n",
      "[CV] criterion=entropy, max_depth=3, min_samples_leaf=3, min_samples_split=5 \n"
     ]
    },
    {
     "name": "stderr",
     "output_type": "stream",
     "text": [
      "/anaconda3/lib/python3.7/site-packages/sklearn/metrics/classification.py:1143: UndefinedMetricWarning: F-score is ill-defined and being set to 0.0 in labels with no predicted samples.\n",
      "  'precision', 'predicted', average, warn_for)\n",
      "/anaconda3/lib/python3.7/site-packages/sklearn/metrics/classification.py:1143: UndefinedMetricWarning: F-score is ill-defined and being set to 0.0 in labels with no predicted samples.\n",
      "  'precision', 'predicted', average, warn_for)\n",
      "/anaconda3/lib/python3.7/site-packages/sklearn/metrics/classification.py:1143: UndefinedMetricWarning: F-score is ill-defined and being set to 0.0 in labels with no predicted samples.\n",
      "  'precision', 'predicted', average, warn_for)\n"
     ]
    },
    {
     "name": "stdout",
     "output_type": "stream",
     "text": [
      "[CV]  criterion=entropy, max_depth=3, min_samples_leaf=3, min_samples_split=5, score=0.2837953376664254, total=   0.2s\n",
      "[CV] criterion=entropy, max_depth=3, min_samples_leaf=3, min_samples_split=10 \n",
      "[CV]  criterion=entropy, max_depth=3, min_samples_leaf=3, min_samples_split=10, score=0.2392277202403785, total=   0.2s\n",
      "[CV] criterion=entropy, max_depth=3, min_samples_leaf=3, min_samples_split=10 \n"
     ]
    },
    {
     "name": "stderr",
     "output_type": "stream",
     "text": [
      "/anaconda3/lib/python3.7/site-packages/sklearn/metrics/classification.py:1143: UndefinedMetricWarning: F-score is ill-defined and being set to 0.0 in labels with no predicted samples.\n",
      "  'precision', 'predicted', average, warn_for)\n",
      "/anaconda3/lib/python3.7/site-packages/sklearn/metrics/classification.py:1143: UndefinedMetricWarning: F-score is ill-defined and being set to 0.0 in labels with no predicted samples.\n",
      "  'precision', 'predicted', average, warn_for)\n",
      "/anaconda3/lib/python3.7/site-packages/sklearn/metrics/classification.py:1143: UndefinedMetricWarning: F-score is ill-defined and being set to 0.0 in labels with no predicted samples.\n",
      "  'precision', 'predicted', average, warn_for)\n"
     ]
    },
    {
     "name": "stdout",
     "output_type": "stream",
     "text": [
      "[CV]  criterion=entropy, max_depth=3, min_samples_leaf=3, min_samples_split=10, score=0.294112883759189, total=   0.3s\n",
      "[CV] criterion=entropy, max_depth=3, min_samples_leaf=3, min_samples_split=10 \n"
     ]
    },
    {
     "name": "stderr",
     "output_type": "stream",
     "text": [
      "/anaconda3/lib/python3.7/site-packages/sklearn/metrics/classification.py:1143: UndefinedMetricWarning: F-score is ill-defined and being set to 0.0 in labels with no predicted samples.\n",
      "  'precision', 'predicted', average, warn_for)\n",
      "/anaconda3/lib/python3.7/site-packages/sklearn/metrics/classification.py:1143: UndefinedMetricWarning: F-score is ill-defined and being set to 0.0 in labels with no predicted samples.\n",
      "  'precision', 'predicted', average, warn_for)\n"
     ]
    },
    {
     "name": "stdout",
     "output_type": "stream",
     "text": [
      "[CV]  criterion=entropy, max_depth=3, min_samples_leaf=3, min_samples_split=10, score=0.2837953376664254, total=   0.3s\n",
      "[CV] criterion=entropy, max_depth=3, min_samples_leaf=4, min_samples_split=2 \n"
     ]
    },
    {
     "name": "stderr",
     "output_type": "stream",
     "text": [
      "/anaconda3/lib/python3.7/site-packages/sklearn/metrics/classification.py:1143: UndefinedMetricWarning: F-score is ill-defined and being set to 0.0 in labels with no predicted samples.\n",
      "  'precision', 'predicted', average, warn_for)\n",
      "/anaconda3/lib/python3.7/site-packages/sklearn/metrics/classification.py:1143: UndefinedMetricWarning: F-score is ill-defined and being set to 0.0 in labels with no predicted samples.\n",
      "  'precision', 'predicted', average, warn_for)\n"
     ]
    },
    {
     "name": "stdout",
     "output_type": "stream",
     "text": [
      "[CV]  criterion=entropy, max_depth=3, min_samples_leaf=4, min_samples_split=2, score=0.2392277202403785, total=   0.3s\n",
      "[CV] criterion=entropy, max_depth=3, min_samples_leaf=4, min_samples_split=2 \n"
     ]
    },
    {
     "name": "stderr",
     "output_type": "stream",
     "text": [
      "/anaconda3/lib/python3.7/site-packages/sklearn/metrics/classification.py:1143: UndefinedMetricWarning: F-score is ill-defined and being set to 0.0 in labels with no predicted samples.\n",
      "  'precision', 'predicted', average, warn_for)\n",
      "/anaconda3/lib/python3.7/site-packages/sklearn/metrics/classification.py:1143: UndefinedMetricWarning: F-score is ill-defined and being set to 0.0 in labels with no predicted samples.\n",
      "  'precision', 'predicted', average, warn_for)\n"
     ]
    },
    {
     "name": "stdout",
     "output_type": "stream",
     "text": [
      "[CV]  criterion=entropy, max_depth=3, min_samples_leaf=4, min_samples_split=2, score=0.294112883759189, total=   0.3s\n",
      "[CV] criterion=entropy, max_depth=3, min_samples_leaf=4, min_samples_split=2 \n"
     ]
    },
    {
     "name": "stderr",
     "output_type": "stream",
     "text": [
      "/anaconda3/lib/python3.7/site-packages/sklearn/metrics/classification.py:1143: UndefinedMetricWarning: F-score is ill-defined and being set to 0.0 in labels with no predicted samples.\n",
      "  'precision', 'predicted', average, warn_for)\n",
      "/anaconda3/lib/python3.7/site-packages/sklearn/metrics/classification.py:1143: UndefinedMetricWarning: F-score is ill-defined and being set to 0.0 in labels with no predicted samples.\n",
      "  'precision', 'predicted', average, warn_for)\n"
     ]
    },
    {
     "name": "stdout",
     "output_type": "stream",
     "text": [
      "[CV]  criterion=entropy, max_depth=3, min_samples_leaf=4, min_samples_split=2, score=0.2837953376664254, total=   0.3s\n",
      "[CV] criterion=entropy, max_depth=3, min_samples_leaf=4, min_samples_split=5 \n"
     ]
    },
    {
     "name": "stderr",
     "output_type": "stream",
     "text": [
      "/anaconda3/lib/python3.7/site-packages/sklearn/metrics/classification.py:1143: UndefinedMetricWarning: F-score is ill-defined and being set to 0.0 in labels with no predicted samples.\n",
      "  'precision', 'predicted', average, warn_for)\n",
      "/anaconda3/lib/python3.7/site-packages/sklearn/metrics/classification.py:1143: UndefinedMetricWarning: F-score is ill-defined and being set to 0.0 in labels with no predicted samples.\n",
      "  'precision', 'predicted', average, warn_for)\n"
     ]
    },
    {
     "name": "stdout",
     "output_type": "stream",
     "text": [
      "[CV]  criterion=entropy, max_depth=3, min_samples_leaf=4, min_samples_split=5, score=0.2392277202403785, total=   0.3s\n",
      "[CV] criterion=entropy, max_depth=3, min_samples_leaf=4, min_samples_split=5 \n"
     ]
    },
    {
     "name": "stderr",
     "output_type": "stream",
     "text": [
      "/anaconda3/lib/python3.7/site-packages/sklearn/metrics/classification.py:1143: UndefinedMetricWarning: F-score is ill-defined and being set to 0.0 in labels with no predicted samples.\n",
      "  'precision', 'predicted', average, warn_for)\n",
      "/anaconda3/lib/python3.7/site-packages/sklearn/metrics/classification.py:1143: UndefinedMetricWarning: F-score is ill-defined and being set to 0.0 in labels with no predicted samples.\n",
      "  'precision', 'predicted', average, warn_for)\n"
     ]
    },
    {
     "name": "stdout",
     "output_type": "stream",
     "text": [
      "[CV]  criterion=entropy, max_depth=3, min_samples_leaf=4, min_samples_split=5, score=0.294112883759189, total=   0.3s\n",
      "[CV] criterion=entropy, max_depth=3, min_samples_leaf=4, min_samples_split=5 \n"
     ]
    },
    {
     "name": "stderr",
     "output_type": "stream",
     "text": [
      "/anaconda3/lib/python3.7/site-packages/sklearn/metrics/classification.py:1143: UndefinedMetricWarning: F-score is ill-defined and being set to 0.0 in labels with no predicted samples.\n",
      "  'precision', 'predicted', average, warn_for)\n",
      "/anaconda3/lib/python3.7/site-packages/sklearn/metrics/classification.py:1143: UndefinedMetricWarning: F-score is ill-defined and being set to 0.0 in labels with no predicted samples.\n",
      "  'precision', 'predicted', average, warn_for)\n"
     ]
    },
    {
     "name": "stdout",
     "output_type": "stream",
     "text": [
      "[CV]  criterion=entropy, max_depth=3, min_samples_leaf=4, min_samples_split=5, score=0.2837953376664254, total=   0.3s\n",
      "[CV] criterion=entropy, max_depth=3, min_samples_leaf=4, min_samples_split=10 \n"
     ]
    },
    {
     "name": "stderr",
     "output_type": "stream",
     "text": [
      "/anaconda3/lib/python3.7/site-packages/sklearn/metrics/classification.py:1143: UndefinedMetricWarning: F-score is ill-defined and being set to 0.0 in labels with no predicted samples.\n",
      "  'precision', 'predicted', average, warn_for)\n",
      "/anaconda3/lib/python3.7/site-packages/sklearn/metrics/classification.py:1143: UndefinedMetricWarning: F-score is ill-defined and being set to 0.0 in labels with no predicted samples.\n",
      "  'precision', 'predicted', average, warn_for)\n"
     ]
    },
    {
     "name": "stdout",
     "output_type": "stream",
     "text": [
      "[CV]  criterion=entropy, max_depth=3, min_samples_leaf=4, min_samples_split=10, score=0.2392277202403785, total=   0.3s\n",
      "[CV] criterion=entropy, max_depth=3, min_samples_leaf=4, min_samples_split=10 \n"
     ]
    },
    {
     "name": "stderr",
     "output_type": "stream",
     "text": [
      "/anaconda3/lib/python3.7/site-packages/sklearn/metrics/classification.py:1143: UndefinedMetricWarning: F-score is ill-defined and being set to 0.0 in labels with no predicted samples.\n",
      "  'precision', 'predicted', average, warn_for)\n",
      "/anaconda3/lib/python3.7/site-packages/sklearn/metrics/classification.py:1143: UndefinedMetricWarning: F-score is ill-defined and being set to 0.0 in labels with no predicted samples.\n",
      "  'precision', 'predicted', average, warn_for)\n"
     ]
    },
    {
     "name": "stdout",
     "output_type": "stream",
     "text": [
      "[CV]  criterion=entropy, max_depth=3, min_samples_leaf=4, min_samples_split=10, score=0.294112883759189, total=   0.3s\n",
      "[CV] criterion=entropy, max_depth=3, min_samples_leaf=4, min_samples_split=10 \n"
     ]
    },
    {
     "name": "stderr",
     "output_type": "stream",
     "text": [
      "/anaconda3/lib/python3.7/site-packages/sklearn/metrics/classification.py:1143: UndefinedMetricWarning: F-score is ill-defined and being set to 0.0 in labels with no predicted samples.\n",
      "  'precision', 'predicted', average, warn_for)\n",
      "/anaconda3/lib/python3.7/site-packages/sklearn/metrics/classification.py:1143: UndefinedMetricWarning: F-score is ill-defined and being set to 0.0 in labels with no predicted samples.\n",
      "  'precision', 'predicted', average, warn_for)\n",
      "/anaconda3/lib/python3.7/site-packages/sklearn/metrics/classification.py:1143: UndefinedMetricWarning: F-score is ill-defined and being set to 0.0 in labels with no predicted samples.\n",
      "  'precision', 'predicted', average, warn_for)\n",
      "/anaconda3/lib/python3.7/site-packages/sklearn/metrics/classification.py:1143: UndefinedMetricWarning: F-score is ill-defined and being set to 0.0 in labels with no predicted samples.\n",
      "  'precision', 'predicted', average, warn_for)\n"
     ]
    },
    {
     "name": "stdout",
     "output_type": "stream",
     "text": [
      "[CV]  criterion=entropy, max_depth=3, min_samples_leaf=4, min_samples_split=10, score=0.2837953376664254, total=   0.3s\n",
      "[CV] criterion=entropy, max_depth=3, min_samples_leaf=5, min_samples_split=2 \n",
      "[CV]  criterion=entropy, max_depth=3, min_samples_leaf=5, min_samples_split=2, score=0.2392277202403785, total=   0.2s\n",
      "[CV] criterion=entropy, max_depth=3, min_samples_leaf=5, min_samples_split=2 \n"
     ]
    },
    {
     "name": "stderr",
     "output_type": "stream",
     "text": [
      "/anaconda3/lib/python3.7/site-packages/sklearn/metrics/classification.py:1143: UndefinedMetricWarning: F-score is ill-defined and being set to 0.0 in labels with no predicted samples.\n",
      "  'precision', 'predicted', average, warn_for)\n",
      "/anaconda3/lib/python3.7/site-packages/sklearn/metrics/classification.py:1143: UndefinedMetricWarning: F-score is ill-defined and being set to 0.0 in labels with no predicted samples.\n",
      "  'precision', 'predicted', average, warn_for)\n",
      "/anaconda3/lib/python3.7/site-packages/sklearn/metrics/classification.py:1143: UndefinedMetricWarning: F-score is ill-defined and being set to 0.0 in labels with no predicted samples.\n",
      "  'precision', 'predicted', average, warn_for)\n",
      "/anaconda3/lib/python3.7/site-packages/sklearn/metrics/classification.py:1143: UndefinedMetricWarning: F-score is ill-defined and being set to 0.0 in labels with no predicted samples.\n",
      "  'precision', 'predicted', average, warn_for)\n"
     ]
    },
    {
     "name": "stdout",
     "output_type": "stream",
     "text": [
      "[CV]  criterion=entropy, max_depth=3, min_samples_leaf=5, min_samples_split=2, score=0.294112883759189, total=   0.2s\n",
      "[CV] criterion=entropy, max_depth=3, min_samples_leaf=5, min_samples_split=2 \n",
      "[CV]  criterion=entropy, max_depth=3, min_samples_leaf=5, min_samples_split=2, score=0.2837953376664254, total=   0.2s\n",
      "[CV] criterion=entropy, max_depth=3, min_samples_leaf=5, min_samples_split=5 \n"
     ]
    },
    {
     "name": "stderr",
     "output_type": "stream",
     "text": [
      "/anaconda3/lib/python3.7/site-packages/sklearn/metrics/classification.py:1143: UndefinedMetricWarning: F-score is ill-defined and being set to 0.0 in labels with no predicted samples.\n",
      "  'precision', 'predicted', average, warn_for)\n",
      "/anaconda3/lib/python3.7/site-packages/sklearn/metrics/classification.py:1143: UndefinedMetricWarning: F-score is ill-defined and being set to 0.0 in labels with no predicted samples.\n",
      "  'precision', 'predicted', average, warn_for)\n",
      "/anaconda3/lib/python3.7/site-packages/sklearn/metrics/classification.py:1143: UndefinedMetricWarning: F-score is ill-defined and being set to 0.0 in labels with no predicted samples.\n",
      "  'precision', 'predicted', average, warn_for)\n",
      "/anaconda3/lib/python3.7/site-packages/sklearn/metrics/classification.py:1143: UndefinedMetricWarning: F-score is ill-defined and being set to 0.0 in labels with no predicted samples.\n",
      "  'precision', 'predicted', average, warn_for)\n"
     ]
    },
    {
     "name": "stdout",
     "output_type": "stream",
     "text": [
      "[CV]  criterion=entropy, max_depth=3, min_samples_leaf=5, min_samples_split=5, score=0.2392277202403785, total=   0.2s\n",
      "[CV] criterion=entropy, max_depth=3, min_samples_leaf=5, min_samples_split=5 \n",
      "[CV]  criterion=entropy, max_depth=3, min_samples_leaf=5, min_samples_split=5, score=0.294112883759189, total=   0.1s\n",
      "[CV] criterion=entropy, max_depth=3, min_samples_leaf=5, min_samples_split=5 \n"
     ]
    },
    {
     "name": "stderr",
     "output_type": "stream",
     "text": [
      "/anaconda3/lib/python3.7/site-packages/sklearn/metrics/classification.py:1143: UndefinedMetricWarning: F-score is ill-defined and being set to 0.0 in labels with no predicted samples.\n",
      "  'precision', 'predicted', average, warn_for)\n",
      "/anaconda3/lib/python3.7/site-packages/sklearn/metrics/classification.py:1143: UndefinedMetricWarning: F-score is ill-defined and being set to 0.0 in labels with no predicted samples.\n",
      "  'precision', 'predicted', average, warn_for)\n",
      "/anaconda3/lib/python3.7/site-packages/sklearn/metrics/classification.py:1143: UndefinedMetricWarning: F-score is ill-defined and being set to 0.0 in labels with no predicted samples.\n",
      "  'precision', 'predicted', average, warn_for)\n"
     ]
    },
    {
     "name": "stdout",
     "output_type": "stream",
     "text": [
      "[CV]  criterion=entropy, max_depth=3, min_samples_leaf=5, min_samples_split=5, score=0.2837953376664254, total=   0.2s\n",
      "[CV] criterion=entropy, max_depth=3, min_samples_leaf=5, min_samples_split=10 \n",
      "[CV]  criterion=entropy, max_depth=3, min_samples_leaf=5, min_samples_split=10, score=0.2392277202403785, total=   0.2s\n",
      "[CV] criterion=entropy, max_depth=3, min_samples_leaf=5, min_samples_split=10 \n"
     ]
    },
    {
     "name": "stderr",
     "output_type": "stream",
     "text": [
      "/anaconda3/lib/python3.7/site-packages/sklearn/metrics/classification.py:1143: UndefinedMetricWarning: F-score is ill-defined and being set to 0.0 in labels with no predicted samples.\n",
      "  'precision', 'predicted', average, warn_for)\n",
      "/anaconda3/lib/python3.7/site-packages/sklearn/metrics/classification.py:1143: UndefinedMetricWarning: F-score is ill-defined and being set to 0.0 in labels with no predicted samples.\n",
      "  'precision', 'predicted', average, warn_for)\n",
      "/anaconda3/lib/python3.7/site-packages/sklearn/metrics/classification.py:1143: UndefinedMetricWarning: F-score is ill-defined and being set to 0.0 in labels with no predicted samples.\n",
      "  'precision', 'predicted', average, warn_for)\n"
     ]
    },
    {
     "name": "stdout",
     "output_type": "stream",
     "text": [
      "[CV]  criterion=entropy, max_depth=3, min_samples_leaf=5, min_samples_split=10, score=0.294112883759189, total=   0.2s\n",
      "[CV] criterion=entropy, max_depth=3, min_samples_leaf=5, min_samples_split=10 \n",
      "[CV]  criterion=entropy, max_depth=3, min_samples_leaf=5, min_samples_split=10, score=0.2837953376664254, total=   0.2s\n",
      "[CV] criterion=entropy, max_depth=3, min_samples_leaf=6, min_samples_split=2 \n"
     ]
    },
    {
     "name": "stderr",
     "output_type": "stream",
     "text": [
      "/anaconda3/lib/python3.7/site-packages/sklearn/metrics/classification.py:1143: UndefinedMetricWarning: F-score is ill-defined and being set to 0.0 in labels with no predicted samples.\n",
      "  'precision', 'predicted', average, warn_for)\n",
      "/anaconda3/lib/python3.7/site-packages/sklearn/metrics/classification.py:1143: UndefinedMetricWarning: F-score is ill-defined and being set to 0.0 in labels with no predicted samples.\n",
      "  'precision', 'predicted', average, warn_for)\n",
      "/anaconda3/lib/python3.7/site-packages/sklearn/metrics/classification.py:1143: UndefinedMetricWarning: F-score is ill-defined and being set to 0.0 in labels with no predicted samples.\n",
      "  'precision', 'predicted', average, warn_for)\n",
      "/anaconda3/lib/python3.7/site-packages/sklearn/metrics/classification.py:1143: UndefinedMetricWarning: F-score is ill-defined and being set to 0.0 in labels with no predicted samples.\n",
      "  'precision', 'predicted', average, warn_for)\n",
      "/anaconda3/lib/python3.7/site-packages/sklearn/metrics/classification.py:1143: UndefinedMetricWarning: F-score is ill-defined and being set to 0.0 in labels with no predicted samples.\n",
      "  'precision', 'predicted', average, warn_for)\n",
      "/anaconda3/lib/python3.7/site-packages/sklearn/metrics/classification.py:1143: UndefinedMetricWarning: F-score is ill-defined and being set to 0.0 in labels with no predicted samples.\n",
      "  'precision', 'predicted', average, warn_for)\n"
     ]
    },
    {
     "name": "stdout",
     "output_type": "stream",
     "text": [
      "[CV]  criterion=entropy, max_depth=3, min_samples_leaf=6, min_samples_split=2, score=0.2392277202403785, total=   0.2s\n",
      "[CV] criterion=entropy, max_depth=3, min_samples_leaf=6, min_samples_split=2 \n",
      "[CV]  criterion=entropy, max_depth=3, min_samples_leaf=6, min_samples_split=2, score=0.294112883759189, total=   0.2s\n",
      "[CV] criterion=entropy, max_depth=3, min_samples_leaf=6, min_samples_split=2 \n"
     ]
    },
    {
     "name": "stderr",
     "output_type": "stream",
     "text": [
      "/anaconda3/lib/python3.7/site-packages/sklearn/metrics/classification.py:1143: UndefinedMetricWarning: F-score is ill-defined and being set to 0.0 in labels with no predicted samples.\n",
      "  'precision', 'predicted', average, warn_for)\n",
      "/anaconda3/lib/python3.7/site-packages/sklearn/metrics/classification.py:1143: UndefinedMetricWarning: F-score is ill-defined and being set to 0.0 in labels with no predicted samples.\n",
      "  'precision', 'predicted', average, warn_for)\n",
      "/anaconda3/lib/python3.7/site-packages/sklearn/metrics/classification.py:1143: UndefinedMetricWarning: F-score is ill-defined and being set to 0.0 in labels with no predicted samples.\n",
      "  'precision', 'predicted', average, warn_for)\n",
      "/anaconda3/lib/python3.7/site-packages/sklearn/metrics/classification.py:1143: UndefinedMetricWarning: F-score is ill-defined and being set to 0.0 in labels with no predicted samples.\n",
      "  'precision', 'predicted', average, warn_for)\n"
     ]
    },
    {
     "name": "stdout",
     "output_type": "stream",
     "text": [
      "[CV]  criterion=entropy, max_depth=3, min_samples_leaf=6, min_samples_split=2, score=0.2837953376664254, total=   0.2s\n",
      "[CV] criterion=entropy, max_depth=3, min_samples_leaf=6, min_samples_split=5 \n",
      "[CV]  criterion=entropy, max_depth=3, min_samples_leaf=6, min_samples_split=5, score=0.2392277202403785, total=   0.2s\n",
      "[CV] criterion=entropy, max_depth=3, min_samples_leaf=6, min_samples_split=5 \n"
     ]
    },
    {
     "name": "stderr",
     "output_type": "stream",
     "text": [
      "/anaconda3/lib/python3.7/site-packages/sklearn/metrics/classification.py:1143: UndefinedMetricWarning: F-score is ill-defined and being set to 0.0 in labels with no predicted samples.\n",
      "  'precision', 'predicted', average, warn_for)\n",
      "/anaconda3/lib/python3.7/site-packages/sklearn/metrics/classification.py:1143: UndefinedMetricWarning: F-score is ill-defined and being set to 0.0 in labels with no predicted samples.\n",
      "  'precision', 'predicted', average, warn_for)\n",
      "/anaconda3/lib/python3.7/site-packages/sklearn/metrics/classification.py:1143: UndefinedMetricWarning: F-score is ill-defined and being set to 0.0 in labels with no predicted samples.\n",
      "  'precision', 'predicted', average, warn_for)\n",
      "/anaconda3/lib/python3.7/site-packages/sklearn/metrics/classification.py:1143: UndefinedMetricWarning: F-score is ill-defined and being set to 0.0 in labels with no predicted samples.\n",
      "  'precision', 'predicted', average, warn_for)\n"
     ]
    },
    {
     "name": "stdout",
     "output_type": "stream",
     "text": [
      "[CV]  criterion=entropy, max_depth=3, min_samples_leaf=6, min_samples_split=5, score=0.294112883759189, total=   0.2s\n",
      "[CV] criterion=entropy, max_depth=3, min_samples_leaf=6, min_samples_split=5 \n",
      "[CV]  criterion=entropy, max_depth=3, min_samples_leaf=6, min_samples_split=5, score=0.2837953376664254, total=   0.2s\n",
      "[CV] criterion=entropy, max_depth=3, min_samples_leaf=6, min_samples_split=10 \n"
     ]
    },
    {
     "name": "stderr",
     "output_type": "stream",
     "text": [
      "/anaconda3/lib/python3.7/site-packages/sklearn/metrics/classification.py:1143: UndefinedMetricWarning: F-score is ill-defined and being set to 0.0 in labels with no predicted samples.\n",
      "  'precision', 'predicted', average, warn_for)\n",
      "/anaconda3/lib/python3.7/site-packages/sklearn/metrics/classification.py:1143: UndefinedMetricWarning: F-score is ill-defined and being set to 0.0 in labels with no predicted samples.\n",
      "  'precision', 'predicted', average, warn_for)\n"
     ]
    },
    {
     "name": "stdout",
     "output_type": "stream",
     "text": [
      "[CV]  criterion=entropy, max_depth=3, min_samples_leaf=6, min_samples_split=10, score=0.2392277202403785, total=   0.2s\n",
      "[CV] criterion=entropy, max_depth=3, min_samples_leaf=6, min_samples_split=10 \n"
     ]
    },
    {
     "name": "stderr",
     "output_type": "stream",
     "text": [
      "/anaconda3/lib/python3.7/site-packages/sklearn/metrics/classification.py:1143: UndefinedMetricWarning: F-score is ill-defined and being set to 0.0 in labels with no predicted samples.\n",
      "  'precision', 'predicted', average, warn_for)\n",
      "/anaconda3/lib/python3.7/site-packages/sklearn/metrics/classification.py:1143: UndefinedMetricWarning: F-score is ill-defined and being set to 0.0 in labels with no predicted samples.\n",
      "  'precision', 'predicted', average, warn_for)\n"
     ]
    },
    {
     "name": "stdout",
     "output_type": "stream",
     "text": [
      "[CV]  criterion=entropy, max_depth=3, min_samples_leaf=6, min_samples_split=10, score=0.294112883759189, total=   0.2s\n",
      "[CV] criterion=entropy, max_depth=3, min_samples_leaf=6, min_samples_split=10 \n"
     ]
    },
    {
     "name": "stderr",
     "output_type": "stream",
     "text": [
      "/anaconda3/lib/python3.7/site-packages/sklearn/metrics/classification.py:1143: UndefinedMetricWarning: F-score is ill-defined and being set to 0.0 in labels with no predicted samples.\n",
      "  'precision', 'predicted', average, warn_for)\n",
      "/anaconda3/lib/python3.7/site-packages/sklearn/metrics/classification.py:1143: UndefinedMetricWarning: F-score is ill-defined and being set to 0.0 in labels with no predicted samples.\n",
      "  'precision', 'predicted', average, warn_for)\n"
     ]
    },
    {
     "name": "stdout",
     "output_type": "stream",
     "text": [
      "[CV]  criterion=entropy, max_depth=3, min_samples_leaf=6, min_samples_split=10, score=0.2837953376664254, total=   0.3s\n",
      "[CV] criterion=entropy, max_depth=4, min_samples_leaf=1, min_samples_split=2 \n"
     ]
    },
    {
     "name": "stderr",
     "output_type": "stream",
     "text": [
      "/anaconda3/lib/python3.7/site-packages/sklearn/metrics/classification.py:1143: UndefinedMetricWarning: F-score is ill-defined and being set to 0.0 in labels with no predicted samples.\n",
      "  'precision', 'predicted', average, warn_for)\n",
      "/anaconda3/lib/python3.7/site-packages/sklearn/metrics/classification.py:1143: UndefinedMetricWarning: F-score is ill-defined and being set to 0.0 in labels with no predicted samples.\n",
      "  'precision', 'predicted', average, warn_for)\n"
     ]
    },
    {
     "name": "stdout",
     "output_type": "stream",
     "text": [
      "[CV]  criterion=entropy, max_depth=4, min_samples_leaf=1, min_samples_split=2, score=0.27400693067911347, total=   0.4s\n",
      "[CV] criterion=entropy, max_depth=4, min_samples_leaf=1, min_samples_split=2 \n"
     ]
    },
    {
     "name": "stderr",
     "output_type": "stream",
     "text": [
      "/anaconda3/lib/python3.7/site-packages/sklearn/metrics/classification.py:1143: UndefinedMetricWarning: F-score is ill-defined and being set to 0.0 in labels with no predicted samples.\n",
      "  'precision', 'predicted', average, warn_for)\n",
      "/anaconda3/lib/python3.7/site-packages/sklearn/metrics/classification.py:1143: UndefinedMetricWarning: F-score is ill-defined and being set to 0.0 in labels with no predicted samples.\n",
      "  'precision', 'predicted', average, warn_for)\n"
     ]
    },
    {
     "name": "stdout",
     "output_type": "stream",
     "text": [
      "[CV]  criterion=entropy, max_depth=4, min_samples_leaf=1, min_samples_split=2, score=0.29411550021570737, total=   0.4s\n",
      "[CV] criterion=entropy, max_depth=4, min_samples_leaf=1, min_samples_split=2 \n",
      "[CV]  criterion=entropy, max_depth=4, min_samples_leaf=1, min_samples_split=2, score=0.2931856695099255, total=   0.3s\n",
      "[CV] criterion=entropy, max_depth=4, min_samples_leaf=1, min_samples_split=5 \n"
     ]
    },
    {
     "name": "stderr",
     "output_type": "stream",
     "text": [
      "/anaconda3/lib/python3.7/site-packages/sklearn/metrics/classification.py:1143: UndefinedMetricWarning: F-score is ill-defined and being set to 0.0 in labels with no predicted samples.\n",
      "  'precision', 'predicted', average, warn_for)\n",
      "/anaconda3/lib/python3.7/site-packages/sklearn/metrics/classification.py:1143: UndefinedMetricWarning: F-score is ill-defined and being set to 0.0 in labels with no predicted samples.\n",
      "  'precision', 'predicted', average, warn_for)\n"
     ]
    },
    {
     "name": "stdout",
     "output_type": "stream",
     "text": [
      "[CV]  criterion=entropy, max_depth=4, min_samples_leaf=1, min_samples_split=5, score=0.27400693067911347, total=   0.2s\n",
      "[CV] criterion=entropy, max_depth=4, min_samples_leaf=1, min_samples_split=5 \n"
     ]
    },
    {
     "name": "stderr",
     "output_type": "stream",
     "text": [
      "/anaconda3/lib/python3.7/site-packages/sklearn/metrics/classification.py:1143: UndefinedMetricWarning: F-score is ill-defined and being set to 0.0 in labels with no predicted samples.\n",
      "  'precision', 'predicted', average, warn_for)\n",
      "/anaconda3/lib/python3.7/site-packages/sklearn/metrics/classification.py:1143: UndefinedMetricWarning: F-score is ill-defined and being set to 0.0 in labels with no predicted samples.\n",
      "  'precision', 'predicted', average, warn_for)\n"
     ]
    },
    {
     "name": "stdout",
     "output_type": "stream",
     "text": [
      "[CV]  criterion=entropy, max_depth=4, min_samples_leaf=1, min_samples_split=5, score=0.29411550021570737, total=   0.3s\n",
      "[CV] criterion=entropy, max_depth=4, min_samples_leaf=1, min_samples_split=5 \n",
      "[CV]  criterion=entropy, max_depth=4, min_samples_leaf=1, min_samples_split=5, score=0.2931856695099255, total=   0.4s\n",
      "[CV] criterion=entropy, max_depth=4, min_samples_leaf=1, min_samples_split=10 \n"
     ]
    },
    {
     "name": "stderr",
     "output_type": "stream",
     "text": [
      "/anaconda3/lib/python3.7/site-packages/sklearn/metrics/classification.py:1143: UndefinedMetricWarning: F-score is ill-defined and being set to 0.0 in labels with no predicted samples.\n",
      "  'precision', 'predicted', average, warn_for)\n",
      "/anaconda3/lib/python3.7/site-packages/sklearn/metrics/classification.py:1143: UndefinedMetricWarning: F-score is ill-defined and being set to 0.0 in labels with no predicted samples.\n",
      "  'precision', 'predicted', average, warn_for)\n"
     ]
    },
    {
     "name": "stdout",
     "output_type": "stream",
     "text": [
      "[CV]  criterion=entropy, max_depth=4, min_samples_leaf=1, min_samples_split=10, score=0.27400693067911347, total=   0.4s\n",
      "[CV] criterion=entropy, max_depth=4, min_samples_leaf=1, min_samples_split=10 \n"
     ]
    },
    {
     "name": "stderr",
     "output_type": "stream",
     "text": [
      "/anaconda3/lib/python3.7/site-packages/sklearn/metrics/classification.py:1143: UndefinedMetricWarning: F-score is ill-defined and being set to 0.0 in labels with no predicted samples.\n",
      "  'precision', 'predicted', average, warn_for)\n",
      "/anaconda3/lib/python3.7/site-packages/sklearn/metrics/classification.py:1143: UndefinedMetricWarning: F-score is ill-defined and being set to 0.0 in labels with no predicted samples.\n",
      "  'precision', 'predicted', average, warn_for)\n"
     ]
    },
    {
     "name": "stdout",
     "output_type": "stream",
     "text": [
      "[CV]  criterion=entropy, max_depth=4, min_samples_leaf=1, min_samples_split=10, score=0.29411550021570737, total=   0.4s\n",
      "[CV] criterion=entropy, max_depth=4, min_samples_leaf=1, min_samples_split=10 \n",
      "[CV]  criterion=entropy, max_depth=4, min_samples_leaf=1, min_samples_split=10, score=0.2931856695099255, total=   0.4s\n",
      "[CV] criterion=entropy, max_depth=4, min_samples_leaf=2, min_samples_split=2 \n"
     ]
    },
    {
     "name": "stderr",
     "output_type": "stream",
     "text": [
      "/anaconda3/lib/python3.7/site-packages/sklearn/metrics/classification.py:1143: UndefinedMetricWarning: F-score is ill-defined and being set to 0.0 in labels with no predicted samples.\n",
      "  'precision', 'predicted', average, warn_for)\n",
      "/anaconda3/lib/python3.7/site-packages/sklearn/metrics/classification.py:1143: UndefinedMetricWarning: F-score is ill-defined and being set to 0.0 in labels with no predicted samples.\n",
      "  'precision', 'predicted', average, warn_for)\n"
     ]
    },
    {
     "name": "stdout",
     "output_type": "stream",
     "text": [
      "[CV]  criterion=entropy, max_depth=4, min_samples_leaf=2, min_samples_split=2, score=0.27400693067911347, total=   0.4s\n",
      "[CV] criterion=entropy, max_depth=4, min_samples_leaf=2, min_samples_split=2 \n"
     ]
    },
    {
     "name": "stderr",
     "output_type": "stream",
     "text": [
      "/anaconda3/lib/python3.7/site-packages/sklearn/metrics/classification.py:1143: UndefinedMetricWarning: F-score is ill-defined and being set to 0.0 in labels with no predicted samples.\n",
      "  'precision', 'predicted', average, warn_for)\n",
      "/anaconda3/lib/python3.7/site-packages/sklearn/metrics/classification.py:1143: UndefinedMetricWarning: F-score is ill-defined and being set to 0.0 in labels with no predicted samples.\n",
      "  'precision', 'predicted', average, warn_for)\n"
     ]
    },
    {
     "name": "stdout",
     "output_type": "stream",
     "text": [
      "[CV]  criterion=entropy, max_depth=4, min_samples_leaf=2, min_samples_split=2, score=0.29411550021570737, total=   0.4s\n",
      "[CV] criterion=entropy, max_depth=4, min_samples_leaf=2, min_samples_split=2 \n",
      "[CV]  criterion=entropy, max_depth=4, min_samples_leaf=2, min_samples_split=2, score=0.2931856695099255, total=   0.3s\n",
      "[CV] criterion=entropy, max_depth=4, min_samples_leaf=2, min_samples_split=5 \n"
     ]
    },
    {
     "name": "stderr",
     "output_type": "stream",
     "text": [
      "/anaconda3/lib/python3.7/site-packages/sklearn/metrics/classification.py:1143: UndefinedMetricWarning: F-score is ill-defined and being set to 0.0 in labels with no predicted samples.\n",
      "  'precision', 'predicted', average, warn_for)\n",
      "/anaconda3/lib/python3.7/site-packages/sklearn/metrics/classification.py:1143: UndefinedMetricWarning: F-score is ill-defined and being set to 0.0 in labels with no predicted samples.\n",
      "  'precision', 'predicted', average, warn_for)\n"
     ]
    },
    {
     "name": "stdout",
     "output_type": "stream",
     "text": [
      "[CV]  criterion=entropy, max_depth=4, min_samples_leaf=2, min_samples_split=5, score=0.27400693067911347, total=   0.2s\n",
      "[CV] criterion=entropy, max_depth=4, min_samples_leaf=2, min_samples_split=5 \n"
     ]
    },
    {
     "name": "stderr",
     "output_type": "stream",
     "text": [
      "/anaconda3/lib/python3.7/site-packages/sklearn/metrics/classification.py:1143: UndefinedMetricWarning: F-score is ill-defined and being set to 0.0 in labels with no predicted samples.\n",
      "  'precision', 'predicted', average, warn_for)\n",
      "/anaconda3/lib/python3.7/site-packages/sklearn/metrics/classification.py:1143: UndefinedMetricWarning: F-score is ill-defined and being set to 0.0 in labels with no predicted samples.\n",
      "  'precision', 'predicted', average, warn_for)\n"
     ]
    },
    {
     "name": "stdout",
     "output_type": "stream",
     "text": [
      "[CV]  criterion=entropy, max_depth=4, min_samples_leaf=2, min_samples_split=5, score=0.29411550021570737, total=   0.2s\n",
      "[CV] criterion=entropy, max_depth=4, min_samples_leaf=2, min_samples_split=5 \n",
      "[CV]  criterion=entropy, max_depth=4, min_samples_leaf=2, min_samples_split=5, score=0.2931856695099255, total=   0.2s\n",
      "[CV] criterion=entropy, max_depth=4, min_samples_leaf=2, min_samples_split=10 \n"
     ]
    },
    {
     "name": "stderr",
     "output_type": "stream",
     "text": [
      "/anaconda3/lib/python3.7/site-packages/sklearn/metrics/classification.py:1143: UndefinedMetricWarning: F-score is ill-defined and being set to 0.0 in labels with no predicted samples.\n",
      "  'precision', 'predicted', average, warn_for)\n",
      "/anaconda3/lib/python3.7/site-packages/sklearn/metrics/classification.py:1143: UndefinedMetricWarning: F-score is ill-defined and being set to 0.0 in labels with no predicted samples.\n",
      "  'precision', 'predicted', average, warn_for)\n"
     ]
    },
    {
     "name": "stdout",
     "output_type": "stream",
     "text": [
      "[CV]  criterion=entropy, max_depth=4, min_samples_leaf=2, min_samples_split=10, score=0.27400693067911347, total=   0.2s\n",
      "[CV] criterion=entropy, max_depth=4, min_samples_leaf=2, min_samples_split=10 \n"
     ]
    },
    {
     "name": "stderr",
     "output_type": "stream",
     "text": [
      "/anaconda3/lib/python3.7/site-packages/sklearn/metrics/classification.py:1143: UndefinedMetricWarning: F-score is ill-defined and being set to 0.0 in labels with no predicted samples.\n",
      "  'precision', 'predicted', average, warn_for)\n",
      "/anaconda3/lib/python3.7/site-packages/sklearn/metrics/classification.py:1143: UndefinedMetricWarning: F-score is ill-defined and being set to 0.0 in labels with no predicted samples.\n",
      "  'precision', 'predicted', average, warn_for)\n"
     ]
    },
    {
     "name": "stdout",
     "output_type": "stream",
     "text": [
      "[CV]  criterion=entropy, max_depth=4, min_samples_leaf=2, min_samples_split=10, score=0.29411550021570737, total=   0.2s\n",
      "[CV] criterion=entropy, max_depth=4, min_samples_leaf=2, min_samples_split=10 \n",
      "[CV]  criterion=entropy, max_depth=4, min_samples_leaf=2, min_samples_split=10, score=0.2931856695099255, total=   0.2s\n",
      "[CV] criterion=entropy, max_depth=4, min_samples_leaf=3, min_samples_split=2 \n"
     ]
    },
    {
     "name": "stderr",
     "output_type": "stream",
     "text": [
      "/anaconda3/lib/python3.7/site-packages/sklearn/metrics/classification.py:1143: UndefinedMetricWarning: F-score is ill-defined and being set to 0.0 in labels with no predicted samples.\n",
      "  'precision', 'predicted', average, warn_for)\n",
      "/anaconda3/lib/python3.7/site-packages/sklearn/metrics/classification.py:1143: UndefinedMetricWarning: F-score is ill-defined and being set to 0.0 in labels with no predicted samples.\n",
      "  'precision', 'predicted', average, warn_for)\n"
     ]
    },
    {
     "name": "stdout",
     "output_type": "stream",
     "text": [
      "[CV]  criterion=entropy, max_depth=4, min_samples_leaf=3, min_samples_split=2, score=0.27400693067911347, total=   0.3s\n",
      "[CV] criterion=entropy, max_depth=4, min_samples_leaf=3, min_samples_split=2 \n"
     ]
    },
    {
     "name": "stderr",
     "output_type": "stream",
     "text": [
      "/anaconda3/lib/python3.7/site-packages/sklearn/metrics/classification.py:1143: UndefinedMetricWarning: F-score is ill-defined and being set to 0.0 in labels with no predicted samples.\n",
      "  'precision', 'predicted', average, warn_for)\n",
      "/anaconda3/lib/python3.7/site-packages/sklearn/metrics/classification.py:1143: UndefinedMetricWarning: F-score is ill-defined and being set to 0.0 in labels with no predicted samples.\n",
      "  'precision', 'predicted', average, warn_for)\n"
     ]
    },
    {
     "name": "stdout",
     "output_type": "stream",
     "text": [
      "[CV]  criterion=entropy, max_depth=4, min_samples_leaf=3, min_samples_split=2, score=0.29411550021570737, total=   0.4s\n",
      "[CV] criterion=entropy, max_depth=4, min_samples_leaf=3, min_samples_split=2 \n",
      "[CV]  criterion=entropy, max_depth=4, min_samples_leaf=3, min_samples_split=2, score=0.2931856695099255, total=   0.4s\n",
      "[CV] criterion=entropy, max_depth=4, min_samples_leaf=3, min_samples_split=5 \n"
     ]
    },
    {
     "name": "stderr",
     "output_type": "stream",
     "text": [
      "/anaconda3/lib/python3.7/site-packages/sklearn/metrics/classification.py:1143: UndefinedMetricWarning: F-score is ill-defined and being set to 0.0 in labels with no predicted samples.\n",
      "  'precision', 'predicted', average, warn_for)\n",
      "/anaconda3/lib/python3.7/site-packages/sklearn/metrics/classification.py:1143: UndefinedMetricWarning: F-score is ill-defined and being set to 0.0 in labels with no predicted samples.\n",
      "  'precision', 'predicted', average, warn_for)\n"
     ]
    },
    {
     "name": "stdout",
     "output_type": "stream",
     "text": [
      "[CV]  criterion=entropy, max_depth=4, min_samples_leaf=3, min_samples_split=5, score=0.27400693067911347, total=   0.4s\n",
      "[CV] criterion=entropy, max_depth=4, min_samples_leaf=3, min_samples_split=5 \n"
     ]
    },
    {
     "name": "stderr",
     "output_type": "stream",
     "text": [
      "/anaconda3/lib/python3.7/site-packages/sklearn/metrics/classification.py:1143: UndefinedMetricWarning: F-score is ill-defined and being set to 0.0 in labels with no predicted samples.\n",
      "  'precision', 'predicted', average, warn_for)\n",
      "/anaconda3/lib/python3.7/site-packages/sklearn/metrics/classification.py:1143: UndefinedMetricWarning: F-score is ill-defined and being set to 0.0 in labels with no predicted samples.\n",
      "  'precision', 'predicted', average, warn_for)\n"
     ]
    },
    {
     "name": "stdout",
     "output_type": "stream",
     "text": [
      "[CV]  criterion=entropy, max_depth=4, min_samples_leaf=3, min_samples_split=5, score=0.29411550021570737, total=   0.4s\n",
      "[CV] criterion=entropy, max_depth=4, min_samples_leaf=3, min_samples_split=5 \n",
      "[CV]  criterion=entropy, max_depth=4, min_samples_leaf=3, min_samples_split=5, score=0.2931856695099255, total=   0.4s\n",
      "[CV] criterion=entropy, max_depth=4, min_samples_leaf=3, min_samples_split=10 \n"
     ]
    },
    {
     "name": "stderr",
     "output_type": "stream",
     "text": [
      "/anaconda3/lib/python3.7/site-packages/sklearn/metrics/classification.py:1143: UndefinedMetricWarning: F-score is ill-defined and being set to 0.0 in labels with no predicted samples.\n",
      "  'precision', 'predicted', average, warn_for)\n",
      "/anaconda3/lib/python3.7/site-packages/sklearn/metrics/classification.py:1143: UndefinedMetricWarning: F-score is ill-defined and being set to 0.0 in labels with no predicted samples.\n",
      "  'precision', 'predicted', average, warn_for)\n"
     ]
    },
    {
     "name": "stdout",
     "output_type": "stream",
     "text": [
      "[CV]  criterion=entropy, max_depth=4, min_samples_leaf=3, min_samples_split=10, score=0.27400693067911347, total=   0.4s\n",
      "[CV] criterion=entropy, max_depth=4, min_samples_leaf=3, min_samples_split=10 \n"
     ]
    },
    {
     "name": "stderr",
     "output_type": "stream",
     "text": [
      "/anaconda3/lib/python3.7/site-packages/sklearn/metrics/classification.py:1143: UndefinedMetricWarning: F-score is ill-defined and being set to 0.0 in labels with no predicted samples.\n",
      "  'precision', 'predicted', average, warn_for)\n",
      "/anaconda3/lib/python3.7/site-packages/sklearn/metrics/classification.py:1143: UndefinedMetricWarning: F-score is ill-defined and being set to 0.0 in labels with no predicted samples.\n",
      "  'precision', 'predicted', average, warn_for)\n"
     ]
    },
    {
     "name": "stdout",
     "output_type": "stream",
     "text": [
      "[CV]  criterion=entropy, max_depth=4, min_samples_leaf=3, min_samples_split=10, score=0.29411550021570737, total=   0.4s\n",
      "[CV] criterion=entropy, max_depth=4, min_samples_leaf=3, min_samples_split=10 \n",
      "[CV]  criterion=entropy, max_depth=4, min_samples_leaf=3, min_samples_split=10, score=0.2931856695099255, total=   0.4s\n",
      "[CV] criterion=entropy, max_depth=4, min_samples_leaf=4, min_samples_split=2 \n"
     ]
    },
    {
     "name": "stderr",
     "output_type": "stream",
     "text": [
      "/anaconda3/lib/python3.7/site-packages/sklearn/metrics/classification.py:1143: UndefinedMetricWarning: F-score is ill-defined and being set to 0.0 in labels with no predicted samples.\n",
      "  'precision', 'predicted', average, warn_for)\n",
      "/anaconda3/lib/python3.7/site-packages/sklearn/metrics/classification.py:1143: UndefinedMetricWarning: F-score is ill-defined and being set to 0.0 in labels with no predicted samples.\n",
      "  'precision', 'predicted', average, warn_for)\n"
     ]
    },
    {
     "name": "stdout",
     "output_type": "stream",
     "text": [
      "[CV]  criterion=entropy, max_depth=4, min_samples_leaf=4, min_samples_split=2, score=0.27400693067911347, total=   0.4s\n",
      "[CV] criterion=entropy, max_depth=4, min_samples_leaf=4, min_samples_split=2 \n"
     ]
    },
    {
     "name": "stderr",
     "output_type": "stream",
     "text": [
      "/anaconda3/lib/python3.7/site-packages/sklearn/metrics/classification.py:1143: UndefinedMetricWarning: F-score is ill-defined and being set to 0.0 in labels with no predicted samples.\n",
      "  'precision', 'predicted', average, warn_for)\n",
      "/anaconda3/lib/python3.7/site-packages/sklearn/metrics/classification.py:1143: UndefinedMetricWarning: F-score is ill-defined and being set to 0.0 in labels with no predicted samples.\n",
      "  'precision', 'predicted', average, warn_for)\n"
     ]
    },
    {
     "name": "stdout",
     "output_type": "stream",
     "text": [
      "[CV]  criterion=entropy, max_depth=4, min_samples_leaf=4, min_samples_split=2, score=0.29411550021570737, total=   0.4s\n",
      "[CV] criterion=entropy, max_depth=4, min_samples_leaf=4, min_samples_split=2 \n",
      "[CV]  criterion=entropy, max_depth=4, min_samples_leaf=4, min_samples_split=2, score=0.2931856695099255, total=   0.4s\n",
      "[CV] criterion=entropy, max_depth=4, min_samples_leaf=4, min_samples_split=5 \n"
     ]
    },
    {
     "name": "stderr",
     "output_type": "stream",
     "text": [
      "/anaconda3/lib/python3.7/site-packages/sklearn/metrics/classification.py:1143: UndefinedMetricWarning: F-score is ill-defined and being set to 0.0 in labels with no predicted samples.\n",
      "  'precision', 'predicted', average, warn_for)\n",
      "/anaconda3/lib/python3.7/site-packages/sklearn/metrics/classification.py:1143: UndefinedMetricWarning: F-score is ill-defined and being set to 0.0 in labels with no predicted samples.\n",
      "  'precision', 'predicted', average, warn_for)\n"
     ]
    },
    {
     "name": "stdout",
     "output_type": "stream",
     "text": [
      "[CV]  criterion=entropy, max_depth=4, min_samples_leaf=4, min_samples_split=5, score=0.27400693067911347, total=   0.4s\n",
      "[CV] criterion=entropy, max_depth=4, min_samples_leaf=4, min_samples_split=5 \n"
     ]
    },
    {
     "name": "stderr",
     "output_type": "stream",
     "text": [
      "/anaconda3/lib/python3.7/site-packages/sklearn/metrics/classification.py:1143: UndefinedMetricWarning: F-score is ill-defined and being set to 0.0 in labels with no predicted samples.\n",
      "  'precision', 'predicted', average, warn_for)\n",
      "/anaconda3/lib/python3.7/site-packages/sklearn/metrics/classification.py:1143: UndefinedMetricWarning: F-score is ill-defined and being set to 0.0 in labels with no predicted samples.\n",
      "  'precision', 'predicted', average, warn_for)\n"
     ]
    },
    {
     "name": "stdout",
     "output_type": "stream",
     "text": [
      "[CV]  criterion=entropy, max_depth=4, min_samples_leaf=4, min_samples_split=5, score=0.29411550021570737, total=   0.4s\n",
      "[CV] criterion=entropy, max_depth=4, min_samples_leaf=4, min_samples_split=5 \n",
      "[CV]  criterion=entropy, max_depth=4, min_samples_leaf=4, min_samples_split=5, score=0.2931856695099255, total=   0.4s\n",
      "[CV] criterion=entropy, max_depth=4, min_samples_leaf=4, min_samples_split=10 \n"
     ]
    },
    {
     "name": "stderr",
     "output_type": "stream",
     "text": [
      "/anaconda3/lib/python3.7/site-packages/sklearn/metrics/classification.py:1143: UndefinedMetricWarning: F-score is ill-defined and being set to 0.0 in labels with no predicted samples.\n",
      "  'precision', 'predicted', average, warn_for)\n",
      "/anaconda3/lib/python3.7/site-packages/sklearn/metrics/classification.py:1143: UndefinedMetricWarning: F-score is ill-defined and being set to 0.0 in labels with no predicted samples.\n",
      "  'precision', 'predicted', average, warn_for)\n"
     ]
    },
    {
     "name": "stdout",
     "output_type": "stream",
     "text": [
      "[CV]  criterion=entropy, max_depth=4, min_samples_leaf=4, min_samples_split=10, score=0.27400693067911347, total=   0.4s\n",
      "[CV] criterion=entropy, max_depth=4, min_samples_leaf=4, min_samples_split=10 \n"
     ]
    },
    {
     "name": "stderr",
     "output_type": "stream",
     "text": [
      "/anaconda3/lib/python3.7/site-packages/sklearn/metrics/classification.py:1143: UndefinedMetricWarning: F-score is ill-defined and being set to 0.0 in labels with no predicted samples.\n",
      "  'precision', 'predicted', average, warn_for)\n",
      "/anaconda3/lib/python3.7/site-packages/sklearn/metrics/classification.py:1143: UndefinedMetricWarning: F-score is ill-defined and being set to 0.0 in labels with no predicted samples.\n",
      "  'precision', 'predicted', average, warn_for)\n"
     ]
    },
    {
     "name": "stdout",
     "output_type": "stream",
     "text": [
      "[CV]  criterion=entropy, max_depth=4, min_samples_leaf=4, min_samples_split=10, score=0.29411550021570737, total=   0.4s\n",
      "[CV] criterion=entropy, max_depth=4, min_samples_leaf=4, min_samples_split=10 \n",
      "[CV]  criterion=entropy, max_depth=4, min_samples_leaf=4, min_samples_split=10, score=0.2931856695099255, total=   0.4s\n",
      "[CV] criterion=entropy, max_depth=4, min_samples_leaf=5, min_samples_split=2 \n"
     ]
    },
    {
     "name": "stderr",
     "output_type": "stream",
     "text": [
      "/anaconda3/lib/python3.7/site-packages/sklearn/metrics/classification.py:1143: UndefinedMetricWarning: F-score is ill-defined and being set to 0.0 in labels with no predicted samples.\n",
      "  'precision', 'predicted', average, warn_for)\n",
      "/anaconda3/lib/python3.7/site-packages/sklearn/metrics/classification.py:1143: UndefinedMetricWarning: F-score is ill-defined and being set to 0.0 in labels with no predicted samples.\n",
      "  'precision', 'predicted', average, warn_for)\n"
     ]
    },
    {
     "name": "stdout",
     "output_type": "stream",
     "text": [
      "[CV]  criterion=entropy, max_depth=4, min_samples_leaf=5, min_samples_split=2, score=0.27400693067911347, total=   0.4s\n",
      "[CV] criterion=entropy, max_depth=4, min_samples_leaf=5, min_samples_split=2 \n"
     ]
    },
    {
     "name": "stderr",
     "output_type": "stream",
     "text": [
      "/anaconda3/lib/python3.7/site-packages/sklearn/metrics/classification.py:1143: UndefinedMetricWarning: F-score is ill-defined and being set to 0.0 in labels with no predicted samples.\n",
      "  'precision', 'predicted', average, warn_for)\n",
      "/anaconda3/lib/python3.7/site-packages/sklearn/metrics/classification.py:1143: UndefinedMetricWarning: F-score is ill-defined and being set to 0.0 in labels with no predicted samples.\n",
      "  'precision', 'predicted', average, warn_for)\n"
     ]
    },
    {
     "name": "stdout",
     "output_type": "stream",
     "text": [
      "[CV]  criterion=entropy, max_depth=4, min_samples_leaf=5, min_samples_split=2, score=0.29411550021570737, total=   0.4s\n",
      "[CV] criterion=entropy, max_depth=4, min_samples_leaf=5, min_samples_split=2 \n",
      "[CV]  criterion=entropy, max_depth=4, min_samples_leaf=5, min_samples_split=2, score=0.2931856695099255, total=   0.2s\n",
      "[CV] criterion=entropy, max_depth=4, min_samples_leaf=5, min_samples_split=5 \n"
     ]
    },
    {
     "name": "stderr",
     "output_type": "stream",
     "text": [
      "/anaconda3/lib/python3.7/site-packages/sklearn/metrics/classification.py:1143: UndefinedMetricWarning: F-score is ill-defined and being set to 0.0 in labels with no predicted samples.\n",
      "  'precision', 'predicted', average, warn_for)\n",
      "/anaconda3/lib/python3.7/site-packages/sklearn/metrics/classification.py:1143: UndefinedMetricWarning: F-score is ill-defined and being set to 0.0 in labels with no predicted samples.\n",
      "  'precision', 'predicted', average, warn_for)\n"
     ]
    },
    {
     "name": "stdout",
     "output_type": "stream",
     "text": [
      "[CV]  criterion=entropy, max_depth=4, min_samples_leaf=5, min_samples_split=5, score=0.27400693067911347, total=   0.3s\n",
      "[CV] criterion=entropy, max_depth=4, min_samples_leaf=5, min_samples_split=5 \n"
     ]
    },
    {
     "name": "stderr",
     "output_type": "stream",
     "text": [
      "/anaconda3/lib/python3.7/site-packages/sklearn/metrics/classification.py:1143: UndefinedMetricWarning: F-score is ill-defined and being set to 0.0 in labels with no predicted samples.\n",
      "  'precision', 'predicted', average, warn_for)\n",
      "/anaconda3/lib/python3.7/site-packages/sklearn/metrics/classification.py:1143: UndefinedMetricWarning: F-score is ill-defined and being set to 0.0 in labels with no predicted samples.\n",
      "  'precision', 'predicted', average, warn_for)\n"
     ]
    },
    {
     "name": "stdout",
     "output_type": "stream",
     "text": [
      "[CV]  criterion=entropy, max_depth=4, min_samples_leaf=5, min_samples_split=5, score=0.29411550021570737, total=   0.4s\n",
      "[CV] criterion=entropy, max_depth=4, min_samples_leaf=5, min_samples_split=5 \n",
      "[CV]  criterion=entropy, max_depth=4, min_samples_leaf=5, min_samples_split=5, score=0.2931856695099255, total=   0.5s\n",
      "[CV] criterion=entropy, max_depth=4, min_samples_leaf=5, min_samples_split=10 \n"
     ]
    },
    {
     "name": "stderr",
     "output_type": "stream",
     "text": [
      "/anaconda3/lib/python3.7/site-packages/sklearn/metrics/classification.py:1143: UndefinedMetricWarning: F-score is ill-defined and being set to 0.0 in labels with no predicted samples.\n",
      "  'precision', 'predicted', average, warn_for)\n",
      "/anaconda3/lib/python3.7/site-packages/sklearn/metrics/classification.py:1143: UndefinedMetricWarning: F-score is ill-defined and being set to 0.0 in labels with no predicted samples.\n",
      "  'precision', 'predicted', average, warn_for)\n"
     ]
    },
    {
     "name": "stdout",
     "output_type": "stream",
     "text": [
      "[CV]  criterion=entropy, max_depth=4, min_samples_leaf=5, min_samples_split=10, score=0.27400693067911347, total=   0.4s\n",
      "[CV] criterion=entropy, max_depth=4, min_samples_leaf=5, min_samples_split=10 \n"
     ]
    },
    {
     "name": "stderr",
     "output_type": "stream",
     "text": [
      "/anaconda3/lib/python3.7/site-packages/sklearn/metrics/classification.py:1143: UndefinedMetricWarning: F-score is ill-defined and being set to 0.0 in labels with no predicted samples.\n",
      "  'precision', 'predicted', average, warn_for)\n",
      "/anaconda3/lib/python3.7/site-packages/sklearn/metrics/classification.py:1143: UndefinedMetricWarning: F-score is ill-defined and being set to 0.0 in labels with no predicted samples.\n",
      "  'precision', 'predicted', average, warn_for)\n"
     ]
    },
    {
     "name": "stdout",
     "output_type": "stream",
     "text": [
      "[CV]  criterion=entropy, max_depth=4, min_samples_leaf=5, min_samples_split=10, score=0.29411550021570737, total=   0.4s\n",
      "[CV] criterion=entropy, max_depth=4, min_samples_leaf=5, min_samples_split=10 \n",
      "[CV]  criterion=entropy, max_depth=4, min_samples_leaf=5, min_samples_split=10, score=0.2931856695099255, total=   0.4s\n",
      "[CV] criterion=entropy, max_depth=4, min_samples_leaf=6, min_samples_split=2 \n"
     ]
    },
    {
     "name": "stderr",
     "output_type": "stream",
     "text": [
      "/anaconda3/lib/python3.7/site-packages/sklearn/metrics/classification.py:1143: UndefinedMetricWarning: F-score is ill-defined and being set to 0.0 in labels with no predicted samples.\n",
      "  'precision', 'predicted', average, warn_for)\n",
      "/anaconda3/lib/python3.7/site-packages/sklearn/metrics/classification.py:1143: UndefinedMetricWarning: F-score is ill-defined and being set to 0.0 in labels with no predicted samples.\n",
      "  'precision', 'predicted', average, warn_for)\n"
     ]
    },
    {
     "name": "stdout",
     "output_type": "stream",
     "text": [
      "[CV]  criterion=entropy, max_depth=4, min_samples_leaf=6, min_samples_split=2, score=0.27400693067911347, total=   0.4s\n",
      "[CV] criterion=entropy, max_depth=4, min_samples_leaf=6, min_samples_split=2 \n"
     ]
    },
    {
     "name": "stderr",
     "output_type": "stream",
     "text": [
      "/anaconda3/lib/python3.7/site-packages/sklearn/metrics/classification.py:1143: UndefinedMetricWarning: F-score is ill-defined and being set to 0.0 in labels with no predicted samples.\n",
      "  'precision', 'predicted', average, warn_for)\n",
      "/anaconda3/lib/python3.7/site-packages/sklearn/metrics/classification.py:1143: UndefinedMetricWarning: F-score is ill-defined and being set to 0.0 in labels with no predicted samples.\n",
      "  'precision', 'predicted', average, warn_for)\n"
     ]
    },
    {
     "name": "stdout",
     "output_type": "stream",
     "text": [
      "[CV]  criterion=entropy, max_depth=4, min_samples_leaf=6, min_samples_split=2, score=0.29411550021570737, total=   0.2s\n",
      "[CV] criterion=entropy, max_depth=4, min_samples_leaf=6, min_samples_split=2 \n",
      "[CV]  criterion=entropy, max_depth=4, min_samples_leaf=6, min_samples_split=2, score=0.2931856695099255, total=   0.2s\n",
      "[CV] criterion=entropy, max_depth=4, min_samples_leaf=6, min_samples_split=5 \n"
     ]
    },
    {
     "name": "stderr",
     "output_type": "stream",
     "text": [
      "/anaconda3/lib/python3.7/site-packages/sklearn/metrics/classification.py:1143: UndefinedMetricWarning: F-score is ill-defined and being set to 0.0 in labels with no predicted samples.\n",
      "  'precision', 'predicted', average, warn_for)\n",
      "/anaconda3/lib/python3.7/site-packages/sklearn/metrics/classification.py:1143: UndefinedMetricWarning: F-score is ill-defined and being set to 0.0 in labels with no predicted samples.\n",
      "  'precision', 'predicted', average, warn_for)\n"
     ]
    },
    {
     "name": "stdout",
     "output_type": "stream",
     "text": [
      "[CV]  criterion=entropy, max_depth=4, min_samples_leaf=6, min_samples_split=5, score=0.27400693067911347, total=   0.2s\n",
      "[CV] criterion=entropy, max_depth=4, min_samples_leaf=6, min_samples_split=5 \n"
     ]
    },
    {
     "name": "stderr",
     "output_type": "stream",
     "text": [
      "/anaconda3/lib/python3.7/site-packages/sklearn/metrics/classification.py:1143: UndefinedMetricWarning: F-score is ill-defined and being set to 0.0 in labels with no predicted samples.\n",
      "  'precision', 'predicted', average, warn_for)\n",
      "/anaconda3/lib/python3.7/site-packages/sklearn/metrics/classification.py:1143: UndefinedMetricWarning: F-score is ill-defined and being set to 0.0 in labels with no predicted samples.\n",
      "  'precision', 'predicted', average, warn_for)\n"
     ]
    },
    {
     "name": "stdout",
     "output_type": "stream",
     "text": [
      "[CV]  criterion=entropy, max_depth=4, min_samples_leaf=6, min_samples_split=5, score=0.29411550021570737, total=   0.2s\n",
      "[CV] criterion=entropy, max_depth=4, min_samples_leaf=6, min_samples_split=5 \n",
      "[CV]  criterion=entropy, max_depth=4, min_samples_leaf=6, min_samples_split=5, score=0.2931856695099255, total=   0.2s\n",
      "[CV] criterion=entropy, max_depth=4, min_samples_leaf=6, min_samples_split=10 \n"
     ]
    },
    {
     "name": "stderr",
     "output_type": "stream",
     "text": [
      "/anaconda3/lib/python3.7/site-packages/sklearn/metrics/classification.py:1143: UndefinedMetricWarning: F-score is ill-defined and being set to 0.0 in labels with no predicted samples.\n",
      "  'precision', 'predicted', average, warn_for)\n",
      "/anaconda3/lib/python3.7/site-packages/sklearn/metrics/classification.py:1143: UndefinedMetricWarning: F-score is ill-defined and being set to 0.0 in labels with no predicted samples.\n",
      "  'precision', 'predicted', average, warn_for)\n"
     ]
    },
    {
     "name": "stdout",
     "output_type": "stream",
     "text": [
      "[CV]  criterion=entropy, max_depth=4, min_samples_leaf=6, min_samples_split=10, score=0.27400693067911347, total=   0.2s\n",
      "[CV] criterion=entropy, max_depth=4, min_samples_leaf=6, min_samples_split=10 \n"
     ]
    },
    {
     "name": "stderr",
     "output_type": "stream",
     "text": [
      "/anaconda3/lib/python3.7/site-packages/sklearn/metrics/classification.py:1143: UndefinedMetricWarning: F-score is ill-defined and being set to 0.0 in labels with no predicted samples.\n",
      "  'precision', 'predicted', average, warn_for)\n",
      "/anaconda3/lib/python3.7/site-packages/sklearn/metrics/classification.py:1143: UndefinedMetricWarning: F-score is ill-defined and being set to 0.0 in labels with no predicted samples.\n",
      "  'precision', 'predicted', average, warn_for)\n"
     ]
    },
    {
     "name": "stdout",
     "output_type": "stream",
     "text": [
      "[CV]  criterion=entropy, max_depth=4, min_samples_leaf=6, min_samples_split=10, score=0.29411550021570737, total=   0.2s\n",
      "[CV] criterion=entropy, max_depth=4, min_samples_leaf=6, min_samples_split=10 \n",
      "[CV]  criterion=entropy, max_depth=4, min_samples_leaf=6, min_samples_split=10, score=0.2931856695099255, total=   0.2s\n",
      "[CV] criterion=entropy, max_depth=5, min_samples_leaf=1, min_samples_split=2 \n"
     ]
    },
    {
     "name": "stderr",
     "output_type": "stream",
     "text": [
      "/anaconda3/lib/python3.7/site-packages/sklearn/metrics/classification.py:1143: UndefinedMetricWarning: F-score is ill-defined and being set to 0.0 in labels with no predicted samples.\n",
      "  'precision', 'predicted', average, warn_for)\n",
      "/anaconda3/lib/python3.7/site-packages/sklearn/metrics/classification.py:1143: UndefinedMetricWarning: F-score is ill-defined and being set to 0.0 in labels with no predicted samples.\n",
      "  'precision', 'predicted', average, warn_for)\n"
     ]
    },
    {
     "name": "stdout",
     "output_type": "stream",
     "text": [
      "[CV]  criterion=entropy, max_depth=5, min_samples_leaf=1, min_samples_split=2, score=0.26738444529334665, total=   0.3s\n",
      "[CV] criterion=entropy, max_depth=5, min_samples_leaf=1, min_samples_split=2 \n",
      "[CV]  criterion=entropy, max_depth=5, min_samples_leaf=1, min_samples_split=2, score=0.30042660904500323, total=   0.3s\n",
      "[CV] criterion=entropy, max_depth=5, min_samples_leaf=1, min_samples_split=2 \n",
      "[CV]  criterion=entropy, max_depth=5, min_samples_leaf=1, min_samples_split=2, score=0.2919935227706801, total=   0.3s\n",
      "[CV] criterion=entropy, max_depth=5, min_samples_leaf=1, min_samples_split=5 \n"
     ]
    },
    {
     "name": "stderr",
     "output_type": "stream",
     "text": [
      "/anaconda3/lib/python3.7/site-packages/sklearn/metrics/classification.py:1143: UndefinedMetricWarning: F-score is ill-defined and being set to 0.0 in labels with no predicted samples.\n",
      "  'precision', 'predicted', average, warn_for)\n",
      "/anaconda3/lib/python3.7/site-packages/sklearn/metrics/classification.py:1143: UndefinedMetricWarning: F-score is ill-defined and being set to 0.0 in labels with no predicted samples.\n",
      "  'precision', 'predicted', average, warn_for)\n"
     ]
    },
    {
     "name": "stdout",
     "output_type": "stream",
     "text": [
      "[CV]  criterion=entropy, max_depth=5, min_samples_leaf=1, min_samples_split=5, score=0.26738444529334665, total=   0.3s\n",
      "[CV] criterion=entropy, max_depth=5, min_samples_leaf=1, min_samples_split=5 \n",
      "[CV]  criterion=entropy, max_depth=5, min_samples_leaf=1, min_samples_split=5, score=0.30042660904500323, total=   0.3s\n",
      "[CV] criterion=entropy, max_depth=5, min_samples_leaf=1, min_samples_split=5 \n",
      "[CV]  criterion=entropy, max_depth=5, min_samples_leaf=1, min_samples_split=5, score=0.2919935227706801, total=   0.3s\n",
      "[CV] criterion=entropy, max_depth=5, min_samples_leaf=1, min_samples_split=10 \n"
     ]
    },
    {
     "name": "stderr",
     "output_type": "stream",
     "text": [
      "/anaconda3/lib/python3.7/site-packages/sklearn/metrics/classification.py:1143: UndefinedMetricWarning: F-score is ill-defined and being set to 0.0 in labels with no predicted samples.\n",
      "  'precision', 'predicted', average, warn_for)\n",
      "/anaconda3/lib/python3.7/site-packages/sklearn/metrics/classification.py:1143: UndefinedMetricWarning: F-score is ill-defined and being set to 0.0 in labels with no predicted samples.\n",
      "  'precision', 'predicted', average, warn_for)\n"
     ]
    },
    {
     "name": "stdout",
     "output_type": "stream",
     "text": [
      "[CV]  criterion=entropy, max_depth=5, min_samples_leaf=1, min_samples_split=10, score=0.26738444529334665, total=   0.3s\n",
      "[CV] criterion=entropy, max_depth=5, min_samples_leaf=1, min_samples_split=10 \n",
      "[CV]  criterion=entropy, max_depth=5, min_samples_leaf=1, min_samples_split=10, score=0.30042660904500323, total=   0.5s\n",
      "[CV] criterion=entropy, max_depth=5, min_samples_leaf=1, min_samples_split=10 \n",
      "[CV]  criterion=entropy, max_depth=5, min_samples_leaf=1, min_samples_split=10, score=0.2919935227706801, total=   0.5s\n",
      "[CV] criterion=entropy, max_depth=5, min_samples_leaf=2, min_samples_split=2 \n"
     ]
    },
    {
     "name": "stderr",
     "output_type": "stream",
     "text": [
      "/anaconda3/lib/python3.7/site-packages/sklearn/metrics/classification.py:1143: UndefinedMetricWarning: F-score is ill-defined and being set to 0.0 in labels with no predicted samples.\n",
      "  'precision', 'predicted', average, warn_for)\n",
      "/anaconda3/lib/python3.7/site-packages/sklearn/metrics/classification.py:1143: UndefinedMetricWarning: F-score is ill-defined and being set to 0.0 in labels with no predicted samples.\n",
      "  'precision', 'predicted', average, warn_for)\n"
     ]
    },
    {
     "name": "stdout",
     "output_type": "stream",
     "text": [
      "[CV]  criterion=entropy, max_depth=5, min_samples_leaf=2, min_samples_split=2, score=0.26738444529334665, total=   0.5s\n",
      "[CV] criterion=entropy, max_depth=5, min_samples_leaf=2, min_samples_split=2 \n",
      "[CV]  criterion=entropy, max_depth=5, min_samples_leaf=2, min_samples_split=2, score=0.30042660904500323, total=   0.5s\n",
      "[CV] criterion=entropy, max_depth=5, min_samples_leaf=2, min_samples_split=2 \n",
      "[CV]  criterion=entropy, max_depth=5, min_samples_leaf=2, min_samples_split=2, score=0.2919935227706801, total=   0.5s\n",
      "[CV] criterion=entropy, max_depth=5, min_samples_leaf=2, min_samples_split=5 \n"
     ]
    },
    {
     "name": "stderr",
     "output_type": "stream",
     "text": [
      "/anaconda3/lib/python3.7/site-packages/sklearn/metrics/classification.py:1143: UndefinedMetricWarning: F-score is ill-defined and being set to 0.0 in labels with no predicted samples.\n",
      "  'precision', 'predicted', average, warn_for)\n",
      "/anaconda3/lib/python3.7/site-packages/sklearn/metrics/classification.py:1143: UndefinedMetricWarning: F-score is ill-defined and being set to 0.0 in labels with no predicted samples.\n",
      "  'precision', 'predicted', average, warn_for)\n"
     ]
    },
    {
     "name": "stdout",
     "output_type": "stream",
     "text": [
      "[CV]  criterion=entropy, max_depth=5, min_samples_leaf=2, min_samples_split=5, score=0.26738444529334665, total=   0.4s\n",
      "[CV] criterion=entropy, max_depth=5, min_samples_leaf=2, min_samples_split=5 \n",
      "[CV]  criterion=entropy, max_depth=5, min_samples_leaf=2, min_samples_split=5, score=0.30042660904500323, total=   0.6s\n",
      "[CV] criterion=entropy, max_depth=5, min_samples_leaf=2, min_samples_split=5 \n",
      "[CV]  criterion=entropy, max_depth=5, min_samples_leaf=2, min_samples_split=5, score=0.2919935227706801, total=   0.6s\n",
      "[CV] criterion=entropy, max_depth=5, min_samples_leaf=2, min_samples_split=10 \n"
     ]
    },
    {
     "name": "stderr",
     "output_type": "stream",
     "text": [
      "/anaconda3/lib/python3.7/site-packages/sklearn/metrics/classification.py:1143: UndefinedMetricWarning: F-score is ill-defined and being set to 0.0 in labels with no predicted samples.\n",
      "  'precision', 'predicted', average, warn_for)\n",
      "/anaconda3/lib/python3.7/site-packages/sklearn/metrics/classification.py:1143: UndefinedMetricWarning: F-score is ill-defined and being set to 0.0 in labels with no predicted samples.\n",
      "  'precision', 'predicted', average, warn_for)\n"
     ]
    },
    {
     "name": "stdout",
     "output_type": "stream",
     "text": [
      "[CV]  criterion=entropy, max_depth=5, min_samples_leaf=2, min_samples_split=10, score=0.26738444529334665, total=   0.3s\n",
      "[CV] criterion=entropy, max_depth=5, min_samples_leaf=2, min_samples_split=10 \n",
      "[CV]  criterion=entropy, max_depth=5, min_samples_leaf=2, min_samples_split=10, score=0.30042660904500323, total=   0.3s\n",
      "[CV] criterion=entropy, max_depth=5, min_samples_leaf=2, min_samples_split=10 \n",
      "[CV]  criterion=entropy, max_depth=5, min_samples_leaf=2, min_samples_split=10, score=0.2919935227706801, total=   0.3s\n",
      "[CV] criterion=entropy, max_depth=5, min_samples_leaf=3, min_samples_split=2 \n"
     ]
    },
    {
     "name": "stderr",
     "output_type": "stream",
     "text": [
      "/anaconda3/lib/python3.7/site-packages/sklearn/metrics/classification.py:1143: UndefinedMetricWarning: F-score is ill-defined and being set to 0.0 in labels with no predicted samples.\n",
      "  'precision', 'predicted', average, warn_for)\n",
      "/anaconda3/lib/python3.7/site-packages/sklearn/metrics/classification.py:1143: UndefinedMetricWarning: F-score is ill-defined and being set to 0.0 in labels with no predicted samples.\n",
      "  'precision', 'predicted', average, warn_for)\n"
     ]
    },
    {
     "name": "stdout",
     "output_type": "stream",
     "text": [
      "[CV]  criterion=entropy, max_depth=5, min_samples_leaf=3, min_samples_split=2, score=0.26738444529334665, total=   0.3s\n",
      "[CV] criterion=entropy, max_depth=5, min_samples_leaf=3, min_samples_split=2 \n",
      "[CV]  criterion=entropy, max_depth=5, min_samples_leaf=3, min_samples_split=2, score=0.30042660904500323, total=   0.3s\n",
      "[CV] criterion=entropy, max_depth=5, min_samples_leaf=3, min_samples_split=2 \n",
      "[CV]  criterion=entropy, max_depth=5, min_samples_leaf=3, min_samples_split=2, score=0.2919935227706801, total=   0.3s\n",
      "[CV] criterion=entropy, max_depth=5, min_samples_leaf=3, min_samples_split=5 \n"
     ]
    },
    {
     "name": "stderr",
     "output_type": "stream",
     "text": [
      "/anaconda3/lib/python3.7/site-packages/sklearn/metrics/classification.py:1143: UndefinedMetricWarning: F-score is ill-defined and being set to 0.0 in labels with no predicted samples.\n",
      "  'precision', 'predicted', average, warn_for)\n",
      "/anaconda3/lib/python3.7/site-packages/sklearn/metrics/classification.py:1143: UndefinedMetricWarning: F-score is ill-defined and being set to 0.0 in labels with no predicted samples.\n",
      "  'precision', 'predicted', average, warn_for)\n"
     ]
    },
    {
     "name": "stdout",
     "output_type": "stream",
     "text": [
      "[CV]  criterion=entropy, max_depth=5, min_samples_leaf=3, min_samples_split=5, score=0.26738444529334665, total=   0.3s\n",
      "[CV] criterion=entropy, max_depth=5, min_samples_leaf=3, min_samples_split=5 \n",
      "[CV]  criterion=entropy, max_depth=5, min_samples_leaf=3, min_samples_split=5, score=0.30042660904500323, total=   0.3s\n",
      "[CV] criterion=entropy, max_depth=5, min_samples_leaf=3, min_samples_split=5 \n",
      "[CV]  criterion=entropy, max_depth=5, min_samples_leaf=3, min_samples_split=5, score=0.2919935227706801, total=   0.3s\n",
      "[CV] criterion=entropy, max_depth=5, min_samples_leaf=3, min_samples_split=10 \n"
     ]
    },
    {
     "name": "stderr",
     "output_type": "stream",
     "text": [
      "/anaconda3/lib/python3.7/site-packages/sklearn/metrics/classification.py:1143: UndefinedMetricWarning: F-score is ill-defined and being set to 0.0 in labels with no predicted samples.\n",
      "  'precision', 'predicted', average, warn_for)\n",
      "/anaconda3/lib/python3.7/site-packages/sklearn/metrics/classification.py:1143: UndefinedMetricWarning: F-score is ill-defined and being set to 0.0 in labels with no predicted samples.\n",
      "  'precision', 'predicted', average, warn_for)\n"
     ]
    },
    {
     "name": "stdout",
     "output_type": "stream",
     "text": [
      "[CV]  criterion=entropy, max_depth=5, min_samples_leaf=3, min_samples_split=10, score=0.26738444529334665, total=   0.3s\n",
      "[CV] criterion=entropy, max_depth=5, min_samples_leaf=3, min_samples_split=10 \n",
      "[CV]  criterion=entropy, max_depth=5, min_samples_leaf=3, min_samples_split=10, score=0.30042660904500323, total=   0.3s\n",
      "[CV] criterion=entropy, max_depth=5, min_samples_leaf=3, min_samples_split=10 \n",
      "[CV]  criterion=entropy, max_depth=5, min_samples_leaf=3, min_samples_split=10, score=0.2919935227706801, total=   0.3s\n",
      "[CV] criterion=entropy, max_depth=5, min_samples_leaf=4, min_samples_split=2 \n"
     ]
    },
    {
     "name": "stderr",
     "output_type": "stream",
     "text": [
      "/anaconda3/lib/python3.7/site-packages/sklearn/metrics/classification.py:1143: UndefinedMetricWarning: F-score is ill-defined and being set to 0.0 in labels with no predicted samples.\n",
      "  'precision', 'predicted', average, warn_for)\n",
      "/anaconda3/lib/python3.7/site-packages/sklearn/metrics/classification.py:1143: UndefinedMetricWarning: F-score is ill-defined and being set to 0.0 in labels with no predicted samples.\n",
      "  'precision', 'predicted', average, warn_for)\n"
     ]
    },
    {
     "name": "stdout",
     "output_type": "stream",
     "text": [
      "[CV]  criterion=entropy, max_depth=5, min_samples_leaf=4, min_samples_split=2, score=0.26738444529334665, total=   0.3s\n",
      "[CV] criterion=entropy, max_depth=5, min_samples_leaf=4, min_samples_split=2 \n",
      "[CV]  criterion=entropy, max_depth=5, min_samples_leaf=4, min_samples_split=2, score=0.30042660904500323, total=   0.3s\n",
      "[CV] criterion=entropy, max_depth=5, min_samples_leaf=4, min_samples_split=2 \n",
      "[CV]  criterion=entropy, max_depth=5, min_samples_leaf=4, min_samples_split=2, score=0.2919935227706801, total=   0.3s\n",
      "[CV] criterion=entropy, max_depth=5, min_samples_leaf=4, min_samples_split=5 \n"
     ]
    },
    {
     "name": "stderr",
     "output_type": "stream",
     "text": [
      "/anaconda3/lib/python3.7/site-packages/sklearn/metrics/classification.py:1143: UndefinedMetricWarning: F-score is ill-defined and being set to 0.0 in labels with no predicted samples.\n",
      "  'precision', 'predicted', average, warn_for)\n",
      "/anaconda3/lib/python3.7/site-packages/sklearn/metrics/classification.py:1143: UndefinedMetricWarning: F-score is ill-defined and being set to 0.0 in labels with no predicted samples.\n",
      "  'precision', 'predicted', average, warn_for)\n"
     ]
    },
    {
     "name": "stdout",
     "output_type": "stream",
     "text": [
      "[CV]  criterion=entropy, max_depth=5, min_samples_leaf=4, min_samples_split=5, score=0.26738444529334665, total=   0.3s\n",
      "[CV] criterion=entropy, max_depth=5, min_samples_leaf=4, min_samples_split=5 \n",
      "[CV]  criterion=entropy, max_depth=5, min_samples_leaf=4, min_samples_split=5, score=0.30042660904500323, total=   0.3s\n",
      "[CV] criterion=entropy, max_depth=5, min_samples_leaf=4, min_samples_split=5 \n",
      "[CV]  criterion=entropy, max_depth=5, min_samples_leaf=4, min_samples_split=5, score=0.2919935227706801, total=   0.3s\n",
      "[CV] criterion=entropy, max_depth=5, min_samples_leaf=4, min_samples_split=10 \n"
     ]
    },
    {
     "name": "stderr",
     "output_type": "stream",
     "text": [
      "/anaconda3/lib/python3.7/site-packages/sklearn/metrics/classification.py:1143: UndefinedMetricWarning: F-score is ill-defined and being set to 0.0 in labels with no predicted samples.\n",
      "  'precision', 'predicted', average, warn_for)\n",
      "/anaconda3/lib/python3.7/site-packages/sklearn/metrics/classification.py:1143: UndefinedMetricWarning: F-score is ill-defined and being set to 0.0 in labels with no predicted samples.\n",
      "  'precision', 'predicted', average, warn_for)\n"
     ]
    },
    {
     "name": "stdout",
     "output_type": "stream",
     "text": [
      "[CV]  criterion=entropy, max_depth=5, min_samples_leaf=4, min_samples_split=10, score=0.26738444529334665, total=   0.3s\n",
      "[CV] criterion=entropy, max_depth=5, min_samples_leaf=4, min_samples_split=10 \n",
      "[CV]  criterion=entropy, max_depth=5, min_samples_leaf=4, min_samples_split=10, score=0.30042660904500323, total=   0.3s\n",
      "[CV] criterion=entropy, max_depth=5, min_samples_leaf=4, min_samples_split=10 \n",
      "[CV]  criterion=entropy, max_depth=5, min_samples_leaf=4, min_samples_split=10, score=0.2919935227706801, total=   0.3s\n",
      "[CV] criterion=entropy, max_depth=5, min_samples_leaf=5, min_samples_split=2 \n"
     ]
    },
    {
     "name": "stderr",
     "output_type": "stream",
     "text": [
      "/anaconda3/lib/python3.7/site-packages/sklearn/metrics/classification.py:1143: UndefinedMetricWarning: F-score is ill-defined and being set to 0.0 in labels with no predicted samples.\n",
      "  'precision', 'predicted', average, warn_for)\n",
      "/anaconda3/lib/python3.7/site-packages/sklearn/metrics/classification.py:1143: UndefinedMetricWarning: F-score is ill-defined and being set to 0.0 in labels with no predicted samples.\n",
      "  'precision', 'predicted', average, warn_for)\n"
     ]
    },
    {
     "name": "stdout",
     "output_type": "stream",
     "text": [
      "[CV]  criterion=entropy, max_depth=5, min_samples_leaf=5, min_samples_split=2, score=0.26738444529334665, total=   0.3s\n",
      "[CV] criterion=entropy, max_depth=5, min_samples_leaf=5, min_samples_split=2 \n",
      "[CV]  criterion=entropy, max_depth=5, min_samples_leaf=5, min_samples_split=2, score=0.3003319400053886, total=   0.3s\n",
      "[CV] criterion=entropy, max_depth=5, min_samples_leaf=5, min_samples_split=2 \n",
      "[CV]  criterion=entropy, max_depth=5, min_samples_leaf=5, min_samples_split=2, score=0.2919935227706801, total=   0.2s\n",
      "[CV] criterion=entropy, max_depth=5, min_samples_leaf=5, min_samples_split=5 \n"
     ]
    },
    {
     "name": "stderr",
     "output_type": "stream",
     "text": [
      "/anaconda3/lib/python3.7/site-packages/sklearn/metrics/classification.py:1143: UndefinedMetricWarning: F-score is ill-defined and being set to 0.0 in labels with no predicted samples.\n",
      "  'precision', 'predicted', average, warn_for)\n",
      "/anaconda3/lib/python3.7/site-packages/sklearn/metrics/classification.py:1143: UndefinedMetricWarning: F-score is ill-defined and being set to 0.0 in labels with no predicted samples.\n",
      "  'precision', 'predicted', average, warn_for)\n"
     ]
    },
    {
     "name": "stdout",
     "output_type": "stream",
     "text": [
      "[CV]  criterion=entropy, max_depth=5, min_samples_leaf=5, min_samples_split=5, score=0.26738444529334665, total=   0.3s\n",
      "[CV] criterion=entropy, max_depth=5, min_samples_leaf=5, min_samples_split=5 \n",
      "[CV]  criterion=entropy, max_depth=5, min_samples_leaf=5, min_samples_split=5, score=0.3003319400053886, total=   0.3s\n",
      "[CV] criterion=entropy, max_depth=5, min_samples_leaf=5, min_samples_split=5 \n",
      "[CV]  criterion=entropy, max_depth=5, min_samples_leaf=5, min_samples_split=5, score=0.2919935227706801, total=   0.3s\n",
      "[CV] criterion=entropy, max_depth=5, min_samples_leaf=5, min_samples_split=10 \n"
     ]
    },
    {
     "name": "stderr",
     "output_type": "stream",
     "text": [
      "/anaconda3/lib/python3.7/site-packages/sklearn/metrics/classification.py:1143: UndefinedMetricWarning: F-score is ill-defined and being set to 0.0 in labels with no predicted samples.\n",
      "  'precision', 'predicted', average, warn_for)\n",
      "/anaconda3/lib/python3.7/site-packages/sklearn/metrics/classification.py:1143: UndefinedMetricWarning: F-score is ill-defined and being set to 0.0 in labels with no predicted samples.\n",
      "  'precision', 'predicted', average, warn_for)\n"
     ]
    },
    {
     "name": "stdout",
     "output_type": "stream",
     "text": [
      "[CV]  criterion=entropy, max_depth=5, min_samples_leaf=5, min_samples_split=10, score=0.26738444529334665, total=   0.2s\n",
      "[CV] criterion=entropy, max_depth=5, min_samples_leaf=5, min_samples_split=10 \n",
      "[CV]  criterion=entropy, max_depth=5, min_samples_leaf=5, min_samples_split=10, score=0.3003319400053886, total=   0.3s\n",
      "[CV] criterion=entropy, max_depth=5, min_samples_leaf=5, min_samples_split=10 \n",
      "[CV]  criterion=entropy, max_depth=5, min_samples_leaf=5, min_samples_split=10, score=0.2919935227706801, total=   0.3s\n",
      "[CV] criterion=entropy, max_depth=5, min_samples_leaf=6, min_samples_split=2 \n"
     ]
    },
    {
     "name": "stderr",
     "output_type": "stream",
     "text": [
      "/anaconda3/lib/python3.7/site-packages/sklearn/metrics/classification.py:1143: UndefinedMetricWarning: F-score is ill-defined and being set to 0.0 in labels with no predicted samples.\n",
      "  'precision', 'predicted', average, warn_for)\n",
      "/anaconda3/lib/python3.7/site-packages/sklearn/metrics/classification.py:1143: UndefinedMetricWarning: F-score is ill-defined and being set to 0.0 in labels with no predicted samples.\n",
      "  'precision', 'predicted', average, warn_for)\n"
     ]
    },
    {
     "name": "stdout",
     "output_type": "stream",
     "text": [
      "[CV]  criterion=entropy, max_depth=5, min_samples_leaf=6, min_samples_split=2, score=0.26738444529334665, total=   0.3s\n",
      "[CV] criterion=entropy, max_depth=5, min_samples_leaf=6, min_samples_split=2 \n",
      "[CV]  criterion=entropy, max_depth=5, min_samples_leaf=6, min_samples_split=2, score=0.3003319400053886, total=   0.3s\n",
      "[CV] criterion=entropy, max_depth=5, min_samples_leaf=6, min_samples_split=2 \n",
      "[CV]  criterion=entropy, max_depth=5, min_samples_leaf=6, min_samples_split=2, score=0.2919935227706801, total=   0.3s\n",
      "[CV] criterion=entropy, max_depth=5, min_samples_leaf=6, min_samples_split=5 \n"
     ]
    },
    {
     "name": "stderr",
     "output_type": "stream",
     "text": [
      "/anaconda3/lib/python3.7/site-packages/sklearn/metrics/classification.py:1143: UndefinedMetricWarning: F-score is ill-defined and being set to 0.0 in labels with no predicted samples.\n",
      "  'precision', 'predicted', average, warn_for)\n",
      "/anaconda3/lib/python3.7/site-packages/sklearn/metrics/classification.py:1143: UndefinedMetricWarning: F-score is ill-defined and being set to 0.0 in labels with no predicted samples.\n",
      "  'precision', 'predicted', average, warn_for)\n"
     ]
    },
    {
     "name": "stdout",
     "output_type": "stream",
     "text": [
      "[CV]  criterion=entropy, max_depth=5, min_samples_leaf=6, min_samples_split=5, score=0.26738444529334665, total=   0.3s\n",
      "[CV] criterion=entropy, max_depth=5, min_samples_leaf=6, min_samples_split=5 \n",
      "[CV]  criterion=entropy, max_depth=5, min_samples_leaf=6, min_samples_split=5, score=0.3003319400053886, total=   0.3s\n",
      "[CV] criterion=entropy, max_depth=5, min_samples_leaf=6, min_samples_split=5 \n",
      "[CV]  criterion=entropy, max_depth=5, min_samples_leaf=6, min_samples_split=5, score=0.2919935227706801, total=   0.3s\n",
      "[CV] criterion=entropy, max_depth=5, min_samples_leaf=6, min_samples_split=10 \n"
     ]
    },
    {
     "name": "stderr",
     "output_type": "stream",
     "text": [
      "/anaconda3/lib/python3.7/site-packages/sklearn/metrics/classification.py:1143: UndefinedMetricWarning: F-score is ill-defined and being set to 0.0 in labels with no predicted samples.\n",
      "  'precision', 'predicted', average, warn_for)\n",
      "/anaconda3/lib/python3.7/site-packages/sklearn/metrics/classification.py:1143: UndefinedMetricWarning: F-score is ill-defined and being set to 0.0 in labels with no predicted samples.\n",
      "  'precision', 'predicted', average, warn_for)\n"
     ]
    },
    {
     "name": "stdout",
     "output_type": "stream",
     "text": [
      "[CV]  criterion=entropy, max_depth=5, min_samples_leaf=6, min_samples_split=10, score=0.26738444529334665, total=   0.3s\n",
      "[CV] criterion=entropy, max_depth=5, min_samples_leaf=6, min_samples_split=10 \n",
      "[CV]  criterion=entropy, max_depth=5, min_samples_leaf=6, min_samples_split=10, score=0.3003319400053886, total=   0.3s\n",
      "[CV] criterion=entropy, max_depth=5, min_samples_leaf=6, min_samples_split=10 \n",
      "[CV]  criterion=entropy, max_depth=5, min_samples_leaf=6, min_samples_split=10, score=0.2919935227706801, total=   0.3s\n",
      "[CV] criterion=entropy, max_depth=6, min_samples_leaf=1, min_samples_split=2 \n",
      "[CV]  criterion=entropy, max_depth=6, min_samples_leaf=1, min_samples_split=2, score=0.29064136765732423, total=   0.3s\n",
      "[CV] criterion=entropy, max_depth=6, min_samples_leaf=1, min_samples_split=2 \n",
      "[CV]  criterion=entropy, max_depth=6, min_samples_leaf=1, min_samples_split=2, score=0.30532564633108866, total=   0.3s\n",
      "[CV] criterion=entropy, max_depth=6, min_samples_leaf=1, min_samples_split=2 \n",
      "[CV]  criterion=entropy, max_depth=6, min_samples_leaf=1, min_samples_split=2, score=0.30083357546321793, total=   0.3s\n",
      "[CV] criterion=entropy, max_depth=6, min_samples_leaf=1, min_samples_split=5 \n",
      "[CV]  criterion=entropy, max_depth=6, min_samples_leaf=1, min_samples_split=5, score=0.29064136765732423, total=   0.3s\n",
      "[CV] criterion=entropy, max_depth=6, min_samples_leaf=1, min_samples_split=5 \n",
      "[CV]  criterion=entropy, max_depth=6, min_samples_leaf=1, min_samples_split=5, score=0.30532564633108866, total=   0.3s\n",
      "[CV] criterion=entropy, max_depth=6, min_samples_leaf=1, min_samples_split=5 \n",
      "[CV]  criterion=entropy, max_depth=6, min_samples_leaf=1, min_samples_split=5, score=0.30083357546321793, total=   0.3s\n",
      "[CV] criterion=entropy, max_depth=6, min_samples_leaf=1, min_samples_split=10 \n",
      "[CV]  criterion=entropy, max_depth=6, min_samples_leaf=1, min_samples_split=10, score=0.29064136765732423, total=   0.3s\n",
      "[CV] criterion=entropy, max_depth=6, min_samples_leaf=1, min_samples_split=10 \n",
      "[CV]  criterion=entropy, max_depth=6, min_samples_leaf=1, min_samples_split=10, score=0.30532564633108866, total=   0.3s\n",
      "[CV] criterion=entropy, max_depth=6, min_samples_leaf=1, min_samples_split=10 \n",
      "[CV]  criterion=entropy, max_depth=6, min_samples_leaf=1, min_samples_split=10, score=0.30083357546321793, total=   0.3s\n",
      "[CV] criterion=entropy, max_depth=6, min_samples_leaf=2, min_samples_split=2 \n",
      "[CV]  criterion=entropy, max_depth=6, min_samples_leaf=2, min_samples_split=2, score=0.29064136765732423, total=   0.3s\n",
      "[CV] criterion=entropy, max_depth=6, min_samples_leaf=2, min_samples_split=2 \n",
      "[CV]  criterion=entropy, max_depth=6, min_samples_leaf=2, min_samples_split=2, score=0.30532564633108866, total=   0.3s\n",
      "[CV] criterion=entropy, max_depth=6, min_samples_leaf=2, min_samples_split=2 \n",
      "[CV]  criterion=entropy, max_depth=6, min_samples_leaf=2, min_samples_split=2, score=0.30083357546321793, total=   0.3s\n",
      "[CV] criterion=entropy, max_depth=6, min_samples_leaf=2, min_samples_split=5 \n",
      "[CV]  criterion=entropy, max_depth=6, min_samples_leaf=2, min_samples_split=5, score=0.29064136765732423, total=   0.3s\n",
      "[CV] criterion=entropy, max_depth=6, min_samples_leaf=2, min_samples_split=5 \n",
      "[CV]  criterion=entropy, max_depth=6, min_samples_leaf=2, min_samples_split=5, score=0.30532564633108866, total=   0.3s\n",
      "[CV] criterion=entropy, max_depth=6, min_samples_leaf=2, min_samples_split=5 \n",
      "[CV]  criterion=entropy, max_depth=6, min_samples_leaf=2, min_samples_split=5, score=0.30083357546321793, total=   0.3s\n",
      "[CV] criterion=entropy, max_depth=6, min_samples_leaf=2, min_samples_split=10 \n",
      "[CV]  criterion=entropy, max_depth=6, min_samples_leaf=2, min_samples_split=10, score=0.29064136765732423, total=   0.3s\n",
      "[CV] criterion=entropy, max_depth=6, min_samples_leaf=2, min_samples_split=10 \n",
      "[CV]  criterion=entropy, max_depth=6, min_samples_leaf=2, min_samples_split=10, score=0.30532564633108866, total=   0.3s\n",
      "[CV] criterion=entropy, max_depth=6, min_samples_leaf=2, min_samples_split=10 \n",
      "[CV]  criterion=entropy, max_depth=6, min_samples_leaf=2, min_samples_split=10, score=0.30083357546321793, total=   0.3s\n",
      "[CV] criterion=entropy, max_depth=6, min_samples_leaf=3, min_samples_split=2 \n",
      "[CV]  criterion=entropy, max_depth=6, min_samples_leaf=3, min_samples_split=2, score=0.29064136765732423, total=   0.3s\n",
      "[CV] criterion=entropy, max_depth=6, min_samples_leaf=3, min_samples_split=2 \n",
      "[CV]  criterion=entropy, max_depth=6, min_samples_leaf=3, min_samples_split=2, score=0.30532564633108866, total=   0.3s\n",
      "[CV] criterion=entropy, max_depth=6, min_samples_leaf=3, min_samples_split=2 \n",
      "[CV]  criterion=entropy, max_depth=6, min_samples_leaf=3, min_samples_split=2, score=0.30083357546321793, total=   0.3s\n",
      "[CV] criterion=entropy, max_depth=6, min_samples_leaf=3, min_samples_split=5 \n",
      "[CV]  criterion=entropy, max_depth=6, min_samples_leaf=3, min_samples_split=5, score=0.29064136765732423, total=   0.3s\n",
      "[CV] criterion=entropy, max_depth=6, min_samples_leaf=3, min_samples_split=5 \n",
      "[CV]  criterion=entropy, max_depth=6, min_samples_leaf=3, min_samples_split=5, score=0.30532564633108866, total=   0.3s\n",
      "[CV] criterion=entropy, max_depth=6, min_samples_leaf=3, min_samples_split=5 \n",
      "[CV]  criterion=entropy, max_depth=6, min_samples_leaf=3, min_samples_split=5, score=0.30083357546321793, total=   0.3s\n",
      "[CV] criterion=entropy, max_depth=6, min_samples_leaf=3, min_samples_split=10 \n",
      "[CV]  criterion=entropy, max_depth=6, min_samples_leaf=3, min_samples_split=10, score=0.29064136765732423, total=   0.3s\n",
      "[CV] criterion=entropy, max_depth=6, min_samples_leaf=3, min_samples_split=10 \n",
      "[CV]  criterion=entropy, max_depth=6, min_samples_leaf=3, min_samples_split=10, score=0.30532564633108866, total=   0.3s\n",
      "[CV] criterion=entropy, max_depth=6, min_samples_leaf=3, min_samples_split=10 \n",
      "[CV]  criterion=entropy, max_depth=6, min_samples_leaf=3, min_samples_split=10, score=0.30083357546321793, total=   0.3s\n",
      "[CV] criterion=entropy, max_depth=6, min_samples_leaf=4, min_samples_split=2 \n",
      "[CV]  criterion=entropy, max_depth=6, min_samples_leaf=4, min_samples_split=2, score=0.29064136765732423, total=   0.3s\n",
      "[CV] criterion=entropy, max_depth=6, min_samples_leaf=4, min_samples_split=2 \n",
      "[CV]  criterion=entropy, max_depth=6, min_samples_leaf=4, min_samples_split=2, score=0.30532564633108866, total=   0.3s\n",
      "[CV] criterion=entropy, max_depth=6, min_samples_leaf=4, min_samples_split=2 \n",
      "[CV]  criterion=entropy, max_depth=6, min_samples_leaf=4, min_samples_split=2, score=0.30083357546321793, total=   0.3s\n",
      "[CV] criterion=entropy, max_depth=6, min_samples_leaf=4, min_samples_split=5 \n",
      "[CV]  criterion=entropy, max_depth=6, min_samples_leaf=4, min_samples_split=5, score=0.29064136765732423, total=   0.3s\n",
      "[CV] criterion=entropy, max_depth=6, min_samples_leaf=4, min_samples_split=5 \n",
      "[CV]  criterion=entropy, max_depth=6, min_samples_leaf=4, min_samples_split=5, score=0.30532564633108866, total=   0.3s\n",
      "[CV] criterion=entropy, max_depth=6, min_samples_leaf=4, min_samples_split=5 \n",
      "[CV]  criterion=entropy, max_depth=6, min_samples_leaf=4, min_samples_split=5, score=0.30083357546321793, total=   0.3s\n",
      "[CV] criterion=entropy, max_depth=6, min_samples_leaf=4, min_samples_split=10 \n",
      "[CV]  criterion=entropy, max_depth=6, min_samples_leaf=4, min_samples_split=10, score=0.29064136765732423, total=   0.3s\n",
      "[CV] criterion=entropy, max_depth=6, min_samples_leaf=4, min_samples_split=10 \n",
      "[CV]  criterion=entropy, max_depth=6, min_samples_leaf=4, min_samples_split=10, score=0.30532564633108866, total=   0.3s\n",
      "[CV] criterion=entropy, max_depth=6, min_samples_leaf=4, min_samples_split=10 \n",
      "[CV]  criterion=entropy, max_depth=6, min_samples_leaf=4, min_samples_split=10, score=0.30083357546321793, total=   0.3s\n",
      "[CV] criterion=entropy, max_depth=6, min_samples_leaf=5, min_samples_split=2 \n",
      "[CV]  criterion=entropy, max_depth=6, min_samples_leaf=5, min_samples_split=2, score=0.29064136765732423, total=   0.3s\n",
      "[CV] criterion=entropy, max_depth=6, min_samples_leaf=5, min_samples_split=2 \n",
      "[CV]  criterion=entropy, max_depth=6, min_samples_leaf=5, min_samples_split=2, score=0.3058473845852829, total=   0.3s\n",
      "[CV] criterion=entropy, max_depth=6, min_samples_leaf=5, min_samples_split=2 \n",
      "[CV]  criterion=entropy, max_depth=6, min_samples_leaf=5, min_samples_split=2, score=0.30061505083957735, total=   0.3s\n",
      "[CV] criterion=entropy, max_depth=6, min_samples_leaf=5, min_samples_split=5 \n"
     ]
    },
    {
     "name": "stdout",
     "output_type": "stream",
     "text": [
      "[CV]  criterion=entropy, max_depth=6, min_samples_leaf=5, min_samples_split=5, score=0.29064136765732423, total=   0.3s\n",
      "[CV] criterion=entropy, max_depth=6, min_samples_leaf=5, min_samples_split=5 \n",
      "[CV]  criterion=entropy, max_depth=6, min_samples_leaf=5, min_samples_split=5, score=0.3058473845852829, total=   0.3s\n",
      "[CV] criterion=entropy, max_depth=6, min_samples_leaf=5, min_samples_split=5 \n",
      "[CV]  criterion=entropy, max_depth=6, min_samples_leaf=5, min_samples_split=5, score=0.30061505083957735, total=   0.3s\n",
      "[CV] criterion=entropy, max_depth=6, min_samples_leaf=5, min_samples_split=10 \n",
      "[CV]  criterion=entropy, max_depth=6, min_samples_leaf=5, min_samples_split=10, score=0.29064136765732423, total=   0.3s\n",
      "[CV] criterion=entropy, max_depth=6, min_samples_leaf=5, min_samples_split=10 \n",
      "[CV]  criterion=entropy, max_depth=6, min_samples_leaf=5, min_samples_split=10, score=0.3058473845852829, total=   0.3s\n",
      "[CV] criterion=entropy, max_depth=6, min_samples_leaf=5, min_samples_split=10 \n",
      "[CV]  criterion=entropy, max_depth=6, min_samples_leaf=5, min_samples_split=10, score=0.30061505083957735, total=   0.3s\n",
      "[CV] criterion=entropy, max_depth=6, min_samples_leaf=6, min_samples_split=2 \n",
      "[CV]  criterion=entropy, max_depth=6, min_samples_leaf=6, min_samples_split=2, score=0.2905770846674851, total=   0.3s\n",
      "[CV] criterion=entropy, max_depth=6, min_samples_leaf=6, min_samples_split=2 \n",
      "[CV]  criterion=entropy, max_depth=6, min_samples_leaf=6, min_samples_split=2, score=0.30603722303706693, total=   0.3s\n",
      "[CV] criterion=entropy, max_depth=6, min_samples_leaf=6, min_samples_split=2 \n",
      "[CV]  criterion=entropy, max_depth=6, min_samples_leaf=6, min_samples_split=2, score=0.3005889312209297, total=   0.3s\n",
      "[CV] criterion=entropy, max_depth=6, min_samples_leaf=6, min_samples_split=5 \n",
      "[CV]  criterion=entropy, max_depth=6, min_samples_leaf=6, min_samples_split=5, score=0.2905770846674851, total=   0.3s\n",
      "[CV] criterion=entropy, max_depth=6, min_samples_leaf=6, min_samples_split=5 \n",
      "[CV]  criterion=entropy, max_depth=6, min_samples_leaf=6, min_samples_split=5, score=0.30603722303706693, total=   0.3s\n",
      "[CV] criterion=entropy, max_depth=6, min_samples_leaf=6, min_samples_split=5 \n",
      "[CV]  criterion=entropy, max_depth=6, min_samples_leaf=6, min_samples_split=5, score=0.3005889312209297, total=   0.3s\n",
      "[CV] criterion=entropy, max_depth=6, min_samples_leaf=6, min_samples_split=10 \n",
      "[CV]  criterion=entropy, max_depth=6, min_samples_leaf=6, min_samples_split=10, score=0.2905770846674851, total=   0.3s\n",
      "[CV] criterion=entropy, max_depth=6, min_samples_leaf=6, min_samples_split=10 \n",
      "[CV]  criterion=entropy, max_depth=6, min_samples_leaf=6, min_samples_split=10, score=0.30603722303706693, total=   0.3s\n",
      "[CV] criterion=entropy, max_depth=6, min_samples_leaf=6, min_samples_split=10 \n",
      "[CV]  criterion=entropy, max_depth=6, min_samples_leaf=6, min_samples_split=10, score=0.3005889312209297, total=   0.3s\n"
     ]
    },
    {
     "name": "stderr",
     "output_type": "stream",
     "text": [
      "[Parallel(n_jobs=1)]: Done 648 out of 648 | elapsed:  3.9min finished\n"
     ]
    },
    {
     "data": {
      "text/plain": [
       "GridSearchCV(cv=3, error_score='raise-deprecating',\n",
       "       estimator=DecisionTreeClassifier(class_weight=None, criterion='gini', max_depth=None,\n",
       "            max_features=None, max_leaf_nodes=None,\n",
       "            min_impurity_decrease=0.0, min_impurity_split=None,\n",
       "            min_samples_leaf=1, min_samples_split=2,\n",
       "            min_weight_fraction_leaf=0.0, presort=False, random_state=None,\n",
       "            splitter='best'),\n",
       "       fit_params=None, iid='warn', n_jobs=None,\n",
       "       param_grid={'criterion': ['gini', 'entropy'], 'max_depth': [None, 2, 3, 4, 5, 6], 'min_samples_split': [2, 5, 10], 'min_samples_leaf': [1, 2, 3, 4, 5, 6]},\n",
       "       pre_dispatch='2*n_jobs', refit=True, return_train_score=True,\n",
       "       scoring='f1_macro', verbose=5)"
      ]
     },
     "execution_count": 11,
     "metadata": {},
     "output_type": "execute_result"
    }
   ],
   "source": [
    "search = GridSearchCV(clf, params, cv=3, return_train_score=True, verbose=5, scoring='f1_macro')\n",
    "\n",
    "search.fit(X,y)"
   ]
  },
  {
   "cell_type": "markdown",
   "metadata": {},
   "source": [
    "### Tuned Results"
   ]
  },
  {
   "cell_type": "code",
   "execution_count": 12,
   "metadata": {},
   "outputs": [
    {
     "name": "stdout",
     "output_type": "stream",
     "text": [
      "Mean Training Score: 0.37208549821522574\n",
      "Mean Testing Score: 0.704981585824501\n",
      "\n",
      "Best Parameter Found:\n"
     ]
    },
    {
     "data": {
      "text/plain": [
       "{'criterion': 'gini',\n",
       " 'max_depth': None,\n",
       " 'min_samples_leaf': 6,\n",
       " 'min_samples_split': 2}"
      ]
     },
     "execution_count": 12,
     "metadata": {},
     "output_type": "execute_result"
    }
   ],
   "source": [
    "print(\"Mean Training Score:\", np.mean(search.cv_results_['mean_train_score']))\n",
    "print(\"Mean Testing Score:\", search.score(X, y))\n",
    "print(\"\\nBest Parameter Found:\")\n",
    "search.best_params_"
   ]
  },
  {
   "cell_type": "markdown",
   "metadata": {},
   "source": [
    "### Model with the Best Parameters"
   ]
  },
  {
   "cell_type": "code",
   "execution_count": 13,
   "metadata": {},
   "outputs": [
    {
     "data": {
      "text/plain": [
       "DecisionTreeClassifier(class_weight=None, criterion='gini', max_depth=None,\n",
       "            max_features=None, max_leaf_nodes=None,\n",
       "            min_impurity_decrease=0.0, min_impurity_split=None,\n",
       "            min_samples_leaf=6, min_samples_split=2,\n",
       "            min_weight_fraction_leaf=0.0, presort=False, random_state=None,\n",
       "            splitter='best')"
      ]
     },
     "execution_count": 13,
     "metadata": {},
     "output_type": "execute_result"
    }
   ],
   "source": [
    "search_clf = search.best_estimator_\n",
    "\n",
    "search_clf.fit(X_train, y_train)"
   ]
  },
  {
   "cell_type": "markdown",
   "metadata": {},
   "source": [
    "#### Results from Optimum Parameters"
   ]
  },
  {
   "cell_type": "code",
   "execution_count": 14,
   "metadata": {},
   "outputs": [
    {
     "name": "stdout",
     "output_type": "stream",
     "text": [
      "              precision    recall  f1-score   support\n",
      "\n",
      "        Sell       0.20      0.20      0.20      2251\n",
      "         Buy       0.33      0.32      0.32      4433\n",
      "        Hold       0.56      0.57      0.57      8359\n",
      "\n",
      "   micro avg       0.44      0.44      0.44     15043\n",
      "   macro avg       0.36      0.36      0.36     15043\n",
      "weighted avg       0.44      0.44      0.44     15043\n",
      "\n"
     ]
    }
   ],
   "source": [
    "# Classifier predictions\n",
    "s_pred = search_clf.predict(X_test)\n",
    "\n",
    "#Printing out results\n",
    "report = classification_report(y_test, s_pred, target_names=['Sell', 'Buy', 'Hold'])\n",
    "print(report)"
   ]
  },
  {
   "cell_type": "markdown",
   "metadata": {},
   "source": [
    "### Confusion Matrix for Optimum Parameters"
   ]
  },
  {
   "cell_type": "code",
   "execution_count": 15,
   "metadata": {},
   "outputs": [
    {
     "data": {
      "image/png": "[encoded data removed]",
      "text/plain": [
       "<Figure size 864x432 with 2 Axes>"
      ]
     },
     "metadata": {
      "needs_background": "light"
     },
     "output_type": "display_data"
    }
   ],
   "source": [
    "plot_confusion_matrix(y_test, s_pred, title=\"Confusion Matrix\")\n",
    "np.set_printoptions(precision=1)\n",
    "# Plot non-normalized confusion matrix\n",
    "plt.show()"
   ]
  },
  {
   "cell_type": "code",
   "execution_count": null,
   "metadata": {},
   "outputs": [],
   "source": []
  }
 ],
 "metadata": {
  "kernelspec": {
   "display_name": "Python 3",
   "language": "python",
   "name": "python3"
  },
  "language_info": {
   "codemirror_mode": {
    "name": "ipython",
    "version": 3
   },
   "file_extension": ".py",
   "mimetype": "text/x-python",
   "name": "python",
   "nbconvert_exporter": "python",
   "pygments_lexer": "ipython3",
   "version": "3.7.3"
  }
 },
 "nbformat": 4,
 "nbformat_minor": 2
}
