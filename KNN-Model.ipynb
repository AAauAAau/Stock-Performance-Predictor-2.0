{
 "cells": [
  {
   "cell_type": "markdown",
   "metadata": {},
   "source": [
    "# Model: K Nearest Neighbors"
   ]
  },
  {
   "cell_type": "markdown",
   "metadata": {},
   "source": [
    "### Importing Libraries"
   ]
  },
  {
   "cell_type": "code",
   "execution_count": 1,
   "metadata": {},
   "outputs": [],
   "source": [
    "import _pickle as pickle\n",
    "import numpy as np\n",
    "import pandas as pd\n",
    "from sklearn.model_selection import train_test_split\n",
    "from sklearn.metrics import precision_score, recall_score, accuracy_score, f1_score, confusion_matrix, classification_report\n",
    "import matplotlib.pyplot as plt"
   ]
  },
  {
   "cell_type": "markdown",
   "metadata": {},
   "source": [
    "### Loading in Data"
   ]
  },
  {
   "cell_type": "code",
   "execution_count": 2,
   "metadata": {},
   "outputs": [],
   "source": [
    "with open(\"top10_df.pkl\",'rb') as fp:\n",
    "    df = pickle.load(fp)"
   ]
  },
  {
   "cell_type": "markdown",
   "metadata": {},
   "source": [
    "### Scaling the Data"
   ]
  },
  {
   "cell_type": "code",
   "execution_count": 3,
   "metadata": {},
   "outputs": [],
   "source": [
    "from sklearn.preprocessing import StandardScaler\n",
    "\n",
    "scaler = StandardScaler()\n",
    "\n",
    "features_df = df.drop([\"Decision\"], 1)\n",
    "\n",
    "scaled_df = pd.DataFrame(scaler.fit_transform(features_df), \n",
    "                               index=features_df.index, \n",
    "                               columns=features_df.columns)\n",
    "\n",
    "df = scaled_df.join(df.Decision)"
   ]
  },
  {
   "cell_type": "markdown",
   "metadata": {},
   "source": [
    "### Splitting the Data"
   ]
  },
  {
   "cell_type": "code",
   "execution_count": 5,
   "metadata": {},
   "outputs": [],
   "source": [
    "X = df.drop([\"Decision\"], 1)\n",
    "y = df.Decision\n",
    "\n",
    "# Train, test, split\n",
    "X_train, X_test, y_train, y_test = train_test_split(X, y)"
   ]
  },
  {
   "cell_type": "markdown",
   "metadata": {},
   "source": [
    "### Helper Functions"
   ]
  },
  {
   "cell_type": "markdown",
   "metadata": {},
   "source": [
    "#### Function for plotting confusion matrix"
   ]
  },
  {
   "cell_type": "code",
   "execution_count": 6,
   "metadata": {},
   "outputs": [],
   "source": [
    "def plot_confusion_matrix(y_true, y_pred, labels=[\"Sell\", \"Buy\", \"Hold\"], \n",
    "                          normalize=False, title=None, cmap=plt.cm.coolwarm):\n",
    "\n",
    "    cm = confusion_matrix(y_true, y_pred)\n",
    "    fig, ax = plt.subplots(figsize=(12,6))\n",
    "    im = ax.imshow(cm, interpolation='nearest', cmap=cmap)\n",
    "    ax.figure.colorbar(im, ax=ax)\n",
    "    # We want to show all ticks...\n",
    "    ax.set(xticks=np.arange(cm.shape[1]),\n",
    "           yticks=np.arange(cm.shape[0]),\n",
    "           # ... and label them with the respective list entries\n",
    "           xticklabels=labels, yticklabels=labels,\n",
    "           title=title,\n",
    "           ylabel='ACTUAL',\n",
    "           xlabel='PREDICTED')\n",
    "    # Rotate the tick labels and set their alignment.\n",
    "    plt.setp(ax.get_xticklabels(), rotation=45, ha=\"right\",\n",
    "             rotation_mode=\"anchor\")\n",
    "    # Loop over data dimensions and create text annotations.\n",
    "    fmt = '.2f' if normalize else 'd'\n",
    "    thresh = cm.max() / 1.5\n",
    "    for i in range(cm.shape[0]):\n",
    "        for j in range(cm.shape[1]):\n",
    "            ax.text(j, i, format(cm[i, j], fmt),\n",
    "                    ha=\"center\", va=\"center\",\n",
    "                    color=\"snow\" if cm[i, j] > thresh else \"orange\",\n",
    "                    size=26)\n",
    "    ax.grid(False)\n",
    "    fig.tight_layout()\n",
    "    return ax"
   ]
  },
  {
   "cell_type": "markdown",
   "metadata": {},
   "source": [
    "## KNN Model"
   ]
  },
  {
   "cell_type": "markdown",
   "metadata": {},
   "source": [
    "### Fitting and Training"
   ]
  },
  {
   "cell_type": "code",
   "execution_count": 9,
   "metadata": {
    "scrolled": false
   },
   "outputs": [
    {
     "data": {
      "text/plain": [
       "KNeighborsClassifier(algorithm='auto', leaf_size=30, metric='minkowski',\n",
       "           metric_params=None, n_jobs=None, n_neighbors=5, p=2,\n",
       "           weights='uniform')"
      ]
     },
     "execution_count": 9,
     "metadata": {},
     "output_type": "execute_result"
    }
   ],
   "source": [
    "# Importing the model\n",
    "from sklearn.neighbors import KNeighborsClassifier\n",
    "\n",
    "# Fitting and training\n",
    "clf = KNeighborsClassifier()\n",
    "clf.fit(X_train, y_train)"
   ]
  },
  {
   "cell_type": "markdown",
   "metadata": {},
   "source": [
    "### Printing out Evaluation Metrics"
   ]
  },
  {
   "cell_type": "code",
   "execution_count": 10,
   "metadata": {},
   "outputs": [
    {
     "name": "stdout",
     "output_type": "stream",
     "text": [
      "              precision    recall  f1-score   support\n",
      "\n",
      "        Sell       0.19      0.15      0.17      2228\n",
      "         Buy       0.33      0.29      0.31      4424\n",
      "        Hold       0.57      0.64      0.60      8391\n",
      "\n",
      "   micro avg       0.46      0.46      0.46     15043\n",
      "   macro avg       0.36      0.36      0.36     15043\n",
      "weighted avg       0.44      0.46      0.45     15043\n",
      "\n"
     ]
    }
   ],
   "source": [
    "# Classifier predictions\n",
    "pred = clf.predict(X_test)\n",
    "\n",
    "#Printing out results\n",
    "report = classification_report(y_test, pred, target_names=['Sell', 'Buy', 'Hold'])\n",
    "print(report)"
   ]
  },
  {
   "cell_type": "markdown",
   "metadata": {},
   "source": [
    "### Confusion Matrix"
   ]
  },
  {
   "cell_type": "code",
   "execution_count": 12,
   "metadata": {},
   "outputs": [
    {
     "data": {
      "image/png": "[encoded data removed]",
      "text/plain": [
       "<Figure size 864x432 with 2 Axes>"
      ]
     },
     "metadata": {
      "needs_background": "light"
     },
     "output_type": "display_data"
    }
   ],
   "source": [
    "plot_confusion_matrix(y_test, pred, title=\"Confusion Matrix\")\n",
    "np.set_printoptions(precision=1)\n",
    "# Plot non-normalized confusion matrix\n",
    "plt.show()"
   ]
  },
  {
   "cell_type": "markdown",
   "metadata": {},
   "source": [
    "## Tuning Model Parameters"
   ]
  },
  {
   "cell_type": "code",
   "execution_count": 21,
   "metadata": {},
   "outputs": [],
   "source": [
    "from sklearn.model_selection import GridSearchCV"
   ]
  },
  {
   "cell_type": "markdown",
   "metadata": {},
   "source": [
    "### Parameters"
   ]
  },
  {
   "cell_type": "code",
   "execution_count": 28,
   "metadata": {},
   "outputs": [],
   "source": [
    "# Parameters to Tune\n",
    "params = {\"n_neighbors\": [200, 400, 600],\n",
    "          \"weights\": ['uniform', 'distance'],\n",
    "          \"p\": [1,2]}"
   ]
  },
  {
   "cell_type": "code",
   "execution_count": 29,
   "metadata": {
    "scrolled": true
   },
   "outputs": [
    {
     "name": "stdout",
     "output_type": "stream",
     "text": [
      "Fitting 3 folds for each of 12 candidates, totalling 36 fits\n",
      "[CV] n_neighbors=200, p=1, weights=uniform ...........................\n"
     ]
    },
    {
     "name": "stderr",
     "output_type": "stream",
     "text": [
      "[Parallel(n_jobs=1)]: Using backend SequentialBackend with 1 concurrent workers.\n"
     ]
    },
    {
     "name": "stdout",
     "output_type": "stream",
     "text": [
      "[CV]  n_neighbors=200, p=1, weights=uniform, score=0.5611725994615615, total=  14.2s\n",
      "[CV] n_neighbors=200, p=1, weights=uniform ...........................\n"
     ]
    },
    {
     "name": "stderr",
     "output_type": "stream",
     "text": [
      "[Parallel(n_jobs=1)]: Done   1 out of   1 | elapsed:   46.3s remaining:    0.0s\n"
     ]
    },
    {
     "name": "stdout",
     "output_type": "stream",
     "text": [
      "[CV]  n_neighbors=200, p=1, weights=uniform, score=0.5615277223773434, total=  16.8s\n",
      "[CV] n_neighbors=200, p=1, weights=uniform ...........................\n"
     ]
    },
    {
     "name": "stderr",
     "output_type": "stream",
     "text": [
      "[Parallel(n_jobs=1)]: Done   2 out of   2 | elapsed:  1.5min remaining:    0.0s\n"
     ]
    },
    {
     "name": "stdout",
     "output_type": "stream",
     "text": [
      "[CV]  n_neighbors=200, p=1, weights=uniform, score=0.5617053103964099, total=  17.2s\n",
      "[CV] n_neighbors=200, p=1, weights=distance ..........................\n"
     ]
    },
    {
     "name": "stderr",
     "output_type": "stream",
     "text": [
      "[Parallel(n_jobs=1)]: Done   3 out of   3 | elapsed:  2.4min remaining:    0.0s\n"
     ]
    },
    {
     "name": "stdout",
     "output_type": "stream",
     "text": [
      "[CV]  n_neighbors=200, p=1, weights=distance, score=0.5616711536544022, total=  13.0s\n",
      "[CV] n_neighbors=200, p=1, weights=distance ..........................\n"
     ]
    },
    {
     "name": "stderr",
     "output_type": "stream",
     "text": [
      "[Parallel(n_jobs=1)]: Done   4 out of   4 | elapsed:  3.0min remaining:    0.0s\n"
     ]
    },
    {
     "name": "stdout",
     "output_type": "stream",
     "text": [
      "[CV]  n_neighbors=200, p=1, weights=distance, score=0.5614280015955325, total=  15.5s\n",
      "[CV] n_neighbors=200, p=1, weights=distance ..........................\n",
      "[CV]  n_neighbors=200, p=1, weights=distance, score=0.5617551732734979, total=  17.5s\n",
      "[CV] n_neighbors=200, p=2, weights=uniform ...........................\n",
      "[CV]  n_neighbors=200, p=2, weights=uniform, score=0.5593778043673348, total=  10.2s\n",
      "[CV] n_neighbors=200, p=2, weights=uniform ...........................\n",
      "[CV]  n_neighbors=200, p=2, weights=uniform, score=0.5609293976864779, total=  11.0s\n",
      "[CV] n_neighbors=200, p=2, weights=uniform ...........................\n",
      "[CV]  n_neighbors=200, p=2, weights=uniform, score=0.5607579157317377, total=  12.2s\n",
      "[CV] n_neighbors=200, p=2, weights=distance ..........................\n",
      "[CV]  n_neighbors=200, p=2, weights=distance, score=0.5608236115265729, total=  10.0s\n",
      "[CV] n_neighbors=200, p=2, weights=distance ..........................\n",
      "[CV]  n_neighbors=200, p=2, weights=distance, score=0.5616274431591544, total=   9.9s\n",
      "[CV] n_neighbors=200, p=2, weights=distance ..........................\n",
      "[CV]  n_neighbors=200, p=2, weights=distance, score=0.5611069558713537, total=  12.3s\n",
      "[CV] n_neighbors=400, p=1, weights=uniform ...........................\n",
      "[CV]  n_neighbors=400, p=1, weights=uniform, score=0.56152158739655, total=  16.3s\n",
      "[CV] n_neighbors=400, p=1, weights=uniform ...........................\n",
      "[CV]  n_neighbors=400, p=1, weights=uniform, score=0.5610789788591942, total=  17.3s\n",
      "[CV] n_neighbors=400, p=1, weights=uniform ...........................\n",
      "[CV]  n_neighbors=400, p=1, weights=uniform, score=0.5613064073797058, total=  19.5s\n",
      "[CV] n_neighbors=400, p=1, weights=distance ..........................\n",
      "[CV]  n_neighbors=400, p=1, weights=distance, score=0.5616212982351182, total=  15.9s\n",
      "[CV] n_neighbors=400, p=1, weights=distance ..........................\n",
      "[CV]  n_neighbors=400, p=1, weights=distance, score=0.5618268847227762, total=  19.2s\n",
      "[CV] n_neighbors=400, p=1, weights=distance ..........................\n",
      "[CV]  n_neighbors=400, p=1, weights=distance, score=0.5615058588880578, total=  21.1s\n",
      "[CV] n_neighbors=400, p=2, weights=uniform ...........................\n",
      "[CV]  n_neighbors=400, p=2, weights=uniform, score=0.5607737561072889, total=  13.5s\n",
      "[CV] n_neighbors=400, p=2, weights=uniform ...........................\n",
      "[CV]  n_neighbors=400, p=2, weights=uniform, score=0.5609293976864779, total=  15.1s\n",
      "[CV] n_neighbors=400, p=2, weights=uniform ...........................\n",
      "[CV]  n_neighbors=400, p=2, weights=uniform, score=0.5604587384692097, total=  19.7s\n",
      "[CV] n_neighbors=400, p=2, weights=distance ..........................\n",
      "[CV]  n_neighbors=400, p=2, weights=distance, score=0.560873466945857, total=  13.0s\n",
      "[CV] n_neighbors=400, p=2, weights=distance ..........................\n",
      "[CV]  n_neighbors=400, p=2, weights=distance, score=0.5620761866773035, total=  14.5s\n",
      "[CV] n_neighbors=400, p=2, weights=distance ..........................\n",
      "[CV]  n_neighbors=400, p=2, weights=distance, score=0.5608576414859138, total=  17.3s\n",
      "[CV] n_neighbors=600, p=1, weights=uniform ...........................\n",
      "[CV]  n_neighbors=600, p=1, weights=uniform, score=0.5607737561072889, total=  25.1s\n",
      "[CV] n_neighbors=600, p=1, weights=uniform ...........................\n",
      "[CV]  n_neighbors=600, p=1, weights=uniform, score=0.5607798165137615, total=  18.3s\n",
      "[CV] n_neighbors=600, p=1, weights=uniform ...........................\n",
      "[CV]  n_neighbors=600, p=1, weights=uniform, score=0.5611069558713537, total=  24.5s\n",
      "[CV] n_neighbors=600, p=1, weights=distance ..........................\n",
      "[CV]  n_neighbors=600, p=1, weights=distance, score=0.5614218765579818, total=  18.6s\n",
      "[CV] n_neighbors=600, p=1, weights=distance ..........................\n",
      "[CV]  n_neighbors=600, p=1, weights=distance, score=0.5619266055045872, total=  18.6s\n",
      "[CV] n_neighbors=600, p=1, weights=distance ..........................\n",
      "[CV]  n_neighbors=600, p=1, weights=distance, score=0.5614061331338819, total=  21.8s\n",
      "[CV] n_neighbors=600, p=2, weights=uniform ...........................\n",
      "[CV]  n_neighbors=600, p=2, weights=uniform, score=0.5600259248180277, total=  15.1s\n",
      "[CV] n_neighbors=600, p=2, weights=uniform ...........................\n",
      "[CV]  n_neighbors=600, p=2, weights=uniform, score=0.5606302353410451, total=  14.6s\n",
      "[CV] n_neighbors=600, p=2, weights=uniform ...........................\n",
      "[CV]  n_neighbors=600, p=2, weights=uniform, score=0.5599102468212416, total=  18.0s\n",
      "[CV] n_neighbors=600, p=2, weights=distance ..........................\n",
      "[CV]  n_neighbors=600, p=2, weights=distance, score=0.5603250573337322, total=  14.9s\n",
      "[CV] n_neighbors=600, p=2, weights=distance ..........................\n",
      "[CV]  n_neighbors=600, p=2, weights=distance, score=0.5617271639409653, total=  15.0s\n",
      "[CV] n_neighbors=600, p=2, weights=distance ..........................\n",
      "[CV]  n_neighbors=600, p=2, weights=distance, score=0.5616554475193218, total=  17.9s\n"
     ]
    },
    {
     "name": "stderr",
     "output_type": "stream",
     "text": [
      "[Parallel(n_jobs=1)]: Done  36 out of  36 | elapsed: 29.0min finished\n"
     ]
    },
    {
     "data": {
      "text/plain": [
       "GridSearchCV(cv=3, error_score='raise-deprecating',\n",
       "       estimator=KNeighborsClassifier(algorithm='auto', leaf_size=30, metric='minkowski',\n",
       "           metric_params=None, n_jobs=None, n_neighbors=5, p=2,\n",
       "           weights='uniform'),\n",
       "       fit_params=None, iid='warn', n_jobs=None,\n",
       "       param_grid={'n_neighbors': [200, 400, 600], 'weights': ['uniform', 'distance'], 'p': [1, 2]},\n",
       "       pre_dispatch='2*n_jobs', refit=True, return_train_score=True,\n",
       "       scoring=None, verbose=5)"
      ]
     },
     "execution_count": 29,
     "metadata": {},
     "output_type": "execute_result"
    }
   ],
   "source": [
    "search = GridSearchCV(clf, params, cv=3, return_train_score=True, verbose=5)\n",
    "\n",
    "search.fit(X,y)"
   ]
  },
  {
   "cell_type": "markdown",
   "metadata": {},
   "source": [
    "### Tuned Results"
   ]
  },
  {
   "cell_type": "code",
   "execution_count": 30,
   "metadata": {},
   "outputs": [
    {
     "name": "stdout",
     "output_type": "stream",
     "text": [
      "Mean Training Score: 0.7809807932660368\n",
      "Mean Testing Score: 1.0\n",
      "\n",
      "Best Parameter Found:\n"
     ]
    },
    {
     "data": {
      "text/plain": [
       "{'n_neighbors': 400, 'p': 1, 'weights': 'distance'}"
      ]
     },
     "execution_count": 30,
     "metadata": {},
     "output_type": "execute_result"
    }
   ],
   "source": [
    "# RandomizedSearchCV Results\n",
    "\n",
    "print(\"Mean Training Score:\", np.mean(search.cv_results_['mean_train_score']))\n",
    "print(\"Mean Testing Score:\", search.score(X, y))\n",
    "print(\"\\nBest Parameter Found:\")\n",
    "search.best_params_"
   ]
  },
  {
   "cell_type": "markdown",
   "metadata": {},
   "source": [
    "### Model with the Best Parameters"
   ]
  },
  {
   "cell_type": "code",
   "execution_count": 31,
   "metadata": {},
   "outputs": [
    {
     "data": {
      "text/plain": [
       "KNeighborsClassifier(algorithm='auto', leaf_size=30, metric='minkowski',\n",
       "           metric_params=None, n_jobs=None, n_neighbors=400, p=1,\n",
       "           weights='distance')"
      ]
     },
     "execution_count": 31,
     "metadata": {},
     "output_type": "execute_result"
    }
   ],
   "source": [
    "search_clf = search.best_estimator_\n",
    "\n",
    "search_clf.fit(X_train, y_train)"
   ]
  },
  {
   "cell_type": "markdown",
   "metadata": {},
   "source": [
    "#### Results from Optimum Parameters"
   ]
  },
  {
   "cell_type": "code",
   "execution_count": 32,
   "metadata": {},
   "outputs": [
    {
     "name": "stdout",
     "output_type": "stream",
     "text": [
      "              precision    recall  f1-score   support\n",
      "\n",
      "        Sell       0.00      0.00      0.00      2228\n",
      "         Buy       0.56      0.03      0.05      4424\n",
      "        Hold       0.56      0.99      0.72      8391\n",
      "\n",
      "   micro avg       0.56      0.56      0.56     15043\n",
      "   macro avg       0.37      0.34      0.26     15043\n",
      "weighted avg       0.48      0.56      0.41     15043\n",
      "\n"
     ]
    }
   ],
   "source": [
    "# Classifier predictions\n",
    "s_pred = search_clf.predict(X_test)\n",
    "\n",
    "#Printing out results\n",
    "report = classification_report(y_test, s_pred, target_names=['Sell', 'Buy', 'Hold'])\n",
    "print(report)"
   ]
  },
  {
   "cell_type": "markdown",
   "metadata": {},
   "source": [
    "### Confusion Matrix for Optimum Parameters"
   ]
  },
  {
   "cell_type": "code",
   "execution_count": 33,
   "metadata": {},
   "outputs": [
    {
     "data": {
      "image/png": "[encoded data removed]",
      "text/plain": [
       "<Figure size 864x432 with 2 Axes>"
      ]
     },
     "metadata": {
      "needs_background": "light"
     },
     "output_type": "display_data"
    }
   ],
   "source": [
    "plot_confusion_matrix(y_test, s_pred, title=\"Confusion Matrix\")\n",
    "np.set_printoptions(precision=1)\n",
    "# Plot non-normalized confusion matrix\n",
    "plt.show()"
   ]
  },
  {
   "cell_type": "code",
   "execution_count": null,
   "metadata": {},
   "outputs": [],
   "source": []
  }
 ],
 "metadata": {
  "kernelspec": {
   "display_name": "Python 3",
   "language": "python",
   "name": "python3"
  },
  "language_info": {
   "codemirror_mode": {
    "name": "ipython",
    "version": 3
   },
   "file_extension": ".py",
   "mimetype": "text/x-python",
   "name": "python",
   "nbconvert_exporter": "python",
   "pygments_lexer": "ipython3",
   "version": "3.7.3"
  }
 },
 "nbformat": 4,
 "nbformat_minor": 2
}
