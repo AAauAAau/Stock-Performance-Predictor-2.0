{
 "cells": [
  {
   "cell_type": "markdown",
   "metadata": {},
   "source": [
    "# Classifying New Data\n",
    "Using the XGBoost model"
   ]
  },
  {
   "cell_type": "markdown",
   "metadata": {},
   "source": [
    "### Importing Libraries and Model"
   ]
  },
  {
   "cell_type": "code",
   "execution_count": 1,
   "metadata": {},
   "outputs": [],
   "source": [
    "import matplotlib.pyplot as plt\n",
    "from matplotlib import rcParams\n",
    "import _pickle as pickle\n",
    "import numpy as np\n",
    "import pandas as pd\n",
    "from joblib import load\n",
    "from sklearn.preprocessing import StandardScaler\n",
    "\n",
    "# Preventing error from occuring: XGBoost causes kernel to die.\n",
    "import os\n",
    "os.environ['KMP_DUPLICATE_LIB_OK']='True'\n",
    "from xgboost import XGBClassifier\n",
    "import xgboost as xgb"
   ]
  },
  {
   "cell_type": "markdown",
   "metadata": {},
   "source": [
    "### Loading in the Pretrained Model"
   ]
  },
  {
   "cell_type": "code",
   "execution_count": 2,
   "metadata": {},
   "outputs": [],
   "source": [
    "# Loading Pretrained XGBoost Model\n",
    "clf = load(\"xgboost_top10_feats_final_model.joblib\")"
   ]
  },
  {
   "cell_type": "markdown",
   "metadata": {},
   "source": [
    "### Loading in the Data"
   ]
  },
  {
   "cell_type": "code",
   "execution_count": 3,
   "metadata": {},
   "outputs": [],
   "source": [
    "# Using the Stockpup dataset to find the latest QR\n",
    "with open(\"stockpup.pkl\", 'rb') as fp:\n",
    "    stock_df = pickle.load(fp)\n",
    "    \n",
    "# Using Top 10 Features to scale with the latest QR    \n",
    "with open(\"Top-10-Features-Models/top10_df.pkl\", \"rb\") as fp:\n",
    "    top10_df = pickle.load(fp)    "
   ]
  },
  {
   "cell_type": "markdown",
   "metadata": {},
   "source": [
    "Ideally, we would be using the most up-to-date QR for any stock we choose.  Need to scrape a web source or find values manually for such values."
   ]
  },
  {
   "cell_type": "markdown",
   "metadata": {},
   "source": [
    "## Helper Functions"
   ]
  },
  {
   "cell_type": "code",
   "execution_count": 43,
   "metadata": {},
   "outputs": [],
   "source": [
    "def format_qr(df, df2):\n",
    "    \"\"\"\n",
    "    Formats the DF from the Stockpup dataset so that the values and columns line up with training and testing data\n",
    "    Uses the second DF of our data to find the appropriate feature columns to use and will be appended to\n",
    "    Scales the DF with the new data\n",
    "    Returns the QR with the new scaled data\n",
    "    \"\"\"\n",
    "    # Dropping the class column as it is not needed\n",
    "    df2 = df2.drop(\"Decision\", axis=1)\n",
    "    \n",
    "    # Setting the Datetime index\n",
    "    df['Quarter end'] = pd.to_datetime(df['Quarter end'])\n",
    "    df = df.set_index(\"Quarter end\")\n",
    "    \n",
    "    # Sort the DF based on date\n",
    "    df = df.sort_index(ascending=False)\n",
    "    \n",
    "    # Finding the latest values\n",
    "    df = df.head(2)\n",
    "    \n",
    "    # Replacing 'None' with 0\n",
    "    df = df.replace(\"None\", 0)\n",
    "    \n",
    "    # Converting all values to numeric\n",
    "    df = df.apply(pd.to_numeric)\n",
    "    \n",
    "    # Finding the percent change\n",
    "    df = df.pct_change(-1).apply(lambda x: x*100)\n",
    "    \n",
    "    # Using only the latest QR\n",
    "    df = df.head(1)\n",
    "    \n",
    "    # Replacing values with 0\n",
    "    df = df.replace([np.inf, -np.inf], [1,-1]).fillna(0)\n",
    "    \n",
    "    # Using only the columns with the data that we have (excluding the class labels)\n",
    "    df = df[df2.columns]\n",
    "    \n",
    "    # Appending the new data to rest of the data for scaling purposes\n",
    "    df = df2.append(df)\n",
    "    \n",
    "    # Scaling the data\n",
    "    scaler = StandardScaler()\n",
    "    \n",
    "    df = pd.DataFrame(scaler.fit_transform(df), index=df.index, columns=df.columns)\n",
    "    \n",
    "    # Finding the latest scaled QR\n",
    "    df = df.tail(1)\n",
    "    \n",
    "    # Returning the latest scaled QR with the appropriate features\n",
    "    return df"
   ]
  },
  {
   "cell_type": "code",
   "execution_count": 64,
   "metadata": {},
   "outputs": [],
   "source": [
    "def prediction(pred):\n",
    "    \"\"\"\n",
    "    Returns the class label for the prediction\n",
    "    \"\"\"\n",
    "    if pred == 1.0:\n",
    "        print('BUY')\n",
    "    elif pred == 0.0:\n",
    "        print('SELL')\n",
    "    else:\n",
    "        print('HOLD')\n",
    "    "
   ]
  },
  {
   "cell_type": "code",
   "execution_count": 60,
   "metadata": {},
   "outputs": [],
   "source": [
    "def pie_stock(pred, name):\n",
    "    \"\"\"\n",
    "    Creates a pie chart of the stock class predictions\n",
    "    \"\"\"\n",
    "    rcParams['font.size'] = 30.0\n",
    "    plt.style.use('bmh')\n",
    "    plt.figure(figsize=(10,10))\n",
    "    plt.pie(pred[0], \n",
    "            labels=['SELL', 'BUY','HOLD'], \n",
    "            shadow=True,\n",
    "            explode=(.05,.05,.05),\n",
    "            autopct='%1.1f%%')\n",
    "    plt.title(name)\n",
    "    plt.axis('equal')\n",
    "    plt.tight_layout()\n",
    "    plt.show()"
   ]
  },
  {
   "cell_type": "markdown",
   "metadata": {},
   "source": [
    "## Retrieving the Latest Quarterly Report"
   ]
  },
  {
   "cell_type": "markdown",
   "metadata": {},
   "source": [
    "Using the latest QR from AMD as an example"
   ]
  },
  {
   "cell_type": "code",
   "execution_count": 55,
   "metadata": {},
   "outputs": [
    {
     "data": {
      "text/html": [
       "<div>\n",
       "<style scoped>\n",
       "    .dataframe tbody tr th:only-of-type {\n",
       "        vertical-align: middle;\n",
       "    }\n",
       "\n",
       "    .dataframe tbody tr th {\n",
       "        vertical-align: top;\n",
       "    }\n",
       "\n",
       "    .dataframe thead th {\n",
       "        text-align: right;\n",
       "    }\n",
       "</style>\n",
       "<table border=\"1\" class=\"dataframe\">\n",
       "  <thead>\n",
       "    <tr style=\"text-align: right;\">\n",
       "      <th></th>\n",
       "      <th>P/B ratio</th>\n",
       "      <th>Assets</th>\n",
       "      <th>Shares split adjusted</th>\n",
       "      <th>Shares</th>\n",
       "      <th>P/E ratio</th>\n",
       "      <th>Liabilities</th>\n",
       "      <th>Asset turnover</th>\n",
       "      <th>Current Assets</th>\n",
       "      <th>Cash at end of period</th>\n",
       "      <th>Revenue</th>\n",
       "    </tr>\n",
       "  </thead>\n",
       "  <tbody>\n",
       "    <tr>\n",
       "      <th>2019-06-29 00:00:00</th>\n",
       "      <td>-0.008971</td>\n",
       "      <td>0.00482</td>\n",
       "      <td>-0.021878</td>\n",
       "      <td>-0.106576</td>\n",
       "      <td>-0.006956</td>\n",
       "      <td>-0.03409</td>\n",
       "      <td>-0.393605</td>\n",
       "      <td>-0.005693</td>\n",
       "      <td>-0.004474</td>\n",
       "      <td>-0.004161</td>\n",
       "    </tr>\n",
       "  </tbody>\n",
       "</table>\n",
       "</div>"
      ],
      "text/plain": [
       "                     P/B ratio   Assets  Shares split adjusted    Shares  \\\n",
       "2019-06-29 00:00:00  -0.008971  0.00482              -0.021878 -0.106576   \n",
       "\n",
       "                     P/E ratio  Liabilities  Asset turnover  Current Assets  \\\n",
       "2019-06-29 00:00:00  -0.006956     -0.03409       -0.393605       -0.005693   \n",
       "\n",
       "                     Cash at end of period   Revenue  \n",
       "2019-06-29 00:00:00              -0.004474 -0.004161  "
      ]
     },
     "execution_count": 55,
     "metadata": {},
     "output_type": "execute_result"
    }
   ],
   "source": [
    "# Viewing the DF with the latest scaled QR\n",
    "qr_df = format_qr(stock_df['AMD'], top10_df)\n",
    "qr_df"
   ]
  },
  {
   "cell_type": "markdown",
   "metadata": {},
   "source": [
    "### Using our Classifier to make a new Prediction"
   ]
  },
  {
   "cell_type": "code",
   "execution_count": 65,
   "metadata": {},
   "outputs": [
    {
     "name": "stdout",
     "output_type": "stream",
     "text": [
      "HOLD\n"
     ]
    }
   ],
   "source": [
    "# Predicting the class for our latest QR\n",
    "class_label = clf.predict(qr_df)[0]\n",
    "\n",
    "prediction(class_label)"
   ]
  },
  {
   "cell_type": "code",
   "execution_count": 61,
   "metadata": {},
   "outputs": [
    {
     "data": {
      "image/png": "[encoded data removed]",
      "text/plain": [
       "<Figure size 720x720 with 1 Axes>"
      ]
     },
     "metadata": {},
     "output_type": "display_data"
    }
   ],
   "source": [
    "# Visualizing the Prediction probabilities for our latest QR\n",
    "pie_stock(clf.predict_proba(qr_df), \"AMD\")"
   ]
  },
  {
   "cell_type": "markdown",
   "metadata": {},
   "source": [
    "__Interpretation__: According to our classifier, AMD has a 42.5% chance of being a 'Hold'."
   ]
  },
  {
   "cell_type": "code",
   "execution_count": null,
   "metadata": {},
   "outputs": [],
   "source": []
  }
 ],
 "metadata": {
  "kernelspec": {
   "display_name": "Python 3",
   "language": "python",
   "name": "python3"
  },
  "language_info": {
   "codemirror_mode": {
    "name": "ipython",
    "version": 3
   },
   "file_extension": ".py",
   "mimetype": "text/x-python",
   "name": "python",
   "nbconvert_exporter": "python",
   "pygments_lexer": "ipython3",
   "version": "3.7.3"
  }
 },
 "nbformat": 4,
 "nbformat_minor": 2
}
